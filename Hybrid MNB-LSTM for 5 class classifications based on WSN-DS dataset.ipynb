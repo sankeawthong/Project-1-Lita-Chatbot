{
  "nbformat": 4,
  "nbformat_minor": 0,
  "metadata": {
    "colab": {
      "provenance": [],
      "authorship_tag": "ABX9TyOenWNylujSpV2SRQEzVQKa",
      "include_colab_link": true
    },
    "kernelspec": {
      "name": "python3",
      "display_name": "Python 3"
    },
    "language_info": {
      "name": "python"
    }
  },
  "cells": [
    {
      "cell_type": "markdown",
      "metadata": {
        "id": "view-in-github",
        "colab_type": "text"
      },
      "source": [
        "<a href=\"https://colab.research.google.com/github/sankeawthong/Project-1-Lita-Chatbot/blob/main/Hybrid%20MNB-LSTM%20for%205%20class%20classifications%20based%20on%20WSN-DS%20dataset.ipynb\" target=\"_parent\"><img src=\"https://colab.research.google.com/assets/colab-badge.svg\" alt=\"Open In Colab\"/></a>"
      ]
    },
    {
      "cell_type": "markdown",
      "source": [
        "### **Hybrid MNB-LSTM for 5 class classifications based on WSN-DS dataset**"
      ],
      "metadata": {
        "id": "IaZy6I301m3P"
      }
    },
    {
      "cell_type": "code",
      "source": [
        "import pandas as pd\n",
        "import numpy as np\n",
        "from sklearn.model_selection import train_test_split\n",
        "from sklearn.feature_extraction.text import CountVectorizer\n",
        "from sklearn.naive_bayes import MultinomialNB\n",
        "from keras.models import Sequential\n",
        "from keras.layers import LSTM, Dense\n",
        "from keras.utils import to_categorical\n",
        "from sklearn.metrics import classification_report, confusion_matrix\n",
        "from imblearn.over_sampling import SMOTE\n",
        "from sklearn.preprocessing import LabelEncoder"
      ],
      "metadata": {
        "id": "cGs7R5XEdgZb"
      },
      "execution_count": 16,
      "outputs": []
    },
    {
      "cell_type": "code",
      "source": [
        "# Load the dataset\n",
        "dataset = pd.read_csv(\"dataset_WSN-DS.csv\")\n",
        "\n",
        "# Check for missing values\n",
        "dataset.isnull().sum()"
      ],
      "metadata": {
        "colab": {
          "base_uri": "https://localhost:8080/"
        },
        "id": "t9H5VhMFdh3L",
        "outputId": "c9790fe9-be91-4be9-8f6b-e0d616b76a08"
      },
      "execution_count": 17,
      "outputs": [
        {
          "output_type": "execute_result",
          "data": {
            "text/plain": [
              " id                 0\n",
              " Time               0\n",
              " Is_CH              0\n",
              " who CH             0\n",
              " Dist_To_CH         0\n",
              " ADV_S              0\n",
              " ADV_R              0\n",
              " JOIN_S             0\n",
              " JOIN_R             0\n",
              " SCH_S              0\n",
              " SCH_R              0\n",
              "Rank                0\n",
              " DATA_S             0\n",
              " DATA_R             0\n",
              " Data_Sent_To_BS    0\n",
              " dist_CH_To_BS      0\n",
              " send_code          0\n",
              "Expaned Energy      0\n",
              "Class               0\n",
              "dtype: int64"
            ]
          },
          "metadata": {},
          "execution_count": 17
        }
      ]
    },
    {
      "cell_type": "code",
      "source": [
        "from keras.utils import np_utils\n",
        "encoder = LabelEncoder()\n",
        "y = encoder.fit_transform(dataset['Class'])\n",
        "y = np_utils.to_categorical(y, num_classes=5)\n",
        "X = dataset.drop(['Class'],axis=1)\n",
        "X=X.values\n",
        "print(X.shape)\n",
        "print(y.shape)"
      ],
      "metadata": {
        "colab": {
          "base_uri": "https://localhost:8080/"
        },
        "id": "xK2GN_u3dnGI",
        "outputId": "f4d0ba03-83c4-495e-f5c8-06e4f1c20aa1"
      },
      "execution_count": 20,
      "outputs": [
        {
          "output_type": "stream",
          "name": "stdout",
          "text": [
            "(374661, 18)\n",
            "(374661, 5)\n"
          ]
        }
      ]
    },
    {
      "cell_type": "code",
      "source": [
        "# Oversample the minority class using SMOTE\n",
        "oversample = SMOTE()\n",
        "X, y = oversample.fit_resample(X, y)"
      ],
      "metadata": {
        "id": "MF-t6nHidoe-"
      },
      "execution_count": 21,
      "outputs": []
    },
    {
      "cell_type": "code",
      "source": [
        "# Split the data into train and test sets\n",
        "X_train, X_test, y_train, y_test = train_test_split(X, y, test_size=0.2, random_state=101)"
      ],
      "metadata": {
        "id": "TEIS9t0xdpde"
      },
      "execution_count": 22,
      "outputs": []
    },
    {
      "cell_type": "code",
      "source": [
        "# Multinomial Naive Bayes model\n",
        "mnb = MultinomialNB()\n",
        "mnb.fit(X_train, np.argmax(y_train, axis=1))\n",
        "y_pred_mnb = mnb.predict(X_test)\n",
        "y_pred_mnb = to_categorical(y_pred_mnb, num_classes=5)\n",
        "\n",
        "from sklearn.metrics import accuracy_score\n",
        "\n",
        "# Calculate accuracy for Multinomial Naive Bayes model\n",
        "accuracy_mnb = accuracy_score(np.argmax(y_test, axis=1), np.argmax(y_pred_mnb, axis=1))\n",
        "print(\"Multinomial Naive Bayes Accuracy:\", accuracy_mnb)"
      ],
      "metadata": {
        "colab": {
          "base_uri": "https://localhost:8080/"
        },
        "id": "JqCV-AiYdtoW",
        "outputId": "07bf6d73-a177-4cec-fdec-e16269a80159"
      },
      "execution_count": 25,
      "outputs": [
        {
          "output_type": "stream",
          "name": "stdout",
          "text": [
            "Multinomial Naive Bayes Accuracy: 0.6494709850440796\n"
          ]
        }
      ]
    },
    {
      "cell_type": "code",
      "execution_count": 26,
      "metadata": {
        "colab": {
          "base_uri": "https://localhost:8080/"
        },
        "id": "jq4S7AQ0da2o",
        "outputId": "74505e30-0a7b-4503-f197-e775f8e4d7d7"
      },
      "outputs": [
        {
          "output_type": "stream",
          "name": "stdout",
          "text": [
            "Epoch 1/10\n",
            "42509/42509 [==============================] - 526s 12ms/step - loss: 54.5440 - accuracy: 0.4547\n",
            "Epoch 2/10\n",
            "42509/42509 [==============================] - 528s 12ms/step - loss: 3.7213 - accuracy: 0.4774\n",
            "Epoch 3/10\n",
            "42509/42509 [==============================] - 534s 13ms/step - loss: 2.7558 - accuracy: 0.5009\n",
            "Epoch 4/10\n",
            "42509/42509 [==============================] - 534s 13ms/step - loss: 1.8504 - accuracy: 0.5742\n",
            "Epoch 5/10\n",
            "42509/42509 [==============================] - 531s 12ms/step - loss: 1.8221 - accuracy: 0.5662\n",
            "Epoch 6/10\n",
            "42509/42509 [==============================] - 545s 13ms/step - loss: 2.5167 - accuracy: 0.6318\n",
            "Epoch 7/10\n",
            "42509/42509 [==============================] - 540s 13ms/step - loss: 2.8197 - accuracy: 0.5331\n",
            "Epoch 8/10\n",
            "42509/42509 [==============================] - 604s 14ms/step - loss: 5.1811 - accuracy: 0.5193\n",
            "Epoch 9/10\n",
            "42509/42509 [==============================] - 619s 15ms/step - loss: 3.2997 - accuracy: 0.4994\n",
            "Epoch 10/10\n",
            "42509/42509 [==============================] - 506s 12ms/step - loss: 9.7321 - accuracy: 0.6044\n",
            "10628/10628 [==============================] - 47s 4ms/step\n"
          ]
        }
      ],
      "source": [
        "# LSTM model\n",
        "model = Sequential()\n",
        "model.add(LSTM(64, activation='relu', input_shape=(X_train.shape[1], 1)))\n",
        "model.add(Dense(5, activation='softmax'))\n",
        "model.compile(loss='categorical_crossentropy', optimizer='adam', metrics=['accuracy'])\n",
        "model.fit(X_train.reshape(X_train.shape[0], X_train.shape[1], 1), y_train, epochs=10)\n",
        "\n",
        "y_pred_lstm = model.predict(X_test.reshape(X_test.shape[0], X_test.shape[1], 1))\n",
        "y_pred_lstm = np.argmax(y_pred_lstm, axis=1)\n",
        "y_pred_lstm = to_categorical(y_pred_lstm, num_classes=5)"
      ]
    },
    {
      "cell_type": "code",
      "source": [
        "# Combine models\n",
        "y_pred = y_pred_mnb * 0.6 + y_pred_lstm * 0.4\n",
        "y_pred = np.argmax(y_pred, axis=1)\n",
        "\n",
        "# Evaluation metrics\n",
        "print(classification_report(np.argmax(y_test, axis=1), y_pred))\n",
        "print(confusion_matrix(np.argmax(y_test, axis=1), y_pred))"
      ],
      "metadata": {
        "colab": {
          "base_uri": "https://localhost:8080/"
        },
        "id": "SKq8TzX4dvUA",
        "outputId": "a2293fda-dfe5-4035-e7ff-5831b262538c"
      },
      "execution_count": 27,
      "outputs": [
        {
          "output_type": "stream",
          "name": "stdout",
          "text": [
            "              precision    recall  f1-score   support\n",
            "\n",
            "           0       0.93      0.81      0.87     67745\n",
            "           1       0.39      0.45      0.42     68144\n",
            "           2       0.99      0.35      0.51     68282\n",
            "           3       0.59      0.82      0.69     68009\n",
            "           4       0.66      0.82      0.73     67886\n",
            "\n",
            "    accuracy                           0.65    340066\n",
            "   macro avg       0.71      0.65      0.64    340066\n",
            "weighted avg       0.71      0.65      0.64    340066\n",
            "\n",
            "[[54898  2529    27  5557  4734]\n",
            " [    0 30510    16 21481 16137]\n",
            " [    0 30778 23713 11427  2364]\n",
            " [ 3917  2270   130 56058  5634]\n",
            " [    0 11190    26   986 55684]]\n"
          ]
        }
      ]
    }
  ]
}