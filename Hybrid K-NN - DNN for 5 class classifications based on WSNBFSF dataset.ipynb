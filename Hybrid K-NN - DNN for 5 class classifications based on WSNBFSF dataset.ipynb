{
  "nbformat": 4,
  "nbformat_minor": 0,
  "metadata": {
    "colab": {
      "provenance": [],
      "authorship_tag": "ABX9TyOpTyHOGVlD4cf4RCuS0RSo",
      "include_colab_link": true
    },
    "kernelspec": {
      "name": "python3",
      "display_name": "Python 3"
    },
    "language_info": {
      "name": "python"
    }
  },
  "cells": [
    {
      "cell_type": "markdown",
      "metadata": {
        "id": "view-in-github",
        "colab_type": "text"
      },
      "source": [
        "<a href=\"https://colab.research.google.com/github/sankeawthong/Project-1-Lita-Chatbot/blob/main/Hybrid%20K-NN%20-%20DNN%20for%205%20class%20classifications%20based%20on%20WSNBFSF%20dataset.ipynb\" target=\"_parent\"><img src=\"https://colab.research.google.com/assets/colab-badge.svg\" alt=\"Open In Colab\"/></a>"
      ]
    },
    {
      "cell_type": "markdown",
      "source": [
        "**Hybrid K-NN - DNN for 5 class classifications based on WSNBFSF dataset**"
      ],
      "metadata": {
        "id": "-6_czXJWRGKp"
      }
    },
    {
      "cell_type": "code",
      "execution_count": 26,
      "metadata": {
        "id": "2MifIrm9Qqou"
      },
      "outputs": [],
      "source": [
        "import numpy as np\n",
        "import pandas as pd\n",
        "from sklearn.neighbors import KNeighborsClassifier\n",
        "from keras.models import Sequential\n",
        "from keras.layers import LSTM, Dense\n",
        "from sklearn.metrics import accuracy_score"
      ]
    },
    {
      "cell_type": "code",
      "source": [
        "# Load the dataset\n",
        "dataset = pd.read_csv(\"dataset_WSN-DS.csv\")\n",
        "dataset.shape\n",
        "dataset.isnull().sum()\n",
        "dataset.info()\n",
        "dataset[\"Class\"].unique()"
      ],
      "metadata": {
        "colab": {
          "base_uri": "https://localhost:8080/"
        },
        "id": "_gtKAo5xQxft",
        "outputId": "2a2007a6-1842-4a10-c784-9b98fc0b9cac"
      },
      "execution_count": 27,
      "outputs": [
        {
          "output_type": "stream",
          "name": "stdout",
          "text": [
            "<class 'pandas.core.frame.DataFrame'>\n",
            "RangeIndex: 374661 entries, 0 to 374660\n",
            "Data columns (total 19 columns):\n",
            " #   Column            Non-Null Count   Dtype  \n",
            "---  ------            --------------   -----  \n",
            " 0    id               374661 non-null  int64  \n",
            " 1    Time             374661 non-null  int64  \n",
            " 2    Is_CH            374661 non-null  int64  \n",
            " 3    who CH           374661 non-null  int64  \n",
            " 4    Dist_To_CH       374661 non-null  float64\n",
            " 5    ADV_S            374661 non-null  int64  \n",
            " 6    ADV_R            374661 non-null  int64  \n",
            " 7    JOIN_S           374661 non-null  int64  \n",
            " 8    JOIN_R           374661 non-null  int64  \n",
            " 9    SCH_S            374661 non-null  int64  \n",
            " 10   SCH_R            374661 non-null  int64  \n",
            " 11  Rank              374661 non-null  int64  \n",
            " 12   DATA_S           374661 non-null  int64  \n",
            " 13   DATA_R           374661 non-null  int64  \n",
            " 14   Data_Sent_To_BS  374661 non-null  int64  \n",
            " 15   dist_CH_To_BS    374661 non-null  float64\n",
            " 16   send_code        374661 non-null  int64  \n",
            " 17  Expaned Energy    374661 non-null  float64\n",
            " 18  Class             374661 non-null  int64  \n",
            "dtypes: float64(3), int64(16)\n",
            "memory usage: 54.3 MB\n"
          ]
        },
        {
          "output_type": "execute_result",
          "data": {
            "text/plain": [
              "array([0, 4, 3, 1, 2])"
            ]
          },
          "metadata": {},
          "execution_count": 27
        }
      ]
    },
    {
      "cell_type": "markdown",
      "source": [
        "**Data preprocessing**"
      ],
      "metadata": {
        "id": "xRZh8F6uRAU4"
      }
    },
    {
      "cell_type": "code",
      "source": [
        "# Data preprocessing\n",
        "y = dataset['Class'].values\n",
        "X = dataset.drop(['Class'], axis=1)\n",
        "X = X.values"
      ],
      "metadata": {
        "id": "xQGMYY93Q2O-"
      },
      "execution_count": 28,
      "outputs": []
    },
    {
      "cell_type": "code",
      "source": [
        "from imblearn.over_sampling import SMOTE\n",
        "from sklearn.model_selection import train_test_split\n",
        "\n",
        "# Data balancing using SMOTE\n",
        "oversample = SMOTE()\n",
        "X, y = oversample.fit_resample(X, y)"
      ],
      "metadata": {
        "id": "4yXdBsC3Q2kE"
      },
      "execution_count": 29,
      "outputs": []
    },
    {
      "cell_type": "code",
      "source": [
        "# Split the data into train and test sets\n",
        "X_train, X_test, y_train, y_test = train_test_split(X, y, test_size=0.2, random_state=101)"
      ],
      "metadata": {
        "id": "-e1VCXy0Q4bW"
      },
      "execution_count": 30,
      "outputs": []
    },
    {
      "cell_type": "markdown",
      "source": [
        "**K-NN Model**"
      ],
      "metadata": {
        "id": "LHr9rch9RZWz"
      }
    },
    {
      "cell_type": "code",
      "source": [
        "# Train the K-NN classifier\n",
        "knn_model = KNeighborsClassifier(n_neighbors=4)\n",
        "knn_model.fit(X_train, y_train)\n",
        "\n",
        "# Obtain predictions from the K-NN classifier\n",
        "knn_pred = knn_model.predict(X_test)"
      ],
      "metadata": {
        "id": "raT67jhnQ4W6"
      },
      "execution_count": 31,
      "outputs": []
    },
    {
      "cell_type": "markdown",
      "source": [
        "**DNN Model**"
      ],
      "metadata": {
        "id": "ooZkh8foZHaE"
      }
    },
    {
      "cell_type": "code",
      "source": [
        "from keras.utils import to_categorical\n",
        "\n",
        "# Reshape the input data for DNN (assuming you want to consider a single feature)\n",
        "X_train_dnn = X_train.reshape(X_train.shape[0], X_train.shape[1])\n",
        "X_test_dnn = X_test.reshape(X_test.shape[0], X_test.shape[1])\n",
        "\n",
        "# Convert class labels to categorical representation\n",
        "num_classes = len(np.unique(y))\n",
        "y_train_categorical = to_categorical(y_train, num_classes)\n",
        "y_test_categorical = to_categorical(y_test, num_classes)\n",
        "\n",
        "# Train the DNN model\n",
        "dnn_model = Sequential()\n",
        "dnn_model.add(Dense(64, input_shape=(X_train_dnn.shape[1],)))\n",
        "dnn_model.add(Dense(num_classes, activation='softmax'))\n",
        "dnn_model.compile(loss='categorical_crossentropy', optimizer='adam', metrics=['accuracy'])\n",
        "dnn_model.fit(X_train_dnn, y_train_categorical, epochs=10, batch_size=64)\n",
        "\n",
        "# Obtain predictions from the DNN model\n",
        "dnn_pred = np.argmax(dnn_model.predict(X_test_dnn), axis=1)"
      ],
      "metadata": {
        "colab": {
          "base_uri": "https://localhost:8080/"
        },
        "id": "Z3bbNa7IQ444",
        "outputId": "082dfa10-6b64-4c23-c5a9-e975d1eda8ae"
      },
      "execution_count": 32,
      "outputs": [
        {
          "output_type": "stream",
          "name": "stdout",
          "text": [
            "Epoch 1/10\n",
            "21255/21255 [==============================] - 47s 2ms/step - loss: 781.4525 - accuracy: 0.6265\n",
            "Epoch 2/10\n",
            "21255/21255 [==============================] - 46s 2ms/step - loss: 377.0818 - accuracy: 0.7530\n",
            "Epoch 3/10\n",
            "21255/21255 [==============================] - 46s 2ms/step - loss: 191.2247 - accuracy: 0.7840\n",
            "Epoch 4/10\n",
            "21255/21255 [==============================] - 46s 2ms/step - loss: 99.3671 - accuracy: 0.8018\n",
            "Epoch 5/10\n",
            "21255/21255 [==============================] - 47s 2ms/step - loss: 55.1874 - accuracy: 0.8098\n",
            "Epoch 6/10\n",
            "21255/21255 [==============================] - 45s 2ms/step - loss: 30.7274 - accuracy: 0.8118\n",
            "Epoch 7/10\n",
            "21255/21255 [==============================] - 46s 2ms/step - loss: 9.7646 - accuracy: 0.8241\n",
            "Epoch 8/10\n",
            "21255/21255 [==============================] - 48s 2ms/step - loss: 4.8742 - accuracy: 0.8298\n",
            "Epoch 9/10\n",
            "21255/21255 [==============================] - 49s 2ms/step - loss: 4.9930 - accuracy: 0.8329\n",
            "Epoch 10/10\n",
            "21255/21255 [==============================] - 49s 2ms/step - loss: 4.6268 - accuracy: 0.8358\n",
            "10628/10628 [==============================] - 15s 1ms/step\n"
          ]
        }
      ]
    },
    {
      "cell_type": "code",
      "source": [
        "# Combine predictions from K-NN and LSTM models\n",
        "hybrid_pred = np.where(knn_pred == dnn_pred, knn_pred, -1)  # Replace non-matching predictions with -1\n",
        "\n",
        "# Final prediction using the majority vote\n",
        "final_pred = np.where(hybrid_pred == -1, knn_pred, hybrid_pred)\n",
        "\n",
        "# Calculate accuracy\n",
        "accuracy = accuracy_score(y_test, final_pred)\n",
        "print(\"Hybrid Model Accuracy:\", accuracy)"
      ],
      "metadata": {
        "colab": {
          "base_uri": "https://localhost:8080/"
        },
        "id": "5I0wzh1vR39I",
        "outputId": "bb330a7e-b3d0-41cd-c024-8c25129addd0"
      },
      "execution_count": 33,
      "outputs": [
        {
          "output_type": "stream",
          "name": "stdout",
          "text": [
            "Hybrid Model Accuracy: 0.9938159063240665\n"
          ]
        }
      ]
    },
    {
      "cell_type": "code",
      "source": [
        "import numpy as np\n",
        "import pandas as pd\n",
        "import seaborn as sns\n",
        "import matplotlib.pyplot as plt\n",
        "from sklearn.metrics import confusion_matrix\n",
        "\n",
        "# Create a confusion matrix\n",
        "cm = confusion_matrix(y_test, final_pred)\n",
        "\n",
        "# Get the class labels\n",
        "class_labels = np.unique(y_test)\n",
        "\n",
        "# Create a DataFrame for the confusion matrix\n",
        "cm_df = pd.DataFrame(cm, index=class_labels, columns=class_labels)\n",
        "\n",
        "# Visualize the confusion matrix\n",
        "plt.figure(figsize=(8, 6))\n",
        "sns.heatmap(cm_df, annot=True, fmt=\"d\", cmap=\"YlGnBu\")\n",
        "plt.title(\"Confusion Matrix\")\n",
        "plt.xlabel(\"Predicted\")\n",
        "plt.ylabel(\"Actual\")\n",
        "plt.show()"
      ],
      "metadata": {
        "colab": {
          "base_uri": "https://localhost:8080/",
          "height": 564
        },
        "id": "Hw3SkKILj9AA",
        "outputId": "6d4b1206-3265-4eba-ac73-f6812139f585"
      },
      "execution_count": 34,
      "outputs": [
        {
          "output_type": "display_data",
          "data": {
            "text/plain": [
              "<Figure size 800x600 with 2 Axes>"
            ],
            "image/png": "[encoded data removed]"
          },
          "metadata": {}
        }
      ]
    },
    {
      "cell_type": "code",
      "source": [
        "import seaborn as sns\n",
        "import matplotlib.pyplot as plt\n",
        "import numpy as np\n",
        "import itertools\n",
        "import seaborn as sns\n",
        "from sklearn import metrics \n",
        "import matplotlib.pyplot as plt\n",
        "from sklearn.metrics import confusion_matrix\n",
        "def conf_mat(d1,d2):\n",
        "  cm = confusion_matrix(d1, d2)\n",
        "  plt.figure(figsize=(6,5.5))\n",
        "  ax = sns.heatmap(cm,  fmt='2', annot=True, cmap='YlGnBu')\n",
        "  sns.set(font_scale=1)\n",
        "  ax.set_xlabel('\\nPredicted Values')\n",
        "  ax.set_ylabel('Actual Values\\n');\n",
        "  ax.xaxis.set_ticklabels(['Normal','Flooding','Blackhole','Forwarding'])\n",
        "  ax.yaxis.set_ticklabels(['Normal','Flooding','Blackhole','Forwarding'])\n",
        "  plt.tight_layout()\n",
        "  # plt.savefig(\"F1.eps\", format = 'eps')\n",
        "  plt.show()"
      ],
      "metadata": {
        "id": "pXzv9-kYh22-"
      },
      "execution_count": null,
      "outputs": []
    },
    {
      "cell_type": "code",
      "source": [
        "print(\"Confusion Matrix of Hybrid KNN-DNN Model\") \n",
        "confusion_matrix(y_test, final_pred)"
      ],
      "metadata": {
        "colab": {
          "base_uri": "https://localhost:8080/"
        },
        "id": "k-PYCufoh3tL",
        "outputId": "b6ddb800-fba4-47ae-f32e-bd9d9d27d664"
      },
      "execution_count": 35,
      "outputs": [
        {
          "output_type": "stream",
          "name": "stdout",
          "text": [
            "Confusion Matrix of Hybrid KNN-DNN Model\n"
          ]
        },
        {
          "output_type": "execute_result",
          "data": {
            "text/plain": [
              "array([[66183,   318,    70,   885,   289],\n",
              "       [   17, 68070,    16,    24,    17],\n",
              "       [   10,    34, 68226,    12,     0],\n",
              "       [  281,    62,    22, 67633,    11],\n",
              "       [   13,    13,     0,     9, 67851]])"
            ]
          },
          "metadata": {},
          "execution_count": 35
        }
      ]
    }
  ]
}