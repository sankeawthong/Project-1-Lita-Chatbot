{
  "nbformat": 4,
  "nbformat_minor": 0,
  "metadata": {
    "colab": {
      "provenance": [],
      "authorship_tag": "ABX9TyOzqv7+R+Uueqh4ouud6/LC",
      "include_colab_link": true
    },
    "kernelspec": {
      "name": "python3",
      "display_name": "Python 3"
    },
    "language_info": {
      "name": "python"
    }
  },
  "cells": [
    {
      "cell_type": "markdown",
      "metadata": {
        "id": "view-in-github",
        "colab_type": "text"
      },
      "source": [
        "<a href=\"https://colab.research.google.com/github/sankeawthong/Project-1-Lita-Chatbot/blob/main/Hybrid%20RF-Bi-LSTM%20for%205%20class%20classifications%20based%20on%20WSN-DS%20dataset.ipynb\" target=\"_parent\"><img src=\"https://colab.research.google.com/assets/colab-badge.svg\" alt=\"Open In Colab\"/></a>"
      ]
    },
    {
      "cell_type": "markdown",
      "source": [
        "### **Hybrid RF-Bi-LSTM for 5 class classifications based on WSN-DS dataset**"
      ],
      "metadata": {
        "id": "LDr0bGjYfr9-"
      }
    },
    {
      "cell_type": "code",
      "source": [
        "import pandas as pd\n",
        "import numpy as np\n",
        "from sklearn.model_selection import train_test_split\n",
        "from sklearn.ensemble import RandomForestClassifier\n",
        "from tensorflow.keras.models import Sequential\n",
        "from tensorflow.keras.layers import Dense, Dropout, Bidirectional, LSTM\n",
        "from sklearn.metrics import classification_report\n",
        "from imblearn.over_sampling import SMOTE"
      ],
      "metadata": {
        "id": "zdyhNs9F5y_Z"
      },
      "execution_count": 1,
      "outputs": []
    },
    {
      "cell_type": "code",
      "source": [
        "# Load the dataset\n",
        "dataset = pd.read_csv(\"dataset_WSN-DS.csv\")\n",
        "dataset.shape\n",
        "dataset.isnull().sum()\n",
        "dataset.info()\n",
        "dataset[\"Class\"].unique()"
      ],
      "metadata": {
        "colab": {
          "base_uri": "https://localhost:8080/"
        },
        "id": "OeXzXz-x5z-W",
        "outputId": "927768df-d93a-4859-c01b-955f0ebed57b"
      },
      "execution_count": 2,
      "outputs": [
        {
          "output_type": "stream",
          "name": "stdout",
          "text": [
            "<class 'pandas.core.frame.DataFrame'>\n",
            "RangeIndex: 374661 entries, 0 to 374660\n",
            "Data columns (total 19 columns):\n",
            " #   Column            Non-Null Count   Dtype  \n",
            "---  ------            --------------   -----  \n",
            " 0    id               374661 non-null  int64  \n",
            " 1    Time             374661 non-null  int64  \n",
            " 2    Is_CH            374661 non-null  int64  \n",
            " 3    who CH           374661 non-null  int64  \n",
            " 4    Dist_To_CH       374661 non-null  float64\n",
            " 5    ADV_S            374661 non-null  int64  \n",
            " 6    ADV_R            374661 non-null  int64  \n",
            " 7    JOIN_S           374661 non-null  int64  \n",
            " 8    JOIN_R           374661 non-null  int64  \n",
            " 9    SCH_S            374661 non-null  int64  \n",
            " 10   SCH_R            374661 non-null  int64  \n",
            " 11  Rank              374661 non-null  int64  \n",
            " 12   DATA_S           374661 non-null  int64  \n",
            " 13   DATA_R           374661 non-null  int64  \n",
            " 14   Data_Sent_To_BS  374661 non-null  int64  \n",
            " 15   dist_CH_To_BS    374661 non-null  float64\n",
            " 16   send_code        374661 non-null  int64  \n",
            " 17  Expaned Energy    374661 non-null  float64\n",
            " 18  Class             374661 non-null  int64  \n",
            "dtypes: float64(3), int64(16)\n",
            "memory usage: 54.3 MB\n"
          ]
        },
        {
          "output_type": "execute_result",
          "data": {
            "text/plain": [
              "array([0, 4, 3, 1, 2])"
            ]
          },
          "metadata": {},
          "execution_count": 2
        }
      ]
    },
    {
      "cell_type": "code",
      "source": [
        "# Data preprocessing\n",
        "y = dataset['Class'].values\n",
        "X = dataset.drop(['Class'], axis=1)\n",
        "X = X.values"
      ],
      "metadata": {
        "id": "pKfY-Etn58w0"
      },
      "execution_count": 3,
      "outputs": []
    },
    {
      "cell_type": "code",
      "source": [
        "# Data balancing using SMOTE\n",
        "oversample = SMOTE()\n",
        "X, y = oversample.fit_resample(X, y)"
      ],
      "metadata": {
        "id": "FLaL166S59vp"
      },
      "execution_count": 4,
      "outputs": []
    },
    {
      "cell_type": "code",
      "source": [
        "# Reshape the data for LSTM\n",
        "X = X.reshape(X.shape[0], X.shape[1], 1)"
      ],
      "metadata": {
        "id": "r4ukS0Yy5_Fy"
      },
      "execution_count": 5,
      "outputs": []
    },
    {
      "cell_type": "code",
      "source": [
        "# Split the data into train and test sets\n",
        "X_train, X_test, y_train, y_test = train_test_split(X, y, test_size=0.2, random_state=42)"
      ],
      "metadata": {
        "id": "8XtyXbed5_5i"
      },
      "execution_count": 6,
      "outputs": []
    },
    {
      "cell_type": "code",
      "execution_count": 7,
      "metadata": {
        "colab": {
          "base_uri": "https://localhost:8080/"
        },
        "id": "FVLotLpw5rel",
        "outputId": "ddd3910b-3ee2-4b0c-b742-10b5a9181f17"
      },
      "outputs": [
        {
          "output_type": "stream",
          "name": "stdout",
          "text": [
            "Random Forest Accuracy: 0.999091352855034\n",
            "Random Forest Model Classification Report:\n",
            "              precision    recall  f1-score   support\n",
            "\n",
            "           0       1.00      1.00      1.00     67557\n",
            "           1       1.00      1.00      1.00     68077\n",
            "           2       1.00      1.00      1.00     68330\n",
            "           3       1.00      1.00      1.00     68180\n",
            "           4       1.00      1.00      1.00     67922\n",
            "\n",
            "    accuracy                           1.00    340066\n",
            "   macro avg       1.00      1.00      1.00    340066\n",
            "weighted avg       1.00      1.00      1.00    340066\n",
            "\n"
          ]
        }
      ],
      "source": [
        "# Random Forest model\n",
        "rf_model = RandomForestClassifier(n_estimators=100, random_state=42)\n",
        "rf_model.fit(X_train.reshape(X_train.shape[0], -1), y_train)  # Reshape X_train to 2D\n",
        "\n",
        "y_pred_rf = rf_model.predict(X_test.reshape(X_test.shape[0], -1))  # Reshape X_test to 2D\n",
        "\n",
        "from sklearn.metrics import accuracy_score\n",
        "# Calculate accuracy for Random Forest model\n",
        "accuracy_rf = accuracy_score(y_test, y_pred_rf)\n",
        "print(\"Random Forest Accuracy:\", accuracy_rf)\n",
        "\n",
        "# Evaluate Random Forest model\n",
        "rf_report = classification_report(y_test, y_pred_rf)\n",
        "print(\"Random Forest Model Classification Report:\")\n",
        "print(rf_report)"
      ]
    },
    {
      "cell_type": "code",
      "source": [
        "from tensorflow.keras.utils import to_categorical\n",
        "# Bi-LSTM model\n",
        "lstm_model = Sequential()\n",
        "lstm_model.add(Bidirectional(LSTM(64, return_sequences=True), input_shape=(X_train.shape[1], 1)))\n",
        "lstm_model.add(Dropout(0.2))\n",
        "lstm_model.add(Bidirectional(LSTM(64)))\n",
        "lstm_model.add(Dropout(0.2))\n",
        "lstm_model.add(Dense(5, activation='softmax'))\n",
        "lstm_model.compile(loss='categorical_crossentropy', optimizer='adam', metrics=['accuracy'])\n",
        "lstm_model.summary()\n",
        "\n",
        "# Convert labels to one-hot encoded vectors\n",
        "num_classes = len(np.unique(y))\n",
        "y_train_encoded = to_categorical(y_train, num_classes)\n",
        "y_test_encoded = to_categorical(y_test, num_classes)\n",
        "\n",
        "lstm_model.fit(X_train, y_train_encoded, epochs=5, batch_size=64, validation_data=(X_test, y_test_encoded), verbose=1)\n",
        "\n",
        "##y_pred_lstm = lstm_model.predict_classes(X_test)\n",
        "y_pred_lstm_prob = lstm_model.predict(X_test)\n",
        "y_pred_lstm = np.argmax(y_pred_lstm_prob, axis=1)\n",
        "\n",
        "# Calculate accuracy for Bi-LSTM model\n",
        "accuracy_lstm = accuracy_score(y_test, y_pred_lstm)\n",
        "print(\"Bi-LSTM Accuracy:\", accuracy_lstm)\n",
        "\n",
        "# Evaluate Bi-LSTM model\n",
        "lstm_report = classification_report(y_test, y_pred_lstm)\n",
        "print(\"Bi-LSTM Model Classification Report:\")\n",
        "print(lstm_report)"
      ],
      "metadata": {
        "colab": {
          "base_uri": "https://localhost:8080/"
        },
        "id": "5LUZuIAICIva",
        "outputId": "5069a0a9-da80-4d96-9a2f-524d0c3ea8b1"
      },
      "execution_count": 8,
      "outputs": [
        {
          "output_type": "stream",
          "name": "stdout",
          "text": [
            "Model: \"sequential\"\n",
            "_________________________________________________________________\n",
            " Layer (type)                Output Shape              Param #   \n",
            "=================================================================\n",
            " bidirectional (Bidirectiona  (None, 18, 128)          33792     \n",
            " l)                                                              \n",
            "                                                                 \n",
            " dropout (Dropout)           (None, 18, 128)           0         \n",
            "                                                                 \n",
            " bidirectional_1 (Bidirectio  (None, 128)              98816     \n",
            " nal)                                                            \n",
            "                                                                 \n",
            " dropout_1 (Dropout)         (None, 128)               0         \n",
            "                                                                 \n",
            " dense (Dense)               (None, 5)                 645       \n",
            "                                                                 \n",
            "=================================================================\n",
            "Total params: 133,253\n",
            "Trainable params: 133,253\n",
            "Non-trainable params: 0\n",
            "_________________________________________________________________\n",
            "Epoch 1/5\n",
            "21255/21255 [==============================] - 1799s 84ms/step - loss: 0.1223 - accuracy: 0.9512 - val_loss: 0.0737 - val_accuracy: 0.9763\n",
            "Epoch 2/5\n",
            "21255/21255 [==============================] - 1782s 84ms/step - loss: 0.0731 - accuracy: 0.9763 - val_loss: 0.0665 - val_accuracy: 0.9780\n",
            "Epoch 3/5\n",
            "21255/21255 [==============================] - 1784s 84ms/step - loss: 0.0673 - accuracy: 0.9778 - val_loss: 0.0635 - val_accuracy: 0.9790\n",
            "Epoch 4/5\n",
            "21255/21255 [==============================] - 1781s 84ms/step - loss: 0.0631 - accuracy: 0.9792 - val_loss: 0.0589 - val_accuracy: 0.9792\n",
            "Epoch 5/5\n",
            "21255/21255 [==============================] - 1776s 84ms/step - loss: 0.0589 - accuracy: 0.9804 - val_loss: 0.0537 - val_accuracy: 0.9820\n",
            "10628/10628 [==============================] - 137s 13ms/step\n",
            "Bi-LSTM Accuracy: 0.9819505625378603\n",
            "Bi-LSTM Model Classification Report:\n",
            "              precision    recall  f1-score   support\n",
            "\n",
            "           0       0.96      0.99      0.98     67557\n",
            "           1       0.99      0.97      0.98     68077\n",
            "           2       0.97      0.99      0.98     68330\n",
            "           3       1.00      0.96      0.98     68180\n",
            "           4       1.00      1.00      1.00     67922\n",
            "\n",
            "    accuracy                           0.98    340066\n",
            "   macro avg       0.98      0.98      0.98    340066\n",
            "weighted avg       0.98      0.98      0.98    340066\n",
            "\n"
          ]
        }
      ]
    },
    {
      "cell_type": "code",
      "source": [
        "# Combine Random Forest and Bi-LSTM predictions\n",
        "combined_pred = np.concatenate((y_pred_rf.reshape(-1, 1), y_pred_lstm.reshape(-1, 1)), axis=1)\n",
        "y_pred_combined = [np.bincount(row).argmax() for row in combined_pred]\n",
        "\n",
        "# Calculate accuracy for the combined model\n",
        "accuracy_combined = accuracy_score(y_test, y_pred_combined)\n",
        "print(\"Combined Model Accuracy:\", accuracy_combined)\n",
        "\n",
        "# Evaluate the combined model\n",
        "combined_report = classification_report(y_test, y_pred_combined)\n",
        "print(\"Combined Model Classification Report:\")\n",
        "print(combined_report)"
      ],
      "metadata": {
        "colab": {
          "base_uri": "https://localhost:8080/"
        },
        "id": "yTWsgjV_-l5V",
        "outputId": "c082f10f-e7cd-4458-f4c7-097d08c84089"
      },
      "execution_count": 9,
      "outputs": [
        {
          "output_type": "stream",
          "name": "stdout",
          "text": [
            "Combined Model Accuracy: 0.9894108790646522\n",
            "Combined Model Classification Report:\n",
            "              precision    recall  f1-score   support\n",
            "\n",
            "           0       0.96      1.00      0.98     67557\n",
            "           1       0.99      1.00      0.99     68077\n",
            "           2       1.00      0.99      0.99     68330\n",
            "           3       1.00      0.96      0.98     68180\n",
            "           4       1.00      1.00      1.00     67922\n",
            "\n",
            "    accuracy                           0.99    340066\n",
            "   macro avg       0.99      0.99      0.99    340066\n",
            "weighted avg       0.99      0.99      0.99    340066\n",
            "\n"
          ]
        }
      ]
    }
  ]
}