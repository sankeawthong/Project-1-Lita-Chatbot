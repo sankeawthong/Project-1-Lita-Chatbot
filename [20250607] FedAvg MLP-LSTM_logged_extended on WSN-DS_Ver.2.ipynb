{
  "nbformat": 4,
  "nbformat_minor": 0,
  "metadata": {
    "colab": {
      "provenance": [],
      "machine_shape": "hm",
      "authorship_tag": "ABX9TyP2IfojkmOLgdvB9cJeSVQ9",
      "include_colab_link": true
    },
    "kernelspec": {
      "name": "python3",
      "display_name": "Python 3"
    },
    "language_info": {
      "name": "python"
    }
  },
  "cells": [
    {
      "cell_type": "markdown",
      "metadata": {
        "id": "view-in-github",
        "colab_type": "text"
      },
      "source": [
        "<a href=\"https://colab.research.google.com/github/sankeawthong/Project-1-Lita-Chatbot/blob/main/%5B20250607%5D%20FedAvg%20MLP-LSTM_logged_extended%20on%20WSN-DS_Ver.2.ipynb\" target=\"_parent\"><img src=\"https://colab.research.google.com/assets/colab-badge.svg\" alt=\"Open In Colab\"/></a>"
      ]
    },
    {
      "cell_type": "markdown",
      "source": [
        "*20250531 FedAvg MLP-LSTM_logged_extended on WSN-DS*"
      ],
      "metadata": {
        "id": "HoQHBrojzz0F"
      }
    },
    {
      "cell_type": "code",
      "execution_count": null,
      "metadata": {
        "id": "i3SPQyJEzti9"
      },
      "outputs": [],
      "source": [
        "import pandas as pd\n",
        "import numpy as np\n",
        "import time\n",
        "from sklearn.preprocessing import LabelEncoder, StandardScaler\n",
        "from sklearn.model_selection import train_test_split\n",
        "from sklearn.metrics import accuracy_score, precision_score, recall_score, f1_score, classification_report, confusion_matrix, roc_auc_score\n",
        "from keras.models import Sequential\n",
        "from keras.layers import Dense, Dropout, LSTM, InputLayer\n",
        "from keras.utils import to_categorical\n",
        "from imblearn.over_sampling import SMOTE\n",
        "import matplotlib.pyplot as plt\n",
        "# --- Imports ---------------------------------------------------------------\n",
        "import numpy as np, time, tensorflow as tf"
      ]
    },
    {
      "cell_type": "code",
      "source": [
        "!pip install imbalanced-learn"
      ],
      "metadata": {
        "colab": {
          "base_uri": "https://localhost:8080/"
        },
        "id": "DcvSRM5czylA",
        "outputId": "62b955b8-6d17-4fbc-d330-0d7bc44673b6"
      },
      "execution_count": null,
      "outputs": [
        {
          "output_type": "stream",
          "name": "stdout",
          "text": [
            "Requirement already satisfied: imbalanced-learn in /usr/local/lib/python3.11/dist-packages (0.13.0)\n",
            "Requirement already satisfied: numpy<3,>=1.24.3 in /usr/local/lib/python3.11/dist-packages (from imbalanced-learn) (2.0.2)\n",
            "Requirement already satisfied: scipy<2,>=1.10.1 in /usr/local/lib/python3.11/dist-packages (from imbalanced-learn) (1.15.3)\n",
            "Requirement already satisfied: scikit-learn<2,>=1.3.2 in /usr/local/lib/python3.11/dist-packages (from imbalanced-learn) (1.6.1)\n",
            "Requirement already satisfied: sklearn-compat<1,>=0.1 in /usr/local/lib/python3.11/dist-packages (from imbalanced-learn) (0.1.3)\n",
            "Requirement already satisfied: joblib<2,>=1.1.1 in /usr/local/lib/python3.11/dist-packages (from imbalanced-learn) (1.5.1)\n",
            "Requirement already satisfied: threadpoolctl<4,>=2.0.0 in /usr/local/lib/python3.11/dist-packages (from imbalanced-learn) (3.6.0)\n"
          ]
        }
      ]
    },
    {
      "cell_type": "code",
      "source": [
        "# ----------------------------\n",
        "# Preprocessing and Partitioning\n",
        "# ----------------------------\n",
        "df = pd.read_csv(\"dataset_WSN-DS.csv\").dropna()\n",
        "for col in df.columns:\n",
        "    if df[col].dtype == 'object':\n",
        "        df[col] = LabelEncoder().fit_transform(df[col])\n",
        "\n",
        "X, y = df.drop('Class', axis=1), df['Class']\n",
        "X = StandardScaler().fit_transform(X)\n",
        "X, y = SMOTE(random_state=42).fit_resample(X, y)\n",
        "X_train, X_test, y_train, y_test = train_test_split(X, y, test_size=0.2, random_state=101, stratify=y)"
      ],
      "metadata": {
        "id": "fCAVB7IgzyiW"
      },
      "execution_count": null,
      "outputs": []
    },
    {
      "cell_type": "code",
      "source": [
        "# --- Federated parameters ---------------------------------------------------\n",
        "NUM_CLIENTS = 5\n",
        "ROUNDS       = 30\n",
        "LOCAL_EPOCHS = 1\n",
        "BATCH_SIZE   = 32\n",
        "\n",
        "# --- Data -------------------------------------------------------------------\n",
        "# X_train: (N, T, 1)  | y_train: (N,)\n",
        "# Make sure X_train is already 3-D!\n",
        "client_X = np.array_split(X_train, NUM_CLIENTS, axis=0)\n",
        "client_y = np.array_split(y_train, NUM_CLIENTS, axis=0)\n",
        "\n",
        "X_test   = X_test.reshape(X_test.shape[0], X_test.shape[1], 1)\n",
        "y_test_ohe = to_categorical(y_test)\n",
        "NUM_CLASSES = y_test_ohe.shape[1]\n",
        "INPUT_SHAPE = (X_test.shape[1], 1)"
      ],
      "metadata": {
        "colab": {
          "base_uri": "https://localhost:8080/"
        },
        "id": "hOF2sgwMzyfu",
        "outputId": "08bd29a1-c806-47d8-bfcf-ab881b8ef902"
      },
      "execution_count": null,
      "outputs": [
        {
          "output_type": "stream",
          "name": "stderr",
          "text": [
            "/usr/local/lib/python3.11/dist-packages/numpy/_core/fromnumeric.py:57: FutureWarning: 'Series.swapaxes' is deprecated and will be removed in a future version. Please use 'Series.transpose' instead.\n",
            "  return bound(*args, **kwds)\n"
          ]
        }
      ]
    },
    {
      "cell_type": "code",
      "source": [
        "# --- Model builder ----------------------------------------------------------\n",
        "def build_model(input_shape=INPUT_SHAPE, num_classes=NUM_CLASSES,\n",
        "                lstm_units=64, dense_units=(128, 64), drop=0.30):\n",
        "    model = Sequential([InputLayer(input_shape=input_shape),\n",
        "                        LSTM(lstm_units, activation='tanh')])\n",
        "    for u in dense_units:\n",
        "        model.add(Dense(u, activation='relu'))\n",
        "        model.add(Dropout(drop))\n",
        "    model.add(Dense(num_classes, activation='softmax'))\n",
        "    model.compile(optimizer='adam',\n",
        "                  loss='categorical_crossentropy',\n",
        "                  metrics=['accuracy'])\n",
        "    return model\n",
        "\n",
        "# --- Resource profile (lightweight) ----------------------------------------\n",
        "global_model = build_model()\n",
        "tot_params   = global_model.count_params()\n",
        "model_sizeMB = round((tot_params * 4) / 2**20, 2)      # 4 bytes / param\n",
        "COMM_MB_UP   = model_sizeMB * NUM_CLIENTS              # uplink only\n",
        "\n",
        "print(f\"[Profile] Params={tot_params:,}  Size={model_sizeMB} MB\")\n",
        "\n",
        "# --- Federated loop ---------------------------------------------------------\n",
        "global_weights = global_model.get_weights()\n",
        "history = []\n",
        "\n",
        "for r in range(1, ROUNDS + 1):\n",
        "    t0 = time.time()\n",
        "    client_weights, client_sizes = [], []\n",
        "\n",
        "    # -------- local training --------\n",
        "    for Xi, yi in zip(client_X, client_y):\n",
        "        local = build_model()\n",
        "        local.set_weights(global_weights)\n",
        "        local.fit(Xi, to_categorical(yi, NUM_CLASSES),\n",
        "                  epochs=LOCAL_EPOCHS,\n",
        "                  batch_size=BATCH_SIZE,\n",
        "                  verbose=0)\n",
        "        client_weights.append(local.get_weights())\n",
        "        client_sizes.append(len(yi))\n",
        "\n",
        "    # -------- FedAvg aggregation ----\n",
        "    total_samples = sum(client_sizes)\n",
        "    new_weights = []\n",
        "    for layer in range(len(global_weights)):\n",
        "        layer_updates = np.array([\n",
        "            (n / total_samples) * w[layer]\n",
        "            for w, n in zip(client_weights, client_sizes)\n",
        "        ])\n",
        "        new_weights.append(np.sum(layer_updates, axis=0))\n",
        "    global_weights = new_weights\n",
        "    global_model.set_weights(global_weights)\n",
        "\n",
        "    # -------- Evaluation ------------\n",
        "    y_prob = global_model.predict(X_test, verbose=0)\n",
        "    y_pred = np.argmax(y_prob, axis=1)\n",
        "    y_true = np.argmax(y_test_ohe, axis=1)\n",
        "\n",
        "    metrics = dict(\n",
        "        Round=r,\n",
        "        Accuracy=accuracy_score(y_true, y_pred),\n",
        "        Precision=precision_score(y_true, y_pred, average='weighted'),\n",
        "        Recall=recall_score(y_true, y_pred, average='weighted'),\n",
        "        F1=f1_score(y_true, y_pred, average='weighted'),\n",
        "        AUC=roc_auc_score(y_test_ohe, y_prob, multi_class='ovr',\n",
        "                          average='weighted'),\n",
        "        Time_s=round(time.time() - t0, 2),\n",
        "        Comm_MB=COMM_MB_UP           # add +downlink if desired\n",
        "    )\n",
        "    history.append(metrics)\n",
        "    print(f\"Round {r:02d}: acc={metrics['Accuracy']:.8f} \"\n",
        "          f\"F1={metrics['F1']:.8f}  comm={metrics['Comm_MB']} MB\")\n",
        "\n",
        "# history is a list of dicts ready for a Pandas DataFrame"
      ],
      "metadata": {
        "colab": {
          "base_uri": "https://localhost:8080/"
        },
        "id": "Ak35A7gPzycl",
        "outputId": "0d21b619-6bb7-431d-9061-bd53b495169b"
      },
      "execution_count": null,
      "outputs": [
        {
          "output_type": "stream",
          "name": "stderr",
          "text": [
            "/usr/local/lib/python3.11/dist-packages/keras/src/layers/core/input_layer.py:27: UserWarning: Argument `input_shape` is deprecated. Use `shape` instead.\n",
            "  warnings.warn(\n"
          ]
        },
        {
          "output_type": "stream",
          "name": "stdout",
          "text": [
            "[Profile] Params=33,797  Size=0.13 MB\n",
            "Round 01: acc=0.89458223 F1=0.89039921  comm=0.65 MB\n"
          ]
        },
        {
          "output_type": "stream",
          "name": "stderr",
          "text": [
            "/usr/local/lib/python3.11/dist-packages/keras/src/layers/core/input_layer.py:27: UserWarning: Argument `input_shape` is deprecated. Use `shape` instead.\n",
            "  warnings.warn(\n"
          ]
        },
        {
          "output_type": "stream",
          "name": "stdout",
          "text": [
            "Round 02: acc=0.90641228 F1=0.90317576  comm=0.65 MB\n"
          ]
        },
        {
          "output_type": "stream",
          "name": "stderr",
          "text": [
            "/usr/local/lib/python3.11/dist-packages/keras/src/layers/core/input_layer.py:27: UserWarning: Argument `input_shape` is deprecated. Use `shape` instead.\n",
            "  warnings.warn(\n"
          ]
        },
        {
          "output_type": "stream",
          "name": "stdout",
          "text": [
            "Round 03: acc=0.96951180 F1=0.96948315  comm=0.65 MB\n"
          ]
        },
        {
          "output_type": "stream",
          "name": "stderr",
          "text": [
            "/usr/local/lib/python3.11/dist-packages/keras/src/layers/core/input_layer.py:27: UserWarning: Argument `input_shape` is deprecated. Use `shape` instead.\n",
            "  warnings.warn(\n"
          ]
        },
        {
          "output_type": "stream",
          "name": "stdout",
          "text": [
            "Round 04: acc=0.97806602 F1=0.97804490  comm=0.65 MB\n"
          ]
        },
        {
          "output_type": "stream",
          "name": "stderr",
          "text": [
            "/usr/local/lib/python3.11/dist-packages/keras/src/layers/core/input_layer.py:27: UserWarning: Argument `input_shape` is deprecated. Use `shape` instead.\n",
            "  warnings.warn(\n"
          ]
        },
        {
          "output_type": "stream",
          "name": "stdout",
          "text": [
            "Round 05: acc=0.97985391 F1=0.97983113  comm=0.65 MB\n"
          ]
        },
        {
          "output_type": "stream",
          "name": "stderr",
          "text": [
            "/usr/local/lib/python3.11/dist-packages/keras/src/layers/core/input_layer.py:27: UserWarning: Argument `input_shape` is deprecated. Use `shape` instead.\n",
            "  warnings.warn(\n"
          ]
        },
        {
          "output_type": "stream",
          "name": "stdout",
          "text": [
            "Round 06: acc=0.97990096 F1=0.97988277  comm=0.65 MB\n"
          ]
        },
        {
          "output_type": "stream",
          "name": "stderr",
          "text": [
            "/usr/local/lib/python3.11/dist-packages/keras/src/layers/core/input_layer.py:27: UserWarning: Argument `input_shape` is deprecated. Use `shape` instead.\n",
            "  warnings.warn(\n"
          ]
        },
        {
          "output_type": "stream",
          "name": "stdout",
          "text": [
            "Round 07: acc=0.98135950 F1=0.98134117  comm=0.65 MB\n"
          ]
        },
        {
          "output_type": "stream",
          "name": "stderr",
          "text": [
            "/usr/local/lib/python3.11/dist-packages/keras/src/layers/core/input_layer.py:27: UserWarning: Argument `input_shape` is deprecated. Use `shape` instead.\n",
            "  warnings.warn(\n"
          ]
        },
        {
          "output_type": "stream",
          "name": "stdout",
          "text": [
            "Round 08: acc=0.98079196 F1=0.98077418  comm=0.65 MB\n"
          ]
        },
        {
          "output_type": "stream",
          "name": "stderr",
          "text": [
            "/usr/local/lib/python3.11/dist-packages/keras/src/layers/core/input_layer.py:27: UserWarning: Argument `input_shape` is deprecated. Use `shape` instead.\n",
            "  warnings.warn(\n"
          ]
        },
        {
          "output_type": "stream",
          "name": "stdout",
          "text": [
            "Round 09: acc=0.98150653 F1=0.98149213  comm=0.65 MB\n"
          ]
        },
        {
          "output_type": "stream",
          "name": "stderr",
          "text": [
            "/usr/local/lib/python3.11/dist-packages/keras/src/layers/core/input_layer.py:27: UserWarning: Argument `input_shape` is deprecated. Use `shape` instead.\n",
            "  warnings.warn(\n"
          ]
        },
        {
          "output_type": "stream",
          "name": "stdout",
          "text": [
            "Round 10: acc=0.98244164 F1=0.98242720  comm=0.65 MB\n"
          ]
        },
        {
          "output_type": "stream",
          "name": "stderr",
          "text": [
            "/usr/local/lib/python3.11/dist-packages/keras/src/layers/core/input_layer.py:27: UserWarning: Argument `input_shape` is deprecated. Use `shape` instead.\n",
            "  warnings.warn(\n"
          ]
        },
        {
          "output_type": "stream",
          "name": "stdout",
          "text": [
            "Round 11: acc=0.98246223 F1=0.98244762  comm=0.65 MB\n"
          ]
        },
        {
          "output_type": "stream",
          "name": "stderr",
          "text": [
            "/usr/local/lib/python3.11/dist-packages/keras/src/layers/core/input_layer.py:27: UserWarning: Argument `input_shape` is deprecated. Use `shape` instead.\n",
            "  warnings.warn(\n"
          ]
        },
        {
          "output_type": "stream",
          "name": "stdout",
          "text": [
            "Round 12: acc=0.98327972 F1=0.98326675  comm=0.65 MB\n"
          ]
        },
        {
          "output_type": "stream",
          "name": "stderr",
          "text": [
            "/usr/local/lib/python3.11/dist-packages/keras/src/layers/core/input_layer.py:27: UserWarning: Argument `input_shape` is deprecated. Use `shape` instead.\n",
            "  warnings.warn(\n"
          ]
        },
        {
          "output_type": "stream",
          "name": "stdout",
          "text": [
            "Round 13: acc=0.98236519 F1=0.98235175  comm=0.65 MB\n"
          ]
        },
        {
          "output_type": "stream",
          "name": "stderr",
          "text": [
            "/usr/local/lib/python3.11/dist-packages/keras/src/layers/core/input_layer.py:27: UserWarning: Argument `input_shape` is deprecated. Use `shape` instead.\n",
            "  warnings.warn(\n"
          ]
        },
        {
          "output_type": "stream",
          "name": "stdout",
          "text": [
            "Round 14: acc=0.98329442 F1=0.98328057  comm=0.65 MB\n"
          ]
        },
        {
          "output_type": "stream",
          "name": "stderr",
          "text": [
            "/usr/local/lib/python3.11/dist-packages/keras/src/layers/core/input_layer.py:27: UserWarning: Argument `input_shape` is deprecated. Use `shape` instead.\n",
            "  warnings.warn(\n"
          ]
        },
        {
          "output_type": "stream",
          "name": "stdout",
          "text": [
            "Round 15: acc=0.98353555 F1=0.98352040  comm=0.65 MB\n"
          ]
        },
        {
          "output_type": "stream",
          "name": "stderr",
          "text": [
            "/usr/local/lib/python3.11/dist-packages/keras/src/layers/core/input_layer.py:27: UserWarning: Argument `input_shape` is deprecated. Use `shape` instead.\n",
            "  warnings.warn(\n"
          ]
        },
        {
          "output_type": "stream",
          "name": "stdout",
          "text": [
            "Round 16: acc=0.98312386 F1=0.98311103  comm=0.65 MB\n"
          ]
        },
        {
          "output_type": "stream",
          "name": "stderr",
          "text": [
            "/usr/local/lib/python3.11/dist-packages/keras/src/layers/core/input_layer.py:27: UserWarning: Argument `input_shape` is deprecated. Use `shape` instead.\n",
            "  warnings.warn(\n"
          ]
        },
        {
          "output_type": "stream",
          "name": "stdout",
          "text": [
            "Round 17: acc=0.98349144 F1=0.98347636  comm=0.65 MB\n"
          ]
        },
        {
          "output_type": "stream",
          "name": "stderr",
          "text": [
            "/usr/local/lib/python3.11/dist-packages/keras/src/layers/core/input_layer.py:27: UserWarning: Argument `input_shape` is deprecated. Use `shape` instead.\n",
            "  warnings.warn(\n"
          ]
        },
        {
          "output_type": "stream",
          "name": "stdout",
          "text": [
            "Round 18: acc=0.98347674 F1=0.98346202  comm=0.65 MB\n"
          ]
        },
        {
          "output_type": "stream",
          "name": "stderr",
          "text": [
            "/usr/local/lib/python3.11/dist-packages/keras/src/layers/core/input_layer.py:27: UserWarning: Argument `input_shape` is deprecated. Use `shape` instead.\n",
            "  warnings.warn(\n"
          ]
        },
        {
          "output_type": "stream",
          "name": "stdout",
          "text": [
            "Round 19: acc=0.98358848 F1=0.98357621  comm=0.65 MB\n"
          ]
        },
        {
          "output_type": "stream",
          "name": "stderr",
          "text": [
            "/usr/local/lib/python3.11/dist-packages/keras/src/layers/core/input_layer.py:27: UserWarning: Argument `input_shape` is deprecated. Use `shape` instead.\n",
            "  warnings.warn(\n"
          ]
        },
        {
          "output_type": "stream",
          "name": "stdout",
          "text": [
            "Round 20: acc=0.98408250 F1=0.98407034  comm=0.65 MB\n"
          ]
        },
        {
          "output_type": "stream",
          "name": "stderr",
          "text": [
            "/usr/local/lib/python3.11/dist-packages/keras/src/layers/core/input_layer.py:27: UserWarning: Argument `input_shape` is deprecated. Use `shape` instead.\n",
            "  warnings.warn(\n"
          ]
        },
        {
          "output_type": "stream",
          "name": "stdout",
          "text": [
            "Round 21: acc=0.98365611 F1=0.98364117  comm=0.65 MB\n"
          ]
        },
        {
          "output_type": "stream",
          "name": "stderr",
          "text": [
            "/usr/local/lib/python3.11/dist-packages/keras/src/layers/core/input_layer.py:27: UserWarning: Argument `input_shape` is deprecated. Use `shape` instead.\n",
            "  warnings.warn(\n"
          ]
        },
        {
          "output_type": "stream",
          "name": "stdout",
          "text": [
            "Round 22: acc=0.98379432 F1=0.98378289  comm=0.65 MB\n"
          ]
        },
        {
          "output_type": "stream",
          "name": "stderr",
          "text": [
            "/usr/local/lib/python3.11/dist-packages/keras/src/layers/core/input_layer.py:27: UserWarning: Argument `input_shape` is deprecated. Use `shape` instead.\n",
            "  warnings.warn(\n"
          ]
        },
        {
          "output_type": "stream",
          "name": "stdout",
          "text": [
            "Round 23: acc=0.98415308 F1=0.98414212  comm=0.65 MB\n"
          ]
        },
        {
          "output_type": "stream",
          "name": "stderr",
          "text": [
            "/usr/local/lib/python3.11/dist-packages/keras/src/layers/core/input_layer.py:27: UserWarning: Argument `input_shape` is deprecated. Use `shape` instead.\n",
            "  warnings.warn(\n"
          ]
        },
        {
          "output_type": "stream",
          "name": "stdout",
          "text": [
            "Round 24: acc=0.98415308 F1=0.98414190  comm=0.65 MB\n"
          ]
        },
        {
          "output_type": "stream",
          "name": "stderr",
          "text": [
            "/usr/local/lib/python3.11/dist-packages/keras/src/layers/core/input_layer.py:27: UserWarning: Argument `input_shape` is deprecated. Use `shape` instead.\n",
            "  warnings.warn(\n"
          ]
        },
        {
          "output_type": "stream",
          "name": "stdout",
          "text": [
            "Round 25: acc=0.98435598 F1=0.98434451  comm=0.65 MB\n"
          ]
        },
        {
          "output_type": "stream",
          "name": "stderr",
          "text": [
            "/usr/local/lib/python3.11/dist-packages/keras/src/layers/core/input_layer.py:27: UserWarning: Argument `input_shape` is deprecated. Use `shape` instead.\n",
            "  warnings.warn(\n"
          ]
        },
        {
          "output_type": "stream",
          "name": "stdout",
          "text": [
            "Round 26: acc=0.98415014 F1=0.98413915  comm=0.65 MB\n"
          ]
        },
        {
          "output_type": "stream",
          "name": "stderr",
          "text": [
            "/usr/local/lib/python3.11/dist-packages/keras/src/layers/core/input_layer.py:27: UserWarning: Argument `input_shape` is deprecated. Use `shape` instead.\n",
            "  warnings.warn(\n"
          ]
        },
        {
          "output_type": "stream",
          "name": "stdout",
          "text": [
            "Round 27: acc=0.98481765 F1=0.98480727  comm=0.65 MB\n"
          ]
        },
        {
          "output_type": "stream",
          "name": "stderr",
          "text": [
            "/usr/local/lib/python3.11/dist-packages/keras/src/layers/core/input_layer.py:27: UserWarning: Argument `input_shape` is deprecated. Use `shape` instead.\n",
            "  warnings.warn(\n"
          ]
        },
        {
          "output_type": "stream",
          "name": "stdout",
          "text": [
            "Round 28: acc=0.98449419 F1=0.98448194  comm=0.65 MB\n"
          ]
        },
        {
          "output_type": "stream",
          "name": "stderr",
          "text": [
            "/usr/local/lib/python3.11/dist-packages/keras/src/layers/core/input_layer.py:27: UserWarning: Argument `input_shape` is deprecated. Use `shape` instead.\n",
            "  warnings.warn(\n"
          ]
        },
        {
          "output_type": "stream",
          "name": "stdout",
          "text": [
            "Round 29: acc=0.98513230 F1=0.98512192  comm=0.65 MB\n"
          ]
        },
        {
          "output_type": "stream",
          "name": "stderr",
          "text": [
            "/usr/local/lib/python3.11/dist-packages/keras/src/layers/core/input_layer.py:27: UserWarning: Argument `input_shape` is deprecated. Use `shape` instead.\n",
            "  warnings.warn(\n"
          ]
        },
        {
          "output_type": "stream",
          "name": "stdout",
          "text": [
            "Round 30: acc=0.98520581 F1=0.98519609  comm=0.65 MB\n"
          ]
        }
      ]
    },
    {
      "cell_type": "code",
      "source": [
        "# ----------------------------\n",
        "# Save Log\n",
        "# ----------------------------\n",
        "# Use the correctly named variable 'history' to create the DataFrame\n",
        "history_df = pd.DataFrame(history)\n",
        "# Correct the filename to match the download call\n",
        "log_filename = \"fedavg_training_and_resource_log_WSN-DS.csv\"\n",
        "# Use the correctly named DataFrame 'history_df' to save to CSV\n",
        "history_df.to_csv(log_filename, index=False)\n",
        "print(f\"\\nLog saved to {log_filename}\")\n",
        "\n",
        "\n",
        "# ----------------------------\n",
        "# Download Log\n",
        "# ----------------------------\n",
        "from google.colab import files\n",
        "# Use the corrected filename for download\n",
        "files.download(log_filename)"
      ],
      "metadata": {
        "colab": {
          "base_uri": "https://localhost:8080/",
          "height": 52
        },
        "id": "8BAVyv52Jwcb",
        "outputId": "8a8f57bc-8270-4cd4-d5a3-a288400ac7a7"
      },
      "execution_count": null,
      "outputs": [
        {
          "output_type": "stream",
          "name": "stdout",
          "text": [
            "\n",
            "Log saved to fedavg_training_and_resource_log_WSN-DS.csv\n"
          ]
        },
        {
          "output_type": "display_data",
          "data": {
            "text/plain": [
              "<IPython.core.display.Javascript object>"
            ],
            "application/javascript": [
              "\n",
              "    async function download(id, filename, size) {\n",
              "      if (!google.colab.kernel.accessAllowed) {\n",
              "        return;\n",
              "      }\n",
              "      const div = document.createElement('div');\n",
              "      const label = document.createElement('label');\n",
              "      label.textContent = `Downloading \"${filename}\": `;\n",
              "      div.appendChild(label);\n",
              "      const progress = document.createElement('progress');\n",
              "      progress.max = size;\n",
              "      div.appendChild(progress);\n",
              "      document.body.appendChild(div);\n",
              "\n",
              "      const buffers = [];\n",
              "      let downloaded = 0;\n",
              "\n",
              "      const channel = await google.colab.kernel.comms.open(id);\n",
              "      // Send a message to notify the kernel that we're ready.\n",
              "      channel.send({})\n",
              "\n",
              "      for await (const message of channel.messages) {\n",
              "        // Send a message to notify the kernel that we're ready.\n",
              "        channel.send({})\n",
              "        if (message.buffers) {\n",
              "          for (const buffer of message.buffers) {\n",
              "            buffers.push(buffer);\n",
              "            downloaded += buffer.byteLength;\n",
              "            progress.value = downloaded;\n",
              "          }\n",
              "        }\n",
              "      }\n",
              "      const blob = new Blob(buffers, {type: 'application/binary'});\n",
              "      const a = document.createElement('a');\n",
              "      a.href = window.URL.createObjectURL(blob);\n",
              "      a.download = filename;\n",
              "      div.appendChild(a);\n",
              "      a.click();\n",
              "      div.remove();\n",
              "    }\n",
              "  "
            ]
          },
          "metadata": {}
        },
        {
          "output_type": "display_data",
          "data": {
            "text/plain": [
              "<IPython.core.display.Javascript object>"
            ],
            "application/javascript": [
              "download(\"download_7604a5cd-b81e-40e1-8d9e-ce1e5f191dea\", \"fedavg_training_and_resource_log_WSN-DS.csv\", 3326)"
            ]
          },
          "metadata": {}
        }
      ]
    },
    {
      "cell_type": "code",
      "source": [
        "# prompt: Please display all the resource that used in this training model\n",
        "\n",
        "print(\"Total parameters:\", tot_params)\n",
        "print(\"Model size:\", model_sizeMB, \"MB\")\n",
        "print(\"Communication per round (uplink):\", COMM_MB_UP, \"MB\")\n",
        "print(\"\\nDetailed resource usage per round:\")\n",
        "print(history_df[['Round', 'Time_s', 'Comm_MB']])"
      ],
      "metadata": {
        "colab": {
          "base_uri": "https://localhost:8080/"
        },
        "id": "O4Cz7tt5fjtY",
        "outputId": "e5be75c7-7bc0-435a-ff72-46285d120361"
      },
      "execution_count": null,
      "outputs": [
        {
          "output_type": "stream",
          "name": "stdout",
          "text": [
            "Total parameters: 33797\n",
            "Model size: 0.13 MB\n",
            "Communication per round (uplink): 0.65 MB\n",
            "\n",
            "Detailed resource usage per round:\n",
            "    Round  Time_s  Comm_MB\n",
            "0       1  288.74     0.65\n",
            "1       2  282.45     0.65\n",
            "2       3  279.75     0.65\n",
            "3       4  278.49     0.65\n",
            "4       5  269.64     0.65\n",
            "5       6  271.53     0.65\n",
            "6       7  269.94     0.65\n",
            "7       8  275.90     0.65\n",
            "8       9  269.77     0.65\n",
            "9      10  271.49     0.65\n",
            "10     11  270.57     0.65\n",
            "11     12  269.77     0.65\n",
            "12     13  275.33     0.65\n",
            "13     14  270.36     0.65\n",
            "14     15  270.25     0.65\n",
            "15     16  276.24     0.65\n",
            "16     17  277.28     0.65\n",
            "17     18  299.31     0.65\n",
            "18     19  286.28     0.65\n",
            "19     20  281.94     0.65\n",
            "20     21  276.01     0.65\n",
            "21     22  274.81     0.65\n",
            "22     23  277.50     0.65\n",
            "23     24  292.30     0.65\n",
            "24     25  276.22     0.65\n",
            "25     26  273.83     0.65\n",
            "26     27  273.01     0.65\n",
            "27     28  274.80     0.65\n",
            "28     29  284.04     0.65\n",
            "29     30  282.16     0.65\n"
          ]
        }
      ]
    }
  ]
}