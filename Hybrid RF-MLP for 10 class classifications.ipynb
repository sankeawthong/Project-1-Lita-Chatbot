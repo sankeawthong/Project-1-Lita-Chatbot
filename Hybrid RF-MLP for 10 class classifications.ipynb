{
  "nbformat": 4,
  "nbformat_minor": 0,
  "metadata": {
    "colab": {
      "provenance": [],
      "authorship_tag": "ABX9TyPrBQ3DHAdzn7dG8qvoe9XT",
      "include_colab_link": true
    },
    "kernelspec": {
      "name": "python3",
      "display_name": "Python 3"
    },
    "language_info": {
      "name": "python"
    }
  },
  "cells": [
    {
      "cell_type": "markdown",
      "metadata": {
        "id": "view-in-github",
        "colab_type": "text"
      },
      "source": [
        "<a href=\"https://colab.research.google.com/github/sankeawthong/Project-1-Lita-Chatbot/blob/main/Hybrid%20RF-MLP%20for%2010%20class%20classifications.ipynb\" target=\"_parent\"><img src=\"https://colab.research.google.com/assets/colab-badge.svg\" alt=\"Open In Colab\"/></a>"
      ]
    },
    {
      "cell_type": "markdown",
      "source": [
        "### **Hybrid RF-MLP for 10 class classifications**"
      ],
      "metadata": {
        "id": "2Mz1-KlqFZ6_"
      }
    },
    {
      "cell_type": "code",
      "execution_count": 1,
      "metadata": {
        "id": "Vp5eSS8KE3PZ"
      },
      "outputs": [],
      "source": [
        "import pandas as pd\n",
        "import numpy as np\n",
        "import collections as c\n",
        "from sklearn.model_selection import train_test_split\n",
        "from sklearn.ensemble import RandomForestClassifier\n",
        "from sklearn.neural_network import MLPClassifier\n",
        "from imblearn.over_sampling import SMOTE"
      ]
    },
    {
      "cell_type": "code",
      "source": [
        "# Load dataset\n",
        "dataset = pd.read_csv(\"dataset_P2.2.csv\")\n",
        "\n",
        "# Check for missing values\n",
        "dataset.isnull().sum()"
      ],
      "metadata": {
        "id": "kWlk9kQ3E5o3",
        "colab": {
          "base_uri": "https://localhost:8080/"
        },
        "outputId": "c220011b-eec8-42b4-b0d6-1acb5d4aa549"
      },
      "execution_count": 2,
      "outputs": [
        {
          "output_type": "execute_result",
          "data": {
            "text/plain": [
              "id                   0\n",
              "dur                  0\n",
              "spkts                0\n",
              "dpkts                0\n",
              "sbytes               0\n",
              "dbytes               0\n",
              "rate                 0\n",
              "sttl                 0\n",
              "dttl                 0\n",
              "sload                0\n",
              "dload                0\n",
              "sloss                0\n",
              "dloss                0\n",
              "sinpkt               0\n",
              "dinpkt               0\n",
              "sjit                 0\n",
              "djit                 0\n",
              "swin                 0\n",
              "stcpb                0\n",
              "dtcpb                0\n",
              "dwin                 0\n",
              "tcprtt               0\n",
              "synack               0\n",
              "ackdat               0\n",
              "smean                0\n",
              "dmean                0\n",
              "trans_depth          0\n",
              "response_body_len    0\n",
              "ct_srv_src           0\n",
              "ct_state_ttl         0\n",
              "ct_dst_ltm           0\n",
              "ct_src_dport_ltm     0\n",
              "ct_dst_sport_ltm     0\n",
              "ct_dst_src_ltm       0\n",
              "is_ftp_login         0\n",
              "ct_ftp_cmd           0\n",
              "ct_flw_http_mthd     0\n",
              "ct_src_ltm           0\n",
              "ct_srv_dst           0\n",
              "is_sm_ips_ports      0\n",
              "Class                0\n",
              "dtype: int64"
            ]
          },
          "metadata": {},
          "execution_count": 2
        }
      ]
    },
    {
      "cell_type": "code",
      "source": [
        "# Data preprocessing\n",
        "y = dataset['Class'].values\n",
        "X = dataset.drop(['Class'], axis=1).values"
      ],
      "metadata": {
        "id": "1dItuyNlE7ac"
      },
      "execution_count": 3,
      "outputs": []
    },
    {
      "cell_type": "code",
      "source": [
        "# Class distribution before balancing\n",
        "counter = c.Counter(y)\n",
        "print(\"Class Distribution (Before Balancing):\", counter)"
      ],
      "metadata": {
        "id": "ZuJ1bW2vE8rC",
        "colab": {
          "base_uri": "https://localhost:8080/"
        },
        "outputId": "b10a1a12-7aaa-4aa5-cf1c-a1d7c2dc7bde"
      },
      "execution_count": 4,
      "outputs": [
        {
          "output_type": "stream",
          "name": "stdout",
          "text": [
            "Class Distribution (Before Balancing): Counter({0: 56000, 6: 40000, 4: 33393, 5: 18184, 3: 12264, 7: 10491, 1: 2000, 2: 1746, 8: 1133, 9: 130})\n"
          ]
        }
      ]
    },
    {
      "cell_type": "code",
      "source": [
        "# Apply SMOTE for data balancing\n",
        "oversample = SMOTE()\n",
        "X, y = oversample.fit_resample(X, y)\n",
        "\n",
        "# Class distribution after balancing\n",
        "counter = c.Counter(y)\n",
        "print(\"Class Distribution (After Balancing):\", counter)"
      ],
      "metadata": {
        "id": "84DGwCSGE-HJ",
        "colab": {
          "base_uri": "https://localhost:8080/"
        },
        "outputId": "24183bee-cd76-43d6-d15a-1d0285187137"
      },
      "execution_count": 5,
      "outputs": [
        {
          "output_type": "stream",
          "name": "stdout",
          "text": [
            "Class Distribution (After Balancing): Counter({0: 56000, 2: 56000, 1: 56000, 5: 56000, 8: 56000, 7: 56000, 4: 56000, 3: 56000, 9: 56000, 6: 56000})\n"
          ]
        }
      ]
    },
    {
      "cell_type": "code",
      "source": [
        "# Split data into training and testing sets\n",
        "X_train, X_test, y_train, y_test = train_test_split(X, y, test_size=0.2, random_state=101)"
      ],
      "metadata": {
        "id": "e0rLUmm3E-yQ"
      },
      "execution_count": 6,
      "outputs": []
    },
    {
      "cell_type": "code",
      "source": [
        "# Random Forest model\n",
        "rf_model = RandomForestClassifier()\n",
        "rf_model.fit(X_train, y_train)\n",
        "\n",
        "# MLP model\n",
        "mlp_model = MLPClassifier(hidden_layer_sizes=(25,), max_iter=1000, random_state=101)\n",
        "mlp_model.fit(X_train, y_train)\n",
        "\n",
        "# Combine predictions from Random Forest and MLP models\n",
        "rf_predictions = rf_model.predict(X_test)\n",
        "mlp_predictions = mlp_model.predict(X_test)\n",
        "combined_predictions = np.array([rf_predictions[i] if mlp_predictions[i] == rf_predictions[i] else mlp_predictions[i] for i in range(len(mlp_predictions))])\n",
        "\n",
        "# Evaluate combined model\n",
        "combined_accuracy = np.mean(combined_predictions == y_test)\n",
        "print(\"Combined Model Accuracy:\", combined_accuracy)"
      ],
      "metadata": {
        "id": "IWKGl3kuFCW_",
        "colab": {
          "base_uri": "https://localhost:8080/"
        },
        "outputId": "bce68e73-96c4-4fd1-f095-48da332a0059"
      },
      "execution_count": 8,
      "outputs": [
        {
          "output_type": "stream",
          "name": "stdout",
          "text": [
            "Combined Model Accuracy: 0.1336875\n"
          ]
        }
      ]
    }
  ]
}