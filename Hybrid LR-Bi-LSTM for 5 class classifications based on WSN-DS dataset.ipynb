{
  "nbformat": 4,
  "nbformat_minor": 0,
  "metadata": {
    "colab": {
      "provenance": [],
      "authorship_tag": "ABX9TyMQry5bNp1En2gaNLK2Ghqg",
      "include_colab_link": true
    },
    "kernelspec": {
      "name": "python3",
      "display_name": "Python 3"
    },
    "language_info": {
      "name": "python"
    }
  },
  "cells": [
    {
      "cell_type": "markdown",
      "metadata": {
        "id": "view-in-github",
        "colab_type": "text"
      },
      "source": [
        "<a href=\"https://colab.research.google.com/github/sankeawthong/Project-1-Lita-Chatbot/blob/main/Hybrid%20LR-Bi-LSTM%20for%205%20class%20classifications%20based%20on%20WSN-DS%20dataset.ipynb\" target=\"_parent\"><img src=\"https://colab.research.google.com/assets/colab-badge.svg\" alt=\"Open In Colab\"/></a>"
      ]
    },
    {
      "cell_type": "markdown",
      "source": [
        "### **Hybrid LR-Bi-LSTM for 5 class classifications based on WSN-DS dataset**"
      ],
      "metadata": {
        "id": "15jGYmT_0lrn"
      }
    },
    {
      "cell_type": "code",
      "source": [
        "import pandas as pd\n",
        "import numpy as np\n",
        "from sklearn.linear_model import LogisticRegression\n",
        "from sklearn.model_selection import train_test_split\n",
        "from sklearn.metrics import accuracy_score, classification_report\n",
        "from sklearn.preprocessing import LabelEncoder, StandardScaler\n",
        "from keras.models import Sequential\n",
        "from keras.layers import Dense, LSTM, Bidirectional, Dropout, Flatten"
      ],
      "metadata": {
        "id": "JLFmDI9C0qRo"
      },
      "execution_count": 3,
      "outputs": []
    },
    {
      "cell_type": "code",
      "source": [
        "# Load dataset\n",
        "dataset = pd.read_csv(\"dataset_WSN-DS.csv\")\n",
        "dataset = dataset.dropna() # Remove missing values\n",
        "X = dataset.drop(['Class'], axis=1)\n",
        "y = dataset['Class']"
      ],
      "metadata": {
        "id": "QYXmvq660ron"
      },
      "execution_count": 4,
      "outputs": []
    },
    {
      "cell_type": "markdown",
      "source": [
        "### **Data Preprocessing**"
      ],
      "metadata": {
        "id": "BPxDywqB03Gl"
      }
    },
    {
      "cell_type": "code",
      "source": [
        "# Encode labels\n",
        "encoder = LabelEncoder()\n",
        "y = encoder.fit_transform(dataset['Class'])"
      ],
      "metadata": {
        "id": "E4YGBJ3j0u0B"
      },
      "execution_count": 5,
      "outputs": []
    },
    {
      "cell_type": "code",
      "source": [
        "# Standardize features\n",
        "scaler = StandardScaler()\n",
        "X = scaler.fit_transform(dataset.drop(['Class'], axis=1))"
      ],
      "metadata": {
        "id": "7pwiLsc80wit"
      },
      "execution_count": 6,
      "outputs": []
    },
    {
      "cell_type": "code",
      "source": [
        "# Split data into train and test sets\n",
        "X_train, X_test, y_train, y_test = train_test_split(X, y, test_size=0.2, random_state=42)"
      ],
      "metadata": {
        "id": "J_hiH1JR0xuT"
      },
      "execution_count": 7,
      "outputs": []
    },
    {
      "cell_type": "markdown",
      "source": [
        "### **Hybrid combination of LR-Bi-LSTM for 5 class classifications**"
      ],
      "metadata": {
        "id": "lmcm5fIJ08G8"
      }
    },
    {
      "cell_type": "code",
      "source": [
        "# Train logistic regression model\n",
        "lr_model = LogisticRegression(multi_class='multinomial', solver='lbfgs')\n",
        "lr_model.fit(X_train, y_train)\n",
        "lr_pred = lr_model.predict(X_test)\n",
        "lr_acc = accuracy_score(y_test, lr_pred)\n",
        "print(\"Logistic Regression Accuracy:\", lr_acc)\n",
        "print(classification_report(y_test, lr_pred))"
      ],
      "metadata": {
        "id": "BX1Mt_Im1GIG",
        "outputId": "6e25369c-55dc-4243-d953-c2a3b159b310",
        "colab": {
          "base_uri": "https://localhost:8080/"
        }
      },
      "execution_count": 8,
      "outputs": [
        {
          "output_type": "stream",
          "name": "stdout",
          "text": [
            "Logistic Regression Accuracy: 0.9718815475157808\n",
            "              precision    recall  f1-score   support\n",
            "\n",
            "           0       0.99      0.99      0.99     67965\n",
            "           1       0.71      0.64      0.67      2985\n",
            "           2       0.66      0.75      0.71      2043\n",
            "           3       0.98      0.93      0.95      1309\n",
            "           4       0.87      0.91      0.89       631\n",
            "\n",
            "    accuracy                           0.97     74933\n",
            "   macro avg       0.84      0.85      0.84     74933\n",
            "weighted avg       0.97      0.97      0.97     74933\n",
            "\n"
          ]
        },
        {
          "output_type": "stream",
          "name": "stderr",
          "text": [
            "/usr/local/lib/python3.10/dist-packages/sklearn/linear_model/_logistic.py:458: ConvergenceWarning: lbfgs failed to converge (status=1):\n",
            "STOP: TOTAL NO. of ITERATIONS REACHED LIMIT.\n",
            "\n",
            "Increase the number of iterations (max_iter) or scale the data as shown in:\n",
            "    https://scikit-learn.org/stable/modules/preprocessing.html\n",
            "Please also refer to the documentation for alternative solver options:\n",
            "    https://scikit-learn.org/stable/modules/linear_model.html#logistic-regression\n",
            "  n_iter_i = _check_optimize_result(\n"
          ]
        }
      ]
    },
    {
      "cell_type": "code",
      "source": [
        "# Train Bi-LSTM model\n",
        "num_classes = len(np.unique(y))\n",
        "input_dim = X_train.shape[1]\n",
        "X_train = np.reshape(X_train, (X_train.shape[0], 1, X_train.shape[1]))\n",
        "X_test = np.reshape(X_test, (X_test.shape[0], 1, X_test.shape[1]))\n",
        "lstm_model = Sequential()\n",
        "lstm_model.add(Bidirectional(LSTM(64, input_shape=(1, input_dim), activation='relu', return_sequences=True)))\n",
        "lstm_model.add(Dropout(0.2))\n",
        "lstm_model.add(LSTM(32, activation='relu'))\n",
        "lstm_model.add(Dense(5, activation='softmax'))\n",
        "lstm_model.compile(loss='categorical_crossentropy', optimizer='adam', metrics=['accuracy'])\n",
        "y_train_onehot = pd.get_dummies(y_train).values\n",
        "lstm_model.fit(X_train, y_train_onehot, epochs=15, batch_size=32, verbose=0)\n",
        "lstm_pred = lstm_model.predict(X_test)\n",
        "lstm_pred = np.argmax(lstm_pred, axis=1)\n",
        "lstm_acc = accuracy_score(y_test, lstm_pred)\n",
        "print(\"Bi-LSTM Accuracy:\", lstm_acc)\n",
        "print(classification_report(y_test, lstm_pred))"
      ],
      "metadata": {
        "id": "4euks9vQ1H6x",
        "outputId": "54e03b98-8d4b-4bd3-abac-841d78b02cbf",
        "colab": {
          "base_uri": "https://localhost:8080/"
        }
      },
      "execution_count": 9,
      "outputs": [
        {
          "output_type": "stream",
          "name": "stdout",
          "text": [
            "2342/2342 [==============================] - 5s 2ms/step\n",
            "Bi-LSTM Accuracy: 0.9882027944964168\n",
            "              precision    recall  f1-score   support\n",
            "\n",
            "           0       1.00      1.00      1.00     67965\n",
            "           1       0.90      0.85      0.88      2985\n",
            "           2       0.81      0.88      0.84      2043\n",
            "           3       0.99      0.93      0.96      1309\n",
            "           4       0.90      1.00      0.95       631\n",
            "\n",
            "    accuracy                           0.99     74933\n",
            "   macro avg       0.92      0.93      0.93     74933\n",
            "weighted avg       0.99      0.99      0.99     74933\n",
            "\n"
          ]
        }
      ]
    },
    {
      "cell_type": "code",
      "execution_count": 10,
      "metadata": {
        "colab": {
          "base_uri": "https://localhost:8080/"
        },
        "id": "VYp0RdPSzwjT",
        "outputId": "f998ac60-aab6-4c1b-d781-a59d0da18002"
      },
      "outputs": [
        {
          "output_type": "stream",
          "name": "stdout",
          "text": [
            "2342/2342 [==============================] - 4s 2ms/step\n",
            "Combined Accuracy: 0.9876156032722565\n",
            "              precision    recall  f1-score   support\n",
            "\n",
            "           0       1.00      1.00      1.00     67965\n",
            "           1       0.90      0.83      0.87      2985\n",
            "           2       0.80      0.90      0.84      2043\n",
            "           3       0.99      0.94      0.96      1309\n",
            "           4       0.90      0.99      0.94       631\n",
            "\n",
            "    accuracy                           0.99     74933\n",
            "   macro avg       0.92      0.93      0.92     74933\n",
            "weighted avg       0.99      0.99      0.99     74933\n",
            "\n"
          ]
        }
      ],
      "source": [
        "# Combine predictions\n",
        "lr_probs = lr_model.predict_proba(np.reshape(X_test, (X_test.shape[0], -1)))\n",
        "lstm_probs = lstm_model.predict(X_test)\n",
        "combined_probs = (lr_probs + lstm_probs) / 2\n",
        "combined_pred = np.argmax(combined_probs, axis=1)\n",
        "combined_acc = accuracy_score(y_test, combined_pred)\n",
        "print(\"Combined Accuracy:\", combined_acc)\n",
        "print(classification_report(y_test, combined_pred))"
      ]
    }
  ]
}