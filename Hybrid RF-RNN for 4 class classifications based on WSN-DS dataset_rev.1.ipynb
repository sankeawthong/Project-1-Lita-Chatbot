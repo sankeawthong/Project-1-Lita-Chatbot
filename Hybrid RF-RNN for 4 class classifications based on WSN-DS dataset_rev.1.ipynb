{
  "nbformat": 4,
  "nbformat_minor": 0,
  "metadata": {
    "colab": {
      "provenance": [],
      "authorship_tag": "ABX9TyMohpaqeRJfjc84fvoN6pfB",
      "include_colab_link": true
    },
    "kernelspec": {
      "name": "python3",
      "display_name": "Python 3"
    },
    "language_info": {
      "name": "python"
    }
  },
  "cells": [
    {
      "cell_type": "markdown",
      "metadata": {
        "id": "view-in-github",
        "colab_type": "text"
      },
      "source": [
        "<a href=\"https://colab.research.google.com/github/sankeawthong/Project-1-Lita-Chatbot/blob/main/Hybrid%20RF-RNN%20for%204%20class%20classifications%20based%20on%20WSN-DS%20dataset_rev.1.ipynb\" target=\"_parent\"><img src=\"https://colab.research.google.com/assets/colab-badge.svg\" alt=\"Open In Colab\"/></a>"
      ]
    },
    {
      "cell_type": "markdown",
      "source": [
        "### **Hybrid RF-RNN for 4 class classifications based on WSN-DS dataset**"
      ],
      "metadata": {
        "id": "I9RKo9UAZzl2"
      }
    },
    {
      "cell_type": "code",
      "execution_count": 1,
      "metadata": {
        "id": "cJpkAqCuYfck"
      },
      "outputs": [],
      "source": [
        "import pandas as pd\n",
        "import numpy as np\n",
        "from sklearn.preprocessing import LabelEncoder\n",
        "from sklearn.model_selection import train_test_split\n",
        "from keras.utils import np_utils\n",
        "from keras.models import Sequential\n",
        "from keras.layers import Dense, LSTM, Dropout\n",
        "from sklearn.ensemble import RandomForestClassifier\n",
        "from sklearn.metrics import confusion_matrix, classification_report"
      ]
    },
    {
      "cell_type": "code",
      "source": [
        "# Load dataset\n",
        "dataset = pd.read_csv(\"dataset.csv\")\n",
        "dataset.isnull().sum()"
      ],
      "metadata": {
        "colab": {
          "base_uri": "https://localhost:8080/"
        },
        "id": "9MjrOKmEYoKT",
        "outputId": "093a883e-c1d1-4b4d-9ce0-96e11e67ff18"
      },
      "execution_count": 2,
      "outputs": [
        {
          "output_type": "execute_result",
          "data": {
            "text/plain": [
              "Event             0\n",
              "Time              0\n",
              "S_Node            0\n",
              "Node_id           0\n",
              "Rest_Energy       0\n",
              "Trace_Level       0\n",
              "Mac_Type_Pckt     0\n",
              "Source_IP_Port    0\n",
              "Des_IP_Port       0\n",
              "Packet_Size       0\n",
              "TTL               0\n",
              "Hop_Count         0\n",
              "Broadcast_ID      0\n",
              "Dest_Node_Num     0\n",
              "Dest_Seq_Num      0\n",
              "Src_Node_ID       0\n",
              "Src_Seq_Num       0\n",
              "Class             0\n",
              "dtype: int64"
            ]
          },
          "metadata": {},
          "execution_count": 2
        }
      ]
    },
    {
      "cell_type": "code",
      "source": [
        "dataset.info()"
      ],
      "metadata": {
        "colab": {
          "base_uri": "https://localhost:8080/"
        },
        "id": "92qPjdA7YoHM",
        "outputId": "8b1dd208-4829-4672-bf7e-05ac5474de03"
      },
      "execution_count": 3,
      "outputs": [
        {
          "output_type": "stream",
          "name": "stdout",
          "text": [
            "<class 'pandas.core.frame.DataFrame'>\n",
            "RangeIndex: 312106 entries, 0 to 312105\n",
            "Data columns (total 18 columns):\n",
            " #   Column          Non-Null Count   Dtype  \n",
            "---  ------          --------------   -----  \n",
            " 0   Event           312106 non-null  int64  \n",
            " 1   Time            312106 non-null  float64\n",
            " 2   S_Node          312106 non-null  int64  \n",
            " 3   Node_id         312106 non-null  int64  \n",
            " 4   Rest_Energy     312106 non-null  float64\n",
            " 5   Trace_Level     312106 non-null  int64  \n",
            " 6   Mac_Type_Pckt   312106 non-null  int64  \n",
            " 7   Source_IP_Port  312106 non-null  float64\n",
            " 8   Des_IP_Port     312106 non-null  float64\n",
            " 9   Packet_Size     312106 non-null  int64  \n",
            " 10  TTL             312106 non-null  int64  \n",
            " 11  Hop_Count       312106 non-null  int64  \n",
            " 12  Broadcast_ID    312106 non-null  int64  \n",
            " 13  Dest_Node_Num   312106 non-null  int64  \n",
            " 14  Dest_Seq_Num    312106 non-null  int64  \n",
            " 15  Src_Node_ID     312106 non-null  int64  \n",
            " 16  Src_Seq_Num     312106 non-null  int64  \n",
            " 17  Class           312106 non-null  int64  \n",
            "dtypes: float64(4), int64(14)\n",
            "memory usage: 42.9 MB\n"
          ]
        }
      ]
    },
    {
      "cell_type": "code",
      "source": [
        "dataset[\"Class\"].unique()"
      ],
      "metadata": {
        "colab": {
          "base_uri": "https://localhost:8080/"
        },
        "id": "z25JOynVYoEH",
        "outputId": "1d298807-3cec-4a53-a18b-8c554b3cf29b"
      },
      "execution_count": 4,
      "outputs": [
        {
          "output_type": "execute_result",
          "data": {
            "text/plain": [
              "array([0, 1, 2, 3])"
            ]
          },
          "metadata": {},
          "execution_count": 4
        }
      ]
    },
    {
      "cell_type": "code",
      "source": [
        "# Data preprocessing\n",
        "encoder = LabelEncoder()\n",
        "y = encoder.fit_transform(dataset['Class'])\n",
        "y = np_utils.to_categorical(y, num_classes=4)\n",
        "X = dataset.drop(['Class'],axis=1)\n",
        "X=X.values\n",
        "print(X.shape)\n",
        "print(y.shape)"
      ],
      "metadata": {
        "colab": {
          "base_uri": "https://localhost:8080/"
        },
        "id": "jpgVU9_gYoBQ",
        "outputId": "54cc4f4f-5a65-45c4-b82a-75200464cc12"
      },
      "execution_count": 5,
      "outputs": [
        {
          "output_type": "stream",
          "name": "stdout",
          "text": [
            "(312106, 17)\n",
            "(312106, 4)\n"
          ]
        }
      ]
    },
    {
      "cell_type": "code",
      "source": [
        "from imblearn.over_sampling import SMOTE\n",
        "oversample = SMOTE()\n",
        "X, y = oversample.fit_resample(X, y)"
      ],
      "metadata": {
        "id": "aFHU5GEqYsNd"
      },
      "execution_count": 6,
      "outputs": []
    },
    {
      "cell_type": "code",
      "source": [
        "# Split data into training and testing sets\n",
        "X_train, X_test, y_train, y_test = train_test_split(X, y, test_size=0.2, random_state=101)"
      ],
      "metadata": {
        "id": "8hgdV7mhYsKq"
      },
      "execution_count": 7,
      "outputs": []
    },
    {
      "cell_type": "markdown",
      "source": [
        "### **Hybrid combination of RF-RNN for 4 class classifications**"
      ],
      "metadata": {
        "id": "WvwHJ_uHY4Aw"
      }
    },
    {
      "cell_type": "code",
      "source": [
        "# Random Forest model\n",
        "rf = RandomForestClassifier(n_estimators=100, random_state=42)\n",
        "rf.fit(X_train, y_train)\n",
        "\n",
        "y_pred_rf = rf.predict(X_test)\n",
        "\n",
        "from keras.layers import SimpleRNN\n",
        "\n",
        "# RNN model\n",
        "model = Sequential()\n",
        "model.add(SimpleRNN(64, input_shape=(X_train.shape[1], 1)))\n",
        "model.add(Dropout(0.2))\n",
        "model.add(Dense(4, activation='softmax'))\n",
        "model.compile(loss='categorical_crossentropy', optimizer='adam', metrics=['accuracy'])\n",
        "model.summary()\n",
        "\n",
        "X_train_rnn = X_train.reshape(X_train.shape[0], X_train.shape[1], 1)\n",
        "X_test_rnn = X_test.reshape(X_test.shape[0], X_test.shape[1], 1)\n",
        "\n",
        "history = model.fit(X_train_rnn, y_train, epochs=10, batch_size=64, validation_data=(X_test_rnn, y_test), verbose=1)"
      ],
      "metadata": {
        "colab": {
          "base_uri": "https://localhost:8080/"
        },
        "id": "mkTvV5iPY7OH",
        "outputId": "9374a069-cdc7-4760-aba5-9b84b01bab5a"
      },
      "execution_count": 8,
      "outputs": [
        {
          "output_type": "stream",
          "name": "stdout",
          "text": [
            "Model: \"sequential\"\n",
            "_________________________________________________________________\n",
            " Layer (type)                Output Shape              Param #   \n",
            "=================================================================\n",
            " simple_rnn (SimpleRNN)      (None, 64)                4224      \n",
            "                                                                 \n",
            " dropout (Dropout)           (None, 64)                0         \n",
            "                                                                 \n",
            " dense (Dense)               (None, 4)                 260       \n",
            "                                                                 \n",
            "=================================================================\n",
            "Total params: 4,484\n",
            "Trainable params: 4,484\n",
            "Non-trainable params: 0\n",
            "_________________________________________________________________\n",
            "Epoch 1/10\n",
            "13143/13143 [==============================] - 96s 7ms/step - loss: 0.6347 - accuracy: 0.7071 - val_loss: 0.4991 - val_accuracy: 0.7794\n",
            "Epoch 2/10\n",
            "13143/13143 [==============================] - 93s 7ms/step - loss: 0.4936 - accuracy: 0.7841 - val_loss: 0.4184 - val_accuracy: 0.8204\n",
            "Epoch 3/10\n",
            "13143/13143 [==============================] - 93s 7ms/step - loss: 0.4244 - accuracy: 0.8213 - val_loss: 0.3428 - val_accuracy: 0.8544\n",
            "Epoch 4/10\n",
            "13143/13143 [==============================] - 96s 7ms/step - loss: 0.4423 - accuracy: 0.8113 - val_loss: 0.5202 - val_accuracy: 0.7663\n",
            "Epoch 5/10\n",
            "13143/13143 [==============================] - 93s 7ms/step - loss: 0.4890 - accuracy: 0.7874 - val_loss: 0.4715 - val_accuracy: 0.7867\n",
            "Epoch 6/10\n",
            "13143/13143 [==============================] - 94s 7ms/step - loss: 0.4801 - accuracy: 0.7892 - val_loss: 0.4610 - val_accuracy: 0.7962\n",
            "Epoch 7/10\n",
            "13143/13143 [==============================] - 98s 7ms/step - loss: 0.4736 - accuracy: 0.7939 - val_loss: 0.5037 - val_accuracy: 0.7835\n",
            "Epoch 8/10\n",
            "13143/13143 [==============================] - 95s 7ms/step - loss: 0.4796 - accuracy: 0.7912 - val_loss: 0.4611 - val_accuracy: 0.7942\n",
            "Epoch 9/10\n",
            "13143/13143 [==============================] - 96s 7ms/step - loss: 0.4428 - accuracy: 0.8114 - val_loss: 0.4556 - val_accuracy: 0.7970\n",
            "Epoch 10/10\n",
            "13143/13143 [==============================] - 95s 7ms/step - loss: 0.4973 - accuracy: 0.7829 - val_loss: 0.4692 - val_accuracy: 0.7934\n"
          ]
        }
      ]
    },
    {
      "cell_type": "code",
      "source": [
        "# Combine models\n",
        "y_pred_rnn = model.predict(X_test_rnn)\n",
        "y_pred_rnn = np.argmax(y_pred_rnn, axis=1)\n",
        "y_pred_rnn = np_utils.to_categorical(y_pred_rnn, num_classes=4)\n",
        "\n",
        "y_pred = y_pred_rnn * 0.5 + y_pred_rf * 0.5\n",
        "y_pred = np.argmax(y_pred, axis=1)\n",
        "\n",
        "# Evaluation metrics\n",
        "print(classification_report(np.argmax(y_test, axis=1), y_pred))\n",
        "print(confusion_matrix(np.argmax(y_test, axis=1), y_pred))\n",
        "\n",
        "from sklearn.metrics import accuracy_score\n",
        "# Calculate accuracy\n",
        "accuracy = accuracy_score(np.argmax(y_test, axis=1), y_pred)\n",
        "print(\"Accuracy:\", accuracy)"
      ],
      "metadata": {
        "colab": {
          "base_uri": "https://localhost:8080/"
        },
        "id": "liG32x8bY7Kk",
        "outputId": "e8601f00-9470-4560-e9e0-68f00e753000"
      },
      "execution_count": 9,
      "outputs": [
        {
          "output_type": "stream",
          "name": "stdout",
          "text": [
            "6572/6572 [==============================] - 19s 3ms/step\n",
            "              precision    recall  f1-score   support\n",
            "\n",
            "           0       0.87      1.00      0.93     52500\n",
            "           1       1.00      0.88      0.93     52554\n",
            "           2       1.00      0.97      0.98     52545\n",
            "           3       1.00      1.00      1.00     52682\n",
            "\n",
            "    accuracy                           0.96    210281\n",
            "   macro avg       0.97      0.96      0.96    210281\n",
            "weighted avg       0.97      0.96      0.96    210281\n",
            "\n",
            "[[52495     2     3     0]\n",
            " [ 6425 46124     0     5]\n",
            " [ 1726    26 50786     7]\n",
            " [    0    14     7 52661]]\n",
            "Accuracy: 0.9609332274432782\n"
          ]
        }
      ]
    },
    {
      "cell_type": "code",
      "source": [
        "import seaborn as sns\n",
        "import matplotlib.pyplot as plt\n",
        "import numpy as np\n",
        "import itertools\n",
        "import seaborn as sns\n",
        "from sklearn import metrics \n",
        "import matplotlib.pyplot as plt\n",
        "from sklearn.metrics import confusion_matrix\n",
        "def conf_mat(d1,d2):\n",
        "  cm = confusion_matrix(d1, d2)\n",
        "  plt.figure(figsize=(6,5.5))\n",
        "  ax = sns.heatmap(cm,  fmt='2', annot=True, cmap='YlGnBu')\n",
        "  sns.set(font_scale=1)\n",
        "  ax.set_xlabel('\\nPredicted Values')\n",
        "  ax.set_ylabel('Actual Values\\n');\n",
        "  ax.xaxis.set_ticklabels(['Normal','Flooding','Blackhole','Forwarding'])\n",
        "  ax.yaxis.set_ticklabels(['Normal','Flooding','Blackhole','Forwarding'])\n",
        "  plt.tight_layout()\n",
        "  # plt.savefig(\"F1.eps\", format = 'eps')\n",
        "  plt.show()"
      ],
      "metadata": {
        "id": "ECa5TgdKZMkC"
      },
      "execution_count": 10,
      "outputs": []
    },
    {
      "cell_type": "code",
      "source": [
        "print(\"Confusion Matrix of Hybrid RF-RNN Model\") \n",
        "conf_mat(np.argmax(y_test, axis=1), y_pred)"
      ],
      "metadata": {
        "colab": {
          "base_uri": "https://localhost:8080/",
          "height": 568
        },
        "id": "huJ-hHrXZQfs",
        "outputId": "051b080f-8a38-4491-92c9-5b734f69fffa"
      },
      "execution_count": 11,
      "outputs": [
        {
          "output_type": "stream",
          "name": "stdout",
          "text": [
            "Confusion Matrix of Hybrid RF-RNN Model\n"
          ]
        },
        {
          "output_type": "display_data",
          "data": {
            "text/plain": [
              "<Figure size 600x550 with 2 Axes>"
            ],
            "image/png": "[encoded data removed]"
          },
          "metadata": {}
        }
      ]
    },
    {
      "cell_type": "code",
      "source": [
        "report = classification_report(np.argmax(y_test, axis=1), y_pred, output_dict=True)\n",
        "detection_rates = {}\n",
        "for cls in range(4):\n",
        "    detection_rates[encoder.inverse_transform([cls])[0]] = report[str(cls)]['recall']\n",
        "print(\"Detection rates:\", detection_rates)"
      ],
      "metadata": {
        "colab": {
          "base_uri": "https://localhost:8080/"
        },
        "id": "9lUsOJP4ZSR0",
        "outputId": "48386c35-e6b2-4745-8fb2-f2e5047b8888"
      },
      "execution_count": 12,
      "outputs": [
        {
          "output_type": "stream",
          "name": "stdout",
          "text": [
            "Detection rates: {0: 0.9999047619047619, 1: 0.8776496555923431, 2: 0.9665239318679227, 3: 0.9996013818761627}\n"
          ]
        }
      ]
    }
  ]
}