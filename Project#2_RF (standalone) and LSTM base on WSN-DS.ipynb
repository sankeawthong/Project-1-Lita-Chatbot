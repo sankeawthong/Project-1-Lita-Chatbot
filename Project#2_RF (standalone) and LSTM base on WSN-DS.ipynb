{
  "nbformat": 4,
  "nbformat_minor": 0,
  "metadata": {
    "colab": {
      "provenance": [],
      "authorship_tag": "ABX9TyM5FdsyYN4YDTkN4G4hQU5W",
      "include_colab_link": true
    },
    "kernelspec": {
      "name": "python3",
      "display_name": "Python 3"
    },
    "language_info": {
      "name": "python"
    }
  },
  "cells": [
    {
      "cell_type": "markdown",
      "metadata": {
        "id": "view-in-github",
        "colab_type": "text"
      },
      "source": [
        "<a href=\"https://colab.research.google.com/github/sankeawthong/Project-1-Lita-Chatbot/blob/main/Project%232_RF%20(standalone)%20and%20LSTM%20base%20on%20WSN-DS.ipynb\" target=\"_parent\"><img src=\"https://colab.research.google.com/assets/colab-badge.svg\" alt=\"Open In Colab\"/></a>"
      ]
    },
    {
      "cell_type": "code",
      "execution_count": 1,
      "metadata": {
        "id": "8uIEYY4Bna-p"
      },
      "outputs": [],
      "source": [
        "import pandas as pd\n",
        "import numpy as np"
      ]
    },
    {
      "cell_type": "code",
      "source": [
        "dataset = pd.read_csv(\"dataset_WSN-DS.csv\")\n",
        "dataset.shape\n",
        "dataset.isnull().sum()"
      ],
      "metadata": {
        "colab": {
          "base_uri": "https://localhost:8080/"
        },
        "id": "b-Fm2BwlouK1",
        "outputId": "5c9ff9b6-83cb-4511-baa1-e5c419b1674a"
      },
      "execution_count": 2,
      "outputs": [
        {
          "output_type": "execute_result",
          "data": {
            "text/plain": [
              " id                 0\n",
              " Time               0\n",
              " Is_CH              0\n",
              " who CH             0\n",
              " Dist_To_CH         0\n",
              " ADV_S              0\n",
              " ADV_R              0\n",
              " JOIN_S             0\n",
              " JOIN_R             0\n",
              " SCH_S              0\n",
              " SCH_R              0\n",
              "Rank                0\n",
              " DATA_S             0\n",
              " DATA_R             0\n",
              " Data_Sent_To_BS    0\n",
              " dist_CH_To_BS      0\n",
              " send_code          0\n",
              "Expaned Energy      0\n",
              "Class               0\n",
              "dtype: int64"
            ]
          },
          "metadata": {},
          "execution_count": 2
        }
      ]
    },
    {
      "cell_type": "code",
      "source": [
        "dataset.info()"
      ],
      "metadata": {
        "colab": {
          "base_uri": "https://localhost:8080/"
        },
        "id": "DhooxTNfovLz",
        "outputId": "13258473-f717-4770-c1df-ed8ca4bba56f"
      },
      "execution_count": 3,
      "outputs": [
        {
          "output_type": "stream",
          "name": "stdout",
          "text": [
            "<class 'pandas.core.frame.DataFrame'>\n",
            "RangeIndex: 374661 entries, 0 to 374660\n",
            "Data columns (total 19 columns):\n",
            " #   Column            Non-Null Count   Dtype  \n",
            "---  ------            --------------   -----  \n",
            " 0    id               374661 non-null  int64  \n",
            " 1    Time             374661 non-null  int64  \n",
            " 2    Is_CH            374661 non-null  int64  \n",
            " 3    who CH           374661 non-null  int64  \n",
            " 4    Dist_To_CH       374661 non-null  float64\n",
            " 5    ADV_S            374661 non-null  int64  \n",
            " 6    ADV_R            374661 non-null  int64  \n",
            " 7    JOIN_S           374661 non-null  int64  \n",
            " 8    JOIN_R           374661 non-null  int64  \n",
            " 9    SCH_S            374661 non-null  int64  \n",
            " 10   SCH_R            374661 non-null  int64  \n",
            " 11  Rank              374661 non-null  int64  \n",
            " 12   DATA_S           374661 non-null  int64  \n",
            " 13   DATA_R           374661 non-null  int64  \n",
            " 14   Data_Sent_To_BS  374661 non-null  int64  \n",
            " 15   dist_CH_To_BS    374661 non-null  float64\n",
            " 16   send_code        374661 non-null  int64  \n",
            " 17  Expaned Energy    374661 non-null  float64\n",
            " 18  Class             374661 non-null  int64  \n",
            "dtypes: float64(3), int64(16)\n",
            "memory usage: 54.3 MB\n"
          ]
        }
      ]
    },
    {
      "cell_type": "code",
      "source": [
        "dataset[\"Class\"].unique()"
      ],
      "metadata": {
        "colab": {
          "base_uri": "https://localhost:8080/"
        },
        "id": "_mGkkJn7oxpA",
        "outputId": "731575a5-6efd-427f-abeb-7b46d11eff34"
      },
      "execution_count": 4,
      "outputs": [
        {
          "output_type": "execute_result",
          "data": {
            "text/plain": [
              "array([0, 4, 3, 1, 2])"
            ]
          },
          "metadata": {},
          "execution_count": 4
        }
      ]
    },
    {
      "cell_type": "code",
      "source": [
        "#Installing imblearn\n",
        "!pip install -U imbalanced-learn\n",
        "!pip install imbalanced-learn"
      ],
      "metadata": {
        "colab": {
          "base_uri": "https://localhost:8080/"
        },
        "id": "Q1WloBRDo1JV",
        "outputId": "4ddf3d39-fc5b-4733-82b8-1c171b986a76"
      },
      "execution_count": 5,
      "outputs": [
        {
          "output_type": "stream",
          "name": "stdout",
          "text": [
            "Looking in indexes: https://pypi.org/simple, https://us-python.pkg.dev/colab-wheels/public/simple/\n",
            "Requirement already satisfied: imbalanced-learn in /usr/local/lib/python3.10/dist-packages (0.10.1)\n",
            "Requirement already satisfied: scipy>=1.3.2 in /usr/local/lib/python3.10/dist-packages (from imbalanced-learn) (1.10.1)\n",
            "Requirement already satisfied: joblib>=1.1.1 in /usr/local/lib/python3.10/dist-packages (from imbalanced-learn) (1.2.0)\n",
            "Requirement already satisfied: threadpoolctl>=2.0.0 in /usr/local/lib/python3.10/dist-packages (from imbalanced-learn) (3.1.0)\n",
            "Requirement already satisfied: scikit-learn>=1.0.2 in /usr/local/lib/python3.10/dist-packages (from imbalanced-learn) (1.2.2)\n",
            "Requirement already satisfied: numpy>=1.17.3 in /usr/local/lib/python3.10/dist-packages (from imbalanced-learn) (1.22.4)\n",
            "Looking in indexes: https://pypi.org/simple, https://us-python.pkg.dev/colab-wheels/public/simple/\n",
            "Requirement already satisfied: imbalanced-learn in /usr/local/lib/python3.10/dist-packages (0.10.1)\n",
            "Requirement already satisfied: threadpoolctl>=2.0.0 in /usr/local/lib/python3.10/dist-packages (from imbalanced-learn) (3.1.0)\n",
            "Requirement already satisfied: scikit-learn>=1.0.2 in /usr/local/lib/python3.10/dist-packages (from imbalanced-learn) (1.2.2)\n",
            "Requirement already satisfied: numpy>=1.17.3 in /usr/local/lib/python3.10/dist-packages (from imbalanced-learn) (1.22.4)\n",
            "Requirement already satisfied: scipy>=1.3.2 in /usr/local/lib/python3.10/dist-packages (from imbalanced-learn) (1.10.1)\n",
            "Requirement already satisfied: joblib>=1.1.1 in /usr/local/lib/python3.10/dist-packages (from imbalanced-learn) (1.2.0)\n"
          ]
        }
      ]
    },
    {
      "cell_type": "code",
      "source": [
        "# check version number\n",
        "import imblearn\n",
        "print(imblearn.__version__)"
      ],
      "metadata": {
        "colab": {
          "base_uri": "https://localhost:8080/"
        },
        "id": "scGExPH2o2y_",
        "outputId": "f8395f0e-c4ab-4774-9b53-84cd53714050"
      },
      "execution_count": 6,
      "outputs": [
        {
          "output_type": "stream",
          "name": "stdout",
          "text": [
            "0.10.1\n"
          ]
        }
      ]
    },
    {
      "cell_type": "markdown",
      "source": [
        "### **Data Preprocessing**"
      ],
      "metadata": {
        "id": "8nrwtaNjuwmL"
      }
    },
    {
      "cell_type": "code",
      "source": [
        "# Data preprocessing\n",
        "y = dataset['Class'].values\n",
        "X = dataset.drop(['Class'],axis=1)\n",
        "X=X.values\n",
        "print(X)\n",
        "print(y)"
      ],
      "metadata": {
        "colab": {
          "base_uri": "https://localhost:8080/"
        },
        "id": "cRzXOzBqo4E6",
        "outputId": "6b55b96f-8412-4680-a302-59ee53a7d4c2"
      },
      "execution_count": 7,
      "outputs": [
        {
          "output_type": "stream",
          "name": "stdout",
          "text": [
            "[[1.0100000e+05 5.0000000e+01 1.0000000e+00 ... 1.3008535e+02\n",
            "  0.0000000e+00 2.4694000e+00]\n",
            " [1.0100100e+05 5.0000000e+01 0.0000000e+00 ... 0.0000000e+00\n",
            "  4.0000000e+00 6.9570000e-02]\n",
            " [1.0100200e+05 5.0000000e+01 0.0000000e+00 ... 0.0000000e+00\n",
            "  3.0000000e+00 6.8980000e-02]\n",
            " ...\n",
            " [2.0109800e+05 1.0030000e+03 0.0000000e+00 ... 1.3926438e+02\n",
            "  1.0000000e+00 9.4370000e-02]\n",
            " [2.0109900e+05 1.0030000e+03 0.0000000e+00 ... 1.5827492e+02\n",
            "  3.0000000e+00 1.6047000e-01]\n",
            " [2.0204100e+05 1.0250000e+03 0.0000000e+00 ... 1.1500407e+02\n",
            "  0.0000000e+00 1.0132500e+00]]\n",
            "[0 0 0 ... 0 0 0]\n"
          ]
        }
      ]
    },
    {
      "cell_type": "code",
      "source": [
        "import collections as c\n",
        "counter = c.Counter(y)\n",
        "print(counter)"
      ],
      "metadata": {
        "colab": {
          "base_uri": "https://localhost:8080/"
        },
        "id": "UcdQMxK5o5RV",
        "outputId": "a1f5ad61-73bc-4abb-9af5-cc020f401af9"
      },
      "execution_count": 8,
      "outputs": [
        {
          "output_type": "stream",
          "name": "stdout",
          "text": [
            "Counter({0: 340066, 1: 14596, 2: 10049, 3: 6638, 4: 3312})\n"
          ]
        }
      ]
    },
    {
      "cell_type": "code",
      "source": [
        "from imblearn.over_sampling import SMOTE\n",
        "oversample = SMOTE()\n",
        "X, y = oversample.fit_resample(X, y)\n",
        "counter = c.Counter(y)\n",
        "print(counter)"
      ],
      "metadata": {
        "colab": {
          "base_uri": "https://localhost:8080/"
        },
        "id": "_tW80QJyo6ad",
        "outputId": "b98208cf-0e70-456d-91a6-616afd92708e"
      },
      "execution_count": 9,
      "outputs": [
        {
          "output_type": "stream",
          "name": "stdout",
          "text": [
            "Counter({0: 340066, 4: 340066, 3: 340066, 1: 340066, 2: 340066})\n"
          ]
        }
      ]
    },
    {
      "cell_type": "code",
      "source": [
        "from sklearn.model_selection import train_test_split    \n",
        "X_train, X_test, y_train, y_test = train_test_split(X, y, test_size=0.2, random_state=101)"
      ],
      "metadata": {
        "id": "5imkn456pyge"
      },
      "execution_count": 11,
      "outputs": []
    },
    {
      "cell_type": "markdown",
      "source": [
        "### **Random Forest (RF) for 5 class classifications**"
      ],
      "metadata": {
        "id": "0awQgWiGuhw2"
      }
    },
    {
      "cell_type": "code",
      "source": [
        "from sklearn.ensemble import RandomForestClassifier\n",
        "rf = RandomForestClassifier(n_estimators=30, max_depth=9)\n",
        "rf.fit(X_train, y_train)\n",
        "y_test_prediction = rf.predict(X_test)"
      ],
      "metadata": {
        "id": "Qx-CN2ZIo9jc"
      },
      "execution_count": 12,
      "outputs": []
    },
    {
      "cell_type": "code",
      "source": [
        "import seaborn as sns\n",
        "import matplotlib.pyplot as plt\n",
        "import numpy as np\n",
        "import itertools\n",
        "import seaborn as sns\n",
        "from sklearn import metrics \n",
        "import matplotlib.pyplot as plt\n",
        "from sklearn.metrics import confusion_matrix\n",
        "def conf_mat(d1,d2):\n",
        "  cm = confusion_matrix(d1, d2)\n",
        "  plt.figure(figsize=(6,5.5))\n",
        "  ax = sns.heatmap(cm,  fmt='2', annot=True, cmap='PuBuGn')\n",
        "  sns.set(font_scale=1)\n",
        "  ax.set_xlabel('\\nPredicted Values')\n",
        "  ax.set_ylabel('Actual Values\\n');\n",
        "  ax.xaxis.set_ticklabels(['Normal','Blackhole','Flooding','Grayhole','TDMA'])\n",
        "  ax.yaxis.set_ticklabels(['Normal','Blackhole','Flooding','Grayhole','TDMA'])\n",
        "  plt.tight_layout()\n",
        "  # plt.savefig(\"F1.eps\", format = 'eps')\n",
        "  plt.show()"
      ],
      "metadata": {
        "id": "jwP_0r2TpA9M"
      },
      "execution_count": 13,
      "outputs": []
    },
    {
      "cell_type": "code",
      "source": [
        "print(\"Confusion Matrix of Random Forest\") \n",
        "conf_mat(y_test, y_test_prediction)"
      ],
      "metadata": {
        "colab": {
          "base_uri": "https://localhost:8080/",
          "height": 568
        },
        "id": "AC13tRv2pDB_",
        "outputId": "8a2c5953-6d35-46cc-e451-ad65fec7193b"
      },
      "execution_count": 14,
      "outputs": [
        {
          "output_type": "stream",
          "name": "stdout",
          "text": [
            "Confusion Matrix of Random Forest\n"
          ]
        },
        {
          "output_type": "display_data",
          "data": {
            "text/plain": [
              "<Figure size 600x550 with 2 Axes>"
            ],
            "image/png": "[encoded data removed]"
          },
          "metadata": {}
        }
      ]
    },
    {
      "cell_type": "code",
      "source": [
        "from sklearn.metrics import precision_recall_fscore_support, accuracy_score, precision_score, recall_score, f1_score\n",
        "def performance(model,y1, y2):\n",
        "  print(\"Model Name is :\",model)\n",
        "  acc=(metrics.accuracy_score(y1, y2,sample_weight=None)*100)\n",
        "  print(\"Accuracy :\",acc)\n",
        "  pre=(precision_score(y1, y2, average='weighted', sample_weight=None)*100)\n",
        "  print(\"Precision :\",pre)\n",
        "  rec=(recall_score(y1,y2,average='weighted',sample_weight=None)*100)\n",
        "  print(\"Recall :\",rec)\n",
        "  f1=(f1_score(y1,y2, average='weighted', sample_weight=None))\n",
        "  print(\"F1-Score :\",f1)"
      ],
      "metadata": {
        "id": "m92dQSH_pE5H"
      },
      "execution_count": 15,
      "outputs": []
    },
    {
      "cell_type": "code",
      "source": [
        "performance(\"Random Forest\",y_test, y_test_prediction)"
      ],
      "metadata": {
        "colab": {
          "base_uri": "https://localhost:8080/"
        },
        "id": "y2dB62OXpHPB",
        "outputId": "62a8fbeb-02a3-4be4-b748-2b7286954ac5"
      },
      "execution_count": 16,
      "outputs": [
        {
          "output_type": "stream",
          "name": "stdout",
          "text": [
            "Model Name is : Random Forest\n",
            "Accuracy : 97.50401392670834\n",
            "Precision : 97.56603136420294\n",
            "Recall : 97.50401392670834\n",
            "F1-Score : 0.9750720378951224\n"
          ]
        }
      ]
    },
    {
      "cell_type": "code",
      "source": [
        "from sklearn.datasets import make_classification\n",
        "from sklearn.model_selection import train_test_split\n",
        "from sklearn.metrics import accuracy_score, confusion_matrix, classification_report\n",
        "\n",
        "# Confusion matrix\n",
        "cm = confusion_matrix(y_test, y_test_prediction)\n",
        "print(\"Confusion Matrix:\")\n",
        "print(cm)\n",
        "\n",
        "# Classification report\n",
        "cr = classification_report(y_test, y_test_prediction)\n",
        "print(\"Classification Report:\")\n",
        "print(cr)"
      ],
      "metadata": {
        "colab": {
          "base_uri": "https://localhost:8080/"
        },
        "id": "IDBzxanhtpxG",
        "outputId": "8ecd212a-87d5-4ca6-a4ed-07b8c692fc35"
      },
      "execution_count": 18,
      "outputs": [
        {
          "output_type": "stream",
          "name": "stdout",
          "text": [
            "Confusion Matrix:\n",
            "[[66686   925     8    40    86]\n",
            " [    0 66780  1363     1     0]\n",
            " [    0  2206 66076     0     0]\n",
            " [ 3784    66     8 64151     0]\n",
            " [    0     1     0     0 67885]]\n",
            "Classification Report:\n",
            "              precision    recall  f1-score   support\n",
            "\n",
            "           0       0.95      0.98      0.96     67745\n",
            "           1       0.95      0.98      0.97     68144\n",
            "           2       0.98      0.97      0.97     68282\n",
            "           3       1.00      0.94      0.97     68009\n",
            "           4       1.00      1.00      1.00     67886\n",
            "\n",
            "    accuracy                           0.98    340066\n",
            "   macro avg       0.98      0.98      0.98    340066\n",
            "weighted avg       0.98      0.98      0.98    340066\n",
            "\n"
          ]
        }
      ]
    },
    {
      "cell_type": "markdown",
      "source": [
        "### **LSTM for 5 classes classification**"
      ],
      "metadata": {
        "id": "1VB00MRBvG_C"
      }
    },
    {
      "cell_type": "code",
      "source": [
        "import pandas as pd\n",
        "import numpy as np\n",
        "from sklearn.preprocessing import LabelEncoder\n",
        "from tensorflow.keras.utils import to_categorical\n",
        "from sklearn.model_selection import train_test_split\n",
        "from imblearn.over_sampling import SMOTE\n",
        "from tensorflow.keras.models import Sequential\n",
        "from tensorflow.keras.layers import LSTM, Dense\n",
        "from sklearn.metrics import confusion_matrix, classification_report"
      ],
      "metadata": {
        "id": "OBCjhxKMvWnM"
      },
      "execution_count": 1,
      "outputs": []
    },
    {
      "cell_type": "code",
      "source": [
        "# Load dataset\n",
        "dataset = pd.read_csv(\"dataset_WSN-DS.csv\")"
      ],
      "metadata": {
        "id": "xKAbZujOOdia"
      },
      "execution_count": 2,
      "outputs": []
    },
    {
      "cell_type": "code",
      "source": [
        "# Preprocessing\n",
        "le = LabelEncoder()\n",
        "dataset['Class'] = le.fit_transform(dataset['Class'])\n",
        "num_classes = len(le.classes_)\n",
        "X = dataset.drop('Class', axis=1).values\n",
        "y = to_categorical(dataset['Class'].values, num_classes=num_classes)"
      ],
      "metadata": {
        "id": "gfgt8jmUOhf7"
      },
      "execution_count": 3,
      "outputs": []
    },
    {
      "cell_type": "code",
      "source": [
        "# Encode class labels\n",
        "le = LabelEncoder()\n",
        "dataset['Class'] = le.fit_transform(dataset['Class'])\n",
        "num_classes = len(le.classes_)\n",
        "\n",
        "# change num_classes to 5\n",
        "num_classes = 5\n",
        "\n",
        "# Split dataset into features and target\n",
        "X = dataset.drop('Class', axis=1).values\n",
        "y = to_categorical(dataset['Class'].values, num_classes=num_classes)"
      ],
      "metadata": {
        "id": "5sF6FqsCwSsL"
      },
      "execution_count": 4,
      "outputs": []
    },
    {
      "cell_type": "code",
      "source": [
        "from imblearn.over_sampling import SMOTE\n",
        "oversample = SMOTE()\n",
        "X, y = oversample.fit_resample(X, y)"
      ],
      "metadata": {
        "id": "YoeP4BpCPJqz"
      },
      "execution_count": 5,
      "outputs": []
    },
    {
      "cell_type": "code",
      "source": [
        "# Split dataset into train and test sets\n",
        "X_train, X_test, y_train, y_test = train_test_split(X, y, test_size=0.2, random_state=101)"
      ],
      "metadata": {
        "id": "iRCxv0pRP99y"
      },
      "execution_count": 6,
      "outputs": []
    },
    {
      "cell_type": "code",
      "source": [
        "# Reshape input data for LSTM model\n",
        "X_train = np.reshape(X_train, (X_train.shape[0], 1, X_train.shape[1]))\n",
        "X_test = np.reshape(X_test, (X_test.shape[0], 1, X_test.shape[1]))"
      ],
      "metadata": {
        "id": "-M7CVq_vP-zH"
      },
      "execution_count": 7,
      "outputs": []
    },
    {
      "cell_type": "code",
      "source": [
        "# Define LSTM model\n",
        "model = Sequential()\n",
        "model.add(LSTM(64, input_shape=(1, X_train.shape[2]), return_sequences=True))\n",
        "model.add(LSTM(32, return_sequences=False))\n",
        "model.add(Dense(num_classes, activation='softmax'))\n",
        "\n",
        "# Compile the model\n",
        "model.compile(loss='categorical_crossentropy', optimizer='adam', metrics=['accuracy'])\n",
        "\n",
        "# Train the model\n",
        "model.fit(X_train, y_train, epochs=15, batch_size=32, validation_data=(X_test, y_test))\n",
        "\n",
        "# Evaluate the model on the test set\n",
        "score = model.evaluate(X_test, y_test, batch_size=64)\n",
        "print(\"Test Loss:\", score[0])\n",
        "print(\"Test Accuracy:\", score[1])\n",
        "\n",
        "# Make predictions with the model\n",
        "predicted_classes = np.argmax(model.predict(X_test), axis=-1)\n",
        "\n",
        "# Decode class labels\n",
        "predicted_classes = le.inverse_transform(predicted_classes)\n",
        "\n",
        "# Confusion matrix\n",
        "cm = confusion_matrix(y_test.argmax(axis=1), predicted_classes)\n",
        "print(\"Confusion Matrix:\")\n",
        "print(cm)\n",
        "\n",
        "# Classification report\n",
        "cr = classification_report(y_test.argmax(axis=1), predicted_classes)\n",
        "print(\"Classification Report:\")\n",
        "print(cr)"
      ],
      "metadata": {
        "colab": {
          "base_uri": "https://localhost:8080/"
        },
        "id": "ybrT0Mfvwdx4",
        "outputId": "b5997c5c-9d4d-4a8f-8320-7e42ea65d869"
      },
      "execution_count": 8,
      "outputs": [
        {
          "output_type": "stream",
          "name": "stdout",
          "text": [
            "Epoch 1/15\n",
            "42509/42509 [==============================] - 226s 5ms/step - loss: 1.6096 - accuracy: 0.1998 - val_loss: 1.6095 - val_accuracy: 0.2000\n",
            "Epoch 2/15\n",
            "42509/42509 [==============================] - 214s 5ms/step - loss: 1.6095 - accuracy: 0.1992 - val_loss: 1.6095 - val_accuracy: 0.2000\n",
            "Epoch 3/15\n",
            "42509/42509 [==============================] - 211s 5ms/step - loss: 1.6095 - accuracy: 0.2001 - val_loss: 1.6095 - val_accuracy: 0.2004\n",
            "Epoch 4/15\n",
            "42509/42509 [==============================] - 208s 5ms/step - loss: 1.6095 - accuracy: 0.2002 - val_loss: 1.6095 - val_accuracy: 0.2008\n",
            "Epoch 5/15\n",
            "42509/42509 [==============================] - 208s 5ms/step - loss: 1.6095 - accuracy: 0.2001 - val_loss: 1.6095 - val_accuracy: 0.1992\n",
            "Epoch 6/15\n",
            "42509/42509 [==============================] - 208s 5ms/step - loss: 1.6095 - accuracy: 0.1998 - val_loss: 1.6095 - val_accuracy: 0.2004\n",
            "Epoch 7/15\n",
            "42509/42509 [==============================] - 208s 5ms/step - loss: 1.6095 - accuracy: 0.1992 - val_loss: 1.6098 - val_accuracy: 0.1992\n",
            "Epoch 8/15\n",
            "42509/42509 [==============================] - 206s 5ms/step - loss: 1.6095 - accuracy: 0.2000 - val_loss: 1.6095 - val_accuracy: 0.1996\n",
            "Epoch 9/15\n",
            "42509/42509 [==============================] - 219s 5ms/step - loss: 1.6095 - accuracy: 0.1997 - val_loss: 1.6095 - val_accuracy: 0.2004\n",
            "Epoch 10/15\n",
            "42509/42509 [==============================] - 220s 5ms/step - loss: 1.6095 - accuracy: 0.2008 - val_loss: 1.6095 - val_accuracy: 0.2004\n",
            "Epoch 11/15\n",
            "42509/42509 [==============================] - 214s 5ms/step - loss: 1.6095 - accuracy: 0.1999 - val_loss: 1.6095 - val_accuracy: 0.2004\n",
            "Epoch 12/15\n",
            "42509/42509 [==============================] - 204s 5ms/step - loss: 1.6095 - accuracy: 0.2002 - val_loss: 1.6095 - val_accuracy: 0.2008\n",
            "Epoch 13/15\n",
            "42509/42509 [==============================] - 206s 5ms/step - loss: 1.6095 - accuracy: 0.2003 - val_loss: 1.6095 - val_accuracy: 0.1992\n",
            "Epoch 14/15\n",
            "42509/42509 [==============================] - 214s 5ms/step - loss: 1.6095 - accuracy: 0.2003 - val_loss: 1.6095 - val_accuracy: 0.1996\n",
            "Epoch 15/15\n",
            "42509/42509 [==============================] - 209s 5ms/step - loss: 1.6095 - accuracy: 0.2002 - val_loss: 1.6095 - val_accuracy: 0.1996\n",
            "5314/5314 [==============================] - 12s 2ms/step - loss: 1.6095 - accuracy: 0.1996\n",
            "Test Loss: 1.6095044612884521\n",
            "Test Accuracy: 0.19962595403194427\n",
            "10628/10628 [==============================] - 22s 2ms/step\n",
            "Confusion Matrix:\n",
            "[[    0     0     0     0 67745]\n",
            " [    0     0     0     0 68144]\n",
            " [    0     0     0     0 68282]\n",
            " [    0     0     0     0 68009]\n",
            " [    0     0     0     0 67886]]\n"
          ]
        },
        {
          "output_type": "stream",
          "name": "stderr",
          "text": [
            "/usr/local/lib/python3.10/dist-packages/sklearn/metrics/_classification.py:1344: UndefinedMetricWarning: Precision and F-score are ill-defined and being set to 0.0 in labels with no predicted samples. Use `zero_division` parameter to control this behavior.\n",
            "  _warn_prf(average, modifier, msg_start, len(result))\n"
          ]
        },
        {
          "output_type": "stream",
          "name": "stdout",
          "text": [
            "Classification Report:\n",
            "              precision    recall  f1-score   support\n",
            "\n",
            "           0       0.00      0.00      0.00     67745\n",
            "           1       0.00      0.00      0.00     68144\n",
            "           2       0.00      0.00      0.00     68282\n",
            "           3       0.00      0.00      0.00     68009\n",
            "           4       0.20      1.00      0.33     67886\n",
            "\n",
            "    accuracy                           0.20    340066\n",
            "   macro avg       0.04      0.20      0.07    340066\n",
            "weighted avg       0.04      0.20      0.07    340066\n",
            "\n"
          ]
        },
        {
          "output_type": "stream",
          "name": "stderr",
          "text": [
            "/usr/local/lib/python3.10/dist-packages/sklearn/metrics/_classification.py:1344: UndefinedMetricWarning: Precision and F-score are ill-defined and being set to 0.0 in labels with no predicted samples. Use `zero_division` parameter to control this behavior.\n",
            "  _warn_prf(average, modifier, msg_start, len(result))\n",
            "/usr/local/lib/python3.10/dist-packages/sklearn/metrics/_classification.py:1344: UndefinedMetricWarning: Precision and F-score are ill-defined and being set to 0.0 in labels with no predicted samples. Use `zero_division` parameter to control this behavior.\n",
            "  _warn_prf(average, modifier, msg_start, len(result))\n"
          ]
        }
      ]
    }
  ]
}