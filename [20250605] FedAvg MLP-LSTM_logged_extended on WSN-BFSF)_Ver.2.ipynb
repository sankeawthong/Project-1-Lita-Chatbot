{
  "nbformat": 4,
  "nbformat_minor": 0,
  "metadata": {
    "colab": {
      "provenance": [],
      "machine_shape": "hm",
      "authorship_tag": "ABX9TyN8BQ4mjHjKh6Mlx6TXhj/Z",
      "include_colab_link": true
    },
    "kernelspec": {
      "name": "python3",
      "display_name": "Python 3"
    },
    "language_info": {
      "name": "python"
    }
  },
  "cells": [
    {
      "cell_type": "markdown",
      "metadata": {
        "id": "view-in-github",
        "colab_type": "text"
      },
      "source": [
        "<a href=\"https://colab.research.google.com/github/sankeawthong/Project-1-Lita-Chatbot/blob/main/%5B20250605%5D%20FedAvg%20MLP-LSTM_logged_extended%20on%20WSN-BFSF)_Ver.2.ipynb\" target=\"_parent\"><img src=\"https://colab.research.google.com/assets/colab-badge.svg\" alt=\"Open In Colab\"/></a>"
      ]
    },
    {
      "cell_type": "markdown",
      "source": [
        "***20250605 FedAvg MLP-LSTM_logged_extended on WSN-BFSF***"
      ],
      "metadata": {
        "id": "z_i7w6p00buK"
      }
    },
    {
      "cell_type": "code",
      "execution_count": null,
      "metadata": {
        "id": "VErWuOO20Qs9"
      },
      "outputs": [],
      "source": [
        "import pandas as pd\n",
        "import numpy as np\n",
        "import time\n",
        "from sklearn.preprocessing import LabelEncoder, StandardScaler\n",
        "from sklearn.model_selection import train_test_split\n",
        "from sklearn.metrics import accuracy_score, precision_score, recall_score, f1_score, classification_report, confusion_matrix, roc_auc_score\n",
        "from keras.models import Sequential\n",
        "from keras.layers import Dense, Dropout, LSTM, InputLayer\n",
        "from keras.utils import to_categorical\n",
        "from imblearn.over_sampling import SMOTE\n",
        "import matplotlib.pyplot as plt\n",
        "# --- Imports ---------------------------------------------------------------\n",
        "import numpy as np, time, tensorflow as tf"
      ]
    },
    {
      "cell_type": "code",
      "source": [
        "!pip install imbalanced-learn"
      ],
      "metadata": {
        "colab": {
          "base_uri": "https://localhost:8080/"
        },
        "id": "XaRAdW0n0e2c",
        "outputId": "962fe4c7-3add-4888-d9c8-071bc538882f"
      },
      "execution_count": null,
      "outputs": [
        {
          "output_type": "stream",
          "name": "stdout",
          "text": [
            "Requirement already satisfied: imbalanced-learn in /usr/local/lib/python3.11/dist-packages (0.13.0)\n",
            "Requirement already satisfied: numpy<3,>=1.24.3 in /usr/local/lib/python3.11/dist-packages (from imbalanced-learn) (2.0.2)\n",
            "Requirement already satisfied: scipy<2,>=1.10.1 in /usr/local/lib/python3.11/dist-packages (from imbalanced-learn) (1.15.3)\n",
            "Requirement already satisfied: scikit-learn<2,>=1.3.2 in /usr/local/lib/python3.11/dist-packages (from imbalanced-learn) (1.6.1)\n",
            "Requirement already satisfied: sklearn-compat<1,>=0.1 in /usr/local/lib/python3.11/dist-packages (from imbalanced-learn) (0.1.3)\n",
            "Requirement already satisfied: joblib<2,>=1.1.1 in /usr/local/lib/python3.11/dist-packages (from imbalanced-learn) (1.5.1)\n",
            "Requirement already satisfied: threadpoolctl<4,>=2.0.0 in /usr/local/lib/python3.11/dist-packages (from imbalanced-learn) (3.6.0)\n"
          ]
        }
      ]
    },
    {
      "cell_type": "code",
      "source": [
        "# ----------------------------\n",
        "# Preprocessing and Partitioning\n",
        "# ----------------------------\n",
        "df = pd.read_csv(\"dataset.csv\").dropna()\n",
        "for col in df.columns:\n",
        "    if df[col].dtype == 'object':\n",
        "        df[col] = LabelEncoder().fit_transform(df[col])\n",
        "\n",
        "X, y = df.drop('Class', axis=1), df['Class']\n",
        "X = StandardScaler().fit_transform(X)\n",
        "X, y = SMOTE(random_state=42).fit_resample(X, y)\n",
        "X_train, X_test, y_train, y_test = train_test_split(X, y, test_size=0.2, random_state=101, stratify=y)"
      ],
      "metadata": {
        "id": "asXYgrR50ezm"
      },
      "execution_count": null,
      "outputs": []
    },
    {
      "cell_type": "code",
      "source": [
        "# --- Federated parameters ---------------------------------------------------\n",
        "NUM_CLIENTS = 5\n",
        "ROUNDS       = 30\n",
        "LOCAL_EPOCHS = 1\n",
        "BATCH_SIZE   = 32\n",
        "\n",
        "# --- Data -------------------------------------------------------------------\n",
        "# X_train: (N, T, 1)  | y_train: (N,)\n",
        "# Make sure X_train is already 3-D!\n",
        "client_X = np.array_split(X_train, NUM_CLIENTS, axis=0)\n",
        "client_y = np.array_split(y_train, NUM_CLIENTS, axis=0)\n",
        "\n",
        "X_test   = X_test.reshape(X_test.shape[0], X_test.shape[1], 1)\n",
        "y_test_ohe = to_categorical(y_test)\n",
        "NUM_CLASSES = y_test_ohe.shape[1]\n",
        "INPUT_SHAPE = (X_test.shape[1], 1)"
      ],
      "metadata": {
        "colab": {
          "base_uri": "https://localhost:8080/"
        },
        "id": "3i_Ry-0U0exF",
        "outputId": "cb656211-687b-49d2-9396-4ed341303e62"
      },
      "execution_count": null,
      "outputs": [
        {
          "output_type": "stream",
          "name": "stderr",
          "text": [
            "/usr/local/lib/python3.11/dist-packages/numpy/_core/fromnumeric.py:57: FutureWarning: 'Series.swapaxes' is deprecated and will be removed in a future version. Please use 'Series.transpose' instead.\n",
            "  return bound(*args, **kwds)\n"
          ]
        }
      ]
    },
    {
      "cell_type": "code",
      "source": [
        "# --- Model builder ----------------------------------------------------------\n",
        "def build_model(input_shape=INPUT_SHAPE, num_classes=NUM_CLASSES,\n",
        "                lstm_units=64, dense_units=(128, 64), drop=0.30):\n",
        "    model = Sequential([InputLayer(input_shape=input_shape),\n",
        "                        LSTM(lstm_units, activation='tanh')])\n",
        "    for u in dense_units:\n",
        "        model.add(Dense(u, activation='relu'))\n",
        "        model.add(Dropout(drop))\n",
        "    model.add(Dense(num_classes, activation='softmax'))\n",
        "    model.compile(optimizer='adam',\n",
        "                  loss='categorical_crossentropy',\n",
        "                  metrics=['accuracy'])\n",
        "    return model\n",
        "\n",
        "# --- Resource profile (lightweight) ----------------------------------------\n",
        "global_model = build_model()\n",
        "tot_params   = global_model.count_params()\n",
        "model_sizeMB = round((tot_params * 4) / 2**20, 2)      # 4 bytes / param\n",
        "COMM_MB_UP   = model_sizeMB * NUM_CLIENTS              # uplink only\n",
        "\n",
        "print(f\"[Profile] Params={tot_params:,}  Size={model_sizeMB} MB\")\n",
        "\n",
        "# --- Federated loop ---------------------------------------------------------\n",
        "global_weights = global_model.get_weights()\n",
        "history = []\n",
        "\n",
        "for r in range(1, ROUNDS + 1):\n",
        "    t0 = time.time()\n",
        "    client_weights, client_sizes = [], []\n",
        "\n",
        "    # -------- local training --------\n",
        "    for Xi, yi in zip(client_X, client_y):\n",
        "        local = build_model()\n",
        "        local.set_weights(global_weights)\n",
        "        local.fit(Xi, to_categorical(yi, NUM_CLASSES),\n",
        "                  epochs=LOCAL_EPOCHS,\n",
        "                  batch_size=BATCH_SIZE,\n",
        "                  verbose=0)\n",
        "        client_weights.append(local.get_weights())\n",
        "        client_sizes.append(len(yi))\n",
        "\n",
        "    # -------- FedAvg aggregation ----\n",
        "    total_samples = sum(client_sizes)\n",
        "    new_weights = []\n",
        "    for layer in range(len(global_weights)):\n",
        "        layer_updates = np.array([\n",
        "            (n / total_samples) * w[layer]\n",
        "            for w, n in zip(client_weights, client_sizes)\n",
        "        ])\n",
        "        new_weights.append(np.sum(layer_updates, axis=0))\n",
        "    global_weights = new_weights\n",
        "    global_model.set_weights(global_weights)\n",
        "\n",
        "    # -------- Evaluation ------------\n",
        "    y_prob = global_model.predict(X_test, verbose=0)\n",
        "    y_pred = np.argmax(y_prob, axis=1)\n",
        "    y_true = np.argmax(y_test_ohe, axis=1)\n",
        "\n",
        "    metrics = dict(\n",
        "        Round=r,\n",
        "        Accuracy=accuracy_score(y_true, y_pred),\n",
        "        Precision=precision_score(y_true, y_pred, average='weighted'),\n",
        "        Recall=recall_score(y_true, y_pred, average='weighted'),\n",
        "        F1=f1_score(y_true, y_pred, average='weighted'),\n",
        "        AUC=roc_auc_score(y_test_ohe, y_prob, multi_class='ovr',\n",
        "                          average='weighted'),\n",
        "        Time_s=round(time.time() - t0, 2),\n",
        "        Comm_MB=COMM_MB_UP           # add +downlink if desired\n",
        "    )\n",
        "    history.append(metrics)\n",
        "    print(f\"Round {r:02d}: acc={metrics['Accuracy']:.8f} \"\n",
        "          f\"F1={metrics['F1']:.8f}  comm={metrics['Comm_MB']} MB\")\n",
        "\n",
        "# history is a list of dicts ready for a Pandas DataFrame"
      ],
      "metadata": {
        "colab": {
          "base_uri": "https://localhost:8080/"
        },
        "id": "BhUa7d_E0j0F",
        "outputId": "123a4871-32c6-4152-e3fa-0be3e80d4ba2"
      },
      "execution_count": null,
      "outputs": [
        {
          "output_type": "stream",
          "name": "stderr",
          "text": [
            "/usr/local/lib/python3.11/dist-packages/keras/src/layers/core/input_layer.py:27: UserWarning: Argument `input_shape` is deprecated. Use `shape` instead.\n",
            "  warnings.warn(\n"
          ]
        },
        {
          "output_type": "stream",
          "name": "stdout",
          "text": [
            "[Profile] Params=33,732  Size=0.13 MB\n",
            "Round 01: acc=0.72720312 F1=0.72069752  comm=0.65 MB\n"
          ]
        },
        {
          "output_type": "stream",
          "name": "stderr",
          "text": [
            "/usr/local/lib/python3.11/dist-packages/keras/src/layers/core/input_layer.py:27: UserWarning: Argument `input_shape` is deprecated. Use `shape` instead.\n",
            "  warnings.warn(\n"
          ]
        },
        {
          "output_type": "stream",
          "name": "stdout",
          "text": [
            "Round 02: acc=0.89882586 F1=0.89580256  comm=0.65 MB\n"
          ]
        },
        {
          "output_type": "stream",
          "name": "stderr",
          "text": [
            "/usr/local/lib/python3.11/dist-packages/keras/src/layers/core/input_layer.py:27: UserWarning: Argument `input_shape` is deprecated. Use `shape` instead.\n",
            "  warnings.warn(\n"
          ]
        },
        {
          "output_type": "stream",
          "name": "stdout",
          "text": [
            "Round 03: acc=0.90703392 F1=0.90493488  comm=0.65 MB\n"
          ]
        },
        {
          "output_type": "stream",
          "name": "stderr",
          "text": [
            "/usr/local/lib/python3.11/dist-packages/keras/src/layers/core/input_layer.py:27: UserWarning: Argument `input_shape` is deprecated. Use `shape` instead.\n",
            "  warnings.warn(\n"
          ]
        },
        {
          "output_type": "stream",
          "name": "stdout",
          "text": [
            "Round 04: acc=0.91737722 F1=0.91577562  comm=0.65 MB\n"
          ]
        },
        {
          "output_type": "stream",
          "name": "stderr",
          "text": [
            "/usr/local/lib/python3.11/dist-packages/keras/src/layers/core/input_layer.py:27: UserWarning: Argument `input_shape` is deprecated. Use `shape` instead.\n",
            "  warnings.warn(\n"
          ]
        },
        {
          "output_type": "stream",
          "name": "stdout",
          "text": [
            "Round 05: acc=0.91646892 F1=0.91499060  comm=0.65 MB\n"
          ]
        },
        {
          "output_type": "stream",
          "name": "stderr",
          "text": [
            "/usr/local/lib/python3.11/dist-packages/keras/src/layers/core/input_layer.py:27: UserWarning: Argument `input_shape` is deprecated. Use `shape` instead.\n",
            "  warnings.warn(\n"
          ]
        },
        {
          "output_type": "stream",
          "name": "stdout",
          "text": [
            "Round 06: acc=0.92108655 F1=0.92016410  comm=0.65 MB\n"
          ]
        },
        {
          "output_type": "stream",
          "name": "stderr",
          "text": [
            "/usr/local/lib/python3.11/dist-packages/keras/src/layers/core/input_layer.py:27: UserWarning: Argument `input_shape` is deprecated. Use `shape` instead.\n",
            "  warnings.warn(\n"
          ]
        },
        {
          "output_type": "stream",
          "name": "stdout",
          "text": [
            "Round 07: acc=0.93126340 F1=0.93038754  comm=0.65 MB\n"
          ]
        },
        {
          "output_type": "stream",
          "name": "stderr",
          "text": [
            "/usr/local/lib/python3.11/dist-packages/keras/src/layers/core/input_layer.py:27: UserWarning: Argument `input_shape` is deprecated. Use `shape` instead.\n",
            "  warnings.warn(\n"
          ]
        },
        {
          "output_type": "stream",
          "name": "stdout",
          "text": [
            "Round 08: acc=0.93678934 F1=0.93614757  comm=0.65 MB\n"
          ]
        },
        {
          "output_type": "stream",
          "name": "stderr",
          "text": [
            "/usr/local/lib/python3.11/dist-packages/keras/src/layers/core/input_layer.py:27: UserWarning: Argument `input_shape` is deprecated. Use `shape` instead.\n",
            "  warnings.warn(\n"
          ]
        },
        {
          "output_type": "stream",
          "name": "stdout",
          "text": [
            "Round 09: acc=0.94703754 F1=0.94662367  comm=0.65 MB\n"
          ]
        },
        {
          "output_type": "stream",
          "name": "stderr",
          "text": [
            "/usr/local/lib/python3.11/dist-packages/keras/src/layers/core/input_layer.py:27: UserWarning: Argument `input_shape` is deprecated. Use `shape` instead.\n",
            "  warnings.warn(\n"
          ]
        },
        {
          "output_type": "stream",
          "name": "stdout",
          "text": [
            "Round 10: acc=0.94976246 F1=0.94953505  comm=0.65 MB\n"
          ]
        },
        {
          "output_type": "stream",
          "name": "stderr",
          "text": [
            "/usr/local/lib/python3.11/dist-packages/keras/src/layers/core/input_layer.py:27: UserWarning: Argument `input_shape` is deprecated. Use `shape` instead.\n",
            "  warnings.warn(\n"
          ]
        },
        {
          "output_type": "stream",
          "name": "stdout",
          "text": [
            "Round 11: acc=0.94993842 F1=0.94970717  comm=0.65 MB\n"
          ]
        },
        {
          "output_type": "stream",
          "name": "stderr",
          "text": [
            "/usr/local/lib/python3.11/dist-packages/keras/src/layers/core/input_layer.py:27: UserWarning: Argument `input_shape` is deprecated. Use `shape` instead.\n",
            "  warnings.warn(\n"
          ]
        },
        {
          "output_type": "stream",
          "name": "stdout",
          "text": [
            "Round 12: acc=0.94997646 F1=0.94965608  comm=0.65 MB\n"
          ]
        },
        {
          "output_type": "stream",
          "name": "stderr",
          "text": [
            "/usr/local/lib/python3.11/dist-packages/keras/src/layers/core/input_layer.py:27: UserWarning: Argument `input_shape` is deprecated. Use `shape` instead.\n",
            "  warnings.warn(\n"
          ]
        },
        {
          "output_type": "stream",
          "name": "stdout",
          "text": [
            "Round 13: acc=0.95675786 F1=0.95656873  comm=0.65 MB\n"
          ]
        },
        {
          "output_type": "stream",
          "name": "stderr",
          "text": [
            "/usr/local/lib/python3.11/dist-packages/keras/src/layers/core/input_layer.py:27: UserWarning: Argument `input_shape` is deprecated. Use `shape` instead.\n",
            "  warnings.warn(\n"
          ]
        },
        {
          "output_type": "stream",
          "name": "stdout",
          "text": [
            "Round 14: acc=0.95326729 F1=0.95312285  comm=0.65 MB\n"
          ]
        },
        {
          "output_type": "stream",
          "name": "stderr",
          "text": [
            "/usr/local/lib/python3.11/dist-packages/keras/src/layers/core/input_layer.py:27: UserWarning: Argument `input_shape` is deprecated. Use `shape` instead.\n",
            "  warnings.warn(\n"
          ]
        },
        {
          "output_type": "stream",
          "name": "stdout",
          "text": [
            "Round 15: acc=0.95410427 F1=0.95401469  comm=0.65 MB\n"
          ]
        },
        {
          "output_type": "stream",
          "name": "stderr",
          "text": [
            "/usr/local/lib/python3.11/dist-packages/keras/src/layers/core/input_layer.py:27: UserWarning: Argument `input_shape` is deprecated. Use `shape` instead.\n",
            "  warnings.warn(\n"
          ]
        },
        {
          "output_type": "stream",
          "name": "stdout",
          "text": [
            "Round 16: acc=0.96109492 F1=0.96095958  comm=0.65 MB\n"
          ]
        },
        {
          "output_type": "stream",
          "name": "stderr",
          "text": [
            "/usr/local/lib/python3.11/dist-packages/keras/src/layers/core/input_layer.py:27: UserWarning: Argument `input_shape` is deprecated. Use `shape` instead.\n",
            "  warnings.warn(\n"
          ]
        },
        {
          "output_type": "stream",
          "name": "stdout",
          "text": [
            "Round 17: acc=0.96185105 F1=0.96174760  comm=0.65 MB\n"
          ]
        },
        {
          "output_type": "stream",
          "name": "stderr",
          "text": [
            "/usr/local/lib/python3.11/dist-packages/keras/src/layers/core/input_layer.py:27: UserWarning: Argument `input_shape` is deprecated. Use `shape` instead.\n",
            "  warnings.warn(\n"
          ]
        },
        {
          "output_type": "stream",
          "name": "stdout",
          "text": [
            "Round 18: acc=0.96328722 F1=0.96318955  comm=0.65 MB\n"
          ]
        },
        {
          "output_type": "stream",
          "name": "stderr",
          "text": [
            "/usr/local/lib/python3.11/dist-packages/keras/src/layers/core/input_layer.py:27: UserWarning: Argument `input_shape` is deprecated. Use `shape` instead.\n",
            "  warnings.warn(\n"
          ]
        },
        {
          "output_type": "stream",
          "name": "stdout",
          "text": [
            "Round 19: acc=0.96446659 F1=0.96433432  comm=0.65 MB\n"
          ]
        },
        {
          "output_type": "stream",
          "name": "stderr",
          "text": [
            "/usr/local/lib/python3.11/dist-packages/keras/src/layers/core/input_layer.py:27: UserWarning: Argument `input_shape` is deprecated. Use `shape` instead.\n",
            "  warnings.warn(\n"
          ]
        },
        {
          "output_type": "stream",
          "name": "stdout",
          "text": [
            "Round 20: acc=0.96507530 F1=0.96494682  comm=0.65 MB\n"
          ]
        },
        {
          "output_type": "stream",
          "name": "stderr",
          "text": [
            "/usr/local/lib/python3.11/dist-packages/keras/src/layers/core/input_layer.py:27: UserWarning: Argument `input_shape` is deprecated. Use `shape` instead.\n",
            "  warnings.warn(\n"
          ]
        },
        {
          "output_type": "stream",
          "name": "stdout",
          "text": [
            "Round 21: acc=0.96789534 F1=0.96783136  comm=0.65 MB\n"
          ]
        },
        {
          "output_type": "stream",
          "name": "stderr",
          "text": [
            "/usr/local/lib/python3.11/dist-packages/keras/src/layers/core/input_layer.py:27: UserWarning: Argument `input_shape` is deprecated. Use `shape` instead.\n",
            "  warnings.warn(\n"
          ]
        },
        {
          "output_type": "stream",
          "name": "stdout",
          "text": [
            "Round 22: acc=0.96806654 F1=0.96796923  comm=0.65 MB\n"
          ]
        },
        {
          "output_type": "stream",
          "name": "stderr",
          "text": [
            "/usr/local/lib/python3.11/dist-packages/keras/src/layers/core/input_layer.py:27: UserWarning: Argument `input_shape` is deprecated. Use `shape` instead.\n",
            "  warnings.warn(\n"
          ]
        },
        {
          "output_type": "stream",
          "name": "stdout",
          "text": [
            "Round 23: acc=0.96699179 F1=0.96690488  comm=0.65 MB\n"
          ]
        },
        {
          "output_type": "stream",
          "name": "stderr",
          "text": [
            "/usr/local/lib/python3.11/dist-packages/keras/src/layers/core/input_layer.py:27: UserWarning: Argument `input_shape` is deprecated. Use `shape` instead.\n",
            "  warnings.warn(\n"
          ]
        },
        {
          "output_type": "stream",
          "name": "stdout",
          "text": [
            "Round 24: acc=0.96961685 F1=0.96952121  comm=0.65 MB\n"
          ]
        },
        {
          "output_type": "stream",
          "name": "stderr",
          "text": [
            "/usr/local/lib/python3.11/dist-packages/keras/src/layers/core/input_layer.py:27: UserWarning: Argument `input_shape` is deprecated. Use `shape` instead.\n",
            "  warnings.warn(\n"
          ]
        },
        {
          "output_type": "stream",
          "name": "stdout",
          "text": [
            "Round 25: acc=0.97122422 F1=0.97113694  comm=0.65 MB\n"
          ]
        },
        {
          "output_type": "stream",
          "name": "stderr",
          "text": [
            "/usr/local/lib/python3.11/dist-packages/keras/src/layers/core/input_layer.py:27: UserWarning: Argument `input_shape` is deprecated. Use `shape` instead.\n",
            "  warnings.warn(\n"
          ]
        },
        {
          "output_type": "stream",
          "name": "stdout",
          "text": [
            "Round 26: acc=0.96815689 F1=0.96806928  comm=0.65 MB\n"
          ]
        },
        {
          "output_type": "stream",
          "name": "stderr",
          "text": [
            "/usr/local/lib/python3.11/dist-packages/keras/src/layers/core/input_layer.py:27: UserWarning: Argument `input_shape` is deprecated. Use `shape` instead.\n",
            "  warnings.warn(\n"
          ]
        },
        {
          "output_type": "stream",
          "name": "stdout",
          "text": [
            "Round 27: acc=0.97049662 F1=0.97042434  comm=0.65 MB\n"
          ]
        },
        {
          "output_type": "stream",
          "name": "stderr",
          "text": [
            "/usr/local/lib/python3.11/dist-packages/keras/src/layers/core/input_layer.py:27: UserWarning: Argument `input_shape` is deprecated. Use `shape` instead.\n",
            "  warnings.warn(\n"
          ]
        },
        {
          "output_type": "stream",
          "name": "stdout",
          "text": [
            "Round 28: acc=0.97215631 F1=0.97207677  comm=0.65 MB\n"
          ]
        },
        {
          "output_type": "stream",
          "name": "stderr",
          "text": [
            "/usr/local/lib/python3.11/dist-packages/keras/src/layers/core/input_layer.py:27: UserWarning: Argument `input_shape` is deprecated. Use `shape` instead.\n",
            "  warnings.warn(\n"
          ]
        },
        {
          "output_type": "stream",
          "name": "stdout",
          "text": [
            "Round 29: acc=0.97212302 F1=0.97203837  comm=0.65 MB\n"
          ]
        },
        {
          "output_type": "stream",
          "name": "stderr",
          "text": [
            "/usr/local/lib/python3.11/dist-packages/keras/src/layers/core/input_layer.py:27: UserWarning: Argument `input_shape` is deprecated. Use `shape` instead.\n",
            "  warnings.warn(\n"
          ]
        },
        {
          "output_type": "stream",
          "name": "stdout",
          "text": [
            "Round 30: acc=0.97189475 F1=0.97181216  comm=0.65 MB\n"
          ]
        }
      ]
    },
    {
      "cell_type": "code",
      "source": [
        "# ----------------------------\n",
        "# Save Log\n",
        "# ----------------------------\n",
        "# Use the correctly named variable 'history' to create the DataFrame\n",
        "history_df = pd.DataFrame(history)\n",
        "# Correct the filename to match the download call\n",
        "log_filename = \"fedavg_training_and_resource_log_WSN-BFSF.csv\"\n",
        "# Use the correctly named DataFrame 'history_df' to save to CSV\n",
        "history_df.to_csv(log_filename, index=False)\n",
        "print(f\"\\nLog saved to {log_filename}\")\n",
        "\n",
        "\n",
        "# ----------------------------\n",
        "# Download Log\n",
        "# ----------------------------\n",
        "from google.colab import files\n",
        "# Use the corrected filename for download\n",
        "files.download(log_filename)"
      ],
      "metadata": {
        "colab": {
          "base_uri": "https://localhost:8080/",
          "height": 52
        },
        "id": "IAiv6d3-2CsS",
        "outputId": "0a70b769-fa2b-40f9-e632-4ee575d51244"
      },
      "execution_count": null,
      "outputs": [
        {
          "output_type": "stream",
          "name": "stdout",
          "text": [
            "\n",
            "Log saved to fedavg_training_and_resource_log_WSN-BFSF.csv\n"
          ]
        },
        {
          "output_type": "display_data",
          "data": {
            "text/plain": [
              "<IPython.core.display.Javascript object>"
            ],
            "application/javascript": [
              "\n",
              "    async function download(id, filename, size) {\n",
              "      if (!google.colab.kernel.accessAllowed) {\n",
              "        return;\n",
              "      }\n",
              "      const div = document.createElement('div');\n",
              "      const label = document.createElement('label');\n",
              "      label.textContent = `Downloading \"${filename}\": `;\n",
              "      div.appendChild(label);\n",
              "      const progress = document.createElement('progress');\n",
              "      progress.max = size;\n",
              "      div.appendChild(progress);\n",
              "      document.body.appendChild(div);\n",
              "\n",
              "      const buffers = [];\n",
              "      let downloaded = 0;\n",
              "\n",
              "      const channel = await google.colab.kernel.comms.open(id);\n",
              "      // Send a message to notify the kernel that we're ready.\n",
              "      channel.send({})\n",
              "\n",
              "      for await (const message of channel.messages) {\n",
              "        // Send a message to notify the kernel that we're ready.\n",
              "        channel.send({})\n",
              "        if (message.buffers) {\n",
              "          for (const buffer of message.buffers) {\n",
              "            buffers.push(buffer);\n",
              "            downloaded += buffer.byteLength;\n",
              "            progress.value = downloaded;\n",
              "          }\n",
              "        }\n",
              "      }\n",
              "      const blob = new Blob(buffers, {type: 'application/binary'});\n",
              "      const a = document.createElement('a');\n",
              "      a.href = window.URL.createObjectURL(blob);\n",
              "      a.download = filename;\n",
              "      div.appendChild(a);\n",
              "      a.click();\n",
              "      div.remove();\n",
              "    }\n",
              "  "
            ]
          },
          "metadata": {}
        },
        {
          "output_type": "display_data",
          "data": {
            "text/plain": [
              "<IPython.core.display.Javascript object>"
            ],
            "application/javascript": [
              "download(\"download_b4c41d8d-1de8-4e0d-b1d9-eee424277a0e\", \"fedavg_training_and_resource_log_WSN-BFSF.csv\", 3325)"
            ]
          },
          "metadata": {}
        }
      ]
    },
    {
      "cell_type": "code",
      "source": [
        "# prompt: Please display all the resource that used in this training model\n",
        "\n",
        "print(\"Total parameters:\", tot_params)\n",
        "print(\"Model size:\", model_sizeMB, \"MB\")\n",
        "print(\"Communication per round (uplink):\", COMM_MB_UP, \"MB\")\n",
        "print(\"\\nDetailed resource usage per round:\")\n",
        "print(history_df[['Round', 'Time_s', 'Comm_MB']])\n"
      ],
      "metadata": {
        "colab": {
          "base_uri": "https://localhost:8080/"
        },
        "id": "ipTB8YwmMVpl",
        "outputId": "48acc80e-0908-4f6e-e103-31667dfe3644"
      },
      "execution_count": null,
      "outputs": [
        {
          "output_type": "stream",
          "name": "stdout",
          "text": [
            "Total parameters: 33732\n",
            "Model size: 0.13 MB\n",
            "Communication per round (uplink): 0.65 MB\n",
            "\n",
            "Detailed resource usage per round:\n",
            "    Round  Time_s  Comm_MB\n",
            "0       1  162.83     0.65\n",
            "1       2  162.68     0.65\n",
            "2       3  164.52     0.65\n",
            "3       4  175.76     0.65\n",
            "4       5  167.49     0.65\n",
            "5       6  169.90     0.65\n",
            "6       7  179.70     0.65\n",
            "7       8  175.92     0.65\n",
            "8       9  170.37     0.65\n",
            "9      10  163.35     0.65\n",
            "10     11  161.92     0.65\n",
            "11     12  161.00     0.65\n",
            "12     13  161.27     0.65\n",
            "13     14  163.46     0.65\n",
            "14     15  160.77     0.65\n",
            "15     16  159.11     0.65\n",
            "16     17  161.57     0.65\n",
            "17     18  163.72     0.65\n",
            "18     19  162.83     0.65\n",
            "19     20  162.47     0.65\n",
            "20     21  162.76     0.65\n",
            "21     22  163.40     0.65\n",
            "22     23  161.07     0.65\n",
            "23     24  160.97     0.65\n",
            "24     25  163.88     0.65\n",
            "25     26  164.30     0.65\n",
            "26     27  163.60     0.65\n",
            "27     28  161.87     0.65\n",
            "28     29  161.43     0.65\n",
            "29     30  162.33     0.65\n"
          ]
        }
      ]
    }
  ]
}