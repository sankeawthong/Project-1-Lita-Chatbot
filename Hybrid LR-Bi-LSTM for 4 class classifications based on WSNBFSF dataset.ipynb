{
  "nbformat": 4,
  "nbformat_minor": 0,
  "metadata": {
    "colab": {
      "provenance": [],
      "authorship_tag": "ABX9TyP16H8gyOnTGn0kP+E46iAd",
      "include_colab_link": true
    },
    "kernelspec": {
      "name": "python3",
      "display_name": "Python 3"
    },
    "language_info": {
      "name": "python"
    }
  },
  "cells": [
    {
      "cell_type": "markdown",
      "metadata": {
        "id": "view-in-github",
        "colab_type": "text"
      },
      "source": [
        "<a href=\"https://colab.research.google.com/github/sankeawthong/Project-1-Lita-Chatbot/blob/main/Hybrid%20LR-Bi-LSTM%20for%204%20class%20classifications%20based%20on%20WSNBFSF%20dataset.ipynb\" target=\"_parent\"><img src=\"https://colab.research.google.com/assets/colab-badge.svg\" alt=\"Open In Colab\"/></a>"
      ]
    },
    {
      "cell_type": "markdown",
      "source": [
        "### **Hybrid LR-Bi-LSTM for 4 class classifications based on WSNBFSF dataset**"
      ],
      "metadata": {
        "id": "LJVZy_IPxvE2"
      }
    },
    {
      "cell_type": "code",
      "source": [
        "import pandas as pd\n",
        "import numpy as np\n",
        "from sklearn.linear_model import LogisticRegression\n",
        "from sklearn.model_selection import train_test_split\n",
        "from sklearn.metrics import accuracy_score, classification_report\n",
        "from sklearn.preprocessing import LabelEncoder, StandardScaler\n",
        "from keras.models import Sequential\n",
        "from keras.layers import Dense, LSTM, Bidirectional, Dropout, Flatten"
      ],
      "metadata": {
        "id": "h7CHo-ouyF2K"
      },
      "execution_count": 1,
      "outputs": []
    },
    {
      "cell_type": "code",
      "source": [
        "# Load dataset\n",
        "dataset = pd.read_csv(\"dataset.csv\")\n",
        "dataset = dataset.dropna() # Remove missing values\n",
        "X = dataset.drop(['Class'], axis=1)\n",
        "y = dataset['Class']"
      ],
      "metadata": {
        "id": "oG1LRc-_yHfH"
      },
      "execution_count": 2,
      "outputs": []
    },
    {
      "cell_type": "code",
      "source": [
        "dataset.isnull().sum()"
      ],
      "metadata": {
        "colab": {
          "base_uri": "https://localhost:8080/"
        },
        "id": "aTbUpZDayN0q",
        "outputId": "9c681b3d-a2d9-47ee-ce4c-3f6a7e1912d8"
      },
      "execution_count": 3,
      "outputs": [
        {
          "output_type": "execute_result",
          "data": {
            "text/plain": [
              "Event             0\n",
              "Time              0\n",
              "S_Node            0\n",
              "Node_id           0\n",
              "Rest_Energy       0\n",
              "Trace_Level       0\n",
              "Mac_Type_Pckt     0\n",
              "Source_IP_Port    0\n",
              "Des_IP_Port       0\n",
              "Packet_Size       0\n",
              "TTL               0\n",
              "Hop_Count         0\n",
              "Broadcast_ID      0\n",
              "Dest_Node_Num     0\n",
              "Dest_Seq_Num      0\n",
              "Src_Node_ID       0\n",
              "Src_Seq_Num       0\n",
              "Class             0\n",
              "dtype: int64"
            ]
          },
          "metadata": {},
          "execution_count": 3
        }
      ]
    },
    {
      "cell_type": "markdown",
      "source": [
        "### **Data Preprocessing**"
      ],
      "metadata": {
        "id": "lNqocxN7yQ30"
      }
    },
    {
      "cell_type": "code",
      "source": [
        "# Encode labels\n",
        "encoder = LabelEncoder()\n",
        "y = encoder.fit_transform(dataset['Class'])"
      ],
      "metadata": {
        "id": "WguinLd8yH3G"
      },
      "execution_count": 4,
      "outputs": []
    },
    {
      "cell_type": "code",
      "source": [
        "# Standardize features\n",
        "scaler = StandardScaler()\n",
        "X = scaler.fit_transform(dataset.drop(['Class'], axis=1))"
      ],
      "metadata": {
        "id": "cnlWubpxyas_"
      },
      "execution_count": 5,
      "outputs": []
    },
    {
      "cell_type": "code",
      "source": [
        "# Data preprocessing\n",
        "from imblearn.over_sampling import SMOTE\n",
        "oversample = SMOTE()\n",
        "X, y = oversample.fit_resample(X, y)"
      ],
      "metadata": {
        "id": "USlDOnIFypFp"
      },
      "execution_count": 6,
      "outputs": []
    },
    {
      "cell_type": "code",
      "source": [
        "# Split data into train and test sets\n",
        "X_train, X_test, y_train, y_test = train_test_split(X, y, test_size=0.2, random_state=42)"
      ],
      "metadata": {
        "id": "vMP3klsoyo9x"
      },
      "execution_count": 7,
      "outputs": []
    },
    {
      "cell_type": "markdown",
      "source": [
        "### **Hybrid combination of LR-Bi-LSTM for 4 class classifications**"
      ],
      "metadata": {
        "id": "ym-SrjtdyupG"
      }
    },
    {
      "cell_type": "code",
      "source": [
        "# Train logistic regression model\n",
        "lr_model = LogisticRegression(multi_class='multinomial', solver='lbfgs')\n",
        "lr_model.fit(X_train, y_train)\n",
        "lr_pred = lr_model.predict(X_test)\n",
        "lr_acc = accuracy_score(y_test, lr_pred)\n",
        "print(\"Logistic Regression Accuracy:\", lr_acc)\n",
        "print(classification_report(y_test, lr_pred))"
      ],
      "metadata": {
        "colab": {
          "base_uri": "https://localhost:8080/"
        },
        "id": "cPXr4FlFy27c",
        "outputId": "0b8035ff-396c-44d1-d513-e50a8c9d869b"
      },
      "execution_count": 8,
      "outputs": [
        {
          "output_type": "stream",
          "name": "stderr",
          "text": [
            "/usr/local/lib/python3.10/dist-packages/sklearn/linear_model/_logistic.py:458: ConvergenceWarning: lbfgs failed to converge (status=1):\n",
            "STOP: TOTAL NO. of ITERATIONS REACHED LIMIT.\n",
            "\n",
            "Increase the number of iterations (max_iter) or scale the data as shown in:\n",
            "    https://scikit-learn.org/stable/modules/preprocessing.html\n",
            "Please also refer to the documentation for alternative solver options:\n",
            "    https://scikit-learn.org/stable/modules/linear_model.html#logistic-regression\n",
            "  n_iter_i = _check_optimize_result(\n"
          ]
        },
        {
          "output_type": "stream",
          "name": "stdout",
          "text": [
            "Logistic Regression Accuracy: 0.7895435155815314\n",
            "              precision    recall  f1-score   support\n",
            "\n",
            "           0       0.77      0.56      0.65     52705\n",
            "           1       0.71      0.73      0.72     52517\n",
            "           2       0.83      0.87      0.85     52703\n",
            "           3       0.84      0.99      0.91     52356\n",
            "\n",
            "    accuracy                           0.79    210281\n",
            "   macro avg       0.79      0.79      0.78    210281\n",
            "weighted avg       0.79      0.79      0.78    210281\n",
            "\n"
          ]
        }
      ]
    },
    {
      "cell_type": "code",
      "source": [
        "# Train Bi-LSTM model\n",
        "num_classes = len(np.unique(y))\n",
        "input_dim = X_train.shape[1]\n",
        "X_train = np.reshape(X_train, (X_train.shape[0], 1, X_train.shape[1]))\n",
        "X_test = np.reshape(X_test, (X_test.shape[0], 1, X_test.shape[1]))\n",
        "lstm_model = Sequential()\n",
        "lstm_model.add(Bidirectional(LSTM(64, input_shape=(1, input_dim), activation='relu', return_sequences=True)))\n",
        "lstm_model.add(Dropout(0.2))\n",
        "lstm_model.add(LSTM(32, activation='relu'))\n",
        "lstm_model.add(Dense(4, activation='softmax'))\n",
        "lstm_model.compile(loss='categorical_crossentropy', optimizer='adam', metrics=['accuracy'])\n",
        "y_train_onehot = pd.get_dummies(y_train).values\n",
        "lstm_model.fit(X_train, y_train_onehot, epochs=15, batch_size=32, verbose=0)\n",
        "lstm_pred = lstm_model.predict(X_test)\n",
        "lstm_pred = np.argmax(lstm_pred, axis=1)\n",
        "lstm_acc = accuracy_score(y_test, lstm_pred)\n",
        "print(\"Bi-LSTM Accuracy:\", lstm_acc)\n",
        "print(classification_report(y_test, lstm_pred))"
      ],
      "metadata": {
        "colab": {
          "base_uri": "https://localhost:8080/"
        },
        "id": "PNjbXBXoy4nx",
        "outputId": "d42336e8-bf93-4104-aa94-788099451ac6"
      },
      "execution_count": 9,
      "outputs": [
        {
          "output_type": "stream",
          "name": "stdout",
          "text": [
            "6572/6572 [==============================] - 20s 3ms/step\n",
            "Bi-LSTM Accuracy: 0.9746006534113876\n",
            "              precision    recall  f1-score   support\n",
            "\n",
            "           0       0.99      0.95      0.97     52705\n",
            "           1       0.95      0.98      0.96     52517\n",
            "           2       0.98      1.00      0.99     52703\n",
            "           3       0.99      0.97      0.98     52356\n",
            "\n",
            "    accuracy                           0.97    210281\n",
            "   macro avg       0.98      0.97      0.97    210281\n",
            "weighted avg       0.98      0.97      0.97    210281\n",
            "\n"
          ]
        }
      ]
    },
    {
      "cell_type": "code",
      "execution_count": 11,
      "metadata": {
        "colab": {
          "base_uri": "https://localhost:8080/"
        },
        "id": "9XkJ0L36xYh5",
        "outputId": "4b61c0f3-89a0-4d3d-84ab-c557e09ffac2"
      },
      "outputs": [
        {
          "output_type": "stream",
          "name": "stdout",
          "text": [
            "6572/6572 [==============================] - 21s 3ms/step\n",
            "Combined Accuracy: 0.9648850823421993\n",
            "              precision    recall  f1-score   support\n",
            "\n",
            "           0       0.99      0.94      0.96     52705\n",
            "           1       0.95      0.94      0.95     52517\n",
            "           2       0.98      0.99      0.98     52703\n",
            "           3       0.94      0.99      0.96     52356\n",
            "\n",
            "    accuracy                           0.96    210281\n",
            "   macro avg       0.97      0.96      0.96    210281\n",
            "weighted avg       0.97      0.96      0.96    210281\n",
            "\n"
          ]
        }
      ],
      "source": [
        "# Combine predictions\n",
        "lr_probs = lr_model.predict_proba(np.reshape(X_test, (X_test.shape[0], -1)))\n",
        "lstm_probs = lstm_model.predict(X_test)\n",
        "combined_probs = (lr_probs + lstm_probs) / 2\n",
        "combined_pred = np.argmax(combined_probs, axis=1)\n",
        "combined_acc = accuracy_score(y_test, combined_pred)\n",
        "print(\"Combined Accuracy:\", combined_acc)\n",
        "print(classification_report(y_test, combined_pred))"
      ]
    }
  ]
}