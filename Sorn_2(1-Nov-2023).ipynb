{
  "nbformat": 4,
  "nbformat_minor": 0,
  "metadata": {
    "colab": {
      "provenance": [],
      "authorship_tag": "ABX9TyOfOV0YoQQAtnxPggQyWF+D",
      "include_colab_link": true
    },
    "kernelspec": {
      "name": "python3",
      "display_name": "Python 3"
    },
    "language_info": {
      "name": "python"
    }
  },
  "cells": [
    {
      "cell_type": "markdown",
      "metadata": {
        "id": "view-in-github",
        "colab_type": "text"
      },
      "source": [
        "<a href=\"https://colab.research.google.com/github/sankeawthong/Project-1-Lita-Chatbot/blob/main/Sorn_2(1-Nov-2023).ipynb\" target=\"_parent\"><img src=\"https://colab.research.google.com/assets/colab-badge.svg\" alt=\"Open In Colab\"/></a>"
      ]
    },
    {
      "cell_type": "markdown",
      "source": [
        "### **For Quality**"
      ],
      "metadata": {
        "id": "SfWPnwNuT1PI"
      }
    },
    {
      "cell_type": "markdown",
      "source": [
        "1.Bareland NO3-N(Y) and Bareland (X)"
      ],
      "metadata": {
        "id": "zqxh0LGJJQQx"
      }
    },
    {
      "cell_type": "code",
      "source": [
        "import numpy as np\n",
        "from scipy.stats import spearmanr\n",
        "\n",
        "# Create two arrays of data\n",
        "x = np.array([24.318286, 51.743, 583.097321])\n",
        "y = np.array([0.171, 0.9, 0.073])\n",
        "\n",
        "# Calculate Spearman's correlation coefficient\n",
        "rho, pval = spearmanr(x, y)\n",
        "\n",
        "# Print the results\n",
        "print(rho)\n",
        "print(pval)"
      ],
      "metadata": {
        "colab": {
          "base_uri": "https://localhost:8080/"
        },
        "id": "UJyij4fkGdki",
        "outputId": "950f2140-4c0b-4f44-f159-eeac84efe795"
      },
      "execution_count": 3,
      "outputs": [
        {
          "output_type": "stream",
          "name": "stdout",
          "text": [
            "-0.5\n",
            "0.6666666666666667\n"
          ]
        }
      ]
    },
    {
      "cell_type": "markdown",
      "source": [
        "The output shows that the Spearman's correlation coefficient between x and y is -0.5, which is a moderate. The p-value is 0.67, which indicates that the correlation is statistically significant."
      ],
      "metadata": {
        "id": "iIJgDxa-J0xN"
      }
    },
    {
      "cell_type": "markdown",
      "source": [
        "1.2.Bareland BOD(Y) and Bareland (X)"
      ],
      "metadata": {
        "id": "ZVg66szFQqnw"
      }
    },
    {
      "cell_type": "code",
      "source": [
        "import numpy as np\n",
        "from scipy.stats import spearmanr\n",
        "\n",
        "# Create two arrays of data\n",
        "x = np.array([24.318286, 51.743, 583.097321])\n",
        "y = np.array([5.09, 5.8, 4.9])\n",
        "\n",
        "# Calculate Spearman's correlation coefficient\n",
        "rho, pval = spearmanr(x, y)\n",
        "\n",
        "# Print the results\n",
        "print(rho)\n",
        "print(pval)"
      ],
      "metadata": {
        "colab": {
          "base_uri": "https://localhost:8080/"
        },
        "id": "vLnpCzIcQhGr",
        "outputId": "16d40652-ec4b-4f6c-d6f2-7725ac0b17a2"
      },
      "execution_count": 4,
      "outputs": [
        {
          "output_type": "stream",
          "name": "stdout",
          "text": [
            "-0.5\n",
            "0.6666666666666667\n"
          ]
        }
      ]
    },
    {
      "cell_type": "markdown",
      "source": [
        "2.Agricultural land NO3-N(Y) and Agricultural land (X)"
      ],
      "metadata": {
        "id": "DZ5vjBfgRTCi"
      }
    },
    {
      "cell_type": "code",
      "source": [
        "import numpy as np\n",
        "from scipy.stats import spearmanr\n",
        "\n",
        "# Create two arrays of data\n",
        "x = np.array([1129.500921, 981.667486, 226.34846])\n",
        "y = np.array([0.171, 0.9, 0.073])\n",
        "\n",
        "# Calculate Spearman's correlation coefficient\n",
        "rho, pval = spearmanr(x, y)\n",
        "\n",
        "# Print the results\n",
        "print(rho)\n",
        "print(pval)"
      ],
      "metadata": {
        "colab": {
          "base_uri": "https://localhost:8080/"
        },
        "id": "p_YafGRvRDUm",
        "outputId": "fa220d74-a310-47e0-d2fc-9ce41e853efb"
      },
      "execution_count": 5,
      "outputs": [
        {
          "output_type": "stream",
          "name": "stdout",
          "text": [
            "0.5\n",
            "0.6666666666666667\n"
          ]
        }
      ]
    },
    {
      "cell_type": "markdown",
      "source": [
        "2.1.Agricultural land BOD(Y) and Agricultural land (X)"
      ],
      "metadata": {
        "id": "c7Xsy5htRobc"
      }
    },
    {
      "cell_type": "code",
      "source": [
        "import numpy as np\n",
        "from scipy.stats import spearmanr\n",
        "\n",
        "# Create two arrays of data\n",
        "x = np.array([1129.500921, 981.667486, 226.34846])\n",
        "y = np.array([5.09, 5.8, 4.9])\n",
        "\n",
        "# Calculate Spearman's correlation coefficient\n",
        "rho, pval = spearmanr(x, y)\n",
        "\n",
        "# Print the results\n",
        "print(rho)\n",
        "print(pval)"
      ],
      "metadata": {
        "colab": {
          "base_uri": "https://localhost:8080/"
        },
        "id": "rGg8nU-lRdEP",
        "outputId": "03690959-354c-4c09-ea2a-4dde977c1a6d"
      },
      "execution_count": 6,
      "outputs": [
        {
          "output_type": "stream",
          "name": "stdout",
          "text": [
            "0.5\n",
            "0.6666666666666667\n"
          ]
        }
      ]
    },
    {
      "cell_type": "markdown",
      "source": [
        "3.Built-up land NO3-N(Y) and Built-up land (X)"
      ],
      "metadata": {
        "id": "acQG5M-ySAbv"
      }
    },
    {
      "cell_type": "code",
      "source": [
        "import numpy as np\n",
        "from scipy.stats import spearmanr\n",
        "\n",
        "# Create two arrays of data\n",
        "x = np.array([13.965015, 75.528122, 224.281297])\n",
        "y = np.array([0.171, 0.9, 0.073])\n",
        "\n",
        "# Calculate Spearman's correlation coefficient\n",
        "rho, pval = spearmanr(x, y)\n",
        "\n",
        "# Print the results\n",
        "print(rho)\n",
        "print(pval)"
      ],
      "metadata": {
        "colab": {
          "base_uri": "https://localhost:8080/"
        },
        "id": "uPIuC4thRsw0",
        "outputId": "35f9f0fb-3591-404f-b090-e0ada762607e"
      },
      "execution_count": 7,
      "outputs": [
        {
          "output_type": "stream",
          "name": "stdout",
          "text": [
            "-0.5\n",
            "0.6666666666666667\n"
          ]
        }
      ]
    },
    {
      "cell_type": "markdown",
      "source": [
        "3.1.Built-up land BOD(Y) and Built-up land (X)"
      ],
      "metadata": {
        "id": "POk1FNXjSEK1"
      }
    },
    {
      "cell_type": "code",
      "source": [
        "import numpy as np\n",
        "from scipy.stats import spearmanr\n",
        "\n",
        "# Create two arrays of data\n",
        "x = np.array([13.965015, 75.528122, 224.281297])\n",
        "y = np.array([5.09, 5.8, 4.9])\n",
        "\n",
        "# Calculate Spearman's correlation coefficient\n",
        "rho, pval = spearmanr(x, y)\n",
        "\n",
        "# Print the results\n",
        "print(rho)\n",
        "print(pval)"
      ],
      "metadata": {
        "colab": {
          "base_uri": "https://localhost:8080/"
        },
        "id": "nT0utkcLSHFB",
        "outputId": "4c46d3c1-ac4a-491a-b574-dff016519c20"
      },
      "execution_count": 8,
      "outputs": [
        {
          "output_type": "stream",
          "name": "stdout",
          "text": [
            "-0.5\n",
            "0.6666666666666667\n"
          ]
        }
      ]
    },
    {
      "cell_type": "markdown",
      "source": [
        "4.Vegetation NO3-N(Y) and Vegetation (X)"
      ],
      "metadata": {
        "id": "CndjPTFmSXWH"
      }
    },
    {
      "cell_type": "code",
      "source": [
        "import numpy as np\n",
        "from scipy.stats import spearmanr\n",
        "\n",
        "# Create two arrays of data\n",
        "x = np.array([26.475111, 21.957442, 6.937474])\n",
        "y = np.array([0.171, 0.9, 0.073])\n",
        "\n",
        "# Calculate Spearman's correlation coefficient\n",
        "rho, pval = spearmanr(x, y)\n",
        "\n",
        "# Print the results\n",
        "print(rho)\n",
        "print(pval)"
      ],
      "metadata": {
        "colab": {
          "base_uri": "https://localhost:8080/"
        },
        "id": "v1dbsRG5Sa9B",
        "outputId": "314f63aa-1599-467b-ae19-d724e810fa21"
      },
      "execution_count": 9,
      "outputs": [
        {
          "output_type": "stream",
          "name": "stdout",
          "text": [
            "0.5\n",
            "0.6666666666666667\n"
          ]
        }
      ]
    },
    {
      "cell_type": "markdown",
      "source": [
        "4.1.Vegetation BOD(Y) and Vegetation (X)"
      ],
      "metadata": {
        "id": "re89EzCPSnOl"
      }
    },
    {
      "cell_type": "code",
      "source": [
        "import numpy as np\n",
        "from scipy.stats import spearmanr\n",
        "\n",
        "# Create two arrays of data\n",
        "x = np.array([26.475111, 21.957442, 6.937474])\n",
        "y = np.array([5.09, 5.8, 4.9])\n",
        "\n",
        "# Calculate Spearman's correlation coefficient\n",
        "rho, pval = spearmanr(x, y)\n",
        "\n",
        "# Print the results\n",
        "print(rho)\n",
        "print(pval)"
      ],
      "metadata": {
        "colab": {
          "base_uri": "https://localhost:8080/"
        },
        "id": "WYTlzQqgSvBH",
        "outputId": "e5fc4087-2173-40d9-d74e-212dcbd5a2f8"
      },
      "execution_count": 10,
      "outputs": [
        {
          "output_type": "stream",
          "name": "stdout",
          "text": [
            "0.5\n",
            "0.6666666666666667\n"
          ]
        }
      ]
    },
    {
      "cell_type": "markdown",
      "source": [
        "5.Water body NO3-N(Y) and Water body (X)"
      ],
      "metadata": {
        "id": "Vq2lwdqQS7Ky"
      }
    },
    {
      "cell_type": "code",
      "source": [
        "import numpy as np\n",
        "from scipy.stats import spearmanr\n",
        "\n",
        "# Create two arrays of data\n",
        "x = np.array([113.950916, 135.677444, 197.24506])\n",
        "y = np.array([0.171, 0.9, 0.073])\n",
        "\n",
        "# Calculate Spearman's correlation coefficient\n",
        "rho, pval = spearmanr(x, y)\n",
        "\n",
        "# Print the results\n",
        "print(rho)\n",
        "print(pval)"
      ],
      "metadata": {
        "colab": {
          "base_uri": "https://localhost:8080/"
        },
        "id": "OW1Rs_oJS_R7",
        "outputId": "c25e8ad3-6443-43c4-809a-228a6a36dea6"
      },
      "execution_count": 11,
      "outputs": [
        {
          "output_type": "stream",
          "name": "stdout",
          "text": [
            "-0.5\n",
            "0.6666666666666667\n"
          ]
        }
      ]
    },
    {
      "cell_type": "markdown",
      "source": [
        "5.1.Water body BOD(Y) and Water body (X)"
      ],
      "metadata": {
        "id": "xEPCHDD1TLxx"
      }
    },
    {
      "cell_type": "code",
      "source": [
        "import numpy as np\n",
        "from scipy.stats import spearmanr\n",
        "\n",
        "# Create two arrays of data\n",
        "x = np.array([113.950916, 135.677444, 197.24506])\n",
        "y = np.array([5.09, 5.8, 4.9])\n",
        "\n",
        "# Calculate Spearman's correlation coefficient\n",
        "rho, pval = spearmanr(x, y)\n",
        "\n",
        "# Print the results\n",
        "print(rho)\n",
        "print(pval)"
      ],
      "metadata": {
        "colab": {
          "base_uri": "https://localhost:8080/"
        },
        "id": "t3Ndj31LTOc4",
        "outputId": "4eaa40d8-b00f-4d0c-a516-c4d560591f4d"
      },
      "execution_count": 12,
      "outputs": [
        {
          "output_type": "stream",
          "name": "stdout",
          "text": [
            "-0.5\n",
            "0.6666666666666667\n"
          ]
        }
      ]
    },
    {
      "cell_type": "markdown",
      "source": [
        "6.Wetland NO3-N(Y) and Wetland (X)"
      ],
      "metadata": {
        "id": "CtUyUbs5TWwy"
      }
    },
    {
      "cell_type": "code",
      "source": [
        "import numpy as np\n",
        "from scipy.stats import spearmanr\n",
        "\n",
        "# Create two arrays of data\n",
        "x = np.array([278.885915, 320.426278, 349.303635])\n",
        "y = np.array([0.171, 0.9, 0.073])\n",
        "\n",
        "# Calculate Spearman's correlation coefficient\n",
        "rho, pval = spearmanr(x, y)\n",
        "\n",
        "# Print the results\n",
        "print(rho)\n",
        "print(pval)"
      ],
      "metadata": {
        "colab": {
          "base_uri": "https://localhost:8080/"
        },
        "id": "mu1WMnBRTcRY",
        "outputId": "f8898901-6654-4614-89af-d3ab80ae4b59"
      },
      "execution_count": 13,
      "outputs": [
        {
          "output_type": "stream",
          "name": "stdout",
          "text": [
            "-0.5\n",
            "0.6666666666666667\n"
          ]
        }
      ]
    },
    {
      "cell_type": "markdown",
      "source": [
        "6.1.Wetland BOD(Y) and Wetland (X)"
      ],
      "metadata": {
        "id": "kApQ3bRVTlAa"
      }
    },
    {
      "cell_type": "code",
      "source": [
        "import numpy as np\n",
        "from scipy.stats import spearmanr\n",
        "\n",
        "# Create two arrays of data\n",
        "x = np.array([278.885915, 320.426278, 349.303635])\n",
        "y = np.array([5.09, 5.8, 4.9])\n",
        "\n",
        "# Calculate Spearman's correlation coefficient\n",
        "rho, pval = spearmanr(x, y)\n",
        "\n",
        "# Print the results\n",
        "print(rho)\n",
        "print(pval)"
      ],
      "metadata": {
        "colab": {
          "base_uri": "https://localhost:8080/"
        },
        "id": "oGnUhapNTo5k",
        "outputId": "2487096f-cd87-4ef5-ea9d-02a56900469b"
      },
      "execution_count": 14,
      "outputs": [
        {
          "output_type": "stream",
          "name": "stdout",
          "text": [
            "-0.5\n",
            "0.6666666666666667\n"
          ]
        }
      ]
    },
    {
      "cell_type": "markdown",
      "source": [
        "### **For Quantity**"
      ],
      "metadata": {
        "id": "jZGn-zfHUAy1"
      }
    },
    {
      "cell_type": "markdown",
      "source": [
        "1.Bareland"
      ],
      "metadata": {
        "id": "UF2nFl40UGr0"
      }
    },
    {
      "cell_type": "code",
      "source": [
        "import numpy as np\n",
        "from scipy.stats import spearmanr\n",
        "\n",
        "# Create two arrays of data\n",
        "x = np.array([18.860742, 24.318286, 51.743, 404.044035, 583.097321])\n",
        "y = np.array([14036.241319, 17752.604167, 23565.039153, 28142.415365, 30551.550719])\n",
        "\n",
        "# Calculate Spearman's correlation coefficient\n",
        "rho, pval = spearmanr(x, y)\n",
        "\n",
        "# Print the results\n",
        "print(rho)\n",
        "print(pval)"
      ],
      "metadata": {
        "colab": {
          "base_uri": "https://localhost:8080/"
        },
        "id": "w6gOvb3OUNFn",
        "outputId": "1790a57d-b41a-4d45-a1a7-88a5cb7fb7a9"
      },
      "execution_count": 15,
      "outputs": [
        {
          "output_type": "stream",
          "name": "stdout",
          "text": [
            "0.9999999999999999\n",
            "1.4042654220543672e-24\n"
          ]
        }
      ]
    },
    {
      "cell_type": "markdown",
      "source": [
        "2.Agricultural land"
      ],
      "metadata": {
        "id": "LTfsi6cnUf0Y"
      }
    },
    {
      "cell_type": "code",
      "source": [
        "import numpy as np\n",
        "from scipy.stats import spearmanr\n",
        "\n",
        "# Create two arrays of data\n",
        "x = np.array([1121.911286, 1129.500921, 981.667486, 364.034446, 226.34846])\n",
        "y = np.array([14036.241319, 17752.604167, 23565.039153, 28142.415365, 30551.550719])\n",
        "\n",
        "# Calculate Spearman's correlation coefficient\n",
        "rho, pval = spearmanr(x, y)\n",
        "\n",
        "# Print the results\n",
        "print(rho)\n",
        "print(pval)"
      ],
      "metadata": {
        "colab": {
          "base_uri": "https://localhost:8080/"
        },
        "id": "rDreO8NUUiVr",
        "outputId": "e9bb63af-e2a0-47e1-89df-909e3293cddd"
      },
      "execution_count": 16,
      "outputs": [
        {
          "output_type": "stream",
          "name": "stdout",
          "text": [
            "-0.8999999999999998\n",
            "0.03738607346849874\n"
          ]
        }
      ]
    },
    {
      "cell_type": "markdown",
      "source": [
        "3.Built-up land"
      ],
      "metadata": {
        "id": "QdbQjHjdUtdS"
      }
    },
    {
      "cell_type": "code",
      "source": [
        "import numpy as np\n",
        "from scipy.stats import spearmanr\n",
        "\n",
        "# Create two arrays of data\n",
        "x = np.array([11.418644, 13.965015, 75.528122, 180.362944, 224.281297])\n",
        "y = np.array([14036.241319, 17752.604167, 23565.039153, 28142.415365, 30551.550719])\n",
        "\n",
        "# Calculate Spearman's correlation coefficient\n",
        "rho, pval = spearmanr(x, y)\n",
        "\n",
        "# Print the results\n",
        "print(rho)\n",
        "print(pval)"
      ],
      "metadata": {
        "colab": {
          "base_uri": "https://localhost:8080/"
        },
        "id": "7yUfixnnUwM2",
        "outputId": "d2b6b173-e3c8-4c3e-c87a-a12efb9c01ae"
      },
      "execution_count": 17,
      "outputs": [
        {
          "output_type": "stream",
          "name": "stdout",
          "text": [
            "0.9999999999999999\n",
            "1.4042654220543672e-24\n"
          ]
        }
      ]
    },
    {
      "cell_type": "markdown",
      "source": [
        "4.Vegetation"
      ],
      "metadata": {
        "id": "JuLI6ZFEVDRc"
      }
    },
    {
      "cell_type": "code",
      "source": [
        "import numpy as np\n",
        "from scipy.stats import spearmanr\n",
        "\n",
        "# Create two arrays of data\n",
        "x = np.array([28.647314, 26.475111, 21.957442, 21.865775, 6.937474])\n",
        "y = np.array([14036.241319, 17752.604167, 23565.039153, 28142.415365, 30551.550719])\n",
        "\n",
        "# Calculate Spearman's correlation coefficient\n",
        "rho, pval = spearmanr(x, y)\n",
        "\n",
        "# Print the results\n",
        "print(rho)\n",
        "print(pval)"
      ],
      "metadata": {
        "colab": {
          "base_uri": "https://localhost:8080/"
        },
        "id": "AqH_E5PdVHB3",
        "outputId": "86bb04ce-e15d-44fb-d0ff-496c7a7c328a"
      },
      "execution_count": 18,
      "outputs": [
        {
          "output_type": "stream",
          "name": "stdout",
          "text": [
            "-0.9999999999999999\n",
            "1.4042654220543672e-24\n"
          ]
        }
      ]
    },
    {
      "cell_type": "markdown",
      "source": [
        "5.Water body"
      ],
      "metadata": {
        "id": "jIjZCTi3VVHP"
      }
    },
    {
      "cell_type": "code",
      "source": [
        "import numpy as np\n",
        "from scipy.stats import spearmanr\n",
        "\n",
        "# Create two arrays of data\n",
        "x = np.array([105.724326, 113.950916, 135.677444, 164.271854, 197.24506])\n",
        "y = np.array([14036.241319, 17752.604167, 23565.039153, 28142.415365, 30551.550719])\n",
        "\n",
        "# Calculate Spearman's correlation coefficient\n",
        "rho, pval = spearmanr(x, y)\n",
        "\n",
        "# Print the results\n",
        "print(rho)\n",
        "print(pval)"
      ],
      "metadata": {
        "colab": {
          "base_uri": "https://localhost:8080/"
        },
        "id": "MIRfg44aVXnT",
        "outputId": "11c6f90d-bcb1-4078-ce34-2ea8c6d39bf1"
      },
      "execution_count": 19,
      "outputs": [
        {
          "output_type": "stream",
          "name": "stdout",
          "text": [
            "0.9999999999999999\n",
            "1.4042654220543672e-24\n"
          ]
        }
      ]
    },
    {
      "cell_type": "markdown",
      "source": [
        "6.Wetland"
      ],
      "metadata": {
        "id": "-M9MLuT4VkG-"
      }
    },
    {
      "cell_type": "code",
      "source": [
        "import numpy as np\n",
        "from scipy.stats import spearmanr\n",
        "\n",
        "# Create two arrays of data\n",
        "x = np.array([300.577498, 278.885915, 320.426278, 452.916986, 349.303635])\n",
        "y = np.array([14036.241319, 17752.604167, 23565.039153, 28142.415365, 30551.550719])\n",
        "\n",
        "# Calculate Spearman's correlation coefficient\n",
        "rho, pval = spearmanr(x, y)\n",
        "\n",
        "# Print the results\n",
        "print(rho)\n",
        "print(pval)"
      ],
      "metadata": {
        "colab": {
          "base_uri": "https://localhost:8080/"
        },
        "id": "7YRMJzUQVnRA",
        "outputId": "57e34b7e-380a-40e0-c2bb-8c7c568b0d7d"
      },
      "execution_count": 20,
      "outputs": [
        {
          "output_type": "stream",
          "name": "stdout",
          "text": [
            "0.7999999999999999\n",
            "0.10408803866182788\n"
          ]
        }
      ]
    }
  ]
}