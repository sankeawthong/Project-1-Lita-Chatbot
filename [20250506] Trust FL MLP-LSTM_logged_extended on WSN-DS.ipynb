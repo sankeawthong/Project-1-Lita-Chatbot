{
  "nbformat": 4,
  "nbformat_minor": 0,
  "metadata": {
    "colab": {
      "provenance": [],
      "authorship_tag": "ABX9TyM7BCgdPP1YErHk0dupZaFD",
      "include_colab_link": true
    },
    "kernelspec": {
      "name": "python3",
      "display_name": "Python 3"
    },
    "language_info": {
      "name": "python"
    }
  },
  "cells": [
    {
      "cell_type": "markdown",
      "metadata": {
        "id": "view-in-github",
        "colab_type": "text"
      },
      "source": [
        "<a href=\"https://colab.research.google.com/github/sankeawthong/Project-1-Lita-Chatbot/blob/main/%5B20250506%5D%20Trust%20FL%20MLP-LSTM_logged_extended%20on%20WSN-DS.ipynb\" target=\"_parent\"><img src=\"https://colab.research.google.com/assets/colab-badge.svg\" alt=\"Open In Colab\"/></a>"
      ]
    },
    {
      "cell_type": "code",
      "execution_count": 1,
      "metadata": {
        "id": "iV18T1CP4zen"
      },
      "outputs": [],
      "source": [
        "# trust_federated_mlp_lstm_logged_extended.py\n",
        "\n",
        "import pandas as pd\n",
        "import numpy as np\n",
        "import time\n",
        "import matplotlib.pyplot as plt\n",
        "from sklearn.model_selection import train_test_split\n",
        "from sklearn.metrics import accuracy_score, precision_score, recall_score, f1_score, confusion_matrix\n",
        "from sklearn.preprocessing import LabelEncoder, StandardScaler\n",
        "from keras.models import Sequential\n",
        "from keras.layers import Dense, Dropout, LSTM, InputLayer\n",
        "from keras.regularizers import l2\n",
        "from keras.utils import to_categorical\n",
        "from imblearn.over_sampling import SMOTE\n",
        "from scipy.spatial.distance import cosine"
      ]
    },
    {
      "cell_type": "code",
      "source": [
        "# Load dataset\n",
        "dataset = pd.read_csv(\"dataset_WSN-DS.csv\")  # WSN-DS 5-class dataset\n",
        "dataset = dataset.dropna()  # Remove missing values"
      ],
      "metadata": {
        "id": "8JxjtHnQ40iN"
      },
      "execution_count": 2,
      "outputs": []
    },
    {
      "cell_type": "code",
      "source": [
        "dataset"
      ],
      "metadata": {
        "colab": {
          "base_uri": "https://localhost:8080/",
          "height": 441
        },
        "id": "4i1m_Spd40fw",
        "outputId": "98fb85f5-891a-49e1-9abf-134a41858538"
      },
      "execution_count": 3,
      "outputs": [
        {
          "output_type": "execute_result",
          "data": {
            "text/plain": [
              "            id   Time   Is_CH   who CH   Dist_To_CH   ADV_S   ADV_R   JOIN_S  \\\n",
              "0       101000     50       1   101000      0.00000       1       0        0   \n",
              "1       101001     50       0   101044     75.32345       0       4        1   \n",
              "2       101002     50       0   101010     46.95453       0       4        1   \n",
              "3       101003     50       0   101044     64.85231       0       4        1   \n",
              "4       101004     50       0   101010      4.83341       0       4        1   \n",
              "...        ...    ...     ...      ...          ...     ...     ...      ...   \n",
              "374656  201096   1003       0   201051      6.98337       0       5        1   \n",
              "374657  201097   1003       0   201037     29.32867       0       5        1   \n",
              "374658  201098   1003       0   201095     18.51963       0       5        1   \n",
              "374659  201099   1003       0   201051      8.55001       0       5        1   \n",
              "374660  202041   1025       0   202100      0.00000       0       5        0   \n",
              "\n",
              "         JOIN_R   SCH_S   SCH_R  Rank   DATA_S   DATA_R   Data_Sent_To_BS  \\\n",
              "0            25       1       0     0        0     1200                48   \n",
              "1             0       0       1     2       38        0                 0   \n",
              "2             0       0       1    19       41        0                 0   \n",
              "3             0       0       1    16       38        0                 0   \n",
              "4             0       0       1    25       41        0                 0   \n",
              "...         ...     ...     ...   ...      ...      ...               ...   \n",
              "374656        0       0       1     7       96        0                67   \n",
              "374657        0       0       1    31       39        0                24   \n",
              "374658        0       0       1    17       55        0                31   \n",
              "374659        0       0       1     3       96        0                65   \n",
              "374660        0       0       0     4        7      689                 7   \n",
              "\n",
              "         dist_CH_To_BS   send_code   Expaned Energy  Class  \n",
              "0            130.08535            0         2.46940      0  \n",
              "1              0.00000            4         0.06957      0  \n",
              "2              0.00000            3         0.06898      0  \n",
              "3              0.00000            4         0.06673      0  \n",
              "4              0.00000            3         0.06534      0  \n",
              "...                ...          ...             ...    ...  \n",
              "374656       170.14779            3         0.15974      0  \n",
              "374657        82.21043            2         0.06877      0  \n",
              "374658       139.26438            1         0.09437      0  \n",
              "374659       158.27492            3         0.16047      0  \n",
              "374660       115.00407            0         1.01325      0  \n",
              "\n",
              "[374661 rows x 19 columns]"
            ],
            "text/html": [
              "\n",
              "  <div id=\"df-34979938-55c2-4752-affb-f273d1f3d28e\" class=\"colab-df-container\">\n",
              "    <div>\n",
              "<style scoped>\n",
              "    .dataframe tbody tr th:only-of-type {\n",
              "        vertical-align: middle;\n",
              "    }\n",
              "\n",
              "    .dataframe tbody tr th {\n",
              "        vertical-align: top;\n",
              "    }\n",
              "\n",
              "    .dataframe thead th {\n",
              "        text-align: right;\n",
              "    }\n",
              "</style>\n",
              "<table border=\"1\" class=\"dataframe\">\n",
              "  <thead>\n",
              "    <tr style=\"text-align: right;\">\n",
              "      <th></th>\n",
              "      <th>id</th>\n",
              "      <th>Time</th>\n",
              "      <th>Is_CH</th>\n",
              "      <th>who CH</th>\n",
              "      <th>Dist_To_CH</th>\n",
              "      <th>ADV_S</th>\n",
              "      <th>ADV_R</th>\n",
              "      <th>JOIN_S</th>\n",
              "      <th>JOIN_R</th>\n",
              "      <th>SCH_S</th>\n",
              "      <th>SCH_R</th>\n",
              "      <th>Rank</th>\n",
              "      <th>DATA_S</th>\n",
              "      <th>DATA_R</th>\n",
              "      <th>Data_Sent_To_BS</th>\n",
              "      <th>dist_CH_To_BS</th>\n",
              "      <th>send_code</th>\n",
              "      <th>Expaned Energy</th>\n",
              "      <th>Class</th>\n",
              "    </tr>\n",
              "  </thead>\n",
              "  <tbody>\n",
              "    <tr>\n",
              "      <th>0</th>\n",
              "      <td>101000</td>\n",
              "      <td>50</td>\n",
              "      <td>1</td>\n",
              "      <td>101000</td>\n",
              "      <td>0.00000</td>\n",
              "      <td>1</td>\n",
              "      <td>0</td>\n",
              "      <td>0</td>\n",
              "      <td>25</td>\n",
              "      <td>1</td>\n",
              "      <td>0</td>\n",
              "      <td>0</td>\n",
              "      <td>0</td>\n",
              "      <td>1200</td>\n",
              "      <td>48</td>\n",
              "      <td>130.08535</td>\n",
              "      <td>0</td>\n",
              "      <td>2.46940</td>\n",
              "      <td>0</td>\n",
              "    </tr>\n",
              "    <tr>\n",
              "      <th>1</th>\n",
              "      <td>101001</td>\n",
              "      <td>50</td>\n",
              "      <td>0</td>\n",
              "      <td>101044</td>\n",
              "      <td>75.32345</td>\n",
              "      <td>0</td>\n",
              "      <td>4</td>\n",
              "      <td>1</td>\n",
              "      <td>0</td>\n",
              "      <td>0</td>\n",
              "      <td>1</td>\n",
              "      <td>2</td>\n",
              "      <td>38</td>\n",
              "      <td>0</td>\n",
              "      <td>0</td>\n",
              "      <td>0.00000</td>\n",
              "      <td>4</td>\n",
              "      <td>0.06957</td>\n",
              "      <td>0</td>\n",
              "    </tr>\n",
              "    <tr>\n",
              "      <th>2</th>\n",
              "      <td>101002</td>\n",
              "      <td>50</td>\n",
              "      <td>0</td>\n",
              "      <td>101010</td>\n",
              "      <td>46.95453</td>\n",
              "      <td>0</td>\n",
              "      <td>4</td>\n",
              "      <td>1</td>\n",
              "      <td>0</td>\n",
              "      <td>0</td>\n",
              "      <td>1</td>\n",
              "      <td>19</td>\n",
              "      <td>41</td>\n",
              "      <td>0</td>\n",
              "      <td>0</td>\n",
              "      <td>0.00000</td>\n",
              "      <td>3</td>\n",
              "      <td>0.06898</td>\n",
              "      <td>0</td>\n",
              "    </tr>\n",
              "    <tr>\n",
              "      <th>3</th>\n",
              "      <td>101003</td>\n",
              "      <td>50</td>\n",
              "      <td>0</td>\n",
              "      <td>101044</td>\n",
              "      <td>64.85231</td>\n",
              "      <td>0</td>\n",
              "      <td>4</td>\n",
              "      <td>1</td>\n",
              "      <td>0</td>\n",
              "      <td>0</td>\n",
              "      <td>1</td>\n",
              "      <td>16</td>\n",
              "      <td>38</td>\n",
              "      <td>0</td>\n",
              "      <td>0</td>\n",
              "      <td>0.00000</td>\n",
              "      <td>4</td>\n",
              "      <td>0.06673</td>\n",
              "      <td>0</td>\n",
              "    </tr>\n",
              "    <tr>\n",
              "      <th>4</th>\n",
              "      <td>101004</td>\n",
              "      <td>50</td>\n",
              "      <td>0</td>\n",
              "      <td>101010</td>\n",
              "      <td>4.83341</td>\n",
              "      <td>0</td>\n",
              "      <td>4</td>\n",
              "      <td>1</td>\n",
              "      <td>0</td>\n",
              "      <td>0</td>\n",
              "      <td>1</td>\n",
              "      <td>25</td>\n",
              "      <td>41</td>\n",
              "      <td>0</td>\n",
              "      <td>0</td>\n",
              "      <td>0.00000</td>\n",
              "      <td>3</td>\n",
              "      <td>0.06534</td>\n",
              "      <td>0</td>\n",
              "    </tr>\n",
              "    <tr>\n",
              "      <th>...</th>\n",
              "      <td>...</td>\n",
              "      <td>...</td>\n",
              "      <td>...</td>\n",
              "      <td>...</td>\n",
              "      <td>...</td>\n",
              "      <td>...</td>\n",
              "      <td>...</td>\n",
              "      <td>...</td>\n",
              "      <td>...</td>\n",
              "      <td>...</td>\n",
              "      <td>...</td>\n",
              "      <td>...</td>\n",
              "      <td>...</td>\n",
              "      <td>...</td>\n",
              "      <td>...</td>\n",
              "      <td>...</td>\n",
              "      <td>...</td>\n",
              "      <td>...</td>\n",
              "      <td>...</td>\n",
              "    </tr>\n",
              "    <tr>\n",
              "      <th>374656</th>\n",
              "      <td>201096</td>\n",
              "      <td>1003</td>\n",
              "      <td>0</td>\n",
              "      <td>201051</td>\n",
              "      <td>6.98337</td>\n",
              "      <td>0</td>\n",
              "      <td>5</td>\n",
              "      <td>1</td>\n",
              "      <td>0</td>\n",
              "      <td>0</td>\n",
              "      <td>1</td>\n",
              "      <td>7</td>\n",
              "      <td>96</td>\n",
              "      <td>0</td>\n",
              "      <td>67</td>\n",
              "      <td>170.14779</td>\n",
              "      <td>3</td>\n",
              "      <td>0.15974</td>\n",
              "      <td>0</td>\n",
              "    </tr>\n",
              "    <tr>\n",
              "      <th>374657</th>\n",
              "      <td>201097</td>\n",
              "      <td>1003</td>\n",
              "      <td>0</td>\n",
              "      <td>201037</td>\n",
              "      <td>29.32867</td>\n",
              "      <td>0</td>\n",
              "      <td>5</td>\n",
              "      <td>1</td>\n",
              "      <td>0</td>\n",
              "      <td>0</td>\n",
              "      <td>1</td>\n",
              "      <td>31</td>\n",
              "      <td>39</td>\n",
              "      <td>0</td>\n",
              "      <td>24</td>\n",
              "      <td>82.21043</td>\n",
              "      <td>2</td>\n",
              "      <td>0.06877</td>\n",
              "      <td>0</td>\n",
              "    </tr>\n",
              "    <tr>\n",
              "      <th>374658</th>\n",
              "      <td>201098</td>\n",
              "      <td>1003</td>\n",
              "      <td>0</td>\n",
              "      <td>201095</td>\n",
              "      <td>18.51963</td>\n",
              "      <td>0</td>\n",
              "      <td>5</td>\n",
              "      <td>1</td>\n",
              "      <td>0</td>\n",
              "      <td>0</td>\n",
              "      <td>1</td>\n",
              "      <td>17</td>\n",
              "      <td>55</td>\n",
              "      <td>0</td>\n",
              "      <td>31</td>\n",
              "      <td>139.26438</td>\n",
              "      <td>1</td>\n",
              "      <td>0.09437</td>\n",
              "      <td>0</td>\n",
              "    </tr>\n",
              "    <tr>\n",
              "      <th>374659</th>\n",
              "      <td>201099</td>\n",
              "      <td>1003</td>\n",
              "      <td>0</td>\n",
              "      <td>201051</td>\n",
              "      <td>8.55001</td>\n",
              "      <td>0</td>\n",
              "      <td>5</td>\n",
              "      <td>1</td>\n",
              "      <td>0</td>\n",
              "      <td>0</td>\n",
              "      <td>1</td>\n",
              "      <td>3</td>\n",
              "      <td>96</td>\n",
              "      <td>0</td>\n",
              "      <td>65</td>\n",
              "      <td>158.27492</td>\n",
              "      <td>3</td>\n",
              "      <td>0.16047</td>\n",
              "      <td>0</td>\n",
              "    </tr>\n",
              "    <tr>\n",
              "      <th>374660</th>\n",
              "      <td>202041</td>\n",
              "      <td>1025</td>\n",
              "      <td>0</td>\n",
              "      <td>202100</td>\n",
              "      <td>0.00000</td>\n",
              "      <td>0</td>\n",
              "      <td>5</td>\n",
              "      <td>0</td>\n",
              "      <td>0</td>\n",
              "      <td>0</td>\n",
              "      <td>0</td>\n",
              "      <td>4</td>\n",
              "      <td>7</td>\n",
              "      <td>689</td>\n",
              "      <td>7</td>\n",
              "      <td>115.00407</td>\n",
              "      <td>0</td>\n",
              "      <td>1.01325</td>\n",
              "      <td>0</td>\n",
              "    </tr>\n",
              "  </tbody>\n",
              "</table>\n",
              "<p>374661 rows × 19 columns</p>\n",
              "</div>\n",
              "    <div class=\"colab-df-buttons\">\n",
              "\n",
              "  <div class=\"colab-df-container\">\n",
              "    <button class=\"colab-df-convert\" onclick=\"convertToInteractive('df-34979938-55c2-4752-affb-f273d1f3d28e')\"\n",
              "            title=\"Convert this dataframe to an interactive table.\"\n",
              "            style=\"display:none;\">\n",
              "\n",
              "  <svg xmlns=\"http://www.w3.org/2000/svg\" height=\"24px\" viewBox=\"0 -960 960 960\">\n",
              "    <path d=\"M120-120v-720h720v720H120Zm60-500h600v-160H180v160Zm220 220h160v-160H400v160Zm0 220h160v-160H400v160ZM180-400h160v-160H180v160Zm440 0h160v-160H620v160ZM180-180h160v-160H180v160Zm440 0h160v-160H620v160Z\"/>\n",
              "  </svg>\n",
              "    </button>\n",
              "\n",
              "  <style>\n",
              "    .colab-df-container {\n",
              "      display:flex;\n",
              "      gap: 12px;\n",
              "    }\n",
              "\n",
              "    .colab-df-convert {\n",
              "      background-color: #E8F0FE;\n",
              "      border: none;\n",
              "      border-radius: 50%;\n",
              "      cursor: pointer;\n",
              "      display: none;\n",
              "      fill: #1967D2;\n",
              "      height: 32px;\n",
              "      padding: 0 0 0 0;\n",
              "      width: 32px;\n",
              "    }\n",
              "\n",
              "    .colab-df-convert:hover {\n",
              "      background-color: #E2EBFA;\n",
              "      box-shadow: 0px 1px 2px rgba(60, 64, 67, 0.3), 0px 1px 3px 1px rgba(60, 64, 67, 0.15);\n",
              "      fill: #174EA6;\n",
              "    }\n",
              "\n",
              "    .colab-df-buttons div {\n",
              "      margin-bottom: 4px;\n",
              "    }\n",
              "\n",
              "    [theme=dark] .colab-df-convert {\n",
              "      background-color: #3B4455;\n",
              "      fill: #D2E3FC;\n",
              "    }\n",
              "\n",
              "    [theme=dark] .colab-df-convert:hover {\n",
              "      background-color: #434B5C;\n",
              "      box-shadow: 0px 1px 3px 1px rgba(0, 0, 0, 0.15);\n",
              "      filter: drop-shadow(0px 1px 2px rgba(0, 0, 0, 0.3));\n",
              "      fill: #FFFFFF;\n",
              "    }\n",
              "  </style>\n",
              "\n",
              "    <script>\n",
              "      const buttonEl =\n",
              "        document.querySelector('#df-34979938-55c2-4752-affb-f273d1f3d28e button.colab-df-convert');\n",
              "      buttonEl.style.display =\n",
              "        google.colab.kernel.accessAllowed ? 'block' : 'none';\n",
              "\n",
              "      async function convertToInteractive(key) {\n",
              "        const element = document.querySelector('#df-34979938-55c2-4752-affb-f273d1f3d28e');\n",
              "        const dataTable =\n",
              "          await google.colab.kernel.invokeFunction('convertToInteractive',\n",
              "                                                    [key], {});\n",
              "        if (!dataTable) return;\n",
              "\n",
              "        const docLinkHtml = 'Like what you see? Visit the ' +\n",
              "          '<a target=\"_blank\" href=https://colab.research.google.com/notebooks/data_table.ipynb>data table notebook</a>'\n",
              "          + ' to learn more about interactive tables.';\n",
              "        element.innerHTML = '';\n",
              "        dataTable['output_type'] = 'display_data';\n",
              "        await google.colab.output.renderOutput(dataTable, element);\n",
              "        const docLink = document.createElement('div');\n",
              "        docLink.innerHTML = docLinkHtml;\n",
              "        element.appendChild(docLink);\n",
              "      }\n",
              "    </script>\n",
              "  </div>\n",
              "\n",
              "\n",
              "    <div id=\"df-08c22770-2afb-4eca-ba7b-f07a7b6d7b44\">\n",
              "      <button class=\"colab-df-quickchart\" onclick=\"quickchart('df-08c22770-2afb-4eca-ba7b-f07a7b6d7b44')\"\n",
              "                title=\"Suggest charts\"\n",
              "                style=\"display:none;\">\n",
              "\n",
              "<svg xmlns=\"http://www.w3.org/2000/svg\" height=\"24px\"viewBox=\"0 0 24 24\"\n",
              "     width=\"24px\">\n",
              "    <g>\n",
              "        <path d=\"M19 3H5c-1.1 0-2 .9-2 2v14c0 1.1.9 2 2 2h14c1.1 0 2-.9 2-2V5c0-1.1-.9-2-2-2zM9 17H7v-7h2v7zm4 0h-2V7h2v10zm4 0h-2v-4h2v4z\"/>\n",
              "    </g>\n",
              "</svg>\n",
              "      </button>\n",
              "\n",
              "<style>\n",
              "  .colab-df-quickchart {\n",
              "      --bg-color: #E8F0FE;\n",
              "      --fill-color: #1967D2;\n",
              "      --hover-bg-color: #E2EBFA;\n",
              "      --hover-fill-color: #174EA6;\n",
              "      --disabled-fill-color: #AAA;\n",
              "      --disabled-bg-color: #DDD;\n",
              "  }\n",
              "\n",
              "  [theme=dark] .colab-df-quickchart {\n",
              "      --bg-color: #3B4455;\n",
              "      --fill-color: #D2E3FC;\n",
              "      --hover-bg-color: #434B5C;\n",
              "      --hover-fill-color: #FFFFFF;\n",
              "      --disabled-bg-color: #3B4455;\n",
              "      --disabled-fill-color: #666;\n",
              "  }\n",
              "\n",
              "  .colab-df-quickchart {\n",
              "    background-color: var(--bg-color);\n",
              "    border: none;\n",
              "    border-radius: 50%;\n",
              "    cursor: pointer;\n",
              "    display: none;\n",
              "    fill: var(--fill-color);\n",
              "    height: 32px;\n",
              "    padding: 0;\n",
              "    width: 32px;\n",
              "  }\n",
              "\n",
              "  .colab-df-quickchart:hover {\n",
              "    background-color: var(--hover-bg-color);\n",
              "    box-shadow: 0 1px 2px rgba(60, 64, 67, 0.3), 0 1px 3px 1px rgba(60, 64, 67, 0.15);\n",
              "    fill: var(--button-hover-fill-color);\n",
              "  }\n",
              "\n",
              "  .colab-df-quickchart-complete:disabled,\n",
              "  .colab-df-quickchart-complete:disabled:hover {\n",
              "    background-color: var(--disabled-bg-color);\n",
              "    fill: var(--disabled-fill-color);\n",
              "    box-shadow: none;\n",
              "  }\n",
              "\n",
              "  .colab-df-spinner {\n",
              "    border: 2px solid var(--fill-color);\n",
              "    border-color: transparent;\n",
              "    border-bottom-color: var(--fill-color);\n",
              "    animation:\n",
              "      spin 1s steps(1) infinite;\n",
              "  }\n",
              "\n",
              "  @keyframes spin {\n",
              "    0% {\n",
              "      border-color: transparent;\n",
              "      border-bottom-color: var(--fill-color);\n",
              "      border-left-color: var(--fill-color);\n",
              "    }\n",
              "    20% {\n",
              "      border-color: transparent;\n",
              "      border-left-color: var(--fill-color);\n",
              "      border-top-color: var(--fill-color);\n",
              "    }\n",
              "    30% {\n",
              "      border-color: transparent;\n",
              "      border-left-color: var(--fill-color);\n",
              "      border-top-color: var(--fill-color);\n",
              "      border-right-color: var(--fill-color);\n",
              "    }\n",
              "    40% {\n",
              "      border-color: transparent;\n",
              "      border-right-color: var(--fill-color);\n",
              "      border-top-color: var(--fill-color);\n",
              "    }\n",
              "    60% {\n",
              "      border-color: transparent;\n",
              "      border-right-color: var(--fill-color);\n",
              "    }\n",
              "    80% {\n",
              "      border-color: transparent;\n",
              "      border-right-color: var(--fill-color);\n",
              "      border-bottom-color: var(--fill-color);\n",
              "    }\n",
              "    90% {\n",
              "      border-color: transparent;\n",
              "      border-bottom-color: var(--fill-color);\n",
              "    }\n",
              "  }\n",
              "</style>\n",
              "\n",
              "      <script>\n",
              "        async function quickchart(key) {\n",
              "          const quickchartButtonEl =\n",
              "            document.querySelector('#' + key + ' button');\n",
              "          quickchartButtonEl.disabled = true;  // To prevent multiple clicks.\n",
              "          quickchartButtonEl.classList.add('colab-df-spinner');\n",
              "          try {\n",
              "            const charts = await google.colab.kernel.invokeFunction(\n",
              "                'suggestCharts', [key], {});\n",
              "          } catch (error) {\n",
              "            console.error('Error during call to suggestCharts:', error);\n",
              "          }\n",
              "          quickchartButtonEl.classList.remove('colab-df-spinner');\n",
              "          quickchartButtonEl.classList.add('colab-df-quickchart-complete');\n",
              "        }\n",
              "        (() => {\n",
              "          let quickchartButtonEl =\n",
              "            document.querySelector('#df-08c22770-2afb-4eca-ba7b-f07a7b6d7b44 button');\n",
              "          quickchartButtonEl.style.display =\n",
              "            google.colab.kernel.accessAllowed ? 'block' : 'none';\n",
              "        })();\n",
              "      </script>\n",
              "    </div>\n",
              "\n",
              "  <div id=\"id_a20b3228-28c4-4a59-8c84-5a19e3e8dd85\">\n",
              "    <style>\n",
              "      .colab-df-generate {\n",
              "        background-color: #E8F0FE;\n",
              "        border: none;\n",
              "        border-radius: 50%;\n",
              "        cursor: pointer;\n",
              "        display: none;\n",
              "        fill: #1967D2;\n",
              "        height: 32px;\n",
              "        padding: 0 0 0 0;\n",
              "        width: 32px;\n",
              "      }\n",
              "\n",
              "      .colab-df-generate:hover {\n",
              "        background-color: #E2EBFA;\n",
              "        box-shadow: 0px 1px 2px rgba(60, 64, 67, 0.3), 0px 1px 3px 1px rgba(60, 64, 67, 0.15);\n",
              "        fill: #174EA6;\n",
              "      }\n",
              "\n",
              "      [theme=dark] .colab-df-generate {\n",
              "        background-color: #3B4455;\n",
              "        fill: #D2E3FC;\n",
              "      }\n",
              "\n",
              "      [theme=dark] .colab-df-generate:hover {\n",
              "        background-color: #434B5C;\n",
              "        box-shadow: 0px 1px 3px 1px rgba(0, 0, 0, 0.15);\n",
              "        filter: drop-shadow(0px 1px 2px rgba(0, 0, 0, 0.3));\n",
              "        fill: #FFFFFF;\n",
              "      }\n",
              "    </style>\n",
              "    <button class=\"colab-df-generate\" onclick=\"generateWithVariable('dataset')\"\n",
              "            title=\"Generate code using this dataframe.\"\n",
              "            style=\"display:none;\">\n",
              "\n",
              "  <svg xmlns=\"http://www.w3.org/2000/svg\" height=\"24px\"viewBox=\"0 0 24 24\"\n",
              "       width=\"24px\">\n",
              "    <path d=\"M7,19H8.4L18.45,9,17,7.55,7,17.6ZM5,21V16.75L18.45,3.32a2,2,0,0,1,2.83,0l1.4,1.43a1.91,1.91,0,0,1,.58,1.4,1.91,1.91,0,0,1-.58,1.4L9.25,21ZM18.45,9,17,7.55Zm-12,3A5.31,5.31,0,0,0,4.9,8.1,5.31,5.31,0,0,0,1,6.5,5.31,5.31,0,0,0,4.9,4.9,5.31,5.31,0,0,0,6.5,1,5.31,5.31,0,0,0,8.1,4.9,5.31,5.31,0,0,0,12,6.5,5.46,5.46,0,0,0,6.5,12Z\"/>\n",
              "  </svg>\n",
              "    </button>\n",
              "    <script>\n",
              "      (() => {\n",
              "      const buttonEl =\n",
              "        document.querySelector('#id_a20b3228-28c4-4a59-8c84-5a19e3e8dd85 button.colab-df-generate');\n",
              "      buttonEl.style.display =\n",
              "        google.colab.kernel.accessAllowed ? 'block' : 'none';\n",
              "\n",
              "      buttonEl.onclick = () => {\n",
              "        google.colab.notebook.generateWithVariable('dataset');\n",
              "      }\n",
              "      })();\n",
              "    </script>\n",
              "  </div>\n",
              "\n",
              "    </div>\n",
              "  </div>\n"
            ],
            "application/vnd.google.colaboratory.intrinsic+json": {
              "type": "dataframe",
              "variable_name": "dataset"
            }
          },
          "metadata": {},
          "execution_count": 3
        }
      ]
    },
    {
      "cell_type": "code",
      "source": [
        "# Encode non-numeric columns (if any)\n",
        "for column in dataset.columns:\n",
        "    if dataset[column].dtype == 'object':  # Identify categorical columns\n",
        "        dataset[column] = LabelEncoder().fit_transform(dataset[column])\n",
        "\n",
        "# Separate features (X) and target (y)\n",
        "X = dataset.drop(['Class'], axis=1)  # Assuming 'Class' is the target column\n",
        "y = dataset['Class']\n",
        "\n",
        "print(\"Original Class Distribution:\", np.bincount(y))"
      ],
      "metadata": {
        "colab": {
          "base_uri": "https://localhost:8080/"
        },
        "id": "Dowyj2_K40dN",
        "outputId": "dff8a914-29a2-4a29-a86d-0cfc8ae8ceb3"
      },
      "execution_count": 4,
      "outputs": [
        {
          "output_type": "stream",
          "name": "stdout",
          "text": [
            "Original Class Distribution: [340066  14596  10049   6638   3312]\n"
          ]
        }
      ]
    },
    {
      "cell_type": "code",
      "source": [
        "from sklearn.preprocessing import LabelEncoder, StandardScaler # Import StandardScaler here\n",
        "# Standardize the features\n",
        "scaler = StandardScaler()\n",
        "X = scaler.fit_transform(X)"
      ],
      "metadata": {
        "id": "dJpVHnlT40ax"
      },
      "execution_count": 5,
      "outputs": []
    },
    {
      "cell_type": "code",
      "source": [
        "from imblearn.over_sampling import SMOTE\n",
        "\n",
        "# Apply SMOTE to balance the data\n",
        "smote = SMOTE(random_state=42)\n",
        "X, y = smote.fit_resample(X, y)\n",
        "\n",
        "# Verify the balanced dataset distribution\n",
        "print(\"Balanced Class Distribution:\", np.bincount(y))"
      ],
      "metadata": {
        "colab": {
          "base_uri": "https://localhost:8080/"
        },
        "id": "DQ7_E-jC40YK",
        "outputId": "a676aa57-e8ca-4294-b377-4820f1af6010"
      },
      "execution_count": 6,
      "outputs": [
        {
          "output_type": "stream",
          "name": "stdout",
          "text": [
            "Balanced Class Distribution: [340066 340066 340066 340066 340066]\n"
          ]
        }
      ]
    },
    {
      "cell_type": "code",
      "source": [
        "# Train-test split\n",
        "X_train, X_test, y_train, y_test = train_test_split(X, y, test_size=0.2, random_state=101, stratify=y)"
      ],
      "metadata": {
        "id": "zONYNT5X4-vt"
      },
      "execution_count": 7,
      "outputs": []
    },
    {
      "cell_type": "code",
      "source": [
        "pip install matplotlib"
      ],
      "metadata": {
        "colab": {
          "base_uri": "https://localhost:8080/"
        },
        "id": "Fj-eBiL94-st",
        "outputId": "2726fc60-9825-4750-98ea-e3e962326212"
      },
      "execution_count": 8,
      "outputs": [
        {
          "output_type": "stream",
          "name": "stdout",
          "text": [
            "Requirement already satisfied: matplotlib in /usr/local/lib/python3.11/dist-packages (3.10.0)\n",
            "Requirement already satisfied: contourpy>=1.0.1 in /usr/local/lib/python3.11/dist-packages (from matplotlib) (1.3.2)\n",
            "Requirement already satisfied: cycler>=0.10 in /usr/local/lib/python3.11/dist-packages (from matplotlib) (0.12.1)\n",
            "Requirement already satisfied: fonttools>=4.22.0 in /usr/local/lib/python3.11/dist-packages (from matplotlib) (4.57.0)\n",
            "Requirement already satisfied: kiwisolver>=1.3.1 in /usr/local/lib/python3.11/dist-packages (from matplotlib) (1.4.8)\n",
            "Requirement already satisfied: numpy>=1.23 in /usr/local/lib/python3.11/dist-packages (from matplotlib) (2.0.2)\n",
            "Requirement already satisfied: packaging>=20.0 in /usr/local/lib/python3.11/dist-packages (from matplotlib) (24.2)\n",
            "Requirement already satisfied: pillow>=8 in /usr/local/lib/python3.11/dist-packages (from matplotlib) (11.2.1)\n",
            "Requirement already satisfied: pyparsing>=2.3.1 in /usr/local/lib/python3.11/dist-packages (from matplotlib) (3.2.3)\n",
            "Requirement already satisfied: python-dateutil>=2.7 in /usr/local/lib/python3.11/dist-packages (from matplotlib) (2.9.0.post0)\n",
            "Requirement already satisfied: six>=1.5 in /usr/local/lib/python3.11/dist-packages (from python-dateutil>=2.7->matplotlib) (1.17.0)\n"
          ]
        }
      ]
    },
    {
      "cell_type": "code",
      "source": [
        "import matplotlib.pyplot as plt\n",
        "from sklearn.ensemble import RandomForestClassifier\n",
        "from sklearn.metrics import confusion_matrix, classification_report\n",
        "from tensorflow.keras.models import Sequential\n",
        "from tensorflow.keras.layers import LSTM, Dropout, Dense, TimeDistributed\n",
        "from tensorflow.keras.regularizers import l2\n",
        "import numpy as np"
      ],
      "metadata": {
        "id": "0pFs7y8o4-qC"
      },
      "execution_count": 9,
      "outputs": []
    },
    {
      "cell_type": "code",
      "source": [
        "y_train_cat = to_categorical(y_train)\n",
        "y_test_cat = to_categorical(y_test)\n",
        "\n",
        "X_train = X_train.reshape((X_train.shape[0], X_train.shape[1], 1))\n",
        "X_test = X_test.reshape((X_test.shape[0], X_test.shape[1], 1))\n",
        "\n",
        "input_shape = (X_train.shape[1], X_train.shape[2])\n",
        "num_classes = y_train_cat.shape[1]\n",
        "\n",
        "def build_hybrid_model(input_shape, num_classes):\n",
        "    model = Sequential()\n",
        "    model.add(InputLayer(input_shape=input_shape))\n",
        "    model.add(LSTM(64, activation='tanh', return_sequences=False, kernel_regularizer=l2(0.01)))\n",
        "    model.add(Dropout(0.3))\n",
        "    model.add(Dense(128, activation='relu', kernel_regularizer=l2(0.01)))\n",
        "    model.add(Dropout(0.3))\n",
        "    model.add(Dense(64, activation='relu', kernel_regularizer=l2(0.01)))\n",
        "    model.add(Dropout(0.3))\n",
        "    model.add(Dense(num_classes, activation='softmax'))\n",
        "    return model\n",
        "\n",
        "def compute_cosine_similarity(update1, update2):\n",
        "    flat1 = np.concatenate([w.flatten() for w in update1])\n",
        "    flat2 = np.concatenate([w.flatten() for w in update2])\n",
        "    return 1 - cosine(flat1, flat2)\n",
        "\n",
        "def compute_stability(client_updates, history):\n",
        "    if len(history) < 2:\n",
        "        return 1.0\n",
        "    sims = [compute_cosine_similarity(client_updates, past) for past in history[-3:]]\n",
        "    return np.mean(sims)\n",
        "\n",
        "def normalize(value, min_val, max_val):\n",
        "    return (value - min_val) / (max_val - min_val + 1e-8)\n",
        "\n",
        "def compute_trust_scores(client_updates_dict, global_weights, val_losses_dict, update_history_dict, alpha=(0.4, 0.4, 0.2)):\n",
        "    scores = {}\n",
        "    all_val_losses = list(val_losses_dict.values())\n",
        "    min_loss, max_loss = min(all_val_losses), max(all_val_losses)\n",
        "\n",
        "    for client_id, local_update in client_updates_dict.items():\n",
        "        sim = compute_cosine_similarity(local_update, global_weights)\n",
        "        val_loss = val_losses_dict[client_id]\n",
        "        stability = compute_stability(local_update, update_history_dict.get(client_id, []))\n",
        "        norm_val_loss = normalize(val_loss, min_loss, max_loss)\n",
        "        trust = (alpha[0] * sim) + (alpha[1] * (1 - norm_val_loss)) + (alpha[2] * stability)\n",
        "        scores[client_id] = trust\n",
        "    return scores\n",
        "\n",
        "def trust_weighted_aggregation(client_weights, trust_scores):\n",
        "    total_trust = sum(trust_scores.values())\n",
        "    new_global = [\n",
        "        sum(trust_scores[cid] * np.array(client_weights[cid][i]) for cid in client_weights) / total_trust\n",
        "        for i in range(len(next(iter(client_weights.values()))))\n",
        "    ]\n",
        "    return new_global\n",
        "\n",
        "def evaluate_global_model(model, X_test, y_test):\n",
        "    y_pred = model.predict(X_test)\n",
        "    y_pred_classes = np.argmax(y_pred, axis=1)\n",
        "    y_true_classes = np.argmax(y_test, axis=1)\n",
        "\n",
        "    accuracy = accuracy_score(y_true_classes, y_pred_classes)\n",
        "    precision = precision_score(y_true_classes, y_pred_classes, average='weighted')\n",
        "    recall = recall_score(y_true_classes, y_pred_classes, average='weighted')\n",
        "    f1 = f1_score(y_true_classes, y_pred_classes, average='weighted')\n",
        "    cm = confusion_matrix(y_true_classes, y_pred_classes)\n",
        "\n",
        "    return accuracy, precision, recall, f1, cm\n",
        "\n",
        "# Trust and metric logs\n",
        "trust_log = []\n",
        "round_metrics = []\n",
        "communication_cost_log = []\n",
        "\n",
        "def federated_learning_with_trust(X_train, y_train_cat, X_test, y_test_cat, num_clients=5, rounds=30):\n",
        "    client_data = np.array_split(X_train, num_clients)\n",
        "    client_labels = np.array_split(y_train_cat, num_clients)\n",
        "\n",
        "    global_model = build_hybrid_model(input_shape, num_classes)\n",
        "    global_model.compile(optimizer='adam', loss='categorical_crossentropy', metrics=['accuracy'])\n",
        "    global_weights = global_model.get_weights()\n",
        "\n",
        "    update_history = {i: [] for i in range(num_clients)}\n",
        "\n",
        "    for round in range(rounds):\n",
        "        client_updates = {}\n",
        "        val_losses = {}\n",
        "        round_cost = 0\n",
        "\n",
        "        for i in range(num_clients):\n",
        "            local_model = build_hybrid_model(input_shape, num_classes)\n",
        "            local_model.set_weights(global_weights)\n",
        "            local_model.compile(optimizer='adam', loss='categorical_crossentropy', metrics=['accuracy'])\n",
        "            local_model.fit(client_data[i], client_labels[i], epochs=1, batch_size=32, verbose=0)\n",
        "\n",
        "            local_weights = local_model.get_weights()\n",
        "            loss, _ = local_model.evaluate(X_test, y_test_cat, verbose=0)\n",
        "\n",
        "            client_updates[i] = local_weights\n",
        "            val_losses[i] = loss\n",
        "            update_history[i].append(local_weights)\n",
        "\n",
        "            # Compute communication cost per client\n",
        "            round_cost += sum(w.nbytes for w in local_weights)\n",
        "\n",
        "        trust_scores = compute_trust_scores(client_updates, global_weights, val_losses, update_history)\n",
        "\n",
        "        for client_id, score in trust_scores.items():\n",
        "            trust_log.append({\n",
        "                'round': round + 1,\n",
        "                'client_id': client_id,\n",
        "                'trust_score': score\n",
        "            })\n",
        "\n",
        "        global_weights = trust_weighted_aggregation(client_updates, trust_scores)\n",
        "        global_model.set_weights(global_weights)\n",
        "\n",
        "        accuracy, precision, recall, f1, cm = evaluate_global_model(global_model, X_test, y_test_cat)\n",
        "        print(f\"Round {round + 1}\")\n",
        "        #print(f\"Accuracy: {accuracy:.8f}, F1-Score: {f1:.8f}\")\n",
        "        print(f\"Accuracy: {accuracy:.8f}, Precision: {precision:.8f}, Recall: {recall:.8f}, F1-Score: {f1:.8f}\")\n",
        "        print(f\"Confusion Matrix:\\n{cm}\\n\")\n",
        "\n",
        "        round_metrics.append({'round': round + 1, 'accuracy': accuracy, 'f1': f1})\n",
        "        communication_cost_log.append({'round': round + 1, 'comm_cost_MB': round_cost / (1024**2)})\n",
        "\n",
        "    # Save logs\n",
        "    pd.DataFrame(trust_log).to_csv(\"trust_scores_log.csv\", index=False)\n",
        "    pd.DataFrame(round_metrics).to_csv(\"round_metrics_log.csv\", index=False)\n",
        "    pd.DataFrame(communication_cost_log).to_csv(\"communication_cost_log.csv\", index=False)\n",
        "\n",
        "    # Plot accuracy and F1-score\n",
        "    metric_df = pd.DataFrame(round_metrics)\n",
        "    plt.plot(metric_df['round'], metric_df['accuracy'], label='Accuracy')\n",
        "    plt.plot(metric_df['round'], metric_df['f1'], label='F1-Score')\n",
        "    plt.title(\"Model Convergence Over Rounds\")\n",
        "    plt.xlabel(\"Round\")\n",
        "    plt.ylabel(\"Score\")\n",
        "    plt.legend()\n",
        "    plt.grid(True)\n",
        "    plt.tight_layout()\n",
        "    plt.show()\n",
        "\n",
        "    # Plot trust score trends\n",
        "    trust_df = pd.DataFrame(trust_log)\n",
        "    for client_id in trust_df['client_id'].unique():\n",
        "        client_data = trust_df[trust_df['client_id'] == client_id]\n",
        "        plt.plot(client_data['round'], client_data['trust_score'], label=f'Client {client_id}')\n",
        "    plt.xlabel(\"Round\")\n",
        "    plt.ylabel(\"Trust Score\")\n",
        "    plt.title(\"Trust Score Evolution per Client\")\n",
        "    plt.legend(loc='upper left')\n",
        "    plt.grid(True)\n",
        "    plt.tight_layout()\n",
        "    plt.show()\n",
        "\n",
        "    # Plot trust score volatility (standard deviation over rounds)\n",
        "    volatility = trust_df.groupby('client_id')['trust_score'].std().reset_index()\n",
        "    plt.bar(volatility['client_id'], volatility['trust_score'])\n",
        "    plt.title(\"Trust Score Volatility per Client\")\n",
        "    plt.xlabel(\"Client ID\")\n",
        "    plt.ylabel(\"Std Dev of Trust Score\")\n",
        "    plt.grid(True)\n",
        "    plt.tight_layout()\n",
        "    plt.show()\n",
        "\n",
        "# Execute\n",
        "federated_learning_with_trust(X_train, y_train_cat, X_test, y_test_cat)"
      ],
      "metadata": {
        "colab": {
          "base_uri": "https://localhost:8080/",
          "height": 1000
        },
        "id": "PTOkOanu4-nW",
        "outputId": "3d117b0a-eb53-41e4-adcc-34d095d88caa"
      },
      "execution_count": 10,
      "outputs": [
        {
          "output_type": "stream",
          "name": "stderr",
          "text": [
            "/usr/local/lib/python3.11/dist-packages/keras/src/layers/core/input_layer.py:27: UserWarning: Argument `input_shape` is deprecated. Use `shape` instead.\n",
            "  warnings.warn(\n"
          ]
        },
        {
          "output_type": "stream",
          "name": "stdout",
          "text": [
            "\u001b[1m10628/10628\u001b[0m \u001b[32m━━━━━━━━━━━━━━━━━━━━\u001b[0m\u001b[37m\u001b[0m \u001b[1m43s\u001b[0m 4ms/step\n",
            "Round 1\n",
            "Accuracy: 0.77230890, Precision: 0.80261400, Recall: 0.77230890, F1-Score: 0.74844887\n",
            "Confusion Matrix:\n",
            "[[67441   383     3    95    91]\n",
            " [ 9766 57604   154   489     0]\n",
            " [ 8624 42678 16142   569     0]\n",
            " [ 8832   232  5090 53860     0]\n",
            " [  147   277     0     0 67589]]\n",
            "\n"
          ]
        },
        {
          "output_type": "stream",
          "name": "stderr",
          "text": [
            "/usr/local/lib/python3.11/dist-packages/keras/src/layers/core/input_layer.py:27: UserWarning: Argument `input_shape` is deprecated. Use `shape` instead.\n",
            "  warnings.warn(\n"
          ]
        },
        {
          "output_type": "stream",
          "name": "stdout",
          "text": [
            "\u001b[1m10628/10628\u001b[0m \u001b[32m━━━━━━━━━━━━━━━━━━━━\u001b[0m\u001b[37m\u001b[0m \u001b[1m45s\u001b[0m 4ms/step\n",
            "Round 2\n",
            "Accuracy: 0.90578594, Precision: 0.92812148, Recall: 0.90578594, F1-Score: 0.90256705\n",
            "Confusion Matrix:\n",
            "[[67599   258     1    72    83]\n",
            " [   15 41047 26949     2     0]\n",
            " [    0     0 67977    36     0]\n",
            " [ 4317   211    42 63444     0]\n",
            " [   52     1     0     0 67960]]\n",
            "\n"
          ]
        },
        {
          "output_type": "stream",
          "name": "stderr",
          "text": [
            "/usr/local/lib/python3.11/dist-packages/keras/src/layers/core/input_layer.py:27: UserWarning: Argument `input_shape` is deprecated. Use `shape` instead.\n",
            "  warnings.warn(\n"
          ]
        },
        {
          "output_type": "stream",
          "name": "stdout",
          "text": [
            "\u001b[1m10628/10628\u001b[0m \u001b[32m━━━━━━━━━━━━━━━━━━━━\u001b[0m\u001b[37m\u001b[0m \u001b[1m47s\u001b[0m 4ms/step\n",
            "Round 3\n",
            "Accuracy: 0.90573595, Precision: 0.92819558, Recall: 0.90573595, F1-Score: 0.90250930\n",
            "Confusion Matrix:\n",
            "[[67683   220     2    30    78]\n",
            " [   12 41060 26932     9     0]\n",
            " [    0     0 67979    34     0]\n",
            " [ 4474   198    31 63311     0]\n",
            " [   35     1     0     0 67977]]\n",
            "\n"
          ]
        },
        {
          "output_type": "stream",
          "name": "stderr",
          "text": [
            "/usr/local/lib/python3.11/dist-packages/keras/src/layers/core/input_layer.py:27: UserWarning: Argument `input_shape` is deprecated. Use `shape` instead.\n",
            "  warnings.warn(\n"
          ]
        },
        {
          "output_type": "stream",
          "name": "stdout",
          "text": [
            "\u001b[1m10628/10628\u001b[0m \u001b[32m━━━━━━━━━━━━━━━━━━━━\u001b[0m\u001b[37m\u001b[0m \u001b[1m48s\u001b[0m 4ms/step\n",
            "Round 4\n",
            "Accuracy: 0.90631524, Precision: 0.92912420, Recall: 0.90631524, F1-Score: 0.90306086\n",
            "Confusion Matrix:\n",
            "[[67737   138     1    58    79]\n",
            " [   45 41029 26931     8     0]\n",
            " [    0     0 67976    37     0]\n",
            " [ 4412    90    39 63473     0]\n",
            " [   21     0     0     0 67992]]\n",
            "\n"
          ]
        },
        {
          "output_type": "stream",
          "name": "stderr",
          "text": [
            "/usr/local/lib/python3.11/dist-packages/keras/src/layers/core/input_layer.py:27: UserWarning: Argument `input_shape` is deprecated. Use `shape` instead.\n",
            "  warnings.warn(\n"
          ]
        },
        {
          "output_type": "stream",
          "name": "stdout",
          "text": [
            "\u001b[1m10628/10628\u001b[0m \u001b[32m━━━━━━━━━━━━━━━━━━━━\u001b[0m\u001b[37m\u001b[0m \u001b[1m54s\u001b[0m 5ms/step\n",
            "Round 5\n",
            "Accuracy: 0.90585063, Precision: 0.92859731, Recall: 0.90585063, F1-Score: 0.90259140\n",
            "Confusion Matrix:\n",
            "[[67775   136    10    16    76]\n",
            " [   63 41011 26939     0     0]\n",
            " [    0     0 68000    13     0]\n",
            " [ 4497   184    45 63288     0]\n",
            " [   38     0     0     0 67975]]\n",
            "\n"
          ]
        },
        {
          "output_type": "stream",
          "name": "stderr",
          "text": [
            "/usr/local/lib/python3.11/dist-packages/keras/src/layers/core/input_layer.py:27: UserWarning: Argument `input_shape` is deprecated. Use `shape` instead.\n",
            "  warnings.warn(\n"
          ]
        },
        {
          "output_type": "stream",
          "name": "stdout",
          "text": [
            "\u001b[1m10628/10628\u001b[0m \u001b[32m━━━━━━━━━━━━━━━━━━━━\u001b[0m\u001b[37m\u001b[0m \u001b[1m47s\u001b[0m 4ms/step\n",
            "Round 6\n",
            "Accuracy: 0.90619762, Precision: 0.92911157, Recall: 0.90619762, F1-Score: 0.90294303\n",
            "Confusion Matrix:\n",
            "[[67761   137     0    36    79]\n",
            " [   51 41023 26939     0     0]\n",
            " [    0     0 68010     3     0]\n",
            " [ 4503    85    51 63375     0]\n",
            " [   14     1     0     0 67998]]\n",
            "\n"
          ]
        },
        {
          "output_type": "stream",
          "name": "stderr",
          "text": [
            "/usr/local/lib/python3.11/dist-packages/keras/src/layers/core/input_layer.py:27: UserWarning: Argument `input_shape` is deprecated. Use `shape` instead.\n",
            "  warnings.warn(\n"
          ]
        },
        {
          "output_type": "stream",
          "name": "stdout",
          "text": [
            "\u001b[1m10628/10628\u001b[0m \u001b[32m━━━━━━━━━━━━━━━━━━━━\u001b[0m\u001b[37m\u001b[0m \u001b[1m47s\u001b[0m 4ms/step\n",
            "Round 7\n",
            "Accuracy: 0.90632995, Precision: 0.92905145, Recall: 0.90632995, F1-Score: 0.90309359\n",
            "Confusion Matrix:\n",
            "[[67760   140     0    35    78]\n",
            " [   22 41052 26939     0     0]\n",
            " [    0     0 68005     8     0]\n",
            " [ 4416   152    37 63409     0]\n",
            " [   25     2     0     0 67986]]\n",
            "\n"
          ]
        },
        {
          "output_type": "stream",
          "name": "stderr",
          "text": [
            "/usr/local/lib/python3.11/dist-packages/keras/src/layers/core/input_layer.py:27: UserWarning: Argument `input_shape` is deprecated. Use `shape` instead.\n",
            "  warnings.warn(\n"
          ]
        },
        {
          "output_type": "stream",
          "name": "stdout",
          "text": [
            "\u001b[1m10628/10628\u001b[0m \u001b[32m━━━━━━━━━━━━━━━━━━━━\u001b[0m\u001b[37m\u001b[0m \u001b[1m51s\u001b[0m 5ms/step\n",
            "Round 8\n",
            "Accuracy: 0.90590356, Precision: 0.92862834, Recall: 0.90590356, F1-Score: 0.90268393\n",
            "Confusion Matrix:\n",
            "[[67766   151    13     6    77]\n",
            " [    8 41066 26939     0     0]\n",
            " [    0     0 68010     3     0]\n",
            " [ 4550   184    37 63243     0]\n",
            " [   26     0     5     0 67982]]\n",
            "\n"
          ]
        },
        {
          "output_type": "stream",
          "name": "stderr",
          "text": [
            "/usr/local/lib/python3.11/dist-packages/keras/src/layers/core/input_layer.py:27: UserWarning: Argument `input_shape` is deprecated. Use `shape` instead.\n",
            "  warnings.warn(\n"
          ]
        },
        {
          "output_type": "stream",
          "name": "stdout",
          "text": [
            "\u001b[1m10628/10628\u001b[0m \u001b[32m━━━━━━━━━━━━━━━━━━━━\u001b[0m\u001b[37m\u001b[0m \u001b[1m47s\u001b[0m 4ms/step\n",
            "Round 9\n",
            "Accuracy: 0.90578888, Precision: 0.92847295, Recall: 0.90578888, F1-Score: 0.90256389\n",
            "Confusion Matrix:\n",
            "[[67771   158     5     3    76]\n",
            " [   16 41058 26939     0     0]\n",
            " [    0     0 68013     0     0]\n",
            " [ 4559   199    52 63204     0]\n",
            " [   23     7     1     0 67982]]\n",
            "\n"
          ]
        },
        {
          "output_type": "stream",
          "name": "stderr",
          "text": [
            "/usr/local/lib/python3.11/dist-packages/keras/src/layers/core/input_layer.py:27: UserWarning: Argument `input_shape` is deprecated. Use `shape` instead.\n",
            "  warnings.warn(\n"
          ]
        },
        {
          "output_type": "stream",
          "name": "stdout",
          "text": [
            "\u001b[1m10628/10628\u001b[0m \u001b[32m━━━━━━━━━━━━━━━━━━━━\u001b[0m\u001b[37m\u001b[0m \u001b[1m44s\u001b[0m 4ms/step\n",
            "Round 10\n",
            "Accuracy: 0.90649168, Precision: 0.92926201, Recall: 0.90649168, F1-Score: 0.90323891\n",
            "Confusion Matrix:\n",
            "[[67787   119     1    30    76]\n",
            " [   18 41048 26930    17     0]\n",
            " [    0     0 68007     6     0]\n",
            " [ 4434   128    17 63435     0]\n",
            " [   20     3     0     0 67990]]\n",
            "\n"
          ]
        },
        {
          "output_type": "stream",
          "name": "stderr",
          "text": [
            "/usr/local/lib/python3.11/dist-packages/keras/src/layers/core/input_layer.py:27: UserWarning: Argument `input_shape` is deprecated. Use `shape` instead.\n",
            "  warnings.warn(\n"
          ]
        },
        {
          "output_type": "stream",
          "name": "stdout",
          "text": [
            "\u001b[1m10628/10628\u001b[0m \u001b[32m━━━━━━━━━━━━━━━━━━━━\u001b[0m\u001b[37m\u001b[0m \u001b[1m44s\u001b[0m 4ms/step\n",
            "Round 11\n",
            "Accuracy: 0.90680633, Precision: 0.92960476, Recall: 0.90680633, F1-Score: 0.90355165\n",
            "Confusion Matrix:\n",
            "[[67759   119     5    54    76]\n",
            " [   40 41033 26938     2     0]\n",
            " [    0     0 68012     1     0]\n",
            " [ 4307   108    23 63576     0]\n",
            " [   18     1     0     0 67994]]\n",
            "\n"
          ]
        },
        {
          "output_type": "stream",
          "name": "stderr",
          "text": [
            "/usr/local/lib/python3.11/dist-packages/keras/src/layers/core/input_layer.py:27: UserWarning: Argument `input_shape` is deprecated. Use `shape` instead.\n",
            "  warnings.warn(\n"
          ]
        },
        {
          "output_type": "stream",
          "name": "stdout",
          "text": [
            "\u001b[1m10628/10628\u001b[0m \u001b[32m━━━━━━━━━━━━━━━━━━━━\u001b[0m\u001b[37m\u001b[0m \u001b[1m57s\u001b[0m 5ms/step\n",
            "Round 12\n",
            "Accuracy: 0.90603295, Precision: 0.92867557, Recall: 0.90603295, F1-Score: 0.90279918\n",
            "Confusion Matrix:\n",
            "[[67785   148     0     4    76]\n",
            " [   13 41062 26938     0     0]\n",
            " [    0     1 68012     0     0]\n",
            " [ 4524   196    28 63266     0]\n",
            " [   17    10     0     0 67986]]\n",
            "\n"
          ]
        },
        {
          "output_type": "stream",
          "name": "stderr",
          "text": [
            "/usr/local/lib/python3.11/dist-packages/keras/src/layers/core/input_layer.py:27: UserWarning: Argument `input_shape` is deprecated. Use `shape` instead.\n",
            "  warnings.warn(\n"
          ]
        },
        {
          "output_type": "stream",
          "name": "stdout",
          "text": [
            "\u001b[1m10628/10628\u001b[0m \u001b[32m━━━━━━━━━━━━━━━━━━━━\u001b[0m\u001b[37m\u001b[0m \u001b[1m55s\u001b[0m 5ms/step\n",
            "Round 13\n",
            "Accuracy: 0.90579476, Precision: 0.92860352, Recall: 0.90579476, F1-Score: 0.90256486\n",
            "Confusion Matrix:\n",
            "[[67805   125     5     2    76]\n",
            " [    9 41065 26939     0     0]\n",
            " [    0     0 68013     0     0]\n",
            " [ 4646   173    38 63157     0]\n",
            " [   18     5     0     0 67990]]\n",
            "\n"
          ]
        },
        {
          "output_type": "stream",
          "name": "stderr",
          "text": [
            "/usr/local/lib/python3.11/dist-packages/keras/src/layers/core/input_layer.py:27: UserWarning: Argument `input_shape` is deprecated. Use `shape` instead.\n",
            "  warnings.warn(\n"
          ]
        },
        {
          "output_type": "stream",
          "name": "stdout",
          "text": [
            "\u001b[1m10628/10628\u001b[0m \u001b[32m━━━━━━━━━━━━━━━━━━━━\u001b[0m\u001b[37m\u001b[0m \u001b[1m51s\u001b[0m 5ms/step\n",
            "Round 14\n",
            "Accuracy: 0.90625055, Precision: 0.92894794, Recall: 0.90625055, F1-Score: 0.90302059\n",
            "Confusion Matrix:\n",
            "[[67760   157     1    18    77]\n",
            " [   10 41064 26939     0     0]\n",
            " [    0     0 68013     0     0]\n",
            " [ 4476   150    28 63360     0]\n",
            " [   18     7     0     0 67988]]\n",
            "\n"
          ]
        },
        {
          "output_type": "stream",
          "name": "stderr",
          "text": [
            "/usr/local/lib/python3.11/dist-packages/keras/src/layers/core/input_layer.py:27: UserWarning: Argument `input_shape` is deprecated. Use `shape` instead.\n",
            "  warnings.warn(\n"
          ]
        },
        {
          "output_type": "stream",
          "name": "stdout",
          "text": [
            "\u001b[1m10628/10628\u001b[0m \u001b[32m━━━━━━━━━━━━━━━━━━━━\u001b[0m\u001b[37m\u001b[0m \u001b[1m51s\u001b[0m 5ms/step\n",
            "Round 15\n",
            "Accuracy: 0.90596237, Precision: 0.92849943, Recall: 0.90596237, F1-Score: 0.90275088\n",
            "Confusion Matrix:\n",
            "[[67686   228     9    14    76]\n",
            " [    6 41068 26939     0     0]\n",
            " [    0     0 68013     0     0]\n",
            " [ 4474   160    42 63338     0]\n",
            " [   10    21     0     0 67982]]\n",
            "\n"
          ]
        },
        {
          "output_type": "stream",
          "name": "stderr",
          "text": [
            "/usr/local/lib/python3.11/dist-packages/keras/src/layers/core/input_layer.py:27: UserWarning: Argument `input_shape` is deprecated. Use `shape` instead.\n",
            "  warnings.warn(\n"
          ]
        },
        {
          "output_type": "stream",
          "name": "stdout",
          "text": [
            "\u001b[1m10628/10628\u001b[0m \u001b[32m━━━━━━━━━━━━━━━━━━━━\u001b[0m\u001b[37m\u001b[0m \u001b[1m53s\u001b[0m 5ms/step\n",
            "Round 16\n",
            "Accuracy: 0.90607706, Precision: 0.92890061, Recall: 0.90607706, F1-Score: 0.90284890\n",
            "Confusion Matrix:\n",
            "[[67787   139     5     6    76]\n",
            " [   10 41065 26938     0     0]\n",
            " [    0     0 68013     0     0]\n",
            " [ 4576   127    34 63277     0]\n",
            " [   19    10     0     0 67984]]\n",
            "\n"
          ]
        },
        {
          "output_type": "stream",
          "name": "stderr",
          "text": [
            "/usr/local/lib/python3.11/dist-packages/keras/src/layers/core/input_layer.py:27: UserWarning: Argument `input_shape` is deprecated. Use `shape` instead.\n",
            "  warnings.warn(\n"
          ]
        },
        {
          "output_type": "stream",
          "name": "stdout",
          "text": [
            "\u001b[1m10628/10628\u001b[0m \u001b[32m━━━━━━━━━━━━━━━━━━━━\u001b[0m\u001b[37m\u001b[0m \u001b[1m51s\u001b[0m 5ms/step\n",
            "Round 17\n",
            "Accuracy: 0.90583299, Precision: 0.92849751, Recall: 0.90583299, F1-Score: 0.90261788\n",
            "Confusion Matrix:\n",
            "[[67758   148    29     2    76]\n",
            " [    3 41071 26939     0     0]\n",
            " [    0     0 68013     0     0]\n",
            " [ 4569   203    19 63223     0]\n",
            " [   12    17     6     0 67978]]\n",
            "\n"
          ]
        },
        {
          "output_type": "stream",
          "name": "stderr",
          "text": [
            "/usr/local/lib/python3.11/dist-packages/keras/src/layers/core/input_layer.py:27: UserWarning: Argument `input_shape` is deprecated. Use `shape` instead.\n",
            "  warnings.warn(\n"
          ]
        },
        {
          "output_type": "stream",
          "name": "stdout",
          "text": [
            "\u001b[1m10628/10628\u001b[0m \u001b[32m━━━━━━━━━━━━━━━━━━━━\u001b[0m\u001b[37m\u001b[0m \u001b[1m49s\u001b[0m 5ms/step\n",
            "Round 18\n",
            "Accuracy: 0.90603589, Precision: 0.92869005, Recall: 0.90603589, F1-Score: 0.90280004\n",
            "Confusion Matrix:\n",
            "[[67805   130     0     2    76]\n",
            " [   12 41063 26938     0     0]\n",
            " [    0     0 68013     0     0]\n",
            " [ 4528   215    26 63245     0]\n",
            " [   21     6     0     0 67986]]\n",
            "\n"
          ]
        },
        {
          "output_type": "stream",
          "name": "stderr",
          "text": [
            "/usr/local/lib/python3.11/dist-packages/keras/src/layers/core/input_layer.py:27: UserWarning: Argument `input_shape` is deprecated. Use `shape` instead.\n",
            "  warnings.warn(\n"
          ]
        },
        {
          "output_type": "stream",
          "name": "stdout",
          "text": [
            "\u001b[1m10628/10628\u001b[0m \u001b[32m━━━━━━━━━━━━━━━━━━━━\u001b[0m\u001b[37m\u001b[0m \u001b[1m58s\u001b[0m 5ms/step\n",
            "Round 19\n",
            "Accuracy: 0.90603295, Precision: 0.92874479, Recall: 0.90603295, F1-Score: 0.90281968\n",
            "Confusion Matrix:\n",
            "[[67774   150    10     3    76]\n",
            " [    6 41068 26939     0     0]\n",
            " [    0     0 68013     0     0]\n",
            " [ 4514   174    39 63287     0]\n",
            " [   10    18    16     0 67969]]\n",
            "\n"
          ]
        },
        {
          "output_type": "stream",
          "name": "stderr",
          "text": [
            "/usr/local/lib/python3.11/dist-packages/keras/src/layers/core/input_layer.py:27: UserWarning: Argument `input_shape` is deprecated. Use `shape` instead.\n",
            "  warnings.warn(\n"
          ]
        },
        {
          "output_type": "stream",
          "name": "stdout",
          "text": [
            "\u001b[1m10628/10628\u001b[0m \u001b[32m━━━━━━━━━━━━━━━━━━━━\u001b[0m\u001b[37m\u001b[0m \u001b[1m55s\u001b[0m 5ms/step\n",
            "Round 20\n",
            "Accuracy: 0.90611234, Precision: 0.92889862, Recall: 0.90611234, F1-Score: 0.90288543\n",
            "Confusion Matrix:\n",
            "[[67805   124     5     3    76]\n",
            " [   10 41064 26939     0     0]\n",
            " [    0     0 68013     0     0]\n",
            " [ 4536   160    41 63277     0]\n",
            " [   21    13     0     0 67979]]\n",
            "\n"
          ]
        },
        {
          "output_type": "stream",
          "name": "stderr",
          "text": [
            "/usr/local/lib/python3.11/dist-packages/keras/src/layers/core/input_layer.py:27: UserWarning: Argument `input_shape` is deprecated. Use `shape` instead.\n",
            "  warnings.warn(\n"
          ]
        },
        {
          "output_type": "stream",
          "name": "stdout",
          "text": [
            "\u001b[1m10628/10628\u001b[0m \u001b[32m━━━━━━━━━━━━━━━━━━━━\u001b[0m\u001b[37m\u001b[0m \u001b[1m56s\u001b[0m 5ms/step\n",
            "Round 21\n",
            "Accuracy: 0.90575065, Precision: 0.92828573, Recall: 0.90575065, F1-Score: 0.90252678\n",
            "Confusion Matrix:\n",
            "[[67754   180     1     2    76]\n",
            " [    3 41072 26938     0     0]\n",
            " [    0     0 68013     0     0]\n",
            " [ 4570   230    31 63183     0]\n",
            " [   10    10     0     0 67993]]\n",
            "\n"
          ]
        },
        {
          "output_type": "stream",
          "name": "stderr",
          "text": [
            "/usr/local/lib/python3.11/dist-packages/keras/src/layers/core/input_layer.py:27: UserWarning: Argument `input_shape` is deprecated. Use `shape` instead.\n",
            "  warnings.warn(\n"
          ]
        },
        {
          "output_type": "stream",
          "name": "stdout",
          "text": [
            "\u001b[1m10628/10628\u001b[0m \u001b[32m━━━━━━━━━━━━━━━━━━━━\u001b[0m\u001b[37m\u001b[0m \u001b[1m51s\u001b[0m 5ms/step\n",
            "Round 22\n",
            "Accuracy: 0.90498609, Precision: 0.92773818, Recall: 0.90498609, F1-Score: 0.90175311\n",
            "Confusion Matrix:\n",
            "[[67790   136    11     0    76]\n",
            " [    9 41059 26945     0     0]\n",
            " [    0     0 68013     0     0]\n",
            " [ 4847   223    34 62910     0]\n",
            " [   12    18     0     0 67983]]\n",
            "\n"
          ]
        },
        {
          "output_type": "stream",
          "name": "stderr",
          "text": [
            "/usr/local/lib/python3.11/dist-packages/keras/src/layers/core/input_layer.py:27: UserWarning: Argument `input_shape` is deprecated. Use `shape` instead.\n",
            "  warnings.warn(\n"
          ]
        },
        {
          "output_type": "stream",
          "name": "stdout",
          "text": [
            "\u001b[1m10628/10628\u001b[0m \u001b[32m━━━━━━━━━━━━━━━━━━━━\u001b[0m\u001b[37m\u001b[0m \u001b[1m58s\u001b[0m 5ms/step\n",
            "Round 23\n",
            "Accuracy: 0.90610058, Precision: 0.92879360, Recall: 0.90610058, F1-Score: 0.90287614\n",
            "Confusion Matrix:\n",
            "[[67779   142    12     2    78]\n",
            " [    3 41070 26940     0     0]\n",
            " [    0     0 68013     0     0]\n",
            " [ 4523   193    27 63271     0]\n",
            " [   12     0     0     0 68001]]\n",
            "\n"
          ]
        },
        {
          "output_type": "stream",
          "name": "stderr",
          "text": [
            "/usr/local/lib/python3.11/dist-packages/keras/src/layers/core/input_layer.py:27: UserWarning: Argument `input_shape` is deprecated. Use `shape` instead.\n",
            "  warnings.warn(\n"
          ]
        },
        {
          "output_type": "stream",
          "name": "stdout",
          "text": [
            "\u001b[1m10628/10628\u001b[0m \u001b[32m━━━━━━━━━━━━━━━━━━━━\u001b[0m\u001b[37m\u001b[0m \u001b[1m58s\u001b[0m 5ms/step\n",
            "Round 24\n",
            "Accuracy: 0.90570360, Precision: 0.92852259, Recall: 0.90570360, F1-Score: 0.90250047\n",
            "Confusion Matrix:\n",
            "[[67761   140    34     2    76]\n",
            " [    8 41063 26942     0     0]\n",
            " [    0     0 68013     0     0]\n",
            " [ 4597   190    36 63191     0]\n",
            " [   10     0    32     0 67971]]\n",
            "\n"
          ]
        },
        {
          "output_type": "stream",
          "name": "stderr",
          "text": [
            "/usr/local/lib/python3.11/dist-packages/keras/src/layers/core/input_layer.py:27: UserWarning: Argument `input_shape` is deprecated. Use `shape` instead.\n",
            "  warnings.warn(\n"
          ]
        },
        {
          "output_type": "stream",
          "name": "stdout",
          "text": [
            "\u001b[1m10628/10628\u001b[0m \u001b[32m━━━━━━━━━━━━━━━━━━━━\u001b[0m\u001b[37m\u001b[0m \u001b[1m49s\u001b[0m 5ms/step\n",
            "Round 25\n",
            "Accuracy: 0.90553892, Precision: 0.92873028, Recall: 0.90553892, F1-Score: 0.90230847\n",
            "Confusion Matrix:\n",
            "[[67814   113    10     0    76]\n",
            " [   14 41059 26940     0     0]\n",
            " [    0     0 68013     0     0]\n",
            " [ 4862    38    47 63067     0]\n",
            " [   19     4     0     0 67990]]\n",
            "\n"
          ]
        },
        {
          "output_type": "stream",
          "name": "stderr",
          "text": [
            "/usr/local/lib/python3.11/dist-packages/keras/src/layers/core/input_layer.py:27: UserWarning: Argument `input_shape` is deprecated. Use `shape` instead.\n",
            "  warnings.warn(\n"
          ]
        },
        {
          "output_type": "stream",
          "name": "stdout",
          "text": [
            "\u001b[1m10628/10628\u001b[0m \u001b[32m━━━━━━━━━━━━━━━━━━━━\u001b[0m\u001b[37m\u001b[0m \u001b[1m48s\u001b[0m 5ms/step\n",
            "Round 26\n",
            "Accuracy: 0.90739151, Precision: 0.92946553, Recall: 0.90739151, F1-Score: 0.90439267\n",
            "Confusion Matrix:\n",
            "[[67756   158    21     2    76]\n",
            " [    5 41638 26370     0     0]\n",
            " [    0     0 68013     0     0]\n",
            " [ 4634   118    74 63188     0]\n",
            " [    8    27     0     0 67978]]\n",
            "\n"
          ]
        },
        {
          "output_type": "stream",
          "name": "stderr",
          "text": [
            "/usr/local/lib/python3.11/dist-packages/keras/src/layers/core/input_layer.py:27: UserWarning: Argument `input_shape` is deprecated. Use `shape` instead.\n",
            "  warnings.warn(\n"
          ]
        },
        {
          "output_type": "stream",
          "name": "stdout",
          "text": [
            "\u001b[1m10628/10628\u001b[0m \u001b[32m━━━━━━━━━━━━━━━━━━━━\u001b[0m\u001b[37m\u001b[0m \u001b[1m73s\u001b[0m 7ms/step\n",
            "Round 27\n",
            "Accuracy: 0.92318550, Precision: 0.93809263, Recall: 0.92318550, F1-Score: 0.92164941\n",
            "Confusion Matrix:\n",
            "[[67761   164     9     3    76]\n",
            " [    5 46946 21062     0     0]\n",
            " [    0     2 68011     0     0]\n",
            " [ 4527   242     2 63243     0]\n",
            " [   14    16     0     0 67983]]\n",
            "\n"
          ]
        },
        {
          "output_type": "stream",
          "name": "stderr",
          "text": [
            "/usr/local/lib/python3.11/dist-packages/keras/src/layers/core/input_layer.py:27: UserWarning: Argument `input_shape` is deprecated. Use `shape` instead.\n",
            "  warnings.warn(\n"
          ]
        },
        {
          "output_type": "stream",
          "name": "stdout",
          "text": [
            "\u001b[1m10628/10628\u001b[0m \u001b[32m━━━━━━━━━━━━━━━━━━━━\u001b[0m\u001b[37m\u001b[0m \u001b[1m61s\u001b[0m 6ms/step\n",
            "Round 28\n",
            "Accuracy: 0.92250034, Precision: 0.93776620, Recall: 0.92250034, F1-Score: 0.92091386\n",
            "Confusion Matrix:\n",
            "[[67746   179    10     2    76]\n",
            " [    6 46701 21306     0     0]\n",
            " [    0     0 68013     0     0]\n",
            " [ 4561   183     6 63264     0]\n",
            " [    6    20     0     0 67987]]\n",
            "\n"
          ]
        },
        {
          "output_type": "stream",
          "name": "stderr",
          "text": [
            "/usr/local/lib/python3.11/dist-packages/keras/src/layers/core/input_layer.py:27: UserWarning: Argument `input_shape` is deprecated. Use `shape` instead.\n",
            "  warnings.warn(\n"
          ]
        },
        {
          "output_type": "stream",
          "name": "stdout",
          "text": [
            "\u001b[1m10628/10628\u001b[0m \u001b[32m━━━━━━━━━━━━━━━━━━━━\u001b[0m\u001b[37m\u001b[0m \u001b[1m59s\u001b[0m 6ms/step\n",
            "Round 29\n",
            "Accuracy: 0.93277481, Precision: 0.94356360, Recall: 0.93277481, F1-Score: 0.93187964\n",
            "Confusion Matrix:\n",
            "[[67749   177     9     2    76]\n",
            " [    2 50386 17625     0     0]\n",
            " [    0   154 67859     0     0]\n",
            " [ 4501   274    12 63227     0]\n",
            " [   14    15     0     0 67984]]\n",
            "\n"
          ]
        },
        {
          "output_type": "stream",
          "name": "stderr",
          "text": [
            "/usr/local/lib/python3.11/dist-packages/keras/src/layers/core/input_layer.py:27: UserWarning: Argument `input_shape` is deprecated. Use `shape` instead.\n",
            "  warnings.warn(\n"
          ]
        },
        {
          "output_type": "stream",
          "name": "stdout",
          "text": [
            "\u001b[1m10628/10628\u001b[0m \u001b[32m━━━━━━━━━━━━━━━━━━━━\u001b[0m\u001b[37m\u001b[0m \u001b[1m55s\u001b[0m 5ms/step\n",
            "Round 30\n",
            "Accuracy: 0.93184852, Precision: 0.94339681, Recall: 0.93184852, F1-Score: 0.93087354\n",
            "Confusion Matrix:\n",
            "[[67648   258    13    18    76]\n",
            " [    1 49848 18164     0     0]\n",
            " [    0     0 68013     0     0]\n",
            " [ 4419   179    22 63394     0]\n",
            " [    2    24     0     0 67987]]\n",
            "\n"
          ]
        },
        {
          "output_type": "display_data",
          "data": {
            "text/plain": [
              "<Figure size 640x480 with 1 Axes>"
            ],
            "image/png": "[encoded data removed]"
          },
          "metadata": {}
        },
        {
          "output_type": "display_data",
          "data": {
            "text/plain": [
              "<Figure size 640x480 with 1 Axes>"
            ],
            "image/png": "[encoded data removed]"
          },
          "metadata": {}
        },
        {
          "output_type": "display_data",
          "data": {
            "text/plain": [
              "<Figure size 640x480 with 1 Axes>"
            ],
            "image/png": "[encoded data removed]"
          },
          "metadata": {}
        }
      ]
    }
  ]
}