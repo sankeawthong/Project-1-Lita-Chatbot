{
  "nbformat": 4,
  "nbformat_minor": 0,
  "metadata": {
    "colab": {
      "provenance": [],
      "authorship_tag": "ABX9TyOMwkNhfgMj8D+wH9j/41el",
      "include_colab_link": true
    },
    "kernelspec": {
      "name": "python3",
      "display_name": "Python 3"
    },
    "language_info": {
      "name": "python"
    }
  },
  "cells": [
    {
      "cell_type": "markdown",
      "metadata": {
        "id": "view-in-github",
        "colab_type": "text"
      },
      "source": [
        "<a href=\"https://colab.research.google.com/github/sankeawthong/Project-1-Lita-Chatbot/blob/main/Project%232_Hybrid%20RF-LSTM%20for%204%20class%20(WSNBFSF)_2.ipynb\" target=\"_parent\"><img src=\"https://colab.research.google.com/assets/colab-badge.svg\" alt=\"Open In Colab\"/></a>"
      ]
    },
    {
      "cell_type": "markdown",
      "source": [
        "### **Hybrid RF-LSTM for 4 class classifications**"
      ],
      "metadata": {
        "id": "Afs6DI-GvAF3"
      }
    },
    {
      "cell_type": "code",
      "source": [
        "import pandas as pd\n",
        "import numpy as np\n",
        "from sklearn.preprocessing import LabelEncoder\n",
        "from sklearn.model_selection import train_test_split\n",
        "from keras.utils import np_utils\n",
        "from keras.models import Sequential\n",
        "from keras.layers import Dense, LSTM, Dropout\n",
        "from sklearn.ensemble import RandomForestClassifier\n",
        "from sklearn.metrics import confusion_matrix, classification_report, accuracy_score"
      ],
      "metadata": {
        "id": "vbO1wraNvJbp"
      },
      "execution_count": 1,
      "outputs": []
    },
    {
      "cell_type": "code",
      "source": [
        "# Load dataset\n",
        "dataset = pd.read_csv(\"dataset.csv\")\n",
        "dataset.isnull().sum()"
      ],
      "metadata": {
        "colab": {
          "base_uri": "https://localhost:8080/"
        },
        "id": "JjMgTc1IvLxx",
        "outputId": "b046aa25-4f3c-4cbf-ce3f-29198aef8496"
      },
      "execution_count": 2,
      "outputs": [
        {
          "output_type": "execute_result",
          "data": {
            "text/plain": [
              "Event             0\n",
              "Time              0\n",
              "S_Node            0\n",
              "Node_id           0\n",
              "Rest_Energy       0\n",
              "Trace_Level       0\n",
              "Mac_Type_Pckt     0\n",
              "Source_IP_Port    0\n",
              "Des_IP_Port       0\n",
              "Packet_Size       0\n",
              "TTL               0\n",
              "Hop_Count         0\n",
              "Broadcast_ID      0\n",
              "Dest_Node_Num     0\n",
              "Dest_Seq_Num      0\n",
              "Src_Node_ID       0\n",
              "Src_Seq_Num       0\n",
              "Class             0\n",
              "dtype: int64"
            ]
          },
          "metadata": {},
          "execution_count": 2
        }
      ]
    },
    {
      "cell_type": "code",
      "source": [
        "dataset.info()"
      ],
      "metadata": {
        "colab": {
          "base_uri": "https://localhost:8080/"
        },
        "id": "YEiqmbN4vNYm",
        "outputId": "03fc70af-db87-4c5c-f8d9-c4d99a5ab3ce"
      },
      "execution_count": 3,
      "outputs": [
        {
          "output_type": "stream",
          "name": "stdout",
          "text": [
            "<class 'pandas.core.frame.DataFrame'>\n",
            "RangeIndex: 312106 entries, 0 to 312105\n",
            "Data columns (total 18 columns):\n",
            " #   Column          Non-Null Count   Dtype  \n",
            "---  ------          --------------   -----  \n",
            " 0   Event           312106 non-null  int64  \n",
            " 1   Time            312106 non-null  float64\n",
            " 2   S_Node          312106 non-null  int64  \n",
            " 3   Node_id         312106 non-null  int64  \n",
            " 4   Rest_Energy     312106 non-null  float64\n",
            " 5   Trace_Level     312106 non-null  int64  \n",
            " 6   Mac_Type_Pckt   312106 non-null  int64  \n",
            " 7   Source_IP_Port  312106 non-null  float64\n",
            " 8   Des_IP_Port     312106 non-null  float64\n",
            " 9   Packet_Size     312106 non-null  int64  \n",
            " 10  TTL             312106 non-null  int64  \n",
            " 11  Hop_Count       312106 non-null  int64  \n",
            " 12  Broadcast_ID    312106 non-null  int64  \n",
            " 13  Dest_Node_Num   312106 non-null  int64  \n",
            " 14  Dest_Seq_Num    312106 non-null  int64  \n",
            " 15  Src_Node_ID     312106 non-null  int64  \n",
            " 16  Src_Seq_Num     312106 non-null  int64  \n",
            " 17  Class           312106 non-null  int64  \n",
            "dtypes: float64(4), int64(14)\n",
            "memory usage: 42.9 MB\n"
          ]
        }
      ]
    },
    {
      "cell_type": "code",
      "source": [
        "encoder = LabelEncoder()\n",
        "y = encoder.fit_transform(dataset['Class'])\n",
        "y = np_utils.to_categorical(y)\n",
        "X = dataset.drop(['Class'],axis=1)\n",
        "X=X.values\n",
        "print(X.shape)\n",
        "print(y.shape)"
      ],
      "metadata": {
        "colab": {
          "base_uri": "https://localhost:8080/"
        },
        "id": "fk7lKcdYvPLt",
        "outputId": "a60cac96-def8-4545-c7ce-d65c0d343ec4"
      },
      "execution_count": 4,
      "outputs": [
        {
          "output_type": "stream",
          "name": "stdout",
          "text": [
            "(312106, 17)\n",
            "(312106, 4)\n"
          ]
        }
      ]
    },
    {
      "cell_type": "code",
      "source": [
        "# Data preprocessing\n",
        "from imblearn.over_sampling import SMOTE\n",
        "oversample = SMOTE()\n",
        "X, y = oversample.fit_resample(X, y)"
      ],
      "metadata": {
        "id": "JzOQxktWvSCX"
      },
      "execution_count": 5,
      "outputs": []
    },
    {
      "cell_type": "code",
      "source": [
        "X_train, X_test, y_train, y_test = train_test_split(X, y, test_size=0.2, random_state=101)"
      ],
      "metadata": {
        "id": "mZT2Z4JUvTDN"
      },
      "execution_count": 6,
      "outputs": []
    },
    {
      "cell_type": "markdown",
      "source": [
        "**Hybrid RF-LSTM Model**"
      ],
      "metadata": {
        "id": "VEuU90ZStBaw"
      }
    },
    {
      "cell_type": "code",
      "source": [
        "# LSTM model\n",
        "model = Sequential()\n",
        "model.add(LSTM(64, input_shape=(X_train.shape[1], 1)))\n",
        "model.add(Dropout(0.2))\n",
        "model.add(Dense(4, activation='softmax'))\n",
        "model.compile(loss='categorical_crossentropy', optimizer='adam', metrics=['accuracy'])\n",
        "model.summary()\n",
        "\n",
        "X_train_lstm = X_train.reshape(X_train.shape[0], X_train.shape[1], 1)\n",
        "X_test_lstm = X_test.reshape(X_test.shape[0], X_test.shape[1], 1)\n",
        "\n",
        "history = model.fit(X_train_lstm, y_train, epochs=25, batch_size=64, validation_data=(X_test_lstm, y_test), verbose=1)\n",
        "\n",
        "# Random Forest model\n",
        "rf = RandomForestClassifier(n_estimators=100, random_state=42)\n",
        "rf.fit(X_train, y_train)\n",
        "\n",
        "y_pred_rf = rf.predict(X_test)\n",
        "\n",
        "# Combine models\n",
        "y_pred_lstm = model.predict(X_test_lstm)\n",
        "y_pred_lstm = np.argmax(y_pred_lstm, axis=1)\n",
        "y_pred_lstm = np_utils.to_categorical(y_pred_lstm)\n",
        "\n",
        "y_pred = y_pred_lstm * 0.5 + y_pred_rf * 0.5\n",
        "y_pred = np.argmax(y_pred, axis=1)\n",
        "\n",
        "# Evaluation metrics\n",
        "##print(classification_report(np.argmax(y_test, axis=1), y_pred))\n",
        "##print(confusion_matrix(np.argmax(y_test, axis=1), y_pred))\n",
        "\n",
        "# Calculate accuracy and other evaluation metrics\n",
        "accuracy = accuracy_score(np.argmax(y_test, axis=1), y_pred)\n",
        "report = classification_report(np.argmax(y_test, axis=1), y_pred)\n",
        "confusion_matrix = confusion_matrix(np.argmax(y_test, axis=1), y_pred)\n",
        "\n",
        "# Print the results\n",
        "print(\"Accuracy:\", accuracy)\n",
        "print(\"Classification Report:\\n\", report)\n",
        "print(\"Confusion Matrix:\\n\", confusion_matrix)"
      ],
      "metadata": {
        "colab": {
          "base_uri": "https://localhost:8080/"
        },
        "id": "5fXbagFeu_0j",
        "outputId": "7ae316d8-36f4-4674-bff3-940f243a0f16"
      },
      "execution_count": 11,
      "outputs": [
        {
          "output_type": "stream",
          "name": "stdout",
          "text": [
            "Model: \"sequential_1\"\n",
            "_________________________________________________________________\n",
            " Layer (type)                Output Shape              Param #   \n",
            "=================================================================\n",
            " lstm_1 (LSTM)               (None, 64)                16896     \n",
            "                                                                 \n",
            " dropout_1 (Dropout)         (None, 64)                0         \n",
            "                                                                 \n",
            " dense_1 (Dense)             (None, 4)                 260       \n",
            "                                                                 \n",
            "=================================================================\n",
            "Total params: 17,156\n",
            "Trainable params: 17,156\n",
            "Non-trainable params: 0\n",
            "_________________________________________________________________\n",
            "Epoch 1/25\n",
            "13143/13143 [==============================] - 221s 17ms/step - loss: 0.3041 - accuracy: 0.8798 - val_loss: 0.1875 - val_accuracy: 0.9282\n",
            "Epoch 2/25\n",
            "13143/13143 [==============================] - 217s 17ms/step - loss: 0.1694 - accuracy: 0.9384 - val_loss: 0.1099 - val_accuracy: 0.9636\n",
            "Epoch 3/25\n",
            "13143/13143 [==============================] - 216s 16ms/step - loss: 0.1241 - accuracy: 0.9570 - val_loss: 0.0962 - val_accuracy: 0.9651\n",
            "Epoch 4/25\n",
            "13143/13143 [==============================] - 216s 16ms/step - loss: 0.1056 - accuracy: 0.9645 - val_loss: 0.1853 - val_accuracy: 0.9385\n",
            "Epoch 5/25\n",
            "13143/13143 [==============================] - 216s 16ms/step - loss: 0.0983 - accuracy: 0.9673 - val_loss: 0.0581 - val_accuracy: 0.9829\n",
            "Epoch 6/25\n",
            "13143/13143 [==============================] - 219s 17ms/step - loss: 0.0921 - accuracy: 0.9697 - val_loss: 0.0536 - val_accuracy: 0.9843\n",
            "Epoch 7/25\n",
            "13143/13143 [==============================] - 221s 17ms/step - loss: 0.0835 - accuracy: 0.9725 - val_loss: 0.1349 - val_accuracy: 0.9426\n",
            "Epoch 8/25\n",
            "13143/13143 [==============================] - 219s 17ms/step - loss: 0.0777 - accuracy: 0.9746 - val_loss: 0.0420 - val_accuracy: 0.9876\n",
            "Epoch 9/25\n",
            "13143/13143 [==============================] - 218s 17ms/step - loss: 0.0715 - accuracy: 0.9768 - val_loss: 0.0579 - val_accuracy: 0.9815\n",
            "Epoch 10/25\n",
            "13143/13143 [==============================] - 217s 16ms/step - loss: 0.0649 - accuracy: 0.9790 - val_loss: 0.0376 - val_accuracy: 0.9889\n",
            "Epoch 11/25\n",
            "13143/13143 [==============================] - 218s 17ms/step - loss: 0.0683 - accuracy: 0.9776 - val_loss: 0.0491 - val_accuracy: 0.9836\n",
            "Epoch 12/25\n",
            "13143/13143 [==============================] - 217s 16ms/step - loss: 0.0658 - accuracy: 0.9793 - val_loss: 0.0470 - val_accuracy: 0.9844\n",
            "Epoch 13/25\n",
            "13143/13143 [==============================] - 216s 16ms/step - loss: 0.0663 - accuracy: 0.9791 - val_loss: 0.0762 - val_accuracy: 0.9735\n",
            "Epoch 14/25\n",
            "13143/13143 [==============================] - 218s 17ms/step - loss: 0.0813 - accuracy: 0.9722 - val_loss: 0.0425 - val_accuracy: 0.9850\n",
            "Epoch 15/25\n",
            "13143/13143 [==============================] - 218s 17ms/step - loss: 0.0733 - accuracy: 0.9763 - val_loss: 0.0563 - val_accuracy: 0.9841\n",
            "Epoch 16/25\n",
            "13143/13143 [==============================] - 219s 17ms/step - loss: 0.0622 - accuracy: 0.9800 - val_loss: 0.0499 - val_accuracy: 0.9830\n",
            "Epoch 17/25\n",
            "13143/13143 [==============================] - 218s 17ms/step - loss: 0.0607 - accuracy: 0.9807 - val_loss: 0.0302 - val_accuracy: 0.9905\n",
            "Epoch 18/25\n",
            "13143/13143 [==============================] - 218s 17ms/step - loss: 0.0565 - accuracy: 0.9823 - val_loss: 0.0382 - val_accuracy: 0.9886\n",
            "Epoch 19/25\n",
            "13143/13143 [==============================] - 216s 16ms/step - loss: 0.0635 - accuracy: 0.9802 - val_loss: 0.0508 - val_accuracy: 0.9817\n",
            "Epoch 20/25\n",
            "13143/13143 [==============================] - 219s 17ms/step - loss: 0.0612 - accuracy: 0.9807 - val_loss: 0.0462 - val_accuracy: 0.9861\n",
            "Epoch 21/25\n",
            "13143/13143 [==============================] - 216s 16ms/step - loss: 0.0577 - accuracy: 0.9820 - val_loss: 0.0316 - val_accuracy: 0.9904\n",
            "Epoch 22/25\n",
            "13143/13143 [==============================] - 217s 17ms/step - loss: 0.0578 - accuracy: 0.9811 - val_loss: 0.0474 - val_accuracy: 0.9847\n",
            "Epoch 23/25\n",
            "13143/13143 [==============================] - 219s 17ms/step - loss: 0.0683 - accuracy: 0.9782 - val_loss: 0.1104 - val_accuracy: 0.9455\n",
            "Epoch 24/25\n",
            "13143/13143 [==============================] - 219s 17ms/step - loss: 0.0737 - accuracy: 0.9763 - val_loss: 0.0443 - val_accuracy: 0.9873\n",
            "Epoch 25/25\n",
            "13143/13143 [==============================] - 219s 17ms/step - loss: 0.0647 - accuracy: 0.9792 - val_loss: 0.0388 - val_accuracy: 0.9887\n",
            "6572/6572 [==============================] - 30s 5ms/step\n",
            "Accuracy: 0.99451210523062\n",
            "Classification Report:\n",
            "               precision    recall  f1-score   support\n",
            "\n",
            "           0       0.99      1.00      1.00     52500\n",
            "           1       0.99      0.99      0.99     52554\n",
            "           2       0.99      1.00      1.00     52545\n",
            "           3       1.00      0.98      0.99     52682\n",
            "\n",
            "    accuracy                           0.99    210281\n",
            "   macro avg       0.99      0.99      0.99    210281\n",
            "weighted avg       0.99      0.99      0.99    210281\n",
            "\n",
            "Confusion Matrix:\n",
            " [[52492     4     4     0]\n",
            " [  273 52280     0     1]\n",
            " [   15     1 52529     0]\n",
            " [    0   586   270 51826]]\n"
          ]
        }
      ]
    },
    {
      "cell_type": "code",
      "source": [
        "import seaborn as sns\n",
        "import matplotlib.pyplot as plt\n",
        "import numpy as np\n",
        "import itertools\n",
        "import seaborn as sns\n",
        "from sklearn import metrics \n",
        "import matplotlib.pyplot as plt\n",
        "from sklearn.metrics import confusion_matrix\n",
        "def conf_mat(d1,d2):\n",
        "  cm = confusion_matrix(d1, d2)\n",
        "  plt.figure(figsize=(6,5.5))\n",
        "  ax = sns.heatmap(cm,  fmt='2', annot=True, cmap='YlGnBu')\n",
        "  sns.set(font_scale=1)\n",
        "  ax.set_xlabel('\\nPredicted Values')\n",
        "  ax.set_ylabel('Actual Values\\n');\n",
        "  ax.xaxis.set_ticklabels(['Normal','Flooding','Blackhole','Forwarding'])\n",
        "  ax.yaxis.set_ticklabels(['Normal','Flooding','Blackhole','Forwarding'])\n",
        "  plt.tight_layout()\n",
        "  # plt.savefig(\"F1.eps\", format = 'eps')\n",
        "  plt.show()"
      ],
      "metadata": {
        "id": "31D4MYVT5-FC"
      },
      "execution_count": 12,
      "outputs": []
    },
    {
      "cell_type": "code",
      "source": [
        "print(\"Confusion Matrix of Hybrid RF-LSTM Model\") \n",
        "conf_mat(np.argmax(y_test, axis=1), y_pred)"
      ],
      "metadata": {
        "colab": {
          "base_uri": "https://localhost:8080/",
          "height": 568
        },
        "id": "_qxpZDu_6C93",
        "outputId": "f3ad9f92-d8ee-4320-f873-9a554ae95be6"
      },
      "execution_count": 13,
      "outputs": [
        {
          "output_type": "stream",
          "name": "stdout",
          "text": [
            "Confusion Matrix of Hybrid RF-LSTM Model\n"
          ]
        },
        {
          "output_type": "display_data",
          "data": {
            "text/plain": [
              "<Figure size 600x550 with 2 Axes>"
            ],
            "image/png": "[encoded data removed]"
          },
          "metadata": {}
        }
      ]
    },
    {
      "cell_type": "code",
      "source": [
        "report = classification_report(np.argmax(y_test, axis=1), y_pred, output_dict=True)\n",
        "detection_rates = {}\n",
        "for cls in range(4):\n",
        "    detection_rates[encoder.inverse_transform([cls])[0]] = report[str(cls)]['recall']\n",
        "print(\"Detection rates:\", detection_rates)"
      ],
      "metadata": {
        "id": "V4Pg5yqMsdAa",
        "outputId": "90fcb229-a23c-4384-db9f-2e981ed79c12",
        "colab": {
          "base_uri": "https://localhost:8080/"
        }
      },
      "execution_count": 14,
      "outputs": [
        {
          "output_type": "stream",
          "name": "stdout",
          "text": [
            "Detection rates: {0: 0.9998476190476191, 1: 0.9947863150283518, 2: 0.999695499096013, 3: 0.9837515659997722}\n"
          ]
        }
      ]
    }
  ]
}