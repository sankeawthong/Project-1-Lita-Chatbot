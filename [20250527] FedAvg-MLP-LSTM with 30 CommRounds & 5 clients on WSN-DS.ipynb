{
  "nbformat": 4,
  "nbformat_minor": 0,
  "metadata": {
    "colab": {
      "provenance": [],
      "machine_shape": "hm",
      "authorship_tag": "ABX9TyPQziqZwMWXo5mchKgoCmti",
      "include_colab_link": true
    },
    "kernelspec": {
      "name": "python3",
      "display_name": "Python 3"
    },
    "language_info": {
      "name": "python"
    }
  },
  "cells": [
    {
      "cell_type": "markdown",
      "metadata": {
        "id": "view-in-github",
        "colab_type": "text"
      },
      "source": [
        "<a href=\"https://colab.research.google.com/github/sankeawthong/Project-1-Lita-Chatbot/blob/main/%5B20250527%5D%20FedAvg-MLP-LSTM%20with%2030%20CommRounds%20%26%205%20clients%20on%20WSN-DS.ipynb\" target=\"_parent\"><img src=\"https://colab.research.google.com/assets/colab-badge.svg\" alt=\"Open In Colab\"/></a>"
      ]
    },
    {
      "cell_type": "markdown",
      "source": [
        "**FedAvg-MLP-LSTM with 30 Communications Rounds & 5 clients on WSN-DS**"
      ],
      "metadata": {
        "id": "iEj2cTBVA8b5"
      }
    },
    {
      "cell_type": "code",
      "execution_count": 1,
      "metadata": {
        "id": "c8mRLMZBAbYW"
      },
      "outputs": [],
      "source": [
        "import pandas as pd\n",
        "import numpy as np\n",
        "import time\n",
        "from sklearn.preprocessing import LabelEncoder, StandardScaler\n",
        "from sklearn.model_selection import train_test_split\n",
        "from sklearn.metrics import accuracy_score, precision_score, recall_score, f1_score, classification_report, confusion_matrix, roc_auc_score\n",
        "from keras.models import Sequential\n",
        "from keras.layers import Dense, Dropout, LSTM, InputLayer\n",
        "from keras.utils import to_categorical\n",
        "from imblearn.over_sampling import SMOTE\n",
        "import matplotlib.pyplot as plt"
      ]
    },
    {
      "cell_type": "code",
      "source": [
        "# ----------------------------\n",
        "# Preprocessing and Partitioning\n",
        "# ----------------------------\n",
        "df = pd.read_csv(\"dataset_WSN-DS.csv\").dropna()\n",
        "for col in df.columns:\n",
        "    if df[col].dtype == 'object':\n",
        "        df[col] = LabelEncoder().fit_transform(df[col])\n",
        "\n",
        "X, y = df.drop('Class', axis=1), df['Class']\n",
        "X = StandardScaler().fit_transform(X)\n",
        "X, y = SMOTE(random_state=42).fit_resample(X, y)\n",
        "X_train, X_test, y_train, y_test = train_test_split(X, y, test_size=0.2, random_state=101, stratify=y)"
      ],
      "metadata": {
        "id": "MaXx7r1sAv_4"
      },
      "execution_count": 2,
      "outputs": []
    },
    {
      "cell_type": "code",
      "source": [
        "# ----------------------------\n",
        "# Federated Setup\n",
        "# ----------------------------\n",
        "num_clients = 5\n",
        "rounds = 30\n",
        "client_X = np.array_split(X_train, num_clients)\n",
        "client_y = np.array_split(y_train, num_clients)\n",
        "\n",
        "X_test = X_test.reshape(X_test.shape[0], X_test.shape[1], 1)\n",
        "y_test_cat = to_categorical(y_test)\n",
        "num_classes = y_test_cat.shape[1]\n",
        "input_shape = (X_test.shape[1], 1)"
      ],
      "metadata": {
        "colab": {
          "base_uri": "https://localhost:8080/"
        },
        "id": "FsEpY0U-Av8-",
        "outputId": "ea0fcbed-5041-4eb0-f0f2-cf12b1a4d2fe"
      },
      "execution_count": 3,
      "outputs": [
        {
          "output_type": "stream",
          "name": "stderr",
          "text": [
            "/usr/local/lib/python3.11/dist-packages/numpy/_core/fromnumeric.py:57: FutureWarning: 'Series.swapaxes' is deprecated and will be removed in a future version. Please use 'Series.transpose' instead.\n",
            "  return bound(*args, **kwds)\n"
          ]
        }
      ]
    },
    {
      "cell_type": "code",
      "source": [
        "# ----------------------------\n",
        "# Model Definition\n",
        "# ----------------------------\n",
        "def build_model(input_shape, num_classes):\n",
        "    model = Sequential([\n",
        "        InputLayer(input_shape=input_shape),\n",
        "        LSTM(64, activation='tanh'),\n",
        "        Dropout(0.3),\n",
        "        Dense(128, activation='relu'),\n",
        "        Dropout(0.3),\n",
        "        Dense(64, activation='relu'),\n",
        "        Dropout(0.3),\n",
        "        Dense(num_classes, activation='softmax')\n",
        "    ])\n",
        "    model.compile(optimizer='adam', loss='categorical_crossentropy', metrics=['accuracy'])\n",
        "    return model\n",
        "\n",
        "# ----------------------------\n",
        "# Training Loop\n",
        "# ----------------------------\n",
        "log = []\n",
        "\n",
        "global_model = build_model(input_shape, num_classes)\n",
        "global_weights = global_model.get_weights()\n",
        "\n",
        "for r in range(rounds):\n",
        "    round_start = time.time()\n",
        "    client_weights = []\n",
        "    for i in range(num_clients):\n",
        "        local_model = build_model(input_shape, num_classes)\n",
        "        local_model.set_weights(global_weights)\n",
        "        X_c = client_X[i].reshape(client_X[i].shape[0], client_X[i].shape[1], 1)\n",
        "        y_c = to_categorical(client_y[i], num_classes=num_classes)\n",
        "        local_model.fit(X_c, y_c, epochs=1, batch_size=32, verbose=0)\n",
        "        client_weights.append(local_model.get_weights())\n",
        "\n",
        "    # FedAvg\n",
        "    global_weights = [np.mean(np.array([w[i] for w in client_weights]), axis=0) for i in range(len(global_weights))]\n",
        "    global_model.set_weights(global_weights)\n",
        "\n",
        "    # Evaluation\n",
        "    y_pred = global_model.predict(X_test)\n",
        "    y_pred_classes = np.argmax(y_pred, axis=1)\n",
        "    y_true = np.argmax(y_test_cat, axis=1)\n",
        "    acc = accuracy_score(y_true, y_pred_classes)\n",
        "    prec = precision_score(y_true, y_pred_classes, average='weighted')\n",
        "    rec = recall_score(y_true, y_pred_classes, average='weighted')\n",
        "    f1 = f1_score(y_true, y_pred_classes, average='weighted')\n",
        "    cm = confusion_matrix(y_true, y_pred_classes)\n",
        "    auc = roc_auc_score(y_test_cat, y_pred, multi_class='ovr')\n",
        "    round_time = time.time() - round_start\n",
        "\n",
        "    log.append({\n",
        "        'Round': r+1,\n",
        "        'Accuracy': acc,\n",
        "        'Precision': prec,\n",
        "        'Recall': rec,\n",
        "        'F1-Score': f1,\n",
        "        'AUC': auc,\n",
        "        'RoundTime(s)': round_time\n",
        "    })\n",
        "\n",
        "    print(f\"Round {r+1}: Acc={acc:.8f}, F1={f1:.8f}, AUC={auc:.8f}, Time={round_time:.6f}s\")\n",
        "    print(\"Confusion Matrix:\")\n",
        "    print(cm)\n",
        "    print(classification_report(y_true, y_pred_classes))\n",
        "\n",
        "# ----------------------------\n",
        "# Save Logs\n",
        "# ----------------------------\n",
        "df_log = pd.DataFrame(log)\n",
        "df_log.to_csv(\"fedavg_training_log.csv\", index=False)\n",
        "print(\"Training log saved to fedavg_training_log.csv\")"
      ],
      "metadata": {
        "colab": {
          "base_uri": "https://localhost:8080/"
        },
        "id": "4GVIj0SmAv6g",
        "outputId": "91116f69-7b9e-497b-c142-9871d836ab04"
      },
      "execution_count": 4,
      "outputs": [
        {
          "output_type": "stream",
          "name": "stderr",
          "text": [
            "/usr/local/lib/python3.11/dist-packages/keras/src/layers/core/input_layer.py:27: UserWarning: Argument `input_shape` is deprecated. Use `shape` instead.\n",
            "  warnings.warn(\n"
          ]
        },
        {
          "output_type": "stream",
          "name": "stdout",
          "text": [
            "\u001b[1m10628/10628\u001b[0m \u001b[32m━━━━━━━━━━━━━━━━━━━━\u001b[0m\u001b[37m\u001b[0m \u001b[1m40s\u001b[0m 4ms/step\n",
            "Round 1: Acc=0.87622697, F1=0.87076527, AUC=0.97530410, Time=433.623537s\n",
            "Confusion Matrix:\n",
            "[[66131   947   114   708   113]\n",
            " [  440 36700 26963  3910     0]\n",
            " [    0     0 67878   135     0]\n",
            " [ 4237   342  3675 59760     0]\n",
            " [   11   496     0     0 67506]]\n",
            "              precision    recall  f1-score   support\n",
            "\n",
            "           0       0.93      0.97      0.95     68013\n",
            "           1       0.95      0.54      0.69     68013\n",
            "           2       0.69      1.00      0.81     68013\n",
            "           3       0.93      0.88      0.90     68014\n",
            "           4       1.00      0.99      1.00     68013\n",
            "\n",
            "    accuracy                           0.88    340066\n",
            "   macro avg       0.90      0.88      0.87    340066\n",
            "weighted avg       0.90      0.88      0.87    340066\n",
            "\n"
          ]
        },
        {
          "output_type": "stream",
          "name": "stderr",
          "text": [
            "/usr/local/lib/python3.11/dist-packages/keras/src/layers/core/input_layer.py:27: UserWarning: Argument `input_shape` is deprecated. Use `shape` instead.\n",
            "  warnings.warn(\n"
          ]
        },
        {
          "output_type": "stream",
          "name": "stdout",
          "text": [
            "\u001b[1m10628/10628\u001b[0m \u001b[32m━━━━━━━━━━━━━━━━━━━━\u001b[0m\u001b[37m\u001b[0m \u001b[1m41s\u001b[0m 4ms/step\n",
            "Round 2: Acc=0.90620350, F1=0.90295650, AUC=0.98914900, Time=436.384287s\n",
            "Confusion Matrix:\n",
            "[[67650   197     2    65    99]\n",
            " [   29 41042 26928    14     0]\n",
            " [    0     0 67972    41     0]\n",
            " [ 4317   162    17 63518     0]\n",
            " [   26     0     0     0 67987]]\n",
            "              precision    recall  f1-score   support\n",
            "\n",
            "           0       0.94      0.99      0.97     68013\n",
            "           1       0.99      0.60      0.75     68013\n",
            "           2       0.72      1.00      0.83     68013\n",
            "           3       1.00      0.93      0.96     68014\n",
            "           4       1.00      1.00      1.00     68013\n",
            "\n",
            "    accuracy                           0.91    340066\n",
            "   macro avg       0.93      0.91      0.90    340066\n",
            "weighted avg       0.93      0.91      0.90    340066\n",
            "\n"
          ]
        },
        {
          "output_type": "stream",
          "name": "stderr",
          "text": [
            "/usr/local/lib/python3.11/dist-packages/keras/src/layers/core/input_layer.py:27: UserWarning: Argument `input_shape` is deprecated. Use `shape` instead.\n",
            "  warnings.warn(\n"
          ]
        },
        {
          "output_type": "stream",
          "name": "stdout",
          "text": [
            "\u001b[1m10628/10628\u001b[0m \u001b[32m━━━━━━━━━━━━━━━━━━━━\u001b[0m\u001b[37m\u001b[0m \u001b[1m40s\u001b[0m 4ms/step\n",
            "Round 3: Acc=0.93165150, F1=0.93069177, AUC=0.99678969, Time=438.849464s\n",
            "Confusion Matrix:\n",
            "[[67709   136     0    61   107]\n",
            " [   14 49872 18094    33     0]\n",
            " [    0   410 67579    24     0]\n",
            " [ 4311    23    14 63666     0]\n",
            " [   16     0     0     0 67997]]\n",
            "              precision    recall  f1-score   support\n",
            "\n",
            "           0       0.94      1.00      0.97     68013\n",
            "           1       0.99      0.73      0.84     68013\n",
            "           2       0.79      0.99      0.88     68013\n",
            "           3       1.00      0.94      0.97     68014\n",
            "           4       1.00      1.00      1.00     68013\n",
            "\n",
            "    accuracy                           0.93    340066\n",
            "   macro avg       0.94      0.93      0.93    340066\n",
            "weighted avg       0.94      0.93      0.93    340066\n",
            "\n"
          ]
        },
        {
          "output_type": "stream",
          "name": "stderr",
          "text": [
            "/usr/local/lib/python3.11/dist-packages/keras/src/layers/core/input_layer.py:27: UserWarning: Argument `input_shape` is deprecated. Use `shape` instead.\n",
            "  warnings.warn(\n"
          ]
        },
        {
          "output_type": "stream",
          "name": "stdout",
          "text": [
            "\u001b[1m10628/10628\u001b[0m \u001b[32m━━━━━━━━━━━━━━━━━━━━\u001b[0m\u001b[37m\u001b[0m \u001b[1m41s\u001b[0m 4ms/step\n",
            "Round 4: Acc=0.97342281, F1=0.97339813, AUC=0.99792842, Time=438.780895s\n",
            "Confusion Matrix:\n",
            "[[67717   129     4    49   114]\n",
            " [   13 64852  3148     0     0]\n",
            " [    0  1054 66959     0     0]\n",
            " [ 4307   178    29 63500     0]\n",
            " [   13     0     0     0 68000]]\n",
            "              precision    recall  f1-score   support\n",
            "\n",
            "           0       0.94      1.00      0.97     68013\n",
            "           1       0.98      0.95      0.97     68013\n",
            "           2       0.95      0.98      0.97     68013\n",
            "           3       1.00      0.93      0.97     68014\n",
            "           4       1.00      1.00      1.00     68013\n",
            "\n",
            "    accuracy                           0.97    340066\n",
            "   macro avg       0.97      0.97      0.97    340066\n",
            "weighted avg       0.97      0.97      0.97    340066\n",
            "\n"
          ]
        },
        {
          "output_type": "stream",
          "name": "stderr",
          "text": [
            "/usr/local/lib/python3.11/dist-packages/keras/src/layers/core/input_layer.py:27: UserWarning: Argument `input_shape` is deprecated. Use `shape` instead.\n",
            "  warnings.warn(\n"
          ]
        },
        {
          "output_type": "stream",
          "name": "stdout",
          "text": [
            "\u001b[1m10628/10628\u001b[0m \u001b[32m━━━━━━━━━━━━━━━━━━━━\u001b[0m\u001b[37m\u001b[0m \u001b[1m41s\u001b[0m 4ms/step\n",
            "Round 5: Acc=0.97653397, F1=0.97651454, AUC=0.99826291, Time=441.508888s\n",
            "Confusion Matrix:\n",
            "[[67750   121     6    53    83]\n",
            " [   20 65411  2566    16     0]\n",
            " [    0   696 67317     0     0]\n",
            " [ 4299    85    25 63605     0]\n",
            " [   10     0     0     0 68003]]\n",
            "              precision    recall  f1-score   support\n",
            "\n",
            "           0       0.94      1.00      0.97     68013\n",
            "           1       0.99      0.96      0.97     68013\n",
            "           2       0.96      0.99      0.98     68013\n",
            "           3       1.00      0.94      0.97     68014\n",
            "           4       1.00      1.00      1.00     68013\n",
            "\n",
            "    accuracy                           0.98    340066\n",
            "   macro avg       0.98      0.98      0.98    340066\n",
            "weighted avg       0.98      0.98      0.98    340066\n",
            "\n"
          ]
        },
        {
          "output_type": "stream",
          "name": "stderr",
          "text": [
            "/usr/local/lib/python3.11/dist-packages/keras/src/layers/core/input_layer.py:27: UserWarning: Argument `input_shape` is deprecated. Use `shape` instead.\n",
            "  warnings.warn(\n"
          ]
        },
        {
          "output_type": "stream",
          "name": "stdout",
          "text": [
            "\u001b[1m10628/10628\u001b[0m \u001b[32m━━━━━━━━━━━━━━━━━━━━\u001b[0m\u001b[37m\u001b[0m \u001b[1m41s\u001b[0m 4ms/step\n",
            "Round 6: Acc=0.97917463, F1=0.97916001, AUC=0.99836406, Time=441.851245s\n",
            "Confusion Matrix:\n",
            "[[67759   113     1    58    82]\n",
            " [   14 66168  1812    19     0]\n",
            " [    0   623 67390     0     0]\n",
            " [ 4299    34    18 63663     0]\n",
            " [    9     0     0     0 68004]]\n",
            "              precision    recall  f1-score   support\n",
            "\n",
            "           0       0.94      1.00      0.97     68013\n",
            "           1       0.99      0.97      0.98     68013\n",
            "           2       0.97      0.99      0.98     68013\n",
            "           3       1.00      0.94      0.97     68014\n",
            "           4       1.00      1.00      1.00     68013\n",
            "\n",
            "    accuracy                           0.98    340066\n",
            "   macro avg       0.98      0.98      0.98    340066\n",
            "weighted avg       0.98      0.98      0.98    340066\n",
            "\n"
          ]
        },
        {
          "output_type": "stream",
          "name": "stderr",
          "text": [
            "/usr/local/lib/python3.11/dist-packages/keras/src/layers/core/input_layer.py:27: UserWarning: Argument `input_shape` is deprecated. Use `shape` instead.\n",
            "  warnings.warn(\n"
          ]
        },
        {
          "output_type": "stream",
          "name": "stdout",
          "text": [
            "\u001b[1m10628/10628\u001b[0m \u001b[32m━━━━━━━━━━━━━━━━━━━━\u001b[0m\u001b[37m\u001b[0m \u001b[1m40s\u001b[0m 4ms/step\n",
            "Round 7: Acc=0.97712797, F1=0.97710675, AUC=0.99831450, Time=442.371659s\n",
            "Confusion Matrix:\n",
            "[[67781   107     3    44    78]\n",
            " [   16 65024  2969     4     0]\n",
            " [    0   164 67849     0     0]\n",
            " [ 4295    63    23 63633     0]\n",
            " [   12     0     0     0 68001]]\n",
            "              precision    recall  f1-score   support\n",
            "\n",
            "           0       0.94      1.00      0.97     68013\n",
            "           1       0.99      0.96      0.98     68013\n",
            "           2       0.96      1.00      0.98     68013\n",
            "           3       1.00      0.94      0.97     68014\n",
            "           4       1.00      1.00      1.00     68013\n",
            "\n",
            "    accuracy                           0.98    340066\n",
            "   macro avg       0.98      0.98      0.98    340066\n",
            "weighted avg       0.98      0.98      0.98    340066\n",
            "\n"
          ]
        },
        {
          "output_type": "stream",
          "name": "stderr",
          "text": [
            "/usr/local/lib/python3.11/dist-packages/keras/src/layers/core/input_layer.py:27: UserWarning: Argument `input_shape` is deprecated. Use `shape` instead.\n",
            "  warnings.warn(\n"
          ]
        },
        {
          "output_type": "stream",
          "name": "stdout",
          "text": [
            "\u001b[1m10628/10628\u001b[0m \u001b[32m━━━━━━━━━━━━━━━━━━━━\u001b[0m\u001b[37m\u001b[0m \u001b[1m41s\u001b[0m 4ms/step\n",
            "Round 8: Acc=0.98003035, F1=0.98001500, AUC=0.99845671, Time=446.358902s\n",
            "Confusion Matrix:\n",
            "[[67757   114     6    53    83]\n",
            " [   12 65903  2088    10     0]\n",
            " [    0    95 67918     0     0]\n",
            " [ 4284    23    14 63693     0]\n",
            " [    9     0     0     0 68004]]\n",
            "              precision    recall  f1-score   support\n",
            "\n",
            "           0       0.94      1.00      0.97     68013\n",
            "           1       1.00      0.97      0.98     68013\n",
            "           2       0.97      1.00      0.98     68013\n",
            "           3       1.00      0.94      0.97     68014\n",
            "           4       1.00      1.00      1.00     68013\n",
            "\n",
            "    accuracy                           0.98    340066\n",
            "   macro avg       0.98      0.98      0.98    340066\n",
            "weighted avg       0.98      0.98      0.98    340066\n",
            "\n"
          ]
        },
        {
          "output_type": "stream",
          "name": "stderr",
          "text": [
            "/usr/local/lib/python3.11/dist-packages/keras/src/layers/core/input_layer.py:27: UserWarning: Argument `input_shape` is deprecated. Use `shape` instead.\n",
            "  warnings.warn(\n"
          ]
        },
        {
          "output_type": "stream",
          "name": "stdout",
          "text": [
            "\u001b[1m10628/10628\u001b[0m \u001b[32m━━━━━━━━━━━━━━━━━━━━\u001b[0m\u001b[37m\u001b[0m \u001b[1m42s\u001b[0m 4ms/step\n",
            "Round 9: Acc=0.98025677, F1=0.98024010, AUC=0.99852527, Time=445.679845s\n",
            "Confusion Matrix:\n",
            "[[67771   102     1    57    82]\n",
            " [   14 65964  2018    17     0]\n",
            " [    0    89 67924     0     0]\n",
            " [ 4278    37    10 63689     0]\n",
            " [    9     0     0     0 68004]]\n",
            "              precision    recall  f1-score   support\n",
            "\n",
            "           0       0.94      1.00      0.97     68013\n",
            "           1       1.00      0.97      0.98     68013\n",
            "           2       0.97      1.00      0.98     68013\n",
            "           3       1.00      0.94      0.97     68014\n",
            "           4       1.00      1.00      1.00     68013\n",
            "\n",
            "    accuracy                           0.98    340066\n",
            "   macro avg       0.98      0.98      0.98    340066\n",
            "weighted avg       0.98      0.98      0.98    340066\n",
            "\n"
          ]
        },
        {
          "output_type": "stream",
          "name": "stderr",
          "text": [
            "/usr/local/lib/python3.11/dist-packages/keras/src/layers/core/input_layer.py:27: UserWarning: Argument `input_shape` is deprecated. Use `shape` instead.\n",
            "  warnings.warn(\n"
          ]
        },
        {
          "output_type": "stream",
          "name": "stdout",
          "text": [
            "\u001b[1m10628/10628\u001b[0m \u001b[32m━━━━━━━━━━━━━━━━━━━━\u001b[0m\u001b[37m\u001b[0m \u001b[1m41s\u001b[0m 4ms/step\n",
            "Round 10: Acc=0.97968924, F1=0.97967002, AUC=0.99856468, Time=451.970872s\n",
            "Confusion Matrix:\n",
            "[[67760   110     6    58    79]\n",
            " [   10 65775  2228     0     0]\n",
            " [    0    50 67963     0     0]\n",
            " [ 4280    65    12 63657     0]\n",
            " [    9     0     0     0 68004]]\n",
            "              precision    recall  f1-score   support\n",
            "\n",
            "           0       0.94      1.00      0.97     68013\n",
            "           1       1.00      0.97      0.98     68013\n",
            "           2       0.97      1.00      0.98     68013\n",
            "           3       1.00      0.94      0.97     68014\n",
            "           4       1.00      1.00      1.00     68013\n",
            "\n",
            "    accuracy                           0.98    340066\n",
            "   macro avg       0.98      0.98      0.98    340066\n",
            "weighted avg       0.98      0.98      0.98    340066\n",
            "\n"
          ]
        },
        {
          "output_type": "stream",
          "name": "stderr",
          "text": [
            "/usr/local/lib/python3.11/dist-packages/keras/src/layers/core/input_layer.py:27: UserWarning: Argument `input_shape` is deprecated. Use `shape` instead.\n",
            "  warnings.warn(\n"
          ]
        },
        {
          "output_type": "stream",
          "name": "stdout",
          "text": [
            "\u001b[1m10628/10628\u001b[0m \u001b[32m━━━━━━━━━━━━━━━━━━━━\u001b[0m\u001b[37m\u001b[0m \u001b[1m41s\u001b[0m 4ms/step\n",
            "Round 11: Acc=0.98106250, F1=0.98104734, AUC=0.99862027, Time=447.012082s\n",
            "Confusion Matrix:\n",
            "[[67749   111     3    67    83]\n",
            " [   10 66217  1775    11     0]\n",
            " [    0    82 67931     0     0]\n",
            " [ 4266    24     6 63718     0]\n",
            " [    2     0     0     0 68011]]\n",
            "              precision    recall  f1-score   support\n",
            "\n",
            "           0       0.94      1.00      0.97     68013\n",
            "           1       1.00      0.97      0.99     68013\n",
            "           2       0.97      1.00      0.99     68013\n",
            "           3       1.00      0.94      0.97     68014\n",
            "           4       1.00      1.00      1.00     68013\n",
            "\n",
            "    accuracy                           0.98    340066\n",
            "   macro avg       0.98      0.98      0.98    340066\n",
            "weighted avg       0.98      0.98      0.98    340066\n",
            "\n"
          ]
        },
        {
          "output_type": "stream",
          "name": "stderr",
          "text": [
            "/usr/local/lib/python3.11/dist-packages/keras/src/layers/core/input_layer.py:27: UserWarning: Argument `input_shape` is deprecated. Use `shape` instead.\n",
            "  warnings.warn(\n"
          ]
        },
        {
          "output_type": "stream",
          "name": "stdout",
          "text": [
            "\u001b[1m10628/10628\u001b[0m \u001b[32m━━━━━━━━━━━━━━━━━━━━\u001b[0m\u001b[37m\u001b[0m \u001b[1m41s\u001b[0m 4ms/step\n",
            "Round 12: Acc=0.98015679, F1=0.98014035, AUC=0.99857442, Time=446.339120s\n",
            "Confusion Matrix:\n",
            "[[67751   116     6    59    81]\n",
            " [   13 65960  2036     4     0]\n",
            " [    0   106 67907     0     0]\n",
            " [ 4277    41     5 63691     0]\n",
            " [    4     0     0     0 68009]]\n",
            "              precision    recall  f1-score   support\n",
            "\n",
            "           0       0.94      1.00      0.97     68013\n",
            "           1       1.00      0.97      0.98     68013\n",
            "           2       0.97      1.00      0.98     68013\n",
            "           3       1.00      0.94      0.97     68014\n",
            "           4       1.00      1.00      1.00     68013\n",
            "\n",
            "    accuracy                           0.98    340066\n",
            "   macro avg       0.98      0.98      0.98    340066\n",
            "weighted avg       0.98      0.98      0.98    340066\n",
            "\n"
          ]
        },
        {
          "output_type": "stream",
          "name": "stderr",
          "text": [
            "/usr/local/lib/python3.11/dist-packages/keras/src/layers/core/input_layer.py:27: UserWarning: Argument `input_shape` is deprecated. Use `shape` instead.\n",
            "  warnings.warn(\n"
          ]
        },
        {
          "output_type": "stream",
          "name": "stdout",
          "text": [
            "\u001b[1m10628/10628\u001b[0m \u001b[32m━━━━━━━━━━━━━━━━━━━━\u001b[0m\u001b[37m\u001b[0m \u001b[1m41s\u001b[0m 4ms/step\n",
            "Round 13: Acc=0.98173002, F1=0.98171447, AUC=0.99865371, Time=445.767683s\n",
            "Confusion Matrix:\n",
            "[[67727   110     5    60   111]\n",
            " [   12 66436  1559     6     0]\n",
            " [    0    40 67973     0     0]\n",
            " [ 4269    32     7 63706     0]\n",
            " [    2     0     0     0 68011]]\n",
            "              precision    recall  f1-score   support\n",
            "\n",
            "           0       0.94      1.00      0.97     68013\n",
            "           1       1.00      0.98      0.99     68013\n",
            "           2       0.98      1.00      0.99     68013\n",
            "           3       1.00      0.94      0.97     68014\n",
            "           4       1.00      1.00      1.00     68013\n",
            "\n",
            "    accuracy                           0.98    340066\n",
            "   macro avg       0.98      0.98      0.98    340066\n",
            "weighted avg       0.98      0.98      0.98    340066\n",
            "\n"
          ]
        },
        {
          "output_type": "stream",
          "name": "stderr",
          "text": [
            "/usr/local/lib/python3.11/dist-packages/keras/src/layers/core/input_layer.py:27: UserWarning: Argument `input_shape` is deprecated. Use `shape` instead.\n",
            "  warnings.warn(\n"
          ]
        },
        {
          "output_type": "stream",
          "name": "stdout",
          "text": [
            "\u001b[1m10628/10628\u001b[0m \u001b[32m━━━━━━━━━━━━━━━━━━━━\u001b[0m\u001b[37m\u001b[0m \u001b[1m41s\u001b[0m 4ms/step\n",
            "Round 14: Acc=0.98214464, F1=0.98212968, AUC=0.99868506, Time=448.868451s\n",
            "Confusion Matrix:\n",
            "[[67772   100     4    54    83]\n",
            " [   12 66623  1369     9     0]\n",
            " [    0   117 67896     0     0]\n",
            " [ 4283    33     4 63694     0]\n",
            " [    4     0     0     0 68009]]\n",
            "              precision    recall  f1-score   support\n",
            "\n",
            "           0       0.94      1.00      0.97     68013\n",
            "           1       1.00      0.98      0.99     68013\n",
            "           2       0.98      1.00      0.99     68013\n",
            "           3       1.00      0.94      0.97     68014\n",
            "           4       1.00      1.00      1.00     68013\n",
            "\n",
            "    accuracy                           0.98    340066\n",
            "   macro avg       0.98      0.98      0.98    340066\n",
            "weighted avg       0.98      0.98      0.98    340066\n",
            "\n"
          ]
        },
        {
          "output_type": "stream",
          "name": "stderr",
          "text": [
            "/usr/local/lib/python3.11/dist-packages/keras/src/layers/core/input_layer.py:27: UserWarning: Argument `input_shape` is deprecated. Use `shape` instead.\n",
            "  warnings.warn(\n"
          ]
        },
        {
          "output_type": "stream",
          "name": "stdout",
          "text": [
            "\u001b[1m10628/10628\u001b[0m \u001b[32m━━━━━━━━━━━━━━━━━━━━\u001b[0m\u001b[37m\u001b[0m \u001b[1m41s\u001b[0m 4ms/step\n",
            "Round 15: Acc=0.98155358, F1=0.98153864, AUC=0.99867873, Time=448.087434s\n",
            "Confusion Matrix:\n",
            "[[67765   105     0    63    80]\n",
            " [   13 66298  1697     5     0]\n",
            " [    0    11 68002     0     0]\n",
            " [ 4268    28     0 63718     0]\n",
            " [    3     0     0     0 68010]]\n",
            "              precision    recall  f1-score   support\n",
            "\n",
            "           0       0.94      1.00      0.97     68013\n",
            "           1       1.00      0.97      0.99     68013\n",
            "           2       0.98      1.00      0.99     68013\n",
            "           3       1.00      0.94      0.97     68014\n",
            "           4       1.00      1.00      1.00     68013\n",
            "\n",
            "    accuracy                           0.98    340066\n",
            "   macro avg       0.98      0.98      0.98    340066\n",
            "weighted avg       0.98      0.98      0.98    340066\n",
            "\n"
          ]
        },
        {
          "output_type": "stream",
          "name": "stderr",
          "text": [
            "/usr/local/lib/python3.11/dist-packages/keras/src/layers/core/input_layer.py:27: UserWarning: Argument `input_shape` is deprecated. Use `shape` instead.\n",
            "  warnings.warn(\n"
          ]
        },
        {
          "output_type": "stream",
          "name": "stdout",
          "text": [
            "\u001b[1m10628/10628\u001b[0m \u001b[32m━━━━━━━━━━━━━━━━━━━━\u001b[0m\u001b[37m\u001b[0m \u001b[1m41s\u001b[0m 4ms/step\n",
            "Round 16: Acc=0.98150359, F1=0.98148760, AUC=0.99874237, Time=443.297950s\n",
            "Confusion Matrix:\n",
            "[[67763   104     3    58    85]\n",
            " [   12 66297  1703     1     0]\n",
            " [    0    14 67999     0     0]\n",
            " [ 4270    39     0 63705     0]\n",
            " [    1     0     0     0 68012]]\n",
            "              precision    recall  f1-score   support\n",
            "\n",
            "           0       0.94      1.00      0.97     68013\n",
            "           1       1.00      0.97      0.99     68013\n",
            "           2       0.98      1.00      0.99     68013\n",
            "           3       1.00      0.94      0.97     68014\n",
            "           4       1.00      1.00      1.00     68013\n",
            "\n",
            "    accuracy                           0.98    340066\n",
            "   macro avg       0.98      0.98      0.98    340066\n",
            "weighted avg       0.98      0.98      0.98    340066\n",
            "\n"
          ]
        },
        {
          "output_type": "stream",
          "name": "stderr",
          "text": [
            "/usr/local/lib/python3.11/dist-packages/keras/src/layers/core/input_layer.py:27: UserWarning: Argument `input_shape` is deprecated. Use `shape` instead.\n",
            "  warnings.warn(\n"
          ]
        },
        {
          "output_type": "stream",
          "name": "stdout",
          "text": [
            "\u001b[1m10628/10628\u001b[0m \u001b[32m━━━━━━━━━━━━━━━━━━━━\u001b[0m\u001b[37m\u001b[0m \u001b[1m41s\u001b[0m 4ms/step\n",
            "Round 17: Acc=0.98192410, F1=0.98190541, AUC=0.99880283, Time=451.222501s\n",
            "Confusion Matrix:\n",
            "[[67761   114     1    57    80]\n",
            " [   12 66495  1506     0     0]\n",
            " [    0    26 67987     0     0]\n",
            " [ 4275    71     2 63666     0]\n",
            " [    3     0     0     0 68010]]\n",
            "              precision    recall  f1-score   support\n",
            "\n",
            "           0       0.94      1.00      0.97     68013\n",
            "           1       1.00      0.98      0.99     68013\n",
            "           2       0.98      1.00      0.99     68013\n",
            "           3       1.00      0.94      0.97     68014\n",
            "           4       1.00      1.00      1.00     68013\n",
            "\n",
            "    accuracy                           0.98    340066\n",
            "   macro avg       0.98      0.98      0.98    340066\n",
            "weighted avg       0.98      0.98      0.98    340066\n",
            "\n"
          ]
        },
        {
          "output_type": "stream",
          "name": "stderr",
          "text": [
            "/usr/local/lib/python3.11/dist-packages/keras/src/layers/core/input_layer.py:27: UserWarning: Argument `input_shape` is deprecated. Use `shape` instead.\n",
            "  warnings.warn(\n"
          ]
        },
        {
          "output_type": "stream",
          "name": "stdout",
          "text": [
            "\u001b[1m10628/10628\u001b[0m \u001b[32m━━━━━━━━━━━━━━━━━━━━\u001b[0m\u001b[37m\u001b[0m \u001b[1m41s\u001b[0m 4ms/step\n",
            "Round 18: Acc=0.98198879, F1=0.98197218, AUC=0.99877876, Time=447.719402s\n",
            "Confusion Matrix:\n",
            "[[67765   105     3    52    88]\n",
            " [   13 66497  1503     0     0]\n",
            " [    0    35 67978     0     0]\n",
            " [ 4273    51     0 63690     0]\n",
            " [    2     0     0     0 68011]]\n",
            "              precision    recall  f1-score   support\n",
            "\n",
            "           0       0.94      1.00      0.97     68013\n",
            "           1       1.00      0.98      0.99     68013\n",
            "           2       0.98      1.00      0.99     68013\n",
            "           3       1.00      0.94      0.97     68014\n",
            "           4       1.00      1.00      1.00     68013\n",
            "\n",
            "    accuracy                           0.98    340066\n",
            "   macro avg       0.98      0.98      0.98    340066\n",
            "weighted avg       0.98      0.98      0.98    340066\n",
            "\n"
          ]
        },
        {
          "output_type": "stream",
          "name": "stderr",
          "text": [
            "/usr/local/lib/python3.11/dist-packages/keras/src/layers/core/input_layer.py:27: UserWarning: Argument `input_shape` is deprecated. Use `shape` instead.\n",
            "  warnings.warn(\n"
          ]
        },
        {
          "output_type": "stream",
          "name": "stdout",
          "text": [
            "\u001b[1m10628/10628\u001b[0m \u001b[32m━━━━━━━━━━━━━━━━━━━━\u001b[0m\u001b[37m\u001b[0m \u001b[1m42s\u001b[0m 4ms/step\n",
            "Round 19: Acc=0.98252986, F1=0.98251597, AUC=0.99882159, Time=447.835930s\n",
            "Confusion Matrix:\n",
            "[[67752   119     1    56    85]\n",
            " [    8 66694  1307     4     0]\n",
            " [    0    68 67945     0     0]\n",
            " [ 4270    21     0 63723     0]\n",
            " [    2     0     0     0 68011]]\n",
            "              precision    recall  f1-score   support\n",
            "\n",
            "           0       0.94      1.00      0.97     68013\n",
            "           1       1.00      0.98      0.99     68013\n",
            "           2       0.98      1.00      0.99     68013\n",
            "           3       1.00      0.94      0.97     68014\n",
            "           4       1.00      1.00      1.00     68013\n",
            "\n",
            "    accuracy                           0.98    340066\n",
            "   macro avg       0.98      0.98      0.98    340066\n",
            "weighted avg       0.98      0.98      0.98    340066\n",
            "\n"
          ]
        },
        {
          "output_type": "stream",
          "name": "stderr",
          "text": [
            "/usr/local/lib/python3.11/dist-packages/keras/src/layers/core/input_layer.py:27: UserWarning: Argument `input_shape` is deprecated. Use `shape` instead.\n",
            "  warnings.warn(\n"
          ]
        },
        {
          "output_type": "stream",
          "name": "stdout",
          "text": [
            "\u001b[1m10628/10628\u001b[0m \u001b[32m━━━━━━━━━━━━━━━━━━━━\u001b[0m\u001b[37m\u001b[0m \u001b[1m41s\u001b[0m 4ms/step\n",
            "Round 20: Acc=0.98170355, F1=0.98168756, AUC=0.99884372, Time=449.287509s\n",
            "Confusion Matrix:\n",
            "[[67753   114     5    55    86]\n",
            " [    7 66408  1598     0     0]\n",
            " [    0    44 67969     0     0]\n",
            " [ 4269    39     3 63703     0]\n",
            " [    2     0     0     0 68011]]\n",
            "              precision    recall  f1-score   support\n",
            "\n",
            "           0       0.94      1.00      0.97     68013\n",
            "           1       1.00      0.98      0.99     68013\n",
            "           2       0.98      1.00      0.99     68013\n",
            "           3       1.00      0.94      0.97     68014\n",
            "           4       1.00      1.00      1.00     68013\n",
            "\n",
            "    accuracy                           0.98    340066\n",
            "   macro avg       0.98      0.98      0.98    340066\n",
            "weighted avg       0.98      0.98      0.98    340066\n",
            "\n"
          ]
        },
        {
          "output_type": "stream",
          "name": "stderr",
          "text": [
            "/usr/local/lib/python3.11/dist-packages/keras/src/layers/core/input_layer.py:27: UserWarning: Argument `input_shape` is deprecated. Use `shape` instead.\n",
            "  warnings.warn(\n"
          ]
        },
        {
          "output_type": "stream",
          "name": "stdout",
          "text": [
            "\u001b[1m10628/10628\u001b[0m \u001b[32m━━━━━━━━━━━━━━━━━━━━\u001b[0m\u001b[37m\u001b[0m \u001b[1m42s\u001b[0m 4ms/step\n",
            "Round 21: Acc=0.98236225, F1=0.98234526, AUC=0.99887326, Time=454.397611s\n",
            "Confusion Matrix:\n",
            "[[67761   114     0    53    85]\n",
            " [   10 66630  1372     1     0]\n",
            " [    0    36 67977     0     0]\n",
            " [ 4271    54     0 63689     0]\n",
            " [    2     0     0     0 68011]]\n",
            "              precision    recall  f1-score   support\n",
            "\n",
            "           0       0.94      1.00      0.97     68013\n",
            "           1       1.00      0.98      0.99     68013\n",
            "           2       0.98      1.00      0.99     68013\n",
            "           3       1.00      0.94      0.97     68014\n",
            "           4       1.00      1.00      1.00     68013\n",
            "\n",
            "    accuracy                           0.98    340066\n",
            "   macro avg       0.98      0.98      0.98    340066\n",
            "weighted avg       0.98      0.98      0.98    340066\n",
            "\n"
          ]
        },
        {
          "output_type": "stream",
          "name": "stderr",
          "text": [
            "/usr/local/lib/python3.11/dist-packages/keras/src/layers/core/input_layer.py:27: UserWarning: Argument `input_shape` is deprecated. Use `shape` instead.\n",
            "  warnings.warn(\n"
          ]
        },
        {
          "output_type": "stream",
          "name": "stdout",
          "text": [
            "\u001b[1m10628/10628\u001b[0m \u001b[32m━━━━━━━━━━━━━━━━━━━━\u001b[0m\u001b[37m\u001b[0m \u001b[1m41s\u001b[0m 4ms/step\n",
            "Round 22: Acc=0.98112719, F1=0.98110929, AUC=0.99884680, Time=449.864163s\n",
            "Confusion Matrix:\n",
            "[[67759   119     1    51    83]\n",
            " [    8 66210  1795     0     0]\n",
            " [    0    23 67990     0     0]\n",
            " [ 4278    57     0 63679     0]\n",
            " [    3     0     0     0 68010]]\n",
            "              precision    recall  f1-score   support\n",
            "\n",
            "           0       0.94      1.00      0.97     68013\n",
            "           1       1.00      0.97      0.99     68013\n",
            "           2       0.97      1.00      0.99     68013\n",
            "           3       1.00      0.94      0.97     68014\n",
            "           4       1.00      1.00      1.00     68013\n",
            "\n",
            "    accuracy                           0.98    340066\n",
            "   macro avg       0.98      0.98      0.98    340066\n",
            "weighted avg       0.98      0.98      0.98    340066\n",
            "\n"
          ]
        },
        {
          "output_type": "stream",
          "name": "stderr",
          "text": [
            "/usr/local/lib/python3.11/dist-packages/keras/src/layers/core/input_layer.py:27: UserWarning: Argument `input_shape` is deprecated. Use `shape` instead.\n",
            "  warnings.warn(\n"
          ]
        },
        {
          "output_type": "stream",
          "name": "stdout",
          "text": [
            "\u001b[1m10628/10628\u001b[0m \u001b[32m━━━━━━━━━━━━━━━━━━━━\u001b[0m\u001b[37m\u001b[0m \u001b[1m41s\u001b[0m 4ms/step\n",
            "Round 23: Acc=0.98293861, F1=0.98292210, AUC=0.99896926, Time=442.224117s\n",
            "Confusion Matrix:\n",
            "[[67766   110     0    53    84]\n",
            " [   12 66815  1186     0     0]\n",
            " [    0    41 67972     0     0]\n",
            " [ 4264    46     3 63698     3]\n",
            " [    0     0     0     0 68013]]\n",
            "              precision    recall  f1-score   support\n",
            "\n",
            "           0       0.94      1.00      0.97     68013\n",
            "           1       1.00      0.98      0.99     68013\n",
            "           2       0.98      1.00      0.99     68013\n",
            "           3       1.00      0.94      0.97     68014\n",
            "           4       1.00      1.00      1.00     68013\n",
            "\n",
            "    accuracy                           0.98    340066\n",
            "   macro avg       0.98      0.98      0.98    340066\n",
            "weighted avg       0.98      0.98      0.98    340066\n",
            "\n"
          ]
        },
        {
          "output_type": "stream",
          "name": "stderr",
          "text": [
            "/usr/local/lib/python3.11/dist-packages/keras/src/layers/core/input_layer.py:27: UserWarning: Argument `input_shape` is deprecated. Use `shape` instead.\n",
            "  warnings.warn(\n"
          ]
        },
        {
          "output_type": "stream",
          "name": "stdout",
          "text": [
            "\u001b[1m10628/10628\u001b[0m \u001b[32m━━━━━━━━━━━━━━━━━━━━\u001b[0m\u001b[37m\u001b[0m \u001b[1m41s\u001b[0m 4ms/step\n",
            "Round 24: Acc=0.98238871, F1=0.98237560, AUC=0.99895662, Time=449.509335s\n",
            "Confusion Matrix:\n",
            "[[67776   103     0    54    80]\n",
            " [   11 66587  1414     1     0]\n",
            " [    0    39 67974     0     0]\n",
            " [ 4268    15     0 63731     0]\n",
            " [    4     0     0     0 68009]]\n",
            "              precision    recall  f1-score   support\n",
            "\n",
            "           0       0.94      1.00      0.97     68013\n",
            "           1       1.00      0.98      0.99     68013\n",
            "           2       0.98      1.00      0.99     68013\n",
            "           3       1.00      0.94      0.97     68014\n",
            "           4       1.00      1.00      1.00     68013\n",
            "\n",
            "    accuracy                           0.98    340066\n",
            "   macro avg       0.98      0.98      0.98    340066\n",
            "weighted avg       0.98      0.98      0.98    340066\n",
            "\n"
          ]
        },
        {
          "output_type": "stream",
          "name": "stderr",
          "text": [
            "/usr/local/lib/python3.11/dist-packages/keras/src/layers/core/input_layer.py:27: UserWarning: Argument `input_shape` is deprecated. Use `shape` instead.\n",
            "  warnings.warn(\n"
          ]
        },
        {
          "output_type": "stream",
          "name": "stdout",
          "text": [
            "\u001b[1m10628/10628\u001b[0m \u001b[32m━━━━━━━━━━━━━━━━━━━━\u001b[0m\u001b[37m\u001b[0m \u001b[1m41s\u001b[0m 4ms/step\n",
            "Round 25: Acc=0.98287685, F1=0.98286014, AUC=0.99898849, Time=456.205738s\n",
            "Confusion Matrix:\n",
            "[[67771   106     0    52    84]\n",
            " [    8 66821  1184     0     0]\n",
            " [    0    56 67957     0     0]\n",
            " [ 4277    53     0 63684     0]\n",
            " [    3     0     0     0 68010]]\n",
            "              precision    recall  f1-score   support\n",
            "\n",
            "           0       0.94      1.00      0.97     68013\n",
            "           1       1.00      0.98      0.99     68013\n",
            "           2       0.98      1.00      0.99     68013\n",
            "           3       1.00      0.94      0.97     68014\n",
            "           4       1.00      1.00      1.00     68013\n",
            "\n",
            "    accuracy                           0.98    340066\n",
            "   macro avg       0.98      0.98      0.98    340066\n",
            "weighted avg       0.98      0.98      0.98    340066\n",
            "\n"
          ]
        },
        {
          "output_type": "stream",
          "name": "stderr",
          "text": [
            "/usr/local/lib/python3.11/dist-packages/keras/src/layers/core/input_layer.py:27: UserWarning: Argument `input_shape` is deprecated. Use `shape` instead.\n",
            "  warnings.warn(\n"
          ]
        },
        {
          "output_type": "stream",
          "name": "stdout",
          "text": [
            "\u001b[1m10628/10628\u001b[0m \u001b[32m━━━━━━━━━━━━━━━━━━━━\u001b[0m\u001b[37m\u001b[0m \u001b[1m41s\u001b[0m 4ms/step\n",
            "Round 26: Acc=0.98277981, F1=0.98276371, AUC=0.99901127, Time=447.770171s\n",
            "Confusion Matrix:\n",
            "[[67755   120     0    60    78]\n",
            " [    5 66789  1219     0     0]\n",
            " [    0    57 67956     0     0]\n",
            " [ 4266    45     2 63701     0]\n",
            " [    4     0     0     0 68009]]\n",
            "              precision    recall  f1-score   support\n",
            "\n",
            "           0       0.94      1.00      0.97     68013\n",
            "           1       1.00      0.98      0.99     68013\n",
            "           2       0.98      1.00      0.99     68013\n",
            "           3       1.00      0.94      0.97     68014\n",
            "           4       1.00      1.00      1.00     68013\n",
            "\n",
            "    accuracy                           0.98    340066\n",
            "   macro avg       0.98      0.98      0.98    340066\n",
            "weighted avg       0.98      0.98      0.98    340066\n",
            "\n"
          ]
        },
        {
          "output_type": "stream",
          "name": "stderr",
          "text": [
            "/usr/local/lib/python3.11/dist-packages/keras/src/layers/core/input_layer.py:27: UserWarning: Argument `input_shape` is deprecated. Use `shape` instead.\n",
            "  warnings.warn(\n"
          ]
        },
        {
          "output_type": "stream",
          "name": "stdout",
          "text": [
            "\u001b[1m10628/10628\u001b[0m \u001b[32m━━━━━━━━━━━━━━━━━━━━\u001b[0m\u001b[37m\u001b[0m \u001b[1m41s\u001b[0m 4ms/step\n",
            "Round 27: Acc=0.98261808, F1=0.98260265, AUC=0.99904147, Time=442.719298s\n",
            "Confusion Matrix:\n",
            "[[67759   113     0    60    81]\n",
            " [    5 66695  1313     0     0]\n",
            " [    0    41 67972     0     0]\n",
            " [ 4259    35     2 63718     0]\n",
            " [    2     0     0     0 68011]]\n",
            "              precision    recall  f1-score   support\n",
            "\n",
            "           0       0.94      1.00      0.97     68013\n",
            "           1       1.00      0.98      0.99     68013\n",
            "           2       0.98      1.00      0.99     68013\n",
            "           3       1.00      0.94      0.97     68014\n",
            "           4       1.00      1.00      1.00     68013\n",
            "\n",
            "    accuracy                           0.98    340066\n",
            "   macro avg       0.98      0.98      0.98    340066\n",
            "weighted avg       0.98      0.98      0.98    340066\n",
            "\n"
          ]
        },
        {
          "output_type": "stream",
          "name": "stderr",
          "text": [
            "/usr/local/lib/python3.11/dist-packages/keras/src/layers/core/input_layer.py:27: UserWarning: Argument `input_shape` is deprecated. Use `shape` instead.\n",
            "  warnings.warn(\n"
          ]
        },
        {
          "output_type": "stream",
          "name": "stdout",
          "text": [
            "\u001b[1m10628/10628\u001b[0m \u001b[32m━━━━━━━━━━━━━━━━━━━━\u001b[0m\u001b[37m\u001b[0m \u001b[1m41s\u001b[0m 4ms/step\n",
            "Round 28: Acc=0.98189175, F1=0.98187819, AUC=0.99902379, Time=441.437779s\n",
            "Confusion Matrix:\n",
            "[[67750   113     0    63    87]\n",
            " [    6 66465  1542     0     0]\n",
            " [    0    69 67944     0     0]\n",
            " [ 4261    14     0 63738     1]\n",
            " [    2     0     0     0 68011]]\n",
            "              precision    recall  f1-score   support\n",
            "\n",
            "           0       0.94      1.00      0.97     68013\n",
            "           1       1.00      0.98      0.99     68013\n",
            "           2       0.98      1.00      0.99     68013\n",
            "           3       1.00      0.94      0.97     68014\n",
            "           4       1.00      1.00      1.00     68013\n",
            "\n",
            "    accuracy                           0.98    340066\n",
            "   macro avg       0.98      0.98      0.98    340066\n",
            "weighted avg       0.98      0.98      0.98    340066\n",
            "\n"
          ]
        },
        {
          "output_type": "stream",
          "name": "stderr",
          "text": [
            "/usr/local/lib/python3.11/dist-packages/keras/src/layers/core/input_layer.py:27: UserWarning: Argument `input_shape` is deprecated. Use `shape` instead.\n",
            "  warnings.warn(\n"
          ]
        },
        {
          "output_type": "stream",
          "name": "stdout",
          "text": [
            "\u001b[1m10628/10628\u001b[0m \u001b[32m━━━━━━━━━━━━━━━━━━━━\u001b[0m\u001b[37m\u001b[0m \u001b[1m41s\u001b[0m 4ms/step\n",
            "Round 29: Acc=0.98348556, F1=0.98347233, AUC=0.99908494, Time=444.251395s\n",
            "Confusion Matrix:\n",
            "[[67770   102     0    63    78]\n",
            " [    8 67055   950     0     0]\n",
            " [    0   130 67883     0     0]\n",
            " [ 4263    20     0 63731     0]\n",
            " [    2     0     0     0 68011]]\n",
            "              precision    recall  f1-score   support\n",
            "\n",
            "           0       0.94      1.00      0.97     68013\n",
            "           1       1.00      0.99      0.99     68013\n",
            "           2       0.99      1.00      0.99     68013\n",
            "           3       1.00      0.94      0.97     68014\n",
            "           4       1.00      1.00      1.00     68013\n",
            "\n",
            "    accuracy                           0.98    340066\n",
            "   macro avg       0.98      0.98      0.98    340066\n",
            "weighted avg       0.98      0.98      0.98    340066\n",
            "\n"
          ]
        },
        {
          "output_type": "stream",
          "name": "stderr",
          "text": [
            "/usr/local/lib/python3.11/dist-packages/keras/src/layers/core/input_layer.py:27: UserWarning: Argument `input_shape` is deprecated. Use `shape` instead.\n",
            "  warnings.warn(\n"
          ]
        },
        {
          "output_type": "stream",
          "name": "stdout",
          "text": [
            "\u001b[1m10628/10628\u001b[0m \u001b[32m━━━━━━━━━━━━━━━━━━━━\u001b[0m\u001b[37m\u001b[0m \u001b[1m41s\u001b[0m 4ms/step\n",
            "Round 30: Acc=0.98311798, F1=0.98310282, AUC=0.99901451, Time=447.626429s\n",
            "Confusion Matrix:\n",
            "[[67766   109     0    56    82]\n",
            " [    5 66858  1150     0     0]\n",
            " [    0    36 67977     0     0]\n",
            " [ 4267    34     0 63713     0]\n",
            " [    2     0     0     0 68011]]\n",
            "              precision    recall  f1-score   support\n",
            "\n",
            "           0       0.94      1.00      0.97     68013\n",
            "           1       1.00      0.98      0.99     68013\n",
            "           2       0.98      1.00      0.99     68013\n",
            "           3       1.00      0.94      0.97     68014\n",
            "           4       1.00      1.00      1.00     68013\n",
            "\n",
            "    accuracy                           0.98    340066\n",
            "   macro avg       0.98      0.98      0.98    340066\n",
            "weighted avg       0.98      0.98      0.98    340066\n",
            "\n",
            "Training log saved to fedavg_training_log.csv\n"
          ]
        }
      ]
    }
  ]
}