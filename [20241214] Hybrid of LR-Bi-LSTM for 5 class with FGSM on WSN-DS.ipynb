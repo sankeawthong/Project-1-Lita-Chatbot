{
  "nbformat": 4,
  "nbformat_minor": 0,
  "metadata": {
    "colab": {
      "provenance": [],
      "gpuType": "V28",
      "authorship_tag": "ABX9TyPHu+/SMsvokAc6/LKzwYbx",
      "include_colab_link": true
    },
    "kernelspec": {
      "name": "python3",
      "display_name": "Python 3"
    },
    "language_info": {
      "name": "python"
    },
    "accelerator": "TPU"
  },
  "cells": [
    {
      "cell_type": "markdown",
      "metadata": {
        "id": "view-in-github",
        "colab_type": "text"
      },
      "source": [
        "<a href=\"https://colab.research.google.com/github/sankeawthong/Project-1-Lita-Chatbot/blob/main/%5B20241214%5D%20Hybrid%20of%20LR-Bi-LSTM%20for%205%20class%20with%20FGSM%20on%20WSN-DS.ipynb\" target=\"_parent\"><img src=\"https://colab.research.google.com/assets/colab-badge.svg\" alt=\"Open In Colab\"/></a>"
      ]
    },
    {
      "cell_type": "markdown",
      "source": [
        "### **Hybrid LR-Bi-LSTM for 10 class classifications based on UNSW-NB15 dataset**"
      ],
      "metadata": {
        "id": "15jGYmT_0lrn"
      }
    },
    {
      "cell_type": "code",
      "source": [
        "import pandas as pd\n",
        "import numpy as np\n",
        "from sklearn.linear_model import LogisticRegression\n",
        "from sklearn.model_selection import train_test_split\n",
        "from sklearn.metrics import accuracy_score, classification_report\n",
        "from sklearn.preprocessing import LabelEncoder, StandardScaler\n",
        "from keras.models import Sequential\n",
        "from keras.layers import Dense, LSTM, Bidirectional, Dropout, Flatten\n",
        "from sklearn.metrics import accuracy_score, classification_report, confusion_matrix\n",
        "from keras.utils import to_categorical"
      ],
      "metadata": {
        "id": "JLFmDI9C0qRo"
      },
      "execution_count": 1,
      "outputs": []
    },
    {
      "cell_type": "code",
      "source": [
        "# Load dataset\n",
        "dataset = pd.read_csv(\"dataset_WSN-DS.csv\")\n",
        "\n",
        "# Preprocessing: Handle missing values (if any)\n",
        "dataset = dataset.dropna() # Remove missing values\n",
        "#X = dataset.drop(['Class'], axis=1)\n",
        "#y = dataset['Class']"
      ],
      "metadata": {
        "id": "QYXmvq660ron"
      },
      "execution_count": 2,
      "outputs": []
    },
    {
      "cell_type": "code",
      "source": [
        "dataset"
      ],
      "metadata": {
        "colab": {
          "base_uri": "https://localhost:8080/",
          "height": 461
        },
        "id": "krzBgQpOU-1M",
        "outputId": "38fe9b21-db93-4f4a-f1cc-75064117f274"
      },
      "execution_count": 3,
      "outputs": [
        {
          "output_type": "execute_result",
          "data": {
            "text/plain": [
              "            id   Time   Is_CH   who CH   Dist_To_CH   ADV_S   ADV_R   JOIN_S  \\\n",
              "0       101000     50       1   101000      0.00000       1       0        0   \n",
              "1       101001     50       0   101044     75.32345       0       4        1   \n",
              "2       101002     50       0   101010     46.95453       0       4        1   \n",
              "3       101003     50       0   101044     64.85231       0       4        1   \n",
              "4       101004     50       0   101010      4.83341       0       4        1   \n",
              "...        ...    ...     ...      ...          ...     ...     ...      ...   \n",
              "374656  201096   1003       0   201051      6.98337       0       5        1   \n",
              "374657  201097   1003       0   201037     29.32867       0       5        1   \n",
              "374658  201098   1003       0   201095     18.51963       0       5        1   \n",
              "374659  201099   1003       0   201051      8.55001       0       5        1   \n",
              "374660  202041   1025       0   202100      0.00000       0       5        0   \n",
              "\n",
              "         JOIN_R   SCH_S   SCH_R  Rank   DATA_S   DATA_R   Data_Sent_To_BS  \\\n",
              "0            25       1       0     0        0     1200                48   \n",
              "1             0       0       1     2       38        0                 0   \n",
              "2             0       0       1    19       41        0                 0   \n",
              "3             0       0       1    16       38        0                 0   \n",
              "4             0       0       1    25       41        0                 0   \n",
              "...         ...     ...     ...   ...      ...      ...               ...   \n",
              "374656        0       0       1     7       96        0                67   \n",
              "374657        0       0       1    31       39        0                24   \n",
              "374658        0       0       1    17       55        0                31   \n",
              "374659        0       0       1     3       96        0                65   \n",
              "374660        0       0       0     4        7      689                 7   \n",
              "\n",
              "         dist_CH_To_BS   send_code   Expaned Energy  Class  \n",
              "0            130.08535            0         2.46940      0  \n",
              "1              0.00000            4         0.06957      0  \n",
              "2              0.00000            3         0.06898      0  \n",
              "3              0.00000            4         0.06673      0  \n",
              "4              0.00000            3         0.06534      0  \n",
              "...                ...          ...             ...    ...  \n",
              "374656       170.14779            3         0.15974      0  \n",
              "374657        82.21043            2         0.06877      0  \n",
              "374658       139.26438            1         0.09437      0  \n",
              "374659       158.27492            3         0.16047      0  \n",
              "374660       115.00407            0         1.01325      0  \n",
              "\n",
              "[374661 rows x 19 columns]"
            ],
            "text/html": [
              "\n",
              "  <div id=\"df-86b2e1e2-0daf-49bd-b39f-f4b850b24262\" class=\"colab-df-container\">\n",
              "    <div>\n",
              "<style scoped>\n",
              "    .dataframe tbody tr th:only-of-type {\n",
              "        vertical-align: middle;\n",
              "    }\n",
              "\n",
              "    .dataframe tbody tr th {\n",
              "        vertical-align: top;\n",
              "    }\n",
              "\n",
              "    .dataframe thead th {\n",
              "        text-align: right;\n",
              "    }\n",
              "</style>\n",
              "<table border=\"1\" class=\"dataframe\">\n",
              "  <thead>\n",
              "    <tr style=\"text-align: right;\">\n",
              "      <th></th>\n",
              "      <th>id</th>\n",
              "      <th>Time</th>\n",
              "      <th>Is_CH</th>\n",
              "      <th>who CH</th>\n",
              "      <th>Dist_To_CH</th>\n",
              "      <th>ADV_S</th>\n",
              "      <th>ADV_R</th>\n",
              "      <th>JOIN_S</th>\n",
              "      <th>JOIN_R</th>\n",
              "      <th>SCH_S</th>\n",
              "      <th>SCH_R</th>\n",
              "      <th>Rank</th>\n",
              "      <th>DATA_S</th>\n",
              "      <th>DATA_R</th>\n",
              "      <th>Data_Sent_To_BS</th>\n",
              "      <th>dist_CH_To_BS</th>\n",
              "      <th>send_code</th>\n",
              "      <th>Expaned Energy</th>\n",
              "      <th>Class</th>\n",
              "    </tr>\n",
              "  </thead>\n",
              "  <tbody>\n",
              "    <tr>\n",
              "      <th>0</th>\n",
              "      <td>101000</td>\n",
              "      <td>50</td>\n",
              "      <td>1</td>\n",
              "      <td>101000</td>\n",
              "      <td>0.00000</td>\n",
              "      <td>1</td>\n",
              "      <td>0</td>\n",
              "      <td>0</td>\n",
              "      <td>25</td>\n",
              "      <td>1</td>\n",
              "      <td>0</td>\n",
              "      <td>0</td>\n",
              "      <td>0</td>\n",
              "      <td>1200</td>\n",
              "      <td>48</td>\n",
              "      <td>130.08535</td>\n",
              "      <td>0</td>\n",
              "      <td>2.46940</td>\n",
              "      <td>0</td>\n",
              "    </tr>\n",
              "    <tr>\n",
              "      <th>1</th>\n",
              "      <td>101001</td>\n",
              "      <td>50</td>\n",
              "      <td>0</td>\n",
              "      <td>101044</td>\n",
              "      <td>75.32345</td>\n",
              "      <td>0</td>\n",
              "      <td>4</td>\n",
              "      <td>1</td>\n",
              "      <td>0</td>\n",
              "      <td>0</td>\n",
              "      <td>1</td>\n",
              "      <td>2</td>\n",
              "      <td>38</td>\n",
              "      <td>0</td>\n",
              "      <td>0</td>\n",
              "      <td>0.00000</td>\n",
              "      <td>4</td>\n",
              "      <td>0.06957</td>\n",
              "      <td>0</td>\n",
              "    </tr>\n",
              "    <tr>\n",
              "      <th>2</th>\n",
              "      <td>101002</td>\n",
              "      <td>50</td>\n",
              "      <td>0</td>\n",
              "      <td>101010</td>\n",
              "      <td>46.95453</td>\n",
              "      <td>0</td>\n",
              "      <td>4</td>\n",
              "      <td>1</td>\n",
              "      <td>0</td>\n",
              "      <td>0</td>\n",
              "      <td>1</td>\n",
              "      <td>19</td>\n",
              "      <td>41</td>\n",
              "      <td>0</td>\n",
              "      <td>0</td>\n",
              "      <td>0.00000</td>\n",
              "      <td>3</td>\n",
              "      <td>0.06898</td>\n",
              "      <td>0</td>\n",
              "    </tr>\n",
              "    <tr>\n",
              "      <th>3</th>\n",
              "      <td>101003</td>\n",
              "      <td>50</td>\n",
              "      <td>0</td>\n",
              "      <td>101044</td>\n",
              "      <td>64.85231</td>\n",
              "      <td>0</td>\n",
              "      <td>4</td>\n",
              "      <td>1</td>\n",
              "      <td>0</td>\n",
              "      <td>0</td>\n",
              "      <td>1</td>\n",
              "      <td>16</td>\n",
              "      <td>38</td>\n",
              "      <td>0</td>\n",
              "      <td>0</td>\n",
              "      <td>0.00000</td>\n",
              "      <td>4</td>\n",
              "      <td>0.06673</td>\n",
              "      <td>0</td>\n",
              "    </tr>\n",
              "    <tr>\n",
              "      <th>4</th>\n",
              "      <td>101004</td>\n",
              "      <td>50</td>\n",
              "      <td>0</td>\n",
              "      <td>101010</td>\n",
              "      <td>4.83341</td>\n",
              "      <td>0</td>\n",
              "      <td>4</td>\n",
              "      <td>1</td>\n",
              "      <td>0</td>\n",
              "      <td>0</td>\n",
              "      <td>1</td>\n",
              "      <td>25</td>\n",
              "      <td>41</td>\n",
              "      <td>0</td>\n",
              "      <td>0</td>\n",
              "      <td>0.00000</td>\n",
              "      <td>3</td>\n",
              "      <td>0.06534</td>\n",
              "      <td>0</td>\n",
              "    </tr>\n",
              "    <tr>\n",
              "      <th>...</th>\n",
              "      <td>...</td>\n",
              "      <td>...</td>\n",
              "      <td>...</td>\n",
              "      <td>...</td>\n",
              "      <td>...</td>\n",
              "      <td>...</td>\n",
              "      <td>...</td>\n",
              "      <td>...</td>\n",
              "      <td>...</td>\n",
              "      <td>...</td>\n",
              "      <td>...</td>\n",
              "      <td>...</td>\n",
              "      <td>...</td>\n",
              "      <td>...</td>\n",
              "      <td>...</td>\n",
              "      <td>...</td>\n",
              "      <td>...</td>\n",
              "      <td>...</td>\n",
              "      <td>...</td>\n",
              "    </tr>\n",
              "    <tr>\n",
              "      <th>374656</th>\n",
              "      <td>201096</td>\n",
              "      <td>1003</td>\n",
              "      <td>0</td>\n",
              "      <td>201051</td>\n",
              "      <td>6.98337</td>\n",
              "      <td>0</td>\n",
              "      <td>5</td>\n",
              "      <td>1</td>\n",
              "      <td>0</td>\n",
              "      <td>0</td>\n",
              "      <td>1</td>\n",
              "      <td>7</td>\n",
              "      <td>96</td>\n",
              "      <td>0</td>\n",
              "      <td>67</td>\n",
              "      <td>170.14779</td>\n",
              "      <td>3</td>\n",
              "      <td>0.15974</td>\n",
              "      <td>0</td>\n",
              "    </tr>\n",
              "    <tr>\n",
              "      <th>374657</th>\n",
              "      <td>201097</td>\n",
              "      <td>1003</td>\n",
              "      <td>0</td>\n",
              "      <td>201037</td>\n",
              "      <td>29.32867</td>\n",
              "      <td>0</td>\n",
              "      <td>5</td>\n",
              "      <td>1</td>\n",
              "      <td>0</td>\n",
              "      <td>0</td>\n",
              "      <td>1</td>\n",
              "      <td>31</td>\n",
              "      <td>39</td>\n",
              "      <td>0</td>\n",
              "      <td>24</td>\n",
              "      <td>82.21043</td>\n",
              "      <td>2</td>\n",
              "      <td>0.06877</td>\n",
              "      <td>0</td>\n",
              "    </tr>\n",
              "    <tr>\n",
              "      <th>374658</th>\n",
              "      <td>201098</td>\n",
              "      <td>1003</td>\n",
              "      <td>0</td>\n",
              "      <td>201095</td>\n",
              "      <td>18.51963</td>\n",
              "      <td>0</td>\n",
              "      <td>5</td>\n",
              "      <td>1</td>\n",
              "      <td>0</td>\n",
              "      <td>0</td>\n",
              "      <td>1</td>\n",
              "      <td>17</td>\n",
              "      <td>55</td>\n",
              "      <td>0</td>\n",
              "      <td>31</td>\n",
              "      <td>139.26438</td>\n",
              "      <td>1</td>\n",
              "      <td>0.09437</td>\n",
              "      <td>0</td>\n",
              "    </tr>\n",
              "    <tr>\n",
              "      <th>374659</th>\n",
              "      <td>201099</td>\n",
              "      <td>1003</td>\n",
              "      <td>0</td>\n",
              "      <td>201051</td>\n",
              "      <td>8.55001</td>\n",
              "      <td>0</td>\n",
              "      <td>5</td>\n",
              "      <td>1</td>\n",
              "      <td>0</td>\n",
              "      <td>0</td>\n",
              "      <td>1</td>\n",
              "      <td>3</td>\n",
              "      <td>96</td>\n",
              "      <td>0</td>\n",
              "      <td>65</td>\n",
              "      <td>158.27492</td>\n",
              "      <td>3</td>\n",
              "      <td>0.16047</td>\n",
              "      <td>0</td>\n",
              "    </tr>\n",
              "    <tr>\n",
              "      <th>374660</th>\n",
              "      <td>202041</td>\n",
              "      <td>1025</td>\n",
              "      <td>0</td>\n",
              "      <td>202100</td>\n",
              "      <td>0.00000</td>\n",
              "      <td>0</td>\n",
              "      <td>5</td>\n",
              "      <td>0</td>\n",
              "      <td>0</td>\n",
              "      <td>0</td>\n",
              "      <td>0</td>\n",
              "      <td>4</td>\n",
              "      <td>7</td>\n",
              "      <td>689</td>\n",
              "      <td>7</td>\n",
              "      <td>115.00407</td>\n",
              "      <td>0</td>\n",
              "      <td>1.01325</td>\n",
              "      <td>0</td>\n",
              "    </tr>\n",
              "  </tbody>\n",
              "</table>\n",
              "<p>374661 rows × 19 columns</p>\n",
              "</div>\n",
              "    <div class=\"colab-df-buttons\">\n",
              "\n",
              "  <div class=\"colab-df-container\">\n",
              "    <button class=\"colab-df-convert\" onclick=\"convertToInteractive('df-86b2e1e2-0daf-49bd-b39f-f4b850b24262')\"\n",
              "            title=\"Convert this dataframe to an interactive table.\"\n",
              "            style=\"display:none;\">\n",
              "\n",
              "  <svg xmlns=\"http://www.w3.org/2000/svg\" height=\"24px\" viewBox=\"0 -960 960 960\">\n",
              "    <path d=\"M120-120v-720h720v720H120Zm60-500h600v-160H180v160Zm220 220h160v-160H400v160Zm0 220h160v-160H400v160ZM180-400h160v-160H180v160Zm440 0h160v-160H620v160ZM180-180h160v-160H180v160Zm440 0h160v-160H620v160Z\"/>\n",
              "  </svg>\n",
              "    </button>\n",
              "\n",
              "  <style>\n",
              "    .colab-df-container {\n",
              "      display:flex;\n",
              "      gap: 12px;\n",
              "    }\n",
              "\n",
              "    .colab-df-convert {\n",
              "      background-color: #E8F0FE;\n",
              "      border: none;\n",
              "      border-radius: 50%;\n",
              "      cursor: pointer;\n",
              "      display: none;\n",
              "      fill: #1967D2;\n",
              "      height: 32px;\n",
              "      padding: 0 0 0 0;\n",
              "      width: 32px;\n",
              "    }\n",
              "\n",
              "    .colab-df-convert:hover {\n",
              "      background-color: #E2EBFA;\n",
              "      box-shadow: 0px 1px 2px rgba(60, 64, 67, 0.3), 0px 1px 3px 1px rgba(60, 64, 67, 0.15);\n",
              "      fill: #174EA6;\n",
              "    }\n",
              "\n",
              "    .colab-df-buttons div {\n",
              "      margin-bottom: 4px;\n",
              "    }\n",
              "\n",
              "    [theme=dark] .colab-df-convert {\n",
              "      background-color: #3B4455;\n",
              "      fill: #D2E3FC;\n",
              "    }\n",
              "\n",
              "    [theme=dark] .colab-df-convert:hover {\n",
              "      background-color: #434B5C;\n",
              "      box-shadow: 0px 1px 3px 1px rgba(0, 0, 0, 0.15);\n",
              "      filter: drop-shadow(0px 1px 2px rgba(0, 0, 0, 0.3));\n",
              "      fill: #FFFFFF;\n",
              "    }\n",
              "  </style>\n",
              "\n",
              "    <script>\n",
              "      const buttonEl =\n",
              "        document.querySelector('#df-86b2e1e2-0daf-49bd-b39f-f4b850b24262 button.colab-df-convert');\n",
              "      buttonEl.style.display =\n",
              "        google.colab.kernel.accessAllowed ? 'block' : 'none';\n",
              "\n",
              "      async function convertToInteractive(key) {\n",
              "        const element = document.querySelector('#df-86b2e1e2-0daf-49bd-b39f-f4b850b24262');\n",
              "        const dataTable =\n",
              "          await google.colab.kernel.invokeFunction('convertToInteractive',\n",
              "                                                    [key], {});\n",
              "        if (!dataTable) return;\n",
              "\n",
              "        const docLinkHtml = 'Like what you see? Visit the ' +\n",
              "          '<a target=\"_blank\" href=https://colab.research.google.com/notebooks/data_table.ipynb>data table notebook</a>'\n",
              "          + ' to learn more about interactive tables.';\n",
              "        element.innerHTML = '';\n",
              "        dataTable['output_type'] = 'display_data';\n",
              "        await google.colab.output.renderOutput(dataTable, element);\n",
              "        const docLink = document.createElement('div');\n",
              "        docLink.innerHTML = docLinkHtml;\n",
              "        element.appendChild(docLink);\n",
              "      }\n",
              "    </script>\n",
              "  </div>\n",
              "\n",
              "\n",
              "<div id=\"df-07b2b9e2-efe7-4916-be12-6c27e6a34c07\">\n",
              "  <button class=\"colab-df-quickchart\" onclick=\"quickchart('df-07b2b9e2-efe7-4916-be12-6c27e6a34c07')\"\n",
              "            title=\"Suggest charts\"\n",
              "            style=\"display:none;\">\n",
              "\n",
              "<svg xmlns=\"http://www.w3.org/2000/svg\" height=\"24px\"viewBox=\"0 0 24 24\"\n",
              "     width=\"24px\">\n",
              "    <g>\n",
              "        <path d=\"M19 3H5c-1.1 0-2 .9-2 2v14c0 1.1.9 2 2 2h14c1.1 0 2-.9 2-2V5c0-1.1-.9-2-2-2zM9 17H7v-7h2v7zm4 0h-2V7h2v10zm4 0h-2v-4h2v4z\"/>\n",
              "    </g>\n",
              "</svg>\n",
              "  </button>\n",
              "\n",
              "<style>\n",
              "  .colab-df-quickchart {\n",
              "      --bg-color: #E8F0FE;\n",
              "      --fill-color: #1967D2;\n",
              "      --hover-bg-color: #E2EBFA;\n",
              "      --hover-fill-color: #174EA6;\n",
              "      --disabled-fill-color: #AAA;\n",
              "      --disabled-bg-color: #DDD;\n",
              "  }\n",
              "\n",
              "  [theme=dark] .colab-df-quickchart {\n",
              "      --bg-color: #3B4455;\n",
              "      --fill-color: #D2E3FC;\n",
              "      --hover-bg-color: #434B5C;\n",
              "      --hover-fill-color: #FFFFFF;\n",
              "      --disabled-bg-color: #3B4455;\n",
              "      --disabled-fill-color: #666;\n",
              "  }\n",
              "\n",
              "  .colab-df-quickchart {\n",
              "    background-color: var(--bg-color);\n",
              "    border: none;\n",
              "    border-radius: 50%;\n",
              "    cursor: pointer;\n",
              "    display: none;\n",
              "    fill: var(--fill-color);\n",
              "    height: 32px;\n",
              "    padding: 0;\n",
              "    width: 32px;\n",
              "  }\n",
              "\n",
              "  .colab-df-quickchart:hover {\n",
              "    background-color: var(--hover-bg-color);\n",
              "    box-shadow: 0 1px 2px rgba(60, 64, 67, 0.3), 0 1px 3px 1px rgba(60, 64, 67, 0.15);\n",
              "    fill: var(--button-hover-fill-color);\n",
              "  }\n",
              "\n",
              "  .colab-df-quickchart-complete:disabled,\n",
              "  .colab-df-quickchart-complete:disabled:hover {\n",
              "    background-color: var(--disabled-bg-color);\n",
              "    fill: var(--disabled-fill-color);\n",
              "    box-shadow: none;\n",
              "  }\n",
              "\n",
              "  .colab-df-spinner {\n",
              "    border: 2px solid var(--fill-color);\n",
              "    border-color: transparent;\n",
              "    border-bottom-color: var(--fill-color);\n",
              "    animation:\n",
              "      spin 1s steps(1) infinite;\n",
              "  }\n",
              "\n",
              "  @keyframes spin {\n",
              "    0% {\n",
              "      border-color: transparent;\n",
              "      border-bottom-color: var(--fill-color);\n",
              "      border-left-color: var(--fill-color);\n",
              "    }\n",
              "    20% {\n",
              "      border-color: transparent;\n",
              "      border-left-color: var(--fill-color);\n",
              "      border-top-color: var(--fill-color);\n",
              "    }\n",
              "    30% {\n",
              "      border-color: transparent;\n",
              "      border-left-color: var(--fill-color);\n",
              "      border-top-color: var(--fill-color);\n",
              "      border-right-color: var(--fill-color);\n",
              "    }\n",
              "    40% {\n",
              "      border-color: transparent;\n",
              "      border-right-color: var(--fill-color);\n",
              "      border-top-color: var(--fill-color);\n",
              "    }\n",
              "    60% {\n",
              "      border-color: transparent;\n",
              "      border-right-color: var(--fill-color);\n",
              "    }\n",
              "    80% {\n",
              "      border-color: transparent;\n",
              "      border-right-color: var(--fill-color);\n",
              "      border-bottom-color: var(--fill-color);\n",
              "    }\n",
              "    90% {\n",
              "      border-color: transparent;\n",
              "      border-bottom-color: var(--fill-color);\n",
              "    }\n",
              "  }\n",
              "</style>\n",
              "\n",
              "  <script>\n",
              "    async function quickchart(key) {\n",
              "      const quickchartButtonEl =\n",
              "        document.querySelector('#' + key + ' button');\n",
              "      quickchartButtonEl.disabled = true;  // To prevent multiple clicks.\n",
              "      quickchartButtonEl.classList.add('colab-df-spinner');\n",
              "      try {\n",
              "        const charts = await google.colab.kernel.invokeFunction(\n",
              "            'suggestCharts', [key], {});\n",
              "      } catch (error) {\n",
              "        console.error('Error during call to suggestCharts:', error);\n",
              "      }\n",
              "      quickchartButtonEl.classList.remove('colab-df-spinner');\n",
              "      quickchartButtonEl.classList.add('colab-df-quickchart-complete');\n",
              "    }\n",
              "    (() => {\n",
              "      let quickchartButtonEl =\n",
              "        document.querySelector('#df-07b2b9e2-efe7-4916-be12-6c27e6a34c07 button');\n",
              "      quickchartButtonEl.style.display =\n",
              "        google.colab.kernel.accessAllowed ? 'block' : 'none';\n",
              "    })();\n",
              "  </script>\n",
              "</div>\n",
              "\n",
              "  <div id=\"id_fa8a8442-d031-47db-a91e-5cc48bfc0181\">\n",
              "    <style>\n",
              "      .colab-df-generate {\n",
              "        background-color: #E8F0FE;\n",
              "        border: none;\n",
              "        border-radius: 50%;\n",
              "        cursor: pointer;\n",
              "        display: none;\n",
              "        fill: #1967D2;\n",
              "        height: 32px;\n",
              "        padding: 0 0 0 0;\n",
              "        width: 32px;\n",
              "      }\n",
              "\n",
              "      .colab-df-generate:hover {\n",
              "        background-color: #E2EBFA;\n",
              "        box-shadow: 0px 1px 2px rgba(60, 64, 67, 0.3), 0px 1px 3px 1px rgba(60, 64, 67, 0.15);\n",
              "        fill: #174EA6;\n",
              "      }\n",
              "\n",
              "      [theme=dark] .colab-df-generate {\n",
              "        background-color: #3B4455;\n",
              "        fill: #D2E3FC;\n",
              "      }\n",
              "\n",
              "      [theme=dark] .colab-df-generate:hover {\n",
              "        background-color: #434B5C;\n",
              "        box-shadow: 0px 1px 3px 1px rgba(0, 0, 0, 0.15);\n",
              "        filter: drop-shadow(0px 1px 2px rgba(0, 0, 0, 0.3));\n",
              "        fill: #FFFFFF;\n",
              "      }\n",
              "    </style>\n",
              "    <button class=\"colab-df-generate\" onclick=\"generateWithVariable('dataset')\"\n",
              "            title=\"Generate code using this dataframe.\"\n",
              "            style=\"display:none;\">\n",
              "\n",
              "  <svg xmlns=\"http://www.w3.org/2000/svg\" height=\"24px\"viewBox=\"0 0 24 24\"\n",
              "       width=\"24px\">\n",
              "    <path d=\"M7,19H8.4L18.45,9,17,7.55,7,17.6ZM5,21V16.75L18.45,3.32a2,2,0,0,1,2.83,0l1.4,1.43a1.91,1.91,0,0,1,.58,1.4,1.91,1.91,0,0,1-.58,1.4L9.25,21ZM18.45,9,17,7.55Zm-12,3A5.31,5.31,0,0,0,4.9,8.1,5.31,5.31,0,0,0,1,6.5,5.31,5.31,0,0,0,4.9,4.9,5.31,5.31,0,0,0,6.5,1,5.31,5.31,0,0,0,8.1,4.9,5.31,5.31,0,0,0,12,6.5,5.46,5.46,0,0,0,6.5,12Z\"/>\n",
              "  </svg>\n",
              "    </button>\n",
              "    <script>\n",
              "      (() => {\n",
              "      const buttonEl =\n",
              "        document.querySelector('#id_fa8a8442-d031-47db-a91e-5cc48bfc0181 button.colab-df-generate');\n",
              "      buttonEl.style.display =\n",
              "        google.colab.kernel.accessAllowed ? 'block' : 'none';\n",
              "\n",
              "      buttonEl.onclick = () => {\n",
              "        google.colab.notebook.generateWithVariable('dataset');\n",
              "      }\n",
              "      })();\n",
              "    </script>\n",
              "  </div>\n",
              "\n",
              "    </div>\n",
              "  </div>\n"
            ],
            "application/vnd.google.colaboratory.intrinsic+json": {
              "type": "dataframe",
              "variable_name": "dataset"
            }
          },
          "metadata": {},
          "execution_count": 3
        }
      ]
    },
    {
      "cell_type": "markdown",
      "source": [
        "### **Data Preprocessing**"
      ],
      "metadata": {
        "id": "BPxDywqB03Gl"
      }
    },
    {
      "cell_type": "code",
      "source": [
        "# Encode non-numeric columns (if any)\n",
        "for column in dataset.columns:\n",
        "    if dataset[column].dtype == 'object':  # Identify categorical columns\n",
        "        dataset[column] = LabelEncoder().fit_transform(dataset[column])\n",
        "\n",
        "# Separate features (X) and target (y)\n",
        "X = dataset.drop(['Class'], axis=1)  # Assuming 'Class' is the target column\n",
        "y = dataset['Class']"
      ],
      "metadata": {
        "id": "E4YGBJ3j0u0B"
      },
      "execution_count": 4,
      "outputs": []
    },
    {
      "cell_type": "code",
      "source": [
        "print(\"Original Class Distribution:\", np.bincount(y))"
      ],
      "metadata": {
        "id": "-0ehkoUn5uyO",
        "outputId": "6dd3301a-8fbf-452a-9506-7434f0c5d23b",
        "colab": {
          "base_uri": "https://localhost:8080/"
        }
      },
      "execution_count": 5,
      "outputs": [
        {
          "output_type": "stream",
          "name": "stdout",
          "text": [
            "Original Class Distribution: [340066  14596  10049   6638   3312]\n"
          ]
        }
      ]
    },
    {
      "cell_type": "code",
      "source": [
        "# Standardize the features\n",
        "scaler = StandardScaler()\n",
        "X = scaler.fit_transform(X)"
      ],
      "metadata": {
        "id": "7pwiLsc80wit"
      },
      "execution_count": 6,
      "outputs": []
    },
    {
      "cell_type": "code",
      "source": [
        "!pip install -U imbalanced-learn"
      ],
      "metadata": {
        "id": "JXbRD2dOH7Yz",
        "outputId": "be9e84aa-fc3f-498f-e6c0-b403e9daee79",
        "colab": {
          "base_uri": "https://localhost:8080/"
        }
      },
      "execution_count": 7,
      "outputs": [
        {
          "output_type": "stream",
          "name": "stdout",
          "text": [
            "Collecting imbalanced-learn\n",
            "  Downloading imbalanced_learn-0.12.4-py3-none-any.whl.metadata (8.3 kB)\n",
            "Requirement already satisfied: numpy>=1.17.3 in /usr/local/lib/python3.10/dist-packages (from imbalanced-learn) (1.26.4)\n",
            "Requirement already satisfied: scipy>=1.5.0 in /usr/local/lib/python3.10/dist-packages (from imbalanced-learn) (1.13.1)\n",
            "Requirement already satisfied: scikit-learn>=1.0.2 in /usr/local/lib/python3.10/dist-packages (from imbalanced-learn) (1.5.2)\n",
            "Requirement already satisfied: joblib>=1.1.1 in /usr/local/lib/python3.10/dist-packages (from imbalanced-learn) (1.4.2)\n",
            "Requirement already satisfied: threadpoolctl>=2.0.0 in /usr/local/lib/python3.10/dist-packages (from imbalanced-learn) (3.5.0)\n",
            "Downloading imbalanced_learn-0.12.4-py3-none-any.whl (258 kB)\n",
            "\u001b[?25l   \u001b[90m━━━━━━━━━━━━━━━━━━━━━━━━━━━━━━━━━━━━━━━━\u001b[0m \u001b[32m0.0/258.3 kB\u001b[0m \u001b[31m?\u001b[0m eta \u001b[36m-:--:--\u001b[0m\r\u001b[2K   \u001b[91m━━━━━━━━━━━━━━━━━━━━━━━━━━━━━━\u001b[0m\u001b[90m╺\u001b[0m\u001b[90m━━━━━━━━━\u001b[0m \u001b[32m194.6/258.3 kB\u001b[0m \u001b[31m5.6 MB/s\u001b[0m eta \u001b[36m0:00:01\u001b[0m\r\u001b[2K   \u001b[90m━━━━━━━━━━━━━━━━━━━━━━━━━━━━━━━━━━━━━━━━\u001b[0m \u001b[32m258.3/258.3 kB\u001b[0m \u001b[31m4.5 MB/s\u001b[0m eta \u001b[36m0:00:00\u001b[0m\n",
            "\u001b[?25hInstalling collected packages: imbalanced-learn\n",
            "Successfully installed imbalanced-learn-0.12.4\n"
          ]
        }
      ]
    },
    {
      "cell_type": "code",
      "source": [
        "from imblearn.over_sampling import SMOTE\n",
        "\n",
        "# Apply SMOTE to balance the data\n",
        "#smote = SMOTE(random_state=42)\n",
        "#X_balanced, y_balanced = smote.fit_resample(X, y)\n",
        "\n",
        "# Balance dataset using SMOTE\n",
        "smote = SMOTE(random_state=42)\n",
        "X, y = smote.fit_resample(X, y)\n",
        "\n",
        "# Verify the balanced dataset distribution\n",
        "print(\"Balanced Class Distribution:\", np.bincount(y))"
      ],
      "metadata": {
        "id": "fl4nuJ6TRAVb",
        "outputId": "7f0ee330-fdb3-4a8d-bbf0-a5e97c22fad3",
        "colab": {
          "base_uri": "https://localhost:8080/"
        }
      },
      "execution_count": 8,
      "outputs": [
        {
          "output_type": "stream",
          "name": "stdout",
          "text": [
            "Balanced Class Distribution: [340066 340066 340066 340066 340066]\n"
          ]
        }
      ]
    },
    {
      "cell_type": "code",
      "source": [
        "# Train-test split\n",
        "X_train, X_test, y_train, y_test = train_test_split(X, y, test_size=0.2, random_state=42, stratify=y)"
      ],
      "metadata": {
        "id": "J_hiH1JR0xuT"
      },
      "execution_count": 9,
      "outputs": []
    },
    {
      "cell_type": "markdown",
      "source": [
        "### **Hybrid combination of LR-Bi-LSTM for 10 class classifications on UNSW-NB15**"
      ],
      "metadata": {
        "id": "lmcm5fIJ08G8"
      }
    },
    {
      "cell_type": "markdown",
      "source": [
        "LR model Standalone"
      ],
      "metadata": {
        "id": "jHYb1PmK6e75"
      }
    },
    {
      "cell_type": "code",
      "source": [
        "# Initialize and train the Logistic Regression model\n",
        "lr_model = LogisticRegression(multi_class='multinomial', solver='lbfgs', max_iter=500, random_state=42)\n",
        "lr_model.fit(X_train, y_train)\n",
        "\n",
        "# Make predictions\n",
        "y_pred = lr_model.predict(X_test)\n",
        "\n",
        "# Evaluate the model\n",
        "accuracy = accuracy_score(y_test, y_pred)\n",
        "print(\"Accuracy:\", accuracy)\n",
        "\n",
        "print(\"\\nClassification Report:\")\n",
        "print(classification_report(y_test, y_pred))\n",
        "\n",
        "#print(\"\\nConfusion Matrix:\")\n",
        "#print(confusion_matrix(y_test, y_pred))"
      ],
      "metadata": {
        "id": "BX1Mt_Im1GIG"
      },
      "execution_count": null,
      "outputs": []
    },
    {
      "cell_type": "markdown",
      "source": [
        "Hybrid model with using features results from LR model as Bi-LSTM input"
      ],
      "metadata": {
        "id": "mFK8S_cU6QPc"
      }
    },
    {
      "cell_type": "code",
      "source": [
        "from keras.utils import to_categorical\n",
        "\n",
        "# Initialize and train the Logistic Regression model\n",
        "lr_model = LogisticRegression(multi_class='multinomial', solver='lbfgs', max_iter=500, random_state=42)\n",
        "lr_model.fit(X_train, y_train)\n",
        "\n",
        "# Extract probabilities from LR model\n",
        "train_lr_features = lr_model.predict_proba(X_train)  # Features for Bi-LSTM from training data\n",
        "test_lr_features = lr_model.predict_proba(X_test)    # Features for Bi-LSTM from test data\n",
        "\n",
        "# Reshape LR features for Bi-LSTM input\n",
        "train_lr_features = np.expand_dims(train_lr_features, axis=1)\n",
        "test_lr_features = np.expand_dims(test_lr_features, axis=1)\n",
        "\n",
        "# Convert labels to one-hot encoding for Bi-LSTM\n",
        "y_train = to_categorical(y_train, num_classes=5)\n",
        "y_test = to_categorical(y_test, num_classes=5)"
      ],
      "metadata": {
        "colab": {
          "base_uri": "https://localhost:8080/"
        },
        "id": "q26NBkCIMRRW",
        "outputId": "477bd9e1-550f-4fc6-b4ef-89ad494c0542"
      },
      "execution_count": 10,
      "outputs": [
        {
          "output_type": "stream",
          "name": "stderr",
          "text": [
            "/usr/local/lib/python3.10/dist-packages/sklearn/linear_model/_logistic.py:1247: FutureWarning: 'multi_class' was deprecated in version 1.5 and will be removed in 1.7. From then on, it will always use 'multinomial'. Leave it to its default value to avoid this warning.\n",
            "  warnings.warn(\n"
          ]
        }
      ]
    },
    {
      "cell_type": "code",
      "source": [
        "## Build the Bi-LSTM model\n",
        "\n",
        "#bilstm_model = Sequential()\n",
        "#bilstm_model.add(Bidirectional(LSTM(64, return_sequences=True), input_shape=(1, train_lr_features.shape[2])))\n",
        "#bilstm_model.add(Dropout(0.5))\n",
        "#bilstm_model.add(Bidirectional(LSTM(32)))\n",
        "#bilstm_model.add(Dropout(0.5))\n",
        "#bilstm_model.add(Dense(10, activation='softmax'))  # 10 classes\n",
        "\n",
        "#bilstm_model.compile(loss='categorical_crossentropy', optimizer='adam', metrics=['accuracy'])\n",
        "\n",
        "from keras.regularizers import l2\n",
        "\n",
        "bilstm_model = Sequential()\n",
        "bilstm_model.add(Bidirectional(LSTM(64, return_sequences=True, kernel_regularizer=l2(0.0001)), input_shape=(1, train_lr_features.shape[2])))\n",
        "bilstm_model.add(Dropout(0.2))\n",
        "bilstm_model.add(Bidirectional(LSTM(32, kernel_regularizer=l2(0.0001))))\n",
        "bilstm_model.add(Dropout(0.2))\n",
        "#bilstm_model.add(Bidirectional(LSTM(16, kernel_regularizer=l2(0.002))))\n",
        "#bilstm_model.add(Dropout(0.2))\n",
        "bilstm_model.add(Dense(10, activation='softmax', kernel_regularizer=l2(0.0001)))\n",
        "\n",
        "bilstm_model.compile(loss='categorical_crossentropy', optimizer='adam', metrics=['accuracy'])\n",
        "\n",
        "# Train the Bi-LSTM model\n",
        "history = bilstm_model.fit(train_lr_features, y_train, validation_split=0.2, epochs=50, batch_size=64, verbose=1)\n",
        "\n",
        "# Evaluate the hybrid model on the test set\n",
        "test_predictions = bilstm_model.predict(test_lr_features)\n",
        "test_predictions_labels = np.argmax(test_predictions, axis=1)\n",
        "true_labels = np.argmax(y_test, axis=1)\n",
        "\n",
        "# Performance metrics\n",
        "accuracy = accuracy_score(true_labels, test_predictions_labels)\n",
        "print(\"\\nHybrid Model Accuracy:\", accuracy)\n",
        "print(\"\\nClassification Report:\")\n",
        "print(classification_report(true_labels, test_predictions_labels))\n",
        "print(\"\\nConfusion Matrix:\")\n",
        "print(confusion_matrix(true_labels, test_predictions_labels))"
      ],
      "metadata": {
        "colab": {
          "base_uri": "https://localhost:8080/"
        },
        "id": "_igNK4DhO9dK",
        "outputId": "b118f4e7-79d8-4ae1-a754-85011fc9e2ee",
        "collapsed": true
      },
      "execution_count": null,
      "outputs": [
        {
          "metadata": {
            "tags": null
          },
          "name": "stderr",
          "output_type": "stream",
          "text": [
            "/usr/local/lib/python3.10/dist-packages/keras/src/layers/rnn/bidirectional.py:107: UserWarning: Do not pass an `input_shape`/`input_dim` argument to a layer. When using Sequential models, prefer using an `Input(shape)` object as the first layer in the model instead.\n",
            "  super().__init__(**kwargs)\n"
          ]
        },
        {
          "output_type": "stream",
          "name": "stdout",
          "text": [
            "Epoch 1/20\n",
            "\u001b[1m40928/40928\u001b[0m \u001b[32m━━━━━━━━━━━━━━━━━━━━\u001b[0m\u001b[37m\u001b[0m \u001b[1m361s\u001b[0m 8ms/step - accuracy: 0.9981 - loss: 0.0638 - val_accuracy: 0.9999 - val_loss: 0.0141\n",
            "Epoch 2/20\n",
            "\u001b[1m40928/40928\u001b[0m \u001b[32m━━━━━━━━━━━━━━━━━━━━\u001b[0m\u001b[37m\u001b[0m \u001b[1m379s\u001b[0m 8ms/step - accuracy: 0.9999 - loss: 0.0145 - val_accuracy: 0.9999 - val_loss: 0.0140\n",
            "Epoch 3/20\n",
            "\u001b[1m40928/40928\u001b[0m \u001b[32m━━━━━━━━━━━━━━━━━━━━\u001b[0m\u001b[37m\u001b[0m \u001b[1m346s\u001b[0m 8ms/step - accuracy: 0.9999 - loss: 0.0143 - val_accuracy: 0.9999 - val_loss: 0.0142\n",
            "Epoch 4/20\n",
            "\u001b[1m40928/40928\u001b[0m \u001b[32m━━━━━━━━━━━━━━━━━━━━\u001b[0m\u001b[37m\u001b[0m \u001b[1m374s\u001b[0m 8ms/step - accuracy: 0.9999 - loss: 0.0144 - val_accuracy: 0.9998 - val_loss: 0.0142\n",
            "Epoch 5/20\n",
            "\u001b[1m40928/40928\u001b[0m \u001b[32m━━━━━━━━━━━━━━━━━━━━\u001b[0m\u001b[37m\u001b[0m \u001b[1m387s\u001b[0m 8ms/step - accuracy: 0.9999 - loss: 0.0144 - val_accuracy: 0.9999 - val_loss: 0.0141\n",
            "Epoch 6/20\n",
            "\u001b[1m40928/40928\u001b[0m \u001b[32m━━━━━━━━━━━━━━━━━━━━\u001b[0m\u001b[37m\u001b[0m \u001b[1m383s\u001b[0m 8ms/step - accuracy: 0.9999 - loss: 0.0143 - val_accuracy: 0.9999 - val_loss: 0.0148\n",
            "Epoch 7/20\n",
            "\u001b[1m40928/40928\u001b[0m \u001b[32m━━━━━━━━━━━━━━━━━━━━\u001b[0m\u001b[37m\u001b[0m \u001b[1m399s\u001b[0m 9ms/step - accuracy: 0.9999 - loss: 0.0143 - val_accuracy: 0.9999 - val_loss: 0.0141\n",
            "Epoch 8/20\n",
            "\u001b[1m40928/40928\u001b[0m \u001b[32m━━━━━━━━━━━━━━━━━━━━\u001b[0m\u001b[37m\u001b[0m \u001b[1m380s\u001b[0m 9ms/step - accuracy: 0.9999 - loss: 0.0143 - val_accuracy: 0.9999 - val_loss: 0.0140\n",
            "Epoch 9/20\n",
            "\u001b[1m40928/40928\u001b[0m \u001b[32m━━━━━━━━━━━━━━━━━━━━\u001b[0m\u001b[37m\u001b[0m \u001b[1m413s\u001b[0m 10ms/step - accuracy: 0.9999 - loss: 0.0142 - val_accuracy: 0.9999 - val_loss: 0.0140\n",
            "Epoch 10/20\n",
            "\u001b[1m40928/40928\u001b[0m \u001b[32m━━━━━━━━━━━━━━━━━━━━\u001b[0m\u001b[37m\u001b[0m \u001b[1m379s\u001b[0m 9ms/step - accuracy: 0.9999 - loss: 0.0142 - val_accuracy: 0.9999 - val_loss: 0.0140\n",
            "Epoch 11/20\n",
            "\u001b[1m40928/40928\u001b[0m \u001b[32m━━━━━━━━━━━━━━━━━━━━\u001b[0m\u001b[37m\u001b[0m \u001b[1m377s\u001b[0m 9ms/step - accuracy: 0.9999 - loss: 0.0143 - val_accuracy: 0.9999 - val_loss: 0.0142\n",
            "Epoch 12/20\n",
            "\u001b[1m40928/40928\u001b[0m \u001b[32m━━━━━━━━━━━━━━━━━━━━\u001b[0m\u001b[37m\u001b[0m \u001b[1m374s\u001b[0m 9ms/step - accuracy: 0.9999 - loss: 0.0142 - val_accuracy: 0.9999 - val_loss: 0.0140\n",
            "Epoch 13/20\n",
            "\u001b[1m40928/40928\u001b[0m \u001b[32m━━━━━━━━━━━━━━━━━━━━\u001b[0m\u001b[37m\u001b[0m \u001b[1m361s\u001b[0m 9ms/step - accuracy: 0.9999 - loss: 0.0144 - val_accuracy: 0.9999 - val_loss: 0.0140\n",
            "Epoch 14/20\n",
            "\u001b[1m40928/40928\u001b[0m \u001b[32m━━━━━━━━━━━━━━━━━━━━\u001b[0m\u001b[37m\u001b[0m \u001b[1m362s\u001b[0m 9ms/step - accuracy: 0.9999 - loss: 0.0142 - val_accuracy: 0.9999 - val_loss: 0.0140\n",
            "Epoch 15/20\n",
            "\u001b[1m40928/40928\u001b[0m \u001b[32m━━━━━━━━━━━━━━━━━━━━\u001b[0m\u001b[37m\u001b[0m \u001b[1m390s\u001b[0m 9ms/step - accuracy: 0.9999 - loss: 0.0144 - val_accuracy: 0.9999 - val_loss: 0.0140\n",
            "Epoch 16/20\n",
            "\u001b[1m40928/40928\u001b[0m \u001b[32m━━━━━━━━━━━━━━━━━━━━\u001b[0m\u001b[37m\u001b[0m \u001b[1m342s\u001b[0m 8ms/step - accuracy: 0.9999 - loss: 0.0143 - val_accuracy: 0.9999 - val_loss: 0.0142\n",
            "Epoch 17/20\n",
            "\u001b[1m40928/40928\u001b[0m \u001b[32m━━━━━━━━━━━━━━━━━━━━\u001b[0m\u001b[37m\u001b[0m \u001b[1m383s\u001b[0m 8ms/step - accuracy: 0.9999 - loss: 0.0143 - val_accuracy: 0.9999 - val_loss: 0.0140\n",
            "Epoch 18/20\n",
            "\u001b[1m40928/40928\u001b[0m \u001b[32m━━━━━━━━━━━━━━━━━━━━\u001b[0m\u001b[37m\u001b[0m \u001b[1m380s\u001b[0m 8ms/step - accuracy: 0.9999 - loss: 0.0144 - val_accuracy: 0.9999 - val_loss: 0.0140\n",
            "Epoch 19/20\n",
            "\u001b[1m40928/40928\u001b[0m \u001b[32m━━━━━━━━━━━━━━━━━━━━\u001b[0m\u001b[37m\u001b[0m \u001b[1m350s\u001b[0m 9ms/step - accuracy: 0.9999 - loss: 0.0143 - val_accuracy: 0.9999 - val_loss: 0.0140\n",
            "Epoch 20/20\n",
            "\u001b[1m40928/40928\u001b[0m \u001b[32m━━━━━━━━━━━━━━━━━━━━\u001b[0m\u001b[37m\u001b[0m \u001b[1m379s\u001b[0m 8ms/step - accuracy: 0.9999 - loss: 0.0143 - val_accuracy: 0.9999 - val_loss: 0.0140\n",
            "\u001b[1m25580/25580\u001b[0m \u001b[32m━━━━━━━━━━━━━━━━━━━━\u001b[0m\u001b[37m\u001b[0m \u001b[1m73s\u001b[0m 3ms/step\n",
            "\n",
            "Hybrid Model Accuracy: 0.9998924940047083\n",
            "\n",
            "Classification Report:\n",
            "              precision    recall  f1-score   support\n",
            "\n",
            "           0       1.00      1.00      1.00     90951\n",
            "           1       1.00      1.00      1.00     90951\n",
            "           2       1.00      1.00      1.00     90951\n",
            "           3       1.00      1.00      1.00     90951\n",
            "           4       1.00      1.00      1.00     90951\n",
            "           5       1.00      1.00      1.00     90951\n",
            "           6       1.00      1.00      1.00     90951\n",
            "           7       1.00      1.00      1.00     90951\n",
            "           8       1.00      1.00      1.00     90951\n",
            "\n",
            "    accuracy                           1.00    818559\n",
            "   macro avg       1.00      1.00      1.00    818559\n",
            "weighted avg       1.00      1.00      1.00    818559\n",
            "\n",
            "\n",
            "Confusion Matrix:\n",
            "[[90951     0     0     0     0     0     0     0     0]\n",
            " [    0 90951     0     0     0     0     0     0     0]\n",
            " [    0     1 90945     5     0     0     0     0     0]\n",
            " [    0     0    35 90916     0     0     0     0     0]\n",
            " [    0     0     0     1 90936    14     0     0     0]\n",
            " [    0     0     0     2     1 90941     7     0     0]\n",
            " [    0     0     0     0     0     0 90951     0     0]\n",
            " [    0     0     0     0     0     0    22 90929     0]\n",
            " [    0     0     0     0     0     0     0     0 90951]]\n"
          ]
        }
      ]
    },
    {
      "cell_type": "code",
      "source": [
        "# Plot training and validation loss\n",
        "import matplotlib.pyplot as plt\n",
        "plt.plot(history.history['loss'], label='Training Loss')\n",
        "plt.plot(history.history['val_loss'], label='Validation Loss')\n",
        "plt.xlabel('Epoch')\n",
        "plt.ylabel('Loss')\n",
        "plt.legend()\n",
        "plt.show()"
      ],
      "metadata": {
        "colab": {
          "base_uri": "https://localhost:8080/",
          "height": 449
        },
        "id": "L4sajd9fO9Zu",
        "outputId": "f6c6eae2-6af3-46d1-cdac-443631e24bd1",
        "collapsed": true
      },
      "execution_count": null,
      "outputs": [
        {
          "output_type": "display_data",
          "data": {
            "text/plain": [
              "<Figure size 640x480 with 1 Axes>"
            ],
            "image/png": "[encoded data removed]"
          },
          "metadata": {}
        }
      ]
    },
    {
      "cell_type": "code",
      "source": [
        "from sklearn.metrics import accuracy_score, precision_score, recall_score, f1_score, classification_report, confusion_matrix\n",
        "# Performance metrics\n",
        "accuracy = accuracy_score(true_labels, test_predictions_labels)\n",
        "precision = precision_score(true_labels, test_predictions_labels, average='macro')\n",
        "recall = recall_score(true_labels, test_predictions_labels, average='macro')\n",
        "f1 = f1_score(true_labels, test_predictions_labels, average='macro')\n",
        "\n",
        "print(\"\\nHybrid Model Accuracy:\", accuracy)\n",
        "print(\"\\nPrecision:\", precision)\n",
        "print(\"\\nRecall:\", recall)\n",
        "print(\"\\nF1-Score:\", f1)"
      ],
      "metadata": {
        "colab": {
          "base_uri": "https://localhost:8080/"
        },
        "id": "HWKDYjkFc-DY",
        "outputId": "1579ca16-3a14-43bf-a688-0cad4980bfd1",
        "collapsed": true
      },
      "execution_count": null,
      "outputs": [
        {
          "output_type": "stream",
          "name": "stdout",
          "text": [
            "\n",
            "Hybrid Model Accuracy: 0.9998924940047083\n",
            "\n",
            "Precision: 0.9998925166019903\n",
            "\n",
            "Recall: 0.9998924940047083\n",
            "\n",
            "F1-Score: 0.999892494869149\n"
          ]
        }
      ]
    },
    {
      "cell_type": "code",
      "source": [
        "# Classification report\n",
        "print(\"\\nClassification Report:\")\n",
        "print(classification_report(true_labels, test_predictions_labels))"
      ],
      "metadata": {
        "colab": {
          "base_uri": "https://localhost:8080/"
        },
        "id": "ZDsDpwi6dDRx",
        "outputId": "e3d5dbb6-28ec-4295-a509-f57b1687df4c",
        "collapsed": true
      },
      "execution_count": null,
      "outputs": [
        {
          "output_type": "stream",
          "name": "stdout",
          "text": [
            "\n",
            "Classification Report:\n",
            "              precision    recall  f1-score   support\n",
            "\n",
            "           0       1.00      1.00      1.00     90951\n",
            "           1       1.00      1.00      1.00     90951\n",
            "           2       1.00      1.00      1.00     90951\n",
            "           3       1.00      1.00      1.00     90951\n",
            "           4       1.00      1.00      1.00     90951\n",
            "           5       1.00      1.00      1.00     90951\n",
            "           6       1.00      1.00      1.00     90951\n",
            "           7       1.00      1.00      1.00     90951\n",
            "           8       1.00      1.00      1.00     90951\n",
            "\n",
            "    accuracy                           1.00    818559\n",
            "   macro avg       1.00      1.00      1.00    818559\n",
            "weighted avg       1.00      1.00      1.00    818559\n",
            "\n"
          ]
        }
      ]
    },
    {
      "cell_type": "code",
      "source": [
        "# Detection Rate (Recall for each class)\n",
        "detection_rate = recall_score(true_labels, test_predictions_labels, average=None)\n",
        "for i in range(len(detection_rate)):\n",
        "    print(f\"Detection Rate for Class {i}: {detection_rate[i]:.10f}\")"
      ],
      "metadata": {
        "colab": {
          "base_uri": "https://localhost:8080/"
        },
        "id": "je0MbEanO9Jw",
        "outputId": "cdb2890e-dfaa-45f9-92c8-20d822c1396e",
        "collapsed": true
      },
      "execution_count": null,
      "outputs": [
        {
          "output_type": "stream",
          "name": "stdout",
          "text": [
            "Detection Rate for Class 0: 1.0000000000\n",
            "Detection Rate for Class 1: 1.0000000000\n",
            "Detection Rate for Class 2: 0.9999340304\n",
            "Detection Rate for Class 3: 0.9996151774\n",
            "Detection Rate for Class 4: 0.9998350760\n",
            "Detection Rate for Class 5: 0.9998900507\n",
            "Detection Rate for Class 6: 1.0000000000\n",
            "Detection Rate for Class 7: 0.9997581115\n",
            "Detection Rate for Class 8: 1.0000000000\n"
          ]
        }
      ]
    },
    {
      "cell_type": "markdown",
      "source": [
        "**With FGSM adversarial training**"
      ],
      "metadata": {
        "id": "-EFNx5pzzdnz"
      }
    },
    {
      "cell_type": "code",
      "source": [
        "import tensorflow as tf\n",
        "from keras.regularizers import l2\n",
        "\n",
        "#Build the Bi-LSTM model\n",
        "bilstm_model = Sequential()\n",
        "bilstm_model.add(Bidirectional(LSTM(64, return_sequences=True, kernel_regularizer=l2(0.0001)), input_shape=(1, train_lr_features.shape[2])))\n",
        "bilstm_model.add(Dropout(0.2))\n",
        "bilstm_model.add(Bidirectional(LSTM(32, kernel_regularizer=l2(0.0001))))\n",
        "bilstm_model.add(Dropout(0.2))\n",
        "#bilstm_model.add(Bidirectional(LSTM(16, kernel_regularizer=l2(0.002))))\n",
        "#bilstm_model.add(Dropout(0.2))\n",
        "bilstm_model.add(Dense(5, activation='softmax', kernel_regularizer=l2(0.0001)))\n",
        "\n",
        "bilstm_model.compile(loss='categorical_crossentropy', optimizer='adam', metrics=['accuracy'])\n",
        "\n",
        "# FGSM: Function to generate adversarial examples\n",
        "def generate_adversarial_examples(model, data, labels, epsilon=0.1):\n",
        "    data_tensor = tf.convert_to_tensor(data, dtype=tf.float32)\n",
        "    labels_tensor = tf.convert_to_tensor(labels, dtype=tf.float32)\n",
        "\n",
        "    with tf.GradientTape() as tape:\n",
        "        tape.watch(data_tensor)\n",
        "        predictions = model(data_tensor)\n",
        "        loss = tf.keras.losses.categorical_crossentropy(labels_tensor, predictions)\n",
        "\n",
        "    gradients = tape.gradient(loss, data_tensor)\n",
        "    perturbations = epsilon * tf.sign(gradients)\n",
        "    adversarial_data = data_tensor + perturbations\n",
        "\n",
        "    return adversarial_data.numpy()\n",
        "\n",
        "# Generate adversarial examples for training\n",
        "adversarial_train_features = generate_adversarial_examples(bilstm_model, train_lr_features, y_train)\n",
        "\n",
        "# Combine original and adversarial examples\n",
        "combined_train_features = np.concatenate((train_lr_features, adversarial_train_features), axis=0)\n",
        "combined_train_labels = np.concatenate((y_train, y_train), axis=0)\n",
        "\n",
        "# Train the Bi-LSTM model\n",
        "history = bilstm_model.fit(\n",
        "    combined_train_features, combined_train_labels,\n",
        "    validation_split=0.2,\n",
        "    epochs=50,\n",
        "    batch_size=64,\n",
        "    verbose=1\n",
        ")\n",
        "\n",
        "# Evaluate the model\n",
        "test_predictions = bilstm_model.predict(test_lr_features)\n",
        "test_predictions_labels = np.argmax(test_predictions, axis=1)\n",
        "true_labels = np.argmax(y_test, axis=1)\n",
        "\n",
        "# Metrics and results\n",
        "accuracy = accuracy_score(true_labels, test_predictions_labels)\n",
        "print(\"\\nHybrid Model Accuracy with FGSM:\", accuracy)\n",
        "print(\"\\nClassification Report:\")\n",
        "print(classification_report(true_labels, test_predictions_labels))\n",
        "print(\"\\nConfusion Matrix:\")\n",
        "print(confusion_matrix(true_labels, test_predictions_labels))"
      ],
      "metadata": {
        "colab": {
          "base_uri": "https://localhost:8080/"
        },
        "id": "Aj6STrXezdOO",
        "outputId": "d3268277-3e0c-478d-bebd-d970cabc4e5e"
      },
      "execution_count": 11,
      "outputs": [
        {
          "output_type": "stream",
          "name": "stdout",
          "text": [
            "Epoch 1/50\n",
            "34007/34007 [==============================] - 167s 5ms/step - loss: 0.1636 - accuracy: 0.9320 - val_loss: 0.0210 - val_accuracy: 0.9977\n",
            "Epoch 2/50\n",
            "34007/34007 [==============================] - 165s 5ms/step - loss: 0.1497 - accuracy: 0.9331 - val_loss: 0.0198 - val_accuracy: 0.9977\n",
            "Epoch 3/50\n",
            "34007/34007 [==============================] - 167s 5ms/step - loss: 0.1488 - accuracy: 0.9331 - val_loss: 0.0192 - val_accuracy: 0.9977\n",
            "Epoch 4/50\n",
            "34007/34007 [==============================] - 164s 5ms/step - loss: 0.1486 - accuracy: 0.9331 - val_loss: 0.0185 - val_accuracy: 0.9979\n",
            "Epoch 5/50\n",
            "34007/34007 [==============================] - 169s 5ms/step - loss: 0.1485 - accuracy: 0.9332 - val_loss: 0.0184 - val_accuracy: 0.9978\n",
            "Epoch 6/50\n",
            "34007/34007 [==============================] - 171s 5ms/step - loss: 0.1484 - accuracy: 0.9333 - val_loss: 0.0189 - val_accuracy: 0.9978\n",
            "Epoch 7/50\n",
            "34007/34007 [==============================] - 172s 5ms/step - loss: 0.1484 - accuracy: 0.9332 - val_loss: 0.0194 - val_accuracy: 0.9976\n",
            "Epoch 8/50\n",
            "34007/34007 [==============================] - 168s 5ms/step - loss: 0.1484 - accuracy: 0.9333 - val_loss: 0.0182 - val_accuracy: 0.9982\n",
            "Epoch 9/50\n",
            "34007/34007 [==============================] - 166s 5ms/step - loss: 0.1484 - accuracy: 0.9333 - val_loss: 0.0187 - val_accuracy: 0.9978\n",
            "Epoch 10/50\n",
            "34007/34007 [==============================] - 170s 5ms/step - loss: 0.1484 - accuracy: 0.9332 - val_loss: 0.0189 - val_accuracy: 0.9976\n",
            "Epoch 11/50\n",
            "34007/34007 [==============================] - 167s 5ms/step - loss: 0.1484 - accuracy: 0.9332 - val_loss: 0.0189 - val_accuracy: 0.9978\n",
            "Epoch 12/50\n",
            "34007/34007 [==============================] - 166s 5ms/step - loss: 0.1484 - accuracy: 0.9332 - val_loss: 0.0185 - val_accuracy: 0.9981\n",
            "Epoch 13/50\n",
            "34007/34007 [==============================] - 172s 5ms/step - loss: 0.1483 - accuracy: 0.9332 - val_loss: 0.0183 - val_accuracy: 0.9978\n",
            "Epoch 14/50\n",
            "34007/34007 [==============================] - 166s 5ms/step - loss: 0.1484 - accuracy: 0.9332 - val_loss: 0.0185 - val_accuracy: 0.9978\n",
            "Epoch 15/50\n",
            "34007/34007 [==============================] - 164s 5ms/step - loss: 0.1485 - accuracy: 0.9333 - val_loss: 0.0181 - val_accuracy: 0.9983\n",
            "Epoch 16/50\n",
            "34007/34007 [==============================] - 167s 5ms/step - loss: 0.1484 - accuracy: 0.9332 - val_loss: 0.0184 - val_accuracy: 0.9981\n",
            "Epoch 17/50\n",
            "34007/34007 [==============================] - 164s 5ms/step - loss: 0.1484 - accuracy: 0.9331 - val_loss: 0.0185 - val_accuracy: 0.9978\n",
            "Epoch 18/50\n",
            "34007/34007 [==============================] - 165s 5ms/step - loss: 0.1483 - accuracy: 0.9331 - val_loss: 0.0186 - val_accuracy: 0.9980\n",
            "Epoch 19/50\n",
            "34007/34007 [==============================] - 166s 5ms/step - loss: 0.1485 - accuracy: 0.9333 - val_loss: 0.0186 - val_accuracy: 0.9977\n",
            "Epoch 20/50\n",
            "34007/34007 [==============================] - 168s 5ms/step - loss: 0.1484 - accuracy: 0.9332 - val_loss: 0.0191 - val_accuracy: 0.9979\n",
            "Epoch 21/50\n",
            "34007/34007 [==============================] - 169s 5ms/step - loss: 0.1484 - accuracy: 0.9332 - val_loss: 0.0187 - val_accuracy: 0.9978\n",
            "Epoch 22/50\n",
            "34007/34007 [==============================] - 168s 5ms/step - loss: 0.1484 - accuracy: 0.9332 - val_loss: 0.0184 - val_accuracy: 0.9983\n",
            "Epoch 23/50\n",
            "34007/34007 [==============================] - 166s 5ms/step - loss: 0.1484 - accuracy: 0.9332 - val_loss: 0.0185 - val_accuracy: 0.9980\n",
            "Epoch 24/50\n",
            "34007/34007 [==============================] - 163s 5ms/step - loss: 0.1483 - accuracy: 0.9333 - val_loss: 0.0183 - val_accuracy: 0.9978\n",
            "Epoch 25/50\n",
            "34007/34007 [==============================] - 166s 5ms/step - loss: 0.1485 - accuracy: 0.9331 - val_loss: 0.0180 - val_accuracy: 0.9980\n",
            "Epoch 26/50\n",
            "34007/34007 [==============================] - 168s 5ms/step - loss: 0.1484 - accuracy: 0.9332 - val_loss: 0.0186 - val_accuracy: 0.9978\n",
            "Epoch 27/50\n",
            "34007/34007 [==============================] - 165s 5ms/step - loss: 0.1484 - accuracy: 0.9332 - val_loss: 0.0186 - val_accuracy: 0.9979\n",
            "Epoch 28/50\n",
            "34007/34007 [==============================] - 158s 5ms/step - loss: 0.1483 - accuracy: 0.9333 - val_loss: 0.0182 - val_accuracy: 0.9978\n",
            "Epoch 29/50\n",
            "34007/34007 [==============================] - 168s 5ms/step - loss: 0.1484 - accuracy: 0.9332 - val_loss: 0.0180 - val_accuracy: 0.9981\n",
            "Epoch 30/50\n",
            "34007/34007 [==============================] - 166s 5ms/step - loss: 0.1483 - accuracy: 0.9333 - val_loss: 0.0200 - val_accuracy: 0.9972\n",
            "Epoch 31/50\n",
            "34007/34007 [==============================] - 160s 5ms/step - loss: 0.1484 - accuracy: 0.9332 - val_loss: 0.0193 - val_accuracy: 0.9977\n",
            "Epoch 32/50\n",
            "34007/34007 [==============================] - 167s 5ms/step - loss: 0.1484 - accuracy: 0.9333 - val_loss: 0.0189 - val_accuracy: 0.9978\n",
            "Epoch 33/50\n",
            "34007/34007 [==============================] - 167s 5ms/step - loss: 0.1484 - accuracy: 0.9331 - val_loss: 0.0188 - val_accuracy: 0.9976\n",
            "Epoch 34/50\n",
            "34007/34007 [==============================] - 164s 5ms/step - loss: 0.1484 - accuracy: 0.9332 - val_loss: 0.0181 - val_accuracy: 0.9980\n",
            "Epoch 35/50\n",
            "34007/34007 [==============================] - 164s 5ms/step - loss: 0.1484 - accuracy: 0.9332 - val_loss: 0.0182 - val_accuracy: 0.9979\n",
            "Epoch 36/50\n",
            "34007/34007 [==============================] - 167s 5ms/step - loss: 0.1484 - accuracy: 0.9331 - val_loss: 0.0182 - val_accuracy: 0.9980\n",
            "Epoch 37/50\n",
            "34007/34007 [==============================] - 168s 5ms/step - loss: 0.1484 - accuracy: 0.9332 - val_loss: 0.0189 - val_accuracy: 0.9976\n",
            "Epoch 38/50\n",
            "34007/34007 [==============================] - 169s 5ms/step - loss: 0.1484 - accuracy: 0.9332 - val_loss: 0.0188 - val_accuracy: 0.9978\n",
            "Epoch 39/50\n",
            "34007/34007 [==============================] - 171s 5ms/step - loss: 0.1485 - accuracy: 0.9332 - val_loss: 0.0184 - val_accuracy: 0.9980\n",
            "Epoch 40/50\n",
            "34007/34007 [==============================] - 166s 5ms/step - loss: 0.1484 - accuracy: 0.9332 - val_loss: 0.0187 - val_accuracy: 0.9979\n",
            "Epoch 41/50\n",
            "34007/34007 [==============================] - 159s 5ms/step - loss: 0.1484 - accuracy: 0.9332 - val_loss: 0.0185 - val_accuracy: 0.9979\n",
            "Epoch 42/50\n",
            "34007/34007 [==============================] - 164s 5ms/step - loss: 0.1484 - accuracy: 0.9332 - val_loss: 0.0181 - val_accuracy: 0.9980\n",
            "Epoch 43/50\n",
            "34007/34007 [==============================] - 166s 5ms/step - loss: 0.1484 - accuracy: 0.9332 - val_loss: 0.0180 - val_accuracy: 0.9982\n",
            "Epoch 44/50\n",
            "34007/34007 [==============================] - 167s 5ms/step - loss: 0.1484 - accuracy: 0.9332 - val_loss: 0.0186 - val_accuracy: 0.9978\n",
            "Epoch 45/50\n",
            "34007/34007 [==============================] - 165s 5ms/step - loss: 0.1484 - accuracy: 0.9332 - val_loss: 0.0185 - val_accuracy: 0.9979\n",
            "Epoch 46/50\n",
            "34007/34007 [==============================] - 163s 5ms/step - loss: 0.1484 - accuracy: 0.9332 - val_loss: 0.0184 - val_accuracy: 0.9979\n",
            "Epoch 47/50\n",
            "34007/34007 [==============================] - 166s 5ms/step - loss: 0.1484 - accuracy: 0.9332 - val_loss: 0.0182 - val_accuracy: 0.9984\n",
            "Epoch 48/50\n",
            "34007/34007 [==============================] - 163s 5ms/step - loss: 0.1484 - accuracy: 0.9332 - val_loss: 0.0193 - val_accuracy: 0.9977\n",
            "Epoch 49/50\n",
            "34007/34007 [==============================] - 157s 5ms/step - loss: 0.1484 - accuracy: 0.9333 - val_loss: 0.0183 - val_accuracy: 0.9981\n",
            "Epoch 50/50\n",
            "34007/34007 [==============================] - 164s 5ms/step - loss: 0.1484 - accuracy: 0.9332 - val_loss: 0.0194 - val_accuracy: 0.9976\n",
            "10628/10628 [==============================] - 22s 2ms/step\n",
            "\n",
            "Hybrid Model Accuracy with FGSM: 0.8968082666305952\n",
            "\n",
            "Classification Report:\n",
            "              precision    recall  f1-score   support\n",
            "\n",
            "           0       0.94      0.98      0.96     68013\n",
            "           1       0.84      0.68      0.75     68013\n",
            "           2       0.74      0.89      0.81     68013\n",
            "           3       0.99      0.93      0.96     68014\n",
            "           4       1.00      1.00      1.00     68013\n",
            "\n",
            "    accuracy                           0.90    340066\n",
            "   macro avg       0.90      0.90      0.90    340066\n",
            "weighted avg       0.90      0.90      0.90    340066\n",
            "\n",
            "\n",
            "Confusion Matrix:\n",
            "[[66728   991     1   202    91]\n",
            " [  145 46221 21205   442     0]\n",
            " [    0  7332 60681     0     0]\n",
            " [ 4368   284     2 63360     0]\n",
            " [   29     0     0     0 67984]]\n"
          ]
        }
      ]
    },
    {
      "cell_type": "code",
      "source": [
        "# Plot training and validation loss\n",
        "import matplotlib.pyplot as plt\n",
        "plt.plot(history.history['loss'], label='Training Loss')\n",
        "plt.plot(history.history['val_loss'], label='Validation Loss')\n",
        "plt.xlabel('Epoch')\n",
        "plt.ylabel('Loss')\n",
        "plt.legend()\n",
        "plt.show()"
      ],
      "metadata": {
        "colab": {
          "base_uri": "https://localhost:8080/",
          "height": 449
        },
        "id": "fhP8eeBf5N8n",
        "outputId": "bc172a98-dec7-4b87-eb2b-7097fe67082c"
      },
      "execution_count": 12,
      "outputs": [
        {
          "output_type": "display_data",
          "data": {
            "text/plain": [
              "<Figure size 640x480 with 1 Axes>"
            ],
            "image/png": "[encoded data removed]"
          },
          "metadata": {}
        }
      ]
    },
    {
      "cell_type": "code",
      "source": [
        "import matplotlib.pyplot as plt\n",
        "import numpy as np\n",
        "\n",
        "# Example code assuming `history.history['loss']` and `history.history['val_loss']` are already populated\n",
        "plt.plot(history.history['loss'], label='Training Loss')\n",
        "plt.plot(history.history['val_loss'], label='Validation Loss')\n",
        "\n",
        "# Setting axis labels\n",
        "plt.xlabel('Epoch')\n",
        "plt.ylabel('Loss')\n",
        "\n",
        "# Adjusting y-axis ticks to increments of 0.1\n",
        "y_min = 0  # Set the minimum value of the y-axis as per your data\n",
        "y_max = max(max(history.history['loss']), max(history.history['val_loss']))  # Get the maximum loss value\n",
        "plt.yticks(np.arange(y_min, y_max + 0.1, 0.1))\n",
        "\n",
        "# Adding legend and showing the plot\n",
        "plt.legend()\n",
        "plt.show()"
      ],
      "metadata": {
        "id": "CRmanaXYLlYc",
        "outputId": "b4bff552-28d2-410c-d4f4-4ee7be773c29",
        "colab": {
          "base_uri": "https://localhost:8080/",
          "height": 455
        }
      },
      "execution_count": 13,
      "outputs": [
        {
          "output_type": "display_data",
          "data": {
            "text/plain": [
              "<Figure size 640x480 with 1 Axes>"
            ],
            "image/png": "[encoded data removed]"
          },
          "metadata": {}
        }
      ]
    },
    {
      "cell_type": "code",
      "source": [
        "from sklearn.metrics import accuracy_score, precision_score, recall_score, f1_score, classification_report, confusion_matrix\n",
        "# Performance metrics\n",
        "accuracy = accuracy_score(true_labels, test_predictions_labels)\n",
        "precision = precision_score(true_labels, test_predictions_labels, average='macro')\n",
        "recall = recall_score(true_labels, test_predictions_labels, average='macro')\n",
        "f1 = f1_score(true_labels, test_predictions_labels, average='macro')\n",
        "\n",
        "print(\"\\nHybrid Model Accuracy:\", accuracy)\n",
        "print(\"\\nPrecision:\", precision)\n",
        "print(\"\\nRecall:\", recall)\n",
        "print(\"\\nF1-Score:\", f1)"
      ],
      "metadata": {
        "colab": {
          "base_uri": "https://localhost:8080/"
        },
        "id": "dvb-7LkV5TKY",
        "outputId": "ea84556c-b797-41bf-9d19-c3e50f5dd4a6"
      },
      "execution_count": 14,
      "outputs": [
        {
          "output_type": "stream",
          "name": "stdout",
          "text": [
            "\n",
            "Hybrid Model Accuracy: 0.8968082666305952\n",
            "\n",
            "Precision: 0.901781066234973\n",
            "\n",
            "Recall: 0.8968081644011837\n",
            "\n",
            "F1-Score: 0.8958588693990077\n"
          ]
        }
      ]
    },
    {
      "cell_type": "code",
      "source": [
        "# Detection Rate (Recall for each class)\n",
        "detection_rate = recall_score(true_labels, test_predictions_labels, average=None)\n",
        "for i in range(len(detection_rate)):\n",
        "    print(f\"Detection Rate for Class {i}: {detection_rate[i]:.10f}\")"
      ],
      "metadata": {
        "colab": {
          "base_uri": "https://localhost:8080/"
        },
        "id": "uaGM0pjD6GVz",
        "outputId": "f5222663-bf60-4add-b874-14bb2f7a4de4"
      },
      "execution_count": 15,
      "outputs": [
        {
          "output_type": "stream",
          "name": "stdout",
          "text": [
            "Detection Rate for Class 0: 0.9811065532\n",
            "Detection Rate for Class 1: 0.6795906665\n",
            "Detection Rate for Class 2: 0.8921970800\n",
            "Detection Rate for Class 3: 0.9315729115\n",
            "Detection Rate for Class 4: 0.9995736109\n"
          ]
        }
      ]
    },
    {
      "cell_type": "code",
      "source": [
        "#Calculate ROC AUC and plot ROC curves\n",
        "from sklearn.metrics import roc_curve, roc_auc_score # Import roc_curve and roc_auc_score\n",
        "import matplotlib.pyplot as plt\n",
        "\n",
        "roc_aucs = []\n",
        "for i in range(5):  # Assuming 10 classes\n",
        "    fpr, tpr, _ = roc_curve(y_test[:, i], test_predictions[:, i])\n",
        "    roc_auc = roc_auc_score(y_test[:, i], test_predictions[:, i])\n",
        "    roc_aucs.append(roc_auc)\n",
        "    plt.plot(fpr, tpr, label=f'Class {i} (area = {roc_auc:.10f})')\n",
        "\n",
        "plt.plot([0, 1], [0, 1], 'k--')\n",
        "plt.xlim([0.0, 1.0])\n",
        "plt.ylim([0.0, 1.05])\n",
        "plt.xlabel('False Positive Rate')\n",
        "plt.ylabel('True Positive Rate')\n",
        "plt.title('Receiver Operating Characteristic (ROC) Curves')\n",
        "plt.legend(loc='lower right')\n",
        "plt.show()"
      ],
      "metadata": {
        "colab": {
          "base_uri": "https://localhost:8080/",
          "height": 472
        },
        "id": "ZzpHrJXYrCoV",
        "outputId": "3963bc8a-0ff3-4c3b-a607-5623b0a0ab52"
      },
      "execution_count": 17,
      "outputs": [
        {
          "output_type": "display_data",
          "data": {
            "text/plain": [
              "<Figure size 640x480 with 1 Axes>"
            ],
            "image/png": "[encoded data removed]"
          },
          "metadata": {}
        }
      ]
    },
    {
      "cell_type": "code",
      "source": [
        "# Print results\n",
        "#print(f\"\\nHybrid Model Accuracy with FGSM: {accuracy:.10f}\")\n",
        "#print(\"\\nClassification Report:\\n\", classification_rep)\n",
        "#print(\"\\nConfusion Matrix:\\n\", conf_matrix)\n",
        "\n",
        "# Print results\n",
        "print(f\"\\nHybrid Model Accuracy with FGSM: {accuracy:.10f}\")\n",
        "classification_rep = classification_report(true_labels, test_predictions_labels)  # Store the classification report\n",
        "print(\"\\nClassification Report:\\n\", classification_rep)\n",
        "# Assuming 'conf_matrix' will be calculated and assigned similarly:\n",
        "conf_matrix = confusion_matrix(true_labels, test_predictions_labels)  # Store the confusion matrix\n",
        "print(\"\\nConfusion Matrix:\\n\", conf_matrix)"
      ],
      "metadata": {
        "colab": {
          "base_uri": "https://localhost:8080/"
        },
        "id": "Gb2nORdOrO7w",
        "outputId": "ed978874-d23a-4ea4-ac09-1ccb5b6e5912"
      },
      "execution_count": 18,
      "outputs": [
        {
          "output_type": "stream",
          "name": "stdout",
          "text": [
            "\n",
            "Hybrid Model Accuracy with FGSM: 0.8968082666\n",
            "\n",
            "Classification Report:\n",
            "               precision    recall  f1-score   support\n",
            "\n",
            "           0       0.94      0.98      0.96     68013\n",
            "           1       0.84      0.68      0.75     68013\n",
            "           2       0.74      0.89      0.81     68013\n",
            "           3       0.99      0.93      0.96     68014\n",
            "           4       1.00      1.00      1.00     68013\n",
            "\n",
            "    accuracy                           0.90    340066\n",
            "   macro avg       0.90      0.90      0.90    340066\n",
            "weighted avg       0.90      0.90      0.90    340066\n",
            "\n",
            "\n",
            "Confusion Matrix:\n",
            " [[66728   991     1   202    91]\n",
            " [  145 46221 21205   442     0]\n",
            " [    0  7332 60681     0     0]\n",
            " [ 4368   284     2 63360     0]\n",
            " [   29     0     0     0 67984]]\n"
          ]
        }
      ]
    },
    {
      "cell_type": "code",
      "source": [
        "import seaborn as sns\n",
        "import matplotlib.pyplot as plt\n",
        "import numpy as np\n",
        "import itertools\n",
        "import seaborn as sns\n",
        "from sklearn import metrics\n",
        "import matplotlib.pyplot as plt\n",
        "from sklearn.metrics import confusion_matrix\n",
        "def conf_mat(d1,d2):\n",
        "  cm = confusion_matrix(d1, d2)\n",
        "  #plt.figure(figsize=(6,5.5))\n",
        "  plt.figure(figsize=(8,6.5))\n",
        "  #ax = sns.heatmap(cm,  fmt='2', annot=True, cmap='tab20c')\n",
        "  ax = sns.heatmap(cm, annot=True, fmt=\".0f\", cmap=\"bone\",\n",
        "                 vmin=0, vmax=5600, center=0, square=True, linewidths=1.5)\n",
        "  sns.set(font_scale=0.8)\n",
        "  ax.set_xlabel('\\nPredicted Values')\n",
        "  ax.set_ylabel('Actual Values\\n');\n",
        "  ax.xaxis.set_ticklabels(['Normal','Blackhole','Flooding','Grayhole','TDMA'])\n",
        "  ax.yaxis.set_ticklabels(['Normal','Blackhole','Flooding','Grayhole','TDMA'])\n",
        "  #plt.xticks(rotation=45)  # Add this line to rotate the x-axis labels by 45 degrees\n",
        "  #plt.yticks(rotation=45)  # Add this line to rotate the x-axis labels by 45 degrees\n",
        "  plt.tight_layout()\n",
        "  # plt.savefig(\"F1.eps\", format = 'eps')\n",
        "  plt.show()"
      ],
      "metadata": {
        "id": "Ko9r15y1-j5L"
      },
      "execution_count": 19,
      "outputs": []
    },
    {
      "cell_type": "code",
      "source": [
        "print(\"Confusion Matrix of Hybrid LR-BiLSTM Model\")\n",
        "conf_mat(true_labels, test_predictions_labels)"
      ],
      "metadata": {
        "colab": {
          "base_uri": "https://localhost:8080/",
          "height": 677
        },
        "id": "oDOg5yhm-oMM",
        "outputId": "393d0172-0800-46b1-9e1f-7ff00754f707"
      },
      "execution_count": 20,
      "outputs": [
        {
          "output_type": "stream",
          "name": "stdout",
          "text": [
            "Confusion Matrix of Hybrid LR-BiLSTM Model\n"
          ]
        },
        {
          "output_type": "display_data",
          "data": {
            "text/plain": [
              "<Figure size 800x650 with 2 Axes>"
            ],
            "image/png": "[encoded data removed]"
          },
          "metadata": {}
        }
      ]
    },
    {
      "cell_type": "code",
      "source": [
        "import matplotlib.pyplot as plt\n",
        "import numpy as np\n",
        "\n",
        "# Example code assuming `history.history['loss']` and `history.history['val_loss']` are already populated\n",
        "plt.plot(history.history['loss'], label='Training Loss')\n",
        "plt.plot(history.history['val_loss'], label='Validation Loss')\n",
        "\n",
        "# Setting axis labels\n",
        "plt.xlabel('Epoch')\n",
        "plt.ylabel('Loss')\n",
        "\n",
        "# Adjusting y-axis ticks to range from 0 to 1.0 in 0.1 increments\n",
        "plt.yticks(np.arange(0, 1.1, 0.1))  # np.arange creates tick values from 0 to 1.0 (inclusive of 1.0)\n",
        "plt.ylim(0, 1.0)  # Set y-axis limits to start at 0 and end at 1.0\n",
        "\n",
        "# Adding legend and showing the plot\n",
        "plt.legend()\n",
        "plt.show()"
      ],
      "metadata": {
        "id": "McexkSzSMwAE",
        "outputId": "4b85fb3e-8843-4366-9090-0074eba57b84",
        "colab": {
          "base_uri": "https://localhost:8080/",
          "height": 456
        }
      },
      "execution_count": 26,
      "outputs": [
        {
          "output_type": "display_data",
          "data": {
            "text/plain": [
              "<Figure size 640x480 with 1 Axes>"
            ],
            "image/png": "[encoded data removed]"
          },
          "metadata": {}
        }
      ]
    }
  ]
}