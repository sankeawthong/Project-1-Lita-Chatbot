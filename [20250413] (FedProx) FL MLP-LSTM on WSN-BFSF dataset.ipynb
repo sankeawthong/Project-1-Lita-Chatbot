{
  "nbformat": 4,
  "nbformat_minor": 0,
  "metadata": {
    "colab": {
      "provenance": [],
      "machine_shape": "hm",
      "authorship_tag": "ABX9TyOpdYGUPJsiiKwbuepFy3uD",
      "include_colab_link": true
    },
    "kernelspec": {
      "name": "python3",
      "display_name": "Python 3"
    },
    "language_info": {
      "name": "python"
    }
  },
  "cells": [
    {
      "cell_type": "markdown",
      "metadata": {
        "id": "view-in-github",
        "colab_type": "text"
      },
      "source": [
        "<a href=\"https://colab.research.google.com/github/sankeawthong/Project-1-Lita-Chatbot/blob/main/%5B20250413%5D%20(FedProx)%20FL%20MLP-LSTM%20on%20WSN-BFSF%20dataset.ipynb\" target=\"_parent\"><img src=\"https://colab.research.google.com/assets/colab-badge.svg\" alt=\"Open In Colab\"/></a>"
      ]
    },
    {
      "cell_type": "markdown",
      "source": [
        "**FedProx-FL // with clean MLP-LSTM model 4 classes on WSN-BFSF**"
      ],
      "metadata": {
        "id": "NdJw5-HPtPeU"
      }
    },
    {
      "cell_type": "code",
      "execution_count": null,
      "metadata": {
        "id": "Kys3NgWmCB12"
      },
      "outputs": [],
      "source": [
        "import pandas as pd\n",
        "import numpy as np\n",
        "from sklearn.linear_model import LogisticRegression\n",
        "from sklearn.model_selection import train_test_split\n",
        "from sklearn.metrics import accuracy_score, classification_report\n",
        "from sklearn.preprocessing import LabelEncoder, StandardScaler\n",
        "from keras.models import Sequential\n",
        "from keras.layers import Dense, LSTM, Bidirectional, Dropout, Flatten\n",
        "from sklearn.metrics import accuracy_score, classification_report, confusion_matrix\n",
        "from keras.utils import to_categorical"
      ]
    },
    {
      "cell_type": "code",
      "source": [
        "# Load dataset\n",
        "dataset = pd.read_csv(\"dataset.csv\") #WSN-BFSF 4 classes dataset\n",
        "\n",
        "# Preprocessing: Handle missing values (if any)\n",
        "dataset = dataset.dropna() # Remove missing values"
      ],
      "metadata": {
        "id": "W4xz10xkCHq8"
      },
      "execution_count": null,
      "outputs": []
    },
    {
      "cell_type": "code",
      "source": [
        "dataset"
      ],
      "metadata": {
        "colab": {
          "base_uri": "https://localhost:8080/",
          "height": 444
        },
        "id": "Ds2sKdTwCJgj",
        "outputId": "e0d295d3-31e7-46bf-c279-efcc6291d0fa"
      },
      "execution_count": null,
      "outputs": [
        {
          "output_type": "execute_result",
          "data": {
            "text/plain": [
              "        Event        Time  S_Node  Node_id  Rest_Energy  Trace_Level  \\\n",
              "0           1    0.100000      79       79   600.000000            5   \n",
              "1           2    0.100963      78       78   599.979723            5   \n",
              "2           2    0.100963      76       76   599.979722            5   \n",
              "3           2    0.100964      75       75   599.979722            5   \n",
              "4           2    0.100964     118      118   599.979722            5   \n",
              "...       ...         ...     ...      ...          ...          ...   \n",
              "312101      4  656.526536     140      140   465.332078            5   \n",
              "312102      4  657.209643     140      140   465.191806            5   \n",
              "312103      4  657.891729     140      140   465.051737            5   \n",
              "312104      4  658.574656     140      140   464.911501            5   \n",
              "312105      4  679.054956     140      140   460.705905            5   \n",
              "\n",
              "        Mac_Type_Pckt  Source_IP_Port  Des_IP_Port  Packet_Size  TTL  \\\n",
              "0                   0          79.255        1.255           48   30   \n",
              "1                 800          79.255        1.255           48   30   \n",
              "2                 800          79.255        1.255           48   30   \n",
              "3                 800          79.255        1.255           48   30   \n",
              "4                 800          79.255        1.255           48   30   \n",
              "...               ...             ...          ...          ...  ...   \n",
              "312101            800         140.255        1.255           48   30   \n",
              "312102            800         140.255        1.255           48   30   \n",
              "312103            800         140.255        1.255           48   30   \n",
              "312104            800         140.255        1.255           48   30   \n",
              "312105            800         140.255        1.255           48   30   \n",
              "\n",
              "        Hop_Count  Broadcast_ID  Dest_Node_Num  Dest_Seq_Num  Src_Node_ID  \\\n",
              "0               1             1            100             0           79   \n",
              "1               1             1            100             0           79   \n",
              "2               1             1            100             0           79   \n",
              "3               1             1            100             0           79   \n",
              "4               1             1            100             0           79   \n",
              "...           ...           ...            ...           ...          ...   \n",
              "312101          1            31            100            16          140   \n",
              "312102          1            33            100            16          140   \n",
              "312103          1            35            100            16          140   \n",
              "312104          1            37            100            16          140   \n",
              "312105          1            42            100            16          140   \n",
              "\n",
              "        Src_Seq_Num  Class  \n",
              "0                 4      0  \n",
              "1                 4      0  \n",
              "2                 4      0  \n",
              "3                 4      0  \n",
              "4                 4      0  \n",
              "...             ...    ...  \n",
              "312101           68      1  \n",
              "312102           72      1  \n",
              "312103           76      1  \n",
              "312104           80      1  \n",
              "312105           90      1  \n",
              "\n",
              "[312106 rows x 18 columns]"
            ],
            "text/html": [
              "\n",
              "  <div id=\"df-aa0dbd5f-6158-4c57-bfac-c8dfb5fedc9e\" class=\"colab-df-container\">\n",
              "    <div>\n",
              "<style scoped>\n",
              "    .dataframe tbody tr th:only-of-type {\n",
              "        vertical-align: middle;\n",
              "    }\n",
              "\n",
              "    .dataframe tbody tr th {\n",
              "        vertical-align: top;\n",
              "    }\n",
              "\n",
              "    .dataframe thead th {\n",
              "        text-align: right;\n",
              "    }\n",
              "</style>\n",
              "<table border=\"1\" class=\"dataframe\">\n",
              "  <thead>\n",
              "    <tr style=\"text-align: right;\">\n",
              "      <th></th>\n",
              "      <th>Event</th>\n",
              "      <th>Time</th>\n",
              "      <th>S_Node</th>\n",
              "      <th>Node_id</th>\n",
              "      <th>Rest_Energy</th>\n",
              "      <th>Trace_Level</th>\n",
              "      <th>Mac_Type_Pckt</th>\n",
              "      <th>Source_IP_Port</th>\n",
              "      <th>Des_IP_Port</th>\n",
              "      <th>Packet_Size</th>\n",
              "      <th>TTL</th>\n",
              "      <th>Hop_Count</th>\n",
              "      <th>Broadcast_ID</th>\n",
              "      <th>Dest_Node_Num</th>\n",
              "      <th>Dest_Seq_Num</th>\n",
              "      <th>Src_Node_ID</th>\n",
              "      <th>Src_Seq_Num</th>\n",
              "      <th>Class</th>\n",
              "    </tr>\n",
              "  </thead>\n",
              "  <tbody>\n",
              "    <tr>\n",
              "      <th>0</th>\n",
              "      <td>1</td>\n",
              "      <td>0.100000</td>\n",
              "      <td>79</td>\n",
              "      <td>79</td>\n",
              "      <td>600.000000</td>\n",
              "      <td>5</td>\n",
              "      <td>0</td>\n",
              "      <td>79.255</td>\n",
              "      <td>1.255</td>\n",
              "      <td>48</td>\n",
              "      <td>30</td>\n",
              "      <td>1</td>\n",
              "      <td>1</td>\n",
              "      <td>100</td>\n",
              "      <td>0</td>\n",
              "      <td>79</td>\n",
              "      <td>4</td>\n",
              "      <td>0</td>\n",
              "    </tr>\n",
              "    <tr>\n",
              "      <th>1</th>\n",
              "      <td>2</td>\n",
              "      <td>0.100963</td>\n",
              "      <td>78</td>\n",
              "      <td>78</td>\n",
              "      <td>599.979723</td>\n",
              "      <td>5</td>\n",
              "      <td>800</td>\n",
              "      <td>79.255</td>\n",
              "      <td>1.255</td>\n",
              "      <td>48</td>\n",
              "      <td>30</td>\n",
              "      <td>1</td>\n",
              "      <td>1</td>\n",
              "      <td>100</td>\n",
              "      <td>0</td>\n",
              "      <td>79</td>\n",
              "      <td>4</td>\n",
              "      <td>0</td>\n",
              "    </tr>\n",
              "    <tr>\n",
              "      <th>2</th>\n",
              "      <td>2</td>\n",
              "      <td>0.100963</td>\n",
              "      <td>76</td>\n",
              "      <td>76</td>\n",
              "      <td>599.979722</td>\n",
              "      <td>5</td>\n",
              "      <td>800</td>\n",
              "      <td>79.255</td>\n",
              "      <td>1.255</td>\n",
              "      <td>48</td>\n",
              "      <td>30</td>\n",
              "      <td>1</td>\n",
              "      <td>1</td>\n",
              "      <td>100</td>\n",
              "      <td>0</td>\n",
              "      <td>79</td>\n",
              "      <td>4</td>\n",
              "      <td>0</td>\n",
              "    </tr>\n",
              "    <tr>\n",
              "      <th>3</th>\n",
              "      <td>2</td>\n",
              "      <td>0.100964</td>\n",
              "      <td>75</td>\n",
              "      <td>75</td>\n",
              "      <td>599.979722</td>\n",
              "      <td>5</td>\n",
              "      <td>800</td>\n",
              "      <td>79.255</td>\n",
              "      <td>1.255</td>\n",
              "      <td>48</td>\n",
              "      <td>30</td>\n",
              "      <td>1</td>\n",
              "      <td>1</td>\n",
              "      <td>100</td>\n",
              "      <td>0</td>\n",
              "      <td>79</td>\n",
              "      <td>4</td>\n",
              "      <td>0</td>\n",
              "    </tr>\n",
              "    <tr>\n",
              "      <th>4</th>\n",
              "      <td>2</td>\n",
              "      <td>0.100964</td>\n",
              "      <td>118</td>\n",
              "      <td>118</td>\n",
              "      <td>599.979722</td>\n",
              "      <td>5</td>\n",
              "      <td>800</td>\n",
              "      <td>79.255</td>\n",
              "      <td>1.255</td>\n",
              "      <td>48</td>\n",
              "      <td>30</td>\n",
              "      <td>1</td>\n",
              "      <td>1</td>\n",
              "      <td>100</td>\n",
              "      <td>0</td>\n",
              "      <td>79</td>\n",
              "      <td>4</td>\n",
              "      <td>0</td>\n",
              "    </tr>\n",
              "    <tr>\n",
              "      <th>...</th>\n",
              "      <td>...</td>\n",
              "      <td>...</td>\n",
              "      <td>...</td>\n",
              "      <td>...</td>\n",
              "      <td>...</td>\n",
              "      <td>...</td>\n",
              "      <td>...</td>\n",
              "      <td>...</td>\n",
              "      <td>...</td>\n",
              "      <td>...</td>\n",
              "      <td>...</td>\n",
              "      <td>...</td>\n",
              "      <td>...</td>\n",
              "      <td>...</td>\n",
              "      <td>...</td>\n",
              "      <td>...</td>\n",
              "      <td>...</td>\n",
              "      <td>...</td>\n",
              "    </tr>\n",
              "    <tr>\n",
              "      <th>312101</th>\n",
              "      <td>4</td>\n",
              "      <td>656.526536</td>\n",
              "      <td>140</td>\n",
              "      <td>140</td>\n",
              "      <td>465.332078</td>\n",
              "      <td>5</td>\n",
              "      <td>800</td>\n",
              "      <td>140.255</td>\n",
              "      <td>1.255</td>\n",
              "      <td>48</td>\n",
              "      <td>30</td>\n",
              "      <td>1</td>\n",
              "      <td>31</td>\n",
              "      <td>100</td>\n",
              "      <td>16</td>\n",
              "      <td>140</td>\n",
              "      <td>68</td>\n",
              "      <td>1</td>\n",
              "    </tr>\n",
              "    <tr>\n",
              "      <th>312102</th>\n",
              "      <td>4</td>\n",
              "      <td>657.209643</td>\n",
              "      <td>140</td>\n",
              "      <td>140</td>\n",
              "      <td>465.191806</td>\n",
              "      <td>5</td>\n",
              "      <td>800</td>\n",
              "      <td>140.255</td>\n",
              "      <td>1.255</td>\n",
              "      <td>48</td>\n",
              "      <td>30</td>\n",
              "      <td>1</td>\n",
              "      <td>33</td>\n",
              "      <td>100</td>\n",
              "      <td>16</td>\n",
              "      <td>140</td>\n",
              "      <td>72</td>\n",
              "      <td>1</td>\n",
              "    </tr>\n",
              "    <tr>\n",
              "      <th>312103</th>\n",
              "      <td>4</td>\n",
              "      <td>657.891729</td>\n",
              "      <td>140</td>\n",
              "      <td>140</td>\n",
              "      <td>465.051737</td>\n",
              "      <td>5</td>\n",
              "      <td>800</td>\n",
              "      <td>140.255</td>\n",
              "      <td>1.255</td>\n",
              "      <td>48</td>\n",
              "      <td>30</td>\n",
              "      <td>1</td>\n",
              "      <td>35</td>\n",
              "      <td>100</td>\n",
              "      <td>16</td>\n",
              "      <td>140</td>\n",
              "      <td>76</td>\n",
              "      <td>1</td>\n",
              "    </tr>\n",
              "    <tr>\n",
              "      <th>312104</th>\n",
              "      <td>4</td>\n",
              "      <td>658.574656</td>\n",
              "      <td>140</td>\n",
              "      <td>140</td>\n",
              "      <td>464.911501</td>\n",
              "      <td>5</td>\n",
              "      <td>800</td>\n",
              "      <td>140.255</td>\n",
              "      <td>1.255</td>\n",
              "      <td>48</td>\n",
              "      <td>30</td>\n",
              "      <td>1</td>\n",
              "      <td>37</td>\n",
              "      <td>100</td>\n",
              "      <td>16</td>\n",
              "      <td>140</td>\n",
              "      <td>80</td>\n",
              "      <td>1</td>\n",
              "    </tr>\n",
              "    <tr>\n",
              "      <th>312105</th>\n",
              "      <td>4</td>\n",
              "      <td>679.054956</td>\n",
              "      <td>140</td>\n",
              "      <td>140</td>\n",
              "      <td>460.705905</td>\n",
              "      <td>5</td>\n",
              "      <td>800</td>\n",
              "      <td>140.255</td>\n",
              "      <td>1.255</td>\n",
              "      <td>48</td>\n",
              "      <td>30</td>\n",
              "      <td>1</td>\n",
              "      <td>42</td>\n",
              "      <td>100</td>\n",
              "      <td>16</td>\n",
              "      <td>140</td>\n",
              "      <td>90</td>\n",
              "      <td>1</td>\n",
              "    </tr>\n",
              "  </tbody>\n",
              "</table>\n",
              "<p>312106 rows × 18 columns</p>\n",
              "</div>\n",
              "    <div class=\"colab-df-buttons\">\n",
              "\n",
              "  <div class=\"colab-df-container\">\n",
              "    <button class=\"colab-df-convert\" onclick=\"convertToInteractive('df-aa0dbd5f-6158-4c57-bfac-c8dfb5fedc9e')\"\n",
              "            title=\"Convert this dataframe to an interactive table.\"\n",
              "            style=\"display:none;\">\n",
              "\n",
              "  <svg xmlns=\"http://www.w3.org/2000/svg\" height=\"24px\" viewBox=\"0 -960 960 960\">\n",
              "    <path d=\"M120-120v-720h720v720H120Zm60-500h600v-160H180v160Zm220 220h160v-160H400v160Zm0 220h160v-160H400v160ZM180-400h160v-160H180v160Zm440 0h160v-160H620v160ZM180-180h160v-160H180v160Zm440 0h160v-160H620v160Z\"/>\n",
              "  </svg>\n",
              "    </button>\n",
              "\n",
              "  <style>\n",
              "    .colab-df-container {\n",
              "      display:flex;\n",
              "      gap: 12px;\n",
              "    }\n",
              "\n",
              "    .colab-df-convert {\n",
              "      background-color: #E8F0FE;\n",
              "      border: none;\n",
              "      border-radius: 50%;\n",
              "      cursor: pointer;\n",
              "      display: none;\n",
              "      fill: #1967D2;\n",
              "      height: 32px;\n",
              "      padding: 0 0 0 0;\n",
              "      width: 32px;\n",
              "    }\n",
              "\n",
              "    .colab-df-convert:hover {\n",
              "      background-color: #E2EBFA;\n",
              "      box-shadow: 0px 1px 2px rgba(60, 64, 67, 0.3), 0px 1px 3px 1px rgba(60, 64, 67, 0.15);\n",
              "      fill: #174EA6;\n",
              "    }\n",
              "\n",
              "    .colab-df-buttons div {\n",
              "      margin-bottom: 4px;\n",
              "    }\n",
              "\n",
              "    [theme=dark] .colab-df-convert {\n",
              "      background-color: #3B4455;\n",
              "      fill: #D2E3FC;\n",
              "    }\n",
              "\n",
              "    [theme=dark] .colab-df-convert:hover {\n",
              "      background-color: #434B5C;\n",
              "      box-shadow: 0px 1px 3px 1px rgba(0, 0, 0, 0.15);\n",
              "      filter: drop-shadow(0px 1px 2px rgba(0, 0, 0, 0.3));\n",
              "      fill: #FFFFFF;\n",
              "    }\n",
              "  </style>\n",
              "\n",
              "    <script>\n",
              "      const buttonEl =\n",
              "        document.querySelector('#df-aa0dbd5f-6158-4c57-bfac-c8dfb5fedc9e button.colab-df-convert');\n",
              "      buttonEl.style.display =\n",
              "        google.colab.kernel.accessAllowed ? 'block' : 'none';\n",
              "\n",
              "      async function convertToInteractive(key) {\n",
              "        const element = document.querySelector('#df-aa0dbd5f-6158-4c57-bfac-c8dfb5fedc9e');\n",
              "        const dataTable =\n",
              "          await google.colab.kernel.invokeFunction('convertToInteractive',\n",
              "                                                    [key], {});\n",
              "        if (!dataTable) return;\n",
              "\n",
              "        const docLinkHtml = 'Like what you see? Visit the ' +\n",
              "          '<a target=\"_blank\" href=https://colab.research.google.com/notebooks/data_table.ipynb>data table notebook</a>'\n",
              "          + ' to learn more about interactive tables.';\n",
              "        element.innerHTML = '';\n",
              "        dataTable['output_type'] = 'display_data';\n",
              "        await google.colab.output.renderOutput(dataTable, element);\n",
              "        const docLink = document.createElement('div');\n",
              "        docLink.innerHTML = docLinkHtml;\n",
              "        element.appendChild(docLink);\n",
              "      }\n",
              "    </script>\n",
              "  </div>\n",
              "\n",
              "\n",
              "<div id=\"df-7ff9b630-0214-4a23-83f8-305b4bff7efb\">\n",
              "  <button class=\"colab-df-quickchart\" onclick=\"quickchart('df-7ff9b630-0214-4a23-83f8-305b4bff7efb')\"\n",
              "            title=\"Suggest charts\"\n",
              "            style=\"display:none;\">\n",
              "\n",
              "<svg xmlns=\"http://www.w3.org/2000/svg\" height=\"24px\"viewBox=\"0 0 24 24\"\n",
              "     width=\"24px\">\n",
              "    <g>\n",
              "        <path d=\"M19 3H5c-1.1 0-2 .9-2 2v14c0 1.1.9 2 2 2h14c1.1 0 2-.9 2-2V5c0-1.1-.9-2-2-2zM9 17H7v-7h2v7zm4 0h-2V7h2v10zm4 0h-2v-4h2v4z\"/>\n",
              "    </g>\n",
              "</svg>\n",
              "  </button>\n",
              "\n",
              "<style>\n",
              "  .colab-df-quickchart {\n",
              "      --bg-color: #E8F0FE;\n",
              "      --fill-color: #1967D2;\n",
              "      --hover-bg-color: #E2EBFA;\n",
              "      --hover-fill-color: #174EA6;\n",
              "      --disabled-fill-color: #AAA;\n",
              "      --disabled-bg-color: #DDD;\n",
              "  }\n",
              "\n",
              "  [theme=dark] .colab-df-quickchart {\n",
              "      --bg-color: #3B4455;\n",
              "      --fill-color: #D2E3FC;\n",
              "      --hover-bg-color: #434B5C;\n",
              "      --hover-fill-color: #FFFFFF;\n",
              "      --disabled-bg-color: #3B4455;\n",
              "      --disabled-fill-color: #666;\n",
              "  }\n",
              "\n",
              "  .colab-df-quickchart {\n",
              "    background-color: var(--bg-color);\n",
              "    border: none;\n",
              "    border-radius: 50%;\n",
              "    cursor: pointer;\n",
              "    display: none;\n",
              "    fill: var(--fill-color);\n",
              "    height: 32px;\n",
              "    padding: 0;\n",
              "    width: 32px;\n",
              "  }\n",
              "\n",
              "  .colab-df-quickchart:hover {\n",
              "    background-color: var(--hover-bg-color);\n",
              "    box-shadow: 0 1px 2px rgba(60, 64, 67, 0.3), 0 1px 3px 1px rgba(60, 64, 67, 0.15);\n",
              "    fill: var(--button-hover-fill-color);\n",
              "  }\n",
              "\n",
              "  .colab-df-quickchart-complete:disabled,\n",
              "  .colab-df-quickchart-complete:disabled:hover {\n",
              "    background-color: var(--disabled-bg-color);\n",
              "    fill: var(--disabled-fill-color);\n",
              "    box-shadow: none;\n",
              "  }\n",
              "\n",
              "  .colab-df-spinner {\n",
              "    border: 2px solid var(--fill-color);\n",
              "    border-color: transparent;\n",
              "    border-bottom-color: var(--fill-color);\n",
              "    animation:\n",
              "      spin 1s steps(1) infinite;\n",
              "  }\n",
              "\n",
              "  @keyframes spin {\n",
              "    0% {\n",
              "      border-color: transparent;\n",
              "      border-bottom-color: var(--fill-color);\n",
              "      border-left-color: var(--fill-color);\n",
              "    }\n",
              "    20% {\n",
              "      border-color: transparent;\n",
              "      border-left-color: var(--fill-color);\n",
              "      border-top-color: var(--fill-color);\n",
              "    }\n",
              "    30% {\n",
              "      border-color: transparent;\n",
              "      border-left-color: var(--fill-color);\n",
              "      border-top-color: var(--fill-color);\n",
              "      border-right-color: var(--fill-color);\n",
              "    }\n",
              "    40% {\n",
              "      border-color: transparent;\n",
              "      border-right-color: var(--fill-color);\n",
              "      border-top-color: var(--fill-color);\n",
              "    }\n",
              "    60% {\n",
              "      border-color: transparent;\n",
              "      border-right-color: var(--fill-color);\n",
              "    }\n",
              "    80% {\n",
              "      border-color: transparent;\n",
              "      border-right-color: var(--fill-color);\n",
              "      border-bottom-color: var(--fill-color);\n",
              "    }\n",
              "    90% {\n",
              "      border-color: transparent;\n",
              "      border-bottom-color: var(--fill-color);\n",
              "    }\n",
              "  }\n",
              "</style>\n",
              "\n",
              "  <script>\n",
              "    async function quickchart(key) {\n",
              "      const quickchartButtonEl =\n",
              "        document.querySelector('#' + key + ' button');\n",
              "      quickchartButtonEl.disabled = true;  // To prevent multiple clicks.\n",
              "      quickchartButtonEl.classList.add('colab-df-spinner');\n",
              "      try {\n",
              "        const charts = await google.colab.kernel.invokeFunction(\n",
              "            'suggestCharts', [key], {});\n",
              "      } catch (error) {\n",
              "        console.error('Error during call to suggestCharts:', error);\n",
              "      }\n",
              "      quickchartButtonEl.classList.remove('colab-df-spinner');\n",
              "      quickchartButtonEl.classList.add('colab-df-quickchart-complete');\n",
              "    }\n",
              "    (() => {\n",
              "      let quickchartButtonEl =\n",
              "        document.querySelector('#df-7ff9b630-0214-4a23-83f8-305b4bff7efb button');\n",
              "      quickchartButtonEl.style.display =\n",
              "        google.colab.kernel.accessAllowed ? 'block' : 'none';\n",
              "    })();\n",
              "  </script>\n",
              "</div>\n",
              "\n",
              "  <div id=\"id_b234741d-27cf-4bdb-9603-4ecaf50f66ed\">\n",
              "    <style>\n",
              "      .colab-df-generate {\n",
              "        background-color: #E8F0FE;\n",
              "        border: none;\n",
              "        border-radius: 50%;\n",
              "        cursor: pointer;\n",
              "        display: none;\n",
              "        fill: #1967D2;\n",
              "        height: 32px;\n",
              "        padding: 0 0 0 0;\n",
              "        width: 32px;\n",
              "      }\n",
              "\n",
              "      .colab-df-generate:hover {\n",
              "        background-color: #E2EBFA;\n",
              "        box-shadow: 0px 1px 2px rgba(60, 64, 67, 0.3), 0px 1px 3px 1px rgba(60, 64, 67, 0.15);\n",
              "        fill: #174EA6;\n",
              "      }\n",
              "\n",
              "      [theme=dark] .colab-df-generate {\n",
              "        background-color: #3B4455;\n",
              "        fill: #D2E3FC;\n",
              "      }\n",
              "\n",
              "      [theme=dark] .colab-df-generate:hover {\n",
              "        background-color: #434B5C;\n",
              "        box-shadow: 0px 1px 3px 1px rgba(0, 0, 0, 0.15);\n",
              "        filter: drop-shadow(0px 1px 2px rgba(0, 0, 0, 0.3));\n",
              "        fill: #FFFFFF;\n",
              "      }\n",
              "    </style>\n",
              "    <button class=\"colab-df-generate\" onclick=\"generateWithVariable('dataset')\"\n",
              "            title=\"Generate code using this dataframe.\"\n",
              "            style=\"display:none;\">\n",
              "\n",
              "  <svg xmlns=\"http://www.w3.org/2000/svg\" height=\"24px\"viewBox=\"0 0 24 24\"\n",
              "       width=\"24px\">\n",
              "    <path d=\"M7,19H8.4L18.45,9,17,7.55,7,17.6ZM5,21V16.75L18.45,3.32a2,2,0,0,1,2.83,0l1.4,1.43a1.91,1.91,0,0,1,.58,1.4,1.91,1.91,0,0,1-.58,1.4L9.25,21ZM18.45,9,17,7.55Zm-12,3A5.31,5.31,0,0,0,4.9,8.1,5.31,5.31,0,0,0,1,6.5,5.31,5.31,0,0,0,4.9,4.9,5.31,5.31,0,0,0,6.5,1,5.31,5.31,0,0,0,8.1,4.9,5.31,5.31,0,0,0,12,6.5,5.46,5.46,0,0,0,6.5,12Z\"/>\n",
              "  </svg>\n",
              "    </button>\n",
              "    <script>\n",
              "      (() => {\n",
              "      const buttonEl =\n",
              "        document.querySelector('#id_b234741d-27cf-4bdb-9603-4ecaf50f66ed button.colab-df-generate');\n",
              "      buttonEl.style.display =\n",
              "        google.colab.kernel.accessAllowed ? 'block' : 'none';\n",
              "\n",
              "      buttonEl.onclick = () => {\n",
              "        google.colab.notebook.generateWithVariable('dataset');\n",
              "      }\n",
              "      })();\n",
              "    </script>\n",
              "  </div>\n",
              "\n",
              "    </div>\n",
              "  </div>\n"
            ],
            "application/vnd.google.colaboratory.intrinsic+json": {
              "type": "dataframe",
              "variable_name": "dataset"
            }
          },
          "metadata": {},
          "execution_count": 3
        }
      ]
    },
    {
      "cell_type": "markdown",
      "source": [
        "**Data Preprocessing**"
      ],
      "metadata": {
        "id": "gIkWYjccCMlu"
      }
    },
    {
      "cell_type": "code",
      "source": [
        "# Encode non-numeric columns (if any)\n",
        "for column in dataset.columns:\n",
        "    if dataset[column].dtype == 'object':  # Identify categorical columns\n",
        "        dataset[column] = LabelEncoder().fit_transform(dataset[column])\n",
        "\n",
        "# Separate features (X) and target (y)\n",
        "X = dataset.drop(['Class'], axis=1)  # Assuming 'Class' is the target column\n",
        "y = dataset['Class']"
      ],
      "metadata": {
        "id": "CJLPKg4OCJIa"
      },
      "execution_count": null,
      "outputs": []
    },
    {
      "cell_type": "code",
      "source": [
        "print(\"Original Class Distribution:\", np.bincount(y))"
      ],
      "metadata": {
        "colab": {
          "base_uri": "https://localhost:8080/"
        },
        "id": "cApvATS2CJGk",
        "outputId": "bccce455-ccc5-4b55-f0ff-3b2139a5bbd2"
      },
      "execution_count": null,
      "outputs": [
        {
          "output_type": "stream",
          "name": "stdout",
          "text": [
            "Original Class Distribution: [262851  11766   7645  29844]\n"
          ]
        }
      ]
    },
    {
      "cell_type": "code",
      "source": [
        "# Standardize the features\n",
        "scaler = StandardScaler()\n",
        "X = scaler.fit_transform(X)"
      ],
      "metadata": {
        "id": "Dfs-ElhtCJDw"
      },
      "execution_count": null,
      "outputs": []
    },
    {
      "cell_type": "code",
      "source": [
        "!pip install -U imbalanced-learn"
      ],
      "metadata": {
        "colab": {
          "base_uri": "https://localhost:8080/"
        },
        "id": "cU6-aUtcCJBK",
        "outputId": "03200a2b-692b-495a-f5ba-83cc76f4e5e9"
      },
      "execution_count": null,
      "outputs": [
        {
          "output_type": "stream",
          "name": "stdout",
          "text": [
            "Requirement already satisfied: imbalanced-learn in /usr/local/lib/python3.11/dist-packages (0.13.0)\n",
            "Requirement already satisfied: numpy<3,>=1.24.3 in /usr/local/lib/python3.11/dist-packages (from imbalanced-learn) (2.0.2)\n",
            "Requirement already satisfied: scipy<2,>=1.10.1 in /usr/local/lib/python3.11/dist-packages (from imbalanced-learn) (1.14.1)\n",
            "Requirement already satisfied: scikit-learn<2,>=1.3.2 in /usr/local/lib/python3.11/dist-packages (from imbalanced-learn) (1.6.1)\n",
            "Requirement already satisfied: sklearn-compat<1,>=0.1 in /usr/local/lib/python3.11/dist-packages (from imbalanced-learn) (0.1.3)\n",
            "Requirement already satisfied: joblib<2,>=1.1.1 in /usr/local/lib/python3.11/dist-packages (from imbalanced-learn) (1.4.2)\n",
            "Requirement already satisfied: threadpoolctl<4,>=2.0.0 in /usr/local/lib/python3.11/dist-packages (from imbalanced-learn) (3.6.0)\n"
          ]
        }
      ]
    },
    {
      "cell_type": "markdown",
      "source": [
        "**Data Balancing utilized SMOTE**"
      ],
      "metadata": {
        "id": "VU3Uh1FotLGp"
      }
    },
    {
      "cell_type": "code",
      "source": [
        "from imblearn.over_sampling import SMOTE\n",
        "# Balance dataset using SMOTE\n",
        "smote = SMOTE(random_state=42)\n",
        "X, y = smote.fit_resample(X, y)\n",
        "\n",
        "# Verify the balanced dataset distribution\n",
        "print(\"Balanced Class Distribution:\", np.bincount(y))"
      ],
      "metadata": {
        "colab": {
          "base_uri": "https://localhost:8080/"
        },
        "id": "Sb2mBvlBCI-a",
        "outputId": "7f68b858-e520-48e3-a75b-06e50a19ce79"
      },
      "execution_count": null,
      "outputs": [
        {
          "output_type": "stream",
          "name": "stdout",
          "text": [
            "Balanced Class Distribution: [262851 262851 262851 262851]\n"
          ]
        }
      ]
    },
    {
      "cell_type": "markdown",
      "source": [
        "**Split data into 80% Training and 20% Testing**"
      ],
      "metadata": {
        "id": "BhCXVR9ctJRp"
      }
    },
    {
      "cell_type": "code",
      "source": [
        "# Train-test split\n",
        "X_train, X_test, y_train, y_test = train_test_split(X, y, test_size=0.2, random_state=101, stratify=y)"
      ],
      "metadata": {
        "id": "ZrU3_udJCI7u"
      },
      "execution_count": null,
      "outputs": []
    },
    {
      "cell_type": "markdown",
      "source": [
        "**The hybrid MLP + LSTM model**"
      ],
      "metadata": {
        "id": "Nf4TIdrUtA9J"
      }
    },
    {
      "cell_type": "code",
      "source": [
        "from keras.models import Sequential\n",
        "from keras.layers import Dense, Dropout, LSTM, Flatten, TimeDistributed, InputLayer\n",
        "from keras.regularizers import l2\n",
        "from keras.utils import to_categorical\n",
        "from keras.callbacks import EarlyStopping\n",
        "\n",
        "# Convert target to categorical (one-hot encoding)\n",
        "y_train = to_categorical(y_train)\n",
        "y_test = to_categorical(y_test)\n",
        "\n",
        "# Reshape the input data for LSTM compatibility\n",
        "# Assuming the input features need to be reshaped into a 3D array: (samples, timesteps, features)\n",
        "X_train = X_train.reshape((X_train.shape[0], X_train.shape[1], 1))\n",
        "X_test = X_test.reshape((X_test.shape[0], X_test.shape[1], 1))\n",
        "\n",
        "# Define the hybrid MLP + LSTM model with regularization\n",
        "def build_hybrid_model(input_shape, num_classes):\n",
        "    model = Sequential()\n",
        "\n",
        "    # Input Layer\n",
        "    model.add(InputLayer(input_shape=input_shape))\n",
        "\n",
        "    # LSTM Layer\n",
        "    model.add(LSTM(64, activation='tanh', return_sequences=False, kernel_regularizer=l2(0.01)))\n",
        "    model.add(Dropout(0.3))  # Dropout for regularization\n",
        "\n",
        "    # MLP Layers\n",
        "    model.add(Dense(128, activation='relu', kernel_regularizer=l2(0.01)))\n",
        "    model.add(Dropout(0.3))  # Dropout for regularization\n",
        "    model.add(Dense(64, activation='relu', kernel_regularizer=l2(0.01)))\n",
        "    model.add(Dropout(0.3))  # Dropout for regularization\n",
        "\n",
        "    # Output Layer\n",
        "    model.add(Dense(num_classes, activation='softmax'))\n",
        "\n",
        "    return model\n",
        "\n",
        "# Build and compile the model\n",
        "input_shape = (X_train.shape[1], X_train.shape[2])  # Adjusted for LSTM input format\n",
        "num_classes = y_train.shape[1]\n",
        "model = build_hybrid_model(input_shape, num_classes)\n",
        "model.compile(\n",
        "    optimizer='adam',\n",
        "    loss='categorical_crossentropy',\n",
        "    metrics=['accuracy']\n",
        ")\n",
        "\n",
        "# Train the model with early stopping\n",
        "from keras.callbacks import EarlyStopping\n",
        "\n",
        "early_stopping = EarlyStopping(monitor='val_loss', patience=10, restore_best_weights=True)\n",
        "\n",
        "history = model.fit(\n",
        "    X_train, y_train,\n",
        "    validation_data=(X_test, y_test),\n",
        "    epochs=10,\n",
        "    batch_size=32,\n",
        "    callbacks=[early_stopping],\n",
        "    verbose=1\n",
        ")\n",
        "\n",
        "# Evaluate the model\n",
        "y_pred = model.predict(X_test)\n",
        "y_pred_classes = np.argmax(y_pred, axis=1)\n",
        "y_true_classes = np.argmax(y_test, axis=1)"
      ],
      "metadata": {
        "colab": {
          "base_uri": "https://localhost:8080/"
        },
        "id": "hsa0-DfQCVcP",
        "outputId": "299bf359-562c-4980-b9dc-225fcdf4222d"
      },
      "execution_count": null,
      "outputs": [
        {
          "output_type": "stream",
          "name": "stdout",
          "text": [
            "Epoch 1/10\n"
          ]
        },
        {
          "output_type": "stream",
          "name": "stderr",
          "text": [
            "/usr/local/lib/python3.11/dist-packages/keras/src/layers/core/input_layer.py:27: UserWarning: Argument `input_shape` is deprecated. Use `shape` instead.\n",
            "  warnings.warn(\n"
          ]
        },
        {
          "output_type": "stream",
          "name": "stdout",
          "text": [
            "\u001b[1m26286/26286\u001b[0m \u001b[32m━━━━━━━━━━━━━━━━━━━━\u001b[0m\u001b[37m\u001b[0m \u001b[1m171s\u001b[0m 6ms/step - accuracy: 0.7812 - loss: 0.6250 - val_accuracy: 0.8830 - val_loss: 0.3312\n",
            "Epoch 2/10\n",
            "\u001b[1m26286/26286\u001b[0m \u001b[32m━━━━━━━━━━━━━━━━━━━━\u001b[0m\u001b[37m\u001b[0m \u001b[1m178s\u001b[0m 7ms/step - accuracy: 0.9064 - loss: 0.2956 - val_accuracy: 0.9216 - val_loss: 0.2355\n",
            "Epoch 3/10\n",
            "\u001b[1m26286/26286\u001b[0m \u001b[32m━━━━━━━━━━━━━━━━━━━━\u001b[0m\u001b[37m\u001b[0m \u001b[1m175s\u001b[0m 7ms/step - accuracy: 0.9233 - loss: 0.2478 - val_accuracy: 0.9255 - val_loss: 0.2235\n",
            "Epoch 4/10\n",
            "\u001b[1m26286/26286\u001b[0m \u001b[32m━━━━━━━━━━━━━━━━━━━━\u001b[0m\u001b[37m\u001b[0m \u001b[1m182s\u001b[0m 7ms/step - accuracy: 0.9344 - loss: 0.2212 - val_accuracy: 0.9447 - val_loss: 0.1787\n",
            "Epoch 5/10\n",
            "\u001b[1m26286/26286\u001b[0m \u001b[32m━━━━━━━━━━━━━━━━━━━━\u001b[0m\u001b[37m\u001b[0m \u001b[1m178s\u001b[0m 7ms/step - accuracy: 0.9425 - loss: 0.2010 - val_accuracy: 0.9343 - val_loss: 0.2130\n",
            "Epoch 6/10\n",
            "\u001b[1m26286/26286\u001b[0m \u001b[32m━━━━━━━━━━━━━━━━━━━━\u001b[0m\u001b[37m\u001b[0m \u001b[1m178s\u001b[0m 7ms/step - accuracy: 0.9398 - loss: 0.2083 - val_accuracy: 0.9624 - val_loss: 0.1467\n",
            "Epoch 7/10\n",
            "\u001b[1m26286/26286\u001b[0m \u001b[32m━━━━━━━━━━━━━━━━━━━━\u001b[0m\u001b[37m\u001b[0m \u001b[1m184s\u001b[0m 7ms/step - accuracy: 0.9537 - loss: 0.1726 - val_accuracy: 0.9561 - val_loss: 0.1540\n",
            "Epoch 8/10\n",
            "\u001b[1m26286/26286\u001b[0m \u001b[32m━━━━━━━━━━━━━━━━━━━━\u001b[0m\u001b[37m\u001b[0m \u001b[1m175s\u001b[0m 7ms/step - accuracy: 0.9565 - loss: 0.1654 - val_accuracy: 0.9726 - val_loss: 0.1159\n",
            "Epoch 9/10\n",
            "\u001b[1m26286/26286\u001b[0m \u001b[32m━━━━━━━━━━━━━━━━━━━━\u001b[0m\u001b[37m\u001b[0m \u001b[1m178s\u001b[0m 7ms/step - accuracy: 0.9566 - loss: 0.1660 - val_accuracy: 0.9750 - val_loss: 0.1118\n",
            "Epoch 10/10\n",
            "\u001b[1m26286/26286\u001b[0m \u001b[32m━━━━━━━━━━━━━━━━━━━━\u001b[0m\u001b[37m\u001b[0m \u001b[1m180s\u001b[0m 7ms/step - accuracy: 0.9615 - loss: 0.1532 - val_accuracy: 0.9617 - val_loss: 0.1516\n",
            "\u001b[1m6572/6572\u001b[0m \u001b[32m━━━━━━━━━━━━━━━━━━━━\u001b[0m\u001b[37m\u001b[0m \u001b[1m14s\u001b[0m 2ms/step\n"
          ]
        }
      ]
    },
    {
      "cell_type": "code",
      "source": [
        "from sklearn.metrics import accuracy_score, classification_report, confusion_matrix, precision_score, recall_score, f1_score\n",
        "# Metrics\n",
        "accuracy = accuracy_score(y_true_classes, y_pred_classes)\n",
        "precision = precision_score(y_true_classes, y_pred_classes, average='weighted')\n",
        "recall = recall_score(y_true_classes, y_pred_classes, average='weighted')\n",
        "f1 = f1_score(y_true_classes, y_pred_classes, average='weighted')\n",
        "\n",
        "print(\"Accuracy: {:.10f}\".format(accuracy))\n",
        "print(\"Precision: {:.10f}\".format(precision))\n",
        "print(\"Recall: {:.10f}\".format(recall))\n",
        "print(\"F1-Score: {:.10f}\".format(f1))"
      ],
      "metadata": {
        "colab": {
          "base_uri": "https://localhost:8080/"
        },
        "id": "z-V2dsrbCVY3",
        "outputId": "bb4dd5b6-1f84-4407-d9c7-69cfeb07d40f"
      },
      "execution_count": null,
      "outputs": [
        {
          "output_type": "stream",
          "name": "stdout",
          "text": [
            "Accuracy: 0.9750238966\n",
            "Precision: 0.9751185269\n",
            "Recall: 0.9750238966\n",
            "F1-Score: 0.9749834268\n"
          ]
        }
      ]
    },
    {
      "cell_type": "code",
      "source": [
        "# Evaluate the model\n",
        "y_pred = model.predict(X_test)\n",
        "y_pred_classes = np.argmax(y_pred, axis=1)\n",
        "y_true_classes = np.argmax(y_test, axis=1)\n",
        "\n",
        "# Metrics\n",
        "accuracy = accuracy_score(y_true_classes, y_pred_classes)\n",
        "precision = precision_score(y_true_classes, y_pred_classes, average='weighted')\n",
        "recall = recall_score(y_true_classes, y_pred_classes, average='weighted')\n",
        "f1 = f1_score(y_true_classes, y_pred_classes, average='weighted')\n",
        "\n",
        "print(\"Accuracy: {:.10f}\".format(accuracy))\n",
        "print(\"Precision: {:.10f}\".format(precision))\n",
        "print(\"Recall: {:.10f}\".format(recall))\n",
        "print(\"F1-Score: {:.10f}\".format(f1))"
      ],
      "metadata": {
        "colab": {
          "base_uri": "https://localhost:8080/"
        },
        "id": "nie6CiXoCVWL",
        "outputId": "21897a75-f1e1-4a8e-dd51-4257312e3087"
      },
      "execution_count": null,
      "outputs": [
        {
          "output_type": "stream",
          "name": "stdout",
          "text": [
            "\u001b[1m6572/6572\u001b[0m \u001b[32m━━━━━━━━━━━━━━━━━━━━\u001b[0m\u001b[37m\u001b[0m \u001b[1m13s\u001b[0m 2ms/step\n",
            "Accuracy: 0.9750238966\n",
            "Precision: 0.9751185269\n",
            "Recall: 0.9750238966\n",
            "F1-Score: 0.9749834268\n"
          ]
        }
      ]
    },
    {
      "cell_type": "markdown",
      "source": [
        "**FedProx Training**"
      ],
      "metadata": {
        "id": "VrhDYntPs6jU"
      }
    },
    {
      "cell_type": "code",
      "source": [
        "import time\n",
        "import numpy as np\n",
        "import tensorflow as tf\n",
        "from sklearn.metrics import classification_report, confusion_matrix, accuracy_score, precision_score, recall_score, f1_score\n",
        "\n",
        "# Function to measure model performance\n",
        "def evaluate_global_model(global_model, X_test, y_test):\n",
        "    y_pred = global_model.predict(X_test)\n",
        "    y_pred_classes = np.argmax(y_pred, axis=1)\n",
        "    y_true_classes = np.argmax(y_test, axis=1)\n",
        "\n",
        "    accuracy = accuracy_score(y_true_classes, y_pred_classes)\n",
        "    precision = precision_score(y_true_classes, y_pred_classes, average='weighted')\n",
        "    recall = recall_score(y_true_classes, y_pred_classes, average='weighted')\n",
        "    f1 = f1_score(y_true_classes, y_pred_classes, average='weighted')\n",
        "    cm = confusion_matrix(y_true_classes, y_pred_classes)\n",
        "\n",
        "    print(\"\\nModel Performance Metrics:\")\n",
        "    print(f\"Accuracy: {accuracy:.10f}\")\n",
        "    print(f\"Precision: {precision:.10f}\")\n",
        "    print(f\"Recall: {recall:.10f}\")\n",
        "    print(f\"F1-Score: {f1:.10f}\")\n",
        "    print(\"\\nConfusion Matrix:\")\n",
        "    print(cm)\n",
        "\n",
        "    return accuracy, precision, recall, f1\n",
        "\n",
        "# Function to analyze communication overhead\n",
        "def analyze_communication_overhead(local_weights, global_weights):\n",
        "    communication_cost = 0\n",
        "    for i in range(len(local_weights)):\n",
        "        communication_cost += sum(w.nbytes for w in local_weights[i])\n",
        "    communication_cost += sum(w.nbytes for w in global_weights)\n",
        "    print(f\"\\nCommunication Overhead: {communication_cost / (1024 ** 2):.2f} MB\")  # in MB\n",
        "\n",
        "# FedProx Local Training Function\n",
        "def train_fedprox(local_model, X, y, global_weights, mu=0.01, epochs=1, batch_size=16):\n",
        "    optimizer = tf.keras.optimizers.Adam()\n",
        "    loss_fn = tf.keras.losses.CategoricalCrossentropy()\n",
        "    train_dataset = tf.data.Dataset.from_tensor_slices((X, y)).batch(batch_size)\n",
        "\n",
        "    for epoch in range(epochs):\n",
        "        for step, (batch_x, batch_y) in enumerate(train_dataset):\n",
        "            with tf.GradientTape() as tape:\n",
        "                predictions = local_model(batch_x, training=True)\n",
        "                ce_loss = loss_fn(batch_y, predictions)\n",
        "                prox_term = tf.add_n([tf.reduce_sum(tf.square(w - gw))\n",
        "                                      for w, gw in zip(local_model.trainable_weights, global_weights)])\n",
        "                total_loss = ce_loss + (mu / 2.0) * prox_term\n",
        "            grads = tape.gradient(total_loss, local_model.trainable_weights)\n",
        "            optimizer.apply_gradients(zip(grads, local_model.trainable_weights))\n",
        "    return local_model.get_weights()\n",
        "\n",
        "# Federated Learning Simulation (FedProx)\n",
        "def federated_learning_simulation(X_train, y_train, X_test, y_test, num_clients=5):\n",
        "    client_data = np.array_split(X_train, num_clients)\n",
        "    client_labels = np.array_split(y_train, num_clients)\n",
        "\n",
        "    global_model = build_hybrid_model(input_shape, num_classes)\n",
        "    global_model.compile(optimizer='adam', loss='categorical_crossentropy', metrics=['accuracy'])\n",
        "    global_weights = global_model.get_weights()\n",
        "\n",
        "    latency_per_round = []\n",
        "\n",
        "    for round in range(25):\n",
        "        local_weights = []\n",
        "        start_time = time.time()\n",
        "\n",
        "        for i in range(num_clients):\n",
        "            local_model = build_hybrid_model(input_shape, num_classes)\n",
        "            local_model.set_weights(global_weights)\n",
        "            local_model.compile(optimizer='adam', loss='categorical_crossentropy', metrics=['accuracy'])\n",
        "\n",
        "            updated_weights = train_fedprox(local_model, client_data[i], client_labels[i], global_weights, mu=0.01)\n",
        "            local_weights.append(updated_weights)\n",
        "\n",
        "        global_weights = [\n",
        "            np.mean([local_weights[j][i] for j in range(num_clients)], axis=0)\n",
        "            for i in range(len(global_weights))\n",
        "        ]\n",
        "        global_model.set_weights(global_weights)\n",
        "\n",
        "        end_time = time.time()\n",
        "        latency = end_time - start_time\n",
        "        latency_per_round.append(latency)\n",
        "\n",
        "        analyze_communication_overhead(local_weights, global_weights)\n",
        "\n",
        "        loss, acc = global_model.evaluate(X_test, y_test, verbose=0)\n",
        "        print(f\"\\nRound {round + 1}: Global Model Accuracy = {acc:.10f}\")\n",
        "        evaluate_global_model(global_model, X_test, y_test)\n",
        "\n",
        "    print(\"\\nLatency Analysis:\")\n",
        "    print(f\"Average Latency per Round: {np.mean(latency_per_round):.2f} seconds\")\n",
        "    print(f\"Total Latency for 50 Rounds: {np.sum(latency_per_round):.2f} seconds\")\n",
        "\n",
        "# Note: Make sure build_hybrid_model, input_shape, and num_classes are defined in your environment before running.\n",
        "# Call the federated learning simulation function\n",
        "federated_learning_simulation(X_train, y_train, X_test, y_test)"
      ],
      "metadata": {
        "colab": {
          "base_uri": "https://localhost:8080/"
        },
        "id": "95rgvCs-fyD9",
        "outputId": "6a2705c9-732f-476d-a976-ee73048fcae1"
      },
      "execution_count": null,
      "outputs": [
        {
          "metadata": {
            "tags": null
          },
          "name": "stdout",
          "output_type": "stream",
          "text": [
            "\n",
            "Communication Overhead: 0.77 MB\n",
            "\n",
            "Round 1: Global Model Accuracy = 0.7021319270\n",
            "\u001b[1m6572/6572\u001b[0m \u001b[32m━━━━━━━━━━━━━━━━━━━━\u001b[0m\u001b[37m\u001b[0m \u001b[1m13s\u001b[0m 2ms/step\n",
            "\n",
            "Model Performance Metrics:\n",
            "Accuracy: 0.7021319092\n",
            "Precision: 0.7089918056\n",
            "Recall: 0.7021319092\n",
            "F1-Score: 0.6834072408\n",
            "\n",
            "Confusion Matrix:\n",
            "[[32380  5767 12892  1531]\n",
            " [12632 20031 13619  6288]\n",
            " [ 2881   748 42663  6278]\n",
            " [    0     0     0 52571]]\n"
          ]
        },
        {
          "metadata": {
            "tags": null
          },
          "name": "stderr",
          "output_type": "stream",
          "text": [
            "/usr/local/lib/python3.11/dist-packages/keras/src/layers/core/input_layer.py:27: UserWarning: Argument `input_shape` is deprecated. Use `shape` instead.\n",
            "  warnings.warn(\n"
          ]
        },
        {
          "metadata": {
            "tags": null
          },
          "name": "stdout",
          "output_type": "stream",
          "text": [
            "\n",
            "Communication Overhead: 0.77 MB\n",
            "\n",
            "Round 2: Global Model Accuracy = 0.8205115795\n",
            "\u001b[1m6572/6572\u001b[0m \u001b[32m━━━━━━━━━━━━━━━━━━━━\u001b[0m\u001b[37m\u001b[0m \u001b[1m12s\u001b[0m 2ms/step\n",
            "\n",
            "Model Performance Metrics:\n",
            "Accuracy: 0.8205116011\n",
            "Precision: 0.8179056748\n",
            "Recall: 0.8205116011\n",
            "F1-Score: 0.8157209448\n",
            "\n",
            "Confusion Matrix:\n",
            "[[37973  7915  6541   141]\n",
            " [ 8910 35432  2748  5480]\n",
            " [ 1109   704 47237  3520]\n",
            " [    0     0   675 51896]]\n"
          ]
        },
        {
          "metadata": {
            "tags": null
          },
          "name": "stderr",
          "output_type": "stream",
          "text": [
            "/usr/local/lib/python3.11/dist-packages/keras/src/layers/core/input_layer.py:27: UserWarning: Argument `input_shape` is deprecated. Use `shape` instead.\n",
            "  warnings.warn(\n"
          ]
        },
        {
          "metadata": {
            "tags": null
          },
          "name": "stdout",
          "output_type": "stream",
          "text": [
            "\n",
            "Communication Overhead: 0.77 MB\n",
            "\n",
            "Round 3: Global Model Accuracy = 0.8409556746\n",
            "\u001b[1m6572/6572\u001b[0m \u001b[32m━━━━━━━━━━━━━━━━━━━━\u001b[0m\u001b[37m\u001b[0m \u001b[1m13s\u001b[0m 2ms/step\n",
            "\n",
            "Model Performance Metrics:\n",
            "Accuracy: 0.8409556736\n",
            "Precision: 0.8376325712\n",
            "Recall: 0.8409556736\n",
            "F1-Score: 0.8368240693\n",
            "\n",
            "Confusion Matrix:\n",
            "[[38311  8272  5906    81]\n",
            " [ 8364 37398  1395  5413]\n",
            " [  756   675 49535  1604]\n",
            " [    0     0   978 51593]]\n"
          ]
        },
        {
          "metadata": {
            "tags": null
          },
          "name": "stderr",
          "output_type": "stream",
          "text": [
            "/usr/local/lib/python3.11/dist-packages/keras/src/layers/core/input_layer.py:27: UserWarning: Argument `input_shape` is deprecated. Use `shape` instead.\n",
            "  warnings.warn(\n"
          ]
        },
        {
          "metadata": {
            "tags": null
          },
          "name": "stdout",
          "output_type": "stream",
          "text": [
            "\n",
            "Communication Overhead: 0.77 MB\n",
            "\n",
            "Round 4: Global Model Accuracy = 0.8512324095\n",
            "\u001b[1m6572/6572\u001b[0m \u001b[32m━━━━━━━━━━━━━━━━━━━━\u001b[0m\u001b[37m\u001b[0m \u001b[1m13s\u001b[0m 2ms/step\n",
            "\n",
            "Model Performance Metrics:\n",
            "Accuracy: 0.8512323986\n",
            "Precision: 0.8478820718\n",
            "Recall: 0.8512323986\n",
            "F1-Score: 0.8472838564\n",
            "\n",
            "Confusion Matrix:\n",
            "[[39240  8086  5236     8]\n",
            " [ 8470 37689  1019  5392]\n",
            " [  497   390 50470  1213]\n",
            " [    0     0   972 51599]]\n"
          ]
        },
        {
          "metadata": {
            "tags": null
          },
          "name": "stderr",
          "output_type": "stream",
          "text": [
            "/usr/local/lib/python3.11/dist-packages/keras/src/layers/core/input_layer.py:27: UserWarning: Argument `input_shape` is deprecated. Use `shape` instead.\n",
            "  warnings.warn(\n"
          ]
        },
        {
          "metadata": {
            "tags": null
          },
          "name": "stdout",
          "output_type": "stream",
          "text": [
            "\n",
            "Communication Overhead: 0.77 MB\n",
            "\n",
            "Round 5: Global Model Accuracy = 0.8599302769\n",
            "\u001b[1m6572/6572\u001b[0m \u001b[32m━━━━━━━━━━━━━━━━━━━━\u001b[0m\u001b[37m\u001b[0m \u001b[1m12s\u001b[0m 2ms/step\n",
            "\n",
            "Model Performance Metrics:\n",
            "Accuracy: 0.8599302838\n",
            "Precision: 0.8567821468\n",
            "Recall: 0.8599302838\n",
            "F1-Score: 0.8561147353\n",
            "\n",
            "Confusion Matrix:\n",
            "[[38841  8642  5086     1]\n",
            " [ 7433 39081   672  5384]\n",
            " [  165   340 50918  1147]\n",
            " [    0     0   584 51987]]\n"
          ]
        },
        {
          "metadata": {
            "tags": null
          },
          "name": "stderr",
          "output_type": "stream",
          "text": [
            "/usr/local/lib/python3.11/dist-packages/keras/src/layers/core/input_layer.py:27: UserWarning: Argument `input_shape` is deprecated. Use `shape` instead.\n",
            "  warnings.warn(\n"
          ]
        },
        {
          "metadata": {
            "tags": null
          },
          "name": "stdout",
          "output_type": "stream",
          "text": [
            "\n",
            "Communication Overhead: 0.77 MB\n",
            "\n",
            "Round 6: Global Model Accuracy = 0.8658556938\n",
            "\u001b[1m6572/6572\u001b[0m \u001b[32m━━━━━━━━━━━━━━━━━━━━\u001b[0m\u001b[37m\u001b[0m \u001b[1m14s\u001b[0m 2ms/step\n",
            "\n",
            "Model Performance Metrics:\n",
            "Accuracy: 0.8658556883\n",
            "Precision: 0.8648383642\n",
            "Recall: 0.8658556883\n",
            "F1-Score: 0.8624181508\n",
            "\n",
            "Confusion Matrix:\n",
            "[[37924  9995  4647     4]\n",
            " [ 5215 41345   621  5389]\n",
            " [  119   264 51046  1141]\n",
            " [    0     0   813 51758]]\n"
          ]
        },
        {
          "metadata": {
            "tags": null
          },
          "name": "stderr",
          "output_type": "stream",
          "text": [
            "/usr/local/lib/python3.11/dist-packages/keras/src/layers/core/input_layer.py:27: UserWarning: Argument `input_shape` is deprecated. Use `shape` instead.\n",
            "  warnings.warn(\n"
          ]
        },
        {
          "metadata": {
            "tags": null
          },
          "name": "stdout",
          "output_type": "stream",
          "text": [
            "\n",
            "Communication Overhead: 0.77 MB\n",
            "\n",
            "Round 7: Global Model Accuracy = 0.8711581230\n",
            "\u001b[1m6572/6572\u001b[0m \u001b[32m━━━━━━━━━━━━━━━━━━━━\u001b[0m\u001b[37m\u001b[0m \u001b[1m14s\u001b[0m 2ms/step\n",
            "\n",
            "Model Performance Metrics:\n",
            "Accuracy: 0.8711581170\n",
            "Precision: 0.8701670897\n",
            "Recall: 0.8711581170\n",
            "F1-Score: 0.8680298512\n",
            "\n",
            "Confusion Matrix:\n",
            "[[38521  9791  4258     0]\n",
            " [ 5060 41709   417  5384]\n",
            " [  195   228 50996  1151]\n",
            " [    0     0   609 51962]]\n"
          ]
        },
        {
          "metadata": {
            "tags": null
          },
          "name": "stderr",
          "output_type": "stream",
          "text": [
            "/usr/local/lib/python3.11/dist-packages/keras/src/layers/core/input_layer.py:27: UserWarning: Argument `input_shape` is deprecated. Use `shape` instead.\n",
            "  warnings.warn(\n"
          ]
        },
        {
          "metadata": {
            "tags": null
          },
          "name": "stdout",
          "output_type": "stream",
          "text": [
            "\n",
            "Communication Overhead: 0.77 MB\n",
            "\n",
            "Round 8: Global Model Accuracy = 0.8747438192\n",
            "\u001b[1m6572/6572\u001b[0m \u001b[32m━━━━━━━━━━━━━━━━━━━━\u001b[0m\u001b[37m\u001b[0m \u001b[1m17s\u001b[0m 3ms/step\n",
            "\n",
            "Model Performance Metrics:\n",
            "Accuracy: 0.8747437952\n",
            "Precision: 0.8808891706\n",
            "Recall: 0.8747437952\n",
            "F1-Score: 0.8711141326\n",
            "\n",
            "Confusion Matrix:\n",
            "[[35939 12206  4421     4]\n",
            " [ 1886 44844   455  5385]\n",
            " [  102   176 51144  1148]\n",
            " [    0     0   556 52015]]\n"
          ]
        },
        {
          "metadata": {
            "tags": null
          },
          "name": "stderr",
          "output_type": "stream",
          "text": [
            "/usr/local/lib/python3.11/dist-packages/keras/src/layers/core/input_layer.py:27: UserWarning: Argument `input_shape` is deprecated. Use `shape` instead.\n",
            "  warnings.warn(\n"
          ]
        },
        {
          "metadata": {
            "tags": null
          },
          "name": "stdout",
          "output_type": "stream",
          "text": [
            "\n",
            "Communication Overhead: 0.77 MB\n",
            "\n",
            "Round 9: Global Model Accuracy = 0.8775970936\n",
            "\u001b[1m6572/6572\u001b[0m \u001b[32m━━━━━━━━━━━━━━━━━━━━\u001b[0m\u001b[37m\u001b[0m \u001b[1m17s\u001b[0m 3ms/step\n",
            "\n",
            "Model Performance Metrics:\n",
            "Accuracy: 0.8775971200\n",
            "Precision: 0.8798575976\n",
            "Recall: 0.8775971200\n",
            "F1-Score: 0.8745938312\n",
            "\n",
            "Confusion Matrix:\n",
            "[[37714 10618  4238     0]\n",
            " [ 3102 43899   184  5385]\n",
            " [  158   107 51165  1140]\n",
            " [    0     0   807 51764]]\n"
          ]
        },
        {
          "metadata": {
            "tags": null
          },
          "name": "stderr",
          "output_type": "stream",
          "text": [
            "/usr/local/lib/python3.11/dist-packages/keras/src/layers/core/input_layer.py:27: UserWarning: Argument `input_shape` is deprecated. Use `shape` instead.\n",
            "  warnings.warn(\n"
          ]
        },
        {
          "metadata": {
            "tags": null
          },
          "name": "stdout",
          "output_type": "stream",
          "text": [
            "\n",
            "Communication Overhead: 0.77 MB\n",
            "\n",
            "Round 10: Global Model Accuracy = 0.8823574185\n",
            "\u001b[1m6572/6572\u001b[0m \u001b[32m━━━━━━━━━━━━━━━━━━━━\u001b[0m\u001b[37m\u001b[0m \u001b[1m18s\u001b[0m 3ms/step\n",
            "\n",
            "Model Performance Metrics:\n",
            "Accuracy: 0.8823574170\n",
            "Precision: 0.8890629619\n",
            "Recall: 0.8823574170\n",
            "F1-Score: 0.8795003310\n",
            "\n",
            "Confusion Matrix:\n",
            "[[36936 12114  3520     0]\n",
            " [ 1475 45583   128  5384]\n",
            " [  134   129 51157  1150]\n",
            " [    0     0   704 51867]]\n"
          ]
        },
        {
          "metadata": {
            "tags": null
          },
          "name": "stderr",
          "output_type": "stream",
          "text": [
            "/usr/local/lib/python3.11/dist-packages/keras/src/layers/core/input_layer.py:27: UserWarning: Argument `input_shape` is deprecated. Use `shape` instead.\n",
            "  warnings.warn(\n"
          ]
        },
        {
          "metadata": {
            "tags": null
          },
          "name": "stdout",
          "output_type": "stream",
          "text": [
            "\n",
            "Communication Overhead: 0.77 MB\n",
            "\n",
            "Round 11: Global Model Accuracy = 0.8857005835\n",
            "\u001b[1m6572/6572\u001b[0m \u001b[32m━━━━━━━━━━━━━━━━━━━━\u001b[0m\u001b[37m\u001b[0m \u001b[1m16s\u001b[0m 2ms/step\n",
            "\n",
            "Model Performance Metrics:\n",
            "Accuracy: 0.8857005626\n",
            "Precision: 0.8926826252\n",
            "Recall: 0.8857005626\n",
            "F1-Score: 0.8828178366\n",
            "\n",
            "Confusion Matrix:\n",
            "[[37215 11299  4055     1]\n",
            " [ 1130 45897   159  5384]\n",
            " [   63   100 51254  1153]\n",
            " [    0     0   691 51880]]\n"
          ]
        },
        {
          "metadata": {
            "tags": null
          },
          "name": "stderr",
          "output_type": "stream",
          "text": [
            "/usr/local/lib/python3.11/dist-packages/keras/src/layers/core/input_layer.py:27: UserWarning: Argument `input_shape` is deprecated. Use `shape` instead.\n",
            "  warnings.warn(\n"
          ]
        },
        {
          "metadata": {
            "tags": null
          },
          "name": "stdout",
          "output_type": "stream",
          "text": [
            "\n",
            "Communication Overhead: 0.77 MB\n",
            "\n",
            "Round 12: Global Model Accuracy = 0.8857861757\n",
            "\u001b[1m6572/6572\u001b[0m \u001b[32m━━━━━━━━━━━━━━━━━━━━\u001b[0m\u001b[37m\u001b[0m \u001b[1m17s\u001b[0m 3ms/step\n",
            "\n",
            "Model Performance Metrics:\n",
            "Accuracy: 0.8857861623\n",
            "Precision: 0.8930035516\n",
            "Recall: 0.8857861623\n",
            "F1-Score: 0.8829188761\n",
            "\n",
            "Confusion Matrix:\n",
            "[[37159 11455  3956     0]\n",
            " [ 1094 45981   111  5384]\n",
            " [   52    99 51279  1140]\n",
            " [    0     0   726 51845]]\n"
          ]
        },
        {
          "metadata": {
            "tags": null
          },
          "name": "stderr",
          "output_type": "stream",
          "text": [
            "/usr/local/lib/python3.11/dist-packages/keras/src/layers/core/input_layer.py:27: UserWarning: Argument `input_shape` is deprecated. Use `shape` instead.\n",
            "  warnings.warn(\n"
          ]
        },
        {
          "metadata": {
            "tags": null
          },
          "name": "stdout",
          "output_type": "stream",
          "text": [
            "\n",
            "Communication Overhead: 0.77 MB\n",
            "\n",
            "Round 13: Global Model Accuracy = 0.8917828798\n",
            "\u001b[1m6572/6572\u001b[0m \u001b[32m━━━━━━━━━━━━━━━━━━━━\u001b[0m\u001b[37m\u001b[0m \u001b[1m16s\u001b[0m 2ms/step\n",
            "\n",
            "Model Performance Metrics:\n",
            "Accuracy: 0.8917829000\n",
            "Precision: 0.9005809684\n",
            "Recall: 0.8917829000\n",
            "F1-Score: 0.8892389095\n",
            "\n",
            "Confusion Matrix:\n",
            "[[37546 11397  3627     0]\n",
            " [  367 46717   102  5384]\n",
            " [   55   107 51268  1140]\n",
            " [    0     0   577 51994]]\n"
          ]
        },
        {
          "metadata": {
            "tags": null
          },
          "name": "stderr",
          "output_type": "stream",
          "text": [
            "/usr/local/lib/python3.11/dist-packages/keras/src/layers/core/input_layer.py:27: UserWarning: Argument `input_shape` is deprecated. Use `shape` instead.\n",
            "  warnings.warn(\n"
          ]
        },
        {
          "metadata": {
            "tags": null
          },
          "name": "stdout",
          "output_type": "stream",
          "text": [
            "\n",
            "Communication Overhead: 0.77 MB\n",
            "\n",
            "Round 14: Global Model Accuracy = 0.9016268849\n",
            "\u001b[1m6572/6572\u001b[0m \u001b[32m━━━━━━━━━━━━━━━━━━━━\u001b[0m\u001b[37m\u001b[0m \u001b[1m14s\u001b[0m 2ms/step\n",
            "\n",
            "Model Performance Metrics:\n",
            "Accuracy: 0.9016268707\n",
            "Precision: 0.9089769024\n",
            "Recall: 0.9016268707\n",
            "F1-Score: 0.8998279588\n",
            "\n",
            "Confusion Matrix:\n",
            "[[39348  9994  3228     0]\n",
            " [  175 46943    78  5374]\n",
            " [   86   101 51243  1140]\n",
            " [    0     0   510 52061]]\n"
          ]
        },
        {
          "metadata": {
            "tags": null
          },
          "name": "stderr",
          "output_type": "stream",
          "text": [
            "/usr/local/lib/python3.11/dist-packages/keras/src/layers/core/input_layer.py:27: UserWarning: Argument `input_shape` is deprecated. Use `shape` instead.\n",
            "  warnings.warn(\n"
          ]
        }
      ]
    },
    {
      "cell_type": "code",
      "source": [
        "!pip install cleverhans"
      ],
      "metadata": {
        "colab": {
          "base_uri": "https://localhost:8080/"
        },
        "id": "wietudWI1NW6",
        "outputId": "98f81230-7ba3-49fa-a60d-14a6b719b92a"
      },
      "execution_count": null,
      "outputs": [
        {
          "output_type": "stream",
          "name": "stdout",
          "text": [
            "Collecting cleverhans\n",
            "  Downloading cleverhans-4.0.0-py3-none-any.whl.metadata (846 bytes)\n",
            "Collecting nose (from cleverhans)\n",
            "  Downloading nose-1.3.7-py3-none-any.whl.metadata (1.7 kB)\n",
            "Collecting pycodestyle (from cleverhans)\n",
            "  Downloading pycodestyle-2.13.0-py2.py3-none-any.whl.metadata (4.5 kB)\n",
            "Requirement already satisfied: scipy in /usr/local/lib/python3.11/dist-packages (from cleverhans) (1.14.1)\n",
            "Requirement already satisfied: matplotlib in /usr/local/lib/python3.11/dist-packages (from cleverhans) (3.10.0)\n",
            "Collecting mnist (from cleverhans)\n",
            "  Downloading mnist-0.2.2-py2.py3-none-any.whl.metadata (1.6 kB)\n",
            "Requirement already satisfied: numpy in /usr/local/lib/python3.11/dist-packages (from cleverhans) (2.0.2)\n",
            "Requirement already satisfied: tensorflow-probability in /usr/local/lib/python3.11/dist-packages (from cleverhans) (0.25.0)\n",
            "Requirement already satisfied: joblib in /usr/local/lib/python3.11/dist-packages (from cleverhans) (1.4.2)\n",
            "Requirement already satisfied: easydict in /usr/local/lib/python3.11/dist-packages (from cleverhans) (1.13)\n",
            "Requirement already satisfied: absl-py in /usr/local/lib/python3.11/dist-packages (from cleverhans) (1.4.0)\n",
            "Requirement already satisfied: six in /usr/local/lib/python3.11/dist-packages (from cleverhans) (1.17.0)\n",
            "Requirement already satisfied: contourpy>=1.0.1 in /usr/local/lib/python3.11/dist-packages (from matplotlib->cleverhans) (1.3.1)\n",
            "Requirement already satisfied: cycler>=0.10 in /usr/local/lib/python3.11/dist-packages (from matplotlib->cleverhans) (0.12.1)\n",
            "Requirement already satisfied: fonttools>=4.22.0 in /usr/local/lib/python3.11/dist-packages (from matplotlib->cleverhans) (4.57.0)\n",
            "Requirement already satisfied: kiwisolver>=1.3.1 in /usr/local/lib/python3.11/dist-packages (from matplotlib->cleverhans) (1.4.8)\n",
            "Requirement already satisfied: packaging>=20.0 in /usr/local/lib/python3.11/dist-packages (from matplotlib->cleverhans) (24.2)\n",
            "Requirement already satisfied: pillow>=8 in /usr/local/lib/python3.11/dist-packages (from matplotlib->cleverhans) (11.1.0)\n",
            "Requirement already satisfied: pyparsing>=2.3.1 in /usr/local/lib/python3.11/dist-packages (from matplotlib->cleverhans) (3.2.3)\n",
            "Requirement already satisfied: python-dateutil>=2.7 in /usr/local/lib/python3.11/dist-packages (from matplotlib->cleverhans) (2.8.2)\n",
            "Requirement already satisfied: decorator in /usr/local/lib/python3.11/dist-packages (from tensorflow-probability->cleverhans) (4.4.2)\n",
            "Requirement already satisfied: cloudpickle>=1.3 in /usr/local/lib/python3.11/dist-packages (from tensorflow-probability->cleverhans) (3.1.1)\n",
            "Requirement already satisfied: gast>=0.3.2 in /usr/local/lib/python3.11/dist-packages (from tensorflow-probability->cleverhans) (0.6.0)\n",
            "Requirement already satisfied: dm-tree in /usr/local/lib/python3.11/dist-packages (from tensorflow-probability->cleverhans) (0.1.9)\n",
            "Requirement already satisfied: attrs>=18.2.0 in /usr/local/lib/python3.11/dist-packages (from dm-tree->tensorflow-probability->cleverhans) (25.3.0)\n",
            "Requirement already satisfied: wrapt>=1.11.2 in /usr/local/lib/python3.11/dist-packages (from dm-tree->tensorflow-probability->cleverhans) (1.17.2)\n",
            "Downloading cleverhans-4.0.0-py3-none-any.whl (92 kB)\n",
            "\u001b[2K   \u001b[90m━━━━━━━━━━━━━━━━━━━━━━━━━━━━━━━━━━━━━━━━\u001b[0m \u001b[32m92.3/92.3 kB\u001b[0m \u001b[31m5.5 MB/s\u001b[0m eta \u001b[36m0:00:00\u001b[0m\n",
            "\u001b[?25hDownloading mnist-0.2.2-py2.py3-none-any.whl (3.5 kB)\n",
            "Downloading nose-1.3.7-py3-none-any.whl (154 kB)\n",
            "\u001b[2K   \u001b[90m━━━━━━━━━━━━━━━━━━━━━━━━━━━━━━━━━━━━━━━━\u001b[0m \u001b[32m154.7/154.7 kB\u001b[0m \u001b[31m10.9 MB/s\u001b[0m eta \u001b[36m0:00:00\u001b[0m\n",
            "\u001b[?25hDownloading pycodestyle-2.13.0-py2.py3-none-any.whl (31 kB)\n",
            "Installing collected packages: nose, pycodestyle, mnist, cleverhans\n",
            "Successfully installed cleverhans-4.0.0 mnist-0.2.2 nose-1.3.7 pycodestyle-2.13.0\n"
          ]
        }
      ]
    },
    {
      "cell_type": "markdown",
      "source": [
        "**Injection adversarial FGSM Attacks**"
      ],
      "metadata": {
        "id": "i3mzq_Tmyha0"
      }
    },
    {
      "cell_type": "code",
      "source": [
        "import time\n",
        "import numpy as np\n",
        "from sklearn.metrics import classification_report, confusion_matrix, accuracy_score, precision_score, recall_score, f1_score\n",
        "from cleverhans.tf2.attacks.fast_gradient_method import fast_gradient_method # Import the actual function\n",
        "from cleverhans.tf2.attacks.projected_gradient_descent import projected_gradient_descent # Import the actual function\n",
        "\n",
        "# Adversarial config\n",
        "USE_ADVERSARIAL = True\n",
        "ATTACK_TYPE = 'fgsm'  # or 'pgd'\n",
        "ADV_CLIENTS = [0, 2]  # clients to inject adversarial samples\n",
        "EPSILON = 0.1\n",
        "\n",
        "# Function to generate FGSM or PGD adversarial examples\n",
        "def generate_adversarial(model, x, y, attack_type='fgsm', eps=0.1):\n",
        "    if attack_type == 'fgsm':\n",
        "        return fast_gradient_method(model_fn=model, x=x, eps=eps, norm=np.inf) # Call with correct arguments\n",
        "    elif attack_type == 'pgd':\n",
        "        return projected_gradient_descent(model_fn=model, x=x, eps=eps, eps_iter=0.01, nb_iter=40, norm=np.inf) # Call with correct arguments\n",
        "    return x\n",
        "\n",
        "# Function to evaluate the global model\n",
        "def evaluate_global_model(global_model, X_test, y_test):\n",
        "    y_pred = global_model.predict(X_test)\n",
        "    y_pred_classes = np.argmax(y_pred, axis=1)\n",
        "    y_true_classes = np.argmax(y_test, axis=1)\n",
        "    accuracy = accuracy_score(y_true_classes, y_pred_classes)\n",
        "    precision = precision_score(y_true_classes, y_pred_classes, average='weighted')\n",
        "    recall = recall_score(y_true_classes, y_pred_classes, average='weighted')\n",
        "    f1 = f1_score(y_true_classes, y_pred_classes, average='weighted')\n",
        "    cm = confusion_matrix(y_true_classes, y_pred_classes)\n",
        "    print(\"\\nModel Performance Metrics:\")\n",
        "    print(f\"Accuracy: {accuracy:.10f}\")\n",
        "    print(f\"Precision: {precision:.10f}\")\n",
        "    print(f\"Recall: {recall:.10f}\")\n",
        "    print(f\"F1-Score: {f1:.10f}\")\n",
        "    print(\"\\nConfusion Matrix:\")\n",
        "    print(cm)\n",
        "    return accuracy, precision, recall, f1\n",
        "\n",
        "# Function to analyze communication overhead\n",
        "def analyze_communication_overhead(local_weights, global_weights):\n",
        "    communication_cost = sum(sum(w.nbytes for w in lw) for lw in local_weights)\n",
        "    communication_cost += sum(w.nbytes for w in global_weights)\n",
        "    print(f\"\\nCommunication Overhead: {communication_cost / (1024 ** 2):.2f} MB\")\n",
        "\n",
        "# Federated Learning Simulation with optional adversarial injection\n",
        "def federated_learning_simulation(X_train, y_train, X_test, y_test, num_clients=5):\n",
        "    client_data = np.array_split(X_train, num_clients)\n",
        "    client_labels = np.array_split(y_train, num_clients)\n",
        "    global_model = build_hybrid_model(input_shape, num_classes)\n",
        "    global_model.compile(optimizer='adam', loss='categorical_crossentropy', metrics=['accuracy'])\n",
        "    global_weights = global_model.get_weights()\n",
        "    communication_overhead = []\n",
        "    latency_per_round = []\n",
        "\n",
        "    for round in range(30):\n",
        "        local_weights = []\n",
        "        start_time = time.time()\n",
        "\n",
        "        for i in range(num_clients):\n",
        "            local_model = build_hybrid_model(input_shape, num_classes)\n",
        "            local_model.set_weights(global_weights)\n",
        "            local_model.compile(optimizer='adam', loss='categorical_crossentropy', metrics=['accuracy'])\n",
        "\n",
        "            # Inject adversarial examples if enabled\n",
        "            if USE_ADVERSARIAL and i in ADV_CLIENTS:\n",
        "                print(f\"Injecting {ATTACK_TYPE.upper()} adversarial samples into Client {i}\")\n",
        "                client_data[i] = generate_adversarial(local_model, client_data[i], client_labels[i], attack_type=ATTACK_TYPE, eps=EPSILON)\n",
        "\n",
        "            local_model.fit(client_data[i], client_labels[i], epochs=1, batch_size=32, verbose=0)\n",
        "            local_weights.append(local_model.get_weights())\n",
        "\n",
        "        global_weights = [\n",
        "            np.mean([local_weights[j][i] for j in range(num_clients)], axis=0)\n",
        "            for i in range(len(global_weights))\n",
        "        ]\n",
        "        global_model.set_weights(global_weights)\n",
        "\n",
        "        end_time = time.time()\n",
        "        latency = end_time - start_time\n",
        "        latency_per_round.append(latency)\n",
        "\n",
        "        analyze_communication_overhead(local_weights, global_weights)\n",
        "\n",
        "        loss, acc = global_model.evaluate(X_test, y_test, verbose=0)\n",
        "        print(f\"\\nRound {round + 1}: Global Model Accuracy = {acc:.10f}\")\n",
        "        evaluate_global_model(global_model, X_test, y_test)\n",
        "\n",
        "    print(\"\\nLatency Analysis:\")\n",
        "    print(f\"Average Latency per Round: {np.mean(latency_per_round):.2f} seconds\")\n",
        "    print(f\"Total Latency for 50 Rounds: {np.sum(latency_per_round):.2f} seconds\")\n",
        "\n",
        "# Call the simulation\n",
        "federated_learning_simulation(X_train, y_train, X_test, y_test)"
      ],
      "metadata": {
        "colab": {
          "base_uri": "https://localhost:8080/"
        },
        "id": "j_Rde424s2lw",
        "outputId": "79c26370-a431-4156-c3f1-4a0e1799e631"
      },
      "execution_count": null,
      "outputs": [
        {
          "output_type": "stream",
          "name": "stdout",
          "text": [
            "Injecting FGSM adversarial samples into Client 0\n",
            "Injecting FGSM adversarial samples into Client 2\n",
            "\n",
            "Communication Overhead: 0.77 MB\n",
            "\n",
            "Round 1: Global Model Accuracy = 0.5813411474\n",
            "\u001b[1m6572/6572\u001b[0m \u001b[32m━━━━━━━━━━━━━━━━━━━━\u001b[0m\u001b[37m\u001b[0m \u001b[1m25s\u001b[0m 4ms/step\n",
            "\n",
            "Model Performance Metrics:\n",
            "Accuracy: 0.5813411578\n",
            "Precision: 0.5888156288\n",
            "Recall: 0.5813411578\n",
            "F1-Score: 0.5653783842\n",
            "\n",
            "Confusion Matrix:\n",
            "[[23962 19986  5717  2905]\n",
            " [14051 28350  3472  6697]\n",
            " [ 7624 20786 17630  6530]\n",
            " [    0   268     0 52303]]\n",
            "Injecting FGSM adversarial samples into Client 0\n"
          ]
        },
        {
          "output_type": "stream",
          "name": "stderr",
          "text": [
            "/usr/local/lib/python3.11/dist-packages/keras/src/layers/core/input_layer.py:27: UserWarning: Argument `input_shape` is deprecated. Use `shape` instead.\n",
            "  warnings.warn(\n"
          ]
        },
        {
          "output_type": "stream",
          "name": "stdout",
          "text": [
            "Injecting FGSM adversarial samples into Client 2\n",
            "\n",
            "Communication Overhead: 0.77 MB\n",
            "\n",
            "Round 2: Global Model Accuracy = 0.8288718462\n",
            "\u001b[1m6572/6572\u001b[0m \u001b[32m━━━━━━━━━━━━━━━━━━━━\u001b[0m\u001b[37m\u001b[0m \u001b[1m24s\u001b[0m 4ms/step\n",
            "\n",
            "Model Performance Metrics:\n",
            "Accuracy: 0.8288718429\n",
            "Precision: 0.8269974513\n",
            "Recall: 0.8288718429\n",
            "F1-Score: 0.8251439134\n",
            "\n",
            "Confusion Matrix:\n",
            "[[38415  8640  5487    28]\n",
            " [ 8176 37424  1650  5320]\n",
            " [ 1105   413 46377  4675]\n",
            " [    0     0   491 52080]]\n",
            "Injecting FGSM adversarial samples into Client 0\n"
          ]
        },
        {
          "output_type": "stream",
          "name": "stderr",
          "text": [
            "/usr/local/lib/python3.11/dist-packages/keras/src/layers/core/input_layer.py:27: UserWarning: Argument `input_shape` is deprecated. Use `shape` instead.\n",
            "  warnings.warn(\n",
            "WARNING:tensorflow:5 out of the last 5 calls to <function compute_gradient at 0x7ee6a8c3f1a0> triggered tf.function retracing. Tracing is expensive and the excessive number of tracings could be due to (1) creating @tf.function repeatedly in a loop, (2) passing tensors with different shapes, (3) passing Python objects instead of tensors. For (1), please define your @tf.function outside of the loop. For (2), @tf.function has reduce_retracing=True option that can avoid unnecessary retracing. For (3), please refer to https://www.tensorflow.org/guide/function#controlling_retracing and https://www.tensorflow.org/api_docs/python/tf/function for  more details.\n"
          ]
        },
        {
          "output_type": "stream",
          "name": "stdout",
          "text": [
            "Injecting FGSM adversarial samples into Client 2\n"
          ]
        },
        {
          "output_type": "stream",
          "name": "stderr",
          "text": [
            "WARNING:tensorflow:6 out of the last 6 calls to <function compute_gradient at 0x7ee6a8c3f1a0> triggered tf.function retracing. Tracing is expensive and the excessive number of tracings could be due to (1) creating @tf.function repeatedly in a loop, (2) passing tensors with different shapes, (3) passing Python objects instead of tensors. For (1), please define your @tf.function outside of the loop. For (2), @tf.function has reduce_retracing=True option that can avoid unnecessary retracing. For (3), please refer to https://www.tensorflow.org/guide/function#controlling_retracing and https://www.tensorflow.org/api_docs/python/tf/function for  more details.\n"
          ]
        },
        {
          "output_type": "stream",
          "name": "stdout",
          "text": [
            "\n",
            "Communication Overhead: 0.77 MB\n",
            "\n",
            "Round 3: Global Model Accuracy = 0.8384494781\n",
            "\u001b[1m6572/6572\u001b[0m \u001b[32m━━━━━━━━━━━━━━━━━━━━\u001b[0m\u001b[37m\u001b[0m \u001b[1m24s\u001b[0m 4ms/step\n",
            "\n",
            "Model Performance Metrics:\n",
            "Accuracy: 0.8384495033\n",
            "Precision: 0.8361392834\n",
            "Recall: 0.8384495033\n",
            "F1-Score: 0.8341867941\n",
            "\n",
            "Confusion Matrix:\n",
            "[[35754  9928  6884     4]\n",
            " [ 7132 39915   221  5302]\n",
            " [  225   921 49158  2266]\n",
            " [    0     0  1088 51483]]\n",
            "Injecting FGSM adversarial samples into Client 0\n"
          ]
        },
        {
          "output_type": "stream",
          "name": "stderr",
          "text": [
            "/usr/local/lib/python3.11/dist-packages/keras/src/layers/core/input_layer.py:27: UserWarning: Argument `input_shape` is deprecated. Use `shape` instead.\n",
            "  warnings.warn(\n"
          ]
        },
        {
          "output_type": "stream",
          "name": "stdout",
          "text": [
            "Injecting FGSM adversarial samples into Client 2\n",
            "\n",
            "Communication Overhead: 0.77 MB\n",
            "\n",
            "Round 4: Global Model Accuracy = 0.8615995049\n",
            "\u001b[1m6572/6572\u001b[0m \u001b[32m━━━━━━━━━━━━━━━━━━━━\u001b[0m\u001b[37m\u001b[0m \u001b[1m24s\u001b[0m 4ms/step\n",
            "\n",
            "Model Performance Metrics:\n",
            "Accuracy: 0.8615994788\n",
            "Precision: 0.8745083568\n",
            "Recall: 0.8615994788\n",
            "F1-Score: 0.8567023324\n",
            "\n",
            "Confusion Matrix:\n",
            "[[33304 12828  6438     0]\n",
            " [  548 46609   208  5205]\n",
            " [  158   666 49699  2047]\n",
            " [    0     5  1000 51566]]\n",
            "Injecting FGSM adversarial samples into Client 0\n"
          ]
        },
        {
          "output_type": "stream",
          "name": "stderr",
          "text": [
            "/usr/local/lib/python3.11/dist-packages/keras/src/layers/core/input_layer.py:27: UserWarning: Argument `input_shape` is deprecated. Use `shape` instead.\n",
            "  warnings.warn(\n"
          ]
        },
        {
          "output_type": "stream",
          "name": "stdout",
          "text": [
            "Injecting FGSM adversarial samples into Client 2\n",
            "\n",
            "Communication Overhead: 0.77 MB\n",
            "\n",
            "Round 5: Global Model Accuracy = 0.8604866862\n",
            "\u001b[1m6572/6572\u001b[0m \u001b[32m━━━━━━━━━━━━━━━━━━━━\u001b[0m\u001b[37m\u001b[0m \u001b[1m24s\u001b[0m 4ms/step\n",
            "\n",
            "Model Performance Metrics:\n",
            "Accuracy: 0.8604866821\n",
            "Precision: 0.8586842922\n",
            "Recall: 0.8604866821\n",
            "F1-Score: 0.8570503146\n",
            "\n",
            "Confusion Matrix:\n",
            "[[38458  8188  5923     1]\n",
            " [ 6481 40520   217  5352]\n",
            " [  198   260 50388  1724]\n",
            " [    0    67   926 51578]]\n",
            "Injecting FGSM adversarial samples into Client 0\n"
          ]
        },
        {
          "output_type": "stream",
          "name": "stderr",
          "text": [
            "/usr/local/lib/python3.11/dist-packages/keras/src/layers/core/input_layer.py:27: UserWarning: Argument `input_shape` is deprecated. Use `shape` instead.\n",
            "  warnings.warn(\n"
          ]
        },
        {
          "output_type": "stream",
          "name": "stdout",
          "text": [
            "Injecting FGSM adversarial samples into Client 2\n",
            "\n",
            "Communication Overhead: 0.77 MB\n",
            "\n",
            "Round 6: Global Model Accuracy = 0.8604676723\n",
            "\u001b[1m6572/6572\u001b[0m \u001b[32m━━━━━━━━━━━━━━━━━━━━\u001b[0m\u001b[37m\u001b[0m \u001b[1m23s\u001b[0m 4ms/step\n",
            "\n",
            "Model Performance Metrics:\n",
            "Accuracy: 0.8604676599\n",
            "Precision: 0.8666742705\n",
            "Recall: 0.8604676599\n",
            "F1-Score: 0.8562216330\n",
            "\n",
            "Confusion Matrix:\n",
            "[[34711 11491  6318    50]\n",
            " [ 2411 44713   370  5076]\n",
            " [   47   444 50416  1663]\n",
            " [    0   101  1370 51100]]\n",
            "Injecting FGSM adversarial samples into Client 0\n"
          ]
        },
        {
          "output_type": "stream",
          "name": "stderr",
          "text": [
            "/usr/local/lib/python3.11/dist-packages/keras/src/layers/core/input_layer.py:27: UserWarning: Argument `input_shape` is deprecated. Use `shape` instead.\n",
            "  warnings.warn(\n"
          ]
        },
        {
          "output_type": "stream",
          "name": "stdout",
          "text": [
            "Injecting FGSM adversarial samples into Client 2\n",
            "\n",
            "Communication Overhead: 0.77 MB\n",
            "\n",
            "Round 7: Global Model Accuracy = 0.8819293976\n",
            "\u001b[1m6572/6572\u001b[0m \u001b[32m━━━━━━━━━━━━━━━━━━━━\u001b[0m\u001b[37m\u001b[0m \u001b[1m23s\u001b[0m 4ms/step\n",
            "\n",
            "Model Performance Metrics:\n",
            "Accuracy: 0.8819294183\n",
            "Precision: 0.8916088243\n",
            "Recall: 0.8819294183\n",
            "F1-Score: 0.8787058731\n",
            "\n",
            "Confusion Matrix:\n",
            "[[36121 11683  4761     5]\n",
            " [  423 47594   394  4159]\n",
            " [  259    63 50804  1444]\n",
            " [    0    10  1627 50934]]\n",
            "Injecting FGSM adversarial samples into Client 0\n"
          ]
        },
        {
          "output_type": "stream",
          "name": "stderr",
          "text": [
            "/usr/local/lib/python3.11/dist-packages/keras/src/layers/core/input_layer.py:27: UserWarning: Argument `input_shape` is deprecated. Use `shape` instead.\n",
            "  warnings.warn(\n"
          ]
        },
        {
          "output_type": "stream",
          "name": "stdout",
          "text": [
            "Injecting FGSM adversarial samples into Client 2\n",
            "\n",
            "Communication Overhead: 0.77 MB\n",
            "\n",
            "Round 8: Global Model Accuracy = 0.8768267035\n",
            "\u001b[1m6572/6572\u001b[0m \u001b[32m━━━━━━━━━━━━━━━━━━━━\u001b[0m\u001b[37m\u001b[0m \u001b[1m23s\u001b[0m 4ms/step\n",
            "\n",
            "Model Performance Metrics:\n",
            "Accuracy: 0.8768267223\n",
            "Precision: 0.8823872239\n",
            "Recall: 0.8768267223\n",
            "F1-Score: 0.8732961945\n",
            "\n",
            "Confusion Matrix:\n",
            "[[36328 10110  6131     1]\n",
            " [ 2024 45932   275  4339]\n",
            " [   31    55 51039  1445]\n",
            " [    0     4  1486 51081]]\n",
            "Injecting FGSM adversarial samples into Client 0\n"
          ]
        },
        {
          "output_type": "stream",
          "name": "stderr",
          "text": [
            "/usr/local/lib/python3.11/dist-packages/keras/src/layers/core/input_layer.py:27: UserWarning: Argument `input_shape` is deprecated. Use `shape` instead.\n",
            "  warnings.warn(\n"
          ]
        },
        {
          "output_type": "stream",
          "name": "stdout",
          "text": [
            "Injecting FGSM adversarial samples into Client 2\n",
            "\n",
            "Communication Overhead: 0.77 MB\n",
            "\n",
            "Round 9: Global Model Accuracy = 0.8631640673\n",
            "\u001b[1m6572/6572\u001b[0m \u001b[32m━━━━━━━━━━━━━━━━━━━━\u001b[0m\u001b[37m\u001b[0m \u001b[1m23s\u001b[0m 4ms/step\n",
            "\n",
            "Model Performance Metrics:\n",
            "Accuracy: 0.8631640519\n",
            "Precision: 0.8617526386\n",
            "Recall: 0.8631640519\n",
            "F1-Score: 0.8601104976\n",
            "\n",
            "Confusion Matrix:\n",
            "[[38200  9114  5251     5]\n",
            " [ 6249 41740    62  4519]\n",
            " [   75    64 51103  1328]\n",
            " [    0     2  2105 50464]]\n",
            "Injecting FGSM adversarial samples into Client 0\n"
          ]
        },
        {
          "output_type": "stream",
          "name": "stderr",
          "text": [
            "/usr/local/lib/python3.11/dist-packages/keras/src/layers/core/input_layer.py:27: UserWarning: Argument `input_shape` is deprecated. Use `shape` instead.\n",
            "  warnings.warn(\n"
          ]
        },
        {
          "output_type": "stream",
          "name": "stdout",
          "text": [
            "Injecting FGSM adversarial samples into Client 2\n",
            "\n",
            "Communication Overhead: 0.77 MB\n",
            "\n",
            "Round 10: Global Model Accuracy = 0.8650139570\n",
            "\u001b[1m6572/6572\u001b[0m \u001b[32m━━━━━━━━━━━━━━━━━━━━\u001b[0m\u001b[37m\u001b[0m \u001b[1m23s\u001b[0m 3ms/step\n",
            "\n",
            "Model Performance Metrics:\n",
            "Accuracy: 0.8650139575\n",
            "Precision: 0.8636547826\n",
            "Recall: 0.8650139575\n",
            "F1-Score: 0.8625014935\n",
            "\n",
            "Confusion Matrix:\n",
            "[[38779  7970  5821     0]\n",
            " [ 7154 42111   148  3157]\n",
            " [  290    61 50954  1265]\n",
            " [    0    88  2431 50052]]\n",
            "Injecting FGSM adversarial samples into Client 0\n"
          ]
        },
        {
          "output_type": "stream",
          "name": "stderr",
          "text": [
            "/usr/local/lib/python3.11/dist-packages/keras/src/layers/core/input_layer.py:27: UserWarning: Argument `input_shape` is deprecated. Use `shape` instead.\n",
            "  warnings.warn(\n"
          ]
        },
        {
          "output_type": "stream",
          "name": "stdout",
          "text": [
            "Injecting FGSM adversarial samples into Client 2\n",
            "\n",
            "Communication Overhead: 0.77 MB\n",
            "\n",
            "Round 11: Global Model Accuracy = 0.8743015528\n",
            "\u001b[1m6572/6572\u001b[0m \u001b[32m━━━━━━━━━━━━━━━━━━━━\u001b[0m\u001b[37m\u001b[0m \u001b[1m23s\u001b[0m 4ms/step\n",
            "\n",
            "Model Performance Metrics:\n",
            "Accuracy: 0.8743015299\n",
            "Precision: 0.8727980648\n",
            "Recall: 0.8743015299\n",
            "F1-Score: 0.8720640375\n",
            "\n",
            "Confusion Matrix:\n",
            "[[40630  6844  5096     0]\n",
            " [ 7594 41550   269  3157]\n",
            " [   41    57 51164  1308]\n",
            " [    0    51  2015 50505]]\n",
            "Injecting FGSM adversarial samples into Client 0\n"
          ]
        },
        {
          "output_type": "stream",
          "name": "stderr",
          "text": [
            "/usr/local/lib/python3.11/dist-packages/keras/src/layers/core/input_layer.py:27: UserWarning: Argument `input_shape` is deprecated. Use `shape` instead.\n",
            "  warnings.warn(\n"
          ]
        },
        {
          "output_type": "stream",
          "name": "stdout",
          "text": [
            "Injecting FGSM adversarial samples into Client 2\n",
            "\n",
            "Communication Overhead: 0.77 MB\n",
            "\n",
            "Round 12: Global Model Accuracy = 0.8535055518\n",
            "\u001b[1m6572/6572\u001b[0m \u001b[32m━━━━━━━━━━━━━━━━━━━━\u001b[0m\u001b[37m\u001b[0m \u001b[1m23s\u001b[0m 3ms/step\n",
            "\n",
            "Model Performance Metrics:\n",
            "Accuracy: 0.8535055473\n",
            "Precision: 0.8508541952\n",
            "Recall: 0.8535055473\n",
            "F1-Score: 0.8497260658\n",
            "\n",
            "Confusion Matrix:\n",
            "[[37656  9380  5532     2]\n",
            " [ 7320 39845    21  5384]\n",
            " [  150    69 51443   908]\n",
            " [    0     0  2039 50532]]\n",
            "Injecting FGSM adversarial samples into Client 0\n"
          ]
        },
        {
          "output_type": "stream",
          "name": "stderr",
          "text": [
            "/usr/local/lib/python3.11/dist-packages/keras/src/layers/core/input_layer.py:27: UserWarning: Argument `input_shape` is deprecated. Use `shape` instead.\n",
            "  warnings.warn(\n"
          ]
        },
        {
          "output_type": "stream",
          "name": "stdout",
          "text": [
            "Injecting FGSM adversarial samples into Client 2\n",
            "\n",
            "Communication Overhead: 0.77 MB\n",
            "\n",
            "Round 13: Global Model Accuracy = 0.8728415966\n",
            "\u001b[1m6572/6572\u001b[0m \u001b[32m━━━━━━━━━━━━━━━━━━━━\u001b[0m\u001b[37m\u001b[0m \u001b[1m23s\u001b[0m 3ms/step\n",
            "\n",
            "Model Performance Metrics:\n",
            "Accuracy: 0.8728415786\n",
            "Precision: 0.8708572407\n",
            "Recall: 0.8728415786\n",
            "F1-Score: 0.8704557813\n",
            "\n",
            "Confusion Matrix:\n",
            "[[39735  7671  5164     0]\n",
            " [ 7331 42083    30  3126]\n",
            " [  105   104 50836  1525]\n",
            " [    0    54  1629 50888]]\n",
            "Injecting FGSM adversarial samples into Client 0\n"
          ]
        },
        {
          "output_type": "stream",
          "name": "stderr",
          "text": [
            "/usr/local/lib/python3.11/dist-packages/keras/src/layers/core/input_layer.py:27: UserWarning: Argument `input_shape` is deprecated. Use `shape` instead.\n",
            "  warnings.warn(\n"
          ]
        },
        {
          "output_type": "stream",
          "name": "stdout",
          "text": [
            "Injecting FGSM adversarial samples into Client 2\n",
            "\n",
            "Communication Overhead: 0.77 MB\n",
            "\n",
            "Round 14: Global Model Accuracy = 0.8702640533\n",
            "\u001b[1m6572/6572\u001b[0m \u001b[32m━━━━━━━━━━━━━━━━━━━━\u001b[0m\u001b[37m\u001b[0m \u001b[1m23s\u001b[0m 3ms/step\n",
            "\n",
            "Model Performance Metrics:\n",
            "Accuracy: 0.8702640752\n",
            "Precision: 0.8678574899\n",
            "Recall: 0.8702640752\n",
            "F1-Score: 0.8674987938\n",
            "\n",
            "Confusion Matrix:\n",
            "[[39797  7882  4889     2]\n",
            " [ 7476 40993    23  4078]\n",
            " [   56    99 50960  1455]\n",
            " [    0     7  1314 51250]]\n",
            "Injecting FGSM adversarial samples into Client 0\n"
          ]
        },
        {
          "output_type": "stream",
          "name": "stderr",
          "text": [
            "/usr/local/lib/python3.11/dist-packages/keras/src/layers/core/input_layer.py:27: UserWarning: Argument `input_shape` is deprecated. Use `shape` instead.\n",
            "  warnings.warn(\n"
          ]
        },
        {
          "output_type": "stream",
          "name": "stdout",
          "text": [
            "Injecting FGSM adversarial samples into Client 2\n",
            "\n",
            "Communication Overhead: 0.77 MB\n",
            "\n",
            "Round 15: Global Model Accuracy = 0.8563731313\n",
            "\u001b[1m6572/6572\u001b[0m \u001b[32m━━━━━━━━━━━━━━━━━━━━\u001b[0m\u001b[37m\u001b[0m \u001b[1m23s\u001b[0m 3ms/step\n",
            "\n",
            "Model Performance Metrics:\n",
            "Accuracy: 0.8563731388\n",
            "Precision: 0.8552789530\n",
            "Recall: 0.8563731388\n",
            "F1-Score: 0.8528269044\n",
            "\n",
            "Confusion Matrix:\n",
            "[[42030  6184  4356     0]\n",
            " [12333 35991    29  4217]\n",
            " [  298    91 50789  1392]\n",
            " [    0     7  1295 51269]]\n",
            "Injecting FGSM adversarial samples into Client 0\n"
          ]
        },
        {
          "output_type": "stream",
          "name": "stderr",
          "text": [
            "/usr/local/lib/python3.11/dist-packages/keras/src/layers/core/input_layer.py:27: UserWarning: Argument `input_shape` is deprecated. Use `shape` instead.\n",
            "  warnings.warn(\n"
          ]
        },
        {
          "output_type": "stream",
          "name": "stdout",
          "text": [
            "Injecting FGSM adversarial samples into Client 2\n",
            "\n",
            "Communication Overhead: 0.77 MB\n",
            "\n",
            "Round 16: Global Model Accuracy = 0.8734598160\n",
            "\u001b[1m6572/6572\u001b[0m \u001b[32m━━━━━━━━━━━━━━━━━━━━\u001b[0m\u001b[37m\u001b[0m \u001b[1m23s\u001b[0m 4ms/step\n",
            "\n",
            "Model Performance Metrics:\n",
            "Accuracy: 0.8734597990\n",
            "Precision: 0.8714835491\n",
            "Recall: 0.8734597990\n",
            "F1-Score: 0.8707651879\n",
            "\n",
            "Confusion Matrix:\n",
            "[[40421  6763  5386     0]\n",
            " [ 8409 40532   140  3489]\n",
            " [   38    62 52045   425]\n",
            " [    0   176  1721 50674]]\n",
            "Injecting FGSM adversarial samples into Client 0\n"
          ]
        },
        {
          "output_type": "stream",
          "name": "stderr",
          "text": [
            "/usr/local/lib/python3.11/dist-packages/keras/src/layers/core/input_layer.py:27: UserWarning: Argument `input_shape` is deprecated. Use `shape` instead.\n",
            "  warnings.warn(\n"
          ]
        },
        {
          "output_type": "stream",
          "name": "stdout",
          "text": [
            "Injecting FGSM adversarial samples into Client 2\n",
            "\n",
            "Communication Overhead: 0.77 MB\n",
            "\n",
            "Round 17: Global Model Accuracy = 0.8668733835\n",
            "\u001b[1m6572/6572\u001b[0m \u001b[32m━━━━━━━━━━━━━━━━━━━━\u001b[0m\u001b[37m\u001b[0m \u001b[1m23s\u001b[0m 3ms/step\n",
            "\n",
            "Model Performance Metrics:\n",
            "Accuracy: 0.8668733742\n",
            "Precision: 0.8651116705\n",
            "Recall: 0.8668733742\n",
            "F1-Score: 0.8640235387\n",
            "\n",
            "Confusion Matrix:\n",
            "[[41583  6276  4711     0]\n",
            " [ 9842 38635    26  4067]\n",
            " [  123    55 51191  1201]\n",
            " [    0     7  1686 50878]]\n",
            "Injecting FGSM adversarial samples into Client 0\n"
          ]
        },
        {
          "output_type": "stream",
          "name": "stderr",
          "text": [
            "/usr/local/lib/python3.11/dist-packages/keras/src/layers/core/input_layer.py:27: UserWarning: Argument `input_shape` is deprecated. Use `shape` instead.\n",
            "  warnings.warn(\n"
          ]
        },
        {
          "output_type": "stream",
          "name": "stdout",
          "text": [
            "Injecting FGSM adversarial samples into Client 2\n",
            "\n",
            "Communication Overhead: 0.77 MB\n",
            "\n",
            "Round 18: Global Model Accuracy = 0.8568581939\n",
            "\u001b[1m6572/6572\u001b[0m \u001b[32m━━━━━━━━━━━━━━━━━━━━\u001b[0m\u001b[37m\u001b[0m \u001b[1m24s\u001b[0m 4ms/step\n",
            "\n",
            "Model Performance Metrics:\n",
            "Accuracy: 0.8568582040\n",
            "Precision: 0.8557389477\n",
            "Recall: 0.8568582040\n",
            "F1-Score: 0.8539921570\n",
            "\n",
            "Confusion Matrix:\n",
            "[[41791  6554  4225     0]\n",
            " [12203 36889    92  3386]\n",
            " [  446    57 50790  1277]\n",
            " [    0    21  1839 50711]]\n",
            "Injecting FGSM adversarial samples into Client 0\n"
          ]
        },
        {
          "output_type": "stream",
          "name": "stderr",
          "text": [
            "/usr/local/lib/python3.11/dist-packages/keras/src/layers/core/input_layer.py:27: UserWarning: Argument `input_shape` is deprecated. Use `shape` instead.\n",
            "  warnings.warn(\n"
          ]
        },
        {
          "output_type": "stream",
          "name": "stdout",
          "text": [
            "Injecting FGSM adversarial samples into Client 2\n",
            "\n",
            "Communication Overhead: 0.77 MB\n",
            "\n",
            "Round 19: Global Model Accuracy = 0.8570199013\n",
            "\u001b[1m6572/6572\u001b[0m \u001b[32m━━━━━━━━━━━━━━━━━━━━\u001b[0m\u001b[37m\u001b[0m \u001b[1m24s\u001b[0m 4ms/step\n",
            "\n",
            "Model Performance Metrics:\n",
            "Accuracy: 0.8570198924\n",
            "Precision: 0.8555430897\n",
            "Recall: 0.8570198924\n",
            "F1-Score: 0.8540100784\n",
            "\n",
            "Confusion Matrix:\n",
            "[[41496  6705  4369     0]\n",
            " [12297 36883    30  3360]\n",
            " [  225    59 51106  1180]\n",
            " [    0    24  1817 50730]]\n",
            "Injecting FGSM adversarial samples into Client 0\n"
          ]
        },
        {
          "output_type": "stream",
          "name": "stderr",
          "text": [
            "/usr/local/lib/python3.11/dist-packages/keras/src/layers/core/input_layer.py:27: UserWarning: Argument `input_shape` is deprecated. Use `shape` instead.\n",
            "  warnings.warn(\n"
          ]
        },
        {
          "output_type": "stream",
          "name": "stdout",
          "text": [
            "Injecting FGSM adversarial samples into Client 2\n",
            "\n",
            "Communication Overhead: 0.77 MB\n",
            "\n",
            "Round 20: Global Model Accuracy = 0.8678387403\n",
            "\u001b[1m6572/6572\u001b[0m \u001b[32m━━━━━━━━━━━━━━━━━━━━\u001b[0m\u001b[37m\u001b[0m \u001b[1m23s\u001b[0m 4ms/step\n",
            "\n",
            "Model Performance Metrics:\n",
            "Accuracy: 0.8678387491\n",
            "Precision: 0.8680787029\n",
            "Recall: 0.8678387491\n",
            "F1-Score: 0.8650911599\n",
            "\n",
            "Confusion Matrix:\n",
            "[[43323  5241  4006     0]\n",
            " [11947 37220    41  3362]\n",
            " [  221    47 51033  1269]\n",
            " [    0    21  1636 50914]]\n",
            "Injecting FGSM adversarial samples into Client 0\n"
          ]
        },
        {
          "output_type": "stream",
          "name": "stderr",
          "text": [
            "/usr/local/lib/python3.11/dist-packages/keras/src/layers/core/input_layer.py:27: UserWarning: Argument `input_shape` is deprecated. Use `shape` instead.\n",
            "  warnings.warn(\n"
          ]
        },
        {
          "output_type": "stream",
          "name": "stdout",
          "text": [
            "Injecting FGSM adversarial samples into Client 2\n",
            "\n",
            "Communication Overhead: 0.77 MB\n",
            "\n",
            "Round 21: Global Model Accuracy = 0.8443320990\n",
            "\u001b[1m6572/6572\u001b[0m \u001b[32m━━━━━━━━━━━━━━━━━━━━\u001b[0m\u001b[37m\u001b[0m \u001b[1m24s\u001b[0m 4ms/step\n",
            "\n",
            "Model Performance Metrics:\n",
            "Accuracy: 0.8443321080\n",
            "Precision: 0.8462048218\n",
            "Recall: 0.8443321080\n",
            "F1-Score: 0.8384170991\n",
            "\n",
            "Confusion Matrix:\n",
            "[[43170  5340  4060     0]\n",
            " [15647 31743    29  5151]\n",
            " [  187    62 51974   347]\n",
            " [    0     0  1911 50660]]\n",
            "Injecting FGSM adversarial samples into Client 0\n"
          ]
        },
        {
          "output_type": "stream",
          "name": "stderr",
          "text": [
            "/usr/local/lib/python3.11/dist-packages/keras/src/layers/core/input_layer.py:27: UserWarning: Argument `input_shape` is deprecated. Use `shape` instead.\n",
            "  warnings.warn(\n"
          ]
        },
        {
          "output_type": "stream",
          "name": "stdout",
          "text": [
            "Injecting FGSM adversarial samples into Client 2\n",
            "\n",
            "Communication Overhead: 0.77 MB\n",
            "\n",
            "Round 22: Global Model Accuracy = 0.8587604165\n",
            "\u001b[1m6572/6572\u001b[0m \u001b[32m━━━━━━━━━━━━━━━━━━━━\u001b[0m\u001b[37m\u001b[0m \u001b[1m25s\u001b[0m 4ms/step\n",
            "\n",
            "Model Performance Metrics:\n",
            "Accuracy: 0.8587604206\n",
            "Precision: 0.8580737958\n",
            "Recall: 0.8587604206\n",
            "F1-Score: 0.8557979535\n",
            "\n",
            "Confusion Matrix:\n",
            "[[42582  6165  3823     0]\n",
            " [12113 36618    27  3812]\n",
            " [  406   111 50058  1995]\n",
            " [    0    34  1214 51323]]\n",
            "Injecting FGSM adversarial samples into Client 0\n"
          ]
        },
        {
          "output_type": "stream",
          "name": "stderr",
          "text": [
            "/usr/local/lib/python3.11/dist-packages/keras/src/layers/core/input_layer.py:27: UserWarning: Argument `input_shape` is deprecated. Use `shape` instead.\n",
            "  warnings.warn(\n"
          ]
        },
        {
          "output_type": "stream",
          "name": "stdout",
          "text": [
            "Injecting FGSM adversarial samples into Client 2\n",
            "\n",
            "Communication Overhead: 0.77 MB\n",
            "\n",
            "Round 23: Global Model Accuracy = 0.8602964878\n",
            "\u001b[1m6572/6572\u001b[0m \u001b[32m━━━━━━━━━━━━━━━━━━━━\u001b[0m\u001b[37m\u001b[0m \u001b[1m25s\u001b[0m 4ms/step\n",
            "\n",
            "Model Performance Metrics:\n",
            "Accuracy: 0.8602964605\n",
            "Precision: 0.8600588585\n",
            "Recall: 0.8602964605\n",
            "F1-Score: 0.8576824729\n",
            "\n",
            "Confusion Matrix:\n",
            "[[42812  6243  3515     0]\n",
            " [12058 36990    11  3511]\n",
            " [  653    95 49335  2487]\n",
            " [    0    13   791 51767]]\n",
            "Injecting FGSM adversarial samples into Client 0\n"
          ]
        },
        {
          "output_type": "stream",
          "name": "stderr",
          "text": [
            "/usr/local/lib/python3.11/dist-packages/keras/src/layers/core/input_layer.py:27: UserWarning: Argument `input_shape` is deprecated. Use `shape` instead.\n",
            "  warnings.warn(\n"
          ]
        },
        {
          "output_type": "stream",
          "name": "stdout",
          "text": [
            "Injecting FGSM adversarial samples into Client 2\n",
            "\n",
            "Communication Overhead: 0.77 MB\n",
            "\n",
            "Round 24: Global Model Accuracy = 0.8563588858\n",
            "\u001b[1m6572/6572\u001b[0m \u001b[32m━━━━━━━━━━━━━━━━━━━━\u001b[0m\u001b[37m\u001b[0m \u001b[1m25s\u001b[0m 4ms/step\n",
            "\n",
            "Model Performance Metrics:\n",
            "Accuracy: 0.8563588722\n",
            "Precision: 0.8578919622\n",
            "Recall: 0.8563588722\n",
            "F1-Score: 0.8532306261\n",
            "\n",
            "Confusion Matrix:\n",
            "[[43891  5536  3143     0]\n",
            " [13001 35318    21  4230]\n",
            " [ 1049    55 49830  1636]\n",
            " [    0     7  1527 51037]]\n",
            "Injecting FGSM adversarial samples into Client 0\n"
          ]
        },
        {
          "output_type": "stream",
          "name": "stderr",
          "text": [
            "/usr/local/lib/python3.11/dist-packages/keras/src/layers/core/input_layer.py:27: UserWarning: Argument `input_shape` is deprecated. Use `shape` instead.\n",
            "  warnings.warn(\n"
          ]
        },
        {
          "output_type": "stream",
          "name": "stdout",
          "text": [
            "Injecting FGSM adversarial samples into Client 2\n",
            "\n",
            "Communication Overhead: 0.77 MB\n",
            "\n",
            "Round 25: Global Model Accuracy = 0.8482839465\n",
            "\u001b[1m6572/6572\u001b[0m \u001b[32m━━━━━━━━━━━━━━━━━━━━\u001b[0m\u001b[37m\u001b[0m \u001b[1m25s\u001b[0m 4ms/step\n",
            "\n",
            "Model Performance Metrics:\n",
            "Accuracy: 0.8482839629\n",
            "Precision: 0.8507150495\n",
            "Recall: 0.8482839629\n",
            "F1-Score: 0.8458842435\n",
            "\n",
            "Confusion Matrix:\n",
            "[[42831  5574  4162     3]\n",
            " [13584 35766    31  3189]\n",
            " [ 1834    54 48368  2314]\n",
            " [    0    35  1123 51413]]\n",
            "Injecting FGSM adversarial samples into Client 0\n"
          ]
        },
        {
          "output_type": "stream",
          "name": "stderr",
          "text": [
            "/usr/local/lib/python3.11/dist-packages/keras/src/layers/core/input_layer.py:27: UserWarning: Argument `input_shape` is deprecated. Use `shape` instead.\n",
            "  warnings.warn(\n"
          ]
        },
        {
          "output_type": "stream",
          "name": "stdout",
          "text": [
            "Injecting FGSM adversarial samples into Client 2\n",
            "\n",
            "Communication Overhead: 0.77 MB\n",
            "\n",
            "Round 26: Global Model Accuracy = 0.8583039045\n",
            "\u001b[1m6572/6572\u001b[0m \u001b[32m━━━━━━━━━━━━━━━━━━━━\u001b[0m\u001b[37m\u001b[0m \u001b[1m25s\u001b[0m 4ms/step\n",
            "\n",
            "Model Performance Metrics:\n",
            "Accuracy: 0.8583038886\n",
            "Precision: 0.8584100127\n",
            "Recall: 0.8583038886\n",
            "F1-Score: 0.8562140219\n",
            "\n",
            "Confusion Matrix:\n",
            "[[42792  6172  3601     5]\n",
            " [12390 37264    92  2824]\n",
            " [  971    53 49797  1749]\n",
            " [    0   227  1712 50632]]\n",
            "Injecting FGSM adversarial samples into Client 0\n"
          ]
        },
        {
          "output_type": "stream",
          "name": "stderr",
          "text": [
            "/usr/local/lib/python3.11/dist-packages/keras/src/layers/core/input_layer.py:27: UserWarning: Argument `input_shape` is deprecated. Use `shape` instead.\n",
            "  warnings.warn(\n"
          ]
        },
        {
          "output_type": "stream",
          "name": "stdout",
          "text": [
            "Injecting FGSM adversarial samples into Client 2\n",
            "\n",
            "Communication Overhead: 0.77 MB\n",
            "\n",
            "Round 27: Global Model Accuracy = 0.8478987813\n",
            "\u001b[1m6572/6572\u001b[0m \u001b[32m━━━━━━━━━━━━━━━━━━━━\u001b[0m\u001b[37m\u001b[0m \u001b[1m25s\u001b[0m 4ms/step\n",
            "\n",
            "Model Performance Metrics:\n",
            "Accuracy: 0.8478987640\n",
            "Precision: 0.8478455147\n",
            "Recall: 0.8478987640\n",
            "F1-Score: 0.8452860267\n",
            "\n",
            "Confusion Matrix:\n",
            "[[42008  6340  4222     0]\n",
            " [12513 36317    57  3683]\n",
            " [ 1142    69 49949  1410]\n",
            " [    0   152  2396 50023]]\n",
            "Injecting FGSM adversarial samples into Client 0\n"
          ]
        },
        {
          "output_type": "stream",
          "name": "stderr",
          "text": [
            "/usr/local/lib/python3.11/dist-packages/keras/src/layers/core/input_layer.py:27: UserWarning: Argument `input_shape` is deprecated. Use `shape` instead.\n",
            "  warnings.warn(\n"
          ]
        },
        {
          "output_type": "stream",
          "name": "stdout",
          "text": [
            "Injecting FGSM adversarial samples into Client 2\n",
            "\n",
            "Communication Overhead: 0.77 MB\n",
            "\n",
            "Round 28: Global Model Accuracy = 0.8299703598\n",
            "\u001b[1m6572/6572\u001b[0m \u001b[32m━━━━━━━━━━━━━━━━━━━━\u001b[0m\u001b[37m\u001b[0m \u001b[1m26s\u001b[0m 4ms/step\n",
            "\n",
            "Model Performance Metrics:\n",
            "Accuracy: 0.8299703730\n",
            "Precision: 0.8311531330\n",
            "Recall: 0.8299703730\n",
            "F1-Score: 0.8282944605\n",
            "\n",
            "Confusion Matrix:\n",
            "[[41251  6902  4406    11]\n",
            " [12402 36627    18  3523]\n",
            " [ 3246   266 45850  3208]\n",
            " [    0   245  1527 50799]]\n",
            "Injecting FGSM adversarial samples into Client 0\n"
          ]
        },
        {
          "output_type": "stream",
          "name": "stderr",
          "text": [
            "/usr/local/lib/python3.11/dist-packages/keras/src/layers/core/input_layer.py:27: UserWarning: Argument `input_shape` is deprecated. Use `shape` instead.\n",
            "  warnings.warn(\n"
          ]
        },
        {
          "output_type": "stream",
          "name": "stdout",
          "text": [
            "Injecting FGSM adversarial samples into Client 2\n",
            "\n",
            "Communication Overhead: 0.77 MB\n",
            "\n",
            "Round 29: Global Model Accuracy = 0.8504667282\n",
            "\u001b[1m6572/6572\u001b[0m \u001b[32m━━━━━━━━━━━━━━━━━━━━\u001b[0m\u001b[37m\u001b[0m \u001b[1m25s\u001b[0m 4ms/step\n",
            "\n",
            "Model Performance Metrics:\n",
            "Accuracy: 0.8504667564\n",
            "Precision: 0.8534695773\n",
            "Recall: 0.8504667564\n",
            "F1-Score: 0.8490733298\n",
            "\n",
            "Confusion Matrix:\n",
            "[[43508  5906  3130    26]\n",
            " [12408 36814     4  3344]\n",
            " [ 3177    56 47515  1822]\n",
            " [    0   202  1369 51000]]\n",
            "Injecting FGSM adversarial samples into Client 0\n"
          ]
        },
        {
          "output_type": "stream",
          "name": "stderr",
          "text": [
            "/usr/local/lib/python3.11/dist-packages/keras/src/layers/core/input_layer.py:27: UserWarning: Argument `input_shape` is deprecated. Use `shape` instead.\n",
            "  warnings.warn(\n"
          ]
        },
        {
          "output_type": "stream",
          "name": "stdout",
          "text": [
            "Injecting FGSM adversarial samples into Client 2\n",
            "\n",
            "Communication Overhead: 0.77 MB\n",
            "\n",
            "Round 30: Global Model Accuracy = 0.8141629696\n",
            "\u001b[1m6572/6572\u001b[0m \u001b[32m━━━━━━━━━━━━━━━━━━━━\u001b[0m\u001b[37m\u001b[0m \u001b[1m25s\u001b[0m 4ms/step\n",
            "\n",
            "Model Performance Metrics:\n",
            "Accuracy: 0.8141629534\n",
            "Precision: 0.8265583717\n",
            "Recall: 0.8141629534\n",
            "F1-Score: 0.8136464523\n",
            "\n",
            "Confusion Matrix:\n",
            "[[43509  5892  3151    18]\n",
            " [13215 35218    41  4096]\n",
            " [ 8592    56 41081  2841]\n",
            " [    0   142  1034 51395]]\n",
            "\n",
            "Latency Analysis:\n",
            "Average Latency per Round: 262.27 seconds\n",
            "Total Latency for 50 Rounds: 7868.20 seconds\n"
          ]
        }
      ]
    },
    {
      "cell_type": "markdown",
      "source": [
        "**Injection adversarial PGD Attacks**"
      ],
      "metadata": {
        "id": "uBDjWa3KyUB_"
      }
    },
    {
      "cell_type": "code",
      "source": [
        "import time\n",
        "import numpy as np\n",
        "from sklearn.metrics import classification_report, confusion_matrix, accuracy_score, precision_score, recall_score, f1_score\n",
        "from cleverhans.tf2.attacks.fast_gradient_method import fast_gradient_method # Import the actual function\n",
        "from cleverhans.tf2.attacks.projected_gradient_descent import projected_gradient_descent # Import the actual function\n",
        "\n",
        "# Adversarial config\n",
        "USE_ADVERSARIAL = True\n",
        "ATTACK_TYPE = 'pgd'  # or 'pgd'\n",
        "ADV_CLIENTS = [0, 2]  # clients to inject adversarial samples\n",
        "EPSILON = 0.1\n",
        "\n",
        "# Function to generate FGSM or PGD adversarial examples\n",
        "def generate_adversarial(model, x, y, attack_type='fgsm', eps=0.1):\n",
        "    if attack_type == 'fgsm':\n",
        "        return fast_gradient_method(model_fn=model, x=x, eps=eps, norm=np.inf) # Call with correct arguments\n",
        "    elif attack_type == 'pgd':\n",
        "        return projected_gradient_descent(model_fn=model, x=x, eps=eps, eps_iter=0.01, nb_iter=40, norm=np.inf) # Call with correct arguments\n",
        "    return x\n",
        "\n",
        "# Function to evaluate the global model\n",
        "def evaluate_global_model(global_model, X_test, y_test):\n",
        "    y_pred = global_model.predict(X_test)\n",
        "    y_pred_classes = np.argmax(y_pred, axis=1)\n",
        "    y_true_classes = np.argmax(y_test, axis=1)\n",
        "    accuracy = accuracy_score(y_true_classes, y_pred_classes)\n",
        "    precision = precision_score(y_true_classes, y_pred_classes, average='weighted')\n",
        "    recall = recall_score(y_true_classes, y_pred_classes, average='weighted')\n",
        "    f1 = f1_score(y_true_classes, y_pred_classes, average='weighted')\n",
        "    cm = confusion_matrix(y_true_classes, y_pred_classes)\n",
        "    print(\"\\nModel Performance Metrics:\")\n",
        "    print(f\"Accuracy: {accuracy:.10f}\")\n",
        "    print(f\"Precision: {precision:.10f}\")\n",
        "    print(f\"Recall: {recall:.10f}\")\n",
        "    print(f\"F1-Score: {f1:.10f}\")\n",
        "    print(\"\\nConfusion Matrix:\")\n",
        "    print(cm)\n",
        "    return accuracy, precision, recall, f1\n",
        "\n",
        "# Function to analyze communication overhead\n",
        "def analyze_communication_overhead(local_weights, global_weights):\n",
        "    communication_cost = sum(sum(w.nbytes for w in lw) for lw in local_weights)\n",
        "    communication_cost += sum(w.nbytes for w in global_weights)\n",
        "    print(f\"\\nCommunication Overhead: {communication_cost / (1024 ** 2):.2f} MB\")\n",
        "\n",
        "# Federated Learning Simulation with optional adversarial injection\n",
        "def federated_learning_simulation(X_train, y_train, X_test, y_test, num_clients=5):\n",
        "    client_data = np.array_split(X_train, num_clients)\n",
        "    client_labels = np.array_split(y_train, num_clients)\n",
        "    global_model = build_hybrid_model(input_shape, num_classes)\n",
        "    global_model.compile(optimizer='adam', loss='categorical_crossentropy', metrics=['accuracy'])\n",
        "    global_weights = global_model.get_weights()\n",
        "    communication_overhead = []\n",
        "    latency_per_round = []\n",
        "\n",
        "    for round in range(30):\n",
        "        local_weights = []\n",
        "        start_time = time.time()\n",
        "\n",
        "        for i in range(num_clients):\n",
        "            local_model = build_hybrid_model(input_shape, num_classes)\n",
        "            local_model.set_weights(global_weights)\n",
        "            local_model.compile(optimizer='adam', loss='categorical_crossentropy', metrics=['accuracy'])\n",
        "\n",
        "            # Inject adversarial examples if enabled\n",
        "            if USE_ADVERSARIAL and i in ADV_CLIENTS:\n",
        "                print(f\"Injecting {ATTACK_TYPE.upper()} adversarial samples into Client {i}\")\n",
        "                client_data[i] = generate_adversarial(local_model, client_data[i], client_labels[i], attack_type=ATTACK_TYPE, eps=EPSILON)\n",
        "\n",
        "            local_model.fit(client_data[i], client_labels[i], epochs=1, batch_size=32, verbose=0)\n",
        "            local_weights.append(local_model.get_weights())\n",
        "\n",
        "        global_weights = [\n",
        "            np.mean([local_weights[j][i] for j in range(num_clients)], axis=0)\n",
        "            for i in range(len(global_weights))\n",
        "        ]\n",
        "        global_model.set_weights(global_weights)\n",
        "\n",
        "        end_time = time.time()\n",
        "        latency = end_time - start_time\n",
        "        latency_per_round.append(latency)\n",
        "\n",
        "        analyze_communication_overhead(local_weights, global_weights)\n",
        "\n",
        "        loss, acc = global_model.evaluate(X_test, y_test, verbose=0)\n",
        "        print(f\"\\nRound {round + 1}: Global Model Accuracy = {acc:.10f}\")\n",
        "        evaluate_global_model(global_model, X_test, y_test)\n",
        "\n",
        "    print(\"\\nLatency Analysis:\")\n",
        "    print(f\"Average Latency per Round: {np.mean(latency_per_round):.2f} seconds\")\n",
        "    print(f\"Total Latency for 50 Rounds: {np.sum(latency_per_round):.2f} seconds\")\n",
        "\n",
        "# Call the simulation\n",
        "federated_learning_simulation(X_train, y_train, X_test, y_test)"
      ],
      "metadata": {
        "colab": {
          "base_uri": "https://localhost:8080/"
        },
        "id": "5c83NF4tx8ba",
        "outputId": "ef709898-5617-44c4-e4f0-b78f8692d2bc"
      },
      "execution_count": null,
      "outputs": [
        {
          "output_type": "stream",
          "name": "stderr",
          "text": [
            "/usr/local/lib/python3.11/dist-packages/keras/src/layers/core/input_layer.py:27: UserWarning: Argument `input_shape` is deprecated. Use `shape` instead.\n",
            "  warnings.warn(\n"
          ]
        },
        {
          "output_type": "stream",
          "name": "stdout",
          "text": [
            "Injecting PGD adversarial samples into Client 0\n",
            "Injecting PGD adversarial samples into Client 2\n",
            "\n",
            "Communication Overhead: 0.77 MB\n",
            "\n",
            "Round 1: Global Model Accuracy = 0.5783832073\n",
            "\u001b[1m6572/6572\u001b[0m \u001b[32m━━━━━━━━━━━━━━━━━━━━\u001b[0m\u001b[37m\u001b[0m \u001b[1m27s\u001b[0m 4ms/step\n",
            "\n",
            "Model Performance Metrics:\n",
            "Accuracy: 0.5783832110\n",
            "Precision: 0.5816343536\n",
            "Recall: 0.5783832110\n",
            "F1-Score: 0.5657749722\n",
            "\n",
            "Confusion Matrix:\n",
            "[[27050 18868  6309   343]\n",
            " [15079 26321  5535  5635]\n",
            " [28859  3254 16078  4379]\n",
            " [    0     3   394 52174]]\n",
            "Injecting PGD adversarial samples into Client 0\n"
          ]
        },
        {
          "output_type": "stream",
          "name": "stderr",
          "text": [
            "/usr/local/lib/python3.11/dist-packages/keras/src/layers/core/input_layer.py:27: UserWarning: Argument `input_shape` is deprecated. Use `shape` instead.\n",
            "  warnings.warn(\n"
          ]
        },
        {
          "output_type": "stream",
          "name": "stdout",
          "text": [
            "Injecting PGD adversarial samples into Client 2\n",
            "\n",
            "Communication Overhead: 0.77 MB\n",
            "\n",
            "Round 2: Global Model Accuracy = 0.7876080275\n",
            "\u001b[1m6572/6572\u001b[0m \u001b[32m━━━━━━━━━━━━━━━━━━━━\u001b[0m\u001b[37m\u001b[0m \u001b[1m25s\u001b[0m 4ms/step\n",
            "\n",
            "Model Performance Metrics:\n",
            "Accuracy: 0.7876080102\n",
            "Precision: 0.7864865358\n",
            "Recall: 0.7876080102\n",
            "F1-Score: 0.7839969959\n",
            "\n",
            "Confusion Matrix:\n",
            "[[37849 10196  4525     0]\n",
            " [12428 32861  1909  5372]\n",
            " [ 6099   838 42540  3093]\n",
            " [    0    73   129 52369]]\n",
            "Injecting PGD adversarial samples into Client 0\n"
          ]
        },
        {
          "output_type": "stream",
          "name": "stderr",
          "text": [
            "/usr/local/lib/python3.11/dist-packages/keras/src/layers/core/input_layer.py:27: UserWarning: Argument `input_shape` is deprecated. Use `shape` instead.\n",
            "  warnings.warn(\n"
          ]
        },
        {
          "output_type": "stream",
          "name": "stdout",
          "text": [
            "Injecting PGD adversarial samples into Client 2\n",
            "\n",
            "Communication Overhead: 0.77 MB\n",
            "\n",
            "Round 3: Global Model Accuracy = 0.8419638276\n",
            "\u001b[1m6572/6572\u001b[0m \u001b[32m━━━━━━━━━━━━━━━━━━━━\u001b[0m\u001b[37m\u001b[0m \u001b[1m27s\u001b[0m 4ms/step\n",
            "\n",
            "Model Performance Metrics:\n",
            "Accuracy: 0.8419638484\n",
            "Precision: 0.8505321947\n",
            "Recall: 0.8419638484\n",
            "F1-Score: 0.8384937314\n",
            "\n",
            "Confusion Matrix:\n",
            "[[34381 11974  6215     0]\n",
            " [ 2179 44603   428  5360]\n",
            " [  293   727 47538  4012]\n",
            " [    0   941  1103 50527]]\n",
            "Injecting PGD adversarial samples into Client 0\n"
          ]
        },
        {
          "output_type": "stream",
          "name": "stderr",
          "text": [
            "/usr/local/lib/python3.11/dist-packages/keras/src/layers/core/input_layer.py:27: UserWarning: Argument `input_shape` is deprecated. Use `shape` instead.\n",
            "  warnings.warn(\n"
          ]
        },
        {
          "output_type": "stream",
          "name": "stdout",
          "text": [
            "Injecting PGD adversarial samples into Client 2\n",
            "\n",
            "Communication Overhead: 0.77 MB\n",
            "\n",
            "Round 4: Global Model Accuracy = 0.8431860209\n",
            "\u001b[1m6572/6572\u001b[0m \u001b[32m━━━━━━━━━━━━━━━━━━━━\u001b[0m\u001b[37m\u001b[0m \u001b[1m26s\u001b[0m 4ms/step\n",
            "\n",
            "Model Performance Metrics:\n",
            "Accuracy: 0.8431860225\n",
            "Precision: 0.8431838053\n",
            "Recall: 0.8431860225\n",
            "F1-Score: 0.8400975238\n",
            "\n",
            "Confusion Matrix:\n",
            "[[37031  9785  5754     0]\n",
            " [ 5873 41265    52  5380]\n",
            " [  291  1061 47507  3711]\n",
            " [    0     6  1062 51503]]\n",
            "Injecting PGD adversarial samples into Client 0\n"
          ]
        },
        {
          "output_type": "stream",
          "name": "stderr",
          "text": [
            "/usr/local/lib/python3.11/dist-packages/keras/src/layers/core/input_layer.py:27: UserWarning: Argument `input_shape` is deprecated. Use `shape` instead.\n",
            "  warnings.warn(\n"
          ]
        },
        {
          "output_type": "stream",
          "name": "stdout",
          "text": [
            "Injecting PGD adversarial samples into Client 2\n",
            "\n",
            "Communication Overhead: 0.77 MB\n",
            "\n",
            "Round 5: Global Model Accuracy = 0.8750386238\n",
            "\u001b[1m6572/6572\u001b[0m \u001b[32m━━━━━━━━━━━━━━━━━━━━\u001b[0m\u001b[37m\u001b[0m \u001b[1m26s\u001b[0m 4ms/step\n",
            "\n",
            "Model Performance Metrics:\n",
            "Accuracy: 0.8750386388\n",
            "Precision: 0.8794064690\n",
            "Recall: 0.8750386388\n",
            "F1-Score: 0.8723942486\n",
            "\n",
            "Confusion Matrix:\n",
            "[[37333  9861  5375     1]\n",
            " [ 2121 45920    57  4472]\n",
            " [  492   395 49878  1805]\n",
            " [    0   498  1200 50873]]\n",
            "Injecting PGD adversarial samples into Client 0\n"
          ]
        },
        {
          "output_type": "stream",
          "name": "stderr",
          "text": [
            "/usr/local/lib/python3.11/dist-packages/keras/src/layers/core/input_layer.py:27: UserWarning: Argument `input_shape` is deprecated. Use `shape` instead.\n",
            "  warnings.warn(\n"
          ]
        },
        {
          "output_type": "stream",
          "name": "stdout",
          "text": [
            "Injecting PGD adversarial samples into Client 2\n",
            "\n",
            "Communication Overhead: 0.77 MB\n",
            "\n",
            "Round 6: Global Model Accuracy = 0.8724325895\n",
            "\u001b[1m6572/6572\u001b[0m \u001b[32m━━━━━━━━━━━━━━━━━━━━\u001b[0m\u001b[37m\u001b[0m \u001b[1m27s\u001b[0m 4ms/step\n",
            "\n",
            "Model Performance Metrics:\n",
            "Accuracy: 0.8724326021\n",
            "Precision: 0.8807914138\n",
            "Recall: 0.8724326021\n",
            "F1-Score: 0.8687991892\n",
            "\n",
            "Confusion Matrix:\n",
            "[[35512 11551  5501     6]\n",
            " [  939 46207    40  5384]\n",
            " [  481   686 49823  1580]\n",
            " [    0     0   657 51914]]\n",
            "Injecting PGD adversarial samples into Client 0\n"
          ]
        },
        {
          "output_type": "stream",
          "name": "stderr",
          "text": [
            "/usr/local/lib/python3.11/dist-packages/keras/src/layers/core/input_layer.py:27: UserWarning: Argument `input_shape` is deprecated. Use `shape` instead.\n",
            "  warnings.warn(\n"
          ]
        },
        {
          "output_type": "stream",
          "name": "stdout",
          "text": [
            "Injecting PGD adversarial samples into Client 2\n",
            "\n",
            "Communication Overhead: 0.77 MB\n",
            "\n",
            "Round 7: Global Model Accuracy = 0.8825904131\n",
            "\u001b[1m6572/6572\u001b[0m \u001b[32m━━━━━━━━━━━━━━━━━━━━\u001b[0m\u001b[37m\u001b[0m \u001b[1m27s\u001b[0m 4ms/step\n",
            "\n",
            "Model Performance Metrics:\n",
            "Accuracy: 0.8825904385\n",
            "Precision: 0.8843168528\n",
            "Recall: 0.8825904385\n",
            "F1-Score: 0.8802819904\n",
            "\n",
            "Confusion Matrix:\n",
            "[[38635  9279  4656     0]\n",
            " [ 2857 45346    37  4330]\n",
            " [  748   549 50035  1238]\n",
            " [    0   192   803 51576]]\n",
            "Injecting PGD adversarial samples into Client 0\n"
          ]
        },
        {
          "output_type": "stream",
          "name": "stderr",
          "text": [
            "/usr/local/lib/python3.11/dist-packages/keras/src/layers/core/input_layer.py:27: UserWarning: Argument `input_shape` is deprecated. Use `shape` instead.\n",
            "  warnings.warn(\n"
          ]
        },
        {
          "output_type": "stream",
          "name": "stdout",
          "text": [
            "Injecting PGD adversarial samples into Client 2\n",
            "\n",
            "Communication Overhead: 0.77 MB\n",
            "\n",
            "Round 8: Global Model Accuracy = 0.8754333258\n",
            "\u001b[1m6572/6572\u001b[0m \u001b[32m━━━━━━━━━━━━━━━━━━━━\u001b[0m\u001b[37m\u001b[0m \u001b[1m26s\u001b[0m 4ms/step\n",
            "\n",
            "Model Performance Metrics:\n",
            "Accuracy: 0.8754333487\n",
            "Precision: 0.8779204381\n",
            "Recall: 0.8754333487\n",
            "F1-Score: 0.8724530692\n",
            "\n",
            "Confusion Matrix:\n",
            "[[37610  9868  5092     0]\n",
            " [ 2717 44396    73  5384]\n",
            " [  519   158 50717  1176]\n",
            " [    0     0  1207 51364]]\n",
            "Injecting PGD adversarial samples into Client 0\n"
          ]
        },
        {
          "output_type": "stream",
          "name": "stderr",
          "text": [
            "/usr/local/lib/python3.11/dist-packages/keras/src/layers/core/input_layer.py:27: UserWarning: Argument `input_shape` is deprecated. Use `shape` instead.\n",
            "  warnings.warn(\n"
          ]
        },
        {
          "output_type": "stream",
          "name": "stdout",
          "text": [
            "Injecting PGD adversarial samples into Client 2\n",
            "\n",
            "Communication Overhead: 0.77 MB\n",
            "\n",
            "Round 9: Global Model Accuracy = 0.8947741389\n",
            "\u001b[1m6572/6572\u001b[0m \u001b[32m━━━━━━━━━━━━━━━━━━━━\u001b[0m\u001b[37m\u001b[0m \u001b[1m26s\u001b[0m 4ms/step\n",
            "\n",
            "Model Performance Metrics:\n",
            "Accuracy: 0.8947741356\n",
            "Precision: 0.9024475265\n",
            "Recall: 0.8947741356\n",
            "F1-Score: 0.8922236834\n",
            "\n",
            "Confusion Matrix:\n",
            "[[37979 10104  4487     0]\n",
            " [  354 47003    32  5181]\n",
            " [  129   336 51687   418]\n",
            " [    0     6  1080 51485]]\n",
            "Injecting PGD adversarial samples into Client 0\n"
          ]
        },
        {
          "output_type": "stream",
          "name": "stderr",
          "text": [
            "/usr/local/lib/python3.11/dist-packages/keras/src/layers/core/input_layer.py:27: UserWarning: Argument `input_shape` is deprecated. Use `shape` instead.\n",
            "  warnings.warn(\n"
          ]
        },
        {
          "output_type": "stream",
          "name": "stdout",
          "text": [
            "Injecting PGD adversarial samples into Client 2\n",
            "\n",
            "Communication Overhead: 0.77 MB\n",
            "\n",
            "Round 10: Global Model Accuracy = 0.8939133883\n",
            "\u001b[1m6572/6572\u001b[0m \u001b[32m━━━━━━━━━━━━━━━━━━━━\u001b[0m\u001b[37m\u001b[0m \u001b[1m26s\u001b[0m 4ms/step\n",
            "\n",
            "Model Performance Metrics:\n",
            "Accuracy: 0.8939133826\n",
            "Precision: 0.8972507217\n",
            "Recall: 0.8939133826\n",
            "F1-Score: 0.8916356873\n",
            "\n",
            "Confusion Matrix:\n",
            "[[39244  8970  4355     1]\n",
            " [ 1668 45720    35  5147]\n",
            " [  377   185 51529   479]\n",
            " [    0    58  1033 51480]]\n",
            "Injecting PGD adversarial samples into Client 0\n"
          ]
        },
        {
          "output_type": "stream",
          "name": "stderr",
          "text": [
            "/usr/local/lib/python3.11/dist-packages/keras/src/layers/core/input_layer.py:27: UserWarning: Argument `input_shape` is deprecated. Use `shape` instead.\n",
            "  warnings.warn(\n"
          ]
        },
        {
          "output_type": "stream",
          "name": "stdout",
          "text": [
            "Injecting PGD adversarial samples into Client 2\n",
            "\n",
            "Communication Overhead: 0.77 MB\n",
            "\n",
            "Round 11: Global Model Accuracy = 0.8918161988\n",
            "\u001b[1m6572/6572\u001b[0m \u001b[32m━━━━━━━━━━━━━━━━━━━━\u001b[0m\u001b[37m\u001b[0m \u001b[1m26s\u001b[0m 4ms/step\n",
            "\n",
            "Model Performance Metrics:\n",
            "Accuracy: 0.8918161888\n",
            "Precision: 0.8975649141\n",
            "Recall: 0.8918161888\n",
            "F1-Score: 0.8900770370\n",
            "\n",
            "Confusion Matrix:\n",
            "[[39410  9140  4020     0]\n",
            " [  634 46675    23  5238]\n",
            " [  396   165 50869  1140]\n",
            " [    0     3  1990 50578]]\n",
            "Injecting PGD adversarial samples into Client 0\n"
          ]
        },
        {
          "output_type": "stream",
          "name": "stderr",
          "text": [
            "/usr/local/lib/python3.11/dist-packages/keras/src/layers/core/input_layer.py:27: UserWarning: Argument `input_shape` is deprecated. Use `shape` instead.\n",
            "  warnings.warn(\n"
          ]
        },
        {
          "output_type": "stream",
          "name": "stdout",
          "text": [
            "Injecting PGD adversarial samples into Client 2\n",
            "\n",
            "Communication Overhead: 0.77 MB\n",
            "\n",
            "Round 12: Global Model Accuracy = 0.8931096792\n",
            "\u001b[1m6572/6572\u001b[0m \u001b[32m━━━━━━━━━━━━━━━━━━━━\u001b[0m\u001b[37m\u001b[0m \u001b[1m25s\u001b[0m 4ms/step\n",
            "\n",
            "Model Performance Metrics:\n",
            "Accuracy: 0.8931096961\n",
            "Precision: 0.8966850887\n",
            "Recall: 0.8931096961\n",
            "F1-Score: 0.8913975242\n",
            "\n",
            "Confusion Matrix:\n",
            "[[39875  8566  4129     0]\n",
            " [  814 46764    91  4901]\n",
            " [ 1192    23 50215  1140]\n",
            " [    0     6  1615 50950]]\n",
            "Injecting PGD adversarial samples into Client 0\n"
          ]
        },
        {
          "output_type": "stream",
          "name": "stderr",
          "text": [
            "/usr/local/lib/python3.11/dist-packages/keras/src/layers/core/input_layer.py:27: UserWarning: Argument `input_shape` is deprecated. Use `shape` instead.\n",
            "  warnings.warn(\n"
          ]
        },
        {
          "output_type": "stream",
          "name": "stdout",
          "text": [
            "Injecting PGD adversarial samples into Client 2\n",
            "\n",
            "Communication Overhead: 0.77 MB\n",
            "\n",
            "Round 13: Global Model Accuracy = 0.8919350505\n",
            "\u001b[1m6572/6572\u001b[0m \u001b[32m━━━━━━━━━━━━━━━━━━━━\u001b[0m\u001b[37m\u001b[0m \u001b[1m24s\u001b[0m 4ms/step\n",
            "\n",
            "Model Performance Metrics:\n",
            "Accuracy: 0.8919350773\n",
            "Precision: 0.8916074510\n",
            "Recall: 0.8919350773\n",
            "F1-Score: 0.8903732824\n",
            "\n",
            "Confusion Matrix:\n",
            "[[42466  6556  3548     0]\n",
            " [ 4242 43323    13  4992]\n",
            " [  572    21 50502  1475]\n",
            " [    0    53  1252 51266]]\n",
            "Injecting PGD adversarial samples into Client 0\n"
          ]
        },
        {
          "output_type": "stream",
          "name": "stderr",
          "text": [
            "/usr/local/lib/python3.11/dist-packages/keras/src/layers/core/input_layer.py:27: UserWarning: Argument `input_shape` is deprecated. Use `shape` instead.\n",
            "  warnings.warn(\n"
          ]
        },
        {
          "output_type": "stream",
          "name": "stdout",
          "text": [
            "Injecting PGD adversarial samples into Client 2\n",
            "\n",
            "Communication Overhead: 0.77 MB\n",
            "\n",
            "Round 14: Global Model Accuracy = 0.8925770521\n",
            "\u001b[1m6572/6572\u001b[0m \u001b[32m━━━━━━━━━━━━━━━━━━━━\u001b[0m\u001b[37m\u001b[0m \u001b[1m22s\u001b[0m 3ms/step\n",
            "\n",
            "Model Performance Metrics:\n",
            "Accuracy: 0.8925770754\n",
            "Precision: 0.8972735351\n",
            "Recall: 0.8925770754\n",
            "F1-Score: 0.8907852232\n",
            "\n",
            "Confusion Matrix:\n",
            "[[39429  9023  4118     0]\n",
            " [  927 47047    19  4577]\n",
            " [  636    98 50330  1506]\n",
            " [    0    66  1619 50886]]\n",
            "Injecting PGD adversarial samples into Client 0\n"
          ]
        },
        {
          "output_type": "stream",
          "name": "stderr",
          "text": [
            "/usr/local/lib/python3.11/dist-packages/keras/src/layers/core/input_layer.py:27: UserWarning: Argument `input_shape` is deprecated. Use `shape` instead.\n",
            "  warnings.warn(\n"
          ]
        },
        {
          "output_type": "stream",
          "name": "stdout",
          "text": [
            "Injecting PGD adversarial samples into Client 2\n",
            "\n",
            "Communication Overhead: 0.77 MB\n",
            "\n",
            "Round 15: Global Model Accuracy = 0.9012368917\n",
            "\u001b[1m6572/6572\u001b[0m \u001b[32m━━━━━━━━━━━━━━━━━━━━\u001b[0m\u001b[37m\u001b[0m \u001b[1m16s\u001b[0m 2ms/step\n",
            "\n",
            "Model Performance Metrics:\n",
            "Accuracy: 0.9012369163\n",
            "Precision: 0.9020741234\n",
            "Recall: 0.9012369163\n",
            "F1-Score: 0.8997906798\n",
            "\n",
            "Confusion Matrix:\n",
            "[[41982  6733  3855     0]\n",
            " [ 2759 45262    25  4524]\n",
            " [  365    16 51176  1013]\n",
            " [    0   230  1248 51093]]\n",
            "Injecting PGD adversarial samples into Client 0\n"
          ]
        },
        {
          "output_type": "stream",
          "name": "stderr",
          "text": [
            "/usr/local/lib/python3.11/dist-packages/keras/src/layers/core/input_layer.py:27: UserWarning: Argument `input_shape` is deprecated. Use `shape` instead.\n",
            "  warnings.warn(\n"
          ]
        },
        {
          "output_type": "stream",
          "name": "stdout",
          "text": [
            "Injecting PGD adversarial samples into Client 2\n",
            "\n",
            "Communication Overhead: 0.77 MB\n",
            "\n",
            "Round 16: Global Model Accuracy = 0.8881639242\n",
            "\u001b[1m6572/6572\u001b[0m \u001b[32m━━━━━━━━━━━━━━━━━━━━\u001b[0m\u001b[37m\u001b[0m \u001b[1m16s\u001b[0m 2ms/step\n",
            "\n",
            "Model Performance Metrics:\n",
            "Accuracy: 0.8881639330\n",
            "Precision: 0.8896625227\n",
            "Recall: 0.8881639330\n",
            "F1-Score: 0.8869692192\n",
            "\n",
            "Confusion Matrix:\n",
            "[[40869  8194  3507     0]\n",
            " [ 2578 46219    14  3759]\n",
            " [ 1154   302 48798  2316]\n",
            " [    0   506  1187 50878]]\n",
            "Injecting PGD adversarial samples into Client 0\n"
          ]
        },
        {
          "output_type": "stream",
          "name": "stderr",
          "text": [
            "/usr/local/lib/python3.11/dist-packages/keras/src/layers/core/input_layer.py:27: UserWarning: Argument `input_shape` is deprecated. Use `shape` instead.\n",
            "  warnings.warn(\n"
          ]
        },
        {
          "output_type": "stream",
          "name": "stdout",
          "text": [
            "Injecting PGD adversarial samples into Client 2\n",
            "\n",
            "Communication Overhead: 0.77 MB\n",
            "\n",
            "Round 17: Global Model Accuracy = 0.8689753413\n",
            "\u001b[1m6572/6572\u001b[0m \u001b[32m━━━━━━━━━━━━━━━━━━━━\u001b[0m\u001b[37m\u001b[0m \u001b[1m16s\u001b[0m 2ms/step\n",
            "\n",
            "Model Performance Metrics:\n",
            "Accuracy: 0.8689753235\n",
            "Precision: 0.8666784752\n",
            "Recall: 0.8689753235\n",
            "F1-Score: 0.8667415285\n",
            "\n",
            "Confusion Matrix:\n",
            "[[41687  7224  3659     0]\n",
            " [ 8222 39797    17  4534]\n",
            " [  594   131 50653  1192]\n",
            " [    0   380  1599 50592]]\n",
            "Injecting PGD adversarial samples into Client 0\n"
          ]
        },
        {
          "output_type": "stream",
          "name": "stderr",
          "text": [
            "/usr/local/lib/python3.11/dist-packages/keras/src/layers/core/input_layer.py:27: UserWarning: Argument `input_shape` is deprecated. Use `shape` instead.\n",
            "  warnings.warn(\n"
          ]
        },
        {
          "output_type": "stream",
          "name": "stdout",
          "text": [
            "Injecting PGD adversarial samples into Client 2\n",
            "\n",
            "Communication Overhead: 0.77 MB\n",
            "\n",
            "Round 18: Global Model Accuracy = 0.8665119410\n",
            "\u001b[1m6572/6572\u001b[0m \u001b[32m━━━━━━━━━━━━━━━━━━━━\u001b[0m\u001b[37m\u001b[0m \u001b[1m16s\u001b[0m 2ms/step\n",
            "\n",
            "Model Performance Metrics:\n",
            "Accuracy: 0.8665119531\n",
            "Precision: 0.8648681690\n",
            "Recall: 0.8665119531\n",
            "F1-Score: 0.8642705307\n",
            "\n",
            "Confusion Matrix:\n",
            "[[40309  8260  4001     0]\n",
            " [ 6173 41193    20  5184]\n",
            " [  818   216 49788  1748]\n",
            " [    0     0  1650 50921]]\n",
            "Injecting PGD adversarial samples into Client 0\n"
          ]
        },
        {
          "output_type": "stream",
          "name": "stderr",
          "text": [
            "/usr/local/lib/python3.11/dist-packages/keras/src/layers/core/input_layer.py:27: UserWarning: Argument `input_shape` is deprecated. Use `shape` instead.\n",
            "  warnings.warn(\n"
          ]
        },
        {
          "output_type": "stream",
          "name": "stdout",
          "text": [
            "Injecting PGD adversarial samples into Client 2\n",
            "\n",
            "Communication Overhead: 0.77 MB\n",
            "\n",
            "Round 19: Global Model Accuracy = 0.8602774143\n",
            "\u001b[1m6572/6572\u001b[0m \u001b[32m━━━━━━━━━━━━━━━━━━━━\u001b[0m\u001b[37m\u001b[0m \u001b[1m16s\u001b[0m 2ms/step\n",
            "\n",
            "Model Performance Metrics:\n",
            "Accuracy: 0.8602774383\n",
            "Precision: 0.8578136296\n",
            "Recall: 0.8602774383\n",
            "F1-Score: 0.8570687170\n",
            "\n",
            "Confusion Matrix:\n",
            "[[41069  6821  4680     0]\n",
            " [ 9766 37937    37  4830]\n",
            " [  179   120 51375   896]\n",
            " [    0   264  1788 50519]]\n",
            "Injecting PGD adversarial samples into Client 0\n"
          ]
        },
        {
          "output_type": "stream",
          "name": "stderr",
          "text": [
            "/usr/local/lib/python3.11/dist-packages/keras/src/layers/core/input_layer.py:27: UserWarning: Argument `input_shape` is deprecated. Use `shape` instead.\n",
            "  warnings.warn(\n"
          ]
        },
        {
          "output_type": "stream",
          "name": "stdout",
          "text": [
            "Injecting PGD adversarial samples into Client 2\n",
            "\n",
            "Communication Overhead: 0.77 MB\n",
            "\n",
            "Round 20: Global Model Accuracy = 0.8580138087\n",
            "\u001b[1m6572/6572\u001b[0m \u001b[32m━━━━━━━━━━━━━━━━━━━━\u001b[0m\u001b[37m\u001b[0m \u001b[1m16s\u001b[0m 2ms/step\n",
            "\n",
            "Model Performance Metrics:\n",
            "Accuracy: 0.8580138006\n",
            "Precision: 0.8573953206\n",
            "Recall: 0.8580138006\n",
            "F1-Score: 0.8557562294\n",
            "\n",
            "Confusion Matrix:\n",
            "[[42777  5883  3903     7]\n",
            " [10954 37699    21  3896]\n",
            " [  894    86 49661  1929]\n",
            " [    0   515  1769 50287]]\n",
            "Injecting PGD adversarial samples into Client 0\n"
          ]
        },
        {
          "output_type": "stream",
          "name": "stderr",
          "text": [
            "/usr/local/lib/python3.11/dist-packages/keras/src/layers/core/input_layer.py:27: UserWarning: Argument `input_shape` is deprecated. Use `shape` instead.\n",
            "  warnings.warn(\n"
          ]
        },
        {
          "output_type": "stream",
          "name": "stdout",
          "text": [
            "Injecting PGD adversarial samples into Client 2\n",
            "\n",
            "Communication Overhead: 0.77 MB\n",
            "\n",
            "Round 21: Global Model Accuracy = 0.8550843596\n",
            "\u001b[1m6572/6572\u001b[0m \u001b[32m━━━━━━━━━━━━━━━━━━━━\u001b[0m\u001b[37m\u001b[0m \u001b[1m16s\u001b[0m 2ms/step\n",
            "\n",
            "Model Performance Metrics:\n",
            "Accuracy: 0.8550843871\n",
            "Precision: 0.8533617217\n",
            "Recall: 0.8550843871\n",
            "F1-Score: 0.8524265736\n",
            "\n",
            "Confusion Matrix:\n",
            "[[41512  6891  4079    88]\n",
            " [ 9607 38028    34  4901]\n",
            " [  716    70 49403  2381]\n",
            " [    0   315  1391 50865]]\n",
            "Injecting PGD adversarial samples into Client 0\n"
          ]
        },
        {
          "output_type": "stream",
          "name": "stderr",
          "text": [
            "/usr/local/lib/python3.11/dist-packages/keras/src/layers/core/input_layer.py:27: UserWarning: Argument `input_shape` is deprecated. Use `shape` instead.\n",
            "  warnings.warn(\n"
          ]
        },
        {
          "output_type": "stream",
          "name": "stdout",
          "text": [
            "Injecting PGD adversarial samples into Client 2\n",
            "\n",
            "Communication Overhead: 0.77 MB\n",
            "\n",
            "Round 22: Global Model Accuracy = 0.8537195325\n",
            "\u001b[1m6572/6572\u001b[0m \u001b[32m━━━━━━━━━━━━━━━━━━━━\u001b[0m\u001b[37m\u001b[0m \u001b[1m16s\u001b[0m 2ms/step\n",
            "\n",
            "Model Performance Metrics:\n",
            "Accuracy: 0.8537195467\n",
            "Precision: 0.8528542871\n",
            "Recall: 0.8537195467\n",
            "F1-Score: 0.8507468204\n",
            "\n",
            "Confusion Matrix:\n",
            "[[42179  6189  4178    24]\n",
            " [10615 36901    65  4989]\n",
            " [  921   110 49485  2054]\n",
            " [    0   103  1512 50956]]\n",
            "Injecting PGD adversarial samples into Client 0\n"
          ]
        },
        {
          "output_type": "stream",
          "name": "stderr",
          "text": [
            "/usr/local/lib/python3.11/dist-packages/keras/src/layers/core/input_layer.py:27: UserWarning: Argument `input_shape` is deprecated. Use `shape` instead.\n",
            "  warnings.warn(\n"
          ]
        },
        {
          "output_type": "stream",
          "name": "stdout",
          "text": [
            "Injecting PGD adversarial samples into Client 2\n",
            "\n",
            "Communication Overhead: 0.77 MB\n",
            "\n",
            "Round 23: Global Model Accuracy = 0.8598970175\n",
            "\u001b[1m6572/6572\u001b[0m \u001b[32m━━━━━━━━━━━━━━━━━━━━\u001b[0m\u001b[37m\u001b[0m \u001b[1m16s\u001b[0m 2ms/step\n",
            "\n",
            "Model Performance Metrics:\n",
            "Accuracy: 0.8598969950\n",
            "Precision: 0.8591870884\n",
            "Recall: 0.8598969950\n",
            "F1-Score: 0.8571121633\n",
            "\n",
            "Confusion Matrix:\n",
            "[[42801  6169  3572    28]\n",
            " [10102 37306    32  5130]\n",
            " [  975     9 49697  1889]\n",
            " [    0    53  1502 51016]]\n",
            "Injecting PGD adversarial samples into Client 0\n"
          ]
        },
        {
          "output_type": "stream",
          "name": "stderr",
          "text": [
            "/usr/local/lib/python3.11/dist-packages/keras/src/layers/core/input_layer.py:27: UserWarning: Argument `input_shape` is deprecated. Use `shape` instead.\n",
            "  warnings.warn(\n"
          ]
        },
        {
          "output_type": "stream",
          "name": "stdout",
          "text": [
            "Injecting PGD adversarial samples into Client 2\n",
            "\n",
            "Communication Overhead: 0.77 MB\n",
            "\n",
            "Round 24: Global Model Accuracy = 0.8378645778\n",
            "\u001b[1m6572/6572\u001b[0m \u001b[32m━━━━━━━━━━━━━━━━━━━━\u001b[0m\u001b[37m\u001b[0m \u001b[1m16s\u001b[0m 2ms/step\n",
            "\n",
            "Model Performance Metrics:\n",
            "Accuracy: 0.8378645717\n",
            "Precision: 0.8365348368\n",
            "Recall: 0.8378645717\n",
            "F1-Score: 0.8350587440\n",
            "\n",
            "Confusion Matrix:\n",
            "[[41011  7858  3627    74]\n",
            " [11196 35916    74  5384]\n",
            " [ 2491   307 48108  1664]\n",
            " [    0     0  1419 51152]]\n",
            "Injecting PGD adversarial samples into Client 0\n"
          ]
        },
        {
          "output_type": "stream",
          "name": "stderr",
          "text": [
            "/usr/local/lib/python3.11/dist-packages/keras/src/layers/core/input_layer.py:27: UserWarning: Argument `input_shape` is deprecated. Use `shape` instead.\n",
            "  warnings.warn(\n"
          ]
        },
        {
          "output_type": "stream",
          "name": "stdout",
          "text": [
            "Injecting PGD adversarial samples into Client 2\n",
            "\n",
            "Communication Overhead: 0.77 MB\n",
            "\n",
            "Round 25: Global Model Accuracy = 0.8517792821\n",
            "\u001b[1m6572/6572\u001b[0m \u001b[32m━━━━━━━━━━━━━━━━━━━━\u001b[0m\u001b[37m\u001b[0m \u001b[1m16s\u001b[0m 2ms/step\n",
            "\n",
            "Model Performance Metrics:\n",
            "Accuracy: 0.8517792858\n",
            "Precision: 0.8507700218\n",
            "Recall: 0.8517792858\n",
            "F1-Score: 0.8487487884\n",
            "\n",
            "Confusion Matrix:\n",
            "[[42228  6559  3736    47]\n",
            " [10606 36617   100  5247]\n",
            " [  991   117 49382  2080]\n",
            " [    0    41  1644 50886]]\n",
            "Injecting PGD adversarial samples into Client 0\n"
          ]
        },
        {
          "output_type": "stream",
          "name": "stderr",
          "text": [
            "/usr/local/lib/python3.11/dist-packages/keras/src/layers/core/input_layer.py:27: UserWarning: Argument `input_shape` is deprecated. Use `shape` instead.\n",
            "  warnings.warn(\n"
          ]
        },
        {
          "output_type": "stream",
          "name": "stdout",
          "text": [
            "Injecting PGD adversarial samples into Client 2\n",
            "\n",
            "Communication Overhead: 0.77 MB\n",
            "\n",
            "Round 26: Global Model Accuracy = 0.8314350843\n",
            "\u001b[1m6572/6572\u001b[0m \u001b[32m━━━━━━━━━━━━━━━━━━━━\u001b[0m\u001b[37m\u001b[0m \u001b[1m16s\u001b[0m 2ms/step\n",
            "\n",
            "Model Performance Metrics:\n",
            "Accuracy: 0.8314350797\n",
            "Precision: 0.8342869908\n",
            "Recall: 0.8314350797\n",
            "F1-Score: 0.8292687649\n",
            "\n",
            "Confusion Matrix:\n",
            "[[42419  6781  3238   132]\n",
            " [11965 35171    49  5385]\n",
            " [ 4446   190 46119  1815]\n",
            " [    0     0  1445 51126]]\n",
            "Injecting PGD adversarial samples into Client 0\n"
          ]
        },
        {
          "output_type": "stream",
          "name": "stderr",
          "text": [
            "/usr/local/lib/python3.11/dist-packages/keras/src/layers/core/input_layer.py:27: UserWarning: Argument `input_shape` is deprecated. Use `shape` instead.\n",
            "  warnings.warn(\n"
          ]
        },
        {
          "output_type": "stream",
          "name": "stdout",
          "text": [
            "Injecting PGD adversarial samples into Client 2\n",
            "\n",
            "Communication Overhead: 0.77 MB\n",
            "\n",
            "Round 27: Global Model Accuracy = 0.8322197199\n",
            "\u001b[1m6572/6572\u001b[0m \u001b[32m━━━━━━━━━━━━━━━━━━━━\u001b[0m\u001b[37m\u001b[0m \u001b[1m16s\u001b[0m 2ms/step\n",
            "\n",
            "Model Performance Metrics:\n",
            "Accuracy: 0.8322197441\n",
            "Precision: 0.8346959322\n",
            "Recall: 0.8322197441\n",
            "F1-Score: 0.8293319302\n",
            "\n",
            "Confusion Matrix:\n",
            "[[42601  6375  3472   122]\n",
            " [12420 34723    40  5387]\n",
            " [ 2843   162 46515  3050]\n",
            " [    0     0  1410 51161]]\n",
            "Injecting PGD adversarial samples into Client 0\n"
          ]
        },
        {
          "output_type": "stream",
          "name": "stderr",
          "text": [
            "/usr/local/lib/python3.11/dist-packages/keras/src/layers/core/input_layer.py:27: UserWarning: Argument `input_shape` is deprecated. Use `shape` instead.\n",
            "  warnings.warn(\n"
          ]
        },
        {
          "output_type": "stream",
          "name": "stdout",
          "text": [
            "Injecting PGD adversarial samples into Client 2\n",
            "\n",
            "Communication Overhead: 0.77 MB\n",
            "\n",
            "Round 28: Global Model Accuracy = 0.8159034848\n",
            "\u001b[1m6572/6572\u001b[0m \u001b[32m━━━━━━━━━━━━━━━━━━━━\u001b[0m\u001b[37m\u001b[0m \u001b[1m16s\u001b[0m 2ms/step\n",
            "\n",
            "Model Performance Metrics:\n",
            "Accuracy: 0.8159034815\n",
            "Precision: 0.8231404617\n",
            "Recall: 0.8159034815\n",
            "F1-Score: 0.8140360637\n",
            "\n",
            "Confusion Matrix:\n",
            "[[42614  6511  3347    98]\n",
            " [13199 33879   108  5384]\n",
            " [ 6528   159 43827  2056]\n",
            " [    0     0  1322 51249]]\n",
            "Injecting PGD adversarial samples into Client 0\n"
          ]
        },
        {
          "output_type": "stream",
          "name": "stderr",
          "text": [
            "/usr/local/lib/python3.11/dist-packages/keras/src/layers/core/input_layer.py:27: UserWarning: Argument `input_shape` is deprecated. Use `shape` instead.\n",
            "  warnings.warn(\n"
          ]
        },
        {
          "output_type": "stream",
          "name": "stdout",
          "text": [
            "Injecting PGD adversarial samples into Client 2\n",
            "\n",
            "Communication Overhead: 0.77 MB\n",
            "\n",
            "Round 29: Global Model Accuracy = 0.8075004220\n",
            "\u001b[1m6572/6572\u001b[0m \u001b[32m━━━━━━━━━━━━━━━━━━━━\u001b[0m\u001b[37m\u001b[0m \u001b[1m16s\u001b[0m 2ms/step\n",
            "\n",
            "Model Performance Metrics:\n",
            "Accuracy: 0.8075004399\n",
            "Precision: 0.8145951377\n",
            "Recall: 0.8075004399\n",
            "F1-Score: 0.8051759324\n",
            "\n",
            "Confusion Matrix:\n",
            "[[42493  6536  3376   165]\n",
            " [13227 34031    81  5231]\n",
            " [ 5353   237 42229  4751]\n",
            " [    0    88  1434 51049]]\n",
            "Injecting PGD adversarial samples into Client 0\n"
          ]
        },
        {
          "output_type": "stream",
          "name": "stderr",
          "text": [
            "/usr/local/lib/python3.11/dist-packages/keras/src/layers/core/input_layer.py:27: UserWarning: Argument `input_shape` is deprecated. Use `shape` instead.\n",
            "  warnings.warn(\n"
          ]
        },
        {
          "output_type": "stream",
          "name": "stdout",
          "text": [
            "Injecting PGD adversarial samples into Client 2\n",
            "\n",
            "Communication Overhead: 0.77 MB\n",
            "\n",
            "Round 30: Global Model Accuracy = 0.8040146232\n",
            "\u001b[1m6572/6572\u001b[0m \u001b[32m━━━━━━━━━━━━━━━━━━━━\u001b[0m\u001b[37m\u001b[0m \u001b[1m17s\u001b[0m 3ms/step\n",
            "\n",
            "Model Performance Metrics:\n",
            "Accuracy: 0.8040146280\n",
            "Precision: 0.8138339841\n",
            "Recall: 0.8040146280\n",
            "F1-Score: 0.8022400998\n",
            "\n",
            "Confusion Matrix:\n",
            "[[42666  6235  3560   109]\n",
            " [13511 34004    65  4990]\n",
            " [ 7194   189 41209  3978]\n",
            " [    0    73  1308 51190]]\n",
            "\n",
            "Latency Analysis:\n",
            "Average Latency per Round: 686.68 seconds\n",
            "Total Latency for 50 Rounds: 20600.35 seconds\n"
          ]
        }
      ]
    }
  ]
}