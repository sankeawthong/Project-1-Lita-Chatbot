{
  "nbformat": 4,
  "nbformat_minor": 0,
  "metadata": {
    "colab": {
      "provenance": [],
      "authorship_tag": "ABX9TyNBSNKUC6pu2+DPU3cnVUQn",
      "include_colab_link": true
    },
    "kernelspec": {
      "name": "python3",
      "display_name": "Python 3"
    },
    "language_info": {
      "name": "python"
    }
  },
  "cells": [
    {
      "cell_type": "markdown",
      "metadata": {
        "id": "view-in-github",
        "colab_type": "text"
      },
      "source": [
        "<a href=\"https://colab.research.google.com/github/sankeawthong/Project-1-Lita-Chatbot/blob/main/Overfitting%20Model%20for%20Hybrid%20RF-LSTM%20for%2010%20class.ipynb\" target=\"_parent\"><img src=\"https://colab.research.google.com/assets/colab-badge.svg\" alt=\"Open In Colab\"/></a>"
      ]
    },
    {
      "cell_type": "markdown",
      "source": [
        "**Hybrid RF-LSTM for 10 class classifications based on UNSW-NB15 dataset ver.2.1**"
      ],
      "metadata": {
        "id": "HPeQ_xEuX_05"
      }
    },
    {
      "cell_type": "code",
      "execution_count": 1,
      "metadata": {
        "id": "EFc2mmqFXRld"
      },
      "outputs": [],
      "source": [
        "import pandas as pd\n",
        "import numpy as np\n",
        "from sklearn.preprocessing import LabelEncoder\n",
        "from sklearn.model_selection import train_test_split\n",
        "from keras.utils import np_utils\n",
        "from keras.models import Sequential\n",
        "from keras.layers import Dense, LSTM, Dropout\n",
        "from sklearn.ensemble import RandomForestClassifier\n",
        "from sklearn.metrics import confusion_matrix, classification_report"
      ]
    },
    {
      "cell_type": "code",
      "source": [
        "# Load dataset\n",
        "dataset = pd.read_csv(\"dataset_P2.2.csv\") # update dataset\n",
        "dataset.isnull().sum()"
      ],
      "metadata": {
        "colab": {
          "base_uri": "https://localhost:8080/"
        },
        "id": "Gw8ubTwHXYcz",
        "outputId": "64cca9e8-a473-4175-f0c9-422a4e6652db"
      },
      "execution_count": 2,
      "outputs": [
        {
          "output_type": "execute_result",
          "data": {
            "text/plain": [
              "id                   0\n",
              "dur                  0\n",
              "spkts                0\n",
              "dpkts                0\n",
              "sbytes               0\n",
              "dbytes               0\n",
              "rate                 0\n",
              "sttl                 0\n",
              "dttl                 0\n",
              "sload                0\n",
              "dload                0\n",
              "sloss                0\n",
              "dloss                0\n",
              "sinpkt               0\n",
              "dinpkt               0\n",
              "sjit                 0\n",
              "djit                 0\n",
              "swin                 0\n",
              "stcpb                0\n",
              "dtcpb                0\n",
              "dwin                 0\n",
              "tcprtt               0\n",
              "synack               0\n",
              "ackdat               0\n",
              "smean                0\n",
              "dmean                0\n",
              "trans_depth          0\n",
              "response_body_len    0\n",
              "ct_srv_src           0\n",
              "ct_state_ttl         0\n",
              "ct_dst_ltm           0\n",
              "ct_src_dport_ltm     0\n",
              "ct_dst_sport_ltm     0\n",
              "ct_dst_src_ltm       0\n",
              "is_ftp_login         0\n",
              "ct_ftp_cmd           0\n",
              "ct_flw_http_mthd     0\n",
              "ct_src_ltm           0\n",
              "ct_srv_dst           0\n",
              "is_sm_ips_ports      0\n",
              "Class                0\n",
              "dtype: int64"
            ]
          },
          "metadata": {},
          "execution_count": 2
        }
      ]
    },
    {
      "cell_type": "code",
      "source": [
        "dataset.info()"
      ],
      "metadata": {
        "colab": {
          "base_uri": "https://localhost:8080/"
        },
        "id": "WCzcqw2TXZzP",
        "outputId": "13068c70-3eac-4c59-e4b9-2ae55b48ecfc"
      },
      "execution_count": 3,
      "outputs": [
        {
          "output_type": "stream",
          "name": "stdout",
          "text": [
            "<class 'pandas.core.frame.DataFrame'>\n",
            "RangeIndex: 175341 entries, 0 to 175340\n",
            "Data columns (total 41 columns):\n",
            " #   Column             Non-Null Count   Dtype  \n",
            "---  ------             --------------   -----  \n",
            " 0   id                 175341 non-null  int64  \n",
            " 1   dur                175341 non-null  float64\n",
            " 2   spkts              175341 non-null  int64  \n",
            " 3   dpkts              175341 non-null  int64  \n",
            " 4   sbytes             175341 non-null  int64  \n",
            " 5   dbytes             175341 non-null  int64  \n",
            " 6   rate               175341 non-null  float64\n",
            " 7   sttl               175341 non-null  int64  \n",
            " 8   dttl               175341 non-null  int64  \n",
            " 9   sload              175341 non-null  float64\n",
            " 10  dload              175341 non-null  float64\n",
            " 11  sloss              175341 non-null  int64  \n",
            " 12  dloss              175341 non-null  int64  \n",
            " 13  sinpkt             175341 non-null  float64\n",
            " 14  dinpkt             175341 non-null  float64\n",
            " 15  sjit               175341 non-null  float64\n",
            " 16  djit               175341 non-null  float64\n",
            " 17  swin               175341 non-null  int64  \n",
            " 18  stcpb              175341 non-null  int64  \n",
            " 19  dtcpb              175341 non-null  int64  \n",
            " 20  dwin               175341 non-null  int64  \n",
            " 21  tcprtt             175341 non-null  float64\n",
            " 22  synack             175341 non-null  float64\n",
            " 23  ackdat             175341 non-null  float64\n",
            " 24  smean              175341 non-null  int64  \n",
            " 25  dmean              175341 non-null  int64  \n",
            " 26  trans_depth        175341 non-null  int64  \n",
            " 27  response_body_len  175341 non-null  int64  \n",
            " 28  ct_srv_src         175341 non-null  int64  \n",
            " 29  ct_state_ttl       175341 non-null  int64  \n",
            " 30  ct_dst_ltm         175341 non-null  int64  \n",
            " 31  ct_src_dport_ltm   175341 non-null  int64  \n",
            " 32  ct_dst_sport_ltm   175341 non-null  int64  \n",
            " 33  ct_dst_src_ltm     175341 non-null  int64  \n",
            " 34  is_ftp_login       175341 non-null  int64  \n",
            " 35  ct_ftp_cmd         175341 non-null  int64  \n",
            " 36  ct_flw_http_mthd   175341 non-null  int64  \n",
            " 37  ct_src_ltm         175341 non-null  int64  \n",
            " 38  ct_srv_dst         175341 non-null  int64  \n",
            " 39  is_sm_ips_ports    175341 non-null  int64  \n",
            " 40  Class              175341 non-null  int64  \n",
            "dtypes: float64(11), int64(30)\n",
            "memory usage: 54.8 MB\n"
          ]
        }
      ]
    },
    {
      "cell_type": "code",
      "source": [
        "encoder = LabelEncoder()\n",
        "y = encoder.fit_transform(dataset['Class'])\n",
        "y = np_utils.to_categorical(y, num_classes=10)  # update to 10 classes\n",
        "X = dataset.drop(['Class'], axis=1)\n",
        "X = X.values\n",
        "print(X.shape)\n",
        "print(y.shape)"
      ],
      "metadata": {
        "colab": {
          "base_uri": "https://localhost:8080/"
        },
        "id": "dL89QflYXbQt",
        "outputId": "82296a1e-e05d-4ae7-d2ef-de1eb9966dcb"
      },
      "execution_count": 4,
      "outputs": [
        {
          "output_type": "stream",
          "name": "stdout",
          "text": [
            "(175341, 40)\n",
            "(175341, 10)\n"
          ]
        }
      ]
    },
    {
      "cell_type": "markdown",
      "source": [
        "**Data preprocessing**"
      ],
      "metadata": {
        "id": "Ff5f28aSYFyT"
      }
    },
    {
      "cell_type": "code",
      "source": [
        "# Data preprocessing\n",
        "from imblearn.over_sampling import SMOTE\n",
        "oversample = SMOTE()\n",
        "X, y = oversample.fit_resample(X, y)"
      ],
      "metadata": {
        "id": "L6cRwy4mXdHz"
      },
      "execution_count": 5,
      "outputs": []
    },
    {
      "cell_type": "code",
      "source": [
        "X_train, X_test, y_train, y_test = train_test_split(X, y, test_size=0.2, random_state=101)"
      ],
      "metadata": {
        "id": "nF0puHhRXeqY"
      },
      "execution_count": 6,
      "outputs": []
    },
    {
      "cell_type": "markdown",
      "source": [
        "**Hybrid RF-LSTM for 10 classes**"
      ],
      "metadata": {
        "id": "p8svYOKhYITb"
      }
    },
    {
      "cell_type": "code",
      "source": [
        "from sklearn.metrics import accuracy_score, recall_score, precision_score, f1_score, confusion_matrix, classification_report\n",
        "import matplotlib.pyplot as plt\n",
        "import numpy as np\n",
        "\n",
        "# Train RF model\n",
        "rf_model = RandomForestClassifier(n_estimators=100)\n",
        "rf_model.fit(X_train, np.argmax(y_train, axis=1))\n",
        "\n",
        "# Extract features from RF model\n",
        "train_rf_features = rf_model.predict_proba(X_train)\n",
        "test_rf_features = rf_model.predict_proba(X_test)"
      ],
      "metadata": {
        "id": "ekc-4YYYXh3n"
      },
      "execution_count": 7,
      "outputs": []
    },
    {
      "cell_type": "code",
      "source": [
        "# Reshape train_rf_features to 3D array\n",
        "train_rf_features = np.reshape(train_rf_features, (train_rf_features.shape[0], train_rf_features.shape[1], 1))\n",
        "\n",
        "# Train LSTM model with RF features as input\n",
        "lstm_model = Sequential()\n",
        "lstm_model.add(LSTM(128, input_shape=(train_rf_features.shape[1], train_rf_features.shape[2]), return_sequences=True))\n",
        "lstm_model.add(Dropout(0.2))\n",
        "lstm_model.add(LSTM(64, return_sequences=True))\n",
        "lstm_model.add(Dropout(0.2))\n",
        "lstm_model.add(LSTM(32))\n",
        "lstm_model.add(Dropout(0.2))\n",
        "lstm_model.add(Dense(10, activation='softmax'))\n",
        "\n",
        "lstm_model.compile(loss='categorical_crossentropy', optimizer='adam', metrics=['accuracy'])\n",
        "\n",
        "history = lstm_model.fit(train_rf_features, y_train, epochs=15, batch_size=64, validation_data=(test_rf_features, y_test))"
      ],
      "metadata": {
        "colab": {
          "base_uri": "https://localhost:8080/"
        },
        "id": "GoCLQkfTXwNX",
        "outputId": "c58cbb55-c0fb-4ecc-97d4-b03ce5d2e710"
      },
      "execution_count": 8,
      "outputs": [
        {
          "output_type": "stream",
          "name": "stdout",
          "text": [
            "Epoch 1/15\n",
            "7000/7000 [==============================] - 250s 35ms/step - loss: 0.0566 - accuracy: 0.9846 - val_loss: 1.4756 - val_accuracy: 0.8513\n",
            "Epoch 2/15\n",
            "7000/7000 [==============================] - 243s 35ms/step - loss: 0.0023 - accuracy: 0.9996 - val_loss: 1.5418 - val_accuracy: 0.8585\n",
            "Epoch 3/15\n",
            "7000/7000 [==============================] - 245s 35ms/step - loss: 0.0017 - accuracy: 0.9997 - val_loss: 1.5883 - val_accuracy: 0.8601\n",
            "Epoch 4/15\n",
            "7000/7000 [==============================] - 242s 35ms/step - loss: 9.5237e-04 - accuracy: 0.9998 - val_loss: 1.6785 - val_accuracy: 0.8638\n",
            "Epoch 5/15\n",
            "7000/7000 [==============================] - 240s 34ms/step - loss: 8.8381e-04 - accuracy: 0.9998 - val_loss: 1.8213 - val_accuracy: 0.8427\n",
            "Epoch 6/15\n",
            "7000/7000 [==============================] - 239s 34ms/step - loss: 6.6256e-04 - accuracy: 0.9998 - val_loss: 1.5708 - val_accuracy: 0.8489\n",
            "Epoch 7/15\n",
            "7000/7000 [==============================] - 240s 34ms/step - loss: 8.4263e-04 - accuracy: 0.9998 - val_loss: 1.5224 - val_accuracy: 0.8425\n",
            "Epoch 8/15\n",
            "7000/7000 [==============================] - 242s 35ms/step - loss: 6.6378e-04 - accuracy: 0.9999 - val_loss: 1.6438 - val_accuracy: 0.8546\n",
            "Epoch 9/15\n",
            "7000/7000 [==============================] - 244s 35ms/step - loss: 5.8638e-04 - accuracy: 0.9999 - val_loss: 1.3990 - val_accuracy: 0.8453\n",
            "Epoch 10/15\n",
            "7000/7000 [==============================] - 253s 36ms/step - loss: 7.0037e-04 - accuracy: 0.9999 - val_loss: 1.7204 - val_accuracy: 0.8565\n",
            "Epoch 11/15\n",
            "7000/7000 [==============================] - 249s 36ms/step - loss: 5.8181e-04 - accuracy: 0.9999 - val_loss: 1.7688 - val_accuracy: 0.8571\n",
            "Epoch 12/15\n",
            "7000/7000 [==============================] - 244s 35ms/step - loss: 3.3700e-04 - accuracy: 0.9999 - val_loss: 1.8860 - val_accuracy: 0.8576\n",
            "Epoch 13/15\n",
            "7000/7000 [==============================] - 247s 35ms/step - loss: 5.3895e-04 - accuracy: 0.9999 - val_loss: 1.7401 - val_accuracy: 0.8565\n",
            "Epoch 14/15\n",
            "7000/7000 [==============================] - 246s 35ms/step - loss: 3.8267e-04 - accuracy: 0.9999 - val_loss: 1.9116 - val_accuracy: 0.8574\n",
            "Epoch 15/15\n",
            "7000/7000 [==============================] - 247s 35ms/step - loss: 3.9711e-04 - accuracy: 0.9999 - val_loss: 1.9335 - val_accuracy: 0.8599\n"
          ]
        }
      ]
    },
    {
      "cell_type": "code",
      "source": [
        "# Evaluate hybrid model on test set\n",
        "test_rf_features_lstm = rf_model.predict_proba(X_test)\n",
        "test_rf_features_lstm = np.reshape(test_rf_features_lstm, (test_rf_features_lstm.shape[0], 10, 1))  # Modify shape to (None, 4, 1)\n",
        "test_lstm_features = lstm_model.predict(test_rf_features_lstm)\n",
        "\n",
        "# Predict labels from hybrid model\n",
        "test_rf_features_lstm = np.argmax(test_lstm_features, axis=1)\n",
        "\n",
        "# Calculate evaluation metrics\n",
        "accuracy = accuracy_score(np.argmax(y_test, axis=1), test_rf_features_lstm)\n",
        "recall = recall_score(np.argmax(y_test, axis=1), test_rf_features_lstm, average='weighted')\n",
        "precision = precision_score(np.argmax(y_test, axis=1), test_rf_features_lstm, average='weighted')\n",
        "f1score = f1_score(np.argmax(y_test, axis=1), test_rf_features_lstm, average='weighted')\n",
        "confusion_mat = confusion_matrix(np.argmax(y_test, axis=1), test_rf_features_lstm)\n",
        "classification_rep = classification_report(np.argmax(y_test, axis=1), test_rf_features_lstm)\n",
        "\n",
        "# Print evaluation metrics\n",
        "print(\"Accuracy:\", accuracy)\n",
        "print(\"Recall:\", recall)\n",
        "print(\"Precision:\", precision)\n",
        "print(\"F1-Score:\", f1score)\n",
        "print(\"Confusion Matrix:\\n\", confusion_mat)\n",
        "print(\"Classification Report:\\n\", classification_rep)\n",
        "\n",
        "# Plot training loss and validation/test loss over each epoch of training\n",
        "plt.plot(history.history['loss'], label='Training Loss')\n",
        "plt.plot(history.history['val_loss'], label='Validation/Test Loss')\n",
        "plt.title('Training and Validation/Test Loss')\n",
        "plt.xlabel('Epoch')\n",
        "plt.ylabel('Loss')\n",
        "plt.legend()\n",
        "plt.show()"
      ],
      "metadata": {
        "colab": {
          "base_uri": "https://localhost:8080/",
          "height": 1000
        },
        "id": "NIRh6BoXX3PB",
        "outputId": "5fcadd05-7000-4c0a-8b48-443015740bad"
      },
      "execution_count": 9,
      "outputs": [
        {
          "output_type": "stream",
          "name": "stdout",
          "text": [
            "3500/3500 [==============================] - 30s 8ms/step\n",
            "Accuracy: 0.8598839285714286\n",
            "Recall: 0.8598839285714286\n",
            "Precision: 0.8599918015966361\n",
            "F1-Score: 0.8592565013205118\n",
            "Confusion Matrix:\n",
            " [[10915    29     1     2    47   272     0     3     5     3]\n",
            " [    3  9131   698   848   415    68     2    74     5    99]\n",
            " [    0   691  9147   554   420    36     1   244    29   103]\n",
            " [    0  1049   970  6309  2151   163    18   276    91   192]\n",
            " [    4   357   283  1557  8446   176    15   292    90    77]\n",
            " [   68   209   161   265   287  9948     1   101    99    35]\n",
            " [    0     9    13    36   123    10 10869     4     5     5]\n",
            " [    0   254   542   429   413    49     1  9301   104    36]\n",
            " [    0     0     0     1     2     8     1     3 11095     2]\n",
            " [    0     0     0     0     4     0     0     0     0 11146]]\n",
            "Classification Report:\n",
            "               precision    recall  f1-score   support\n",
            "\n",
            "           0       0.99      0.97      0.98     11277\n",
            "           1       0.78      0.80      0.79     11343\n",
            "           2       0.77      0.81      0.79     11225\n",
            "           3       0.63      0.56      0.59     11219\n",
            "           4       0.69      0.75      0.72     11297\n",
            "           5       0.93      0.89      0.91     11174\n",
            "           6       1.00      0.98      0.99     11074\n",
            "           7       0.90      0.84      0.87     11129\n",
            "           8       0.96      1.00      0.98     11112\n",
            "           9       0.95      1.00      0.98     11150\n",
            "\n",
            "    accuracy                           0.86    112000\n",
            "   macro avg       0.86      0.86      0.86    112000\n",
            "weighted avg       0.86      0.86      0.86    112000\n",
            "\n"
          ]
        },
        {
          "output_type": "display_data",
          "data": {
            "text/plain": [
              "<Figure size 640x480 with 1 Axes>"
            ],
            "image/png": "[encoded data removed]"
          },
          "metadata": {}
        }
      ]
    }
  ]
}