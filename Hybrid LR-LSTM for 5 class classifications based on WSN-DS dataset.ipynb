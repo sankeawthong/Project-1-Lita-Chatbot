{
  "nbformat": 4,
  "nbformat_minor": 0,
  "metadata": {
    "colab": {
      "provenance": [],
      "authorship_tag": "ABX9TyM3qV7HqmfJdxK2fbwgMVvu",
      "include_colab_link": true
    },
    "kernelspec": {
      "name": "python3",
      "display_name": "Python 3"
    },
    "language_info": {
      "name": "python"
    }
  },
  "cells": [
    {
      "cell_type": "markdown",
      "metadata": {
        "id": "view-in-github",
        "colab_type": "text"
      },
      "source": [
        "<a href=\"https://colab.research.google.com/github/sankeawthong/Project-1-Lita-Chatbot/blob/main/Hybrid%20LR-LSTM%20for%205%20class%20classifications%20based%20on%20WSN-DS%20dataset.ipynb\" target=\"_parent\"><img src=\"https://colab.research.google.com/assets/colab-badge.svg\" alt=\"Open In Colab\"/></a>"
      ]
    },
    {
      "cell_type": "markdown",
      "source": [
        "### **Hybrid LR-LSTM for 5 class classifications based on WSN-DS dataset**"
      ],
      "metadata": {
        "id": "QijXVCqywMJB"
      }
    },
    {
      "cell_type": "code",
      "execution_count": 1,
      "metadata": {
        "id": "Fn8Z2AyhFrlr"
      },
      "outputs": [],
      "source": [
        "import pandas as pd\n",
        "import numpy as np\n",
        "from sklearn.linear_model import LogisticRegression\n",
        "from sklearn.model_selection import train_test_split\n",
        "from sklearn.metrics import accuracy_score, classification_report\n",
        "from sklearn.preprocessing import LabelEncoder, StandardScaler\n",
        "from keras.models import Sequential\n",
        "from keras.layers import Dense, LSTM, Dropout, Flatten"
      ]
    },
    {
      "cell_type": "code",
      "source": [
        "# Load dataset\n",
        "dataset = pd.read_csv(\"dataset_WSN-DS.csv\")\n",
        "dataset = dataset.dropna() # Remove missing values\n",
        "X = dataset.drop(['Class'], axis=1)\n",
        "y = dataset['Class']"
      ],
      "metadata": {
        "id": "JDSnEVqhGILg"
      },
      "execution_count": 2,
      "outputs": []
    },
    {
      "cell_type": "markdown",
      "source": [
        "### **Data Preprocessing**"
      ],
      "metadata": {
        "id": "F7kfQMH3wTYC"
      }
    },
    {
      "cell_type": "code",
      "source": [
        "# Encode labels\n",
        "encoder = LabelEncoder()\n",
        "y = encoder.fit_transform(y)"
      ],
      "metadata": {
        "id": "cpzkbwNzGQed"
      },
      "execution_count": 3,
      "outputs": []
    },
    {
      "cell_type": "code",
      "source": [
        "# Standardize features\n",
        "scaler = StandardScaler()\n",
        "X = scaler.fit_transform(X)"
      ],
      "metadata": {
        "id": "s7jKiOieGRRs"
      },
      "execution_count": 4,
      "outputs": []
    },
    {
      "cell_type": "code",
      "source": [
        "# Data preprocessing\n",
        "from imblearn.over_sampling import SMOTE\n",
        "oversample = SMOTE()\n",
        "X, y = oversample.fit_resample(X, y)"
      ],
      "metadata": {
        "id": "bTKAWqNsGVwp"
      },
      "execution_count": 5,
      "outputs": []
    },
    {
      "cell_type": "code",
      "source": [
        "# Split data into train and test sets\n",
        "X_train, X_test, y_train, y_test = train_test_split(X, y, test_size=0.2, random_state=42)"
      ],
      "metadata": {
        "id": "seFvrEg2GXEQ"
      },
      "execution_count": 6,
      "outputs": []
    },
    {
      "cell_type": "markdown",
      "source": [
        "### **Hybrid combination of LR and LSTM for 5 class classifications**"
      ],
      "metadata": {
        "id": "3Fg76FN2VeXj"
      }
    },
    {
      "cell_type": "code",
      "source": [
        "# Train logistic regression model\n",
        "lr_model = LogisticRegression(multi_class='multinomial', solver='lbfgs')\n",
        "lr_model.fit(X_train, y_train)\n",
        "lr_pred = lr_model.predict(X_test)\n",
        "lr_acc = accuracy_score(y_test, lr_pred)\n",
        "print(\"Logistic Regression Accuracy:\", lr_acc)\n",
        "print(classification_report(y_test, lr_pred))"
      ],
      "metadata": {
        "id": "8Hc3WbVSGalA",
        "colab": {
          "base_uri": "https://localhost:8080/"
        },
        "outputId": "c00a232f-ab40-49af-f842-acdce2722fc9"
      },
      "execution_count": 7,
      "outputs": [
        {
          "output_type": "stream",
          "name": "stderr",
          "text": [
            "/usr/local/lib/python3.10/dist-packages/sklearn/linear_model/_logistic.py:458: ConvergenceWarning: lbfgs failed to converge (status=1):\n",
            "STOP: TOTAL NO. of ITERATIONS REACHED LIMIT.\n",
            "\n",
            "Increase the number of iterations (max_iter) or scale the data as shown in:\n",
            "    https://scikit-learn.org/stable/modules/preprocessing.html\n",
            "Please also refer to the documentation for alternative solver options:\n",
            "    https://scikit-learn.org/stable/modules/linear_model.html#logistic-regression\n",
            "  n_iter_i = _check_optimize_result(\n"
          ]
        },
        {
          "output_type": "stream",
          "name": "stdout",
          "text": [
            "Logistic Regression Accuracy: 0.8999047243770327\n",
            "              precision    recall  f1-score   support\n",
            "\n",
            "           0       0.94      0.97      0.95     67557\n",
            "           1       0.96      0.60      0.73     68077\n",
            "           2       0.72      1.00      0.83     68330\n",
            "           3       0.99      0.93      0.96     68180\n",
            "           4       1.00      1.00      1.00     67922\n",
            "\n",
            "    accuracy                           0.90    340066\n",
            "   macro avg       0.92      0.90      0.90    340066\n",
            "weighted avg       0.92      0.90      0.90    340066\n",
            "\n"
          ]
        }
      ]
    },
    {
      "cell_type": "code",
      "source": [
        "# Train LSTM model\n",
        "num_classes = len(np.unique(y))\n",
        "input_dim = X_train.shape[1]\n",
        "X_train = np.reshape(X_train, (X_train.shape[0], 1, X_train.shape[1]))\n",
        "X_test = np.reshape(X_test, (X_test.shape[0], 1, X_test.shape[1]))\n",
        "lstm_model = Sequential()\n",
        "lstm_model.add(LSTM(64, input_shape=(1, input_dim), activation='relu', return_sequences=True))\n",
        "lstm_model.add(Dropout(0.2))\n",
        "lstm_model.add(LSTM(32, activation='relu'))\n",
        "lstm_model.add(Dense(5, activation='softmax'))\n",
        "lstm_model.compile(loss='categorical_crossentropy', optimizer='adam', metrics=['accuracy'])\n",
        "y_train_onehot = pd.get_dummies(y_train).values\n",
        "lstm_model.fit(X_train, y_train_onehot, epochs=15, batch_size=32, verbose=0)\n",
        "lstm_pred = lstm_model.predict(X_test)\n",
        "lstm_pred = np.argmax(lstm_pred, axis=1)\n",
        "lstm_acc = accuracy_score(y_test, lstm_pred)\n",
        "print(\"LSTM Accuracy:\", lstm_acc)\n",
        "print(classification_report(y_test, lstm_pred))"
      ],
      "metadata": {
        "id": "L6md5h8JGcxn",
        "colab": {
          "base_uri": "https://localhost:8080/"
        },
        "outputId": "2aee519c-8c33-4120-983f-f75a138650fc"
      },
      "execution_count": 8,
      "outputs": [
        {
          "output_type": "stream",
          "name": "stdout",
          "text": [
            "10628/10628 [==============================] - 22s 2ms/step\n",
            "LSTM Accuracy: 0.8993518905153706\n",
            "              precision    recall  f1-score   support\n",
            "\n",
            "           0       0.96      0.99      0.97     67557\n",
            "           1       0.69      1.00      0.82     68077\n",
            "           2       0.99      0.56      0.72     68330\n",
            "           3       0.99      0.96      0.97     68180\n",
            "           4       1.00      1.00      1.00     67922\n",
            "\n",
            "    accuracy                           0.90    340066\n",
            "   macro avg       0.93      0.90      0.90    340066\n",
            "weighted avg       0.93      0.90      0.89    340066\n",
            "\n"
          ]
        }
      ]
    },
    {
      "cell_type": "code",
      "source": [
        "# Combine predictions\n",
        "lr_probs = lr_model.predict_proba(np.reshape(X_test, (X_test.shape[0], -1)))\n",
        "lstm_probs = lstm_model.predict(X_test)\n",
        "combined_probs = (lr_probs + lstm_probs) / 2\n",
        "combined_pred = np.argmax(combined_probs, axis=1)\n",
        "combined_acc = accuracy_score(y_test, combined_pred)\n",
        "print(\"Combined Accuracy:\", combined_acc)\n",
        "print(classification_report(y_test, combined_pred))"
      ],
      "metadata": {
        "id": "GeI3jA6CGFwR",
        "colab": {
          "base_uri": "https://localhost:8080/"
        },
        "outputId": "83cfeea9-b033-498e-b4bb-98843d7208b5"
      },
      "execution_count": 9,
      "outputs": [
        {
          "output_type": "stream",
          "name": "stdout",
          "text": [
            "10628/10628 [==============================] - 21s 2ms/step\n",
            "Combined Accuracy: 0.9002752406885722\n",
            "              precision    recall  f1-score   support\n",
            "\n",
            "           0       0.94      1.00      0.97     67557\n",
            "           1       0.70      0.99      0.82     68077\n",
            "           2       0.99      0.58      0.73     68330\n",
            "           3       1.00      0.94      0.97     68180\n",
            "           4       1.00      1.00      1.00     67922\n",
            "\n",
            "    accuracy                           0.90    340066\n",
            "   macro avg       0.93      0.90      0.90    340066\n",
            "weighted avg       0.93      0.90      0.90    340066\n",
            "\n"
          ]
        }
      ]
    }
  ]
}