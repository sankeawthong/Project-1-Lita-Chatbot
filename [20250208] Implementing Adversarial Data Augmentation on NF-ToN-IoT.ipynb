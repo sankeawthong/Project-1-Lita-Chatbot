{
  "nbformat": 4,
  "nbformat_minor": 0,
  "metadata": {
    "colab": {
      "provenance": [],
      "machine_shape": "hm",
      "gpuType": "L4",
      "authorship_tag": "ABX9TyMcIv4PJI6OA3Yx+aaxE8Yq",
      "include_colab_link": true
    },
    "kernelspec": {
      "name": "python3",
      "display_name": "Python 3"
    },
    "language_info": {
      "name": "python"
    },
    "accelerator": "GPU"
  },
  "cells": [
    {
      "cell_type": "markdown",
      "metadata": {
        "id": "view-in-github",
        "colab_type": "text"
      },
      "source": [
        "<a href=\"https://colab.research.google.com/github/sankeawthong/Project-1-Lita-Chatbot/blob/main/%5B20250208%5D%20Implementing%20Adversarial%20Data%20Augmentation%20on%20NF-ToN-IoT.ipynb\" target=\"_parent\"><img src=\"https://colab.research.google.com/assets/colab-badge.svg\" alt=\"Open In Colab\"/></a>"
      ]
    },
    {
      "cell_type": "code",
      "source": [
        "!pip uninstall -y foolbox\n",
        "!pip uninstall -y foolbox-native"
      ],
      "metadata": {
        "colab": {
          "base_uri": "https://localhost:8080/"
        },
        "id": "EA-5B1RtS0fu",
        "outputId": "006d2cec-dd45-4bd0-b229-15966fa23e32"
      },
      "execution_count": 1,
      "outputs": [
        {
          "output_type": "stream",
          "name": "stdout",
          "text": [
            "\u001b[33mWARNING: Skipping foolbox as it is not installed.\u001b[0m\u001b[33m\n",
            "\u001b[0m\u001b[33mWARNING: Skipping foolbox-native as it is not installed.\u001b[0m\u001b[33m\n",
            "\u001b[0m"
          ]
        }
      ]
    },
    {
      "cell_type": "code",
      "source": [
        "!pip install foolbox==3.3.3"
      ],
      "metadata": {
        "colab": {
          "base_uri": "https://localhost:8080/"
        },
        "id": "ZPxPed3KzceO",
        "outputId": "e0141a43-445c-4fae-c29e-2b63acbded5e"
      },
      "execution_count": 2,
      "outputs": [
        {
          "output_type": "stream",
          "name": "stdout",
          "text": [
            "Collecting foolbox==3.3.3\n",
            "  Downloading foolbox-3.3.3-py3-none-any.whl.metadata (7.3 kB)\n",
            "Requirement already satisfied: numpy in /usr/local/lib/python3.11/dist-packages (from foolbox==3.3.3) (1.26.4)\n",
            "Requirement already satisfied: scipy in /usr/local/lib/python3.11/dist-packages (from foolbox==3.3.3) (1.13.1)\n",
            "Requirement already satisfied: setuptools in /usr/local/lib/python3.11/dist-packages (from foolbox==3.3.3) (75.1.0)\n",
            "Collecting eagerpy>=0.30.0 (from foolbox==3.3.3)\n",
            "  Downloading eagerpy-0.30.0-py3-none-any.whl.metadata (5.5 kB)\n",
            "Requirement already satisfied: GitPython>=3.0.7 in /usr/local/lib/python3.11/dist-packages (from foolbox==3.3.3) (3.1.44)\n",
            "Requirement already satisfied: typing-extensions>=3.7.4.1 in /usr/local/lib/python3.11/dist-packages (from foolbox==3.3.3) (4.12.2)\n",
            "Requirement already satisfied: requests>=2.24.0 in /usr/local/lib/python3.11/dist-packages (from foolbox==3.3.3) (2.32.3)\n",
            "Requirement already satisfied: gitdb<5,>=4.0.1 in /usr/local/lib/python3.11/dist-packages (from GitPython>=3.0.7->foolbox==3.3.3) (4.0.12)\n",
            "Requirement already satisfied: charset-normalizer<4,>=2 in /usr/local/lib/python3.11/dist-packages (from requests>=2.24.0->foolbox==3.3.3) (3.4.1)\n",
            "Requirement already satisfied: idna<4,>=2.5 in /usr/local/lib/python3.11/dist-packages (from requests>=2.24.0->foolbox==3.3.3) (3.10)\n",
            "Requirement already satisfied: urllib3<3,>=1.21.1 in /usr/local/lib/python3.11/dist-packages (from requests>=2.24.0->foolbox==3.3.3) (2.3.0)\n",
            "Requirement already satisfied: certifi>=2017.4.17 in /usr/local/lib/python3.11/dist-packages (from requests>=2.24.0->foolbox==3.3.3) (2025.1.31)\n",
            "Requirement already satisfied: smmap<6,>=3.0.1 in /usr/local/lib/python3.11/dist-packages (from gitdb<5,>=4.0.1->GitPython>=3.0.7->foolbox==3.3.3) (5.0.2)\n",
            "Downloading foolbox-3.3.3-py3-none-any.whl (1.7 MB)\n",
            "\u001b[2K   \u001b[90m━━━━━━━━━━━━━━━━━━━━━━━━━━━━━━━━━━━━━━━━\u001b[0m \u001b[32m1.7/1.7 MB\u001b[0m \u001b[31m64.1 MB/s\u001b[0m eta \u001b[36m0:00:00\u001b[0m\n",
            "\u001b[?25hDownloading eagerpy-0.30.0-py3-none-any.whl (31 kB)\n",
            "Installing collected packages: eagerpy, foolbox\n",
            "Successfully installed eagerpy-0.30.0 foolbox-3.3.3\n"
          ]
        }
      ]
    },
    {
      "cell_type": "markdown",
      "source": [
        "**🔹 Step 1: Data Preprocessing (Save to File)**"
      ],
      "metadata": {
        "id": "dKYXsan3V1T1"
      }
    },
    {
      "cell_type": "code",
      "execution_count": 3,
      "metadata": {
        "id": "URguY6udjNxp"
      },
      "outputs": [],
      "source": [
        "import tensorflow as tf\n",
        "from tensorflow.keras.models import Sequential\n",
        "from tensorflow.keras.layers import Dense, LSTM, Bidirectional, Dropout\n",
        "from tensorflow.keras.regularizers import l2\n",
        "from tensorflow.keras.utils import to_categorical\n",
        "from sklearn.linear_model import LogisticRegression\n",
        "from sklearn.metrics import accuracy_score, classification_report, confusion_matrix, precision_score, recall_score, f1_score\n",
        "from sklearn.model_selection import train_test_split\n",
        "from sklearn.preprocessing import LabelEncoder, StandardScaler\n",
        "from imblearn.over_sampling import SMOTE\n",
        "import pandas as pd\n",
        "import numpy as np\n",
        "import matplotlib.pyplot as plt\n",
        "import time\n",
        "#import foolbox as fb  # For CW and PGD attacks"
      ]
    },
    {
      "cell_type": "code",
      "source": [
        "# --- Load and preprocess dataset ---\n",
        "dataset = pd.read_csv(\"Dataset_NF-ToN-IoT.csv\").dropna()\n",
        "for column in dataset.columns:\n",
        "    if dataset[column].dtype == 'object':\n",
        "        dataset[column] = LabelEncoder().fit_transform(dataset[column])\n",
        "X = dataset.drop(['Class'], axis=1)\n",
        "y = dataset['Class']"
      ],
      "metadata": {
        "id": "J7kRC7XEja09"
      },
      "execution_count": 4,
      "outputs": []
    },
    {
      "cell_type": "code",
      "source": [
        "# Standardize features\n",
        "scaler = StandardScaler()\n",
        "X = scaler.fit_transform(X)"
      ],
      "metadata": {
        "id": "EG7GUtwzjauP"
      },
      "execution_count": 5,
      "outputs": []
    },
    {
      "cell_type": "code",
      "source": [
        "# Apply SMOTE for class balance\n",
        "smote = SMOTE(random_state=42)\n",
        "X, y = smote.fit_resample(X, y)"
      ],
      "metadata": {
        "id": "YCl2j9cAje2A"
      },
      "execution_count": 6,
      "outputs": []
    },
    {
      "cell_type": "code",
      "source": [
        "import pickle\n",
        "\n",
        "# ✅ Save preprocessed data\n",
        "with open(\"preprocessed_data.pkl\", \"wb\") as f:\n",
        "    pickle.dump((X, y), f)\n",
        "\n",
        "print(\"✅ Preprocessed data saved!\")"
      ],
      "metadata": {
        "colab": {
          "base_uri": "https://localhost:8080/"
        },
        "id": "ctC3W_-TVU1u",
        "outputId": "5a87e805-7bf7-4807-c67c-8405b5d35806"
      },
      "execution_count": 7,
      "outputs": [
        {
          "output_type": "stream",
          "name": "stdout",
          "text": [
            "✅ Preprocessed data saved!\n"
          ]
        }
      ]
    },
    {
      "cell_type": "markdown",
      "source": [
        "**✅ 📌 Full Implementation of All Enhanced Models**"
      ],
      "metadata": {
        "id": "2fU5HqBjTJtz"
      }
    },
    {
      "cell_type": "markdown",
      "source": [
        "✅ New Models to Implement\n",
        "1) Hybrid LR-GRU: Replace BiLSTM with GRU for reduced computational complexity.\n",
        "2) Hybrid LR-CNN-LSTM: Integrate CNN before BiLSTM to capture spatial features.\n",
        "3) Hybrid LR-Transformer: Use Transformer layers instead of BiLSTM for state-of-the-art sequential modeling.\n",
        "4) Hybrid LR-MultiHeadAttention-BiLSTM: Add self-attention to BiLSTM for better feature representation.\n",
        "5) Hybrid LR-BiLSTM with Adversarial Training: Train using FGSM & PGD adversarial examples for robustness."
      ],
      "metadata": {
        "id": "z6FA4JeiTfRH"
      }
    },
    {
      "cell_type": "markdown",
      "source": [
        "**🔹 Step 2: Logistic Regression Feature Extraction**"
      ],
      "metadata": {
        "id": "gIcBPfnNVx33"
      }
    },
    {
      "cell_type": "code",
      "source": [
        "import pickle\n",
        "from sklearn.linear_model import LogisticRegression\n",
        "from sklearn.model_selection import train_test_split\n",
        "from tensorflow.keras.utils import to_categorical\n",
        "\n",
        "# ✅ Load preprocessed data\n",
        "with open(\"preprocessed_data.pkl\", \"rb\") as f:\n",
        "    X, y = pickle.load(f)\n",
        "\n",
        "# ✅ Train-test split\n",
        "X_train, X_test, y_train, y_test = train_test_split(X, y, test_size=0.2, random_state=42, stratify=y)\n",
        "\n",
        "# ✅ Train Logistic Regression for Feature Extraction\n",
        "lr_model = LogisticRegression(multi_class='multinomial', solver='lbfgs', max_iter=500, random_state=42)\n",
        "lr_model.fit(X_train, y_train)\n",
        "\n",
        "# ✅ Extract probabilities for BiLSTM\n",
        "train_lr_features = lr_model.predict_proba(X_train)\n",
        "test_lr_features = lr_model.predict_proba(X_test)\n",
        "train_lr_features = np.expand_dims(train_lr_features, axis=1)\n",
        "test_lr_features = np.expand_dims(test_lr_features, axis=1)\n",
        "\n",
        "# ✅ One-hot encode labels\n",
        "num_classes = len(np.unique(y))\n",
        "y_train_encoded = to_categorical(y_train, num_classes=num_classes)\n",
        "y_test_encoded = to_categorical(y_test, num_classes=num_classes)\n",
        "\n",
        "# ✅ Save features\n",
        "with open(\"lr_features.pkl\", \"wb\") as f:\n",
        "    pickle.dump((train_lr_features, test_lr_features, y_train_encoded, y_test_encoded), f)\n",
        "\n",
        "print(\"✅ Logistic Regression features saved!\")"
      ],
      "metadata": {
        "colab": {
          "base_uri": "https://localhost:8080/"
        },
        "id": "kKGJv6anTMAk",
        "outputId": "63d07a5f-6288-4167-966f-d5ed995140ae"
      },
      "execution_count": 8,
      "outputs": [
        {
          "output_type": "stream",
          "name": "stderr",
          "text": [
            "/usr/local/lib/python3.11/dist-packages/sklearn/linear_model/_logistic.py:1247: FutureWarning: 'multi_class' was deprecated in version 1.5 and will be removed in 1.7. From then on, it will always use 'multinomial'. Leave it to its default value to avoid this warning.\n",
            "  warnings.warn(\n"
          ]
        },
        {
          "output_type": "stream",
          "name": "stdout",
          "text": [
            "✅ Logistic Regression features saved!\n"
          ]
        }
      ]
    },
    {
      "cell_type": "markdown",
      "source": [
        "**🔹 Step 3: Hybrid LR-BiLSTM Training**"
      ],
      "metadata": {
        "id": "duKJ6_TVVvtE"
      }
    },
    {
      "cell_type": "code",
      "source": [
        "import tensorflow as tf\n",
        "from tensorflow.keras.models import Sequential\n",
        "from tensorflow.keras.layers import LSTM, Bidirectional, Dropout, Dense\n",
        "from tensorflow.keras.regularizers import l2\n",
        "import pickle\n",
        "\n",
        "# ✅ Load Logistic Regression features\n",
        "with open(\"lr_features.pkl\", \"rb\") as f:\n",
        "    train_lr_features, test_lr_features, y_train_encoded, y_test_encoded = pickle.load(f)\n",
        "\n",
        "# ✅ Define BiLSTM Model\n",
        "bilstm_model = Sequential([\n",
        "    Bidirectional(LSTM(64, return_sequences=True, kernel_regularizer=l2(0.0001)), input_shape=(1, train_lr_features.shape[2])),\n",
        "    Dropout(0.2),\n",
        "    Bidirectional(LSTM(32, kernel_regularizer=l2(0.0001))),\n",
        "    Dropout(0.2),\n",
        "    Dense(y_train_encoded.shape[1], activation=\"softmax\")\n",
        "])\n",
        "bilstm_model.compile(loss=\"categorical_crossentropy\", optimizer=\"adam\", metrics=[\"accuracy\"])\n",
        "\n",
        "# ✅ Train model\n",
        "bilstm_model.fit(train_lr_features, y_train_encoded, validation_split=0.2, epochs=10, batch_size=64, verbose=1)\n",
        "\n",
        "# ✅ Save trained model\n",
        "bilstm_model.save(\"bilstm_model.h5\")\n",
        "print(\"✅ BiLSTM Model saved!\")"
      ],
      "metadata": {
        "colab": {
          "base_uri": "https://localhost:8080/"
        },
        "id": "-vcyJx_PVBHD",
        "outputId": "ac7d23e3-0045-4bc6-e4ee-0fbf2aaf41a9"
      },
      "execution_count": 9,
      "outputs": [
        {
          "output_type": "stream",
          "name": "stderr",
          "text": [
            "/usr/local/lib/python3.11/dist-packages/keras/src/layers/rnn/bidirectional.py:107: UserWarning: Do not pass an `input_shape`/`input_dim` argument to a layer. When using Sequential models, prefer using an `Input(shape)` object as the first layer in the model instead.\n",
            "  super().__init__(**kwargs)\n"
          ]
        },
        {
          "output_type": "stream",
          "name": "stdout",
          "text": [
            "Epoch 1/10\n",
            "\u001b[1m45351/45351\u001b[0m \u001b[32m━━━━━━━━━━━━━━━━━━━━\u001b[0m\u001b[37m\u001b[0m \u001b[1m389s\u001b[0m 8ms/step - accuracy: 0.9981 - loss: 0.0506 - val_accuracy: 0.9999 - val_loss: 0.0023\n",
            "Epoch 2/10\n",
            "\u001b[1m45351/45351\u001b[0m \u001b[32m━━━━━━━━━━━━━━━━━━━━\u001b[0m\u001b[37m\u001b[0m \u001b[1m384s\u001b[0m 8ms/step - accuracy: 0.9999 - loss: 0.0019 - val_accuracy: 0.9999 - val_loss: 0.0020\n",
            "Epoch 3/10\n",
            "\u001b[1m45351/45351\u001b[0m \u001b[32m━━━━━━━━━━━━━━━━━━━━\u001b[0m\u001b[37m\u001b[0m \u001b[1m386s\u001b[0m 9ms/step - accuracy: 0.9999 - loss: 0.0018 - val_accuracy: 0.9999 - val_loss: 0.0021\n",
            "Epoch 4/10\n",
            "\u001b[1m45351/45351\u001b[0m \u001b[32m━━━━━━━━━━━━━━━━━━━━\u001b[0m\u001b[37m\u001b[0m \u001b[1m388s\u001b[0m 9ms/step - accuracy: 0.9999 - loss: 0.0017 - val_accuracy: 0.9999 - val_loss: 0.0022\n",
            "Epoch 5/10\n",
            "\u001b[1m45351/45351\u001b[0m \u001b[32m━━━━━━━━━━━━━━━━━━━━\u001b[0m\u001b[37m\u001b[0m \u001b[1m394s\u001b[0m 9ms/step - accuracy: 0.9999 - loss: 0.0017 - val_accuracy: 0.9999 - val_loss: 0.0020\n",
            "Epoch 6/10\n",
            "\u001b[1m45351/45351\u001b[0m \u001b[32m━━━━━━━━━━━━━━━━━━━━\u001b[0m\u001b[37m\u001b[0m \u001b[1m391s\u001b[0m 9ms/step - accuracy: 0.9999 - loss: 0.0017 - val_accuracy: 0.9999 - val_loss: 0.0017\n",
            "Epoch 7/10\n",
            "\u001b[1m45351/45351\u001b[0m \u001b[32m━━━━━━━━━━━━━━━━━━━━\u001b[0m\u001b[37m\u001b[0m \u001b[1m392s\u001b[0m 9ms/step - accuracy: 0.9999 - loss: 0.0016 - val_accuracy: 0.9999 - val_loss: 0.0016\n",
            "Epoch 8/10\n",
            "\u001b[1m45351/45351\u001b[0m \u001b[32m━━━━━━━━━━━━━━━━━━━━\u001b[0m\u001b[37m\u001b[0m \u001b[1m396s\u001b[0m 9ms/step - accuracy: 0.9999 - loss: 0.0018 - val_accuracy: 0.9999 - val_loss: 0.0018\n",
            "Epoch 9/10\n",
            "\u001b[1m45351/45351\u001b[0m \u001b[32m━━━━━━━━━━━━━━━━━━━━\u001b[0m\u001b[37m\u001b[0m \u001b[1m395s\u001b[0m 9ms/step - accuracy: 0.9999 - loss: 0.0016 - val_accuracy: 0.9999 - val_loss: 0.0018\n",
            "Epoch 10/10\n",
            "\u001b[1m45351/45351\u001b[0m \u001b[32m━━━━━━━━━━━━━━━━━━━━\u001b[0m\u001b[37m\u001b[0m \u001b[1m395s\u001b[0m 9ms/step - accuracy: 0.9999 - loss: 0.0018 - val_accuracy: 0.9999 - val_loss: 0.0016\n"
          ]
        },
        {
          "output_type": "stream",
          "name": "stderr",
          "text": [
            "WARNING:absl:You are saving your model as an HDF5 file via `model.save()` or `keras.saving.save_model(model)`. This file format is considered legacy. We recommend using instead the native Keras format, e.g. `model.save('my_model.keras')` or `keras.saving.save_model(model, 'my_model.keras')`. \n"
          ]
        },
        {
          "output_type": "stream",
          "name": "stdout",
          "text": [
            "✅ BiLSTM Model saved!\n"
          ]
        }
      ]
    },
    {
      "cell_type": "markdown",
      "source": [
        "**🔹 Step 4: Adversarial Training & Evaluation (Modular)**"
      ],
      "metadata": {
        "id": "KL-NT9laV6lh"
      }
    },
    {
      "cell_type": "markdown",
      "source": [
        "**🔸 PGD & FGSM Adversarial Training**"
      ],
      "metadata": {
        "id": "YCU5aKllV-jl"
      }
    },
    {
      "cell_type": "code",
      "source": [
        "import tensorflow as tf\n",
        "import foolbox as fb\n",
        "import numpy as np\n",
        "from tensorflow.keras.models import load_model\n",
        "import pickle\n",
        "\n",
        "# ✅ Load model & features\n",
        "bilstm_model = load_model(\"bilstm_model.h5\")\n",
        "with open(\"lr_features.pkl\", \"rb\") as f:\n",
        "    train_lr_features, test_lr_features, y_train_encoded, y_test_encoded = pickle.load(f)\n",
        "\n",
        "# ✅ Convert model to Foolbox format\n",
        "fmodel = fb.TensorFlowModel(bilstm_model, bounds=(0, 1))\n",
        "\n",
        "# ✅ Optimized Adversarial Example Generation\n",
        "def generate_adversarial_examples(attack, X, y, eps, batch_size=1024):\n",
        "    \"\"\"Generate adversarial examples efficiently using mini-batches.\"\"\"\n",
        "    adv_examples = []\n",
        "    X_tf = tf.convert_to_tensor(X, dtype=tf.float32)  # Convert once\n",
        "\n",
        "    for i in range(0, len(X), batch_size):\n",
        "        batch_X = X_tf[i:i + batch_size]\n",
        "        batch_y = np.argmax(y[i:i + batch_size], axis=1)\n",
        "        adv_batch, *_ = attack(fmodel, batch_X, batch_y, epsilons=eps)\n",
        "        adv_examples.append(adv_batch.numpy())\n",
        "\n",
        "    return np.vstack(adv_examples)  # Stack batches into final array\n",
        "\n",
        "# ✅ Generate FGSM Adversarial Examples (Fast)\n",
        "print(\"\\n🔹 Generating FGSM Adversarial Examples...\")\n",
        "adv_fgsm = generate_adversarial_examples(fb.attacks.FGSM(), test_lr_features, y_test_encoded, 0.01)\n",
        "\n",
        "# ✅ Generate PGD Adversarial Examples (Reduced Steps for Speed)\n",
        "print(\"\\n🔹 Generating PGD Adversarial Examples...\")\n",
        "adv_pgd = generate_adversarial_examples(fb.attacks.LinfPGD(steps=5), test_lr_features, y_test_encoded, 0.02)\n",
        "\n",
        "# ✅ Save adversarial examples\n",
        "with open(\"adversarial_examples.pkl\", \"wb\") as f:\n",
        "    pickle.dump((adv_fgsm, adv_pgd), f)\n",
        "\n",
        "print(\"✅ Adversarial examples saved!\")"
      ],
      "metadata": {
        "colab": {
          "base_uri": "https://localhost:8080/"
        },
        "id": "pKrSN5OSVBDu",
        "outputId": "e0f08304-9c46-4847-9140-d92d58b3487b"
      },
      "execution_count": 10,
      "outputs": [
        {
          "output_type": "stream",
          "name": "stderr",
          "text": [
            "WARNING:absl:Compiled the loaded model, but the compiled metrics have yet to be built. `model.compile_metrics` will be empty until you train or evaluate the model.\n",
            "WARNING:tensorflow:From /usr/local/lib/python3.11/dist-packages/foolbox/models/tensorflow.py:13: is_gpu_available (from tensorflow.python.framework.test_util) is deprecated and will be removed in a future version.\n",
            "Instructions for updating:\n",
            "Use `tf.config.list_physical_devices('GPU')` instead.\n"
          ]
        },
        {
          "output_type": "stream",
          "name": "stdout",
          "text": [
            "\n",
            "🔹 Generating FGSM Adversarial Examples...\n",
            "\n",
            "🔹 Generating PGD Adversarial Examples...\n",
            "✅ Adversarial examples saved!\n"
          ]
        }
      ]
    },
    {
      "cell_type": "markdown",
      "source": [
        "**🔹 Step 5: Evaluate the Model**"
      ],
      "metadata": {
        "id": "dFYXmxlsWDMJ"
      }
    },
    {
      "cell_type": "code",
      "source": [
        "import pickle\n",
        "import numpy as np\n",
        "from tensorflow.keras.models import load_model\n",
        "from sklearn.metrics import accuracy_score\n",
        "\n",
        "# ✅ Load model, adversarial examples, and labels\n",
        "bilstm_model = load_model(\"bilstm_model.h5\")\n",
        "with open(\"adversarial_examples.pkl\", \"rb\") as f:\n",
        "    adv_fgsm, adv_pgd = pickle.load(f)\n",
        "with open(\"lr_features.pkl\", \"rb\") as f:\n",
        "    _, _, _, y_test_encoded = pickle.load(f)\n",
        "\n",
        "bilstm_model.compile(loss=\"categorical_crossentropy\", optimizer=\"adam\", metrics=[\"accuracy\"])\n",
        "fmodel = fb.TensorFlowModel(bilstm_model, bounds=(0, 1))\n",
        "\n",
        "# ✅ Evaluate Model\n",
        "def evaluate_attack(adv_examples, attack_name):\n",
        "    test_predictions = bilstm_model.predict(adv_examples)\n",
        "    accuracy = accuracy_score(np.argmax(y_test_encoded, axis=1), np.argmax(test_predictions, axis=1))\n",
        "    print(f\"✅ {attack_name} Attack Accuracy: {accuracy:.8f}\")\n",
        "\n",
        "evaluate_attack(adv_fgsm, \"FGSM\")\n",
        "evaluate_attack(adv_pgd, \"PGD\")"
      ],
      "metadata": {
        "colab": {
          "base_uri": "https://localhost:8080/"
        },
        "id": "Wlms32_NVBBD",
        "outputId": "e6aa9709-a456-4960-c82f-4f3e33af8028"
      },
      "execution_count": 11,
      "outputs": [
        {
          "output_type": "stream",
          "name": "stderr",
          "text": [
            "WARNING:absl:Compiled the loaded model, but the compiled metrics have yet to be built. `model.compile_metrics` will be empty until you train or evaluate the model.\n"
          ]
        },
        {
          "output_type": "stream",
          "name": "stdout",
          "text": [
            "\u001b[1m28345/28345\u001b[0m \u001b[32m━━━━━━━━━━━━━━━━━━━━\u001b[0m\u001b[37m\u001b[0m \u001b[1m61s\u001b[0m 2ms/step\n",
            "✅ FGSM Attack Accuracy: 0.99991621\n",
            "\u001b[1m28345/28345\u001b[0m \u001b[32m━━━━━━━━━━━━━━━━━━━━\u001b[0m\u001b[37m\u001b[0m \u001b[1m60s\u001b[0m 2ms/step\n",
            "✅ PGD Attack Accuracy: 0.99991731\n"
          ]
        }
      ]
    },
    {
      "cell_type": "markdown",
      "source": [
        "**🔧 Implementing Adversarial Data Augmentation**"
      ],
      "metadata": {
        "id": "BjHwluKZnXPs"
      }
    },
    {
      "cell_type": "code",
      "source": [
        "import tensorflow as tf\n",
        "import foolbox as fb\n",
        "import numpy as np\n",
        "\n",
        "# ✅ Convert the model to Foolbox format\n",
        "fmodel = fb.TensorFlowModel(bilstm_model, bounds=(0, 1))\n",
        "\n",
        "def generate_adversarial_examples(attack, X_train, y_train, epsilon, batch_size=512, sample_fraction=0.5):\n",
        "    \"\"\"\n",
        "    Generate adversarial examples using FGSM or PGD with batching & reduced dataset.\n",
        "    \"\"\"\n",
        "    num_samples = int(X_train.shape[0] * sample_fraction)  # ✅ Use only 50% of data for adversarial training\n",
        "    adv_examples = []\n",
        "\n",
        "    X_train_subset = X_train[:num_samples]  # ✅ Use subset for faster computation\n",
        "    y_train_subset = y_train[:num_samples]\n",
        "\n",
        "    for i in range(0, num_samples, batch_size):\n",
        "        batch_X = X_train_subset[i:i + batch_size]\n",
        "        # ✅ Corrected: Removed np.argmax as y_train_subset is already 1-dimensional\n",
        "        batch_y = y_train_subset[i:i + batch_size].to_numpy()  # Convert to NumPy array for Foolbox\n",
        "\n",
        "        batch_X_tf = tf.convert_to_tensor(batch_X, dtype=tf.float32)  # ✅ Convert batch to tensor only once\n",
        "        adv_batch, *_ = attack(fmodel, batch_X_tf, batch_y, epsilons=epsilon)  # ✅ Generate attack\n",
        "\n",
        "        adv_examples.append(adv_batch.numpy())  # ✅ Convert to NumPy and append\n",
        "\n",
        "    return np.vstack(adv_examples)  # ✅ Stack batches into a single array\n",
        "\n",
        "# ✅ Generate FGSM and PGD adversarial samples with reduced complexity\n",
        "print(\"\\n🔹 Generating FGSM Adversarial Examples...\")\n",
        "attack_fgsm = fb.attacks.FGSM()\n",
        "adv_fgsm = generate_adversarial_examples(attack_fgsm, train_lr_features, y_train, epsilon=0.01)\n",
        "\n",
        "print(\"\\n🔹 Generating PGD Adversarial Examples...\")\n",
        "attack_pgd = fb.attacks.LinfPGD(steps=5)  # ✅ Reduce PGD steps for faster execution\n",
        "adv_pgd = generate_adversarial_examples(attack_pgd, train_lr_features, y_train, epsilon=0.02)\n",
        "\n",
        "# ✅ Combine Clean and Adversarial Data (Faster)\n",
        "augmented_features = np.vstack([train_lr_features[:len(adv_fgsm)], adv_fgsm, adv_pgd])\n",
        "\n",
        "# ✅ Adjust Labels - Corrected to repeat labels for each adversarial example\n",
        "augmented_labels = np.concatenate([y_train[:len(adv_fgsm)], y_train[:len(adv_fgsm)], y_train[:len(adv_fgsm)]])\n",
        "\n",
        "# ✅ Shuffle the Augmented Dataset\n",
        "dataset = tf.data.Dataset.from_tensor_slices((augmented_features, augmented_labels))\n",
        "dataset = dataset.shuffle(len(augmented_features)).batch(64)\n",
        "\n",
        "# ✅ Change the loss function to 'sparse_categorical_crossentropy'\n",
        "bilstm_model.compile(loss=\"sparse_categorical_crossentropy\", optimizer=\"adam\", metrics=[\"accuracy\"])\n",
        "\n",
        "print(\"\\n🔹 Training on Adversarial Augmented Dataset...\")\n",
        "bilstm_model.fit(dataset, epochs=3, verbose=1)  # ✅ Reduce epochs from 5 → 3\n",
        "\n",
        "# ✅ Save the Augmented Model\n",
        "bilstm_model.save(\"bilstm_augmented.h5\")\n",
        "print(\"\\n✅ Model trained with Adversarial Data Augmentation and saved as 'bilstm_augmented.h5'\")"
      ],
      "metadata": {
        "colab": {
          "base_uri": "https://localhost:8080/"
        },
        "id": "CkHRjyEsnThd",
        "outputId": "8deae5e0-a59a-4dc5-cb2c-68023957bf4a"
      },
      "execution_count": 16,
      "outputs": [
        {
          "output_type": "stream",
          "name": "stdout",
          "text": [
            "\n",
            "🔹 Generating FGSM Adversarial Examples...\n",
            "\n",
            "🔹 Generating PGD Adversarial Examples...\n",
            "\n",
            "🔹 Training on Adversarial Augmented Dataset...\n",
            "Epoch 1/3\n",
            "\u001b[1m85033/85033\u001b[0m \u001b[32m━━━━━━━━━━━━━━━━━━━━\u001b[0m\u001b[37m\u001b[0m \u001b[1m698s\u001b[0m 8ms/step - accuracy: 0.9999 - loss: 0.0017\n",
            "Epoch 2/3\n",
            "\u001b[1m85033/85033\u001b[0m \u001b[32m━━━━━━━━━━━━━━━━━━━━\u001b[0m\u001b[37m\u001b[0m \u001b[1m694s\u001b[0m 8ms/step - accuracy: 0.9999 - loss: 0.0017\n",
            "Epoch 3/3\n",
            "\u001b[1m85033/85033\u001b[0m \u001b[32m━━━━━━━━━━━━━━━━━━━━\u001b[0m\u001b[37m\u001b[0m \u001b[1m700s\u001b[0m 8ms/step - accuracy: 0.9999 - loss: 0.0017\n"
          ]
        },
        {
          "output_type": "stream",
          "name": "stderr",
          "text": [
            "WARNING:absl:You are saving your model as an HDF5 file via `model.save()` or `keras.saving.save_model(model)`. This file format is considered legacy. We recommend using instead the native Keras format, e.g. `model.save('my_model.keras')` or `keras.saving.save_model(model, 'my_model.keras')`. \n"
          ]
        },
        {
          "output_type": "stream",
          "name": "stdout",
          "text": [
            "\n",
            "✅ Model trained with Adversarial Data Augmentation and saved as 'bilstm_augmented.h5'\n"
          ]
        }
      ]
    },
    {
      "cell_type": "markdown",
      "source": [
        "**✅ Step 2: Evaluate Robustness of Augmented Model**"
      ],
      "metadata": {
        "id": "yyECDYBws9jm"
      }
    },
    {
      "cell_type": "code",
      "source": [
        "# ✅ Load the Trained Augmented Model\n",
        "bilstm_model = tf.keras.models.load_model(\"bilstm_augmented.h5\")\n",
        "\n",
        "# ✅ Evaluate FGSM Attack\n",
        "print(\"\\n🔹 Running FGSM Attack on Augmented Model...\")\n",
        "fgsm_adv = generate_adversarial_examples(attack_fgsm, test_lr_features, y_test, epsilon=0.01)\n",
        "fgsm_predictions = bilstm_model.predict(fgsm_adv)\n",
        "\n",
        "# ✅ Extract the corresponding labels for the adversarial examples\n",
        "y_test_subset = y_test[:len(fgsm_adv)]  # Get labels for the adversarial examples only\n",
        "\n",
        "# ✅ Corrected: Use y_test_subset for comparison\n",
        "fgsm_acc = np.mean(np.argmax(fgsm_predictions, axis=1) == y_test_subset)\n",
        "\n",
        "# ✅ Evaluate PGD Attack\n",
        "print(\"\\n🔹 Running PGD Attack on Augmented Model...\")\n",
        "pgd_adv = generate_adversarial_examples(attack_pgd, test_lr_features, y_test, epsilon=0.02)\n",
        "pgd_predictions = bilstm_model.predict(pgd_adv)\n",
        "\n",
        "# ✅ Extract the corresponding labels for the adversarial examples\n",
        "y_test_subset = y_test[:len(pgd_adv)]  # Get labels for the adversarial examples only\n",
        "\n",
        "# ✅ Corrected: Use y_test_subset for comparison\n",
        "pgd_acc = np.mean(np.argmax(pgd_predictions, axis=1) == y_test_subset)\n",
        "\n",
        "# ✅ Print Updated Results\n",
        "print(f\"\\n✅ FGSM Attack Accuracy (After Augmentation): {fgsm_acc:.8f}\")\n",
        "print(f\"✅ PGD Attack Accuracy (After Augmentation): {pgd_acc:.8f}\")"
      ],
      "metadata": {
        "colab": {
          "base_uri": "https://localhost:8080/"
        },
        "id": "roKCTbTUVA-h",
        "outputId": "9f760398-4bbc-474f-a384-1bf6dc576ca6"
      },
      "execution_count": 18,
      "outputs": [
        {
          "output_type": "stream",
          "name": "stderr",
          "text": [
            "WARNING:absl:Compiled the loaded model, but the compiled metrics have yet to be built. `model.compile_metrics` will be empty until you train or evaluate the model.\n"
          ]
        },
        {
          "output_type": "stream",
          "name": "stdout",
          "text": [
            "\n",
            "🔹 Running FGSM Attack on Augmented Model...\n",
            "\u001b[1m14173/14173\u001b[0m \u001b[32m━━━━━━━━━━━━━━━━━━━━\u001b[0m\u001b[37m\u001b[0m \u001b[1m31s\u001b[0m 2ms/step\n",
            "\n",
            "🔹 Running PGD Attack on Augmented Model...\n",
            "\u001b[1m14173/14173\u001b[0m \u001b[32m━━━━━━━━━━━━━━━━━━━━\u001b[0m\u001b[37m\u001b[0m \u001b[1m30s\u001b[0m 2ms/step\n",
            "\n",
            "✅ FGSM Attack Accuracy (After Augmentation): 0.99989636\n",
            "✅ PGD Attack Accuracy (After Augmentation): 0.99989636\n"
          ]
        }
      ]
    },
    {
      "cell_type": "code",
      "source": [
        "# prompt: Display graph of FGSM Accuracy and PGD Accuracy through all the model\n",
        "\n",
        "import matplotlib.pyplot as plt\n",
        "\n",
        "# Sample accuracy data (replace with your actual data)\n",
        "models = ['BiLSTM', 'Hybrid LR-GRU', 'Hybrid LR-CNN-LSTM', 'Hybrid LR-Transformer',\n",
        "          'Hybrid LR-MultiHeadAttention-BiLSTM', 'Hybrid LR-BiLSTM with Adversarial Training']\n",
        "fgsm_accuracies = [0.85, 0.88, 0.90, 0.92, 0.91, 0.93] # Example accuracies\n",
        "pgd_accuracies = [0.78, 0.82, 0.85, 0.87, 0.86, 0.89]  # Example accuracies\n",
        "\n",
        "\n",
        "# Create the plot\n",
        "plt.figure(figsize=(10, 6))\n",
        "plt.plot(models, fgsm_accuracies, marker='o', label='FGSM Accuracy')\n",
        "plt.plot(models, pgd_accuracies, marker='s', label='PGD Accuracy')\n",
        "\n",
        "# Customize the plot\n",
        "plt.xlabel(\"Models\")\n",
        "plt.ylabel(\"Accuracy\")\n",
        "plt.title(\"FGSM and PGD Accuracy for Different Models\")\n",
        "plt.xticks(rotation=45, ha='right')  # Rotate x-axis labels for readability\n",
        "plt.legend()\n",
        "plt.grid(True)\n",
        "plt.tight_layout()  # Adjust layout to prevent labels from overlapping\n",
        "\n",
        "# Show the plot\n",
        "plt.show()\n"
      ],
      "metadata": {
        "colab": {
          "base_uri": "https://localhost:8080/",
          "height": 607
        },
        "id": "7lRnS2ChmoMT",
        "outputId": "d11371a5-add0-4f7b-eb88-f4f75a323540"
      },
      "execution_count": 19,
      "outputs": [
        {
          "output_type": "display_data",
          "data": {
            "text/plain": [
              "<Figure size 1000x600 with 1 Axes>"
            ],
            "image/png": "[encoded data removed]"
          },
          "metadata": {}
        }
      ]
    }
  ]
}