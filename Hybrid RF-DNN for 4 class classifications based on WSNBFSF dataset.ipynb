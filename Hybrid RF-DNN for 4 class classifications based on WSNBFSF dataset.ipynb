{
  "nbformat": 4,
  "nbformat_minor": 0,
  "metadata": {
    "colab": {
      "provenance": [],
      "authorship_tag": "ABX9TyNE/ZX/n/hQW+tC+qR34YTv",
      "include_colab_link": true
    },
    "kernelspec": {
      "name": "python3",
      "display_name": "Python 3"
    },
    "language_info": {
      "name": "python"
    }
  },
  "cells": [
    {
      "cell_type": "markdown",
      "metadata": {
        "id": "view-in-github",
        "colab_type": "text"
      },
      "source": [
        "<a href=\"https://colab.research.google.com/github/sankeawthong/Project-1-Lita-Chatbot/blob/main/Hybrid%20RF-DNN%20for%204%20class%20classifications%20based%20on%20WSNBFSF%20dataset.ipynb\" target=\"_parent\"><img src=\"https://colab.research.google.com/assets/colab-badge.svg\" alt=\"Open In Colab\"/></a>"
      ]
    },
    {
      "cell_type": "markdown",
      "source": [
        "### **Hybrid RF-DNN for 4 class classifications based on WSNBFSF dataset**"
      ],
      "metadata": {
        "id": "dy_FIDZJEhwm"
      }
    },
    {
      "cell_type": "code",
      "source": [
        "import pandas as pd\n",
        "import numpy as np\n",
        "from sklearn.model_selection import train_test_split\n",
        "from sklearn.ensemble import RandomForestClassifier\n",
        "from keras.models import Sequential\n",
        "from keras.layers import Dense"
      ],
      "metadata": {
        "id": "DN5SwWQVEify"
      },
      "execution_count": 1,
      "outputs": []
    },
    {
      "cell_type": "code",
      "source": [
        "# load dataset\n",
        "dataset = pd.read_csv(\"dataset.csv\")"
      ],
      "metadata": {
        "id": "QVyRqUXQEjeZ"
      },
      "execution_count": 2,
      "outputs": []
    },
    {
      "cell_type": "markdown",
      "source": [
        "### **Data preprocessing**"
      ],
      "metadata": {
        "id": "ClgGgfGnE3_M"
      }
    },
    {
      "cell_type": "code",
      "source": [
        "# Data preprocessing\n",
        "y = dataset['Class'].values\n",
        "X = dataset.drop(['Class'],axis=1)\n",
        "X = X.values"
      ],
      "metadata": {
        "id": "Wpb-4oJEEoLJ"
      },
      "execution_count": 3,
      "outputs": []
    },
    {
      "cell_type": "code",
      "source": [
        "# balance classes using SMOTE\n",
        "from imblearn.over_sampling import SMOTE\n",
        "oversample = SMOTE()\n",
        "X, y = oversample.fit_resample(X, y)"
      ],
      "metadata": {
        "id": "zJCGlTiyEpFu"
      },
      "execution_count": 5,
      "outputs": []
    },
    {
      "cell_type": "code",
      "source": [
        "# Split data into train and test sets\n",
        "X_train, X_test, y_train, y_test = train_test_split(X, y, test_size=0.2, random_state=42)"
      ],
      "metadata": {
        "id": "rvnqiy2_1h5M"
      },
      "execution_count": 6,
      "outputs": []
    },
    {
      "cell_type": "markdown",
      "source": [
        "### **Hybrid combination of RF-DNN for 4 class classifications**"
      ],
      "metadata": {
        "id": "JDlis4EAEuYP"
      }
    },
    {
      "cell_type": "code",
      "source": [
        "# train RF model\n",
        "rf_model = RandomForestClassifier(n_estimators=100, random_state=42)\n",
        "rf_model.fit(X, y)"
      ],
      "metadata": {
        "colab": {
          "base_uri": "https://localhost:8080/",
          "height": 75
        },
        "id": "1-CA1EaxEqNu",
        "outputId": "a46417b6-0f1d-4b49-bea6-9a3a7ff0acd5"
      },
      "execution_count": 7,
      "outputs": [
        {
          "output_type": "execute_result",
          "data": {
            "text/plain": [
              "RandomForestClassifier(random_state=42)"
            ],
            "text/html": [
              "<style>#sk-container-id-1 {color: black;background-color: white;}#sk-container-id-1 pre{padding: 0;}#sk-container-id-1 div.sk-toggleable {background-color: white;}#sk-container-id-1 label.sk-toggleable__label {cursor: pointer;display: block;width: 100%;margin-bottom: 0;padding: 0.3em;box-sizing: border-box;text-align: center;}#sk-container-id-1 label.sk-toggleable__label-arrow:before {content: \"▸\";float: left;margin-right: 0.25em;color: #696969;}#sk-container-id-1 label.sk-toggleable__label-arrow:hover:before {color: black;}#sk-container-id-1 div.sk-estimator:hover label.sk-toggleable__label-arrow:before {color: black;}#sk-container-id-1 div.sk-toggleable__content {max-height: 0;max-width: 0;overflow: hidden;text-align: left;background-color: #f0f8ff;}#sk-container-id-1 div.sk-toggleable__content pre {margin: 0.2em;color: black;border-radius: 0.25em;background-color: #f0f8ff;}#sk-container-id-1 input.sk-toggleable__control:checked~div.sk-toggleable__content {max-height: 200px;max-width: 100%;overflow: auto;}#sk-container-id-1 input.sk-toggleable__control:checked~label.sk-toggleable__label-arrow:before {content: \"▾\";}#sk-container-id-1 div.sk-estimator input.sk-toggleable__control:checked~label.sk-toggleable__label {background-color: #d4ebff;}#sk-container-id-1 div.sk-label input.sk-toggleable__control:checked~label.sk-toggleable__label {background-color: #d4ebff;}#sk-container-id-1 input.sk-hidden--visually {border: 0;clip: rect(1px 1px 1px 1px);clip: rect(1px, 1px, 1px, 1px);height: 1px;margin: -1px;overflow: hidden;padding: 0;position: absolute;width: 1px;}#sk-container-id-1 div.sk-estimator {font-family: monospace;background-color: #f0f8ff;border: 1px dotted black;border-radius: 0.25em;box-sizing: border-box;margin-bottom: 0.5em;}#sk-container-id-1 div.sk-estimator:hover {background-color: #d4ebff;}#sk-container-id-1 div.sk-parallel-item::after {content: \"\";width: 100%;border-bottom: 1px solid gray;flex-grow: 1;}#sk-container-id-1 div.sk-label:hover label.sk-toggleable__label {background-color: #d4ebff;}#sk-container-id-1 div.sk-serial::before {content: \"\";position: absolute;border-left: 1px solid gray;box-sizing: border-box;top: 0;bottom: 0;left: 50%;z-index: 0;}#sk-container-id-1 div.sk-serial {display: flex;flex-direction: column;align-items: center;background-color: white;padding-right: 0.2em;padding-left: 0.2em;position: relative;}#sk-container-id-1 div.sk-item {position: relative;z-index: 1;}#sk-container-id-1 div.sk-parallel {display: flex;align-items: stretch;justify-content: center;background-color: white;position: relative;}#sk-container-id-1 div.sk-item::before, #sk-container-id-1 div.sk-parallel-item::before {content: \"\";position: absolute;border-left: 1px solid gray;box-sizing: border-box;top: 0;bottom: 0;left: 50%;z-index: -1;}#sk-container-id-1 div.sk-parallel-item {display: flex;flex-direction: column;z-index: 1;position: relative;background-color: white;}#sk-container-id-1 div.sk-parallel-item:first-child::after {align-self: flex-end;width: 50%;}#sk-container-id-1 div.sk-parallel-item:last-child::after {align-self: flex-start;width: 50%;}#sk-container-id-1 div.sk-parallel-item:only-child::after {width: 0;}#sk-container-id-1 div.sk-dashed-wrapped {border: 1px dashed gray;margin: 0 0.4em 0.5em 0.4em;box-sizing: border-box;padding-bottom: 0.4em;background-color: white;}#sk-container-id-1 div.sk-label label {font-family: monospace;font-weight: bold;display: inline-block;line-height: 1.2em;}#sk-container-id-1 div.sk-label-container {text-align: center;}#sk-container-id-1 div.sk-container {/* jupyter's `normalize.less` sets `[hidden] { display: none; }` but bootstrap.min.css set `[hidden] { display: none !important; }` so we also need the `!important` here to be able to override the default hidden behavior on the sphinx rendered scikit-learn.org. See: https://github.com/scikit-learn/scikit-learn/issues/21755 */display: inline-block !important;position: relative;}#sk-container-id-1 div.sk-text-repr-fallback {display: none;}</style><div id=\"sk-container-id-1\" class=\"sk-top-container\"><div class=\"sk-text-repr-fallback\"><pre>RandomForestClassifier(random_state=42)</pre><b>In a Jupyter environment, please rerun this cell to show the HTML representation or trust the notebook. <br />On GitHub, the HTML representation is unable to render, please try loading this page with nbviewer.org.</b></div><div class=\"sk-container\" hidden><div class=\"sk-item\"><div class=\"sk-estimator sk-toggleable\"><input class=\"sk-toggleable__control sk-hidden--visually\" id=\"sk-estimator-id-1\" type=\"checkbox\" checked><label for=\"sk-estimator-id-1\" class=\"sk-toggleable__label sk-toggleable__label-arrow\">RandomForestClassifier</label><div class=\"sk-toggleable__content\"><pre>RandomForestClassifier(random_state=42)</pre></div></div></div></div></div>"
            ]
          },
          "metadata": {},
          "execution_count": 7
        }
      ]
    },
    {
      "cell_type": "code",
      "source": [
        "# train DNN model\n",
        "input_dim = X.shape[1]\n",
        "num_classes = len(np.unique(y))\n",
        "dnn_model = Sequential()\n",
        "dnn_model.add(Dense(128, input_dim=input_dim, activation='relu'))\n",
        "dnn_model.add(Dense(64, activation='relu'))\n",
        "dnn_model.add(Dense(4, activation='softmax'))\n",
        "dnn_model.compile(loss='categorical_crossentropy', optimizer='adam', metrics=['accuracy'])\n",
        "dnn_model.fit(X, pd.get_dummies(y), epochs=15, batch_size=32)"
      ],
      "metadata": {
        "colab": {
          "base_uri": "https://localhost:8080/"
        },
        "id": "3wSWoRJXEs87",
        "outputId": "df3984c3-c543-425d-889a-04fd83c98fa3"
      },
      "execution_count": 8,
      "outputs": [
        {
          "metadata": {
            "tags": null
          },
          "name": "stdout",
          "output_type": "stream",
          "text": [
            "Epoch 1/15\n",
            "32857/32857 [==============================] - 65s 2ms/step - loss: 0.3814 - accuracy: 0.8599\n",
            "Epoch 2/15\n",
            "32857/32857 [==============================] - 63s 2ms/step - loss: 0.1883 - accuracy: 0.9316\n",
            "Epoch 3/15\n",
            "32857/32857 [==============================] - 63s 2ms/step - loss: 0.1715 - accuracy: 0.9378\n",
            "Epoch 4/15\n",
            "32857/32857 [==============================] - 63s 2ms/step - loss: 0.1604 - accuracy: 0.9435\n",
            "Epoch 5/15\n",
            "32857/32857 [==============================] - 64s 2ms/step - loss: 0.1308 - accuracy: 0.9545\n",
            "Epoch 6/15\n",
            "32857/32857 [==============================] - 65s 2ms/step - loss: 0.1250 - accuracy: 0.9583\n",
            "Epoch 7/15\n",
            "32857/32857 [==============================] - 63s 2ms/step - loss: 0.1193 - accuracy: 0.9615\n",
            "Epoch 8/15\n",
            "32857/32857 [==============================] - 62s 2ms/step - loss: 0.1175 - accuracy: 0.9622\n",
            "Epoch 9/15\n",
            "32857/32857 [==============================] - 62s 2ms/step - loss: 0.1097 - accuracy: 0.9648\n",
            "Epoch 10/15\n",
            "32857/32857 [==============================] - 63s 2ms/step - loss: 0.1084 - accuracy: 0.9651\n",
            "Epoch 11/15\n",
            "32857/32857 [==============================] - 63s 2ms/step - loss: 0.1085 - accuracy: 0.9656\n",
            "Epoch 12/15\n",
            "32857/32857 [==============================] - 62s 2ms/step - loss: 0.1054 - accuracy: 0.9668\n",
            "Epoch 13/15\n",
            "32857/32857 [==============================] - 62s 2ms/step - loss: 0.1041 - accuracy: 0.9677\n",
            "Epoch 14/15\n",
            "32857/32857 [==============================] - 61s 2ms/step - loss: 0.1021 - accuracy: 0.9679\n",
            "Epoch 15/15\n",
            "32857/32857 [==============================] - 62s 2ms/step - loss: 0.1037 - accuracy: 0.9682\n"
          ]
        },
        {
          "output_type": "execute_result",
          "data": {
            "text/plain": [
              "<keras.callbacks.History at 0x7f5740562f80>"
            ]
          },
          "metadata": {},
          "execution_count": 8
        }
      ]
    },
    {
      "cell_type": "code",
      "execution_count": 9,
      "metadata": {
        "colab": {
          "base_uri": "https://localhost:8080/"
        },
        "id": "T5JeMIrxEdph",
        "outputId": "3588b309-200f-4d3e-b2d3-a36ae7b21246"
      },
      "outputs": [
        {
          "output_type": "stream",
          "name": "stdout",
          "text": [
            "6572/6572 [==============================] - 9s 1ms/step\n",
            "Hybrid model accuracy: 0.9790661067809264\n"
          ]
        }
      ],
      "source": [
        "# combine RF and DNN models\n",
        "def hybrid_model_predict(X):\n",
        "    rf_pred = rf_model.predict(X)\n",
        "    dnn_pred = np.argmax(dnn_model.predict(X), axis=-1)\n",
        "    hybrid_pred = []\n",
        "    for i in range(len(X)):\n",
        "        if rf_pred[i] == dnn_pred[i]:\n",
        "            hybrid_pred.append(rf_pred[i])\n",
        "        else:\n",
        "            hybrid_pred.append(np.random.choice([rf_pred[i], dnn_pred[i]]))\n",
        "    return np.array(hybrid_pred)\n",
        "\n",
        "# evaluate hybrid model\n",
        "X_train, X_test, y_train, y_test = train_test_split(X, y, test_size=0.2, random_state=42)\n",
        "y_pred = hybrid_model_predict(X_test)\n",
        "accuracy = np.sum(y_pred == y_test) / len(y_test)\n",
        "print('Hybrid model accuracy:', accuracy)"
      ]
    }
  ]
}