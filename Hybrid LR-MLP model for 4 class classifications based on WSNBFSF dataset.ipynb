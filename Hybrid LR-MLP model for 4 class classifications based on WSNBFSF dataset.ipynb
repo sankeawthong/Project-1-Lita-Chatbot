{
  "nbformat": 4,
  "nbformat_minor": 0,
  "metadata": {
    "colab": {
      "provenance": [],
      "authorship_tag": "ABX9TyMSoWr9I1PTiF3gKasBSpBn",
      "include_colab_link": true
    },
    "kernelspec": {
      "name": "python3",
      "display_name": "Python 3"
    },
    "language_info": {
      "name": "python"
    }
  },
  "cells": [
    {
      "cell_type": "markdown",
      "metadata": {
        "id": "view-in-github",
        "colab_type": "text"
      },
      "source": [
        "<a href=\"https://colab.research.google.com/github/sankeawthong/Project-1-Lita-Chatbot/blob/main/Hybrid%20LR-MLP%20model%20for%204%20class%20classifications%20based%20on%20WSNBFSF%20dataset.ipynb\" target=\"_parent\"><img src=\"https://colab.research.google.com/assets/colab-badge.svg\" alt=\"Open In Colab\"/></a>"
      ]
    },
    {
      "cell_type": "markdown",
      "source": [
        "**Hybrid LR-MLP model for 4 class classifications based on WSNBFSF dataset**"
      ],
      "metadata": {
        "id": "tnf9Rw3yqvkO"
      }
    },
    {
      "cell_type": "code",
      "execution_count": 1,
      "metadata": {
        "id": "EbgYtREjn05x"
      },
      "outputs": [],
      "source": [
        "import pandas as pd\n",
        "import numpy as np\n",
        "from sklearn.linear_model import LogisticRegression\n",
        "from sklearn.neural_network import MLPClassifier\n",
        "from sklearn.metrics import classification_report\n",
        "from sklearn.model_selection import train_test_split"
      ]
    },
    {
      "cell_type": "code",
      "source": [
        "# Load dataset\n",
        "dataset = pd.read_csv(\"dataset.csv\")\n",
        "dataset.shape\n",
        "dataset.isnull().sum()"
      ],
      "metadata": {
        "colab": {
          "base_uri": "https://localhost:8080/"
        },
        "id": "v3DQqOvcn2sA",
        "outputId": "f2297a2e-f776-4ed4-de8b-01243c262a64"
      },
      "execution_count": 2,
      "outputs": [
        {
          "output_type": "execute_result",
          "data": {
            "text/plain": [
              "Event             0\n",
              "Time              0\n",
              "S_Node            0\n",
              "Node_id           0\n",
              "Rest_Energy       0\n",
              "Trace_Level       0\n",
              "Mac_Type_Pckt     0\n",
              "Source_IP_Port    0\n",
              "Des_IP_Port       0\n",
              "Packet_Size       0\n",
              "TTL               0\n",
              "Hop_Count         0\n",
              "Broadcast_ID      0\n",
              "Dest_Node_Num     0\n",
              "Dest_Seq_Num      0\n",
              "Src_Node_ID       0\n",
              "Src_Seq_Num       0\n",
              "Class             0\n",
              "dtype: int64"
            ]
          },
          "metadata": {},
          "execution_count": 2
        }
      ]
    },
    {
      "cell_type": "code",
      "source": [
        "dataset.info()"
      ],
      "metadata": {
        "colab": {
          "base_uri": "https://localhost:8080/"
        },
        "id": "EXlzZYuAn6OQ",
        "outputId": "41246340-1a1c-4955-b27c-8197d3b8dd41"
      },
      "execution_count": 3,
      "outputs": [
        {
          "output_type": "stream",
          "name": "stdout",
          "text": [
            "<class 'pandas.core.frame.DataFrame'>\n",
            "RangeIndex: 312106 entries, 0 to 312105\n",
            "Data columns (total 18 columns):\n",
            " #   Column          Non-Null Count   Dtype  \n",
            "---  ------          --------------   -----  \n",
            " 0   Event           312106 non-null  int64  \n",
            " 1   Time            312106 non-null  float64\n",
            " 2   S_Node          312106 non-null  int64  \n",
            " 3   Node_id         312106 non-null  int64  \n",
            " 4   Rest_Energy     312106 non-null  float64\n",
            " 5   Trace_Level     312106 non-null  int64  \n",
            " 6   Mac_Type_Pckt   312106 non-null  int64  \n",
            " 7   Source_IP_Port  312106 non-null  float64\n",
            " 8   Des_IP_Port     312106 non-null  float64\n",
            " 9   Packet_Size     312106 non-null  int64  \n",
            " 10  TTL             312106 non-null  int64  \n",
            " 11  Hop_Count       312106 non-null  int64  \n",
            " 12  Broadcast_ID    312106 non-null  int64  \n",
            " 13  Dest_Node_Num   312106 non-null  int64  \n",
            " 14  Dest_Seq_Num    312106 non-null  int64  \n",
            " 15  Src_Node_ID     312106 non-null  int64  \n",
            " 16  Src_Seq_Num     312106 non-null  int64  \n",
            " 17  Class           312106 non-null  int64  \n",
            "dtypes: float64(4), int64(14)\n",
            "memory usage: 42.9 MB\n"
          ]
        }
      ]
    },
    {
      "cell_type": "code",
      "source": [
        "dataset[\"Class\"].unique()"
      ],
      "metadata": {
        "colab": {
          "base_uri": "https://localhost:8080/"
        },
        "id": "eIxunkrZn7TQ",
        "outputId": "96ca6f0b-5123-40ea-f909-0078fe6bc9e0"
      },
      "execution_count": 4,
      "outputs": [
        {
          "output_type": "execute_result",
          "data": {
            "text/plain": [
              "array([0, 1, 2, 3])"
            ]
          },
          "metadata": {},
          "execution_count": 4
        }
      ]
    },
    {
      "cell_type": "code",
      "source": [
        "# Data preprocessing\n",
        "y = dataset['Class'].values\n",
        "X = dataset.drop(['Class'], axis=1)\n",
        "X=X.values\n",
        "print(X)\n",
        "print(y)"
      ],
      "metadata": {
        "colab": {
          "base_uri": "https://localhost:8080/"
        },
        "id": "NVQTOto_n8kQ",
        "outputId": "65678897-ccc1-4f93-fa6f-043fcc11a2de"
      },
      "execution_count": 5,
      "outputs": [
        {
          "output_type": "stream",
          "name": "stdout",
          "text": [
            "[[1.00000000e+00 1.00000000e-01 7.90000000e+01 ... 0.00000000e+00\n",
            "  7.90000000e+01 4.00000000e+00]\n",
            " [2.00000000e+00 1.00963167e-01 7.80000000e+01 ... 0.00000000e+00\n",
            "  7.90000000e+01 4.00000000e+00]\n",
            " [2.00000000e+00 1.00963500e-01 7.60000000e+01 ... 0.00000000e+00\n",
            "  7.90000000e+01 4.00000000e+00]\n",
            " ...\n",
            " [4.00000000e+00 6.57891729e+02 1.40000000e+02 ... 1.60000000e+01\n",
            "  1.40000000e+02 7.60000000e+01]\n",
            " [4.00000000e+00 6.58574656e+02 1.40000000e+02 ... 1.60000000e+01\n",
            "  1.40000000e+02 8.00000000e+01]\n",
            " [4.00000000e+00 6.79054956e+02 1.40000000e+02 ... 1.60000000e+01\n",
            "  1.40000000e+02 9.00000000e+01]]\n",
            "[0 0 0 ... 1 1 1]\n"
          ]
        }
      ]
    },
    {
      "cell_type": "code",
      "source": [
        "# Reshape data\n",
        "X = X.reshape(X.shape[0], -1)\n",
        "print(X.shape)"
      ],
      "metadata": {
        "colab": {
          "base_uri": "https://localhost:8080/"
        },
        "id": "hhhruggdoBHt",
        "outputId": "406dd49f-51c5-4010-986f-a53c6fae6a3e"
      },
      "execution_count": 6,
      "outputs": [
        {
          "output_type": "stream",
          "name": "stdout",
          "text": [
            "(312106, 17)\n"
          ]
        }
      ]
    },
    {
      "cell_type": "code",
      "source": [
        "# Split data into training and testing sets\n",
        "X_train, X_test, y_train, y_test = train_test_split(X, y, test_size=0.2, random_state=42)"
      ],
      "metadata": {
        "id": "hdOgb4CLoCcA"
      },
      "execution_count": 7,
      "outputs": []
    },
    {
      "cell_type": "code",
      "source": [
        "# Define models\n",
        "lr = LogisticRegression()\n",
        "mlp = MLPClassifier(hidden_layer_sizes=(100,50), max_iter=500)\n",
        "\n",
        "# Train models\n",
        "lr.fit(X_train, y_train)\n",
        "mlp.fit(X_train, y_train)\n",
        "\n",
        "# Make predictions\n",
        "lr_pred = lr.predict(X_test)\n",
        "mlp_pred = mlp.predict(X_test)\n",
        "\n",
        "# Combine predictions\n",
        "combined_pred = []\n",
        "for i in range(len(lr_pred)):\n",
        "    combined_pred.append([lr_pred[i], mlp_pred[i]])\n",
        "\n",
        "# Reshape combined predictions\n",
        "combined_pred = np.array(combined_pred).reshape(-1, 2)\n",
        "\n",
        "# Train final model (Logistic Regression)\n",
        "final_model = LogisticRegression()\n",
        "final_model.fit(combined_pred, y_test)\n",
        "\n",
        "# Make final predictions\n",
        "final_pred = final_model.predict(combined_pred)\n",
        "\n",
        "# Evaluate final model\n",
        "print(classification_report(y_test, final_pred))"
      ],
      "metadata": {
        "colab": {
          "base_uri": "https://localhost:8080/"
        },
        "id": "UX7TI4n-oESN",
        "outputId": "bcbc0554-8f00-478b-e021-3e552860426e"
      },
      "execution_count": 8,
      "outputs": [
        {
          "output_type": "stream",
          "name": "stderr",
          "text": [
            "/usr/local/lib/python3.10/dist-packages/sklearn/linear_model/_logistic.py:458: ConvergenceWarning: lbfgs failed to converge (status=1):\n",
            "STOP: TOTAL NO. of ITERATIONS REACHED LIMIT.\n",
            "\n",
            "Increase the number of iterations (max_iter) or scale the data as shown in:\n",
            "    https://scikit-learn.org/stable/modules/preprocessing.html\n",
            "Please also refer to the documentation for alternative solver options:\n",
            "    https://scikit-learn.org/stable/modules/linear_model.html#logistic-regression\n",
            "  n_iter_i = _check_optimize_result(\n"
          ]
        },
        {
          "output_type": "stream",
          "name": "stdout",
          "text": [
            "              precision    recall  f1-score   support\n",
            "\n",
            "           0       0.96      1.00      0.98     52692\n",
            "           1       0.78      0.04      0.08      2378\n",
            "           2       0.82      0.79      0.80      1496\n",
            "           3       0.95      1.00      0.97      5856\n",
            "\n",
            "    accuracy                           0.95     62422\n",
            "   macro avg       0.88      0.71      0.71     62422\n",
            "weighted avg       0.95      0.95      0.94     62422\n",
            "\n"
          ]
        }
      ]
    }
  ]
}