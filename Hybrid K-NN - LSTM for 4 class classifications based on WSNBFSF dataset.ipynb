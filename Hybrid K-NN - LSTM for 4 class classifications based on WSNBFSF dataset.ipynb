{
  "nbformat": 4,
  "nbformat_minor": 0,
  "metadata": {
    "colab": {
      "provenance": [],
      "authorship_tag": "ABX9TyOK62B27XUiOISCXKIV/RqV",
      "include_colab_link": true
    },
    "kernelspec": {
      "name": "python3",
      "display_name": "Python 3"
    },
    "language_info": {
      "name": "python"
    }
  },
  "cells": [
    {
      "cell_type": "markdown",
      "metadata": {
        "id": "view-in-github",
        "colab_type": "text"
      },
      "source": [
        "<a href=\"https://colab.research.google.com/github/sankeawthong/Project-1-Lita-Chatbot/blob/main/Hybrid%20K-NN%20-%20LSTM%20for%204%20class%20classifications%20based%20on%20WSNBFSF%20dataset.ipynb\" target=\"_parent\"><img src=\"https://colab.research.google.com/assets/colab-badge.svg\" alt=\"Open In Colab\"/></a>"
      ]
    },
    {
      "cell_type": "markdown",
      "source": [
        "**Hybrid K-NN - LSTM for 4 class classifications based on WSNBFSF dataset**"
      ],
      "metadata": {
        "id": "-6_czXJWRGKp"
      }
    },
    {
      "cell_type": "code",
      "execution_count": 3,
      "metadata": {
        "id": "2MifIrm9Qqou"
      },
      "outputs": [],
      "source": [
        "import numpy as np\n",
        "import pandas as pd\n",
        "from sklearn.neighbors import KNeighborsClassifier\n",
        "from keras.models import Sequential\n",
        "from keras.layers import LSTM, Dense\n",
        "from sklearn.metrics import accuracy_score"
      ]
    },
    {
      "cell_type": "code",
      "source": [
        "# Load the dataset\n",
        "dataset = pd.read_csv(\"dataset.csv\")\n",
        "dataset.shape\n",
        "dataset.isnull().sum()\n",
        "dataset.info()\n",
        "dataset[\"Class\"].unique()"
      ],
      "metadata": {
        "colab": {
          "base_uri": "https://localhost:8080/"
        },
        "id": "_gtKAo5xQxft",
        "outputId": "a3d75b83-3acd-47f0-a29f-1617c30bf028"
      },
      "execution_count": 4,
      "outputs": [
        {
          "output_type": "stream",
          "name": "stdout",
          "text": [
            "<class 'pandas.core.frame.DataFrame'>\n",
            "RangeIndex: 312106 entries, 0 to 312105\n",
            "Data columns (total 18 columns):\n",
            " #   Column          Non-Null Count   Dtype  \n",
            "---  ------          --------------   -----  \n",
            " 0   Event           312106 non-null  int64  \n",
            " 1   Time            312106 non-null  float64\n",
            " 2   S_Node          312106 non-null  int64  \n",
            " 3   Node_id         312106 non-null  int64  \n",
            " 4   Rest_Energy     312106 non-null  float64\n",
            " 5   Trace_Level     312106 non-null  int64  \n",
            " 6   Mac_Type_Pckt   312106 non-null  int64  \n",
            " 7   Source_IP_Port  312106 non-null  float64\n",
            " 8   Des_IP_Port     312106 non-null  float64\n",
            " 9   Packet_Size     312106 non-null  int64  \n",
            " 10  TTL             312106 non-null  int64  \n",
            " 11  Hop_Count       312106 non-null  int64  \n",
            " 12  Broadcast_ID    312106 non-null  int64  \n",
            " 13  Dest_Node_Num   312106 non-null  int64  \n",
            " 14  Dest_Seq_Num    312106 non-null  int64  \n",
            " 15  Src_Node_ID     312106 non-null  int64  \n",
            " 16  Src_Seq_Num     312106 non-null  int64  \n",
            " 17  Class           312106 non-null  int64  \n",
            "dtypes: float64(4), int64(14)\n",
            "memory usage: 42.9 MB\n"
          ]
        },
        {
          "output_type": "execute_result",
          "data": {
            "text/plain": [
              "array([0, 1, 2, 3])"
            ]
          },
          "metadata": {},
          "execution_count": 4
        }
      ]
    },
    {
      "cell_type": "markdown",
      "source": [
        "**Data preprocessing**"
      ],
      "metadata": {
        "id": "xRZh8F6uRAU4"
      }
    },
    {
      "cell_type": "code",
      "source": [
        "# Data preprocessing\n",
        "y = dataset['Class'].values\n",
        "X = dataset.drop(['Class'], axis=1)\n",
        "X = X.values"
      ],
      "metadata": {
        "id": "xQGMYY93Q2O-"
      },
      "execution_count": 5,
      "outputs": []
    },
    {
      "cell_type": "code",
      "source": [
        "from imblearn.over_sampling import SMOTE\n",
        "from sklearn.model_selection import train_test_split\n",
        "\n",
        "# Data balancing using SMOTE\n",
        "oversample = SMOTE()\n",
        "X, y = oversample.fit_resample(X, y)"
      ],
      "metadata": {
        "id": "4yXdBsC3Q2kE"
      },
      "execution_count": 8,
      "outputs": []
    },
    {
      "cell_type": "code",
      "source": [
        "\n",
        "# Split the data into train and test sets\n",
        "X_train, X_test, y_train, y_test = train_test_split(X, y, test_size=0.2, random_state=101)"
      ],
      "metadata": {
        "id": "-e1VCXy0Q4bW"
      },
      "execution_count": 9,
      "outputs": []
    },
    {
      "cell_type": "markdown",
      "source": [
        "**K-NN Model**"
      ],
      "metadata": {
        "id": "LHr9rch9RZWz"
      }
    },
    {
      "cell_type": "code",
      "source": [
        "# Train the K-NN classifier\n",
        "knn_model = KNeighborsClassifier(n_neighbors=3)\n",
        "knn_model.fit(X_train, y_train)\n",
        "\n",
        "# Obtain predictions from the K-NN classifier\n",
        "knn_pred = knn_model.predict(X_test)"
      ],
      "metadata": {
        "id": "raT67jhnQ4W6"
      },
      "execution_count": 10,
      "outputs": []
    },
    {
      "cell_type": "code",
      "source": [
        "##from sklearn.preprocessing import StandardScaler\n",
        "    # Standardize the features\n",
        "##scaler = StandardScaler()\n",
        "##X_train = scaler.fit_transform(X_train)\n",
        "##X_test = scaler.transform(X_test)"
      ],
      "metadata": {
        "id": "5TAOLZjmX1tv"
      },
      "execution_count": 14,
      "outputs": []
    },
    {
      "cell_type": "code",
      "source": [
        "    # Reshape the data for LSTM\n",
        "##X = X.reshape(X.shape[0], X.shape[1], 1)"
      ],
      "metadata": {
        "id": "CJ_APHHzX_QU"
      },
      "execution_count": 19,
      "outputs": []
    },
    {
      "cell_type": "markdown",
      "source": [
        "**LSTM Model**"
      ],
      "metadata": {
        "id": "ooZkh8foZHaE"
      }
    },
    {
      "cell_type": "code",
      "source": [
        "from keras.utils import to_categorical\n",
        "# Reshape the input data for LSTM (assuming you want to consider a single feature)\n",
        "X_train_lstm = X_train.reshape(X_train.shape[0], X_train.shape[1], 1)\n",
        "X_test_lstm = X_test.reshape(X_test.shape[0], X_test.shape[1], 1)\n",
        "\n",
        "# Convert class labels to categorical representation\n",
        "num_classes = len(np.unique(y))\n",
        "y_train_categorical = to_categorical(y_train, num_classes)\n",
        "y_test_categorical = to_categorical(y_test, num_classes)\n",
        "\n",
        "# Train the LSTM model\n",
        "lstm_model = Sequential()\n",
        "lstm_model.add(LSTM(64, input_shape=(X_train_lstm.shape[1], X_train_lstm.shape[2])))\n",
        "lstm_model.add(Dense(num_classes, activation='softmax'))\n",
        "lstm_model.compile(loss='categorical_crossentropy', optimizer='adam', metrics=['accuracy'])\n",
        "lstm_model.fit(X_train_lstm, y_train_categorical, epochs=10, batch_size=64)\n",
        "\n",
        "# Obtain predictions from the LSTM model\n",
        "lstm_pred = np.argmax(lstm_model.predict(X_test_lstm), axis=1)"
      ],
      "metadata": {
        "colab": {
          "base_uri": "https://localhost:8080/"
        },
        "id": "Z3bbNa7IQ444",
        "outputId": "7b78f2b9-21ad-4740-b869-3d9b2d0c879b"
      },
      "execution_count": 22,
      "outputs": [
        {
          "output_type": "stream",
          "name": "stdout",
          "text": [
            "Epoch 1/10\n",
            "13143/13143 [==============================] - 210s 16ms/step - loss: 0.2813 - accuracy: 0.8876\n",
            "Epoch 2/10\n",
            "13143/13143 [==============================] - 205s 16ms/step - loss: 0.1633 - accuracy: 0.9377\n",
            "Epoch 3/10\n",
            "13143/13143 [==============================] - 202s 15ms/step - loss: 0.1341 - accuracy: 0.9510\n",
            "Epoch 4/10\n",
            "13143/13143 [==============================] - 206s 16ms/step - loss: 0.1168 - accuracy: 0.9585\n",
            "Epoch 5/10\n",
            "13143/13143 [==============================] - 206s 16ms/step - loss: 0.1030 - accuracy: 0.9642\n",
            "Epoch 6/10\n",
            "13143/13143 [==============================] - 200s 15ms/step - loss: 0.0918 - accuracy: 0.9685\n",
            "Epoch 7/10\n",
            "13143/13143 [==============================] - 201s 15ms/step - loss: 0.0818 - accuracy: 0.9721\n",
            "Epoch 8/10\n",
            "13143/13143 [==============================] - 200s 15ms/step - loss: 0.0735 - accuracy: 0.9750\n",
            "Epoch 9/10\n",
            "13143/13143 [==============================] - 201s 15ms/step - loss: 0.0678 - accuracy: 0.9773\n",
            "Epoch 10/10\n",
            "13143/13143 [==============================] - 201s 15ms/step - loss: 0.0619 - accuracy: 0.9791\n",
            "6572/6572 [==============================] - 32s 5ms/step\n"
          ]
        }
      ]
    },
    {
      "cell_type": "code",
      "source": [
        "# Combine predictions from K-NN and LSTM models\n",
        "hybrid_pred = np.where(knn_pred == lstm_pred, knn_pred, -1)  # Replace non-matching predictions with -1\n",
        "\n",
        "# Final prediction using the majority vote\n",
        "final_pred = np.where(hybrid_pred == -1, knn_pred, hybrid_pred)\n",
        "\n",
        "# Calculate accuracy\n",
        "accuracy = accuracy_score(y_test, final_pred)\n",
        "print(\"Hybrid Model Accuracy:\", accuracy)"
      ],
      "metadata": {
        "colab": {
          "base_uri": "https://localhost:8080/"
        },
        "id": "5I0wzh1vR39I",
        "outputId": "9feff7a3-8950-45ec-ac06-4241be103a52"
      },
      "execution_count": 23,
      "outputs": [
        {
          "output_type": "stream",
          "name": "stdout",
          "text": [
            "Hybrid Model Accuracy: 0.9870459052410822\n"
          ]
        }
      ]
    },
    {
      "cell_type": "code",
      "source": [
        "import numpy as np\n",
        "import pandas as pd\n",
        "import seaborn as sns\n",
        "import matplotlib.pyplot as plt\n",
        "from sklearn.metrics import confusion_matrix\n",
        "\n",
        "# Create a confusion matrix\n",
        "cm = confusion_matrix(y_test, final_pred)\n",
        "\n",
        "# Get the class labels\n",
        "class_labels = np.unique(y_test)\n",
        "\n",
        "# Create a DataFrame for the confusion matrix\n",
        "cm_df = pd.DataFrame(cm, index=class_labels, columns=class_labels)\n",
        "\n",
        "# Visualize the confusion matrix\n",
        "plt.figure(figsize=(8, 6))\n",
        "sns.heatmap(cm_df, annot=True, fmt=\"d\", cmap=\"YlGnBu\")\n",
        "plt.title(\"Confusion Matrix\")\n",
        "plt.xlabel(\"Predicted\")\n",
        "plt.ylabel(\"Actual\")\n",
        "plt.show()"
      ],
      "metadata": {
        "colab": {
          "base_uri": "https://localhost:8080/",
          "height": 564
        },
        "id": "Hw3SkKILj9AA",
        "outputId": "5c8a5555-1d8b-4e99-c6a7-b3e1c3cc49f1"
      },
      "execution_count": 29,
      "outputs": [
        {
          "output_type": "display_data",
          "data": {
            "text/plain": [
              "<Figure size 800x600 with 2 Axes>"
            ],
            "image/png": "[encoded data removed]"
          },
          "metadata": {}
        }
      ]
    },
    {
      "cell_type": "code",
      "source": [
        "import seaborn as sns\n",
        "import matplotlib.pyplot as plt\n",
        "import numpy as np\n",
        "import itertools\n",
        "import seaborn as sns\n",
        "from sklearn import metrics \n",
        "import matplotlib.pyplot as plt\n",
        "from sklearn.metrics import confusion_matrix\n",
        "def conf_mat(d1,d2):\n",
        "  cm = confusion_matrix(d1, d2)\n",
        "  plt.figure(figsize=(6,5.5))\n",
        "  ax = sns.heatmap(cm,  fmt='2', annot=True, cmap='YlGnBu')\n",
        "  sns.set(font_scale=1)\n",
        "  ax.set_xlabel('\\nPredicted Values')\n",
        "  ax.set_ylabel('Actual Values\\n');\n",
        "  ax.xaxis.set_ticklabels(['Normal','Flooding','Blackhole','Forwarding'])\n",
        "  ax.yaxis.set_ticklabels(['Normal','Flooding','Blackhole','Forwarding'])\n",
        "  plt.tight_layout()\n",
        "  # plt.savefig(\"F1.eps\", format = 'eps')\n",
        "  plt.show()"
      ],
      "metadata": {
        "id": "pXzv9-kYh22-"
      },
      "execution_count": 24,
      "outputs": []
    },
    {
      "cell_type": "code",
      "source": [
        "print(\"Confusion Matrix of Hybrid RF-RNN Model\") \n",
        "confusion_matrix(y_test, final_pred)"
      ],
      "metadata": {
        "colab": {
          "base_uri": "https://localhost:8080/"
        },
        "id": "k-PYCufoh3tL",
        "outputId": "3df9c5d2-089e-4f6d-aa06-dc9ed9b4e895"
      },
      "execution_count": 30,
      "outputs": [
        {
          "output_type": "stream",
          "name": "stdout",
          "text": [
            "Confusion Matrix of Hybrid RF-RNN Model\n"
          ]
        },
        {
          "output_type": "execute_result",
          "data": {
            "text/plain": [
              "array([[50144,  1589,   766,     1],\n",
              "       [  127, 52387,     2,    38],\n",
              "       [   37,     0, 52481,    27],\n",
              "       [    0,    91,    46, 52545]])"
            ]
          },
          "metadata": {},
          "execution_count": 30
        }
      ]
    }
  ]
}