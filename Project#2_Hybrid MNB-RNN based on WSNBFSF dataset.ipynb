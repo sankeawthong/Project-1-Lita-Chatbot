{
  "nbformat": 4,
  "nbformat_minor": 0,
  "metadata": {
    "colab": {
      "provenance": [],
      "authorship_tag": "ABX9TyPT/YvstlS7NCCqpyFLEgrL",
      "include_colab_link": true
    },
    "kernelspec": {
      "name": "python3",
      "display_name": "Python 3"
    },
    "language_info": {
      "name": "python"
    }
  },
  "cells": [
    {
      "cell_type": "markdown",
      "metadata": {
        "id": "view-in-github",
        "colab_type": "text"
      },
      "source": [
        "<a href=\"https://colab.research.google.com/github/sankeawthong/Project-1-Lita-Chatbot/blob/main/Project%232_Hybrid%20MNB-RNN%20based%20on%20WSNBFSF%20dataset.ipynb\" target=\"_parent\"><img src=\"https://colab.research.google.com/assets/colab-badge.svg\" alt=\"Open In Colab\"/></a>"
      ]
    },
    {
      "cell_type": "markdown",
      "source": [
        "**Multinomial Naive Bayes and Recurrent Neural Networks (RNNs) for 4 class classifications**"
      ],
      "metadata": {
        "id": "wu0dKtKYH6gn"
      }
    },
    {
      "cell_type": "code",
      "execution_count": 1,
      "metadata": {
        "id": "QHcwZv32Hx_k"
      },
      "outputs": [],
      "source": [
        "import pandas as pd\n",
        "import numpy as np\n",
        "from sklearn.preprocessing import LabelEncoder\n",
        "from sklearn.model_selection import train_test_split\n",
        "from keras.utils import np_utils\n",
        "from keras.models import Sequential\n",
        "from keras.layers import Dense, LSTM, Dropout\n",
        "from sklearn.naive_bayes import MultinomialNB\n",
        "from sklearn.metrics import confusion_matrix, classification_report"
      ]
    },
    {
      "cell_type": "code",
      "source": [
        "# Load dataset\n",
        "dataset = pd.read_csv(\"dataset.csv\")\n",
        "dataset.isnull().sum()"
      ],
      "metadata": {
        "colab": {
          "base_uri": "https://localhost:8080/"
        },
        "id": "fexRJeZQIEVZ",
        "outputId": "f784ebe1-44b5-4cf4-a9cc-85f19b07534e"
      },
      "execution_count": 2,
      "outputs": [
        {
          "output_type": "execute_result",
          "data": {
            "text/plain": [
              "Event             0\n",
              "Time              0\n",
              "S_Node            0\n",
              "Node_id           0\n",
              "Rest_Energy       0\n",
              "Trace_Level       0\n",
              "Mac_Type_Pckt     0\n",
              "Source_IP_Port    0\n",
              "Des_IP_Port       0\n",
              "Packet_Size       0\n",
              "TTL               0\n",
              "Hop_Count         0\n",
              "Broadcast_ID      0\n",
              "Dest_Node_Num     0\n",
              "Dest_Seq_Num      0\n",
              "Src_Node_ID       0\n",
              "Src_Seq_Num       0\n",
              "Class             0\n",
              "dtype: int64"
            ]
          },
          "metadata": {},
          "execution_count": 2
        }
      ]
    },
    {
      "cell_type": "code",
      "source": [
        "dataset.info()"
      ],
      "metadata": {
        "colab": {
          "base_uri": "https://localhost:8080/"
        },
        "id": "vs9minr9IFzu",
        "outputId": "59f1f9ef-d1a5-4136-d6bd-e29ef671ce12"
      },
      "execution_count": 3,
      "outputs": [
        {
          "output_type": "stream",
          "name": "stdout",
          "text": [
            "<class 'pandas.core.frame.DataFrame'>\n",
            "RangeIndex: 312106 entries, 0 to 312105\n",
            "Data columns (total 18 columns):\n",
            " #   Column          Non-Null Count   Dtype  \n",
            "---  ------          --------------   -----  \n",
            " 0   Event           312106 non-null  int64  \n",
            " 1   Time            312106 non-null  float64\n",
            " 2   S_Node          312106 non-null  int64  \n",
            " 3   Node_id         312106 non-null  int64  \n",
            " 4   Rest_Energy     312106 non-null  float64\n",
            " 5   Trace_Level     312106 non-null  int64  \n",
            " 6   Mac_Type_Pckt   312106 non-null  int64  \n",
            " 7   Source_IP_Port  312106 non-null  float64\n",
            " 8   Des_IP_Port     312106 non-null  float64\n",
            " 9   Packet_Size     312106 non-null  int64  \n",
            " 10  TTL             312106 non-null  int64  \n",
            " 11  Hop_Count       312106 non-null  int64  \n",
            " 12  Broadcast_ID    312106 non-null  int64  \n",
            " 13  Dest_Node_Num   312106 non-null  int64  \n",
            " 14  Dest_Seq_Num    312106 non-null  int64  \n",
            " 15  Src_Node_ID     312106 non-null  int64  \n",
            " 16  Src_Seq_Num     312106 non-null  int64  \n",
            " 17  Class           312106 non-null  int64  \n",
            "dtypes: float64(4), int64(14)\n",
            "memory usage: 42.9 MB\n"
          ]
        }
      ]
    },
    {
      "cell_type": "markdown",
      "source": [
        "### **Data Preprocessing**"
      ],
      "metadata": {
        "id": "5Gj6cV2IImAR"
      }
    },
    {
      "cell_type": "code",
      "source": [
        "encoder = LabelEncoder()\n",
        "y = encoder.fit_transform(dataset['Class'])\n",
        "y = np_utils.to_categorical(y, num_classes=4)\n",
        "X = dataset.drop(['Class'],axis=1)\n",
        "X=X.values\n",
        "print(X.shape)\n",
        "print(y.shape)"
      ],
      "metadata": {
        "colab": {
          "base_uri": "https://localhost:8080/"
        },
        "id": "iRGySr-hIG_0",
        "outputId": "dc66ad41-9a96-4e6c-82c8-5210903f03df"
      },
      "execution_count": 4,
      "outputs": [
        {
          "output_type": "stream",
          "name": "stdout",
          "text": [
            "(312106, 17)\n",
            "(312106, 4)\n"
          ]
        }
      ]
    },
    {
      "cell_type": "code",
      "source": [
        "# Data preprocessing\n",
        "from imblearn.over_sampling import SMOTE\n",
        "oversample = SMOTE()\n",
        "X, y = oversample.fit_resample(X, y)"
      ],
      "metadata": {
        "id": "MnKdtedPINLH"
      },
      "execution_count": 5,
      "outputs": []
    },
    {
      "cell_type": "code",
      "source": [
        "X_train, X_test, y_train, y_test = train_test_split(X, y, test_size=0.2, random_state=101)"
      ],
      "metadata": {
        "id": "gTH-yTaVIOTj"
      },
      "execution_count": 6,
      "outputs": []
    },
    {
      "cell_type": "markdown",
      "source": [
        "**Hybrid MNB-RNN for 4 Class**"
      ],
      "metadata": {
        "id": "fIIJVUiTIyxO"
      }
    },
    {
      "cell_type": "code",
      "source": [
        "# LSTM model\n",
        "model = Sequential()\n",
        "model.add(LSTM(64, input_shape=(X_train.shape[1], 1)))\n",
        "model.add(Dropout(0.2))\n",
        "model.add(Dense(4, activation='softmax'))\n",
        "model.compile(loss='categorical_crossentropy', optimizer='adam', metrics=['accuracy'])\n",
        "model.summary()\n",
        "\n",
        "X_train_lstm = X_train.reshape(X_train.shape[0], X_train.shape[1], 1)\n",
        "X_test_lstm = X_test.reshape(X_test.shape[0], X_test.shape[1], 1)\n",
        "\n",
        "history = model.fit(X_train_lstm, y_train, epochs=15, batch_size=64, validation_data=(X_test_lstm, y_test), verbose=1)\n",
        "\n",
        "# Multinomial Naive Bayes model\n",
        "mnb = MultinomialNB()\n",
        "mnb.fit(X_train, np.argmax(y_train, axis=1))\n",
        "\n",
        "y_pred_mnb = mnb.predict(X_test)\n",
        "y_pred_mnb = np_utils.to_categorical(y_pred_mnb, num_classes=4)\n",
        "\n",
        "# Combine models\n",
        "y_pred_lstm = model.predict(X_test_lstm)\n",
        "y_pred_lstm = np.argmax(y_pred_lstm, axis=1)\n",
        "y_pred_lstm = np_utils.to_categorical(y_pred_lstm, num_classes=4)\n",
        "\n",
        "y_pred = y_pred_lstm * 0.4 + y_pred_mnb * 0.6\n",
        "y_pred = np.argmax(y_pred, axis=1)\n",
        "\n",
        "# Evaluation metrics\n",
        "print(classification_report(np.argmax(y_test, axis=1), y_pred))\n",
        "print(confusion_matrix(np.argmax(y_test, axis=1), y_pred))"
      ],
      "metadata": {
        "colab": {
          "base_uri": "https://localhost:8080/"
        },
        "id": "Y0phil7RII6e",
        "outputId": "0cd45eb5-6430-4cf6-991a-b806d5b30680"
      },
      "execution_count": 7,
      "outputs": [
        {
          "output_type": "stream",
          "name": "stdout",
          "text": [
            "Model: \"sequential\"\n",
            "_________________________________________________________________\n",
            " Layer (type)                Output Shape              Param #   \n",
            "=================================================================\n",
            " lstm (LSTM)                 (None, 64)                16896     \n",
            "                                                                 \n",
            " dropout (Dropout)           (None, 64)                0         \n",
            "                                                                 \n",
            " dense (Dense)               (None, 4)                 260       \n",
            "                                                                 \n",
            "=================================================================\n",
            "Total params: 17,156\n",
            "Trainable params: 17,156\n",
            "Non-trainable params: 0\n",
            "_________________________________________________________________\n",
            "Epoch 1/15\n",
            "13143/13143 [==============================] - 232s 17ms/step - loss: 0.3082 - accuracy: 0.8768 - val_loss: 0.2028 - val_accuracy: 0.9156\n",
            "Epoch 2/15\n",
            "13143/13143 [==============================] - 224s 17ms/step - loss: 0.1501 - accuracy: 0.9457 - val_loss: 0.1519 - val_accuracy: 0.9491\n",
            "Epoch 3/15\n",
            "13143/13143 [==============================] - 225s 17ms/step - loss: 0.1150 - accuracy: 0.9612 - val_loss: 0.1042 - val_accuracy: 0.9643\n",
            "Epoch 4/15\n",
            "13143/13143 [==============================] - 221s 17ms/step - loss: 0.1033 - accuracy: 0.9659 - val_loss: 0.1078 - val_accuracy: 0.9596\n",
            "Epoch 5/15\n",
            "13143/13143 [==============================] - 258s 20ms/step - loss: 0.0951 - accuracy: 0.9683 - val_loss: 0.0528 - val_accuracy: 0.9855\n",
            "Epoch 6/15\n",
            "13143/13143 [==============================] - 240s 18ms/step - loss: 0.0825 - accuracy: 0.9730 - val_loss: 0.0515 - val_accuracy: 0.9826\n",
            "Epoch 7/15\n",
            "13143/13143 [==============================] - 233s 18ms/step - loss: 0.0773 - accuracy: 0.9748 - val_loss: 0.1533 - val_accuracy: 0.9506\n",
            "Epoch 8/15\n",
            "13143/13143 [==============================] - 227s 17ms/step - loss: 0.0788 - accuracy: 0.9739 - val_loss: 0.0869 - val_accuracy: 0.9716\n",
            "Epoch 9/15\n",
            "13143/13143 [==============================] - 225s 17ms/step - loss: 0.0677 - accuracy: 0.9783 - val_loss: 0.0850 - val_accuracy: 0.9727\n",
            "Epoch 10/15\n",
            "13143/13143 [==============================] - 227s 17ms/step - loss: 0.0711 - accuracy: 0.9764 - val_loss: 0.0535 - val_accuracy: 0.9828\n",
            "Epoch 11/15\n",
            "13143/13143 [==============================] - 223s 17ms/step - loss: 0.0624 - accuracy: 0.9797 - val_loss: 0.0353 - val_accuracy: 0.9898\n",
            "Epoch 12/15\n",
            "13143/13143 [==============================] - 223s 17ms/step - loss: 0.0613 - accuracy: 0.9799 - val_loss: 0.0369 - val_accuracy: 0.9883\n",
            "Epoch 13/15\n",
            "13143/13143 [==============================] - 225s 17ms/step - loss: 0.0601 - accuracy: 0.9803 - val_loss: 0.0434 - val_accuracy: 0.9854\n",
            "Epoch 14/15\n",
            "13143/13143 [==============================] - 219s 17ms/step - loss: 0.0644 - accuracy: 0.9793 - val_loss: 0.0486 - val_accuracy: 0.9840\n",
            "Epoch 15/15\n",
            "13143/13143 [==============================] - 221s 17ms/step - loss: 0.0569 - accuracy: 0.9818 - val_loss: 0.0446 - val_accuracy: 0.9842\n",
            "6572/6572 [==============================] - 34s 5ms/step\n",
            "              precision    recall  f1-score   support\n",
            "\n",
            "           0       0.58      0.56      0.57     52500\n",
            "           1       0.51      0.55      0.53     52554\n",
            "           2       0.54      0.36      0.43     52545\n",
            "           3       0.76      1.00      0.87     52682\n",
            "\n",
            "    accuracy                           0.62    210281\n",
            "   macro avg       0.60      0.62      0.60    210281\n",
            "weighted avg       0.60      0.62      0.60    210281\n",
            "\n",
            "[[29206 14356  6763  2175]\n",
            " [ 8099 28706  8996  6753]\n",
            " [13464 12904 18847  7330]\n",
            " [    0     0     3 52679]]\n"
          ]
        }
      ]
    },
    {
      "cell_type": "code",
      "source": [
        "import seaborn as sns\n",
        "import matplotlib.pyplot as plt\n",
        "import numpy as np\n",
        "import itertools\n",
        "import seaborn as sns\n",
        "from sklearn import metrics \n",
        "import matplotlib.pyplot as plt\n",
        "from sklearn.metrics import confusion_matrix\n",
        "def conf_mat(d1,d2):\n",
        "  cm = confusion_matrix(d1, d2)\n",
        "  plt.figure(figsize=(6,5.5))\n",
        "  ax = sns.heatmap(cm,  fmt='2', annot=True, cmap='YlGnBu')\n",
        "  sns.set(font_scale=1)\n",
        "  ax.set_xlabel('\\nPredicted Values')\n",
        "  ax.set_ylabel('Actual Values\\n');\n",
        "  ax.xaxis.set_ticklabels(['Normal','Flooding','Blackhole','Forwarding'])\n",
        "  ax.yaxis.set_ticklabels(['Normal','Flooding','Blackhole','Forwarding'])\n",
        "  plt.tight_layout()\n",
        "  # plt.savefig(\"F1.eps\", format = 'eps')\n",
        "  plt.show()"
      ],
      "metadata": {
        "id": "A5UkUYfcIXrj"
      },
      "execution_count": 12,
      "outputs": []
    },
    {
      "cell_type": "code",
      "source": [
        "print(\"Confusion Matrix of Hybrid MNB-RNNs Model\") \n",
        "conf_mat(np.argmax(y_test, axis=1), y_pred)"
      ],
      "metadata": {
        "colab": {
          "base_uri": "https://localhost:8080/",
          "height": 568
        },
        "id": "GzA7DpzUIZ5n",
        "outputId": "d2f07bc5-d77b-4415-c6de-606c48e9c0ef"
      },
      "execution_count": 13,
      "outputs": [
        {
          "output_type": "stream",
          "name": "stdout",
          "text": [
            "Confusion Matrix of Hybrid MNB-RNNs Model\n"
          ]
        },
        {
          "output_type": "display_data",
          "data": {
            "text/plain": [
              "<Figure size 600x550 with 2 Axes>"
            ],
            "image/png": "[encoded data removed]"
          },
          "metadata": {}
        }
      ]
    },
    {
      "cell_type": "code",
      "source": [
        "report = classification_report(np.argmax(y_test, axis=1), y_pred, output_dict=True)\n",
        "detection_rates = {}\n",
        "for cls in range(4):\n",
        "    detection_rates[encoder.inverse_transform([cls])[0]] = report[str(cls)]['recall']\n",
        "print(\"Detection rates:\", detection_rates)"
      ],
      "metadata": {
        "colab": {
          "base_uri": "https://localhost:8080/"
        },
        "id": "lyRnolSQIeMW",
        "outputId": "8f930cef-458d-4ba9-ba23-bed1d11f0418"
      },
      "execution_count": 14,
      "outputs": [
        {
          "output_type": "stream",
          "name": "stdout",
          "text": [
            "Detection rates: {0: 0.5563047619047619, 1: 0.546219126993188, 2: 0.358683033590256, 3: 0.9999430545537376}\n"
          ]
        }
      ]
    }
  ]
}