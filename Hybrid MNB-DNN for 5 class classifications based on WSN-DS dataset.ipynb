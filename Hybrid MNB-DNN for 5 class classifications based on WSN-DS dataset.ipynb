{
  "nbformat": 4,
  "nbformat_minor": 0,
  "metadata": {
    "colab": {
      "provenance": [],
      "authorship_tag": "ABX9TyM9EMMI68k0uifFXGgrvO86",
      "include_colab_link": true
    },
    "kernelspec": {
      "name": "python3",
      "display_name": "Python 3"
    },
    "language_info": {
      "name": "python"
    }
  },
  "cells": [
    {
      "cell_type": "markdown",
      "metadata": {
        "id": "view-in-github",
        "colab_type": "text"
      },
      "source": [
        "<a href=\"https://colab.research.google.com/github/sankeawthong/Project-1-Lita-Chatbot/blob/main/Hybrid%20MNB-DNN%20for%205%20class%20classifications%20based%20on%20WSN-DS%20dataset.ipynb\" target=\"_parent\"><img src=\"https://colab.research.google.com/assets/colab-badge.svg\" alt=\"Open In Colab\"/></a>"
      ]
    },
    {
      "cell_type": "markdown",
      "source": [
        "### **Hybrid MNB-DNN for 5 class classifications based on WSN-DS dataset**"
      ],
      "metadata": {
        "id": "TkdrGJ7EM5aV"
      }
    },
    {
      "cell_type": "code",
      "execution_count": 1,
      "metadata": {
        "id": "3eGk6Xz8MhZ_"
      },
      "outputs": [],
      "source": [
        "import pandas as pd\n",
        "import numpy as np\n",
        "from sklearn.preprocessing import LabelEncoder\n",
        "from sklearn.model_selection import train_test_split\n",
        "from keras.utils import np_utils\n",
        "from keras.models import Sequential\n",
        "from keras.layers import Dense, LSTM, Dropout\n",
        "from sklearn.naive_bayes import MultinomialNB\n",
        "from sklearn.metrics import confusion_matrix, classification_report"
      ]
    },
    {
      "cell_type": "code",
      "source": [
        "# load dataset\n",
        "dataset = pd.read_csv(\"dataset_WSN-DS.csv\")\n",
        "dataset.isnull().sum()"
      ],
      "metadata": {
        "colab": {
          "base_uri": "https://localhost:8080/"
        },
        "id": "P9hFyKxyMrvp",
        "outputId": "dab0f4b0-5ad0-4b72-b5c5-768ad7355ba9"
      },
      "execution_count": 2,
      "outputs": [
        {
          "output_type": "execute_result",
          "data": {
            "text/plain": [
              " id                 0\n",
              " Time               0\n",
              " Is_CH              0\n",
              " who CH             0\n",
              " Dist_To_CH         0\n",
              " ADV_S              0\n",
              " ADV_R              0\n",
              " JOIN_S             0\n",
              " JOIN_R             0\n",
              " SCH_S              0\n",
              " SCH_R              0\n",
              "Rank                0\n",
              " DATA_S             0\n",
              " DATA_R             0\n",
              " Data_Sent_To_BS    0\n",
              " dist_CH_To_BS      0\n",
              " send_code          0\n",
              "Expaned Energy      0\n",
              "Class               0\n",
              "dtype: int64"
            ]
          },
          "metadata": {},
          "execution_count": 2
        }
      ]
    },
    {
      "cell_type": "code",
      "source": [
        "dataset.info ()"
      ],
      "metadata": {
        "colab": {
          "base_uri": "https://localhost:8080/"
        },
        "id": "ytXSlUBZQ9V1",
        "outputId": "315c03ce-c561-4d07-bf7d-3133cf633d8d"
      },
      "execution_count": 3,
      "outputs": [
        {
          "output_type": "stream",
          "name": "stdout",
          "text": [
            "<class 'pandas.core.frame.DataFrame'>\n",
            "RangeIndex: 374661 entries, 0 to 374660\n",
            "Data columns (total 19 columns):\n",
            " #   Column            Non-Null Count   Dtype  \n",
            "---  ------            --------------   -----  \n",
            " 0    id               374661 non-null  int64  \n",
            " 1    Time             374661 non-null  int64  \n",
            " 2    Is_CH            374661 non-null  int64  \n",
            " 3    who CH           374661 non-null  int64  \n",
            " 4    Dist_To_CH       374661 non-null  float64\n",
            " 5    ADV_S            374661 non-null  int64  \n",
            " 6    ADV_R            374661 non-null  int64  \n",
            " 7    JOIN_S           374661 non-null  int64  \n",
            " 8    JOIN_R           374661 non-null  int64  \n",
            " 9    SCH_S            374661 non-null  int64  \n",
            " 10   SCH_R            374661 non-null  int64  \n",
            " 11  Rank              374661 non-null  int64  \n",
            " 12   DATA_S           374661 non-null  int64  \n",
            " 13   DATA_R           374661 non-null  int64  \n",
            " 14   Data_Sent_To_BS  374661 non-null  int64  \n",
            " 15   dist_CH_To_BS    374661 non-null  float64\n",
            " 16   send_code        374661 non-null  int64  \n",
            " 17  Expaned Energy    374661 non-null  float64\n",
            " 18  Class             374661 non-null  int64  \n",
            "dtypes: float64(3), int64(16)\n",
            "memory usage: 54.3 MB\n"
          ]
        }
      ]
    },
    {
      "cell_type": "code",
      "source": [
        "# Data preprocessing\n",
        "encoder = LabelEncoder()\n",
        "y = encoder.fit_transform(dataset['Class'])\n",
        "y = np_utils.to_categorical(y, num_classes=5)\n",
        "X = dataset.drop(['Class'],axis=1)\n",
        "X=X.values\n",
        "print(X.shape)\n",
        "print(y.shape)"
      ],
      "metadata": {
        "colab": {
          "base_uri": "https://localhost:8080/"
        },
        "id": "0roFrKR-M_1P",
        "outputId": "c7178ae1-6dd2-49d5-f843-dc38aaf18fcf"
      },
      "execution_count": 5,
      "outputs": [
        {
          "output_type": "stream",
          "name": "stdout",
          "text": [
            "(374661, 18)\n",
            "(374661, 5)\n"
          ]
        }
      ]
    },
    {
      "cell_type": "code",
      "source": [
        "# Data preprocessing\n",
        "from imblearn.over_sampling import SMOTE\n",
        "oversample = SMOTE()\n",
        "X, y = oversample.fit_resample(X, y)"
      ],
      "metadata": {
        "id": "6CcNEGgZNBqd"
      },
      "execution_count": 6,
      "outputs": []
    },
    {
      "cell_type": "code",
      "source": [
        "X_train, X_test, y_train, y_test = train_test_split(X, y, test_size=0.2, random_state=101)"
      ],
      "metadata": {
        "id": "AY-wVsZJNEpW"
      },
      "execution_count": 7,
      "outputs": []
    },
    {
      "cell_type": "markdown",
      "source": [
        "### **Hybrid MNB-DNN for 5 class classifications**"
      ],
      "metadata": {
        "id": "J-E3U1ClMtxJ"
      }
    },
    {
      "cell_type": "code",
      "source": [
        "# Multinomial Naive Bayes model\n",
        "mnb = MultinomialNB()\n",
        "mnb.fit(X_train, np.argmax(y_train, axis=1))\n",
        "\n",
        "y_pred_mnb = mnb.predict(X_test)\n",
        "y_pred_mnb = np_utils.to_categorical(y_pred_mnb, num_classes=5)\n",
        "\n",
        "from sklearn.metrics import accuracy_score\n",
        "\n",
        "# Calculate accuracy for Multinomial Naive Bayes model\n",
        "accuracy_mnb = accuracy_score(np.argmax(y_test, axis=1), np.argmax(y_pred_mnb, axis=1))\n",
        "print(\"Multinomial Naive Bayes Accuracy:\", accuracy_mnb)"
      ],
      "metadata": {
        "colab": {
          "base_uri": "https://localhost:8080/"
        },
        "id": "9IFeKgE-MtfT",
        "outputId": "22420dfe-9132-4d55-b22d-690b96823d1e"
      },
      "execution_count": 10,
      "outputs": [
        {
          "output_type": "stream",
          "name": "stdout",
          "text": [
            "Multinomial Naive Bayes Accuracy: 0.6477389683179148\n"
          ]
        }
      ]
    },
    {
      "cell_type": "code",
      "source": [
        "# DNN model\n",
        "model = Sequential()\n",
        "model.add(Dense(64, input_shape=(X_train.shape[1],)))\n",
        "model.add(Dropout(0.2))\n",
        "model.add(Dense(5, activation='softmax'))\n",
        "model.compile(loss='categorical_crossentropy', optimizer='adam', metrics=['accuracy'])\n",
        "model.summary()\n",
        "\n",
        "history = model.fit(X_train, y_train, epochs=15, batch_size=64, validation_data=(X_test, y_test), verbose=1)\n",
        "\n",
        "# Evaluate DNN model\n",
        "_, accuracy_dnn = model.evaluate(X_test, y_test, verbose=0)\n",
        "print(\"DNN Accuracy:\", accuracy_dnn)"
      ],
      "metadata": {
        "colab": {
          "base_uri": "https://localhost:8080/"
        },
        "id": "YqKyBwkTQR1X",
        "outputId": "0813f5a1-eb17-4554-94b7-378ff2e1002a"
      },
      "execution_count": 11,
      "outputs": [
        {
          "output_type": "stream",
          "name": "stdout",
          "text": [
            "Model: \"sequential\"\n",
            "_________________________________________________________________\n",
            " Layer (type)                Output Shape              Param #   \n",
            "=================================================================\n",
            " dense (Dense)               (None, 64)                1216      \n",
            "                                                                 \n",
            " dropout (Dropout)           (None, 64)                0         \n",
            "                                                                 \n",
            " dense_1 (Dense)             (None, 5)                 325       \n",
            "                                                                 \n",
            "=================================================================\n",
            "Total params: 1,541\n",
            "Trainable params: 1,541\n",
            "Non-trainable params: 0\n",
            "_________________________________________________________________\n",
            "Epoch 1/15\n",
            "21255/21255 [==============================] - 49s 2ms/step - loss: 951.5510 - accuracy: 0.6804 - val_loss: 0.7318 - val_accuracy: 0.8302\n",
            "Epoch 2/15\n",
            "21255/21255 [==============================] - 46s 2ms/step - loss: 4.2515 - accuracy: 0.7421 - val_loss: 50.8143 - val_accuracy: 0.4902\n",
            "Epoch 3/15\n",
            "21255/21255 [==============================] - 45s 2ms/step - loss: 4.2930 - accuracy: 0.7732 - val_loss: 5.0401 - val_accuracy: 0.7554\n",
            "Epoch 4/15\n",
            "21255/21255 [==============================] - 52s 2ms/step - loss: 4.3161 - accuracy: 0.7816 - val_loss: 21.0279 - val_accuracy: 0.5903\n",
            "Epoch 5/15\n",
            "21255/21255 [==============================] - 48s 2ms/step - loss: 4.2680 - accuracy: 0.7873 - val_loss: 0.3565 - val_accuracy: 0.8213\n",
            "Epoch 6/15\n",
            "21255/21255 [==============================] - 44s 2ms/step - loss: 4.2231 - accuracy: 0.7977 - val_loss: 9.5980 - val_accuracy: 0.7681\n",
            "Epoch 7/15\n",
            "21255/21255 [==============================] - 44s 2ms/step - loss: 4.5126 - accuracy: 0.7977 - val_loss: 17.5848 - val_accuracy: 0.7177\n",
            "Epoch 8/15\n",
            "21255/21255 [==============================] - 47s 2ms/step - loss: 4.2729 - accuracy: 0.8042 - val_loss: 9.6442 - val_accuracy: 0.7539\n",
            "Epoch 9/15\n",
            "21255/21255 [==============================] - 44s 2ms/step - loss: 4.3875 - accuracy: 0.8055 - val_loss: 0.9716 - val_accuracy: 0.8374\n",
            "Epoch 10/15\n",
            "21255/21255 [==============================] - 48s 2ms/step - loss: 4.8610 - accuracy: 0.8102 - val_loss: 37.0262 - val_accuracy: 0.7204\n",
            "Epoch 11/15\n",
            "21255/21255 [==============================] - 48s 2ms/step - loss: 4.4607 - accuracy: 0.8098 - val_loss: 1.2399 - val_accuracy: 0.8580\n",
            "Epoch 12/15\n",
            "21255/21255 [==============================] - 48s 2ms/step - loss: 4.2927 - accuracy: 0.8141 - val_loss: 1.3924 - val_accuracy: 0.8438\n",
            "Epoch 13/15\n",
            "21255/21255 [==============================] - 44s 2ms/step - loss: 4.6435 - accuracy: 0.8160 - val_loss: 2.4220 - val_accuracy: 0.8067\n",
            "Epoch 14/15\n",
            "21255/21255 [==============================] - 44s 2ms/step - loss: 4.6261 - accuracy: 0.8159 - val_loss: 34.6088 - val_accuracy: 0.6575\n",
            "Epoch 15/15\n",
            "21255/21255 [==============================] - 43s 2ms/step - loss: 4.4741 - accuracy: 0.8178 - val_loss: 1.1958 - val_accuracy: 0.8711\n",
            "DNN Accuracy: 0.8711044192314148\n"
          ]
        }
      ]
    },
    {
      "cell_type": "code",
      "source": [
        "# Combine MNB and DNN predictions\n",
        "combined_pred = (y_pred_mnb + model.predict(X_test)) / 2\n",
        "y_pred_combined = np.argmax(combined_pred, axis=1)\n",
        "\n",
        "# Evaluate the combined model\n",
        "combined_report = classification_report(np.argmax(y_test, axis=1), y_pred_combined)\n",
        "print(\"Combined Model Classification Report:\")\n",
        "print(combined_report)"
      ],
      "metadata": {
        "colab": {
          "base_uri": "https://localhost:8080/"
        },
        "id": "ecveskY_QRx5",
        "outputId": "8de94849-165c-4963-9895-cf20525ebb68"
      },
      "execution_count": 12,
      "outputs": [
        {
          "output_type": "stream",
          "name": "stdout",
          "text": [
            "10628/10628 [==============================] - 13s 1ms/step\n",
            "Combined Model Classification Report:\n",
            "              precision    recall  f1-score   support\n",
            "\n",
            "           0       0.93      0.81      0.87     67745\n",
            "           1       0.39      0.44      0.42     68144\n",
            "           2       0.98      0.35      0.51     68282\n",
            "           3       0.58      0.82      0.68     68009\n",
            "           4       0.66      0.82      0.73     67886\n",
            "\n",
            "    accuracy                           0.65    340066\n",
            "   macro avg       0.71      0.65      0.64    340066\n",
            "weighted avg       0.71      0.65      0.64    340066\n",
            "\n"
          ]
        }
      ]
    },
    {
      "cell_type": "code",
      "source": [
        "import seaborn as sns\n",
        "import matplotlib.pyplot as plt\n",
        "import numpy as np\n",
        "import itertools\n",
        "import seaborn as sns\n",
        "from sklearn import metrics \n",
        "import matplotlib.pyplot as plt\n",
        "from sklearn.metrics import confusion_matrix\n",
        "def conf_mat(d1,d2):\n",
        "  cm = confusion_matrix(d1, d2)\n",
        "  plt.figure(figsize=(6,5.5))\n",
        "  ax = sns.heatmap(cm,  fmt='2', annot=True, cmap='YlGnBu')\n",
        "  sns.set(font_scale=1)\n",
        "  ax.set_xlabel('\\nPredicted Values')\n",
        "  ax.set_ylabel('Actual Values\\n');\n",
        "  ax.xaxis.set_ticklabels(['Normal','Blackhole','Flooding','Grayhole','TDMA'])\n",
        "  ax.yaxis.set_ticklabels(['Normal','Blackhole','Flooding','Grayhole','TDMA'])\n",
        "  plt.tight_layout()\n",
        "  # plt.savefig(\"F1.eps\", format = 'eps')\n",
        "  plt.show()"
      ],
      "metadata": {
        "id": "LnmHzQcZQRum"
      },
      "execution_count": 13,
      "outputs": []
    },
    {
      "cell_type": "code",
      "source": [
        "print(\"Confusion Matrix of Hybrid MNB-DNN Model\") \n",
        "conf_mat(np.argmax(y_test, axis=1), y_pred_combined)"
      ],
      "metadata": {
        "colab": {
          "base_uri": "https://localhost:8080/",
          "height": 568
        },
        "id": "1bURwM62QRrG",
        "outputId": "a000f4ba-90b0-405a-d710-84763ffda2df"
      },
      "execution_count": 14,
      "outputs": [
        {
          "output_type": "stream",
          "name": "stdout",
          "text": [
            "Confusion Matrix of Hybrid MNB-DNN Model\n"
          ]
        },
        {
          "output_type": "display_data",
          "data": {
            "text/plain": [
              "<Figure size 600x550 with 2 Axes>"
            ],
            "image/png": "[encoded data removed]"
          },
          "metadata": {}
        }
      ]
    }
  ]
}