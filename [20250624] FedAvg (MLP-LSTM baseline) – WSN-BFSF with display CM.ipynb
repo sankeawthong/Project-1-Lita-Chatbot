{
  "nbformat": 4,
  "nbformat_minor": 0,
  "metadata": {
    "colab": {
      "provenance": [],
      "machine_shape": "hm",
      "gpuType": "L4",
      "authorship_tag": "ABX9TyNabDDk7GD/J2PK8QUz9xql",
      "include_colab_link": true
    },
    "kernelspec": {
      "name": "python3",
      "display_name": "Python 3"
    },
    "language_info": {
      "name": "python"
    },
    "accelerator": "GPU"
  },
  "cells": [
    {
      "cell_type": "markdown",
      "metadata": {
        "id": "view-in-github",
        "colab_type": "text"
      },
      "source": [
        "<a href=\"https://colab.research.google.com/github/sankeawthong/Project-1-Lita-Chatbot/blob/main/%5B20250624%5D%20FedAvg%20(MLP-LSTM%20baseline)%20%E2%80%93%20WSN-BFSF%20with%20display%20CM.ipynb\" target=\"_parent\"><img src=\"https://colab.research.google.com/assets/colab-badge.svg\" alt=\"Open In Colab\"/></a>"
      ]
    },
    {
      "cell_type": "markdown",
      "source": [
        "**FedAvg (MLP-LSTM baseline)  –  WSN-BFSF with display CM**"
      ],
      "metadata": {
        "id": "Qir4VqMsWucB"
      }
    },
    {
      "cell_type": "code",
      "execution_count": 1,
      "metadata": {
        "id": "ijaS_iWq9Dhu"
      },
      "outputs": [],
      "source": [
        "#!/usr/bin/env python3\n",
        "# --------------------------------------------------------------------\n",
        "#   FedAvg (MLP-LSTM baseline)  –  WSN-BFSF\n",
        "#   ▸ identical data pipeline as TrustFed-IDS\n",
        "#   ▸ weighted aggregation by client-sample count (no trust)\n",
        "#   ▸ saves raw + PNG confusion matrix in /mnt/data\n",
        "# --------------------------------------------------------------------\n",
        "import os, time, psutil, warnings, numpy as np, pandas as pd, tensorflow as tf\n",
        "from tensorflow.keras import Sequential\n",
        "from tensorflow.keras.layers import InputLayer, LSTM, Dense, Dropout\n",
        "from tensorflow.keras.regularizers import l2\n",
        "from tensorflow.keras.utils import to_categorical\n",
        "from tensorflow.keras.optimizers.schedules import CosineDecay\n",
        "from sklearn.preprocessing import LabelEncoder, StandardScaler\n",
        "from sklearn.model_selection import train_test_split\n",
        "from sklearn.metrics import (accuracy_score, f1_score, confusion_matrix)\n",
        "from imblearn.over_sampling import SMOTE\n",
        "import seaborn as sns, matplotlib.pyplot as plt\n",
        "warnings.filterwarnings(\"ignore\", category=UserWarning)"
      ]
    },
    {
      "cell_type": "code",
      "source": [
        "# ----------------------------- CONFIG ---------------------------------\n",
        "SEED, NUM_CLIENTS   = 42, 5\n",
        "ROUNDS, LOCAL_EPOCHS = 30, 1\n",
        "BATCH_SIZE, DIR_ALPHA = 32, 0.5\n",
        "DATA_PATH, LOG_DIR    = \"dataset.csv\", \"/mnt/data\"\n",
        "os.makedirs(LOG_DIR, exist_ok=True)\n",
        "\n",
        "np.random.seed(SEED); tf.random.set_seed(SEED)\n",
        "\n",
        "# ---------------- 1. GLOBAL LOAD + SCALER -----------------------------\n",
        "df = pd.read_csv(DATA_PATH).dropna()\n",
        "for col in df.select_dtypes(include=\"object\"):\n",
        "    df[col] = LabelEncoder().fit_transform(df[col])\n",
        "\n",
        "X = df.drop(\"Class\", axis=1).astype(\"float32\").values\n",
        "y = df[\"Class\"].astype(\"int64\").values\n",
        "\n",
        "X_tr, X_te, y_tr, y_te = train_test_split(\n",
        "    X, y, test_size=0.20, stratify=y, random_state=SEED)\n",
        "\n",
        "scaler = StandardScaler().fit(X_tr)\n",
        "X_tr, X_te = scaler.transform(X_tr), scaler.transform(X_te)\n",
        "\n",
        "n_classes  = int(y_tr.max() + 1)\n",
        "INPUT_SHAPE= (X_tr.shape[1], 1)"
      ],
      "metadata": {
        "id": "rWd5_3MK-RAv"
      },
      "execution_count": 2,
      "outputs": []
    },
    {
      "cell_type": "code",
      "source": [
        "# ---------------- 2. DIRICHLET SPLIT + LOCAL SMOTE --------------------\n",
        "def dirichlet_split(X, y, k, alpha, rng):\n",
        "    idx = {c: rng.permutation(np.where(y==c)[0]) for c in np.unique(y)}\n",
        "    buckets = [[] for _ in range(k)]\n",
        "    for c, ids in idx.items():\n",
        "        parts = (rng.dirichlet([alpha]*k)*len(ids)).astype(int)\n",
        "        while parts.sum() < len(ids): parts[rng.randint(0,k)] += 1\n",
        "        s=0\n",
        "        for cid, cnt in enumerate(parts):\n",
        "            buckets[cid].extend(ids[s:s+cnt]); s += cnt\n",
        "    for b in buckets: rng.shuffle(b)\n",
        "    return [X[b] for b in buckets], [y[b] for b in buckets]\n",
        "\n",
        "rng = np.random.RandomState(SEED)\n",
        "cX_raw, cY_raw = dirichlet_split(X_tr, y_tr, NUM_CLIENTS, DIR_ALPHA, rng)\n",
        "\n",
        "client_X, client_y = [], []\n",
        "for cid,(Xi,yi) in enumerate(zip(cX_raw, cY_raw)):\n",
        "    try:\n",
        "        Xi, yi = SMOTE(random_state=SEED).fit_resample(Xi, yi)\n",
        "        print(f\"[CID {cid}] SMOTE → {len(Xi):,} samples.\")\n",
        "    except ValueError as e:\n",
        "        print(f\"[CID {cid}] SMOTE skipped ({e}); using raw data.\")\n",
        "    client_X.append(Xi[...,None])\n",
        "    client_y.append(to_categorical(yi, n_classes))\n",
        "\n",
        "X_te = X_te[...,None]\n",
        "y_te_cat = to_categorical(y_te, n_classes)"
      ],
      "metadata": {
        "colab": {
          "base_uri": "https://localhost:8080/"
        },
        "id": "u3pSVoi9-Q9B",
        "outputId": "6bcc584d-6c77-48f9-e91c-86c7a50f6c96"
      },
      "execution_count": 3,
      "outputs": [
        {
          "output_type": "stream",
          "name": "stdout",
          "text": [
            "[CID 0] SMOTE → 16,092 samples.\n",
            "[CID 1] SMOTE → 57,308 samples.\n",
            "[CID 2] SMOTE skipped (Expected n_neighbors <= n_samples_fit, but n_neighbors = 6, n_samples_fit = 5, n_samples = 5); using raw data.\n",
            "[CID 3] SMOTE → 43,388 samples.\n",
            "[CID 4] SMOTE → 425,316 samples.\n"
          ]
        }
      ]
    },
    {
      "cell_type": "code",
      "source": [
        "# ---------------- 3. MODEL -------------------------------------------\n",
        "def build_model(inp=INPUT_SHAPE, classes=n_classes):\n",
        "    m = Sequential([\n",
        "        InputLayer(shape=inp),\n",
        "        LSTM(128, return_sequences=True, activation='tanh',\n",
        "             kernel_regularizer=l2(5e-4)),\n",
        "        LSTM(64,  activation='tanh', kernel_regularizer=l2(5e-4)),\n",
        "        Dense(256, activation='relu'), Dropout(0.20),\n",
        "        Dense(128, activation='relu'), Dropout(0.25),\n",
        "        Dense(classes, activation='softmax')\n",
        "    ])\n",
        "    opt = tf.keras.optimizers.Nadam(\n",
        "              CosineDecay(5e-4, decay_steps=ROUNDS, alpha=0.4),\n",
        "              clipnorm=2.0)\n",
        "    m.compile(opt, loss='categorical_crossentropy', metrics=['accuracy'])\n",
        "    return m\n",
        "\n",
        "# ---------------- 4. FEDERATED LOOP (FedAvg) --------------------------\n",
        "g_model   = build_model()\n",
        "g_weights = g_model.get_weights()\n",
        "perf_log, comm_log = [], []\n",
        "\n",
        "for r in range(1, ROUNDS+1):\n",
        "    t0 = time.time()\n",
        "    lw, ns, bytes_out = {}, {}, 0\n",
        "\n",
        "    for cid in range(NUM_CLIENTS):\n",
        "        n_val = max(1, int(0.15*len(client_X[cid])))\n",
        "        Xv, yv = client_X[cid][:n_val], client_y[cid][:n_val]\n",
        "        Xt, yt = client_X[cid][n_val:], client_y[cid][n_val:]\n",
        "\n",
        "        local = build_model(); local.set_weights(g_weights)\n",
        "        local.fit(Xt, yt, epochs=LOCAL_EPOCHS,\n",
        "                  batch_size=BATCH_SIZE, verbose=0)\n",
        "\n",
        "        lw[cid] = local.get_weights()\n",
        "        ns[cid] = len(Xt)\n",
        "        bytes_out += sum(w.nbytes for w in lw[cid])\n",
        "\n",
        "    # ---- FedAvg aggregation (weight by sample count) ----\n",
        "    total = sum(ns.values())\n",
        "    g_weights = [np.sum([ns[c]/total * lw[c][l]\n",
        "                         for c in lw], axis=0)\n",
        "                 for l in range(len(g_weights))]\n",
        "    g_model.set_weights(g_weights)\n",
        "\n",
        "    # quick metrics\n",
        "    y_hat = np.argmax(g_model.predict(X_te, verbose=0),1)\n",
        "    perf_log.append(dict(round=r,\n",
        "                         acc=accuracy_score(y_te,y_hat),\n",
        "                         f1 =f1_score(y_te,y_hat,average='weighted')))\n",
        "    comm_log.append(dict(round=r, MB=bytes_out/2**20))\n",
        "\n",
        "    print(f\"R{r:02d} acc={perf_log[-1]['acc']:.8f}  \"\n",
        "          f\"F1={perf_log[-1]['f1']:.8f}  MB={bytes_out/2**20:.2f}\")"
      ],
      "metadata": {
        "colab": {
          "base_uri": "https://localhost:8080/"
        },
        "id": "h2BD6Rn1-Q6N",
        "outputId": "a66e0dfb-e234-44cf-a574-0920f1ae182a"
      },
      "execution_count": 4,
      "outputs": [
        {
          "output_type": "stream",
          "name": "stdout",
          "text": [
            "R01 acc=0.53609304  F1=0.63679494  MB=3.17\n",
            "R02 acc=0.81929448  F1=0.86082761  MB=3.17\n",
            "R03 acc=0.83736503  F1=0.87424525  MB=3.17\n",
            "R04 acc=0.85024511  F1=0.88279925  MB=3.17\n",
            "R05 acc=0.85359328  F1=0.88533464  MB=3.17\n",
            "R06 acc=0.85208741  F1=0.88336748  MB=3.17\n",
            "R07 acc=0.85932844  F1=0.88944925  MB=3.17\n",
            "R08 acc=0.85883182  F1=0.88908634  MB=3.17\n",
            "R09 acc=0.87142354  F1=0.89784130  MB=3.17\n",
            "R10 acc=0.87565281  F1=0.90030176  MB=3.17\n",
            "R11 acc=0.87885681  F1=0.90307708  MB=3.17\n",
            "R12 acc=0.87469162  F1=0.90019201  MB=3.17\n",
            "R13 acc=0.89471661  F1=0.91446525  MB=3.17\n",
            "R14 acc=0.89176893  F1=0.91251277  MB=3.17\n",
            "R15 acc=0.89305053  F1=0.91306775  MB=3.17\n",
            "R16 acc=0.89178495  F1=0.91229676  MB=3.17\n",
            "R17 acc=0.89394765  F1=0.91354522  MB=3.17\n",
            "R18 acc=0.87892089  F1=0.90324157  MB=3.17\n",
            "R19 acc=0.89652687  F1=0.91563876  MB=3.17\n",
            "R20 acc=0.90155714  F1=0.91934987  MB=3.17\n",
            "R21 acc=0.88761975  F1=0.90905228  MB=3.17\n",
            "R22 acc=0.89482875  F1=0.91461166  MB=3.17\n",
            "R23 acc=0.90388004  F1=0.92110519  MB=3.17\n",
            "R24 acc=0.89960270  F1=0.91770845  MB=3.17\n",
            "R25 acc=0.90176540  F1=0.91938256  MB=3.17\n",
            "R26 acc=0.91483772  F1=0.92882518  MB=3.17\n",
            "R27 acc=0.90963122  F1=0.92520501  MB=3.17\n",
            "R28 acc=0.90834962  F1=0.92409157  MB=3.17\n",
            "R29 acc=0.90282272  F1=0.91937080  MB=3.17\n",
            "R30 acc=0.91028804  F1=0.92527418  MB=3.17\n"
          ]
        }
      ]
    },
    {
      "cell_type": "code",
      "source": [
        "# ---------------- 5. CONFUSION MATRIX ---------------------------------\n",
        "print(\"\\n✓ Training done – creating confusion matrix …\")\n",
        "cm = confusion_matrix(y_te, np.argmax(g_model.predict(X_te,0),1))\n",
        "csv_path = f\"{LOG_DIR}/cm_WSN-BFSF_FedAvg.csv\"\n",
        "png_path = csv_path.replace(\".csv\",\".png\")\n",
        "np.savetxt(csv_path, cm, fmt=\"%d\", delimiter=\",\")\n",
        "\n",
        "plt.figure(figsize=(9,4))\n",
        "# raw counts\n",
        "plt.subplot(1,2,1)\n",
        "sns.heatmap(cm, annot=True, fmt='d', cmap='Blues', cbar=False,\n",
        "            xticklabels=[f\"C{i}\" for i in range(n_classes)],\n",
        "            yticklabels=[f\"C{i}\" for i in range(n_classes)],\n",
        "            linewidths=.5, linecolor='grey')\n",
        "plt.title(\"Raw counts\"); plt.xlabel(\"Predicted\"); plt.ylabel(\"True\")\n",
        "\n",
        "# row-normalised\n",
        "row_norm = cm / cm.sum(axis=1, keepdims=True)\n",
        "plt.subplot(1,2,2)\n",
        "sns.heatmap(row_norm*100, annot=True, fmt='.2f', cmap='Blues',\n",
        "            cbar=False, xticklabels=[f\"C{i}\" for i in range(n_classes)],\n",
        "            yticklabels=False, linewidths=.5, linecolor='grey')\n",
        "plt.title(\"Row-normalised\"); plt.xlabel(\"Predicted\")\n",
        "\n",
        "plt.suptitle(\"Confusion Matrix – FedAvg (WSN-BFSF)\", y=1.02, fontsize=13)\n",
        "plt.tight_layout()\n",
        "plt.savefig(png_path, dpi=300); plt.close()\n",
        "\n",
        "print(\"• CSV ⇒\", csv_path)\n",
        "print(\"• PNG ⇒\", png_path)"
      ],
      "metadata": {
        "colab": {
          "base_uri": "https://localhost:8080/"
        },
        "id": "S9IddjyB-Q3n",
        "outputId": "3f458ef4-82b9-46b5-8be6-b7838aeed68c"
      },
      "execution_count": 5,
      "outputs": [
        {
          "output_type": "stream",
          "name": "stdout",
          "text": [
            "\n",
            "✓ Training done – creating confusion matrix …\n",
            "\u001b[1m1951/1951\u001b[0m \u001b[32m━━━━━━━━━━━━━━━━━━━━\u001b[0m\u001b[37m\u001b[0m \u001b[1m4s\u001b[0m 2ms/step\n",
            "• CSV ⇒ /mnt/data/cm_WSN-BFSF_FedAvg.csv\n",
            "• PNG ⇒ /mnt/data/cm_WSN-BFSF_FedAvg.png\n"
          ]
        }
      ]
    },
    {
      "cell_type": "code",
      "source": [
        "# ---------------- 6. LOGS ---------------------------------------------\n",
        "pd.DataFrame(perf_log).to_csv(f\"{LOG_DIR}/perf_log_WSN-BFSF_fedavg.csv\",index=False)\n",
        "pd.DataFrame(comm_log).to_csv(f\"{LOG_DIR}/comm_log_WSN-BFSF_fedavg.csv\",index=False)\n",
        "\n",
        "profile = dict(Params_MB = round(sum(w.nbytes for w in g_weights)/2**20,3),\n",
        "               Rounds    = ROUNDS,\n",
        "               Clients   = NUM_CLIENTS,\n",
        "               PeakMem_MB= round(psutil.Process(\n",
        "                               os.getpid()).memory_info().rss/2**20,2))\n",
        "pd.DataFrame([profile]).to_csv(f\"{LOG_DIR}/model_profile_WSN-BFSF_fedavg.csv\",\n",
        "                               index=False)\n",
        "print(\"\\n✓ All artefacts saved to\", LOG_DIR)"
      ],
      "metadata": {
        "colab": {
          "base_uri": "https://localhost:8080/"
        },
        "id": "t90I0cyS-Q0y",
        "outputId": "2106a009-b842-41e7-d919-056a981a7fe7"
      },
      "execution_count": 6,
      "outputs": [
        {
          "output_type": "stream",
          "name": "stdout",
          "text": [
            "\n",
            "✓ All artefacts saved to /mnt/data\n"
          ]
        }
      ]
    },
    {
      "cell_type": "code",
      "source": [
        "# prompt: ownload log files aboved\n",
        "\n",
        "from google.colab import files\n",
        "\n",
        "# Download the log files\n",
        "files.download(f\"{LOG_DIR}/cm_WSN-BFSF_FedAvg.csv\")"
      ],
      "metadata": {
        "colab": {
          "base_uri": "https://localhost:8080/",
          "height": 17
        },
        "id": "OotlTX_h-QyH",
        "outputId": "ec4280c2-5a3d-4392-cca2-8ac4d6041ab6"
      },
      "execution_count": 7,
      "outputs": [
        {
          "output_type": "display_data",
          "data": {
            "text/plain": [
              "<IPython.core.display.Javascript object>"
            ],
            "application/javascript": [
              "\n",
              "    async function download(id, filename, size) {\n",
              "      if (!google.colab.kernel.accessAllowed) {\n",
              "        return;\n",
              "      }\n",
              "      const div = document.createElement('div');\n",
              "      const label = document.createElement('label');\n",
              "      label.textContent = `Downloading \"${filename}\": `;\n",
              "      div.appendChild(label);\n",
              "      const progress = document.createElement('progress');\n",
              "      progress.max = size;\n",
              "      div.appendChild(progress);\n",
              "      document.body.appendChild(div);\n",
              "\n",
              "      const buffers = [];\n",
              "      let downloaded = 0;\n",
              "\n",
              "      const channel = await google.colab.kernel.comms.open(id);\n",
              "      // Send a message to notify the kernel that we're ready.\n",
              "      channel.send({})\n",
              "\n",
              "      for await (const message of channel.messages) {\n",
              "        // Send a message to notify the kernel that we're ready.\n",
              "        channel.send({})\n",
              "        if (message.buffers) {\n",
              "          for (const buffer of message.buffers) {\n",
              "            buffers.push(buffer);\n",
              "            downloaded += buffer.byteLength;\n",
              "            progress.value = downloaded;\n",
              "          }\n",
              "        }\n",
              "      }\n",
              "      const blob = new Blob(buffers, {type: 'application/binary'});\n",
              "      const a = document.createElement('a');\n",
              "      a.href = window.URL.createObjectURL(blob);\n",
              "      a.download = filename;\n",
              "      div.appendChild(a);\n",
              "      a.click();\n",
              "      div.remove();\n",
              "    }\n",
              "  "
            ]
          },
          "metadata": {}
        },
        {
          "output_type": "display_data",
          "data": {
            "text/plain": [
              "<IPython.core.display.Javascript object>"
            ],
            "application/javascript": [
              "download(\"download_967665fa-7b4f-4c1d-9096-85b5d8639fbd\", \"cm_WSN-BFSF_FedAvg.csv\", 60)"
            ]
          },
          "metadata": {}
        }
      ]
    },
    {
      "cell_type": "code",
      "source": [
        "files.download(f\"{LOG_DIR}/cm_WSN-BFSF_FedAvg.png\")"
      ],
      "metadata": {
        "colab": {
          "base_uri": "https://localhost:8080/",
          "height": 17
        },
        "id": "Yzsq4jL4_vRT",
        "outputId": "e762871b-9c9a-4f6b-ecc8-6c0f8aa48bfd"
      },
      "execution_count": 8,
      "outputs": [
        {
          "output_type": "display_data",
          "data": {
            "text/plain": [
              "<IPython.core.display.Javascript object>"
            ],
            "application/javascript": [
              "\n",
              "    async function download(id, filename, size) {\n",
              "      if (!google.colab.kernel.accessAllowed) {\n",
              "        return;\n",
              "      }\n",
              "      const div = document.createElement('div');\n",
              "      const label = document.createElement('label');\n",
              "      label.textContent = `Downloading \"${filename}\": `;\n",
              "      div.appendChild(label);\n",
              "      const progress = document.createElement('progress');\n",
              "      progress.max = size;\n",
              "      div.appendChild(progress);\n",
              "      document.body.appendChild(div);\n",
              "\n",
              "      const buffers = [];\n",
              "      let downloaded = 0;\n",
              "\n",
              "      const channel = await google.colab.kernel.comms.open(id);\n",
              "      // Send a message to notify the kernel that we're ready.\n",
              "      channel.send({})\n",
              "\n",
              "      for await (const message of channel.messages) {\n",
              "        // Send a message to notify the kernel that we're ready.\n",
              "        channel.send({})\n",
              "        if (message.buffers) {\n",
              "          for (const buffer of message.buffers) {\n",
              "            buffers.push(buffer);\n",
              "            downloaded += buffer.byteLength;\n",
              "            progress.value = downloaded;\n",
              "          }\n",
              "        }\n",
              "      }\n",
              "      const blob = new Blob(buffers, {type: 'application/binary'});\n",
              "      const a = document.createElement('a');\n",
              "      a.href = window.URL.createObjectURL(blob);\n",
              "      a.download = filename;\n",
              "      div.appendChild(a);\n",
              "      a.click();\n",
              "      div.remove();\n",
              "    }\n",
              "  "
            ]
          },
          "metadata": {}
        },
        {
          "output_type": "display_data",
          "data": {
            "text/plain": [
              "<IPython.core.display.Javascript object>"
            ],
            "application/javascript": [
              "download(\"download_3792c81e-7821-4d90-ac04-4225bc35f541\", \"cm_WSN-BFSF_FedAvg.png\", 138014)"
            ]
          },
          "metadata": {}
        }
      ]
    },
    {
      "cell_type": "code",
      "source": [
        "files.download(f\"{LOG_DIR}/perf_log_WSN-BFSF_fedavg.csv\")"
      ],
      "metadata": {
        "colab": {
          "base_uri": "https://localhost:8080/",
          "height": 17
        },
        "id": "KEDsjFt7_wG-",
        "outputId": "3186e4e6-5b3a-4827-f3de-958c2eb482a2"
      },
      "execution_count": 9,
      "outputs": [
        {
          "output_type": "display_data",
          "data": {
            "text/plain": [
              "<IPython.core.display.Javascript object>"
            ],
            "application/javascript": [
              "\n",
              "    async function download(id, filename, size) {\n",
              "      if (!google.colab.kernel.accessAllowed) {\n",
              "        return;\n",
              "      }\n",
              "      const div = document.createElement('div');\n",
              "      const label = document.createElement('label');\n",
              "      label.textContent = `Downloading \"${filename}\": `;\n",
              "      div.appendChild(label);\n",
              "      const progress = document.createElement('progress');\n",
              "      progress.max = size;\n",
              "      div.appendChild(progress);\n",
              "      document.body.appendChild(div);\n",
              "\n",
              "      const buffers = [];\n",
              "      let downloaded = 0;\n",
              "\n",
              "      const channel = await google.colab.kernel.comms.open(id);\n",
              "      // Send a message to notify the kernel that we're ready.\n",
              "      channel.send({})\n",
              "\n",
              "      for await (const message of channel.messages) {\n",
              "        // Send a message to notify the kernel that we're ready.\n",
              "        channel.send({})\n",
              "        if (message.buffers) {\n",
              "          for (const buffer of message.buffers) {\n",
              "            buffers.push(buffer);\n",
              "            downloaded += buffer.byteLength;\n",
              "            progress.value = downloaded;\n",
              "          }\n",
              "        }\n",
              "      }\n",
              "      const blob = new Blob(buffers, {type: 'application/binary'});\n",
              "      const a = document.createElement('a');\n",
              "      a.href = window.URL.createObjectURL(blob);\n",
              "      a.download = filename;\n",
              "      div.appendChild(a);\n",
              "      a.click();\n",
              "      div.remove();\n",
              "    }\n",
              "  "
            ]
          },
          "metadata": {}
        },
        {
          "output_type": "display_data",
          "data": {
            "text/plain": [
              "<IPython.core.display.Javascript object>"
            ],
            "application/javascript": [
              "download(\"download_a30e1b90-ac30-4645-a626-7dde7cadd524\", \"perf_log_WSN-BFSF_fedavg.csv\", 1227)"
            ]
          },
          "metadata": {}
        }
      ]
    },
    {
      "cell_type": "code",
      "source": [
        "files.download(f\"{LOG_DIR}/comm_log_WSN-BFSF_fedavg.csv\")"
      ],
      "metadata": {
        "colab": {
          "base_uri": "https://localhost:8080/",
          "height": 17
        },
        "id": "cHu7CfqF_xAr",
        "outputId": "84317bd7-e635-4a58-dd22-72ef06a6e61b"
      },
      "execution_count": 10,
      "outputs": [
        {
          "output_type": "display_data",
          "data": {
            "text/plain": [
              "<IPython.core.display.Javascript object>"
            ],
            "application/javascript": [
              "\n",
              "    async function download(id, filename, size) {\n",
              "      if (!google.colab.kernel.accessAllowed) {\n",
              "        return;\n",
              "      }\n",
              "      const div = document.createElement('div');\n",
              "      const label = document.createElement('label');\n",
              "      label.textContent = `Downloading \"${filename}\": `;\n",
              "      div.appendChild(label);\n",
              "      const progress = document.createElement('progress');\n",
              "      progress.max = size;\n",
              "      div.appendChild(progress);\n",
              "      document.body.appendChild(div);\n",
              "\n",
              "      const buffers = [];\n",
              "      let downloaded = 0;\n",
              "\n",
              "      const channel = await google.colab.kernel.comms.open(id);\n",
              "      // Send a message to notify the kernel that we're ready.\n",
              "      channel.send({})\n",
              "\n",
              "      for await (const message of channel.messages) {\n",
              "        // Send a message to notify the kernel that we're ready.\n",
              "        channel.send({})\n",
              "        if (message.buffers) {\n",
              "          for (const buffer of message.buffers) {\n",
              "            buffers.push(buffer);\n",
              "            downloaded += buffer.byteLength;\n",
              "            progress.value = downloaded;\n",
              "          }\n",
              "        }\n",
              "      }\n",
              "      const blob = new Blob(buffers, {type: 'application/binary'});\n",
              "      const a = document.createElement('a');\n",
              "      a.href = window.URL.createObjectURL(blob);\n",
              "      a.download = filename;\n",
              "      div.appendChild(a);\n",
              "      a.click();\n",
              "      div.remove();\n",
              "    }\n",
              "  "
            ]
          },
          "metadata": {}
        },
        {
          "output_type": "display_data",
          "data": {
            "text/plain": [
              "<IPython.core.display.Javascript object>"
            ],
            "application/javascript": [
              "download(\"download_64a195c3-b877-4f06-bf20-abd8529f23d0\", \"comm_log_WSN-BFSF_fedavg.csv\", 660)"
            ]
          },
          "metadata": {}
        }
      ]
    },
    {
      "cell_type": "code",
      "source": [
        "files.download(f\"{LOG_DIR}/model_profile_WSN-BFSF_fedavg.csv\")"
      ],
      "metadata": {
        "colab": {
          "base_uri": "https://localhost:8080/",
          "height": 17
        },
        "id": "nX4D_sKA_x7t",
        "outputId": "49969b03-f6a3-40eb-a840-2191181d2082"
      },
      "execution_count": 11,
      "outputs": [
        {
          "output_type": "display_data",
          "data": {
            "text/plain": [
              "<IPython.core.display.Javascript object>"
            ],
            "application/javascript": [
              "\n",
              "    async function download(id, filename, size) {\n",
              "      if (!google.colab.kernel.accessAllowed) {\n",
              "        return;\n",
              "      }\n",
              "      const div = document.createElement('div');\n",
              "      const label = document.createElement('label');\n",
              "      label.textContent = `Downloading \"${filename}\": `;\n",
              "      div.appendChild(label);\n",
              "      const progress = document.createElement('progress');\n",
              "      progress.max = size;\n",
              "      div.appendChild(progress);\n",
              "      document.body.appendChild(div);\n",
              "\n",
              "      const buffers = [];\n",
              "      let downloaded = 0;\n",
              "\n",
              "      const channel = await google.colab.kernel.comms.open(id);\n",
              "      // Send a message to notify the kernel that we're ready.\n",
              "      channel.send({})\n",
              "\n",
              "      for await (const message of channel.messages) {\n",
              "        // Send a message to notify the kernel that we're ready.\n",
              "        channel.send({})\n",
              "        if (message.buffers) {\n",
              "          for (const buffer of message.buffers) {\n",
              "            buffers.push(buffer);\n",
              "            downloaded += buffer.byteLength;\n",
              "            progress.value = downloaded;\n",
              "          }\n",
              "        }\n",
              "      }\n",
              "      const blob = new Blob(buffers, {type: 'application/binary'});\n",
              "      const a = document.createElement('a');\n",
              "      a.href = window.URL.createObjectURL(blob);\n",
              "      a.download = filename;\n",
              "      div.appendChild(a);\n",
              "      a.click();\n",
              "      div.remove();\n",
              "    }\n",
              "  "
            ]
          },
          "metadata": {}
        },
        {
          "output_type": "display_data",
          "data": {
            "text/plain": [
              "<IPython.core.display.Javascript object>"
            ],
            "application/javascript": [
              "download(\"download_c274a426-9952-443c-a350-ffdca7a4bc33\", \"model_profile_WSN-BFSF_fedavg.csv\", 55)"
            ]
          },
          "metadata": {}
        }
      ]
    },
    {
      "cell_type": "code",
      "source": [
        "def plot_cm(cm, classes, title, normalise=False):\n",
        "    if normalise:\n",
        "        cm = cm / cm.sum(axis=1, keepdims=True)\n",
        "        fmt, cmap = \".2%\", \"Blues\"\n",
        "    else:\n",
        "        fmt, cmap = \"d\", \"Blues\"\n",
        "    sns.heatmap(cm, annot=True, fmt=fmt, cmap=cmap, cbar=False,\n",
        "                xticklabels=classes, yticklabels=classes,\n",
        "                linewidths=.5, linecolor='grey')\n",
        "    plt.xlabel(\"Predicted\"); plt.ylabel(\"True\")\n",
        "    plt.title(title); plt.tight_layout()\n",
        "\n",
        "plt.figure(figsize=(9,4))\n",
        "plt.subplot(1,2,1); plot_cm(cm,  [f\"C{i}\" for i in range(n_classes)],\n",
        "                            \"Raw counts\", normalise=False)\n",
        "plt.subplot(1,2,2); plot_cm(cm,  [f\"C{i}\" for i in range(n_classes)],\n",
        "                            \"Row-normalised\", normalise=True)\n",
        "plt.savefig(\"/mnt/data/cm_WSN-BFSF_dual.png\", dpi=300)"
      ],
      "metadata": {
        "colab": {
          "base_uri": "https://localhost:8080/",
          "height": 407
        },
        "id": "WBc8L5qe_3J-",
        "outputId": "e62b6690-25ec-4fa9-9b2a-5980aae79a76"
      },
      "execution_count": 12,
      "outputs": [
        {
          "output_type": "display_data",
          "data": {
            "text/plain": [
              "<Figure size 900x400 with 2 Axes>"
            ],
            "image/png": "[encoded data removed]"
          },
          "metadata": {}
        }
      ]
    }
  ]
}