{
  "nbformat": 4,
  "nbformat_minor": 0,
  "metadata": {
    "colab": {
      "provenance": [],
      "authorship_tag": "ABX9TyMEv4i47Wsa36MO5Prrvt6c",
      "include_colab_link": true
    },
    "kernelspec": {
      "name": "python3",
      "display_name": "Python 3"
    },
    "language_info": {
      "name": "python"
    }
  },
  "cells": [
    {
      "cell_type": "markdown",
      "metadata": {
        "id": "view-in-github",
        "colab_type": "text"
      },
      "source": [
        "<a href=\"https://colab.research.google.com/github/sankeawthong/Project-1-Lita-Chatbot/blob/main/Hybrid%20MNB-DNN%20for%204%20class%20classifications%20based%20on%20WSNBFSF%20dataset.ipynb\" target=\"_parent\"><img src=\"https://colab.research.google.com/assets/colab-badge.svg\" alt=\"Open In Colab\"/></a>"
      ]
    },
    {
      "cell_type": "markdown",
      "source": [
        "### **Hybrid MNB-DNN for 4 class classifications based on WSNBFSF dataset**"
      ],
      "metadata": {
        "id": "wu0dKtKYH6gn"
      }
    },
    {
      "cell_type": "code",
      "execution_count": 1,
      "metadata": {
        "id": "QHcwZv32Hx_k"
      },
      "outputs": [],
      "source": [
        "import pandas as pd\n",
        "import numpy as np\n",
        "from sklearn.preprocessing import LabelEncoder\n",
        "from sklearn.model_selection import train_test_split\n",
        "from keras.utils import np_utils\n",
        "from keras.models import Sequential\n",
        "from keras.layers import Dense, LSTM, Dropout\n",
        "from sklearn.naive_bayes import MultinomialNB\n",
        "from sklearn.metrics import confusion_matrix, classification_report"
      ]
    },
    {
      "cell_type": "code",
      "source": [
        "# Load dataset\n",
        "dataset = pd.read_csv(\"dataset.csv\")\n",
        "dataset.isnull().sum()"
      ],
      "metadata": {
        "colab": {
          "base_uri": "https://localhost:8080/"
        },
        "id": "fexRJeZQIEVZ",
        "outputId": "43e89c63-0372-4d77-950c-26f91ca608d5"
      },
      "execution_count": 2,
      "outputs": [
        {
          "output_type": "execute_result",
          "data": {
            "text/plain": [
              "Event             0\n",
              "Time              0\n",
              "S_Node            0\n",
              "Node_id           0\n",
              "Rest_Energy       0\n",
              "Trace_Level       0\n",
              "Mac_Type_Pckt     0\n",
              "Source_IP_Port    0\n",
              "Des_IP_Port       0\n",
              "Packet_Size       0\n",
              "TTL               0\n",
              "Hop_Count         0\n",
              "Broadcast_ID      0\n",
              "Dest_Node_Num     0\n",
              "Dest_Seq_Num      0\n",
              "Src_Node_ID       0\n",
              "Src_Seq_Num       0\n",
              "Class             0\n",
              "dtype: int64"
            ]
          },
          "metadata": {},
          "execution_count": 2
        }
      ]
    },
    {
      "cell_type": "code",
      "source": [
        "dataset.info()"
      ],
      "metadata": {
        "colab": {
          "base_uri": "https://localhost:8080/"
        },
        "id": "vs9minr9IFzu",
        "outputId": "17c30cc3-dcc8-4435-8df1-64047fd9efaf"
      },
      "execution_count": 3,
      "outputs": [
        {
          "output_type": "stream",
          "name": "stdout",
          "text": [
            "<class 'pandas.core.frame.DataFrame'>\n",
            "RangeIndex: 312106 entries, 0 to 312105\n",
            "Data columns (total 18 columns):\n",
            " #   Column          Non-Null Count   Dtype  \n",
            "---  ------          --------------   -----  \n",
            " 0   Event           312106 non-null  int64  \n",
            " 1   Time            312106 non-null  float64\n",
            " 2   S_Node          312106 non-null  int64  \n",
            " 3   Node_id         312106 non-null  int64  \n",
            " 4   Rest_Energy     312106 non-null  float64\n",
            " 5   Trace_Level     312106 non-null  int64  \n",
            " 6   Mac_Type_Pckt   312106 non-null  int64  \n",
            " 7   Source_IP_Port  312106 non-null  float64\n",
            " 8   Des_IP_Port     312106 non-null  float64\n",
            " 9   Packet_Size     312106 non-null  int64  \n",
            " 10  TTL             312106 non-null  int64  \n",
            " 11  Hop_Count       312106 non-null  int64  \n",
            " 12  Broadcast_ID    312106 non-null  int64  \n",
            " 13  Dest_Node_Num   312106 non-null  int64  \n",
            " 14  Dest_Seq_Num    312106 non-null  int64  \n",
            " 15  Src_Node_ID     312106 non-null  int64  \n",
            " 16  Src_Seq_Num     312106 non-null  int64  \n",
            " 17  Class           312106 non-null  int64  \n",
            "dtypes: float64(4), int64(14)\n",
            "memory usage: 42.9 MB\n"
          ]
        }
      ]
    },
    {
      "cell_type": "markdown",
      "source": [
        "### **Data Preprocessing**"
      ],
      "metadata": {
        "id": "5Gj6cV2IImAR"
      }
    },
    {
      "cell_type": "code",
      "source": [
        "encoder = LabelEncoder()\n",
        "y = encoder.fit_transform(dataset['Class'])\n",
        "y = np_utils.to_categorical(y, num_classes=4)\n",
        "X = dataset.drop(['Class'],axis=1)\n",
        "X=X.values\n",
        "print(X.shape)\n",
        "print(y.shape)"
      ],
      "metadata": {
        "colab": {
          "base_uri": "https://localhost:8080/"
        },
        "id": "iRGySr-hIG_0",
        "outputId": "0878fedd-c6dd-44bb-8fa1-6d457e4364d3"
      },
      "execution_count": 4,
      "outputs": [
        {
          "output_type": "stream",
          "name": "stdout",
          "text": [
            "(312106, 17)\n",
            "(312106, 4)\n"
          ]
        }
      ]
    },
    {
      "cell_type": "code",
      "source": [
        "# Data preprocessing\n",
        "from imblearn.over_sampling import SMOTE\n",
        "oversample = SMOTE()\n",
        "X, y = oversample.fit_resample(X, y)"
      ],
      "metadata": {
        "id": "MnKdtedPINLH"
      },
      "execution_count": 5,
      "outputs": []
    },
    {
      "cell_type": "code",
      "source": [
        "X_train, X_test, y_train, y_test = train_test_split(X, y, test_size=0.2, random_state=101)"
      ],
      "metadata": {
        "id": "gTH-yTaVIOTj"
      },
      "execution_count": 6,
      "outputs": []
    },
    {
      "cell_type": "markdown",
      "source": [
        "**Hybrid MNB-DNN for 4 Class**"
      ],
      "metadata": {
        "id": "fIIJVUiTIyxO"
      }
    },
    {
      "cell_type": "code",
      "source": [
        "# Multinomial Naive Bayes model\n",
        "mnb = MultinomialNB()\n",
        "mnb.fit(X_train, np.argmax(y_train, axis=1))\n",
        "\n",
        "y_pred_mnb = mnb.predict(X_test)\n",
        "y_pred_mnb = np_utils.to_categorical(y_pred_mnb, num_classes=4)\n",
        "\n",
        "from sklearn.metrics import accuracy_score\n",
        "\n",
        "# Calculate accuracy for Multinomial Naive Bayes model\n",
        "accuracy_mnb = accuracy_score(np.argmax(y_test, axis=1), np.argmax(y_pred_mnb, axis=1))\n",
        "print(\"Multinomial Naive Bayes Accuracy:\", accuracy_mnb)"
      ],
      "metadata": {
        "id": "Rw5FpExEJ_4B",
        "outputId": "3cb1d825-64b1-49c5-f5a5-1d18d9e2c08d",
        "colab": {
          "base_uri": "https://localhost:8080/"
        }
      },
      "execution_count": 7,
      "outputs": [
        {
          "output_type": "stream",
          "name": "stdout",
          "text": [
            "Multinomial Naive Bayes Accuracy: 0.615928210347107\n"
          ]
        }
      ]
    },
    {
      "cell_type": "code",
      "source": [
        "# DNN model\n",
        "model = Sequential()\n",
        "model.add(Dense(64, input_shape=(X_train.shape[1],)))\n",
        "model.add(Dropout(0.2))\n",
        "model.add(Dense(4, activation='softmax'))\n",
        "model.compile(loss='categorical_crossentropy', optimizer='adam', metrics=['accuracy'])\n",
        "model.summary()\n",
        "\n",
        "history = model.fit(X_train, y_train, epochs=15, batch_size=64, validation_data=(X_test, y_test), verbose=1)\n",
        "\n",
        "# Evaluate DNN model\n",
        "_, accuracy_dnn = model.evaluate(X_test, y_test, verbose=0)\n",
        "print(\"DNN Accuracy:\", accuracy_dnn)"
      ],
      "metadata": {
        "id": "4Tq7ZrmXKMT9",
        "outputId": "3d525b37-c3a7-4998-fcec-8f4d81000e12",
        "colab": {
          "base_uri": "https://localhost:8080/"
        }
      },
      "execution_count": 8,
      "outputs": [
        {
          "output_type": "stream",
          "name": "stdout",
          "text": [
            "Model: \"sequential\"\n",
            "_________________________________________________________________\n",
            " Layer (type)                Output Shape              Param #   \n",
            "=================================================================\n",
            " dense (Dense)               (None, 64)                1152      \n",
            "                                                                 \n",
            " dropout (Dropout)           (None, 64)                0         \n",
            "                                                                 \n",
            " dense_1 (Dense)             (None, 4)                 260       \n",
            "                                                                 \n",
            "=================================================================\n",
            "Total params: 1,412\n",
            "Trainable params: 1,412\n",
            "Non-trainable params: 0\n",
            "_________________________________________________________________\n",
            "Epoch 1/15\n",
            "13143/13143 [==============================] - 30s 2ms/step - loss: 2.4882 - accuracy: 0.6659 - val_loss: 0.7599 - val_accuracy: 0.7140\n",
            "Epoch 2/15\n",
            "13143/13143 [==============================] - 29s 2ms/step - loss: 0.7665 - accuracy: 0.7133 - val_loss: 0.7148 - val_accuracy: 0.7125\n",
            "Epoch 3/15\n",
            "13143/13143 [==============================] - 29s 2ms/step - loss: 0.7346 - accuracy: 0.7224 - val_loss: 0.7392 - val_accuracy: 0.7306\n",
            "Epoch 4/15\n",
            "13143/13143 [==============================] - 29s 2ms/step - loss: 0.7211 - accuracy: 0.7259 - val_loss: 0.6734 - val_accuracy: 0.7563\n",
            "Epoch 5/15\n",
            "13143/13143 [==============================] - 28s 2ms/step - loss: 0.7173 - accuracy: 0.7270 - val_loss: 0.6752 - val_accuracy: 0.7124\n",
            "Epoch 6/15\n",
            "13143/13143 [==============================] - 28s 2ms/step - loss: 0.7133 - accuracy: 0.7280 - val_loss: 0.7664 - val_accuracy: 0.6938\n",
            "Epoch 7/15\n",
            "13143/13143 [==============================] - 28s 2ms/step - loss: 0.7083 - accuracy: 0.7301 - val_loss: 0.6782 - val_accuracy: 0.7576\n",
            "Epoch 8/15\n",
            "13143/13143 [==============================] - 27s 2ms/step - loss: 0.7106 - accuracy: 0.7310 - val_loss: 0.6818 - val_accuracy: 0.6788\n",
            "Epoch 9/15\n",
            "13143/13143 [==============================] - 28s 2ms/step - loss: 0.7062 - accuracy: 0.7309 - val_loss: 0.7923 - val_accuracy: 0.6905\n",
            "Epoch 10/15\n",
            "13143/13143 [==============================] - 26s 2ms/step - loss: 0.7049 - accuracy: 0.7321 - val_loss: 0.6538 - val_accuracy: 0.7377\n",
            "Epoch 11/15\n",
            "13143/13143 [==============================] - 28s 2ms/step - loss: 0.7038 - accuracy: 0.7322 - val_loss: 0.7032 - val_accuracy: 0.7180\n",
            "Epoch 12/15\n",
            "13143/13143 [==============================] - 27s 2ms/step - loss: 0.6989 - accuracy: 0.7326 - val_loss: 0.7277 - val_accuracy: 0.7284\n",
            "Epoch 13/15\n",
            "13143/13143 [==============================] - 27s 2ms/step - loss: 0.6997 - accuracy: 0.7329 - val_loss: 0.6504 - val_accuracy: 0.7651\n",
            "Epoch 14/15\n",
            "13143/13143 [==============================] - 28s 2ms/step - loss: 0.6990 - accuracy: 0.7342 - val_loss: 0.6806 - val_accuracy: 0.7640\n",
            "Epoch 15/15\n",
            "13143/13143 [==============================] - 28s 2ms/step - loss: 0.6990 - accuracy: 0.7343 - val_loss: 0.7259 - val_accuracy: 0.7247\n",
            "DNN Accuracy: 0.7246826887130737\n"
          ]
        }
      ]
    },
    {
      "cell_type": "code",
      "source": [
        "# Combine MNB and DNN predictions\n",
        "combined_pred = (y_pred_mnb + model.predict(X_test)) / 2\n",
        "y_pred_combined = np.argmax(combined_pred, axis=1)\n",
        "\n",
        "# Evaluate the combined model\n",
        "combined_report = classification_report(np.argmax(y_test, axis=1), y_pred_combined)\n",
        "print(\"Combined Model Classification Report:\")\n",
        "print(combined_report)"
      ],
      "metadata": {
        "colab": {
          "base_uri": "https://localhost:8080/"
        },
        "id": "Y0phil7RII6e",
        "outputId": "84bc37d5-4852-4dc3-ff5a-6c4405e544ac"
      },
      "execution_count": 10,
      "outputs": [
        {
          "output_type": "stream",
          "name": "stdout",
          "text": [
            "6572/6572 [==============================] - 9s 1ms/step\n",
            "Combined Model Classification Report:\n",
            "              precision    recall  f1-score   support\n",
            "\n",
            "           0       0.58      0.56      0.57     52500\n",
            "           1       0.51      0.55      0.53     52554\n",
            "           2       0.55      0.36      0.43     52545\n",
            "           3       0.76      1.00      0.87     52682\n",
            "\n",
            "    accuracy                           0.62    210281\n",
            "   macro avg       0.60      0.62      0.60    210281\n",
            "weighted avg       0.60      0.62      0.60    210281\n",
            "\n"
          ]
        }
      ]
    },
    {
      "cell_type": "code",
      "source": [
        "import seaborn as sns\n",
        "import matplotlib.pyplot as plt\n",
        "import numpy as np\n",
        "import itertools\n",
        "import seaborn as sns\n",
        "from sklearn import metrics \n",
        "import matplotlib.pyplot as plt\n",
        "from sklearn.metrics import confusion_matrix\n",
        "def conf_mat(d1,d2):\n",
        "  cm = confusion_matrix(d1, d2)\n",
        "  plt.figure(figsize=(6,5.5))\n",
        "  ax = sns.heatmap(cm,  fmt='2', annot=True, cmap='YlGnBu')\n",
        "  sns.set(font_scale=1)\n",
        "  ax.set_xlabel('\\nPredicted Values')\n",
        "  ax.set_ylabel('Actual Values\\n');\n",
        "  ax.xaxis.set_ticklabels(['Normal','Flooding','Blackhole','Forwarding'])\n",
        "  ax.yaxis.set_ticklabels(['Normal','Flooding','Blackhole','Forwarding'])\n",
        "  plt.tight_layout()\n",
        "  # plt.savefig(\"F1.eps\", format = 'eps')\n",
        "  plt.show()"
      ],
      "metadata": {
        "id": "A5UkUYfcIXrj"
      },
      "execution_count": 11,
      "outputs": []
    },
    {
      "cell_type": "code",
      "source": [
        "print(\"Confusion Matrix of Hybrid MNB-DNN Model\") \n",
        "conf_mat(np.argmax(y_test, axis=1), y_pred_combined)"
      ],
      "metadata": {
        "colab": {
          "base_uri": "https://localhost:8080/",
          "height": 568
        },
        "id": "GzA7DpzUIZ5n",
        "outputId": "b6f50ebc-f321-4dd4-a080-56a3bf8f7cb6"
      },
      "execution_count": 13,
      "outputs": [
        {
          "output_type": "stream",
          "name": "stdout",
          "text": [
            "Confusion Matrix of Hybrid MNB-DNN Model\n"
          ]
        },
        {
          "output_type": "display_data",
          "data": {
            "text/plain": [
              "<Figure size 600x550 with 2 Axes>"
            ],
            "image/png": "[encoded data removed]"
          },
          "metadata": {}
        }
      ]
    },
    {
      "cell_type": "code",
      "source": [
        "report = classification_report(np.argmax(y_test, axis=1), y_pred_combined, output_dict=True)\n",
        "detection_rates = {}\n",
        "for cls in range(4):\n",
        "    detection_rates[encoder.inverse_transform([cls])[0]] = report[str(cls)]['recall']\n",
        "print(\"Detection rates:\", detection_rates)"
      ],
      "metadata": {
        "colab": {
          "base_uri": "https://localhost:8080/"
        },
        "id": "lyRnolSQIeMW",
        "outputId": "52b0b2f0-e8b5-4f28-a83d-d2a41255d24d"
      },
      "execution_count": 14,
      "outputs": [
        {
          "output_type": "stream",
          "name": "stdout",
          "text": [
            "Detection rates: {0: 0.5565142857142857, 1: 0.5460669026144537, 2: 0.3600913502711961, 3: 1.0}\n"
          ]
        }
      ]
    }
  ]
}