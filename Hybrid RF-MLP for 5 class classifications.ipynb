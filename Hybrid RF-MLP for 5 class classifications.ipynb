{
  "nbformat": 4,
  "nbformat_minor": 0,
  "metadata": {
    "colab": {
      "provenance": [],
      "authorship_tag": "ABX9TyNHklO2Yla3FUewQ9ESfpwm",
      "include_colab_link": true
    },
    "kernelspec": {
      "name": "python3",
      "display_name": "Python 3"
    },
    "language_info": {
      "name": "python"
    }
  },
  "cells": [
    {
      "cell_type": "markdown",
      "metadata": {
        "id": "view-in-github",
        "colab_type": "text"
      },
      "source": [
        "<a href=\"https://colab.research.google.com/github/sankeawthong/Project-1-Lita-Chatbot/blob/main/Hybrid%20RF-MLP%20for%205%20class%20classifications.ipynb\" target=\"_parent\"><img src=\"https://colab.research.google.com/assets/colab-badge.svg\" alt=\"Open In Colab\"/></a>"
      ]
    },
    {
      "cell_type": "markdown",
      "source": [
        "### **Hybrid RF-MLP for 5 class classifications**"
      ],
      "metadata": {
        "id": "dOwW6YWYFLzI"
      }
    },
    {
      "cell_type": "code",
      "source": [
        "import pandas as pd\n",
        "import numpy as np\n",
        "import collections as c\n",
        "from sklearn.model_selection import train_test_split\n",
        "from sklearn.ensemble import RandomForestClassifier\n",
        "from sklearn.neural_network import MLPClassifier\n",
        "from imblearn.over_sampling import SMOTE"
      ],
      "metadata": {
        "id": "H-KieLCzL4Bp"
      },
      "execution_count": 1,
      "outputs": []
    },
    {
      "cell_type": "code",
      "source": [
        "# Load dataset\n",
        "dataset = pd.read_csv(\"dataset_WSN-DS.csv\")\n",
        "\n",
        "# Check for missing values\n",
        "dataset.isnull().sum()"
      ],
      "metadata": {
        "colab": {
          "base_uri": "https://localhost:8080/"
        },
        "id": "bJhbS7ikL5il",
        "outputId": "463b57d1-f62a-470d-a707-c7f1fa592838"
      },
      "execution_count": 8,
      "outputs": [
        {
          "output_type": "execute_result",
          "data": {
            "text/plain": [
              " id                 0\n",
              " Time               0\n",
              " Is_CH              0\n",
              " who CH             0\n",
              " Dist_To_CH         0\n",
              " ADV_S              0\n",
              " ADV_R              0\n",
              " JOIN_S             0\n",
              " JOIN_R             0\n",
              " SCH_S              0\n",
              " SCH_R              0\n",
              "Rank                0\n",
              " DATA_S             0\n",
              " DATA_R             0\n",
              " Data_Sent_To_BS    0\n",
              " dist_CH_To_BS      0\n",
              " send_code          0\n",
              "Expaned Energy      0\n",
              "Class               0\n",
              "dtype: int64"
            ]
          },
          "metadata": {},
          "execution_count": 8
        }
      ]
    },
    {
      "cell_type": "code",
      "source": [
        "# Data preprocessing\n",
        "y = dataset['Class'].values\n",
        "X = dataset.drop(['Class'], axis=1).values"
      ],
      "metadata": {
        "id": "e5eciihsL7Of"
      },
      "execution_count": 9,
      "outputs": []
    },
    {
      "cell_type": "code",
      "source": [
        "# Class distribution before balancing\n",
        "counter = c.Counter(y)\n",
        "print(\"Class Distribution (Before Balancing):\", counter)"
      ],
      "metadata": {
        "colab": {
          "base_uri": "https://localhost:8080/"
        },
        "id": "xBpNRKUXL8BQ",
        "outputId": "0adb933e-8c52-45e3-cad8-69946b99153a"
      },
      "execution_count": 10,
      "outputs": [
        {
          "output_type": "stream",
          "name": "stdout",
          "text": [
            "Class Distribution (Before Balancing): Counter({0: 340066, 1: 14596, 2: 10049, 3: 6638, 4: 3312})\n"
          ]
        }
      ]
    },
    {
      "cell_type": "code",
      "source": [
        "# Apply SMOTE for data balancing\n",
        "oversample = SMOTE()\n",
        "X, y = oversample.fit_resample(X, y)\n",
        "\n",
        "# Class distribution after balancing\n",
        "counter = c.Counter(y)\n",
        "print(\"Class Distribution (After Balancing):\", counter)"
      ],
      "metadata": {
        "colab": {
          "base_uri": "https://localhost:8080/"
        },
        "id": "20Km3K4nL-H0",
        "outputId": "704b0a99-d94f-45ec-bb0c-81c45d79d51a"
      },
      "execution_count": 11,
      "outputs": [
        {
          "output_type": "stream",
          "name": "stdout",
          "text": [
            "Class Distribution (After Balancing): Counter({0: 340066, 4: 340066, 3: 340066, 1: 340066, 2: 340066})\n"
          ]
        }
      ]
    },
    {
      "cell_type": "code",
      "source": [
        "# Split data into training and testing sets\n",
        "X_train, X_test, y_train, y_test = train_test_split(X, y, test_size=0.2, random_state=101)"
      ],
      "metadata": {
        "id": "1Qjzsgx8MBTv"
      },
      "execution_count": 12,
      "outputs": []
    },
    {
      "cell_type": "code",
      "source": [
        "# Random Forest model\n",
        "rf_model = RandomForestClassifier()\n",
        "rf_model.fit(X_train, y_train)\n",
        "\n",
        "# MLP model\n",
        "mlp_model = MLPClassifier(hidden_layer_sizes=(50,), max_iter=1000, random_state=101)\n",
        "mlp_model.fit(X_train, y_train)\n",
        "\n",
        "# Combine predictions from Random Forest and MLP models\n",
        "rf_predictions = rf_model.predict(X_test)\n",
        "mlp_predictions = mlp_model.predict(X_test)\n",
        "combined_predictions = np.array([rf_predictions[i] if mlp_predictions[i] == rf_predictions[i] else mlp_predictions[i] for i in range(len(mlp_predictions))])\n",
        "\n",
        "# Evaluate combined model\n",
        "combined_accuracy = np.mean(combined_predictions == y_test)\n",
        "print(\"Combined Model Accuracy:\", combined_accuracy)"
      ],
      "metadata": {
        "colab": {
          "base_uri": "https://localhost:8080/"
        },
        "id": "NdncQCGoALjT",
        "outputId": "d36cd676-108b-451f-cc0f-0590d7d09ae8"
      },
      "execution_count": 16,
      "outputs": [
        {
          "output_type": "stream",
          "name": "stdout",
          "text": [
            "Combined Model Accuracy: 0.8609652243976169\n"
          ]
        }
      ]
    }
  ]
}