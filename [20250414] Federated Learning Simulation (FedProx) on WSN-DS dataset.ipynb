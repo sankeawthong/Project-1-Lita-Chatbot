{
  "nbformat": 4,
  "nbformat_minor": 0,
  "metadata": {
    "colab": {
      "provenance": [],
      "machine_shape": "hm",
      "authorship_tag": "ABX9TyMBcxO5EZkNuEVX3JjiccnT",
      "include_colab_link": true
    },
    "kernelspec": {
      "name": "python3",
      "display_name": "Python 3"
    },
    "language_info": {
      "name": "python"
    }
  },
  "cells": [
    {
      "cell_type": "markdown",
      "metadata": {
        "id": "view-in-github",
        "colab_type": "text"
      },
      "source": [
        "<a href=\"https://colab.research.google.com/github/sankeawthong/Project-1-Lita-Chatbot/blob/main/%5B20250414%5D%20Federated%20Learning%20Simulation%20(FedProx)%20on%20WSN-DS%20dataset.ipynb\" target=\"_parent\"><img src=\"https://colab.research.google.com/assets/colab-badge.svg\" alt=\"Open In Colab\"/></a>"
      ]
    },
    {
      "cell_type": "markdown",
      "source": [
        "**FedAvg-DL // with clean MLP-LSTM model 5 classes on WSN-DS**"
      ],
      "metadata": {
        "id": "NdJw5-HPtPeU"
      }
    },
    {
      "cell_type": "code",
      "execution_count": null,
      "metadata": {
        "id": "Kys3NgWmCB12"
      },
      "outputs": [],
      "source": [
        "import pandas as pd\n",
        "import numpy as np\n",
        "from sklearn.linear_model import LogisticRegression\n",
        "from sklearn.model_selection import train_test_split\n",
        "from sklearn.metrics import accuracy_score, classification_report\n",
        "from sklearn.preprocessing import LabelEncoder, StandardScaler\n",
        "from keras.models import Sequential\n",
        "from keras.layers import Dense, LSTM, Bidirectional, Dropout, Flatten\n",
        "from sklearn.metrics import accuracy_score, classification_report, confusion_matrix\n",
        "from keras.utils import to_categorical"
      ]
    },
    {
      "cell_type": "code",
      "source": [
        "# Load dataset\n",
        "dataset = pd.read_csv(\"dataset_WSN-DS.csv\") #WSN-DS 5 classes dataset\n",
        "\n",
        "# Preprocessing: Handle missing values (if any)\n",
        "dataset = dataset.dropna() # Remove missing values"
      ],
      "metadata": {
        "id": "W4xz10xkCHq8"
      },
      "execution_count": null,
      "outputs": []
    },
    {
      "cell_type": "code",
      "source": [
        "dataset"
      ],
      "metadata": {
        "colab": {
          "base_uri": "https://localhost:8080/",
          "height": 441
        },
        "id": "Ds2sKdTwCJgj",
        "outputId": "482af375-a656-477d-a5f8-c2337e8972d0"
      },
      "execution_count": null,
      "outputs": [
        {
          "output_type": "execute_result",
          "data": {
            "text/plain": [
              "            id   Time   Is_CH   who CH   Dist_To_CH   ADV_S   ADV_R   JOIN_S  \\\n",
              "0       101000     50       1   101000      0.00000       1       0        0   \n",
              "1       101001     50       0   101044     75.32345       0       4        1   \n",
              "2       101002     50       0   101010     46.95453       0       4        1   \n",
              "3       101003     50       0   101044     64.85231       0       4        1   \n",
              "4       101004     50       0   101010      4.83341       0       4        1   \n",
              "...        ...    ...     ...      ...          ...     ...     ...      ...   \n",
              "374656  201096   1003       0   201051      6.98337       0       5        1   \n",
              "374657  201097   1003       0   201037     29.32867       0       5        1   \n",
              "374658  201098   1003       0   201095     18.51963       0       5        1   \n",
              "374659  201099   1003       0   201051      8.55001       0       5        1   \n",
              "374660  202041   1025       0   202100      0.00000       0       5        0   \n",
              "\n",
              "         JOIN_R   SCH_S   SCH_R  Rank   DATA_S   DATA_R   Data_Sent_To_BS  \\\n",
              "0            25       1       0     0        0     1200                48   \n",
              "1             0       0       1     2       38        0                 0   \n",
              "2             0       0       1    19       41        0                 0   \n",
              "3             0       0       1    16       38        0                 0   \n",
              "4             0       0       1    25       41        0                 0   \n",
              "...         ...     ...     ...   ...      ...      ...               ...   \n",
              "374656        0       0       1     7       96        0                67   \n",
              "374657        0       0       1    31       39        0                24   \n",
              "374658        0       0       1    17       55        0                31   \n",
              "374659        0       0       1     3       96        0                65   \n",
              "374660        0       0       0     4        7      689                 7   \n",
              "\n",
              "         dist_CH_To_BS   send_code   Expaned Energy  Class  \n",
              "0            130.08535            0         2.46940      0  \n",
              "1              0.00000            4         0.06957      0  \n",
              "2              0.00000            3         0.06898      0  \n",
              "3              0.00000            4         0.06673      0  \n",
              "4              0.00000            3         0.06534      0  \n",
              "...                ...          ...             ...    ...  \n",
              "374656       170.14779            3         0.15974      0  \n",
              "374657        82.21043            2         0.06877      0  \n",
              "374658       139.26438            1         0.09437      0  \n",
              "374659       158.27492            3         0.16047      0  \n",
              "374660       115.00407            0         1.01325      0  \n",
              "\n",
              "[374661 rows x 19 columns]"
            ],
            "text/html": [
              "\n",
              "  <div id=\"df-8a3ca00b-feb5-4d25-a8a0-e7f2ed3a7570\" class=\"colab-df-container\">\n",
              "    <div>\n",
              "<style scoped>\n",
              "    .dataframe tbody tr th:only-of-type {\n",
              "        vertical-align: middle;\n",
              "    }\n",
              "\n",
              "    .dataframe tbody tr th {\n",
              "        vertical-align: top;\n",
              "    }\n",
              "\n",
              "    .dataframe thead th {\n",
              "        text-align: right;\n",
              "    }\n",
              "</style>\n",
              "<table border=\"1\" class=\"dataframe\">\n",
              "  <thead>\n",
              "    <tr style=\"text-align: right;\">\n",
              "      <th></th>\n",
              "      <th>id</th>\n",
              "      <th>Time</th>\n",
              "      <th>Is_CH</th>\n",
              "      <th>who CH</th>\n",
              "      <th>Dist_To_CH</th>\n",
              "      <th>ADV_S</th>\n",
              "      <th>ADV_R</th>\n",
              "      <th>JOIN_S</th>\n",
              "      <th>JOIN_R</th>\n",
              "      <th>SCH_S</th>\n",
              "      <th>SCH_R</th>\n",
              "      <th>Rank</th>\n",
              "      <th>DATA_S</th>\n",
              "      <th>DATA_R</th>\n",
              "      <th>Data_Sent_To_BS</th>\n",
              "      <th>dist_CH_To_BS</th>\n",
              "      <th>send_code</th>\n",
              "      <th>Expaned Energy</th>\n",
              "      <th>Class</th>\n",
              "    </tr>\n",
              "  </thead>\n",
              "  <tbody>\n",
              "    <tr>\n",
              "      <th>0</th>\n",
              "      <td>101000</td>\n",
              "      <td>50</td>\n",
              "      <td>1</td>\n",
              "      <td>101000</td>\n",
              "      <td>0.00000</td>\n",
              "      <td>1</td>\n",
              "      <td>0</td>\n",
              "      <td>0</td>\n",
              "      <td>25</td>\n",
              "      <td>1</td>\n",
              "      <td>0</td>\n",
              "      <td>0</td>\n",
              "      <td>0</td>\n",
              "      <td>1200</td>\n",
              "      <td>48</td>\n",
              "      <td>130.08535</td>\n",
              "      <td>0</td>\n",
              "      <td>2.46940</td>\n",
              "      <td>0</td>\n",
              "    </tr>\n",
              "    <tr>\n",
              "      <th>1</th>\n",
              "      <td>101001</td>\n",
              "      <td>50</td>\n",
              "      <td>0</td>\n",
              "      <td>101044</td>\n",
              "      <td>75.32345</td>\n",
              "      <td>0</td>\n",
              "      <td>4</td>\n",
              "      <td>1</td>\n",
              "      <td>0</td>\n",
              "      <td>0</td>\n",
              "      <td>1</td>\n",
              "      <td>2</td>\n",
              "      <td>38</td>\n",
              "      <td>0</td>\n",
              "      <td>0</td>\n",
              "      <td>0.00000</td>\n",
              "      <td>4</td>\n",
              "      <td>0.06957</td>\n",
              "      <td>0</td>\n",
              "    </tr>\n",
              "    <tr>\n",
              "      <th>2</th>\n",
              "      <td>101002</td>\n",
              "      <td>50</td>\n",
              "      <td>0</td>\n",
              "      <td>101010</td>\n",
              "      <td>46.95453</td>\n",
              "      <td>0</td>\n",
              "      <td>4</td>\n",
              "      <td>1</td>\n",
              "      <td>0</td>\n",
              "      <td>0</td>\n",
              "      <td>1</td>\n",
              "      <td>19</td>\n",
              "      <td>41</td>\n",
              "      <td>0</td>\n",
              "      <td>0</td>\n",
              "      <td>0.00000</td>\n",
              "      <td>3</td>\n",
              "      <td>0.06898</td>\n",
              "      <td>0</td>\n",
              "    </tr>\n",
              "    <tr>\n",
              "      <th>3</th>\n",
              "      <td>101003</td>\n",
              "      <td>50</td>\n",
              "      <td>0</td>\n",
              "      <td>101044</td>\n",
              "      <td>64.85231</td>\n",
              "      <td>0</td>\n",
              "      <td>4</td>\n",
              "      <td>1</td>\n",
              "      <td>0</td>\n",
              "      <td>0</td>\n",
              "      <td>1</td>\n",
              "      <td>16</td>\n",
              "      <td>38</td>\n",
              "      <td>0</td>\n",
              "      <td>0</td>\n",
              "      <td>0.00000</td>\n",
              "      <td>4</td>\n",
              "      <td>0.06673</td>\n",
              "      <td>0</td>\n",
              "    </tr>\n",
              "    <tr>\n",
              "      <th>4</th>\n",
              "      <td>101004</td>\n",
              "      <td>50</td>\n",
              "      <td>0</td>\n",
              "      <td>101010</td>\n",
              "      <td>4.83341</td>\n",
              "      <td>0</td>\n",
              "      <td>4</td>\n",
              "      <td>1</td>\n",
              "      <td>0</td>\n",
              "      <td>0</td>\n",
              "      <td>1</td>\n",
              "      <td>25</td>\n",
              "      <td>41</td>\n",
              "      <td>0</td>\n",
              "      <td>0</td>\n",
              "      <td>0.00000</td>\n",
              "      <td>3</td>\n",
              "      <td>0.06534</td>\n",
              "      <td>0</td>\n",
              "    </tr>\n",
              "    <tr>\n",
              "      <th>...</th>\n",
              "      <td>...</td>\n",
              "      <td>...</td>\n",
              "      <td>...</td>\n",
              "      <td>...</td>\n",
              "      <td>...</td>\n",
              "      <td>...</td>\n",
              "      <td>...</td>\n",
              "      <td>...</td>\n",
              "      <td>...</td>\n",
              "      <td>...</td>\n",
              "      <td>...</td>\n",
              "      <td>...</td>\n",
              "      <td>...</td>\n",
              "      <td>...</td>\n",
              "      <td>...</td>\n",
              "      <td>...</td>\n",
              "      <td>...</td>\n",
              "      <td>...</td>\n",
              "      <td>...</td>\n",
              "    </tr>\n",
              "    <tr>\n",
              "      <th>374656</th>\n",
              "      <td>201096</td>\n",
              "      <td>1003</td>\n",
              "      <td>0</td>\n",
              "      <td>201051</td>\n",
              "      <td>6.98337</td>\n",
              "      <td>0</td>\n",
              "      <td>5</td>\n",
              "      <td>1</td>\n",
              "      <td>0</td>\n",
              "      <td>0</td>\n",
              "      <td>1</td>\n",
              "      <td>7</td>\n",
              "      <td>96</td>\n",
              "      <td>0</td>\n",
              "      <td>67</td>\n",
              "      <td>170.14779</td>\n",
              "      <td>3</td>\n",
              "      <td>0.15974</td>\n",
              "      <td>0</td>\n",
              "    </tr>\n",
              "    <tr>\n",
              "      <th>374657</th>\n",
              "      <td>201097</td>\n",
              "      <td>1003</td>\n",
              "      <td>0</td>\n",
              "      <td>201037</td>\n",
              "      <td>29.32867</td>\n",
              "      <td>0</td>\n",
              "      <td>5</td>\n",
              "      <td>1</td>\n",
              "      <td>0</td>\n",
              "      <td>0</td>\n",
              "      <td>1</td>\n",
              "      <td>31</td>\n",
              "      <td>39</td>\n",
              "      <td>0</td>\n",
              "      <td>24</td>\n",
              "      <td>82.21043</td>\n",
              "      <td>2</td>\n",
              "      <td>0.06877</td>\n",
              "      <td>0</td>\n",
              "    </tr>\n",
              "    <tr>\n",
              "      <th>374658</th>\n",
              "      <td>201098</td>\n",
              "      <td>1003</td>\n",
              "      <td>0</td>\n",
              "      <td>201095</td>\n",
              "      <td>18.51963</td>\n",
              "      <td>0</td>\n",
              "      <td>5</td>\n",
              "      <td>1</td>\n",
              "      <td>0</td>\n",
              "      <td>0</td>\n",
              "      <td>1</td>\n",
              "      <td>17</td>\n",
              "      <td>55</td>\n",
              "      <td>0</td>\n",
              "      <td>31</td>\n",
              "      <td>139.26438</td>\n",
              "      <td>1</td>\n",
              "      <td>0.09437</td>\n",
              "      <td>0</td>\n",
              "    </tr>\n",
              "    <tr>\n",
              "      <th>374659</th>\n",
              "      <td>201099</td>\n",
              "      <td>1003</td>\n",
              "      <td>0</td>\n",
              "      <td>201051</td>\n",
              "      <td>8.55001</td>\n",
              "      <td>0</td>\n",
              "      <td>5</td>\n",
              "      <td>1</td>\n",
              "      <td>0</td>\n",
              "      <td>0</td>\n",
              "      <td>1</td>\n",
              "      <td>3</td>\n",
              "      <td>96</td>\n",
              "      <td>0</td>\n",
              "      <td>65</td>\n",
              "      <td>158.27492</td>\n",
              "      <td>3</td>\n",
              "      <td>0.16047</td>\n",
              "      <td>0</td>\n",
              "    </tr>\n",
              "    <tr>\n",
              "      <th>374660</th>\n",
              "      <td>202041</td>\n",
              "      <td>1025</td>\n",
              "      <td>0</td>\n",
              "      <td>202100</td>\n",
              "      <td>0.00000</td>\n",
              "      <td>0</td>\n",
              "      <td>5</td>\n",
              "      <td>0</td>\n",
              "      <td>0</td>\n",
              "      <td>0</td>\n",
              "      <td>0</td>\n",
              "      <td>4</td>\n",
              "      <td>7</td>\n",
              "      <td>689</td>\n",
              "      <td>7</td>\n",
              "      <td>115.00407</td>\n",
              "      <td>0</td>\n",
              "      <td>1.01325</td>\n",
              "      <td>0</td>\n",
              "    </tr>\n",
              "  </tbody>\n",
              "</table>\n",
              "<p>374661 rows × 19 columns</p>\n",
              "</div>\n",
              "    <div class=\"colab-df-buttons\">\n",
              "\n",
              "  <div class=\"colab-df-container\">\n",
              "    <button class=\"colab-df-convert\" onclick=\"convertToInteractive('df-8a3ca00b-feb5-4d25-a8a0-e7f2ed3a7570')\"\n",
              "            title=\"Convert this dataframe to an interactive table.\"\n",
              "            style=\"display:none;\">\n",
              "\n",
              "  <svg xmlns=\"http://www.w3.org/2000/svg\" height=\"24px\" viewBox=\"0 -960 960 960\">\n",
              "    <path d=\"M120-120v-720h720v720H120Zm60-500h600v-160H180v160Zm220 220h160v-160H400v160Zm0 220h160v-160H400v160ZM180-400h160v-160H180v160Zm440 0h160v-160H620v160ZM180-180h160v-160H180v160Zm440 0h160v-160H620v160Z\"/>\n",
              "  </svg>\n",
              "    </button>\n",
              "\n",
              "  <style>\n",
              "    .colab-df-container {\n",
              "      display:flex;\n",
              "      gap: 12px;\n",
              "    }\n",
              "\n",
              "    .colab-df-convert {\n",
              "      background-color: #E8F0FE;\n",
              "      border: none;\n",
              "      border-radius: 50%;\n",
              "      cursor: pointer;\n",
              "      display: none;\n",
              "      fill: #1967D2;\n",
              "      height: 32px;\n",
              "      padding: 0 0 0 0;\n",
              "      width: 32px;\n",
              "    }\n",
              "\n",
              "    .colab-df-convert:hover {\n",
              "      background-color: #E2EBFA;\n",
              "      box-shadow: 0px 1px 2px rgba(60, 64, 67, 0.3), 0px 1px 3px 1px rgba(60, 64, 67, 0.15);\n",
              "      fill: #174EA6;\n",
              "    }\n",
              "\n",
              "    .colab-df-buttons div {\n",
              "      margin-bottom: 4px;\n",
              "    }\n",
              "\n",
              "    [theme=dark] .colab-df-convert {\n",
              "      background-color: #3B4455;\n",
              "      fill: #D2E3FC;\n",
              "    }\n",
              "\n",
              "    [theme=dark] .colab-df-convert:hover {\n",
              "      background-color: #434B5C;\n",
              "      box-shadow: 0px 1px 3px 1px rgba(0, 0, 0, 0.15);\n",
              "      filter: drop-shadow(0px 1px 2px rgba(0, 0, 0, 0.3));\n",
              "      fill: #FFFFFF;\n",
              "    }\n",
              "  </style>\n",
              "\n",
              "    <script>\n",
              "      const buttonEl =\n",
              "        document.querySelector('#df-8a3ca00b-feb5-4d25-a8a0-e7f2ed3a7570 button.colab-df-convert');\n",
              "      buttonEl.style.display =\n",
              "        google.colab.kernel.accessAllowed ? 'block' : 'none';\n",
              "\n",
              "      async function convertToInteractive(key) {\n",
              "        const element = document.querySelector('#df-8a3ca00b-feb5-4d25-a8a0-e7f2ed3a7570');\n",
              "        const dataTable =\n",
              "          await google.colab.kernel.invokeFunction('convertToInteractive',\n",
              "                                                    [key], {});\n",
              "        if (!dataTable) return;\n",
              "\n",
              "        const docLinkHtml = 'Like what you see? Visit the ' +\n",
              "          '<a target=\"_blank\" href=https://colab.research.google.com/notebooks/data_table.ipynb>data table notebook</a>'\n",
              "          + ' to learn more about interactive tables.';\n",
              "        element.innerHTML = '';\n",
              "        dataTable['output_type'] = 'display_data';\n",
              "        await google.colab.output.renderOutput(dataTable, element);\n",
              "        const docLink = document.createElement('div');\n",
              "        docLink.innerHTML = docLinkHtml;\n",
              "        element.appendChild(docLink);\n",
              "      }\n",
              "    </script>\n",
              "  </div>\n",
              "\n",
              "\n",
              "<div id=\"df-a05cd044-36ff-4e4d-98b2-e6e9cbf73baa\">\n",
              "  <button class=\"colab-df-quickchart\" onclick=\"quickchart('df-a05cd044-36ff-4e4d-98b2-e6e9cbf73baa')\"\n",
              "            title=\"Suggest charts\"\n",
              "            style=\"display:none;\">\n",
              "\n",
              "<svg xmlns=\"http://www.w3.org/2000/svg\" height=\"24px\"viewBox=\"0 0 24 24\"\n",
              "     width=\"24px\">\n",
              "    <g>\n",
              "        <path d=\"M19 3H5c-1.1 0-2 .9-2 2v14c0 1.1.9 2 2 2h14c1.1 0 2-.9 2-2V5c0-1.1-.9-2-2-2zM9 17H7v-7h2v7zm4 0h-2V7h2v10zm4 0h-2v-4h2v4z\"/>\n",
              "    </g>\n",
              "</svg>\n",
              "  </button>\n",
              "\n",
              "<style>\n",
              "  .colab-df-quickchart {\n",
              "      --bg-color: #E8F0FE;\n",
              "      --fill-color: #1967D2;\n",
              "      --hover-bg-color: #E2EBFA;\n",
              "      --hover-fill-color: #174EA6;\n",
              "      --disabled-fill-color: #AAA;\n",
              "      --disabled-bg-color: #DDD;\n",
              "  }\n",
              "\n",
              "  [theme=dark] .colab-df-quickchart {\n",
              "      --bg-color: #3B4455;\n",
              "      --fill-color: #D2E3FC;\n",
              "      --hover-bg-color: #434B5C;\n",
              "      --hover-fill-color: #FFFFFF;\n",
              "      --disabled-bg-color: #3B4455;\n",
              "      --disabled-fill-color: #666;\n",
              "  }\n",
              "\n",
              "  .colab-df-quickchart {\n",
              "    background-color: var(--bg-color);\n",
              "    border: none;\n",
              "    border-radius: 50%;\n",
              "    cursor: pointer;\n",
              "    display: none;\n",
              "    fill: var(--fill-color);\n",
              "    height: 32px;\n",
              "    padding: 0;\n",
              "    width: 32px;\n",
              "  }\n",
              "\n",
              "  .colab-df-quickchart:hover {\n",
              "    background-color: var(--hover-bg-color);\n",
              "    box-shadow: 0 1px 2px rgba(60, 64, 67, 0.3), 0 1px 3px 1px rgba(60, 64, 67, 0.15);\n",
              "    fill: var(--button-hover-fill-color);\n",
              "  }\n",
              "\n",
              "  .colab-df-quickchart-complete:disabled,\n",
              "  .colab-df-quickchart-complete:disabled:hover {\n",
              "    background-color: var(--disabled-bg-color);\n",
              "    fill: var(--disabled-fill-color);\n",
              "    box-shadow: none;\n",
              "  }\n",
              "\n",
              "  .colab-df-spinner {\n",
              "    border: 2px solid var(--fill-color);\n",
              "    border-color: transparent;\n",
              "    border-bottom-color: var(--fill-color);\n",
              "    animation:\n",
              "      spin 1s steps(1) infinite;\n",
              "  }\n",
              "\n",
              "  @keyframes spin {\n",
              "    0% {\n",
              "      border-color: transparent;\n",
              "      border-bottom-color: var(--fill-color);\n",
              "      border-left-color: var(--fill-color);\n",
              "    }\n",
              "    20% {\n",
              "      border-color: transparent;\n",
              "      border-left-color: var(--fill-color);\n",
              "      border-top-color: var(--fill-color);\n",
              "    }\n",
              "    30% {\n",
              "      border-color: transparent;\n",
              "      border-left-color: var(--fill-color);\n",
              "      border-top-color: var(--fill-color);\n",
              "      border-right-color: var(--fill-color);\n",
              "    }\n",
              "    40% {\n",
              "      border-color: transparent;\n",
              "      border-right-color: var(--fill-color);\n",
              "      border-top-color: var(--fill-color);\n",
              "    }\n",
              "    60% {\n",
              "      border-color: transparent;\n",
              "      border-right-color: var(--fill-color);\n",
              "    }\n",
              "    80% {\n",
              "      border-color: transparent;\n",
              "      border-right-color: var(--fill-color);\n",
              "      border-bottom-color: var(--fill-color);\n",
              "    }\n",
              "    90% {\n",
              "      border-color: transparent;\n",
              "      border-bottom-color: var(--fill-color);\n",
              "    }\n",
              "  }\n",
              "</style>\n",
              "\n",
              "  <script>\n",
              "    async function quickchart(key) {\n",
              "      const quickchartButtonEl =\n",
              "        document.querySelector('#' + key + ' button');\n",
              "      quickchartButtonEl.disabled = true;  // To prevent multiple clicks.\n",
              "      quickchartButtonEl.classList.add('colab-df-spinner');\n",
              "      try {\n",
              "        const charts = await google.colab.kernel.invokeFunction(\n",
              "            'suggestCharts', [key], {});\n",
              "      } catch (error) {\n",
              "        console.error('Error during call to suggestCharts:', error);\n",
              "      }\n",
              "      quickchartButtonEl.classList.remove('colab-df-spinner');\n",
              "      quickchartButtonEl.classList.add('colab-df-quickchart-complete');\n",
              "    }\n",
              "    (() => {\n",
              "      let quickchartButtonEl =\n",
              "        document.querySelector('#df-a05cd044-36ff-4e4d-98b2-e6e9cbf73baa button');\n",
              "      quickchartButtonEl.style.display =\n",
              "        google.colab.kernel.accessAllowed ? 'block' : 'none';\n",
              "    })();\n",
              "  </script>\n",
              "</div>\n",
              "\n",
              "  <div id=\"id_082861af-b007-414f-ade6-46587dd5a3f4\">\n",
              "    <style>\n",
              "      .colab-df-generate {\n",
              "        background-color: #E8F0FE;\n",
              "        border: none;\n",
              "        border-radius: 50%;\n",
              "        cursor: pointer;\n",
              "        display: none;\n",
              "        fill: #1967D2;\n",
              "        height: 32px;\n",
              "        padding: 0 0 0 0;\n",
              "        width: 32px;\n",
              "      }\n",
              "\n",
              "      .colab-df-generate:hover {\n",
              "        background-color: #E2EBFA;\n",
              "        box-shadow: 0px 1px 2px rgba(60, 64, 67, 0.3), 0px 1px 3px 1px rgba(60, 64, 67, 0.15);\n",
              "        fill: #174EA6;\n",
              "      }\n",
              "\n",
              "      [theme=dark] .colab-df-generate {\n",
              "        background-color: #3B4455;\n",
              "        fill: #D2E3FC;\n",
              "      }\n",
              "\n",
              "      [theme=dark] .colab-df-generate:hover {\n",
              "        background-color: #434B5C;\n",
              "        box-shadow: 0px 1px 3px 1px rgba(0, 0, 0, 0.15);\n",
              "        filter: drop-shadow(0px 1px 2px rgba(0, 0, 0, 0.3));\n",
              "        fill: #FFFFFF;\n",
              "      }\n",
              "    </style>\n",
              "    <button class=\"colab-df-generate\" onclick=\"generateWithVariable('dataset')\"\n",
              "            title=\"Generate code using this dataframe.\"\n",
              "            style=\"display:none;\">\n",
              "\n",
              "  <svg xmlns=\"http://www.w3.org/2000/svg\" height=\"24px\"viewBox=\"0 0 24 24\"\n",
              "       width=\"24px\">\n",
              "    <path d=\"M7,19H8.4L18.45,9,17,7.55,7,17.6ZM5,21V16.75L18.45,3.32a2,2,0,0,1,2.83,0l1.4,1.43a1.91,1.91,0,0,1,.58,1.4,1.91,1.91,0,0,1-.58,1.4L9.25,21ZM18.45,9,17,7.55Zm-12,3A5.31,5.31,0,0,0,4.9,8.1,5.31,5.31,0,0,0,1,6.5,5.31,5.31,0,0,0,4.9,4.9,5.31,5.31,0,0,0,6.5,1,5.31,5.31,0,0,0,8.1,4.9,5.31,5.31,0,0,0,12,6.5,5.46,5.46,0,0,0,6.5,12Z\"/>\n",
              "  </svg>\n",
              "    </button>\n",
              "    <script>\n",
              "      (() => {\n",
              "      const buttonEl =\n",
              "        document.querySelector('#id_082861af-b007-414f-ade6-46587dd5a3f4 button.colab-df-generate');\n",
              "      buttonEl.style.display =\n",
              "        google.colab.kernel.accessAllowed ? 'block' : 'none';\n",
              "\n",
              "      buttonEl.onclick = () => {\n",
              "        google.colab.notebook.generateWithVariable('dataset');\n",
              "      }\n",
              "      })();\n",
              "    </script>\n",
              "  </div>\n",
              "\n",
              "    </div>\n",
              "  </div>\n"
            ],
            "application/vnd.google.colaboratory.intrinsic+json": {
              "type": "dataframe",
              "variable_name": "dataset"
            }
          },
          "metadata": {},
          "execution_count": 3
        }
      ]
    },
    {
      "cell_type": "markdown",
      "source": [
        "**Data Preprocessing**"
      ],
      "metadata": {
        "id": "gIkWYjccCMlu"
      }
    },
    {
      "cell_type": "code",
      "source": [
        "# Encode non-numeric columns (if any)\n",
        "for column in dataset.columns:\n",
        "    if dataset[column].dtype == 'object':  # Identify categorical columns\n",
        "        dataset[column] = LabelEncoder().fit_transform(dataset[column])\n",
        "\n",
        "# Separate features (X) and target (y)\n",
        "X = dataset.drop(['Class'], axis=1)  # Assuming 'Class' is the target column\n",
        "y = dataset['Class']"
      ],
      "metadata": {
        "id": "CJLPKg4OCJIa"
      },
      "execution_count": null,
      "outputs": []
    },
    {
      "cell_type": "code",
      "source": [
        "print(\"Original Class Distribution:\", np.bincount(y))"
      ],
      "metadata": {
        "colab": {
          "base_uri": "https://localhost:8080/"
        },
        "id": "cApvATS2CJGk",
        "outputId": "e1253c26-9d84-44a3-e775-8a7d70a4543f"
      },
      "execution_count": null,
      "outputs": [
        {
          "output_type": "stream",
          "name": "stdout",
          "text": [
            "Original Class Distribution: [340066  14596  10049   6638   3312]\n"
          ]
        }
      ]
    },
    {
      "cell_type": "code",
      "source": [
        "# Standardize the features\n",
        "scaler = StandardScaler()\n",
        "X = scaler.fit_transform(X)"
      ],
      "metadata": {
        "id": "Dfs-ElhtCJDw"
      },
      "execution_count": null,
      "outputs": []
    },
    {
      "cell_type": "code",
      "source": [
        "!pip install -U imbalanced-learn"
      ],
      "metadata": {
        "colab": {
          "base_uri": "https://localhost:8080/"
        },
        "id": "cU6-aUtcCJBK",
        "outputId": "73e9b814-5047-4cdf-b17f-745d45ac5030"
      },
      "execution_count": null,
      "outputs": [
        {
          "output_type": "stream",
          "name": "stdout",
          "text": [
            "Requirement already satisfied: imbalanced-learn in /usr/local/lib/python3.11/dist-packages (0.13.0)\n",
            "Requirement already satisfied: numpy<3,>=1.24.3 in /usr/local/lib/python3.11/dist-packages (from imbalanced-learn) (2.0.2)\n",
            "Requirement already satisfied: scipy<2,>=1.10.1 in /usr/local/lib/python3.11/dist-packages (from imbalanced-learn) (1.14.1)\n",
            "Requirement already satisfied: scikit-learn<2,>=1.3.2 in /usr/local/lib/python3.11/dist-packages (from imbalanced-learn) (1.6.1)\n",
            "Requirement already satisfied: sklearn-compat<1,>=0.1 in /usr/local/lib/python3.11/dist-packages (from imbalanced-learn) (0.1.3)\n",
            "Requirement already satisfied: joblib<2,>=1.1.1 in /usr/local/lib/python3.11/dist-packages (from imbalanced-learn) (1.4.2)\n",
            "Requirement already satisfied: threadpoolctl<4,>=2.0.0 in /usr/local/lib/python3.11/dist-packages (from imbalanced-learn) (3.6.0)\n"
          ]
        }
      ]
    },
    {
      "cell_type": "markdown",
      "source": [
        "**Data Balancing utilized SMOTE**"
      ],
      "metadata": {
        "id": "VU3Uh1FotLGp"
      }
    },
    {
      "cell_type": "code",
      "source": [
        "from imblearn.over_sampling import SMOTE\n",
        "# Balance dataset using SMOTE\n",
        "smote = SMOTE(random_state=42)\n",
        "X, y = smote.fit_resample(X, y)\n",
        "\n",
        "# Verify the balanced dataset distribution\n",
        "print(\"Balanced Class Distribution:\", np.bincount(y))"
      ],
      "metadata": {
        "colab": {
          "base_uri": "https://localhost:8080/"
        },
        "id": "Sb2mBvlBCI-a",
        "outputId": "e783527f-a781-4f88-f79e-d85a092b23b2"
      },
      "execution_count": null,
      "outputs": [
        {
          "output_type": "stream",
          "name": "stdout",
          "text": [
            "Balanced Class Distribution: [340066 340066 340066 340066 340066]\n"
          ]
        }
      ]
    },
    {
      "cell_type": "markdown",
      "source": [
        "**Split data into 80% Training and 20% Testing**"
      ],
      "metadata": {
        "id": "BhCXVR9ctJRp"
      }
    },
    {
      "cell_type": "code",
      "source": [
        "# Train-test split\n",
        "X_train, X_test, y_train, y_test = train_test_split(X, y, test_size=0.2, random_state=101, stratify=y)"
      ],
      "metadata": {
        "id": "ZrU3_udJCI7u"
      },
      "execution_count": null,
      "outputs": []
    },
    {
      "cell_type": "markdown",
      "source": [
        "**The hybrid MLP + LSTM model**"
      ],
      "metadata": {
        "id": "Nf4TIdrUtA9J"
      }
    },
    {
      "cell_type": "code",
      "source": [
        "from keras.models import Sequential\n",
        "from keras.layers import Dense, Dropout, LSTM, Flatten, TimeDistributed, InputLayer\n",
        "from keras.regularizers import l2\n",
        "from keras.utils import to_categorical\n",
        "from keras.callbacks import EarlyStopping\n",
        "\n",
        "# Convert target to categorical (one-hot encoding)\n",
        "y_train = to_categorical(y_train)\n",
        "y_test = to_categorical(y_test)\n",
        "\n",
        "# Reshape the input data for LSTM compatibility\n",
        "# Assuming the input features need to be reshaped into a 3D array: (samples, timesteps, features)\n",
        "X_train = X_train.reshape((X_train.shape[0], X_train.shape[1], 1))\n",
        "X_test = X_test.reshape((X_test.shape[0], X_test.shape[1], 1))\n",
        "\n",
        "# Define the hybrid MLP + LSTM model with regularization\n",
        "def build_hybrid_model(input_shape, num_classes):\n",
        "    model = Sequential()\n",
        "\n",
        "    # Input Layer\n",
        "    model.add(InputLayer(input_shape=input_shape))\n",
        "\n",
        "    # LSTM Layer\n",
        "    model.add(LSTM(64, activation='tanh', return_sequences=False, kernel_regularizer=l2(0.01)))\n",
        "    model.add(Dropout(0.3))  # Dropout for regularization\n",
        "\n",
        "    # MLP Layers\n",
        "    model.add(Dense(128, activation='relu', kernel_regularizer=l2(0.01)))\n",
        "    model.add(Dropout(0.3))  # Dropout for regularization\n",
        "    model.add(Dense(64, activation='relu', kernel_regularizer=l2(0.01)))\n",
        "    model.add(Dropout(0.3))  # Dropout for regularization\n",
        "\n",
        "    # Output Layer\n",
        "    model.add(Dense(num_classes, activation='softmax'))\n",
        "\n",
        "    return model\n",
        "\n",
        "# Build and compile the model\n",
        "input_shape = (X_train.shape[1], X_train.shape[2])  # Adjusted for LSTM input format\n",
        "num_classes = y_train.shape[1]\n",
        "model = build_hybrid_model(input_shape, num_classes)\n",
        "model.compile(\n",
        "    optimizer='adam',\n",
        "    loss='categorical_crossentropy',\n",
        "    metrics=['accuracy']\n",
        ")\n",
        "\n",
        "# Train the model with early stopping\n",
        "from keras.callbacks import EarlyStopping\n",
        "\n",
        "early_stopping = EarlyStopping(monitor='val_loss', patience=10, restore_best_weights=True)\n",
        "\n",
        "history = model.fit(\n",
        "    X_train, y_train,\n",
        "    validation_data=(X_test, y_test),\n",
        "    epochs=10,\n",
        "    batch_size=32,\n",
        "    callbacks=[early_stopping],\n",
        "    verbose=1\n",
        ")\n",
        "\n",
        "# Evaluate the model\n",
        "y_pred = model.predict(X_test)\n",
        "y_pred_classes = np.argmax(y_pred, axis=1)\n",
        "y_true_classes = np.argmax(y_test, axis=1)"
      ],
      "metadata": {
        "colab": {
          "base_uri": "https://localhost:8080/"
        },
        "id": "hsa0-DfQCVcP",
        "outputId": "64d67cc3-2a33-441b-b6a6-0349097d357d"
      },
      "execution_count": null,
      "outputs": [
        {
          "metadata": {
            "tags": null
          },
          "name": "stderr",
          "output_type": "stream",
          "text": [
            "/usr/local/lib/python3.11/dist-packages/keras/src/layers/core/input_layer.py:27: UserWarning: Argument `input_shape` is deprecated. Use `shape` instead.\n",
            "  warnings.warn(\n"
          ]
        },
        {
          "output_type": "stream",
          "name": "stdout",
          "text": [
            "Epoch 1/10\n",
            "\u001b[1m42509/42509\u001b[0m \u001b[32m━━━━━━━━━━━━━━━━━━━━\u001b[0m\u001b[37m\u001b[0m \u001b[1m263s\u001b[0m 6ms/step - accuracy: 0.8736 - loss: 0.3694 - val_accuracy: 0.9056 - val_loss: 0.2301\n",
            "Epoch 2/10\n",
            "\u001b[1m42509/42509\u001b[0m \u001b[32m━━━━━━━━━━━━━━━━━━━━\u001b[0m\u001b[37m\u001b[0m \u001b[1m265s\u001b[0m 6ms/step - accuracy: 0.9043 - loss: 0.2282 - val_accuracy: 0.9063 - val_loss: 0.2170\n",
            "Epoch 3/10\n",
            "\u001b[1m42509/42509\u001b[0m \u001b[32m━━━━━━━━━━━━━━━━━━━━\u001b[0m\u001b[37m\u001b[0m \u001b[1m265s\u001b[0m 6ms/step - accuracy: 0.9048 - loss: 0.2204 - val_accuracy: 0.9027 - val_loss: 0.2198\n",
            "Epoch 4/10\n",
            "\u001b[1m42509/42509\u001b[0m \u001b[32m━━━━━━━━━━━━━━━━━━━━\u001b[0m\u001b[37m\u001b[0m \u001b[1m266s\u001b[0m 6ms/step - accuracy: 0.9050 - loss: 0.2181 - val_accuracy: 0.9063 - val_loss: 0.2119\n",
            "Epoch 5/10\n",
            "\u001b[1m42509/42509\u001b[0m \u001b[32m━━━━━━━━━━━━━━━━━━━━\u001b[0m\u001b[37m\u001b[0m \u001b[1m266s\u001b[0m 6ms/step - accuracy: 0.9049 - loss: 0.2157 - val_accuracy: 0.9059 - val_loss: 0.2128\n",
            "Epoch 6/10\n",
            "\u001b[1m42509/42509\u001b[0m \u001b[32m━━━━━━━━━━━━━━━━━━━━\u001b[0m\u001b[37m\u001b[0m \u001b[1m271s\u001b[0m 6ms/step - accuracy: 0.9054 - loss: 0.2140 - val_accuracy: 0.9071 - val_loss: 0.2073\n",
            "Epoch 7/10\n",
            "\u001b[1m42509/42509\u001b[0m \u001b[32m━━━━━━━━━━━━━━━━━━━━\u001b[0m\u001b[37m\u001b[0m \u001b[1m271s\u001b[0m 6ms/step - accuracy: 0.9059 - loss: 0.2129 - val_accuracy: 0.9366 - val_loss: 0.1735\n",
            "Epoch 8/10\n",
            "\u001b[1m42509/42509\u001b[0m \u001b[32m━━━━━━━━━━━━━━━━━━━━\u001b[0m\u001b[37m\u001b[0m \u001b[1m272s\u001b[0m 6ms/step - accuracy: 0.9327 - loss: 0.1845 - val_accuracy: 0.9393 - val_loss: 0.1596\n",
            "Epoch 9/10\n",
            "\u001b[1m42509/42509\u001b[0m \u001b[32m━━━━━━━━━━━━━━━━━━━━\u001b[0m\u001b[37m\u001b[0m \u001b[1m272s\u001b[0m 6ms/step - accuracy: 0.9396 - loss: 0.1716 - val_accuracy: 0.9483 - val_loss: 0.1583\n",
            "Epoch 10/10\n",
            "\u001b[1m42509/42509\u001b[0m \u001b[32m━━━━━━━━━━━━━━━━━━━━\u001b[0m\u001b[37m\u001b[0m \u001b[1m273s\u001b[0m 6ms/step - accuracy: 0.9451 - loss: 0.1643 - val_accuracy: 0.9564 - val_loss: 0.1363\n",
            "\u001b[1m10628/10628\u001b[0m \u001b[32m━━━━━━━━━━━━━━━━━━━━\u001b[0m\u001b[37m\u001b[0m \u001b[1m21s\u001b[0m 2ms/step\n"
          ]
        }
      ]
    },
    {
      "cell_type": "code",
      "source": [
        "from sklearn.metrics import accuracy_score, classification_report, confusion_matrix, precision_score, recall_score, f1_score\n",
        "# Metrics\n",
        "accuracy = accuracy_score(y_true_classes, y_pred_classes)\n",
        "precision = precision_score(y_true_classes, y_pred_classes, average='weighted')\n",
        "recall = recall_score(y_true_classes, y_pred_classes, average='weighted')\n",
        "f1 = f1_score(y_true_classes, y_pred_classes, average='weighted')\n",
        "\n",
        "print(\"Accuracy: {:.10f}\".format(accuracy))\n",
        "print(\"Precision: {:.10f}\".format(precision))\n",
        "print(\"Recall: {:.10f}\".format(recall))\n",
        "print(\"F1-Score: {:.10f}\".format(f1))"
      ],
      "metadata": {
        "colab": {
          "base_uri": "https://localhost:8080/"
        },
        "id": "z-V2dsrbCVY3",
        "outputId": "5c04266c-da58-45f3-bf4f-782a084cda02"
      },
      "execution_count": null,
      "outputs": [
        {
          "output_type": "stream",
          "name": "stdout",
          "text": [
            "Accuracy: 0.9564378679\n",
            "Precision: 0.9594430313\n",
            "Recall: 0.9564378679\n",
            "F1-Score: 0.9563173043\n"
          ]
        }
      ]
    },
    {
      "cell_type": "code",
      "source": [
        "# Evaluate the model\n",
        "y_pred = model.predict(X_test)\n",
        "y_pred_classes = np.argmax(y_pred, axis=1)\n",
        "y_true_classes = np.argmax(y_test, axis=1)\n",
        "\n",
        "# Metrics\n",
        "accuracy = accuracy_score(y_true_classes, y_pred_classes)\n",
        "precision = precision_score(y_true_classes, y_pred_classes, average='weighted')\n",
        "recall = recall_score(y_true_classes, y_pred_classes, average='weighted')\n",
        "f1 = f1_score(y_true_classes, y_pred_classes, average='weighted')\n",
        "\n",
        "print(\"Accuracy: {:.10f}\".format(accuracy))\n",
        "print(\"Precision: {:.10f}\".format(precision))\n",
        "print(\"Recall: {:.10f}\".format(recall))\n",
        "print(\"F1-Score: {:.10f}\".format(f1))"
      ],
      "metadata": {
        "colab": {
          "base_uri": "https://localhost:8080/"
        },
        "id": "nie6CiXoCVWL",
        "outputId": "e21270e1-1c8c-4c3f-d52f-328180a0eeb1"
      },
      "execution_count": null,
      "outputs": [
        {
          "output_type": "stream",
          "name": "stdout",
          "text": [
            "\u001b[1m10628/10628\u001b[0m \u001b[32m━━━━━━━━━━━━━━━━━━━━\u001b[0m\u001b[37m\u001b[0m \u001b[1m21s\u001b[0m 2ms/step\n",
            "Accuracy: 0.9564378679\n",
            "Precision: 0.9594430313\n",
            "Recall: 0.9564378679\n",
            "F1-Score: 0.9563173043\n"
          ]
        }
      ]
    },
    {
      "cell_type": "markdown",
      "source": [
        "**Federated Learning Simulation (FedAvg)**"
      ],
      "metadata": {
        "id": "VrhDYntPs6jU"
      }
    },
    {
      "cell_type": "code",
      "source": [
        "import time\n",
        "from sklearn.metrics import classification_report, confusion_matrix, accuracy_score, precision_score, recall_score, f1_score\n",
        "\n",
        "# Function to measure model performance\n",
        "def evaluate_global_model(global_model, X_test, y_test):\n",
        "    y_pred = global_model.predict(X_test)\n",
        "    y_pred_classes = np.argmax(y_pred, axis=1)\n",
        "    y_true_classes = np.argmax(y_test, axis=1)\n",
        "\n",
        "    # Compute performance metrics\n",
        "    accuracy = accuracy_score(y_true_classes, y_pred_classes)\n",
        "    precision = precision_score(y_true_classes, y_pred_classes, average='weighted')\n",
        "    recall = recall_score(y_true_classes, y_pred_classes, average='weighted')\n",
        "    f1 = f1_score(y_true_classes, y_pred_classes, average='weighted')\n",
        "    cm = confusion_matrix(y_true_classes, y_pred_classes)\n",
        "\n",
        "    print(\"\\nModel Performance Metrics:\")\n",
        "    print(f\"Accuracy: {accuracy:.10f}\")\n",
        "    print(f\"Precision: {precision:.10f}\")\n",
        "    print(f\"Recall: {recall:.10f}\")\n",
        "    print(f\"F1-Score: {f1:.10f}\")\n",
        "    print(\"\\nConfusion Matrix:\")\n",
        "    print(cm)\n",
        "\n",
        "    return accuracy, precision, recall, f1\n",
        "\n",
        "# Function to analyze communication overhead\n",
        "def analyze_communication_overhead(local_weights, global_weights):\n",
        "    communication_cost = 0\n",
        "    for i in range(len(local_weights)):\n",
        "        # Compute the size of weights transmitted between clients and server\n",
        "        communication_cost += sum(w.nbytes for w in local_weights[i])\n",
        "    communication_cost += sum(w.nbytes for w in global_weights)\n",
        "\n",
        "    print(f\"\\nCommunication Overhead: {communication_cost / (1024 ** 2):.2f} MB\")  # in megabytes\n",
        "\n",
        "# Federated Learning Simulation (FedAvg)\n",
        "def federated_learning_simulation(X_train, y_train, X_test, y_test, num_clients=5):\n",
        "    client_data = np.array_split(X_train, num_clients)\n",
        "    client_labels = np.array_split(y_train, num_clients)\n",
        "\n",
        "    global_model = build_hybrid_model(input_shape, num_classes)\n",
        "    global_model.compile(optimizer='adam', loss='categorical_crossentropy', metrics=['accuracy'])\n",
        "    global_weights = global_model.get_weights()\n",
        "\n",
        "    communication_overhead = []\n",
        "    latency_per_round = []\n",
        "\n",
        "    for round in range(25):  # Simulate 50 communication rounds\n",
        "        local_weights = []\n",
        "\n",
        "        start_time = time.time()  # Start measuring latency\n",
        "\n",
        "        for i in range(num_clients):\n",
        "            local_model = build_hybrid_model(input_shape, num_classes)\n",
        "            local_model.set_weights(global_weights)\n",
        "            local_model.compile(optimizer='adam', loss='categorical_crossentropy', metrics=['accuracy'])\n",
        "\n",
        "            local_model.fit(client_data[i], client_labels[i], epochs=1, batch_size=32, verbose=0)\n",
        "            local_weights.append(local_model.get_weights())\n",
        "\n",
        "        # Aggregate weights (FedAvg)\n",
        "        global_weights = [\n",
        "            np.mean([local_weights[j][i] for j in range(num_clients)], axis=0)\n",
        "            for i in range(len(global_weights))\n",
        "        ]\n",
        "        global_model.set_weights(global_weights)\n",
        "\n",
        "        # Measure latency\n",
        "        end_time = time.time()\n",
        "        latency = end_time - start_time\n",
        "        latency_per_round.append(latency)\n",
        "\n",
        "        # Measure communication overhead\n",
        "        analyze_communication_overhead(local_weights, global_weights)\n",
        "\n",
        "        # Evaluate the global model\n",
        "        loss, acc = global_model.evaluate(X_test, y_test, verbose=0)\n",
        "        print(f\"\\nRound {round + 1}: Global Model Accuracy = {acc:.10f}\")\n",
        "\n",
        "        # Evaluate model performance metrics\n",
        "        evaluate_global_model(global_model, X_test, y_test)\n",
        "\n",
        "    # Summarize overall latency\n",
        "    print(\"\\nLatency Analysis:\")\n",
        "    print(f\"Average Latency per Round: {np.mean(latency_per_round):.2f} seconds\")\n",
        "    print(f\"Total Latency for 10 Rounds: {np.sum(latency_per_round):.2f} seconds\")\n",
        "\n",
        "# Call the federated learning simulation function\n",
        "federated_learning_simulation(X_train, y_train, X_test, y_test)"
      ],
      "metadata": {
        "colab": {
          "base_uri": "https://localhost:8080/"
        },
        "id": "95rgvCs-fyD9",
        "outputId": "7fd3e965-b04d-44bc-c679-aa2b0ddc093b"
      },
      "execution_count": null,
      "outputs": [
        {
          "output_type": "stream",
          "name": "stderr",
          "text": [
            "/usr/local/lib/python3.11/dist-packages/keras/src/layers/core/input_layer.py:27: UserWarning: Argument `input_shape` is deprecated. Use `shape` instead.\n",
            "  warnings.warn(\n"
          ]
        },
        {
          "output_type": "stream",
          "name": "stdout",
          "text": [
            "\n",
            "Communication Overhead: 0.77 MB\n",
            "\n",
            "Round 1: Global Model Accuracy = 0.7161521316\n",
            "\u001b[1m10628/10628\u001b[0m \u001b[32m━━━━━━━━━━━━━━━━━━━━\u001b[0m\u001b[37m\u001b[0m \u001b[1m21s\u001b[0m 2ms/step\n",
            "\n",
            "Model Performance Metrics:\n",
            "Accuracy: 0.7161521587\n",
            "Precision: 0.7069973178\n",
            "Recall: 0.7161521587\n",
            "F1-Score: 0.6750516069\n",
            "\n",
            "Confusion Matrix:\n",
            "[[67066   450     3   403    91]\n",
            " [ 7643 56096   178  4083    13]\n",
            " [ 1980 47507  6034 12492     0]\n",
            " [ 4773   292  6813 56136     0]\n",
            " [ 1470  8222     0   114 58207]]\n"
          ]
        },
        {
          "output_type": "stream",
          "name": "stderr",
          "text": [
            "/usr/local/lib/python3.11/dist-packages/keras/src/layers/core/input_layer.py:27: UserWarning: Argument `input_shape` is deprecated. Use `shape` instead.\n",
            "  warnings.warn(\n"
          ]
        },
        {
          "output_type": "stream",
          "name": "stdout",
          "text": [
            "\n",
            "Communication Overhead: 0.77 MB\n",
            "\n",
            "Round 2: Global Model Accuracy = 0.9044538140\n",
            "\u001b[1m10628/10628\u001b[0m \u001b[32m━━━━━━━━━━━━━━━━━━━━\u001b[0m\u001b[37m\u001b[0m \u001b[1m21s\u001b[0m 2ms/step\n",
            "\n",
            "Model Performance Metrics:\n",
            "Accuracy: 0.9044538413\n",
            "Precision: 0.9260244435\n",
            "Recall: 0.9044538413\n",
            "F1-Score: 0.9012987626\n",
            "\n",
            "Confusion Matrix:\n",
            "[[67160   673     6    65   109]\n",
            " [   13 41061 26939     0     0]\n",
            " [    0     0 68013     0     0]\n",
            " [ 4308   238    93 63375     0]\n",
            " [   47     1     0     0 67965]]\n"
          ]
        },
        {
          "output_type": "stream",
          "name": "stderr",
          "text": [
            "/usr/local/lib/python3.11/dist-packages/keras/src/layers/core/input_layer.py:27: UserWarning: Argument `input_shape` is deprecated. Use `shape` instead.\n",
            "  warnings.warn(\n"
          ]
        },
        {
          "output_type": "stream",
          "name": "stdout",
          "text": [
            "\n",
            "Communication Overhead: 0.77 MB\n",
            "\n",
            "Round 3: Global Model Accuracy = 0.9056271315\n",
            "\u001b[1m10628/10628\u001b[0m \u001b[32m━━━━━━━━━━━━━━━━━━━━\u001b[0m\u001b[37m\u001b[0m \u001b[1m21s\u001b[0m 2ms/step\n",
            "\n",
            "Model Performance Metrics:\n",
            "Accuracy: 0.9056271430\n",
            "Precision: 0.9281479486\n",
            "Recall: 0.9056271430\n",
            "F1-Score: 0.9023919925\n",
            "\n",
            "Confusion Matrix:\n",
            "[[67707   182     0    29    95]\n",
            " [   16 41058 26929    10     0]\n",
            " [    0     0 67960    53     0]\n",
            " [ 4503   195    19 63297     0]\n",
            " [   60     0     0     2 67951]]\n"
          ]
        },
        {
          "output_type": "stream",
          "name": "stderr",
          "text": [
            "/usr/local/lib/python3.11/dist-packages/keras/src/layers/core/input_layer.py:27: UserWarning: Argument `input_shape` is deprecated. Use `shape` instead.\n",
            "  warnings.warn(\n"
          ]
        },
        {
          "output_type": "stream",
          "name": "stdout",
          "text": [
            "\n",
            "Communication Overhead: 0.77 MB\n",
            "\n",
            "Round 4: Global Model Accuracy = 0.9063770175\n",
            "\u001b[1m10628/10628\u001b[0m \u001b[32m━━━━━━━━━━━━━━━━━━━━\u001b[0m\u001b[37m\u001b[0m \u001b[1m21s\u001b[0m 2ms/step\n",
            "\n",
            "Model Performance Metrics:\n",
            "Accuracy: 0.9063769974\n",
            "Precision: 0.9289881125\n",
            "Recall: 0.9063769974\n",
            "F1-Score: 0.9031449638\n",
            "\n",
            "Confusion Matrix:\n",
            "[[67649   183     3    90    88]\n",
            " [    9 41046 26941    17     0]\n",
            " [    0     0 67978    35     0]\n",
            " [ 4287   118    41 63568     0]\n",
            " [   22     4     0     0 67987]]\n"
          ]
        },
        {
          "output_type": "stream",
          "name": "stderr",
          "text": [
            "/usr/local/lib/python3.11/dist-packages/keras/src/layers/core/input_layer.py:27: UserWarning: Argument `input_shape` is deprecated. Use `shape` instead.\n",
            "  warnings.warn(\n"
          ]
        },
        {
          "output_type": "stream",
          "name": "stdout",
          "text": [
            "\n",
            "Communication Overhead: 0.77 MB\n",
            "\n",
            "Round 5: Global Model Accuracy = 0.9064740539\n",
            "\u001b[1m10628/10628\u001b[0m \u001b[32m━━━━━━━━━━━━━━━━━━━━\u001b[0m\u001b[37m\u001b[0m \u001b[1m21s\u001b[0m 2ms/step\n",
            "\n",
            "Model Performance Metrics:\n",
            "Accuracy: 0.9064740374\n",
            "Precision: 0.9293558112\n",
            "Recall: 0.9064740374\n",
            "F1-Score: 0.9032085420\n",
            "\n",
            "Confusion Matrix:\n",
            "[[67751   140     0    46    76]\n",
            " [   30 41019 26931    33     0]\n",
            " [    1     1 67963    48     0]\n",
            " [ 4403    32    27 63552     0]\n",
            " [   37     0     0     0 67976]]\n"
          ]
        },
        {
          "output_type": "stream",
          "name": "stderr",
          "text": [
            "/usr/local/lib/python3.11/dist-packages/keras/src/layers/core/input_layer.py:27: UserWarning: Argument `input_shape` is deprecated. Use `shape` instead.\n",
            "  warnings.warn(\n"
          ]
        },
        {
          "output_type": "stream",
          "name": "stdout",
          "text": [
            "\n",
            "Communication Overhead: 0.77 MB\n",
            "\n",
            "Round 6: Global Model Accuracy = 0.9063005447\n",
            "\u001b[1m10628/10628\u001b[0m \u001b[32m━━━━━━━━━━━━━━━━━━━━\u001b[0m\u001b[37m\u001b[0m \u001b[1m21s\u001b[0m 2ms/step\n",
            "\n",
            "Model Performance Metrics:\n",
            "Accuracy: 0.9063005417\n",
            "Precision: 0.9291776436\n",
            "Recall: 0.9063005417\n",
            "F1-Score: 0.9030530634\n",
            "\n",
            "Confusion Matrix:\n",
            "[[67752   139     1    45    76]\n",
            " [   35 41036 26939     3     0]\n",
            " [    1     0 67981    31     0]\n",
            " [ 4468    66    35 63445     0]\n",
            " [   21     4     0     0 67988]]\n"
          ]
        },
        {
          "output_type": "stream",
          "name": "stderr",
          "text": [
            "/usr/local/lib/python3.11/dist-packages/keras/src/layers/core/input_layer.py:27: UserWarning: Argument `input_shape` is deprecated. Use `shape` instead.\n",
            "  warnings.warn(\n"
          ]
        },
        {
          "output_type": "stream",
          "name": "stdout",
          "text": [
            "\n",
            "Communication Overhead: 0.77 MB\n",
            "\n",
            "Round 7: Global Model Accuracy = 0.9057153463\n",
            "\u001b[1m10628/10628\u001b[0m \u001b[32m━━━━━━━━━━━━━━━━━━━━\u001b[0m\u001b[37m\u001b[0m \u001b[1m21s\u001b[0m 2ms/step\n",
            "\n",
            "Model Performance Metrics:\n",
            "Accuracy: 0.9057153611\n",
            "Precision: 0.9284176939\n",
            "Recall: 0.9057153611\n",
            "F1-Score: 0.9024828730\n",
            "\n",
            "Confusion Matrix:\n",
            "[[67638   271     0    28    76]\n",
            " [   34 41039 26940     0     0]\n",
            " [    0     0 67998    15     0]\n",
            " [ 4572    55    40 63347     0]\n",
            " [   32     0     0     0 67981]]\n"
          ]
        },
        {
          "output_type": "stream",
          "name": "stderr",
          "text": [
            "/usr/local/lib/python3.11/dist-packages/keras/src/layers/core/input_layer.py:27: UserWarning: Argument `input_shape` is deprecated. Use `shape` instead.\n",
            "  warnings.warn(\n"
          ]
        },
        {
          "output_type": "stream",
          "name": "stdout",
          "text": [
            "\n",
            "Communication Overhead: 0.77 MB\n",
            "\n",
            "Round 8: Global Model Accuracy = 0.9068004489\n",
            "\u001b[1m10628/10628\u001b[0m \u001b[32m━━━━━━━━━━━━━━━━━━━━\u001b[0m\u001b[37m\u001b[0m \u001b[1m21s\u001b[0m 2ms/step\n",
            "\n",
            "Model Performance Metrics:\n",
            "Accuracy: 0.9068004446\n",
            "Precision: 0.9296468185\n",
            "Recall: 0.9068004446\n",
            "F1-Score: 0.9035504556\n",
            "\n",
            "Confusion Matrix:\n",
            "[[67730   142     5    60    76]\n",
            " [    9 41033 26940    31     0]\n",
            " [    0     0 67986    27     0]\n",
            " [ 4309    43    31 63631     0]\n",
            " [   18     3     0     0 67992]]\n"
          ]
        },
        {
          "output_type": "stream",
          "name": "stderr",
          "text": [
            "/usr/local/lib/python3.11/dist-packages/keras/src/layers/core/input_layer.py:27: UserWarning: Argument `input_shape` is deprecated. Use `shape` instead.\n",
            "  warnings.warn(\n"
          ]
        },
        {
          "output_type": "stream",
          "name": "stdout",
          "text": [
            "\n",
            "Communication Overhead: 0.77 MB\n",
            "\n",
            "Round 9: Global Model Accuracy = 0.9066416621\n",
            "\u001b[1m10628/10628\u001b[0m \u001b[32m━━━━━━━━━━━━━━━━━━━━\u001b[0m\u001b[37m\u001b[0m \u001b[1m21s\u001b[0m 2ms/step\n",
            "\n",
            "Model Performance Metrics:\n",
            "Accuracy: 0.9066416519\n",
            "Precision: 0.9296356235\n",
            "Recall: 0.9066416519\n",
            "F1-Score: 0.9033595328\n",
            "\n",
            "Confusion Matrix:\n",
            "[[67784   109     1    43    76]\n",
            " [   40 41006 26931    36     0]\n",
            " [    0     0 67993    20     0]\n",
            " [ 4426    18    21 63549     0]\n",
            " [   25     2     0     0 67986]]\n"
          ]
        },
        {
          "output_type": "stream",
          "name": "stderr",
          "text": [
            "/usr/local/lib/python3.11/dist-packages/keras/src/layers/core/input_layer.py:27: UserWarning: Argument `input_shape` is deprecated. Use `shape` instead.\n",
            "  warnings.warn(\n"
          ]
        },
        {
          "output_type": "stream",
          "name": "stdout",
          "text": [
            "\n",
            "Communication Overhead: 0.77 MB\n",
            "\n",
            "Round 10: Global Model Accuracy = 0.9063240886\n",
            "\u001b[1m10628/10628\u001b[0m \u001b[32m━━━━━━━━━━━━━━━━━━━━\u001b[0m\u001b[37m\u001b[0m \u001b[1m21s\u001b[0m 2ms/step\n",
            "\n",
            "Model Performance Metrics:\n",
            "Accuracy: 0.9063240665\n",
            "Precision: 0.9293939440\n",
            "Recall: 0.9063240665\n",
            "F1-Score: 0.9030513702\n",
            "\n",
            "Confusion Matrix:\n",
            "[[67815   109     0    13    76]\n",
            " [   63 41009 26939     2     0]\n",
            " [    0     0 68013     0     0]\n",
            " [ 4556    41    34 63383     0]\n",
            " [   23     0     0     0 67990]]\n"
          ]
        },
        {
          "output_type": "stream",
          "name": "stderr",
          "text": [
            "/usr/local/lib/python3.11/dist-packages/keras/src/layers/core/input_layer.py:27: UserWarning: Argument `input_shape` is deprecated. Use `shape` instead.\n",
            "  warnings.warn(\n"
          ]
        },
        {
          "output_type": "stream",
          "name": "stdout",
          "text": [
            "\n",
            "Communication Overhead: 0.77 MB\n",
            "\n",
            "Round 11: Global Model Accuracy = 0.9070239067\n",
            "\u001b[1m10628/10628\u001b[0m \u001b[32m━━━━━━━━━━━━━━━━━━━━\u001b[0m\u001b[37m\u001b[0m \u001b[1m21s\u001b[0m 2ms/step\n",
            "\n",
            "Model Performance Metrics:\n",
            "Accuracy: 0.9070239306\n",
            "Precision: 0.9300164849\n",
            "Recall: 0.9070239306\n",
            "F1-Score: 0.9037518336\n",
            "\n",
            "Confusion Matrix:\n",
            "[[67778   104     0    55    76]\n",
            " [   27 41014 26939    33     0]\n",
            " [    0     0 68013     0     0]\n",
            " [ 4312    20    27 63655     0]\n",
            " [   25     0     0     0 67988]]\n"
          ]
        },
        {
          "output_type": "stream",
          "name": "stderr",
          "text": [
            "/usr/local/lib/python3.11/dist-packages/keras/src/layers/core/input_layer.py:27: UserWarning: Argument `input_shape` is deprecated. Use `shape` instead.\n",
            "  warnings.warn(\n"
          ]
        },
        {
          "output_type": "stream",
          "name": "stdout",
          "text": [
            "\n",
            "Communication Overhead: 0.77 MB\n",
            "\n",
            "Round 12: Global Model Accuracy = 0.9066681266\n",
            "\u001b[1m10628/10628\u001b[0m \u001b[32m━━━━━━━━━━━━━━━━━━━━\u001b[0m\u001b[37m\u001b[0m \u001b[1m21s\u001b[0m 2ms/step\n",
            "\n",
            "Model Performance Metrics:\n",
            "Accuracy: 0.9066681174\n",
            "Precision: 0.9295600076\n",
            "Recall: 0.9066681174\n",
            "F1-Score: 0.9034322960\n",
            "\n",
            "Confusion Matrix:\n",
            "[[67767   126     0    44    76]\n",
            " [   26 41047 26940     0     0]\n",
            " [    0     0 68013     0     0]\n",
            " [ 4374    77    50 63513     0]\n",
            " [   20     6     0     0 67987]]\n"
          ]
        },
        {
          "output_type": "stream",
          "name": "stderr",
          "text": [
            "/usr/local/lib/python3.11/dist-packages/keras/src/layers/core/input_layer.py:27: UserWarning: Argument `input_shape` is deprecated. Use `shape` instead.\n",
            "  warnings.warn(\n"
          ]
        },
        {
          "output_type": "stream",
          "name": "stdout",
          "text": [
            "\n",
            "Communication Overhead: 0.77 MB\n",
            "\n",
            "Round 13: Global Model Accuracy = 0.9068827629\n",
            "\u001b[1m10628/10628\u001b[0m \u001b[32m━━━━━━━━━━━━━━━━━━━━\u001b[0m\u001b[37m\u001b[0m \u001b[1m21s\u001b[0m 2ms/step\n",
            "\n",
            "Model Performance Metrics:\n",
            "Accuracy: 0.9068827816\n",
            "Precision: 0.9298822364\n",
            "Recall: 0.9068827816\n",
            "F1-Score: 0.9036288927\n",
            "\n",
            "Confusion Matrix:\n",
            "[[67781   107     8    41    76]\n",
            " [   42 41029 26940     2     0]\n",
            " [    0     0 68013     0     0]\n",
            " [ 4361    35    30 63588     0]\n",
            " [   21     3     0     0 67989]]\n"
          ]
        },
        {
          "output_type": "stream",
          "name": "stderr",
          "text": [
            "/usr/local/lib/python3.11/dist-packages/keras/src/layers/core/input_layer.py:27: UserWarning: Argument `input_shape` is deprecated. Use `shape` instead.\n",
            "  warnings.warn(\n"
          ]
        },
        {
          "output_type": "stream",
          "name": "stdout",
          "text": [
            "\n",
            "Communication Overhead: 0.77 MB\n",
            "\n",
            "Round 14: Global Model Accuracy = 0.9063799381\n",
            "\u001b[1m10628/10628\u001b[0m \u001b[32m━━━━━━━━━━━━━━━━━━━━\u001b[0m\u001b[37m\u001b[0m \u001b[1m21s\u001b[0m 2ms/step\n",
            "\n",
            "Model Performance Metrics:\n",
            "Accuracy: 0.9063799380\n",
            "Precision: 0.9293711384\n",
            "Recall: 0.9063799380\n",
            "F1-Score: 0.9031273552\n",
            "\n",
            "Confusion Matrix:\n",
            "[[67785   119     1    32    76]\n",
            " [   41 41033 26939     0     0]\n",
            " [    0     0 68013     0     0]\n",
            " [ 4512    55    36 63411     0]\n",
            " [   23     3     0     0 67987]]\n"
          ]
        },
        {
          "output_type": "stream",
          "name": "stderr",
          "text": [
            "/usr/local/lib/python3.11/dist-packages/keras/src/layers/core/input_layer.py:27: UserWarning: Argument `input_shape` is deprecated. Use `shape` instead.\n",
            "  warnings.warn(\n"
          ]
        },
        {
          "output_type": "stream",
          "name": "stdout",
          "text": [
            "\n",
            "Communication Overhead: 0.77 MB\n",
            "\n",
            "Round 15: Global Model Accuracy = 0.9059270620\n",
            "\u001b[1m10628/10628\u001b[0m \u001b[32m━━━━━━━━━━━━━━━━━━━━\u001b[0m\u001b[37m\u001b[0m \u001b[1m21s\u001b[0m 2ms/step\n",
            "\n",
            "Model Performance Metrics:\n",
            "Accuracy: 0.9059270847\n",
            "Precision: 0.9287417820\n",
            "Recall: 0.9059270847\n",
            "F1-Score: 0.9026983877\n",
            "\n",
            "Confusion Matrix:\n",
            "[[67787   149     0     1    76]\n",
            " [    3 41071 26939     0     0]\n",
            " [    0     1 68012     0     0]\n",
            " [ 4649   116    23 63226     0]\n",
            " [   18    16     0     0 67979]]\n"
          ]
        },
        {
          "output_type": "stream",
          "name": "stderr",
          "text": [
            "/usr/local/lib/python3.11/dist-packages/keras/src/layers/core/input_layer.py:27: UserWarning: Argument `input_shape` is deprecated. Use `shape` instead.\n",
            "  warnings.warn(\n"
          ]
        },
        {
          "output_type": "stream",
          "name": "stdout",
          "text": [
            "\n",
            "Communication Overhead: 0.77 MB\n",
            "\n",
            "Round 16: Global Model Accuracy = 0.9064681530\n",
            "\u001b[1m10628/10628\u001b[0m \u001b[32m━━━━━━━━━━━━━━━━━━━━\u001b[0m\u001b[37m\u001b[0m \u001b[1m21s\u001b[0m 2ms/step\n",
            "\n",
            "Model Performance Metrics:\n",
            "Accuracy: 0.9064681562\n",
            "Precision: 0.9293406489\n",
            "Recall: 0.9064681562\n",
            "F1-Score: 0.9032356065\n",
            "\n",
            "Confusion Matrix:\n",
            "[[67796   124     0    17    76]\n",
            " [   10 41063 26940     0     0]\n",
            " [    0     0 68013     0     0]\n",
            " [ 4496    79    27 63412     0]\n",
            " [   15    23     0     0 67975]]\n"
          ]
        },
        {
          "output_type": "stream",
          "name": "stderr",
          "text": [
            "/usr/local/lib/python3.11/dist-packages/keras/src/layers/core/input_layer.py:27: UserWarning: Argument `input_shape` is deprecated. Use `shape` instead.\n",
            "  warnings.warn(\n"
          ]
        },
        {
          "output_type": "stream",
          "name": "stdout",
          "text": [
            "\n",
            "Communication Overhead: 0.77 MB\n",
            "\n",
            "Round 17: Global Model Accuracy = 0.9064446092\n",
            "\u001b[1m10628/10628\u001b[0m \u001b[32m━━━━━━━━━━━━━━━━━━━━\u001b[0m\u001b[37m\u001b[0m \u001b[1m22s\u001b[0m 2ms/step\n",
            "\n",
            "Model Performance Metrics:\n",
            "Accuracy: 0.9064446313\n",
            "Precision: 0.9295453941\n",
            "Recall: 0.9064446313\n",
            "F1-Score: 0.9031650752\n",
            "\n",
            "Confusion Matrix:\n",
            "[[67801    96     2    38    76]\n",
            " [   71 41000 26942     0     0]\n",
            " [    0     2 68011     0     0]\n",
            " [ 4514    24    28 63448     0]\n",
            " [   22     0     0     0 67991]]\n"
          ]
        },
        {
          "output_type": "stream",
          "name": "stderr",
          "text": [
            "/usr/local/lib/python3.11/dist-packages/keras/src/layers/core/input_layer.py:27: UserWarning: Argument `input_shape` is deprecated. Use `shape` instead.\n",
            "  warnings.warn(\n"
          ]
        },
        {
          "output_type": "stream",
          "name": "stdout",
          "text": [
            "\n",
            "Communication Overhead: 0.77 MB\n",
            "\n",
            "Round 18: Global Model Accuracy = 0.9061005712\n",
            "\u001b[1m10628/10628\u001b[0m \u001b[32m━━━━━━━━━━━━━━━━━━━━\u001b[0m\u001b[37m\u001b[0m \u001b[1m22s\u001b[0m 2ms/step\n",
            "\n",
            "Model Performance Metrics:\n",
            "Accuracy: 0.9061005805\n",
            "Precision: 0.9291975774\n",
            "Recall: 0.9061005805\n",
            "F1-Score: 0.9028206509\n",
            "\n",
            "Confusion Matrix:\n",
            "[[67847    87     0     3    76]\n",
            " [   65 41018 26930     0     0]\n",
            " [   17     0 67996     0     0]\n",
            " [ 4687    32     2 63293     0]\n",
            " [   20    13     0     0 67980]]\n"
          ]
        },
        {
          "output_type": "stream",
          "name": "stderr",
          "text": [
            "/usr/local/lib/python3.11/dist-packages/keras/src/layers/core/input_layer.py:27: UserWarning: Argument `input_shape` is deprecated. Use `shape` instead.\n",
            "  warnings.warn(\n"
          ]
        },
        {
          "output_type": "stream",
          "name": "stdout",
          "text": [
            "\n",
            "Communication Overhead: 0.77 MB\n",
            "\n",
            "Round 19: Global Model Accuracy = 0.9066652060\n",
            "\u001b[1m10628/10628\u001b[0m \u001b[32m━━━━━━━━━━━━━━━━━━━━\u001b[0m\u001b[37m\u001b[0m \u001b[1m21s\u001b[0m 2ms/step\n",
            "\n",
            "Model Performance Metrics:\n",
            "Accuracy: 0.9066651768\n",
            "Precision: 0.9296345553\n",
            "Recall: 0.9066651768\n",
            "F1-Score: 0.9034011997\n",
            "\n",
            "Confusion Matrix:\n",
            "[[67791   119     1    26    76]\n",
            " [   43 41029 26939     2     0]\n",
            " [    0     4 68009     0     0]\n",
            " [ 4466    32     9 63507     0]\n",
            " [   19     4     0     0 67990]]\n"
          ]
        },
        {
          "output_type": "stream",
          "name": "stderr",
          "text": [
            "/usr/local/lib/python3.11/dist-packages/keras/src/layers/core/input_layer.py:27: UserWarning: Argument `input_shape` is deprecated. Use `shape` instead.\n",
            "  warnings.warn(\n"
          ]
        },
        {
          "output_type": "stream",
          "name": "stdout",
          "text": [
            "\n",
            "Communication Overhead: 0.77 MB\n",
            "\n",
            "Round 20: Global Model Accuracy = 0.9060240984\n",
            "\u001b[1m10628/10628\u001b[0m \u001b[32m━━━━━━━━━━━━━━━━━━━━\u001b[0m\u001b[37m\u001b[0m \u001b[1m21s\u001b[0m 2ms/step\n",
            "\n",
            "Model Performance Metrics:\n",
            "Accuracy: 0.9060241247\n",
            "Precision: 0.9289862955\n",
            "Recall: 0.9060241247\n",
            "F1-Score: 0.9027589163\n",
            "\n",
            "Confusion Matrix:\n",
            "[[67814   114     0     9    76]\n",
            " [   56 41033 26924     0     0]\n",
            " [    7    40 67966     0     0]\n",
            " [ 4681    18     0 63315     0]\n",
            " [   25     8     0     0 67980]]\n"
          ]
        },
        {
          "output_type": "stream",
          "name": "stderr",
          "text": [
            "/usr/local/lib/python3.11/dist-packages/keras/src/layers/core/input_layer.py:27: UserWarning: Argument `input_shape` is deprecated. Use `shape` instead.\n",
            "  warnings.warn(\n"
          ]
        },
        {
          "output_type": "stream",
          "name": "stdout",
          "text": [
            "\n",
            "Communication Overhead: 0.77 MB\n",
            "\n",
            "Round 21: Global Model Accuracy = 0.9056153893\n",
            "\u001b[1m10628/10628\u001b[0m \u001b[32m━━━━━━━━━━━━━━━━━━━━\u001b[0m\u001b[37m\u001b[0m \u001b[1m22s\u001b[0m 2ms/step\n",
            "\n",
            "Model Performance Metrics:\n",
            "Accuracy: 0.9056153805\n",
            "Precision: 0.9286308679\n",
            "Recall: 0.9056153805\n",
            "F1-Score: 0.9023678282\n",
            "\n",
            "Confusion Matrix:\n",
            "[[67809   127     0     0    77]\n",
            " [   21 41063 26929     0     0]\n",
            " [    4    19 67990     0     0]\n",
            " [ 4862    39     0 63113     0]\n",
            " [   14     5     0     0 67994]]\n"
          ]
        },
        {
          "output_type": "stream",
          "name": "stderr",
          "text": [
            "/usr/local/lib/python3.11/dist-packages/keras/src/layers/core/input_layer.py:27: UserWarning: Argument `input_shape` is deprecated. Use `shape` instead.\n",
            "  warnings.warn(\n"
          ]
        },
        {
          "output_type": "stream",
          "name": "stdout",
          "text": [
            "\n",
            "Communication Overhead: 0.77 MB\n",
            "\n",
            "Round 22: Global Model Accuracy = 0.9059123993\n",
            "\u001b[1m10628/10628\u001b[0m \u001b[32m━━━━━━━━━━━━━━━━━━━━\u001b[0m\u001b[37m\u001b[0m \u001b[1m22s\u001b[0m 2ms/step\n",
            "\n",
            "Model Performance Metrics:\n",
            "Accuracy: 0.9059123817\n",
            "Precision: 0.9288890047\n",
            "Recall: 0.9059123817\n",
            "F1-Score: 0.9026690501\n",
            "\n",
            "Confusion Matrix:\n",
            "[[67817   119     0     1    76]\n",
            " [   15 41059 26939     0     0]\n",
            " [    0     2 68011     0     0]\n",
            " [ 4732    64    14 63204     0]\n",
            " [   11    23     0     0 67979]]\n"
          ]
        },
        {
          "output_type": "stream",
          "name": "stderr",
          "text": [
            "/usr/local/lib/python3.11/dist-packages/keras/src/layers/core/input_layer.py:27: UserWarning: Argument `input_shape` is deprecated. Use `shape` instead.\n",
            "  warnings.warn(\n"
          ]
        },
        {
          "output_type": "stream",
          "name": "stdout",
          "text": [
            "\n",
            "Communication Overhead: 0.77 MB\n",
            "\n",
            "Round 23: Global Model Accuracy = 0.9062240720\n",
            "\u001b[1m10628/10628\u001b[0m \u001b[32m━━━━━━━━━━━━━━━━━━━━\u001b[0m\u001b[37m\u001b[0m \u001b[1m22s\u001b[0m 2ms/step\n",
            "\n",
            "Model Performance Metrics:\n",
            "Accuracy: 0.9062240859\n",
            "Precision: 0.9292112961\n",
            "Recall: 0.9062240859\n",
            "F1-Score: 0.9029854637\n",
            "\n",
            "Confusion Matrix:\n",
            "[[67799   129     0     9    76]\n",
            " [   17 41057 26939     0     0]\n",
            " [    0     0 68013     0     0]\n",
            " [ 4619    38    24 63333     0]\n",
            " [   18    21     0     0 67974]]\n"
          ]
        },
        {
          "output_type": "stream",
          "name": "stderr",
          "text": [
            "/usr/local/lib/python3.11/dist-packages/keras/src/layers/core/input_layer.py:27: UserWarning: Argument `input_shape` is deprecated. Use `shape` instead.\n",
            "  warnings.warn(\n"
          ]
        },
        {
          "output_type": "stream",
          "name": "stdout",
          "text": [
            "\n",
            "Communication Overhead: 0.77 MB\n",
            "\n",
            "Round 24: Global Model Accuracy = 0.9058094621\n",
            "\u001b[1m10628/10628\u001b[0m \u001b[32m━━━━━━━━━━━━━━━━━━━━\u001b[0m\u001b[37m\u001b[0m \u001b[1m22s\u001b[0m 2ms/step\n",
            "\n",
            "Model Performance Metrics:\n",
            "Accuracy: 0.9058094605\n",
            "Precision: 0.9289005519\n",
            "Recall: 0.9058094605\n",
            "F1-Score: 0.9025543575\n",
            "\n",
            "Confusion Matrix:\n",
            "[[67832   105     0     0    76]\n",
            " [   29 41045 26939     0     0]\n",
            " [    0     3 68010     0     0]\n",
            " [ 4793    48    13 63160     0]\n",
            " [   13     9     3     0 67988]]\n"
          ]
        },
        {
          "output_type": "stream",
          "name": "stderr",
          "text": [
            "/usr/local/lib/python3.11/dist-packages/keras/src/layers/core/input_layer.py:27: UserWarning: Argument `input_shape` is deprecated. Use `shape` instead.\n",
            "  warnings.warn(\n"
          ]
        },
        {
          "output_type": "stream",
          "name": "stdout",
          "text": [
            "\n",
            "Communication Overhead: 0.77 MB\n",
            "\n",
            "Round 25: Global Model Accuracy = 0.9069916010\n",
            "\u001b[1m10628/10628\u001b[0m \u001b[32m━━━━━━━━━━━━━━━━━━━━\u001b[0m\u001b[37m\u001b[0m \u001b[1m22s\u001b[0m 2ms/step\n",
            "\n",
            "Model Performance Metrics:\n",
            "Accuracy: 0.9069915840\n",
            "Precision: 0.9299754841\n",
            "Recall: 0.9069915840\n",
            "F1-Score: 0.9037349157\n",
            "\n",
            "Confusion Matrix:\n",
            "[[67781   110     0    46    76]\n",
            " [   35 41037 26939     2     0]\n",
            " [    0     0 68012     1     0]\n",
            " [ 4366    20     9 63619     0]\n",
            " [   16     3     6     0 67988]]\n",
            "\n",
            "Latency Analysis:\n",
            "Average Latency per Round: 259.72 seconds\n",
            "Total Latency for 10 Rounds: 6493.11 seconds\n"
          ]
        }
      ]
    },
    {
      "cell_type": "code",
      "source": [
        "!pip install cleverhans"
      ],
      "metadata": {
        "colab": {
          "base_uri": "https://localhost:8080/"
        },
        "id": "wietudWI1NW6",
        "outputId": "4a3015a7-f806-42f1-868c-e69ac4f659e8"
      },
      "execution_count": null,
      "outputs": [
        {
          "output_type": "stream",
          "name": "stdout",
          "text": [
            "Collecting cleverhans\n",
            "  Downloading cleverhans-4.0.0-py3-none-any.whl.metadata (846 bytes)\n",
            "Collecting nose (from cleverhans)\n",
            "  Downloading nose-1.3.7-py3-none-any.whl.metadata (1.7 kB)\n",
            "Collecting pycodestyle (from cleverhans)\n",
            "  Downloading pycodestyle-2.13.0-py2.py3-none-any.whl.metadata (4.5 kB)\n",
            "Requirement already satisfied: scipy in /usr/local/lib/python3.11/dist-packages (from cleverhans) (1.14.1)\n",
            "Requirement already satisfied: matplotlib in /usr/local/lib/python3.11/dist-packages (from cleverhans) (3.10.0)\n",
            "Collecting mnist (from cleverhans)\n",
            "  Downloading mnist-0.2.2-py2.py3-none-any.whl.metadata (1.6 kB)\n",
            "Requirement already satisfied: numpy in /usr/local/lib/python3.11/dist-packages (from cleverhans) (2.0.2)\n",
            "Requirement already satisfied: tensorflow-probability in /usr/local/lib/python3.11/dist-packages (from cleverhans) (0.25.0)\n",
            "Requirement already satisfied: joblib in /usr/local/lib/python3.11/dist-packages (from cleverhans) (1.4.2)\n",
            "Requirement already satisfied: easydict in /usr/local/lib/python3.11/dist-packages (from cleverhans) (1.13)\n",
            "Requirement already satisfied: absl-py in /usr/local/lib/python3.11/dist-packages (from cleverhans) (1.4.0)\n",
            "Requirement already satisfied: six in /usr/local/lib/python3.11/dist-packages (from cleverhans) (1.17.0)\n",
            "Requirement already satisfied: contourpy>=1.0.1 in /usr/local/lib/python3.11/dist-packages (from matplotlib->cleverhans) (1.3.1)\n",
            "Requirement already satisfied: cycler>=0.10 in /usr/local/lib/python3.11/dist-packages (from matplotlib->cleverhans) (0.12.1)\n",
            "Requirement already satisfied: fonttools>=4.22.0 in /usr/local/lib/python3.11/dist-packages (from matplotlib->cleverhans) (4.57.0)\n",
            "Requirement already satisfied: kiwisolver>=1.3.1 in /usr/local/lib/python3.11/dist-packages (from matplotlib->cleverhans) (1.4.8)\n",
            "Requirement already satisfied: packaging>=20.0 in /usr/local/lib/python3.11/dist-packages (from matplotlib->cleverhans) (24.2)\n",
            "Requirement already satisfied: pillow>=8 in /usr/local/lib/python3.11/dist-packages (from matplotlib->cleverhans) (11.1.0)\n",
            "Requirement already satisfied: pyparsing>=2.3.1 in /usr/local/lib/python3.11/dist-packages (from matplotlib->cleverhans) (3.2.3)\n",
            "Requirement already satisfied: python-dateutil>=2.7 in /usr/local/lib/python3.11/dist-packages (from matplotlib->cleverhans) (2.8.2)\n",
            "Requirement already satisfied: decorator in /usr/local/lib/python3.11/dist-packages (from tensorflow-probability->cleverhans) (4.4.2)\n",
            "Requirement already satisfied: cloudpickle>=1.3 in /usr/local/lib/python3.11/dist-packages (from tensorflow-probability->cleverhans) (3.1.1)\n",
            "Requirement already satisfied: gast>=0.3.2 in /usr/local/lib/python3.11/dist-packages (from tensorflow-probability->cleverhans) (0.6.0)\n",
            "Requirement already satisfied: dm-tree in /usr/local/lib/python3.11/dist-packages (from tensorflow-probability->cleverhans) (0.1.9)\n",
            "Requirement already satisfied: attrs>=18.2.0 in /usr/local/lib/python3.11/dist-packages (from dm-tree->tensorflow-probability->cleverhans) (25.3.0)\n",
            "Requirement already satisfied: wrapt>=1.11.2 in /usr/local/lib/python3.11/dist-packages (from dm-tree->tensorflow-probability->cleverhans) (1.17.2)\n",
            "Downloading cleverhans-4.0.0-py3-none-any.whl (92 kB)\n",
            "\u001b[2K   \u001b[90m━━━━━━━━━━━━━━━━━━━━━━━━━━━━━━━━━━━━━━━━\u001b[0m \u001b[32m92.3/92.3 kB\u001b[0m \u001b[31m1.9 MB/s\u001b[0m eta \u001b[36m0:00:00\u001b[0m\n",
            "\u001b[?25hDownloading mnist-0.2.2-py2.py3-none-any.whl (3.5 kB)\n",
            "Downloading nose-1.3.7-py3-none-any.whl (154 kB)\n",
            "\u001b[2K   \u001b[90m━━━━━━━━━━━━━━━━━━━━━━━━━━━━━━━━━━━━━━━━\u001b[0m \u001b[32m154.7/154.7 kB\u001b[0m \u001b[31m5.5 MB/s\u001b[0m eta \u001b[36m0:00:00\u001b[0m\n",
            "\u001b[?25hDownloading pycodestyle-2.13.0-py2.py3-none-any.whl (31 kB)\n",
            "Installing collected packages: nose, pycodestyle, mnist, cleverhans\n",
            "Successfully installed cleverhans-4.0.0 mnist-0.2.2 nose-1.3.7 pycodestyle-2.13.0\n"
          ]
        }
      ]
    },
    {
      "cell_type": "markdown",
      "source": [
        "**Injection adversarial FGSM Attacks**"
      ],
      "metadata": {
        "id": "i3mzq_Tmyha0"
      }
    },
    {
      "cell_type": "code",
      "source": [
        "import time\n",
        "import numpy as np\n",
        "from sklearn.metrics import classification_report, confusion_matrix, accuracy_score, precision_score, recall_score, f1_score\n",
        "from cleverhans.tf2.attacks.fast_gradient_method import fast_gradient_method # Import the actual function\n",
        "from cleverhans.tf2.attacks.projected_gradient_descent import projected_gradient_descent # Import the actual function\n",
        "\n",
        "# Adversarial config\n",
        "USE_ADVERSARIAL = True\n",
        "ATTACK_TYPE = 'fgsm'  # or 'pgd'\n",
        "ADV_CLIENTS = [0, 2]  # clients to inject adversarial samples\n",
        "EPSILON = 0.1\n",
        "\n",
        "# Function to generate FGSM or PGD adversarial examples\n",
        "def generate_adversarial(model, x, y, attack_type='fgsm', eps=0.1):\n",
        "    if attack_type == 'fgsm':\n",
        "        return fast_gradient_method(model_fn=model, x=x, eps=eps, norm=np.inf) # Call with correct arguments\n",
        "    elif attack_type == 'pgd':\n",
        "        return projected_gradient_descent(model_fn=model, x=x, eps=eps, eps_iter=0.01, nb_iter=40, norm=np.inf) # Call with correct arguments\n",
        "    return x\n",
        "\n",
        "# Function to evaluate the global model\n",
        "def evaluate_global_model(global_model, X_test, y_test):\n",
        "    y_pred = global_model.predict(X_test)\n",
        "    y_pred_classes = np.argmax(y_pred, axis=1)\n",
        "    y_true_classes = np.argmax(y_test, axis=1)\n",
        "    accuracy = accuracy_score(y_true_classes, y_pred_classes)\n",
        "    precision = precision_score(y_true_classes, y_pred_classes, average='weighted')\n",
        "    recall = recall_score(y_true_classes, y_pred_classes, average='weighted')\n",
        "    f1 = f1_score(y_true_classes, y_pred_classes, average='weighted')\n",
        "    cm = confusion_matrix(y_true_classes, y_pred_classes)\n",
        "    print(\"\\nModel Performance Metrics:\")\n",
        "    print(f\"Accuracy: {accuracy:.10f}\")\n",
        "    print(f\"Precision: {precision:.10f}\")\n",
        "    print(f\"Recall: {recall:.10f}\")\n",
        "    print(f\"F1-Score: {f1:.10f}\")\n",
        "    print(\"\\nConfusion Matrix:\")\n",
        "    print(cm)\n",
        "    return accuracy, precision, recall, f1\n",
        "\n",
        "# Function to analyze communication overhead\n",
        "def analyze_communication_overhead(local_weights, global_weights):\n",
        "    communication_cost = sum(sum(w.nbytes for w in lw) for lw in local_weights)\n",
        "    communication_cost += sum(w.nbytes for w in global_weights)\n",
        "    print(f\"\\nCommunication Overhead: {communication_cost / (1024 ** 2):.2f} MB\")\n",
        "\n",
        "# Federated Learning Simulation with optional adversarial injection\n",
        "def federated_learning_simulation(X_train, y_train, X_test, y_test, num_clients=5):\n",
        "    client_data = np.array_split(X_train, num_clients)\n",
        "    client_labels = np.array_split(y_train, num_clients)\n",
        "    global_model = build_hybrid_model(input_shape, num_classes)\n",
        "    global_model.compile(optimizer='adam', loss='categorical_crossentropy', metrics=['accuracy'])\n",
        "    global_weights = global_model.get_weights()\n",
        "    communication_overhead = []\n",
        "    latency_per_round = []\n",
        "\n",
        "    for round in range(30):\n",
        "        local_weights = []\n",
        "        start_time = time.time()\n",
        "\n",
        "        for i in range(num_clients):\n",
        "            local_model = build_hybrid_model(input_shape, num_classes)\n",
        "            local_model.set_weights(global_weights)\n",
        "            local_model.compile(optimizer='adam', loss='categorical_crossentropy', metrics=['accuracy'])\n",
        "\n",
        "            # Inject adversarial examples if enabled\n",
        "            if USE_ADVERSARIAL and i in ADV_CLIENTS:\n",
        "                print(f\"Injecting {ATTACK_TYPE.upper()} adversarial samples into Client {i}\")\n",
        "                client_data[i] = generate_adversarial(local_model, client_data[i], client_labels[i], attack_type=ATTACK_TYPE, eps=EPSILON)\n",
        "\n",
        "            local_model.fit(client_data[i], client_labels[i], epochs=1, batch_size=32, verbose=0)\n",
        "            local_weights.append(local_model.get_weights())\n",
        "\n",
        "        global_weights = [\n",
        "            np.mean([local_weights[j][i] for j in range(num_clients)], axis=0)\n",
        "            for i in range(len(global_weights))\n",
        "        ]\n",
        "        global_model.set_weights(global_weights)\n",
        "\n",
        "        end_time = time.time()\n",
        "        latency = end_time - start_time\n",
        "        latency_per_round.append(latency)\n",
        "\n",
        "        analyze_communication_overhead(local_weights, global_weights)\n",
        "\n",
        "        loss, acc = global_model.evaluate(X_test, y_test, verbose=0)\n",
        "        print(f\"\\nRound {round + 1}: Global Model Accuracy = {acc:.10f}\")\n",
        "        evaluate_global_model(global_model, X_test, y_test)\n",
        "\n",
        "    print(\"\\nLatency Analysis:\")\n",
        "    print(f\"Average Latency per Round: {np.mean(latency_per_round):.2f} seconds\")\n",
        "    print(f\"Total Latency for 50 Rounds: {np.sum(latency_per_round):.2f} seconds\")\n",
        "\n",
        "# Call the simulation\n",
        "federated_learning_simulation(X_train, y_train, X_test, y_test)"
      ],
      "metadata": {
        "colab": {
          "base_uri": "https://localhost:8080/"
        },
        "id": "j_Rde424s2lw",
        "outputId": "79c26370-a431-4156-c3f1-4a0e1799e631"
      },
      "execution_count": null,
      "outputs": [
        {
          "output_type": "stream",
          "name": "stdout",
          "text": [
            "Injecting FGSM adversarial samples into Client 0\n",
            "Injecting FGSM adversarial samples into Client 2\n",
            "\n",
            "Communication Overhead: 0.77 MB\n",
            "\n",
            "Round 1: Global Model Accuracy = 0.5813411474\n",
            "\u001b[1m6572/6572\u001b[0m \u001b[32m━━━━━━━━━━━━━━━━━━━━\u001b[0m\u001b[37m\u001b[0m \u001b[1m25s\u001b[0m 4ms/step\n",
            "\n",
            "Model Performance Metrics:\n",
            "Accuracy: 0.5813411578\n",
            "Precision: 0.5888156288\n",
            "Recall: 0.5813411578\n",
            "F1-Score: 0.5653783842\n",
            "\n",
            "Confusion Matrix:\n",
            "[[23962 19986  5717  2905]\n",
            " [14051 28350  3472  6697]\n",
            " [ 7624 20786 17630  6530]\n",
            " [    0   268     0 52303]]\n",
            "Injecting FGSM adversarial samples into Client 0\n"
          ]
        },
        {
          "output_type": "stream",
          "name": "stderr",
          "text": [
            "/usr/local/lib/python3.11/dist-packages/keras/src/layers/core/input_layer.py:27: UserWarning: Argument `input_shape` is deprecated. Use `shape` instead.\n",
            "  warnings.warn(\n"
          ]
        },
        {
          "output_type": "stream",
          "name": "stdout",
          "text": [
            "Injecting FGSM adversarial samples into Client 2\n",
            "\n",
            "Communication Overhead: 0.77 MB\n",
            "\n",
            "Round 2: Global Model Accuracy = 0.8288718462\n",
            "\u001b[1m6572/6572\u001b[0m \u001b[32m━━━━━━━━━━━━━━━━━━━━\u001b[0m\u001b[37m\u001b[0m \u001b[1m24s\u001b[0m 4ms/step\n",
            "\n",
            "Model Performance Metrics:\n",
            "Accuracy: 0.8288718429\n",
            "Precision: 0.8269974513\n",
            "Recall: 0.8288718429\n",
            "F1-Score: 0.8251439134\n",
            "\n",
            "Confusion Matrix:\n",
            "[[38415  8640  5487    28]\n",
            " [ 8176 37424  1650  5320]\n",
            " [ 1105   413 46377  4675]\n",
            " [    0     0   491 52080]]\n",
            "Injecting FGSM adversarial samples into Client 0\n"
          ]
        },
        {
          "output_type": "stream",
          "name": "stderr",
          "text": [
            "/usr/local/lib/python3.11/dist-packages/keras/src/layers/core/input_layer.py:27: UserWarning: Argument `input_shape` is deprecated. Use `shape` instead.\n",
            "  warnings.warn(\n",
            "WARNING:tensorflow:5 out of the last 5 calls to <function compute_gradient at 0x7ee6a8c3f1a0> triggered tf.function retracing. Tracing is expensive and the excessive number of tracings could be due to (1) creating @tf.function repeatedly in a loop, (2) passing tensors with different shapes, (3) passing Python objects instead of tensors. For (1), please define your @tf.function outside of the loop. For (2), @tf.function has reduce_retracing=True option that can avoid unnecessary retracing. For (3), please refer to https://www.tensorflow.org/guide/function#controlling_retracing and https://www.tensorflow.org/api_docs/python/tf/function for  more details.\n"
          ]
        },
        {
          "output_type": "stream",
          "name": "stdout",
          "text": [
            "Injecting FGSM adversarial samples into Client 2\n"
          ]
        },
        {
          "output_type": "stream",
          "name": "stderr",
          "text": [
            "WARNING:tensorflow:6 out of the last 6 calls to <function compute_gradient at 0x7ee6a8c3f1a0> triggered tf.function retracing. Tracing is expensive and the excessive number of tracings could be due to (1) creating @tf.function repeatedly in a loop, (2) passing tensors with different shapes, (3) passing Python objects instead of tensors. For (1), please define your @tf.function outside of the loop. For (2), @tf.function has reduce_retracing=True option that can avoid unnecessary retracing. For (3), please refer to https://www.tensorflow.org/guide/function#controlling_retracing and https://www.tensorflow.org/api_docs/python/tf/function for  more details.\n"
          ]
        },
        {
          "output_type": "stream",
          "name": "stdout",
          "text": [
            "\n",
            "Communication Overhead: 0.77 MB\n",
            "\n",
            "Round 3: Global Model Accuracy = 0.8384494781\n",
            "\u001b[1m6572/6572\u001b[0m \u001b[32m━━━━━━━━━━━━━━━━━━━━\u001b[0m\u001b[37m\u001b[0m \u001b[1m24s\u001b[0m 4ms/step\n",
            "\n",
            "Model Performance Metrics:\n",
            "Accuracy: 0.8384495033\n",
            "Precision: 0.8361392834\n",
            "Recall: 0.8384495033\n",
            "F1-Score: 0.8341867941\n",
            "\n",
            "Confusion Matrix:\n",
            "[[35754  9928  6884     4]\n",
            " [ 7132 39915   221  5302]\n",
            " [  225   921 49158  2266]\n",
            " [    0     0  1088 51483]]\n",
            "Injecting FGSM adversarial samples into Client 0\n"
          ]
        },
        {
          "output_type": "stream",
          "name": "stderr",
          "text": [
            "/usr/local/lib/python3.11/dist-packages/keras/src/layers/core/input_layer.py:27: UserWarning: Argument `input_shape` is deprecated. Use `shape` instead.\n",
            "  warnings.warn(\n"
          ]
        },
        {
          "output_type": "stream",
          "name": "stdout",
          "text": [
            "Injecting FGSM adversarial samples into Client 2\n",
            "\n",
            "Communication Overhead: 0.77 MB\n",
            "\n",
            "Round 4: Global Model Accuracy = 0.8615995049\n",
            "\u001b[1m6572/6572\u001b[0m \u001b[32m━━━━━━━━━━━━━━━━━━━━\u001b[0m\u001b[37m\u001b[0m \u001b[1m24s\u001b[0m 4ms/step\n",
            "\n",
            "Model Performance Metrics:\n",
            "Accuracy: 0.8615994788\n",
            "Precision: 0.8745083568\n",
            "Recall: 0.8615994788\n",
            "F1-Score: 0.8567023324\n",
            "\n",
            "Confusion Matrix:\n",
            "[[33304 12828  6438     0]\n",
            " [  548 46609   208  5205]\n",
            " [  158   666 49699  2047]\n",
            " [    0     5  1000 51566]]\n",
            "Injecting FGSM adversarial samples into Client 0\n"
          ]
        },
        {
          "output_type": "stream",
          "name": "stderr",
          "text": [
            "/usr/local/lib/python3.11/dist-packages/keras/src/layers/core/input_layer.py:27: UserWarning: Argument `input_shape` is deprecated. Use `shape` instead.\n",
            "  warnings.warn(\n"
          ]
        },
        {
          "output_type": "stream",
          "name": "stdout",
          "text": [
            "Injecting FGSM adversarial samples into Client 2\n",
            "\n",
            "Communication Overhead: 0.77 MB\n",
            "\n",
            "Round 5: Global Model Accuracy = 0.8604866862\n",
            "\u001b[1m6572/6572\u001b[0m \u001b[32m━━━━━━━━━━━━━━━━━━━━\u001b[0m\u001b[37m\u001b[0m \u001b[1m24s\u001b[0m 4ms/step\n",
            "\n",
            "Model Performance Metrics:\n",
            "Accuracy: 0.8604866821\n",
            "Precision: 0.8586842922\n",
            "Recall: 0.8604866821\n",
            "F1-Score: 0.8570503146\n",
            "\n",
            "Confusion Matrix:\n",
            "[[38458  8188  5923     1]\n",
            " [ 6481 40520   217  5352]\n",
            " [  198   260 50388  1724]\n",
            " [    0    67   926 51578]]\n",
            "Injecting FGSM adversarial samples into Client 0\n"
          ]
        },
        {
          "output_type": "stream",
          "name": "stderr",
          "text": [
            "/usr/local/lib/python3.11/dist-packages/keras/src/layers/core/input_layer.py:27: UserWarning: Argument `input_shape` is deprecated. Use `shape` instead.\n",
            "  warnings.warn(\n"
          ]
        },
        {
          "output_type": "stream",
          "name": "stdout",
          "text": [
            "Injecting FGSM adversarial samples into Client 2\n",
            "\n",
            "Communication Overhead: 0.77 MB\n",
            "\n",
            "Round 6: Global Model Accuracy = 0.8604676723\n",
            "\u001b[1m6572/6572\u001b[0m \u001b[32m━━━━━━━━━━━━━━━━━━━━\u001b[0m\u001b[37m\u001b[0m \u001b[1m23s\u001b[0m 4ms/step\n",
            "\n",
            "Model Performance Metrics:\n",
            "Accuracy: 0.8604676599\n",
            "Precision: 0.8666742705\n",
            "Recall: 0.8604676599\n",
            "F1-Score: 0.8562216330\n",
            "\n",
            "Confusion Matrix:\n",
            "[[34711 11491  6318    50]\n",
            " [ 2411 44713   370  5076]\n",
            " [   47   444 50416  1663]\n",
            " [    0   101  1370 51100]]\n",
            "Injecting FGSM adversarial samples into Client 0\n"
          ]
        },
        {
          "output_type": "stream",
          "name": "stderr",
          "text": [
            "/usr/local/lib/python3.11/dist-packages/keras/src/layers/core/input_layer.py:27: UserWarning: Argument `input_shape` is deprecated. Use `shape` instead.\n",
            "  warnings.warn(\n"
          ]
        },
        {
          "output_type": "stream",
          "name": "stdout",
          "text": [
            "Injecting FGSM adversarial samples into Client 2\n",
            "\n",
            "Communication Overhead: 0.77 MB\n",
            "\n",
            "Round 7: Global Model Accuracy = 0.8819293976\n",
            "\u001b[1m6572/6572\u001b[0m \u001b[32m━━━━━━━━━━━━━━━━━━━━\u001b[0m\u001b[37m\u001b[0m \u001b[1m23s\u001b[0m 4ms/step\n",
            "\n",
            "Model Performance Metrics:\n",
            "Accuracy: 0.8819294183\n",
            "Precision: 0.8916088243\n",
            "Recall: 0.8819294183\n",
            "F1-Score: 0.8787058731\n",
            "\n",
            "Confusion Matrix:\n",
            "[[36121 11683  4761     5]\n",
            " [  423 47594   394  4159]\n",
            " [  259    63 50804  1444]\n",
            " [    0    10  1627 50934]]\n",
            "Injecting FGSM adversarial samples into Client 0\n"
          ]
        },
        {
          "output_type": "stream",
          "name": "stderr",
          "text": [
            "/usr/local/lib/python3.11/dist-packages/keras/src/layers/core/input_layer.py:27: UserWarning: Argument `input_shape` is deprecated. Use `shape` instead.\n",
            "  warnings.warn(\n"
          ]
        },
        {
          "output_type": "stream",
          "name": "stdout",
          "text": [
            "Injecting FGSM adversarial samples into Client 2\n",
            "\n",
            "Communication Overhead: 0.77 MB\n",
            "\n",
            "Round 8: Global Model Accuracy = 0.8768267035\n",
            "\u001b[1m6572/6572\u001b[0m \u001b[32m━━━━━━━━━━━━━━━━━━━━\u001b[0m\u001b[37m\u001b[0m \u001b[1m23s\u001b[0m 4ms/step\n",
            "\n",
            "Model Performance Metrics:\n",
            "Accuracy: 0.8768267223\n",
            "Precision: 0.8823872239\n",
            "Recall: 0.8768267223\n",
            "F1-Score: 0.8732961945\n",
            "\n",
            "Confusion Matrix:\n",
            "[[36328 10110  6131     1]\n",
            " [ 2024 45932   275  4339]\n",
            " [   31    55 51039  1445]\n",
            " [    0     4  1486 51081]]\n",
            "Injecting FGSM adversarial samples into Client 0\n"
          ]
        },
        {
          "output_type": "stream",
          "name": "stderr",
          "text": [
            "/usr/local/lib/python3.11/dist-packages/keras/src/layers/core/input_layer.py:27: UserWarning: Argument `input_shape` is deprecated. Use `shape` instead.\n",
            "  warnings.warn(\n"
          ]
        },
        {
          "output_type": "stream",
          "name": "stdout",
          "text": [
            "Injecting FGSM adversarial samples into Client 2\n",
            "\n",
            "Communication Overhead: 0.77 MB\n",
            "\n",
            "Round 9: Global Model Accuracy = 0.8631640673\n",
            "\u001b[1m6572/6572\u001b[0m \u001b[32m━━━━━━━━━━━━━━━━━━━━\u001b[0m\u001b[37m\u001b[0m \u001b[1m23s\u001b[0m 4ms/step\n",
            "\n",
            "Model Performance Metrics:\n",
            "Accuracy: 0.8631640519\n",
            "Precision: 0.8617526386\n",
            "Recall: 0.8631640519\n",
            "F1-Score: 0.8601104976\n",
            "\n",
            "Confusion Matrix:\n",
            "[[38200  9114  5251     5]\n",
            " [ 6249 41740    62  4519]\n",
            " [   75    64 51103  1328]\n",
            " [    0     2  2105 50464]]\n",
            "Injecting FGSM adversarial samples into Client 0\n"
          ]
        },
        {
          "output_type": "stream",
          "name": "stderr",
          "text": [
            "/usr/local/lib/python3.11/dist-packages/keras/src/layers/core/input_layer.py:27: UserWarning: Argument `input_shape` is deprecated. Use `shape` instead.\n",
            "  warnings.warn(\n"
          ]
        },
        {
          "output_type": "stream",
          "name": "stdout",
          "text": [
            "Injecting FGSM adversarial samples into Client 2\n",
            "\n",
            "Communication Overhead: 0.77 MB\n",
            "\n",
            "Round 10: Global Model Accuracy = 0.8650139570\n",
            "\u001b[1m6572/6572\u001b[0m \u001b[32m━━━━━━━━━━━━━━━━━━━━\u001b[0m\u001b[37m\u001b[0m \u001b[1m23s\u001b[0m 3ms/step\n",
            "\n",
            "Model Performance Metrics:\n",
            "Accuracy: 0.8650139575\n",
            "Precision: 0.8636547826\n",
            "Recall: 0.8650139575\n",
            "F1-Score: 0.8625014935\n",
            "\n",
            "Confusion Matrix:\n",
            "[[38779  7970  5821     0]\n",
            " [ 7154 42111   148  3157]\n",
            " [  290    61 50954  1265]\n",
            " [    0    88  2431 50052]]\n",
            "Injecting FGSM adversarial samples into Client 0\n"
          ]
        },
        {
          "output_type": "stream",
          "name": "stderr",
          "text": [
            "/usr/local/lib/python3.11/dist-packages/keras/src/layers/core/input_layer.py:27: UserWarning: Argument `input_shape` is deprecated. Use `shape` instead.\n",
            "  warnings.warn(\n"
          ]
        },
        {
          "output_type": "stream",
          "name": "stdout",
          "text": [
            "Injecting FGSM adversarial samples into Client 2\n",
            "\n",
            "Communication Overhead: 0.77 MB\n",
            "\n",
            "Round 11: Global Model Accuracy = 0.8743015528\n",
            "\u001b[1m6572/6572\u001b[0m \u001b[32m━━━━━━━━━━━━━━━━━━━━\u001b[0m\u001b[37m\u001b[0m \u001b[1m23s\u001b[0m 4ms/step\n",
            "\n",
            "Model Performance Metrics:\n",
            "Accuracy: 0.8743015299\n",
            "Precision: 0.8727980648\n",
            "Recall: 0.8743015299\n",
            "F1-Score: 0.8720640375\n",
            "\n",
            "Confusion Matrix:\n",
            "[[40630  6844  5096     0]\n",
            " [ 7594 41550   269  3157]\n",
            " [   41    57 51164  1308]\n",
            " [    0    51  2015 50505]]\n",
            "Injecting FGSM adversarial samples into Client 0\n"
          ]
        },
        {
          "output_type": "stream",
          "name": "stderr",
          "text": [
            "/usr/local/lib/python3.11/dist-packages/keras/src/layers/core/input_layer.py:27: UserWarning: Argument `input_shape` is deprecated. Use `shape` instead.\n",
            "  warnings.warn(\n"
          ]
        },
        {
          "output_type": "stream",
          "name": "stdout",
          "text": [
            "Injecting FGSM adversarial samples into Client 2\n",
            "\n",
            "Communication Overhead: 0.77 MB\n",
            "\n",
            "Round 12: Global Model Accuracy = 0.8535055518\n",
            "\u001b[1m6572/6572\u001b[0m \u001b[32m━━━━━━━━━━━━━━━━━━━━\u001b[0m\u001b[37m\u001b[0m \u001b[1m23s\u001b[0m 3ms/step\n",
            "\n",
            "Model Performance Metrics:\n",
            "Accuracy: 0.8535055473\n",
            "Precision: 0.8508541952\n",
            "Recall: 0.8535055473\n",
            "F1-Score: 0.8497260658\n",
            "\n",
            "Confusion Matrix:\n",
            "[[37656  9380  5532     2]\n",
            " [ 7320 39845    21  5384]\n",
            " [  150    69 51443   908]\n",
            " [    0     0  2039 50532]]\n",
            "Injecting FGSM adversarial samples into Client 0\n"
          ]
        },
        {
          "output_type": "stream",
          "name": "stderr",
          "text": [
            "/usr/local/lib/python3.11/dist-packages/keras/src/layers/core/input_layer.py:27: UserWarning: Argument `input_shape` is deprecated. Use `shape` instead.\n",
            "  warnings.warn(\n"
          ]
        },
        {
          "output_type": "stream",
          "name": "stdout",
          "text": [
            "Injecting FGSM adversarial samples into Client 2\n",
            "\n",
            "Communication Overhead: 0.77 MB\n",
            "\n",
            "Round 13: Global Model Accuracy = 0.8728415966\n",
            "\u001b[1m6572/6572\u001b[0m \u001b[32m━━━━━━━━━━━━━━━━━━━━\u001b[0m\u001b[37m\u001b[0m \u001b[1m23s\u001b[0m 3ms/step\n",
            "\n",
            "Model Performance Metrics:\n",
            "Accuracy: 0.8728415786\n",
            "Precision: 0.8708572407\n",
            "Recall: 0.8728415786\n",
            "F1-Score: 0.8704557813\n",
            "\n",
            "Confusion Matrix:\n",
            "[[39735  7671  5164     0]\n",
            " [ 7331 42083    30  3126]\n",
            " [  105   104 50836  1525]\n",
            " [    0    54  1629 50888]]\n",
            "Injecting FGSM adversarial samples into Client 0\n"
          ]
        },
        {
          "output_type": "stream",
          "name": "stderr",
          "text": [
            "/usr/local/lib/python3.11/dist-packages/keras/src/layers/core/input_layer.py:27: UserWarning: Argument `input_shape` is deprecated. Use `shape` instead.\n",
            "  warnings.warn(\n"
          ]
        },
        {
          "output_type": "stream",
          "name": "stdout",
          "text": [
            "Injecting FGSM adversarial samples into Client 2\n",
            "\n",
            "Communication Overhead: 0.77 MB\n",
            "\n",
            "Round 14: Global Model Accuracy = 0.8702640533\n",
            "\u001b[1m6572/6572\u001b[0m \u001b[32m━━━━━━━━━━━━━━━━━━━━\u001b[0m\u001b[37m\u001b[0m \u001b[1m23s\u001b[0m 3ms/step\n",
            "\n",
            "Model Performance Metrics:\n",
            "Accuracy: 0.8702640752\n",
            "Precision: 0.8678574899\n",
            "Recall: 0.8702640752\n",
            "F1-Score: 0.8674987938\n",
            "\n",
            "Confusion Matrix:\n",
            "[[39797  7882  4889     2]\n",
            " [ 7476 40993    23  4078]\n",
            " [   56    99 50960  1455]\n",
            " [    0     7  1314 51250]]\n",
            "Injecting FGSM adversarial samples into Client 0\n"
          ]
        },
        {
          "output_type": "stream",
          "name": "stderr",
          "text": [
            "/usr/local/lib/python3.11/dist-packages/keras/src/layers/core/input_layer.py:27: UserWarning: Argument `input_shape` is deprecated. Use `shape` instead.\n",
            "  warnings.warn(\n"
          ]
        },
        {
          "output_type": "stream",
          "name": "stdout",
          "text": [
            "Injecting FGSM adversarial samples into Client 2\n",
            "\n",
            "Communication Overhead: 0.77 MB\n",
            "\n",
            "Round 15: Global Model Accuracy = 0.8563731313\n",
            "\u001b[1m6572/6572\u001b[0m \u001b[32m━━━━━━━━━━━━━━━━━━━━\u001b[0m\u001b[37m\u001b[0m \u001b[1m23s\u001b[0m 3ms/step\n",
            "\n",
            "Model Performance Metrics:\n",
            "Accuracy: 0.8563731388\n",
            "Precision: 0.8552789530\n",
            "Recall: 0.8563731388\n",
            "F1-Score: 0.8528269044\n",
            "\n",
            "Confusion Matrix:\n",
            "[[42030  6184  4356     0]\n",
            " [12333 35991    29  4217]\n",
            " [  298    91 50789  1392]\n",
            " [    0     7  1295 51269]]\n",
            "Injecting FGSM adversarial samples into Client 0\n"
          ]
        },
        {
          "output_type": "stream",
          "name": "stderr",
          "text": [
            "/usr/local/lib/python3.11/dist-packages/keras/src/layers/core/input_layer.py:27: UserWarning: Argument `input_shape` is deprecated. Use `shape` instead.\n",
            "  warnings.warn(\n"
          ]
        },
        {
          "output_type": "stream",
          "name": "stdout",
          "text": [
            "Injecting FGSM adversarial samples into Client 2\n",
            "\n",
            "Communication Overhead: 0.77 MB\n",
            "\n",
            "Round 16: Global Model Accuracy = 0.8734598160\n",
            "\u001b[1m6572/6572\u001b[0m \u001b[32m━━━━━━━━━━━━━━━━━━━━\u001b[0m\u001b[37m\u001b[0m \u001b[1m23s\u001b[0m 4ms/step\n",
            "\n",
            "Model Performance Metrics:\n",
            "Accuracy: 0.8734597990\n",
            "Precision: 0.8714835491\n",
            "Recall: 0.8734597990\n",
            "F1-Score: 0.8707651879\n",
            "\n",
            "Confusion Matrix:\n",
            "[[40421  6763  5386     0]\n",
            " [ 8409 40532   140  3489]\n",
            " [   38    62 52045   425]\n",
            " [    0   176  1721 50674]]\n",
            "Injecting FGSM adversarial samples into Client 0\n"
          ]
        },
        {
          "output_type": "stream",
          "name": "stderr",
          "text": [
            "/usr/local/lib/python3.11/dist-packages/keras/src/layers/core/input_layer.py:27: UserWarning: Argument `input_shape` is deprecated. Use `shape` instead.\n",
            "  warnings.warn(\n"
          ]
        },
        {
          "output_type": "stream",
          "name": "stdout",
          "text": [
            "Injecting FGSM adversarial samples into Client 2\n",
            "\n",
            "Communication Overhead: 0.77 MB\n",
            "\n",
            "Round 17: Global Model Accuracy = 0.8668733835\n",
            "\u001b[1m6572/6572\u001b[0m \u001b[32m━━━━━━━━━━━━━━━━━━━━\u001b[0m\u001b[37m\u001b[0m \u001b[1m23s\u001b[0m 3ms/step\n",
            "\n",
            "Model Performance Metrics:\n",
            "Accuracy: 0.8668733742\n",
            "Precision: 0.8651116705\n",
            "Recall: 0.8668733742\n",
            "F1-Score: 0.8640235387\n",
            "\n",
            "Confusion Matrix:\n",
            "[[41583  6276  4711     0]\n",
            " [ 9842 38635    26  4067]\n",
            " [  123    55 51191  1201]\n",
            " [    0     7  1686 50878]]\n",
            "Injecting FGSM adversarial samples into Client 0\n"
          ]
        },
        {
          "output_type": "stream",
          "name": "stderr",
          "text": [
            "/usr/local/lib/python3.11/dist-packages/keras/src/layers/core/input_layer.py:27: UserWarning: Argument `input_shape` is deprecated. Use `shape` instead.\n",
            "  warnings.warn(\n"
          ]
        },
        {
          "output_type": "stream",
          "name": "stdout",
          "text": [
            "Injecting FGSM adversarial samples into Client 2\n",
            "\n",
            "Communication Overhead: 0.77 MB\n",
            "\n",
            "Round 18: Global Model Accuracy = 0.8568581939\n",
            "\u001b[1m6572/6572\u001b[0m \u001b[32m━━━━━━━━━━━━━━━━━━━━\u001b[0m\u001b[37m\u001b[0m \u001b[1m24s\u001b[0m 4ms/step\n",
            "\n",
            "Model Performance Metrics:\n",
            "Accuracy: 0.8568582040\n",
            "Precision: 0.8557389477\n",
            "Recall: 0.8568582040\n",
            "F1-Score: 0.8539921570\n",
            "\n",
            "Confusion Matrix:\n",
            "[[41791  6554  4225     0]\n",
            " [12203 36889    92  3386]\n",
            " [  446    57 50790  1277]\n",
            " [    0    21  1839 50711]]\n",
            "Injecting FGSM adversarial samples into Client 0\n"
          ]
        },
        {
          "output_type": "stream",
          "name": "stderr",
          "text": [
            "/usr/local/lib/python3.11/dist-packages/keras/src/layers/core/input_layer.py:27: UserWarning: Argument `input_shape` is deprecated. Use `shape` instead.\n",
            "  warnings.warn(\n"
          ]
        },
        {
          "output_type": "stream",
          "name": "stdout",
          "text": [
            "Injecting FGSM adversarial samples into Client 2\n",
            "\n",
            "Communication Overhead: 0.77 MB\n",
            "\n",
            "Round 19: Global Model Accuracy = 0.8570199013\n",
            "\u001b[1m6572/6572\u001b[0m \u001b[32m━━━━━━━━━━━━━━━━━━━━\u001b[0m\u001b[37m\u001b[0m \u001b[1m24s\u001b[0m 4ms/step\n",
            "\n",
            "Model Performance Metrics:\n",
            "Accuracy: 0.8570198924\n",
            "Precision: 0.8555430897\n",
            "Recall: 0.8570198924\n",
            "F1-Score: 0.8540100784\n",
            "\n",
            "Confusion Matrix:\n",
            "[[41496  6705  4369     0]\n",
            " [12297 36883    30  3360]\n",
            " [  225    59 51106  1180]\n",
            " [    0    24  1817 50730]]\n",
            "Injecting FGSM adversarial samples into Client 0\n"
          ]
        },
        {
          "output_type": "stream",
          "name": "stderr",
          "text": [
            "/usr/local/lib/python3.11/dist-packages/keras/src/layers/core/input_layer.py:27: UserWarning: Argument `input_shape` is deprecated. Use `shape` instead.\n",
            "  warnings.warn(\n"
          ]
        },
        {
          "output_type": "stream",
          "name": "stdout",
          "text": [
            "Injecting FGSM adversarial samples into Client 2\n",
            "\n",
            "Communication Overhead: 0.77 MB\n",
            "\n",
            "Round 20: Global Model Accuracy = 0.8678387403\n",
            "\u001b[1m6572/6572\u001b[0m \u001b[32m━━━━━━━━━━━━━━━━━━━━\u001b[0m\u001b[37m\u001b[0m \u001b[1m23s\u001b[0m 4ms/step\n",
            "\n",
            "Model Performance Metrics:\n",
            "Accuracy: 0.8678387491\n",
            "Precision: 0.8680787029\n",
            "Recall: 0.8678387491\n",
            "F1-Score: 0.8650911599\n",
            "\n",
            "Confusion Matrix:\n",
            "[[43323  5241  4006     0]\n",
            " [11947 37220    41  3362]\n",
            " [  221    47 51033  1269]\n",
            " [    0    21  1636 50914]]\n",
            "Injecting FGSM adversarial samples into Client 0\n"
          ]
        },
        {
          "output_type": "stream",
          "name": "stderr",
          "text": [
            "/usr/local/lib/python3.11/dist-packages/keras/src/layers/core/input_layer.py:27: UserWarning: Argument `input_shape` is deprecated. Use `shape` instead.\n",
            "  warnings.warn(\n"
          ]
        },
        {
          "output_type": "stream",
          "name": "stdout",
          "text": [
            "Injecting FGSM adversarial samples into Client 2\n",
            "\n",
            "Communication Overhead: 0.77 MB\n",
            "\n",
            "Round 21: Global Model Accuracy = 0.8443320990\n",
            "\u001b[1m6572/6572\u001b[0m \u001b[32m━━━━━━━━━━━━━━━━━━━━\u001b[0m\u001b[37m\u001b[0m \u001b[1m24s\u001b[0m 4ms/step\n",
            "\n",
            "Model Performance Metrics:\n",
            "Accuracy: 0.8443321080\n",
            "Precision: 0.8462048218\n",
            "Recall: 0.8443321080\n",
            "F1-Score: 0.8384170991\n",
            "\n",
            "Confusion Matrix:\n",
            "[[43170  5340  4060     0]\n",
            " [15647 31743    29  5151]\n",
            " [  187    62 51974   347]\n",
            " [    0     0  1911 50660]]\n",
            "Injecting FGSM adversarial samples into Client 0\n"
          ]
        },
        {
          "output_type": "stream",
          "name": "stderr",
          "text": [
            "/usr/local/lib/python3.11/dist-packages/keras/src/layers/core/input_layer.py:27: UserWarning: Argument `input_shape` is deprecated. Use `shape` instead.\n",
            "  warnings.warn(\n"
          ]
        },
        {
          "output_type": "stream",
          "name": "stdout",
          "text": [
            "Injecting FGSM adversarial samples into Client 2\n",
            "\n",
            "Communication Overhead: 0.77 MB\n",
            "\n",
            "Round 22: Global Model Accuracy = 0.8587604165\n",
            "\u001b[1m6572/6572\u001b[0m \u001b[32m━━━━━━━━━━━━━━━━━━━━\u001b[0m\u001b[37m\u001b[0m \u001b[1m25s\u001b[0m 4ms/step\n",
            "\n",
            "Model Performance Metrics:\n",
            "Accuracy: 0.8587604206\n",
            "Precision: 0.8580737958\n",
            "Recall: 0.8587604206\n",
            "F1-Score: 0.8557979535\n",
            "\n",
            "Confusion Matrix:\n",
            "[[42582  6165  3823     0]\n",
            " [12113 36618    27  3812]\n",
            " [  406   111 50058  1995]\n",
            " [    0    34  1214 51323]]\n",
            "Injecting FGSM adversarial samples into Client 0\n"
          ]
        },
        {
          "output_type": "stream",
          "name": "stderr",
          "text": [
            "/usr/local/lib/python3.11/dist-packages/keras/src/layers/core/input_layer.py:27: UserWarning: Argument `input_shape` is deprecated. Use `shape` instead.\n",
            "  warnings.warn(\n"
          ]
        },
        {
          "output_type": "stream",
          "name": "stdout",
          "text": [
            "Injecting FGSM adversarial samples into Client 2\n",
            "\n",
            "Communication Overhead: 0.77 MB\n",
            "\n",
            "Round 23: Global Model Accuracy = 0.8602964878\n",
            "\u001b[1m6572/6572\u001b[0m \u001b[32m━━━━━━━━━━━━━━━━━━━━\u001b[0m\u001b[37m\u001b[0m \u001b[1m25s\u001b[0m 4ms/step\n",
            "\n",
            "Model Performance Metrics:\n",
            "Accuracy: 0.8602964605\n",
            "Precision: 0.8600588585\n",
            "Recall: 0.8602964605\n",
            "F1-Score: 0.8576824729\n",
            "\n",
            "Confusion Matrix:\n",
            "[[42812  6243  3515     0]\n",
            " [12058 36990    11  3511]\n",
            " [  653    95 49335  2487]\n",
            " [    0    13   791 51767]]\n",
            "Injecting FGSM adversarial samples into Client 0\n"
          ]
        },
        {
          "output_type": "stream",
          "name": "stderr",
          "text": [
            "/usr/local/lib/python3.11/dist-packages/keras/src/layers/core/input_layer.py:27: UserWarning: Argument `input_shape` is deprecated. Use `shape` instead.\n",
            "  warnings.warn(\n"
          ]
        },
        {
          "output_type": "stream",
          "name": "stdout",
          "text": [
            "Injecting FGSM adversarial samples into Client 2\n",
            "\n",
            "Communication Overhead: 0.77 MB\n",
            "\n",
            "Round 24: Global Model Accuracy = 0.8563588858\n",
            "\u001b[1m6572/6572\u001b[0m \u001b[32m━━━━━━━━━━━━━━━━━━━━\u001b[0m\u001b[37m\u001b[0m \u001b[1m25s\u001b[0m 4ms/step\n",
            "\n",
            "Model Performance Metrics:\n",
            "Accuracy: 0.8563588722\n",
            "Precision: 0.8578919622\n",
            "Recall: 0.8563588722\n",
            "F1-Score: 0.8532306261\n",
            "\n",
            "Confusion Matrix:\n",
            "[[43891  5536  3143     0]\n",
            " [13001 35318    21  4230]\n",
            " [ 1049    55 49830  1636]\n",
            " [    0     7  1527 51037]]\n",
            "Injecting FGSM adversarial samples into Client 0\n"
          ]
        },
        {
          "output_type": "stream",
          "name": "stderr",
          "text": [
            "/usr/local/lib/python3.11/dist-packages/keras/src/layers/core/input_layer.py:27: UserWarning: Argument `input_shape` is deprecated. Use `shape` instead.\n",
            "  warnings.warn(\n"
          ]
        },
        {
          "output_type": "stream",
          "name": "stdout",
          "text": [
            "Injecting FGSM adversarial samples into Client 2\n",
            "\n",
            "Communication Overhead: 0.77 MB\n",
            "\n",
            "Round 25: Global Model Accuracy = 0.8482839465\n",
            "\u001b[1m6572/6572\u001b[0m \u001b[32m━━━━━━━━━━━━━━━━━━━━\u001b[0m\u001b[37m\u001b[0m \u001b[1m25s\u001b[0m 4ms/step\n",
            "\n",
            "Model Performance Metrics:\n",
            "Accuracy: 0.8482839629\n",
            "Precision: 0.8507150495\n",
            "Recall: 0.8482839629\n",
            "F1-Score: 0.8458842435\n",
            "\n",
            "Confusion Matrix:\n",
            "[[42831  5574  4162     3]\n",
            " [13584 35766    31  3189]\n",
            " [ 1834    54 48368  2314]\n",
            " [    0    35  1123 51413]]\n",
            "Injecting FGSM adversarial samples into Client 0\n"
          ]
        },
        {
          "output_type": "stream",
          "name": "stderr",
          "text": [
            "/usr/local/lib/python3.11/dist-packages/keras/src/layers/core/input_layer.py:27: UserWarning: Argument `input_shape` is deprecated. Use `shape` instead.\n",
            "  warnings.warn(\n"
          ]
        },
        {
          "output_type": "stream",
          "name": "stdout",
          "text": [
            "Injecting FGSM adversarial samples into Client 2\n",
            "\n",
            "Communication Overhead: 0.77 MB\n",
            "\n",
            "Round 26: Global Model Accuracy = 0.8583039045\n",
            "\u001b[1m6572/6572\u001b[0m \u001b[32m━━━━━━━━━━━━━━━━━━━━\u001b[0m\u001b[37m\u001b[0m \u001b[1m25s\u001b[0m 4ms/step\n",
            "\n",
            "Model Performance Metrics:\n",
            "Accuracy: 0.8583038886\n",
            "Precision: 0.8584100127\n",
            "Recall: 0.8583038886\n",
            "F1-Score: 0.8562140219\n",
            "\n",
            "Confusion Matrix:\n",
            "[[42792  6172  3601     5]\n",
            " [12390 37264    92  2824]\n",
            " [  971    53 49797  1749]\n",
            " [    0   227  1712 50632]]\n",
            "Injecting FGSM adversarial samples into Client 0\n"
          ]
        },
        {
          "output_type": "stream",
          "name": "stderr",
          "text": [
            "/usr/local/lib/python3.11/dist-packages/keras/src/layers/core/input_layer.py:27: UserWarning: Argument `input_shape` is deprecated. Use `shape` instead.\n",
            "  warnings.warn(\n"
          ]
        },
        {
          "output_type": "stream",
          "name": "stdout",
          "text": [
            "Injecting FGSM adversarial samples into Client 2\n",
            "\n",
            "Communication Overhead: 0.77 MB\n",
            "\n",
            "Round 27: Global Model Accuracy = 0.8478987813\n",
            "\u001b[1m6572/6572\u001b[0m \u001b[32m━━━━━━━━━━━━━━━━━━━━\u001b[0m\u001b[37m\u001b[0m \u001b[1m25s\u001b[0m 4ms/step\n",
            "\n",
            "Model Performance Metrics:\n",
            "Accuracy: 0.8478987640\n",
            "Precision: 0.8478455147\n",
            "Recall: 0.8478987640\n",
            "F1-Score: 0.8452860267\n",
            "\n",
            "Confusion Matrix:\n",
            "[[42008  6340  4222     0]\n",
            " [12513 36317    57  3683]\n",
            " [ 1142    69 49949  1410]\n",
            " [    0   152  2396 50023]]\n",
            "Injecting FGSM adversarial samples into Client 0\n"
          ]
        },
        {
          "output_type": "stream",
          "name": "stderr",
          "text": [
            "/usr/local/lib/python3.11/dist-packages/keras/src/layers/core/input_layer.py:27: UserWarning: Argument `input_shape` is deprecated. Use `shape` instead.\n",
            "  warnings.warn(\n"
          ]
        },
        {
          "output_type": "stream",
          "name": "stdout",
          "text": [
            "Injecting FGSM adversarial samples into Client 2\n",
            "\n",
            "Communication Overhead: 0.77 MB\n",
            "\n",
            "Round 28: Global Model Accuracy = 0.8299703598\n",
            "\u001b[1m6572/6572\u001b[0m \u001b[32m━━━━━━━━━━━━━━━━━━━━\u001b[0m\u001b[37m\u001b[0m \u001b[1m26s\u001b[0m 4ms/step\n",
            "\n",
            "Model Performance Metrics:\n",
            "Accuracy: 0.8299703730\n",
            "Precision: 0.8311531330\n",
            "Recall: 0.8299703730\n",
            "F1-Score: 0.8282944605\n",
            "\n",
            "Confusion Matrix:\n",
            "[[41251  6902  4406    11]\n",
            " [12402 36627    18  3523]\n",
            " [ 3246   266 45850  3208]\n",
            " [    0   245  1527 50799]]\n",
            "Injecting FGSM adversarial samples into Client 0\n"
          ]
        },
        {
          "output_type": "stream",
          "name": "stderr",
          "text": [
            "/usr/local/lib/python3.11/dist-packages/keras/src/layers/core/input_layer.py:27: UserWarning: Argument `input_shape` is deprecated. Use `shape` instead.\n",
            "  warnings.warn(\n"
          ]
        },
        {
          "output_type": "stream",
          "name": "stdout",
          "text": [
            "Injecting FGSM adversarial samples into Client 2\n",
            "\n",
            "Communication Overhead: 0.77 MB\n",
            "\n",
            "Round 29: Global Model Accuracy = 0.8504667282\n",
            "\u001b[1m6572/6572\u001b[0m \u001b[32m━━━━━━━━━━━━━━━━━━━━\u001b[0m\u001b[37m\u001b[0m \u001b[1m25s\u001b[0m 4ms/step\n",
            "\n",
            "Model Performance Metrics:\n",
            "Accuracy: 0.8504667564\n",
            "Precision: 0.8534695773\n",
            "Recall: 0.8504667564\n",
            "F1-Score: 0.8490733298\n",
            "\n",
            "Confusion Matrix:\n",
            "[[43508  5906  3130    26]\n",
            " [12408 36814     4  3344]\n",
            " [ 3177    56 47515  1822]\n",
            " [    0   202  1369 51000]]\n",
            "Injecting FGSM adversarial samples into Client 0\n"
          ]
        },
        {
          "output_type": "stream",
          "name": "stderr",
          "text": [
            "/usr/local/lib/python3.11/dist-packages/keras/src/layers/core/input_layer.py:27: UserWarning: Argument `input_shape` is deprecated. Use `shape` instead.\n",
            "  warnings.warn(\n"
          ]
        },
        {
          "output_type": "stream",
          "name": "stdout",
          "text": [
            "Injecting FGSM adversarial samples into Client 2\n",
            "\n",
            "Communication Overhead: 0.77 MB\n",
            "\n",
            "Round 30: Global Model Accuracy = 0.8141629696\n",
            "\u001b[1m6572/6572\u001b[0m \u001b[32m━━━━━━━━━━━━━━━━━━━━\u001b[0m\u001b[37m\u001b[0m \u001b[1m25s\u001b[0m 4ms/step\n",
            "\n",
            "Model Performance Metrics:\n",
            "Accuracy: 0.8141629534\n",
            "Precision: 0.8265583717\n",
            "Recall: 0.8141629534\n",
            "F1-Score: 0.8136464523\n",
            "\n",
            "Confusion Matrix:\n",
            "[[43509  5892  3151    18]\n",
            " [13215 35218    41  4096]\n",
            " [ 8592    56 41081  2841]\n",
            " [    0   142  1034 51395]]\n",
            "\n",
            "Latency Analysis:\n",
            "Average Latency per Round: 262.27 seconds\n",
            "Total Latency for 50 Rounds: 7868.20 seconds\n"
          ]
        }
      ]
    },
    {
      "cell_type": "markdown",
      "source": [
        "**Injection adversarial PGD Attacks**"
      ],
      "metadata": {
        "id": "uBDjWa3KyUB_"
      }
    },
    {
      "cell_type": "code",
      "source": [
        "import time\n",
        "import numpy as np\n",
        "from sklearn.metrics import classification_report, confusion_matrix, accuracy_score, precision_score, recall_score, f1_score\n",
        "from cleverhans.tf2.attacks.fast_gradient_method import fast_gradient_method # Import the actual function\n",
        "from cleverhans.tf2.attacks.projected_gradient_descent import projected_gradient_descent # Import the actual function\n",
        "\n",
        "# Adversarial config\n",
        "USE_ADVERSARIAL = True\n",
        "ATTACK_TYPE = 'pgd'  # or 'pgd'\n",
        "ADV_CLIENTS = [0, 2]  # clients to inject adversarial samples\n",
        "EPSILON = 0.1\n",
        "\n",
        "# Function to generate FGSM or PGD adversarial examples\n",
        "def generate_adversarial(model, x, y, attack_type='fgsm', eps=0.1):\n",
        "    if attack_type == 'fgsm':\n",
        "        return fast_gradient_method(model_fn=model, x=x, eps=eps, norm=np.inf) # Call with correct arguments\n",
        "    elif attack_type == 'pgd':\n",
        "        return projected_gradient_descent(model_fn=model, x=x, eps=eps, eps_iter=0.01, nb_iter=40, norm=np.inf) # Call with correct arguments\n",
        "    return x\n",
        "\n",
        "# Function to evaluate the global model\n",
        "def evaluate_global_model(global_model, X_test, y_test):\n",
        "    y_pred = global_model.predict(X_test)\n",
        "    y_pred_classes = np.argmax(y_pred, axis=1)\n",
        "    y_true_classes = np.argmax(y_test, axis=1)\n",
        "    accuracy = accuracy_score(y_true_classes, y_pred_classes)\n",
        "    precision = precision_score(y_true_classes, y_pred_classes, average='weighted')\n",
        "    recall = recall_score(y_true_classes, y_pred_classes, average='weighted')\n",
        "    f1 = f1_score(y_true_classes, y_pred_classes, average='weighted')\n",
        "    cm = confusion_matrix(y_true_classes, y_pred_classes)\n",
        "    print(\"\\nModel Performance Metrics:\")\n",
        "    print(f\"Accuracy: {accuracy:.10f}\")\n",
        "    print(f\"Precision: {precision:.10f}\")\n",
        "    print(f\"Recall: {recall:.10f}\")\n",
        "    print(f\"F1-Score: {f1:.10f}\")\n",
        "    print(\"\\nConfusion Matrix:\")\n",
        "    print(cm)\n",
        "    return accuracy, precision, recall, f1\n",
        "\n",
        "# Function to analyze communication overhead\n",
        "def analyze_communication_overhead(local_weights, global_weights):\n",
        "    communication_cost = sum(sum(w.nbytes for w in lw) for lw in local_weights)\n",
        "    communication_cost += sum(w.nbytes for w in global_weights)\n",
        "    print(f\"\\nCommunication Overhead: {communication_cost / (1024 ** 2):.2f} MB\")\n",
        "\n",
        "# Federated Learning Simulation with optional adversarial injection\n",
        "def federated_learning_simulation(X_train, y_train, X_test, y_test, num_clients=5):\n",
        "    client_data = np.array_split(X_train, num_clients)\n",
        "    client_labels = np.array_split(y_train, num_clients)\n",
        "    global_model = build_hybrid_model(input_shape, num_classes)\n",
        "    global_model.compile(optimizer='adam', loss='categorical_crossentropy', metrics=['accuracy'])\n",
        "    global_weights = global_model.get_weights()\n",
        "    communication_overhead = []\n",
        "    latency_per_round = []\n",
        "\n",
        "    for round in range(30):\n",
        "        local_weights = []\n",
        "        start_time = time.time()\n",
        "\n",
        "        for i in range(num_clients):\n",
        "            local_model = build_hybrid_model(input_shape, num_classes)\n",
        "            local_model.set_weights(global_weights)\n",
        "            local_model.compile(optimizer='adam', loss='categorical_crossentropy', metrics=['accuracy'])\n",
        "\n",
        "            # Inject adversarial examples if enabled\n",
        "            if USE_ADVERSARIAL and i in ADV_CLIENTS:\n",
        "                print(f\"Injecting {ATTACK_TYPE.upper()} adversarial samples into Client {i}\")\n",
        "                client_data[i] = generate_adversarial(local_model, client_data[i], client_labels[i], attack_type=ATTACK_TYPE, eps=EPSILON)\n",
        "\n",
        "            local_model.fit(client_data[i], client_labels[i], epochs=1, batch_size=32, verbose=0)\n",
        "            local_weights.append(local_model.get_weights())\n",
        "\n",
        "        global_weights = [\n",
        "            np.mean([local_weights[j][i] for j in range(num_clients)], axis=0)\n",
        "            for i in range(len(global_weights))\n",
        "        ]\n",
        "        global_model.set_weights(global_weights)\n",
        "\n",
        "        end_time = time.time()\n",
        "        latency = end_time - start_time\n",
        "        latency_per_round.append(latency)\n",
        "\n",
        "        analyze_communication_overhead(local_weights, global_weights)\n",
        "\n",
        "        loss, acc = global_model.evaluate(X_test, y_test, verbose=0)\n",
        "        print(f\"\\nRound {round + 1}: Global Model Accuracy = {acc:.10f}\")\n",
        "        evaluate_global_model(global_model, X_test, y_test)\n",
        "\n",
        "    print(\"\\nLatency Analysis:\")\n",
        "    print(f\"Average Latency per Round: {np.mean(latency_per_round):.2f} seconds\")\n",
        "    print(f\"Total Latency for 50 Rounds: {np.sum(latency_per_round):.2f} seconds\")\n",
        "\n",
        "# Call the simulation\n",
        "federated_learning_simulation(X_train, y_train, X_test, y_test)"
      ],
      "metadata": {
        "colab": {
          "base_uri": "https://localhost:8080/"
        },
        "id": "5c83NF4tx8ba",
        "outputId": "3e62e65d-7af5-46ac-cd4e-c50c65712ed6"
      },
      "execution_count": null,
      "outputs": [
        {
          "output_type": "stream",
          "name": "stderr",
          "text": [
            "/usr/local/lib/python3.11/dist-packages/keras/src/layers/core/input_layer.py:27: UserWarning: Argument `input_shape` is deprecated. Use `shape` instead.\n",
            "  warnings.warn(\n"
          ]
        },
        {
          "output_type": "stream",
          "name": "stdout",
          "text": [
            "Injecting PGD adversarial samples into Client 0\n",
            "Injecting PGD adversarial samples into Client 2\n",
            "\n",
            "Communication Overhead: 0.77 MB\n",
            "\n",
            "Round 1: Global Model Accuracy = 0.7909729481\n",
            "\u001b[1m10628/10628\u001b[0m \u001b[32m━━━━━━━━━━━━━━━━━━━━\u001b[0m\u001b[37m\u001b[0m \u001b[1m35s\u001b[0m 3ms/step\n",
            "\n",
            "Model Performance Metrics:\n",
            "Accuracy: 0.7909729288\n",
            "Precision: 0.7919791727\n",
            "Recall: 0.7909729288\n",
            "F1-Score: 0.7807708364\n",
            "\n",
            "Confusion Matrix:\n",
            "[[67458   255     0   211    89]\n",
            " [13182 29443 22773  2615     0]\n",
            " [ 1119  8961 49893  8040     0]\n",
            " [ 6748  1025  4607 55634     0]\n",
            " [  103  1309     0    46 66555]]\n",
            "Injecting PGD adversarial samples into Client 0\n"
          ]
        },
        {
          "output_type": "stream",
          "name": "stderr",
          "text": [
            "/usr/local/lib/python3.11/dist-packages/keras/src/layers/core/input_layer.py:27: UserWarning: Argument `input_shape` is deprecated. Use `shape` instead.\n",
            "  warnings.warn(\n"
          ]
        },
        {
          "output_type": "stream",
          "name": "stdout",
          "text": [
            "Injecting PGD adversarial samples into Client 2\n",
            "\n",
            "Communication Overhead: 0.77 MB\n",
            "\n",
            "Round 2: Global Model Accuracy = 0.9044185281\n",
            "\u001b[1m10628/10628\u001b[0m \u001b[32m━━━━━━━━━━━━━━━━━━━━\u001b[0m\u001b[37m\u001b[0m \u001b[1m34s\u001b[0m 3ms/step\n",
            "\n",
            "Model Performance Metrics:\n",
            "Accuracy: 0.9044185540\n",
            "Precision: 0.9256115832\n",
            "Recall: 0.9044185540\n",
            "F1-Score: 0.9012553116\n",
            "\n",
            "Confusion Matrix:\n",
            "[[67117   735     0    71    90]\n",
            " [    3 41071 26931     8     0]\n",
            " [    0     0 67966    47     0]\n",
            " [ 4264   272    38 63440     0]\n",
            " [   19    26     0     0 67968]]\n",
            "Injecting PGD adversarial samples into Client 0\n"
          ]
        },
        {
          "output_type": "stream",
          "name": "stderr",
          "text": [
            "/usr/local/lib/python3.11/dist-packages/keras/src/layers/core/input_layer.py:27: UserWarning: Argument `input_shape` is deprecated. Use `shape` instead.\n",
            "  warnings.warn(\n"
          ]
        },
        {
          "output_type": "stream",
          "name": "stdout",
          "text": [
            "Injecting PGD adversarial samples into Client 2\n",
            "\n",
            "Communication Overhead: 0.77 MB\n",
            "\n",
            "Round 3: Global Model Accuracy = 0.9059653282\n",
            "\u001b[1m10628/10628\u001b[0m \u001b[32m━━━━━━━━━━━━━━━━━━━━\u001b[0m\u001b[37m\u001b[0m \u001b[1m37s\u001b[0m 3ms/step\n",
            "\n",
            "Model Performance Metrics:\n",
            "Accuracy: 0.9059653126\n",
            "Precision: 0.9285331933\n",
            "Recall: 0.9059653126\n",
            "F1-Score: 0.9026319521\n",
            "\n",
            "Confusion Matrix:\n",
            "[[67729   145     0    63    76]\n",
            " [  142 40925 26929    17     0]\n",
            " [    0     0 67959    54     0]\n",
            " [ 4305   183    23 63503     0]\n",
            " [   37     4     0     0 67972]]\n",
            "Injecting PGD adversarial samples into Client 0\n"
          ]
        },
        {
          "output_type": "stream",
          "name": "stderr",
          "text": [
            "/usr/local/lib/python3.11/dist-packages/keras/src/layers/core/input_layer.py:27: UserWarning: Argument `input_shape` is deprecated. Use `shape` instead.\n",
            "  warnings.warn(\n"
          ]
        },
        {
          "output_type": "stream",
          "name": "stdout",
          "text": [
            "Injecting PGD adversarial samples into Client 2\n",
            "\n",
            "Communication Overhead: 0.77 MB\n",
            "\n",
            "Round 4: Global Model Accuracy = 0.9063534737\n",
            "\u001b[1m10628/10628\u001b[0m \u001b[32m━━━━━━━━━━━━━━━━━━━━\u001b[0m\u001b[37m\u001b[0m \u001b[1m35s\u001b[0m 3ms/step\n",
            "\n",
            "Model Performance Metrics:\n",
            "Accuracy: 0.9063534726\n",
            "Precision: 0.9289297088\n",
            "Recall: 0.9063534726\n",
            "F1-Score: 0.9031122754\n",
            "\n",
            "Confusion Matrix:\n",
            "[[67700   174     0    63    76]\n",
            " [   16 41043 26931    23     0]\n",
            " [    0     0 67971    42     0]\n",
            " [ 4311   143    38 63522     0]\n",
            " [   25     4     0     0 67984]]\n",
            "Injecting PGD adversarial samples into Client 0\n"
          ]
        },
        {
          "output_type": "stream",
          "name": "stderr",
          "text": [
            "/usr/local/lib/python3.11/dist-packages/keras/src/layers/core/input_layer.py:27: UserWarning: Argument `input_shape` is deprecated. Use `shape` instead.\n",
            "  warnings.warn(\n"
          ]
        },
        {
          "output_type": "stream",
          "name": "stdout",
          "text": [
            "Injecting PGD adversarial samples into Client 2\n",
            "\n",
            "Communication Overhead: 0.77 MB\n",
            "\n",
            "Round 5: Global Model Accuracy = 0.9062740803\n",
            "\u001b[1m10628/10628\u001b[0m \u001b[32m━━━━━━━━━━━━━━━━━━━━\u001b[0m\u001b[37m\u001b[0m \u001b[1m37s\u001b[0m 3ms/step\n",
            "\n",
            "Model Performance Metrics:\n",
            "Accuracy: 0.9062740762\n",
            "Precision: 0.9287547745\n",
            "Recall: 0.9062740762\n",
            "F1-Score: 0.9030496106\n",
            "\n",
            "Confusion Matrix:\n",
            "[[67600   264     1    72    76]\n",
            " [    6 41048 26944    15     0]\n",
            " [    0     0 67984    29     0]\n",
            " [ 4300   106    38 63570     0]\n",
            " [   17     5     0     0 67991]]\n",
            "Injecting PGD adversarial samples into Client 0\n"
          ]
        },
        {
          "output_type": "stream",
          "name": "stderr",
          "text": [
            "/usr/local/lib/python3.11/dist-packages/keras/src/layers/core/input_layer.py:27: UserWarning: Argument `input_shape` is deprecated. Use `shape` instead.\n",
            "  warnings.warn(\n"
          ]
        },
        {
          "output_type": "stream",
          "name": "stdout",
          "text": [
            "Injecting PGD adversarial samples into Client 2\n",
            "\n",
            "Communication Overhead: 0.77 MB\n",
            "\n",
            "Round 6: Global Model Accuracy = 0.9066269398\n",
            "\u001b[1m10628/10628\u001b[0m \u001b[32m━━━━━━━━━━━━━━━━━━━━\u001b[0m\u001b[37m\u001b[0m \u001b[1m35s\u001b[0m 3ms/step\n",
            "\n",
            "Model Performance Metrics:\n",
            "Accuracy: 0.9066269489\n",
            "Precision: 0.9293163911\n",
            "Recall: 0.9066269489\n",
            "F1-Score: 0.9033783405\n",
            "\n",
            "Confusion Matrix:\n",
            "[[67703   176     0    58    76]\n",
            " [   18 41034 26939    22     0]\n",
            " [    0     0 68007     6     0]\n",
            " [ 4304    97    31 63582     0]\n",
            " [   23     3     0     0 67987]]\n",
            "Injecting PGD adversarial samples into Client 0\n"
          ]
        },
        {
          "output_type": "stream",
          "name": "stderr",
          "text": [
            "/usr/local/lib/python3.11/dist-packages/keras/src/layers/core/input_layer.py:27: UserWarning: Argument `input_shape` is deprecated. Use `shape` instead.\n",
            "  warnings.warn(\n"
          ]
        },
        {
          "output_type": "stream",
          "name": "stdout",
          "text": [
            "Injecting PGD adversarial samples into Client 2\n",
            "\n",
            "Communication Overhead: 0.77 MB\n",
            "\n",
            "Round 7: Global Model Accuracy = 0.9064446092\n",
            "\u001b[1m10628/10628\u001b[0m \u001b[32m━━━━━━━━━━━━━━━━━━━━\u001b[0m\u001b[37m\u001b[0m \u001b[1m36s\u001b[0m 3ms/step\n",
            "\n",
            "Model Performance Metrics:\n",
            "Accuracy: 0.9064446313\n",
            "Precision: 0.9289637081\n",
            "Recall: 0.9064446313\n",
            "F1-Score: 0.9032192945\n",
            "\n",
            "Confusion Matrix:\n",
            "[[67614   241     2    80    76]\n",
            " [    5 41057 26939    12     0]\n",
            " [    0     0 68012     1     0]\n",
            " [ 4299   110    30 63575     0]\n",
            " [   14     6     0     0 67993]]\n",
            "Injecting PGD adversarial samples into Client 0\n"
          ]
        },
        {
          "output_type": "stream",
          "name": "stderr",
          "text": [
            "/usr/local/lib/python3.11/dist-packages/keras/src/layers/core/input_layer.py:27: UserWarning: Argument `input_shape` is deprecated. Use `shape` instead.\n",
            "  warnings.warn(\n"
          ]
        },
        {
          "output_type": "stream",
          "name": "stdout",
          "text": [
            "Injecting PGD adversarial samples into Client 2\n",
            "\n",
            "Communication Overhead: 0.77 MB\n",
            "\n",
            "Round 8: Global Model Accuracy = 0.9065122604\n",
            "\u001b[1m10628/10628\u001b[0m \u001b[32m━━━━━━━━━━━━━━━━━━━━\u001b[0m\u001b[37m\u001b[0m \u001b[1m39s\u001b[0m 4ms/step\n",
            "\n",
            "Model Performance Metrics:\n",
            "Accuracy: 0.9065122653\n",
            "Precision: 0.9291096697\n",
            "Recall: 0.9065122653\n",
            "F1-Score: 0.9032955424\n",
            "\n",
            "Confusion Matrix:\n",
            "[[67669   213     3    52    76]\n",
            " [    1 41062 26939    11     0]\n",
            " [    0     0 68013     0     0]\n",
            " [ 4302   128    52 63532     0]\n",
            " [   15     0     0     0 67998]]\n",
            "Injecting PGD adversarial samples into Client 0\n"
          ]
        },
        {
          "output_type": "stream",
          "name": "stderr",
          "text": [
            "/usr/local/lib/python3.11/dist-packages/keras/src/layers/core/input_layer.py:27: UserWarning: Argument `input_shape` is deprecated. Use `shape` instead.\n",
            "  warnings.warn(\n"
          ]
        },
        {
          "output_type": "stream",
          "name": "stdout",
          "text": [
            "Injecting PGD adversarial samples into Client 2\n",
            "\n",
            "Communication Overhead: 0.77 MB\n",
            "\n",
            "Round 9: Global Model Accuracy = 0.9065358043\n",
            "\u001b[1m10628/10628\u001b[0m \u001b[32m━━━━━━━━━━━━━━━━━━━━\u001b[0m\u001b[37m\u001b[0m \u001b[1m35s\u001b[0m 3ms/step\n",
            "\n",
            "Model Performance Metrics:\n",
            "Accuracy: 0.9065357901\n",
            "Precision: 0.9292320146\n",
            "Recall: 0.9065357901\n",
            "F1-Score: 0.9033077880\n",
            "\n",
            "Confusion Matrix:\n",
            "[[67700   174     7    56    76]\n",
            " [   20 41054 26939     0     0]\n",
            " [    0     0 68013     0     0]\n",
            " [ 4333   112    35 63534     0]\n",
            " [   26     6     0     0 67981]]\n",
            "Injecting PGD adversarial samples into Client 0\n"
          ]
        },
        {
          "output_type": "stream",
          "name": "stderr",
          "text": [
            "/usr/local/lib/python3.11/dist-packages/keras/src/layers/core/input_layer.py:27: UserWarning: Argument `input_shape` is deprecated. Use `shape` instead.\n",
            "  warnings.warn(\n"
          ]
        },
        {
          "output_type": "stream",
          "name": "stdout",
          "text": [
            "Injecting PGD adversarial samples into Client 2\n",
            "\n",
            "Communication Overhead: 0.77 MB\n",
            "\n",
            "Round 10: Global Model Accuracy = 0.9067563415\n",
            "\u001b[1m10628/10628\u001b[0m \u001b[32m━━━━━━━━━━━━━━━━━━━━\u001b[0m\u001b[37m\u001b[0m \u001b[1m35s\u001b[0m 3ms/step\n",
            "\n",
            "Model Performance Metrics:\n",
            "Accuracy: 0.9067563355\n",
            "Precision: 0.9295306487\n",
            "Recall: 0.9067563355\n",
            "F1-Score: 0.9035107917\n",
            "\n",
            "Confusion Matrix:\n",
            "[[67708   148     5    76    76]\n",
            " [   13 41043 26939    18     0]\n",
            " [    0     0 67977    36     0]\n",
            " [ 4299    60    18 63637     0]\n",
            " [   20     1     0     0 67992]]\n",
            "Injecting PGD adversarial samples into Client 0\n"
          ]
        },
        {
          "output_type": "stream",
          "name": "stderr",
          "text": [
            "/usr/local/lib/python3.11/dist-packages/keras/src/layers/core/input_layer.py:27: UserWarning: Argument `input_shape` is deprecated. Use `shape` instead.\n",
            "  warnings.warn(\n"
          ]
        },
        {
          "output_type": "stream",
          "name": "stdout",
          "text": [
            "Injecting PGD adversarial samples into Client 2\n",
            "\n",
            "Communication Overhead: 0.77 MB\n",
            "\n",
            "Round 11: Global Model Accuracy = 0.9067798853\n",
            "\u001b[1m10628/10628\u001b[0m \u001b[32m━━━━━━━━━━━━━━━━━━━━\u001b[0m\u001b[37m\u001b[0m \u001b[1m36s\u001b[0m 3ms/step\n",
            "\n",
            "Model Performance Metrics:\n",
            "Accuracy: 0.9067798604\n",
            "Precision: 0.9295250084\n",
            "Recall: 0.9067798604\n",
            "F1-Score: 0.9035123704\n",
            "\n",
            "Confusion Matrix:\n",
            "[[67724   153     1    59    76]\n",
            " [   13 41025 26929    46     0]\n",
            " [    0     0 67954    59     0]\n",
            " [ 4290    44    10 63670     0]\n",
            " [   21     0     0     0 67992]]\n",
            "Injecting PGD adversarial samples into Client 0\n"
          ]
        },
        {
          "output_type": "stream",
          "name": "stderr",
          "text": [
            "/usr/local/lib/python3.11/dist-packages/keras/src/layers/core/input_layer.py:27: UserWarning: Argument `input_shape` is deprecated. Use `shape` instead.\n",
            "  warnings.warn(\n"
          ]
        },
        {
          "output_type": "stream",
          "name": "stdout",
          "text": [
            "Injecting PGD adversarial samples into Client 2\n",
            "\n",
            "Communication Overhead: 0.77 MB\n",
            "\n",
            "Round 12: Global Model Accuracy = 0.9063505530\n",
            "\u001b[1m10628/10628\u001b[0m \u001b[32m━━━━━━━━━━━━━━━━━━━━\u001b[0m\u001b[37m\u001b[0m \u001b[1m38s\u001b[0m 4ms/step\n",
            "\n",
            "Model Performance Metrics:\n",
            "Accuracy: 0.9063505320\n",
            "Precision: 0.9288290144\n",
            "Recall: 0.9063505320\n",
            "F1-Score: 0.9031356757\n",
            "\n",
            "Confusion Matrix:\n",
            "[[67596   281     0    57    79]\n",
            " [    2 41058 26939    14     0]\n",
            " [    0     0 68013     0     0]\n",
            " [ 4297   114    53 63550     0]\n",
            " [   11     0     0     0 68002]]\n",
            "Injecting PGD adversarial samples into Client 0\n"
          ]
        },
        {
          "output_type": "stream",
          "name": "stderr",
          "text": [
            "/usr/local/lib/python3.11/dist-packages/keras/src/layers/core/input_layer.py:27: UserWarning: Argument `input_shape` is deprecated. Use `shape` instead.\n",
            "  warnings.warn(\n"
          ]
        },
        {
          "output_type": "stream",
          "name": "stdout",
          "text": [
            "Injecting PGD adversarial samples into Client 2\n",
            "\n",
            "Communication Overhead: 0.77 MB\n",
            "\n",
            "Round 13: Global Model Accuracy = 0.9067651629\n",
            "\u001b[1m10628/10628\u001b[0m \u001b[32m━━━━━━━━━━━━━━━━━━━━\u001b[0m\u001b[37m\u001b[0m \u001b[1m33s\u001b[0m 3ms/step\n",
            "\n",
            "Model Performance Metrics:\n",
            "Accuracy: 0.9067651574\n",
            "Precision: 0.9294824667\n",
            "Recall: 0.9067651574\n",
            "F1-Score: 0.9035077234\n",
            "\n",
            "Confusion Matrix:\n",
            "[[67713   164     0    60    76]\n",
            " [   10 41037 26929    37     0]\n",
            " [    0     0 67961    52     0]\n",
            " [ 4297    44    10 63663     0]\n",
            " [   19     6     0     2 67986]]\n",
            "Injecting PGD adversarial samples into Client 0\n"
          ]
        },
        {
          "output_type": "stream",
          "name": "stderr",
          "text": [
            "/usr/local/lib/python3.11/dist-packages/keras/src/layers/core/input_layer.py:27: UserWarning: Argument `input_shape` is deprecated. Use `shape` instead.\n",
            "  warnings.warn(\n"
          ]
        },
        {
          "output_type": "stream",
          "name": "stdout",
          "text": [
            "Injecting PGD adversarial samples into Client 2\n",
            "\n",
            "Communication Overhead: 0.77 MB\n",
            "\n",
            "Round 14: Global Model Accuracy = 0.9066240191\n",
            "\u001b[1m10628/10628\u001b[0m \u001b[32m━━━━━━━━━━━━━━━━━━━━\u001b[0m\u001b[37m\u001b[0m \u001b[1m36s\u001b[0m 3ms/step\n",
            "\n",
            "Model Performance Metrics:\n",
            "Accuracy: 0.9066240083\n",
            "Precision: 0.9291627359\n",
            "Recall: 0.9066240083\n",
            "F1-Score: 0.9034013531\n",
            "\n",
            "Confusion Matrix:\n",
            "[[67679   209     1    48    76]\n",
            " [    3 41067 26939     4     0]\n",
            " [    0     0 68013     0     0]\n",
            " [ 4296   114    17 63587     0]\n",
            " [   23    24     0     0 67966]]\n",
            "Injecting PGD adversarial samples into Client 0\n"
          ]
        },
        {
          "output_type": "stream",
          "name": "stderr",
          "text": [
            "/usr/local/lib/python3.11/dist-packages/keras/src/layers/core/input_layer.py:27: UserWarning: Argument `input_shape` is deprecated. Use `shape` instead.\n",
            "  warnings.warn(\n"
          ]
        },
        {
          "output_type": "stream",
          "name": "stdout",
          "text": [
            "Injecting PGD adversarial samples into Client 2\n",
            "\n",
            "Communication Overhead: 0.77 MB\n",
            "\n",
            "Round 15: Global Model Accuracy = 0.9065592885\n",
            "\u001b[1m10628/10628\u001b[0m \u001b[32m━━━━━━━━━━━━━━━━━━━━\u001b[0m\u001b[37m\u001b[0m \u001b[1m35s\u001b[0m 3ms/step\n",
            "\n",
            "Model Performance Metrics:\n",
            "Accuracy: 0.9065593150\n",
            "Precision: 0.9290555849\n",
            "Recall: 0.9065593150\n",
            "F1-Score: 0.9033260735\n",
            "\n",
            "Confusion Matrix:\n",
            "[[67637   234     3    63    76]\n",
            " [    0 41057 26929    27     0]\n",
            " [    0     0 67996    17     0]\n",
            " [ 4291    73    10 63640     0]\n",
            " [   19    34     0     0 67960]]\n",
            "Injecting PGD adversarial samples into Client 0\n"
          ]
        },
        {
          "output_type": "stream",
          "name": "stderr",
          "text": [
            "/usr/local/lib/python3.11/dist-packages/keras/src/layers/core/input_layer.py:27: UserWarning: Argument `input_shape` is deprecated. Use `shape` instead.\n",
            "  warnings.warn(\n"
          ]
        },
        {
          "output_type": "stream",
          "name": "stdout",
          "text": [
            "Injecting PGD adversarial samples into Client 2\n",
            "\n",
            "Communication Overhead: 0.77 MB\n",
            "\n",
            "Round 16: Global Model Accuracy = 0.9063711166\n",
            "\u001b[1m10628/10628\u001b[0m \u001b[32m━━━━━━━━━━━━━━━━━━━━\u001b[0m\u001b[37m\u001b[0m \u001b[1m34s\u001b[0m 3ms/step\n",
            "\n",
            "Model Performance Metrics:\n",
            "Accuracy: 0.9063711162\n",
            "Precision: 0.9288412585\n",
            "Recall: 0.9063711162\n",
            "F1-Score: 0.9031437649\n",
            "\n",
            "Confusion Matrix:\n",
            "[[67708   190     1    38    76]\n",
            " [   14 41060 26939     0     0]\n",
            " [    0     0 68010     3     0]\n",
            " [ 4337   153    16 63508     0]\n",
            " [   21    52     0     0 67940]]\n",
            "Injecting PGD adversarial samples into Client 0\n"
          ]
        },
        {
          "output_type": "stream",
          "name": "stderr",
          "text": [
            "/usr/local/lib/python3.11/dist-packages/keras/src/layers/core/input_layer.py:27: UserWarning: Argument `input_shape` is deprecated. Use `shape` instead.\n",
            "  warnings.warn(\n"
          ]
        },
        {
          "output_type": "stream",
          "name": "stdout",
          "text": [
            "Injecting PGD adversarial samples into Client 2\n",
            "\n",
            "Communication Overhead: 0.77 MB\n",
            "\n",
            "Round 17: Global Model Accuracy = 0.9066798687\n",
            "\u001b[1m10628/10628\u001b[0m \u001b[32m━━━━━━━━━━━━━━━━━━━━\u001b[0m\u001b[37m\u001b[0m \u001b[1m35s\u001b[0m 3ms/step\n",
            "\n",
            "Model Performance Metrics:\n",
            "Accuracy: 0.9066798798\n",
            "Precision: 0.9292953949\n",
            "Recall: 0.9066798798\n",
            "F1-Score: 0.9034474076\n",
            "\n",
            "Confusion Matrix:\n",
            "[[67661   201     8    67    76]\n",
            " [    4 41058 26931    20     0]\n",
            " [    0     0 68007     6     0]\n",
            " [ 4300    63    12 63639     0]\n",
            " [   18    29     0     0 67966]]\n",
            "Injecting PGD adversarial samples into Client 0\n"
          ]
        },
        {
          "output_type": "stream",
          "name": "stderr",
          "text": [
            "/usr/local/lib/python3.11/dist-packages/keras/src/layers/core/input_layer.py:27: UserWarning: Argument `input_shape` is deprecated. Use `shape` instead.\n",
            "  warnings.warn(\n"
          ]
        },
        {
          "output_type": "stream",
          "name": "stdout",
          "text": [
            "Injecting PGD adversarial samples into Client 2\n",
            "\n",
            "Communication Overhead: 0.77 MB\n",
            "\n",
            "Round 18: Global Model Accuracy = 0.9064828753\n",
            "\u001b[1m10628/10628\u001b[0m \u001b[32m━━━━━━━━━━━━━━━━━━━━\u001b[0m\u001b[37m\u001b[0m \u001b[1m34s\u001b[0m 3ms/step\n",
            "\n",
            "Model Performance Metrics:\n",
            "Accuracy: 0.9064828592\n",
            "Precision: 0.9289862275\n",
            "Recall: 0.9064828592\n",
            "F1-Score: 0.9032512766\n",
            "\n",
            "Confusion Matrix:\n",
            "[[67642   251     0    44    76]\n",
            " [   13 41055 26932    13     0]\n",
            " [    0     0 68004     9     0]\n",
            " [ 4328    60    10 63616     0]\n",
            " [   23    43     0     0 67947]]\n",
            "Injecting PGD adversarial samples into Client 0\n"
          ]
        },
        {
          "output_type": "stream",
          "name": "stderr",
          "text": [
            "/usr/local/lib/python3.11/dist-packages/keras/src/layers/core/input_layer.py:27: UserWarning: Argument `input_shape` is deprecated. Use `shape` instead.\n",
            "  warnings.warn(\n"
          ]
        },
        {
          "output_type": "stream",
          "name": "stdout",
          "text": [
            "Injecting PGD adversarial samples into Client 2\n",
            "\n",
            "Communication Overhead: 0.77 MB\n",
            "\n",
            "Round 19: Global Model Accuracy = 0.9063534737\n",
            "\u001b[1m10628/10628\u001b[0m \u001b[32m━━━━━━━━━━━━━━━━━━━━\u001b[0m\u001b[37m\u001b[0m \u001b[1m34s\u001b[0m 3ms/step\n",
            "\n",
            "Model Performance Metrics:\n",
            "Accuracy: 0.9063534726\n",
            "Precision: 0.9290436315\n",
            "Recall: 0.9063534726\n",
            "F1-Score: 0.9031046286\n",
            "\n",
            "Confusion Matrix:\n",
            "[[67708   203     0    26    76]\n",
            " [   30 41045 26929     9     0]\n",
            " [    0     0 67978    35     0]\n",
            " [ 4451    47     4 63512     0]\n",
            " [   18    18     0     0 67977]]\n",
            "Injecting PGD adversarial samples into Client 0\n"
          ]
        },
        {
          "output_type": "stream",
          "name": "stderr",
          "text": [
            "/usr/local/lib/python3.11/dist-packages/keras/src/layers/core/input_layer.py:27: UserWarning: Argument `input_shape` is deprecated. Use `shape` instead.\n",
            "  warnings.warn(\n"
          ]
        },
        {
          "output_type": "stream",
          "name": "stdout",
          "text": [
            "Injecting PGD adversarial samples into Client 2\n",
            "\n",
            "Communication Overhead: 0.77 MB\n",
            "\n",
            "Round 20: Global Model Accuracy = 0.9063563943\n",
            "\u001b[1m10628/10628\u001b[0m \u001b[32m━━━━━━━━━━━━━━━━━━━━\u001b[0m\u001b[37m\u001b[0m \u001b[1m34s\u001b[0m 3ms/step\n",
            "\n",
            "Model Performance Metrics:\n",
            "Accuracy: 0.9063564132\n",
            "Precision: 0.9286980155\n",
            "Recall: 0.9063564132\n",
            "F1-Score: 0.9031292039\n",
            "\n",
            "Confusion Matrix:\n",
            "[[67660   234     0    43    76]\n",
            " [    3 41062 26929    19     0]\n",
            " [    0    32 67946    35     0]\n",
            " [ 4311   108     5 63590     0]\n",
            " [   15    35     0     0 67963]]\n",
            "Injecting PGD adversarial samples into Client 0\n"
          ]
        },
        {
          "output_type": "stream",
          "name": "stderr",
          "text": [
            "/usr/local/lib/python3.11/dist-packages/keras/src/layers/core/input_layer.py:27: UserWarning: Argument `input_shape` is deprecated. Use `shape` instead.\n",
            "  warnings.warn(\n"
          ]
        },
        {
          "output_type": "stream",
          "name": "stdout",
          "text": [
            "Injecting PGD adversarial samples into Client 2\n",
            "\n",
            "Communication Overhead: 0.77 MB\n",
            "\n",
            "Round 21: Global Model Accuracy = 0.9066740274\n",
            "\u001b[1m10628/10628\u001b[0m \u001b[32m━━━━━━━━━━━━━━━━━━━━\u001b[0m\u001b[37m\u001b[0m \u001b[1m35s\u001b[0m 3ms/step\n",
            "\n",
            "Model Performance Metrics:\n",
            "Accuracy: 0.9066739986\n",
            "Precision: 0.9292633135\n",
            "Recall: 0.9066739986\n",
            "F1-Score: 0.9034544961\n",
            "\n",
            "Confusion Matrix:\n",
            "[[67692   185     8    52    76]\n",
            " [    7 41067 26938     1     0]\n",
            " [    0     0 68013     0     0]\n",
            " [ 4295    82    15 63622     0]\n",
            " [   21    57     0     0 67935]]\n",
            "Injecting PGD adversarial samples into Client 0\n"
          ]
        },
        {
          "output_type": "stream",
          "name": "stderr",
          "text": [
            "/usr/local/lib/python3.11/dist-packages/keras/src/layers/core/input_layer.py:27: UserWarning: Argument `input_shape` is deprecated. Use `shape` instead.\n",
            "  warnings.warn(\n"
          ]
        },
        {
          "output_type": "stream",
          "name": "stdout",
          "text": [
            "Injecting PGD adversarial samples into Client 2\n",
            "\n",
            "Communication Overhead: 0.77 MB\n",
            "\n",
            "Round 22: Global Model Accuracy = 0.9063211083\n",
            "\u001b[1m10628/10628\u001b[0m \u001b[32m━━━━━━━━━━━━━━━━━━━━\u001b[0m\u001b[37m\u001b[0m \u001b[1m36s\u001b[0m 3ms/step\n",
            "\n",
            "Model Performance Metrics:\n",
            "Accuracy: 0.9063211259\n",
            "Precision: 0.9285821046\n",
            "Recall: 0.9063211259\n",
            "F1-Score: 0.9031116238\n",
            "\n",
            "Confusion Matrix:\n",
            "[[67614   267     0    56    76]\n",
            " [    3 41071 26938     1     0]\n",
            " [    0     0 68011     2     0]\n",
            " [ 4278   128    19 63589     0]\n",
            " [    0    89     0     0 67924]]\n",
            "Injecting PGD adversarial samples into Client 0\n"
          ]
        },
        {
          "output_type": "stream",
          "name": "stderr",
          "text": [
            "/usr/local/lib/python3.11/dist-packages/keras/src/layers/core/input_layer.py:27: UserWarning: Argument `input_shape` is deprecated. Use `shape` instead.\n",
            "  warnings.warn(\n"
          ]
        },
        {
          "output_type": "stream",
          "name": "stdout",
          "text": [
            "Injecting PGD adversarial samples into Client 2\n",
            "\n",
            "Communication Overhead: 0.77 MB\n",
            "\n",
            "Round 23: Global Model Accuracy = 0.9055330157\n",
            "\u001b[1m10628/10628\u001b[0m \u001b[32m━━━━━━━━━━━━━━━━━━━━\u001b[0m\u001b[37m\u001b[0m \u001b[1m35s\u001b[0m 3ms/step\n",
            "\n",
            "Model Performance Metrics:\n",
            "Accuracy: 0.9055330436\n",
            "Precision: 0.9275999383\n",
            "Recall: 0.9055330436\n",
            "F1-Score: 0.9023196266\n",
            "\n",
            "Confusion Matrix:\n",
            "[[67610   325     0     2    76]\n",
            " [    0 41077 26929     7     0]\n",
            " [    0     2 68006     5     0]\n",
            " [ 4485   233     6 63290     0]\n",
            " [    0    55     0     0 67958]]\n",
            "Injecting PGD adversarial samples into Client 0\n"
          ]
        },
        {
          "output_type": "stream",
          "name": "stderr",
          "text": [
            "/usr/local/lib/python3.11/dist-packages/keras/src/layers/core/input_layer.py:27: UserWarning: Argument `input_shape` is deprecated. Use `shape` instead.\n",
            "  warnings.warn(\n"
          ]
        },
        {
          "output_type": "stream",
          "name": "stdout",
          "text": [
            "Injecting PGD adversarial samples into Client 2\n",
            "\n",
            "Communication Overhead: 0.77 MB\n",
            "\n",
            "Round 24: Global Model Accuracy = 0.9059417844\n",
            "\u001b[1m10628/10628\u001b[0m \u001b[32m━━━━━━━━━━━━━━━━━━━━\u001b[0m\u001b[37m\u001b[0m \u001b[1m34s\u001b[0m 3ms/step\n",
            "\n",
            "Model Performance Metrics:\n",
            "Accuracy: 0.9059417878\n",
            "Precision: 0.9287208572\n",
            "Recall: 0.9059417878\n",
            "F1-Score: 0.9027188241\n",
            "\n",
            "Confusion Matrix:\n",
            "[[67731   195     3     5    79]\n",
            " [   13 41060 26938     2     0]\n",
            " [    0     0 68013     0     0]\n",
            " [ 4577   110    52 63275     0]\n",
            " [   11     1     0     0 68001]]\n",
            "Injecting PGD adversarial samples into Client 0\n"
          ]
        },
        {
          "output_type": "stream",
          "name": "stderr",
          "text": [
            "/usr/local/lib/python3.11/dist-packages/keras/src/layers/core/input_layer.py:27: UserWarning: Argument `input_shape` is deprecated. Use `shape` instead.\n",
            "  warnings.warn(\n"
          ]
        },
        {
          "output_type": "stream",
          "name": "stdout",
          "text": [
            "Injecting PGD adversarial samples into Client 2\n",
            "\n",
            "Communication Overhead: 0.77 MB\n",
            "\n",
            "Round 25: Global Model Accuracy = 0.9062917233\n",
            "\u001b[1m10628/10628\u001b[0m \u001b[32m━━━━━━━━━━━━━━━━━━━━\u001b[0m\u001b[37m\u001b[0m \u001b[1m36s\u001b[0m 3ms/step\n",
            "\n",
            "Model Performance Metrics:\n",
            "Accuracy: 0.9062917198\n",
            "Precision: 0.9291519186\n",
            "Recall: 0.9062917198\n",
            "F1-Score: 0.9030460892\n",
            "\n",
            "Confusion Matrix:\n",
            "[[67768   163     2     4    76]\n",
            " [   20 41054 26930     9     0]\n",
            " [    0     0 68011     2     0]\n",
            " [ 4576    40     9 63389     0]\n",
            " [   13    23     0     0 67977]]\n",
            "Injecting PGD adversarial samples into Client 0\n"
          ]
        },
        {
          "output_type": "stream",
          "name": "stderr",
          "text": [
            "/usr/local/lib/python3.11/dist-packages/keras/src/layers/core/input_layer.py:27: UserWarning: Argument `input_shape` is deprecated. Use `shape` instead.\n",
            "  warnings.warn(\n"
          ]
        },
        {
          "output_type": "stream",
          "name": "stdout",
          "text": [
            "Injecting PGD adversarial samples into Client 2\n",
            "\n",
            "Communication Overhead: 0.77 MB\n",
            "\n",
            "Round 26: Global Model Accuracy = 0.9036539793\n",
            "\u001b[1m10628/10628\u001b[0m \u001b[32m━━━━━━━━━━━━━━━━━━━━\u001b[0m\u001b[37m\u001b[0m \u001b[1m34s\u001b[0m 3ms/step\n",
            "\n",
            "Model Performance Metrics:\n",
            "Accuracy: 0.9036539966\n",
            "Precision: 0.9207536049\n",
            "Recall: 0.9036539966\n",
            "F1-Score: 0.9010616092\n",
            "\n",
            "Confusion Matrix:\n",
            "[[67576   359     0     2    76]\n",
            " [   17 42198 25786    12     0]\n",
            " [    2  1737 66188    86     0]\n",
            " [ 4578    47     1 63388     0]\n",
            " [   19    42     0     0 67952]]\n",
            "Injecting PGD adversarial samples into Client 0\n"
          ]
        },
        {
          "output_type": "stream",
          "name": "stderr",
          "text": [
            "/usr/local/lib/python3.11/dist-packages/keras/src/layers/core/input_layer.py:27: UserWarning: Argument `input_shape` is deprecated. Use `shape` instead.\n",
            "  warnings.warn(\n"
          ]
        },
        {
          "output_type": "stream",
          "name": "stdout",
          "text": [
            "Injecting PGD adversarial samples into Client 2\n",
            "\n",
            "Communication Overhead: 0.77 MB\n",
            "\n",
            "Round 27: Global Model Accuracy = 0.9059623480\n",
            "\u001b[1m10628/10628\u001b[0m \u001b[32m━━━━━━━━━━━━━━━━━━━━\u001b[0m\u001b[37m\u001b[0m \u001b[1m32s\u001b[0m 3ms/step\n",
            "\n",
            "Model Performance Metrics:\n",
            "Accuracy: 0.9059623720\n",
            "Precision: 0.9284434100\n",
            "Recall: 0.9059623720\n",
            "F1-Score: 0.9027480758\n",
            "\n",
            "Confusion Matrix:\n",
            "[[67593   327     0    10    83]\n",
            " [    8 41067 26938     0     0]\n",
            " [    0     4 68004     5     0]\n",
            " [ 4499    57    19 63439     0]\n",
            " [   10    19     0     0 67984]]\n",
            "Injecting PGD adversarial samples into Client 0\n"
          ]
        },
        {
          "output_type": "stream",
          "name": "stderr",
          "text": [
            "/usr/local/lib/python3.11/dist-packages/keras/src/layers/core/input_layer.py:27: UserWarning: Argument `input_shape` is deprecated. Use `shape` instead.\n",
            "  warnings.warn(\n"
          ]
        },
        {
          "output_type": "stream",
          "name": "stdout",
          "text": [
            "Injecting PGD adversarial samples into Client 2\n",
            "\n",
            "Communication Overhead: 0.77 MB\n",
            "\n",
            "Round 28: Global Model Accuracy = 0.9065475464\n",
            "\u001b[1m10628/10628\u001b[0m \u001b[32m━━━━━━━━━━━━━━━━━━━━\u001b[0m\u001b[37m\u001b[0m \u001b[1m33s\u001b[0m 3ms/step\n",
            "\n",
            "Model Performance Metrics:\n",
            "Accuracy: 0.9065475525\n",
            "Precision: 0.9289085343\n",
            "Recall: 0.9065475525\n",
            "F1-Score: 0.9033342165\n",
            "\n",
            "Confusion Matrix:\n",
            "[[67610   268     0    59    76]\n",
            " [    1 41075 26937     0     0]\n",
            " [    0     0 68009     4     0]\n",
            " [ 4271    95     8 63640     0]\n",
            " [    6    55     0     0 67952]]\n",
            "Injecting PGD adversarial samples into Client 0\n"
          ]
        },
        {
          "output_type": "stream",
          "name": "stderr",
          "text": [
            "/usr/local/lib/python3.11/dist-packages/keras/src/layers/core/input_layer.py:27: UserWarning: Argument `input_shape` is deprecated. Use `shape` instead.\n",
            "  warnings.warn(\n"
          ]
        },
        {
          "output_type": "stream",
          "name": "stdout",
          "text": [
            "Injecting PGD adversarial samples into Client 2\n",
            "\n",
            "Communication Overhead: 0.77 MB\n",
            "\n",
            "Round 29: Global Model Accuracy = 0.9052595496\n",
            "\u001b[1m10628/10628\u001b[0m \u001b[32m━━━━━━━━━━━━━━━━━━━━\u001b[0m\u001b[37m\u001b[0m \u001b[1m34s\u001b[0m 3ms/step\n",
            "\n",
            "Model Performance Metrics:\n",
            "Accuracy: 0.9052595673\n",
            "Precision: 0.9276913747\n",
            "Recall: 0.9052595673\n",
            "F1-Score: 0.9020365720\n",
            "\n",
            "Confusion Matrix:\n",
            "[[67668   258     0     1    86]\n",
            " [   11 41083 26919     0     0]\n",
            " [    0    39 67971     3     0]\n",
            " [ 4749   141     0 63124     0]\n",
            " [    0    11     0     0 68002]]\n",
            "Injecting PGD adversarial samples into Client 0\n"
          ]
        },
        {
          "output_type": "stream",
          "name": "stderr",
          "text": [
            "/usr/local/lib/python3.11/dist-packages/keras/src/layers/core/input_layer.py:27: UserWarning: Argument `input_shape` is deprecated. Use `shape` instead.\n",
            "  warnings.warn(\n"
          ]
        },
        {
          "output_type": "stream",
          "name": "stdout",
          "text": [
            "Injecting PGD adversarial samples into Client 2\n",
            "\n",
            "Communication Overhead: 0.77 MB\n",
            "\n",
            "Round 30: Global Model Accuracy = 0.9054654241\n",
            "\u001b[1m10628/10628\u001b[0m \u001b[32m━━━━━━━━━━━━━━━━━━━━\u001b[0m\u001b[37m\u001b[0m \u001b[1m36s\u001b[0m 3ms/step\n",
            "\n",
            "Model Performance Metrics:\n",
            "Accuracy: 0.9054654097\n",
            "Precision: 0.9281524519\n",
            "Recall: 0.9054654097\n",
            "F1-Score: 0.9022369765\n",
            "\n",
            "Confusion Matrix:\n",
            "[[67690   240     0     0    83]\n",
            " [    3 41072 26938     0     0]\n",
            " [    0     0 68012     1     0]\n",
            " [ 4768    89     5 63152     0]\n",
            " [    3    18     0     0 67992]]\n",
            "\n",
            "Latency Analysis:\n",
            "Average Latency per Round: 1002.33 seconds\n",
            "Total Latency for 50 Rounds: 30070.00 seconds\n"
          ]
        }
      ]
    },
    {
      "cell_type": "code",
      "source": [
        "import time\n",
        "import numpy as np\n",
        "import tensorflow as tf\n",
        "from sklearn.metrics import classification_report, confusion_matrix, accuracy_score, precision_score, recall_score, f1_score\n",
        "\n",
        "# Function to measure model performance\n",
        "def evaluate_global_model(global_model, X_test, y_test):\n",
        "    y_pred = global_model.predict(X_test)\n",
        "    y_pred_classes = np.argmax(y_pred, axis=1)\n",
        "    y_true_classes = np.argmax(y_test, axis=1)\n",
        "\n",
        "    accuracy = accuracy_score(y_true_classes, y_pred_classes)\n",
        "    precision = precision_score(y_true_classes, y_pred_classes, average='weighted')\n",
        "    recall = recall_score(y_true_classes, y_pred_classes, average='weighted')\n",
        "    f1 = f1_score(y_true_classes, y_pred_classes, average='weighted')\n",
        "    cm = confusion_matrix(y_true_classes, y_pred_classes)\n",
        "\n",
        "    print(\"\\nModel Performance Metrics:\")\n",
        "    print(f\"Accuracy: {accuracy:.10f}\")\n",
        "    print(f\"Precision: {precision:.10f}\")\n",
        "    print(f\"Recall: {recall:.10f}\")\n",
        "    print(f\"F1-Score: {f1:.10f}\")\n",
        "    print(\"\\nConfusion Matrix:\")\n",
        "    print(cm)\n",
        "\n",
        "    return accuracy, precision, recall, f1\n",
        "\n",
        "# Function to analyze communication overhead\n",
        "def analyze_communication_overhead(local_weights, global_weights):\n",
        "    communication_cost = 0\n",
        "    for i in range(len(local_weights)):\n",
        "        communication_cost += sum(w.nbytes for w in local_weights[i])\n",
        "    communication_cost += sum(w.nbytes for w in global_weights)\n",
        "    print(f\"\\nCommunication Overhead: {communication_cost / (1024 ** 2):.2f} MB\")  # in MB\n",
        "\n",
        "# FedProx Local Training Function\n",
        "def train_fedprox(local_model, X, y, global_weights, mu=0.01, epochs=1, batch_size=16):\n",
        "    optimizer = tf.keras.optimizers.Adam()\n",
        "    loss_fn = tf.keras.losses.CategoricalCrossentropy()\n",
        "    train_dataset = tf.data.Dataset.from_tensor_slices((X, y)).batch(batch_size)\n",
        "\n",
        "    for epoch in range(epochs):\n",
        "        for step, (batch_x, batch_y) in enumerate(train_dataset):\n",
        "            with tf.GradientTape() as tape:\n",
        "                predictions = local_model(batch_x, training=True)\n",
        "                ce_loss = loss_fn(batch_y, predictions)\n",
        "                prox_term = tf.add_n([tf.reduce_sum(tf.square(w - gw))\n",
        "                                      for w, gw in zip(local_model.trainable_weights, global_weights)])\n",
        "                total_loss = ce_loss + (mu / 2.0) * prox_term\n",
        "            grads = tape.gradient(total_loss, local_model.trainable_weights)\n",
        "            optimizer.apply_gradients(zip(grads, local_model.trainable_weights))\n",
        "    return local_model.get_weights()\n",
        "\n",
        "# Federated Learning Simulation (FedProx)\n",
        "def federated_learning_simulation(X_train, y_train, X_test, y_test, num_clients=5):\n",
        "    client_data = np.array_split(X_train, num_clients)\n",
        "    client_labels = np.array_split(y_train, num_clients)\n",
        "\n",
        "    global_model = build_hybrid_model(input_shape, num_classes)\n",
        "    global_model.compile(optimizer='adam', loss='categorical_crossentropy', metrics=['accuracy'])\n",
        "    global_weights = global_model.get_weights()\n",
        "\n",
        "    latency_per_round = []\n",
        "\n",
        "    for round in range(15):\n",
        "        local_weights = []\n",
        "        start_time = time.time()\n",
        "\n",
        "        for i in range(num_clients):\n",
        "            local_model = build_hybrid_model(input_shape, num_classes)\n",
        "            local_model.set_weights(global_weights)\n",
        "            local_model.compile(optimizer='adam', loss='categorical_crossentropy', metrics=['accuracy'])\n",
        "\n",
        "            updated_weights = train_fedprox(local_model, client_data[i], client_labels[i], global_weights, mu=0.01)\n",
        "            local_weights.append(updated_weights)\n",
        "\n",
        "        global_weights = [\n",
        "            np.mean([local_weights[j][i] for j in range(num_clients)], axis=0)\n",
        "            for i in range(len(global_weights))\n",
        "        ]\n",
        "        global_model.set_weights(global_weights)\n",
        "\n",
        "        end_time = time.time()\n",
        "        latency = end_time - start_time\n",
        "        latency_per_round.append(latency)\n",
        "\n",
        "        analyze_communication_overhead(local_weights, global_weights)\n",
        "\n",
        "        loss, acc = global_model.evaluate(X_test, y_test, verbose=0)\n",
        "        print(f\"\\nRound {round + 1}: Global Model Accuracy = {acc:.10f}\")\n",
        "        evaluate_global_model(global_model, X_test, y_test)\n",
        "\n",
        "    print(\"\\nLatency Analysis:\")\n",
        "    print(f\"Average Latency per Round: {np.mean(latency_per_round):.2f} seconds\")\n",
        "    print(f\"Total Latency for 50 Rounds: {np.sum(latency_per_round):.2f} seconds\")\n",
        "\n",
        "# Note: Make sure build_hybrid_model, input_shape, and num_classes are defined in your environment before running.\n",
        "# Call the federated learning simulation function\n",
        "federated_learning_simulation(X_train, y_train, X_test, y_test)"
      ],
      "metadata": {
        "colab": {
          "base_uri": "https://localhost:8080/"
        },
        "id": "qLgWBn1P-m43",
        "outputId": "67b35150-20b5-46a6-a942-19184d1e1a24"
      },
      "execution_count": null,
      "outputs": [
        {
          "output_type": "stream",
          "name": "stderr",
          "text": [
            "/usr/local/lib/python3.11/dist-packages/keras/src/layers/core/input_layer.py:27: UserWarning: Argument `input_shape` is deprecated. Use `shape` instead.\n",
            "  warnings.warn(\n"
          ]
        },
        {
          "output_type": "stream",
          "name": "stdout",
          "text": [
            "\n",
            "Communication Overhead: 0.77 MB\n",
            "\n",
            "Round 1: Global Model Accuracy = 0.6572282910\n",
            "\u001b[1m10628/10628\u001b[0m \u001b[32m━━━━━━━━━━━━━━━━━━━━\u001b[0m\u001b[37m\u001b[0m \u001b[1m39s\u001b[0m 4ms/step\n",
            "\n",
            "Model Performance Metrics:\n",
            "Accuracy: 0.6572283027\n",
            "Precision: 0.6759722460\n",
            "Recall: 0.6572283027\n",
            "F1-Score: 0.6251508600\n",
            "\n",
            "Confusion Matrix:\n",
            "[[54476  6146  1786  3998  1607]\n",
            " [    0  8970 24691 22987 11365]\n",
            " [    0     0 36317 31696     0]\n",
            " [ 3951   329  3411 60320     3]\n",
            " [    0     1     0  4594 63418]]\n"
          ]
        },
        {
          "output_type": "stream",
          "name": "stderr",
          "text": [
            "/usr/local/lib/python3.11/dist-packages/keras/src/layers/core/input_layer.py:27: UserWarning: Argument `input_shape` is deprecated. Use `shape` instead.\n",
            "  warnings.warn(\n"
          ]
        },
        {
          "output_type": "stream",
          "name": "stdout",
          "text": [
            "\n",
            "Communication Overhead: 0.77 MB\n",
            "\n",
            "Round 2: Global Model Accuracy = 0.9013015032\n",
            "\u001b[1m10628/10628\u001b[0m \u001b[32m━━━━━━━━━━━━━━━━━━━━\u001b[0m\u001b[37m\u001b[0m \u001b[1m45s\u001b[0m 4ms/step\n",
            "\n",
            "Model Performance Metrics:\n",
            "Accuracy: 0.9013015121\n",
            "Precision: 0.9212482657\n",
            "Recall: 0.9013015121\n",
            "F1-Score: 0.8981534550\n",
            "\n",
            "Confusion Matrix:\n",
            "[[66278  1452    17   143   123]\n",
            " [   28 40925 27039    10    11]\n",
            " [    0     0 67925    88     0]\n",
            " [ 4257   311    52 63394     0]\n",
            " [    1    32     0     0 67980]]\n"
          ]
        },
        {
          "output_type": "stream",
          "name": "stderr",
          "text": [
            "/usr/local/lib/python3.11/dist-packages/keras/src/layers/core/input_layer.py:27: UserWarning: Argument `input_shape` is deprecated. Use `shape` instead.\n",
            "  warnings.warn(\n"
          ]
        },
        {
          "output_type": "stream",
          "name": "stdout",
          "text": [
            "\n",
            "Communication Overhead: 0.77 MB\n",
            "\n",
            "Round 3: Global Model Accuracy = 0.9009574652\n",
            "\u001b[1m10628/10628\u001b[0m \u001b[32m━━━━━━━━━━━━━━━━━━━━\u001b[0m\u001b[37m\u001b[0m \u001b[1m37s\u001b[0m 4ms/step\n",
            "\n",
            "Model Performance Metrics:\n",
            "Accuracy: 0.9009574612\n",
            "Precision: 0.9205790716\n",
            "Recall: 0.9009574612\n",
            "F1-Score: 0.8978300603\n",
            "\n",
            "Confusion Matrix:\n",
            "[[66361  1451     6    76   119]\n",
            " [   31 40925 27047    10     0]\n",
            " [    0     0 67918    95     0]\n",
            " [ 4272   303    26 63413     0]\n",
            " [    1   244     0     0 67768]]\n"
          ]
        },
        {
          "output_type": "stream",
          "name": "stderr",
          "text": [
            "/usr/local/lib/python3.11/dist-packages/keras/src/layers/core/input_layer.py:27: UserWarning: Argument `input_shape` is deprecated. Use `shape` instead.\n",
            "  warnings.warn(\n"
          ]
        },
        {
          "output_type": "stream",
          "name": "stdout",
          "text": [
            "\n",
            "Communication Overhead: 0.77 MB\n",
            "\n",
            "Round 4: Global Model Accuracy = 0.9019396305\n",
            "\u001b[1m10628/10628\u001b[0m \u001b[32m━━━━━━━━━━━━━━━━━━━━\u001b[0m\u001b[37m\u001b[0m \u001b[1m37s\u001b[0m 3ms/step\n",
            "\n",
            "Model Performance Metrics:\n",
            "Accuracy: 0.9019396235\n",
            "Precision: 0.9221261115\n",
            "Recall: 0.9019396235\n",
            "F1-Score: 0.8987809616\n",
            "\n",
            "Confusion Matrix:\n",
            "[[66422  1373     9    85   124]\n",
            " [   23 40940 27039    10     1]\n",
            " [    0     0 67930    83     0]\n",
            " [ 4298   256    28 63432     0]\n",
            " [    1    17     0     0 67995]]\n"
          ]
        },
        {
          "output_type": "stream",
          "name": "stderr",
          "text": [
            "/usr/local/lib/python3.11/dist-packages/keras/src/layers/core/input_layer.py:27: UserWarning: Argument `input_shape` is deprecated. Use `shape` instead.\n",
            "  warnings.warn(\n"
          ]
        },
        {
          "output_type": "stream",
          "name": "stdout",
          "text": [
            "\n",
            "Communication Overhead: 0.77 MB\n",
            "\n",
            "Round 5: Global Model Accuracy = 0.9022542834\n",
            "\u001b[1m10628/10628\u001b[0m \u001b[32m━━━━━━━━━━━━━━━━━━━━\u001b[0m\u001b[37m\u001b[0m \u001b[1m34s\u001b[0m 3ms/step\n",
            "\n",
            "Model Performance Metrics:\n",
            "Accuracy: 0.9022542683\n",
            "Precision: 0.9224384213\n",
            "Recall: 0.9022542683\n",
            "F1-Score: 0.8991099507\n",
            "\n",
            "Confusion Matrix:\n",
            "[[66498  1330     2    62   121]\n",
            " [   24 40997 26983     9     0]\n",
            " [    0     0 67930    83     0]\n",
            " [ 4319   257    26 63412     0]\n",
            " [    1    23     0     0 67989]]\n"
          ]
        },
        {
          "output_type": "stream",
          "name": "stderr",
          "text": [
            "/usr/local/lib/python3.11/dist-packages/keras/src/layers/core/input_layer.py:27: UserWarning: Argument `input_shape` is deprecated. Use `shape` instead.\n",
            "  warnings.warn(\n"
          ]
        },
        {
          "output_type": "stream",
          "name": "stdout",
          "text": [
            "\n",
            "Communication Overhead: 0.77 MB\n",
            "\n",
            "Round 6: Global Model Accuracy = 0.9022542834\n",
            "\u001b[1m10628/10628\u001b[0m \u001b[32m━━━━━━━━━━━━━━━━━━━━\u001b[0m\u001b[37m\u001b[0m \u001b[1m26s\u001b[0m 2ms/step\n",
            "\n",
            "Model Performance Metrics:\n",
            "Accuracy: 0.9022542683\n",
            "Precision: 0.9224094689\n",
            "Recall: 0.9022542683\n",
            "F1-Score: 0.8991054146\n",
            "\n",
            "Confusion Matrix:\n",
            "[[66450  1356     4    85   118]\n",
            " [    7 40980 27010    16     0]\n",
            " [    0     0 67903   110     0]\n",
            " [ 4273   225    10 63506     0]\n",
            " [    2    24     0     0 67987]]\n"
          ]
        },
        {
          "output_type": "stream",
          "name": "stderr",
          "text": [
            "/usr/local/lib/python3.11/dist-packages/keras/src/layers/core/input_layer.py:27: UserWarning: Argument `input_shape` is deprecated. Use `shape` instead.\n",
            "  warnings.warn(\n"
          ]
        },
        {
          "output_type": "stream",
          "name": "stdout",
          "text": [
            "\n",
            "Communication Overhead: 0.77 MB\n",
            "\n",
            "Round 7: Global Model Accuracy = 0.9032629132\n",
            "\u001b[1m10628/10628\u001b[0m \u001b[32m━━━━━━━━━━━━━━━━━━━━\u001b[0m\u001b[37m\u001b[0m \u001b[1m24s\u001b[0m 2ms/step\n",
            "\n",
            "Model Performance Metrics:\n",
            "Accuracy: 0.9032628960\n",
            "Precision: 0.9240957136\n",
            "Recall: 0.9032628960\n",
            "F1-Score: 0.9000740025\n",
            "\n",
            "Confusion Matrix:\n",
            "[[66835  1003     4    52   119]\n",
            " [   63 41004 26938     8     0]\n",
            " [    0     0 67970    43     0]\n",
            " [ 4383   233    29 63369     0]\n",
            " [    7    15     0     0 67991]]\n"
          ]
        },
        {
          "output_type": "stream",
          "name": "stderr",
          "text": [
            "/usr/local/lib/python3.11/dist-packages/keras/src/layers/core/input_layer.py:27: UserWarning: Argument `input_shape` is deprecated. Use `shape` instead.\n",
            "  warnings.warn(\n"
          ]
        }
      ]
    }
  ]
}