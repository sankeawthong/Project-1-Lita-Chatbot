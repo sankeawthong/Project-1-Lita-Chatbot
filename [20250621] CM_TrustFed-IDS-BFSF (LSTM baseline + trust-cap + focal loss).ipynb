{
  "cells": [
    {
      "cell_type": "markdown",
      "metadata": {
        "id": "view-in-github",
        "colab_type": "text"
      },
      "source": [
        "<a href=\"https://colab.research.google.com/github/sankeawthong/Project-1-Lita-Chatbot/blob/main/%5B20250621%5D%20CM_TrustFed-IDS-BFSF%20(LSTM%20baseline%20%2B%20trust-cap%20%2B%20focal%20loss).ipynb\" target=\"_parent\"><img src=\"https://colab.research.google.com/assets/colab-badge.svg\" alt=\"Open In Colab\"/></a>"
      ]
    },
    {
      "cell_type": "markdown",
      "source": [
        "**CM_TrustFed-IDS – WSN-BFSF  (LSTM baseline + trust-cap + focal loss)**"
      ],
      "metadata": {
        "id": "AM3CTg7_4F6z"
      }
    },
    {
      "cell_type": "code",
      "execution_count": 5,
      "metadata": {
        "id": "8M-ZBG_XgysZ"
      },
      "outputs": [],
      "source": [
        "#!/usr/bin/env python3\n",
        "# --------------------------------------------------------------------\n",
        "#  TrustFed-IDS – WSN-BFSF  (LSTM baseline + trust-cap + focal loss)\n",
        "# --------------------------------------------------------------------\n",
        "import os, time, psutil, numpy as np, pandas as pd, tensorflow as tf\n",
        "from tensorflow.keras import Sequential\n",
        "from tensorflow.keras.layers import InputLayer, LSTM, Dense, Dropout\n",
        "from tensorflow.keras.regularizers import l2\n",
        "from tensorflow.keras.utils import to_categorical\n",
        "from tensorflow.keras.optimizers.schedules import CosineDecay\n",
        "#from tensorflow_addons.losses import SigmoidFocalCrossEntropy\n",
        "from sklearn.preprocessing import StandardScaler, LabelEncoder\n",
        "from sklearn.model_selection import train_test_split\n",
        "from sklearn.utils.class_weight import compute_class_weight\n",
        "from imblearn.over_sampling import SMOTE\n",
        "from sklearn.metrics import accuracy_score, precision_score, recall_score, f1_score\n",
        "from scipy.spatial.distance import cosine\n",
        "# Import necessary components\n",
        "from tensorflow.keras.optimizers.schedules import CosineDecay\n",
        "# If tensorflow_addons is not installed, run: !pip install tensorflow-addons\n",
        "#from tensorflow_addons.losses import SigmoidFocalCrossEntropy\n",
        "from sklearn.utils.class_weight import compute_class_weight"
      ]
    },
    {
      "cell_type": "code",
      "execution_count": 6,
      "metadata": {
        "id": "Yz2SPdMhjokX"
      },
      "outputs": [],
      "source": [
        "from tensorflow.keras.optimizers.schedules import CosineDecay # Import CosineDecay from the correct path\n",
        "from sklearn.utils.class_weight import compute_class_weight # Import compute_class_weight"
      ]
    },
    {
      "cell_type": "code",
      "execution_count": 7,
      "metadata": {
        "id": "L-1hbM5yg5Cr"
      },
      "outputs": [],
      "source": [
        "# ------------------------------- CONFIG --------------------------------\n",
        "SEED, NUM_CLIENTS = 42, 5\n",
        "ROUNDS, LOCAL_EPOCHS = 75, 1           # shallow local, more rounds\n",
        "BATCH_SIZE, DIRICHLET_ALPHA = 32, 0.5\n",
        "HISTORY_KEEP = 6\n",
        "TRUST_ALPHA  = (0.30, 0.55, 0.15)      # sim, loss, stability\n",
        "LOG_DIR      = \"/mnt/data\"\n",
        "DATA_PATH    = \"dataset.csv\"  # update path if needed\n",
        "# -----------------------------------------------------------------------\n",
        "\n",
        "np.random.seed(SEED)\n",
        "tf.random.set_seed(SEED)\n",
        "\n",
        "# ---------------- 1. LOAD & TRAIN / TEST SPLIT -------------------------\n",
        "df = pd.read_csv(DATA_PATH).dropna()\n",
        "for col in df.select_dtypes(include=\"object\"):\n",
        "    df[col] = LabelEncoder().fit_transform(df[col])\n",
        "\n",
        "X_all = df.drop(\"Class\", axis=1).values.astype(\"float32\")\n",
        "y_all = df[\"Class\"].values.astype(\"int64\")\n",
        "\n",
        "X_tr, X_te, y_tr, y_te = train_test_split(\n",
        "    X_all, y_all, test_size=0.20, stratify=y_all, random_state=SEED)"
      ]
    },
    {
      "cell_type": "code",
      "execution_count": 8,
      "metadata": {
        "colab": {
          "base_uri": "https://localhost:8080/"
        },
        "id": "_kLg0gtFg5AY",
        "outputId": "66048305-589c-4dbd-f421-18163e1a94cb"
      },
      "outputs": [
        {
          "output_type": "stream",
          "name": "stderr",
          "text": [
            "/usr/local/lib/python3.11/dist-packages/keras/src/layers/core/input_layer.py:27: UserWarning: Argument `input_shape` is deprecated. Use `shape` instead.\n",
            "  warnings.warn(\n",
            "/usr/local/lib/python3.11/dist-packages/keras/src/layers/core/input_layer.py:27: UserWarning: Argument `input_shape` is deprecated. Use `shape` instead.\n",
            "  warnings.warn(\n"
          ]
        },
        {
          "output_type": "stream",
          "name": "stdout",
          "text": [
            "R01  acc=0.32323540  F1=0.39011901  MB=3.16658020\n"
          ]
        },
        {
          "output_type": "stream",
          "name": "stderr",
          "text": [
            "/usr/local/lib/python3.11/dist-packages/keras/src/layers/core/input_layer.py:27: UserWarning: Argument `input_shape` is deprecated. Use `shape` instead.\n",
            "  warnings.warn(\n"
          ]
        },
        {
          "output_type": "stream",
          "name": "stdout",
          "text": [
            "R02  acc=0.49320752  F1=0.58920530  MB=3.16658020\n"
          ]
        },
        {
          "output_type": "stream",
          "name": "stderr",
          "text": [
            "/usr/local/lib/python3.11/dist-packages/keras/src/layers/core/input_layer.py:27: UserWarning: Argument `input_shape` is deprecated. Use `shape` instead.\n",
            "  warnings.warn(\n"
          ]
        },
        {
          "output_type": "stream",
          "name": "stdout",
          "text": [
            "R03  acc=0.55691903  F1=0.65341459  MB=3.16658020\n"
          ]
        },
        {
          "output_type": "stream",
          "name": "stderr",
          "text": [
            "/usr/local/lib/python3.11/dist-packages/keras/src/layers/core/input_layer.py:27: UserWarning: Argument `input_shape` is deprecated. Use `shape` instead.\n",
            "  warnings.warn(\n"
          ]
        },
        {
          "output_type": "stream",
          "name": "stdout",
          "text": [
            "R04  acc=0.62104707  F1=0.70971309  MB=3.16658020\n"
          ]
        },
        {
          "output_type": "stream",
          "name": "stderr",
          "text": [
            "/usr/local/lib/python3.11/dist-packages/keras/src/layers/core/input_layer.py:27: UserWarning: Argument `input_shape` is deprecated. Use `shape` instead.\n",
            "  warnings.warn(\n"
          ]
        },
        {
          "output_type": "stream",
          "name": "stdout",
          "text": [
            "R05  acc=0.65632309  F1=0.73961237  MB=3.16658020\n"
          ]
        },
        {
          "output_type": "stream",
          "name": "stderr",
          "text": [
            "/usr/local/lib/python3.11/dist-packages/keras/src/layers/core/input_layer.py:27: UserWarning: Argument `input_shape` is deprecated. Use `shape` instead.\n",
            "  warnings.warn(\n"
          ]
        },
        {
          "output_type": "stream",
          "name": "stdout",
          "text": [
            "R06  acc=0.66293935  F1=0.74459868  MB=3.16658020\n"
          ]
        },
        {
          "output_type": "stream",
          "name": "stderr",
          "text": [
            "/usr/local/lib/python3.11/dist-packages/keras/src/layers/core/input_layer.py:27: UserWarning: Argument `input_shape` is deprecated. Use `shape` instead.\n",
            "  warnings.warn(\n"
          ]
        },
        {
          "output_type": "stream",
          "name": "stdout",
          "text": [
            "R07  acc=0.71244113  F1=0.78333886  MB=3.16658020\n"
          ]
        },
        {
          "output_type": "stream",
          "name": "stderr",
          "text": [
            "/usr/local/lib/python3.11/dist-packages/keras/src/layers/core/input_layer.py:27: UserWarning: Argument `input_shape` is deprecated. Use `shape` instead.\n",
            "  warnings.warn(\n"
          ]
        },
        {
          "output_type": "stream",
          "name": "stdout",
          "text": [
            "R08  acc=0.73315498  F1=0.79912736  MB=3.16658020\n"
          ]
        },
        {
          "output_type": "stream",
          "name": "stderr",
          "text": [
            "/usr/local/lib/python3.11/dist-packages/keras/src/layers/core/input_layer.py:27: UserWarning: Argument `input_shape` is deprecated. Use `shape` instead.\n",
            "  warnings.warn(\n"
          ]
        },
        {
          "output_type": "stream",
          "name": "stdout",
          "text": [
            "R09  acc=0.74481753  F1=0.80792125  MB=3.16658020\n"
          ]
        },
        {
          "output_type": "stream",
          "name": "stderr",
          "text": [
            "/usr/local/lib/python3.11/dist-packages/keras/src/layers/core/input_layer.py:27: UserWarning: Argument `input_shape` is deprecated. Use `shape` instead.\n",
            "  warnings.warn(\n"
          ]
        },
        {
          "output_type": "stream",
          "name": "stdout",
          "text": [
            "R10  acc=0.74994393  F1=0.81178887  MB=3.16658020\n"
          ]
        },
        {
          "output_type": "stream",
          "name": "stderr",
          "text": [
            "/usr/local/lib/python3.11/dist-packages/keras/src/layers/core/input_layer.py:27: UserWarning: Argument `input_shape` is deprecated. Use `shape` instead.\n",
            "  warnings.warn(\n"
          ]
        },
        {
          "output_type": "stream",
          "name": "stdout",
          "text": [
            "R11  acc=0.76516292  F1=0.82322311  MB=3.16658020\n"
          ]
        },
        {
          "output_type": "stream",
          "name": "stderr",
          "text": [
            "/usr/local/lib/python3.11/dist-packages/keras/src/layers/core/input_layer.py:27: UserWarning: Argument `input_shape` is deprecated. Use `shape` instead.\n",
            "  warnings.warn(\n"
          ]
        },
        {
          "output_type": "stream",
          "name": "stdout",
          "text": [
            "R12  acc=0.76702124  F1=0.82478728  MB=3.16658020\n"
          ]
        },
        {
          "output_type": "stream",
          "name": "stderr",
          "text": [
            "/usr/local/lib/python3.11/dist-packages/keras/src/layers/core/input_layer.py:27: UserWarning: Argument `input_shape` is deprecated. Use `shape` instead.\n",
            "  warnings.warn(\n"
          ]
        },
        {
          "output_type": "stream",
          "name": "stdout",
          "text": [
            "R13  acc=0.76923200  F1=0.82641149  MB=3.16658020\n"
          ]
        },
        {
          "output_type": "stream",
          "name": "stderr",
          "text": [
            "/usr/local/lib/python3.11/dist-packages/keras/src/layers/core/input_layer.py:27: UserWarning: Argument `input_shape` is deprecated. Use `shape` instead.\n",
            "  warnings.warn(\n"
          ]
        },
        {
          "output_type": "stream",
          "name": "stdout",
          "text": [
            "R14  acc=0.77118644  F1=0.82759952  MB=3.16658020\n"
          ]
        },
        {
          "output_type": "stream",
          "name": "stderr",
          "text": [
            "/usr/local/lib/python3.11/dist-packages/keras/src/layers/core/input_layer.py:27: UserWarning: Argument `input_shape` is deprecated. Use `shape` instead.\n",
            "  warnings.warn(\n"
          ]
        },
        {
          "output_type": "stream",
          "name": "stdout",
          "text": [
            "R15  acc=0.77748230  F1=0.83214626  MB=3.16658020\n"
          ]
        },
        {
          "output_type": "stream",
          "name": "stderr",
          "text": [
            "/usr/local/lib/python3.11/dist-packages/keras/src/layers/core/input_layer.py:27: UserWarning: Argument `input_shape` is deprecated. Use `shape` instead.\n",
            "  warnings.warn(\n"
          ]
        },
        {
          "output_type": "stream",
          "name": "stdout",
          "text": [
            "R16  acc=0.77250008  F1=0.82834608  MB=3.16658020\n"
          ]
        },
        {
          "output_type": "stream",
          "name": "stderr",
          "text": [
            "/usr/local/lib/python3.11/dist-packages/keras/src/layers/core/input_layer.py:27: UserWarning: Argument `input_shape` is deprecated. Use `shape` instead.\n",
            "  warnings.warn(\n"
          ]
        },
        {
          "output_type": "stream",
          "name": "stdout",
          "text": [
            "R17  acc=0.78517189  F1=0.83772127  MB=3.16658020\n"
          ]
        },
        {
          "output_type": "stream",
          "name": "stderr",
          "text": [
            "/usr/local/lib/python3.11/dist-packages/keras/src/layers/core/input_layer.py:27: UserWarning: Argument `input_shape` is deprecated. Use `shape` instead.\n",
            "  warnings.warn(\n"
          ]
        },
        {
          "output_type": "stream",
          "name": "stdout",
          "text": [
            "R18  acc=0.79023421  F1=0.84106114  MB=3.16658020\n"
          ]
        },
        {
          "output_type": "stream",
          "name": "stderr",
          "text": [
            "/usr/local/lib/python3.11/dist-packages/keras/src/layers/core/input_layer.py:27: UserWarning: Argument `input_shape` is deprecated. Use `shape` instead.\n",
            "  warnings.warn(\n"
          ]
        },
        {
          "output_type": "stream",
          "name": "stdout",
          "text": [
            "R19  acc=0.78595687  F1=0.83772543  MB=3.16658020\n"
          ]
        },
        {
          "output_type": "stream",
          "name": "stderr",
          "text": [
            "/usr/local/lib/python3.11/dist-packages/keras/src/layers/core/input_layer.py:27: UserWarning: Argument `input_shape` is deprecated. Use `shape` instead.\n",
            "  warnings.warn(\n"
          ]
        },
        {
          "output_type": "stream",
          "name": "stdout",
          "text": [
            "R20  acc=0.80269777  F1=0.85003157  MB=3.16658020\n"
          ]
        },
        {
          "output_type": "stream",
          "name": "stderr",
          "text": [
            "/usr/local/lib/python3.11/dist-packages/keras/src/layers/core/input_layer.py:27: UserWarning: Argument `input_shape` is deprecated. Use `shape` instead.\n",
            "  warnings.warn(\n"
          ]
        },
        {
          "output_type": "stream",
          "name": "stdout",
          "text": [
            "R21  acc=0.79481593  F1=0.84428354  MB=3.16658020\n"
          ]
        },
        {
          "output_type": "stream",
          "name": "stderr",
          "text": [
            "/usr/local/lib/python3.11/dist-packages/keras/src/layers/core/input_layer.py:27: UserWarning: Argument `input_shape` is deprecated. Use `shape` instead.\n",
            "  warnings.warn(\n"
          ]
        },
        {
          "output_type": "stream",
          "name": "stdout",
          "text": [
            "R22  acc=0.77450258  F1=0.82961637  MB=3.16658020\n"
          ]
        },
        {
          "output_type": "stream",
          "name": "stderr",
          "text": [
            "/usr/local/lib/python3.11/dist-packages/keras/src/layers/core/input_layer.py:27: UserWarning: Argument `input_shape` is deprecated. Use `shape` instead.\n",
            "  warnings.warn(\n"
          ]
        },
        {
          "output_type": "stream",
          "name": "stdout",
          "text": [
            "R23  acc=0.78642145  F1=0.83714371  MB=3.16658020\n"
          ]
        },
        {
          "output_type": "stream",
          "name": "stderr",
          "text": [
            "/usr/local/lib/python3.11/dist-packages/keras/src/layers/core/input_layer.py:27: UserWarning: Argument `input_shape` is deprecated. Use `shape` instead.\n",
            "  warnings.warn(\n"
          ]
        },
        {
          "output_type": "stream",
          "name": "stdout",
          "text": [
            "R24  acc=0.80208901  F1=0.84945121  MB=3.16658020\n"
          ]
        },
        {
          "output_type": "stream",
          "name": "stderr",
          "text": [
            "/usr/local/lib/python3.11/dist-packages/keras/src/layers/core/input_layer.py:27: UserWarning: Argument `input_shape` is deprecated. Use `shape` instead.\n",
            "  warnings.warn(\n"
          ]
        },
        {
          "output_type": "stream",
          "name": "stdout",
          "text": [
            "R25  acc=0.80460415  F1=0.85126536  MB=3.16658020\n"
          ]
        },
        {
          "output_type": "stream",
          "name": "stderr",
          "text": [
            "/usr/local/lib/python3.11/dist-packages/keras/src/layers/core/input_layer.py:27: UserWarning: Argument `input_shape` is deprecated. Use `shape` instead.\n",
            "  warnings.warn(\n"
          ]
        },
        {
          "output_type": "stream",
          "name": "stdout",
          "text": [
            "R26  acc=0.79923745  F1=0.84773333  MB=3.16658020\n"
          ]
        },
        {
          "output_type": "stream",
          "name": "stderr",
          "text": [
            "/usr/local/lib/python3.11/dist-packages/keras/src/layers/core/input_layer.py:27: UserWarning: Argument `input_shape` is deprecated. Use `shape` instead.\n",
            "  warnings.warn(\n"
          ]
        },
        {
          "output_type": "stream",
          "name": "stdout",
          "text": [
            "R27  acc=0.81194130  F1=0.85676235  MB=3.16658020\n"
          ]
        },
        {
          "output_type": "stream",
          "name": "stderr",
          "text": [
            "/usr/local/lib/python3.11/dist-packages/keras/src/layers/core/input_layer.py:27: UserWarning: Argument `input_shape` is deprecated. Use `shape` instead.\n",
            "  warnings.warn(\n"
          ]
        },
        {
          "output_type": "stream",
          "name": "stdout",
          "text": [
            "R28  acc=0.81211752  F1=0.85672493  MB=3.16658020\n"
          ]
        },
        {
          "output_type": "stream",
          "name": "stderr",
          "text": [
            "/usr/local/lib/python3.11/dist-packages/keras/src/layers/core/input_layer.py:27: UserWarning: Argument `input_shape` is deprecated. Use `shape` instead.\n",
            "  warnings.warn(\n"
          ]
        },
        {
          "output_type": "stream",
          "name": "stdout",
          "text": [
            "R29  acc=0.82124892  F1=0.86314364  MB=3.16658020\n"
          ]
        },
        {
          "output_type": "stream",
          "name": "stderr",
          "text": [
            "/usr/local/lib/python3.11/dist-packages/keras/src/layers/core/input_layer.py:27: UserWarning: Argument `input_shape` is deprecated. Use `shape` instead.\n",
            "  warnings.warn(\n"
          ]
        },
        {
          "output_type": "stream",
          "name": "stdout",
          "text": [
            "R30  acc=0.80047099  F1=0.84769457  MB=3.16658020\n"
          ]
        },
        {
          "output_type": "stream",
          "name": "stderr",
          "text": [
            "/usr/local/lib/python3.11/dist-packages/keras/src/layers/core/input_layer.py:27: UserWarning: Argument `input_shape` is deprecated. Use `shape` instead.\n",
            "  warnings.warn(\n"
          ]
        },
        {
          "output_type": "stream",
          "name": "stdout",
          "text": [
            "R31  acc=0.79100317  F1=0.84125076  MB=3.16658020\n"
          ]
        },
        {
          "output_type": "stream",
          "name": "stderr",
          "text": [
            "/usr/local/lib/python3.11/dist-packages/keras/src/layers/core/input_layer.py:27: UserWarning: Argument `input_shape` is deprecated. Use `shape` instead.\n",
            "  warnings.warn(\n"
          ]
        },
        {
          "output_type": "stream",
          "name": "stdout",
          "text": [
            "R32  acc=0.82134504  F1=0.86351966  MB=3.16658020\n"
          ]
        },
        {
          "output_type": "stream",
          "name": "stderr",
          "text": [
            "/usr/local/lib/python3.11/dist-packages/keras/src/layers/core/input_layer.py:27: UserWarning: Argument `input_shape` is deprecated. Use `shape` instead.\n",
            "  warnings.warn(\n"
          ]
        },
        {
          "output_type": "stream",
          "name": "stdout",
          "text": [
            "R33  acc=0.81761238  F1=0.86077377  MB=3.16658020\n"
          ]
        },
        {
          "output_type": "stream",
          "name": "stderr",
          "text": [
            "/usr/local/lib/python3.11/dist-packages/keras/src/layers/core/input_layer.py:27: UserWarning: Argument `input_shape` is deprecated. Use `shape` instead.\n",
            "  warnings.warn(\n"
          ]
        },
        {
          "output_type": "stream",
          "name": "stdout",
          "text": [
            "R34  acc=0.81035532  F1=0.85547806  MB=3.16658020\n"
          ]
        },
        {
          "output_type": "stream",
          "name": "stderr",
          "text": [
            "/usr/local/lib/python3.11/dist-packages/keras/src/layers/core/input_layer.py:27: UserWarning: Argument `input_shape` is deprecated. Use `shape` instead.\n",
            "  warnings.warn(\n"
          ]
        },
        {
          "output_type": "stream",
          "name": "stdout",
          "text": [
            "R35  acc=0.81093204  F1=0.85513989  MB=3.16658020\n"
          ]
        },
        {
          "output_type": "stream",
          "name": "stderr",
          "text": [
            "/usr/local/lib/python3.11/dist-packages/keras/src/layers/core/input_layer.py:27: UserWarning: Argument `input_shape` is deprecated. Use `shape` instead.\n",
            "  warnings.warn(\n"
          ]
        },
        {
          "output_type": "stream",
          "name": "stdout",
          "text": [
            "R36  acc=0.81601038  F1=0.85920964  MB=3.16658020\n"
          ]
        },
        {
          "output_type": "stream",
          "name": "stderr",
          "text": [
            "/usr/local/lib/python3.11/dist-packages/keras/src/layers/core/input_layer.py:27: UserWarning: Argument `input_shape` is deprecated. Use `shape` instead.\n",
            "  warnings.warn(\n"
          ]
        },
        {
          "output_type": "stream",
          "name": "stdout",
          "text": [
            "R37  acc=0.82238634  F1=0.86330180  MB=3.16658020\n"
          ]
        },
        {
          "output_type": "stream",
          "name": "stderr",
          "text": [
            "/usr/local/lib/python3.11/dist-packages/keras/src/layers/core/input_layer.py:27: UserWarning: Argument `input_shape` is deprecated. Use `shape` instead.\n",
            "  warnings.warn(\n"
          ]
        },
        {
          "output_type": "stream",
          "name": "stdout",
          "text": [
            "R38  acc=0.81940662  F1=0.86157629  MB=3.16658020\n"
          ]
        },
        {
          "output_type": "stream",
          "name": "stderr",
          "text": [
            "/usr/local/lib/python3.11/dist-packages/keras/src/layers/core/input_layer.py:27: UserWarning: Argument `input_shape` is deprecated. Use `shape` instead.\n",
            "  warnings.warn(\n"
          ]
        },
        {
          "output_type": "stream",
          "name": "stdout",
          "text": [
            "R39  acc=0.82507770  F1=0.86605185  MB=3.16658020\n"
          ]
        },
        {
          "output_type": "stream",
          "name": "stderr",
          "text": [
            "/usr/local/lib/python3.11/dist-packages/keras/src/layers/core/input_layer.py:27: UserWarning: Argument `input_shape` is deprecated. Use `shape` instead.\n",
            "  warnings.warn(\n"
          ]
        },
        {
          "output_type": "stream",
          "name": "stdout",
          "text": [
            "R40  acc=0.82214604  F1=0.86377421  MB=3.16658020\n"
          ]
        },
        {
          "output_type": "stream",
          "name": "stderr",
          "text": [
            "/usr/local/lib/python3.11/dist-packages/keras/src/layers/core/input_layer.py:27: UserWarning: Argument `input_shape` is deprecated. Use `shape` instead.\n",
            "  warnings.warn(\n"
          ]
        },
        {
          "output_type": "stream",
          "name": "stdout",
          "text": [
            "R41  acc=0.81083592  F1=0.85559984  MB=3.16658020\n"
          ]
        },
        {
          "output_type": "stream",
          "name": "stderr",
          "text": [
            "/usr/local/lib/python3.11/dist-packages/keras/src/layers/core/input_layer.py:27: UserWarning: Argument `input_shape` is deprecated. Use `shape` instead.\n",
            "  warnings.warn(\n"
          ]
        },
        {
          "output_type": "stream",
          "name": "stdout",
          "text": [
            "R42  acc=0.82472526  F1=0.86567500  MB=3.16658020\n"
          ]
        },
        {
          "output_type": "stream",
          "name": "stderr",
          "text": [
            "/usr/local/lib/python3.11/dist-packages/keras/src/layers/core/input_layer.py:27: UserWarning: Argument `input_shape` is deprecated. Use `shape` instead.\n",
            "  warnings.warn(\n"
          ]
        },
        {
          "output_type": "stream",
          "name": "stdout",
          "text": [
            "R43  acc=0.81830124  F1=0.85998625  MB=3.16658020\n"
          ]
        },
        {
          "output_type": "stream",
          "name": "stderr",
          "text": [
            "/usr/local/lib/python3.11/dist-packages/keras/src/layers/core/input_layer.py:27: UserWarning: Argument `input_shape` is deprecated. Use `shape` instead.\n",
            "  warnings.warn(\n"
          ]
        },
        {
          "output_type": "stream",
          "name": "stdout",
          "text": [
            "R44  acc=0.84145013  F1=0.87756805  MB=3.16658020\n"
          ]
        },
        {
          "output_type": "stream",
          "name": "stderr",
          "text": [
            "/usr/local/lib/python3.11/dist-packages/keras/src/layers/core/input_layer.py:27: UserWarning: Argument `input_shape` is deprecated. Use `shape` instead.\n",
            "  warnings.warn(\n"
          ]
        },
        {
          "output_type": "stream",
          "name": "stdout",
          "text": [
            "R45  acc=0.82257858  F1=0.86422176  MB=3.16658020\n"
          ]
        },
        {
          "output_type": "stream",
          "name": "stderr",
          "text": [
            "/usr/local/lib/python3.11/dist-packages/keras/src/layers/core/input_layer.py:27: UserWarning: Argument `input_shape` is deprecated. Use `shape` instead.\n",
            "  warnings.warn(\n"
          ]
        },
        {
          "output_type": "stream",
          "name": "stdout",
          "text": [
            "R46  acc=0.84188267  F1=0.87777497  MB=3.16658020\n"
          ]
        },
        {
          "output_type": "stream",
          "name": "stderr",
          "text": [
            "/usr/local/lib/python3.11/dist-packages/keras/src/layers/core/input_layer.py:27: UserWarning: Argument `input_shape` is deprecated. Use `shape` instead.\n",
            "  warnings.warn(\n"
          ]
        },
        {
          "output_type": "stream",
          "name": "stdout",
          "text": [
            "R47  acc=0.84830669  F1=0.88219912  MB=3.16658020\n"
          ]
        },
        {
          "output_type": "stream",
          "name": "stderr",
          "text": [
            "/usr/local/lib/python3.11/dist-packages/keras/src/layers/core/input_layer.py:27: UserWarning: Argument `input_shape` is deprecated. Use `shape` instead.\n",
            "  warnings.warn(\n"
          ]
        },
        {
          "output_type": "stream",
          "name": "stdout",
          "text": [
            "R48  acc=0.85384960  F1=0.88630604  MB=3.16658020\n"
          ]
        },
        {
          "output_type": "stream",
          "name": "stderr",
          "text": [
            "/usr/local/lib/python3.11/dist-packages/keras/src/layers/core/input_layer.py:27: UserWarning: Argument `input_shape` is deprecated. Use `shape` instead.\n",
            "  warnings.warn(\n"
          ]
        },
        {
          "output_type": "stream",
          "name": "stdout",
          "text": [
            "R49  acc=0.84221909  F1=0.87810320  MB=3.16658020\n"
          ]
        },
        {
          "output_type": "stream",
          "name": "stderr",
          "text": [
            "/usr/local/lib/python3.11/dist-packages/keras/src/layers/core/input_layer.py:27: UserWarning: Argument `input_shape` is deprecated. Use `shape` instead.\n",
            "  warnings.warn(\n"
          ]
        },
        {
          "output_type": "stream",
          "name": "stdout",
          "text": [
            "R50  acc=0.84122585  F1=0.87725167  MB=3.16658020\n"
          ]
        },
        {
          "output_type": "stream",
          "name": "stderr",
          "text": [
            "/usr/local/lib/python3.11/dist-packages/keras/src/layers/core/input_layer.py:27: UserWarning: Argument `input_shape` is deprecated. Use `shape` instead.\n",
            "  warnings.warn(\n"
          ]
        },
        {
          "output_type": "stream",
          "name": "stdout",
          "text": [
            "R51  acc=0.85537150  F1=0.88772825  MB=3.16658020\n"
          ]
        },
        {
          "output_type": "stream",
          "name": "stderr",
          "text": [
            "/usr/local/lib/python3.11/dist-packages/keras/src/layers/core/input_layer.py:27: UserWarning: Argument `input_shape` is deprecated. Use `shape` instead.\n",
            "  warnings.warn(\n"
          ]
        },
        {
          "output_type": "stream",
          "name": "stdout",
          "text": [
            "R52  acc=0.85301656  F1=0.88505483  MB=3.16658020\n"
          ]
        },
        {
          "output_type": "stream",
          "name": "stderr",
          "text": [
            "/usr/local/lib/python3.11/dist-packages/keras/src/layers/core/input_layer.py:27: UserWarning: Argument `input_shape` is deprecated. Use `shape` instead.\n",
            "  warnings.warn(\n"
          ]
        },
        {
          "output_type": "stream",
          "name": "stdout",
          "text": [
            "R53  acc=0.83847041  F1=0.87520961  MB=3.16658020\n"
          ]
        },
        {
          "output_type": "stream",
          "name": "stderr",
          "text": [
            "/usr/local/lib/python3.11/dist-packages/keras/src/layers/core/input_layer.py:27: UserWarning: Argument `input_shape` is deprecated. Use `shape` instead.\n",
            "  warnings.warn(\n"
          ]
        },
        {
          "output_type": "stream",
          "name": "stdout",
          "text": [
            "R54  acc=0.85125437  F1=0.88337087  MB=3.16658020\n"
          ]
        },
        {
          "output_type": "stream",
          "name": "stderr",
          "text": [
            "/usr/local/lib/python3.11/dist-packages/keras/src/layers/core/input_layer.py:27: UserWarning: Argument `input_shape` is deprecated. Use `shape` instead.\n",
            "  warnings.warn(\n"
          ]
        },
        {
          "output_type": "stream",
          "name": "stdout",
          "text": [
            "R55  acc=0.84468617  F1=0.88014215  MB=3.16658020\n"
          ]
        },
        {
          "output_type": "stream",
          "name": "stderr",
          "text": [
            "/usr/local/lib/python3.11/dist-packages/keras/src/layers/core/input_layer.py:27: UserWarning: Argument `input_shape` is deprecated. Use `shape` instead.\n",
            "  warnings.warn(\n"
          ]
        },
        {
          "output_type": "stream",
          "name": "stdout",
          "text": [
            "R56  acc=0.85239178  F1=0.88509090  MB=3.16658020\n"
          ]
        },
        {
          "output_type": "stream",
          "name": "stderr",
          "text": [
            "/usr/local/lib/python3.11/dist-packages/keras/src/layers/core/input_layer.py:27: UserWarning: Argument `input_shape` is deprecated. Use `shape` instead.\n",
            "  warnings.warn(\n"
          ]
        },
        {
          "output_type": "stream",
          "name": "stdout",
          "text": [
            "R57  acc=0.84982859  F1=0.88333981  MB=3.16658020\n"
          ]
        },
        {
          "output_type": "stream",
          "name": "stderr",
          "text": [
            "/usr/local/lib/python3.11/dist-packages/keras/src/layers/core/input_layer.py:27: UserWarning: Argument `input_shape` is deprecated. Use `shape` instead.\n",
            "  warnings.warn(\n"
          ]
        },
        {
          "output_type": "stream",
          "name": "stdout",
          "text": [
            "R58  acc=0.86253244  F1=0.89256384  MB=3.16658020\n"
          ]
        },
        {
          "output_type": "stream",
          "name": "stderr",
          "text": [
            "/usr/local/lib/python3.11/dist-packages/keras/src/layers/core/input_layer.py:27: UserWarning: Argument `input_shape` is deprecated. Use `shape` instead.\n",
            "  warnings.warn(\n"
          ]
        },
        {
          "output_type": "stream",
          "name": "stdout",
          "text": [
            "R59  acc=0.87930537  F1=0.90405046  MB=3.16658020\n"
          ]
        },
        {
          "output_type": "stream",
          "name": "stderr",
          "text": [
            "/usr/local/lib/python3.11/dist-packages/keras/src/layers/core/input_layer.py:27: UserWarning: Argument `input_shape` is deprecated. Use `shape` instead.\n",
            "  warnings.warn(\n"
          ]
        },
        {
          "output_type": "stream",
          "name": "stdout",
          "text": [
            "R60  acc=0.85364134  F1=0.88591251  MB=3.16658020\n"
          ]
        },
        {
          "output_type": "stream",
          "name": "stderr",
          "text": [
            "/usr/local/lib/python3.11/dist-packages/keras/src/layers/core/input_layer.py:27: UserWarning: Argument `input_shape` is deprecated. Use `shape` instead.\n",
            "  warnings.warn(\n"
          ]
        },
        {
          "output_type": "stream",
          "name": "stdout",
          "text": [
            "R61  acc=0.90975938  F1=0.92591326  MB=3.16658020\n"
          ]
        },
        {
          "output_type": "stream",
          "name": "stderr",
          "text": [
            "/usr/local/lib/python3.11/dist-packages/keras/src/layers/core/input_layer.py:27: UserWarning: Argument `input_shape` is deprecated. Use `shape` instead.\n",
            "  warnings.warn(\n"
          ]
        },
        {
          "output_type": "stream",
          "name": "stdout",
          "text": [
            "R62  acc=0.82744866  F1=0.86770740  MB=3.16658020\n"
          ]
        },
        {
          "output_type": "stream",
          "name": "stderr",
          "text": [
            "/usr/local/lib/python3.11/dist-packages/keras/src/layers/core/input_layer.py:27: UserWarning: Argument `input_shape` is deprecated. Use `shape` instead.\n",
            "  warnings.warn(\n"
          ]
        },
        {
          "output_type": "stream",
          "name": "stdout",
          "text": [
            "R63  acc=0.86845984  F1=0.89690757  MB=3.16658020\n"
          ]
        },
        {
          "output_type": "stream",
          "name": "stderr",
          "text": [
            "/usr/local/lib/python3.11/dist-packages/keras/src/layers/core/input_layer.py:27: UserWarning: Argument `input_shape` is deprecated. Use `shape` instead.\n",
            "  warnings.warn(\n"
          ]
        },
        {
          "output_type": "stream",
          "name": "stdout",
          "text": [
            "R64  acc=0.88899747  F1=0.91128422  MB=3.16658020\n"
          ]
        },
        {
          "output_type": "stream",
          "name": "stderr",
          "text": [
            "/usr/local/lib/python3.11/dist-packages/keras/src/layers/core/input_layer.py:27: UserWarning: Argument `input_shape` is deprecated. Use `shape` instead.\n",
            "  warnings.warn(\n"
          ]
        },
        {
          "output_type": "stream",
          "name": "stdout",
          "text": [
            "R65  acc=0.85461856  F1=0.88632742  MB=3.16658020\n"
          ]
        },
        {
          "output_type": "stream",
          "name": "stderr",
          "text": [
            "/usr/local/lib/python3.11/dist-packages/keras/src/layers/core/input_layer.py:27: UserWarning: Argument `input_shape` is deprecated. Use `shape` instead.\n",
            "  warnings.warn(\n"
          ]
        },
        {
          "output_type": "stream",
          "name": "stdout",
          "text": [
            "R66  acc=0.87489988  F1=0.90134164  MB=3.16658020\n"
          ]
        },
        {
          "output_type": "stream",
          "name": "stderr",
          "text": [
            "/usr/local/lib/python3.11/dist-packages/keras/src/layers/core/input_layer.py:27: UserWarning: Argument `input_shape` is deprecated. Use `shape` instead.\n",
            "  warnings.warn(\n"
          ]
        },
        {
          "output_type": "stream",
          "name": "stdout",
          "text": [
            "R67  acc=0.86115472  F1=0.89181934  MB=3.16658020\n"
          ]
        },
        {
          "output_type": "stream",
          "name": "stderr",
          "text": [
            "/usr/local/lib/python3.11/dist-packages/keras/src/layers/core/input_layer.py:27: UserWarning: Argument `input_shape` is deprecated. Use `shape` instead.\n",
            "  warnings.warn(\n"
          ]
        },
        {
          "output_type": "stream",
          "name": "stdout",
          "text": [
            "R68  acc=0.86173144  F1=0.89204314  MB=3.16658020\n"
          ]
        },
        {
          "output_type": "stream",
          "name": "stderr",
          "text": [
            "/usr/local/lib/python3.11/dist-packages/keras/src/layers/core/input_layer.py:27: UserWarning: Argument `input_shape` is deprecated. Use `shape` instead.\n",
            "  warnings.warn(\n"
          ]
        },
        {
          "output_type": "stream",
          "name": "stdout",
          "text": [
            "R69  acc=0.85439428  F1=0.88626000  MB=3.16658020\n"
          ]
        },
        {
          "output_type": "stream",
          "name": "stderr",
          "text": [
            "/usr/local/lib/python3.11/dist-packages/keras/src/layers/core/input_layer.py:27: UserWarning: Argument `input_shape` is deprecated. Use `shape` instead.\n",
            "  warnings.warn(\n"
          ]
        },
        {
          "output_type": "stream",
          "name": "stdout",
          "text": [
            "R70  acc=0.86564032  F1=0.89508088  MB=3.16658020\n"
          ]
        },
        {
          "output_type": "stream",
          "name": "stderr",
          "text": [
            "/usr/local/lib/python3.11/dist-packages/keras/src/layers/core/input_layer.py:27: UserWarning: Argument `input_shape` is deprecated. Use `shape` instead.\n",
            "  warnings.warn(\n"
          ]
        },
        {
          "output_type": "stream",
          "name": "stdout",
          "text": [
            "R71  acc=0.86126686  F1=0.89168588  MB=3.16658020\n"
          ]
        },
        {
          "output_type": "stream",
          "name": "stderr",
          "text": [
            "/usr/local/lib/python3.11/dist-packages/keras/src/layers/core/input_layer.py:27: UserWarning: Argument `input_shape` is deprecated. Use `shape` instead.\n",
            "  warnings.warn(\n"
          ]
        },
        {
          "output_type": "stream",
          "name": "stdout",
          "text": [
            "R72  acc=0.87989811  F1=0.90449114  MB=3.16658020\n"
          ]
        },
        {
          "output_type": "stream",
          "name": "stderr",
          "text": [
            "/usr/local/lib/python3.11/dist-packages/keras/src/layers/core/input_layer.py:27: UserWarning: Argument `input_shape` is deprecated. Use `shape` instead.\n",
            "  warnings.warn(\n"
          ]
        },
        {
          "output_type": "stream",
          "name": "stdout",
          "text": [
            "R73  acc=0.84156227  F1=0.87795799  MB=3.16658020\n"
          ]
        },
        {
          "output_type": "stream",
          "name": "stderr",
          "text": [
            "/usr/local/lib/python3.11/dist-packages/keras/src/layers/core/input_layer.py:27: UserWarning: Argument `input_shape` is deprecated. Use `shape` instead.\n",
            "  warnings.warn(\n"
          ]
        },
        {
          "output_type": "stream",
          "name": "stdout",
          "text": [
            "R74  acc=0.86365384  F1=0.89392028  MB=3.16658020\n"
          ]
        },
        {
          "output_type": "stream",
          "name": "stderr",
          "text": [
            "/usr/local/lib/python3.11/dist-packages/keras/src/layers/core/input_layer.py:27: UserWarning: Argument `input_shape` is deprecated. Use `shape` instead.\n",
            "  warnings.warn(\n"
          ]
        },
        {
          "output_type": "stream",
          "name": "stdout",
          "text": [
            "R75  acc=0.87350614  F1=0.90032818  MB=3.16658020\n"
          ]
        }
      ],
      "source": [
        "# ---------------- 1b. SCALER + SMOTE ON TRAIN ONLY ---------------------\n",
        "scaler = StandardScaler().fit(X_tr)\n",
        "X_tr, X_te = scaler.transform(X_tr), scaler.transform(X_te)\n",
        "X_tr, y_tr = SMOTE(random_state=SEED).fit_resample(X_tr, y_tr)\n",
        "\n",
        "# reshape to (samples, timesteps=T, features=1)\n",
        "X_tr, X_te = X_tr[..., None], X_te[..., None]\n",
        "num_classes = int(y_tr.max() + 1)\n",
        "y_te_cat    = to_categorical(y_te, num_classes)\n",
        "\n",
        "# ---------------- 2. DIRICHLET CLIENT SPLIT ----------------------------\n",
        "def dirichlet_split(X, y, k, alpha, rng):\n",
        "    idx_by_cls = {c: np.where(y == c)[0] for c in np.unique(y)}\n",
        "    clients = [[] for _ in range(k)]\n",
        "    for c, idx in idx_by_cls.items():\n",
        "        rng.shuffle(idx)\n",
        "        parts = (rng.dirichlet([alpha]*k) * len(idx)).astype(int)\n",
        "        while parts.sum() < len(idx):\n",
        "            parts[rng.randint(0, k)] += 1\n",
        "        start = 0\n",
        "        for cid, cnt in enumerate(parts):\n",
        "            clients[cid].extend(idx[start:start+cnt]); start += cnt\n",
        "    for lst in clients: rng.shuffle(lst)\n",
        "    return [X[l] for l in clients], [y[l] for l in clients]\n",
        "\n",
        "rng = np.random.RandomState(SEED)\n",
        "client_X_raw, client_y_raw = dirichlet_split(X_tr, y_tr, NUM_CLIENTS,\n",
        "                                             DIRICHLET_ALPHA, rng)\n",
        "client_X = client_X_raw\n",
        "client_y = [to_categorical(y, num_classes) for y in client_y_raw]\n",
        "input_shape = (X_tr.shape[1], 1)\n",
        "\n",
        "# ---------------- 3. MODEL BUILDER -------------------------------------\n",
        "def build_model(inp=input_shape, classes=num_classes):\n",
        "    lr_sched = CosineDecay(initial_learning_rate=5e-4,\n",
        "                           decay_steps=ROUNDS,\n",
        "                           alpha=0.4)  # floor = 0.4 × initial = 2e-4\n",
        "    opt = tf.keras.optimizers.Nadam(learning_rate=lr_sched, clipnorm=2.0)\n",
        "\n",
        "    m = Sequential([\n",
        "        InputLayer(input_shape=inp),\n",
        "        LSTM(128, activation='tanh', return_sequences=True,\n",
        "             kernel_regularizer=l2(5e-4)),\n",
        "        LSTM(64,  activation='tanh', kernel_regularizer=l2(5e-4)),\n",
        "        Dense(256, activation='relu'),\n",
        "        Dropout(0.20),                       # milder dropout\n",
        "        Dense(128, activation='relu'),\n",
        "        Dropout(0.25),\n",
        "        Dense(classes, activation='softmax')\n",
        "    ])\n",
        "    m.compile(opt, loss='categorical_crossentropy', metrics=['accuracy'])\n",
        "    return m\n",
        "\n",
        "# ---------------- 4. TRUST-FEDAVG UTILITIES ----------------------------\n",
        "def weight_update(local, global_):\n",
        "    return [l - g for l, g in zip(local, global_)]\n",
        "\n",
        "def vec_cos(a, b):\n",
        "    v1, v2 = np.concatenate([w.ravel() for w in a]), np.concatenate([w.ravel() for w in b])\n",
        "    return 0.0 if (np.all(v1 == 0) or np.all(v2 == 0)) else 1 - cosine(v1, v2)\n",
        "\n",
        "def stability(upd, hist):\n",
        "    if len(hist) < 2: return 1.0\n",
        "    return float(np.nanmean([vec_cos(upd, h) for h in hist[-HISTORY_KEEP:]]))\n",
        "\n",
        "def compute_trust(upd, vloss, hist):\n",
        "    lo, hi = min(vloss.values()), max(vloss.values())\n",
        "    trust = {}\n",
        "    for cid, u in upd.items():\n",
        "        score = (TRUST_ALPHA[0]*vec_cos(u, [np.zeros_like(w) for w in u]) +\n",
        "                 TRUST_ALPHA[1]*(1 - (vloss[cid]-lo)/(hi-lo+1e-8)) +\n",
        "                 TRUST_ALPHA[2]*stability(u, hist[cid]))\n",
        "        trust[cid] = max(score, 1e-6)\n",
        "    return trust\n",
        "\n",
        "def aggregate(w, t, n):\n",
        "    tot = sum(t[c]*n[c] for c in w)\n",
        "    return [sum(t[c]*n[c]*w[c][l] for c in w)/tot\n",
        "            for l in range(len(next(iter(w.values()))))]\n",
        "\n",
        "# ---------------- 5. INITIALISE ----------------------------------------\n",
        "g_model   = build_model()\n",
        "g_weights = g_model.get_weights()\n",
        "model_MB  = sum(w.nbytes for w in g_weights)/2**20\n",
        "\n",
        "history   = {c: [] for c in range(NUM_CLIENTS)}\n",
        "perf_log, comm_log, trust_log = [], [], []\n",
        "\n",
        "# class-weight dictionary (balanced)\n",
        "cls_wt = compute_class_weight('balanced',\n",
        "                              classes=np.arange(num_classes), y=y_tr)\n",
        "class_weight = dict(enumerate(cls_wt))\n",
        "\n",
        "# ---------------- 6. FEDERATED TRAINING --------------------------------\n",
        "for r in range(1, ROUNDS+1):\n",
        "    tic = time.time()\n",
        "    lw, upd, vloss, ns, bytes_out = {}, {}, {}, {}, 0\n",
        "\n",
        "    for cid in range(NUM_CLIENTS):\n",
        "        n_val = max(1, int(0.1*len(client_X[cid])))\n",
        "        Xv, yv = client_X[cid][:n_val], client_y[cid][:n_val]\n",
        "        Xt, yt = client_X[cid][n_val:], client_y[cid][n_val:]\n",
        "\n",
        "        local = build_model(); local.set_weights(g_weights)\n",
        "        local.fit(Xt, yt, epochs=LOCAL_EPOCHS, batch_size=BATCH_SIZE,\n",
        "                  verbose=0, class_weight=class_weight)\n",
        "\n",
        "        w = local.get_weights()\n",
        "        u = weight_update(w, g_weights)\n",
        "        l = local.evaluate(Xv, yv, verbose=0)[0]\n",
        "\n",
        "        lw[cid], upd[cid], vloss[cid], ns[cid] = w, u, l, len(Xt)\n",
        "        history[cid] = (history[cid] + [u])[-HISTORY_KEEP:]\n",
        "        bytes_out += sum(x.nbytes for x in w)\n",
        "\n",
        "    trust = compute_trust(upd, vloss, history)\n",
        "    g_weights = aggregate(lw, trust, ns)\n",
        "    g_model.set_weights(g_weights)\n",
        "\n",
        "    # ---- evaluation on test set ----\n",
        "    y_pred = np.argmax(g_model.predict(X_te, verbose=0), axis=1)\n",
        "    perf_log.append({\n",
        "        \"round\": r,\n",
        "        \"accuracy\":  accuracy_score(y_te, y_pred),\n",
        "        \"precision\": precision_score(y_te, y_pred, average='weighted', zero_division=0),\n",
        "        \"recall\":    recall_score(y_te, y_pred, average='weighted', zero_division=0),\n",
        "        \"f1\":        f1_score(y_te, y_pred, average='weighted', zero_division=0),\n",
        "        \"ms\": round((time.time()-tic)*1000, 2)\n",
        "    })\n",
        "    comm_log.append({\"round\": r, \"MB\": bytes_out/2**20})\n",
        "    trust_log.extend([{\"round\": r, \"client\": c, \"trust\": t}\n",
        "                      for c, t in trust.items()])\n",
        "\n",
        "    print(f\"R{r:02d}  acc={perf_log[-1]['accuracy']:.8f}  \"\n",
        "          f\"F1={perf_log[-1]['f1']:.8f}  MB={bytes_out/2**20:.8f}\")"
      ]
    },
    {
      "cell_type": "code",
      "execution_count": 9,
      "metadata": {
        "id": "r7VWI0mdg4-E",
        "colab": {
          "base_uri": "https://localhost:8080/"
        },
        "outputId": "b1cd3a6c-6ad8-4044-fa66-f87ca9c6e99a"
      },
      "outputs": [
        {
          "output_type": "stream",
          "name": "stdout",
          "text": [
            "\n",
            "✓ Focal-loss + trust-cap run complete – logs saved to /mnt/data\n"
          ]
        }
      ],
      "source": [
        "# ---------------- 7. SAVE LOGS -----------------------------------------\n",
        "os.makedirs(LOG_DIR, exist_ok=True)\n",
        "pd.DataFrame(perf_log ).to_csv(f\"{LOG_DIR}/perf_log_WSN-BFSF_focal.csv\",  index=False)\n",
        "pd.DataFrame(comm_log ).to_csv(f\"{LOG_DIR}/comm_log_WSN-BFSF_focal.csv\", index=False)\n",
        "pd.DataFrame(trust_log).to_csv(f\"{LOG_DIR}/trust_log_WSN-BFSF_focal.csv\", index=False)\n",
        "\n",
        "profile = {\n",
        "    \"Params_MB\": round(model_MB, 3),\n",
        "    \"Rounds\": ROUNDS,\n",
        "    \"Clients\": NUM_CLIENTS,\n",
        "    \"PeakMem_MB\": round(psutil.Process(os.getpid()).memory_info().rss/2**20, 2)\n",
        "}\n",
        "pd.DataFrame([profile]).to_csv(f\"{LOG_DIR}/model_profile_WSN-BFSF_focal.csv\", index=False)\n",
        "print(\"\\n✓ Focal-loss + trust-cap run complete – logs saved to\", LOG_DIR)"
      ]
    },
    {
      "cell_type": "code",
      "execution_count": 13,
      "metadata": {
        "id": "2RZ_rxaGhm8M",
        "colab": {
          "base_uri": "https://localhost:8080/"
        },
        "outputId": "80b9ec7c-d404-41d0-fd26-39205c330bec"
      },
      "outputs": [
        {
          "output_type": "stream",
          "name": "stdout",
          "text": [
            "Confusion-matrix CSV written to cm_dataset_FedAvg.csv\n",
            "Figure saved to cm_dataset_FedAvg.png\n"
          ]
        }
      ],
      "source": [
        "# ---------------------------------------------------------\n",
        "#  Confusion-matrix block  –  paste just before the script\n",
        "#  finishes (after the last evaluation / logging section).\n",
        "# ---------------------------------------------------------\n",
        "from sklearn.metrics import confusion_matrix\n",
        "import seaborn as sns\n",
        "import matplotlib.pyplot as plt\n",
        "import numpy as np\n",
        "\n",
        "# --- 1.  Re-evaluate the final model ---------------------\n",
        "#y_prob_final = global_model.predict(X_test, verbose=0)   # FedAvg script\n",
        "y_prob_final = g_model.predict(X_te, verbose=0)         # TrustFed script\n",
        "y_pred_final = np.argmax(y_prob_final, axis=1)\n",
        "y_true_final = y_te                                    # Use y_te instead of y_test\n",
        "\n",
        "# --- 2.  Confusion matrix (raw counts) ------------------\n",
        "cm = confusion_matrix(y_true_final, y_pred_final)\n",
        "\n",
        "# Optional: label list; replace with real class names if you have them\n",
        "class_labels = [f\"C{c}\" for c in range(cm.shape[0])]\n",
        "\n",
        "# --- 3.  Save the raw matrix for archival ---------------\n",
        "# Define DATA_PATH as the filename of the dataset\n",
        "DATA_PATH = \"dataset.csv\"\n",
        "# Construct the cm_path using the current directory\n",
        "cm_path = f\"cm_{DATA_PATH.split('/')[-1].split('.')[0]}_FedAvg.csv\" # Removed '/mnt/data/'\n",
        "np.savetxt(cm_path, cm, delimiter=\",\", fmt=\"%d\")\n",
        "print(\"Confusion-matrix CSV written to\", cm_path)\n",
        "\n",
        "# --- 4.  Make a heat-map figure -------------------------\n",
        "plt.figure(figsize=(4.5,4))\n",
        "sns.heatmap(cm,\n",
        "            annot=True, fmt='d', cmap='Blues', cbar=False,\n",
        "            xticklabels=class_labels, yticklabels=class_labels,\n",
        "            linewidths=.5, linecolor='grey')\n",
        "plt.xlabel(\"Predicted label\")\n",
        "plt.ylabel(\"True label\")\n",
        "# Use a fixed string \"FedAvg\" for the title\n",
        "plt.title(\"Confusion Matrix – FedAvg-IDS\")\n",
        "plt.tight_layout()\n",
        "\n",
        "fig_path = cm_path.replace(\".csv\", \".png\")\n",
        "plt.savefig(fig_path, dpi=300)        # -> e.g. cm_WSN-DS_FedAvg.png\n",
        "plt.close()\n",
        "print(\"Figure saved to\", fig_path)\n",
        "# ---------------------------------------------------------"
      ]
    }
  ],
  "metadata": {
    "colab": {
      "machine_shape": "hm",
      "provenance": [],
      "gpuType": "T4",
      "authorship_tag": "ABX9TyMKMricqFUh6DtUXi5k1q5R",
      "include_colab_link": true
    },
    "kernelspec": {
      "display_name": "Python 3",
      "name": "python3"
    },
    "language_info": {
      "name": "python"
    },
    "accelerator": "GPU"
  },
  "nbformat": 4,
  "nbformat_minor": 0
}