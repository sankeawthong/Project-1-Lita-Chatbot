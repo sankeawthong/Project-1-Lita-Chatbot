{
  "nbformat": 4,
  "nbformat_minor": 0,
  "metadata": {
    "colab": {
      "provenance": [],
      "authorship_tag": "ABX9TyP3cpQqLTZ0mvsKYAyfPyJo",
      "include_colab_link": true
    },
    "kernelspec": {
      "name": "python3",
      "display_name": "Python 3"
    },
    "language_info": {
      "name": "python"
    }
  },
  "cells": [
    {
      "cell_type": "markdown",
      "metadata": {
        "id": "view-in-github",
        "colab_type": "text"
      },
      "source": [
        "<a href=\"https://colab.research.google.com/github/sankeawthong/Project-1-Lita-Chatbot/blob/main/PJ%232_Hybrid%20DL-ML%20(20230804).ipynb\" target=\"_parent\"><img src=\"https://colab.research.google.com/assets/colab-badge.svg\" alt=\"Open In Colab\"/></a>"
      ]
    },
    {
      "cell_type": "code",
      "source": [
        "import pandas as pd\n",
        "import numpy as np"
      ],
      "metadata": {
        "id": "U3mGsv6d1YzS"
      },
      "execution_count": 55,
      "outputs": []
    },
    {
      "cell_type": "code",
      "source": [
        "# Load dataset\n",
        "dataset = pd.read_csv(\"dataset.csv\")\n",
        "dataset.shape\n",
        "dataset.isnull().sum()"
      ],
      "metadata": {
        "colab": {
          "base_uri": "https://localhost:8080/"
        },
        "id": "FSLqQVtd1rHJ",
        "outputId": "f46e5d27-059a-45ae-f66b-8b835ddf1de9"
      },
      "execution_count": 56,
      "outputs": [
        {
          "output_type": "execute_result",
          "data": {
            "text/plain": [
              "Event             0\n",
              "Time              0\n",
              "S_Node            0\n",
              "Node_id           0\n",
              "Rest_Energy       0\n",
              "Trace_Level       0\n",
              "Mac_Type_Pckt     0\n",
              "Source_IP_Port    0\n",
              "Des_IP_Port       0\n",
              "Packet_Size       0\n",
              "TTL               0\n",
              "Hop_Count         0\n",
              "Broadcast_ID      0\n",
              "Dest_Node_Num     0\n",
              "Dest_Seq_Num      0\n",
              "Src_Node_ID       0\n",
              "Src_Seq_Num       0\n",
              "Class             0\n",
              "dtype: int64"
            ]
          },
          "metadata": {},
          "execution_count": 56
        }
      ]
    },
    {
      "cell_type": "code",
      "source": [
        "dataset.info()"
      ],
      "metadata": {
        "colab": {
          "base_uri": "https://localhost:8080/"
        },
        "id": "kpd1RFdU1t2l",
        "outputId": "839211ce-6163-47e8-c599-19ea62baf0ca"
      },
      "execution_count": 58,
      "outputs": [
        {
          "output_type": "stream",
          "name": "stdout",
          "text": [
            "<class 'pandas.core.frame.DataFrame'>\n",
            "RangeIndex: 312106 entries, 0 to 312105\n",
            "Data columns (total 18 columns):\n",
            " #   Column          Non-Null Count   Dtype  \n",
            "---  ------          --------------   -----  \n",
            " 0   Event           312106 non-null  int64  \n",
            " 1   Time            312106 non-null  float64\n",
            " 2   S_Node          312106 non-null  int64  \n",
            " 3   Node_id         312106 non-null  int64  \n",
            " 4   Rest_Energy     312106 non-null  float64\n",
            " 5   Trace_Level     312106 non-null  int64  \n",
            " 6   Mac_Type_Pckt   312106 non-null  int64  \n",
            " 7   Source_IP_Port  312106 non-null  float64\n",
            " 8   Des_IP_Port     312106 non-null  float64\n",
            " 9   Packet_Size     312106 non-null  int64  \n",
            " 10  TTL             312106 non-null  int64  \n",
            " 11  Hop_Count       312106 non-null  int64  \n",
            " 12  Broadcast_ID    312106 non-null  int64  \n",
            " 13  Dest_Node_Num   312106 non-null  int64  \n",
            " 14  Dest_Seq_Num    312106 non-null  int64  \n",
            " 15  Src_Node_ID     312106 non-null  int64  \n",
            " 16  Src_Seq_Num     312106 non-null  int64  \n",
            " 17  Class           312106 non-null  int64  \n",
            "dtypes: float64(4), int64(14)\n",
            "memory usage: 42.9 MB\n"
          ]
        }
      ]
    },
    {
      "cell_type": "code",
      "source": [
        "dataset[\"Class\"].unique()"
      ],
      "metadata": {
        "colab": {
          "base_uri": "https://localhost:8080/"
        },
        "id": "XKVowJNZ1vVj",
        "outputId": "b89bcff9-f409-4924-a541-aed1379a72ae"
      },
      "execution_count": 59,
      "outputs": [
        {
          "output_type": "execute_result",
          "data": {
            "text/plain": [
              "array([0, 1, 2, 3])"
            ]
          },
          "metadata": {},
          "execution_count": 59
        }
      ]
    },
    {
      "cell_type": "code",
      "source": [
        "#Installing imblearn\n",
        "!pip install -U imbalanced-learn\n",
        "!pip install imbalanced-learn"
      ],
      "metadata": {
        "colab": {
          "base_uri": "https://localhost:8080/"
        },
        "id": "tOFDSFAK1yDx",
        "outputId": "3337e400-eb93-4bcc-b2c5-a439697c5bc9"
      },
      "execution_count": 60,
      "outputs": [
        {
          "output_type": "stream",
          "name": "stdout",
          "text": [
            "Looking in indexes: https://pypi.org/simple, https://us-python.pkg.dev/colab-wheels/public/simple/\n",
            "Requirement already satisfied: imbalanced-learn in /usr/local/lib/python3.9/dist-packages (0.10.1)\n",
            "Requirement already satisfied: threadpoolctl>=2.0.0 in /usr/local/lib/python3.9/dist-packages (from imbalanced-learn) (3.1.0)\n",
            "Requirement already satisfied: numpy>=1.17.3 in /usr/local/lib/python3.9/dist-packages (from imbalanced-learn) (1.22.4)\n",
            "Requirement already satisfied: scipy>=1.3.2 in /usr/local/lib/python3.9/dist-packages (from imbalanced-learn) (1.10.1)\n",
            "Requirement already satisfied: joblib>=1.1.1 in /usr/local/lib/python3.9/dist-packages (from imbalanced-learn) (1.1.1)\n",
            "Requirement already satisfied: scikit-learn>=1.0.2 in /usr/local/lib/python3.9/dist-packages (from imbalanced-learn) (1.2.2)\n",
            "Looking in indexes: https://pypi.org/simple, https://us-python.pkg.dev/colab-wheels/public/simple/\n",
            "Requirement already satisfied: imbalanced-learn in /usr/local/lib/python3.9/dist-packages (0.10.1)\n",
            "Requirement already satisfied: threadpoolctl>=2.0.0 in /usr/local/lib/python3.9/dist-packages (from imbalanced-learn) (3.1.0)\n",
            "Requirement already satisfied: scikit-learn>=1.0.2 in /usr/local/lib/python3.9/dist-packages (from imbalanced-learn) (1.2.2)\n",
            "Requirement already satisfied: joblib>=1.1.1 in /usr/local/lib/python3.9/dist-packages (from imbalanced-learn) (1.1.1)\n",
            "Requirement already satisfied: numpy>=1.17.3 in /usr/local/lib/python3.9/dist-packages (from imbalanced-learn) (1.22.4)\n",
            "Requirement already satisfied: scipy>=1.3.2 in /usr/local/lib/python3.9/dist-packages (from imbalanced-learn) (1.10.1)\n"
          ]
        }
      ]
    },
    {
      "cell_type": "code",
      "source": [
        "# check version number\n",
        "import imblearn\n",
        "print(imblearn.__version__)"
      ],
      "metadata": {
        "colab": {
          "base_uri": "https://localhost:8080/"
        },
        "id": "A4OLsRXB109b",
        "outputId": "82db0e97-d7cc-4e56-816a-11a80b3c3bac"
      },
      "execution_count": 61,
      "outputs": [
        {
          "output_type": "stream",
          "name": "stdout",
          "text": [
            "0.10.1\n"
          ]
        }
      ]
    },
    {
      "cell_type": "code",
      "source": [
        "# Data preprocessing\n",
        "y = dataset['Class'].values\n",
        "X = dataset.drop(['Class'],axis=1)\n",
        "X=X.values\n",
        "print(X)\n",
        "print(y)"
      ],
      "metadata": {
        "colab": {
          "base_uri": "https://localhost:8080/"
        },
        "id": "1rZP7_3G123F",
        "outputId": "777dcd64-7605-4a5d-d497-936945d9cdcb"
      },
      "execution_count": 75,
      "outputs": [
        {
          "output_type": "stream",
          "name": "stdout",
          "text": [
            "[[1.00000000e+00 1.00000000e-01 7.90000000e+01 ... 0.00000000e+00\n",
            "  7.90000000e+01 4.00000000e+00]\n",
            " [2.00000000e+00 1.00963167e-01 7.80000000e+01 ... 0.00000000e+00\n",
            "  7.90000000e+01 4.00000000e+00]\n",
            " [2.00000000e+00 1.00963500e-01 7.60000000e+01 ... 0.00000000e+00\n",
            "  7.90000000e+01 4.00000000e+00]\n",
            " ...\n",
            " [4.00000000e+00 6.57891729e+02 1.40000000e+02 ... 1.60000000e+01\n",
            "  1.40000000e+02 7.60000000e+01]\n",
            " [4.00000000e+00 6.58574656e+02 1.40000000e+02 ... 1.60000000e+01\n",
            "  1.40000000e+02 8.00000000e+01]\n",
            " [4.00000000e+00 6.79054956e+02 1.40000000e+02 ... 1.60000000e+01\n",
            "  1.40000000e+02 9.00000000e+01]]\n",
            "[0 0 0 ... 1 1 1]\n"
          ]
        }
      ]
    },
    {
      "cell_type": "code",
      "source": [
        "import collections as c\n",
        "counter = c.Counter(y)\n",
        "print(counter)"
      ],
      "metadata": {
        "colab": {
          "base_uri": "https://localhost:8080/"
        },
        "id": "lQHdE5e52EqD",
        "outputId": "43c239a0-cc25-4290-e2df-1d492fee6929"
      },
      "execution_count": 63,
      "outputs": [
        {
          "output_type": "stream",
          "name": "stdout",
          "text": [
            "Counter({0: 262851, 3: 29844, 1: 11766, 2: 7645})\n"
          ]
        }
      ]
    },
    {
      "cell_type": "code",
      "source": [
        "y"
      ],
      "metadata": {
        "colab": {
          "base_uri": "https://localhost:8080/"
        },
        "id": "lnUHAm7C3Dgf",
        "outputId": "6cf08c70-4b72-404c-abad-03229d2e1c8c"
      },
      "execution_count": 64,
      "outputs": [
        {
          "output_type": "execute_result",
          "data": {
            "text/plain": [
              "array([0, 0, 0, ..., 1, 1, 1])"
            ]
          },
          "metadata": {},
          "execution_count": 64
        }
      ]
    },
    {
      "cell_type": "markdown",
      "source": [
        "### **SMOTE**"
      ],
      "metadata": {
        "id": "Uu0-q8BICANq"
      }
    },
    {
      "cell_type": "code",
      "source": [
        "from imblearn.over_sampling import SMOTE\n",
        "oversample = SMOTE()\n",
        "X, y = oversample.fit_resample(X, y)\n",
        "counter = c.Counter(y)\n",
        "print(counter)"
      ],
      "metadata": {
        "colab": {
          "base_uri": "https://localhost:8080/"
        },
        "id": "jmkseCQH17X2",
        "outputId": "6eddd629-0cf2-4136-f1d2-2bad3e644727"
      },
      "execution_count": 65,
      "outputs": [
        {
          "output_type": "stream",
          "name": "stdout",
          "text": [
            "Counter({0: 262851, 1: 262851, 2: 262851, 3: 262851})\n"
          ]
        }
      ]
    },
    {
      "cell_type": "markdown",
      "source": [
        "### **Data Preprocessing for Train and Testing**"
      ],
      "metadata": {
        "id": "yM4vCuWx3yYn"
      }
    },
    {
      "cell_type": "markdown",
      "source": [
        "This code first loads the dataset and performs the necessary data preprocessing steps, including one-hot encoding the target variable and oversampling using SMOTE to address class imbalance.\n",
        "\n",
        "Then, the dataset is split into training and testing sets, and the training set is reshaped for input to the CNN model.\n",
        "\n",
        "The CNN model is built and compiled using the Keras library, and is then trained on the training set.\n",
        "\n",
        "The CNN is then used to extract features from both the training and testing sets, which are then used as input to the RF model. The RF model is trained on the CNN features and evaluated on the testing set using classification report and confusion matrix.\n",
        "\n",
        "Note that the final predictions in this code are made using the RF model on CNN features, not the CNN model itself."
      ],
      "metadata": {
        "id": "MtuEFneoNOKZ"
      }
    },
    {
      "cell_type": "code",
      "source": [
        "from sklearn.model_selection import train_test_split    \n",
        "X_train, X_test, y_train, y_test = train_test_split(X, y, test_size=0.2, random_state=101)"
      ],
      "metadata": {
        "id": "MFpA6kLX1_Px"
      },
      "execution_count": 66,
      "outputs": []
    },
    {
      "cell_type": "code",
      "source": [
        "y_test"
      ],
      "metadata": {
        "colab": {
          "base_uri": "https://localhost:8080/"
        },
        "id": "4BGQVIPL31vy",
        "outputId": "34314f67-5994-418c-cb44-5e76e63888aa"
      },
      "execution_count": 67,
      "outputs": [
        {
          "output_type": "execute_result",
          "data": {
            "text/plain": [
              "array([0, 0, 0, ..., 0, 0, 2])"
            ]
          },
          "metadata": {},
          "execution_count": 67
        }
      ]
    },
    {
      "cell_type": "code",
      "source": [
        "from keras.models import Sequential\n",
        "from keras.layers import Conv2D, MaxPooling2D, Flatten, Dense, Dropout, Reshape\n",
        "from keras.utils import to_categorical\n",
        "from sklearn.model_selection import train_test_split\n",
        "from sklearn.metrics import classification_report, confusion_matrix\n",
        "from sklearn.ensemble import RandomForestClassifier"
      ],
      "metadata": {
        "id": "Xny9n73H3RPR"
      },
      "execution_count": 71,
      "outputs": []
    },
    {
      "cell_type": "code",
      "execution_count": 73,
      "metadata": {
        "colab": {
          "base_uri": "https://localhost:8080/"
        },
        "id": "QdFGiu8C0vS8",
        "outputId": "4a35fcad-919f-490a-a666-1b77a8d997f7"
      },
      "outputs": [
        {
          "output_type": "stream",
          "name": "stdout",
          "text": [
            "Epoch 1/10\n",
            "26286/26286 [==============================] - 160s 6ms/step - loss: 0.2900 - accuracy: 0.8838 - val_loss: 0.2275 - val_accuracy: 0.9169\n",
            "Epoch 2/10\n",
            "26286/26286 [==============================] - 180s 7ms/step - loss: 0.1907 - accuracy: 0.9276 - val_loss: 0.1417 - val_accuracy: 0.9430\n",
            "Epoch 3/10\n",
            "26286/26286 [==============================] - 207s 8ms/step - loss: 0.1771 - accuracy: 0.9337 - val_loss: 0.1539 - val_accuracy: 0.9387\n",
            "Epoch 4/10\n",
            "26286/26286 [==============================] - 206s 8ms/step - loss: 0.1694 - accuracy: 0.9369 - val_loss: 0.1229 - val_accuracy: 0.9539\n",
            "Epoch 5/10\n",
            "26286/26286 [==============================] - 205s 8ms/step - loss: 0.1524 - accuracy: 0.9441 - val_loss: 0.3729 - val_accuracy: 0.9027\n",
            "Epoch 6/10\n",
            "26286/26286 [==============================] - 213s 8ms/step - loss: 0.1399 - accuracy: 0.9508 - val_loss: 0.0951 - val_accuracy: 0.9688\n",
            "Epoch 7/10\n",
            "26286/26286 [==============================] - 210s 8ms/step - loss: 0.1337 - accuracy: 0.9535 - val_loss: 0.0902 - val_accuracy: 0.9685\n",
            "Epoch 8/10\n",
            "26286/26286 [==============================] - 219s 8ms/step - loss: 0.1309 - accuracy: 0.9553 - val_loss: 0.0810 - val_accuracy: 0.9722\n",
            "Epoch 9/10\n",
            "26286/26286 [==============================] - 216s 8ms/step - loss: 0.1268 - accuracy: 0.9568 - val_loss: 0.1057 - val_accuracy: 0.9666\n",
            "Epoch 10/10\n",
            "26286/26286 [==============================] - 210s 8ms/step - loss: 0.1264 - accuracy: 0.9569 - val_loss: 0.2112 - val_accuracy: 0.9136\n",
            "26286/26286 [==============================] - 27s 1ms/step\n",
            "6572/6572 [==============================] - 7s 996us/step\n"
          ]
        }
      ],
      "source": [
        "# Data preprocessing\n",
        "y = dataset['Class'].values\n",
        "X = dataset.drop(['Class'], axis=1)\n",
        "X = X.values\n",
        "\n",
        "# One-hot encode y\n",
        "y = to_categorical(y)\n",
        "\n",
        "from imblearn.over_sampling import SMOTE\n",
        "oversample = SMOTE()\n",
        "X, y = oversample.fit_resample(X, y)\n",
        "\n",
        "# Split dataset into training and testing sets\n",
        "X_train, X_test, y_train, y_test = train_test_split(X, y, test_size=0.2, random_state=101)\n",
        "\n",
        "# One-hot encode y\n",
        "y = to_categorical(y)\n",
        "\n",
        "# Reshape data for input to Conv2D\n",
        "X_train = np.reshape(X_train, (X_train.shape[0], 1, X_train.shape[1], 1))\n",
        "X_test = np.reshape(X_test, (X_test.shape[0], 1, X_test.shape[1], 1))\n",
        "\n",
        "\n",
        "model = Sequential()\n",
        "model.add(Reshape((1, X_train.shape[2], 1), input_shape=(1, X_train.shape[2])))\n",
        "model.add(Conv2D(32, (3,3), padding='same', activation='relu'))\n",
        "model.add(Conv2D(32, (3,3), padding='same', activation='relu'))\n",
        "model.add(MaxPooling2D(pool_size=(2,2), padding='same'))\n",
        "model.add(Conv2D(64, (3,3), padding='same', activation='relu'))\n",
        "model.add(MaxPooling2D(pool_size=(2,2), padding='same'))\n",
        "model.add(Flatten())\n",
        "model.add(Dense(128, activation='relu'))\n",
        "model.add(Dropout(0.5))\n",
        "model.add(Dense(4, activation='softmax'))\n",
        "\n",
        "# Compile model\n",
        "model.compile(loss='categorical_crossentropy', optimizer='adam', metrics=['accuracy'])\n",
        "\n",
        "# Train model\n",
        "##history = model.fit(X_train, y_train, epochs=10, batch_size=32, validation_data=(X_test, y_test))\n",
        "\n",
        "# Train model\n",
        "history = model.fit(X_train, y_train, epochs=10, batch_size=32, validation_data=(X_test, y_test))\n",
        "\n",
        "# Use CNN to extract features\n",
        "X_train_cnn_features = cnn_model.predict(X_train_cnn)\n",
        "X_test_cnn_features = cnn_model.predict(X_test_cnn)\n"
      ]
    },
    {
      "cell_type": "code",
      "source": [
        "# Use CNN to extract features\n",
        "X_train_cnn_features = cnn_model.predict(X_train_cnn)\n",
        "X_test_cnn_features = cnn_model.predict(X_test_cnn)\n",
        "\n",
        "# Flatten the last 2 dimensions of X_train_cnn_features\n",
        "X_train_cnn_features = np.reshape(X_train_cnn_features, (X_train_cnn_features.shape[0], -1))\n",
        "X_test_cnn_features = np.reshape(X_test_cnn_features, (X_test_cnn_features.shape[0], -1))\n",
        "\n",
        "# Build RF model\n",
        "rf_model = RandomForestClassifier(n_estimators=100, random_state=101)\n",
        "\n",
        "# Train RF model on CNN features\n",
        "rf_model.fit(X_train_cnn_features, np.argmax(y_train, axis=1))\n"
      ],
      "metadata": {
        "colab": {
          "base_uri": "https://localhost:8080/",
          "height": 109
        },
        "id": "ayirtlp5O3Zb",
        "outputId": "47c409e0-ca52-4465-8984-6ef53fc7b6a1"
      },
      "execution_count": 76,
      "outputs": [
        {
          "output_type": "stream",
          "name": "stdout",
          "text": [
            "26286/26286 [==============================] - 30s 1ms/step\n",
            "6572/6572 [==============================] - 8s 1ms/step\n"
          ]
        },
        {
          "output_type": "execute_result",
          "data": {
            "text/plain": [
              "RandomForestClassifier(random_state=101)"
            ],
            "text/html": [
              "<style>#sk-container-id-1 {color: black;background-color: white;}#sk-container-id-1 pre{padding: 0;}#sk-container-id-1 div.sk-toggleable {background-color: white;}#sk-container-id-1 label.sk-toggleable__label {cursor: pointer;display: block;width: 100%;margin-bottom: 0;padding: 0.3em;box-sizing: border-box;text-align: center;}#sk-container-id-1 label.sk-toggleable__label-arrow:before {content: \"▸\";float: left;margin-right: 0.25em;color: #696969;}#sk-container-id-1 label.sk-toggleable__label-arrow:hover:before {color: black;}#sk-container-id-1 div.sk-estimator:hover label.sk-toggleable__label-arrow:before {color: black;}#sk-container-id-1 div.sk-toggleable__content {max-height: 0;max-width: 0;overflow: hidden;text-align: left;background-color: #f0f8ff;}#sk-container-id-1 div.sk-toggleable__content pre {margin: 0.2em;color: black;border-radius: 0.25em;background-color: #f0f8ff;}#sk-container-id-1 input.sk-toggleable__control:checked~div.sk-toggleable__content {max-height: 200px;max-width: 100%;overflow: auto;}#sk-container-id-1 input.sk-toggleable__control:checked~label.sk-toggleable__label-arrow:before {content: \"▾\";}#sk-container-id-1 div.sk-estimator input.sk-toggleable__control:checked~label.sk-toggleable__label {background-color: #d4ebff;}#sk-container-id-1 div.sk-label input.sk-toggleable__control:checked~label.sk-toggleable__label {background-color: #d4ebff;}#sk-container-id-1 input.sk-hidden--visually {border: 0;clip: rect(1px 1px 1px 1px);clip: rect(1px, 1px, 1px, 1px);height: 1px;margin: -1px;overflow: hidden;padding: 0;position: absolute;width: 1px;}#sk-container-id-1 div.sk-estimator {font-family: monospace;background-color: #f0f8ff;border: 1px dotted black;border-radius: 0.25em;box-sizing: border-box;margin-bottom: 0.5em;}#sk-container-id-1 div.sk-estimator:hover {background-color: #d4ebff;}#sk-container-id-1 div.sk-parallel-item::after {content: \"\";width: 100%;border-bottom: 1px solid gray;flex-grow: 1;}#sk-container-id-1 div.sk-label:hover label.sk-toggleable__label {background-color: #d4ebff;}#sk-container-id-1 div.sk-serial::before {content: \"\";position: absolute;border-left: 1px solid gray;box-sizing: border-box;top: 0;bottom: 0;left: 50%;z-index: 0;}#sk-container-id-1 div.sk-serial {display: flex;flex-direction: column;align-items: center;background-color: white;padding-right: 0.2em;padding-left: 0.2em;position: relative;}#sk-container-id-1 div.sk-item {position: relative;z-index: 1;}#sk-container-id-1 div.sk-parallel {display: flex;align-items: stretch;justify-content: center;background-color: white;position: relative;}#sk-container-id-1 div.sk-item::before, #sk-container-id-1 div.sk-parallel-item::before {content: \"\";position: absolute;border-left: 1px solid gray;box-sizing: border-box;top: 0;bottom: 0;left: 50%;z-index: -1;}#sk-container-id-1 div.sk-parallel-item {display: flex;flex-direction: column;z-index: 1;position: relative;background-color: white;}#sk-container-id-1 div.sk-parallel-item:first-child::after {align-self: flex-end;width: 50%;}#sk-container-id-1 div.sk-parallel-item:last-child::after {align-self: flex-start;width: 50%;}#sk-container-id-1 div.sk-parallel-item:only-child::after {width: 0;}#sk-container-id-1 div.sk-dashed-wrapped {border: 1px dashed gray;margin: 0 0.4em 0.5em 0.4em;box-sizing: border-box;padding-bottom: 0.4em;background-color: white;}#sk-container-id-1 div.sk-label label {font-family: monospace;font-weight: bold;display: inline-block;line-height: 1.2em;}#sk-container-id-1 div.sk-label-container {text-align: center;}#sk-container-id-1 div.sk-container {/* jupyter's `normalize.less` sets `[hidden] { display: none; }` but bootstrap.min.css set `[hidden] { display: none !important; }` so we also need the `!important` here to be able to override the default hidden behavior on the sphinx rendered scikit-learn.org. See: https://github.com/scikit-learn/scikit-learn/issues/21755 */display: inline-block !important;position: relative;}#sk-container-id-1 div.sk-text-repr-fallback {display: none;}</style><div id=\"sk-container-id-1\" class=\"sk-top-container\"><div class=\"sk-text-repr-fallback\"><pre>RandomForestClassifier(random_state=101)</pre><b>In a Jupyter environment, please rerun this cell to show the HTML representation or trust the notebook. <br />On GitHub, the HTML representation is unable to render, please try loading this page with nbviewer.org.</b></div><div class=\"sk-container\" hidden><div class=\"sk-item\"><div class=\"sk-estimator sk-toggleable\"><input class=\"sk-toggleable__control sk-hidden--visually\" id=\"sk-estimator-id-1\" type=\"checkbox\" checked><label for=\"sk-estimator-id-1\" class=\"sk-toggleable__label sk-toggleable__label-arrow\">RandomForestClassifier</label><div class=\"sk-toggleable__content\"><pre>RandomForestClassifier(random_state=101)</pre></div></div></div></div></div>"
            ]
          },
          "metadata": {},
          "execution_count": 76
        }
      ]
    },
    {
      "cell_type": "code",
      "source": [
        "# Build RF model\n",
        "##rf_model = RandomForestClassifier(n_estimators=100, random_state=101)\n",
        "\n",
        "# Train RF model on CNN features\n",
        "##rf_model.fit(X_train_cnn_features, np.argmax(y_train, axis=1))\n",
        "\n",
        "# Evaluate RF model on CNN features\n",
        "y_pred_rf = rf_model.predict(X_test_cnn_features)\n",
        "y_test_rf = np.argmax(y_test, axis=1)\n",
        "print(classification_report(y_test_rf, y_pred_rf))\n",
        "print(confusion_matrix(y_test_rf, y_pred_rf))"
      ],
      "metadata": {
        "colab": {
          "base_uri": "https://localhost:8080/"
        },
        "id": "FZ8jjMce-KgC",
        "outputId": "d5706d74-4cc3-4bb5-8426-b4912039efa1"
      },
      "execution_count": 77,
      "outputs": [
        {
          "output_type": "stream",
          "name": "stdout",
          "text": [
            "              precision    recall  f1-score   support\n",
            "\n",
            "           0       1.00      1.00      1.00     52500\n",
            "           1       1.00      1.00      1.00     52554\n",
            "           2       1.00      1.00      1.00     52545\n",
            "           3       1.00      1.00      1.00     52682\n",
            "\n",
            "    accuracy                           1.00    210281\n",
            "   macro avg       1.00      1.00      1.00    210281\n",
            "weighted avg       1.00      1.00      1.00    210281\n",
            "\n",
            "[[52495     1     4     0]\n",
            " [   24 52522     0     8]\n",
            " [    1     3 52536     5]\n",
            " [    0    19     5 52658]]\n"
          ]
        }
      ]
    }
  ]
}