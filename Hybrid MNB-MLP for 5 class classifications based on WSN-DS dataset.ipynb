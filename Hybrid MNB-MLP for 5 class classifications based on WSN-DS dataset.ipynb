{
  "nbformat": 4,
  "nbformat_minor": 0,
  "metadata": {
    "colab": {
      "provenance": [],
      "authorship_tag": "ABX9TyNBpfhpDHrO0JmK+kYIgmFW",
      "include_colab_link": true
    },
    "kernelspec": {
      "name": "python3",
      "display_name": "Python 3"
    },
    "language_info": {
      "name": "python"
    }
  },
  "cells": [
    {
      "cell_type": "markdown",
      "metadata": {
        "id": "view-in-github",
        "colab_type": "text"
      },
      "source": [
        "<a href=\"https://colab.research.google.com/github/sankeawthong/Project-1-Lita-Chatbot/blob/main/Hybrid%20MNB-MLP%20for%205%20class%20classifications%20based%20on%20WSN-DS%20dataset.ipynb\" target=\"_parent\"><img src=\"https://colab.research.google.com/assets/colab-badge.svg\" alt=\"Open In Colab\"/></a>"
      ]
    },
    {
      "cell_type": "markdown",
      "source": [
        "### **Hybrid MNB-MLP for 5 class classifications based on WSN-DS dataset**"
      ],
      "metadata": {
        "id": "JldQraPJIbp5"
      }
    },
    {
      "cell_type": "code",
      "execution_count": 1,
      "metadata": {
        "id": "yyW4Zw-jIALs"
      },
      "outputs": [],
      "source": [
        "import pandas as pd\n",
        "import numpy as np\n",
        "from sklearn.preprocessing import LabelEncoder\n",
        "from sklearn.model_selection import train_test_split\n",
        "from keras.utils import np_utils\n",
        "from keras.models import Sequential\n",
        "from keras.layers import Dense, LSTM, Dropout\n",
        "from sklearn.naive_bayes import MultinomialNB\n",
        "from sklearn.metrics import confusion_matrix, classification_report"
      ]
    },
    {
      "cell_type": "code",
      "source": [
        "# Load dataset\n",
        "dataset = pd.read_csv(\"dataset_WSN-DS.csv\")\n",
        "dataset.isnull().sum()"
      ],
      "metadata": {
        "colab": {
          "base_uri": "https://localhost:8080/"
        },
        "id": "bNCPhjOUIgpy",
        "outputId": "1776aeb7-f8da-4290-ec07-b8e8c3cb3218"
      },
      "execution_count": 2,
      "outputs": [
        {
          "output_type": "execute_result",
          "data": {
            "text/plain": [
              " id                 0\n",
              " Time               0\n",
              " Is_CH              0\n",
              " who CH             0\n",
              " Dist_To_CH         0\n",
              " ADV_S              0\n",
              " ADV_R              0\n",
              " JOIN_S             0\n",
              " JOIN_R             0\n",
              " SCH_S              0\n",
              " SCH_R              0\n",
              "Rank                0\n",
              " DATA_S             0\n",
              " DATA_R             0\n",
              " Data_Sent_To_BS    0\n",
              " dist_CH_To_BS      0\n",
              " send_code          0\n",
              "Expaned Energy      0\n",
              "Class               0\n",
              "dtype: int64"
            ]
          },
          "metadata": {},
          "execution_count": 2
        }
      ]
    },
    {
      "cell_type": "code",
      "source": [
        "dataset.info()"
      ],
      "metadata": {
        "colab": {
          "base_uri": "https://localhost:8080/"
        },
        "id": "MqDgryWqIgmb",
        "outputId": "39e5c484-532f-4c7f-c61e-d667cc11736d"
      },
      "execution_count": 3,
      "outputs": [
        {
          "output_type": "stream",
          "name": "stdout",
          "text": [
            "<class 'pandas.core.frame.DataFrame'>\n",
            "RangeIndex: 374661 entries, 0 to 374660\n",
            "Data columns (total 19 columns):\n",
            " #   Column            Non-Null Count   Dtype  \n",
            "---  ------            --------------   -----  \n",
            " 0    id               374661 non-null  int64  \n",
            " 1    Time             374661 non-null  int64  \n",
            " 2    Is_CH            374661 non-null  int64  \n",
            " 3    who CH           374661 non-null  int64  \n",
            " 4    Dist_To_CH       374661 non-null  float64\n",
            " 5    ADV_S            374661 non-null  int64  \n",
            " 6    ADV_R            374661 non-null  int64  \n",
            " 7    JOIN_S           374661 non-null  int64  \n",
            " 8    JOIN_R           374661 non-null  int64  \n",
            " 9    SCH_S            374661 non-null  int64  \n",
            " 10   SCH_R            374661 non-null  int64  \n",
            " 11  Rank              374661 non-null  int64  \n",
            " 12   DATA_S           374661 non-null  int64  \n",
            " 13   DATA_R           374661 non-null  int64  \n",
            " 14   Data_Sent_To_BS  374661 non-null  int64  \n",
            " 15   dist_CH_To_BS    374661 non-null  float64\n",
            " 16   send_code        374661 non-null  int64  \n",
            " 17  Expaned Energy    374661 non-null  float64\n",
            " 18  Class             374661 non-null  int64  \n",
            "dtypes: float64(3), int64(16)\n",
            "memory usage: 54.3 MB\n"
          ]
        }
      ]
    },
    {
      "cell_type": "code",
      "source": [
        "encoder = LabelEncoder()\n",
        "y = encoder.fit_transform(dataset['Class'])\n",
        "y = np_utils.to_categorical(y, num_classes=5)\n",
        "X = dataset.drop(['Class'],axis=1)\n",
        "X=X.values\n",
        "print(X.shape)\n",
        "print(y.shape)"
      ],
      "metadata": {
        "colab": {
          "base_uri": "https://localhost:8080/"
        },
        "id": "cG1EZ34sIgi9",
        "outputId": "ec4112b5-a976-441c-e114-a0a80678bf73"
      },
      "execution_count": 5,
      "outputs": [
        {
          "output_type": "stream",
          "name": "stdout",
          "text": [
            "(374661, 18)\n",
            "(374661, 5)\n"
          ]
        }
      ]
    },
    {
      "cell_type": "code",
      "source": [
        "# Data preprocessing\n",
        "from imblearn.over_sampling import SMOTE\n",
        "oversample = SMOTE()\n",
        "X, y = oversample.fit_resample(X, y)"
      ],
      "metadata": {
        "id": "VnRsiECNIrrR"
      },
      "execution_count": 6,
      "outputs": []
    },
    {
      "cell_type": "code",
      "source": [
        "X_train, X_test, y_train, y_test = train_test_split(X, y, test_size=0.2, random_state=101)"
      ],
      "metadata": {
        "id": "arGFgTN0Itcv"
      },
      "execution_count": 7,
      "outputs": []
    },
    {
      "cell_type": "markdown",
      "source": [
        "### **Hybrid MNB-DNN for 5 Class**"
      ],
      "metadata": {
        "id": "3JKHQqmYIwlm"
      }
    },
    {
      "cell_type": "code",
      "source": [
        "# Multinomial Naive Bayes model\n",
        "mnb = MultinomialNB()\n",
        "mnb.fit(X_train, np.argmax(y_train, axis=1))\n",
        "\n",
        "y_pred_mnb = mnb.predict(X_test)\n",
        "y_pred_mnb = np_utils.to_categorical(y_pred_mnb, num_classes=5)\n",
        "\n",
        "from sklearn.metrics import accuracy_score\n",
        "\n",
        "# Calculate accuracy for Multinomial Naive Bayes model\n",
        "accuracy_mnb = accuracy_score(np.argmax(y_test, axis=1), np.argmax(y_pred_mnb, axis=1))\n",
        "print(\"Multinomial Naive Bayes Accuracy:\", accuracy_mnb)"
      ],
      "metadata": {
        "colab": {
          "base_uri": "https://localhost:8080/"
        },
        "id": "BnhUFcQpItWW",
        "outputId": "b6b2c89b-23e2-485f-9e4b-950bc61798ff"
      },
      "execution_count": 8,
      "outputs": [
        {
          "output_type": "stream",
          "name": "stdout",
          "text": [
            "Multinomial Naive Bayes Accuracy: 0.6478948204172131\n"
          ]
        }
      ]
    },
    {
      "cell_type": "code",
      "source": [
        "from sklearn.neural_network import MLPClassifier\n",
        "from sklearn.metrics import classification_report\n",
        "from keras.utils import to_categorical\n",
        "\n",
        "# MLP model\n",
        "mlp_model = MLPClassifier(hidden_layer_sizes=(64,), activation='relu', solver='adam', random_state=42)\n",
        "mlp_model.fit(X_train, np.argmax(y_train, axis=1))\n",
        "\n",
        "y_pred_mlp = mlp_model.predict(X_test)\n",
        "y_pred_mlp = to_categorical(y_pred_mlp, num_classes=5)\n",
        "\n",
        "# Evaluate the MLP model\n",
        "mlp_report = classification_report(np.argmax(y_test, axis=1), np.argmax(y_pred_mlp, axis=1))\n",
        "print(\"MLP Model Classification Report:\")\n",
        "print(mlp_report)"
      ],
      "metadata": {
        "colab": {
          "base_uri": "https://localhost:8080/"
        },
        "id": "-4bXy9xrI7X4",
        "outputId": "fafab91c-b794-4fe6-c737-057b47f88f52"
      },
      "execution_count": 9,
      "outputs": [
        {
          "output_type": "stream",
          "name": "stdout",
          "text": [
            "MLP Model Classification Report:\n",
            "              precision    recall  f1-score   support\n",
            "\n",
            "           0       0.79      0.97      0.87     67745\n",
            "           1       0.92      0.49      0.64     68144\n",
            "           2       0.66      0.88      0.75     68282\n",
            "           3       0.98      0.90      0.94     68009\n",
            "           4       1.00      0.97      0.99     67886\n",
            "\n",
            "    accuracy                           0.84    340066\n",
            "   macro avg       0.87      0.84      0.84    340066\n",
            "weighted avg       0.87      0.84      0.84    340066\n",
            "\n"
          ]
        }
      ]
    },
    {
      "cell_type": "code",
      "source": [
        "from sklearn.naive_bayes import MultinomialNB\n",
        "from sklearn.neural_network import MLPClassifier\n",
        "from sklearn.metrics import classification_report, confusion_matrix\n",
        "import numpy as np\n",
        "from keras.utils import np_utils\n",
        "\n",
        "# Combine models\n",
        "y_pred = y_pred_mnb * 0.6 + y_pred_mlp * 0.4\n",
        "y_pred = np.argmax(y_pred, axis=1)\n",
        "\n",
        "# Evaluation metrics\n",
        "print(classification_report(np.argmax(y_test, axis=1), y_pred))\n",
        "print(confusion_matrix(np.argmax(y_test, axis=1), y_pred))\n"
      ],
      "metadata": {
        "colab": {
          "base_uri": "https://localhost:8080/"
        },
        "id": "odKCNGi5JBgO",
        "outputId": "376a5573-4b59-4e2f-e533-029d20d6de92"
      },
      "execution_count": 19,
      "outputs": [
        {
          "output_type": "stream",
          "name": "stdout",
          "text": [
            "              precision    recall  f1-score   support\n",
            "\n",
            "           0       0.93      0.81      0.87     67745\n",
            "           1       0.39      0.45      0.42     68144\n",
            "           2       0.99      0.35      0.51     68282\n",
            "           3       0.59      0.82      0.68     68009\n",
            "           4       0.66      0.82      0.73     67886\n",
            "\n",
            "    accuracy                           0.65    340066\n",
            "   macro avg       0.71      0.65      0.64    340066\n",
            "weighted avg       0.71      0.65      0.64    340066\n",
            "\n",
            "[[54953  2519    26  5524  4723]\n",
            " [    0 30396    33 21497 16218]\n",
            " [    0 30630 23602 11585  2465]\n",
            " [ 4075  2250   119 55941  5624]\n",
            " [    0 11438    40   973 55435]]\n"
          ]
        }
      ]
    },
    {
      "cell_type": "code",
      "source": [
        "import seaborn as sns\n",
        "import matplotlib.pyplot as plt\n",
        "import numpy as np\n",
        "import itertools\n",
        "import seaborn as sns\n",
        "from sklearn import metrics \n",
        "import matplotlib.pyplot as plt\n",
        "from sklearn.metrics import confusion_matrix\n",
        "def conf_mat(d1,d2):\n",
        "  cm = confusion_matrix(d1, d2)\n",
        "  plt.figure(figsize=(6,5.5))\n",
        "  ax = sns.heatmap(cm,  fmt='2', annot=True, cmap='YlGnBu')\n",
        "  sns.set(font_scale=1)\n",
        "  ax.set_xlabel('\\nPredicted Values')\n",
        "  ax.set_ylabel('Actual Values\\n');\n",
        "  ax.xaxis.set_ticklabels(['Normal','Blackhole','Flooding','Grayhole','TDMA'])\n",
        "  ax.yaxis.set_ticklabels(['Normal','Blackhole','Flooding','Grayhole','TDMA'])\n",
        "  plt.tight_layout()\n",
        "  # plt.savefig(\"F1.eps\", format = 'eps')\n",
        "  plt.show()"
      ],
      "metadata": {
        "id": "jOqPI1TRJCkM"
      },
      "execution_count": 14,
      "outputs": []
    },
    {
      "cell_type": "code",
      "source": [
        "print(\"Confusion Matrix of Hybrid MNB-MLP Model\") \n",
        "conf_mat(np.argmax(y_test, axis=1), y_pred)"
      ],
      "metadata": {
        "colab": {
          "base_uri": "https://localhost:8080/",
          "height": 568
        },
        "id": "2wYoVqhhJENY",
        "outputId": "65627358-0d51-4128-b3e1-e9fcc16373d8"
      },
      "execution_count": 15,
      "outputs": [
        {
          "output_type": "stream",
          "name": "stdout",
          "text": [
            "Confusion Matrix of Hybrid MNB-MLP Model\n"
          ]
        },
        {
          "output_type": "display_data",
          "data": {
            "text/plain": [
              "<Figure size 600x550 with 2 Axes>"
            ],
            "image/png": "[encoded data removed]"
          },
          "metadata": {}
        }
      ]
    },
    {
      "cell_type": "code",
      "source": [
        "report = classification_report(np.argmax(y_test, axis=1), y_pred, output_dict=True)\n",
        "detection_rates = {}\n",
        "for cls in range(5):\n",
        "    detection_rates[encoder.inverse_transform([cls])[0]] = report[str(cls)]['recall']\n",
        "print(\"Detection rates:\", detection_rates)"
      ],
      "metadata": {
        "colab": {
          "base_uri": "https://localhost:8080/"
        },
        "id": "j3AceRxkJIix",
        "outputId": "c84e0c5c-48fc-4571-f984-65356398aa75"
      },
      "execution_count": 16,
      "outputs": [
        {
          "output_type": "stream",
          "name": "stdout",
          "text": [
            "Detection rates: {0: 0.8111742564026866, 1: 0.4460554120685607, 2: 0.345654784569872, 3: 0.8225528974106369, 4: 0.816589576643196}\n"
          ]
        }
      ]
    }
  ]
}