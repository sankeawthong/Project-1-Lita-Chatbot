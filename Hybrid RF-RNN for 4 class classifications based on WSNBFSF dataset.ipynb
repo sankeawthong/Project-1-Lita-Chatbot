{
  "nbformat": 4,
  "nbformat_minor": 0,
  "metadata": {
    "colab": {
      "provenance": [],
      "authorship_tag": "ABX9TyMtVwpyAFiPKDkx6Il4piVg",
      "include_colab_link": true
    },
    "kernelspec": {
      "name": "python3",
      "display_name": "Python 3"
    },
    "language_info": {
      "name": "python"
    }
  },
  "cells": [
    {
      "cell_type": "markdown",
      "metadata": {
        "id": "view-in-github",
        "colab_type": "text"
      },
      "source": [
        "<a href=\"https://colab.research.google.com/github/sankeawthong/Project-1-Lita-Chatbot/blob/main/Hybrid%20RF-RNN%20for%204%20class%20classifications%20based%20on%20WSNBFSF%20dataset.ipynb\" target=\"_parent\"><img src=\"https://colab.research.google.com/assets/colab-badge.svg\" alt=\"Open In Colab\"/></a>"
      ]
    },
    {
      "cell_type": "markdown",
      "source": [
        "### **Hybrid RF-RNN for 4 class classifications based on WSNBFSF dataset**"
      ],
      "metadata": {
        "id": "HrElCXAjuG_p"
      }
    },
    {
      "cell_type": "code",
      "source": [
        "import pandas as pd\n",
        "import numpy as np\n",
        "from sklearn.preprocessing import LabelEncoder\n",
        "from sklearn.model_selection import train_test_split\n",
        "from keras.utils import np_utils\n",
        "from keras.models import Sequential\n",
        "from keras.layers import Dense, LSTM, Dropout\n",
        "from sklearn.ensemble import RandomForestClassifier\n",
        "from sklearn.metrics import confusion_matrix, classification_report"
      ],
      "metadata": {
        "id": "Kb8gc0bKtjbE"
      },
      "execution_count": 1,
      "outputs": []
    },
    {
      "cell_type": "code",
      "source": [
        "# Load dataset\n",
        "dataset = pd.read_csv(\"dataset.csv\")\n",
        "dataset.shape\n",
        "dataset.isnull().sum()"
      ],
      "metadata": {
        "colab": {
          "base_uri": "https://localhost:8080/"
        },
        "id": "pSEWOnhctkzh",
        "outputId": "2a3f3c34-dcb8-4174-c9ec-48325aed9d03"
      },
      "execution_count": 2,
      "outputs": [
        {
          "output_type": "execute_result",
          "data": {
            "text/plain": [
              "Event             0\n",
              "Time              0\n",
              "S_Node            0\n",
              "Node_id           0\n",
              "Rest_Energy       0\n",
              "Trace_Level       0\n",
              "Mac_Type_Pckt     0\n",
              "Source_IP_Port    0\n",
              "Des_IP_Port       0\n",
              "Packet_Size       0\n",
              "TTL               0\n",
              "Hop_Count         0\n",
              "Broadcast_ID      0\n",
              "Dest_Node_Num     0\n",
              "Dest_Seq_Num      0\n",
              "Src_Node_ID       0\n",
              "Src_Seq_Num       0\n",
              "Class             0\n",
              "dtype: int64"
            ]
          },
          "metadata": {},
          "execution_count": 2
        }
      ]
    },
    {
      "cell_type": "code",
      "source": [
        "dataset.info()"
      ],
      "metadata": {
        "colab": {
          "base_uri": "https://localhost:8080/"
        },
        "id": "IxHmeY6Ytlwn",
        "outputId": "c4f75030-739f-47a5-ea19-7b6ab70edc25"
      },
      "execution_count": 3,
      "outputs": [
        {
          "output_type": "stream",
          "name": "stdout",
          "text": [
            "<class 'pandas.core.frame.DataFrame'>\n",
            "RangeIndex: 312106 entries, 0 to 312105\n",
            "Data columns (total 18 columns):\n",
            " #   Column          Non-Null Count   Dtype  \n",
            "---  ------          --------------   -----  \n",
            " 0   Event           312106 non-null  int64  \n",
            " 1   Time            312106 non-null  float64\n",
            " 2   S_Node          312106 non-null  int64  \n",
            " 3   Node_id         312106 non-null  int64  \n",
            " 4   Rest_Energy     312106 non-null  float64\n",
            " 5   Trace_Level     312106 non-null  int64  \n",
            " 6   Mac_Type_Pckt   312106 non-null  int64  \n",
            " 7   Source_IP_Port  312106 non-null  float64\n",
            " 8   Des_IP_Port     312106 non-null  float64\n",
            " 9   Packet_Size     312106 non-null  int64  \n",
            " 10  TTL             312106 non-null  int64  \n",
            " 11  Hop_Count       312106 non-null  int64  \n",
            " 12  Broadcast_ID    312106 non-null  int64  \n",
            " 13  Dest_Node_Num   312106 non-null  int64  \n",
            " 14  Dest_Seq_Num    312106 non-null  int64  \n",
            " 15  Src_Node_ID     312106 non-null  int64  \n",
            " 16  Src_Seq_Num     312106 non-null  int64  \n",
            " 17  Class           312106 non-null  int64  \n",
            "dtypes: float64(4), int64(14)\n",
            "memory usage: 42.9 MB\n"
          ]
        }
      ]
    },
    {
      "cell_type": "code",
      "source": [
        "dataset[\"Class\"].unique()"
      ],
      "metadata": {
        "colab": {
          "base_uri": "https://localhost:8080/"
        },
        "id": "1nAocy3dtmy1",
        "outputId": "1a627bdb-8383-4b30-e6cc-96737cba4afd"
      },
      "execution_count": 4,
      "outputs": [
        {
          "output_type": "execute_result",
          "data": {
            "text/plain": [
              "array([0, 1, 2, 3])"
            ]
          },
          "metadata": {},
          "execution_count": 4
        }
      ]
    },
    {
      "cell_type": "markdown",
      "source": [
        "### **Data Preprocessing**"
      ],
      "metadata": {
        "id": "oz6SYWeht3Sm"
      }
    },
    {
      "cell_type": "code",
      "source": [
        "encoder = LabelEncoder()\n",
        "y = encoder.fit_transform(dataset['Class'])\n",
        "y = np_utils.to_categorical(y, num_classes=4)\n",
        "X = dataset.drop(['Class'],axis=1)\n",
        "X=X.values\n",
        "print(X.shape)\n",
        "print(y.shape)"
      ],
      "metadata": {
        "colab": {
          "base_uri": "https://localhost:8080/"
        },
        "id": "4L0exMJGtoh6",
        "outputId": "ff3ecfd1-0c54-4379-d49e-586e3aed9567"
      },
      "execution_count": 5,
      "outputs": [
        {
          "output_type": "stream",
          "name": "stdout",
          "text": [
            "(312106, 17)\n",
            "(312106, 4)\n"
          ]
        }
      ]
    },
    {
      "cell_type": "code",
      "source": [
        "# Data preprocessing\n",
        "from imblearn.over_sampling import SMOTE\n",
        "oversample = SMOTE()\n",
        "X, y = oversample.fit_resample(X, y)"
      ],
      "metadata": {
        "id": "blSVeA8Atpj_"
      },
      "execution_count": 6,
      "outputs": []
    },
    {
      "cell_type": "code",
      "source": [
        "# Split data into training and testing sets\n",
        "X_train, X_test, y_train, y_test = train_test_split(X, y, test_size=0.2, random_state=101)"
      ],
      "metadata": {
        "id": "Nhh4fdyYu58w"
      },
      "execution_count": 7,
      "outputs": []
    },
    {
      "cell_type": "markdown",
      "source": [
        "### **Hybrid combination of RF-RNN for 4 class classifications**"
      ],
      "metadata": {
        "id": "z2edRyCAuA-h"
      }
    },
    {
      "cell_type": "code",
      "execution_count": 8,
      "metadata": {
        "colab": {
          "base_uri": "https://localhost:8080/"
        },
        "id": "kucKhxowtdY8",
        "outputId": "b1f38106-05a5-4e2c-958c-e192b27a8cbd"
      },
      "outputs": [
        {
          "output_type": "stream",
          "name": "stdout",
          "text": [
            "Model: \"sequential\"\n",
            "_________________________________________________________________\n",
            " Layer (type)                Output Shape              Param #   \n",
            "=================================================================\n",
            " lstm (LSTM)                 (None, 64)                16896     \n",
            "                                                                 \n",
            " dropout (Dropout)           (None, 64)                0         \n",
            "                                                                 \n",
            " dense (Dense)               (None, 4)                 260       \n",
            "                                                                 \n",
            "=================================================================\n",
            "Total params: 17,156\n",
            "Trainable params: 17,156\n",
            "Non-trainable params: 0\n",
            "_________________________________________________________________\n",
            "Epoch 1/10\n",
            "13143/13143 [==============================] - 234s 18ms/step - loss: 0.3199 - accuracy: 0.8708 - val_loss: 0.2260 - val_accuracy: 0.9098\n",
            "Epoch 2/10\n",
            "13143/13143 [==============================] - 228s 17ms/step - loss: 0.1800 - accuracy: 0.9303 - val_loss: 0.1606 - val_accuracy: 0.9447\n",
            "Epoch 3/10\n",
            "13143/13143 [==============================] - 227s 17ms/step - loss: 0.1366 - accuracy: 0.9497 - val_loss: 0.0932 - val_accuracy: 0.9653\n",
            "Epoch 4/10\n",
            "13143/13143 [==============================] - 225s 17ms/step - loss: 0.1202 - accuracy: 0.9558 - val_loss: 0.1272 - val_accuracy: 0.9465\n",
            "Epoch 5/10\n",
            "13143/13143 [==============================] - 226s 17ms/step - loss: 0.1096 - accuracy: 0.9600 - val_loss: 0.0789 - val_accuracy: 0.9714\n",
            "Epoch 6/10\n",
            "13143/13143 [==============================] - 225s 17ms/step - loss: 0.1041 - accuracy: 0.9618 - val_loss: 0.0882 - val_accuracy: 0.9646\n",
            "Epoch 7/10\n",
            "13143/13143 [==============================] - 224s 17ms/step - loss: 0.0968 - accuracy: 0.9647 - val_loss: 0.0643 - val_accuracy: 0.9762\n",
            "Epoch 8/10\n",
            "13143/13143 [==============================] - 224s 17ms/step - loss: 0.0894 - accuracy: 0.9683 - val_loss: 0.0831 - val_accuracy: 0.9693\n",
            "Epoch 9/10\n",
            "13143/13143 [==============================] - 226s 17ms/step - loss: 0.0828 - accuracy: 0.9722 - val_loss: 0.0488 - val_accuracy: 0.9852\n",
            "Epoch 10/10\n",
            "13143/13143 [==============================] - 226s 17ms/step - loss: 0.0764 - accuracy: 0.9747 - val_loss: 0.0660 - val_accuracy: 0.9799\n",
            "6572/6572 [==============================] - 33s 5ms/step\n",
            "              precision    recall  f1-score   support\n",
            "\n",
            "           0       1.00      1.00      1.00     52500\n",
            "           1       1.00      1.00      1.00     52554\n",
            "           2       1.00      1.00      1.00     52545\n",
            "           3       1.00      1.00      1.00     52682\n",
            "\n",
            "    accuracy                           1.00    210281\n",
            "   macro avg       1.00      1.00      1.00    210281\n",
            "weighted avg       1.00      1.00      1.00    210281\n",
            "\n",
            "[[52495     1     4     0]\n",
            " [   18 52532     0     4]\n",
            " [    4     0 52538     3]\n",
            " [    0    25     8 52649]]\n"
          ]
        }
      ],
      "source": [
        "# LSTM model\n",
        "model = Sequential()\n",
        "model.add(LSTM(64, input_shape=(X_train.shape[1], 1)))\n",
        "model.add(Dropout(0.2))\n",
        "model.add(Dense(4, activation='softmax'))\n",
        "model.compile(loss='categorical_crossentropy', optimizer='adam', metrics=['accuracy'])\n",
        "model.summary()\n",
        "\n",
        "X_train_lstm = X_train.reshape(X_train.shape[0], X_train.shape[1], 1)\n",
        "X_test_lstm = X_test.reshape(X_test.shape[0], X_test.shape[1], 1)\n",
        "\n",
        "history = model.fit(X_train_lstm, y_train, epochs=10, batch_size=64, validation_data=(X_test_lstm, y_test), verbose=1)\n",
        "\n",
        "# Random Forest model\n",
        "rf = RandomForestClassifier(n_estimators=100, random_state=42)\n",
        "rf.fit(X_train, y_train)\n",
        "\n",
        "y_pred_rf = rf.predict(X_test)\n",
        "\n",
        "# Combine models\n",
        "y_pred_lstm = model.predict(X_test_lstm)\n",
        "y_pred_lstm = np.argmax(y_pred_lstm, axis=1)\n",
        "y_pred_lstm = np_utils.to_categorical(y_pred_lstm, num_classes=4)\n",
        "\n",
        "y_pred = y_pred_lstm * 0.4 + y_pred_rf * 0.6\n",
        "y_pred = np.argmax(y_pred, axis=1)\n",
        "\n",
        "# Evaluation metrics\n",
        "print(classification_report(np.argmax(y_test, axis=1), y_pred))\n",
        "print(confusion_matrix(np.argmax(y_test, axis=1), y_pred))\n"
      ]
    },
    {
      "cell_type": "code",
      "source": [
        "import seaborn as sns\n",
        "import matplotlib.pyplot as plt\n",
        "import numpy as np\n",
        "import itertools\n",
        "import seaborn as sns\n",
        "from sklearn import metrics \n",
        "import matplotlib.pyplot as plt\n",
        "from sklearn.metrics import confusion_matrix\n",
        "def conf_mat(d1,d2):\n",
        "  cm = confusion_matrix(d1, d2)\n",
        "  plt.figure(figsize=(6,5.5))\n",
        "  ax = sns.heatmap(cm,  fmt='2', annot=True, cmap='YlGnBu')\n",
        "  sns.set(font_scale=1)\n",
        "  ax.set_xlabel('\\nPredicted Values')\n",
        "  ax.set_ylabel('Actual Values\\n');\n",
        "  ax.xaxis.set_ticklabels(['Normal','Flooding','Blackhole','Forwarding'])\n",
        "  ax.yaxis.set_ticklabels(['Normal','Flooding','Blackhole','Forwarding'])\n",
        "  plt.tight_layout()\n",
        "  # plt.savefig(\"F1.eps\", format = 'eps')\n",
        "  plt.show()"
      ],
      "metadata": {
        "id": "2yjlsZZo87Zd"
      },
      "execution_count": 9,
      "outputs": []
    },
    {
      "cell_type": "code",
      "source": [
        "print(\"Confusion Matrix of Hybrid RF-RNN Model\") \n",
        "conf_mat(np.argmax(y_test, axis=1), y_pred)"
      ],
      "metadata": {
        "colab": {
          "base_uri": "https://localhost:8080/",
          "height": 568
        },
        "id": "9jqJiudH873k",
        "outputId": "4fe8fc6d-027d-420f-ce1e-f36901061087"
      },
      "execution_count": 10,
      "outputs": [
        {
          "output_type": "stream",
          "name": "stdout",
          "text": [
            "Confusion Matrix of Hybrid RF-RNN Model\n"
          ]
        },
        {
          "output_type": "display_data",
          "data": {
            "text/plain": [
              "<Figure size 600x550 with 2 Axes>"
            ],
            "image/png": "[encoded data removed]"
          },
          "metadata": {}
        }
      ]
    },
    {
      "cell_type": "code",
      "source": [
        "report = classification_report(np.argmax(y_test, axis=1), y_pred, output_dict=True)\n",
        "detection_rates = {}\n",
        "for cls in range(4):\n",
        "    detection_rates[encoder.inverse_transform([cls])[0]] = report[str(cls)]['recall']\n",
        "print(\"Detection rates:\", detection_rates)"
      ],
      "metadata": {
        "colab": {
          "base_uri": "https://localhost:8080/"
        },
        "id": "UfAXnpF39NgJ",
        "outputId": "470a48f1-9209-480e-ccc9-70cf9448b62c"
      },
      "execution_count": 11,
      "outputs": [
        {
          "output_type": "stream",
          "name": "stdout",
          "text": [
            "Detection rates: {0: 0.9999047619047619, 1: 0.9995813829584808, 2: 0.9998667808545056, 3: 0.9993736000911128}\n"
          ]
        }
      ]
    },
    {
      "cell_type": "code",
      "source": [
        "# ROC Curve and AUC Score\n",
        "y_scores = final_model.predict_proba(combined_pred)\n",
        "fpr, tpr, thresholds = roc_curve(y_test, y_scores[:, 1], pos_label=1)\n",
        "#roc_auc = roc_auc_score(y_test, y_scores[:, 1])\n",
        "roc_auc = roc_auc_score(y_test,y_scores, multi_class='ovr')\n",
        "plt.plot(fpr, tpr, 'b', label = 'AUC = %0.2f' % roc_auc)\n",
        "plt.title('ROC Curve')\n",
        "plt.xlabel('False Positive Rate')\n",
        "plt.ylabel('True Positive Rate')\n",
        "plt.legend(loc = 'lower right')\n",
        "plt.show()\n",
        "\n",
        "#clf = LogisticRegression(solver=\"liblinear\").fit(x_train, y_train)\n",
        "#preds = clf.predict_proba(x_test)\n",
        "#print(roc_auc)"
      ],
      "metadata": {
        "colab": {
          "base_uri": "https://localhost:8080/",
          "height": 472
        },
        "id": "ykI3_sRqtv0j",
        "outputId": "73f1b101-e452-4292-8bbf-83b10e2d6649"
      },
      "execution_count": 12,
      "outputs": [
        {
          "output_type": "display_data",
          "data": {
            "text/plain": [
              "<Figure size 640x480 with 1 Axes>"
            ],
            "image/png": "[encoded data removed]"
          },
          "metadata": {}
        }
      ]
    }
  ]
}