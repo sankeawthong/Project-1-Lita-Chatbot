{
  "nbformat": 4,
  "nbformat_minor": 0,
  "metadata": {
    "colab": {
      "provenance": [],
      "toc_visible": true,
      "authorship_tag": "ABX9TyNyn2GcLiAOsQH3FNoWAMuu",
      "include_colab_link": true
    },
    "kernelspec": {
      "name": "python3",
      "display_name": "Python 3"
    },
    "language_info": {
      "name": "python"
    }
  },
  "cells": [
    {
      "cell_type": "markdown",
      "metadata": {
        "id": "view-in-github",
        "colab_type": "text"
      },
      "source": [
        "<a href=\"https://colab.research.google.com/github/sankeawthong/Project-1-Lita-Chatbot/blob/main/Project%232_Hybrid%20RF-LSTM%20for%204%20class%20(WSNBFSF)_35epoch.ipynb\" target=\"_parent\"><img src=\"https://colab.research.google.com/assets/colab-badge.svg\" alt=\"Open In Colab\"/></a>"
      ]
    },
    {
      "cell_type": "markdown",
      "source": [
        "### **Hybrid RF-LSTM for 4 class classifications**"
      ],
      "metadata": {
        "id": "Afs6DI-GvAF3"
      }
    },
    {
      "cell_type": "code",
      "source": [
        "import pandas as pd\n",
        "import numpy as np\n",
        "from sklearn.preprocessing import LabelEncoder\n",
        "from sklearn.model_selection import train_test_split\n",
        "from keras.utils import np_utils\n",
        "from keras.models import Sequential\n",
        "from keras.layers import Dense, LSTM, Dropout\n",
        "from sklearn.ensemble import RandomForestClassifier\n",
        "from sklearn.metrics import confusion_matrix, classification_report, accuracy_score"
      ],
      "metadata": {
        "id": "vbO1wraNvJbp"
      },
      "execution_count": 1,
      "outputs": []
    },
    {
      "cell_type": "code",
      "source": [
        "# Load dataset\n",
        "dataset = pd.read_csv(\"dataset.csv\")\n",
        "dataset.isnull().sum()"
      ],
      "metadata": {
        "colab": {
          "base_uri": "https://localhost:8080/"
        },
        "id": "JjMgTc1IvLxx",
        "outputId": "79530842-50c6-4782-967c-ff4d19cf75b8"
      },
      "execution_count": 2,
      "outputs": [
        {
          "output_type": "execute_result",
          "data": {
            "text/plain": [
              "Event             0\n",
              "Time              0\n",
              "S_Node            0\n",
              "Node_id           0\n",
              "Rest_Energy       0\n",
              "Trace_Level       0\n",
              "Mac_Type_Pckt     0\n",
              "Source_IP_Port    0\n",
              "Des_IP_Port       0\n",
              "Packet_Size       0\n",
              "TTL               0\n",
              "Hop_Count         0\n",
              "Broadcast_ID      0\n",
              "Dest_Node_Num     0\n",
              "Dest_Seq_Num      0\n",
              "Src_Node_ID       0\n",
              "Src_Seq_Num       0\n",
              "Class             0\n",
              "dtype: int64"
            ]
          },
          "metadata": {},
          "execution_count": 2
        }
      ]
    },
    {
      "cell_type": "code",
      "source": [
        "dataset.info()"
      ],
      "metadata": {
        "colab": {
          "base_uri": "https://localhost:8080/"
        },
        "id": "YEiqmbN4vNYm",
        "outputId": "a60afb3a-8b9a-4347-b808-e958f9844925"
      },
      "execution_count": 3,
      "outputs": [
        {
          "output_type": "stream",
          "name": "stdout",
          "text": [
            "<class 'pandas.core.frame.DataFrame'>\n",
            "RangeIndex: 312106 entries, 0 to 312105\n",
            "Data columns (total 18 columns):\n",
            " #   Column          Non-Null Count   Dtype  \n",
            "---  ------          --------------   -----  \n",
            " 0   Event           312106 non-null  int64  \n",
            " 1   Time            312106 non-null  float64\n",
            " 2   S_Node          312106 non-null  int64  \n",
            " 3   Node_id         312106 non-null  int64  \n",
            " 4   Rest_Energy     312106 non-null  float64\n",
            " 5   Trace_Level     312106 non-null  int64  \n",
            " 6   Mac_Type_Pckt   312106 non-null  int64  \n",
            " 7   Source_IP_Port  312106 non-null  float64\n",
            " 8   Des_IP_Port     312106 non-null  float64\n",
            " 9   Packet_Size     312106 non-null  int64  \n",
            " 10  TTL             312106 non-null  int64  \n",
            " 11  Hop_Count       312106 non-null  int64  \n",
            " 12  Broadcast_ID    312106 non-null  int64  \n",
            " 13  Dest_Node_Num   312106 non-null  int64  \n",
            " 14  Dest_Seq_Num    312106 non-null  int64  \n",
            " 15  Src_Node_ID     312106 non-null  int64  \n",
            " 16  Src_Seq_Num     312106 non-null  int64  \n",
            " 17  Class           312106 non-null  int64  \n",
            "dtypes: float64(4), int64(14)\n",
            "memory usage: 42.9 MB\n"
          ]
        }
      ]
    },
    {
      "cell_type": "code",
      "source": [
        "encoder = LabelEncoder()\n",
        "y = encoder.fit_transform(dataset['Class'])\n",
        "y = np_utils.to_categorical(y)\n",
        "X = dataset.drop(['Class'],axis=1)\n",
        "X=X.values\n",
        "print(X.shape)\n",
        "print(y.shape)"
      ],
      "metadata": {
        "colab": {
          "base_uri": "https://localhost:8080/"
        },
        "id": "fk7lKcdYvPLt",
        "outputId": "7023a0c9-6d88-4ee4-b485-6e401d626d1b"
      },
      "execution_count": 4,
      "outputs": [
        {
          "output_type": "stream",
          "name": "stdout",
          "text": [
            "(312106, 17)\n",
            "(312106, 4)\n"
          ]
        }
      ]
    },
    {
      "cell_type": "code",
      "source": [
        "# Data preprocessing\n",
        "from imblearn.over_sampling import SMOTE\n",
        "oversample = SMOTE()\n",
        "X, y = oversample.fit_resample(X, y)"
      ],
      "metadata": {
        "id": "JzOQxktWvSCX"
      },
      "execution_count": 5,
      "outputs": []
    },
    {
      "cell_type": "code",
      "source": [
        "X_train, X_test, y_train, y_test = train_test_split(X, y, test_size=0.2, random_state=101)"
      ],
      "metadata": {
        "id": "mZT2Z4JUvTDN"
      },
      "execution_count": 6,
      "outputs": []
    },
    {
      "cell_type": "markdown",
      "source": [
        "**Hybrid RF-LSTM Model**"
      ],
      "metadata": {
        "id": "VEuU90ZStBaw"
      }
    },
    {
      "cell_type": "code",
      "source": [
        "# LSTM model\n",
        "model = Sequential()\n",
        "model.add(LSTM(64, input_shape=(X_train.shape[1], 1)))\n",
        "model.add(Dropout(0.2))\n",
        "model.add(Dense(4, activation='softmax'))\n",
        "model.compile(loss='categorical_crossentropy', optimizer='adam', metrics=['accuracy'])\n",
        "model.summary()\n",
        "\n",
        "X_train_lstm = X_train.reshape(X_train.shape[0], X_train.shape[1], 1)\n",
        "X_test_lstm = X_test.reshape(X_test.shape[0], X_test.shape[1], 1)\n",
        "\n",
        "history = model.fit(X_train_lstm, y_train, epochs=35, batch_size=64, validation_data=(X_test_lstm, y_test), verbose=1)\n",
        "\n",
        "# Random Forest model\n",
        "rf = RandomForestClassifier(n_estimators=100, random_state=42)\n",
        "rf.fit(X_train, y_train)\n",
        "\n",
        "y_pred_rf = rf.predict(X_test)\n",
        "\n",
        "# Combine models\n",
        "y_pred_lstm = model.predict(X_test_lstm)\n",
        "y_pred_lstm = np.argmax(y_pred_lstm, axis=1)\n",
        "y_pred_lstm = np_utils.to_categorical(y_pred_lstm)\n",
        "\n",
        "y_pred = y_pred_lstm * 0.5 + y_pred_rf * 0.5\n",
        "y_pred = np.argmax(y_pred, axis=1)\n",
        "\n",
        "# Evaluation metrics\n",
        "##print(classification_report(np.argmax(y_test, axis=1), y_pred))\n",
        "##print(confusion_matrix(np.argmax(y_test, axis=1), y_pred))\n",
        "\n",
        "# Calculate accuracy and other evaluation metrics\n",
        "accuracy = accuracy_score(np.argmax(y_test, axis=1), y_pred)\n",
        "report = classification_report(np.argmax(y_test, axis=1), y_pred)\n",
        "confusion_matrix = confusion_matrix(np.argmax(y_test, axis=1), y_pred)\n",
        "\n",
        "# Print the results\n",
        "print(\"Accuracy:\", accuracy)\n",
        "print(\"Classification Report:\\n\", report)\n",
        "print(\"Confusion Matrix:\\n\", confusion_matrix)"
      ],
      "metadata": {
        "colab": {
          "base_uri": "https://localhost:8080/"
        },
        "id": "5fXbagFeu_0j",
        "outputId": "25dec6a4-5bd9-4472-e55b-f4d619ca7cf2"
      },
      "execution_count": 7,
      "outputs": [
        {
          "output_type": "stream",
          "name": "stdout",
          "text": [
            "Model: \"sequential\"\n",
            "_________________________________________________________________\n",
            " Layer (type)                Output Shape              Param #   \n",
            "=================================================================\n",
            " lstm (LSTM)                 (None, 64)                16896     \n",
            "                                                                 \n",
            " dropout (Dropout)           (None, 64)                0         \n",
            "                                                                 \n",
            " dense (Dense)               (None, 4)                 260       \n",
            "                                                                 \n",
            "=================================================================\n",
            "Total params: 17,156\n",
            "Trainable params: 17,156\n",
            "Non-trainable params: 0\n",
            "_________________________________________________________________\n",
            "Epoch 1/35\n",
            "13143/13143 [==============================] - 190s 14ms/step - loss: 0.2844 - accuracy: 0.8891 - val_loss: 0.2040 - val_accuracy: 0.9176\n",
            "Epoch 2/35\n",
            "13143/13143 [==============================] - 186s 14ms/step - loss: 0.1539 - accuracy: 0.9448 - val_loss: 0.1096 - val_accuracy: 0.9585\n",
            "Epoch 3/35\n",
            "13143/13143 [==============================] - 181s 14ms/step - loss: 0.1343 - accuracy: 0.9530 - val_loss: 0.0870 - val_accuracy: 0.9707\n",
            "Epoch 4/35\n",
            "13143/13143 [==============================] - 205s 16ms/step - loss: 0.1111 - accuracy: 0.9621 - val_loss: 0.0694 - val_accuracy: 0.9781\n",
            "Epoch 5/35\n",
            "13143/13143 [==============================] - 196s 15ms/step - loss: 0.0979 - accuracy: 0.9673 - val_loss: 0.0914 - val_accuracy: 0.9677\n",
            "Epoch 6/35\n",
            "13143/13143 [==============================] - 184s 14ms/step - loss: 0.0926 - accuracy: 0.9690 - val_loss: 0.0805 - val_accuracy: 0.9734\n",
            "Epoch 7/35\n",
            "13143/13143 [==============================] - 173s 13ms/step - loss: 0.0844 - accuracy: 0.9719 - val_loss: 0.0693 - val_accuracy: 0.9762\n",
            "Epoch 8/35\n",
            "13143/13143 [==============================] - 177s 13ms/step - loss: 0.0797 - accuracy: 0.9736 - val_loss: 0.0845 - val_accuracy: 0.9711\n",
            "Epoch 9/35\n",
            "13143/13143 [==============================] - 181s 14ms/step - loss: 0.0936 - accuracy: 0.9677 - val_loss: 0.0627 - val_accuracy: 0.9789\n",
            "Epoch 10/35\n",
            "13143/13143 [==============================] - 174s 13ms/step - loss: 0.0780 - accuracy: 0.9747 - val_loss: 0.0453 - val_accuracy: 0.9863\n",
            "Epoch 11/35\n",
            "13143/13143 [==============================] - 176s 13ms/step - loss: 0.0702 - accuracy: 0.9772 - val_loss: 0.1071 - val_accuracy: 0.9554\n",
            "Epoch 12/35\n",
            "13143/13143 [==============================] - 174s 13ms/step - loss: 0.0680 - accuracy: 0.9779 - val_loss: 0.0874 - val_accuracy: 0.9717\n",
            "Epoch 13/35\n",
            "13143/13143 [==============================] - 170s 13ms/step - loss: 0.0668 - accuracy: 0.9785 - val_loss: 0.1477 - val_accuracy: 0.9409\n",
            "Epoch 14/35\n",
            "13143/13143 [==============================] - 167s 13ms/step - loss: 0.0652 - accuracy: 0.9789 - val_loss: 0.0532 - val_accuracy: 0.9838\n",
            "Epoch 15/35\n",
            "13143/13143 [==============================] - 170s 13ms/step - loss: 0.0648 - accuracy: 0.9793 - val_loss: 0.0352 - val_accuracy: 0.9894\n",
            "Epoch 16/35\n",
            "13143/13143 [==============================] - 173s 13ms/step - loss: 0.0932 - accuracy: 0.9646 - val_loss: 0.0449 - val_accuracy: 0.9859\n",
            "Epoch 17/35\n",
            "13143/13143 [==============================] - 168s 13ms/step - loss: 0.0819 - accuracy: 0.9719 - val_loss: 0.0764 - val_accuracy: 0.9762\n",
            "Epoch 18/35\n",
            "13143/13143 [==============================] - 172s 13ms/step - loss: 0.0589 - accuracy: 0.9814 - val_loss: 0.2553 - val_accuracy: 0.9262\n",
            "Epoch 19/35\n",
            "13143/13143 [==============================] - 171s 13ms/step - loss: 0.0631 - accuracy: 0.9800 - val_loss: 0.0534 - val_accuracy: 0.9817\n",
            "Epoch 20/35\n",
            "13143/13143 [==============================] - 170s 13ms/step - loss: 0.0600 - accuracy: 0.9807 - val_loss: 0.0455 - val_accuracy: 0.9866\n",
            "Epoch 21/35\n",
            "13143/13143 [==============================] - 174s 13ms/step - loss: 0.0561 - accuracy: 0.9818 - val_loss: 0.0319 - val_accuracy: 0.9893\n",
            "Epoch 22/35\n",
            "13143/13143 [==============================] - 186s 14ms/step - loss: 0.0562 - accuracy: 0.9822 - val_loss: 0.0401 - val_accuracy: 0.9878\n",
            "Epoch 23/35\n",
            "13143/13143 [==============================] - 182s 14ms/step - loss: 0.0535 - accuracy: 0.9829 - val_loss: 0.0648 - val_accuracy: 0.9790\n",
            "Epoch 24/35\n",
            "13143/13143 [==============================] - 175s 13ms/step - loss: 0.0498 - accuracy: 0.9840 - val_loss: 0.0256 - val_accuracy: 0.9914\n",
            "Epoch 25/35\n",
            "13143/13143 [==============================] - 170s 13ms/step - loss: 0.0549 - accuracy: 0.9823 - val_loss: 0.0393 - val_accuracy: 0.9877\n",
            "Epoch 26/35\n",
            "13143/13143 [==============================] - 168s 13ms/step - loss: 0.0546 - accuracy: 0.9831 - val_loss: 0.0601 - val_accuracy: 0.9831\n",
            "Epoch 27/35\n",
            "13143/13143 [==============================] - 168s 13ms/step - loss: 0.0552 - accuracy: 0.9827 - val_loss: 0.0548 - val_accuracy: 0.9817\n",
            "Epoch 28/35\n",
            "13143/13143 [==============================] - 167s 13ms/step - loss: 0.0556 - accuracy: 0.9827 - val_loss: 0.0308 - val_accuracy: 0.9903\n",
            "Epoch 29/35\n",
            "13143/13143 [==============================] - 167s 13ms/step - loss: 0.0497 - accuracy: 0.9843 - val_loss: 0.0355 - val_accuracy: 0.9876\n",
            "Epoch 30/35\n",
            "13143/13143 [==============================] - 164s 12ms/step - loss: 0.0535 - accuracy: 0.9825 - val_loss: 0.1526 - val_accuracy: 0.9334\n",
            "Epoch 31/35\n",
            "13143/13143 [==============================] - 165s 13ms/step - loss: 0.0571 - accuracy: 0.9810 - val_loss: 0.0337 - val_accuracy: 0.9895\n",
            "Epoch 32/35\n",
            "13143/13143 [==============================] - 164s 13ms/step - loss: 0.0609 - accuracy: 0.9797 - val_loss: 0.1046 - val_accuracy: 0.9538\n",
            "Epoch 33/35\n",
            "13143/13143 [==============================] - 162s 12ms/step - loss: 0.0637 - accuracy: 0.9790 - val_loss: 0.1399 - val_accuracy: 0.9615\n",
            "Epoch 34/35\n",
            "13143/13143 [==============================] - 164s 12ms/step - loss: 0.0521 - accuracy: 0.9834 - val_loss: 0.0351 - val_accuracy: 0.9890\n",
            "Epoch 35/35\n",
            "13143/13143 [==============================] - 169s 13ms/step - loss: 0.0626 - accuracy: 0.9800 - val_loss: 0.0379 - val_accuracy: 0.9863\n",
            "6572/6572 [==============================] - 24s 4ms/step\n",
            "Accuracy: 0.9941649507088135\n",
            "Classification Report:\n",
            "               precision    recall  f1-score   support\n",
            "\n",
            "           0       0.99      1.00      1.00     52500\n",
            "           1       0.99      0.99      0.99     52554\n",
            "           2       0.99      1.00      1.00     52545\n",
            "           3       1.00      0.99      0.99     52682\n",
            "\n",
            "    accuracy                           0.99    210281\n",
            "   macro avg       0.99      0.99      0.99    210281\n",
            "weighted avg       0.99      0.99      0.99    210281\n",
            "\n",
            "Confusion Matrix:\n",
            " [[52497     0     3     0]\n",
            " [  484 52064     1     5]\n",
            " [   11     4 52528     2]\n",
            " [    0   454   263 51965]]\n"
          ]
        }
      ]
    },
    {
      "cell_type": "code",
      "source": [
        "import seaborn as sns\n",
        "import matplotlib.pyplot as plt\n",
        "import numpy as np\n",
        "import itertools\n",
        "import seaborn as sns\n",
        "from sklearn import metrics \n",
        "import matplotlib.pyplot as plt\n",
        "from sklearn.metrics import confusion_matrix\n",
        "def conf_mat(d1,d2):\n",
        "  cm = confusion_matrix(d1, d2)\n",
        "  plt.figure(figsize=(6,5.5))\n",
        "  ax = sns.heatmap(cm,  fmt='2', annot=True, cmap='YlGnBu')\n",
        "  sns.set(font_scale=1)\n",
        "  ax.set_xlabel('\\nPredicted Values')\n",
        "  ax.set_ylabel('Actual Values\\n');\n",
        "  ax.xaxis.set_ticklabels(['Normal','Flooding','Blackhole','Forwarding'])\n",
        "  ax.yaxis.set_ticklabels(['Normal','Flooding','Blackhole','Forwarding'])\n",
        "  plt.tight_layout()\n",
        "  # plt.savefig(\"F1.eps\", format = 'eps')\n",
        "  plt.show()"
      ],
      "metadata": {
        "id": "31D4MYVT5-FC"
      },
      "execution_count": 8,
      "outputs": []
    },
    {
      "cell_type": "code",
      "source": [
        "print(\"Confusion Matrix of Hybrid RF-LSTM Model\") \n",
        "conf_mat(np.argmax(y_test, axis=1), y_pred)"
      ],
      "metadata": {
        "colab": {
          "base_uri": "https://localhost:8080/",
          "height": 568
        },
        "id": "_qxpZDu_6C93",
        "outputId": "404c4e84-b601-409c-d13a-527b053c9d65"
      },
      "execution_count": 9,
      "outputs": [
        {
          "output_type": "stream",
          "name": "stdout",
          "text": [
            "Confusion Matrix of Hybrid RF-LSTM Model\n"
          ]
        },
        {
          "output_type": "display_data",
          "data": {
            "text/plain": [
              "<Figure size 600x550 with 2 Axes>"
            ],
            "image/png": "[encoded data removed]"
          },
          "metadata": {}
        }
      ]
    },
    {
      "cell_type": "code",
      "source": [
        "report = classification_report(np.argmax(y_test, axis=1), y_pred, output_dict=True)\n",
        "detection_rates = {}\n",
        "for cls in range(4):\n",
        "    detection_rates[encoder.inverse_transform([cls])[0]] = report[str(cls)]['recall']\n",
        "print(\"Detection rates:\", detection_rates)"
      ],
      "metadata": {
        "id": "V4Pg5yqMsdAa",
        "outputId": "a274ad7e-234c-4ff5-e02e-1e737f35dcbd",
        "colab": {
          "base_uri": "https://localhost:8080/"
        }
      },
      "execution_count": 10,
      "outputs": [
        {
          "output_type": "stream",
          "name": "stdout",
          "text": [
            "Detection rates: {0: 0.9999428571428571, 1: 0.9906762568025269, 2: 0.9996764677895138, 3: 0.9863900383432671}\n"
          ]
        }
      ]
    }
  ]
}