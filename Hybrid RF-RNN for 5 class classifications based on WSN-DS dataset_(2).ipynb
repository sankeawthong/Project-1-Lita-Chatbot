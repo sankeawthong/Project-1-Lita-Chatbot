{
  "nbformat": 4,
  "nbformat_minor": 0,
  "metadata": {
    "colab": {
      "provenance": [],
      "authorship_tag": "ABX9TyNhB4hw21ud1L3IJqHZqeBw",
      "include_colab_link": true
    },
    "kernelspec": {
      "name": "python3",
      "display_name": "Python 3"
    },
    "language_info": {
      "name": "python"
    }
  },
  "cells": [
    {
      "cell_type": "markdown",
      "metadata": {
        "id": "view-in-github",
        "colab_type": "text"
      },
      "source": [
        "<a href=\"https://colab.research.google.com/github/sankeawthong/Project-1-Lita-Chatbot/blob/main/Hybrid%20RF-RNN%20for%205%20class%20classifications%20based%20on%20WSN-DS%20dataset_(2).ipynb\" target=\"_parent\"><img src=\"https://colab.research.google.com/assets/colab-badge.svg\" alt=\"Open In Colab\"/></a>"
      ]
    },
    {
      "cell_type": "markdown",
      "source": [
        "### **Hybrid RF-RNN for 5 class classifications based on WSN-DS dataset**"
      ],
      "metadata": {
        "id": "Nm-VWYvY0YSj"
      }
    },
    {
      "cell_type": "code",
      "execution_count": 31,
      "metadata": {
        "id": "mhH0qZNu0WsK"
      },
      "outputs": [],
      "source": [
        "import pandas as pd\n",
        "import numpy as np\n",
        "from sklearn.preprocessing import LabelEncoder\n",
        "from sklearn.model_selection import train_test_split\n",
        "from keras.utils import np_utils\n",
        "from keras.models import Sequential\n",
        "from keras.layers import Dense, LSTM, Dropout\n",
        "from sklearn.ensemble import RandomForestClassifier\n",
        "from sklearn.metrics import confusion_matrix, classification_report"
      ]
    },
    {
      "cell_type": "code",
      "source": [
        "# Load dataset\n",
        "dataset = pd.read_csv(\"dataset_WSN-DS.csv\")\n",
        "dataset.isnull().sum()"
      ],
      "metadata": {
        "colab": {
          "base_uri": "https://localhost:8080/"
        },
        "id": "ds2HHt6H0fMc",
        "outputId": "3f6cb0dd-dc7d-4606-c700-ad1d927f84db"
      },
      "execution_count": 33,
      "outputs": [
        {
          "output_type": "execute_result",
          "data": {
            "text/plain": [
              " id                 0\n",
              " Time               0\n",
              " Is_CH              0\n",
              " who CH             0\n",
              " Dist_To_CH         0\n",
              " ADV_S              0\n",
              " ADV_R              0\n",
              " JOIN_S             0\n",
              " JOIN_R             0\n",
              " SCH_S              0\n",
              " SCH_R              0\n",
              "Rank                0\n",
              " DATA_S             0\n",
              " DATA_R             0\n",
              " Data_Sent_To_BS    0\n",
              " dist_CH_To_BS      0\n",
              " send_code          0\n",
              "Expaned Energy      0\n",
              "Class               0\n",
              "dtype: int64"
            ]
          },
          "metadata": {},
          "execution_count": 33
        }
      ]
    },
    {
      "cell_type": "code",
      "source": [
        "dataset.info()"
      ],
      "metadata": {
        "colab": {
          "base_uri": "https://localhost:8080/"
        },
        "id": "L-vYkoR70lIo",
        "outputId": "e27898ac-7d0e-45ea-b30d-d326d3c44b05"
      },
      "execution_count": 34,
      "outputs": [
        {
          "output_type": "stream",
          "name": "stdout",
          "text": [
            "<class 'pandas.core.frame.DataFrame'>\n",
            "RangeIndex: 374661 entries, 0 to 374660\n",
            "Data columns (total 19 columns):\n",
            " #   Column            Non-Null Count   Dtype  \n",
            "---  ------            --------------   -----  \n",
            " 0    id               374661 non-null  int64  \n",
            " 1    Time             374661 non-null  int64  \n",
            " 2    Is_CH            374661 non-null  int64  \n",
            " 3    who CH           374661 non-null  int64  \n",
            " 4    Dist_To_CH       374661 non-null  float64\n",
            " 5    ADV_S            374661 non-null  int64  \n",
            " 6    ADV_R            374661 non-null  int64  \n",
            " 7    JOIN_S           374661 non-null  int64  \n",
            " 8    JOIN_R           374661 non-null  int64  \n",
            " 9    SCH_S            374661 non-null  int64  \n",
            " 10   SCH_R            374661 non-null  int64  \n",
            " 11  Rank              374661 non-null  int64  \n",
            " 12   DATA_S           374661 non-null  int64  \n",
            " 13   DATA_R           374661 non-null  int64  \n",
            " 14   Data_Sent_To_BS  374661 non-null  int64  \n",
            " 15   dist_CH_To_BS    374661 non-null  float64\n",
            " 16   send_code        374661 non-null  int64  \n",
            " 17  Expaned Energy    374661 non-null  float64\n",
            " 18  Class             374661 non-null  int64  \n",
            "dtypes: float64(3), int64(16)\n",
            "memory usage: 54.3 MB\n"
          ]
        }
      ]
    },
    {
      "cell_type": "markdown",
      "source": [
        "### **Data preprocessing**"
      ],
      "metadata": {
        "id": "Aue5d154TySZ"
      }
    },
    {
      "cell_type": "code",
      "source": [
        "encoder = LabelEncoder()\n",
        "y = encoder.fit_transform(dataset['Class'])\n",
        "y = np_utils.to_categorical(y, num_classes=5)\n",
        "X = dataset.drop(['Class'],axis=1)\n",
        "X=X.values\n",
        "print(X.shape)\n",
        "print(y.shape)"
      ],
      "metadata": {
        "colab": {
          "base_uri": "https://localhost:8080/"
        },
        "id": "aLKVB9d70mpV",
        "outputId": "20d3b1e8-bd28-4ef0-8549-50c2c2bc6f9c"
      },
      "execution_count": 35,
      "outputs": [
        {
          "output_type": "stream",
          "name": "stdout",
          "text": [
            "(374661, 18)\n",
            "(374661, 5)\n"
          ]
        }
      ]
    },
    {
      "cell_type": "code",
      "source": [
        "# Data preprocessing\n",
        "from imblearn.over_sampling import SMOTE\n",
        "oversample = SMOTE()\n",
        "X, y = oversample.fit_resample(X, y)"
      ],
      "metadata": {
        "id": "VfLMobHKTrMQ"
      },
      "execution_count": 36,
      "outputs": []
    },
    {
      "cell_type": "code",
      "source": [
        "X_train, X_test, y_train, y_test = train_test_split(X, y, test_size=0.2, random_state=101)"
      ],
      "metadata": {
        "id": "Fg6KyA-5Ts_h"
      },
      "execution_count": 37,
      "outputs": []
    },
    {
      "cell_type": "markdown",
      "source": [
        "### **Hybrid combination of RF and RNN for 5 class classifications**"
      ],
      "metadata": {
        "id": "wdNGbnAx0xHy"
      }
    },
    {
      "cell_type": "code",
      "source": [
        "# LSTM model\n",
        "model = Sequential()\n",
        "model.add(LSTM(64, input_shape=(X_train.shape[1], 1)))\n",
        "model.add(Dropout(0.2))\n",
        "model.add(Dense(5, activation='softmax'))\n",
        "model.compile(loss='categorical_crossentropy', optimizer='adam', metrics=['accuracy'])\n",
        "model.summary()\n",
        "\n",
        "X_train_lstm = X_train.reshape(X_train.shape[0], X_train.shape[1], 1)\n",
        "X_test_lstm = X_test.reshape(X_test.shape[0], X_test.shape[1], 1)\n",
        "\n",
        "history = model.fit(X_train_lstm, y_train, epochs=10, batch_size=64, validation_data=(X_test_lstm, y_test), verbose=1)\n",
        "\n",
        "# Random Forest model\n",
        "rf = RandomForestClassifier(n_estimators=100, random_state=42)\n",
        "rf.fit(X_train, y_train)\n",
        "\n",
        "y_pred_rf = rf.predict(X_test)\n",
        "\n",
        "# Combine models\n",
        "y_pred_lstm = model.predict(X_test_lstm)\n",
        "y_pred_lstm = np.argmax(y_pred_lstm, axis=1)\n",
        "y_pred_lstm = np_utils.to_categorical(y_pred_lstm, num_classes=5)\n",
        "\n",
        "y_pred = y_pred_lstm * 0.4 + y_pred_rf * 0.6\n",
        "y_pred = np.argmax(y_pred, axis=1)\n",
        "\n",
        "# Evaluation metrics\n",
        "print(classification_report(np.argmax(y_test, axis=1), y_pred))\n",
        "print(confusion_matrix(np.argmax(y_test, axis=1), y_pred))\n"
      ],
      "metadata": {
        "colab": {
          "base_uri": "https://localhost:8080/",
          "height": 1000
        },
        "id": "ZFjeUVNg00rM",
        "outputId": "9c7bb0dd-c7fa-4984-da06-83ddc716a001"
      },
      "execution_count": 38,
      "outputs": [
        {
          "output_type": "stream",
          "name": "stdout",
          "text": [
            "Model: \"sequential\"\n",
            "_________________________________________________________________\n",
            " Layer (type)                Output Shape              Param #   \n",
            "=================================================================\n",
            " lstm (LSTM)                 (None, 64)                16896     \n",
            "                                                                 \n",
            " dropout (Dropout)           (None, 64)                0         \n",
            "                                                                 \n",
            " dense (Dense)               (None, 5)                 325       \n",
            "                                                                 \n",
            "=================================================================\n",
            "Total params: 17,221\n",
            "Trainable params: 17,221\n",
            "Non-trainable params: 0\n",
            "_________________________________________________________________\n",
            "Epoch 1/10\n",
            "21255/21255 [==============================] - 390s 18ms/step - loss: 0.1954 - accuracy: 0.9047 - val_loss: 0.1770 - val_accuracy: 0.9088\n",
            "Epoch 2/10\n",
            "21255/21255 [==============================] - 373s 18ms/step - loss: 0.1733 - accuracy: 0.9112 - val_loss: 0.1555 - val_accuracy: 0.9307\n",
            "Epoch 3/10\n",
            "21255/21255 [==============================] - 368s 17ms/step - loss: 0.1355 - accuracy: 0.9481 - val_loss: 0.1015 - val_accuracy: 0.9719\n",
            "Epoch 4/10\n",
            "21255/21255 [==============================] - 377s 18ms/step - loss: 0.1067 - accuracy: 0.9626 - val_loss: 0.0817 - val_accuracy: 0.9744\n",
            "Epoch 5/10\n",
            "21255/21255 [==============================] - 384s 18ms/step - loss: 0.0911 - accuracy: 0.9687 - val_loss: 0.0712 - val_accuracy: 0.9759\n",
            "Epoch 6/10\n",
            "21255/21255 [==============================] - 355s 17ms/step - loss: 0.0815 - accuracy: 0.9724 - val_loss: 0.0668 - val_accuracy: 0.9760\n",
            "Epoch 7/10\n",
            "21255/21255 [==============================] - 375s 18ms/step - loss: 0.0757 - accuracy: 0.9748 - val_loss: 0.0623 - val_accuracy: 0.9784\n",
            "Epoch 8/10\n",
            "21255/21255 [==============================] - 380s 18ms/step - loss: 0.0712 - accuracy: 0.9763 - val_loss: 0.0601 - val_accuracy: 0.9796\n",
            "Epoch 9/10\n",
            "21255/21255 [==============================] - 377s 18ms/step - loss: 0.0680 - accuracy: 0.9772 - val_loss: 0.0576 - val_accuracy: 0.9801\n",
            "Epoch 10/10\n",
            "21255/21255 [==============================] - 352s 17ms/step - loss: 0.0655 - accuracy: 0.9779 - val_loss: 0.0582 - val_accuracy: 0.9796\n",
            "10628/10628 [==============================] - 53s 5ms/step\n",
            "              precision    recall  f1-score   support\n",
            "\n",
            "           0       1.00      1.00      1.00     67745\n",
            "           1       1.00      1.00      1.00     68144\n",
            "           2       1.00      1.00      1.00     68282\n",
            "           3       1.00      1.00      1.00     68009\n",
            "           4       1.00      1.00      1.00     67886\n",
            "\n",
            "    accuracy                           1.00    340066\n",
            "   macro avg       1.00      1.00      1.00    340066\n",
            "weighted avg       1.00      1.00      1.00    340066\n",
            "\n",
            "[[67549    51     0    75    70]\n",
            " [    1 68137     6     0     0]\n",
            " [    0    15 68267     0     0]\n",
            " [   79     3     1 67926     0]\n",
            " [    2     0     0     0 67884]]\n",
            "Confusion Matrix of Hybrid RF-LSTM Model\n"
          ]
        },
        {
          "output_type": "error",
          "ename": "NameError",
          "evalue": "ignored",
          "traceback": [
            "\u001b[0;31m---------------------------------------------------------------------------\u001b[0m",
            "\u001b[0;31mNameError\u001b[0m                                 Traceback (most recent call last)",
            "\u001b[0;32m<ipython-input-38-68bfa80919dd>\u001b[0m in \u001b[0;36m<cell line: 33>\u001b[0;34m()\u001b[0m\n\u001b[1;32m     31\u001b[0m \u001b[0;34m\u001b[0m\u001b[0m\n\u001b[1;32m     32\u001b[0m \u001b[0mprint\u001b[0m\u001b[0;34m(\u001b[0m\u001b[0;34m\"Confusion Matrix of Hybrid RF-LSTM Model\"\u001b[0m\u001b[0;34m)\u001b[0m\u001b[0;34m\u001b[0m\u001b[0;34m\u001b[0m\u001b[0m\n\u001b[0;32m---> 33\u001b[0;31m \u001b[0mconf_mat\u001b[0m\u001b[0;34m(\u001b[0m\u001b[0mnp\u001b[0m\u001b[0;34m.\u001b[0m\u001b[0margmax\u001b[0m\u001b[0;34m(\u001b[0m\u001b[0my_test\u001b[0m\u001b[0;34m,\u001b[0m \u001b[0maxis\u001b[0m\u001b[0;34m=\u001b[0m\u001b[0;36m1\u001b[0m\u001b[0;34m)\u001b[0m\u001b[0;34m,\u001b[0m \u001b[0my_pred\u001b[0m\u001b[0;34m)\u001b[0m\u001b[0;34m\u001b[0m\u001b[0;34m\u001b[0m\u001b[0m\n\u001b[0m\u001b[1;32m     34\u001b[0m \u001b[0;34m\u001b[0m\u001b[0m\n\u001b[1;32m     35\u001b[0m \u001b[0mreport\u001b[0m \u001b[0;34m=\u001b[0m \u001b[0mclassification_report\u001b[0m\u001b[0;34m(\u001b[0m\u001b[0mnp\u001b[0m\u001b[0;34m.\u001b[0m\u001b[0margmax\u001b[0m\u001b[0;34m(\u001b[0m\u001b[0my_test\u001b[0m\u001b[0;34m,\u001b[0m \u001b[0maxis\u001b[0m\u001b[0;34m=\u001b[0m\u001b[0;36m1\u001b[0m\u001b[0;34m)\u001b[0m\u001b[0;34m,\u001b[0m \u001b[0my_pred\u001b[0m\u001b[0;34m,\u001b[0m \u001b[0moutput_dict\u001b[0m\u001b[0;34m=\u001b[0m\u001b[0;32mTrue\u001b[0m\u001b[0;34m)\u001b[0m\u001b[0;34m\u001b[0m\u001b[0;34m\u001b[0m\u001b[0m\n",
            "\u001b[0;31mNameError\u001b[0m: name 'conf_mat' is not defined"
          ]
        }
      ]
    },
    {
      "cell_type": "code",
      "source": [
        "report = classification_report(np.argmax(y_test, axis=1), y_pred, output_dict=True)\n",
        "detection_rates = {}\n",
        "for cls in range(5):\n",
        "    detection_rates[encoder.inverse_transform([cls])[0]] = report[str(cls)]['recall']\n",
        "print(\"Detection rates:\", detection_rates)"
      ],
      "metadata": {
        "id": "effehyHa5kvO",
        "outputId": "62e3e16a-45de-4493-8faa-839ab8d1e560",
        "colab": {
          "base_uri": "https://localhost:8080/"
        }
      },
      "execution_count": 40,
      "outputs": [
        {
          "output_type": "stream",
          "name": "stdout",
          "text": [
            "Detection rates: {0: 0.9971067975496346, 1: 0.999897276355952, 2: 0.9997803227790633, 3: 0.9987795732917703, 4: 0.9999705388445335}\n"
          ]
        }
      ]
    },
    {
      "cell_type": "code",
      "source": [
        "import seaborn as sns\n",
        "import matplotlib.pyplot as plt\n",
        "import numpy as np\n",
        "import itertools\n",
        "import seaborn as sns\n",
        "from sklearn import metrics \n",
        "import matplotlib.pyplot as plt\n",
        "from sklearn.metrics import confusion_matrix\n",
        "def conf_mat(d1,d2):\n",
        "  cm = confusion_matrix(d1, d2)\n",
        "  plt.figure(figsize=(6,5.5))\n",
        "  ax = sns.heatmap(cm,  fmt='2', annot=True, cmap='YlGnBu')\n",
        "  sns.set(font_scale=1)\n",
        "  ax.set_xlabel('\\nPredicted Values')\n",
        "  ax.set_ylabel('Actual Values\\n');\n",
        "  ax.xaxis.set_ticklabels(['Normal','Blackhole','Flooding','Grayhole','TDMA'])\n",
        "  ax.yaxis.set_ticklabels(['Normal','Blackhole','Flooding','Grayhole','TDMA'])\n",
        "  plt.tight_layout()\n",
        "  # plt.savefig(\"F1.eps\", format = 'eps')\n",
        "  plt.show()"
      ],
      "metadata": {
        "id": "daX4cO8e5-JJ"
      },
      "execution_count": 43,
      "outputs": []
    },
    {
      "cell_type": "code",
      "source": [
        "print(\"Confusion Matrix of Hybrid RF-RNN Model\") \n",
        "conf_mat(np.argmax(y_test, axis=1), y_pred)"
      ],
      "metadata": {
        "id": "zVxy_PyM6Hqg",
        "outputId": "dd01cfaf-72c7-4dee-827d-ab70795d0cd7",
        "colab": {
          "base_uri": "https://localhost:8080/",
          "height": 568
        }
      },
      "execution_count": 44,
      "outputs": [
        {
          "output_type": "stream",
          "name": "stdout",
          "text": [
            "Confusion Matrix of Hybrid RF-RNN Model\n"
          ]
        },
        {
          "output_type": "display_data",
          "data": {
            "text/plain": [
              "<Figure size 600x550 with 2 Axes>"
            ],
            "image/png": "[encoded data removed]"
          },
          "metadata": {}
        }
      ]
    }
  ]
}