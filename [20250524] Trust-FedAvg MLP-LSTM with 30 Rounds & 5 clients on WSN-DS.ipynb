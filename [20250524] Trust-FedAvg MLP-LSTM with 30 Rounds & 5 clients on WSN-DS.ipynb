{
  "nbformat": 4,
  "nbformat_minor": 0,
  "metadata": {
    "colab": {
      "provenance": [],
      "machine_shape": "hm",
      "authorship_tag": "ABX9TyMLD2ZcZaJbxsMMo6QWSL4+",
      "include_colab_link": true
    },
    "kernelspec": {
      "name": "python3",
      "display_name": "Python 3"
    },
    "language_info": {
      "name": "python"
    }
  },
  "cells": [
    {
      "cell_type": "markdown",
      "metadata": {
        "id": "view-in-github",
        "colab_type": "text"
      },
      "source": [
        "<a href=\"https://colab.research.google.com/github/sankeawthong/Project-1-Lita-Chatbot/blob/main/%5B20250524%5D%20Trust-FedAvg%20MLP-LSTM%20with%2030%20Rounds%20%26%205%20clients%20on%20WSN-DS.ipynb\" target=\"_parent\"><img src=\"https://colab.research.google.com/assets/colab-badge.svg\" alt=\"Open In Colab\"/></a>"
      ]
    },
    {
      "cell_type": "markdown",
      "source": [
        "**Trust-FedAvg MLP-LSTM with 30 Communications Rounds & 5 clients on WSN-DS**"
      ],
      "metadata": {
        "id": "WAWFhbyiP5nB"
      }
    },
    {
      "cell_type": "code",
      "execution_count": 1,
      "metadata": {
        "id": "EjGZpkvDPoJZ"
      },
      "outputs": [],
      "source": [
        "import pandas as pd\n",
        "import numpy as np\n",
        "import time\n",
        "from sklearn.model_selection import train_test_split\n",
        "from sklearn.preprocessing import LabelEncoder, StandardScaler\n",
        "from sklearn.metrics import accuracy_score, precision_score, recall_score, f1_score, classification_report, confusion_matrix, roc_auc_score\n",
        "from keras.models import Sequential\n",
        "from keras.layers import Dense, Dropout, LSTM, InputLayer\n",
        "from keras.utils import to_categorical\n",
        "from keras.regularizers import l2\n",
        "from imblearn.over_sampling import SMOTE\n",
        "from scipy.spatial.distance import cosine"
      ]
    },
    {
      "cell_type": "code",
      "source": [
        "# ----------------------------\n",
        "# Preprocessing\n",
        "# ----------------------------\n",
        "df = pd.read_csv(\"dataset_WSN-DS.csv\").dropna()\n",
        "for col in df.columns:\n",
        "    if df[col].dtype == 'object':\n",
        "        df[col] = LabelEncoder().fit_transform(df[col])\n",
        "\n",
        "X, y = df.drop('Class', axis=1), df['Class']\n",
        "X = StandardScaler().fit_transform(X)\n",
        "X, y = SMOTE(random_state=42).fit_resample(X, y)\n",
        "X_train, X_test, y_train, y_test = train_test_split(X, y, test_size=0.2, random_state=101, stratify=y)"
      ],
      "metadata": {
        "id": "0NB1oUAsPrAA"
      },
      "execution_count": 2,
      "outputs": []
    },
    {
      "cell_type": "code",
      "source": [
        "# ----------------------------\n",
        "# Federated Setup\n",
        "# ----------------------------\n",
        "num_clients = 5\n",
        "rounds = 30\n",
        "alpha = (0.4, 0.4, 0.2)\n",
        "\n",
        "client_X = np.array_split(X_train, num_clients)\n",
        "client_y = np.array_split(y_train, num_clients)\n",
        "\n",
        "X_test = X_test.reshape(X_test.shape[0], X_test.shape[1], 1)\n",
        "y_test_cat = to_categorical(y_test)\n",
        "num_classes = y_test_cat.shape[1]\n",
        "input_shape = (X_test.shape[1], 1)"
      ],
      "metadata": {
        "colab": {
          "base_uri": "https://localhost:8080/"
        },
        "id": "rQ6k9PXKPq8U",
        "outputId": "3f4cf155-9e22-4f76-eb31-1708078af6c2"
      },
      "execution_count": 3,
      "outputs": [
        {
          "output_type": "stream",
          "name": "stderr",
          "text": [
            "/usr/local/lib/python3.11/dist-packages/numpy/_core/fromnumeric.py:57: FutureWarning: 'Series.swapaxes' is deprecated and will be removed in a future version. Please use 'Series.transpose' instead.\n",
            "  return bound(*args, **kwds)\n"
          ]
        }
      ]
    },
    {
      "cell_type": "code",
      "source": [
        "# ----------------------------\n",
        "# Model Definition\n",
        "# ----------------------------\n",
        "def build_model(input_shape, num_classes):\n",
        "    model = Sequential([\n",
        "        InputLayer(input_shape=input_shape),\n",
        "        LSTM(64, activation='tanh', kernel_regularizer=l2(0.01)),\n",
        "        Dropout(0.3),\n",
        "        Dense(128, activation='relu', kernel_regularizer=l2(0.01)),\n",
        "        Dropout(0.3),\n",
        "        Dense(64, activation='relu', kernel_regularizer=l2(0.01)),\n",
        "        Dropout(0.3),\n",
        "        Dense(num_classes, activation='softmax')\n",
        "    ])\n",
        "    model.compile(optimizer='adam', loss='categorical_crossentropy', metrics=['accuracy'])\n",
        "    return model\n",
        "\n",
        "def cosine_sim(w1, w2):\n",
        "    f1 = np.concatenate([layer.flatten() for layer in w1])\n",
        "    f2 = np.concatenate([layer.flatten() for layer in w2])\n",
        "    return 1 - cosine(f1, f2)\n",
        "\n",
        "def update_stability(w_now, w_prev):\n",
        "    if w_prev is None:\n",
        "        return 1.0\n",
        "    return cosine_sim(w_now, w_prev)\n",
        "\n",
        "def normalize(val, min_val, max_val):\n",
        "    return (val - min_val) / (max_val - min_val + 1e-8)\n",
        "\n",
        "# ----------------------------\n",
        "# Trust-FedAvg Training Loop\n",
        "# ----------------------------\n",
        "log = []\n",
        "trust_history = {i: [] for i in range(num_clients)}\n",
        "prev_weights = {i: None for i in range(num_clients)}\n",
        "\n",
        "global_model = build_model(input_shape, num_classes)\n",
        "global_weights = global_model.get_weights()\n",
        "\n",
        "for r in range(rounds):\n",
        "    round_start = time.time()\n",
        "    updates, val_losses, trust_scores = {}, {}, {}\n",
        "\n",
        "    for i in range(num_clients):\n",
        "        model = build_model(input_shape, num_classes)\n",
        "        model.set_weights(global_weights)\n",
        "\n",
        "        X_c = client_X[i].reshape(client_X[i].shape[0], client_X[i].shape[1], 1)\n",
        "        y_c = to_categorical(client_y[i], num_classes=num_classes)\n",
        "        model.fit(X_c, y_c, epochs=1, batch_size=32, verbose=0)\n",
        "\n",
        "        updates[i] = model.get_weights()\n",
        "        loss, _ = model.evaluate(X_test, y_test_cat, verbose=0)\n",
        "        val_losses[i] = loss\n",
        "\n",
        "    # Normalize validation losses\n",
        "    min_l, max_l = min(val_losses.values()), max(val_losses.values())\n",
        "    for i in range(num_clients):\n",
        "        S_i = cosine_sim(updates[i], global_weights)\n",
        "        L_i = normalize(val_losses[i], min_l, max_l)\n",
        "        U_i = update_stability(updates[i], prev_weights[i])\n",
        "        trust_scores[i] = alpha[0]*S_i + alpha[1]*(1 - L_i) + alpha[2]*U_i\n",
        "        trust_history[i].append(trust_scores[i])\n",
        "        prev_weights[i] = updates[i]\n",
        "\n",
        "    total_trust = sum(trust_scores.values())\n",
        "    new_weights = [sum(trust_scores[i] * np.array(updates[i][j]) for i in updates) / total_trust for j in range(len(global_weights))]\n",
        "    global_model.set_weights(new_weights)\n",
        "\n",
        "    y_pred = global_model.predict(X_test)\n",
        "    y_pred_classes = np.argmax(y_pred, axis=1)\n",
        "    y_true = np.argmax(y_test_cat, axis=1)\n",
        "    acc = accuracy_score(y_true, y_pred_classes)\n",
        "    prec = precision_score(y_true, y_pred_classes, average='weighted')\n",
        "    rec = recall_score(y_true, y_pred_classes, average='weighted')\n",
        "    f1 = f1_score(y_true, y_pred_classes, average='weighted')\n",
        "    auc = roc_auc_score(y_test_cat, y_pred, multi_class='ovr')\n",
        "    round_time = time.time() - round_start\n",
        "\n",
        "    log.append({\n",
        "        'Round': r+1,\n",
        "        'Accuracy': acc,\n",
        "        'Precision': prec,\n",
        "        'Recall': rec,\n",
        "        'F1-Score': f1,\n",
        "        'AUC': auc,\n",
        "        'RoundTime(s)': round_time,\n",
        "        'MinTrust': min(trust_scores.values()),\n",
        "        'MaxTrust': max(trust_scores.values()),\n",
        "        'AvgTrust': np.mean(list(trust_scores.values()))\n",
        "    })\n",
        "\n",
        "    print(f\"Round {r+1}: Acc={acc:.4f}, F1={f1:.4f}, AUC={auc:.4f}, Time={round_time:.2f}s\")\n",
        "    print(\"Confusion Matrix:\")\n",
        "    print(confusion_matrix(y_true, y_pred_classes))\n",
        "    print(classification_report(y_true, y_pred_classes))\n",
        "\n",
        "# ----------------------------\n",
        "# Save Logs\n",
        "# ----------------------------\n",
        "df_log = pd.DataFrame(log)\n",
        "df_log.to_csv(\"trustfed_training_log.csv\", index=False)\n",
        "print(\"Training log saved to trustfed_training_log.csv\")"
      ],
      "metadata": {
        "colab": {
          "base_uri": "https://localhost:8080/"
        },
        "id": "7cB1UprWPq42",
        "outputId": "2cadaf55-fc7e-4baa-a2ea-9d8ce1778284"
      },
      "execution_count": 4,
      "outputs": [
        {
          "output_type": "stream",
          "name": "stderr",
          "text": [
            "/usr/local/lib/python3.11/dist-packages/keras/src/layers/core/input_layer.py:27: UserWarning: Argument `input_shape` is deprecated. Use `shape` instead.\n",
            "  warnings.warn(\n"
          ]
        },
        {
          "output_type": "stream",
          "name": "stdout",
          "text": [
            "\u001b[1m10628/10628\u001b[0m \u001b[32m━━━━━━━━━━━━━━━━━━━━\u001b[0m\u001b[37m\u001b[0m \u001b[1m34s\u001b[0m 3ms/step\n",
            "Round 1: Acc=0.6421, F1=0.5890, AUC=0.9227, Time=585.70s\n",
            "Confusion Matrix:\n",
            "[[64986   222     4  2730    71]\n",
            " [ 7375 50705   147  9786     0]\n",
            " [ 6341 42508  1488 17676     0]\n",
            " [ 8519  3757  6393 49345     0]\n",
            " [15618   412     0   149 51834]]\n",
            "              precision    recall  f1-score   support\n",
            "\n",
            "           0       0.63      0.96      0.76     68013\n",
            "           1       0.52      0.75      0.61     68013\n",
            "           2       0.19      0.02      0.04     68013\n",
            "           3       0.62      0.73      0.67     68014\n",
            "           4       1.00      0.76      0.86     68013\n",
            "\n",
            "    accuracy                           0.64    340066\n",
            "   macro avg       0.59      0.64      0.59    340066\n",
            "weighted avg       0.59      0.64      0.59    340066\n",
            "\n"
          ]
        },
        {
          "output_type": "stream",
          "name": "stderr",
          "text": [
            "/usr/local/lib/python3.11/dist-packages/keras/src/layers/core/input_layer.py:27: UserWarning: Argument `input_shape` is deprecated. Use `shape` instead.\n",
            "  warnings.warn(\n"
          ]
        },
        {
          "output_type": "stream",
          "name": "stdout",
          "text": [
            "\u001b[1m10628/10628\u001b[0m \u001b[32m━━━━━━━━━━━━━━━━━━━━\u001b[0m\u001b[37m\u001b[0m \u001b[1m34s\u001b[0m 3ms/step\n",
            "Round 2: Acc=0.6511, F1=0.5967, AUC=0.9164, Time=598.18s\n",
            "Confusion Matrix:\n",
            "[[66339   170     2  1348   154]\n",
            " [21088 38258   162  7860   645]\n",
            " [ 6895 43613  1541 15964     0]\n",
            " [ 9062   641  9278 49033     0]\n",
            " [ 1749     0     0     4 66260]]\n",
            "              precision    recall  f1-score   support\n",
            "\n",
            "           0       0.63      0.98      0.77     68013\n",
            "           1       0.46      0.56      0.51     68013\n",
            "           2       0.14      0.02      0.04     68013\n",
            "           3       0.66      0.72      0.69     68014\n",
            "           4       0.99      0.97      0.98     68013\n",
            "\n",
            "    accuracy                           0.65    340066\n",
            "   macro avg       0.58      0.65      0.60    340066\n",
            "weighted avg       0.58      0.65      0.60    340066\n",
            "\n"
          ]
        },
        {
          "output_type": "stream",
          "name": "stderr",
          "text": [
            "/usr/local/lib/python3.11/dist-packages/keras/src/layers/core/input_layer.py:27: UserWarning: Argument `input_shape` is deprecated. Use `shape` instead.\n",
            "  warnings.warn(\n"
          ]
        },
        {
          "output_type": "stream",
          "name": "stdout",
          "text": [
            "\u001b[1m10628/10628\u001b[0m \u001b[32m━━━━━━━━━━━━━━━━━━━━\u001b[0m\u001b[37m\u001b[0m \u001b[1m33s\u001b[0m 3ms/step\n",
            "Round 3: Acc=0.7061, F1=0.6668, AUC=0.9393, Time=589.21s\n",
            "Confusion Matrix:\n",
            "[[65956   823    12  1135    87]\n",
            " [ 4967 52848   107 10091     0]\n",
            " [ 2842 46458  7477 11236     0]\n",
            " [ 8484  3756  2909 52865     0]\n",
            " [ 1440  3276     0  2320 60977]]\n",
            "              precision    recall  f1-score   support\n",
            "\n",
            "           0       0.79      0.97      0.87     68013\n",
            "           1       0.49      0.78      0.60     68013\n",
            "           2       0.71      0.11      0.19     68013\n",
            "           3       0.68      0.78      0.73     68014\n",
            "           4       1.00      0.90      0.94     68013\n",
            "\n",
            "    accuracy                           0.71    340066\n",
            "   macro avg       0.73      0.71      0.67    340066\n",
            "weighted avg       0.73      0.71      0.67    340066\n",
            "\n"
          ]
        },
        {
          "output_type": "stream",
          "name": "stderr",
          "text": [
            "/usr/local/lib/python3.11/dist-packages/keras/src/layers/core/input_layer.py:27: UserWarning: Argument `input_shape` is deprecated. Use `shape` instead.\n",
            "  warnings.warn(\n"
          ]
        },
        {
          "output_type": "stream",
          "name": "stdout",
          "text": [
            "\u001b[1m10628/10628\u001b[0m \u001b[32m━━━━━━━━━━━━━━━━━━━━\u001b[0m\u001b[37m\u001b[0m \u001b[1m33s\u001b[0m 3ms/step\n",
            "Round 4: Acc=0.5808, F1=0.5237, AUC=0.8822, Time=592.31s\n",
            "Confusion Matrix:\n",
            "[[66211   251    63  1380   108]\n",
            " [42751 18140   146  6976     0]\n",
            " [21939 30234  1346 14494     0]\n",
            " [ 9274  3645  8666 46429     0]\n",
            " [ 1620     1     0   994 65398]]\n",
            "              precision    recall  f1-score   support\n",
            "\n",
            "           0       0.47      0.97      0.63     68013\n",
            "           1       0.35      0.27      0.30     68013\n",
            "           2       0.13      0.02      0.03     68013\n",
            "           3       0.66      0.68      0.67     68014\n",
            "           4       1.00      0.96      0.98     68013\n",
            "\n",
            "    accuracy                           0.58    340066\n",
            "   macro avg       0.52      0.58      0.52    340066\n",
            "weighted avg       0.52      0.58      0.52    340066\n",
            "\n"
          ]
        },
        {
          "output_type": "stream",
          "name": "stderr",
          "text": [
            "/usr/local/lib/python3.11/dist-packages/keras/src/layers/core/input_layer.py:27: UserWarning: Argument `input_shape` is deprecated. Use `shape` instead.\n",
            "  warnings.warn(\n"
          ]
        },
        {
          "output_type": "stream",
          "name": "stdout",
          "text": [
            "\u001b[1m10628/10628\u001b[0m \u001b[32m━━━━━━━━━━━━━━━━━━━━\u001b[0m\u001b[37m\u001b[0m \u001b[1m34s\u001b[0m 3ms/step\n",
            "Round 5: Acc=0.5927, F1=0.5444, AUC=0.8971, Time=595.16s\n",
            "Confusion Matrix:\n",
            "[[61689   341    13  5919    51]\n",
            " [ 9825 50013   162  8013     0]\n",
            " [ 8119 43020  1510 15364     0]\n",
            " [ 9094  6182  6744 45994     0]\n",
            " [22428  2211     0  1012 42362]]\n",
            "              precision    recall  f1-score   support\n",
            "\n",
            "           0       0.55      0.91      0.69     68013\n",
            "           1       0.49      0.74      0.59     68013\n",
            "           2       0.18      0.02      0.04     68013\n",
            "           3       0.60      0.68      0.64     68014\n",
            "           4       1.00      0.62      0.77     68013\n",
            "\n",
            "    accuracy                           0.59    340066\n",
            "   macro avg       0.57      0.59      0.54    340066\n",
            "weighted avg       0.57      0.59      0.54    340066\n",
            "\n"
          ]
        },
        {
          "output_type": "stream",
          "name": "stderr",
          "text": [
            "/usr/local/lib/python3.11/dist-packages/keras/src/layers/core/input_layer.py:27: UserWarning: Argument `input_shape` is deprecated. Use `shape` instead.\n",
            "  warnings.warn(\n"
          ]
        },
        {
          "output_type": "stream",
          "name": "stdout",
          "text": [
            "\u001b[1m10628/10628\u001b[0m \u001b[32m━━━━━━━━━━━━━━━━━━━━\u001b[0m\u001b[37m\u001b[0m \u001b[1m35s\u001b[0m 3ms/step\n",
            "Round 6: Acc=0.5855, F1=0.5372, AUC=0.9032, Time=608.10s\n",
            "Confusion Matrix:\n",
            "[[66732   103     4  1122    52]\n",
            " [25622 31904   131 10356     0]\n",
            " [ 7183 42171  1416 17243     0]\n",
            " [ 7600  1262  8859 50293     0]\n",
            " [18747   151     0   346 48769]]\n",
            "              precision    recall  f1-score   support\n",
            "\n",
            "           0       0.53      0.98      0.69     68013\n",
            "           1       0.42      0.47      0.44     68013\n",
            "           2       0.14      0.02      0.04     68013\n",
            "           3       0.63      0.74      0.68     68014\n",
            "           4       1.00      0.72      0.83     68013\n",
            "\n",
            "    accuracy                           0.59    340066\n",
            "   macro avg       0.54      0.59      0.54    340066\n",
            "weighted avg       0.54      0.59      0.54    340066\n",
            "\n"
          ]
        },
        {
          "output_type": "stream",
          "name": "stderr",
          "text": [
            "/usr/local/lib/python3.11/dist-packages/keras/src/layers/core/input_layer.py:27: UserWarning: Argument `input_shape` is deprecated. Use `shape` instead.\n",
            "  warnings.warn(\n"
          ]
        },
        {
          "output_type": "stream",
          "name": "stdout",
          "text": [
            "\u001b[1m10628/10628\u001b[0m \u001b[32m━━━━━━━━━━━━━━━━━━━━\u001b[0m\u001b[37m\u001b[0m \u001b[1m35s\u001b[0m 3ms/step\n",
            "Round 7: Acc=0.6064, F1=0.5826, AUC=0.9049, Time=599.75s\n",
            "Confusion Matrix:\n",
            "[[65121   293    42  2513    44]\n",
            " [27380 31024   124  9485     0]\n",
            " [12971 38720 10266  6056     0]\n",
            " [ 8689  4151  4180 50994     0]\n",
            " [13006  6005     0   186 48816]]\n",
            "              precision    recall  f1-score   support\n",
            "\n",
            "           0       0.51      0.96      0.67     68013\n",
            "           1       0.39      0.46      0.42     68013\n",
            "           2       0.70      0.15      0.25     68013\n",
            "           3       0.74      0.75      0.74     68014\n",
            "           4       1.00      0.72      0.84     68013\n",
            "\n",
            "    accuracy                           0.61    340066\n",
            "   macro avg       0.67      0.61      0.58    340066\n",
            "weighted avg       0.67      0.61      0.58    340066\n",
            "\n"
          ]
        },
        {
          "output_type": "stream",
          "name": "stderr",
          "text": [
            "/usr/local/lib/python3.11/dist-packages/keras/src/layers/core/input_layer.py:27: UserWarning: Argument `input_shape` is deprecated. Use `shape` instead.\n",
            "  warnings.warn(\n"
          ]
        },
        {
          "output_type": "stream",
          "name": "stdout",
          "text": [
            "\u001b[1m10628/10628\u001b[0m \u001b[32m━━━━━━━━━━━━━━━━━━━━\u001b[0m\u001b[37m\u001b[0m \u001b[1m34s\u001b[0m 3ms/step\n",
            "Round 8: Acc=0.5898, F1=0.5626, AUC=0.9056, Time=599.02s\n",
            "Confusion Matrix:\n",
            "[[66144   400    65  1359    45]\n",
            " [17721 39564  2454  8242    32]\n",
            " [ 9524 35884  8436 14169     0]\n",
            " [ 8865   418 12648 46083     0]\n",
            " [26033  1639     0     2 40339]]\n",
            "              precision    recall  f1-score   support\n",
            "\n",
            "           0       0.52      0.97      0.67     68013\n",
            "           1       0.51      0.58      0.54     68013\n",
            "           2       0.36      0.12      0.18     68013\n",
            "           3       0.66      0.68      0.67     68014\n",
            "           4       1.00      0.59      0.74     68013\n",
            "\n",
            "    accuracy                           0.59    340066\n",
            "   macro avg       0.61      0.59      0.56    340066\n",
            "weighted avg       0.61      0.59      0.56    340066\n",
            "\n"
          ]
        },
        {
          "output_type": "stream",
          "name": "stderr",
          "text": [
            "/usr/local/lib/python3.11/dist-packages/keras/src/layers/core/input_layer.py:27: UserWarning: Argument `input_shape` is deprecated. Use `shape` instead.\n",
            "  warnings.warn(\n"
          ]
        },
        {
          "output_type": "stream",
          "name": "stdout",
          "text": [
            "\u001b[1m10628/10628\u001b[0m \u001b[32m━━━━━━━━━━━━━━━━━━━━\u001b[0m\u001b[37m\u001b[0m \u001b[1m33s\u001b[0m 3ms/step\n",
            "Round 9: Acc=0.6136, F1=0.5776, AUC=0.9064, Time=602.41s\n",
            "Confusion Matrix:\n",
            "[[66580   274     1  1111    47]\n",
            " [12130 45718   158 10007     0]\n",
            " [10264 39200  5751 12798     0]\n",
            " [ 8870  4689  4751 49704     0]\n",
            " [ 3946 23161     0     6 40900]]\n",
            "              precision    recall  f1-score   support\n",
            "\n",
            "           0       0.65      0.98      0.78     68013\n",
            "           1       0.40      0.67      0.51     68013\n",
            "           2       0.54      0.08      0.15     68013\n",
            "           3       0.68      0.73      0.70     68014\n",
            "           4       1.00      0.60      0.75     68013\n",
            "\n",
            "    accuracy                           0.61    340066\n",
            "   macro avg       0.65      0.61      0.58    340066\n",
            "weighted avg       0.65      0.61      0.58    340066\n",
            "\n"
          ]
        },
        {
          "output_type": "stream",
          "name": "stderr",
          "text": [
            "/usr/local/lib/python3.11/dist-packages/keras/src/layers/core/input_layer.py:27: UserWarning: Argument `input_shape` is deprecated. Use `shape` instead.\n",
            "  warnings.warn(\n"
          ]
        },
        {
          "output_type": "stream",
          "name": "stdout",
          "text": [
            "\u001b[1m10628/10628\u001b[0m \u001b[32m━━━━━━━━━━━━━━━━━━━━\u001b[0m\u001b[37m\u001b[0m \u001b[1m33s\u001b[0m 3ms/step\n",
            "Round 10: Acc=0.6349, F1=0.5957, AUC=0.9038, Time=596.33s\n",
            "Confusion Matrix:\n",
            "[[67233   196    48   480    56]\n",
            " [20471 41572   173  5797     0]\n",
            " [12494 40022  5017 10480     0]\n",
            " [ 9858  5232  6632 46292     0]\n",
            " [ 5579  6308     0   345 55781]]\n",
            "              precision    recall  f1-score   support\n",
            "\n",
            "           0       0.58      0.99      0.73     68013\n",
            "           1       0.45      0.61      0.52     68013\n",
            "           2       0.42      0.07      0.13     68013\n",
            "           3       0.73      0.68      0.70     68014\n",
            "           4       1.00      0.82      0.90     68013\n",
            "\n",
            "    accuracy                           0.63    340066\n",
            "   macro avg       0.64      0.63      0.60    340066\n",
            "weighted avg       0.64      0.63      0.60    340066\n",
            "\n"
          ]
        },
        {
          "output_type": "stream",
          "name": "stderr",
          "text": [
            "/usr/local/lib/python3.11/dist-packages/keras/src/layers/core/input_layer.py:27: UserWarning: Argument `input_shape` is deprecated. Use `shape` instead.\n",
            "  warnings.warn(\n"
          ]
        },
        {
          "output_type": "stream",
          "name": "stdout",
          "text": [
            "\u001b[1m10628/10628\u001b[0m \u001b[32m━━━━━━━━━━━━━━━━━━━━\u001b[0m\u001b[37m\u001b[0m \u001b[1m33s\u001b[0m 3ms/step\n",
            "Round 11: Acc=0.6934, F1=0.6786, AUC=0.9209, Time=606.33s\n",
            "Confusion Matrix:\n",
            "[[61669   818   358  5097    71]\n",
            " [ 4825 48417  5221  9550     0]\n",
            " [ 3464 34892 17655 12002     0]\n",
            " [ 8881   103  9066 49964     0]\n",
            " [ 4089  5521     0   312 58091]]\n",
            "              precision    recall  f1-score   support\n",
            "\n",
            "           0       0.74      0.91      0.82     68013\n",
            "           1       0.54      0.71      0.61     68013\n",
            "           2       0.55      0.26      0.35     68013\n",
            "           3       0.65      0.73      0.69     68014\n",
            "           4       1.00      0.85      0.92     68013\n",
            "\n",
            "    accuracy                           0.69    340066\n",
            "   macro avg       0.70      0.69      0.68    340066\n",
            "weighted avg       0.70      0.69      0.68    340066\n",
            "\n"
          ]
        },
        {
          "output_type": "stream",
          "name": "stderr",
          "text": [
            "/usr/local/lib/python3.11/dist-packages/keras/src/layers/core/input_layer.py:27: UserWarning: Argument `input_shape` is deprecated. Use `shape` instead.\n",
            "  warnings.warn(\n"
          ]
        },
        {
          "output_type": "stream",
          "name": "stdout",
          "text": [
            "\u001b[1m10628/10628\u001b[0m \u001b[32m━━━━━━━━━━━━━━━━━━━━\u001b[0m\u001b[37m\u001b[0m \u001b[1m33s\u001b[0m 3ms/step\n",
            "Round 12: Acc=0.6611, F1=0.6326, AUC=0.9139, Time=592.45s\n",
            "Confusion Matrix:\n",
            "[[66606   225     9  1090    83]\n",
            " [16717 40980   192 10118     6]\n",
            " [ 4425 46468 10032  7088     0]\n",
            " [ 8664  3574 10886 44890     0]\n",
            " [ 5059   316     0   316 62322]]\n",
            "              precision    recall  f1-score   support\n",
            "\n",
            "           0       0.66      0.98      0.79     68013\n",
            "           1       0.45      0.60      0.51     68013\n",
            "           2       0.48      0.15      0.23     68013\n",
            "           3       0.71      0.66      0.68     68014\n",
            "           4       1.00      0.92      0.96     68013\n",
            "\n",
            "    accuracy                           0.66    340066\n",
            "   macro avg       0.66      0.66      0.63    340066\n",
            "weighted avg       0.66      0.66      0.63    340066\n",
            "\n"
          ]
        },
        {
          "output_type": "stream",
          "name": "stderr",
          "text": [
            "/usr/local/lib/python3.11/dist-packages/keras/src/layers/core/input_layer.py:27: UserWarning: Argument `input_shape` is deprecated. Use `shape` instead.\n",
            "  warnings.warn(\n"
          ]
        },
        {
          "output_type": "stream",
          "name": "stdout",
          "text": [
            "\u001b[1m10628/10628\u001b[0m \u001b[32m━━━━━━━━━━━━━━━━━━━━\u001b[0m\u001b[37m\u001b[0m \u001b[1m32s\u001b[0m 3ms/step\n",
            "Round 13: Acc=0.6983, F1=0.6549, AUC=0.9254, Time=577.61s\n",
            "Confusion Matrix:\n",
            "[[67129   383     8   388   105]\n",
            " [ 7988 55537   182  4233    73]\n",
            " [ 5127 45692  5355 11839     0]\n",
            " [ 9066  3612  7549 47787     0]\n",
            " [  598  5618     0   149 61648]]\n",
            "              precision    recall  f1-score   support\n",
            "\n",
            "           0       0.75      0.99      0.85     68013\n",
            "           1       0.50      0.82      0.62     68013\n",
            "           2       0.41      0.08      0.13     68013\n",
            "           3       0.74      0.70      0.72     68014\n",
            "           4       1.00      0.91      0.95     68013\n",
            "\n",
            "    accuracy                           0.70    340066\n",
            "   macro avg       0.68      0.70      0.65    340066\n",
            "weighted avg       0.68      0.70      0.65    340066\n",
            "\n"
          ]
        },
        {
          "output_type": "stream",
          "name": "stderr",
          "text": [
            "/usr/local/lib/python3.11/dist-packages/keras/src/layers/core/input_layer.py:27: UserWarning: Argument `input_shape` is deprecated. Use `shape` instead.\n",
            "  warnings.warn(\n"
          ]
        },
        {
          "output_type": "stream",
          "name": "stdout",
          "text": [
            "\u001b[1m10628/10628\u001b[0m \u001b[32m━━━━━━━━━━━━━━━━━━━━\u001b[0m\u001b[37m\u001b[0m \u001b[1m32s\u001b[0m 3ms/step\n",
            "Round 14: Acc=0.5991, F1=0.5520, AUC=0.8907, Time=591.69s\n",
            "Confusion Matrix:\n",
            "[[64815   379   344  2235   240]\n",
            " [27768 33482   164  6204   395]\n",
            " [10547 41983  1560 13923     0]\n",
            " [ 9848  6431  4661 47074     0]\n",
            " [ 2352  8862     0     1 56798]]\n",
            "              precision    recall  f1-score   support\n",
            "\n",
            "           0       0.56      0.95      0.71     68013\n",
            "           1       0.37      0.49      0.42     68013\n",
            "           2       0.23      0.02      0.04     68013\n",
            "           3       0.68      0.69      0.68     68014\n",
            "           4       0.99      0.84      0.91     68013\n",
            "\n",
            "    accuracy                           0.60    340066\n",
            "   macro avg       0.57      0.60      0.55    340066\n",
            "weighted avg       0.57      0.60      0.55    340066\n",
            "\n"
          ]
        },
        {
          "output_type": "stream",
          "name": "stderr",
          "text": [
            "/usr/local/lib/python3.11/dist-packages/keras/src/layers/core/input_layer.py:27: UserWarning: Argument `input_shape` is deprecated. Use `shape` instead.\n",
            "  warnings.warn(\n"
          ]
        },
        {
          "output_type": "stream",
          "name": "stdout",
          "text": [
            "\u001b[1m10628/10628\u001b[0m \u001b[32m━━━━━━━━━━━━━━━━━━━━\u001b[0m\u001b[37m\u001b[0m \u001b[1m34s\u001b[0m 3ms/step\n",
            "Round 15: Acc=0.7357, F1=0.7103, AUC=0.9395, Time=586.58s\n",
            "Confusion Matrix:\n",
            "[[67091   338    23   460   101]\n",
            " [ 7658 55019   226  5110     0]\n",
            " [ 3702 46623 13737  3951     0]\n",
            " [ 9231   324  9437 49022     0]\n",
            " [  134  2483     0    94 65302]]\n",
            "              precision    recall  f1-score   support\n",
            "\n",
            "           0       0.76      0.99      0.86     68013\n",
            "           1       0.53      0.81      0.64     68013\n",
            "           2       0.59      0.20      0.30     68013\n",
            "           3       0.84      0.72      0.77     68014\n",
            "           4       1.00      0.96      0.98     68013\n",
            "\n",
            "    accuracy                           0.74    340066\n",
            "   macro avg       0.74      0.74      0.71    340066\n",
            "weighted avg       0.74      0.74      0.71    340066\n",
            "\n"
          ]
        },
        {
          "output_type": "stream",
          "name": "stderr",
          "text": [
            "/usr/local/lib/python3.11/dist-packages/keras/src/layers/core/input_layer.py:27: UserWarning: Argument `input_shape` is deprecated. Use `shape` instead.\n",
            "  warnings.warn(\n"
          ]
        },
        {
          "output_type": "stream",
          "name": "stdout",
          "text": [
            "\u001b[1m10628/10628\u001b[0m \u001b[32m━━━━━━━━━━━━━━━━━━━━\u001b[0m\u001b[37m\u001b[0m \u001b[1m33s\u001b[0m 3ms/step\n",
            "Round 16: Acc=0.4903, F1=0.4542, AUC=0.8662, Time=579.68s\n",
            "Confusion Matrix:\n",
            "[[65057   210   133  2582    31]\n",
            " [39443 27823   167   580     0]\n",
            " [14755 39874  1479 11905     0]\n",
            " [11060  6367  8588 41999     0]\n",
            " [18776 18748     0   103 30386]]\n",
            "              precision    recall  f1-score   support\n",
            "\n",
            "           0       0.44      0.96      0.60     68013\n",
            "           1       0.30      0.41      0.35     68013\n",
            "           2       0.14      0.02      0.04     68013\n",
            "           3       0.73      0.62      0.67     68014\n",
            "           4       1.00      0.45      0.62     68013\n",
            "\n",
            "    accuracy                           0.49    340066\n",
            "   macro avg       0.52      0.49      0.45    340066\n",
            "weighted avg       0.52      0.49      0.45    340066\n",
            "\n"
          ]
        },
        {
          "output_type": "stream",
          "name": "stderr",
          "text": [
            "/usr/local/lib/python3.11/dist-packages/keras/src/layers/core/input_layer.py:27: UserWarning: Argument `input_shape` is deprecated. Use `shape` instead.\n",
            "  warnings.warn(\n"
          ]
        },
        {
          "output_type": "stream",
          "name": "stdout",
          "text": [
            "\u001b[1m10628/10628\u001b[0m \u001b[32m━━━━━━━━━━━━━━━━━━━━\u001b[0m\u001b[37m\u001b[0m \u001b[1m33s\u001b[0m 3ms/step\n",
            "Round 17: Acc=0.6799, F1=0.6613, AUC=0.9088, Time=601.30s\n",
            "Confusion Matrix:\n",
            "[[66467   247   122  1113    64]\n",
            " [13624 45575   174  8640     0]\n",
            " [ 8950 41733 14737  2593     0]\n",
            " [ 9420  4599  5010 48985     0]\n",
            " [ 6413  6096     0    62 55442]]\n",
            "              precision    recall  f1-score   support\n",
            "\n",
            "           0       0.63      0.98      0.77     68013\n",
            "           1       0.46      0.67      0.55     68013\n",
            "           2       0.74      0.22      0.33     68013\n",
            "           3       0.80      0.72      0.76     68014\n",
            "           4       1.00      0.82      0.90     68013\n",
            "\n",
            "    accuracy                           0.68    340066\n",
            "   macro avg       0.73      0.68      0.66    340066\n",
            "weighted avg       0.73      0.68      0.66    340066\n",
            "\n"
          ]
        },
        {
          "output_type": "stream",
          "name": "stderr",
          "text": [
            "/usr/local/lib/python3.11/dist-packages/keras/src/layers/core/input_layer.py:27: UserWarning: Argument `input_shape` is deprecated. Use `shape` instead.\n",
            "  warnings.warn(\n"
          ]
        },
        {
          "output_type": "stream",
          "name": "stdout",
          "text": [
            "\u001b[1m10628/10628\u001b[0m \u001b[32m━━━━━━━━━━━━━━━━━━━━\u001b[0m\u001b[37m\u001b[0m \u001b[1m33s\u001b[0m 3ms/step\n",
            "Round 18: Acc=0.6594, F1=0.6087, AUC=0.9190, Time=582.52s\n",
            "Confusion Matrix:\n",
            "[[63822   399    57  3626   109]\n",
            " [11932 50830   169  4923   159]\n",
            " [ 6977 43750  1537 15749     0]\n",
            " [ 9078  2867  9093 46976     0]\n",
            " [  619  6324     0     0 61070]]\n",
            "              precision    recall  f1-score   support\n",
            "\n",
            "           0       0.69      0.94      0.80     68013\n",
            "           1       0.49      0.75      0.59     68013\n",
            "           2       0.14      0.02      0.04     68013\n",
            "           3       0.66      0.69      0.67     68014\n",
            "           4       1.00      0.90      0.94     68013\n",
            "\n",
            "    accuracy                           0.66    340066\n",
            "   macro avg       0.59      0.66      0.61    340066\n",
            "weighted avg       0.59      0.66      0.61    340066\n",
            "\n"
          ]
        },
        {
          "output_type": "stream",
          "name": "stderr",
          "text": [
            "/usr/local/lib/python3.11/dist-packages/keras/src/layers/core/input_layer.py:27: UserWarning: Argument `input_shape` is deprecated. Use `shape` instead.\n",
            "  warnings.warn(\n"
          ]
        },
        {
          "output_type": "stream",
          "name": "stdout",
          "text": [
            "\u001b[1m10628/10628\u001b[0m \u001b[32m━━━━━━━━━━━━━━━━━━━━\u001b[0m\u001b[37m\u001b[0m \u001b[1m37s\u001b[0m 3ms/step\n",
            "Round 19: Acc=0.6797, F1=0.6660, AUC=0.9312, Time=627.42s\n",
            "Confusion Matrix:\n",
            "[[66273   272   147  1270    51]\n",
            " [18161 48526   214  1112     0]\n",
            " [ 2455 47228 16006  2324     0]\n",
            " [ 8807   415  9149 49643     0]\n",
            " [16727   559     0    34 50693]]\n",
            "              precision    recall  f1-score   support\n",
            "\n",
            "           0       0.59      0.97      0.73     68013\n",
            "           1       0.50      0.71      0.59     68013\n",
            "           2       0.63      0.24      0.34     68013\n",
            "           3       0.91      0.73      0.81     68014\n",
            "           4       1.00      0.75      0.85     68013\n",
            "\n",
            "    accuracy                           0.68    340066\n",
            "   macro avg       0.73      0.68      0.67    340066\n",
            "weighted avg       0.73      0.68      0.67    340066\n",
            "\n"
          ]
        },
        {
          "output_type": "stream",
          "name": "stderr",
          "text": [
            "/usr/local/lib/python3.11/dist-packages/keras/src/layers/core/input_layer.py:27: UserWarning: Argument `input_shape` is deprecated. Use `shape` instead.\n",
            "  warnings.warn(\n"
          ]
        },
        {
          "output_type": "stream",
          "name": "stdout",
          "text": [
            "\u001b[1m10628/10628\u001b[0m \u001b[32m━━━━━━━━━━━━━━━━━━━━\u001b[0m\u001b[37m\u001b[0m \u001b[1m37s\u001b[0m 3ms/step\n",
            "Round 20: Acc=0.6603, F1=0.6162, AUC=0.9151, Time=647.10s\n",
            "Confusion Matrix:\n",
            "[[66985   297    26   642    63]\n",
            " [11643 49670   184  6482    34]\n",
            " [ 5769 46720  3502 12022     0]\n",
            " [ 9468  4118  6973 47455     0]\n",
            " [ 1497  9524     0    70 56922]]\n",
            "              precision    recall  f1-score   support\n",
            "\n",
            "           0       0.70      0.98      0.82     68013\n",
            "           1       0.45      0.73      0.56     68013\n",
            "           2       0.33      0.05      0.09     68013\n",
            "           3       0.71      0.70      0.70     68014\n",
            "           4       1.00      0.84      0.91     68013\n",
            "\n",
            "    accuracy                           0.66    340066\n",
            "   macro avg       0.64      0.66      0.62    340066\n",
            "weighted avg       0.64      0.66      0.62    340066\n",
            "\n"
          ]
        },
        {
          "output_type": "stream",
          "name": "stderr",
          "text": [
            "/usr/local/lib/python3.11/dist-packages/keras/src/layers/core/input_layer.py:27: UserWarning: Argument `input_shape` is deprecated. Use `shape` instead.\n",
            "  warnings.warn(\n"
          ]
        },
        {
          "output_type": "stream",
          "name": "stdout",
          "text": [
            "\u001b[1m10628/10628\u001b[0m \u001b[32m━━━━━━━━━━━━━━━━━━━━\u001b[0m\u001b[37m\u001b[0m \u001b[1m36s\u001b[0m 3ms/step\n",
            "Round 21: Acc=0.7716, F1=0.7649, AUC=0.9430, Time=664.47s\n",
            "Confusion Matrix:\n",
            "[[65042   606   255  2040    70]\n",
            " [ 1804 29644 23986 12579     0]\n",
            " [    0  3438 57346  7229     0]\n",
            " [ 4272   162  8927 54653     0]\n",
            " [ 5850  5448     0  1002 55713]]\n",
            "              precision    recall  f1-score   support\n",
            "\n",
            "           0       0.85      0.96      0.90     68013\n",
            "           1       0.75      0.44      0.55     68013\n",
            "           2       0.63      0.84      0.72     68013\n",
            "           3       0.71      0.80      0.75     68014\n",
            "           4       1.00      0.82      0.90     68013\n",
            "\n",
            "    accuracy                           0.77    340066\n",
            "   macro avg       0.79      0.77      0.76    340066\n",
            "weighted avg       0.79      0.77      0.76    340066\n",
            "\n"
          ]
        },
        {
          "output_type": "stream",
          "name": "stderr",
          "text": [
            "/usr/local/lib/python3.11/dist-packages/keras/src/layers/core/input_layer.py:27: UserWarning: Argument `input_shape` is deprecated. Use `shape` instead.\n",
            "  warnings.warn(\n"
          ]
        },
        {
          "output_type": "stream",
          "name": "stdout",
          "text": [
            "\u001b[1m10628/10628\u001b[0m \u001b[32m━━━━━━━━━━━━━━━━━━━━\u001b[0m\u001b[37m\u001b[0m \u001b[1m37s\u001b[0m 4ms/step\n",
            "Round 22: Acc=0.7399, F1=0.7323, AUC=0.9493, Time=642.34s\n",
            "Confusion Matrix:\n",
            "[[67165   393    24   364    67]\n",
            " [ 8616 29673 23761  5963     0]\n",
            " [   15  4392 46081 17525     0]\n",
            " [ 8175   183  4490 55166     0]\n",
            " [10681  3024     0   776 53532]]\n",
            "              precision    recall  f1-score   support\n",
            "\n",
            "           0       0.71      0.99      0.83     68013\n",
            "           1       0.79      0.44      0.56     68013\n",
            "           2       0.62      0.68      0.65     68013\n",
            "           3       0.69      0.81      0.75     68014\n",
            "           4       1.00      0.79      0.88     68013\n",
            "\n",
            "    accuracy                           0.74    340066\n",
            "   macro avg       0.76      0.74      0.73    340066\n",
            "weighted avg       0.76      0.74      0.73    340066\n",
            "\n"
          ]
        },
        {
          "output_type": "stream",
          "name": "stderr",
          "text": [
            "/usr/local/lib/python3.11/dist-packages/keras/src/layers/core/input_layer.py:27: UserWarning: Argument `input_shape` is deprecated. Use `shape` instead.\n",
            "  warnings.warn(\n"
          ]
        },
        {
          "output_type": "stream",
          "name": "stdout",
          "text": [
            "\u001b[1m10628/10628\u001b[0m \u001b[32m━━━━━━━━━━━━━━━━━━━━\u001b[0m\u001b[37m\u001b[0m \u001b[1m33s\u001b[0m 3ms/step\n",
            "Round 23: Acc=0.5318, F1=0.5018, AUC=0.9031, Time=628.46s\n",
            "Confusion Matrix:\n",
            "[[67437   137     5   394    40]\n",
            " [42010 24950   164   889     0]\n",
            " [14506 39751  4495  9261     0]\n",
            " [ 9829  4594  7084 46507     0]\n",
            " [30120   230     0   211 37452]]\n",
            "              precision    recall  f1-score   support\n",
            "\n",
            "           0       0.41      0.99      0.58     68013\n",
            "           1       0.36      0.37      0.36     68013\n",
            "           2       0.38      0.07      0.11     68013\n",
            "           3       0.81      0.68      0.74     68014\n",
            "           4       1.00      0.55      0.71     68013\n",
            "\n",
            "    accuracy                           0.53    340066\n",
            "   macro avg       0.59      0.53      0.50    340066\n",
            "weighted avg       0.59      0.53      0.50    340066\n",
            "\n"
          ]
        },
        {
          "output_type": "stream",
          "name": "stderr",
          "text": [
            "/usr/local/lib/python3.11/dist-packages/keras/src/layers/core/input_layer.py:27: UserWarning: Argument `input_shape` is deprecated. Use `shape` instead.\n",
            "  warnings.warn(\n"
          ]
        },
        {
          "output_type": "stream",
          "name": "stdout",
          "text": [
            "\u001b[1m10628/10628\u001b[0m \u001b[32m━━━━━━━━━━━━━━━━━━━━\u001b[0m\u001b[37m\u001b[0m \u001b[1m33s\u001b[0m 3ms/step\n",
            "Round 24: Acc=0.6404, F1=0.6233, AUC=0.9259, Time=590.44s\n",
            "Confusion Matrix:\n",
            "[[64364   672    61  2882    34]\n",
            " [ 7180 53379   170  7284     0]\n",
            " [ 3420 48254 13782  2557     0]\n",
            " [ 8893  5522  4806 48793     0]\n",
            " [10300 19351     0   906 37456]]\n",
            "              precision    recall  f1-score   support\n",
            "\n",
            "           0       0.68      0.95      0.79     68013\n",
            "           1       0.42      0.78      0.55     68013\n",
            "           2       0.73      0.20      0.32     68013\n",
            "           3       0.78      0.72      0.75     68014\n",
            "           4       1.00      0.55      0.71     68013\n",
            "\n",
            "    accuracy                           0.64    340066\n",
            "   macro avg       0.72      0.64      0.62    340066\n",
            "weighted avg       0.72      0.64      0.62    340066\n",
            "\n"
          ]
        },
        {
          "output_type": "stream",
          "name": "stderr",
          "text": [
            "/usr/local/lib/python3.11/dist-packages/keras/src/layers/core/input_layer.py:27: UserWarning: Argument `input_shape` is deprecated. Use `shape` instead.\n",
            "  warnings.warn(\n"
          ]
        },
        {
          "output_type": "stream",
          "name": "stdout",
          "text": [
            "\u001b[1m10628/10628\u001b[0m \u001b[32m━━━━━━━━━━━━━━━━━━━━\u001b[0m\u001b[37m\u001b[0m \u001b[1m35s\u001b[0m 3ms/step\n",
            "Round 25: Acc=0.7282, F1=0.7278, AUC=0.9330, Time=641.73s\n",
            "Confusion Matrix:\n",
            "[[64482  1718   106  1650    57]\n",
            " [ 6237 32119 21703  7954     0]\n",
            " [  725 16744 46945  3599     0]\n",
            " [ 8840   547 10072 48555     0]\n",
            " [ 2210  9924     0   336 55543]]\n",
            "              precision    recall  f1-score   support\n",
            "\n",
            "           0       0.78      0.95      0.86     68013\n",
            "           1       0.53      0.47      0.50     68013\n",
            "           2       0.60      0.69      0.64     68013\n",
            "           3       0.78      0.71      0.75     68014\n",
            "           4       1.00      0.82      0.90     68013\n",
            "\n",
            "    accuracy                           0.73    340066\n",
            "   macro avg       0.74      0.73      0.73    340066\n",
            "weighted avg       0.74      0.73      0.73    340066\n",
            "\n"
          ]
        },
        {
          "output_type": "stream",
          "name": "stderr",
          "text": [
            "/usr/local/lib/python3.11/dist-packages/keras/src/layers/core/input_layer.py:27: UserWarning: Argument `input_shape` is deprecated. Use `shape` instead.\n",
            "  warnings.warn(\n"
          ]
        },
        {
          "output_type": "stream",
          "name": "stdout",
          "text": [
            "\u001b[1m10628/10628\u001b[0m \u001b[32m━━━━━━━━━━━━━━━━━━━━\u001b[0m\u001b[37m\u001b[0m \u001b[1m34s\u001b[0m 3ms/step\n",
            "Round 26: Acc=0.6878, F1=0.6635, AUC=0.9309, Time=610.45s\n",
            "Confusion Matrix:\n",
            "[[65789   125    95  1907    97]\n",
            " [20092 35512   240 12169     0]\n",
            " [ 3544 43656 14579  6234     0]\n",
            " [ 7415   776  6612 53211     0]\n",
            " [ 1492  1661     0    66 64794]]\n",
            "              precision    recall  f1-score   support\n",
            "\n",
            "           0       0.67      0.97      0.79     68013\n",
            "           1       0.43      0.52      0.47     68013\n",
            "           2       0.68      0.21      0.33     68013\n",
            "           3       0.72      0.78      0.75     68014\n",
            "           4       1.00      0.95      0.98     68013\n",
            "\n",
            "    accuracy                           0.69    340066\n",
            "   macro avg       0.70      0.69      0.66    340066\n",
            "weighted avg       0.70      0.69      0.66    340066\n",
            "\n"
          ]
        },
        {
          "output_type": "stream",
          "name": "stderr",
          "text": [
            "/usr/local/lib/python3.11/dist-packages/keras/src/layers/core/input_layer.py:27: UserWarning: Argument `input_shape` is deprecated. Use `shape` instead.\n",
            "  warnings.warn(\n"
          ]
        },
        {
          "output_type": "stream",
          "name": "stdout",
          "text": [
            "\u001b[1m10628/10628\u001b[0m \u001b[32m━━━━━━━━━━━━━━━━━━━━\u001b[0m\u001b[37m\u001b[0m \u001b[1m33s\u001b[0m 3ms/step\n",
            "Round 27: Acc=0.6437, F1=0.6214, AUC=0.9185, Time=591.66s\n",
            "Confusion Matrix:\n",
            "[[65468   225   216  2017    87]\n",
            " [34172 27734   224  5883     0]\n",
            " [ 8337 41132 13536  5008     0]\n",
            " [ 8552  3652  6206 49604     0]\n",
            " [ 5043     0     0   395 62575]]\n",
            "              precision    recall  f1-score   support\n",
            "\n",
            "           0       0.54      0.96      0.69     68013\n",
            "           1       0.38      0.41      0.39     68013\n",
            "           2       0.67      0.20      0.31     68013\n",
            "           3       0.79      0.73      0.76     68014\n",
            "           4       1.00      0.92      0.96     68013\n",
            "\n",
            "    accuracy                           0.64    340066\n",
            "   macro avg       0.68      0.64      0.62    340066\n",
            "weighted avg       0.68      0.64      0.62    340066\n",
            "\n"
          ]
        },
        {
          "output_type": "stream",
          "name": "stderr",
          "text": [
            "/usr/local/lib/python3.11/dist-packages/keras/src/layers/core/input_layer.py:27: UserWarning: Argument `input_shape` is deprecated. Use `shape` instead.\n",
            "  warnings.warn(\n"
          ]
        },
        {
          "output_type": "stream",
          "name": "stdout",
          "text": [
            "\u001b[1m10628/10628\u001b[0m \u001b[32m━━━━━━━━━━━━━━━━━━━━\u001b[0m\u001b[37m\u001b[0m \u001b[1m33s\u001b[0m 3ms/step\n",
            "Round 28: Acc=0.6913, F1=0.6875, AUC=0.9295, Time=616.46s\n",
            "Confusion Matrix:\n",
            "[[59192   349    89  8343    40]\n",
            " [ 3835 30906 22078 11194     0]\n",
            " [ 1158  9078 48287  9490     0]\n",
            " [ 5634    51  8177 54152     0]\n",
            " [17485  6474     0  1498 42556]]\n",
            "              precision    recall  f1-score   support\n",
            "\n",
            "           0       0.68      0.87      0.76     68013\n",
            "           1       0.66      0.45      0.54     68013\n",
            "           2       0.61      0.71      0.66     68013\n",
            "           3       0.64      0.80      0.71     68014\n",
            "           4       1.00      0.63      0.77     68013\n",
            "\n",
            "    accuracy                           0.69    340066\n",
            "   macro avg       0.72      0.69      0.69    340066\n",
            "weighted avg       0.72      0.69      0.69    340066\n",
            "\n"
          ]
        },
        {
          "output_type": "stream",
          "name": "stderr",
          "text": [
            "/usr/local/lib/python3.11/dist-packages/keras/src/layers/core/input_layer.py:27: UserWarning: Argument `input_shape` is deprecated. Use `shape` instead.\n",
            "  warnings.warn(\n"
          ]
        },
        {
          "output_type": "stream",
          "name": "stdout",
          "text": [
            "\u001b[1m10628/10628\u001b[0m \u001b[32m━━━━━━━━━━━━━━━━━━━━\u001b[0m\u001b[37m\u001b[0m \u001b[1m32s\u001b[0m 3ms/step\n",
            "Round 29: Acc=0.4300, F1=0.3653, AUC=0.8890, Time=580.10s\n",
            "Confusion Matrix:\n",
            "[[67695   145    41   130     2]\n",
            " [42560 24557   169   727     0]\n",
            " [15495 37754  6162  8602     0]\n",
            " [11178  6082  5668 45086     0]\n",
            " [64903   317     0    78  2715]]\n",
            "              precision    recall  f1-score   support\n",
            "\n",
            "           0       0.34      1.00      0.50     68013\n",
            "           1       0.36      0.36      0.36     68013\n",
            "           2       0.51      0.09      0.15     68013\n",
            "           3       0.83      0.66      0.74     68014\n",
            "           4       1.00      0.04      0.08     68013\n",
            "\n",
            "    accuracy                           0.43    340066\n",
            "   macro avg       0.61      0.43      0.37    340066\n",
            "weighted avg       0.61      0.43      0.37    340066\n",
            "\n"
          ]
        },
        {
          "output_type": "stream",
          "name": "stderr",
          "text": [
            "/usr/local/lib/python3.11/dist-packages/keras/src/layers/core/input_layer.py:27: UserWarning: Argument `input_shape` is deprecated. Use `shape` instead.\n",
            "  warnings.warn(\n"
          ]
        },
        {
          "output_type": "stream",
          "name": "stdout",
          "text": [
            "\u001b[1m10628/10628\u001b[0m \u001b[32m━━━━━━━━━━━━━━━━━━━━\u001b[0m\u001b[37m\u001b[0m \u001b[1m35s\u001b[0m 3ms/step\n",
            "Round 30: Acc=0.5856, F1=0.5411, AUC=0.8877, Time=619.20s\n",
            "Confusion Matrix:\n",
            "[[66847   108     1   992    65]\n",
            " [28048 31880   165  7920     0]\n",
            " [10330 41768  1513 14402     0]\n",
            " [ 9201  1038 12358 45417     0]\n",
            " [13264   536     0   734 53479]]\n",
            "              precision    recall  f1-score   support\n",
            "\n",
            "           0       0.52      0.98      0.68     68013\n",
            "           1       0.42      0.47      0.44     68013\n",
            "           2       0.11      0.02      0.04     68013\n",
            "           3       0.65      0.67      0.66     68014\n",
            "           4       1.00      0.79      0.88     68013\n",
            "\n",
            "    accuracy                           0.59    340066\n",
            "   macro avg       0.54      0.59      0.54    340066\n",
            "weighted avg       0.54      0.59      0.54    340066\n",
            "\n",
            "Training log saved to trustfed_training_log.csv\n"
          ]
        }
      ]
    }
  ]
}