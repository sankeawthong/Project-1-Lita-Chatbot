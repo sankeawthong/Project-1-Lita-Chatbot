{
  "nbformat": 4,
  "nbformat_minor": 0,
  "metadata": {
    "colab": {
      "provenance": [],
      "authorship_tag": "ABX9TyMu9Mc26+E4pgOXmjvk+qoU",
      "include_colab_link": true
    },
    "kernelspec": {
      "name": "python3",
      "display_name": "Python 3"
    },
    "language_info": {
      "name": "python"
    }
  },
  "cells": [
    {
      "cell_type": "markdown",
      "metadata": {
        "id": "view-in-github",
        "colab_type": "text"
      },
      "source": [
        "<a href=\"https://colab.research.google.com/github/sankeawthong/Project-1-Lita-Chatbot/blob/main/Project%232%20practice%207(02062023).ipynb\" target=\"_parent\"><img src=\"https://colab.research.google.com/assets/colab-badge.svg\" alt=\"Open In Colab\"/></a>"
      ]
    },
    {
      "cell_type": "markdown",
      "source": [
        "### **Hybrid RF - LSTM Model for 10 classes classifications based on UNSW-NB15 dataset**"
      ],
      "metadata": {
        "id": "DSPShS7CR97M"
      }
    },
    {
      "cell_type": "code",
      "execution_count": 1,
      "metadata": {
        "id": "0tvl9_JSekS0"
      },
      "outputs": [],
      "source": [
        "import pandas as pd\n",
        "import numpy as np\n",
        "import matplotlib.pyplot as plt\n",
        "from sklearn.metrics import roc_curve, auc\n",
        "from sklearn.preprocessing import LabelEncoder\n",
        "from imblearn.over_sampling import SMOTE\n",
        "from sklearn.model_selection import train_test_split\n",
        "from sklearn.ensemble import RandomForestClassifier\n",
        "from tensorflow.keras.models import Sequential\n",
        "from tensorflow.keras.layers import LSTM, Dense\n",
        "from sklearn.metrics import confusion_matrix, classification_report"
      ]
    },
    {
      "cell_type": "code",
      "source": [
        "# Read the dataset\n",
        "dataset = pd.read_csv(\"dataset_P2.2.csv\")"
      ],
      "metadata": {
        "id": "veHCevbLe4tT"
      },
      "execution_count": 2,
      "outputs": []
    },
    {
      "cell_type": "code",
      "source": [
        "# Check for missing values\n",
        "dataset.isnull().sum()"
      ],
      "metadata": {
        "colab": {
          "base_uri": "https://localhost:8080/"
        },
        "id": "-3wAHehDe6px",
        "outputId": "6e34056b-4ba7-43f7-b586-ae9a826cd8a9"
      },
      "execution_count": 3,
      "outputs": [
        {
          "output_type": "execute_result",
          "data": {
            "text/plain": [
              "id                   0\n",
              "dur                  0\n",
              "spkts                0\n",
              "dpkts                0\n",
              "sbytes               0\n",
              "dbytes               0\n",
              "rate                 0\n",
              "sttl                 0\n",
              "dttl                 0\n",
              "sload                0\n",
              "dload                0\n",
              "sloss                0\n",
              "dloss                0\n",
              "sinpkt               0\n",
              "dinpkt               0\n",
              "sjit                 0\n",
              "djit                 0\n",
              "swin                 0\n",
              "stcpb                0\n",
              "dtcpb                0\n",
              "dwin                 0\n",
              "tcprtt               0\n",
              "synack               0\n",
              "ackdat               0\n",
              "smean                0\n",
              "dmean                0\n",
              "trans_depth          0\n",
              "response_body_len    0\n",
              "ct_srv_src           0\n",
              "ct_state_ttl         0\n",
              "ct_dst_ltm           0\n",
              "ct_src_dport_ltm     0\n",
              "ct_dst_sport_ltm     0\n",
              "ct_dst_src_ltm       0\n",
              "is_ftp_login         0\n",
              "ct_ftp_cmd           0\n",
              "ct_flw_http_mthd     0\n",
              "ct_src_ltm           0\n",
              "ct_srv_dst           0\n",
              "is_sm_ips_ports      0\n",
              "Class                0\n",
              "dtype: int64"
            ]
          },
          "metadata": {},
          "execution_count": 3
        }
      ]
    },
    {
      "cell_type": "markdown",
      "source": [
        "### **Data preprocessing**"
      ],
      "metadata": {
        "id": "airAZqVQSKWF"
      }
    },
    {
      "cell_type": "code",
      "source": [
        "# Data preprocessing\n",
        "y = dataset['Class'].values\n",
        "X = dataset.drop(['Class'], axis=1)\n",
        "X = X.values"
      ],
      "metadata": {
        "id": "r7XcH-6ee8Cv"
      },
      "execution_count": 4,
      "outputs": []
    },
    {
      "cell_type": "code",
      "source": [
        "# Perform oversampling using SMOTE\n",
        "oversample = SMOTE()\n",
        "X, y = oversample.fit_resample(X, y)"
      ],
      "metadata": {
        "id": "TvEpNE6me86V"
      },
      "execution_count": 5,
      "outputs": []
    },
    {
      "cell_type": "code",
      "source": [
        "# Split the dataset into train and test sets\n",
        "X_train, X_test, y_train, y_test = train_test_split(X, y, test_size=0.2, random_state=101)"
      ],
      "metadata": {
        "id": "-c_m2G36e96T"
      },
      "execution_count": 6,
      "outputs": []
    },
    {
      "cell_type": "markdown",
      "source": [
        "### **RF Model**"
      ],
      "metadata": {
        "id": "8seRxcdgfH67"
      }
    },
    {
      "cell_type": "code",
      "source": [
        "# Train a Random Forest classifier\n",
        "rf = RandomForestClassifier(n_estimators=30, max_depth=9)\n",
        "rf.fit(X_train, y_train)"
      ],
      "metadata": {
        "colab": {
          "base_uri": "https://localhost:8080/",
          "height": 75
        },
        "id": "WyrNr3J7e_Cr",
        "outputId": "41631fbf-a6fb-481a-b79f-fa58d9e3a1d8"
      },
      "execution_count": 7,
      "outputs": [
        {
          "output_type": "execute_result",
          "data": {
            "text/plain": [
              "RandomForestClassifier(max_depth=9, n_estimators=30)"
            ],
            "text/html": [
              "<style>#sk-container-id-1 {color: black;background-color: white;}#sk-container-id-1 pre{padding: 0;}#sk-container-id-1 div.sk-toggleable {background-color: white;}#sk-container-id-1 label.sk-toggleable__label {cursor: pointer;display: block;width: 100%;margin-bottom: 0;padding: 0.3em;box-sizing: border-box;text-align: center;}#sk-container-id-1 label.sk-toggleable__label-arrow:before {content: \"▸\";float: left;margin-right: 0.25em;color: #696969;}#sk-container-id-1 label.sk-toggleable__label-arrow:hover:before {color: black;}#sk-container-id-1 div.sk-estimator:hover label.sk-toggleable__label-arrow:before {color: black;}#sk-container-id-1 div.sk-toggleable__content {max-height: 0;max-width: 0;overflow: hidden;text-align: left;background-color: #f0f8ff;}#sk-container-id-1 div.sk-toggleable__content pre {margin: 0.2em;color: black;border-radius: 0.25em;background-color: #f0f8ff;}#sk-container-id-1 input.sk-toggleable__control:checked~div.sk-toggleable__content {max-height: 200px;max-width: 100%;overflow: auto;}#sk-container-id-1 input.sk-toggleable__control:checked~label.sk-toggleable__label-arrow:before {content: \"▾\";}#sk-container-id-1 div.sk-estimator input.sk-toggleable__control:checked~label.sk-toggleable__label {background-color: #d4ebff;}#sk-container-id-1 div.sk-label input.sk-toggleable__control:checked~label.sk-toggleable__label {background-color: #d4ebff;}#sk-container-id-1 input.sk-hidden--visually {border: 0;clip: rect(1px 1px 1px 1px);clip: rect(1px, 1px, 1px, 1px);height: 1px;margin: -1px;overflow: hidden;padding: 0;position: absolute;width: 1px;}#sk-container-id-1 div.sk-estimator {font-family: monospace;background-color: #f0f8ff;border: 1px dotted black;border-radius: 0.25em;box-sizing: border-box;margin-bottom: 0.5em;}#sk-container-id-1 div.sk-estimator:hover {background-color: #d4ebff;}#sk-container-id-1 div.sk-parallel-item::after {content: \"\";width: 100%;border-bottom: 1px solid gray;flex-grow: 1;}#sk-container-id-1 div.sk-label:hover label.sk-toggleable__label {background-color: #d4ebff;}#sk-container-id-1 div.sk-serial::before {content: \"\";position: absolute;border-left: 1px solid gray;box-sizing: border-box;top: 0;bottom: 0;left: 50%;z-index: 0;}#sk-container-id-1 div.sk-serial {display: flex;flex-direction: column;align-items: center;background-color: white;padding-right: 0.2em;padding-left: 0.2em;position: relative;}#sk-container-id-1 div.sk-item {position: relative;z-index: 1;}#sk-container-id-1 div.sk-parallel {display: flex;align-items: stretch;justify-content: center;background-color: white;position: relative;}#sk-container-id-1 div.sk-item::before, #sk-container-id-1 div.sk-parallel-item::before {content: \"\";position: absolute;border-left: 1px solid gray;box-sizing: border-box;top: 0;bottom: 0;left: 50%;z-index: -1;}#sk-container-id-1 div.sk-parallel-item {display: flex;flex-direction: column;z-index: 1;position: relative;background-color: white;}#sk-container-id-1 div.sk-parallel-item:first-child::after {align-self: flex-end;width: 50%;}#sk-container-id-1 div.sk-parallel-item:last-child::after {align-self: flex-start;width: 50%;}#sk-container-id-1 div.sk-parallel-item:only-child::after {width: 0;}#sk-container-id-1 div.sk-dashed-wrapped {border: 1px dashed gray;margin: 0 0.4em 0.5em 0.4em;box-sizing: border-box;padding-bottom: 0.4em;background-color: white;}#sk-container-id-1 div.sk-label label {font-family: monospace;font-weight: bold;display: inline-block;line-height: 1.2em;}#sk-container-id-1 div.sk-label-container {text-align: center;}#sk-container-id-1 div.sk-container {/* jupyter's `normalize.less` sets `[hidden] { display: none; }` but bootstrap.min.css set `[hidden] { display: none !important; }` so we also need the `!important` here to be able to override the default hidden behavior on the sphinx rendered scikit-learn.org. See: https://github.com/scikit-learn/scikit-learn/issues/21755 */display: inline-block !important;position: relative;}#sk-container-id-1 div.sk-text-repr-fallback {display: none;}</style><div id=\"sk-container-id-1\" class=\"sk-top-container\"><div class=\"sk-text-repr-fallback\"><pre>RandomForestClassifier(max_depth=9, n_estimators=30)</pre><b>In a Jupyter environment, please rerun this cell to show the HTML representation or trust the notebook. <br />On GitHub, the HTML representation is unable to render, please try loading this page with nbviewer.org.</b></div><div class=\"sk-container\" hidden><div class=\"sk-item\"><div class=\"sk-estimator sk-toggleable\"><input class=\"sk-toggleable__control sk-hidden--visually\" id=\"sk-estimator-id-1\" type=\"checkbox\" checked><label for=\"sk-estimator-id-1\" class=\"sk-toggleable__label sk-toggleable__label-arrow\">RandomForestClassifier</label><div class=\"sk-toggleable__content\"><pre>RandomForestClassifier(max_depth=9, n_estimators=30)</pre></div></div></div></div></div>"
            ]
          },
          "metadata": {},
          "execution_count": 7
        }
      ]
    },
    {
      "cell_type": "code",
      "source": [
        "# Make predictions on the test set\n",
        "y_test_prediction_rf = rf.predict(X_test)"
      ],
      "metadata": {
        "id": "iTeF1elsfAv8"
      },
      "execution_count": 8,
      "outputs": []
    },
    {
      "cell_type": "code",
      "source": [
        "# Generate confusion matrix and classification report for Random Forest\n",
        "cm_rf = confusion_matrix(y_test, y_test_prediction_rf)\n",
        "print(\"Random Forest - Confusion Matrix:\")\n",
        "print(cm_rf)\n",
        "cr_rf = classification_report(y_test, y_test_prediction_rf)\n",
        "print(\"Random Forest - Classification Report:\")\n",
        "print(cr_rf)"
      ],
      "metadata": {
        "colab": {
          "base_uri": "https://localhost:8080/"
        },
        "id": "MqtMzOaGfB99",
        "outputId": "936e7398-d5d6-49c5-aea8-b63a09c26069"
      },
      "execution_count": 9,
      "outputs": [
        {
          "output_type": "stream",
          "name": "stdout",
          "text": [
            "Random Forest - Confusion Matrix:\n",
            "[[10288   112     1     1    19   816     0    12    24     4]\n",
            " [    0  4238  4662  2157    51    43     0     1   191     0]\n",
            " [    0   588  8061  1605   222   178     0   101   344   126]\n",
            " [    0   756  3999  4003  1539   154     0    46   546   176]\n",
            " [    0   251  1604  2525  5269   306     0   323   434   585]\n",
            " [    2    91   489   390    71  9617     0    74   315   125]\n",
            " [    0     4    41    50   108    29 10804     3    12    23]\n",
            " [    0   199  1147   583    34   207     0  8623   294    42]\n",
            " [    0     0     0    23     0   250     0   295 10459    85]\n",
            " [    0    14     0     0     6     0     0    11   564 10555]]\n",
            "Random Forest - Classification Report:\n",
            "              precision    recall  f1-score   support\n",
            "\n",
            "           0       1.00      0.91      0.95     11277\n",
            "           1       0.68      0.37      0.48     11343\n",
            "           2       0.40      0.72      0.52     11225\n",
            "           3       0.35      0.36      0.35     11219\n",
            "           4       0.72      0.47      0.57     11297\n",
            "           5       0.83      0.86      0.84     11174\n",
            "           6       1.00      0.98      0.99     11074\n",
            "           7       0.91      0.77      0.84     11129\n",
            "           8       0.79      0.94      0.86     11112\n",
            "           9       0.90      0.95      0.92     11150\n",
            "\n",
            "    accuracy                           0.73    112000\n",
            "   macro avg       0.76      0.73      0.73    112000\n",
            "weighted avg       0.76      0.73      0.73    112000\n",
            "\n"
          ]
        }
      ]
    },
    {
      "cell_type": "markdown",
      "source": [
        "### **Define the LSTM model**"
      ],
      "metadata": {
        "id": "SaZlvUQzfDg3"
      }
    },
    {
      "cell_type": "code",
      "source": [
        "from tensorflow.keras.utils import to_categorical\n",
        "# Define the LSTM model\n",
        "model = Sequential()\n",
        "model.add(LSTM(64, input_shape=(X_train.shape[1], 1)))\n",
        "model.add(Dense(32, activation='relu'))\n",
        "model.add(Dense(16, activation='relu'))\n",
        "model.add(Dense(10, activation='softmax'))\n",
        "\n",
        "# Compile the model\n",
        "model.compile(loss='categorical_crossentropy', optimizer='adam', metrics=['accuracy'])\n",
        "\n",
        "# Convert the target variables to categorical variables\n",
        "y_train_lstm = to_categorical(y_train)\n",
        "y_test_lstm = to_categorical(y_test)\n",
        "\n",
        "# Train the LSTM model\n",
        "model.fit(X_train.reshape(X_train.shape[0], X_train.shape[1], 1), y_train_lstm, epochs=15, batch_size=32, validation_data=(X_test.reshape(X_test.shape[0], X_test.shape[1], 1), y_test_lstm))\n",
        "\n",
        "# Evaluate the LSTM model\n",
        "score, acc = model.evaluate(X_test.reshape(X_test.shape[0], X_test.shape[1], 1), y_test_lstm, batch_size=32)\n",
        "print('LSTM - Test score:', score)\n",
        "print('LSTM - Test accuracy:', acc)\n",
        "\n",
        "# Make predictions with the LSTM model\n",
        "predictions_lstm = model.predict(X_test)\n",
        "predicted_classes_lstm = np.argmax(predictions_lstm, axis=1)\n",
        "\n",
        "# Generate confusion matrix and classification report for LSTM\n",
        "cm_lstm = confusion_matrix(y_test, predicted_classes_lstm)\n",
        "print(\"LSTM - Confusion Matrix:\")\n",
        "print(cm_lstm)\n",
        "cr_lstm = classification_report(y_test, predicted_classes_lstm)\n",
        "print(\"LSTM - Classification Report:\")\n",
        "print(cr_lstm)"
      ],
      "metadata": {
        "colab": {
          "base_uri": "https://localhost:8080/"
        },
        "id": "u5-dCw0wfPe4",
        "outputId": "c7bd1f55-30da-4348-a8b6-bad445b5d9a9"
      },
      "execution_count": 11,
      "outputs": [
        {
          "output_type": "stream",
          "name": "stdout",
          "text": [
            "Epoch 1/15\n",
            "14000/14000 [==============================] - 342s 24ms/step - loss: 0.9348 - accuracy: 0.6383 - val_loss: 0.8278 - val_accuracy: 0.6801\n",
            "Epoch 2/15\n",
            "14000/14000 [==============================] - 335s 24ms/step - loss: 0.7864 - accuracy: 0.6901 - val_loss: 0.7782 - val_accuracy: 0.6951\n",
            "Epoch 3/15\n",
            "14000/14000 [==============================] - 328s 23ms/step - loss: 0.7497 - accuracy: 0.7028 - val_loss: 0.7639 - val_accuracy: 0.7017\n",
            "Epoch 4/15\n",
            "14000/14000 [==============================] - 331s 24ms/step - loss: 0.7281 - accuracy: 0.7100 - val_loss: 0.7216 - val_accuracy: 0.7113\n",
            "Epoch 5/15\n",
            "14000/14000 [==============================] - 345s 25ms/step - loss: 0.7119 - accuracy: 0.7159 - val_loss: 0.7118 - val_accuracy: 0.7157\n",
            "Epoch 6/15\n",
            "14000/14000 [==============================] - 345s 25ms/step - loss: 0.7032 - accuracy: 0.7193 - val_loss: 0.7031 - val_accuracy: 0.7172\n",
            "Epoch 7/15\n",
            "14000/14000 [==============================] - 339s 24ms/step - loss: 0.6939 - accuracy: 0.7226 - val_loss: 0.6902 - val_accuracy: 0.7224\n",
            "Epoch 8/15\n",
            "14000/14000 [==============================] - 325s 23ms/step - loss: 0.6868 - accuracy: 0.7247 - val_loss: 0.6821 - val_accuracy: 0.7249\n",
            "Epoch 9/15\n",
            "14000/14000 [==============================] - 325s 23ms/step - loss: 0.6796 - accuracy: 0.7273 - val_loss: 0.6748 - val_accuracy: 0.7289\n",
            "Epoch 10/15\n",
            "14000/14000 [==============================] - 324s 23ms/step - loss: 0.6753 - accuracy: 0.7287 - val_loss: 0.6808 - val_accuracy: 0.7273\n",
            "Epoch 11/15\n",
            "14000/14000 [==============================] - 311s 22ms/step - loss: 0.6723 - accuracy: 0.7297 - val_loss: 0.6750 - val_accuracy: 0.7285\n",
            "Epoch 12/15\n",
            "14000/14000 [==============================] - 311s 22ms/step - loss: 0.6675 - accuracy: 0.7314 - val_loss: 0.6977 - val_accuracy: 0.7202\n",
            "Epoch 13/15\n",
            "14000/14000 [==============================] - 327s 23ms/step - loss: 0.6648 - accuracy: 0.7326 - val_loss: 0.6684 - val_accuracy: 0.7306\n",
            "Epoch 14/15\n",
            "14000/14000 [==============================] - 313s 22ms/step - loss: 0.6616 - accuracy: 0.7335 - val_loss: 0.6690 - val_accuracy: 0.7313\n",
            "Epoch 15/15\n",
            "14000/14000 [==============================] - 316s 23ms/step - loss: 0.6587 - accuracy: 0.7345 - val_loss: 0.6578 - val_accuracy: 0.7348\n",
            "3500/3500 [==============================] - 33s 9ms/step - loss: 0.6578 - accuracy: 0.7348\n",
            "LSTM - Test score: 0.6577540636062622\n",
            "LSTM - Test accuracy: 0.7347678542137146\n",
            "3500/3500 [==============================] - 32s 9ms/step\n",
            "LSTM - Confusion Matrix:\n",
            "[[ 9357   151    10     4   115  1577     1    13    42     7]\n",
            " [    7  4255  4506  2484    37     4     4     6    40     0]\n",
            " [    3   700  7662  2472    81    21     1    76   180    29]\n",
            " [    2   751  3727  5130  1109   107     1    32   300    60]\n",
            " [   14   247  1488  3274  5297   201     0   252   311   213]\n",
            " [  237    91   444   450   118  9508     1    35   249    41]\n",
            " [    0     6    51    67    95    14 10802     2    21    16]\n",
            " [    2   181   999   814   126    42     1  8674   266    24]\n",
            " [   10     3     3    11    13   113     0   251 10639    69]\n",
            " [    0     0     0     1    50     0     0     3   126 10970]]\n",
            "LSTM - Classification Report:\n",
            "              precision    recall  f1-score   support\n",
            "\n",
            "           0       0.97      0.83      0.90     11277\n",
            "           1       0.67      0.38      0.48     11343\n",
            "           2       0.41      0.68      0.51     11225\n",
            "           3       0.35      0.46      0.40     11219\n",
            "           4       0.75      0.47      0.58     11297\n",
            "           5       0.82      0.85      0.84     11174\n",
            "           6       1.00      0.98      0.99     11074\n",
            "           7       0.93      0.78      0.85     11129\n",
            "           8       0.87      0.96      0.91     11112\n",
            "           9       0.96      0.98      0.97     11150\n",
            "\n",
            "    accuracy                           0.73    112000\n",
            "   macro avg       0.77      0.74      0.74    112000\n",
            "weighted avg       0.77      0.73      0.74    112000\n",
            "\n"
          ]
        }
      ]
    },
    {
      "cell_type": "markdown",
      "source": [
        "**Combine Model RF- LSTM**"
      ],
      "metadata": {
        "id": "N3VkxH4gSQuB"
      }
    },
    {
      "cell_type": "code",
      "source": [
        "# Combine predictions from Random Forest and LSTM models\n",
        "ensemble_predictions = np.vstack((y_test_prediction_rf, predicted_classes_lstm)).T\n",
        "ensemble_predicted_classes = np.apply_along_axis(lambda x: np.argmax(np.bincount(x)), axis=1, arr=ensemble_predictions)\n",
        "\n",
        "# Generate confusion matrix and classification report for the ensemble model\n",
        "cm_ensemble = confusion_matrix(y_test, ensemble_predicted_classes)\n",
        "print(\"Ensemble - Confusion Matrix:\")\n",
        "print(cm_ensemble\n",
        ")\n",
        "cr_ensemble = classification_report(y_test, ensemble_predicted_classes)\n",
        "print(\"Ensemble - Classification Report:\")\n",
        "print(cr_ensemble)"
      ],
      "metadata": {
        "colab": {
          "base_uri": "https://localhost:8080/"
        },
        "id": "vGwnqv3MfQEP",
        "outputId": "ab4e6e48-5706-458f-9df1-2fc318a7f9ba"
      },
      "execution_count": 13,
      "outputs": [
        {
          "output_type": "stream",
          "name": "stdout",
          "text": [
            "Ensemble - Confusion Matrix:\n",
            "[[10434   100     4     3    38   677     0     7    13     1]\n",
            " [    7  4753  5169  1352    22     5     0     0    35     0]\n",
            " [    3   984  8851  1051    70    23     0    67   151    25]\n",
            " [    2  1099  4791  3794  1088    88     1    34   290    32]\n",
            " [   14   373  2140  2590  5318   159     0   252   281   170]\n",
            " [  238   133   588   340   141  9491     0    47   167    29]\n",
            " [    0     6    60    59    99    17 10804     2    17    10]\n",
            " [    2   283  1303   436   122   221     1  8529   217    15]\n",
            " [   10     3     3    32    13   310     0   491 10223    27]\n",
            " [    0    14     0     1    56     0     0    14   562 10503]]\n",
            "Ensemble - Classification Report:\n",
            "              precision    recall  f1-score   support\n",
            "\n",
            "           0       0.97      0.93      0.95     11277\n",
            "           1       0.61      0.42      0.50     11343\n",
            "           2       0.39      0.79      0.52     11225\n",
            "           3       0.39      0.34      0.36     11219\n",
            "           4       0.76      0.47      0.58     11297\n",
            "           5       0.86      0.85      0.86     11174\n",
            "           6       1.00      0.98      0.99     11074\n",
            "           7       0.90      0.77      0.83     11129\n",
            "           8       0.86      0.92      0.89     11112\n",
            "           9       0.97      0.94      0.96     11150\n",
            "\n",
            "    accuracy                           0.74    112000\n",
            "   macro avg       0.77      0.74      0.74    112000\n",
            "weighted avg       0.77      0.74      0.74    112000\n",
            "\n"
          ]
        }
      ]
    }
  ]
}