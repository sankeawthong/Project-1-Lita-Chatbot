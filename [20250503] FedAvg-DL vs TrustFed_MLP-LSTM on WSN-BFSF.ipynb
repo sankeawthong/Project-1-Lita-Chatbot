{
  "nbformat": 4,
  "nbformat_minor": 0,
  "metadata": {
    "colab": {
      "provenance": [],
      "machine_shape": "hm",
      "authorship_tag": "ABX9TyNtTBA8GFLZ1Xvg1Kt/T6mo",
      "include_colab_link": true
    },
    "kernelspec": {
      "name": "python3",
      "display_name": "Python 3"
    },
    "language_info": {
      "name": "python"
    }
  },
  "cells": [
    {
      "cell_type": "markdown",
      "metadata": {
        "id": "view-in-github",
        "colab_type": "text"
      },
      "source": [
        "<a href=\"https://colab.research.google.com/github/sankeawthong/Project-1-Lita-Chatbot/blob/main/%5B20250503%5D%20FedAvg-DL%20vs%20TrustFed_MLP-LSTM%20on%20WSN-BFSF.ipynb\" target=\"_parent\"><img src=\"https://colab.research.google.com/assets/colab-badge.svg\" alt=\"Open In Colab\"/></a>"
      ]
    },
    {
      "cell_type": "markdown",
      "source": [
        "**FedAvg-DL vs TrustFed // with MLP-LSTM model 4 classes on WSN-BFSF**"
      ],
      "metadata": {
        "id": "NdJw5-HPtPeU"
      }
    },
    {
      "cell_type": "code",
      "execution_count": null,
      "metadata": {
        "id": "Kys3NgWmCB12"
      },
      "outputs": [],
      "source": [
        "import pandas as pd\n",
        "import numpy as np\n",
        "from sklearn.linear_model import LogisticRegression\n",
        "from sklearn.model_selection import train_test_split\n",
        "from sklearn.metrics import accuracy_score, classification_report\n",
        "from sklearn.preprocessing import LabelEncoder, StandardScaler\n",
        "from keras.models import Sequential\n",
        "from keras.layers import Dense, LSTM, Bidirectional, Dropout, Flatten\n",
        "from sklearn.metrics import accuracy_score, classification_report, confusion_matrix\n",
        "from keras.utils import to_categorical"
      ]
    },
    {
      "cell_type": "code",
      "source": [
        "# Load dataset\n",
        "dataset = pd.read_csv(\"dataset.csv\") #WSN-BFSF 4 classes dataset\n",
        "\n",
        "# Preprocessing: Handle missing values (if any)\n",
        "dataset = dataset.dropna() # Remove missing values"
      ],
      "metadata": {
        "id": "W4xz10xkCHq8"
      },
      "execution_count": null,
      "outputs": []
    },
    {
      "cell_type": "code",
      "source": [
        "dataset"
      ],
      "metadata": {
        "colab": {
          "base_uri": "https://localhost:8080/",
          "height": 444
        },
        "id": "Ds2sKdTwCJgj",
        "outputId": "dbeee124-6bb9-4d25-adde-c2f4b7feed30"
      },
      "execution_count": null,
      "outputs": [
        {
          "output_type": "execute_result",
          "data": {
            "text/plain": [
              "        Event        Time  S_Node  Node_id  Rest_Energy  Trace_Level  \\\n",
              "0           1    0.100000      79       79   600.000000            5   \n",
              "1           2    0.100963      78       78   599.979723            5   \n",
              "2           2    0.100963      76       76   599.979722            5   \n",
              "3           2    0.100964      75       75   599.979722            5   \n",
              "4           2    0.100964     118      118   599.979722            5   \n",
              "...       ...         ...     ...      ...          ...          ...   \n",
              "312101      4  656.526536     140      140   465.332078            5   \n",
              "312102      4  657.209643     140      140   465.191806            5   \n",
              "312103      4  657.891729     140      140   465.051737            5   \n",
              "312104      4  658.574656     140      140   464.911501            5   \n",
              "312105      4  679.054956     140      140   460.705905            5   \n",
              "\n",
              "        Mac_Type_Pckt  Source_IP_Port  Des_IP_Port  Packet_Size  TTL  \\\n",
              "0                   0          79.255        1.255           48   30   \n",
              "1                 800          79.255        1.255           48   30   \n",
              "2                 800          79.255        1.255           48   30   \n",
              "3                 800          79.255        1.255           48   30   \n",
              "4                 800          79.255        1.255           48   30   \n",
              "...               ...             ...          ...          ...  ...   \n",
              "312101            800         140.255        1.255           48   30   \n",
              "312102            800         140.255        1.255           48   30   \n",
              "312103            800         140.255        1.255           48   30   \n",
              "312104            800         140.255        1.255           48   30   \n",
              "312105            800         140.255        1.255           48   30   \n",
              "\n",
              "        Hop_Count  Broadcast_ID  Dest_Node_Num  Dest_Seq_Num  Src_Node_ID  \\\n",
              "0               1             1            100             0           79   \n",
              "1               1             1            100             0           79   \n",
              "2               1             1            100             0           79   \n",
              "3               1             1            100             0           79   \n",
              "4               1             1            100             0           79   \n",
              "...           ...           ...            ...           ...          ...   \n",
              "312101          1            31            100            16          140   \n",
              "312102          1            33            100            16          140   \n",
              "312103          1            35            100            16          140   \n",
              "312104          1            37            100            16          140   \n",
              "312105          1            42            100            16          140   \n",
              "\n",
              "        Src_Seq_Num  Class  \n",
              "0                 4      0  \n",
              "1                 4      0  \n",
              "2                 4      0  \n",
              "3                 4      0  \n",
              "4                 4      0  \n",
              "...             ...    ...  \n",
              "312101           68      1  \n",
              "312102           72      1  \n",
              "312103           76      1  \n",
              "312104           80      1  \n",
              "312105           90      1  \n",
              "\n",
              "[312106 rows x 18 columns]"
            ],
            "text/html": [
              "\n",
              "  <div id=\"df-6a0fd1d4-94c2-410a-a68a-4f085aa1e318\" class=\"colab-df-container\">\n",
              "    <div>\n",
              "<style scoped>\n",
              "    .dataframe tbody tr th:only-of-type {\n",
              "        vertical-align: middle;\n",
              "    }\n",
              "\n",
              "    .dataframe tbody tr th {\n",
              "        vertical-align: top;\n",
              "    }\n",
              "\n",
              "    .dataframe thead th {\n",
              "        text-align: right;\n",
              "    }\n",
              "</style>\n",
              "<table border=\"1\" class=\"dataframe\">\n",
              "  <thead>\n",
              "    <tr style=\"text-align: right;\">\n",
              "      <th></th>\n",
              "      <th>Event</th>\n",
              "      <th>Time</th>\n",
              "      <th>S_Node</th>\n",
              "      <th>Node_id</th>\n",
              "      <th>Rest_Energy</th>\n",
              "      <th>Trace_Level</th>\n",
              "      <th>Mac_Type_Pckt</th>\n",
              "      <th>Source_IP_Port</th>\n",
              "      <th>Des_IP_Port</th>\n",
              "      <th>Packet_Size</th>\n",
              "      <th>TTL</th>\n",
              "      <th>Hop_Count</th>\n",
              "      <th>Broadcast_ID</th>\n",
              "      <th>Dest_Node_Num</th>\n",
              "      <th>Dest_Seq_Num</th>\n",
              "      <th>Src_Node_ID</th>\n",
              "      <th>Src_Seq_Num</th>\n",
              "      <th>Class</th>\n",
              "    </tr>\n",
              "  </thead>\n",
              "  <tbody>\n",
              "    <tr>\n",
              "      <th>0</th>\n",
              "      <td>1</td>\n",
              "      <td>0.100000</td>\n",
              "      <td>79</td>\n",
              "      <td>79</td>\n",
              "      <td>600.000000</td>\n",
              "      <td>5</td>\n",
              "      <td>0</td>\n",
              "      <td>79.255</td>\n",
              "      <td>1.255</td>\n",
              "      <td>48</td>\n",
              "      <td>30</td>\n",
              "      <td>1</td>\n",
              "      <td>1</td>\n",
              "      <td>100</td>\n",
              "      <td>0</td>\n",
              "      <td>79</td>\n",
              "      <td>4</td>\n",
              "      <td>0</td>\n",
              "    </tr>\n",
              "    <tr>\n",
              "      <th>1</th>\n",
              "      <td>2</td>\n",
              "      <td>0.100963</td>\n",
              "      <td>78</td>\n",
              "      <td>78</td>\n",
              "      <td>599.979723</td>\n",
              "      <td>5</td>\n",
              "      <td>800</td>\n",
              "      <td>79.255</td>\n",
              "      <td>1.255</td>\n",
              "      <td>48</td>\n",
              "      <td>30</td>\n",
              "      <td>1</td>\n",
              "      <td>1</td>\n",
              "      <td>100</td>\n",
              "      <td>0</td>\n",
              "      <td>79</td>\n",
              "      <td>4</td>\n",
              "      <td>0</td>\n",
              "    </tr>\n",
              "    <tr>\n",
              "      <th>2</th>\n",
              "      <td>2</td>\n",
              "      <td>0.100963</td>\n",
              "      <td>76</td>\n",
              "      <td>76</td>\n",
              "      <td>599.979722</td>\n",
              "      <td>5</td>\n",
              "      <td>800</td>\n",
              "      <td>79.255</td>\n",
              "      <td>1.255</td>\n",
              "      <td>48</td>\n",
              "      <td>30</td>\n",
              "      <td>1</td>\n",
              "      <td>1</td>\n",
              "      <td>100</td>\n",
              "      <td>0</td>\n",
              "      <td>79</td>\n",
              "      <td>4</td>\n",
              "      <td>0</td>\n",
              "    </tr>\n",
              "    <tr>\n",
              "      <th>3</th>\n",
              "      <td>2</td>\n",
              "      <td>0.100964</td>\n",
              "      <td>75</td>\n",
              "      <td>75</td>\n",
              "      <td>599.979722</td>\n",
              "      <td>5</td>\n",
              "      <td>800</td>\n",
              "      <td>79.255</td>\n",
              "      <td>1.255</td>\n",
              "      <td>48</td>\n",
              "      <td>30</td>\n",
              "      <td>1</td>\n",
              "      <td>1</td>\n",
              "      <td>100</td>\n",
              "      <td>0</td>\n",
              "      <td>79</td>\n",
              "      <td>4</td>\n",
              "      <td>0</td>\n",
              "    </tr>\n",
              "    <tr>\n",
              "      <th>4</th>\n",
              "      <td>2</td>\n",
              "      <td>0.100964</td>\n",
              "      <td>118</td>\n",
              "      <td>118</td>\n",
              "      <td>599.979722</td>\n",
              "      <td>5</td>\n",
              "      <td>800</td>\n",
              "      <td>79.255</td>\n",
              "      <td>1.255</td>\n",
              "      <td>48</td>\n",
              "      <td>30</td>\n",
              "      <td>1</td>\n",
              "      <td>1</td>\n",
              "      <td>100</td>\n",
              "      <td>0</td>\n",
              "      <td>79</td>\n",
              "      <td>4</td>\n",
              "      <td>0</td>\n",
              "    </tr>\n",
              "    <tr>\n",
              "      <th>...</th>\n",
              "      <td>...</td>\n",
              "      <td>...</td>\n",
              "      <td>...</td>\n",
              "      <td>...</td>\n",
              "      <td>...</td>\n",
              "      <td>...</td>\n",
              "      <td>...</td>\n",
              "      <td>...</td>\n",
              "      <td>...</td>\n",
              "      <td>...</td>\n",
              "      <td>...</td>\n",
              "      <td>...</td>\n",
              "      <td>...</td>\n",
              "      <td>...</td>\n",
              "      <td>...</td>\n",
              "      <td>...</td>\n",
              "      <td>...</td>\n",
              "      <td>...</td>\n",
              "    </tr>\n",
              "    <tr>\n",
              "      <th>312101</th>\n",
              "      <td>4</td>\n",
              "      <td>656.526536</td>\n",
              "      <td>140</td>\n",
              "      <td>140</td>\n",
              "      <td>465.332078</td>\n",
              "      <td>5</td>\n",
              "      <td>800</td>\n",
              "      <td>140.255</td>\n",
              "      <td>1.255</td>\n",
              "      <td>48</td>\n",
              "      <td>30</td>\n",
              "      <td>1</td>\n",
              "      <td>31</td>\n",
              "      <td>100</td>\n",
              "      <td>16</td>\n",
              "      <td>140</td>\n",
              "      <td>68</td>\n",
              "      <td>1</td>\n",
              "    </tr>\n",
              "    <tr>\n",
              "      <th>312102</th>\n",
              "      <td>4</td>\n",
              "      <td>657.209643</td>\n",
              "      <td>140</td>\n",
              "      <td>140</td>\n",
              "      <td>465.191806</td>\n",
              "      <td>5</td>\n",
              "      <td>800</td>\n",
              "      <td>140.255</td>\n",
              "      <td>1.255</td>\n",
              "      <td>48</td>\n",
              "      <td>30</td>\n",
              "      <td>1</td>\n",
              "      <td>33</td>\n",
              "      <td>100</td>\n",
              "      <td>16</td>\n",
              "      <td>140</td>\n",
              "      <td>72</td>\n",
              "      <td>1</td>\n",
              "    </tr>\n",
              "    <tr>\n",
              "      <th>312103</th>\n",
              "      <td>4</td>\n",
              "      <td>657.891729</td>\n",
              "      <td>140</td>\n",
              "      <td>140</td>\n",
              "      <td>465.051737</td>\n",
              "      <td>5</td>\n",
              "      <td>800</td>\n",
              "      <td>140.255</td>\n",
              "      <td>1.255</td>\n",
              "      <td>48</td>\n",
              "      <td>30</td>\n",
              "      <td>1</td>\n",
              "      <td>35</td>\n",
              "      <td>100</td>\n",
              "      <td>16</td>\n",
              "      <td>140</td>\n",
              "      <td>76</td>\n",
              "      <td>1</td>\n",
              "    </tr>\n",
              "    <tr>\n",
              "      <th>312104</th>\n",
              "      <td>4</td>\n",
              "      <td>658.574656</td>\n",
              "      <td>140</td>\n",
              "      <td>140</td>\n",
              "      <td>464.911501</td>\n",
              "      <td>5</td>\n",
              "      <td>800</td>\n",
              "      <td>140.255</td>\n",
              "      <td>1.255</td>\n",
              "      <td>48</td>\n",
              "      <td>30</td>\n",
              "      <td>1</td>\n",
              "      <td>37</td>\n",
              "      <td>100</td>\n",
              "      <td>16</td>\n",
              "      <td>140</td>\n",
              "      <td>80</td>\n",
              "      <td>1</td>\n",
              "    </tr>\n",
              "    <tr>\n",
              "      <th>312105</th>\n",
              "      <td>4</td>\n",
              "      <td>679.054956</td>\n",
              "      <td>140</td>\n",
              "      <td>140</td>\n",
              "      <td>460.705905</td>\n",
              "      <td>5</td>\n",
              "      <td>800</td>\n",
              "      <td>140.255</td>\n",
              "      <td>1.255</td>\n",
              "      <td>48</td>\n",
              "      <td>30</td>\n",
              "      <td>1</td>\n",
              "      <td>42</td>\n",
              "      <td>100</td>\n",
              "      <td>16</td>\n",
              "      <td>140</td>\n",
              "      <td>90</td>\n",
              "      <td>1</td>\n",
              "    </tr>\n",
              "  </tbody>\n",
              "</table>\n",
              "<p>312106 rows × 18 columns</p>\n",
              "</div>\n",
              "    <div class=\"colab-df-buttons\">\n",
              "\n",
              "  <div class=\"colab-df-container\">\n",
              "    <button class=\"colab-df-convert\" onclick=\"convertToInteractive('df-6a0fd1d4-94c2-410a-a68a-4f085aa1e318')\"\n",
              "            title=\"Convert this dataframe to an interactive table.\"\n",
              "            style=\"display:none;\">\n",
              "\n",
              "  <svg xmlns=\"http://www.w3.org/2000/svg\" height=\"24px\" viewBox=\"0 -960 960 960\">\n",
              "    <path d=\"M120-120v-720h720v720H120Zm60-500h600v-160H180v160Zm220 220h160v-160H400v160Zm0 220h160v-160H400v160ZM180-400h160v-160H180v160Zm440 0h160v-160H620v160ZM180-180h160v-160H180v160Zm440 0h160v-160H620v160Z\"/>\n",
              "  </svg>\n",
              "    </button>\n",
              "\n",
              "  <style>\n",
              "    .colab-df-container {\n",
              "      display:flex;\n",
              "      gap: 12px;\n",
              "    }\n",
              "\n",
              "    .colab-df-convert {\n",
              "      background-color: #E8F0FE;\n",
              "      border: none;\n",
              "      border-radius: 50%;\n",
              "      cursor: pointer;\n",
              "      display: none;\n",
              "      fill: #1967D2;\n",
              "      height: 32px;\n",
              "      padding: 0 0 0 0;\n",
              "      width: 32px;\n",
              "    }\n",
              "\n",
              "    .colab-df-convert:hover {\n",
              "      background-color: #E2EBFA;\n",
              "      box-shadow: 0px 1px 2px rgba(60, 64, 67, 0.3), 0px 1px 3px 1px rgba(60, 64, 67, 0.15);\n",
              "      fill: #174EA6;\n",
              "    }\n",
              "\n",
              "    .colab-df-buttons div {\n",
              "      margin-bottom: 4px;\n",
              "    }\n",
              "\n",
              "    [theme=dark] .colab-df-convert {\n",
              "      background-color: #3B4455;\n",
              "      fill: #D2E3FC;\n",
              "    }\n",
              "\n",
              "    [theme=dark] .colab-df-convert:hover {\n",
              "      background-color: #434B5C;\n",
              "      box-shadow: 0px 1px 3px 1px rgba(0, 0, 0, 0.15);\n",
              "      filter: drop-shadow(0px 1px 2px rgba(0, 0, 0, 0.3));\n",
              "      fill: #FFFFFF;\n",
              "    }\n",
              "  </style>\n",
              "\n",
              "    <script>\n",
              "      const buttonEl =\n",
              "        document.querySelector('#df-6a0fd1d4-94c2-410a-a68a-4f085aa1e318 button.colab-df-convert');\n",
              "      buttonEl.style.display =\n",
              "        google.colab.kernel.accessAllowed ? 'block' : 'none';\n",
              "\n",
              "      async function convertToInteractive(key) {\n",
              "        const element = document.querySelector('#df-6a0fd1d4-94c2-410a-a68a-4f085aa1e318');\n",
              "        const dataTable =\n",
              "          await google.colab.kernel.invokeFunction('convertToInteractive',\n",
              "                                                    [key], {});\n",
              "        if (!dataTable) return;\n",
              "\n",
              "        const docLinkHtml = 'Like what you see? Visit the ' +\n",
              "          '<a target=\"_blank\" href=https://colab.research.google.com/notebooks/data_table.ipynb>data table notebook</a>'\n",
              "          + ' to learn more about interactive tables.';\n",
              "        element.innerHTML = '';\n",
              "        dataTable['output_type'] = 'display_data';\n",
              "        await google.colab.output.renderOutput(dataTable, element);\n",
              "        const docLink = document.createElement('div');\n",
              "        docLink.innerHTML = docLinkHtml;\n",
              "        element.appendChild(docLink);\n",
              "      }\n",
              "    </script>\n",
              "  </div>\n",
              "\n",
              "\n",
              "    <div id=\"df-240c2152-3e93-4237-82c3-e216aac164a7\">\n",
              "      <button class=\"colab-df-quickchart\" onclick=\"quickchart('df-240c2152-3e93-4237-82c3-e216aac164a7')\"\n",
              "                title=\"Suggest charts\"\n",
              "                style=\"display:none;\">\n",
              "\n",
              "<svg xmlns=\"http://www.w3.org/2000/svg\" height=\"24px\"viewBox=\"0 0 24 24\"\n",
              "     width=\"24px\">\n",
              "    <g>\n",
              "        <path d=\"M19 3H5c-1.1 0-2 .9-2 2v14c0 1.1.9 2 2 2h14c1.1 0 2-.9 2-2V5c0-1.1-.9-2-2-2zM9 17H7v-7h2v7zm4 0h-2V7h2v10zm4 0h-2v-4h2v4z\"/>\n",
              "    </g>\n",
              "</svg>\n",
              "      </button>\n",
              "\n",
              "<style>\n",
              "  .colab-df-quickchart {\n",
              "      --bg-color: #E8F0FE;\n",
              "      --fill-color: #1967D2;\n",
              "      --hover-bg-color: #E2EBFA;\n",
              "      --hover-fill-color: #174EA6;\n",
              "      --disabled-fill-color: #AAA;\n",
              "      --disabled-bg-color: #DDD;\n",
              "  }\n",
              "\n",
              "  [theme=dark] .colab-df-quickchart {\n",
              "      --bg-color: #3B4455;\n",
              "      --fill-color: #D2E3FC;\n",
              "      --hover-bg-color: #434B5C;\n",
              "      --hover-fill-color: #FFFFFF;\n",
              "      --disabled-bg-color: #3B4455;\n",
              "      --disabled-fill-color: #666;\n",
              "  }\n",
              "\n",
              "  .colab-df-quickchart {\n",
              "    background-color: var(--bg-color);\n",
              "    border: none;\n",
              "    border-radius: 50%;\n",
              "    cursor: pointer;\n",
              "    display: none;\n",
              "    fill: var(--fill-color);\n",
              "    height: 32px;\n",
              "    padding: 0;\n",
              "    width: 32px;\n",
              "  }\n",
              "\n",
              "  .colab-df-quickchart:hover {\n",
              "    background-color: var(--hover-bg-color);\n",
              "    box-shadow: 0 1px 2px rgba(60, 64, 67, 0.3), 0 1px 3px 1px rgba(60, 64, 67, 0.15);\n",
              "    fill: var(--button-hover-fill-color);\n",
              "  }\n",
              "\n",
              "  .colab-df-quickchart-complete:disabled,\n",
              "  .colab-df-quickchart-complete:disabled:hover {\n",
              "    background-color: var(--disabled-bg-color);\n",
              "    fill: var(--disabled-fill-color);\n",
              "    box-shadow: none;\n",
              "  }\n",
              "\n",
              "  .colab-df-spinner {\n",
              "    border: 2px solid var(--fill-color);\n",
              "    border-color: transparent;\n",
              "    border-bottom-color: var(--fill-color);\n",
              "    animation:\n",
              "      spin 1s steps(1) infinite;\n",
              "  }\n",
              "\n",
              "  @keyframes spin {\n",
              "    0% {\n",
              "      border-color: transparent;\n",
              "      border-bottom-color: var(--fill-color);\n",
              "      border-left-color: var(--fill-color);\n",
              "    }\n",
              "    20% {\n",
              "      border-color: transparent;\n",
              "      border-left-color: var(--fill-color);\n",
              "      border-top-color: var(--fill-color);\n",
              "    }\n",
              "    30% {\n",
              "      border-color: transparent;\n",
              "      border-left-color: var(--fill-color);\n",
              "      border-top-color: var(--fill-color);\n",
              "      border-right-color: var(--fill-color);\n",
              "    }\n",
              "    40% {\n",
              "      border-color: transparent;\n",
              "      border-right-color: var(--fill-color);\n",
              "      border-top-color: var(--fill-color);\n",
              "    }\n",
              "    60% {\n",
              "      border-color: transparent;\n",
              "      border-right-color: var(--fill-color);\n",
              "    }\n",
              "    80% {\n",
              "      border-color: transparent;\n",
              "      border-right-color: var(--fill-color);\n",
              "      border-bottom-color: var(--fill-color);\n",
              "    }\n",
              "    90% {\n",
              "      border-color: transparent;\n",
              "      border-bottom-color: var(--fill-color);\n",
              "    }\n",
              "  }\n",
              "</style>\n",
              "\n",
              "      <script>\n",
              "        async function quickchart(key) {\n",
              "          const quickchartButtonEl =\n",
              "            document.querySelector('#' + key + ' button');\n",
              "          quickchartButtonEl.disabled = true;  // To prevent multiple clicks.\n",
              "          quickchartButtonEl.classList.add('colab-df-spinner');\n",
              "          try {\n",
              "            const charts = await google.colab.kernel.invokeFunction(\n",
              "                'suggestCharts', [key], {});\n",
              "          } catch (error) {\n",
              "            console.error('Error during call to suggestCharts:', error);\n",
              "          }\n",
              "          quickchartButtonEl.classList.remove('colab-df-spinner');\n",
              "          quickchartButtonEl.classList.add('colab-df-quickchart-complete');\n",
              "        }\n",
              "        (() => {\n",
              "          let quickchartButtonEl =\n",
              "            document.querySelector('#df-240c2152-3e93-4237-82c3-e216aac164a7 button');\n",
              "          quickchartButtonEl.style.display =\n",
              "            google.colab.kernel.accessAllowed ? 'block' : 'none';\n",
              "        })();\n",
              "      </script>\n",
              "    </div>\n",
              "\n",
              "  <div id=\"id_9e1f0236-4cb7-4f90-ac96-0a2dc5d28422\">\n",
              "    <style>\n",
              "      .colab-df-generate {\n",
              "        background-color: #E8F0FE;\n",
              "        border: none;\n",
              "        border-radius: 50%;\n",
              "        cursor: pointer;\n",
              "        display: none;\n",
              "        fill: #1967D2;\n",
              "        height: 32px;\n",
              "        padding: 0 0 0 0;\n",
              "        width: 32px;\n",
              "      }\n",
              "\n",
              "      .colab-df-generate:hover {\n",
              "        background-color: #E2EBFA;\n",
              "        box-shadow: 0px 1px 2px rgba(60, 64, 67, 0.3), 0px 1px 3px 1px rgba(60, 64, 67, 0.15);\n",
              "        fill: #174EA6;\n",
              "      }\n",
              "\n",
              "      [theme=dark] .colab-df-generate {\n",
              "        background-color: #3B4455;\n",
              "        fill: #D2E3FC;\n",
              "      }\n",
              "\n",
              "      [theme=dark] .colab-df-generate:hover {\n",
              "        background-color: #434B5C;\n",
              "        box-shadow: 0px 1px 3px 1px rgba(0, 0, 0, 0.15);\n",
              "        filter: drop-shadow(0px 1px 2px rgba(0, 0, 0, 0.3));\n",
              "        fill: #FFFFFF;\n",
              "      }\n",
              "    </style>\n",
              "    <button class=\"colab-df-generate\" onclick=\"generateWithVariable('dataset')\"\n",
              "            title=\"Generate code using this dataframe.\"\n",
              "            style=\"display:none;\">\n",
              "\n",
              "  <svg xmlns=\"http://www.w3.org/2000/svg\" height=\"24px\"viewBox=\"0 0 24 24\"\n",
              "       width=\"24px\">\n",
              "    <path d=\"M7,19H8.4L18.45,9,17,7.55,7,17.6ZM5,21V16.75L18.45,3.32a2,2,0,0,1,2.83,0l1.4,1.43a1.91,1.91,0,0,1,.58,1.4,1.91,1.91,0,0,1-.58,1.4L9.25,21ZM18.45,9,17,7.55Zm-12,3A5.31,5.31,0,0,0,4.9,8.1,5.31,5.31,0,0,0,1,6.5,5.31,5.31,0,0,0,4.9,4.9,5.31,5.31,0,0,0,6.5,1,5.31,5.31,0,0,0,8.1,4.9,5.31,5.31,0,0,0,12,6.5,5.46,5.46,0,0,0,6.5,12Z\"/>\n",
              "  </svg>\n",
              "    </button>\n",
              "    <script>\n",
              "      (() => {\n",
              "      const buttonEl =\n",
              "        document.querySelector('#id_9e1f0236-4cb7-4f90-ac96-0a2dc5d28422 button.colab-df-generate');\n",
              "      buttonEl.style.display =\n",
              "        google.colab.kernel.accessAllowed ? 'block' : 'none';\n",
              "\n",
              "      buttonEl.onclick = () => {\n",
              "        google.colab.notebook.generateWithVariable('dataset');\n",
              "      }\n",
              "      })();\n",
              "    </script>\n",
              "  </div>\n",
              "\n",
              "    </div>\n",
              "  </div>\n"
            ],
            "application/vnd.google.colaboratory.intrinsic+json": {
              "type": "dataframe",
              "variable_name": "dataset"
            }
          },
          "metadata": {},
          "execution_count": 29
        }
      ]
    },
    {
      "cell_type": "markdown",
      "source": [
        "**Data Preprocessing**"
      ],
      "metadata": {
        "id": "gIkWYjccCMlu"
      }
    },
    {
      "cell_type": "code",
      "source": [
        "# Encode non-numeric columns (if any)\n",
        "for column in dataset.columns:\n",
        "    if dataset[column].dtype == 'object':  # Identify categorical columns\n",
        "        dataset[column] = LabelEncoder().fit_transform(dataset[column])\n",
        "\n",
        "# Separate features (X) and target (y)\n",
        "X = dataset.drop(['Class'], axis=1)  # Assuming 'Class' is the target column\n",
        "y = dataset['Class']"
      ],
      "metadata": {
        "id": "CJLPKg4OCJIa"
      },
      "execution_count": null,
      "outputs": []
    },
    {
      "cell_type": "code",
      "source": [
        "print(\"Original Class Distribution:\", np.bincount(y))"
      ],
      "metadata": {
        "colab": {
          "base_uri": "https://localhost:8080/"
        },
        "id": "cApvATS2CJGk",
        "outputId": "47abca5c-e1e4-4183-d567-7a6f3bc6e350"
      },
      "execution_count": null,
      "outputs": [
        {
          "output_type": "stream",
          "name": "stdout",
          "text": [
            "Original Class Distribution: [262851  11766   7645  29844]\n"
          ]
        }
      ]
    },
    {
      "cell_type": "code",
      "source": [
        "# Standardize the features\n",
        "scaler = StandardScaler()\n",
        "X = scaler.fit_transform(X)"
      ],
      "metadata": {
        "id": "Dfs-ElhtCJDw"
      },
      "execution_count": null,
      "outputs": []
    },
    {
      "cell_type": "code",
      "source": [
        "!pip install -U imbalanced-learn"
      ],
      "metadata": {
        "colab": {
          "base_uri": "https://localhost:8080/"
        },
        "id": "cU6-aUtcCJBK",
        "outputId": "281d9609-d367-4a4f-a59c-96c95bb5a6b0"
      },
      "execution_count": null,
      "outputs": [
        {
          "output_type": "stream",
          "name": "stdout",
          "text": [
            "Requirement already satisfied: imbalanced-learn in /usr/local/lib/python3.11/dist-packages (0.13.0)\n",
            "Requirement already satisfied: numpy<3,>=1.24.3 in /usr/local/lib/python3.11/dist-packages (from imbalanced-learn) (2.0.2)\n",
            "Requirement already satisfied: scipy<2,>=1.10.1 in /usr/local/lib/python3.11/dist-packages (from imbalanced-learn) (1.15.2)\n",
            "Requirement already satisfied: scikit-learn<2,>=1.3.2 in /usr/local/lib/python3.11/dist-packages (from imbalanced-learn) (1.6.1)\n",
            "Requirement already satisfied: sklearn-compat<1,>=0.1 in /usr/local/lib/python3.11/dist-packages (from imbalanced-learn) (0.1.3)\n",
            "Requirement already satisfied: joblib<2,>=1.1.1 in /usr/local/lib/python3.11/dist-packages (from imbalanced-learn) (1.4.2)\n",
            "Requirement already satisfied: threadpoolctl<4,>=2.0.0 in /usr/local/lib/python3.11/dist-packages (from imbalanced-learn) (3.6.0)\n"
          ]
        }
      ]
    },
    {
      "cell_type": "markdown",
      "source": [
        "**Data Balancing utilized SMOTE**"
      ],
      "metadata": {
        "id": "VU3Uh1FotLGp"
      }
    },
    {
      "cell_type": "code",
      "source": [
        "from imblearn.over_sampling import SMOTE\n",
        "# Balance dataset using SMOTE\n",
        "smote = SMOTE(random_state=42)\n",
        "X, y = smote.fit_resample(X, y)\n",
        "\n",
        "# Verify the balanced dataset distribution\n",
        "print(\"Balanced Class Distribution:\", np.bincount(y))"
      ],
      "metadata": {
        "colab": {
          "base_uri": "https://localhost:8080/"
        },
        "id": "Sb2mBvlBCI-a",
        "outputId": "436b0514-07d8-486a-ab1e-352bdbad3d4d"
      },
      "execution_count": null,
      "outputs": [
        {
          "output_type": "stream",
          "name": "stdout",
          "text": [
            "Balanced Class Distribution: [262851 262851 262851 262851]\n"
          ]
        }
      ]
    },
    {
      "cell_type": "markdown",
      "source": [
        "**Split data into 80% Training and 20% Testing**"
      ],
      "metadata": {
        "id": "BhCXVR9ctJRp"
      }
    },
    {
      "cell_type": "code",
      "source": [
        "# Train-test split\n",
        "X_train, X_test, y_train, y_test = train_test_split(X, y, test_size=0.2, random_state=101, stratify=y)"
      ],
      "metadata": {
        "id": "ZrU3_udJCI7u"
      },
      "execution_count": null,
      "outputs": []
    },
    {
      "cell_type": "markdown",
      "source": [
        "**The hybrid MLP + LSTM model**"
      ],
      "metadata": {
        "id": "Nf4TIdrUtA9J"
      }
    },
    {
      "cell_type": "code",
      "source": [
        "from keras.models import Sequential\n",
        "from keras.layers import Dense, Dropout, LSTM, Flatten, TimeDistributed, InputLayer\n",
        "from keras.regularizers import l2\n",
        "from keras.utils import to_categorical\n",
        "from keras.callbacks import EarlyStopping\n",
        "\n",
        "# Convert target to categorical (one-hot encoding)\n",
        "y_train = to_categorical(y_train)\n",
        "y_test = to_categorical(y_test)\n",
        "\n",
        "# Reshape the input data for LSTM compatibility\n",
        "# Assuming the input features need to be reshaped into a 3D array: (samples, timesteps, features)\n",
        "X_train = X_train.reshape((X_train.shape[0], X_train.shape[1], 1))\n",
        "X_test = X_test.reshape((X_test.shape[0], X_test.shape[1], 1))\n",
        "\n",
        "# Define the hybrid MLP + LSTM model with regularization\n",
        "def build_hybrid_model(input_shape, num_classes):\n",
        "    model = Sequential()\n",
        "\n",
        "    # Input Layer\n",
        "    model.add(InputLayer(input_shape=input_shape))\n",
        "\n",
        "    # LSTM Layer\n",
        "    model.add(LSTM(64, activation='tanh', return_sequences=False, kernel_regularizer=l2(0.01)))\n",
        "    model.add(Dropout(0.3))  # Dropout for regularization\n",
        "\n",
        "    # MLP Layers\n",
        "    model.add(Dense(128, activation='relu', kernel_regularizer=l2(0.01)))\n",
        "    model.add(Dropout(0.3))  # Dropout for regularization\n",
        "    model.add(Dense(64, activation='relu', kernel_regularizer=l2(0.01)))\n",
        "    model.add(Dropout(0.3))  # Dropout for regularization\n",
        "\n",
        "    # Output Layer\n",
        "    model.add(Dense(num_classes, activation='softmax'))\n",
        "\n",
        "    return model\n",
        "\n",
        "# Build and compile the model\n",
        "input_shape = (X_train.shape[1], X_train.shape[2])  # Adjusted for LSTM input format\n",
        "num_classes = y_train.shape[1]\n",
        "model = build_hybrid_model(input_shape, num_classes)\n",
        "model.compile(\n",
        "    optimizer='adam',\n",
        "    loss='categorical_crossentropy',\n",
        "    metrics=['accuracy']\n",
        ")\n",
        "\n",
        "# Train the model with early stopping\n",
        "from keras.callbacks import EarlyStopping\n",
        "\n",
        "early_stopping = EarlyStopping(monitor='val_loss', patience=10, restore_best_weights=True)\n",
        "\n",
        "history = model.fit(\n",
        "    X_train, y_train,\n",
        "    validation_data=(X_test, y_test),\n",
        "    epochs=50,\n",
        "    batch_size=32,\n",
        "    callbacks=[early_stopping],\n",
        "    verbose=1\n",
        ")\n",
        "\n",
        "# Evaluate the model\n",
        "y_pred = model.predict(X_test)\n",
        "y_pred_classes = np.argmax(y_pred, axis=1)\n",
        "y_true_classes = np.argmax(y_test, axis=1)"
      ],
      "metadata": {
        "colab": {
          "base_uri": "https://localhost:8080/"
        },
        "id": "hsa0-DfQCVcP",
        "outputId": "a07d90fe-fab2-4d40-8f32-43124acbc970"
      },
      "execution_count": null,
      "outputs": [
        {
          "output_type": "stream",
          "name": "stderr",
          "text": [
            "/usr/local/lib/python3.11/dist-packages/keras/src/layers/core/input_layer.py:27: UserWarning: Argument `input_shape` is deprecated. Use `shape` instead.\n",
            "  warnings.warn(\n"
          ]
        },
        {
          "output_type": "stream",
          "name": "stdout",
          "text": [
            "Epoch 1/50\n",
            "\u001b[1m26286/26286\u001b[0m \u001b[32m━━━━━━━━━━━━━━━━━━━━\u001b[0m\u001b[37m\u001b[0m \u001b[1m295s\u001b[0m 11ms/step - accuracy: 0.7804 - loss: 0.6231 - val_accuracy: 0.9076 - val_loss: 0.2802\n",
            "Epoch 2/50\n",
            "\u001b[1m26286/26286\u001b[0m \u001b[32m━━━━━━━━━━━━━━━━━━━━\u001b[0m\u001b[37m\u001b[0m \u001b[1m289s\u001b[0m 11ms/step - accuracy: 0.9080 - loss: 0.2920 - val_accuracy: 0.9341 - val_loss: 0.2162\n",
            "Epoch 3/50\n",
            "\u001b[1m26286/26286\u001b[0m \u001b[32m━━━━━━━━━━━━━━━━━━━━\u001b[0m\u001b[37m\u001b[0m \u001b[1m286s\u001b[0m 11ms/step - accuracy: 0.9280 - loss: 0.2393 - val_accuracy: 0.9535 - val_loss: 0.1660\n",
            "Epoch 4/50\n",
            "\u001b[1m26286/26286\u001b[0m \u001b[32m━━━━━━━━━━━━━━━━━━━━\u001b[0m\u001b[37m\u001b[0m \u001b[1m284s\u001b[0m 11ms/step - accuracy: 0.9397 - loss: 0.2084 - val_accuracy: 0.9565 - val_loss: 0.1578\n",
            "Epoch 5/50\n",
            "\u001b[1m26286/26286\u001b[0m \u001b[32m━━━━━━━━━━━━━━━━━━━━\u001b[0m\u001b[37m\u001b[0m \u001b[1m282s\u001b[0m 11ms/step - accuracy: 0.9469 - loss: 0.1892 - val_accuracy: 0.9444 - val_loss: 0.1810\n",
            "Epoch 6/50\n",
            "\u001b[1m26286/26286\u001b[0m \u001b[32m━━━━━━━━━━━━━━━━━━━━\u001b[0m\u001b[37m\u001b[0m \u001b[1m283s\u001b[0m 11ms/step - accuracy: 0.9520 - loss: 0.1754 - val_accuracy: 0.9653 - val_loss: 0.1309\n",
            "Epoch 7/50\n",
            "\u001b[1m26286/26286\u001b[0m \u001b[32m━━━━━━━━━━━━━━━━━━━━\u001b[0m\u001b[37m\u001b[0m \u001b[1m281s\u001b[0m 11ms/step - accuracy: 0.9541 - loss: 0.1727 - val_accuracy: 0.9646 - val_loss: 0.1268\n",
            "Epoch 8/50\n",
            "\u001b[1m26286/26286\u001b[0m \u001b[32m━━━━━━━━━━━━━━━━━━━━\u001b[0m\u001b[37m\u001b[0m \u001b[1m286s\u001b[0m 11ms/step - accuracy: 0.9594 - loss: 0.1562 - val_accuracy: 0.9572 - val_loss: 0.1473\n",
            "Epoch 9/50\n",
            "\u001b[1m26286/26286\u001b[0m \u001b[32m━━━━━━━━━━━━━━━━━━━━\u001b[0m\u001b[37m\u001b[0m \u001b[1m285s\u001b[0m 11ms/step - accuracy: 0.9623 - loss: 0.1491 - val_accuracy: 0.9741 - val_loss: 0.1044\n",
            "Epoch 10/50\n",
            "\u001b[1m26286/26286\u001b[0m \u001b[32m━━━━━━━━━━━━━━━━━━━━\u001b[0m\u001b[37m\u001b[0m \u001b[1m285s\u001b[0m 11ms/step - accuracy: 0.9639 - loss: 0.1429 - val_accuracy: 0.9685 - val_loss: 0.1220\n",
            "Epoch 11/50\n",
            "\u001b[1m26286/26286\u001b[0m \u001b[32m━━━━━━━━━━━━━━━━━━━━\u001b[0m\u001b[37m\u001b[0m \u001b[1m287s\u001b[0m 11ms/step - accuracy: 0.9660 - loss: 0.1360 - val_accuracy: 0.9761 - val_loss: 0.0965\n",
            "Epoch 12/50\n",
            "\u001b[1m26286/26286\u001b[0m \u001b[32m━━━━━━━━━━━━━━━━━━━━\u001b[0m\u001b[37m\u001b[0m \u001b[1m287s\u001b[0m 11ms/step - accuracy: 0.9678 - loss: 0.1307 - val_accuracy: 0.9739 - val_loss: 0.1073\n",
            "Epoch 13/50\n",
            "\u001b[1m26286/26286\u001b[0m \u001b[32m━━━━━━━━━━━━━━━━━━━━\u001b[0m\u001b[37m\u001b[0m \u001b[1m286s\u001b[0m 11ms/step - accuracy: 0.9686 - loss: 0.1294 - val_accuracy: 0.9740 - val_loss: 0.0987\n",
            "Epoch 14/50\n",
            "\u001b[1m26286/26286\u001b[0m \u001b[32m━━━━━━━━━━━━━━━━━━━━\u001b[0m\u001b[37m\u001b[0m \u001b[1m285s\u001b[0m 11ms/step - accuracy: 0.9701 - loss: 0.1234 - val_accuracy: 0.9839 - val_loss: 0.0791\n",
            "Epoch 15/50\n",
            "\u001b[1m26286/26286\u001b[0m \u001b[32m━━━━━━━━━━━━━━━━━━━━\u001b[0m\u001b[37m\u001b[0m \u001b[1m282s\u001b[0m 11ms/step - accuracy: 0.9713 - loss: 0.1199 - val_accuracy: 0.9728 - val_loss: 0.0981\n",
            "Epoch 16/50\n",
            "\u001b[1m26286/26286\u001b[0m \u001b[32m━━━━━━━━━━━━━━━━━━━━\u001b[0m\u001b[37m\u001b[0m \u001b[1m282s\u001b[0m 11ms/step - accuracy: 0.9718 - loss: 0.1176 - val_accuracy: 0.9736 - val_loss: 0.1014\n",
            "Epoch 17/50\n",
            "\u001b[1m26286/26286\u001b[0m \u001b[32m━━━━━━━━━━━━━━━━━━━━\u001b[0m\u001b[37m\u001b[0m \u001b[1m278s\u001b[0m 11ms/step - accuracy: 0.9722 - loss: 0.1176 - val_accuracy: 0.9810 - val_loss: 0.0838\n",
            "Epoch 18/50\n",
            "\u001b[1m26286/26286\u001b[0m \u001b[32m━━━━━━━━━━━━━━━━━━━━\u001b[0m\u001b[37m\u001b[0m \u001b[1m278s\u001b[0m 11ms/step - accuracy: 0.9737 - loss: 0.1125 - val_accuracy: 0.9786 - val_loss: 0.1004\n",
            "Epoch 19/50\n",
            "\u001b[1m26286/26286\u001b[0m \u001b[32m━━━━━━━━━━━━━━━━━━━━\u001b[0m\u001b[37m\u001b[0m \u001b[1m280s\u001b[0m 11ms/step - accuracy: 0.9741 - loss: 0.1110 - val_accuracy: 0.9618 - val_loss: 0.1516\n",
            "Epoch 20/50\n",
            "\u001b[1m26286/26286\u001b[0m \u001b[32m━━━━━━━━━━━━━━━━━━━━\u001b[0m\u001b[37m\u001b[0m \u001b[1m279s\u001b[0m 11ms/step - accuracy: 0.9732 - loss: 0.1130 - val_accuracy: 0.9837 - val_loss: 0.0788\n",
            "Epoch 21/50\n",
            "\u001b[1m26286/26286\u001b[0m \u001b[32m━━━━━━━━━━━━━━━━━━━━\u001b[0m\u001b[37m\u001b[0m \u001b[1m282s\u001b[0m 11ms/step - accuracy: 0.9746 - loss: 0.1091 - val_accuracy: 0.9761 - val_loss: 0.1089\n",
            "Epoch 22/50\n",
            "\u001b[1m26286/26286\u001b[0m \u001b[32m━━━━━━━━━━━━━━━━━━━━\u001b[0m\u001b[37m\u001b[0m \u001b[1m278s\u001b[0m 11ms/step - accuracy: 0.9738 - loss: 0.1118 - val_accuracy: 0.9842 - val_loss: 0.0799\n",
            "Epoch 23/50\n",
            "\u001b[1m26286/26286\u001b[0m \u001b[32m━━━━━━━━━━━━━━━━━━━━\u001b[0m\u001b[37m\u001b[0m \u001b[1m283s\u001b[0m 11ms/step - accuracy: 0.9726 - loss: 0.1193 - val_accuracy: 0.9209 - val_loss: 0.2352\n",
            "Epoch 24/50\n",
            "\u001b[1m26286/26286\u001b[0m \u001b[32m━━━━━━━━━━━━━━━━━━━━\u001b[0m\u001b[37m\u001b[0m \u001b[1m284s\u001b[0m 11ms/step - accuracy: 0.9736 - loss: 0.1159 - val_accuracy: 0.9452 - val_loss: 0.1347\n",
            "Epoch 25/50\n",
            "\u001b[1m26286/26286\u001b[0m \u001b[32m━━━━━━━━━━━━━━━━━━━━\u001b[0m\u001b[37m\u001b[0m \u001b[1m280s\u001b[0m 11ms/step - accuracy: 0.9714 - loss: 0.1227 - val_accuracy: 0.9800 - val_loss: 0.0976\n",
            "Epoch 26/50\n",
            "\u001b[1m26286/26286\u001b[0m \u001b[32m━━━━━━━━━━━━━━━━━━━━\u001b[0m\u001b[37m\u001b[0m \u001b[1m276s\u001b[0m 10ms/step - accuracy: 0.9722 - loss: 0.1213 - val_accuracy: 0.9846 - val_loss: 0.0877\n",
            "Epoch 27/50\n",
            "\u001b[1m26286/26286\u001b[0m \u001b[32m━━━━━━━━━━━━━━━━━━━━\u001b[0m\u001b[37m\u001b[0m \u001b[1m276s\u001b[0m 11ms/step - accuracy: 0.9606 - loss: 0.1636 - val_accuracy: 0.9784 - val_loss: 0.1088\n",
            "Epoch 28/50\n",
            "\u001b[1m26286/26286\u001b[0m \u001b[32m━━━━━━━━━━━━━━━━━━━━\u001b[0m\u001b[37m\u001b[0m \u001b[1m273s\u001b[0m 10ms/step - accuracy: 0.9630 - loss: 0.1567 - val_accuracy: 0.9819 - val_loss: 0.0924\n",
            "Epoch 29/50\n",
            "\u001b[1m26286/26286\u001b[0m \u001b[32m━━━━━━━━━━━━━━━━━━━━\u001b[0m\u001b[37m\u001b[0m \u001b[1m281s\u001b[0m 11ms/step - accuracy: 0.9651 - loss: 0.1478 - val_accuracy: 0.9852 - val_loss: 0.0833\n",
            "Epoch 30/50\n",
            "\u001b[1m26286/26286\u001b[0m \u001b[32m━━━━━━━━━━━━━━━━━━━━\u001b[0m\u001b[37m\u001b[0m \u001b[1m277s\u001b[0m 11ms/step - accuracy: 0.9711 - loss: 0.1258 - val_accuracy: 0.9872 - val_loss: 0.0737\n",
            "Epoch 31/50\n",
            "\u001b[1m26286/26286\u001b[0m \u001b[32m━━━━━━━━━━━━━━━━━━━━\u001b[0m\u001b[37m\u001b[0m \u001b[1m280s\u001b[0m 11ms/step - accuracy: 0.9738 - loss: 0.1156 - val_accuracy: 0.9834 - val_loss: 0.0842\n",
            "Epoch 32/50\n",
            "\u001b[1m26286/26286\u001b[0m \u001b[32m━━━━━━━━━━━━━━━━━━━━\u001b[0m\u001b[37m\u001b[0m \u001b[1m273s\u001b[0m 10ms/step - accuracy: 0.9742 - loss: 0.1145 - val_accuracy: 0.9852 - val_loss: 0.0751\n",
            "Epoch 33/50\n",
            "\u001b[1m26286/26286\u001b[0m \u001b[32m━━━━━━━━━━━━━━━━━━━━\u001b[0m\u001b[37m\u001b[0m \u001b[1m275s\u001b[0m 10ms/step - accuracy: 0.9732 - loss: 0.1169 - val_accuracy: 0.9872 - val_loss: 0.0687\n",
            "Epoch 34/50\n",
            "\u001b[1m26286/26286\u001b[0m \u001b[32m━━━━━━━━━━━━━━━━━━━━\u001b[0m\u001b[37m\u001b[0m \u001b[1m275s\u001b[0m 10ms/step - accuracy: 0.9713 - loss: 0.1210 - val_accuracy: 0.9548 - val_loss: 0.1493\n",
            "Epoch 35/50\n",
            "\u001b[1m26286/26286\u001b[0m \u001b[32m━━━━━━━━━━━━━━━━━━━━\u001b[0m\u001b[37m\u001b[0m \u001b[1m275s\u001b[0m 10ms/step - accuracy: 0.9662 - loss: 0.1466 - val_accuracy: 0.9841 - val_loss: 0.0807\n",
            "Epoch 36/50\n",
            "\u001b[1m26286/26286\u001b[0m \u001b[32m━━━━━━━━━━━━━━━━━━━━\u001b[0m\u001b[37m\u001b[0m \u001b[1m272s\u001b[0m 10ms/step - accuracy: 0.9682 - loss: 0.1346 - val_accuracy: 0.9494 - val_loss: 0.1518\n",
            "Epoch 37/50\n",
            "\u001b[1m26286/26286\u001b[0m \u001b[32m━━━━━━━━━━━━━━━━━━━━\u001b[0m\u001b[37m\u001b[0m \u001b[1m276s\u001b[0m 10ms/step - accuracy: 0.9710 - loss: 0.1295 - val_accuracy: 0.9839 - val_loss: 0.0779\n",
            "Epoch 38/50\n",
            "\u001b[1m26286/26286\u001b[0m \u001b[32m━━━━━━━━━━━━━━━━━━━━\u001b[0m\u001b[37m\u001b[0m \u001b[1m289s\u001b[0m 11ms/step - accuracy: 0.9695 - loss: 0.1337 - val_accuracy: 0.9842 - val_loss: 0.0876\n",
            "Epoch 39/50\n",
            "\u001b[1m26286/26286\u001b[0m \u001b[32m━━━━━━━━━━━━━━━━━━━━\u001b[0m\u001b[37m\u001b[0m \u001b[1m273s\u001b[0m 10ms/step - accuracy: 0.9620 - loss: 0.1578 - val_accuracy: 0.9830 - val_loss: 0.0898\n",
            "Epoch 40/50\n",
            "\u001b[1m26286/26286\u001b[0m \u001b[32m━━━━━━━━━━━━━━━━━━━━\u001b[0m\u001b[37m\u001b[0m \u001b[1m277s\u001b[0m 11ms/step - accuracy: 0.9658 - loss: 0.1486 - val_accuracy: 0.9055 - val_loss: 0.3471\n",
            "Epoch 41/50\n",
            "\u001b[1m26286/26286\u001b[0m \u001b[32m━━━━━━━━━━━━━━━━━━━━\u001b[0m\u001b[37m\u001b[0m \u001b[1m279s\u001b[0m 11ms/step - accuracy: 0.9636 - loss: 0.1565 - val_accuracy: 0.9598 - val_loss: 0.1817\n",
            "Epoch 42/50\n",
            "\u001b[1m26286/26286\u001b[0m \u001b[32m━━━━━━━━━━━━━━━━━━━━\u001b[0m\u001b[37m\u001b[0m \u001b[1m288s\u001b[0m 11ms/step - accuracy: 0.9658 - loss: 0.1514 - val_accuracy: 0.9128 - val_loss: 0.2796\n",
            "Epoch 43/50\n",
            "\u001b[1m26286/26286\u001b[0m \u001b[32m━━━━━━━━━━━━━━━━━━━━\u001b[0m\u001b[37m\u001b[0m \u001b[1m283s\u001b[0m 11ms/step - accuracy: 0.9666 - loss: 0.1456 - val_accuracy: 0.9796 - val_loss: 0.0892\n",
            "\u001b[1m6572/6572\u001b[0m \u001b[32m━━━━━━━━━━━━━━━━━━━━\u001b[0m\u001b[37m\u001b[0m \u001b[1m27s\u001b[0m 4ms/step\n"
          ]
        }
      ]
    },
    {
      "cell_type": "code",
      "source": [
        "from sklearn.metrics import accuracy_score, classification_report, confusion_matrix, precision_score, recall_score, f1_score\n",
        "# Metrics\n",
        "accuracy = accuracy_score(y_true_classes, y_pred_classes)\n",
        "precision = precision_score(y_true_classes, y_pred_classes, average='weighted')\n",
        "recall = recall_score(y_true_classes, y_pred_classes, average='weighted')\n",
        "f1 = f1_score(y_true_classes, y_pred_classes, average='weighted')\n",
        "\n",
        "print(\"Accuracy: {:.10f}\".format(accuracy))\n",
        "print(\"Precision: {:.10f}\".format(precision))\n",
        "print(\"Recall: {:.10f}\".format(recall))\n",
        "print(\"F1-Score: {:.10f}\".format(f1))"
      ],
      "metadata": {
        "colab": {
          "base_uri": "https://localhost:8080/"
        },
        "id": "z-V2dsrbCVY3",
        "outputId": "d9ae4070-d655-414b-cba3-353675a2894d"
      },
      "execution_count": null,
      "outputs": [
        {
          "output_type": "stream",
          "name": "stdout",
          "text": [
            "Accuracy: 0.9871980826\n",
            "Precision: 0.9872166917\n",
            "Recall: 0.9871980826\n",
            "F1-Score: 0.9872008521\n"
          ]
        }
      ]
    },
    {
      "cell_type": "code",
      "source": [
        "# Confusion Matrix\n",
        "conf_matrix = confusion_matrix(y_true_classes, y_pred_classes)\n",
        "print(\"Confusion Matrix:\\n\", conf_matrix)"
      ],
      "metadata": {
        "colab": {
          "base_uri": "https://localhost:8080/"
        },
        "id": "mIbcr9xV4DvU",
        "outputId": "eff1f454-e64e-4ee9-82e5-85652e591dba"
      },
      "execution_count": null,
      "outputs": [
        {
          "output_type": "stream",
          "name": "stdout",
          "text": [
            "Confusion Matrix:\n",
            " [[51924   313   332     1]\n",
            " [  961 51544    16    49]\n",
            " [  104    49 52134   283]\n",
            " [    0   436   148 51987]]\n"
          ]
        }
      ]
    },
    {
      "cell_type": "code",
      "source": [
        "# Detection Rate (Recall for each class)\n",
        "print(\"Detection Rates per Class:\", recall_score(y_true_classes, y_pred_classes, average=None))"
      ],
      "metadata": {
        "colab": {
          "base_uri": "https://localhost:8080/"
        },
        "id": "0V_Jzg4l4FRV",
        "outputId": "e7d59e19-59c8-4e36-ce40-b8f3ebea0b2a"
      },
      "execution_count": null,
      "outputs": [
        {
          "output_type": "stream",
          "name": "stdout",
          "text": [
            "Detection Rates per Class: [0.98771162 0.98048317 0.9917063  0.98889121]\n"
          ]
        }
      ]
    },
    {
      "cell_type": "markdown",
      "source": [
        "**Federated Learning Simulation (FedAvg)**"
      ],
      "metadata": {
        "id": "VrhDYntPs6jU"
      }
    },
    {
      "cell_type": "code",
      "source": [
        "import time\n",
        "from sklearn.metrics import classification_report, confusion_matrix, accuracy_score, precision_score, recall_score, f1_score\n",
        "\n",
        "# Function to measure model performance\n",
        "def evaluate_global_model(global_model, X_test, y_test):\n",
        "    y_pred = global_model.predict(X_test)\n",
        "    y_pred_classes = np.argmax(y_pred, axis=1)\n",
        "    y_true_classes = np.argmax(y_test, axis=1)\n",
        "\n",
        "    # Compute performance metrics\n",
        "    accuracy = accuracy_score(y_true_classes, y_pred_classes)\n",
        "    precision = precision_score(y_true_classes, y_pred_classes, average='weighted')\n",
        "    recall = recall_score(y_true_classes, y_pred_classes, average='weighted')\n",
        "    f1 = f1_score(y_true_classes, y_pred_classes, average='weighted')\n",
        "    cm = confusion_matrix(y_true_classes, y_pred_classes)\n",
        "\n",
        "    print(\"\\nModel Performance Metrics:\")\n",
        "    print(f\"Accuracy: {accuracy:.10f}\")\n",
        "    print(f\"Precision: {precision:.10f}\")\n",
        "    print(f\"Recall: {recall:.10f}\")\n",
        "    print(f\"F1-Score: {f1:.10f}\")\n",
        "    print(\"\\nConfusion Matrix:\")\n",
        "    print(cm)\n",
        "\n",
        "    return accuracy, precision, recall, f1\n",
        "\n",
        "# Function to analyze communication overhead\n",
        "def analyze_communication_overhead(local_weights, global_weights):\n",
        "    communication_cost = 0\n",
        "    for i in range(len(local_weights)):\n",
        "        # Compute the size of weights transmitted between clients and server\n",
        "        communication_cost += sum(w.nbytes for w in local_weights[i])\n",
        "    communication_cost += sum(w.nbytes for w in global_weights)\n",
        "\n",
        "    print(f\"\\nCommunication Overhead: {communication_cost / (1024 ** 2):.4f} MB\")  # in megabytes\n",
        "\n",
        "# Federated Learning Simulation (FedAvg)\n",
        "def federated_learning_simulation(X_train, y_train, X_test, y_test, num_clients=5):\n",
        "    client_data = np.array_split(X_train, num_clients)\n",
        "    client_labels = np.array_split(y_train, num_clients)\n",
        "\n",
        "    global_model = build_hybrid_model(input_shape, num_classes)\n",
        "    global_model.compile(optimizer='adam', loss='categorical_crossentropy', metrics=['accuracy'])\n",
        "    global_weights = global_model.get_weights()\n",
        "\n",
        "    communication_overhead = []\n",
        "    latency_per_round = []\n",
        "\n",
        "    for round in range(30):  # Simulate 30 communication rounds\n",
        "        local_weights = []\n",
        "\n",
        "        start_time = time.time()  # Start measuring latency\n",
        "\n",
        "        for i in range(num_clients):\n",
        "            local_model = build_hybrid_model(input_shape, num_classes)\n",
        "            local_model.set_weights(global_weights)\n",
        "            local_model.compile(optimizer='adam', loss='categorical_crossentropy', metrics=['accuracy'])\n",
        "\n",
        "            local_model.fit(client_data[i], client_labels[i], epochs=1, batch_size=32, verbose=0)\n",
        "            local_weights.append(local_model.get_weights())\n",
        "\n",
        "        # Aggregate weights (FedAvg)\n",
        "        global_weights = [\n",
        "            np.mean([local_weights[j][i] for j in range(num_clients)], axis=0)\n",
        "            for i in range(len(global_weights))\n",
        "        ]\n",
        "        global_model.set_weights(global_weights)\n",
        "\n",
        "        # Measure latency\n",
        "        end_time = time.time()\n",
        "        latency = end_time - start_time\n",
        "        latency_per_round.append(latency)\n",
        "\n",
        "        # Measure communication overhead\n",
        "        analyze_communication_overhead(local_weights, global_weights)\n",
        "\n",
        "        # Evaluate the global model\n",
        "        loss, acc = global_model.evaluate(X_test, y_test, verbose=0)\n",
        "        print(f\"\\nRound {round + 1}: Global Model Accuracy = {acc:.10f}\")\n",
        "\n",
        "        # Evaluate model performance metrics\n",
        "        evaluate_global_model(global_model, X_test, y_test)\n",
        "\n",
        "    # Summarize overall latency\n",
        "    print(\"\\nLatency Analysis:\")\n",
        "    print(f\"Average Latency per Round: {np.mean(latency_per_round):.8f} seconds\")\n",
        "    print(f\"Total Latency for 10 Rounds: {np.sum(latency_per_round):.8f} seconds\")\n",
        "\n",
        "# Call the federated learning simulation function\n",
        "federated_learning_simulation(X_train, y_train, X_test, y_test)"
      ],
      "metadata": {
        "colab": {
          "base_uri": "https://localhost:8080/"
        },
        "id": "95rgvCs-fyD9",
        "outputId": "dcb8846e-1b75-4fd4-df23-4189939d0a50"
      },
      "execution_count": null,
      "outputs": [
        {
          "output_type": "stream",
          "name": "stderr",
          "text": [
            "/usr/local/lib/python3.11/dist-packages/keras/src/layers/core/input_layer.py:27: UserWarning: Argument `input_shape` is deprecated. Use `shape` instead.\n",
            "  warnings.warn(\n"
          ]
        },
        {
          "output_type": "stream",
          "name": "stdout",
          "text": [
            "\n",
            "Communication Overhead: 0.7721 MB\n",
            "\n",
            "Round 1: Global Model Accuracy = 0.4714310765\n",
            "\u001b[1m6572/6572\u001b[0m \u001b[32m━━━━━━━━━━━━━━━━━━━━\u001b[0m\u001b[37m\u001b[0m \u001b[1m29s\u001b[0m 4ms/step\n",
            "\n",
            "Model Performance Metrics:\n",
            "Accuracy: 0.4714310851\n",
            "Precision: 0.5190677540\n",
            "Recall: 0.4714310851\n",
            "F1-Score: 0.4736264708\n",
            "\n",
            "Confusion Matrix:\n",
            "[[12502 32020  7808   240]\n",
            " [ 8722 32338  7088  4422]\n",
            " [13798  8425 28552  1795]\n",
            " [  272 20396  6162 25741]]\n"
          ]
        },
        {
          "output_type": "stream",
          "name": "stderr",
          "text": [
            "/usr/local/lib/python3.11/dist-packages/keras/src/layers/core/input_layer.py:27: UserWarning: Argument `input_shape` is deprecated. Use `shape` instead.\n",
            "  warnings.warn(\n"
          ]
        },
        {
          "output_type": "stream",
          "name": "stdout",
          "text": [
            "\n",
            "Communication Overhead: 0.7721 MB\n",
            "\n",
            "Round 2: Global Model Accuracy = 0.8604343534\n",
            "\u001b[1m6572/6572\u001b[0m \u001b[32m━━━━━━━━━━━━━━━━━━━━\u001b[0m\u001b[37m\u001b[0m \u001b[1m27s\u001b[0m 4ms/step\n",
            "\n",
            "Model Performance Metrics:\n",
            "Accuracy: 0.8604343712\n",
            "Precision: 0.8577715465\n",
            "Recall: 0.8604343712\n",
            "F1-Score: 0.8575727550\n",
            "\n",
            "Confusion Matrix:\n",
            "[[38142  9532  4896     0]\n",
            " [ 7424 41209   531  3406]\n",
            " [  293   472 50215  1590]\n",
            " [    0   231   973 51367]]\n"
          ]
        },
        {
          "output_type": "stream",
          "name": "stderr",
          "text": [
            "/usr/local/lib/python3.11/dist-packages/keras/src/layers/core/input_layer.py:27: UserWarning: Argument `input_shape` is deprecated. Use `shape` instead.\n",
            "  warnings.warn(\n"
          ]
        },
        {
          "output_type": "stream",
          "name": "stdout",
          "text": [
            "\n",
            "Communication Overhead: 0.7721 MB\n",
            "\n",
            "Round 3: Global Model Accuracy = 0.8973754048\n",
            "\u001b[1m6572/6572\u001b[0m \u001b[32m━━━━━━━━━━━━━━━━━━━━\u001b[0m\u001b[37m\u001b[0m \u001b[1m27s\u001b[0m 4ms/step\n",
            "\n",
            "Model Performance Metrics:\n",
            "Accuracy: 0.8973754167\n",
            "Precision: 0.9021596499\n",
            "Recall: 0.8973754167\n",
            "F1-Score: 0.8951875027\n",
            "\n",
            "Confusion Matrix:\n",
            "[[38600 10012  3958     0]\n",
            " [ 1632 47800   109  3029]\n",
            " [  231    99 50568  1672]\n",
            " [    0   415   423 51733]]\n"
          ]
        },
        {
          "output_type": "stream",
          "name": "stderr",
          "text": [
            "/usr/local/lib/python3.11/dist-packages/keras/src/layers/core/input_layer.py:27: UserWarning: Argument `input_shape` is deprecated. Use `shape` instead.\n",
            "  warnings.warn(\n"
          ]
        },
        {
          "output_type": "stream",
          "name": "stdout",
          "text": [
            "\n",
            "Communication Overhead: 0.7721 MB\n",
            "\n",
            "Round 4: Global Model Accuracy = 0.9035671353\n",
            "\u001b[1m6572/6572\u001b[0m \u001b[32m━━━━━━━━━━━━━━━━━━━━\u001b[0m\u001b[37m\u001b[0m \u001b[1m29s\u001b[0m 4ms/step\n",
            "\n",
            "Model Performance Metrics:\n",
            "Accuracy: 0.9035671316\n",
            "Precision: 0.9111770658\n",
            "Recall: 0.9035671316\n",
            "F1-Score: 0.9014635478\n",
            "\n",
            "Confusion Matrix:\n",
            "[[38591 10165  3814     0]\n",
            " [  397 49172   104  2897]\n",
            " [  148   136 50843  1443]\n",
            " [    0   295   879 51397]]\n"
          ]
        },
        {
          "output_type": "stream",
          "name": "stderr",
          "text": [
            "/usr/local/lib/python3.11/dist-packages/keras/src/layers/core/input_layer.py:27: UserWarning: Argument `input_shape` is deprecated. Use `shape` instead.\n",
            "  warnings.warn(\n"
          ]
        },
        {
          "output_type": "stream",
          "name": "stdout",
          "text": [
            "\n",
            "Communication Overhead: 0.7721 MB\n",
            "\n",
            "Round 5: Global Model Accuracy = 0.9237496257\n",
            "\u001b[1m6572/6572\u001b[0m \u001b[32m━━━━━━━━━━━━━━━━━━━━\u001b[0m\u001b[37m\u001b[0m \u001b[1m28s\u001b[0m 4ms/step\n",
            "\n",
            "Model Performance Metrics:\n",
            "Accuracy: 0.9237496493\n",
            "Precision: 0.9293262553\n",
            "Recall: 0.9237496493\n",
            "F1-Score: 0.9226963868\n",
            "\n",
            "Confusion Matrix:\n",
            "[[41497  8155  2918     0]\n",
            " [  253 49963    43  2311]\n",
            " [   77   118 51686   689]\n",
            " [    0   789   681 51101]]\n"
          ]
        },
        {
          "output_type": "stream",
          "name": "stderr",
          "text": [
            "/usr/local/lib/python3.11/dist-packages/keras/src/layers/core/input_layer.py:27: UserWarning: Argument `input_shape` is deprecated. Use `shape` instead.\n",
            "  warnings.warn(\n"
          ]
        },
        {
          "output_type": "stream",
          "name": "stdout",
          "text": [
            "\n",
            "Communication Overhead: 0.7721 MB\n",
            "\n",
            "Round 6: Global Model Accuracy = 0.9259181619\n",
            "\u001b[1m6572/6572\u001b[0m \u001b[32m━━━━━━━━━━━━━━━━━━━━\u001b[0m\u001b[37m\u001b[0m \u001b[1m28s\u001b[0m 4ms/step\n",
            "\n",
            "Model Performance Metrics:\n",
            "Accuracy: 0.9259181762\n",
            "Precision: 0.9308806148\n",
            "Recall: 0.9259181762\n",
            "F1-Score: 0.9249389131\n",
            "\n",
            "Confusion Matrix:\n",
            "[[41968  7894  2708     0]\n",
            " [  255 49717    40  2558]\n",
            " [  116    98 52126   230]\n",
            " [    0   586  1093 50892]]\n"
          ]
        },
        {
          "output_type": "stream",
          "name": "stderr",
          "text": [
            "/usr/local/lib/python3.11/dist-packages/keras/src/layers/core/input_layer.py:27: UserWarning: Argument `input_shape` is deprecated. Use `shape` instead.\n",
            "  warnings.warn(\n"
          ]
        },
        {
          "output_type": "stream",
          "name": "stdout",
          "text": [
            "\n",
            "Communication Overhead: 0.7721 MB\n",
            "\n",
            "Round 7: Global Model Accuracy = 0.9241300821\n",
            "\u001b[1m6572/6572\u001b[0m \u001b[32m━━━━━━━━━━━━━━━━━━━━\u001b[0m\u001b[37m\u001b[0m \u001b[1m28s\u001b[0m 4ms/step\n",
            "\n",
            "Model Performance Metrics:\n",
            "Accuracy: 0.9241300926\n",
            "Precision: 0.9288272783\n",
            "Recall: 0.9241300926\n",
            "F1-Score: 0.9232880181\n",
            "\n",
            "Confusion Matrix:\n",
            "[[42315  7359  2896     0]\n",
            " [  218 49986    25  2341]\n",
            " [  137    98 51142  1193]\n",
            " [    0   628  1059 50884]]\n"
          ]
        },
        {
          "output_type": "stream",
          "name": "stderr",
          "text": [
            "/usr/local/lib/python3.11/dist-packages/keras/src/layers/core/input_layer.py:27: UserWarning: Argument `input_shape` is deprecated. Use `shape` instead.\n",
            "  warnings.warn(\n"
          ]
        },
        {
          "output_type": "stream",
          "name": "stdout",
          "text": [
            "\n",
            "Communication Overhead: 0.7721 MB\n",
            "\n",
            "Round 8: Global Model Accuracy = 0.9346065521\n",
            "\u001b[1m6572/6572\u001b[0m \u001b[32m━━━━━━━━━━━━━━━━━━━━\u001b[0m\u001b[37m\u001b[0m \u001b[1m27s\u001b[0m 4ms/step\n",
            "\n",
            "Model Performance Metrics:\n",
            "Accuracy: 0.9346065503\n",
            "Precision: 0.9377413421\n",
            "Recall: 0.9346065503\n",
            "F1-Score: 0.9338329387\n",
            "\n",
            "Confusion Matrix:\n",
            "[[43480  6327  2763     0]\n",
            " [  392 49803    31  2344]\n",
            " [  137    91 52022   320]\n",
            " [    0   318  1028 51225]]\n"
          ]
        },
        {
          "output_type": "stream",
          "name": "stderr",
          "text": [
            "/usr/local/lib/python3.11/dist-packages/keras/src/layers/core/input_layer.py:27: UserWarning: Argument `input_shape` is deprecated. Use `shape` instead.\n",
            "  warnings.warn(\n"
          ]
        },
        {
          "output_type": "stream",
          "name": "stdout",
          "text": [
            "\n",
            "Communication Overhead: 0.7721 MB\n",
            "\n",
            "Round 9: Global Model Accuracy = 0.9307783246\n",
            "\u001b[1m6572/6572\u001b[0m \u001b[32m━━━━━━━━━━━━━━━━━━━━\u001b[0m\u001b[37m\u001b[0m \u001b[1m26s\u001b[0m 4ms/step\n",
            "\n",
            "Model Performance Metrics:\n",
            "Accuracy: 0.9307783395\n",
            "Precision: 0.9348159045\n",
            "Recall: 0.9307783395\n",
            "F1-Score: 0.9299510112\n",
            "\n",
            "Confusion Matrix:\n",
            "[[42910  6986  2674     0]\n",
            " [  296 49877    53  2344]\n",
            " [   78    81 52187   224]\n",
            " [    0   315  1505 50751]]\n"
          ]
        },
        {
          "output_type": "stream",
          "name": "stderr",
          "text": [
            "/usr/local/lib/python3.11/dist-packages/keras/src/layers/core/input_layer.py:27: UserWarning: Argument `input_shape` is deprecated. Use `shape` instead.\n",
            "  warnings.warn(\n"
          ]
        },
        {
          "output_type": "stream",
          "name": "stdout",
          "text": [
            "\n",
            "Communication Overhead: 0.7721 MB\n",
            "\n",
            "Round 10: Global Model Accuracy = 0.9353008866\n",
            "\u001b[1m6572/6572\u001b[0m \u001b[32m━━━━━━━━━━━━━━━━━━━━\u001b[0m\u001b[37m\u001b[0m \u001b[1m27s\u001b[0m 4ms/step\n",
            "\n",
            "Model Performance Metrics:\n",
            "Accuracy: 0.9353008593\n",
            "Precision: 0.9392617310\n",
            "Recall: 0.9353008593\n",
            "F1-Score: 0.9346902870\n",
            "\n",
            "Confusion Matrix:\n",
            "[[43638  6307  2622     3]\n",
            " [  315 50433    47  1775]\n",
            " [   89    83 52387    11]\n",
            " [    0   780  1573 50218]]\n"
          ]
        },
        {
          "output_type": "stream",
          "name": "stderr",
          "text": [
            "/usr/local/lib/python3.11/dist-packages/keras/src/layers/core/input_layer.py:27: UserWarning: Argument `input_shape` is deprecated. Use `shape` instead.\n",
            "  warnings.warn(\n"
          ]
        },
        {
          "output_type": "stream",
          "name": "stdout",
          "text": [
            "\n",
            "Communication Overhead: 0.7721 MB\n",
            "\n",
            "Round 11: Global Model Accuracy = 0.9393953681\n",
            "\u001b[1m6572/6572\u001b[0m \u001b[32m━━━━━━━━━━━━━━━━━━━━\u001b[0m\u001b[37m\u001b[0m \u001b[1m27s\u001b[0m 4ms/step\n",
            "\n",
            "Model Performance Metrics:\n",
            "Accuracy: 0.9393953805\n",
            "Precision: 0.9440697080\n",
            "Recall: 0.9393953805\n",
            "F1-Score: 0.9391122495\n",
            "\n",
            "Confusion Matrix:\n",
            "[[44519  5774  2277     0]\n",
            " [  361 51428    41   740]\n",
            " [   86    80 52401     3]\n",
            " [    0  1754  1628 49189]]\n"
          ]
        },
        {
          "output_type": "stream",
          "name": "stderr",
          "text": [
            "/usr/local/lib/python3.11/dist-packages/keras/src/layers/core/input_layer.py:27: UserWarning: Argument `input_shape` is deprecated. Use `shape` instead.\n",
            "  warnings.warn(\n"
          ]
        },
        {
          "output_type": "stream",
          "name": "stdout",
          "text": [
            "\n",
            "Communication Overhead: 0.7721 MB\n",
            "\n",
            "Round 12: Global Model Accuracy = 0.9371032119\n",
            "\u001b[1m6572/6572\u001b[0m \u001b[32m━━━━━━━━━━━━━━━━━━━━\u001b[0m\u001b[37m\u001b[0m \u001b[1m26s\u001b[0m 4ms/step\n",
            "\n",
            "Model Performance Metrics:\n",
            "Accuracy: 0.9371032095\n",
            "Precision: 0.9408954420\n",
            "Recall: 0.9371032095\n",
            "F1-Score: 0.9365636813\n",
            "\n",
            "Confusion Matrix:\n",
            "[[43944  6232  2394     0]\n",
            " [  308 50526    43  1693]\n",
            " [   95    81 52389     5]\n",
            " [    0   742  1633 50196]]\n"
          ]
        },
        {
          "output_type": "stream",
          "name": "stderr",
          "text": [
            "/usr/local/lib/python3.11/dist-packages/keras/src/layers/core/input_layer.py:27: UserWarning: Argument `input_shape` is deprecated. Use `shape` instead.\n",
            "  warnings.warn(\n"
          ]
        },
        {
          "output_type": "stream",
          "name": "stdout",
          "text": [
            "\n",
            "Communication Overhead: 0.7721 MB\n",
            "\n",
            "Round 13: Global Model Accuracy = 0.9317912459\n",
            "\u001b[1m6572/6572\u001b[0m \u001b[32m━━━━━━━━━━━━━━━━━━━━\u001b[0m\u001b[37m\u001b[0m \u001b[1m27s\u001b[0m 4ms/step\n",
            "\n",
            "Model Performance Metrics:\n",
            "Accuracy: 0.9317912698\n",
            "Precision: 0.9393114503\n",
            "Recall: 0.9317912698\n",
            "F1-Score: 0.9313216763\n",
            "\n",
            "Confusion Matrix:\n",
            "[[42740  7148  2682     0]\n",
            " [  118 51943    41   468]\n",
            " [   62    99 52346    63]\n",
            " [    0  2236  1426 48909]]\n"
          ]
        },
        {
          "output_type": "stream",
          "name": "stderr",
          "text": [
            "/usr/local/lib/python3.11/dist-packages/keras/src/layers/core/input_layer.py:27: UserWarning: Argument `input_shape` is deprecated. Use `shape` instead.\n",
            "  warnings.warn(\n"
          ]
        },
        {
          "output_type": "stream",
          "name": "stdout",
          "text": [
            "\n",
            "Communication Overhead: 0.7721 MB\n",
            "\n",
            "Round 14: Global Model Accuracy = 0.9525777698\n",
            "\u001b[1m6572/6572\u001b[0m \u001b[32m━━━━━━━━━━━━━━━━━━━━\u001b[0m\u001b[37m\u001b[0m \u001b[1m26s\u001b[0m 4ms/step\n",
            "\n",
            "Model Performance Metrics:\n",
            "Accuracy: 0.9525777412\n",
            "Precision: 0.9548719183\n",
            "Recall: 0.9525777412\n",
            "F1-Score: 0.9524024106\n",
            "\n",
            "Confusion Matrix:\n",
            "[[46317  4342  1911     0]\n",
            " [  444 51235    30   861]\n",
            " [  109    75 52364    22]\n",
            " [    0  1281   897 50393]]\n"
          ]
        },
        {
          "output_type": "stream",
          "name": "stderr",
          "text": [
            "/usr/local/lib/python3.11/dist-packages/keras/src/layers/core/input_layer.py:27: UserWarning: Argument `input_shape` is deprecated. Use `shape` instead.\n",
            "  warnings.warn(\n"
          ]
        },
        {
          "output_type": "stream",
          "name": "stdout",
          "text": [
            "\n",
            "Communication Overhead: 0.7721 MB\n",
            "\n",
            "Round 15: Global Model Accuracy = 0.9460816979\n",
            "\u001b[1m6572/6572\u001b[0m \u001b[32m━━━━━━━━━━━━━━━━━━━━\u001b[0m\u001b[37m\u001b[0m \u001b[1m29s\u001b[0m 4ms/step\n",
            "\n",
            "Model Performance Metrics:\n",
            "Accuracy: 0.9460816717\n",
            "Precision: 0.9501126933\n",
            "Recall: 0.9460816717\n",
            "F1-Score: 0.9460227461\n",
            "\n",
            "Confusion Matrix:\n",
            "[[46046  4470  2054     0]\n",
            " [  452 51804    26   288]\n",
            " [  134    75 52357     4]\n",
            " [    0  2455  1380 48736]]\n"
          ]
        },
        {
          "output_type": "stream",
          "name": "stderr",
          "text": [
            "/usr/local/lib/python3.11/dist-packages/keras/src/layers/core/input_layer.py:27: UserWarning: Argument `input_shape` is deprecated. Use `shape` instead.\n",
            "  warnings.warn(\n"
          ]
        },
        {
          "output_type": "stream",
          "name": "stdout",
          "text": [
            "\n",
            "Communication Overhead: 0.7721 MB\n",
            "\n",
            "Round 16: Global Model Accuracy = 0.9549555182\n",
            "\u001b[1m6572/6572\u001b[0m \u001b[32m━━━━━━━━━━━━━━━━━━━━\u001b[0m\u001b[37m\u001b[0m \u001b[1m27s\u001b[0m 4ms/step\n",
            "\n",
            "Model Performance Metrics:\n",
            "Accuracy: 0.9549555119\n",
            "Precision: 0.9576101700\n",
            "Recall: 0.9549555119\n",
            "F1-Score: 0.9548266972\n",
            "\n",
            "Confusion Matrix:\n",
            "[[46389  4489  1692     0]\n",
            " [  423 51739    26   382]\n",
            " [  116    73 52371    10]\n",
            " [    0  1353   908 50310]]\n"
          ]
        },
        {
          "output_type": "stream",
          "name": "stderr",
          "text": [
            "/usr/local/lib/python3.11/dist-packages/keras/src/layers/core/input_layer.py:27: UserWarning: Argument `input_shape` is deprecated. Use `shape` instead.\n",
            "  warnings.warn(\n"
          ]
        },
        {
          "output_type": "stream",
          "name": "stdout",
          "text": [
            "\n",
            "Communication Overhead: 0.7721 MB\n",
            "\n",
            "Round 17: Global Model Accuracy = 0.9506089687\n",
            "\u001b[1m6572/6572\u001b[0m \u001b[32m━━━━━━━━━━━━━━━━━━━━\u001b[0m\u001b[37m\u001b[0m \u001b[1m29s\u001b[0m 4ms/step\n",
            "\n",
            "Model Performance Metrics:\n",
            "Accuracy: 0.9506089471\n",
            "Precision: 0.9541471057\n",
            "Recall: 0.9506089471\n",
            "F1-Score: 0.9505378009\n",
            "\n",
            "Confusion Matrix:\n",
            "[[46299  4429  1842     0]\n",
            " [  430 51932    33   175]\n",
            " [  107    75 52385     3]\n",
            " [    0  1979  1313 49279]]\n"
          ]
        },
        {
          "output_type": "stream",
          "name": "stderr",
          "text": [
            "/usr/local/lib/python3.11/dist-packages/keras/src/layers/core/input_layer.py:27: UserWarning: Argument `input_shape` is deprecated. Use `shape` instead.\n",
            "  warnings.warn(\n"
          ]
        },
        {
          "output_type": "stream",
          "name": "stdout",
          "text": [
            "\n",
            "Communication Overhead: 0.7721 MB\n",
            "\n",
            "Round 18: Global Model Accuracy = 0.9205539227\n",
            "\u001b[1m6572/6572\u001b[0m \u001b[32m━━━━━━━━━━━━━━━━━━━━\u001b[0m\u001b[37m\u001b[0m \u001b[1m27s\u001b[0m 4ms/step\n",
            "\n",
            "Model Performance Metrics:\n",
            "Accuracy: 0.9205539255\n",
            "Precision: 0.9221836419\n",
            "Recall: 0.9205539255\n",
            "F1-Score: 0.9205475396\n",
            "\n",
            "Confusion Matrix:\n",
            "[[45275  5210  2085     0]\n",
            " [ 4530 47407    38   595]\n",
            " [   67    69 52434     0]\n",
            " [    0  2887  1225 48459]]\n"
          ]
        },
        {
          "output_type": "stream",
          "name": "stderr",
          "text": [
            "/usr/local/lib/python3.11/dist-packages/keras/src/layers/core/input_layer.py:27: UserWarning: Argument `input_shape` is deprecated. Use `shape` instead.\n",
            "  warnings.warn(\n"
          ]
        },
        {
          "output_type": "stream",
          "name": "stdout",
          "text": [
            "\n",
            "Communication Overhead: 0.7721 MB\n",
            "\n",
            "Round 19: Global Model Accuracy = 0.9508895278\n",
            "\u001b[1m6572/6572\u001b[0m \u001b[32m━━━━━━━━━━━━━━━━━━━━\u001b[0m\u001b[37m\u001b[0m \u001b[1m27s\u001b[0m 4ms/step\n",
            "\n",
            "Model Performance Metrics:\n",
            "Accuracy: 0.9508895240\n",
            "Precision: 0.9545605509\n",
            "Recall: 0.9508895240\n",
            "F1-Score: 0.9508320037\n",
            "\n",
            "Confusion Matrix:\n",
            "[[46528  4150  1892     0]\n",
            " [  399 52071    34    66]\n",
            " [   92    75 52400     3]\n",
            " [    0  2127  1489 48955]]\n"
          ]
        },
        {
          "output_type": "stream",
          "name": "stderr",
          "text": [
            "/usr/local/lib/python3.11/dist-packages/keras/src/layers/core/input_layer.py:27: UserWarning: Argument `input_shape` is deprecated. Use `shape` instead.\n",
            "  warnings.warn(\n"
          ]
        },
        {
          "output_type": "stream",
          "name": "stdout",
          "text": [
            "\n",
            "Communication Overhead: 0.7721 MB\n",
            "\n",
            "Round 20: Global Model Accuracy = 0.9616751075\n",
            "\u001b[1m6572/6572\u001b[0m \u001b[32m━━━━━━━━━━━━━━━━━━━━\u001b[0m\u001b[37m\u001b[0m \u001b[1m27s\u001b[0m 4ms/step\n",
            "\n",
            "Model Performance Metrics:\n",
            "Accuracy: 0.9616750919\n",
            "Precision: 0.9633591090\n",
            "Recall: 0.9616750919\n",
            "F1-Score: 0.9614911257\n",
            "\n",
            "Confusion Matrix:\n",
            "[[46988  3806  1776     0]\n",
            " [  504 51746    27   293]\n",
            " [   96    51 52419     4]\n",
            " [    0   801   701 51069]]\n"
          ]
        },
        {
          "output_type": "stream",
          "name": "stderr",
          "text": [
            "/usr/local/lib/python3.11/dist-packages/keras/src/layers/core/input_layer.py:27: UserWarning: Argument `input_shape` is deprecated. Use `shape` instead.\n",
            "  warnings.warn(\n"
          ]
        },
        {
          "output_type": "stream",
          "name": "stdout",
          "text": [
            "\n",
            "Communication Overhead: 0.7721 MB\n",
            "\n",
            "Round 21: Global Model Accuracy = 0.9591498971\n",
            "\u001b[1m6572/6572\u001b[0m \u001b[32m━━━━━━━━━━━━━━━━━━━━\u001b[0m\u001b[37m\u001b[0m \u001b[1m27s\u001b[0m 4ms/step\n",
            "\n",
            "Model Performance Metrics:\n",
            "Accuracy: 0.9591498994\n",
            "Precision: 0.9604211211\n",
            "Recall: 0.9591498994\n",
            "F1-Score: 0.9589878888\n",
            "\n",
            "Confusion Matrix:\n",
            "[[47405  3475  1690     0]\n",
            " [  532 51112    24   902]\n",
            " [  112    54 52402     2]\n",
            " [    0   566  1233 50772]]\n"
          ]
        },
        {
          "output_type": "stream",
          "name": "stderr",
          "text": [
            "/usr/local/lib/python3.11/dist-packages/keras/src/layers/core/input_layer.py:27: UserWarning: Argument `input_shape` is deprecated. Use `shape` instead.\n",
            "  warnings.warn(\n"
          ]
        },
        {
          "output_type": "stream",
          "name": "stdout",
          "text": [
            "\n",
            "Communication Overhead: 0.7721 MB\n",
            "\n",
            "Round 22: Global Model Accuracy = 0.9559066296\n",
            "\u001b[1m6572/6572\u001b[0m \u001b[32m━━━━━━━━━━━━━━━━━━━━\u001b[0m\u001b[37m\u001b[0m \u001b[1m26s\u001b[0m 4ms/step\n",
            "\n",
            "Model Performance Metrics:\n",
            "Accuracy: 0.9559066202\n",
            "Precision: 0.9586035353\n",
            "Recall: 0.9559066202\n",
            "F1-Score: 0.9558096926\n",
            "\n",
            "Confusion Matrix:\n",
            "[[46969  3674  1927     0]\n",
            " [  484 51997    34    55]\n",
            " [   73    57 52437     3]\n",
            " [    0  1538  1427 49606]]\n"
          ]
        },
        {
          "output_type": "stream",
          "name": "stderr",
          "text": [
            "/usr/local/lib/python3.11/dist-packages/keras/src/layers/core/input_layer.py:27: UserWarning: Argument `input_shape` is deprecated. Use `shape` instead.\n",
            "  warnings.warn(\n"
          ]
        },
        {
          "output_type": "stream",
          "name": "stdout",
          "text": [
            "\n",
            "Communication Overhead: 0.7721 MB\n",
            "\n",
            "Round 23: Global Model Accuracy = 0.9633823037\n",
            "\u001b[1m6572/6572\u001b[0m \u001b[32m━━━━━━━━━━━━━━━━━━━━\u001b[0m\u001b[37m\u001b[0m \u001b[1m26s\u001b[0m 4ms/step\n",
            "\n",
            "Model Performance Metrics:\n",
            "Accuracy: 0.9633823313\n",
            "Precision: 0.9650173024\n",
            "Recall: 0.9633823313\n",
            "F1-Score: 0.9633634918\n",
            "\n",
            "Confusion Matrix:\n",
            "[[48274  2819  1477     0]\n",
            " [  635 51866    29    40]\n",
            " [   85    57 52426     2]\n",
            " [    0  1502  1054 50015]]\n"
          ]
        },
        {
          "output_type": "stream",
          "name": "stderr",
          "text": [
            "/usr/local/lib/python3.11/dist-packages/keras/src/layers/core/input_layer.py:27: UserWarning: Argument `input_shape` is deprecated. Use `shape` instead.\n",
            "  warnings.warn(\n"
          ]
        },
        {
          "output_type": "stream",
          "name": "stdout",
          "text": [
            "\n",
            "Communication Overhead: 0.7721 MB\n",
            "\n",
            "Round 24: Global Model Accuracy = 0.9639387131\n",
            "\u001b[1m6572/6572\u001b[0m \u001b[32m━━━━━━━━━━━━━━━━━━━━\u001b[0m\u001b[37m\u001b[0m \u001b[1m27s\u001b[0m 4ms/step\n",
            "\n",
            "Model Performance Metrics:\n",
            "Accuracy: 0.9639387296\n",
            "Precision: 0.9657214943\n",
            "Recall: 0.9639387296\n",
            "F1-Score: 0.9639071426\n",
            "\n",
            "Confusion Matrix:\n",
            "[[47928  3296  1346     0]\n",
            " [  494 52013    17    46]\n",
            " [   98    57 52412     3]\n",
            " [    0  1313   913 50345]]\n"
          ]
        },
        {
          "output_type": "stream",
          "name": "stderr",
          "text": [
            "/usr/local/lib/python3.11/dist-packages/keras/src/layers/core/input_layer.py:27: UserWarning: Argument `input_shape` is deprecated. Use `shape` instead.\n",
            "  warnings.warn(\n"
          ]
        },
        {
          "output_type": "stream",
          "name": "stdout",
          "text": [
            "\n",
            "Communication Overhead: 0.7721 MB\n",
            "\n",
            "Round 25: Global Model Accuracy = 0.9659788609\n",
            "\u001b[1m6572/6572\u001b[0m \u001b[32m━━━━━━━━━━━━━━━━━━━━\u001b[0m\u001b[37m\u001b[0m \u001b[1m26s\u001b[0m 4ms/step\n",
            "\n",
            "Model Performance Metrics:\n",
            "Accuracy: 0.9659788569\n",
            "Precision: 0.9674788210\n",
            "Recall: 0.9659788569\n",
            "F1-Score: 0.9660123500\n",
            "\n",
            "Confusion Matrix:\n",
            "[[48810  2683  1077     0]\n",
            " [  610 51899    21    40]\n",
            " [   99    52 52417     2]\n",
            " [    0  1689   881 50001]]\n"
          ]
        },
        {
          "output_type": "stream",
          "name": "stderr",
          "text": [
            "/usr/local/lib/python3.11/dist-packages/keras/src/layers/core/input_layer.py:27: UserWarning: Argument `input_shape` is deprecated. Use `shape` instead.\n",
            "  warnings.warn(\n"
          ]
        },
        {
          "output_type": "stream",
          "name": "stdout",
          "text": [
            "\n",
            "Communication Overhead: 0.7721 MB\n",
            "\n",
            "Round 26: Global Model Accuracy = 0.9558590651\n",
            "\u001b[1m6572/6572\u001b[0m \u001b[32m━━━━━━━━━━━━━━━━━━━━\u001b[0m\u001b[37m\u001b[0m \u001b[1m26s\u001b[0m 4ms/step\n",
            "\n",
            "Model Performance Metrics:\n",
            "Accuracy: 0.9558590648\n",
            "Precision: 0.9577622916\n",
            "Recall: 0.9558590648\n",
            "F1-Score: 0.9557611562\n",
            "\n",
            "Confusion Matrix:\n",
            "[[47364  3194  2012     0]\n",
            " [  499 51340    32   699]\n",
            " [   62    50 52449     9]\n",
            " [    0  1529  1196 49846]]\n"
          ]
        },
        {
          "output_type": "stream",
          "name": "stderr",
          "text": [
            "/usr/local/lib/python3.11/dist-packages/keras/src/layers/core/input_layer.py:27: UserWarning: Argument `input_shape` is deprecated. Use `shape` instead.\n",
            "  warnings.warn(\n"
          ]
        },
        {
          "output_type": "stream",
          "name": "stdout",
          "text": [
            "\n",
            "Communication Overhead: 0.7721 MB\n",
            "\n",
            "Round 27: Global Model Accuracy = 0.9640195966\n",
            "\u001b[1m6572/6572\u001b[0m \u001b[32m━━━━━━━━━━━━━━━━━━━━\u001b[0m\u001b[37m\u001b[0m \u001b[1m26s\u001b[0m 4ms/step\n",
            "\n",
            "Model Performance Metrics:\n",
            "Accuracy: 0.9640195738\n",
            "Precision: 0.9658528484\n",
            "Recall: 0.9640195738\n",
            "F1-Score: 0.9639827418\n",
            "\n",
            "Confusion Matrix:\n",
            "[[47961  3228  1381     0]\n",
            " [  424 52074    28    44]\n",
            " [   97    41 52432     0]\n",
            " [    0  1319  1004 50248]]\n"
          ]
        },
        {
          "output_type": "stream",
          "name": "stderr",
          "text": [
            "/usr/local/lib/python3.11/dist-packages/keras/src/layers/core/input_layer.py:27: UserWarning: Argument `input_shape` is deprecated. Use `shape` instead.\n",
            "  warnings.warn(\n"
          ]
        },
        {
          "output_type": "stream",
          "name": "stdout",
          "text": [
            "\n",
            "Communication Overhead: 0.7721 MB\n",
            "\n",
            "Round 28: Global Model Accuracy = 0.9639292359\n",
            "\u001b[1m6572/6572\u001b[0m \u001b[32m━━━━━━━━━━━━━━━━━━━━\u001b[0m\u001b[37m\u001b[0m \u001b[1m27s\u001b[0m 4ms/step\n",
            "\n",
            "Model Performance Metrics:\n",
            "Accuracy: 0.9639292185\n",
            "Precision: 0.9656607202\n",
            "Recall: 0.9639292185\n",
            "F1-Score: 0.9638803844\n",
            "\n",
            "Confusion Matrix:\n",
            "[[47937  3170  1463     0]\n",
            " [  516 51989    19    46]\n",
            " [   69    48 52450     3]\n",
            " [    0  1261   990 50320]]\n"
          ]
        },
        {
          "output_type": "stream",
          "name": "stderr",
          "text": [
            "/usr/local/lib/python3.11/dist-packages/keras/src/layers/core/input_layer.py:27: UserWarning: Argument `input_shape` is deprecated. Use `shape` instead.\n",
            "  warnings.warn(\n"
          ]
        },
        {
          "output_type": "stream",
          "name": "stdout",
          "text": [
            "\n",
            "Communication Overhead: 0.7721 MB\n",
            "\n",
            "Round 29: Global Model Accuracy = 0.9677764773\n",
            "\u001b[1m6572/6572\u001b[0m \u001b[32m━━━━━━━━━━━━━━━━━━━━\u001b[0m\u001b[37m\u001b[0m \u001b[1m26s\u001b[0m 4ms/step\n",
            "\n",
            "Model Performance Metrics:\n",
            "Accuracy: 0.9677764515\n",
            "Precision: 0.9692484097\n",
            "Recall: 0.9677764515\n",
            "F1-Score: 0.9677563115\n",
            "\n",
            "Confusion Matrix:\n",
            "[[48353  3066  1151     0]\n",
            " [  437 52070    18    45]\n",
            " [   76    56 52436     2]\n",
            " [    0  1142   783 50646]]\n"
          ]
        },
        {
          "output_type": "stream",
          "name": "stderr",
          "text": [
            "/usr/local/lib/python3.11/dist-packages/keras/src/layers/core/input_layer.py:27: UserWarning: Argument `input_shape` is deprecated. Use `shape` instead.\n",
            "  warnings.warn(\n"
          ]
        },
        {
          "output_type": "stream",
          "name": "stdout",
          "text": [
            "\n",
            "Communication Overhead: 0.7721 MB\n",
            "\n",
            "Round 30: Global Model Accuracy = 0.9687466025\n",
            "\u001b[1m6572/6572\u001b[0m \u001b[32m━━━━━━━━━━━━━━━━━━━━\u001b[0m\u001b[37m\u001b[0m \u001b[1m26s\u001b[0m 4ms/step\n",
            "\n",
            "Model Performance Metrics:\n",
            "Accuracy: 0.9687465820\n",
            "Precision: 0.9698099711\n",
            "Recall: 0.9687465820\n",
            "F1-Score: 0.9687200617\n",
            "\n",
            "Confusion Matrix:\n",
            "[[48759  2490  1321     0]\n",
            " [  633 51875    19    43]\n",
            " [  111    45 52412     2]\n",
            " [    0  1112   796 50663]]\n",
            "\n",
            "Latency Analysis:\n",
            "Average Latency per Round: 251.27385411 seconds\n",
            "Total Latency for 10 Rounds: 7538.21562338 seconds\n"
          ]
        }
      ]
    },
    {
      "cell_type": "code",
      "source": [
        "!pip install tensorflow"
      ],
      "metadata": {
        "colab": {
          "base_uri": "https://localhost:8080/"
        },
        "id": "Hj_1i1e4dZSN",
        "outputId": "37a1b8c5-6450-4764-8490-a7c0edd61a0a"
      },
      "execution_count": null,
      "outputs": [
        {
          "output_type": "stream",
          "name": "stdout",
          "text": [
            "Requirement already satisfied: tensorflow in /usr/local/lib/python3.11/dist-packages (2.18.0)\n",
            "Requirement already satisfied: absl-py>=1.0.0 in /usr/local/lib/python3.11/dist-packages (from tensorflow) (1.4.0)\n",
            "Requirement already satisfied: astunparse>=1.6.0 in /usr/local/lib/python3.11/dist-packages (from tensorflow) (1.6.3)\n",
            "Requirement already satisfied: flatbuffers>=24.3.25 in /usr/local/lib/python3.11/dist-packages (from tensorflow) (25.2.10)\n",
            "Requirement already satisfied: gast!=0.5.0,!=0.5.1,!=0.5.2,>=0.2.1 in /usr/local/lib/python3.11/dist-packages (from tensorflow) (0.6.0)\n",
            "Requirement already satisfied: google-pasta>=0.1.1 in /usr/local/lib/python3.11/dist-packages (from tensorflow) (0.2.0)\n",
            "Requirement already satisfied: libclang>=13.0.0 in /usr/local/lib/python3.11/dist-packages (from tensorflow) (18.1.1)\n",
            "Requirement already satisfied: opt-einsum>=2.3.2 in /usr/local/lib/python3.11/dist-packages (from tensorflow) (3.4.0)\n",
            "Requirement already satisfied: packaging in /usr/local/lib/python3.11/dist-packages (from tensorflow) (24.2)\n",
            "Requirement already satisfied: protobuf!=4.21.0,!=4.21.1,!=4.21.2,!=4.21.3,!=4.21.4,!=4.21.5,<6.0.0dev,>=3.20.3 in /usr/local/lib/python3.11/dist-packages (from tensorflow) (5.29.4)\n",
            "Requirement already satisfied: requests<3,>=2.21.0 in /usr/local/lib/python3.11/dist-packages (from tensorflow) (2.32.3)\n",
            "Requirement already satisfied: setuptools in /usr/local/lib/python3.11/dist-packages (from tensorflow) (75.2.0)\n",
            "Requirement already satisfied: six>=1.12.0 in /usr/local/lib/python3.11/dist-packages (from tensorflow) (1.17.0)\n",
            "Requirement already satisfied: termcolor>=1.1.0 in /usr/local/lib/python3.11/dist-packages (from tensorflow) (3.0.1)\n",
            "Requirement already satisfied: typing-extensions>=3.6.6 in /usr/local/lib/python3.11/dist-packages (from tensorflow) (4.13.2)\n",
            "Requirement already satisfied: wrapt>=1.11.0 in /usr/local/lib/python3.11/dist-packages (from tensorflow) (1.17.2)\n",
            "Requirement already satisfied: grpcio<2.0,>=1.24.3 in /usr/local/lib/python3.11/dist-packages (from tensorflow) (1.71.0)\n",
            "Requirement already satisfied: tensorboard<2.19,>=2.18 in /usr/local/lib/python3.11/dist-packages (from tensorflow) (2.18.0)\n",
            "Requirement already satisfied: keras>=3.5.0 in /usr/local/lib/python3.11/dist-packages (from tensorflow) (3.8.0)\n",
            "Requirement already satisfied: numpy<2.1.0,>=1.26.0 in /usr/local/lib/python3.11/dist-packages (from tensorflow) (2.0.2)\n",
            "Requirement already satisfied: h5py>=3.11.0 in /usr/local/lib/python3.11/dist-packages (from tensorflow) (3.13.0)\n",
            "Requirement already satisfied: ml-dtypes<0.5.0,>=0.4.0 in /usr/local/lib/python3.11/dist-packages (from tensorflow) (0.4.1)\n",
            "Requirement already satisfied: tensorflow-io-gcs-filesystem>=0.23.1 in /usr/local/lib/python3.11/dist-packages (from tensorflow) (0.37.1)\n",
            "Requirement already satisfied: wheel<1.0,>=0.23.0 in /usr/local/lib/python3.11/dist-packages (from astunparse>=1.6.0->tensorflow) (0.45.1)\n",
            "Requirement already satisfied: rich in /usr/local/lib/python3.11/dist-packages (from keras>=3.5.0->tensorflow) (13.9.4)\n",
            "Requirement already satisfied: namex in /usr/local/lib/python3.11/dist-packages (from keras>=3.5.0->tensorflow) (0.0.9)\n",
            "Requirement already satisfied: optree in /usr/local/lib/python3.11/dist-packages (from keras>=3.5.0->tensorflow) (0.15.0)\n",
            "Requirement already satisfied: charset-normalizer<4,>=2 in /usr/local/lib/python3.11/dist-packages (from requests<3,>=2.21.0->tensorflow) (3.4.1)\n",
            "Requirement already satisfied: idna<4,>=2.5 in /usr/local/lib/python3.11/dist-packages (from requests<3,>=2.21.0->tensorflow) (3.10)\n",
            "Requirement already satisfied: urllib3<3,>=1.21.1 in /usr/local/lib/python3.11/dist-packages (from requests<3,>=2.21.0->tensorflow) (2.4.0)\n",
            "Requirement already satisfied: certifi>=2017.4.17 in /usr/local/lib/python3.11/dist-packages (from requests<3,>=2.21.0->tensorflow) (2025.4.26)\n",
            "Requirement already satisfied: markdown>=2.6.8 in /usr/local/lib/python3.11/dist-packages (from tensorboard<2.19,>=2.18->tensorflow) (3.8)\n",
            "Requirement already satisfied: tensorboard-data-server<0.8.0,>=0.7.0 in /usr/local/lib/python3.11/dist-packages (from tensorboard<2.19,>=2.18->tensorflow) (0.7.2)\n",
            "Requirement already satisfied: werkzeug>=1.0.1 in /usr/local/lib/python3.11/dist-packages (from tensorboard<2.19,>=2.18->tensorflow) (3.1.3)\n",
            "Requirement already satisfied: MarkupSafe>=2.1.1 in /usr/local/lib/python3.11/dist-packages (from werkzeug>=1.0.1->tensorboard<2.19,>=2.18->tensorflow) (3.0.2)\n",
            "Requirement already satisfied: markdown-it-py>=2.2.0 in /usr/local/lib/python3.11/dist-packages (from rich->keras>=3.5.0->tensorflow) (3.0.0)\n",
            "Requirement already satisfied: pygments<3.0.0,>=2.13.0 in /usr/local/lib/python3.11/dist-packages (from rich->keras>=3.5.0->tensorflow) (2.19.1)\n",
            "Requirement already satisfied: mdurl~=0.1 in /usr/local/lib/python3.11/dist-packages (from markdown-it-py>=2.2.0->rich->keras>=3.5.0->tensorflow) (0.1.2)\n"
          ]
        }
      ]
    },
    {
      "cell_type": "code",
      "source": [
        "acc_history, trust_history, latency_history = trustfed_ids_simulation( # Include latency_history in assignment\n",
        "    X_train, y_train, X_test, y_test,\n",
        "    input_shape=(X_train.shape[1], X_train.shape[2]),\n",
        "    num_classes=y_train.shape[1],\n",
        "    num_clients=5,\n",
        "    rounds=30,\n",
        "    poison_ratio=0.2,\n",
        "    trust_threshold=0.6\n",
        ")"
      ],
      "metadata": {
        "colab": {
          "base_uri": "https://localhost:8080/",
          "height": 1000
        },
        "id": "ihG6z0uFk_9X",
        "outputId": "bfc8a93b-300a-4de1-ba87-899f15b5ca8f"
      },
      "execution_count": null,
      "outputs": [
        {
          "output_type": "stream",
          "name": "stderr",
          "text": [
            "/usr/local/lib/python3.11/dist-packages/keras/src/layers/core/input_layer.py:27: UserWarning: Argument `input_shape` is deprecated. Use `shape` instead.\n",
            "  warnings.warn(\n"
          ]
        },
        {
          "output_type": "stream",
          "name": "stdout",
          "text": [
            "\n",
            "===== Round 1 =====\n",
            "Poisoned clients this round: [0]\n",
            "Global Accuracy = 0.24999881 | Avg Trust: 0.55689006\n",
            "\n",
            "===== Round 2 =====\n",
            "Poisoned clients this round: [2]\n",
            "Global Accuracy = 0.24999881 | Avg Trust: 0.53238096\n",
            "\n",
            "===== Round 3 =====\n",
            "Poisoned clients this round: [2]\n",
            "Global Accuracy = 0.24999881 | Avg Trust: 0.53105130\n",
            "\n",
            "===== Round 4 =====\n",
            "Poisoned clients this round: [1]\n",
            "Global Accuracy = 0.25000358 | Avg Trust: 0.53366209\n",
            "\n",
            "===== Round 5 =====\n",
            "Poisoned clients this round: [2]\n",
            "Global Accuracy = 0.24999881 | Avg Trust: 0.54349277\n",
            "\n",
            "===== Round 6 =====\n",
            "Poisoned clients this round: [4]\n",
            "Global Accuracy = 0.25000358 | Avg Trust: 0.52554533\n",
            "\n",
            "===== Round 7 =====\n",
            "Poisoned clients this round: [4]\n",
            "Global Accuracy = 0.25000358 | Avg Trust: 0.52338730\n",
            "\n",
            "===== Round 8 =====\n",
            "Poisoned clients this round: [1]\n",
            "Global Accuracy = 0.25000358 | Avg Trust: 0.53513252\n",
            "\n",
            "===== Round 9 =====\n",
            "Poisoned clients this round: [0]\n",
            "Global Accuracy = 0.25000358 | Avg Trust: 0.53293833\n",
            "\n",
            "===== Round 10 =====\n",
            "Poisoned clients this round: [2]\n",
            "Global Accuracy = 0.24999881 | Avg Trust: 0.53293830\n",
            "\n",
            "===== Round 11 =====\n",
            "Poisoned clients this round: [1]\n",
            "Global Accuracy = 0.24999881 | Avg Trust: 0.53046066\n",
            "\n",
            "===== Round 12 =====\n",
            "Poisoned clients this round: [2]\n",
            "Global Accuracy = 0.24999881 | Avg Trust: 0.53510208\n",
            "\n",
            "===== Round 13 =====\n",
            "Poisoned clients this round: [2]\n",
            "Global Accuracy = 0.25000358 | Avg Trust: 0.52642511\n",
            "\n",
            "===== Round 14 =====\n",
            "Poisoned clients this round: [2]\n",
            "Global Accuracy = 0.24999881 | Avg Trust: 0.52802584\n",
            "\n",
            "===== Round 15 =====\n",
            "Poisoned clients this round: [3]\n",
            "Global Accuracy = 0.24999881 | Avg Trust: 0.53197864\n",
            "\n",
            "===== Round 16 =====\n",
            "Poisoned clients this round: [2]\n",
            "Global Accuracy = 0.24999881 | Avg Trust: 0.51858895\n",
            "\n",
            "===== Round 17 =====\n",
            "Poisoned clients this round: [0]\n",
            "Global Accuracy = 0.24999881 | Avg Trust: 0.53506688\n",
            "\n",
            "===== Round 18 =====\n",
            "Poisoned clients this round: [1]\n",
            "Global Accuracy = 0.24999881 | Avg Trust: 0.53270528\n",
            "\n",
            "===== Round 19 =====\n",
            "Poisoned clients this round: [0]\n",
            "Global Accuracy = 0.24999881 | Avg Trust: 0.53966074\n",
            "\n",
            "===== Round 20 =====\n",
            "Poisoned clients this round: [3]\n",
            "Global Accuracy = 0.25000358 | Avg Trust: 0.52586967\n",
            "\n",
            "===== Round 21 =====\n",
            "Poisoned clients this round: [1]\n",
            "Global Accuracy = 0.24999881 | Avg Trust: 0.52977494\n",
            "\n",
            "===== Round 22 =====\n",
            "Poisoned clients this round: [3]\n",
            "Global Accuracy = 0.24999881 | Avg Trust: 0.52984340\n",
            "\n",
            "===== Round 23 =====\n",
            "Poisoned clients this round: [3]\n",
            "Global Accuracy = 0.24999881 | Avg Trust: 0.52344053\n",
            "\n",
            "===== Round 24 =====\n",
            "Poisoned clients this round: [0]\n",
            "Global Accuracy = 0.24999881 | Avg Trust: 0.52509071\n",
            "\n",
            "===== Round 25 =====\n",
            "Poisoned clients this round: [0]\n",
            "Global Accuracy = 0.24999881 | Avg Trust: 0.52996894\n",
            "\n",
            "===== Round 26 =====\n",
            "Poisoned clients this round: [0]\n",
            "Global Accuracy = 0.24999881 | Avg Trust: 0.52576408\n",
            "\n",
            "===== Round 27 =====\n",
            "Poisoned clients this round: [2]\n",
            "Global Accuracy = 0.24999881 | Avg Trust: 0.53785554\n",
            "\n",
            "===== Round 28 =====\n",
            "Poisoned clients this round: [2]\n",
            "Global Accuracy = 0.24999881 | Avg Trust: 0.53703568\n",
            "\n",
            "===== Round 29 =====\n",
            "Poisoned clients this round: [4]\n",
            "Global Accuracy = 0.24999881 | Avg Trust: 0.52672092\n",
            "\n",
            "===== Round 30 =====\n",
            "Poisoned clients this round: [1]\n",
            "Global Accuracy = 0.24999881 | Avg Trust: 0.52292694\n"
          ]
        },
        {
          "output_type": "display_data",
          "data": {
            "text/plain": [
              "<Figure size 800x500 with 1 Axes>"
            ],
            "image/png": "[encoded data removed]"
          },
          "metadata": {}
        }
      ]
    },
    {
      "cell_type": "code",
      "source": [
        "import matplotlib.pyplot as plt\n",
        "plt.plot(acc_history, label='TrustFed-IDS Accuracy')\n",
        "plt.xlabel('Round')\n",
        "plt.ylabel('Accuracy')\n",
        "plt.title('Global Model Accuracy over Rounds')\n",
        "plt.grid(True)\n",
        "plt.legend()\n",
        "plt.show()"
      ],
      "metadata": {
        "colab": {
          "base_uri": "https://localhost:8080/",
          "height": 487
        },
        "id": "9WwLv9J5paCy",
        "outputId": "bd16718c-a62f-43bc-a6e4-c0bbc07a6622"
      },
      "execution_count": null,
      "outputs": [
        {
          "output_type": "display_data",
          "data": {
            "text/plain": [
              "<Figure size 640x480 with 1 Axes>"
            ],
            "image/png": "[encoded data removed]"
          },
          "metadata": {}
        }
      ]
    }
  ]
}