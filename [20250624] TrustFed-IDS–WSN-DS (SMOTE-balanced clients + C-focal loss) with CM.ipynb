{
  "nbformat": 4,
  "nbformat_minor": 0,
  "metadata": {
    "colab": {
      "provenance": [],
      "machine_shape": "hm",
      "gpuType": "L4",
      "authorship_tag": "ABX9TyPvA9DVnDH5yvzYjWwk4thS",
      "include_colab_link": true
    },
    "kernelspec": {
      "name": "python3",
      "display_name": "Python 3"
    },
    "language_info": {
      "name": "python"
    },
    "accelerator": "GPU"
  },
  "cells": [
    {
      "cell_type": "markdown",
      "metadata": {
        "id": "view-in-github",
        "colab_type": "text"
      },
      "source": [
        "<a href=\"https://colab.research.google.com/github/sankeawthong/Project-1-Lita-Chatbot/blob/main/%5B20250624%5D%20TrustFed-IDS%E2%80%93WSN-DS%20(SMOTE-balanced%20clients%20%2B%20C-focal%20loss)%20with%20CM.ipynb\" target=\"_parent\"><img src=\"https://colab.research.google.com/assets/colab-badge.svg\" alt=\"Open In Colab\"/></a>"
      ]
    },
    {
      "cell_type": "markdown",
      "source": [
        "**TrustFed-IDS  –  WSN-DS   (SMOTE-balanced clients + C-focal loss) with CM**"
      ],
      "metadata": {
        "id": "L0WMslMcZ1aA"
      }
    },
    {
      "cell_type": "code",
      "source": [
        "#!/usr/bin/env python3\n",
        "# --------------------------------------------------------------------\n",
        "#    TrustFed-IDS  –  WSN-DS   (SMOTE-balanced clients + C-focal loss)\n",
        "# --------------------------------------------------------------------\n",
        "import os, time, psutil, warnings, numpy as np, pandas as pd, tensorflow as tf\n",
        "from tensorflow.keras import Sequential\n",
        "from tensorflow.keras.layers import InputLayer, LSTM, Dense, Dropout\n",
        "from tensorflow.keras.regularizers import l2\n",
        "from tensorflow.keras.utils import to_categorical\n",
        "from tensorflow.keras.optimizers.schedules import CosineDecay\n",
        "from sklearn.preprocessing import LabelEncoder, StandardScaler\n",
        "from sklearn.model_selection import train_test_split\n",
        "from sklearn.utils.class_weight import compute_class_weight\n",
        "from sklearn.metrics import (accuracy_score, precision_score,\n",
        "                             recall_score, f1_score, confusion_matrix)\n",
        "from imblearn.over_sampling import SMOTE\n",
        "from scipy.spatial.distance import cosine\n",
        "import seaborn as sns, matplotlib.pyplot as plt\n",
        "\n",
        "warnings.filterwarnings(\"ignore\", category=UserWarning)"
      ],
      "metadata": {
        "id": "ZgA0C7hldHbs"
      },
      "execution_count": 1,
      "outputs": []
    },
    {
      "cell_type": "code",
      "source": [
        "# ------------------------------- CONFIG ---------------------------------\n",
        "SEED               = 42\n",
        "NUM_CLIENTS        = 5\n",
        "ROUNDS             = 30         # cut-down run (≈15-20 min on Colab T4)\n",
        "LOCAL_EPOCHS       = 1\n",
        "BATCH_SIZE         = 32\n",
        "DIRICHLET_ALPHA    = 0.5\n",
        "HISTORY_KEEP       = 6\n",
        "TRUST_ALPHA        = (0.30, 0.55, 0.15)   # similarity, loss, stability\n",
        "TRUST_CLIP         = (0.05, 0.60)\n",
        "DATA_PATH          = \"dataset_WSN-DS.csv\" # <- use your cleaned CSV here\n",
        "LOG_DIR            = \"/mnt/data\"\n",
        "os.makedirs(LOG_DIR, exist_ok=True)\n",
        "\n",
        "np.random.seed(SEED); tf.random.set_seed(SEED)"
      ],
      "metadata": {
        "id": "dN7Ngk9wdSgO"
      },
      "execution_count": 2,
      "outputs": []
    },
    {
      "cell_type": "code",
      "source": [
        "# ---------------- 1. GLOBAL LOAD + STANDARDISE --------------------------\n",
        "df = pd.read_csv(DATA_PATH).dropna()\n",
        "for col in df.select_dtypes(include=\"object\"):\n",
        "    df[col] = LabelEncoder().fit_transform(df[col])\n",
        "\n",
        "X = df.drop(\"Class\", axis=1).astype(\"float32\").values\n",
        "y = df[\"Class\"].astype(\"int64\").values\n",
        "\n",
        "X_tr, X_te, y_tr, y_te = train_test_split(\n",
        "    X, y, test_size=0.20, stratify=y, random_state=SEED)\n",
        "\n",
        "scaler = StandardScaler().fit(X_tr)\n",
        "X_tr, X_te = scaler.transform(X_tr), scaler.transform(X_te)\n",
        "\n",
        "n_classes = int(y_tr.max() + 1)\n",
        "INPUT_SHAPE = (X_tr.shape[1], 1)\n",
        "\n",
        "# ---------------- 2. NON-IID PARTITION  ---------------------------------\n",
        "def dirichlet_split(X, y, k, alpha, rng):\n",
        "    idx_by_cls = {c: rng.permutation(np.where(y == c)[0]) for c in np.unique(y)}\n",
        "    client_idx = [[] for _ in range(k)]\n",
        "    for c, idx in idx_by_cls.items():\n",
        "        parts = (rng.dirichlet([alpha] * k) * len(idx)).astype(int)\n",
        "        while parts.sum() < len(idx): parts[rng.randint(0, k)] += 1\n",
        "        start = 0\n",
        "        for cid, cnt in enumerate(parts):\n",
        "            client_idx[cid].extend(idx[start:start + cnt]); start += cnt\n",
        "    for lst in client_idx: rng.shuffle(lst)\n",
        "    return [X[l] for l in client_idx], [y[l] for l in client_idx]\n",
        "\n",
        "rng = np.random.RandomState(SEED)\n",
        "c_X_raw, c_y_raw = dirichlet_split(X_tr, y_tr, NUM_CLIENTS,\n",
        "                                   DIRICHLET_ALPHA, rng)\n",
        "\n",
        "# ------------- 2a. ★ SMOTE PER-CLIENT BALANCING ★ -----------------------\n",
        "client_X, client_y = [], []\n",
        "for cid, (Xi, yi) in enumerate(zip(c_X_raw, c_y_raw)):\n",
        "    try:\n",
        "        Xi, yi = SMOTE(random_state=SEED).fit_resample(Xi, yi)\n",
        "        print(f\"[CID {cid}] SMOTE → {len(Xi):,} samples.\")\n",
        "    except ValueError as e:                      # too few minority points\n",
        "        print(f\"[CID {cid}] SMOTE skipped ({e}); using raw data.\")\n",
        "    client_X.append(Xi[..., None])               # add channel dim\n",
        "    client_y.append(to_categorical(yi, n_classes))\n",
        "\n",
        "X_te = X_te[..., None]\n",
        "y_te_cat = to_categorical(y_te, n_classes)"
      ],
      "metadata": {
        "colab": {
          "base_uri": "https://localhost:8080/"
        },
        "id": "ZxedGE5KdaeA",
        "outputId": "b6ae53e9-ac26-45af-f633-4a883c99987d"
      },
      "execution_count": 3,
      "outputs": [
        {
          "output_type": "stream",
          "name": "stdout",
          "text": [
            "[CID 0] SMOTE → 610,890 samples.\n",
            "[CID 1] SMOTE → 649,255 samples.\n",
            "[CID 2] SMOTE → 17,390 samples.\n",
            "[CID 3] SMOTE → 22,745 samples.\n",
            "[CID 4] SMOTE → 88,390 samples.\n"
          ]
        }
      ]
    },
    {
      "cell_type": "code",
      "execution_count": 4,
      "metadata": {
        "colab": {
          "base_uri": "https://localhost:8080/"
        },
        "id": "KxECo3UKc8yV",
        "outputId": "da46041c-e24a-42e5-b1b1-0228ade13d3d"
      },
      "outputs": [
        {
          "output_type": "stream",
          "name": "stdout",
          "text": [
            "R01 acc=0.79872686  F1=0.84474316  MB=3.17\n",
            "R02 acc=0.12886178  F1=0.20032670  MB=3.17\n",
            "R03 acc=0.57403280  F1=0.69480723  MB=3.17\n",
            "R04 acc=0.92702815  F1=0.93533948  MB=3.17\n",
            "R05 acc=0.93047122  F1=0.94281031  MB=3.17\n",
            "R06 acc=0.94433694  F1=0.95256536  MB=3.17\n",
            "R07 acc=0.94281558  F1=0.95282136  MB=3.17\n",
            "R08 acc=0.94685919  F1=0.95546259  MB=3.17\n",
            "R09 acc=0.94632538  F1=0.95569490  MB=3.17\n",
            "R10 acc=0.95165014  F1=0.95931962  MB=3.17\n",
            "R11 acc=0.94540456  F1=0.95553900  MB=3.17\n",
            "R12 acc=0.94138764  F1=0.95318490  MB=3.17\n",
            "R13 acc=0.94445705  F1=0.95222200  MB=3.17\n",
            "R14 acc=0.93527551  F1=0.94791739  MB=3.17\n",
            "R15 acc=0.95215726  F1=0.96119074  MB=3.17\n",
            "R16 acc=0.92933687  F1=0.94452918  MB=3.17\n",
            "R17 acc=0.94834052  F1=0.95679090  MB=3.17\n",
            "R18 acc=0.92227723  F1=0.93858911  MB=3.17\n",
            "R19 acc=0.94644549  F1=0.95393535  MB=3.17\n",
            "R20 acc=0.94300242  F1=0.95018271  MB=3.17\n",
            "R21 acc=0.95022220  F1=0.95664528  MB=3.17\n",
            "R22 acc=0.96287350  F1=0.96781303  MB=3.17\n",
            "R23 acc=0.96482191  F1=0.96986135  MB=3.17\n",
            "R24 acc=0.96467511  F1=0.96986154  MB=3.17\n",
            "R25 acc=0.96851854  F1=0.97279227  MB=3.17\n",
            "R26 acc=0.96312706  F1=0.96780445  MB=3.17\n",
            "R27 acc=0.96494201  F1=0.96834700  MB=3.17\n",
            "R28 acc=0.97293582  F1=0.97592848  MB=3.17\n",
            "R29 acc=0.96770448  F1=0.97174342  MB=3.17\n",
            "R30 acc=0.96962620  F1=0.97358411  MB=3.17\n"
          ]
        }
      ],
      "source": [
        "# ---------------- 3. MODEL BUILDER --------------------------------------\n",
        "def build_model(inp_shape=INPUT_SHAPE, classes=n_classes):\n",
        "    m = Sequential([\n",
        "        InputLayer(shape=inp_shape),\n",
        "        LSTM(128, return_sequences=True, activation='tanh',\n",
        "             kernel_regularizer=l2(5e-4)),\n",
        "        LSTM(64, activation='tanh', kernel_regularizer=l2(5e-4)),\n",
        "        Dense(256, activation='relu'), Dropout(0.20),\n",
        "        Dense(128, activation='relu'), Dropout(0.25),\n",
        "        Dense(classes, activation='softmax')\n",
        "    ])\n",
        "    lr = CosineDecay(5e-4, decay_steps=ROUNDS, alpha=0.4)\n",
        "    m.compile(tf.keras.optimizers.Nadam(lr, clipnorm=2.0),\n",
        "              loss='categorical_crossentropy', metrics=['accuracy'])\n",
        "    return m\n",
        "\n",
        "# ---------------- 4. TRUST HELPERS --------------------------------------\n",
        "def weight_delta(local, global_):\n",
        "    return [l - g for l, g in zip(local, global_)]\n",
        "\n",
        "def vec_cos(a, b):\n",
        "    f1 = np.concatenate([w.ravel() for w in a])\n",
        "    f2 = np.concatenate([w.ravel() for w in b])\n",
        "    if np.all(f1 == 0) or np.all(f2 == 0): return 0.0\n",
        "    return 1 - cosine(f1, f2)\n",
        "\n",
        "def stability(u, hist):\n",
        "    if len(hist) < 2: return 1.0\n",
        "    return float(np.mean([vec_cos(u, h) for h in hist[-HISTORY_KEEP:]]))\n",
        "\n",
        "def compute_trust(upd, vloss, hist):\n",
        "    lo, hi = min(vloss.values()), max(vloss.values())\n",
        "    raw = {cid: (TRUST_ALPHA[0] * vec_cos(u, [np.zeros_like(w) for w in u]) +\n",
        "                 TRUST_ALPHA[1] * (1 - (vloss[cid] - lo) / (hi - lo + 1e-8)) +\n",
        "                 TRUST_ALPHA[2] * stability(u, hist[cid]))\n",
        "           for cid, u in upd.items()}\n",
        "    clipped = {cid: np.clip(s, *TRUST_CLIP) for cid, s in raw.items()}\n",
        "    Z = sum(clipped.values())\n",
        "    return {cid: s / Z for cid, s in clipped.items()}\n",
        "\n",
        "def aggregate(ws, trust, ns):\n",
        "    tot = sum(trust[c] * ns[c] for c in ws)\n",
        "    return [sum(trust[c] * ns[c] * ws[c][l] for c in ws) / tot\n",
        "            for l in range(len(next(iter(ws.values()))))]\n",
        "\n",
        "# ---------------- 5. INITIALISE -----------------------------------------\n",
        "g_model   = build_model()\n",
        "g_weights = g_model.get_weights()\n",
        "histories = {c: [] for c in range(NUM_CLIENTS)}\n",
        "perf_log, comm_log, trust_log = [], [], []\n",
        "\n",
        "# ---------------- 6. FEDERATED LOOP -------------------------------------\n",
        "for rnd in range(1, ROUNDS + 1):\n",
        "    t0 = time.time()\n",
        "    lw, upd, vloss, ns, bytes_out = {}, {}, {}, {}, 0\n",
        "\n",
        "    for cid in range(NUM_CLIENTS):\n",
        "        n_val = max(1, int(0.15 * len(client_X[cid])))\n",
        "        Xv, yv = client_X[cid][:n_val], client_y[cid][:n_val]\n",
        "        Xt, yt = client_X[cid][n_val:], client_y[cid][n_val:]\n",
        "\n",
        "        local = build_model(); local.set_weights(g_weights)\n",
        "        local.fit(Xt, yt, epochs=LOCAL_EPOCHS,\n",
        "                  batch_size=BATCH_SIZE, verbose=0)\n",
        "\n",
        "        w = local.get_weights()\n",
        "        upd[cid]   = weight_delta(w, g_weights)\n",
        "        vloss[cid] = local.evaluate(Xv, yv, verbose=0)[0]\n",
        "        lw[cid]    = w\n",
        "        ns[cid]    = len(Xt)\n",
        "        histories[cid] = (histories[cid] + [upd[cid]])[-HISTORY_KEEP:]\n",
        "        bytes_out += sum(x.nbytes for x in w)\n",
        "\n",
        "    trust = compute_trust(upd, vloss, histories)\n",
        "    g_weights = aggregate(lw, trust, ns)\n",
        "    g_model.set_weights(g_weights)\n",
        "\n",
        "    y_pred = np.argmax(g_model.predict(X_te, verbose=0), 1)\n",
        "    perf_log.append(dict(round=rnd,\n",
        "                         acc=accuracy_score(y_te, y_pred),\n",
        "                         f1=f1_score(y_te, y_pred, average='weighted')))\n",
        "    comm_log.append(dict(round=rnd, MB=bytes_out / 2**20))\n",
        "    trust_log.extend([dict(round=rnd, client=c, trust=trust[c]) for c in trust])\n",
        "\n",
        "    print(f\"R{rnd:02d} acc={perf_log[-1]['acc']:.8f}  \"\n",
        "          f\"F1={perf_log[-1]['f1']:.8f}  \"\n",
        "          f\"MB={bytes_out/2**20:.2f}\")"
      ]
    },
    {
      "cell_type": "code",
      "source": [
        "# ---------------- 7. CONFUSION MATRIX -----------------------------------\n",
        "print(\"\\n✓ Training done – creating confusion matrix …\")\n",
        "cm = confusion_matrix(y_te,\n",
        "                      np.argmax(g_model.predict(X_te, verbose=0), 1))\n",
        "cm_csv = os.path.join(LOG_DIR, \"cm_WSN-DS_TrustFed.csv\")\n",
        "np.savetxt(cm_csv, cm, fmt=\"%d\", delimiter=\",\")\n",
        "plt.figure(figsize=(4.5, 4))\n",
        "sns.heatmap(cm, annot=True, fmt='d', cmap='Blues', cbar=False,\n",
        "            xticklabels=[f\"C{i}\" for i in range(n_classes)],\n",
        "            yticklabels=[f\"C{i}\" for i in range(n_classes)],\n",
        "            linewidths=.5, linecolor='grey')\n",
        "plt.xlabel(\"Predicted\"); plt.ylabel(\"True\")\n",
        "plt.title(\"Confusion Matrix – TrustFed-IDS (WSN-DS)\")\n",
        "plt.tight_layout()\n",
        "cm_png = cm_csv.replace(\".csv\", \".png\")\n",
        "plt.savefig(cm_png, dpi=300); plt.close()\n",
        "print(\"• CSV  ⇒\", cm_csv)\n",
        "print(\"• PNG  ⇒\", cm_png)"
      ],
      "metadata": {
        "colab": {
          "base_uri": "https://localhost:8080/"
        },
        "id": "E9rwUGZ0dgWb",
        "outputId": "65825eb6-a398-4ce4-d1f5-79df73f0a882"
      },
      "execution_count": 5,
      "outputs": [
        {
          "output_type": "stream",
          "name": "stdout",
          "text": [
            "\n",
            "✓ Training done – creating confusion matrix …\n",
            "• CSV  ⇒ /mnt/data/cm_WSN-DS_TrustFed.csv\n",
            "• PNG  ⇒ /mnt/data/cm_WSN-DS_TrustFed.png\n"
          ]
        }
      ]
    },
    {
      "cell_type": "code",
      "source": [
        "# ---------------- 8. LOGS -----------------------------------------------\n",
        "pd.DataFrame(perf_log ).to_csv(f\"{LOG_DIR}/perf_log_WSN-DS_trust.csv\",   index=False)\n",
        "pd.DataFrame(comm_log ).to_csv(f\"{LOG_DIR}/comm_log_WSN-DS_trust.csv\",   index=False)\n",
        "pd.DataFrame(trust_log).to_csv(f\"{LOG_DIR}/trust_log_WSN-DS_trust.csv\",  index=False)\n",
        "\n",
        "profile = dict(Params_MB = round(sum(w.nbytes for w in g_weights)/2**20, 3),\n",
        "               Rounds    = ROUNDS,\n",
        "               Clients   = NUM_CLIENTS,\n",
        "               PeakMem_MB= round(psutil.Process(\n",
        "                                os.getpid()).memory_info().rss/2**20, 2))\n",
        "pd.DataFrame([profile]).to_csv(f\"{LOG_DIR}/model_profile_WSN-DS_trust.csv\",\n",
        "                               index=False)\n",
        "print(\"\\n✓ All artefacts saved to\", LOG_DIR)"
      ],
      "metadata": {
        "colab": {
          "base_uri": "https://localhost:8080/"
        },
        "id": "MCnvSPdddiI5",
        "outputId": "e47e9498-5097-4ebe-b1f9-141fef136a52"
      },
      "execution_count": 6,
      "outputs": [
        {
          "output_type": "stream",
          "name": "stdout",
          "text": [
            "\n",
            "✓ All artefacts saved to /mnt/data\n"
          ]
        }
      ]
    },
    {
      "cell_type": "code",
      "source": [
        "# prompt: Download log files aboved\n",
        "\n",
        "from google.colab import files\n",
        "files.download('/mnt/data/cm_WSN-DS_TrustFed.csv')"
      ],
      "metadata": {
        "colab": {
          "base_uri": "https://localhost:8080/",
          "height": 17
        },
        "id": "YRLP34Cxe1fT",
        "outputId": "55a38896-366d-4a1e-aef5-934c5d400543"
      },
      "execution_count": 7,
      "outputs": [
        {
          "output_type": "display_data",
          "data": {
            "text/plain": [
              "<IPython.core.display.Javascript object>"
            ],
            "application/javascript": [
              "\n",
              "    async function download(id, filename, size) {\n",
              "      if (!google.colab.kernel.accessAllowed) {\n",
              "        return;\n",
              "      }\n",
              "      const div = document.createElement('div');\n",
              "      const label = document.createElement('label');\n",
              "      label.textContent = `Downloading \"${filename}\": `;\n",
              "      div.appendChild(label);\n",
              "      const progress = document.createElement('progress');\n",
              "      progress.max = size;\n",
              "      div.appendChild(progress);\n",
              "      document.body.appendChild(div);\n",
              "\n",
              "      const buffers = [];\n",
              "      let downloaded = 0;\n",
              "\n",
              "      const channel = await google.colab.kernel.comms.open(id);\n",
              "      // Send a message to notify the kernel that we're ready.\n",
              "      channel.send({})\n",
              "\n",
              "      for await (const message of channel.messages) {\n",
              "        // Send a message to notify the kernel that we're ready.\n",
              "        channel.send({})\n",
              "        if (message.buffers) {\n",
              "          for (const buffer of message.buffers) {\n",
              "            buffers.push(buffer);\n",
              "            downloaded += buffer.byteLength;\n",
              "            progress.value = downloaded;\n",
              "          }\n",
              "        }\n",
              "      }\n",
              "      const blob = new Blob(buffers, {type: 'application/binary'});\n",
              "      const a = document.createElement('a');\n",
              "      a.href = window.URL.createObjectURL(blob);\n",
              "      a.download = filename;\n",
              "      div.appendChild(a);\n",
              "      a.click();\n",
              "      div.remove();\n",
              "    }\n",
              "  "
            ]
          },
          "metadata": {}
        },
        {
          "output_type": "display_data",
          "data": {
            "text/plain": [
              "<IPython.core.display.Javascript object>"
            ],
            "application/javascript": [
              "download(\"download_9b8d8acd-ce75-457f-bd57-af60acbc79a6\", \"cm_WSN-DS_TrustFed.csv\", 74)"
            ]
          },
          "metadata": {}
        }
      ]
    },
    {
      "cell_type": "code",
      "source": [
        "files.download('/mnt/data/cm_WSN-DS_TrustFed.png')"
      ],
      "metadata": {
        "colab": {
          "base_uri": "https://localhost:8080/",
          "height": 17
        },
        "id": "JI7xBRPr4DBO",
        "outputId": "91ff4c3c-9dc7-482f-a7ca-c0245b9e00f0"
      },
      "execution_count": 8,
      "outputs": [
        {
          "output_type": "display_data",
          "data": {
            "text/plain": [
              "<IPython.core.display.Javascript object>"
            ],
            "application/javascript": [
              "\n",
              "    async function download(id, filename, size) {\n",
              "      if (!google.colab.kernel.accessAllowed) {\n",
              "        return;\n",
              "      }\n",
              "      const div = document.createElement('div');\n",
              "      const label = document.createElement('label');\n",
              "      label.textContent = `Downloading \"${filename}\": `;\n",
              "      div.appendChild(label);\n",
              "      const progress = document.createElement('progress');\n",
              "      progress.max = size;\n",
              "      div.appendChild(progress);\n",
              "      document.body.appendChild(div);\n",
              "\n",
              "      const buffers = [];\n",
              "      let downloaded = 0;\n",
              "\n",
              "      const channel = await google.colab.kernel.comms.open(id);\n",
              "      // Send a message to notify the kernel that we're ready.\n",
              "      channel.send({})\n",
              "\n",
              "      for await (const message of channel.messages) {\n",
              "        // Send a message to notify the kernel that we're ready.\n",
              "        channel.send({})\n",
              "        if (message.buffers) {\n",
              "          for (const buffer of message.buffers) {\n",
              "            buffers.push(buffer);\n",
              "            downloaded += buffer.byteLength;\n",
              "            progress.value = downloaded;\n",
              "          }\n",
              "        }\n",
              "      }\n",
              "      const blob = new Blob(buffers, {type: 'application/binary'});\n",
              "      const a = document.createElement('a');\n",
              "      a.href = window.URL.createObjectURL(blob);\n",
              "      a.download = filename;\n",
              "      div.appendChild(a);\n",
              "      a.click();\n",
              "      div.remove();\n",
              "    }\n",
              "  "
            ]
          },
          "metadata": {}
        },
        {
          "output_type": "display_data",
          "data": {
            "text/plain": [
              "<IPython.core.display.Javascript object>"
            ],
            "application/javascript": [
              "download(\"download_6e21a199-d6b3-46b3-abf5-231ee064808e\", \"cm_WSN-DS_TrustFed.png\", 85803)"
            ]
          },
          "metadata": {}
        }
      ]
    },
    {
      "cell_type": "code",
      "source": [
        "files.download('/mnt/data/perf_log_WSN-DS_trust.csv')"
      ],
      "metadata": {
        "colab": {
          "base_uri": "https://localhost:8080/",
          "height": 17
        },
        "id": "GaglyGsw4C-I",
        "outputId": "5b3a815c-9bb0-4f47-f081-bf00524c2c6f"
      },
      "execution_count": 9,
      "outputs": [
        {
          "output_type": "display_data",
          "data": {
            "text/plain": [
              "<IPython.core.display.Javascript object>"
            ],
            "application/javascript": [
              "\n",
              "    async function download(id, filename, size) {\n",
              "      if (!google.colab.kernel.accessAllowed) {\n",
              "        return;\n",
              "      }\n",
              "      const div = document.createElement('div');\n",
              "      const label = document.createElement('label');\n",
              "      label.textContent = `Downloading \"${filename}\": `;\n",
              "      div.appendChild(label);\n",
              "      const progress = document.createElement('progress');\n",
              "      progress.max = size;\n",
              "      div.appendChild(progress);\n",
              "      document.body.appendChild(div);\n",
              "\n",
              "      const buffers = [];\n",
              "      let downloaded = 0;\n",
              "\n",
              "      const channel = await google.colab.kernel.comms.open(id);\n",
              "      // Send a message to notify the kernel that we're ready.\n",
              "      channel.send({})\n",
              "\n",
              "      for await (const message of channel.messages) {\n",
              "        // Send a message to notify the kernel that we're ready.\n",
              "        channel.send({})\n",
              "        if (message.buffers) {\n",
              "          for (const buffer of message.buffers) {\n",
              "            buffers.push(buffer);\n",
              "            downloaded += buffer.byteLength;\n",
              "            progress.value = downloaded;\n",
              "          }\n",
              "        }\n",
              "      }\n",
              "      const blob = new Blob(buffers, {type: 'application/binary'});\n",
              "      const a = document.createElement('a');\n",
              "      a.href = window.URL.createObjectURL(blob);\n",
              "      a.download = filename;\n",
              "      div.appendChild(a);\n",
              "      a.click();\n",
              "      div.remove();\n",
              "    }\n",
              "  "
            ]
          },
          "metadata": {}
        },
        {
          "output_type": "display_data",
          "data": {
            "text/plain": [
              "<IPython.core.display.Javascript object>"
            ],
            "application/javascript": [
              "download(\"download_a92583ff-0781-4116-9669-7cfe2d435e91\", \"perf_log_WSN-DS_trust.csv\", 1228)"
            ]
          },
          "metadata": {}
        }
      ]
    },
    {
      "cell_type": "code",
      "source": [
        "files.download('/mnt/data/comm_log_WSN-DS_trust.csv')"
      ],
      "metadata": {
        "colab": {
          "base_uri": "https://localhost:8080/",
          "height": 17
        },
        "id": "BB_FQhao4C7i",
        "outputId": "6e7e9480-ea8a-42ea-c3a6-5ac0872dc4e7"
      },
      "execution_count": 10,
      "outputs": [
        {
          "output_type": "display_data",
          "data": {
            "text/plain": [
              "<IPython.core.display.Javascript object>"
            ],
            "application/javascript": [
              "\n",
              "    async function download(id, filename, size) {\n",
              "      if (!google.colab.kernel.accessAllowed) {\n",
              "        return;\n",
              "      }\n",
              "      const div = document.createElement('div');\n",
              "      const label = document.createElement('label');\n",
              "      label.textContent = `Downloading \"${filename}\": `;\n",
              "      div.appendChild(label);\n",
              "      const progress = document.createElement('progress');\n",
              "      progress.max = size;\n",
              "      div.appendChild(progress);\n",
              "      document.body.appendChild(div);\n",
              "\n",
              "      const buffers = [];\n",
              "      let downloaded = 0;\n",
              "\n",
              "      const channel = await google.colab.kernel.comms.open(id);\n",
              "      // Send a message to notify the kernel that we're ready.\n",
              "      channel.send({})\n",
              "\n",
              "      for await (const message of channel.messages) {\n",
              "        // Send a message to notify the kernel that we're ready.\n",
              "        channel.send({})\n",
              "        if (message.buffers) {\n",
              "          for (const buffer of message.buffers) {\n",
              "            buffers.push(buffer);\n",
              "            downloaded += buffer.byteLength;\n",
              "            progress.value = downloaded;\n",
              "          }\n",
              "        }\n",
              "      }\n",
              "      const blob = new Blob(buffers, {type: 'application/binary'});\n",
              "      const a = document.createElement('a');\n",
              "      a.href = window.URL.createObjectURL(blob);\n",
              "      a.download = filename;\n",
              "      div.appendChild(a);\n",
              "      a.click();\n",
              "      div.remove();\n",
              "    }\n",
              "  "
            ]
          },
          "metadata": {}
        },
        {
          "output_type": "display_data",
          "data": {
            "text/plain": [
              "<IPython.core.display.Javascript object>"
            ],
            "application/javascript": [
              "download(\"download_b825abbc-33eb-41b8-b499-26819a4cbef2\", \"comm_log_WSN-DS_trust.csv\", 660)"
            ]
          },
          "metadata": {}
        }
      ]
    },
    {
      "cell_type": "code",
      "source": [
        "files.download('/mnt/data/trust_log_WSN-DS_trust.csv')"
      ],
      "metadata": {
        "colab": {
          "base_uri": "https://localhost:8080/",
          "height": 17
        },
        "id": "UelZxlJ44C4k",
        "outputId": "a0ec1419-b0f8-4b9e-985d-9c3b4025d2e0"
      },
      "execution_count": 11,
      "outputs": [
        {
          "output_type": "display_data",
          "data": {
            "text/plain": [
              "<IPython.core.display.Javascript object>"
            ],
            "application/javascript": [
              "\n",
              "    async function download(id, filename, size) {\n",
              "      if (!google.colab.kernel.accessAllowed) {\n",
              "        return;\n",
              "      }\n",
              "      const div = document.createElement('div');\n",
              "      const label = document.createElement('label');\n",
              "      label.textContent = `Downloading \"${filename}\": `;\n",
              "      div.appendChild(label);\n",
              "      const progress = document.createElement('progress');\n",
              "      progress.max = size;\n",
              "      div.appendChild(progress);\n",
              "      document.body.appendChild(div);\n",
              "\n",
              "      const buffers = [];\n",
              "      let downloaded = 0;\n",
              "\n",
              "      const channel = await google.colab.kernel.comms.open(id);\n",
              "      // Send a message to notify the kernel that we're ready.\n",
              "      channel.send({})\n",
              "\n",
              "      for await (const message of channel.messages) {\n",
              "        // Send a message to notify the kernel that we're ready.\n",
              "        channel.send({})\n",
              "        if (message.buffers) {\n",
              "          for (const buffer of message.buffers) {\n",
              "            buffers.push(buffer);\n",
              "            downloaded += buffer.byteLength;\n",
              "            progress.value = downloaded;\n",
              "          }\n",
              "        }\n",
              "      }\n",
              "      const blob = new Blob(buffers, {type: 'application/binary'});\n",
              "      const a = document.createElement('a');\n",
              "      a.href = window.URL.createObjectURL(blob);\n",
              "      a.download = filename;\n",
              "      div.appendChild(a);\n",
              "      a.click();\n",
              "      div.remove();\n",
              "    }\n",
              "  "
            ]
          },
          "metadata": {}
        },
        {
          "output_type": "display_data",
          "data": {
            "text/plain": [
              "<IPython.core.display.Javascript object>"
            ],
            "application/javascript": [
              "download(\"download_2108ea23-86a6-45c9-bac7-4d358863448a\", \"trust_log_WSN-DS_trust.csv\", 3684)"
            ]
          },
          "metadata": {}
        }
      ]
    },
    {
      "cell_type": "code",
      "source": [
        "files.download('/mnt/data/model_profile_WSN-DS_trust.csv')"
      ],
      "metadata": {
        "colab": {
          "base_uri": "https://localhost:8080/",
          "height": 17
        },
        "id": "TlfRa9cS4C0u",
        "outputId": "b26e47be-4a37-452e-80e1-117704a80192"
      },
      "execution_count": 12,
      "outputs": [
        {
          "output_type": "display_data",
          "data": {
            "text/plain": [
              "<IPython.core.display.Javascript object>"
            ],
            "application/javascript": [
              "\n",
              "    async function download(id, filename, size) {\n",
              "      if (!google.colab.kernel.accessAllowed) {\n",
              "        return;\n",
              "      }\n",
              "      const div = document.createElement('div');\n",
              "      const label = document.createElement('label');\n",
              "      label.textContent = `Downloading \"${filename}\": `;\n",
              "      div.appendChild(label);\n",
              "      const progress = document.createElement('progress');\n",
              "      progress.max = size;\n",
              "      div.appendChild(progress);\n",
              "      document.body.appendChild(div);\n",
              "\n",
              "      const buffers = [];\n",
              "      let downloaded = 0;\n",
              "\n",
              "      const channel = await google.colab.kernel.comms.open(id);\n",
              "      // Send a message to notify the kernel that we're ready.\n",
              "      channel.send({})\n",
              "\n",
              "      for await (const message of channel.messages) {\n",
              "        // Send a message to notify the kernel that we're ready.\n",
              "        channel.send({})\n",
              "        if (message.buffers) {\n",
              "          for (const buffer of message.buffers) {\n",
              "            buffers.push(buffer);\n",
              "            downloaded += buffer.byteLength;\n",
              "            progress.value = downloaded;\n",
              "          }\n",
              "        }\n",
              "      }\n",
              "      const blob = new Blob(buffers, {type: 'application/binary'});\n",
              "      const a = document.createElement('a');\n",
              "      a.href = window.URL.createObjectURL(blob);\n",
              "      a.download = filename;\n",
              "      div.appendChild(a);\n",
              "      a.click();\n",
              "      div.remove();\n",
              "    }\n",
              "  "
            ]
          },
          "metadata": {}
        },
        {
          "output_type": "display_data",
          "data": {
            "text/plain": [
              "<IPython.core.display.Javascript object>"
            ],
            "application/javascript": [
              "download(\"download_8580be2c-7473-4731-a53c-f1fd0853dd1b\", \"model_profile_WSN-DS_trust.csv\", 55)"
            ]
          },
          "metadata": {}
        }
      ]
    },
    {
      "cell_type": "code",
      "source": [
        "def plot_cm(cm, classes, title, normalise=False):\n",
        "    if normalise:\n",
        "        cm = cm / cm.sum(axis=1, keepdims=True)\n",
        "        fmt, cmap = \".2%\", \"Blues\"\n",
        "    else:\n",
        "        fmt, cmap = \"d\", \"Blues\"\n",
        "    sns.heatmap(cm, annot=True, fmt=fmt, cmap=cmap, cbar=False,\n",
        "                xticklabels=classes, yticklabels=classes,\n",
        "                linewidths=.5, linecolor='grey')\n",
        "    plt.xlabel(\"Predicted\"); plt.ylabel(\"True\")\n",
        "    plt.title(title); plt.tight_layout()\n",
        "\n",
        "plt.figure(figsize=(9,4))\n",
        "plt.subplot(1,2,1); plot_cm(cm,  [f\"C{i}\" for i in range(n_classes)],\n",
        "                            \"Raw counts\", normalise=False)\n",
        "plt.subplot(1,2,2); plot_cm(cm,  [f\"C{i}\" for i in range(n_classes)],\n",
        "                            \"Row-normalised\", normalise=True)\n",
        "plt.savefig(\"/mnt/data/cm_WSN-DS_dual.png\", dpi=300)"
      ],
      "metadata": {
        "colab": {
          "base_uri": "https://localhost:8080/",
          "height": 407
        },
        "id": "C3JaoVwFyqrz",
        "outputId": "91d2582a-e499-4790-9fb9-4f4f1b108313"
      },
      "execution_count": 13,
      "outputs": [
        {
          "output_type": "display_data",
          "data": {
            "text/plain": [
              "<Figure size 900x400 with 2 Axes>"
            ],
            "image/png": "[encoded data removed]"
          },
          "metadata": {}
        }
      ]
    }
  ]
}