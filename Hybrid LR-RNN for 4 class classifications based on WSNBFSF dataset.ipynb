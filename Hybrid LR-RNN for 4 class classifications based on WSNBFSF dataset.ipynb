{
  "nbformat": 4,
  "nbformat_minor": 0,
  "metadata": {
    "colab": {
      "provenance": [],
      "authorship_tag": "ABX9TyOxF/v6WYpPUmnBf/4DvgUl",
      "include_colab_link": true
    },
    "kernelspec": {
      "name": "python3",
      "display_name": "Python 3"
    },
    "language_info": {
      "name": "python"
    }
  },
  "cells": [
    {
      "cell_type": "markdown",
      "metadata": {
        "id": "view-in-github",
        "colab_type": "text"
      },
      "source": [
        "<a href=\"https://colab.research.google.com/github/sankeawthong/Project-1-Lita-Chatbot/blob/main/Hybrid%20LR-RNN%20for%204%20class%20classifications%20based%20on%20WSNBFSF%20dataset.ipynb\" target=\"_parent\"><img src=\"https://colab.research.google.com/assets/colab-badge.svg\" alt=\"Open In Colab\"/></a>"
      ]
    },
    {
      "cell_type": "markdown",
      "source": [
        "### **Hybrid LR-RNN for 4 class classifications based on WSNBFSF dataset**"
      ],
      "metadata": {
        "id": "HrElCXAjuG_p"
      }
    },
    {
      "cell_type": "code",
      "source": [
        "import pandas as pd\n",
        "import numpy as np\n",
        "from sklearn.preprocessing import LabelEncoder\n",
        "from sklearn.model_selection import train_test_split\n",
        "from sklearn.linear_model import LogisticRegression\n",
        "from keras.models import Sequential\n",
        "from keras.layers import Conv2D, MaxPooling2D, Flatten, Dense\n",
        "from keras.utils import np_utils\n",
        "from sklearn.metrics import classification_report, confusion_matrix"
      ],
      "metadata": {
        "id": "Kb8gc0bKtjbE"
      },
      "execution_count": 12,
      "outputs": []
    },
    {
      "cell_type": "code",
      "source": [
        "# Load dataset\n",
        "dataset = pd.read_csv(\"dataset.csv\")\n",
        "dataset.isnull().sum()"
      ],
      "metadata": {
        "colab": {
          "base_uri": "https://localhost:8080/"
        },
        "id": "pSEWOnhctkzh",
        "outputId": "d44fbc5d-cc07-4d96-fb10-014a9028c0f9"
      },
      "execution_count": 13,
      "outputs": [
        {
          "output_type": "execute_result",
          "data": {
            "text/plain": [
              "Event             0\n",
              "Time              0\n",
              "S_Node            0\n",
              "Node_id           0\n",
              "Rest_Energy       0\n",
              "Trace_Level       0\n",
              "Mac_Type_Pckt     0\n",
              "Source_IP_Port    0\n",
              "Des_IP_Port       0\n",
              "Packet_Size       0\n",
              "TTL               0\n",
              "Hop_Count         0\n",
              "Broadcast_ID      0\n",
              "Dest_Node_Num     0\n",
              "Dest_Seq_Num      0\n",
              "Src_Node_ID       0\n",
              "Src_Seq_Num       0\n",
              "Class             0\n",
              "dtype: int64"
            ]
          },
          "metadata": {},
          "execution_count": 13
        }
      ]
    },
    {
      "cell_type": "code",
      "source": [
        "dataset.info()"
      ],
      "metadata": {
        "colab": {
          "base_uri": "https://localhost:8080/"
        },
        "id": "IxHmeY6Ytlwn",
        "outputId": "4afdcb8b-5592-4cf5-cb69-2f4893dfb897"
      },
      "execution_count": 14,
      "outputs": [
        {
          "output_type": "stream",
          "name": "stdout",
          "text": [
            "<class 'pandas.core.frame.DataFrame'>\n",
            "RangeIndex: 312106 entries, 0 to 312105\n",
            "Data columns (total 18 columns):\n",
            " #   Column          Non-Null Count   Dtype  \n",
            "---  ------          --------------   -----  \n",
            " 0   Event           312106 non-null  int64  \n",
            " 1   Time            312106 non-null  float64\n",
            " 2   S_Node          312106 non-null  int64  \n",
            " 3   Node_id         312106 non-null  int64  \n",
            " 4   Rest_Energy     312106 non-null  float64\n",
            " 5   Trace_Level     312106 non-null  int64  \n",
            " 6   Mac_Type_Pckt   312106 non-null  int64  \n",
            " 7   Source_IP_Port  312106 non-null  float64\n",
            " 8   Des_IP_Port     312106 non-null  float64\n",
            " 9   Packet_Size     312106 non-null  int64  \n",
            " 10  TTL             312106 non-null  int64  \n",
            " 11  Hop_Count       312106 non-null  int64  \n",
            " 12  Broadcast_ID    312106 non-null  int64  \n",
            " 13  Dest_Node_Num   312106 non-null  int64  \n",
            " 14  Dest_Seq_Num    312106 non-null  int64  \n",
            " 15  Src_Node_ID     312106 non-null  int64  \n",
            " 16  Src_Seq_Num     312106 non-null  int64  \n",
            " 17  Class           312106 non-null  int64  \n",
            "dtypes: float64(4), int64(14)\n",
            "memory usage: 42.9 MB\n"
          ]
        }
      ]
    },
    {
      "cell_type": "code",
      "source": [
        "dataset[\"Class\"].unique()"
      ],
      "metadata": {
        "colab": {
          "base_uri": "https://localhost:8080/"
        },
        "id": "1nAocy3dtmy1",
        "outputId": "7d4ed992-8519-4f3d-c24b-5f3779b07beb"
      },
      "execution_count": 15,
      "outputs": [
        {
          "output_type": "execute_result",
          "data": {
            "text/plain": [
              "array([0, 1, 2, 3])"
            ]
          },
          "metadata": {},
          "execution_count": 15
        }
      ]
    },
    {
      "cell_type": "markdown",
      "source": [
        "### **Data Preprocessing**"
      ],
      "metadata": {
        "id": "oz6SYWeht3Sm"
      }
    },
    {
      "cell_type": "code",
      "source": [
        "encoder = LabelEncoder()\n",
        "y = encoder.fit_transform(dataset['Class'])\n",
        "y = np_utils.to_categorical(y, num_classes=4)\n",
        "X = dataset.drop(['Class'],axis=1)\n",
        "X=X.values\n",
        "print(X.shape)\n",
        "print(y.shape)"
      ],
      "metadata": {
        "colab": {
          "base_uri": "https://localhost:8080/"
        },
        "id": "4L0exMJGtoh6",
        "outputId": "3bfa1911-f69d-47fb-81c3-60758e5c4af2"
      },
      "execution_count": 16,
      "outputs": [
        {
          "output_type": "stream",
          "name": "stdout",
          "text": [
            "(312106, 17)\n",
            "(312106, 4)\n"
          ]
        }
      ]
    },
    {
      "cell_type": "code",
      "source": [
        "# Data preprocessing\n",
        "from imblearn.over_sampling import SMOTE\n",
        "oversample = SMOTE()\n",
        "X, y = oversample.fit_resample(X, y)"
      ],
      "metadata": {
        "id": "blSVeA8Atpj_"
      },
      "execution_count": 17,
      "outputs": []
    },
    {
      "cell_type": "code",
      "source": [
        "X_train, X_test, y_train, y_test = train_test_split(X, y, test_size=0.2, random_state=101)"
      ],
      "metadata": {
        "id": "Nhh4fdyYu58w"
      },
      "execution_count": 18,
      "outputs": []
    },
    {
      "cell_type": "markdown",
      "source": [
        "### **Hybrid combination of LR-RNN for 4 class classifications**"
      ],
      "metadata": {
        "id": "z2edRyCAuA-h"
      }
    },
    {
      "cell_type": "code",
      "execution_count": 20,
      "metadata": {
        "colab": {
          "base_uri": "https://localhost:8080/"
        },
        "id": "kucKhxowtdY8",
        "outputId": "159d2c52-de86-42fd-d7f3-badea2470421"
      },
      "outputs": [
        {
          "output_type": "stream",
          "name": "stderr",
          "text": [
            "/usr/local/lib/python3.10/dist-packages/sklearn/linear_model/_logistic.py:458: ConvergenceWarning: lbfgs failed to converge (status=1):\n",
            "STOP: TOTAL NO. of ITERATIONS REACHED LIMIT.\n",
            "\n",
            "Increase the number of iterations (max_iter) or scale the data as shown in:\n",
            "    https://scikit-learn.org/stable/modules/preprocessing.html\n",
            "Please also refer to the documentation for alternative solver options:\n",
            "    https://scikit-learn.org/stable/modules/linear_model.html#logistic-regression\n",
            "  n_iter_i = _check_optimize_result(\n"
          ]
        },
        {
          "output_type": "stream",
          "name": "stdout",
          "text": [
            "Epoch 1/10\n",
            "13143/13143 [==============================] - 32s 2ms/step - loss: 0.9003 - accuracy: 0.7309 - val_loss: 1.1150 - val_accuracy: 0.5839\n",
            "Epoch 2/10\n",
            "13143/13143 [==============================] - 30s 2ms/step - loss: 0.4992 - accuracy: 0.8167 - val_loss: 0.3290 - val_accuracy: 0.8876\n",
            "Epoch 3/10\n",
            "13143/13143 [==============================] - 31s 2ms/step - loss: 0.3571 - accuracy: 0.8587 - val_loss: 0.4361 - val_accuracy: 0.8241\n",
            "Epoch 4/10\n",
            "13143/13143 [==============================] - 31s 2ms/step - loss: 0.2769 - accuracy: 0.8889 - val_loss: 0.2750 - val_accuracy: 0.8782\n",
            "Epoch 5/10\n",
            "13143/13143 [==============================] - 30s 2ms/step - loss: 0.2303 - accuracy: 0.9117 - val_loss: 0.1821 - val_accuracy: 0.9398\n",
            "Epoch 6/10\n",
            "13143/13143 [==============================] - 31s 2ms/step - loss: 0.2117 - accuracy: 0.9209 - val_loss: 0.4269 - val_accuracy: 0.8329\n",
            "Epoch 7/10\n",
            "13143/13143 [==============================] - 31s 2ms/step - loss: 0.2059 - accuracy: 0.9238 - val_loss: 0.1870 - val_accuracy: 0.9331\n",
            "Epoch 8/10\n",
            "13143/13143 [==============================] - 31s 2ms/step - loss: 0.2021 - accuracy: 0.9258 - val_loss: 0.1990 - val_accuracy: 0.9248\n",
            "Epoch 9/10\n",
            "13143/13143 [==============================] - 32s 2ms/step - loss: 0.2013 - accuracy: 0.9262 - val_loss: 0.2966 - val_accuracy: 0.9086\n",
            "Epoch 10/10\n",
            "13143/13143 [==============================] - 31s 2ms/step - loss: 0.1981 - accuracy: 0.9273 - val_loss: 0.1865 - val_accuracy: 0.9397\n",
            "6572/6572 [==============================] - 9s 1ms/step\n",
            "              precision    recall  f1-score   support\n",
            "\n",
            "           0       0.97      0.86      0.91     52500\n",
            "           1       0.90      0.94      0.92     52554\n",
            "           2       0.93      1.00      0.96     52545\n",
            "           3       0.97      0.96      0.96     52682\n",
            "\n",
            "    accuracy                           0.94    210281\n",
            "   macro avg       0.94      0.94      0.94    210281\n",
            "weighted avg       0.94      0.94      0.94    210281\n",
            "\n",
            "[[45309  5092  2099     0]\n",
            " [ 1415 49310     8  1821]\n",
            " [    7     8 52530     0]\n",
            " [    0   528  1697 50457]]\n"
          ]
        }
      ],
      "source": [
        "# Hybrid LR-CNN model\n",
        "model_lr = LogisticRegression(random_state=0)\n",
        "model_lr.fit(X_train, np.argmax(y_train, axis=1)) # modify y_train to 1D array\n",
        "\n",
        "X_train_cnn = X_train.reshape(X_train.shape[0], -1)\n",
        "X_test_cnn = X_test.reshape(X_test.shape[0], -1)\n",
        "\n",
        "model_cnn = Sequential()\n",
        "model_cnn.add(Dense(128, activation='relu', input_shape=(X_train_cnn.shape[1],)))\n",
        "model_cnn.add(Dense(4, activation='softmax'))\n",
        "model_cnn.compile(optimizer='adam', loss='categorical_crossentropy', metrics=['accuracy'])\n",
        "\n",
        "model_cnn.fit(X_train_cnn, y_train, batch_size=64, epochs=10, verbose=1, validation_data=(X_test_cnn, y_test))\n",
        "\n",
        "# Combine models\n",
        "y_pred_lr = model_lr.predict(X_test)\n",
        "y_pred_lr = np.reshape(y_pred_lr, (y_pred_lr.shape[0], 1)) # add this line\n",
        "y_pred_cnn = model_cnn.predict(X_test_cnn)\n",
        "y_pred = (y_pred_lr + y_pred_cnn) / 2\n",
        "y_pred = np.argmax(y_pred, axis=1)\n",
        "\n",
        "# Evaluation metrics\n",
        "print(classification_report(np.argmax(y_test, axis=1), y_pred))\n",
        "print(confusion_matrix(np.argmax(y_test, axis=1), y_pred))"
      ]
    },
    {
      "cell_type": "code",
      "source": [
        "import seaborn as sns\n",
        "import matplotlib.pyplot as plt\n",
        "import numpy as np\n",
        "import itertools\n",
        "import seaborn as sns\n",
        "from sklearn import metrics \n",
        "import matplotlib.pyplot as plt\n",
        "from sklearn.metrics import confusion_matrix\n",
        "def conf_mat(d1,d2):\n",
        "  cm = confusion_matrix(d1, d2)\n",
        "  plt.figure(figsize=(6,5.5))\n",
        "  ax = sns.heatmap(cm,  fmt='2', annot=True, cmap='YlGnBu')\n",
        "  sns.set(font_scale=1)\n",
        "  ax.set_xlabel('\\nPredicted Values')\n",
        "  ax.set_ylabel('Actual Values\\n');\n",
        "  ax.xaxis.set_ticklabels(['Normal','Flooding','Blackhole','Forwarding'])\n",
        "  ax.yaxis.set_ticklabels(['Normal','Flooding','Blackhole','Forwarding'])\n",
        "  plt.tight_layout()\n",
        "  # plt.savefig(\"F1.eps\", format = 'eps')\n",
        "  plt.show()"
      ],
      "metadata": {
        "id": "2yjlsZZo87Zd"
      },
      "execution_count": 21,
      "outputs": []
    },
    {
      "cell_type": "code",
      "source": [
        "print(\"Confusion Matrix of Hybrid LR-RNN Model\") \n",
        "conf_mat(np.argmax(y_test, axis=1), y_pred)"
      ],
      "metadata": {
        "colab": {
          "base_uri": "https://localhost:8080/",
          "height": 568
        },
        "id": "9jqJiudH873k",
        "outputId": "8e944ffe-60bc-485d-fa5b-535b3c7a5bd8"
      },
      "execution_count": 22,
      "outputs": [
        {
          "output_type": "stream",
          "name": "stdout",
          "text": [
            "Confusion Matrix of Hybrid LR-RNN Model\n"
          ]
        },
        {
          "output_type": "display_data",
          "data": {
            "text/plain": [
              "<Figure size 600x550 with 2 Axes>"
            ],
            "image/png": "[encoded data removed]"
          },
          "metadata": {}
        }
      ]
    },
    {
      "cell_type": "code",
      "source": [
        "report = classification_report(np.argmax(y_test, axis=1), y_pred, output_dict=True)\n",
        "detection_rates = {}\n",
        "for cls in range(4):\n",
        "    detection_rates[encoder.inverse_transform([cls])[0]] = report[str(cls)]['recall']\n",
        "print(\"Detection rates:\", detection_rates)"
      ],
      "metadata": {
        "colab": {
          "base_uri": "https://localhost:8080/"
        },
        "id": "UfAXnpF39NgJ",
        "outputId": "2573700d-58bd-425f-b11b-be84c839b2d9"
      },
      "execution_count": 23,
      "outputs": [
        {
          "output_type": "stream",
          "name": "stdout",
          "text": [
            "Detection rates: {0: 0.8630285714285715, 1: 0.9382730144232598, 2: 0.9997145304025121, 3: 0.9577654606886603}\n"
          ]
        }
      ]
    },
    {
      "cell_type": "code",
      "source": [],
      "metadata": {
        "id": "zBtPOdXRfbGL"
      },
      "execution_count": null,
      "outputs": []
    },
    {
      "cell_type": "code",
      "source": [
        "# ROC Curve and AUC Score\n",
        "y_scores = final_model.predict_proba(combined_pred)\n",
        "fpr, tpr, thresholds = roc_curve(y_test, y_scores[:, 1], pos_label=1)\n",
        "#roc_auc = roc_auc_score(y_test, y_scores[:, 1])\n",
        "roc_auc = roc_auc_score(y_test,y_scores, multi_class='ovr')\n",
        "plt.plot(fpr, tpr, 'b', label = 'AUC = %0.2f' % roc_auc)\n",
        "plt.title('ROC Curve')\n",
        "plt.xlabel('False Positive Rate')\n",
        "plt.ylabel('True Positive Rate')\n",
        "plt.legend(loc = 'lower right')\n",
        "plt.show()\n",
        "\n",
        "#clf = LogisticRegression(solver=\"liblinear\").fit(x_train, y_train)\n",
        "#preds = clf.predict_proba(x_test)\n",
        "#print(roc_auc)"
      ],
      "metadata": {
        "colab": {
          "base_uri": "https://localhost:8080/",
          "height": 472
        },
        "id": "ykI3_sRqtv0j",
        "outputId": "73f1b101-e452-4292-8bbf-83b10e2d6649"
      },
      "execution_count": 12,
      "outputs": [
        {
          "output_type": "display_data",
          "data": {
            "text/plain": [
              "<Figure size 640x480 with 1 Axes>"
            ],
            "image/png": "[encoded data removed]"
          },
          "metadata": {}
        }
      ]
    }
  ]
}