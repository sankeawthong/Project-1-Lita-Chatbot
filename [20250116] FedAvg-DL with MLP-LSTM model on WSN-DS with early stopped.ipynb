{
  "nbformat": 4,
  "nbformat_minor": 0,
  "metadata": {
    "colab": {
      "provenance": [],
      "machine_shape": "hm",
      "authorship_tag": "ABX9TyM8uE/xN+HJIE98L/iau+NR",
      "include_colab_link": true
    },
    "kernelspec": {
      "name": "python3",
      "display_name": "Python 3"
    },
    "language_info": {
      "name": "python"
    }
  },
  "cells": [
    {
      "cell_type": "markdown",
      "metadata": {
        "id": "view-in-github",
        "colab_type": "text"
      },
      "source": [
        "<a href=\"https://colab.research.google.com/github/sankeawthong/Project-1-Lita-Chatbot/blob/main/%5B20250116%5D%20FedAvg-DL%20with%20MLP-LSTM%20model%20on%20WSN-DS%20with%20early%20stopped.ipynb\" target=\"_parent\"><img src=\"https://colab.research.google.com/assets/colab-badge.svg\" alt=\"Open In Colab\"/></a>"
      ]
    },
    {
      "cell_type": "markdown",
      "source": [
        "**FedAvg-DL // MLP-LSTM model 5 classes on WSN-DS**"
      ],
      "metadata": {
        "id": "NdJw5-HPtPeU"
      }
    },
    {
      "cell_type": "code",
      "execution_count": null,
      "metadata": {
        "id": "Kys3NgWmCB12"
      },
      "outputs": [],
      "source": [
        "import pandas as pd\n",
        "import numpy as np\n",
        "from sklearn.linear_model import LogisticRegression\n",
        "from sklearn.model_selection import train_test_split\n",
        "from sklearn.metrics import accuracy_score, classification_report\n",
        "from sklearn.preprocessing import LabelEncoder, StandardScaler\n",
        "from keras.models import Sequential\n",
        "from keras.layers import Dense, LSTM, Bidirectional, Dropout, Flatten\n",
        "from sklearn.metrics import accuracy_score, classification_report, confusion_matrix\n",
        "from keras.utils import to_categorical"
      ]
    },
    {
      "cell_type": "code",
      "source": [
        "# Load dataset\n",
        "dataset = pd.read_csv(\"dataset_WSN-DS.csv\") #WSN-DS 5 classes dataset\n",
        "\n",
        "# Preprocessing: Handle missing values (if any)\n",
        "dataset = dataset.dropna() # Remove missing values"
      ],
      "metadata": {
        "id": "W4xz10xkCHq8"
      },
      "execution_count": null,
      "outputs": []
    },
    {
      "cell_type": "code",
      "source": [
        "dataset"
      ],
      "metadata": {
        "colab": {
          "base_uri": "https://localhost:8080/",
          "height": 441
        },
        "id": "Ds2sKdTwCJgj",
        "outputId": "fa72aed1-7943-4ae0-b769-7c8b41515604"
      },
      "execution_count": null,
      "outputs": [
        {
          "output_type": "execute_result",
          "data": {
            "text/plain": [
              "            id   Time   Is_CH   who CH   Dist_To_CH   ADV_S   ADV_R   JOIN_S  \\\n",
              "0       101000     50       1   101000      0.00000       1       0        0   \n",
              "1       101001     50       0   101044     75.32345       0       4        1   \n",
              "2       101002     50       0   101010     46.95453       0       4        1   \n",
              "3       101003     50       0   101044     64.85231       0       4        1   \n",
              "4       101004     50       0   101010      4.83341       0       4        1   \n",
              "...        ...    ...     ...      ...          ...     ...     ...      ...   \n",
              "374656  201096   1003       0   201051      6.98337       0       5        1   \n",
              "374657  201097   1003       0   201037     29.32867       0       5        1   \n",
              "374658  201098   1003       0   201095     18.51963       0       5        1   \n",
              "374659  201099   1003       0   201051      8.55001       0       5        1   \n",
              "374660  202041   1025       0   202100      0.00000       0       5        0   \n",
              "\n",
              "         JOIN_R   SCH_S   SCH_R  Rank   DATA_S   DATA_R   Data_Sent_To_BS  \\\n",
              "0            25       1       0     0        0     1200                48   \n",
              "1             0       0       1     2       38        0                 0   \n",
              "2             0       0       1    19       41        0                 0   \n",
              "3             0       0       1    16       38        0                 0   \n",
              "4             0       0       1    25       41        0                 0   \n",
              "...         ...     ...     ...   ...      ...      ...               ...   \n",
              "374656        0       0       1     7       96        0                67   \n",
              "374657        0       0       1    31       39        0                24   \n",
              "374658        0       0       1    17       55        0                31   \n",
              "374659        0       0       1     3       96        0                65   \n",
              "374660        0       0       0     4        7      689                 7   \n",
              "\n",
              "         dist_CH_To_BS   send_code   Expaned Energy  Class  \n",
              "0            130.08535            0         2.46940      0  \n",
              "1              0.00000            4         0.06957      0  \n",
              "2              0.00000            3         0.06898      0  \n",
              "3              0.00000            4         0.06673      0  \n",
              "4              0.00000            3         0.06534      0  \n",
              "...                ...          ...             ...    ...  \n",
              "374656       170.14779            3         0.15974      0  \n",
              "374657        82.21043            2         0.06877      0  \n",
              "374658       139.26438            1         0.09437      0  \n",
              "374659       158.27492            3         0.16047      0  \n",
              "374660       115.00407            0         1.01325      0  \n",
              "\n",
              "[374661 rows x 19 columns]"
            ],
            "text/html": [
              "\n",
              "  <div id=\"df-d5e9e962-9976-492f-81f6-eb2cd5a2fd37\" class=\"colab-df-container\">\n",
              "    <div>\n",
              "<style scoped>\n",
              "    .dataframe tbody tr th:only-of-type {\n",
              "        vertical-align: middle;\n",
              "    }\n",
              "\n",
              "    .dataframe tbody tr th {\n",
              "        vertical-align: top;\n",
              "    }\n",
              "\n",
              "    .dataframe thead th {\n",
              "        text-align: right;\n",
              "    }\n",
              "</style>\n",
              "<table border=\"1\" class=\"dataframe\">\n",
              "  <thead>\n",
              "    <tr style=\"text-align: right;\">\n",
              "      <th></th>\n",
              "      <th>id</th>\n",
              "      <th>Time</th>\n",
              "      <th>Is_CH</th>\n",
              "      <th>who CH</th>\n",
              "      <th>Dist_To_CH</th>\n",
              "      <th>ADV_S</th>\n",
              "      <th>ADV_R</th>\n",
              "      <th>JOIN_S</th>\n",
              "      <th>JOIN_R</th>\n",
              "      <th>SCH_S</th>\n",
              "      <th>SCH_R</th>\n",
              "      <th>Rank</th>\n",
              "      <th>DATA_S</th>\n",
              "      <th>DATA_R</th>\n",
              "      <th>Data_Sent_To_BS</th>\n",
              "      <th>dist_CH_To_BS</th>\n",
              "      <th>send_code</th>\n",
              "      <th>Expaned Energy</th>\n",
              "      <th>Class</th>\n",
              "    </tr>\n",
              "  </thead>\n",
              "  <tbody>\n",
              "    <tr>\n",
              "      <th>0</th>\n",
              "      <td>101000</td>\n",
              "      <td>50</td>\n",
              "      <td>1</td>\n",
              "      <td>101000</td>\n",
              "      <td>0.00000</td>\n",
              "      <td>1</td>\n",
              "      <td>0</td>\n",
              "      <td>0</td>\n",
              "      <td>25</td>\n",
              "      <td>1</td>\n",
              "      <td>0</td>\n",
              "      <td>0</td>\n",
              "      <td>0</td>\n",
              "      <td>1200</td>\n",
              "      <td>48</td>\n",
              "      <td>130.08535</td>\n",
              "      <td>0</td>\n",
              "      <td>2.46940</td>\n",
              "      <td>0</td>\n",
              "    </tr>\n",
              "    <tr>\n",
              "      <th>1</th>\n",
              "      <td>101001</td>\n",
              "      <td>50</td>\n",
              "      <td>0</td>\n",
              "      <td>101044</td>\n",
              "      <td>75.32345</td>\n",
              "      <td>0</td>\n",
              "      <td>4</td>\n",
              "      <td>1</td>\n",
              "      <td>0</td>\n",
              "      <td>0</td>\n",
              "      <td>1</td>\n",
              "      <td>2</td>\n",
              "      <td>38</td>\n",
              "      <td>0</td>\n",
              "      <td>0</td>\n",
              "      <td>0.00000</td>\n",
              "      <td>4</td>\n",
              "      <td>0.06957</td>\n",
              "      <td>0</td>\n",
              "    </tr>\n",
              "    <tr>\n",
              "      <th>2</th>\n",
              "      <td>101002</td>\n",
              "      <td>50</td>\n",
              "      <td>0</td>\n",
              "      <td>101010</td>\n",
              "      <td>46.95453</td>\n",
              "      <td>0</td>\n",
              "      <td>4</td>\n",
              "      <td>1</td>\n",
              "      <td>0</td>\n",
              "      <td>0</td>\n",
              "      <td>1</td>\n",
              "      <td>19</td>\n",
              "      <td>41</td>\n",
              "      <td>0</td>\n",
              "      <td>0</td>\n",
              "      <td>0.00000</td>\n",
              "      <td>3</td>\n",
              "      <td>0.06898</td>\n",
              "      <td>0</td>\n",
              "    </tr>\n",
              "    <tr>\n",
              "      <th>3</th>\n",
              "      <td>101003</td>\n",
              "      <td>50</td>\n",
              "      <td>0</td>\n",
              "      <td>101044</td>\n",
              "      <td>64.85231</td>\n",
              "      <td>0</td>\n",
              "      <td>4</td>\n",
              "      <td>1</td>\n",
              "      <td>0</td>\n",
              "      <td>0</td>\n",
              "      <td>1</td>\n",
              "      <td>16</td>\n",
              "      <td>38</td>\n",
              "      <td>0</td>\n",
              "      <td>0</td>\n",
              "      <td>0.00000</td>\n",
              "      <td>4</td>\n",
              "      <td>0.06673</td>\n",
              "      <td>0</td>\n",
              "    </tr>\n",
              "    <tr>\n",
              "      <th>4</th>\n",
              "      <td>101004</td>\n",
              "      <td>50</td>\n",
              "      <td>0</td>\n",
              "      <td>101010</td>\n",
              "      <td>4.83341</td>\n",
              "      <td>0</td>\n",
              "      <td>4</td>\n",
              "      <td>1</td>\n",
              "      <td>0</td>\n",
              "      <td>0</td>\n",
              "      <td>1</td>\n",
              "      <td>25</td>\n",
              "      <td>41</td>\n",
              "      <td>0</td>\n",
              "      <td>0</td>\n",
              "      <td>0.00000</td>\n",
              "      <td>3</td>\n",
              "      <td>0.06534</td>\n",
              "      <td>0</td>\n",
              "    </tr>\n",
              "    <tr>\n",
              "      <th>...</th>\n",
              "      <td>...</td>\n",
              "      <td>...</td>\n",
              "      <td>...</td>\n",
              "      <td>...</td>\n",
              "      <td>...</td>\n",
              "      <td>...</td>\n",
              "      <td>...</td>\n",
              "      <td>...</td>\n",
              "      <td>...</td>\n",
              "      <td>...</td>\n",
              "      <td>...</td>\n",
              "      <td>...</td>\n",
              "      <td>...</td>\n",
              "      <td>...</td>\n",
              "      <td>...</td>\n",
              "      <td>...</td>\n",
              "      <td>...</td>\n",
              "      <td>...</td>\n",
              "      <td>...</td>\n",
              "    </tr>\n",
              "    <tr>\n",
              "      <th>374656</th>\n",
              "      <td>201096</td>\n",
              "      <td>1003</td>\n",
              "      <td>0</td>\n",
              "      <td>201051</td>\n",
              "      <td>6.98337</td>\n",
              "      <td>0</td>\n",
              "      <td>5</td>\n",
              "      <td>1</td>\n",
              "      <td>0</td>\n",
              "      <td>0</td>\n",
              "      <td>1</td>\n",
              "      <td>7</td>\n",
              "      <td>96</td>\n",
              "      <td>0</td>\n",
              "      <td>67</td>\n",
              "      <td>170.14779</td>\n",
              "      <td>3</td>\n",
              "      <td>0.15974</td>\n",
              "      <td>0</td>\n",
              "    </tr>\n",
              "    <tr>\n",
              "      <th>374657</th>\n",
              "      <td>201097</td>\n",
              "      <td>1003</td>\n",
              "      <td>0</td>\n",
              "      <td>201037</td>\n",
              "      <td>29.32867</td>\n",
              "      <td>0</td>\n",
              "      <td>5</td>\n",
              "      <td>1</td>\n",
              "      <td>0</td>\n",
              "      <td>0</td>\n",
              "      <td>1</td>\n",
              "      <td>31</td>\n",
              "      <td>39</td>\n",
              "      <td>0</td>\n",
              "      <td>24</td>\n",
              "      <td>82.21043</td>\n",
              "      <td>2</td>\n",
              "      <td>0.06877</td>\n",
              "      <td>0</td>\n",
              "    </tr>\n",
              "    <tr>\n",
              "      <th>374658</th>\n",
              "      <td>201098</td>\n",
              "      <td>1003</td>\n",
              "      <td>0</td>\n",
              "      <td>201095</td>\n",
              "      <td>18.51963</td>\n",
              "      <td>0</td>\n",
              "      <td>5</td>\n",
              "      <td>1</td>\n",
              "      <td>0</td>\n",
              "      <td>0</td>\n",
              "      <td>1</td>\n",
              "      <td>17</td>\n",
              "      <td>55</td>\n",
              "      <td>0</td>\n",
              "      <td>31</td>\n",
              "      <td>139.26438</td>\n",
              "      <td>1</td>\n",
              "      <td>0.09437</td>\n",
              "      <td>0</td>\n",
              "    </tr>\n",
              "    <tr>\n",
              "      <th>374659</th>\n",
              "      <td>201099</td>\n",
              "      <td>1003</td>\n",
              "      <td>0</td>\n",
              "      <td>201051</td>\n",
              "      <td>8.55001</td>\n",
              "      <td>0</td>\n",
              "      <td>5</td>\n",
              "      <td>1</td>\n",
              "      <td>0</td>\n",
              "      <td>0</td>\n",
              "      <td>1</td>\n",
              "      <td>3</td>\n",
              "      <td>96</td>\n",
              "      <td>0</td>\n",
              "      <td>65</td>\n",
              "      <td>158.27492</td>\n",
              "      <td>3</td>\n",
              "      <td>0.16047</td>\n",
              "      <td>0</td>\n",
              "    </tr>\n",
              "    <tr>\n",
              "      <th>374660</th>\n",
              "      <td>202041</td>\n",
              "      <td>1025</td>\n",
              "      <td>0</td>\n",
              "      <td>202100</td>\n",
              "      <td>0.00000</td>\n",
              "      <td>0</td>\n",
              "      <td>5</td>\n",
              "      <td>0</td>\n",
              "      <td>0</td>\n",
              "      <td>0</td>\n",
              "      <td>0</td>\n",
              "      <td>4</td>\n",
              "      <td>7</td>\n",
              "      <td>689</td>\n",
              "      <td>7</td>\n",
              "      <td>115.00407</td>\n",
              "      <td>0</td>\n",
              "      <td>1.01325</td>\n",
              "      <td>0</td>\n",
              "    </tr>\n",
              "  </tbody>\n",
              "</table>\n",
              "<p>374661 rows × 19 columns</p>\n",
              "</div>\n",
              "    <div class=\"colab-df-buttons\">\n",
              "\n",
              "  <div class=\"colab-df-container\">\n",
              "    <button class=\"colab-df-convert\" onclick=\"convertToInteractive('df-d5e9e962-9976-492f-81f6-eb2cd5a2fd37')\"\n",
              "            title=\"Convert this dataframe to an interactive table.\"\n",
              "            style=\"display:none;\">\n",
              "\n",
              "  <svg xmlns=\"http://www.w3.org/2000/svg\" height=\"24px\" viewBox=\"0 -960 960 960\">\n",
              "    <path d=\"M120-120v-720h720v720H120Zm60-500h600v-160H180v160Zm220 220h160v-160H400v160Zm0 220h160v-160H400v160ZM180-400h160v-160H180v160Zm440 0h160v-160H620v160ZM180-180h160v-160H180v160Zm440 0h160v-160H620v160Z\"/>\n",
              "  </svg>\n",
              "    </button>\n",
              "\n",
              "  <style>\n",
              "    .colab-df-container {\n",
              "      display:flex;\n",
              "      gap: 12px;\n",
              "    }\n",
              "\n",
              "    .colab-df-convert {\n",
              "      background-color: #E8F0FE;\n",
              "      border: none;\n",
              "      border-radius: 50%;\n",
              "      cursor: pointer;\n",
              "      display: none;\n",
              "      fill: #1967D2;\n",
              "      height: 32px;\n",
              "      padding: 0 0 0 0;\n",
              "      width: 32px;\n",
              "    }\n",
              "\n",
              "    .colab-df-convert:hover {\n",
              "      background-color: #E2EBFA;\n",
              "      box-shadow: 0px 1px 2px rgba(60, 64, 67, 0.3), 0px 1px 3px 1px rgba(60, 64, 67, 0.15);\n",
              "      fill: #174EA6;\n",
              "    }\n",
              "\n",
              "    .colab-df-buttons div {\n",
              "      margin-bottom: 4px;\n",
              "    }\n",
              "\n",
              "    [theme=dark] .colab-df-convert {\n",
              "      background-color: #3B4455;\n",
              "      fill: #D2E3FC;\n",
              "    }\n",
              "\n",
              "    [theme=dark] .colab-df-convert:hover {\n",
              "      background-color: #434B5C;\n",
              "      box-shadow: 0px 1px 3px 1px rgba(0, 0, 0, 0.15);\n",
              "      filter: drop-shadow(0px 1px 2px rgba(0, 0, 0, 0.3));\n",
              "      fill: #FFFFFF;\n",
              "    }\n",
              "  </style>\n",
              "\n",
              "    <script>\n",
              "      const buttonEl =\n",
              "        document.querySelector('#df-d5e9e962-9976-492f-81f6-eb2cd5a2fd37 button.colab-df-convert');\n",
              "      buttonEl.style.display =\n",
              "        google.colab.kernel.accessAllowed ? 'block' : 'none';\n",
              "\n",
              "      async function convertToInteractive(key) {\n",
              "        const element = document.querySelector('#df-d5e9e962-9976-492f-81f6-eb2cd5a2fd37');\n",
              "        const dataTable =\n",
              "          await google.colab.kernel.invokeFunction('convertToInteractive',\n",
              "                                                    [key], {});\n",
              "        if (!dataTable) return;\n",
              "\n",
              "        const docLinkHtml = 'Like what you see? Visit the ' +\n",
              "          '<a target=\"_blank\" href=https://colab.research.google.com/notebooks/data_table.ipynb>data table notebook</a>'\n",
              "          + ' to learn more about interactive tables.';\n",
              "        element.innerHTML = '';\n",
              "        dataTable['output_type'] = 'display_data';\n",
              "        await google.colab.output.renderOutput(dataTable, element);\n",
              "        const docLink = document.createElement('div');\n",
              "        docLink.innerHTML = docLinkHtml;\n",
              "        element.appendChild(docLink);\n",
              "      }\n",
              "    </script>\n",
              "  </div>\n",
              "\n",
              "\n",
              "<div id=\"df-08d16d78-5619-4703-b152-f575c7d34753\">\n",
              "  <button class=\"colab-df-quickchart\" onclick=\"quickchart('df-08d16d78-5619-4703-b152-f575c7d34753')\"\n",
              "            title=\"Suggest charts\"\n",
              "            style=\"display:none;\">\n",
              "\n",
              "<svg xmlns=\"http://www.w3.org/2000/svg\" height=\"24px\"viewBox=\"0 0 24 24\"\n",
              "     width=\"24px\">\n",
              "    <g>\n",
              "        <path d=\"M19 3H5c-1.1 0-2 .9-2 2v14c0 1.1.9 2 2 2h14c1.1 0 2-.9 2-2V5c0-1.1-.9-2-2-2zM9 17H7v-7h2v7zm4 0h-2V7h2v10zm4 0h-2v-4h2v4z\"/>\n",
              "    </g>\n",
              "</svg>\n",
              "  </button>\n",
              "\n",
              "<style>\n",
              "  .colab-df-quickchart {\n",
              "      --bg-color: #E8F0FE;\n",
              "      --fill-color: #1967D2;\n",
              "      --hover-bg-color: #E2EBFA;\n",
              "      --hover-fill-color: #174EA6;\n",
              "      --disabled-fill-color: #AAA;\n",
              "      --disabled-bg-color: #DDD;\n",
              "  }\n",
              "\n",
              "  [theme=dark] .colab-df-quickchart {\n",
              "      --bg-color: #3B4455;\n",
              "      --fill-color: #D2E3FC;\n",
              "      --hover-bg-color: #434B5C;\n",
              "      --hover-fill-color: #FFFFFF;\n",
              "      --disabled-bg-color: #3B4455;\n",
              "      --disabled-fill-color: #666;\n",
              "  }\n",
              "\n",
              "  .colab-df-quickchart {\n",
              "    background-color: var(--bg-color);\n",
              "    border: none;\n",
              "    border-radius: 50%;\n",
              "    cursor: pointer;\n",
              "    display: none;\n",
              "    fill: var(--fill-color);\n",
              "    height: 32px;\n",
              "    padding: 0;\n",
              "    width: 32px;\n",
              "  }\n",
              "\n",
              "  .colab-df-quickchart:hover {\n",
              "    background-color: var(--hover-bg-color);\n",
              "    box-shadow: 0 1px 2px rgba(60, 64, 67, 0.3), 0 1px 3px 1px rgba(60, 64, 67, 0.15);\n",
              "    fill: var(--button-hover-fill-color);\n",
              "  }\n",
              "\n",
              "  .colab-df-quickchart-complete:disabled,\n",
              "  .colab-df-quickchart-complete:disabled:hover {\n",
              "    background-color: var(--disabled-bg-color);\n",
              "    fill: var(--disabled-fill-color);\n",
              "    box-shadow: none;\n",
              "  }\n",
              "\n",
              "  .colab-df-spinner {\n",
              "    border: 2px solid var(--fill-color);\n",
              "    border-color: transparent;\n",
              "    border-bottom-color: var(--fill-color);\n",
              "    animation:\n",
              "      spin 1s steps(1) infinite;\n",
              "  }\n",
              "\n",
              "  @keyframes spin {\n",
              "    0% {\n",
              "      border-color: transparent;\n",
              "      border-bottom-color: var(--fill-color);\n",
              "      border-left-color: var(--fill-color);\n",
              "    }\n",
              "    20% {\n",
              "      border-color: transparent;\n",
              "      border-left-color: var(--fill-color);\n",
              "      border-top-color: var(--fill-color);\n",
              "    }\n",
              "    30% {\n",
              "      border-color: transparent;\n",
              "      border-left-color: var(--fill-color);\n",
              "      border-top-color: var(--fill-color);\n",
              "      border-right-color: var(--fill-color);\n",
              "    }\n",
              "    40% {\n",
              "      border-color: transparent;\n",
              "      border-right-color: var(--fill-color);\n",
              "      border-top-color: var(--fill-color);\n",
              "    }\n",
              "    60% {\n",
              "      border-color: transparent;\n",
              "      border-right-color: var(--fill-color);\n",
              "    }\n",
              "    80% {\n",
              "      border-color: transparent;\n",
              "      border-right-color: var(--fill-color);\n",
              "      border-bottom-color: var(--fill-color);\n",
              "    }\n",
              "    90% {\n",
              "      border-color: transparent;\n",
              "      border-bottom-color: var(--fill-color);\n",
              "    }\n",
              "  }\n",
              "</style>\n",
              "\n",
              "  <script>\n",
              "    async function quickchart(key) {\n",
              "      const quickchartButtonEl =\n",
              "        document.querySelector('#' + key + ' button');\n",
              "      quickchartButtonEl.disabled = true;  // To prevent multiple clicks.\n",
              "      quickchartButtonEl.classList.add('colab-df-spinner');\n",
              "      try {\n",
              "        const charts = await google.colab.kernel.invokeFunction(\n",
              "            'suggestCharts', [key], {});\n",
              "      } catch (error) {\n",
              "        console.error('Error during call to suggestCharts:', error);\n",
              "      }\n",
              "      quickchartButtonEl.classList.remove('colab-df-spinner');\n",
              "      quickchartButtonEl.classList.add('colab-df-quickchart-complete');\n",
              "    }\n",
              "    (() => {\n",
              "      let quickchartButtonEl =\n",
              "        document.querySelector('#df-08d16d78-5619-4703-b152-f575c7d34753 button');\n",
              "      quickchartButtonEl.style.display =\n",
              "        google.colab.kernel.accessAllowed ? 'block' : 'none';\n",
              "    })();\n",
              "  </script>\n",
              "</div>\n",
              "\n",
              "  <div id=\"id_9c74b1d3-2bdb-4e88-b2a1-7a24d8dcb530\">\n",
              "    <style>\n",
              "      .colab-df-generate {\n",
              "        background-color: #E8F0FE;\n",
              "        border: none;\n",
              "        border-radius: 50%;\n",
              "        cursor: pointer;\n",
              "        display: none;\n",
              "        fill: #1967D2;\n",
              "        height: 32px;\n",
              "        padding: 0 0 0 0;\n",
              "        width: 32px;\n",
              "      }\n",
              "\n",
              "      .colab-df-generate:hover {\n",
              "        background-color: #E2EBFA;\n",
              "        box-shadow: 0px 1px 2px rgba(60, 64, 67, 0.3), 0px 1px 3px 1px rgba(60, 64, 67, 0.15);\n",
              "        fill: #174EA6;\n",
              "      }\n",
              "\n",
              "      [theme=dark] .colab-df-generate {\n",
              "        background-color: #3B4455;\n",
              "        fill: #D2E3FC;\n",
              "      }\n",
              "\n",
              "      [theme=dark] .colab-df-generate:hover {\n",
              "        background-color: #434B5C;\n",
              "        box-shadow: 0px 1px 3px 1px rgba(0, 0, 0, 0.15);\n",
              "        filter: drop-shadow(0px 1px 2px rgba(0, 0, 0, 0.3));\n",
              "        fill: #FFFFFF;\n",
              "      }\n",
              "    </style>\n",
              "    <button class=\"colab-df-generate\" onclick=\"generateWithVariable('dataset')\"\n",
              "            title=\"Generate code using this dataframe.\"\n",
              "            style=\"display:none;\">\n",
              "\n",
              "  <svg xmlns=\"http://www.w3.org/2000/svg\" height=\"24px\"viewBox=\"0 0 24 24\"\n",
              "       width=\"24px\">\n",
              "    <path d=\"M7,19H8.4L18.45,9,17,7.55,7,17.6ZM5,21V16.75L18.45,3.32a2,2,0,0,1,2.83,0l1.4,1.43a1.91,1.91,0,0,1,.58,1.4,1.91,1.91,0,0,1-.58,1.4L9.25,21ZM18.45,9,17,7.55Zm-12,3A5.31,5.31,0,0,0,4.9,8.1,5.31,5.31,0,0,0,1,6.5,5.31,5.31,0,0,0,4.9,4.9,5.31,5.31,0,0,0,6.5,1,5.31,5.31,0,0,0,8.1,4.9,5.31,5.31,0,0,0,12,6.5,5.46,5.46,0,0,0,6.5,12Z\"/>\n",
              "  </svg>\n",
              "    </button>\n",
              "    <script>\n",
              "      (() => {\n",
              "      const buttonEl =\n",
              "        document.querySelector('#id_9c74b1d3-2bdb-4e88-b2a1-7a24d8dcb530 button.colab-df-generate');\n",
              "      buttonEl.style.display =\n",
              "        google.colab.kernel.accessAllowed ? 'block' : 'none';\n",
              "\n",
              "      buttonEl.onclick = () => {\n",
              "        google.colab.notebook.generateWithVariable('dataset');\n",
              "      }\n",
              "      })();\n",
              "    </script>\n",
              "  </div>\n",
              "\n",
              "    </div>\n",
              "  </div>\n"
            ],
            "application/vnd.google.colaboratory.intrinsic+json": {
              "type": "dataframe",
              "variable_name": "dataset"
            }
          },
          "metadata": {},
          "execution_count": 3
        }
      ]
    },
    {
      "cell_type": "markdown",
      "source": [
        "**Data Preprocessing**"
      ],
      "metadata": {
        "id": "gIkWYjccCMlu"
      }
    },
    {
      "cell_type": "code",
      "source": [
        "# Encode non-numeric columns (if any)\n",
        "for column in dataset.columns:\n",
        "    if dataset[column].dtype == 'object':  # Identify categorical columns\n",
        "        dataset[column] = LabelEncoder().fit_transform(dataset[column])\n",
        "\n",
        "# Separate features (X) and target (y)\n",
        "X = dataset.drop(['Class'], axis=1)  # Assuming 'Class' is the target column\n",
        "y = dataset['Class']"
      ],
      "metadata": {
        "id": "CJLPKg4OCJIa"
      },
      "execution_count": null,
      "outputs": []
    },
    {
      "cell_type": "code",
      "source": [
        "print(\"Original Class Distribution:\", np.bincount(y))"
      ],
      "metadata": {
        "colab": {
          "base_uri": "https://localhost:8080/"
        },
        "id": "cApvATS2CJGk",
        "outputId": "778316b9-2f2c-42d5-824f-a51010a89881"
      },
      "execution_count": null,
      "outputs": [
        {
          "output_type": "stream",
          "name": "stdout",
          "text": [
            "Original Class Distribution: [340066  14596  10049   6638   3312]\n"
          ]
        }
      ]
    },
    {
      "cell_type": "code",
      "source": [
        "# Standardize the features\n",
        "scaler = StandardScaler()\n",
        "X = scaler.fit_transform(X)"
      ],
      "metadata": {
        "id": "Dfs-ElhtCJDw"
      },
      "execution_count": null,
      "outputs": []
    },
    {
      "cell_type": "code",
      "source": [
        "!pip install -U imbalanced-learn"
      ],
      "metadata": {
        "colab": {
          "base_uri": "https://localhost:8080/"
        },
        "id": "cU6-aUtcCJBK",
        "outputId": "51375dc4-a436-415e-e759-6c18af18481e"
      },
      "execution_count": null,
      "outputs": [
        {
          "output_type": "stream",
          "name": "stdout",
          "text": [
            "Requirement already satisfied: imbalanced-learn in /usr/local/lib/python3.11/dist-packages (0.13.0)\n",
            "Requirement already satisfied: numpy<3,>=1.24.3 in /usr/local/lib/python3.11/dist-packages (from imbalanced-learn) (1.26.4)\n",
            "Requirement already satisfied: scipy<2,>=1.10.1 in /usr/local/lib/python3.11/dist-packages (from imbalanced-learn) (1.13.1)\n",
            "Requirement already satisfied: scikit-learn<2,>=1.3.2 in /usr/local/lib/python3.11/dist-packages (from imbalanced-learn) (1.6.0)\n",
            "Requirement already satisfied: sklearn-compat<1,>=0.1 in /usr/local/lib/python3.11/dist-packages (from imbalanced-learn) (0.1.3)\n",
            "Requirement already satisfied: joblib<2,>=1.1.1 in /usr/local/lib/python3.11/dist-packages (from imbalanced-learn) (1.4.2)\n",
            "Requirement already satisfied: threadpoolctl<4,>=2.0.0 in /usr/local/lib/python3.11/dist-packages (from imbalanced-learn) (3.5.0)\n"
          ]
        }
      ]
    },
    {
      "cell_type": "markdown",
      "source": [
        "**Data Balancing utilized SMOTE**"
      ],
      "metadata": {
        "id": "VU3Uh1FotLGp"
      }
    },
    {
      "cell_type": "code",
      "source": [
        "from imblearn.over_sampling import SMOTE\n",
        "# Balance dataset using SMOTE\n",
        "smote = SMOTE(random_state=42)\n",
        "X, y = smote.fit_resample(X, y)\n",
        "\n",
        "# Verify the balanced dataset distribution\n",
        "print(\"Balanced Class Distribution:\", np.bincount(y))"
      ],
      "metadata": {
        "colab": {
          "base_uri": "https://localhost:8080/"
        },
        "id": "Sb2mBvlBCI-a",
        "outputId": "63b1c40a-300a-4048-fbb2-647b37bf0f57"
      },
      "execution_count": null,
      "outputs": [
        {
          "output_type": "stream",
          "name": "stdout",
          "text": [
            "Balanced Class Distribution: [340066 340066 340066 340066 340066]\n"
          ]
        }
      ]
    },
    {
      "cell_type": "markdown",
      "source": [
        "**Split data into 80% Training and 20% Testing**"
      ],
      "metadata": {
        "id": "BhCXVR9ctJRp"
      }
    },
    {
      "cell_type": "code",
      "source": [
        "# Train-test split\n",
        "X_train, X_test, y_train, y_test = train_test_split(X, y, test_size=0.2, random_state=101, stratify=y)"
      ],
      "metadata": {
        "id": "ZrU3_udJCI7u"
      },
      "execution_count": null,
      "outputs": []
    },
    {
      "cell_type": "markdown",
      "source": [
        "**The hybrid MLP + LSTM model**"
      ],
      "metadata": {
        "id": "Nf4TIdrUtA9J"
      }
    },
    {
      "cell_type": "code",
      "source": [
        "from keras.models import Sequential\n",
        "from keras.layers import Dense, Dropout, LSTM, Flatten, TimeDistributed, InputLayer\n",
        "from keras.regularizers import l2\n",
        "from keras.utils import to_categorical\n",
        "from keras.callbacks import EarlyStopping\n",
        "\n",
        "# Convert target to categorical (one-hot encoding)\n",
        "y_train = to_categorical(y_train)\n",
        "y_test = to_categorical(y_test)\n",
        "\n",
        "# Reshape the input data for LSTM compatibility\n",
        "# Assuming the input features need to be reshaped into a 3D array: (samples, timesteps, features)\n",
        "X_train = X_train.reshape((X_train.shape[0], X_train.shape[1], 1))\n",
        "X_test = X_test.reshape((X_test.shape[0], X_test.shape[1], 1))\n",
        "\n",
        "# Define the hybrid MLP + LSTM model with regularization\n",
        "def build_hybrid_model(input_shape, num_classes):\n",
        "    model = Sequential()\n",
        "\n",
        "    # Input Layer\n",
        "    model.add(InputLayer(input_shape=input_shape))\n",
        "\n",
        "    # LSTM Layer\n",
        "    model.add(LSTM(64, activation='tanh', return_sequences=False, kernel_regularizer=l2(0.01)))\n",
        "    model.add(Dropout(0.3))  # Dropout for regularization\n",
        "\n",
        "    # MLP Layers\n",
        "    model.add(Dense(128, activation='relu', kernel_regularizer=l2(0.01)))\n",
        "    model.add(Dropout(0.3))  # Dropout for regularization\n",
        "    model.add(Dense(64, activation='relu', kernel_regularizer=l2(0.01)))\n",
        "    model.add(Dropout(0.3))  # Dropout for regularization\n",
        "\n",
        "    # Output Layer\n",
        "    model.add(Dense(num_classes, activation='softmax'))\n",
        "\n",
        "    return model\n",
        "\n",
        "# Build and compile the model\n",
        "input_shape = (X_train.shape[1], X_train.shape[2])  # Adjusted for LSTM input format\n",
        "num_classes = y_train.shape[1]\n",
        "model = build_hybrid_model(input_shape, num_classes)\n",
        "model.compile(\n",
        "    optimizer='adam',\n",
        "    loss='categorical_crossentropy',\n",
        "    metrics=['accuracy']\n",
        ")\n",
        "\n",
        "# Train the model with early stopping\n",
        "from keras.callbacks import EarlyStopping\n",
        "\n",
        "early_stopping = EarlyStopping(monitor='val_loss', patience=10, restore_best_weights=True)\n",
        "\n",
        "history = model.fit(\n",
        "    X_train, y_train,\n",
        "    validation_data=(X_test, y_test),\n",
        "    epochs=50,\n",
        "    batch_size=32,\n",
        "    callbacks=[early_stopping],\n",
        "    verbose=1\n",
        ")\n",
        "\n",
        "# Evaluate the model\n",
        "y_pred = model.predict(X_test)\n",
        "y_pred_classes = np.argmax(y_pred, axis=1)\n",
        "y_true_classes = np.argmax(y_test, axis=1)"
      ],
      "metadata": {
        "colab": {
          "base_uri": "https://localhost:8080/"
        },
        "id": "hsa0-DfQCVcP",
        "outputId": "06155314-445c-4305-b382-6c8da36da417"
      },
      "execution_count": null,
      "outputs": [
        {
          "output_type": "stream",
          "name": "stderr",
          "text": [
            "/usr/local/lib/python3.11/dist-packages/keras/src/layers/core/input_layer.py:26: UserWarning: Argument `input_shape` is deprecated. Use `shape` instead.\n",
            "  warnings.warn(\n"
          ]
        },
        {
          "output_type": "stream",
          "name": "stdout",
          "text": [
            "Epoch 1/50\n",
            "\u001b[1m42509/42509\u001b[0m \u001b[32m━━━━━━━━━━━━━━━━━━━━\u001b[0m\u001b[37m\u001b[0m \u001b[1m426s\u001b[0m 10ms/step - accuracy: 0.8747 - loss: 0.3671 - val_accuracy: 0.9057 - val_loss: 0.2249\n",
            "Epoch 2/50\n",
            "\u001b[1m42509/42509\u001b[0m \u001b[32m━━━━━━━━━━━━━━━━━━━━\u001b[0m\u001b[37m\u001b[0m \u001b[1m425s\u001b[0m 10ms/step - accuracy: 0.9037 - loss: 0.2275 - val_accuracy: 0.9057 - val_loss: 0.2160\n",
            "Epoch 3/50\n",
            "\u001b[1m42509/42509\u001b[0m \u001b[32m━━━━━━━━━━━━━━━━━━━━\u001b[0m\u001b[37m\u001b[0m \u001b[1m425s\u001b[0m 10ms/step - accuracy: 0.9046 - loss: 0.2200 - val_accuracy: 0.9070 - val_loss: 0.2047\n",
            "Epoch 4/50\n",
            "\u001b[1m42509/42509\u001b[0m \u001b[32m━━━━━━━━━━━━━━━━━━━━\u001b[0m\u001b[37m\u001b[0m \u001b[1m425s\u001b[0m 10ms/step - accuracy: 0.9046 - loss: 0.2167 - val_accuracy: 0.9066 - val_loss: 0.2083\n",
            "Epoch 5/50\n",
            "\u001b[1m42509/42509\u001b[0m \u001b[32m━━━━━━━━━━━━━━━━━━━━\u001b[0m\u001b[37m\u001b[0m \u001b[1m426s\u001b[0m 10ms/step - accuracy: 0.9049 - loss: 0.2148 - val_accuracy: 0.9067 - val_loss: 0.2074\n",
            "Epoch 6/50\n",
            "\u001b[1m42509/42509\u001b[0m \u001b[32m━━━━━━━━━━━━━━━━━━━━\u001b[0m\u001b[37m\u001b[0m \u001b[1m425s\u001b[0m 10ms/step - accuracy: 0.9053 - loss: 0.2123 - val_accuracy: 0.9071 - val_loss: 0.2012\n",
            "Epoch 7/50\n",
            "\u001b[1m42509/42509\u001b[0m \u001b[32m━━━━━━━━━━━━━━━━━━━━\u001b[0m\u001b[37m\u001b[0m \u001b[1m426s\u001b[0m 10ms/step - accuracy: 0.9057 - loss: 0.2110 - val_accuracy: 0.9070 - val_loss: 0.2018\n",
            "Epoch 8/50\n",
            "\u001b[1m42509/42509\u001b[0m \u001b[32m━━━━━━━━━━━━━━━━━━━━\u001b[0m\u001b[37m\u001b[0m \u001b[1m425s\u001b[0m 10ms/step - accuracy: 0.9054 - loss: 0.2102 - val_accuracy: 0.9073 - val_loss: 0.1996\n",
            "Epoch 9/50\n",
            "\u001b[1m42509/42509\u001b[0m \u001b[32m━━━━━━━━━━━━━━━━━━━━\u001b[0m\u001b[37m\u001b[0m \u001b[1m424s\u001b[0m 10ms/step - accuracy: 0.9053 - loss: 0.2090 - val_accuracy: 0.9073 - val_loss: 0.2013\n",
            "Epoch 10/50\n",
            "\u001b[1m42509/42509\u001b[0m \u001b[32m━━━━━━━━━━━━━━━━━━━━\u001b[0m\u001b[37m\u001b[0m \u001b[1m426s\u001b[0m 10ms/step - accuracy: 0.9052 - loss: 0.2094 - val_accuracy: 0.9067 - val_loss: 0.2116\n",
            "Epoch 11/50\n",
            "\u001b[1m42509/42509\u001b[0m \u001b[32m━━━━━━━━━━━━━━━━━━━━\u001b[0m\u001b[37m\u001b[0m \u001b[1m424s\u001b[0m 10ms/step - accuracy: 0.9052 - loss: 0.2108 - val_accuracy: 0.9076 - val_loss: 0.1928\n",
            "Epoch 12/50\n",
            "\u001b[1m42509/42509\u001b[0m \u001b[32m━━━━━━━━━━━━━━━━━━━━\u001b[0m\u001b[37m\u001b[0m \u001b[1m422s\u001b[0m 10ms/step - accuracy: 0.9154 - loss: 0.1967 - val_accuracy: 0.9431 - val_loss: 0.1548\n",
            "Epoch 13/50\n",
            "\u001b[1m42509/42509\u001b[0m \u001b[32m━━━━━━━━━━━━━━━━━━━━\u001b[0m\u001b[37m\u001b[0m \u001b[1m426s\u001b[0m 10ms/step - accuracy: 0.9390 - loss: 0.1670 - val_accuracy: 0.9440 - val_loss: 0.1474\n",
            "Epoch 14/50\n",
            "\u001b[1m42509/42509\u001b[0m \u001b[32m━━━━━━━━━━━━━━━━━━━━\u001b[0m\u001b[37m\u001b[0m \u001b[1m424s\u001b[0m 10ms/step - accuracy: 0.9426 - loss: 0.1607 - val_accuracy: 0.9418 - val_loss: 0.1522\n",
            "Epoch 15/50\n",
            "\u001b[1m42509/42509\u001b[0m \u001b[32m━━━━━━━━━━━━━━━━━━━━\u001b[0m\u001b[37m\u001b[0m \u001b[1m426s\u001b[0m 10ms/step - accuracy: 0.9443 - loss: 0.1580 - val_accuracy: 0.9505 - val_loss: 0.1439\n",
            "Epoch 16/50\n",
            "\u001b[1m42509/42509\u001b[0m \u001b[32m━━━━━━━━━━━━━━━━━━━━\u001b[0m\u001b[37m\u001b[0m \u001b[1m423s\u001b[0m 10ms/step - accuracy: 0.9456 - loss: 0.1556 - val_accuracy: 0.9440 - val_loss: 0.1447\n",
            "Epoch 17/50\n",
            "\u001b[1m42509/42509\u001b[0m \u001b[32m━━━━━━━━━━━━━━━━━━━━\u001b[0m\u001b[37m\u001b[0m \u001b[1m424s\u001b[0m 10ms/step - accuracy: 0.9480 - loss: 0.1506 - val_accuracy: 0.9505 - val_loss: 0.1447\n",
            "Epoch 18/50\n",
            "\u001b[1m42509/42509\u001b[0m \u001b[32m━━━━━━━━━━━━━━━━━━━━\u001b[0m\u001b[37m\u001b[0m \u001b[1m424s\u001b[0m 10ms/step - accuracy: 0.9494 - loss: 0.1486 - val_accuracy: 0.9495 - val_loss: 0.1372\n",
            "Epoch 19/50\n",
            "\u001b[1m42509/42509\u001b[0m \u001b[32m━━━━━━━━━━━━━━━━━━━━\u001b[0m\u001b[37m\u001b[0m \u001b[1m422s\u001b[0m 10ms/step - accuracy: 0.9503 - loss: 0.1478 - val_accuracy: 0.9566 - val_loss: 0.1289\n",
            "Epoch 20/50\n",
            "\u001b[1m42509/42509\u001b[0m \u001b[32m━━━━━━━━━━━━━━━━━━━━\u001b[0m\u001b[37m\u001b[0m \u001b[1m422s\u001b[0m 10ms/step - accuracy: 0.9507 - loss: 0.1476 - val_accuracy: 0.9458 - val_loss: 0.1564\n",
            "Epoch 21/50\n",
            "\u001b[1m42509/42509\u001b[0m \u001b[32m━━━━━━━━━━━━━━━━━━━━\u001b[0m\u001b[37m\u001b[0m \u001b[1m424s\u001b[0m 10ms/step - accuracy: 0.9505 - loss: 0.1479 - val_accuracy: 0.9458 - val_loss: 0.1520\n",
            "Epoch 22/50\n",
            "\u001b[1m42509/42509\u001b[0m \u001b[32m━━━━━━━━━━━━━━━━━━━━\u001b[0m\u001b[37m\u001b[0m \u001b[1m426s\u001b[0m 10ms/step - accuracy: 0.9508 - loss: 0.1448 - val_accuracy: 0.9572 - val_loss: 0.1261\n",
            "Epoch 23/50\n",
            "\u001b[1m42509/42509\u001b[0m \u001b[32m━━━━━━━━━━━━━━━━━━━━\u001b[0m\u001b[37m\u001b[0m \u001b[1m422s\u001b[0m 10ms/step - accuracy: 0.9530 - loss: 0.1408 - val_accuracy: 0.9572 - val_loss: 0.1243\n",
            "Epoch 24/50\n",
            "\u001b[1m42509/42509\u001b[0m \u001b[32m━━━━━━━━━━━━━━━━━━━━\u001b[0m\u001b[37m\u001b[0m \u001b[1m421s\u001b[0m 10ms/step - accuracy: 0.9538 - loss: 0.1408 - val_accuracy: 0.9571 - val_loss: 0.1282\n",
            "Epoch 25/50\n",
            "\u001b[1m42509/42509\u001b[0m \u001b[32m━━━━━━━━━━━━━━━━━━━━\u001b[0m\u001b[37m\u001b[0m \u001b[1m423s\u001b[0m 10ms/step - accuracy: 0.9552 - loss: 0.1376 - val_accuracy: 0.9553 - val_loss: 0.1338\n",
            "Epoch 26/50\n",
            "\u001b[1m42509/42509\u001b[0m \u001b[32m━━━━━━━━━━━━━━━━━━━━\u001b[0m\u001b[37m\u001b[0m \u001b[1m422s\u001b[0m 10ms/step - accuracy: 0.9561 - loss: 0.1371 - val_accuracy: 0.9479 - val_loss: 0.1468\n",
            "Epoch 27/50\n",
            "\u001b[1m42509/42509\u001b[0m \u001b[32m━━━━━━━━━━━━━━━━━━━━\u001b[0m\u001b[37m\u001b[0m \u001b[1m423s\u001b[0m 10ms/step - accuracy: 0.9553 - loss: 0.1370 - val_accuracy: 0.9519 - val_loss: 0.1356\n",
            "Epoch 28/50\n",
            "\u001b[1m42509/42509\u001b[0m \u001b[32m━━━━━━━━━━━━━━━━━━━━\u001b[0m\u001b[37m\u001b[0m \u001b[1m424s\u001b[0m 10ms/step - accuracy: 0.9553 - loss: 0.1374 - val_accuracy: 0.9639 - val_loss: 0.1141\n",
            "Epoch 29/50\n",
            "\u001b[1m42509/42509\u001b[0m \u001b[32m━━━━━━━━━━━━━━━━━━━━\u001b[0m\u001b[37m\u001b[0m \u001b[1m424s\u001b[0m 10ms/step - accuracy: 0.9568 - loss: 0.1355 - val_accuracy: 0.9621 - val_loss: 0.1182\n",
            "Epoch 30/50\n",
            "\u001b[1m42509/42509\u001b[0m \u001b[32m━━━━━━━━━━━━━━━━━━━━\u001b[0m\u001b[37m\u001b[0m \u001b[1m426s\u001b[0m 10ms/step - accuracy: 0.9561 - loss: 0.1357 - val_accuracy: 0.9553 - val_loss: 0.1394\n",
            "Epoch 31/50\n",
            "\u001b[1m42509/42509\u001b[0m \u001b[32m━━━━━━━━━━━━━━━━━━━━\u001b[0m\u001b[37m\u001b[0m \u001b[1m427s\u001b[0m 10ms/step - accuracy: 0.9578 - loss: 0.1335 - val_accuracy: 0.9562 - val_loss: 0.1465\n",
            "Epoch 32/50\n",
            "\u001b[1m42509/42509\u001b[0m \u001b[32m━━━━━━━━━━━━━━━━━━━━\u001b[0m\u001b[37m\u001b[0m \u001b[1m426s\u001b[0m 10ms/step - accuracy: 0.9565 - loss: 0.1372 - val_accuracy: 0.9644 - val_loss: 0.1124\n",
            "Epoch 33/50\n",
            "\u001b[1m42509/42509\u001b[0m \u001b[32m━━━━━━━━━━━━━━━━━━━━\u001b[0m\u001b[37m\u001b[0m \u001b[1m425s\u001b[0m 10ms/step - accuracy: 0.9570 - loss: 0.1342 - val_accuracy: 0.9556 - val_loss: 0.1314\n",
            "Epoch 34/50\n",
            "\u001b[1m42509/42509\u001b[0m \u001b[32m━━━━━━━━━━━━━━━━━━━━\u001b[0m\u001b[37m\u001b[0m \u001b[1m425s\u001b[0m 10ms/step - accuracy: 0.9566 - loss: 0.1359 - val_accuracy: 0.9640 - val_loss: 0.1222\n",
            "Epoch 35/50\n",
            "\u001b[1m42509/42509\u001b[0m \u001b[32m━━━━━━━━━━━━━━━━━━━━\u001b[0m\u001b[37m\u001b[0m \u001b[1m424s\u001b[0m 10ms/step - accuracy: 0.9568 - loss: 0.1374 - val_accuracy: 0.9572 - val_loss: 0.1258\n",
            "Epoch 36/50\n",
            "\u001b[1m42509/42509\u001b[0m \u001b[32m━━━━━━━━━━━━━━━━━━━━\u001b[0m\u001b[37m\u001b[0m \u001b[1m423s\u001b[0m 10ms/step - accuracy: 0.9501 - loss: 0.1534 - val_accuracy: 0.9345 - val_loss: 0.2323\n",
            "Epoch 37/50\n",
            "\u001b[1m42509/42509\u001b[0m \u001b[32m━━━━━━━━━━━━━━━━━━━━\u001b[0m\u001b[37m\u001b[0m \u001b[1m423s\u001b[0m 10ms/step - accuracy: 0.9388 - loss: 0.2039 - val_accuracy: 0.9536 - val_loss: 0.1384\n",
            "Epoch 38/50\n",
            "\u001b[1m42509/42509\u001b[0m \u001b[32m━━━━━━━━━━━━━━━━━━━━\u001b[0m\u001b[37m\u001b[0m \u001b[1m426s\u001b[0m 10ms/step - accuracy: 0.9539 - loss: 0.1419 - val_accuracy: 0.9563 - val_loss: 0.1362\n",
            "Epoch 39/50\n",
            "\u001b[1m42509/42509\u001b[0m \u001b[32m━━━━━━━━━━━━━━━━━━━━\u001b[0m\u001b[37m\u001b[0m \u001b[1m429s\u001b[0m 10ms/step - accuracy: 0.9553 - loss: 0.1388 - val_accuracy: 0.9567 - val_loss: 0.1295\n",
            "Epoch 40/50\n",
            "\u001b[1m42509/42509\u001b[0m \u001b[32m━━━━━━━━━━━━━━━━━━━━\u001b[0m\u001b[37m\u001b[0m \u001b[1m426s\u001b[0m 10ms/step - accuracy: 0.9563 - loss: 0.1378 - val_accuracy: 0.9545 - val_loss: 0.1373\n",
            "Epoch 41/50\n",
            "\u001b[1m42509/42509\u001b[0m \u001b[32m━━━━━━━━━━━━━━━━━━━━\u001b[0m\u001b[37m\u001b[0m \u001b[1m426s\u001b[0m 10ms/step - accuracy: 0.9568 - loss: 0.1370 - val_accuracy: 0.9653 - val_loss: 0.1086\n",
            "Epoch 42/50\n",
            "\u001b[1m42509/42509\u001b[0m \u001b[32m━━━━━━━━━━━━━━━━━━━━\u001b[0m\u001b[37m\u001b[0m \u001b[1m427s\u001b[0m 10ms/step - accuracy: 0.9574 - loss: 0.1357 - val_accuracy: 0.9649 - val_loss: 0.1142\n",
            "Epoch 43/50\n",
            "\u001b[1m42509/42509\u001b[0m \u001b[32m━━━━━━━━━━━━━━━━━━━━\u001b[0m\u001b[37m\u001b[0m \u001b[1m426s\u001b[0m 10ms/step - accuracy: 0.9578 - loss: 0.1390 - val_accuracy: 0.9628 - val_loss: 0.1205\n",
            "Epoch 44/50\n",
            "\u001b[1m42509/42509\u001b[0m \u001b[32m━━━━━━━━━━━━━━━━━━━━\u001b[0m\u001b[37m\u001b[0m \u001b[1m425s\u001b[0m 10ms/step - accuracy: 0.9589 - loss: 0.1327 - val_accuracy: 0.9586 - val_loss: 0.1392\n",
            "Epoch 45/50\n",
            "\u001b[1m42509/42509\u001b[0m \u001b[32m━━━━━━━━━━━━━━━━━━━━\u001b[0m\u001b[37m\u001b[0m \u001b[1m426s\u001b[0m 10ms/step - accuracy: 0.9559 - loss: 0.1404 - val_accuracy: 0.9625 - val_loss: 0.1149\n",
            "Epoch 46/50\n",
            "\u001b[1m42509/42509\u001b[0m \u001b[32m━━━━━━━━━━━━━━━━━━━━\u001b[0m\u001b[37m\u001b[0m \u001b[1m426s\u001b[0m 10ms/step - accuracy: 0.9584 - loss: 0.1347 - val_accuracy: 0.9326 - val_loss: 0.2238\n",
            "Epoch 47/50\n",
            "\u001b[1m42509/42509\u001b[0m \u001b[32m━━━━━━━━━━━━━━━━━━━━\u001b[0m\u001b[37m\u001b[0m \u001b[1m450s\u001b[0m 11ms/step - accuracy: 0.9425 - loss: 0.1851 - val_accuracy: 0.9588 - val_loss: 0.1197\n",
            "Epoch 48/50\n",
            "\u001b[1m42509/42509\u001b[0m \u001b[32m━━━━━━━━━━━━━━━━━━━━\u001b[0m\u001b[37m\u001b[0m \u001b[1m436s\u001b[0m 10ms/step - accuracy: 0.9303 - loss: 0.2296 - val_accuracy: 0.9491 - val_loss: 0.1579\n",
            "Epoch 49/50\n",
            "\u001b[1m42509/42509\u001b[0m \u001b[32m━━━━━━━━━━━━━━━━━━━━\u001b[0m\u001b[37m\u001b[0m \u001b[1m434s\u001b[0m 10ms/step - accuracy: 0.9507 - loss: 0.1616 - val_accuracy: 0.9627 - val_loss: 0.1209\n",
            "Epoch 50/50\n",
            "\u001b[1m42509/42509\u001b[0m \u001b[32m━━━━━━━━━━━━━━━━━━━━\u001b[0m\u001b[37m\u001b[0m \u001b[1m432s\u001b[0m 10ms/step - accuracy: 0.9565 - loss: 0.1424 - val_accuracy: 0.9333 - val_loss: 0.2263\n",
            "\u001b[1m10628/10628\u001b[0m \u001b[32m━━━━━━━━━━━━━━━━━━━━\u001b[0m\u001b[37m\u001b[0m \u001b[1m44s\u001b[0m 4ms/step\n"
          ]
        }
      ]
    },
    {
      "cell_type": "code",
      "source": [
        "from sklearn.metrics import accuracy_score, classification_report, confusion_matrix, precision_score, recall_score, f1_score\n",
        "# Metrics\n",
        "accuracy = accuracy_score(y_true_classes, y_pred_classes)\n",
        "precision = precision_score(y_true_classes, y_pred_classes, average='weighted')\n",
        "recall = recall_score(y_true_classes, y_pred_classes, average='weighted')\n",
        "f1 = f1_score(y_true_classes, y_pred_classes, average='weighted')\n",
        "\n",
        "print(\"Accuracy: {:.10f}\".format(accuracy))\n",
        "print(\"Precision: {:.10f}\".format(precision))\n",
        "print(\"Recall: {:.10f}\".format(recall))\n",
        "print(\"F1-Score: {:.10f}\".format(f1))"
      ],
      "metadata": {
        "colab": {
          "base_uri": "https://localhost:8080/"
        },
        "id": "z-V2dsrbCVY3",
        "outputId": "7268b4b5-b5e5-4bd9-9f3e-aeb14229f7b1"
      },
      "execution_count": null,
      "outputs": [
        {
          "output_type": "stream",
          "name": "stdout",
          "text": [
            "Accuracy: 0.9652538037\n",
            "Precision: 0.9672709840\n",
            "Recall: 0.9652538037\n",
            "F1-Score: 0.9652025150\n"
          ]
        }
      ]
    },
    {
      "cell_type": "code",
      "source": [
        "# Evaluate the model\n",
        "y_pred = model.predict(X_test)\n",
        "y_pred_classes = np.argmax(y_pred, axis=1)\n",
        "y_true_classes = np.argmax(y_test, axis=1)\n",
        "\n",
        "# Metrics\n",
        "accuracy = accuracy_score(y_true_classes, y_pred_classes)\n",
        "precision = precision_score(y_true_classes, y_pred_classes, average='weighted')\n",
        "recall = recall_score(y_true_classes, y_pred_classes, average='weighted')\n",
        "f1 = f1_score(y_true_classes, y_pred_classes, average='weighted')\n",
        "\n",
        "print(\"Accuracy: {:.10f}\".format(accuracy))\n",
        "print(\"Precision: {:.10f}\".format(precision))\n",
        "print(\"Recall: {:.10f}\".format(recall))\n",
        "print(\"F1-Score: {:.10f}\".format(f1))"
      ],
      "metadata": {
        "colab": {
          "base_uri": "https://localhost:8080/"
        },
        "id": "nie6CiXoCVWL",
        "outputId": "d87b018c-276c-4392-97a3-6f77d9e4f52f"
      },
      "execution_count": null,
      "outputs": [
        {
          "output_type": "stream",
          "name": "stdout",
          "text": [
            "\u001b[1m10628/10628\u001b[0m \u001b[32m━━━━━━━━━━━━━━━━━━━━\u001b[0m\u001b[37m\u001b[0m \u001b[1m43s\u001b[0m 4ms/step\n",
            "Accuracy: 0.9652538037\n",
            "Precision: 0.9672709840\n",
            "Recall: 0.9652538037\n",
            "F1-Score: 0.9652025150\n"
          ]
        }
      ]
    },
    {
      "cell_type": "code",
      "source": [
        "# Confusion Matrix\n",
        "conf_matrix = confusion_matrix(y_true_classes, y_pred_classes)\n",
        "print(\"Confusion Matrix:\\n\", conf_matrix)"
      ],
      "metadata": {
        "colab": {
          "base_uri": "https://localhost:8080/"
        },
        "id": "mIbcr9xV4DvU",
        "outputId": "c6c47931-8e78-44b4-db70-a2a988d494eb"
      },
      "execution_count": null,
      "outputs": [
        {
          "output_type": "stream",
          "name": "stdout",
          "text": [
            "Confusion Matrix:\n",
            " [[67812    71     0    54    76]\n",
            " [   15 61423  6575     0     0]\n",
            " [    0   735 67276     2     0]\n",
            " [ 4284     0     0 63730     0]\n",
            " [    4     0     0     0 68009]]\n"
          ]
        }
      ]
    },
    {
      "cell_type": "code",
      "source": [
        "# Detection Rate (Recall for each class)\n",
        "print(\"Detection Rates per Class:\", recall_score(y_true_classes, y_pred_classes, average=None))"
      ],
      "metadata": {
        "colab": {
          "base_uri": "https://localhost:8080/"
        },
        "id": "0V_Jzg4l4FRV",
        "outputId": "aac55cae-5f49-4386-9d4f-05dd12a7d867"
      },
      "execution_count": null,
      "outputs": [
        {
          "output_type": "stream",
          "name": "stdout",
          "text": [
            "Detection Rates per Class: [0.99704468 0.90310676 0.98916384 0.93701297 0.99994119]\n"
          ]
        }
      ]
    },
    {
      "cell_type": "code",
      "source": [
        "from sklearn.metrics import accuracy_score, classification_report, confusion_matrix, precision_score, recall_score, f1_score, roc_auc_score\n",
        "# Import roc_curve\n",
        "from sklearn.metrics import roc_curve # This line imports the roc_curve function\n",
        "from sklearn.metrics import auc # This line imports the auc function\n",
        "import matplotlib.pyplot as plt # Import the pyplot module from matplotlib as plt\n",
        "\n",
        "# After training, calculate ROC curves and AUC for each class\n",
        "n_classes = y_test.shape[1]\n",
        "fpr = dict()\n",
        "tpr = dict()\n",
        "roc_auc = dict()\n",
        "\n",
        "for i in range(n_classes):\n",
        "    fpr[i], tpr[i], _ = roc_curve(y_test[:, i], y_pred[:, i])\n",
        "    roc_auc[i] = auc(fpr[i], tpr[i])\n",
        "\n",
        "# Plot ROC curves\n",
        "plt.figure(figsize=(10, 8))\n",
        "colors = plt.cm.get_cmap('Set1')(np.linspace(0, 1, n_classes))\n",
        "\n",
        "for i, color in zip(range(n_classes), colors):\n",
        "    plt.plot(fpr[i], tpr[i], color=color, lw=2,\n",
        "             label='ROC curve of class {0} (AUC = {1:0.10f})'\n",
        "             ''.format(i, roc_auc[i]))\n",
        "\n",
        "plt.plot([0, 1], [0, 1], 'k--', lw=2)\n",
        "plt.xlim([0.0, 1.0])\n",
        "plt.ylim([0.0, 1.05])\n",
        "plt.xlabel('False Positive Rate')\n",
        "plt.ylabel('True Positive Rate')\n",
        "plt.title('Receiver Operating Characteristic (ROC) Curves')\n",
        "plt.legend(loc=\"lower right\")\n",
        "\n",
        "# Save the plot as a high-resolution image\n",
        "plt.savefig('roc_curves.png', dpi=300, bbox_inches='tight')\n",
        "plt.close()\n",
        "\n",
        "# Calculate and print AUC scores for each class\n",
        "print(\"\\nAUC Scores for each class:\")\n",
        "for i in range(n_classes):\n",
        "    print(f\"Class {i}: {roc_auc[i]:.10f}\")\n",
        "\n",
        "# Calculate macro-average AUC\n",
        "macro_roc_auc = np.mean(list(roc_auc.values()))\n",
        "print(f\"\\nMacro-average AUC: {macro_roc_auc:.10f}\")"
      ],
      "metadata": {
        "colab": {
          "base_uri": "https://localhost:8080/"
        },
        "id": "ZdNnZ--5n87t",
        "outputId": "0d5c342e-f304-483c-a5ef-2998ec95dfca"
      },
      "execution_count": null,
      "outputs": [
        {
          "output_type": "stream",
          "name": "stderr",
          "text": [
            "<ipython-input-15-c5170017384f>:19: MatplotlibDeprecationWarning: The get_cmap function was deprecated in Matplotlib 3.7 and will be removed in 3.11. Use ``matplotlib.colormaps[name]`` or ``matplotlib.colormaps.get_cmap()`` or ``pyplot.get_cmap()`` instead.\n",
            "  colors = plt.cm.get_cmap('Set1')(np.linspace(0, 1, n_classes))\n"
          ]
        },
        {
          "output_type": "stream",
          "name": "stdout",
          "text": [
            "\n",
            "AUC Scores for each class:\n",
            "Class 0: 0.9963299142\n",
            "Class 1: 0.9971987554\n",
            "Class 2: 0.9972645515\n",
            "Class 3: 0.9967251951\n",
            "Class 4: 0.9998749685\n",
            "\n",
            "Macro-average AUC: 0.9974786769\n"
          ]
        }
      ]
    },
    {
      "cell_type": "code",
      "source": [
        "# Plot Training and Validation Loss\n",
        "plt.figure()\n",
        "plt.plot(history.history['loss'], label='Training Loss')\n",
        "plt.plot(history.history['val_loss'], label='Validation Loss')\n",
        "plt.title('Training and Validation Loss')\n",
        "plt.xlabel('Epochs')\n",
        "plt.ylabel('Loss')\n",
        "plt.ylim(0, 1)  # Set y-axis scale to 1\n",
        "plt.legend()\n",
        "plt.show()"
      ],
      "metadata": {
        "colab": {
          "base_uri": "https://localhost:8080/",
          "height": 472
        },
        "id": "-rq7gkS9XBlz",
        "outputId": "14daaef9-0be9-4386-9669-fe371f57478b"
      },
      "execution_count": null,
      "outputs": [
        {
          "output_type": "display_data",
          "data": {
            "text/plain": [
              "<Figure size 640x480 with 1 Axes>"
            ],
            "image/png": "[encoded data removed]"
          },
          "metadata": {}
        }
      ]
    },
    {
      "cell_type": "code",
      "source": [
        "import seaborn as sns\n",
        "import matplotlib.pyplot as plt\n",
        "import numpy as np\n",
        "import itertools\n",
        "import seaborn as sns\n",
        "from sklearn import metrics\n",
        "import matplotlib.pyplot as plt\n",
        "from sklearn.metrics import confusion_matrix\n",
        "def conf_mat(d1,d2):\n",
        "  cm = confusion_matrix(d1, d2)\n",
        "  #plt.figure(figsize=(6,5.5))\n",
        "  plt.figure(figsize=(8,6.5))\n",
        "  #ax = sns.heatmap(cm,  fmt='2', annot=True, cmap='tab20c')\n",
        "  ax = sns.heatmap(cm, annot=True, fmt=\".0f\", cmap=\"PuBu\",\n",
        "                 vmin=0, vmax=35000, center=0, square=True, linewidths=1.5)\n",
        "  sns.set(font_scale=1)\n",
        "  ax.set_xlabel('\\nPredicted Values')\n",
        "  ax.set_ylabel('Actual Values\\n');\n",
        "  ax.xaxis.set_ticklabels(['Normal','Blackhole','Flooding','Grayhole','TDMA'])\n",
        "  ax.yaxis.set_ticklabels(['Normal','Blackhole','Flooding','Grayhole','TDMA'])\n",
        "  ##plt.xticks(rotation=45)  # Add this line to rotate the x-axis labels by 45 degrees\n",
        "  ##plt.yticks(rotation=45)  # Add this line to rotate the x-axis labels by 45 degrees\n",
        "  plt.tight_layout()\n",
        "  # plt.savefig(\"F1.eps\", format = 'eps')\n",
        "  plt.show()"
      ],
      "metadata": {
        "id": "NELM7AEs4OUZ"
      },
      "execution_count": null,
      "outputs": []
    },
    {
      "cell_type": "code",
      "source": [
        "print(\"Confusion Matrix of Hybrid RF-LSTM Model\")\n",
        "#conf_mat(np.argmax(y_test, axis=1), test_rf_lstm_predictions)\n",
        "conf_matrix = confusion_matrix(y_true_classes, y_pred_classes)\n",
        "plt.figure(figsize=(8,6.5))\n",
        "# Use plt.xticks to set custom tick labels\n",
        "# Using get_xticklabels() to access the current labels and then setting rotation.\n",
        "plt.xticks(ticks=np.arange(5), labels=['Normal','Blackhole','Flooding','Grayhole','TDMA'], rotation=45)\n",
        "plt.yticks(ticks=np.arange(5), labels=['Normal','Blackhole','Flooding','Grayhole','TDMA'], rotation=45)\n",
        "sns.heatmap(conf_matrix, annot=True, fmt='2', cmap='bone',xticklabels=['Normal','Blackhole','Flooding','Grayhole','TDMA'], yticklabels=['Normal','Blackhole','Flooding','Grayhole','TDMA'])\n",
        "sns.set(font_scale=1)\n",
        "plt.show() # Display the heatmap"
      ],
      "metadata": {
        "colab": {
          "base_uri": "https://localhost:8080/",
          "height": 621
        },
        "id": "FWP1ifiK4Pwz",
        "outputId": "b797f056-0440-4591-fe7c-8f2239228705"
      },
      "execution_count": null,
      "outputs": [
        {
          "output_type": "stream",
          "name": "stdout",
          "text": [
            "Confusion Matrix of Hybrid RF-LSTM Model\n"
          ]
        },
        {
          "output_type": "display_data",
          "data": {
            "text/plain": [
              "<Figure size 800x650 with 2 Axes>"
            ],
            "image/png": "[encoded data removed]"
          },
          "metadata": {}
        }
      ]
    },
    {
      "cell_type": "code",
      "source": [
        "def conf_mat(d1,d2):\n",
        "  cm = confusion_matrix(y_true_classes, y_pred_classes)\n",
        "  #plt.figure(figsize=(6,5.5))\n",
        "  plt.figure(figsize=(8,6.5))\n",
        "  #ax = sns.heatmap(cm,  fmt='2', annot=True, cmap='tab20c')\n",
        "  ax = sns.heatmap(cm, annot=True, fmt=\".0f\", cmap=\"gist_yarg\",\n",
        "                 vmin=0, vmax=5600, center=0, square=True, linewidths=1.5)\n",
        "  sns.set(font_scale=0.85)\n",
        "  ax.set_xlabel('\\nPredicted Values')\n",
        "  ax.set_ylabel('Actual Values\\n');\n",
        "  ax.xaxis.set_ticklabels(['Normal','Blackhole','Flooding','Grayhole','TDMA'])\n",
        "  ax.yaxis.set_ticklabels(['Normal','Blackhole','Flooding','Grayhole','TDMA'])\n",
        "  plt.xticks(rotation=45)  # Add this line to rotate the x-axis labels by 45 degrees\n",
        "  plt.yticks(rotation=45)  # Add this line to rotate the x-axis labels by 45 degrees\n",
        "  plt.tight_layout()\n",
        "  # plt.savefig(\"F1.eps\", format = 'eps')\n",
        "  plt.show()"
      ],
      "metadata": {
        "id": "zaJk_g6Me4vK"
      },
      "execution_count": null,
      "outputs": []
    },
    {
      "cell_type": "code",
      "source": [
        "print(\"Confusion Matrix of Federated DL// MLP-LSTM Model\")\n",
        "conf_mat(y_true_classes, y_pred_classes)"
      ],
      "metadata": {
        "colab": {
          "base_uri": "https://localhost:8080/",
          "height": 675
        },
        "id": "vo4h4csDe3Hv",
        "outputId": "c65b8b28-5185-488a-beb3-0ec598d1bcc7"
      },
      "execution_count": null,
      "outputs": [
        {
          "output_type": "stream",
          "name": "stdout",
          "text": [
            "Confusion Matrix of Federated DL// MLP-LSTM Model\n"
          ]
        },
        {
          "output_type": "display_data",
          "data": {
            "text/plain": [
              "<Figure size 800x650 with 2 Axes>"
            ],
            "image/png": "[encoded data removed]"
          },
          "metadata": {}
        }
      ]
    },
    {
      "cell_type": "markdown",
      "source": [
        "**Federated Learning Simulation (FedAvg)**"
      ],
      "metadata": {
        "id": "VrhDYntPs6jU"
      }
    },
    {
      "cell_type": "code",
      "source": [
        "# Federated Learning Simulation (FedAvg)\n",
        "def federated_learning_simulation(X_train, y_train, X_test, y_test, num_clients=5):\n",
        "    # Split training data among clients\n",
        "    client_data = np.array_split(X_train, num_clients)\n",
        "    client_labels = np.array_split(y_train, num_clients)\n",
        "\n",
        "    # Initialize the global model\n",
        "    global_model = build_hybrid_model(input_shape, num_classes)\n",
        "    global_model.compile(optimizer='adam', loss='categorical_crossentropy', metrics=['accuracy'])  # Compile the global model\n",
        "    global_weights = global_model.get_weights()\n",
        "\n",
        "    for round in range(10):  # Simulate 10 communication rounds\n",
        "        local_weights = []\n",
        "\n",
        "        for i in range(num_clients):\n",
        "            local_model = build_hybrid_model(input_shape, num_classes)\n",
        "            local_model.set_weights(global_weights)\n",
        "            local_model.compile(optimizer='adam', loss='categorical_crossentropy', metrics=['accuracy'])  # Compile the local model\n",
        "\n",
        "            # Train the local model\n",
        "            local_model.fit(client_data[i], client_labels[i], epochs=1, batch_size=32, verbose=0)\n",
        "            local_weights.append(local_model.get_weights())\n",
        "\n",
        "        # Aggregate weights (FedAvg)\n",
        "        global_weights = [\n",
        "            np.mean([local_weights[j][i] for j in range(num_clients)], axis=0)\n",
        "            for i in range(len(global_weights))\n",
        "        ]\n",
        "        global_model.set_weights(global_weights)\n",
        "\n",
        "        # Evaluate the global model\n",
        "        loss, acc = global_model.evaluate(X_test, y_test, verbose=0)\n",
        "        print(f\"Round {round + 1}: Global Model Accuracy = {acc:.10f}\")\n",
        "\n",
        "# Call the federated learning simulation function\n",
        "federated_learning_simulation(X_train, y_train, X_test, y_test)"
      ],
      "metadata": {
        "colab": {
          "base_uri": "https://localhost:8080/"
        },
        "id": "4m0tmGDxjG7t",
        "outputId": "184c224c-b24f-4d8c-c7b9-7300f676a3ff"
      },
      "execution_count": null,
      "outputs": [
        {
          "metadata": {
            "tags": null
          },
          "name": "stderr",
          "output_type": "stream",
          "text": [
            "/usr/local/lib/python3.11/dist-packages/keras/src/layers/core/input_layer.py:26: UserWarning: Argument `input_shape` is deprecated. Use `shape` instead.\n",
            "  warnings.warn(\n"
          ]
        },
        {
          "output_type": "stream",
          "name": "stdout",
          "text": [
            "Round 1: Global Model Accuracy = 0.4765045643\n",
            "Round 2: Global Model Accuracy = 0.9052860141\n",
            "Round 3: Global Model Accuracy = 0.9059329629\n",
            "Round 4: Global Model Accuracy = 0.9062270522\n",
            "Round 5: Global Model Accuracy = 0.9064064026\n",
            "Round 6: Global Model Accuracy = 0.9061446786\n",
            "Round 7: Global Model Accuracy = 0.9065592885\n",
            "Round 8: Global Model Accuracy = 0.9064357877\n",
            "Round 9: Global Model Accuracy = 0.9056800604\n",
            "Round 10: Global Model Accuracy = 0.9061417580\n"
          ]
        }
      ]
    },
    {
      "cell_type": "code",
      "source": [
        "import time\n",
        "from sklearn.metrics import classification_report, confusion_matrix, accuracy_score, precision_score, recall_score, f1_score\n",
        "\n",
        "# Function to measure model performance\n",
        "def evaluate_global_model(global_model, X_test, y_test):\n",
        "    y_pred = global_model.predict(X_test)\n",
        "    y_pred_classes = np.argmax(y_pred, axis=1)\n",
        "    y_true_classes = np.argmax(y_test, axis=1)\n",
        "\n",
        "    # Compute performance metrics\n",
        "    accuracy = accuracy_score(y_true_classes, y_pred_classes)\n",
        "    precision = precision_score(y_true_classes, y_pred_classes, average='weighted')\n",
        "    recall = recall_score(y_true_classes, y_pred_classes, average='weighted')\n",
        "    f1 = f1_score(y_true_classes, y_pred_classes, average='weighted')\n",
        "    cm = confusion_matrix(y_true_classes, y_pred_classes)\n",
        "\n",
        "    print(\"\\nModel Performance Metrics:\")\n",
        "    print(f\"Accuracy: {accuracy:.10f}\")\n",
        "    print(f\"Precision: {precision:.10f}\")\n",
        "    print(f\"Recall: {recall:.10f}\")\n",
        "    print(f\"F1-Score: {f1:.10f}\")\n",
        "    print(\"\\nConfusion Matrix:\")\n",
        "    print(cm)\n",
        "\n",
        "    return accuracy, precision, recall, f1\n",
        "\n",
        "# Function to analyze communication overhead\n",
        "def analyze_communication_overhead(local_weights, global_weights):\n",
        "    communication_cost = 0\n",
        "    for i in range(len(local_weights)):\n",
        "        # Compute the size of weights transmitted between clients and server\n",
        "        communication_cost += sum(w.nbytes for w in local_weights[i])\n",
        "    communication_cost += sum(w.nbytes for w in global_weights)\n",
        "\n",
        "    print(f\"\\nCommunication Overhead: {communication_cost / (1024 ** 2):.2f} MB\")  # in megabytes\n",
        "\n",
        "# Federated Learning Simulation (FedAvg)\n",
        "def federated_learning_simulation(X_train, y_train, X_test, y_test, num_clients=5):\n",
        "    client_data = np.array_split(X_train, num_clients)\n",
        "    client_labels = np.array_split(y_train, num_clients)\n",
        "\n",
        "    global_model = build_hybrid_model(input_shape, num_classes)\n",
        "    global_model.compile(optimizer='adam', loss='categorical_crossentropy', metrics=['accuracy'])\n",
        "    global_weights = global_model.get_weights()\n",
        "\n",
        "    communication_overhead = []\n",
        "    latency_per_round = []\n",
        "\n",
        "    for round in range(10):  # Simulate 10 communication rounds\n",
        "        local_weights = []\n",
        "\n",
        "        start_time = time.time()  # Start measuring latency\n",
        "\n",
        "        for i in range(num_clients):\n",
        "            local_model = build_hybrid_model(input_shape, num_classes)\n",
        "            local_model.set_weights(global_weights)\n",
        "            local_model.compile(optimizer='adam', loss='categorical_crossentropy', metrics=['accuracy'])\n",
        "\n",
        "            local_model.fit(client_data[i], client_labels[i], epochs=1, batch_size=32, verbose=0)\n",
        "            local_weights.append(local_model.get_weights())\n",
        "\n",
        "        # Aggregate weights (FedAvg)\n",
        "        global_weights = [\n",
        "            np.mean([local_weights[j][i] for j in range(num_clients)], axis=0)\n",
        "            for i in range(len(global_weights))\n",
        "        ]\n",
        "        global_model.set_weights(global_weights)\n",
        "\n",
        "        # Measure latency\n",
        "        end_time = time.time()\n",
        "        latency = end_time - start_time\n",
        "        latency_per_round.append(latency)\n",
        "\n",
        "        # Measure communication overhead\n",
        "        analyze_communication_overhead(local_weights, global_weights)\n",
        "\n",
        "        # Evaluate the global model\n",
        "        loss, acc = global_model.evaluate(X_test, y_test, verbose=0)\n",
        "        print(f\"\\nRound {round + 1}: Global Model Accuracy = {acc:.10f}\")\n",
        "\n",
        "        # Evaluate model performance metrics\n",
        "        evaluate_global_model(global_model, X_test, y_test)\n",
        "\n",
        "    # Summarize overall latency\n",
        "    print(\"\\nLatency Analysis:\")\n",
        "    print(f\"Average Latency per Round: {np.mean(latency_per_round):.2f} seconds\")\n",
        "    print(f\"Total Latency for 10 Rounds: {np.sum(latency_per_round):.2f} seconds\")\n",
        "\n",
        "# Call the federated learning simulation function\n",
        "federated_learning_simulation(X_train, y_train, X_test, y_test)"
      ],
      "metadata": {
        "colab": {
          "base_uri": "https://localhost:8080/"
        },
        "id": "95rgvCs-fyD9",
        "outputId": "ff57065c-bb00-4d74-9de9-f6bc4639d30b"
      },
      "execution_count": null,
      "outputs": [
        {
          "metadata": {
            "tags": null
          },
          "name": "stdout",
          "output_type": "stream",
          "text": [
            "\n",
            "Communication Overhead: 0.77 MB\n",
            "\n",
            "Round 1: Global Model Accuracy = 0.6239523888\n",
            "\u001b[1m10628/10628\u001b[0m \u001b[32m━━━━━━━━━━━━━━━━━━━━\u001b[0m\u001b[37m\u001b[0m \u001b[1m45s\u001b[0m 4ms/step\n",
            "\n",
            "Model Performance Metrics:\n",
            "Accuracy: 0.6239524092\n",
            "Precision: 0.5904822357\n",
            "Recall: 0.6239524092\n",
            "F1-Score: 0.5709786700\n",
            "\n",
            "Confusion Matrix:\n",
            "[[65771   318     4  1862    58]\n",
            " [ 5606 52456   166  9785     0]\n",
            " [ 4384 46129  1700 15800     0]\n",
            " [ 4506  2369  7777 53362     0]\n",
            " [13842  4623     0 10652 38896]]\n"
          ]
        },
        {
          "metadata": {
            "tags": null
          },
          "name": "stderr",
          "output_type": "stream",
          "text": [
            "/usr/local/lib/python3.11/dist-packages/keras/src/layers/core/input_layer.py:26: UserWarning: Argument `input_shape` is deprecated. Use `shape` instead.\n",
            "  warnings.warn(\n"
          ]
        },
        {
          "metadata": {
            "tags": null
          },
          "name": "stdout",
          "output_type": "stream",
          "text": [
            "\n",
            "Communication Overhead: 0.77 MB\n",
            "\n",
            "Round 2: Global Model Accuracy = 0.9043538570\n",
            "\u001b[1m10628/10628\u001b[0m \u001b[32m━━━━━━━━━━━━━━━━━━━━\u001b[0m\u001b[37m\u001b[0m \u001b[1m46s\u001b[0m 4ms/step\n",
            "\n",
            "Model Performance Metrics:\n",
            "Accuracy: 0.9043538607\n",
            "Precision: 0.9257269118\n",
            "Recall: 0.9043538607\n",
            "F1-Score: 0.9011894672\n",
            "\n",
            "Confusion Matrix:\n",
            "[[67054   694     0   147   118]\n",
            " [    2 41078 26930     3     0]\n",
            " [    0     7 67975    31     0]\n",
            " [ 4296   226    43 63449     0]\n",
            " [   27     2     0     0 67984]]\n"
          ]
        },
        {
          "metadata": {
            "tags": null
          },
          "name": "stderr",
          "output_type": "stream",
          "text": [
            "/usr/local/lib/python3.11/dist-packages/keras/src/layers/core/input_layer.py:26: UserWarning: Argument `input_shape` is deprecated. Use `shape` instead.\n",
            "  warnings.warn(\n"
          ]
        },
        {
          "metadata": {
            "tags": null
          },
          "name": "stdout",
          "output_type": "stream",
          "text": [
            "\n",
            "Communication Overhead: 0.77 MB\n",
            "\n",
            "Round 3: Global Model Accuracy = 0.9062799811\n",
            "\u001b[1m10628/10628\u001b[0m \u001b[32m━━━━━━━━━━━━━━━━━━━━\u001b[0m\u001b[37m\u001b[0m \u001b[1m48s\u001b[0m 4ms/step\n",
            "\n",
            "Model Performance Metrics:\n",
            "Accuracy: 0.9062799574\n",
            "Precision: 0.9288298456\n",
            "Recall: 0.9062799574\n",
            "F1-Score: 0.9030244699\n",
            "\n",
            "Confusion Matrix:\n",
            "[[67653   208     0    62    90]\n",
            " [   18 41034 26923    38     0]\n",
            " [    0     7 67919    87     0]\n",
            " [ 4327    67     8 63612     0]\n",
            " [   34     2     0     0 67977]]\n"
          ]
        },
        {
          "metadata": {
            "tags": null
          },
          "name": "stderr",
          "output_type": "stream",
          "text": [
            "/usr/local/lib/python3.11/dist-packages/keras/src/layers/core/input_layer.py:26: UserWarning: Argument `input_shape` is deprecated. Use `shape` instead.\n",
            "  warnings.warn(\n"
          ]
        },
        {
          "metadata": {
            "tags": null
          },
          "name": "stdout",
          "output_type": "stream",
          "text": [
            "\n",
            "Communication Overhead: 0.77 MB\n",
            "\n",
            "Round 4: Global Model Accuracy = 0.9060564637\n",
            "\u001b[1m10628/10628\u001b[0m \u001b[32m━━━━━━━━━━━━━━━━━━━━\u001b[0m\u001b[37m\u001b[0m \u001b[1m49s\u001b[0m 5ms/step\n",
            "\n",
            "Model Performance Metrics:\n",
            "Accuracy: 0.9060564714\n",
            "Precision: 0.9288501494\n",
            "Recall: 0.9060564714\n",
            "F1-Score: 0.9027643962\n",
            "\n",
            "Confusion Matrix:\n",
            "[[67787   110     0    39    77]\n",
            " [   81 40991 26927    14     0]\n",
            " [    0     0 67955    58     0]\n",
            " [ 4449   119    12 63434     0]\n",
            " [   61     0     0     0 67952]]\n"
          ]
        },
        {
          "metadata": {
            "tags": null
          },
          "name": "stderr",
          "output_type": "stream",
          "text": [
            "/usr/local/lib/python3.11/dist-packages/keras/src/layers/core/input_layer.py:26: UserWarning: Argument `input_shape` is deprecated. Use `shape` instead.\n",
            "  warnings.warn(\n"
          ]
        },
        {
          "metadata": {
            "tags": null
          },
          "name": "stdout",
          "output_type": "stream",
          "text": [
            "\n",
            "Communication Overhead: 0.77 MB\n",
            "\n",
            "Round 5: Global Model Accuracy = 0.9067504406\n",
            "\u001b[1m10628/10628\u001b[0m \u001b[32m━━━━━━━━━━━━━━━━━━━━\u001b[0m\u001b[37m\u001b[0m \u001b[1m50s\u001b[0m 5ms/step\n",
            "\n",
            "Model Performance Metrics:\n",
            "Accuracy: 0.9067504543\n",
            "Precision: 0.9296504902\n",
            "Recall: 0.9067504543\n",
            "F1-Score: 0.9034655940\n",
            "\n",
            "Confusion Matrix:\n",
            "[[67753   115     0    69    76]\n",
            " [   24 40999 26927    63     0]\n",
            " [    0     0 67970    43     0]\n",
            " [ 4307    21    30 63656     0]\n",
            " [   31     5     0     0 67977]]\n"
          ]
        },
        {
          "metadata": {
            "tags": null
          },
          "name": "stderr",
          "output_type": "stream",
          "text": [
            "/usr/local/lib/python3.11/dist-packages/keras/src/layers/core/input_layer.py:26: UserWarning: Argument `input_shape` is deprecated. Use `shape` instead.\n",
            "  warnings.warn(\n"
          ]
        },
        {
          "metadata": {
            "tags": null
          },
          "name": "stdout",
          "output_type": "stream",
          "text": [
            "\n",
            "Communication Overhead: 0.77 MB\n",
            "\n",
            "Round 6: Global Model Accuracy = 0.9061535001\n",
            "\u001b[1m10628/10628\u001b[0m \u001b[32m━━━━━━━━━━━━━━━━━━━━\u001b[0m\u001b[37m\u001b[0m \u001b[1m50s\u001b[0m 5ms/step\n",
            "\n",
            "Model Performance Metrics:\n",
            "Accuracy: 0.9061535114\n",
            "Precision: 0.9289827799\n",
            "Recall: 0.9061535114\n",
            "F1-Score: 0.9028968591\n",
            "\n",
            "Confusion Matrix:\n",
            "[[67776   136     0    23    78]\n",
            " [   35 41041 26925    12     0]\n",
            " [   11    10 67944    48     0]\n",
            " [ 4546    62    11 63395     0]\n",
            " [   15     2     0     0 67996]]\n"
          ]
        },
        {
          "metadata": {
            "tags": null
          },
          "name": "stderr",
          "output_type": "stream",
          "text": [
            "/usr/local/lib/python3.11/dist-packages/keras/src/layers/core/input_layer.py:26: UserWarning: Argument `input_shape` is deprecated. Use `shape` instead.\n",
            "  warnings.warn(\n"
          ]
        },
        {
          "metadata": {
            "tags": null
          },
          "name": "stdout",
          "output_type": "stream",
          "text": [
            "\n",
            "Communication Overhead: 0.77 MB\n",
            "\n",
            "Round 7: Global Model Accuracy = 0.9068180919\n",
            "\u001b[1m10628/10628\u001b[0m \u001b[32m━━━━━━━━━━━━━━━━━━━━\u001b[0m\u001b[37m\u001b[0m \u001b[1m49s\u001b[0m 5ms/step\n",
            "\n",
            "Model Performance Metrics:\n",
            "Accuracy: 0.9068180883\n",
            "Precision: 0.9296649366\n",
            "Recall: 0.9068180883\n",
            "F1-Score: 0.9035454776\n",
            "\n",
            "Confusion Matrix:\n",
            "[[67766   116     0    54    77]\n",
            " [   41 41012 26930    30     0]\n",
            " [    0     0 68006     7     0]\n",
            " [ 4302    75    36 63601     0]\n",
            " [   15     5     0     0 67993]]\n"
          ]
        },
        {
          "metadata": {
            "tags": null
          },
          "name": "stderr",
          "output_type": "stream",
          "text": [
            "/usr/local/lib/python3.11/dist-packages/keras/src/layers/core/input_layer.py:26: UserWarning: Argument `input_shape` is deprecated. Use `shape` instead.\n",
            "  warnings.warn(\n"
          ]
        },
        {
          "metadata": {
            "tags": null
          },
          "name": "stdout",
          "output_type": "stream",
          "text": [
            "\n",
            "Communication Overhead: 0.77 MB\n",
            "\n",
            "Round 8: Global Model Accuracy = 0.9066798687\n",
            "\u001b[1m10628/10628\u001b[0m \u001b[32m━━━━━━━━━━━━━━━━━━━━\u001b[0m\u001b[37m\u001b[0m \u001b[1m46s\u001b[0m 4ms/step\n",
            "\n",
            "Model Performance Metrics:\n",
            "Accuracy: 0.9066798798\n",
            "Precision: 0.9295218134\n",
            "Recall: 0.9066798798\n",
            "F1-Score: 0.9034374148\n",
            "\n",
            "Confusion Matrix:\n",
            "[[67703   179     0    55    76]\n",
            " [   19 41032 26938    24     0]\n",
            " [    0     0 68013     0     0]\n",
            " [ 4326    34    53 63601     0]\n",
            " [   26     5     0     0 67982]]\n"
          ]
        },
        {
          "metadata": {
            "tags": null
          },
          "name": "stderr",
          "output_type": "stream",
          "text": [
            "/usr/local/lib/python3.11/dist-packages/keras/src/layers/core/input_layer.py:26: UserWarning: Argument `input_shape` is deprecated. Use `shape` instead.\n",
            "  warnings.warn(\n"
          ]
        },
        {
          "metadata": {
            "tags": null
          },
          "name": "stdout",
          "output_type": "stream",
          "text": [
            "\n",
            "Communication Overhead: 0.77 MB\n",
            "\n",
            "Round 9: Global Model Accuracy = 0.9061505795\n",
            "\u001b[1m10628/10628\u001b[0m \u001b[32m━━━━━━━━━━━━━━━━━━━━\u001b[0m\u001b[37m\u001b[0m \u001b[1m47s\u001b[0m 4ms/step\n",
            "\n",
            "Model Performance Metrics:\n",
            "Accuracy: 0.9061505708\n",
            "Precision: 0.9291025815\n",
            "Recall: 0.9061505708\n",
            "F1-Score: 0.9028951947\n",
            "\n",
            "Confusion Matrix:\n",
            "[[67758   148     1    29    77]\n",
            " [   56 41030 26927     0     0]\n",
            " [   34     0 67972     7     0]\n",
            " [ 4552    31    24 63407     0]\n",
            " [   27     2     0     0 67984]]\n"
          ]
        },
        {
          "metadata": {
            "tags": null
          },
          "name": "stderr",
          "output_type": "stream",
          "text": [
            "/usr/local/lib/python3.11/dist-packages/keras/src/layers/core/input_layer.py:26: UserWarning: Argument `input_shape` is deprecated. Use `shape` instead.\n",
            "  warnings.warn(\n"
          ]
        },
        {
          "output_type": "stream",
          "name": "stdout",
          "text": [
            "\n",
            "Communication Overhead: 0.77 MB\n",
            "\n",
            "Round 10: Global Model Accuracy = 0.9068445563\n",
            "\u001b[1m10628/10628\u001b[0m \u001b[32m━━━━━━━━━━━━━━━━━━━━\u001b[0m\u001b[37m\u001b[0m \u001b[1m48s\u001b[0m 5ms/step\n",
            "\n",
            "Model Performance Metrics:\n",
            "Accuracy: 0.9068445537\n",
            "Precision: 0.9296940524\n",
            "Recall: 0.9068445537\n",
            "F1-Score: 0.9036028836\n",
            "\n",
            "Confusion Matrix:\n",
            "[[67757   125     0    55    76]\n",
            " [   22 41045 26939     7     0]\n",
            " [    0     0 68008     5     0]\n",
            " [ 4310    56    30 63618     0]\n",
            " [   34    20     0     0 67959]]\n",
            "\n",
            "Latency Analysis:\n",
            "Average Latency per Round: 419.71 seconds\n",
            "Total Latency for 10 Rounds: 4197.12 seconds\n"
          ]
        }
      ]
    }
  ]
}