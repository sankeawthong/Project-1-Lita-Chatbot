{
  "nbformat": 4,
  "nbformat_minor": 0,
  "metadata": {
    "colab": {
      "provenance": [],
      "machine_shape": "hm",
      "authorship_tag": "ABX9TyPdmDhqpmKYX8hDJfjf/f07",
      "include_colab_link": true
    },
    "kernelspec": {
      "name": "python3",
      "display_name": "Python 3"
    },
    "language_info": {
      "name": "python"
    }
  },
  "cells": [
    {
      "cell_type": "markdown",
      "metadata": {
        "id": "view-in-github",
        "colab_type": "text"
      },
      "source": [
        "<a href=\"https://colab.research.google.com/github/sankeawthong/Project-1-Lita-Chatbot/blob/main/%5B20250107%5D%20FedAvg-DL%20with%20MLP-LSTM%20model%20on%20UNSW-NB15%20with%20early%20stopped_2.ipynb\" target=\"_parent\"><img src=\"https://colab.research.google.com/assets/colab-badge.svg\" alt=\"Open In Colab\"/></a>"
      ]
    },
    {
      "cell_type": "markdown",
      "source": [
        "**FedAvg-DL // MLP-LSTM model 10 classes on UNSW-NB15**"
      ],
      "metadata": {
        "id": "NdJw5-HPtPeU"
      }
    },
    {
      "cell_type": "code",
      "execution_count": null,
      "metadata": {
        "id": "Kys3NgWmCB12"
      },
      "outputs": [],
      "source": [
        "import pandas as pd\n",
        "import numpy as np\n",
        "from sklearn.linear_model import LogisticRegression\n",
        "from sklearn.model_selection import train_test_split\n",
        "from sklearn.metrics import accuracy_score, classification_report\n",
        "from sklearn.preprocessing import LabelEncoder, StandardScaler\n",
        "from keras.models import Sequential\n",
        "from keras.layers import Dense, LSTM, Bidirectional, Dropout, Flatten\n",
        "from sklearn.metrics import accuracy_score, classification_report, confusion_matrix\n",
        "from keras.utils import to_categorical"
      ]
    },
    {
      "cell_type": "code",
      "source": [
        "# Load dataset\n",
        "dataset = pd.read_csv(\"Dataset_10Classes.csv\") #UNSW-NB15 10 classes dataset\n",
        "\n",
        "# Preprocessing: Handle missing values (if any)\n",
        "dataset = dataset.dropna() # Remove missing values"
      ],
      "metadata": {
        "id": "W4xz10xkCHq8"
      },
      "execution_count": null,
      "outputs": []
    },
    {
      "cell_type": "code",
      "source": [
        "dataset"
      ],
      "metadata": {
        "colab": {
          "base_uri": "https://localhost:8080/",
          "height": 443
        },
        "id": "Ds2sKdTwCJgj",
        "outputId": "9d0f935b-21df-4ef7-c646-fb606a9ac82c"
      },
      "execution_count": null,
      "outputs": [
        {
          "output_type": "execute_result",
          "data": {
            "text/plain": [
              "         ID_Cb     id       dur proto service state  spkts  dpkts  sbytes  \\\n",
              "0            1      1  0.121478   tcp       -   FIN      6      4     258   \n",
              "1            2      2  0.649902   tcp       -   FIN     14     38     734   \n",
              "2            3      3  1.623129   tcp       -   FIN      8     16     364   \n",
              "3            4      4  1.681642   tcp     ftp   FIN     12     12     628   \n",
              "4            5      5  0.449454   tcp       -   FIN     10      6     534   \n",
              "...        ...    ...       ...   ...     ...   ...    ...    ...     ...   \n",
              "257668  257669  82328  0.000005   udp       -   INT      2      0     104   \n",
              "257669  257670  82329  1.106101   tcp       -   FIN     20      8   18062   \n",
              "257670  257671  82330  0.000000   arp       -   INT      1      0      46   \n",
              "257671  257672  82331  0.000000   arp       -   INT      1      0      46   \n",
              "257672  257673  82332  0.000009   udp       -   INT      2      0     104   \n",
              "\n",
              "        dbytes  ...  ct_dst_src_ltm  is_ftp_login  ct_ftp_cmd  \\\n",
              "0          172  ...               1             0           0   \n",
              "1        42014  ...               2             0           0   \n",
              "2        13186  ...               3             0           0   \n",
              "3          770  ...               3             1           1   \n",
              "4          268  ...              40             0           0   \n",
              "...        ...  ...             ...           ...         ...   \n",
              "257668       0  ...               2             0           0   \n",
              "257669     354  ...               1             0           0   \n",
              "257670       0  ...               1             0           0   \n",
              "257671       0  ...               1             0           0   \n",
              "257672       0  ...               1             0           0   \n",
              "\n",
              "        ct_flw_http_mthd  ct_src_ltm  ct_srv_dst  is_sm_ips_ports  attack_cat  \\\n",
              "0                      0           1           1                0      Normal   \n",
              "1                      0           1           6                0      Normal   \n",
              "2                      0           2           6                0      Normal   \n",
              "3                      0           2           1                0      Normal   \n",
              "4                      0           2          39                0      Normal   \n",
              "...                  ...         ...         ...              ...         ...   \n",
              "257668                 0           2           1                0      Normal   \n",
              "257669                 0           3           2                0      Normal   \n",
              "257670                 0           1           1                1      Normal   \n",
              "257671                 0           1           1                1      Normal   \n",
              "257672                 0           1           1                0      Normal   \n",
              "\n",
              "        label  Class  \n",
              "0           0      0  \n",
              "1           0      0  \n",
              "2           0      0  \n",
              "3           0      0  \n",
              "4           0      0  \n",
              "...       ...    ...  \n",
              "257668      0      0  \n",
              "257669      0      0  \n",
              "257670      0      0  \n",
              "257671      0      0  \n",
              "257672      0      0  \n",
              "\n",
              "[257673 rows x 47 columns]"
            ],
            "text/html": [
              "\n",
              "  <div id=\"df-ce3717c7-f735-403e-a749-94c405e02943\" class=\"colab-df-container\">\n",
              "    <div>\n",
              "<style scoped>\n",
              "    .dataframe tbody tr th:only-of-type {\n",
              "        vertical-align: middle;\n",
              "    }\n",
              "\n",
              "    .dataframe tbody tr th {\n",
              "        vertical-align: top;\n",
              "    }\n",
              "\n",
              "    .dataframe thead th {\n",
              "        text-align: right;\n",
              "    }\n",
              "</style>\n",
              "<table border=\"1\" class=\"dataframe\">\n",
              "  <thead>\n",
              "    <tr style=\"text-align: right;\">\n",
              "      <th></th>\n",
              "      <th>ID_Cb</th>\n",
              "      <th>id</th>\n",
              "      <th>dur</th>\n",
              "      <th>proto</th>\n",
              "      <th>service</th>\n",
              "      <th>state</th>\n",
              "      <th>spkts</th>\n",
              "      <th>dpkts</th>\n",
              "      <th>sbytes</th>\n",
              "      <th>dbytes</th>\n",
              "      <th>...</th>\n",
              "      <th>ct_dst_src_ltm</th>\n",
              "      <th>is_ftp_login</th>\n",
              "      <th>ct_ftp_cmd</th>\n",
              "      <th>ct_flw_http_mthd</th>\n",
              "      <th>ct_src_ltm</th>\n",
              "      <th>ct_srv_dst</th>\n",
              "      <th>is_sm_ips_ports</th>\n",
              "      <th>attack_cat</th>\n",
              "      <th>label</th>\n",
              "      <th>Class</th>\n",
              "    </tr>\n",
              "  </thead>\n",
              "  <tbody>\n",
              "    <tr>\n",
              "      <th>0</th>\n",
              "      <td>1</td>\n",
              "      <td>1</td>\n",
              "      <td>0.121478</td>\n",
              "      <td>tcp</td>\n",
              "      <td>-</td>\n",
              "      <td>FIN</td>\n",
              "      <td>6</td>\n",
              "      <td>4</td>\n",
              "      <td>258</td>\n",
              "      <td>172</td>\n",
              "      <td>...</td>\n",
              "      <td>1</td>\n",
              "      <td>0</td>\n",
              "      <td>0</td>\n",
              "      <td>0</td>\n",
              "      <td>1</td>\n",
              "      <td>1</td>\n",
              "      <td>0</td>\n",
              "      <td>Normal</td>\n",
              "      <td>0</td>\n",
              "      <td>0</td>\n",
              "    </tr>\n",
              "    <tr>\n",
              "      <th>1</th>\n",
              "      <td>2</td>\n",
              "      <td>2</td>\n",
              "      <td>0.649902</td>\n",
              "      <td>tcp</td>\n",
              "      <td>-</td>\n",
              "      <td>FIN</td>\n",
              "      <td>14</td>\n",
              "      <td>38</td>\n",
              "      <td>734</td>\n",
              "      <td>42014</td>\n",
              "      <td>...</td>\n",
              "      <td>2</td>\n",
              "      <td>0</td>\n",
              "      <td>0</td>\n",
              "      <td>0</td>\n",
              "      <td>1</td>\n",
              "      <td>6</td>\n",
              "      <td>0</td>\n",
              "      <td>Normal</td>\n",
              "      <td>0</td>\n",
              "      <td>0</td>\n",
              "    </tr>\n",
              "    <tr>\n",
              "      <th>2</th>\n",
              "      <td>3</td>\n",
              "      <td>3</td>\n",
              "      <td>1.623129</td>\n",
              "      <td>tcp</td>\n",
              "      <td>-</td>\n",
              "      <td>FIN</td>\n",
              "      <td>8</td>\n",
              "      <td>16</td>\n",
              "      <td>364</td>\n",
              "      <td>13186</td>\n",
              "      <td>...</td>\n",
              "      <td>3</td>\n",
              "      <td>0</td>\n",
              "      <td>0</td>\n",
              "      <td>0</td>\n",
              "      <td>2</td>\n",
              "      <td>6</td>\n",
              "      <td>0</td>\n",
              "      <td>Normal</td>\n",
              "      <td>0</td>\n",
              "      <td>0</td>\n",
              "    </tr>\n",
              "    <tr>\n",
              "      <th>3</th>\n",
              "      <td>4</td>\n",
              "      <td>4</td>\n",
              "      <td>1.681642</td>\n",
              "      <td>tcp</td>\n",
              "      <td>ftp</td>\n",
              "      <td>FIN</td>\n",
              "      <td>12</td>\n",
              "      <td>12</td>\n",
              "      <td>628</td>\n",
              "      <td>770</td>\n",
              "      <td>...</td>\n",
              "      <td>3</td>\n",
              "      <td>1</td>\n",
              "      <td>1</td>\n",
              "      <td>0</td>\n",
              "      <td>2</td>\n",
              "      <td>1</td>\n",
              "      <td>0</td>\n",
              "      <td>Normal</td>\n",
              "      <td>0</td>\n",
              "      <td>0</td>\n",
              "    </tr>\n",
              "    <tr>\n",
              "      <th>4</th>\n",
              "      <td>5</td>\n",
              "      <td>5</td>\n",
              "      <td>0.449454</td>\n",
              "      <td>tcp</td>\n",
              "      <td>-</td>\n",
              "      <td>FIN</td>\n",
              "      <td>10</td>\n",
              "      <td>6</td>\n",
              "      <td>534</td>\n",
              "      <td>268</td>\n",
              "      <td>...</td>\n",
              "      <td>40</td>\n",
              "      <td>0</td>\n",
              "      <td>0</td>\n",
              "      <td>0</td>\n",
              "      <td>2</td>\n",
              "      <td>39</td>\n",
              "      <td>0</td>\n",
              "      <td>Normal</td>\n",
              "      <td>0</td>\n",
              "      <td>0</td>\n",
              "    </tr>\n",
              "    <tr>\n",
              "      <th>...</th>\n",
              "      <td>...</td>\n",
              "      <td>...</td>\n",
              "      <td>...</td>\n",
              "      <td>...</td>\n",
              "      <td>...</td>\n",
              "      <td>...</td>\n",
              "      <td>...</td>\n",
              "      <td>...</td>\n",
              "      <td>...</td>\n",
              "      <td>...</td>\n",
              "      <td>...</td>\n",
              "      <td>...</td>\n",
              "      <td>...</td>\n",
              "      <td>...</td>\n",
              "      <td>...</td>\n",
              "      <td>...</td>\n",
              "      <td>...</td>\n",
              "      <td>...</td>\n",
              "      <td>...</td>\n",
              "      <td>...</td>\n",
              "      <td>...</td>\n",
              "    </tr>\n",
              "    <tr>\n",
              "      <th>257668</th>\n",
              "      <td>257669</td>\n",
              "      <td>82328</td>\n",
              "      <td>0.000005</td>\n",
              "      <td>udp</td>\n",
              "      <td>-</td>\n",
              "      <td>INT</td>\n",
              "      <td>2</td>\n",
              "      <td>0</td>\n",
              "      <td>104</td>\n",
              "      <td>0</td>\n",
              "      <td>...</td>\n",
              "      <td>2</td>\n",
              "      <td>0</td>\n",
              "      <td>0</td>\n",
              "      <td>0</td>\n",
              "      <td>2</td>\n",
              "      <td>1</td>\n",
              "      <td>0</td>\n",
              "      <td>Normal</td>\n",
              "      <td>0</td>\n",
              "      <td>0</td>\n",
              "    </tr>\n",
              "    <tr>\n",
              "      <th>257669</th>\n",
              "      <td>257670</td>\n",
              "      <td>82329</td>\n",
              "      <td>1.106101</td>\n",
              "      <td>tcp</td>\n",
              "      <td>-</td>\n",
              "      <td>FIN</td>\n",
              "      <td>20</td>\n",
              "      <td>8</td>\n",
              "      <td>18062</td>\n",
              "      <td>354</td>\n",
              "      <td>...</td>\n",
              "      <td>1</td>\n",
              "      <td>0</td>\n",
              "      <td>0</td>\n",
              "      <td>0</td>\n",
              "      <td>3</td>\n",
              "      <td>2</td>\n",
              "      <td>0</td>\n",
              "      <td>Normal</td>\n",
              "      <td>0</td>\n",
              "      <td>0</td>\n",
              "    </tr>\n",
              "    <tr>\n",
              "      <th>257670</th>\n",
              "      <td>257671</td>\n",
              "      <td>82330</td>\n",
              "      <td>0.000000</td>\n",
              "      <td>arp</td>\n",
              "      <td>-</td>\n",
              "      <td>INT</td>\n",
              "      <td>1</td>\n",
              "      <td>0</td>\n",
              "      <td>46</td>\n",
              "      <td>0</td>\n",
              "      <td>...</td>\n",
              "      <td>1</td>\n",
              "      <td>0</td>\n",
              "      <td>0</td>\n",
              "      <td>0</td>\n",
              "      <td>1</td>\n",
              "      <td>1</td>\n",
              "      <td>1</td>\n",
              "      <td>Normal</td>\n",
              "      <td>0</td>\n",
              "      <td>0</td>\n",
              "    </tr>\n",
              "    <tr>\n",
              "      <th>257671</th>\n",
              "      <td>257672</td>\n",
              "      <td>82331</td>\n",
              "      <td>0.000000</td>\n",
              "      <td>arp</td>\n",
              "      <td>-</td>\n",
              "      <td>INT</td>\n",
              "      <td>1</td>\n",
              "      <td>0</td>\n",
              "      <td>46</td>\n",
              "      <td>0</td>\n",
              "      <td>...</td>\n",
              "      <td>1</td>\n",
              "      <td>0</td>\n",
              "      <td>0</td>\n",
              "      <td>0</td>\n",
              "      <td>1</td>\n",
              "      <td>1</td>\n",
              "      <td>1</td>\n",
              "      <td>Normal</td>\n",
              "      <td>0</td>\n",
              "      <td>0</td>\n",
              "    </tr>\n",
              "    <tr>\n",
              "      <th>257672</th>\n",
              "      <td>257673</td>\n",
              "      <td>82332</td>\n",
              "      <td>0.000009</td>\n",
              "      <td>udp</td>\n",
              "      <td>-</td>\n",
              "      <td>INT</td>\n",
              "      <td>2</td>\n",
              "      <td>0</td>\n",
              "      <td>104</td>\n",
              "      <td>0</td>\n",
              "      <td>...</td>\n",
              "      <td>1</td>\n",
              "      <td>0</td>\n",
              "      <td>0</td>\n",
              "      <td>0</td>\n",
              "      <td>1</td>\n",
              "      <td>1</td>\n",
              "      <td>0</td>\n",
              "      <td>Normal</td>\n",
              "      <td>0</td>\n",
              "      <td>0</td>\n",
              "    </tr>\n",
              "  </tbody>\n",
              "</table>\n",
              "<p>257673 rows × 47 columns</p>\n",
              "</div>\n",
              "    <div class=\"colab-df-buttons\">\n",
              "\n",
              "  <div class=\"colab-df-container\">\n",
              "    <button class=\"colab-df-convert\" onclick=\"convertToInteractive('df-ce3717c7-f735-403e-a749-94c405e02943')\"\n",
              "            title=\"Convert this dataframe to an interactive table.\"\n",
              "            style=\"display:none;\">\n",
              "\n",
              "  <svg xmlns=\"http://www.w3.org/2000/svg\" height=\"24px\" viewBox=\"0 -960 960 960\">\n",
              "    <path d=\"M120-120v-720h720v720H120Zm60-500h600v-160H180v160Zm220 220h160v-160H400v160Zm0 220h160v-160H400v160ZM180-400h160v-160H180v160Zm440 0h160v-160H620v160ZM180-180h160v-160H180v160Zm440 0h160v-160H620v160Z\"/>\n",
              "  </svg>\n",
              "    </button>\n",
              "\n",
              "  <style>\n",
              "    .colab-df-container {\n",
              "      display:flex;\n",
              "      gap: 12px;\n",
              "    }\n",
              "\n",
              "    .colab-df-convert {\n",
              "      background-color: #E8F0FE;\n",
              "      border: none;\n",
              "      border-radius: 50%;\n",
              "      cursor: pointer;\n",
              "      display: none;\n",
              "      fill: #1967D2;\n",
              "      height: 32px;\n",
              "      padding: 0 0 0 0;\n",
              "      width: 32px;\n",
              "    }\n",
              "\n",
              "    .colab-df-convert:hover {\n",
              "      background-color: #E2EBFA;\n",
              "      box-shadow: 0px 1px 2px rgba(60, 64, 67, 0.3), 0px 1px 3px 1px rgba(60, 64, 67, 0.15);\n",
              "      fill: #174EA6;\n",
              "    }\n",
              "\n",
              "    .colab-df-buttons div {\n",
              "      margin-bottom: 4px;\n",
              "    }\n",
              "\n",
              "    [theme=dark] .colab-df-convert {\n",
              "      background-color: #3B4455;\n",
              "      fill: #D2E3FC;\n",
              "    }\n",
              "\n",
              "    [theme=dark] .colab-df-convert:hover {\n",
              "      background-color: #434B5C;\n",
              "      box-shadow: 0px 1px 3px 1px rgba(0, 0, 0, 0.15);\n",
              "      filter: drop-shadow(0px 1px 2px rgba(0, 0, 0, 0.3));\n",
              "      fill: #FFFFFF;\n",
              "    }\n",
              "  </style>\n",
              "\n",
              "    <script>\n",
              "      const buttonEl =\n",
              "        document.querySelector('#df-ce3717c7-f735-403e-a749-94c405e02943 button.colab-df-convert');\n",
              "      buttonEl.style.display =\n",
              "        google.colab.kernel.accessAllowed ? 'block' : 'none';\n",
              "\n",
              "      async function convertToInteractive(key) {\n",
              "        const element = document.querySelector('#df-ce3717c7-f735-403e-a749-94c405e02943');\n",
              "        const dataTable =\n",
              "          await google.colab.kernel.invokeFunction('convertToInteractive',\n",
              "                                                    [key], {});\n",
              "        if (!dataTable) return;\n",
              "\n",
              "        const docLinkHtml = 'Like what you see? Visit the ' +\n",
              "          '<a target=\"_blank\" href=https://colab.research.google.com/notebooks/data_table.ipynb>data table notebook</a>'\n",
              "          + ' to learn more about interactive tables.';\n",
              "        element.innerHTML = '';\n",
              "        dataTable['output_type'] = 'display_data';\n",
              "        await google.colab.output.renderOutput(dataTable, element);\n",
              "        const docLink = document.createElement('div');\n",
              "        docLink.innerHTML = docLinkHtml;\n",
              "        element.appendChild(docLink);\n",
              "      }\n",
              "    </script>\n",
              "  </div>\n",
              "\n",
              "\n",
              "<div id=\"df-714bf93b-6d94-49b8-bea9-7011a25d91d7\">\n",
              "  <button class=\"colab-df-quickchart\" onclick=\"quickchart('df-714bf93b-6d94-49b8-bea9-7011a25d91d7')\"\n",
              "            title=\"Suggest charts\"\n",
              "            style=\"display:none;\">\n",
              "\n",
              "<svg xmlns=\"http://www.w3.org/2000/svg\" height=\"24px\"viewBox=\"0 0 24 24\"\n",
              "     width=\"24px\">\n",
              "    <g>\n",
              "        <path d=\"M19 3H5c-1.1 0-2 .9-2 2v14c0 1.1.9 2 2 2h14c1.1 0 2-.9 2-2V5c0-1.1-.9-2-2-2zM9 17H7v-7h2v7zm4 0h-2V7h2v10zm4 0h-2v-4h2v4z\"/>\n",
              "    </g>\n",
              "</svg>\n",
              "  </button>\n",
              "\n",
              "<style>\n",
              "  .colab-df-quickchart {\n",
              "      --bg-color: #E8F0FE;\n",
              "      --fill-color: #1967D2;\n",
              "      --hover-bg-color: #E2EBFA;\n",
              "      --hover-fill-color: #174EA6;\n",
              "      --disabled-fill-color: #AAA;\n",
              "      --disabled-bg-color: #DDD;\n",
              "  }\n",
              "\n",
              "  [theme=dark] .colab-df-quickchart {\n",
              "      --bg-color: #3B4455;\n",
              "      --fill-color: #D2E3FC;\n",
              "      --hover-bg-color: #434B5C;\n",
              "      --hover-fill-color: #FFFFFF;\n",
              "      --disabled-bg-color: #3B4455;\n",
              "      --disabled-fill-color: #666;\n",
              "  }\n",
              "\n",
              "  .colab-df-quickchart {\n",
              "    background-color: var(--bg-color);\n",
              "    border: none;\n",
              "    border-radius: 50%;\n",
              "    cursor: pointer;\n",
              "    display: none;\n",
              "    fill: var(--fill-color);\n",
              "    height: 32px;\n",
              "    padding: 0;\n",
              "    width: 32px;\n",
              "  }\n",
              "\n",
              "  .colab-df-quickchart:hover {\n",
              "    background-color: var(--hover-bg-color);\n",
              "    box-shadow: 0 1px 2px rgba(60, 64, 67, 0.3), 0 1px 3px 1px rgba(60, 64, 67, 0.15);\n",
              "    fill: var(--button-hover-fill-color);\n",
              "  }\n",
              "\n",
              "  .colab-df-quickchart-complete:disabled,\n",
              "  .colab-df-quickchart-complete:disabled:hover {\n",
              "    background-color: var(--disabled-bg-color);\n",
              "    fill: var(--disabled-fill-color);\n",
              "    box-shadow: none;\n",
              "  }\n",
              "\n",
              "  .colab-df-spinner {\n",
              "    border: 2px solid var(--fill-color);\n",
              "    border-color: transparent;\n",
              "    border-bottom-color: var(--fill-color);\n",
              "    animation:\n",
              "      spin 1s steps(1) infinite;\n",
              "  }\n",
              "\n",
              "  @keyframes spin {\n",
              "    0% {\n",
              "      border-color: transparent;\n",
              "      border-bottom-color: var(--fill-color);\n",
              "      border-left-color: var(--fill-color);\n",
              "    }\n",
              "    20% {\n",
              "      border-color: transparent;\n",
              "      border-left-color: var(--fill-color);\n",
              "      border-top-color: var(--fill-color);\n",
              "    }\n",
              "    30% {\n",
              "      border-color: transparent;\n",
              "      border-left-color: var(--fill-color);\n",
              "      border-top-color: var(--fill-color);\n",
              "      border-right-color: var(--fill-color);\n",
              "    }\n",
              "    40% {\n",
              "      border-color: transparent;\n",
              "      border-right-color: var(--fill-color);\n",
              "      border-top-color: var(--fill-color);\n",
              "    }\n",
              "    60% {\n",
              "      border-color: transparent;\n",
              "      border-right-color: var(--fill-color);\n",
              "    }\n",
              "    80% {\n",
              "      border-color: transparent;\n",
              "      border-right-color: var(--fill-color);\n",
              "      border-bottom-color: var(--fill-color);\n",
              "    }\n",
              "    90% {\n",
              "      border-color: transparent;\n",
              "      border-bottom-color: var(--fill-color);\n",
              "    }\n",
              "  }\n",
              "</style>\n",
              "\n",
              "  <script>\n",
              "    async function quickchart(key) {\n",
              "      const quickchartButtonEl =\n",
              "        document.querySelector('#' + key + ' button');\n",
              "      quickchartButtonEl.disabled = true;  // To prevent multiple clicks.\n",
              "      quickchartButtonEl.classList.add('colab-df-spinner');\n",
              "      try {\n",
              "        const charts = await google.colab.kernel.invokeFunction(\n",
              "            'suggestCharts', [key], {});\n",
              "      } catch (error) {\n",
              "        console.error('Error during call to suggestCharts:', error);\n",
              "      }\n",
              "      quickchartButtonEl.classList.remove('colab-df-spinner');\n",
              "      quickchartButtonEl.classList.add('colab-df-quickchart-complete');\n",
              "    }\n",
              "    (() => {\n",
              "      let quickchartButtonEl =\n",
              "        document.querySelector('#df-714bf93b-6d94-49b8-bea9-7011a25d91d7 button');\n",
              "      quickchartButtonEl.style.display =\n",
              "        google.colab.kernel.accessAllowed ? 'block' : 'none';\n",
              "    })();\n",
              "  </script>\n",
              "</div>\n",
              "    </div>\n",
              "  </div>\n"
            ],
            "application/vnd.google.colaboratory.intrinsic+json": {
              "type": "dataframe",
              "variable_name": "dataset"
            }
          },
          "metadata": {},
          "execution_count": 3
        }
      ]
    },
    {
      "cell_type": "markdown",
      "source": [
        "**Data Preprocessing**"
      ],
      "metadata": {
        "id": "gIkWYjccCMlu"
      }
    },
    {
      "cell_type": "code",
      "source": [
        "# Encode non-numeric columns (if any)\n",
        "for column in dataset.columns:\n",
        "    if dataset[column].dtype == 'object':  # Identify categorical columns\n",
        "        dataset[column] = LabelEncoder().fit_transform(dataset[column])\n",
        "\n",
        "# Separate features (X) and target (y)\n",
        "X = dataset.drop(['Class'], axis=1)  # Assuming 'Class' is the target column\n",
        "y = dataset['Class']"
      ],
      "metadata": {
        "id": "CJLPKg4OCJIa"
      },
      "execution_count": null,
      "outputs": []
    },
    {
      "cell_type": "code",
      "source": [
        "print(\"Original Class Distribution:\", np.bincount(y))"
      ],
      "metadata": {
        "colab": {
          "base_uri": "https://localhost:8080/"
        },
        "id": "cApvATS2CJGk",
        "outputId": "d9dda265-2eb4-4677-ac73-b222d309fc63"
      },
      "execution_count": null,
      "outputs": [
        {
          "output_type": "stream",
          "name": "stdout",
          "text": [
            "Original Class Distribution: [93000  2677  2329 16353 44525 24246 58871 13987  1511   174]\n"
          ]
        }
      ]
    },
    {
      "cell_type": "code",
      "source": [
        "# Standardize the features\n",
        "scaler = StandardScaler()\n",
        "X = scaler.fit_transform(X)"
      ],
      "metadata": {
        "id": "Dfs-ElhtCJDw"
      },
      "execution_count": null,
      "outputs": []
    },
    {
      "cell_type": "code",
      "source": [
        "!pip install -U imbalanced-learn"
      ],
      "metadata": {
        "colab": {
          "base_uri": "https://localhost:8080/"
        },
        "id": "cU6-aUtcCJBK",
        "outputId": "e709e6a8-46a8-4a70-d36a-f4ced5b15960"
      },
      "execution_count": null,
      "outputs": [
        {
          "output_type": "stream",
          "name": "stdout",
          "text": [
            "Requirement already satisfied: imbalanced-learn in /usr/local/lib/python3.10/dist-packages (0.12.4)\n",
            "Collecting imbalanced-learn\n",
            "  Downloading imbalanced_learn-0.13.0-py3-none-any.whl.metadata (8.8 kB)\n",
            "Requirement already satisfied: numpy<3,>=1.24.3 in /usr/local/lib/python3.10/dist-packages (from imbalanced-learn) (1.26.4)\n",
            "Requirement already satisfied: scipy<2,>=1.10.1 in /usr/local/lib/python3.10/dist-packages (from imbalanced-learn) (1.13.1)\n",
            "Requirement already satisfied: scikit-learn<2,>=1.3.2 in /usr/local/lib/python3.10/dist-packages (from imbalanced-learn) (1.6.0)\n",
            "Collecting sklearn-compat<1,>=0.1 (from imbalanced-learn)\n",
            "  Downloading sklearn_compat-0.1.3-py3-none-any.whl.metadata (18 kB)\n",
            "Requirement already satisfied: joblib<2,>=1.1.1 in /usr/local/lib/python3.10/dist-packages (from imbalanced-learn) (1.4.2)\n",
            "Requirement already satisfied: threadpoolctl<4,>=2.0.0 in /usr/local/lib/python3.10/dist-packages (from imbalanced-learn) (3.5.0)\n",
            "Downloading imbalanced_learn-0.13.0-py3-none-any.whl (238 kB)\n",
            "\u001b[2K   \u001b[90m━━━━━━━━━━━━━━━━━━━━━━━━━━━━━━━━━━━━━━━━\u001b[0m \u001b[32m238.4/238.4 kB\u001b[0m \u001b[31m5.4 MB/s\u001b[0m eta \u001b[36m0:00:00\u001b[0m\n",
            "\u001b[?25hDownloading sklearn_compat-0.1.3-py3-none-any.whl (18 kB)\n",
            "Installing collected packages: sklearn-compat, imbalanced-learn\n",
            "  Attempting uninstall: imbalanced-learn\n",
            "    Found existing installation: imbalanced-learn 0.12.4\n",
            "    Uninstalling imbalanced-learn-0.12.4:\n",
            "      Successfully uninstalled imbalanced-learn-0.12.4\n",
            "Successfully installed imbalanced-learn-0.13.0 sklearn-compat-0.1.3\n"
          ]
        }
      ]
    },
    {
      "cell_type": "markdown",
      "source": [
        "**Data Balancing utilized SMOTE**"
      ],
      "metadata": {
        "id": "VU3Uh1FotLGp"
      }
    },
    {
      "cell_type": "code",
      "source": [
        "from imblearn.over_sampling import SMOTE\n",
        "# Balance dataset using SMOTE\n",
        "smote = SMOTE(random_state=42)\n",
        "X, y = smote.fit_resample(X, y)\n",
        "\n",
        "# Verify the balanced dataset distribution\n",
        "print(\"Balanced Class Distribution:\", np.bincount(y))"
      ],
      "metadata": {
        "colab": {
          "base_uri": "https://localhost:8080/"
        },
        "id": "Sb2mBvlBCI-a",
        "outputId": "779eaf77-1687-47f9-a898-8f3520f4e9af"
      },
      "execution_count": null,
      "outputs": [
        {
          "output_type": "stream",
          "name": "stdout",
          "text": [
            "Balanced Class Distribution: [93000 93000 93000 93000 93000 93000 93000 93000 93000 93000]\n"
          ]
        }
      ]
    },
    {
      "cell_type": "markdown",
      "source": [
        "**Split data into 80% Training and 20% Testing**"
      ],
      "metadata": {
        "id": "BhCXVR9ctJRp"
      }
    },
    {
      "cell_type": "code",
      "source": [
        "# Train-test split\n",
        "X_train, X_test, y_train, y_test = train_test_split(X, y, test_size=0.2, random_state=101, stratify=y)"
      ],
      "metadata": {
        "id": "ZrU3_udJCI7u"
      },
      "execution_count": null,
      "outputs": []
    },
    {
      "cell_type": "markdown",
      "source": [
        "**The hybrid MLP + LSTM model**"
      ],
      "metadata": {
        "id": "Nf4TIdrUtA9J"
      }
    },
    {
      "cell_type": "code",
      "source": [
        "from keras.regularizers import l2\n",
        "\n",
        "# Convert target to categorical (one-hot encoding)\n",
        "y_train = to_categorical(y_train)\n",
        "y_test = to_categorical(y_test)\n",
        "\n",
        "# Define the hybrid MLP + LSTM model with regularization and other techniques to reduce overfitting\n",
        "def build_hybrid_model(input_shape, num_classes):\n",
        "    model = Sequential()\n",
        "\n",
        "    # MLP layers with L2 regularization\n",
        "    model.add(Dense(128, activation='relu', input_shape=input_shape, kernel_regularizer=l2(0.01)))\n",
        "    model.add(Dropout(0.3))  # Increased dropout\n",
        "    model.add(Dense(64, activation='relu', kernel_regularizer=l2(0.01)))\n",
        "    model.add(Dropout(0.3))\n",
        "\n",
        "    # Dense layers for final feature extraction\n",
        "    model.add(Dense(32, activation='relu', kernel_regularizer=l2(0.01)))\n",
        "    model.add(Dropout(0.3))\n",
        "    model.add(Dense(num_classes, activation='softmax'))\n",
        "\n",
        "    return model\n",
        "\n",
        "# Build and compile the model\n",
        "input_shape = (X_train.shape[1], )\n",
        "num_classes = y_train.shape[1]\n",
        "model = build_hybrid_model(input_shape, num_classes)\n",
        "model.compile(\n",
        "    optimizer='adam',\n",
        "    loss='categorical_crossentropy',\n",
        "    metrics=['accuracy']\n",
        ")\n",
        "\n",
        "# Train the model with early stopping\n",
        "from keras.callbacks import EarlyStopping\n",
        "\n",
        "early_stopping = EarlyStopping(monitor='val_loss', patience=10, restore_best_weights=True)\n",
        "\n",
        "history = model.fit(\n",
        "    X_train, y_train,\n",
        "    validation_data=(X_test, y_test),\n",
        "    epochs=50,\n",
        "    batch_size=32,\n",
        "    callbacks=[early_stopping],\n",
        "    verbose=1\n",
        ")\n",
        "\n",
        "# Evaluate the model\n",
        "y_pred = model.predict(X_test)\n",
        "y_pred_classes = np.argmax(y_pred, axis=1)\n",
        "y_true_classes = np.argmax(y_test, axis=1)"
      ],
      "metadata": {
        "colab": {
          "base_uri": "https://localhost:8080/"
        },
        "id": "hsa0-DfQCVcP",
        "outputId": "80344c30-8bdd-4bce-c6d0-a317bf91a94c"
      },
      "execution_count": null,
      "outputs": [
        {
          "output_type": "stream",
          "name": "stderr",
          "text": [
            "/usr/local/lib/python3.10/dist-packages/keras/src/layers/core/dense.py:87: UserWarning: Do not pass an `input_shape`/`input_dim` argument to a layer. When using Sequential models, prefer using an `Input(shape)` object as the first layer in the model instead.\n",
            "  super().__init__(activity_regularizer=activity_regularizer, **kwargs)\n"
          ]
        },
        {
          "output_type": "stream",
          "name": "stdout",
          "text": [
            "Epoch 1/50\n",
            "\u001b[1m23250/23250\u001b[0m \u001b[32m━━━━━━━━━━━━━━━━━━━━\u001b[0m\u001b[37m\u001b[0m \u001b[1m49s\u001b[0m 2ms/step - accuracy: 0.8672 - loss: 0.7599 - val_accuracy: 0.9961 - val_loss: 0.2332\n",
            "Epoch 2/50\n",
            "\u001b[1m23250/23250\u001b[0m \u001b[32m━━━━━━━━━━━━━━━━━━━━\u001b[0m\u001b[37m\u001b[0m \u001b[1m48s\u001b[0m 2ms/step - accuracy: 0.9687 - loss: 0.3113 - val_accuracy: 0.9919 - val_loss: 0.2303\n",
            "Epoch 3/50\n",
            "\u001b[1m23250/23250\u001b[0m \u001b[32m━━━━━━━━━━━━━━━━━━━━\u001b[0m\u001b[37m\u001b[0m \u001b[1m48s\u001b[0m 2ms/step - accuracy: 0.9724 - loss: 0.2780 - val_accuracy: 0.9977 - val_loss: 0.1749\n",
            "Epoch 4/50\n",
            "\u001b[1m23250/23250\u001b[0m \u001b[32m━━━━━━━━━━━━━━━━━━━━\u001b[0m\u001b[37m\u001b[0m \u001b[1m48s\u001b[0m 2ms/step - accuracy: 0.9738 - loss: 0.2647 - val_accuracy: 0.9982 - val_loss: 0.1693\n",
            "Epoch 5/50\n",
            "\u001b[1m23250/23250\u001b[0m \u001b[32m━━━━━━━━━━━━━━━━━━━━\u001b[0m\u001b[37m\u001b[0m \u001b[1m48s\u001b[0m 2ms/step - accuracy: 0.9743 - loss: 0.2582 - val_accuracy: 0.9957 - val_loss: 0.1773\n",
            "Epoch 6/50\n",
            "\u001b[1m23250/23250\u001b[0m \u001b[32m━━━━━━━━━━━━━━━━━━━━\u001b[0m\u001b[37m\u001b[0m \u001b[1m49s\u001b[0m 2ms/step - accuracy: 0.9752 - loss: 0.2495 - val_accuracy: 0.9977 - val_loss: 0.1688\n",
            "Epoch 7/50\n",
            "\u001b[1m23250/23250\u001b[0m \u001b[32m━━━━━━━━━━━━━━━━━━━━\u001b[0m\u001b[37m\u001b[0m \u001b[1m48s\u001b[0m 2ms/step - accuracy: 0.9762 - loss: 0.2464 - val_accuracy: 0.9966 - val_loss: 0.1675\n",
            "Epoch 8/50\n",
            "\u001b[1m23250/23250\u001b[0m \u001b[32m━━━━━━━━━━━━━━━━━━━━\u001b[0m\u001b[37m\u001b[0m \u001b[1m48s\u001b[0m 2ms/step - accuracy: 0.9765 - loss: 0.2405 - val_accuracy: 0.9957 - val_loss: 0.1743\n",
            "Epoch 9/50\n",
            "\u001b[1m23250/23250\u001b[0m \u001b[32m━━━━━━━━━━━━━━━━━━━━\u001b[0m\u001b[37m\u001b[0m \u001b[1m49s\u001b[0m 2ms/step - accuracy: 0.9759 - loss: 0.2409 - val_accuracy: 0.9971 - val_loss: 0.1709\n",
            "Epoch 10/50\n",
            "\u001b[1m23250/23250\u001b[0m \u001b[32m━━━━━━━━━━━━━━━━━━━━\u001b[0m\u001b[37m\u001b[0m \u001b[1m48s\u001b[0m 2ms/step - accuracy: 0.9762 - loss: 0.2384 - val_accuracy: 0.9979 - val_loss: 0.1638\n",
            "Epoch 11/50\n",
            "\u001b[1m23250/23250\u001b[0m \u001b[32m━━━━━━━━━━━━━━━━━━━━\u001b[0m\u001b[37m\u001b[0m \u001b[1m48s\u001b[0m 2ms/step - accuracy: 0.9763 - loss: 0.2362 - val_accuracy: 0.9903 - val_loss: 0.1798\n",
            "Epoch 12/50\n",
            "\u001b[1m23250/23250\u001b[0m \u001b[32m━━━━━━━━━━━━━━━━━━━━\u001b[0m\u001b[37m\u001b[0m \u001b[1m48s\u001b[0m 2ms/step - accuracy: 0.9767 - loss: 0.2338 - val_accuracy: 0.9949 - val_loss: 0.1694\n",
            "Epoch 13/50\n",
            "\u001b[1m23250/23250\u001b[0m \u001b[32m━━━━━━━━━━━━━━━━━━━━\u001b[0m\u001b[37m\u001b[0m \u001b[1m48s\u001b[0m 2ms/step - accuracy: 0.9765 - loss: 0.2330 - val_accuracy: 0.9976 - val_loss: 0.1584\n",
            "Epoch 14/50\n",
            "\u001b[1m23250/23250\u001b[0m \u001b[32m━━━━━━━━━━━━━━━━━━━━\u001b[0m\u001b[37m\u001b[0m \u001b[1m48s\u001b[0m 2ms/step - accuracy: 0.9768 - loss: 0.2313 - val_accuracy: 0.9958 - val_loss: 0.1694\n",
            "Epoch 15/50\n",
            "\u001b[1m23250/23250\u001b[0m \u001b[32m━━━━━━━━━━━━━━━━━━━━\u001b[0m\u001b[37m\u001b[0m \u001b[1m47s\u001b[0m 2ms/step - accuracy: 0.9772 - loss: 0.2318 - val_accuracy: 0.9971 - val_loss: 0.1595\n",
            "Epoch 16/50\n",
            "\u001b[1m23250/23250\u001b[0m \u001b[32m━━━━━━━━━━━━━━━━━━━━\u001b[0m\u001b[37m\u001b[0m \u001b[1m49s\u001b[0m 2ms/step - accuracy: 0.9769 - loss: 0.2307 - val_accuracy: 0.9971 - val_loss: 0.1644\n",
            "Epoch 17/50\n",
            "\u001b[1m23250/23250\u001b[0m \u001b[32m━━━━━━━━━━━━━━━━━━━━\u001b[0m\u001b[37m\u001b[0m \u001b[1m49s\u001b[0m 2ms/step - accuracy: 0.9769 - loss: 0.2306 - val_accuracy: 0.9977 - val_loss: 0.1557\n",
            "Epoch 18/50\n",
            "\u001b[1m23250/23250\u001b[0m \u001b[32m━━━━━━━━━━━━━━━━━━━━\u001b[0m\u001b[37m\u001b[0m \u001b[1m49s\u001b[0m 2ms/step - accuracy: 0.9767 - loss: 0.2311 - val_accuracy: 0.9971 - val_loss: 0.1571\n",
            "Epoch 19/50\n",
            "\u001b[1m23250/23250\u001b[0m \u001b[32m━━━━━━━━━━━━━━━━━━━━\u001b[0m\u001b[37m\u001b[0m \u001b[1m50s\u001b[0m 2ms/step - accuracy: 0.9773 - loss: 0.2279 - val_accuracy: 0.9977 - val_loss: 0.1586\n",
            "Epoch 20/50\n",
            "\u001b[1m23250/23250\u001b[0m \u001b[32m━━━━━━━━━━━━━━━━━━━━\u001b[0m\u001b[37m\u001b[0m \u001b[1m50s\u001b[0m 2ms/step - accuracy: 0.9771 - loss: 0.2264 - val_accuracy: 0.9964 - val_loss: 0.1540\n",
            "Epoch 21/50\n",
            "\u001b[1m23250/23250\u001b[0m \u001b[32m━━━━━━━━━━━━━━━━━━━━\u001b[0m\u001b[37m\u001b[0m \u001b[1m50s\u001b[0m 2ms/step - accuracy: 0.9773 - loss: 0.2267 - val_accuracy: 0.9981 - val_loss: 0.1516\n",
            "Epoch 22/50\n",
            "\u001b[1m23250/23250\u001b[0m \u001b[32m━━━━━━━━━━━━━━━━━━━━\u001b[0m\u001b[37m\u001b[0m \u001b[1m52s\u001b[0m 2ms/step - accuracy: 0.9767 - loss: 0.2273 - val_accuracy: 0.9958 - val_loss: 0.1596\n",
            "Epoch 23/50\n",
            "\u001b[1m23250/23250\u001b[0m \u001b[32m━━━━━━━━━━━━━━━━━━━━\u001b[0m\u001b[37m\u001b[0m \u001b[1m51s\u001b[0m 2ms/step - accuracy: 0.9774 - loss: 0.2262 - val_accuracy: 0.9985 - val_loss: 0.1526\n",
            "Epoch 24/50\n",
            "\u001b[1m23250/23250\u001b[0m \u001b[32m━━━━━━━━━━━━━━━━━━━━\u001b[0m\u001b[37m\u001b[0m \u001b[1m51s\u001b[0m 2ms/step - accuracy: 0.9773 - loss: 0.2272 - val_accuracy: 0.9983 - val_loss: 0.1535\n",
            "Epoch 25/50\n",
            "\u001b[1m23250/23250\u001b[0m \u001b[32m━━━━━━━━━━━━━━━━━━━━\u001b[0m\u001b[37m\u001b[0m \u001b[1m51s\u001b[0m 2ms/step - accuracy: 0.9774 - loss: 0.2260 - val_accuracy: 0.9954 - val_loss: 0.1672\n",
            "Epoch 26/50\n",
            "\u001b[1m23250/23250\u001b[0m \u001b[32m━━━━━━━━━━━━━━━━━━━━\u001b[0m\u001b[37m\u001b[0m \u001b[1m50s\u001b[0m 2ms/step - accuracy: 0.9777 - loss: 0.2243 - val_accuracy: 0.9978 - val_loss: 0.1571\n",
            "Epoch 27/50\n",
            "\u001b[1m23250/23250\u001b[0m \u001b[32m━━━━━━━━━━━━━━━━━━━━\u001b[0m\u001b[37m\u001b[0m \u001b[1m50s\u001b[0m 2ms/step - accuracy: 0.9775 - loss: 0.2253 - val_accuracy: 0.9938 - val_loss: 0.1650\n",
            "Epoch 28/50\n",
            "\u001b[1m23250/23250\u001b[0m \u001b[32m━━━━━━━━━━━━━━━━━━━━\u001b[0m\u001b[37m\u001b[0m \u001b[1m50s\u001b[0m 2ms/step - accuracy: 0.9772 - loss: 0.2218 - val_accuracy: 0.9962 - val_loss: 0.1603\n",
            "Epoch 29/50\n",
            "\u001b[1m23250/23250\u001b[0m \u001b[32m━━━━━━━━━━━━━━━━━━━━\u001b[0m\u001b[37m\u001b[0m \u001b[1m50s\u001b[0m 2ms/step - accuracy: 0.9770 - loss: 0.2237 - val_accuracy: 0.9945 - val_loss: 0.1563\n",
            "Epoch 30/50\n",
            "\u001b[1m23250/23250\u001b[0m \u001b[32m━━━━━━━━━━━━━━━━━━━━\u001b[0m\u001b[37m\u001b[0m \u001b[1m50s\u001b[0m 2ms/step - accuracy: 0.9772 - loss: 0.2249 - val_accuracy: 0.9982 - val_loss: 0.1489\n",
            "Epoch 31/50\n",
            "\u001b[1m23250/23250\u001b[0m \u001b[32m━━━━━━━━━━━━━━━━━━━━\u001b[0m\u001b[37m\u001b[0m \u001b[1m50s\u001b[0m 2ms/step - accuracy: 0.9772 - loss: 0.2228 - val_accuracy: 0.9970 - val_loss: 0.1614\n",
            "Epoch 32/50\n",
            "\u001b[1m23250/23250\u001b[0m \u001b[32m━━━━━━━━━━━━━━━━━━━━\u001b[0m\u001b[37m\u001b[0m \u001b[1m49s\u001b[0m 2ms/step - accuracy: 0.9774 - loss: 0.2207 - val_accuracy: 0.9989 - val_loss: 0.1386\n",
            "Epoch 33/50\n",
            "\u001b[1m23250/23250\u001b[0m \u001b[32m━━━━━━━━━━━━━━━━━━━━\u001b[0m\u001b[37m\u001b[0m \u001b[1m49s\u001b[0m 2ms/step - accuracy: 0.9770 - loss: 0.2233 - val_accuracy: 0.9978 - val_loss: 0.1540\n",
            "Epoch 34/50\n",
            "\u001b[1m23250/23250\u001b[0m \u001b[32m━━━━━━━━━━━━━━━━━━━━\u001b[0m\u001b[37m\u001b[0m \u001b[1m50s\u001b[0m 2ms/step - accuracy: 0.9768 - loss: 0.2254 - val_accuracy: 0.9980 - val_loss: 0.1495\n",
            "Epoch 35/50\n",
            "\u001b[1m23250/23250\u001b[0m \u001b[32m━━━━━━━━━━━━━━━━━━━━\u001b[0m\u001b[37m\u001b[0m \u001b[1m46s\u001b[0m 2ms/step - accuracy: 0.9780 - loss: 0.2187 - val_accuracy: 0.9963 - val_loss: 0.1484\n",
            "Epoch 36/50\n",
            "\u001b[1m23250/23250\u001b[0m \u001b[32m━━━━━━━━━━━━━━━━━━━━\u001b[0m\u001b[37m\u001b[0m \u001b[1m45s\u001b[0m 2ms/step - accuracy: 0.9767 - loss: 0.2255 - val_accuracy: 0.9965 - val_loss: 0.1526\n",
            "Epoch 37/50\n",
            "\u001b[1m23250/23250\u001b[0m \u001b[32m━━━━━━━━━━━━━━━━━━━━\u001b[0m\u001b[37m\u001b[0m \u001b[1m45s\u001b[0m 2ms/step - accuracy: 0.9769 - loss: 0.2218 - val_accuracy: 0.9977 - val_loss: 0.1495\n",
            "Epoch 38/50\n",
            "\u001b[1m23250/23250\u001b[0m \u001b[32m━━━━━━━━━━━━━━━━━━━━\u001b[0m\u001b[37m\u001b[0m \u001b[1m45s\u001b[0m 2ms/step - accuracy: 0.9771 - loss: 0.2201 - val_accuracy: 0.9985 - val_loss: 0.1467\n",
            "Epoch 39/50\n",
            "\u001b[1m23250/23250\u001b[0m \u001b[32m━━━━━━━━━━━━━━━━━━━━\u001b[0m\u001b[37m\u001b[0m \u001b[1m46s\u001b[0m 2ms/step - accuracy: 0.9774 - loss: 0.2181 - val_accuracy: 0.9973 - val_loss: 0.1490\n",
            "Epoch 40/50\n",
            "\u001b[1m23250/23250\u001b[0m \u001b[32m━━━━━━━━━━━━━━━━━━━━\u001b[0m\u001b[37m\u001b[0m \u001b[1m47s\u001b[0m 2ms/step - accuracy: 0.9772 - loss: 0.2209 - val_accuracy: 0.9972 - val_loss: 0.1488\n",
            "Epoch 41/50\n",
            "\u001b[1m23250/23250\u001b[0m \u001b[32m━━━━━━━━━━━━━━━━━━━━\u001b[0m\u001b[37m\u001b[0m \u001b[1m48s\u001b[0m 2ms/step - accuracy: 0.9770 - loss: 0.2204 - val_accuracy: 0.9962 - val_loss: 0.1466\n",
            "Epoch 42/50\n",
            "\u001b[1m23250/23250\u001b[0m \u001b[32m━━━━━━━━━━━━━━━━━━━━\u001b[0m\u001b[37m\u001b[0m \u001b[1m49s\u001b[0m 2ms/step - accuracy: 0.9773 - loss: 0.2193 - val_accuracy: 0.9985 - val_loss: 0.1500\n",
            "\u001b[1m5813/5813\u001b[0m \u001b[32m━━━━━━━━━━━━━━━━━━━━\u001b[0m\u001b[37m\u001b[0m \u001b[1m7s\u001b[0m 1ms/step\n"
          ]
        }
      ]
    },
    {
      "cell_type": "code",
      "source": [
        "from sklearn.metrics import accuracy_score, classification_report, confusion_matrix, precision_score, recall_score, f1_score\n",
        "# Metrics\n",
        "accuracy = accuracy_score(y_true_classes, y_pred_classes)\n",
        "precision = precision_score(y_true_classes, y_pred_classes, average='weighted')\n",
        "recall = recall_score(y_true_classes, y_pred_classes, average='weighted')\n",
        "f1 = f1_score(y_true_classes, y_pred_classes, average='weighted')\n",
        "\n",
        "print(\"Accuracy: {:.10f}\".format(accuracy))\n",
        "print(\"Precision: {:.10f}\".format(precision))\n",
        "print(\"Recall: {:.10f}\".format(recall))\n",
        "print(\"F1-Score: {:.10f}\".format(f1))"
      ],
      "metadata": {
        "colab": {
          "base_uri": "https://localhost:8080/"
        },
        "id": "z-V2dsrbCVY3",
        "outputId": "26a1c23b-cff2-4088-a122-9124fc220472"
      },
      "execution_count": null,
      "outputs": [
        {
          "output_type": "stream",
          "name": "stdout",
          "text": [
            "Accuracy: 0.9988602151\n",
            "Precision: 0.9988623096\n",
            "Recall: 0.9988602151\n",
            "F1-Score: 0.9988602646\n"
          ]
        }
      ]
    },
    {
      "cell_type": "code",
      "source": [
        "# Evaluate the model\n",
        "y_pred = model.predict(X_test)\n",
        "y_pred_classes = np.argmax(y_pred, axis=1)\n",
        "y_true_classes = np.argmax(y_test, axis=1)\n",
        "\n",
        "# Metrics\n",
        "accuracy = accuracy_score(y_true_classes, y_pred_classes)\n",
        "precision = precision_score(y_true_classes, y_pred_classes, average='weighted')\n",
        "recall = recall_score(y_true_classes, y_pred_classes, average='weighted')\n",
        "f1 = f1_score(y_true_classes, y_pred_classes, average='weighted')\n",
        "\n",
        "print(\"Accuracy: {:.10f}\".format(accuracy))\n",
        "print(\"Precision: {:.10f}\".format(precision))\n",
        "print(\"Recall: {:.10f}\".format(recall))\n",
        "print(\"F1-Score: {:.10f}\".format(f1))"
      ],
      "metadata": {
        "colab": {
          "base_uri": "https://localhost:8080/"
        },
        "id": "nie6CiXoCVWL",
        "outputId": "73aa9458-39b8-4a47-e03a-aa191d3f7ef8"
      },
      "execution_count": null,
      "outputs": [
        {
          "output_type": "stream",
          "name": "stdout",
          "text": [
            "\u001b[1m5813/5813\u001b[0m \u001b[32m━━━━━━━━━━━━━━━━━━━━\u001b[0m\u001b[37m\u001b[0m \u001b[1m6s\u001b[0m 1ms/step\n",
            "Accuracy: 0.9988602151\n",
            "Precision: 0.9988623096\n",
            "Recall: 0.9988602151\n",
            "F1-Score: 0.9988602646\n"
          ]
        }
      ]
    },
    {
      "cell_type": "code",
      "source": [
        "# Confusion Matrix\n",
        "conf_matrix = confusion_matrix(y_true_classes, y_pred_classes)\n",
        "print(\"Confusion Matrix:\\n\", conf_matrix)"
      ],
      "metadata": {
        "colab": {
          "base_uri": "https://localhost:8080/"
        },
        "id": "mIbcr9xV4DvU",
        "outputId": "e2eafff2-4572-4e38-a649-48e3e9bb93f9"
      },
      "execution_count": null,
      "outputs": [
        {
          "output_type": "stream",
          "name": "stdout",
          "text": [
            "Confusion Matrix:\n",
            " [[18588     0     0     0     1     0     0     0     6     5]\n",
            " [    0 18600     0     0     0     0     0     0     0     0]\n",
            " [    0     0 18600     0     0     0     0     0     0     0]\n",
            " [    0     0     0 18495   105     0     0     0     0     0]\n",
            " [    8     0     0    11 18555    14     3     5     0     4]\n",
            " [    3     0     0     2     2 18588     5     0     0     0]\n",
            " [    0     0     0     1     5    27 18567     0     0     0]\n",
            " [    0     0     0     4     0     1     0 18595     0     0]\n",
            " [    0     0     0     0     0     0     0     0 18600     0]\n",
            " [    0     0     0     0     0     0     0     0     0 18600]]\n"
          ]
        }
      ]
    },
    {
      "cell_type": "code",
      "source": [
        "# Detection Rate (Recall for each class)\n",
        "print(\"Detection Rates per Class:\", recall_score(y_true_classes, y_pred_classes, average=None))"
      ],
      "metadata": {
        "colab": {
          "base_uri": "https://localhost:8080/"
        },
        "id": "0V_Jzg4l4FRV",
        "outputId": "c8284436-8bae-48f3-9ea0-67261006e5b1"
      },
      "execution_count": null,
      "outputs": [
        {
          "output_type": "stream",
          "name": "stdout",
          "text": [
            "Detection Rates per Class: [0.99935484 1.         1.         0.99435484 0.99758065 0.99935484\n",
            " 0.99822581 0.99973118 1.         1.        ]\n"
          ]
        }
      ]
    },
    {
      "cell_type": "code",
      "source": [
        "from sklearn.metrics import accuracy_score, classification_report, confusion_matrix, precision_score, recall_score, f1_score, roc_auc_score\n",
        "# Import roc_curve\n",
        "from sklearn.metrics import roc_curve # This line imports the roc_curve function\n",
        "from sklearn.metrics import auc # This line imports the auc function\n",
        "import matplotlib.pyplot as plt # Import the pyplot module from matplotlib as plt\n",
        "\n",
        "# After training, calculate ROC curves and AUC for each class\n",
        "n_classes = y_test.shape[1]\n",
        "fpr = dict()\n",
        "tpr = dict()\n",
        "roc_auc = dict()\n",
        "\n",
        "for i in range(n_classes):\n",
        "    fpr[i], tpr[i], _ = roc_curve(y_test[:, i], y_pred[:, i])\n",
        "    roc_auc[i] = auc(fpr[i], tpr[i])\n",
        "\n",
        "# Plot ROC curves\n",
        "plt.figure(figsize=(10, 8))\n",
        "colors = plt.cm.get_cmap('Set1')(np.linspace(0, 1, n_classes))\n",
        "\n",
        "for i, color in zip(range(n_classes), colors):\n",
        "    plt.plot(fpr[i], tpr[i], color=color, lw=2,\n",
        "             label='ROC curve of class {0} (AUC = {1:0.10f})'\n",
        "             ''.format(i, roc_auc[i]))\n",
        "\n",
        "plt.plot([0, 1], [0, 1], 'k--', lw=2)\n",
        "plt.xlim([0.0, 1.0])\n",
        "plt.ylim([0.0, 1.05])\n",
        "plt.xlabel('False Positive Rate')\n",
        "plt.ylabel('True Positive Rate')\n",
        "plt.title('Receiver Operating Characteristic (ROC) Curves')\n",
        "plt.legend(loc=\"lower right\")\n",
        "\n",
        "# Save the plot as a high-resolution image\n",
        "plt.savefig('roc_curves.png', dpi=300, bbox_inches='tight')\n",
        "plt.close()\n",
        "\n",
        "# Calculate and print AUC scores for each class\n",
        "print(\"\\nAUC Scores for each class:\")\n",
        "for i in range(n_classes):\n",
        "    print(f\"Class {i}: {roc_auc[i]:.10f}\")\n",
        "\n",
        "# Calculate macro-average AUC\n",
        "macro_roc_auc = np.mean(list(roc_auc.values()))\n",
        "print(f\"\\nMacro-average AUC: {macro_roc_auc:.10f}\")"
      ],
      "metadata": {
        "colab": {
          "base_uri": "https://localhost:8080/"
        },
        "id": "ZdNnZ--5n87t",
        "outputId": "75848061-5354-4c4f-9b6d-2ef2c94bfad5"
      },
      "execution_count": null,
      "outputs": [
        {
          "output_type": "stream",
          "name": "stderr",
          "text": [
            "<ipython-input-15-c5170017384f>:19: MatplotlibDeprecationWarning: The get_cmap function was deprecated in Matplotlib 3.7 and will be removed two minor releases later. Use ``matplotlib.colormaps[name]`` or ``matplotlib.colormaps.get_cmap(obj)`` instead.\n",
            "  colors = plt.cm.get_cmap('Set1')(np.linspace(0, 1, n_classes))\n"
          ]
        },
        {
          "output_type": "stream",
          "name": "stdout",
          "text": [
            "\n",
            "AUC Scores for each class:\n",
            "Class 0: 0.9999281169\n",
            "Class 1: 1.0000000000\n",
            "Class 2: 1.0000000000\n",
            "Class 3: 0.9999938628\n",
            "Class 4: 0.9998167560\n",
            "Class 5: 0.9999584653\n",
            "Class 6: 0.9999193410\n",
            "Class 7: 0.9999938082\n",
            "Class 8: 1.0000000000\n",
            "Class 9: 0.9999813940\n",
            "\n",
            "Macro-average AUC: 0.9999591744\n"
          ]
        }
      ]
    },
    {
      "cell_type": "code",
      "source": [
        "# Plot Training and Validation Loss\n",
        "plt.figure()\n",
        "plt.plot(history.history['loss'], label='Training Loss')\n",
        "plt.plot(history.history['val_loss'], label='Validation Loss')\n",
        "plt.title('Training and Validation Loss')\n",
        "plt.xlabel('Epochs')\n",
        "plt.ylabel('Loss')\n",
        "plt.ylim(0, 1)  # Set y-axis scale to 1\n",
        "plt.legend()\n",
        "plt.show()"
      ],
      "metadata": {
        "colab": {
          "base_uri": "https://localhost:8080/",
          "height": 472
        },
        "id": "-rq7gkS9XBlz",
        "outputId": "a9d2817b-0b1c-4fe9-891c-884db5480d9d"
      },
      "execution_count": null,
      "outputs": [
        {
          "output_type": "display_data",
          "data": {
            "text/plain": [
              "<Figure size 640x480 with 1 Axes>"
            ],
            "image/png": "[encoded data removed]"
          },
          "metadata": {}
        }
      ]
    },
    {
      "cell_type": "code",
      "source": [
        "import seaborn as sns\n",
        "import matplotlib.pyplot as plt\n",
        "import numpy as np\n",
        "import itertools\n",
        "import seaborn as sns\n",
        "from sklearn import metrics\n",
        "import matplotlib.pyplot as plt\n",
        "from sklearn.metrics import confusion_matrix\n",
        "def conf_mat(d1,d2):\n",
        "  cm = confusion_matrix(d1, d2)\n",
        "  #plt.figure(figsize=(6,5.5))\n",
        "  plt.figure(figsize=(8,6.5))\n",
        "  #ax = sns.heatmap(cm,  fmt='2', annot=True, cmap='tab20c')\n",
        "  ax = sns.heatmap(cm, annot=True, fmt=\".0f\", cmap=\"PuBu\",\n",
        "                 vmin=0, vmax=35000, center=0, square=True, linewidths=1.5)\n",
        "  sns.set(font_scale=1)\n",
        "  ax.set_xlabel('\\nPredicted Values')\n",
        "  ax.set_ylabel('Actual Values\\n');\n",
        "  ax.xaxis.set_ticklabels(['Normal','Analysis','Backdoor','DoS','Exploits','Fuzzers','Generic','Reconnaissance','Shellcode','Worms'])\n",
        "  ax.yaxis.set_ticklabels(['Normal','Analysis','Backdoor','DoS','Exploits','Fuzzers','Generic','Reconnaissance','Shellcode','Worms'])\n",
        "  ##plt.xticks(rotation=45)  # Add this line to rotate the x-axis labels by 45 degrees\n",
        "  ##plt.yticks(rotation=45)  # Add this line to rotate the x-axis labels by 45 degrees\n",
        "  plt.tight_layout()\n",
        "  # plt.savefig(\"F1.eps\", format = 'eps')\n",
        "  plt.show()"
      ],
      "metadata": {
        "id": "NELM7AEs4OUZ"
      },
      "execution_count": null,
      "outputs": []
    },
    {
      "cell_type": "code",
      "source": [
        "print(\"Confusion Matrix of Hybrid RF-LSTM Model\")\n",
        "#conf_mat(np.argmax(y_test, axis=1), test_rf_lstm_predictions)\n",
        "conf_matrix = confusion_matrix(y_true_classes, y_pred_classes)\n",
        "plt.figure(figsize=(8,6.5))\n",
        "# Use plt.xticks to set custom tick labels\n",
        "# Using get_xticklabels() to access the current labels and then setting rotation.\n",
        "plt.xticks(ticks=np.arange(10), labels=['Normal','Analysis','Backdoor','DoS','Exploits','Fuzzers','Generic','Reconnaissance','Shellcode','Worms'], rotation=45)\n",
        "plt.yticks(ticks=np.arange(10), labels=['Normal','Analysis','Backdoor','DoS','Exploits','Fuzzers','Generic','Reconnaissance','Shellcode','Worms'], rotation=45)\n",
        "sns.heatmap(conf_matrix, annot=True, fmt='2', cmap='bone',xticklabels=['Normal','Analysis','Backdoor','DoS','Exploits','Fuzzers','Generic','Reconnaissance','Shellcode','Worms'], yticklabels=['Normal','Analysis','Backdoor','DoS','Exploits','Fuzzers','Generic','Reconnaissance','Shellcode','Worms'])\n",
        "sns.set(font_scale=1)\n",
        "plt.show() # Display the heatmap"
      ],
      "metadata": {
        "colab": {
          "base_uri": "https://localhost:8080/",
          "height": 675
        },
        "id": "FWP1ifiK4Pwz",
        "outputId": "1a0d74de-8778-4511-abcf-cb59e8b4e288"
      },
      "execution_count": null,
      "outputs": [
        {
          "output_type": "stream",
          "name": "stdout",
          "text": [
            "Confusion Matrix of Hybrid RF-LSTM Model\n"
          ]
        },
        {
          "output_type": "display_data",
          "data": {
            "text/plain": [
              "<Figure size 800x650 with 2 Axes>"
            ],
            "image/png": "[encoded data removed]"
          },
          "metadata": {}
        }
      ]
    },
    {
      "cell_type": "code",
      "source": [
        "def conf_mat(d1,d2):\n",
        "  cm = confusion_matrix(y_true_classes, y_pred_classes)\n",
        "  #plt.figure(figsize=(6,5.5))\n",
        "  plt.figure(figsize=(8,6.5))\n",
        "  #ax = sns.heatmap(cm,  fmt='2', annot=True, cmap='tab20c')\n",
        "  ax = sns.heatmap(cm, annot=True, fmt=\".0f\", cmap=\"gist_yarg\",\n",
        "                 vmin=0, vmax=5600, center=0, square=True, linewidths=1.5)\n",
        "  sns.set(font_scale=0.85)\n",
        "  ax.set_xlabel('\\nPredicted Values')\n",
        "  ax.set_ylabel('Actual Values\\n');\n",
        "  ax.xaxis.set_ticklabels(['Normal','Analysis','Backdoor','DoS','Exploits','Fuzzers','Generic','Reconnaissance','Shellcode','Worms'])\n",
        "  ax.yaxis.set_ticklabels(['Normal','Analysis','Backdoor','DoS','Exploits','Fuzzers','Generic','Reconnaissance','Shellcode','Worms'])\n",
        "  plt.xticks(rotation=45)  # Add this line to rotate the x-axis labels by 45 degrees\n",
        "  plt.yticks(rotation=45)  # Add this line to rotate the x-axis labels by 45 degrees\n",
        "  plt.tight_layout()\n",
        "  # plt.savefig(\"F1.eps\", format = 'eps')\n",
        "  plt.show()"
      ],
      "metadata": {
        "id": "zaJk_g6Me4vK"
      },
      "execution_count": null,
      "outputs": []
    },
    {
      "cell_type": "code",
      "source": [
        "print(\"Confusion Matrix of Federated DL// MLP-LSTM Model\")\n",
        "conf_mat(y_true_classes, y_pred_classes)"
      ],
      "metadata": {
        "colab": {
          "base_uri": "https://localhost:8080/",
          "height": 675
        },
        "id": "vo4h4csDe3Hv",
        "outputId": "7f094f37-5bc4-4958-fbf4-8d801007c60b"
      },
      "execution_count": null,
      "outputs": [
        {
          "output_type": "stream",
          "name": "stdout",
          "text": [
            "Confusion Matrix of Federated DL// MLP-LSTM Model\n"
          ]
        },
        {
          "output_type": "display_data",
          "data": {
            "text/plain": [
              "<Figure size 800x650 with 2 Axes>"
            ],
            "image/png": "[encoded data removed]"
          },
          "metadata": {}
        }
      ]
    },
    {
      "cell_type": "markdown",
      "source": [
        "**Federated Learning Simulation (FedAvg)**"
      ],
      "metadata": {
        "id": "VrhDYntPs6jU"
      }
    },
    {
      "cell_type": "code",
      "source": [
        "# Federated Learning Simulation (FedAvg)\n",
        "def federated_learning_simulation(X_train, y_train, X_test, y_test, num_clients=5):\n",
        "    # Split training data among clients\n",
        "    client_data = np.array_split(X_train, num_clients)\n",
        "    client_labels = np.array_split(y_train, num_clients)\n",
        "\n",
        "    # Initialize the global model\n",
        "    global_model = build_hybrid_model(input_shape, num_classes)\n",
        "    global_model.compile(optimizer='adam', loss='categorical_crossentropy', metrics=['accuracy'])  # Compile the global model\n",
        "    global_weights = global_model.get_weights()\n",
        "\n",
        "    for round in range(10):  # Simulate 10 communication rounds\n",
        "        local_weights = []\n",
        "\n",
        "        for i in range(num_clients):\n",
        "            local_model = build_hybrid_model(input_shape, num_classes)\n",
        "            local_model.set_weights(global_weights)\n",
        "            local_model.compile(optimizer='adam', loss='categorical_crossentropy', metrics=['accuracy'])  # Compile the local model\n",
        "\n",
        "            # Train the local model\n",
        "            local_model.fit(client_data[i], client_labels[i], epochs=1, batch_size=32, verbose=0)\n",
        "            local_weights.append(local_model.get_weights())\n",
        "\n",
        "        # Aggregate weights (FedAvg)\n",
        "        global_weights = [\n",
        "            np.mean([local_weights[j][i] for j in range(num_clients)], axis=0)\n",
        "            for i in range(len(global_weights))\n",
        "        ]\n",
        "        global_model.set_weights(global_weights)\n",
        "\n",
        "        # Evaluate the global model\n",
        "        loss, acc = global_model.evaluate(X_test, y_test, verbose=0)\n",
        "        print(f\"Round {round + 1}: Global Model Accuracy = {acc:.10f}\")\n",
        "\n",
        "# Call the federated learning simulation function\n",
        "federated_learning_simulation(X_train, y_train, X_test, y_test)"
      ],
      "metadata": {
        "colab": {
          "base_uri": "https://localhost:8080/"
        },
        "id": "4m0tmGDxjG7t",
        "outputId": "1acab922-3b52-452c-852e-a5d3d64e2ac8"
      },
      "execution_count": null,
      "outputs": [
        {
          "output_type": "stream",
          "name": "stdout",
          "text": [
            "Round 1: Global Model Accuracy = 0.9881021380\n",
            "Round 2: Global Model Accuracy = 0.9971666932\n",
            "Round 3: Global Model Accuracy = 0.9969838858\n",
            "Round 4: Global Model Accuracy = 0.9971451759\n",
            "Round 5: Global Model Accuracy = 0.9967580438\n",
            "Round 6: Global Model Accuracy = 0.9972043037\n",
            "Round 7: Global Model Accuracy = 0.9977580905\n",
            "Round 8: Global Model Accuracy = 0.9978548288\n",
            "Round 9: Global Model Accuracy = 0.9960053563\n",
            "Round 10: Global Model Accuracy = 0.9973978400\n"
          ]
        }
      ]
    },
    {
      "cell_type": "code",
      "source": [
        "import time\n",
        "from sklearn.metrics import classification_report, confusion_matrix, accuracy_score, precision_score, recall_score, f1_score\n",
        "\n",
        "# Function to measure model performance\n",
        "def evaluate_global_model(global_model, X_test, y_test):\n",
        "    y_pred = global_model.predict(X_test)\n",
        "    y_pred_classes = np.argmax(y_pred, axis=1)\n",
        "    y_true_classes = np.argmax(y_test, axis=1)\n",
        "\n",
        "    # Compute performance metrics\n",
        "    accuracy = accuracy_score(y_true_classes, y_pred_classes)\n",
        "    precision = precision_score(y_true_classes, y_pred_classes, average='weighted')\n",
        "    recall = recall_score(y_true_classes, y_pred_classes, average='weighted')\n",
        "    f1 = f1_score(y_true_classes, y_pred_classes, average='weighted')\n",
        "    cm = confusion_matrix(y_true_classes, y_pred_classes)\n",
        "\n",
        "    print(\"\\nModel Performance Metrics:\")\n",
        "    print(f\"Accuracy: {accuracy:.10f}\")\n",
        "    print(f\"Precision: {precision:.10f}\")\n",
        "    print(f\"Recall: {recall:.10f}\")\n",
        "    print(f\"F1-Score: {f1:.10f}\")\n",
        "    print(\"\\nConfusion Matrix:\")\n",
        "    print(cm)\n",
        "\n",
        "    return accuracy, precision, recall, f1\n",
        "\n",
        "# Function to analyze communication overhead\n",
        "def analyze_communication_overhead(local_weights, global_weights):\n",
        "    communication_cost = 0\n",
        "    for i in range(len(local_weights)):\n",
        "        # Compute the size of weights transmitted between clients and server\n",
        "        communication_cost += sum(w.nbytes for w in local_weights[i])\n",
        "    communication_cost += sum(w.nbytes for w in global_weights)\n",
        "\n",
        "    print(f\"\\nCommunication Overhead: {communication_cost / (1024 ** 2):.2f} MB\")  # in megabytes\n",
        "\n",
        "# Federated Learning Simulation (FedAvg)\n",
        "def federated_learning_simulation(X_train, y_train, X_test, y_test, num_clients=5):\n",
        "    client_data = np.array_split(X_train, num_clients)\n",
        "    client_labels = np.array_split(y_train, num_clients)\n",
        "\n",
        "    global_model = build_hybrid_model(input_shape, num_classes)\n",
        "    global_model.compile(optimizer='adam', loss='categorical_crossentropy', metrics=['accuracy'])\n",
        "    global_weights = global_model.get_weights()\n",
        "\n",
        "    communication_overhead = []\n",
        "    latency_per_round = []\n",
        "\n",
        "    for round in range(10):  # Simulate 10 communication rounds\n",
        "        local_weights = []\n",
        "\n",
        "        start_time = time.time()  # Start measuring latency\n",
        "\n",
        "        for i in range(num_clients):\n",
        "            local_model = build_hybrid_model(input_shape, num_classes)\n",
        "            local_model.set_weights(global_weights)\n",
        "            local_model.compile(optimizer='adam', loss='categorical_crossentropy', metrics=['accuracy'])\n",
        "\n",
        "            local_model.fit(client_data[i], client_labels[i], epochs=1, batch_size=32, verbose=0)\n",
        "            local_weights.append(local_model.get_weights())\n",
        "\n",
        "        # Aggregate weights (FedAvg)\n",
        "        global_weights = [\n",
        "            np.mean([local_weights[j][i] for j in range(num_clients)], axis=0)\n",
        "            for i in range(len(global_weights))\n",
        "        ]\n",
        "        global_model.set_weights(global_weights)\n",
        "\n",
        "        # Measure latency\n",
        "        end_time = time.time()\n",
        "        latency = end_time - start_time\n",
        "        latency_per_round.append(latency)\n",
        "\n",
        "        # Measure communication overhead\n",
        "        analyze_communication_overhead(local_weights, global_weights)\n",
        "\n",
        "        # Evaluate the global model\n",
        "        loss, acc = global_model.evaluate(X_test, y_test, verbose=0)\n",
        "        print(f\"\\nRound {round + 1}: Global Model Accuracy = {acc:.10f}\")\n",
        "\n",
        "        # Evaluate model performance metrics\n",
        "        evaluate_global_model(global_model, X_test, y_test)\n",
        "\n",
        "    # Summarize overall latency\n",
        "    print(\"\\nLatency Analysis:\")\n",
        "    print(f\"Average Latency per Round: {np.mean(latency_per_round):.2f} seconds\")\n",
        "    print(f\"Total Latency for 10 Rounds: {np.sum(latency_per_round):.2f} seconds\")\n",
        "\n",
        "# Call the federated learning simulation function\n",
        "federated_learning_simulation(X_train, y_train, X_test, y_test)"
      ],
      "metadata": {
        "colab": {
          "base_uri": "https://localhost:8080/"
        },
        "id": "95rgvCs-fyD9",
        "outputId": "be142a92-39f3-4965-d719-13c3ac7f1d23"
      },
      "execution_count": null,
      "outputs": [
        {
          "output_type": "stream",
          "name": "stderr",
          "text": [
            "/usr/local/lib/python3.10/dist-packages/keras/src/layers/core/dense.py:87: UserWarning: Do not pass an `input_shape`/`input_dim` argument to a layer. When using Sequential models, prefer using an `Input(shape)` object as the first layer in the model instead.\n",
            "  super().__init__(activity_regularizer=activity_regularizer, **kwargs)\n"
          ]
        },
        {
          "output_type": "stream",
          "name": "stdout",
          "text": [
            "\n",
            "Communication Overhead: 0.38 MB\n",
            "\n",
            "Round 1: Global Model Accuracy = 0.9067742229\n",
            "\u001b[1m5813/5813\u001b[0m \u001b[32m━━━━━━━━━━━━━━━━━━━━\u001b[0m\u001b[37m\u001b[0m \u001b[1m7s\u001b[0m 1ms/step\n",
            "\n",
            "Model Performance Metrics:\n",
            "Accuracy: 0.9067741935\n",
            "Precision: 0.9487173493\n",
            "Recall: 0.9067741935\n",
            "F1-Score: 0.8848029893\n",
            "\n",
            "Confusion Matrix:\n",
            "[[18600     0     0     0     0     0     0     0     0     0]\n",
            " [    0  2047 16553     0     0     0     0     0     0     0]\n",
            " [    0     0 18600     0     0     0     0     0     0     0]\n",
            " [    0     0     0 18599     1     0     0     0     0     0]\n",
            " [    0     0     0    18 18574     8     0     0     0     0]\n",
            " [    0     0     0     0    26 18483    91     0     0     0]\n",
            " [    0     0     0     1     5   313 18280     1     0     0]\n",
            " [    0     0     0     0     0     0     4 18562    16    18]\n",
            " [    0     0     0     0     0     0     0     0 18600     0]\n",
            " [    0     0     0     0     0     0     0     0   285 18315]]\n"
          ]
        },
        {
          "output_type": "stream",
          "name": "stderr",
          "text": [
            "/usr/local/lib/python3.10/dist-packages/keras/src/layers/core/dense.py:87: UserWarning: Do not pass an `input_shape`/`input_dim` argument to a layer. When using Sequential models, prefer using an `Input(shape)` object as the first layer in the model instead.\n",
            "  super().__init__(activity_regularizer=activity_regularizer, **kwargs)\n"
          ]
        },
        {
          "output_type": "stream",
          "name": "stdout",
          "text": [
            "\n",
            "Communication Overhead: 0.38 MB\n",
            "\n",
            "Round 2: Global Model Accuracy = 0.9970322847\n",
            "\u001b[1m5813/5813\u001b[0m \u001b[32m━━━━━━━━━━━━━━━━━━━━\u001b[0m\u001b[37m\u001b[0m \u001b[1m7s\u001b[0m 1ms/step\n",
            "\n",
            "Model Performance Metrics:\n",
            "Accuracy: 0.9970322581\n",
            "Precision: 0.9970620787\n",
            "Recall: 0.9970322581\n",
            "F1-Score: 0.9970321647\n",
            "\n",
            "Confusion Matrix:\n",
            "[[18600     0     0     0     0     0     0     0     0     0]\n",
            " [    0 18600     0     0     0     0     0     0     0     0]\n",
            " [    0     0 18600     0     0     0     0     0     0     0]\n",
            " [    0     0     0 18490   110     0     0     0     0     0]\n",
            " [    0     0     0    10 18584     6     0     0     0     0]\n",
            " [    0     0     0     0     4 18555    41     0     0     0]\n",
            " [    1     0     0     0     4   345 18248     2     0     0]\n",
            " [    0     0     0     0     1     0     4 18571    20     4]\n",
            " [    0     0     0     0     0     0     0     0 18600     0]\n",
            " [    0     0     0     0     0     0     0     0     0 18600]]\n"
          ]
        },
        {
          "output_type": "stream",
          "name": "stderr",
          "text": [
            "/usr/local/lib/python3.10/dist-packages/keras/src/layers/core/dense.py:87: UserWarning: Do not pass an `input_shape`/`input_dim` argument to a layer. When using Sequential models, prefer using an `Input(shape)` object as the first layer in the model instead.\n",
            "  super().__init__(activity_regularizer=activity_regularizer, **kwargs)\n"
          ]
        },
        {
          "output_type": "stream",
          "name": "stdout",
          "text": [
            "\n",
            "Communication Overhead: 0.38 MB\n",
            "\n",
            "Round 3: Global Model Accuracy = 0.9976774454\n",
            "\u001b[1m5813/5813\u001b[0m \u001b[32m━━━━━━━━━━━━━━━━━━━━\u001b[0m\u001b[37m\u001b[0m \u001b[1m7s\u001b[0m 1ms/step\n",
            "\n",
            "Model Performance Metrics:\n",
            "Accuracy: 0.9976774194\n",
            "Precision: 0.9977100224\n",
            "Recall: 0.9976774194\n",
            "F1-Score: 0.9976775486\n",
            "\n",
            "Confusion Matrix:\n",
            "[[18600     0     0     0     0     0     0     0     0     0]\n",
            " [    0 18600     0     0     0     0     0     0     0     0]\n",
            " [    0     0 18600     0     0     0     0     0     0     0]\n",
            " [    0     0     0 18566    34     0     0     0     0     0]\n",
            " [    0     0     0     8 18581     6     4     0     0     1]\n",
            " [    0     0     0     0     0 18589    11     0     0     0]\n",
            " [    0     0     0     0     0   347 18253     0     0     0]\n",
            " [    0     0     0     0     0     0     4 18579    17     0]\n",
            " [    0     0     0     0     0     0     0     0 18600     0]\n",
            " [    0     0     0     0     0     0     0     0     0 18600]]\n"
          ]
        },
        {
          "output_type": "stream",
          "name": "stderr",
          "text": [
            "/usr/local/lib/python3.10/dist-packages/keras/src/layers/core/dense.py:87: UserWarning: Do not pass an `input_shape`/`input_dim` argument to a layer. When using Sequential models, prefer using an `Input(shape)` object as the first layer in the model instead.\n",
            "  super().__init__(activity_regularizer=activity_regularizer, **kwargs)\n"
          ]
        },
        {
          "output_type": "stream",
          "name": "stdout",
          "text": [
            "\n",
            "Communication Overhead: 0.38 MB\n",
            "\n",
            "Round 4: Global Model Accuracy = 0.9975322485\n",
            "\u001b[1m5813/5813\u001b[0m \u001b[32m━━━━━━━━━━━━━━━━━━━━\u001b[0m\u001b[37m\u001b[0m \u001b[1m6s\u001b[0m 1ms/step\n",
            "\n",
            "Model Performance Metrics:\n",
            "Accuracy: 0.9975322581\n",
            "Precision: 0.9975565006\n",
            "Recall: 0.9975322581\n",
            "F1-Score: 0.9975325416\n",
            "\n",
            "Confusion Matrix:\n",
            "[[18600     0     0     0     0     0     0     0     0     0]\n",
            " [    0 18600     0     0     0     0     0     0     0     0]\n",
            " [    0     0 18600     0     0     0     0     0     0     0]\n",
            " [    3     0     0 18525    72     0     0     0     0     0]\n",
            " [    1     1     1    38 18545    14     0     0     0     0]\n",
            " [    0     0     0     0     4 18587     9     0     0     0]\n",
            " [    1     0     0     0     2   290 18307     0     0     0]\n",
            " [    0     0     0     0     0     0     5 18577    18     0]\n",
            " [    0     0     0     0     0     0     0     0 18600     0]\n",
            " [    0     0     0     0     0     0     0     0     0 18600]]\n"
          ]
        },
        {
          "output_type": "stream",
          "name": "stderr",
          "text": [
            "/usr/local/lib/python3.10/dist-packages/keras/src/layers/core/dense.py:87: UserWarning: Do not pass an `input_shape`/`input_dim` argument to a layer. When using Sequential models, prefer using an `Input(shape)` object as the first layer in the model instead.\n",
            "  super().__init__(activity_regularizer=activity_regularizer, **kwargs)\n"
          ]
        },
        {
          "output_type": "stream",
          "name": "stdout",
          "text": [
            "\n",
            "Communication Overhead: 0.38 MB\n",
            "\n",
            "Round 5: Global Model Accuracy = 0.9969892502\n",
            "\u001b[1m5813/5813\u001b[0m \u001b[32m━━━━━━━━━━━━━━━━━━━━\u001b[0m\u001b[37m\u001b[0m \u001b[1m6s\u001b[0m 1ms/step\n",
            "\n",
            "Model Performance Metrics:\n",
            "Accuracy: 0.9969892473\n",
            "Precision: 0.9970137166\n",
            "Recall: 0.9969892473\n",
            "F1-Score: 0.9969898936\n",
            "\n",
            "Confusion Matrix:\n",
            "[[18600     0     0     0     0     0     0     0     0     0]\n",
            " [    0 18600     0     0     0     0     0     0     0     0]\n",
            " [    0     0 18600     0     0     0     0     0     0     0]\n",
            " [    1     0     0 18438   132     0    29     0     0     0]\n",
            " [    0     0     0     8 18516    33    43     0     0     0]\n",
            " [    0     0     0     0     0 18592     8     0     0     0]\n",
            " [    1     0     0     0     0   284 18315     0     0     0]\n",
            " [    0     0     0     0     0     0     4 18579    17     0]\n",
            " [    0     0     0     0     0     0     0     0 18600     0]\n",
            " [    0     0     0     0     0     0     0     0     0 18600]]\n"
          ]
        },
        {
          "output_type": "stream",
          "name": "stderr",
          "text": [
            "/usr/local/lib/python3.10/dist-packages/keras/src/layers/core/dense.py:87: UserWarning: Do not pass an `input_shape`/`input_dim` argument to a layer. When using Sequential models, prefer using an `Input(shape)` object as the first layer in the model instead.\n",
            "  super().__init__(activity_regularizer=activity_regularizer, **kwargs)\n"
          ]
        },
        {
          "output_type": "stream",
          "name": "stdout",
          "text": [
            "\n",
            "Communication Overhead: 0.38 MB\n",
            "\n",
            "Round 6: Global Model Accuracy = 0.9975322485\n",
            "\u001b[1m5813/5813\u001b[0m \u001b[32m━━━━━━━━━━━━━━━━━━━━\u001b[0m\u001b[37m\u001b[0m \u001b[1m6s\u001b[0m 1ms/step\n",
            "\n",
            "Model Performance Metrics:\n",
            "Accuracy: 0.9975322581\n",
            "Precision: 0.9975557027\n",
            "Recall: 0.9975322581\n",
            "F1-Score: 0.9975325231\n",
            "\n",
            "Confusion Matrix:\n",
            "[[18600     0     0     0     0     0     0     0     0     0]\n",
            " [    0 18600     0     0     0     0     0     0     0     0]\n",
            " [    0     0 18600     0     0     0     0     0     0     0]\n",
            " [    0     0     0 18455   139     0     6     0     0     0]\n",
            " [    0     0     0     0 18585    12     1     0     0     2]\n",
            " [    0     0     0     0     1 18589    10     0     0     0]\n",
            " [    0     0     0     0     0   256 18344     0     0     0]\n",
            " [    0     0     0     0     0     0     4 18568    28     0]\n",
            " [    0     0     0     0     0     0     0     0 18600     0]\n",
            " [    0     0     0     0     0     0     0     0     0 18600]]\n"
          ]
        },
        {
          "output_type": "stream",
          "name": "stderr",
          "text": [
            "/usr/local/lib/python3.10/dist-packages/keras/src/layers/core/dense.py:87: UserWarning: Do not pass an `input_shape`/`input_dim` argument to a layer. When using Sequential models, prefer using an `Input(shape)` object as the first layer in the model instead.\n",
            "  super().__init__(activity_regularizer=activity_regularizer, **kwargs)\n"
          ]
        },
        {
          "output_type": "stream",
          "name": "stdout",
          "text": [
            "\n",
            "Communication Overhead: 0.38 MB\n",
            "\n",
            "Round 7: Global Model Accuracy = 0.9978656173\n",
            "\u001b[1m5813/5813\u001b[0m \u001b[32m━━━━━━━━━━━━━━━━━━━━\u001b[0m\u001b[37m\u001b[0m \u001b[1m7s\u001b[0m 1ms/step\n",
            "\n",
            "Model Performance Metrics:\n",
            "Accuracy: 0.9978655914\n",
            "Precision: 0.9978780848\n",
            "Recall: 0.9978655914\n",
            "F1-Score: 0.9978662825\n",
            "\n",
            "Confusion Matrix:\n",
            "[[18600     0     0     0     0     0     0     0     0     0]\n",
            " [    0 18600     0     0     0     0     0     0     0     0]\n",
            " [    0     0 18600     0     0     0     0     0     0     0]\n",
            " [    0     3     0 18485    94     0    18     0     0     0]\n",
            " [    0     1     0     3 18532    41    23     0     0     0]\n",
            " [    0     0     0     0     0 18591     9     0     0     0]\n",
            " [    0     0     0     0     1   184 18414     0     0     1]\n",
            " [    0     0     0     0     0     0     5 18581    14     0]\n",
            " [    0     0     0     0     0     0     0     0 18600     0]\n",
            " [    0     0     0     0     0     0     0     0     0 18600]]\n"
          ]
        },
        {
          "output_type": "stream",
          "name": "stderr",
          "text": [
            "/usr/local/lib/python3.10/dist-packages/keras/src/layers/core/dense.py:87: UserWarning: Do not pass an `input_shape`/`input_dim` argument to a layer. When using Sequential models, prefer using an `Input(shape)` object as the first layer in the model instead.\n",
            "  super().__init__(activity_regularizer=activity_regularizer, **kwargs)\n"
          ]
        },
        {
          "output_type": "stream",
          "name": "stdout",
          "text": [
            "\n",
            "Communication Overhead: 0.38 MB\n",
            "\n",
            "Round 8: Global Model Accuracy = 0.9974139929\n",
            "\u001b[1m5813/5813\u001b[0m \u001b[32m━━━━━━━━━━━━━━━━━━━━\u001b[0m\u001b[37m\u001b[0m \u001b[1m7s\u001b[0m 1ms/step\n",
            "\n",
            "Model Performance Metrics:\n",
            "Accuracy: 0.9974139785\n",
            "Precision: 0.9974420872\n",
            "Recall: 0.9974139785\n",
            "F1-Score: 0.9974140663\n",
            "\n",
            "Confusion Matrix:\n",
            "[[18600     0     0     0     0     0     0     0     0     0]\n",
            " [    0 18600     0     0     0     0     0     0     0     0]\n",
            " [    0     0 18600     0     0     0     0     0     0     0]\n",
            " [    1     0     0 18480   107     0    12     0     0     0]\n",
            " [    0     0     0     8 18577    10     3     0     0     2]\n",
            " [    0     0     0     0     0 18591     9     0     0     0]\n",
            " [    1     0     0     0     0   309 18290     0     0     0]\n",
            " [    0     0     0     0     0     0     5 18581    14     0]\n",
            " [    0     0     0     0     0     0     0     0 18600     0]\n",
            " [    0     0     0     0     0     0     0     0     0 18600]]\n"
          ]
        },
        {
          "output_type": "stream",
          "name": "stderr",
          "text": [
            "/usr/local/lib/python3.10/dist-packages/keras/src/layers/core/dense.py:87: UserWarning: Do not pass an `input_shape`/`input_dim` argument to a layer. When using Sequential models, prefer using an `Input(shape)` object as the first layer in the model instead.\n",
            "  super().__init__(activity_regularizer=activity_regularizer, **kwargs)\n"
          ]
        },
        {
          "output_type": "stream",
          "name": "stdout",
          "text": [
            "\n",
            "Communication Overhead: 0.38 MB\n",
            "\n",
            "Round 9: Global Model Accuracy = 0.9953763485\n",
            "\u001b[1m5813/5813\u001b[0m \u001b[32m━━━━━━━━━━━━━━━━━━━━\u001b[0m\u001b[37m\u001b[0m \u001b[1m6s\u001b[0m 1ms/step\n",
            "\n",
            "Model Performance Metrics:\n",
            "Accuracy: 0.9953763441\n",
            "Precision: 0.9954941490\n",
            "Recall: 0.9953763441\n",
            "F1-Score: 0.9953884936\n",
            "\n",
            "Confusion Matrix:\n",
            "[[18600     0     0     0     0     0     0     0     0     0]\n",
            " [    0 18600     0     0     0     0     0     0     0     0]\n",
            " [    0     0 18600     0     0     0     0     0     0     0]\n",
            " [    1     0     0 18474    97     0    28     0     0     0]\n",
            " [    0     0     0     2 18091   502     5     0     0     0]\n",
            " [    3     0     0     0     0 18588     9     0     0     0]\n",
            " [    1     0     0     0     0   191 18408     0     0     0]\n",
            " [    0     0     0     0     0     0     5 18579    16     0]\n",
            " [    0     0     0     0     0     0     0     0 18600     0]\n",
            " [    0     0     0     0     0     0     0     0     0 18600]]\n"
          ]
        },
        {
          "output_type": "stream",
          "name": "stderr",
          "text": [
            "/usr/local/lib/python3.10/dist-packages/keras/src/layers/core/dense.py:87: UserWarning: Do not pass an `input_shape`/`input_dim` argument to a layer. When using Sequential models, prefer using an `Input(shape)` object as the first layer in the model instead.\n",
            "  super().__init__(activity_regularizer=activity_regularizer, **kwargs)\n"
          ]
        },
        {
          "output_type": "stream",
          "name": "stdout",
          "text": [
            "\n",
            "Communication Overhead: 0.38 MB\n",
            "\n",
            "Round 10: Global Model Accuracy = 0.9981558919\n",
            "\u001b[1m5813/5813\u001b[0m \u001b[32m━━━━━━━━━━━━━━━━━━━━\u001b[0m\u001b[37m\u001b[0m \u001b[1m6s\u001b[0m 1ms/step\n",
            "\n",
            "Model Performance Metrics:\n",
            "Accuracy: 0.9981559140\n",
            "Precision: 0.9981665603\n",
            "Recall: 0.9981559140\n",
            "F1-Score: 0.9981567287\n",
            "\n",
            "Confusion Matrix:\n",
            "[[18600     0     0     0     0     0     0     0     0     0]\n",
            " [    0 18600     0     0     0     0     0     0     0     0]\n",
            " [    0     0 18600     0     0     0     0     0     0     0]\n",
            " [    0     0     1 18477   122     0     0     0     0     0]\n",
            " [    0     0     0     5 18546    49     0     0     0     0]\n",
            " [    0     0     0     0     0 18594     6     0     0     0]\n",
            " [    1     0     0     0     2   123 18474     0     0     0]\n",
            " [    0     0     0     0     3     0     2 18566    29     0]\n",
            " [    0     0     0     0     0     0     0     0 18600     0]\n",
            " [    0     0     0     0     0     0     0     0     0 18600]]\n",
            "\n",
            "Latency Analysis:\n",
            "Average Latency per Round: 48.08 seconds\n",
            "Total Latency for 10 Rounds: 480.83 seconds\n"
          ]
        }
      ]
    }
  ]
}