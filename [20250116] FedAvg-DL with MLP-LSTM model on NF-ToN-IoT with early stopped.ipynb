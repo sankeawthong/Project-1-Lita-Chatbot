{
  "nbformat": 4,
  "nbformat_minor": 0,
  "metadata": {
    "colab": {
      "provenance": [],
      "machine_shape": "hm",
      "authorship_tag": "ABX9TyMA2yzaSUjyjCu3e0XEB1ek",
      "include_colab_link": true
    },
    "kernelspec": {
      "name": "python3",
      "display_name": "Python 3"
    },
    "language_info": {
      "name": "python"
    }
  },
  "cells": [
    {
      "cell_type": "markdown",
      "metadata": {
        "id": "view-in-github",
        "colab_type": "text"
      },
      "source": [
        "<a href=\"https://colab.research.google.com/github/sankeawthong/Project-1-Lita-Chatbot/blob/main/%5B20250116%5D%20FedAvg-DL%20with%20MLP-LSTM%20model%20on%20NF-ToN-IoT%20with%20early%20stopped.ipynb\" target=\"_parent\"><img src=\"https://colab.research.google.com/assets/colab-badge.svg\" alt=\"Open In Colab\"/></a>"
      ]
    },
    {
      "cell_type": "markdown",
      "source": [
        "**FedAvg-DL // MLP-LSTM model 10 classes on NF-ToN-IoT**"
      ],
      "metadata": {
        "id": "NdJw5-HPtPeU"
      }
    },
    {
      "cell_type": "code",
      "execution_count": null,
      "metadata": {
        "id": "Kys3NgWmCB12"
      },
      "outputs": [],
      "source": [
        "import pandas as pd\n",
        "import numpy as np\n",
        "from sklearn.linear_model import LogisticRegression\n",
        "from sklearn.model_selection import train_test_split\n",
        "from sklearn.metrics import accuracy_score, classification_report\n",
        "from sklearn.preprocessing import LabelEncoder, StandardScaler\n",
        "from keras.models import Sequential\n",
        "from keras.layers import Dense, LSTM, Bidirectional, Dropout, Flatten\n",
        "from sklearn.metrics import accuracy_score, classification_report, confusion_matrix\n",
        "from keras.utils import to_categorical"
      ]
    },
    {
      "cell_type": "code",
      "source": [
        "# Load dataset\n",
        "dataset = pd.read_csv(\"Dataset_NF-ToN-IoT.csv\") #NF-ToN-IoT 10 classes dataset\n",
        "\n",
        "# Preprocessing: Handle missing values (if any)\n",
        "dataset = dataset.dropna() # Remove missing values"
      ],
      "metadata": {
        "id": "W4xz10xkCHq8"
      },
      "execution_count": null,
      "outputs": []
    },
    {
      "cell_type": "code",
      "source": [
        "dataset"
      ],
      "metadata": {
        "colab": {
          "base_uri": "https://localhost:8080/",
          "height": 424
        },
        "id": "Ds2sKdTwCJgj",
        "outputId": "196d65e8-31be-4d9e-882b-307b559f136a"
      },
      "execution_count": null,
      "outputs": [
        {
          "output_type": "execute_result",
          "data": {
            "text/plain": [
              "         L4_SRC_PORT  L4_DST_PORT  PROTOCOL  L7_PROTO  IN_BYTES  OUT_BYTES  \\\n",
              "0              63318          443         6     91.00       181        165   \n",
              "1              57442        15600        17      0.00        63          0   \n",
              "2              57452        15600        17      0.00        63          0   \n",
              "3                138          138        17     10.16       472          0   \n",
              "4              51989        15600        17      0.00        63          0   \n",
              "...              ...          ...       ...       ...       ...        ...   \n",
              "1048570          443        54560         6     91.00        52         52   \n",
              "1048571          443        54594         6     91.00        52         52   \n",
              "1048572          443        54582         6     91.00        52         52   \n",
              "1048573          443        54592         6     91.00        52         52   \n",
              "1048574          443        54530         6     91.00        52         52   \n",
              "\n",
              "         IN_PKTS  OUT_PKTS  TCP_FLAGS  FLOW_DURATION_MILLISECONDS  Label  \\\n",
              "0              2         1         24                         327      0   \n",
              "1              1         0          0                           0      0   \n",
              "2              1         0          0                           0      0   \n",
              "3              2         0          0                           0      0   \n",
              "4              1         0          0                           0      0   \n",
              "...          ...       ...        ...                         ...    ...   \n",
              "1048570        1         1         17                          15      0   \n",
              "1048571        1         1         17                          11      0   \n",
              "1048572        1         1         17                          11      0   \n",
              "1048573        1         1         17                          11      0   \n",
              "1048574        1         1         17                          11      0   \n",
              "\n",
              "         Attack  Class  \n",
              "0        Benign      0  \n",
              "1        Benign      0  \n",
              "2        Benign      0  \n",
              "3        Benign      0  \n",
              "4        Benign      0  \n",
              "...         ...    ...  \n",
              "1048570  Benign      0  \n",
              "1048571  Benign      0  \n",
              "1048572  Benign      0  \n",
              "1048573  Benign      0  \n",
              "1048574  Benign      0  \n",
              "\n",
              "[1048575 rows x 13 columns]"
            ],
            "text/html": [
              "\n",
              "  <div id=\"df-955b5daf-aa0f-44da-95ce-d904225919e2\" class=\"colab-df-container\">\n",
              "    <div>\n",
              "<style scoped>\n",
              "    .dataframe tbody tr th:only-of-type {\n",
              "        vertical-align: middle;\n",
              "    }\n",
              "\n",
              "    .dataframe tbody tr th {\n",
              "        vertical-align: top;\n",
              "    }\n",
              "\n",
              "    .dataframe thead th {\n",
              "        text-align: right;\n",
              "    }\n",
              "</style>\n",
              "<table border=\"1\" class=\"dataframe\">\n",
              "  <thead>\n",
              "    <tr style=\"text-align: right;\">\n",
              "      <th></th>\n",
              "      <th>L4_SRC_PORT</th>\n",
              "      <th>L4_DST_PORT</th>\n",
              "      <th>PROTOCOL</th>\n",
              "      <th>L7_PROTO</th>\n",
              "      <th>IN_BYTES</th>\n",
              "      <th>OUT_BYTES</th>\n",
              "      <th>IN_PKTS</th>\n",
              "      <th>OUT_PKTS</th>\n",
              "      <th>TCP_FLAGS</th>\n",
              "      <th>FLOW_DURATION_MILLISECONDS</th>\n",
              "      <th>Label</th>\n",
              "      <th>Attack</th>\n",
              "      <th>Class</th>\n",
              "    </tr>\n",
              "  </thead>\n",
              "  <tbody>\n",
              "    <tr>\n",
              "      <th>0</th>\n",
              "      <td>63318</td>\n",
              "      <td>443</td>\n",
              "      <td>6</td>\n",
              "      <td>91.00</td>\n",
              "      <td>181</td>\n",
              "      <td>165</td>\n",
              "      <td>2</td>\n",
              "      <td>1</td>\n",
              "      <td>24</td>\n",
              "      <td>327</td>\n",
              "      <td>0</td>\n",
              "      <td>Benign</td>\n",
              "      <td>0</td>\n",
              "    </tr>\n",
              "    <tr>\n",
              "      <th>1</th>\n",
              "      <td>57442</td>\n",
              "      <td>15600</td>\n",
              "      <td>17</td>\n",
              "      <td>0.00</td>\n",
              "      <td>63</td>\n",
              "      <td>0</td>\n",
              "      <td>1</td>\n",
              "      <td>0</td>\n",
              "      <td>0</td>\n",
              "      <td>0</td>\n",
              "      <td>0</td>\n",
              "      <td>Benign</td>\n",
              "      <td>0</td>\n",
              "    </tr>\n",
              "    <tr>\n",
              "      <th>2</th>\n",
              "      <td>57452</td>\n",
              "      <td>15600</td>\n",
              "      <td>17</td>\n",
              "      <td>0.00</td>\n",
              "      <td>63</td>\n",
              "      <td>0</td>\n",
              "      <td>1</td>\n",
              "      <td>0</td>\n",
              "      <td>0</td>\n",
              "      <td>0</td>\n",
              "      <td>0</td>\n",
              "      <td>Benign</td>\n",
              "      <td>0</td>\n",
              "    </tr>\n",
              "    <tr>\n",
              "      <th>3</th>\n",
              "      <td>138</td>\n",
              "      <td>138</td>\n",
              "      <td>17</td>\n",
              "      <td>10.16</td>\n",
              "      <td>472</td>\n",
              "      <td>0</td>\n",
              "      <td>2</td>\n",
              "      <td>0</td>\n",
              "      <td>0</td>\n",
              "      <td>0</td>\n",
              "      <td>0</td>\n",
              "      <td>Benign</td>\n",
              "      <td>0</td>\n",
              "    </tr>\n",
              "    <tr>\n",
              "      <th>4</th>\n",
              "      <td>51989</td>\n",
              "      <td>15600</td>\n",
              "      <td>17</td>\n",
              "      <td>0.00</td>\n",
              "      <td>63</td>\n",
              "      <td>0</td>\n",
              "      <td>1</td>\n",
              "      <td>0</td>\n",
              "      <td>0</td>\n",
              "      <td>0</td>\n",
              "      <td>0</td>\n",
              "      <td>Benign</td>\n",
              "      <td>0</td>\n",
              "    </tr>\n",
              "    <tr>\n",
              "      <th>...</th>\n",
              "      <td>...</td>\n",
              "      <td>...</td>\n",
              "      <td>...</td>\n",
              "      <td>...</td>\n",
              "      <td>...</td>\n",
              "      <td>...</td>\n",
              "      <td>...</td>\n",
              "      <td>...</td>\n",
              "      <td>...</td>\n",
              "      <td>...</td>\n",
              "      <td>...</td>\n",
              "      <td>...</td>\n",
              "      <td>...</td>\n",
              "    </tr>\n",
              "    <tr>\n",
              "      <th>1048570</th>\n",
              "      <td>443</td>\n",
              "      <td>54560</td>\n",
              "      <td>6</td>\n",
              "      <td>91.00</td>\n",
              "      <td>52</td>\n",
              "      <td>52</td>\n",
              "      <td>1</td>\n",
              "      <td>1</td>\n",
              "      <td>17</td>\n",
              "      <td>15</td>\n",
              "      <td>0</td>\n",
              "      <td>Benign</td>\n",
              "      <td>0</td>\n",
              "    </tr>\n",
              "    <tr>\n",
              "      <th>1048571</th>\n",
              "      <td>443</td>\n",
              "      <td>54594</td>\n",
              "      <td>6</td>\n",
              "      <td>91.00</td>\n",
              "      <td>52</td>\n",
              "      <td>52</td>\n",
              "      <td>1</td>\n",
              "      <td>1</td>\n",
              "      <td>17</td>\n",
              "      <td>11</td>\n",
              "      <td>0</td>\n",
              "      <td>Benign</td>\n",
              "      <td>0</td>\n",
              "    </tr>\n",
              "    <tr>\n",
              "      <th>1048572</th>\n",
              "      <td>443</td>\n",
              "      <td>54582</td>\n",
              "      <td>6</td>\n",
              "      <td>91.00</td>\n",
              "      <td>52</td>\n",
              "      <td>52</td>\n",
              "      <td>1</td>\n",
              "      <td>1</td>\n",
              "      <td>17</td>\n",
              "      <td>11</td>\n",
              "      <td>0</td>\n",
              "      <td>Benign</td>\n",
              "      <td>0</td>\n",
              "    </tr>\n",
              "    <tr>\n",
              "      <th>1048573</th>\n",
              "      <td>443</td>\n",
              "      <td>54592</td>\n",
              "      <td>6</td>\n",
              "      <td>91.00</td>\n",
              "      <td>52</td>\n",
              "      <td>52</td>\n",
              "      <td>1</td>\n",
              "      <td>1</td>\n",
              "      <td>17</td>\n",
              "      <td>11</td>\n",
              "      <td>0</td>\n",
              "      <td>Benign</td>\n",
              "      <td>0</td>\n",
              "    </tr>\n",
              "    <tr>\n",
              "      <th>1048574</th>\n",
              "      <td>443</td>\n",
              "      <td>54530</td>\n",
              "      <td>6</td>\n",
              "      <td>91.00</td>\n",
              "      <td>52</td>\n",
              "      <td>52</td>\n",
              "      <td>1</td>\n",
              "      <td>1</td>\n",
              "      <td>17</td>\n",
              "      <td>11</td>\n",
              "      <td>0</td>\n",
              "      <td>Benign</td>\n",
              "      <td>0</td>\n",
              "    </tr>\n",
              "  </tbody>\n",
              "</table>\n",
              "<p>1048575 rows × 13 columns</p>\n",
              "</div>\n",
              "    <div class=\"colab-df-buttons\">\n",
              "\n",
              "  <div class=\"colab-df-container\">\n",
              "    <button class=\"colab-df-convert\" onclick=\"convertToInteractive('df-955b5daf-aa0f-44da-95ce-d904225919e2')\"\n",
              "            title=\"Convert this dataframe to an interactive table.\"\n",
              "            style=\"display:none;\">\n",
              "\n",
              "  <svg xmlns=\"http://www.w3.org/2000/svg\" height=\"24px\" viewBox=\"0 -960 960 960\">\n",
              "    <path d=\"M120-120v-720h720v720H120Zm60-500h600v-160H180v160Zm220 220h160v-160H400v160Zm0 220h160v-160H400v160ZM180-400h160v-160H180v160Zm440 0h160v-160H620v160ZM180-180h160v-160H180v160Zm440 0h160v-160H620v160Z\"/>\n",
              "  </svg>\n",
              "    </button>\n",
              "\n",
              "  <style>\n",
              "    .colab-df-container {\n",
              "      display:flex;\n",
              "      gap: 12px;\n",
              "    }\n",
              "\n",
              "    .colab-df-convert {\n",
              "      background-color: #E8F0FE;\n",
              "      border: none;\n",
              "      border-radius: 50%;\n",
              "      cursor: pointer;\n",
              "      display: none;\n",
              "      fill: #1967D2;\n",
              "      height: 32px;\n",
              "      padding: 0 0 0 0;\n",
              "      width: 32px;\n",
              "    }\n",
              "\n",
              "    .colab-df-convert:hover {\n",
              "      background-color: #E2EBFA;\n",
              "      box-shadow: 0px 1px 2px rgba(60, 64, 67, 0.3), 0px 1px 3px 1px rgba(60, 64, 67, 0.15);\n",
              "      fill: #174EA6;\n",
              "    }\n",
              "\n",
              "    .colab-df-buttons div {\n",
              "      margin-bottom: 4px;\n",
              "    }\n",
              "\n",
              "    [theme=dark] .colab-df-convert {\n",
              "      background-color: #3B4455;\n",
              "      fill: #D2E3FC;\n",
              "    }\n",
              "\n",
              "    [theme=dark] .colab-df-convert:hover {\n",
              "      background-color: #434B5C;\n",
              "      box-shadow: 0px 1px 3px 1px rgba(0, 0, 0, 0.15);\n",
              "      filter: drop-shadow(0px 1px 2px rgba(0, 0, 0, 0.3));\n",
              "      fill: #FFFFFF;\n",
              "    }\n",
              "  </style>\n",
              "\n",
              "    <script>\n",
              "      const buttonEl =\n",
              "        document.querySelector('#df-955b5daf-aa0f-44da-95ce-d904225919e2 button.colab-df-convert');\n",
              "      buttonEl.style.display =\n",
              "        google.colab.kernel.accessAllowed ? 'block' : 'none';\n",
              "\n",
              "      async function convertToInteractive(key) {\n",
              "        const element = document.querySelector('#df-955b5daf-aa0f-44da-95ce-d904225919e2');\n",
              "        const dataTable =\n",
              "          await google.colab.kernel.invokeFunction('convertToInteractive',\n",
              "                                                    [key], {});\n",
              "        if (!dataTable) return;\n",
              "\n",
              "        const docLinkHtml = 'Like what you see? Visit the ' +\n",
              "          '<a target=\"_blank\" href=https://colab.research.google.com/notebooks/data_table.ipynb>data table notebook</a>'\n",
              "          + ' to learn more about interactive tables.';\n",
              "        element.innerHTML = '';\n",
              "        dataTable['output_type'] = 'display_data';\n",
              "        await google.colab.output.renderOutput(dataTable, element);\n",
              "        const docLink = document.createElement('div');\n",
              "        docLink.innerHTML = docLinkHtml;\n",
              "        element.appendChild(docLink);\n",
              "      }\n",
              "    </script>\n",
              "  </div>\n",
              "\n",
              "\n",
              "<div id=\"df-75314af7-fe2c-44c2-8420-41b2313673da\">\n",
              "  <button class=\"colab-df-quickchart\" onclick=\"quickchart('df-75314af7-fe2c-44c2-8420-41b2313673da')\"\n",
              "            title=\"Suggest charts\"\n",
              "            style=\"display:none;\">\n",
              "\n",
              "<svg xmlns=\"http://www.w3.org/2000/svg\" height=\"24px\"viewBox=\"0 0 24 24\"\n",
              "     width=\"24px\">\n",
              "    <g>\n",
              "        <path d=\"M19 3H5c-1.1 0-2 .9-2 2v14c0 1.1.9 2 2 2h14c1.1 0 2-.9 2-2V5c0-1.1-.9-2-2-2zM9 17H7v-7h2v7zm4 0h-2V7h2v10zm4 0h-2v-4h2v4z\"/>\n",
              "    </g>\n",
              "</svg>\n",
              "  </button>\n",
              "\n",
              "<style>\n",
              "  .colab-df-quickchart {\n",
              "      --bg-color: #E8F0FE;\n",
              "      --fill-color: #1967D2;\n",
              "      --hover-bg-color: #E2EBFA;\n",
              "      --hover-fill-color: #174EA6;\n",
              "      --disabled-fill-color: #AAA;\n",
              "      --disabled-bg-color: #DDD;\n",
              "  }\n",
              "\n",
              "  [theme=dark] .colab-df-quickchart {\n",
              "      --bg-color: #3B4455;\n",
              "      --fill-color: #D2E3FC;\n",
              "      --hover-bg-color: #434B5C;\n",
              "      --hover-fill-color: #FFFFFF;\n",
              "      --disabled-bg-color: #3B4455;\n",
              "      --disabled-fill-color: #666;\n",
              "  }\n",
              "\n",
              "  .colab-df-quickchart {\n",
              "    background-color: var(--bg-color);\n",
              "    border: none;\n",
              "    border-radius: 50%;\n",
              "    cursor: pointer;\n",
              "    display: none;\n",
              "    fill: var(--fill-color);\n",
              "    height: 32px;\n",
              "    padding: 0;\n",
              "    width: 32px;\n",
              "  }\n",
              "\n",
              "  .colab-df-quickchart:hover {\n",
              "    background-color: var(--hover-bg-color);\n",
              "    box-shadow: 0 1px 2px rgba(60, 64, 67, 0.3), 0 1px 3px 1px rgba(60, 64, 67, 0.15);\n",
              "    fill: var(--button-hover-fill-color);\n",
              "  }\n",
              "\n",
              "  .colab-df-quickchart-complete:disabled,\n",
              "  .colab-df-quickchart-complete:disabled:hover {\n",
              "    background-color: var(--disabled-bg-color);\n",
              "    fill: var(--disabled-fill-color);\n",
              "    box-shadow: none;\n",
              "  }\n",
              "\n",
              "  .colab-df-spinner {\n",
              "    border: 2px solid var(--fill-color);\n",
              "    border-color: transparent;\n",
              "    border-bottom-color: var(--fill-color);\n",
              "    animation:\n",
              "      spin 1s steps(1) infinite;\n",
              "  }\n",
              "\n",
              "  @keyframes spin {\n",
              "    0% {\n",
              "      border-color: transparent;\n",
              "      border-bottom-color: var(--fill-color);\n",
              "      border-left-color: var(--fill-color);\n",
              "    }\n",
              "    20% {\n",
              "      border-color: transparent;\n",
              "      border-left-color: var(--fill-color);\n",
              "      border-top-color: var(--fill-color);\n",
              "    }\n",
              "    30% {\n",
              "      border-color: transparent;\n",
              "      border-left-color: var(--fill-color);\n",
              "      border-top-color: var(--fill-color);\n",
              "      border-right-color: var(--fill-color);\n",
              "    }\n",
              "    40% {\n",
              "      border-color: transparent;\n",
              "      border-right-color: var(--fill-color);\n",
              "      border-top-color: var(--fill-color);\n",
              "    }\n",
              "    60% {\n",
              "      border-color: transparent;\n",
              "      border-right-color: var(--fill-color);\n",
              "    }\n",
              "    80% {\n",
              "      border-color: transparent;\n",
              "      border-right-color: var(--fill-color);\n",
              "      border-bottom-color: var(--fill-color);\n",
              "    }\n",
              "    90% {\n",
              "      border-color: transparent;\n",
              "      border-bottom-color: var(--fill-color);\n",
              "    }\n",
              "  }\n",
              "</style>\n",
              "\n",
              "  <script>\n",
              "    async function quickchart(key) {\n",
              "      const quickchartButtonEl =\n",
              "        document.querySelector('#' + key + ' button');\n",
              "      quickchartButtonEl.disabled = true;  // To prevent multiple clicks.\n",
              "      quickchartButtonEl.classList.add('colab-df-spinner');\n",
              "      try {\n",
              "        const charts = await google.colab.kernel.invokeFunction(\n",
              "            'suggestCharts', [key], {});\n",
              "      } catch (error) {\n",
              "        console.error('Error during call to suggestCharts:', error);\n",
              "      }\n",
              "      quickchartButtonEl.classList.remove('colab-df-spinner');\n",
              "      quickchartButtonEl.classList.add('colab-df-quickchart-complete');\n",
              "    }\n",
              "    (() => {\n",
              "      let quickchartButtonEl =\n",
              "        document.querySelector('#df-75314af7-fe2c-44c2-8420-41b2313673da button');\n",
              "      quickchartButtonEl.style.display =\n",
              "        google.colab.kernel.accessAllowed ? 'block' : 'none';\n",
              "    })();\n",
              "  </script>\n",
              "</div>\n",
              "\n",
              "  <div id=\"id_a96004eb-7a76-485b-a8f5-b206688bad7c\">\n",
              "    <style>\n",
              "      .colab-df-generate {\n",
              "        background-color: #E8F0FE;\n",
              "        border: none;\n",
              "        border-radius: 50%;\n",
              "        cursor: pointer;\n",
              "        display: none;\n",
              "        fill: #1967D2;\n",
              "        height: 32px;\n",
              "        padding: 0 0 0 0;\n",
              "        width: 32px;\n",
              "      }\n",
              "\n",
              "      .colab-df-generate:hover {\n",
              "        background-color: #E2EBFA;\n",
              "        box-shadow: 0px 1px 2px rgba(60, 64, 67, 0.3), 0px 1px 3px 1px rgba(60, 64, 67, 0.15);\n",
              "        fill: #174EA6;\n",
              "      }\n",
              "\n",
              "      [theme=dark] .colab-df-generate {\n",
              "        background-color: #3B4455;\n",
              "        fill: #D2E3FC;\n",
              "      }\n",
              "\n",
              "      [theme=dark] .colab-df-generate:hover {\n",
              "        background-color: #434B5C;\n",
              "        box-shadow: 0px 1px 3px 1px rgba(0, 0, 0, 0.15);\n",
              "        filter: drop-shadow(0px 1px 2px rgba(0, 0, 0, 0.3));\n",
              "        fill: #FFFFFF;\n",
              "      }\n",
              "    </style>\n",
              "    <button class=\"colab-df-generate\" onclick=\"generateWithVariable('dataset')\"\n",
              "            title=\"Generate code using this dataframe.\"\n",
              "            style=\"display:none;\">\n",
              "\n",
              "  <svg xmlns=\"http://www.w3.org/2000/svg\" height=\"24px\"viewBox=\"0 0 24 24\"\n",
              "       width=\"24px\">\n",
              "    <path d=\"M7,19H8.4L18.45,9,17,7.55,7,17.6ZM5,21V16.75L18.45,3.32a2,2,0,0,1,2.83,0l1.4,1.43a1.91,1.91,0,0,1,.58,1.4,1.91,1.91,0,0,1-.58,1.4L9.25,21ZM18.45,9,17,7.55Zm-12,3A5.31,5.31,0,0,0,4.9,8.1,5.31,5.31,0,0,0,1,6.5,5.31,5.31,0,0,0,4.9,4.9,5.31,5.31,0,0,0,6.5,1,5.31,5.31,0,0,0,8.1,4.9,5.31,5.31,0,0,0,12,6.5,5.46,5.46,0,0,0,6.5,12Z\"/>\n",
              "  </svg>\n",
              "    </button>\n",
              "    <script>\n",
              "      (() => {\n",
              "      const buttonEl =\n",
              "        document.querySelector('#id_a96004eb-7a76-485b-a8f5-b206688bad7c button.colab-df-generate');\n",
              "      buttonEl.style.display =\n",
              "        google.colab.kernel.accessAllowed ? 'block' : 'none';\n",
              "\n",
              "      buttonEl.onclick = () => {\n",
              "        google.colab.notebook.generateWithVariable('dataset');\n",
              "      }\n",
              "      })();\n",
              "    </script>\n",
              "  </div>\n",
              "\n",
              "    </div>\n",
              "  </div>\n"
            ],
            "application/vnd.google.colaboratory.intrinsic+json": {
              "type": "dataframe",
              "variable_name": "dataset"
            }
          },
          "metadata": {},
          "execution_count": 3
        }
      ]
    },
    {
      "cell_type": "markdown",
      "source": [
        "**Data Preprocessing**"
      ],
      "metadata": {
        "id": "gIkWYjccCMlu"
      }
    },
    {
      "cell_type": "code",
      "source": [
        "# Encode non-numeric columns (if any)\n",
        "for column in dataset.columns:\n",
        "    if dataset[column].dtype == 'object':  # Identify categorical columns\n",
        "        dataset[column] = LabelEncoder().fit_transform(dataset[column])\n",
        "\n",
        "# Separate features (X) and target (y)\n",
        "X = dataset.drop(['Class'], axis=1)  # Assuming 'Class' is the target column\n",
        "y = dataset['Class']"
      ],
      "metadata": {
        "id": "CJLPKg4OCJIa"
      },
      "execution_count": null,
      "outputs": []
    },
    {
      "cell_type": "code",
      "source": [
        "print(\"Original Class Distribution:\", np.bincount(y))"
      ],
      "metadata": {
        "colab": {
          "base_uri": "https://localhost:8080/"
        },
        "id": "cApvATS2CJGk",
        "outputId": "f8e64cde-7f4b-437c-c5e6-8e2550cce168"
      },
      "execution_count": null,
      "outputs": [
        {
          "output_type": "stream",
          "name": "stdout",
          "text": [
            "Original Class Distribution: [164866  17243 149605  10732 453506   1249 135353    142  15966  99913]\n"
          ]
        }
      ]
    },
    {
      "cell_type": "code",
      "source": [
        "# Standardize the features\n",
        "scaler = StandardScaler()\n",
        "X = scaler.fit_transform(X)"
      ],
      "metadata": {
        "id": "Dfs-ElhtCJDw"
      },
      "execution_count": null,
      "outputs": []
    },
    {
      "cell_type": "code",
      "source": [
        "!pip install -U imbalanced-learn"
      ],
      "metadata": {
        "colab": {
          "base_uri": "https://localhost:8080/"
        },
        "id": "cU6-aUtcCJBK",
        "outputId": "da7bf661-dbe2-42fc-b17f-d7d1a7658c16"
      },
      "execution_count": null,
      "outputs": [
        {
          "output_type": "stream",
          "name": "stdout",
          "text": [
            "Requirement already satisfied: imbalanced-learn in /usr/local/lib/python3.11/dist-packages (0.13.0)\n",
            "Requirement already satisfied: numpy<3,>=1.24.3 in /usr/local/lib/python3.11/dist-packages (from imbalanced-learn) (1.26.4)\n",
            "Requirement already satisfied: scipy<2,>=1.10.1 in /usr/local/lib/python3.11/dist-packages (from imbalanced-learn) (1.13.1)\n",
            "Requirement already satisfied: scikit-learn<2,>=1.3.2 in /usr/local/lib/python3.11/dist-packages (from imbalanced-learn) (1.6.0)\n",
            "Requirement already satisfied: sklearn-compat<1,>=0.1 in /usr/local/lib/python3.11/dist-packages (from imbalanced-learn) (0.1.3)\n",
            "Requirement already satisfied: joblib<2,>=1.1.1 in /usr/local/lib/python3.11/dist-packages (from imbalanced-learn) (1.4.2)\n",
            "Requirement already satisfied: threadpoolctl<4,>=2.0.0 in /usr/local/lib/python3.11/dist-packages (from imbalanced-learn) (3.5.0)\n"
          ]
        }
      ]
    },
    {
      "cell_type": "markdown",
      "source": [
        "**Data Balancing utilized SMOTE**"
      ],
      "metadata": {
        "id": "VU3Uh1FotLGp"
      }
    },
    {
      "cell_type": "code",
      "source": [
        "from imblearn.over_sampling import SMOTE\n",
        "# Balance dataset using SMOTE\n",
        "smote = SMOTE(random_state=42)\n",
        "X, y = smote.fit_resample(X, y)\n",
        "\n",
        "# Verify the balanced dataset distribution\n",
        "print(\"Balanced Class Distribution:\", np.bincount(y))"
      ],
      "metadata": {
        "colab": {
          "base_uri": "https://localhost:8080/"
        },
        "id": "Sb2mBvlBCI-a",
        "outputId": "afc544d6-0cce-4286-ca12-286680529a4b"
      },
      "execution_count": null,
      "outputs": [
        {
          "output_type": "stream",
          "name": "stdout",
          "text": [
            "Balanced Class Distribution: [453506 453506 453506 453506 453506 453506 453506 453506 453506 453506]\n"
          ]
        }
      ]
    },
    {
      "cell_type": "markdown",
      "source": [
        "**Split data into 80% Training and 20% Testing**"
      ],
      "metadata": {
        "id": "BhCXVR9ctJRp"
      }
    },
    {
      "cell_type": "code",
      "source": [
        "# Train-test split\n",
        "X_train, X_test, y_train, y_test = train_test_split(X, y, test_size=0.2, random_state=101, stratify=y)"
      ],
      "metadata": {
        "id": "ZrU3_udJCI7u"
      },
      "execution_count": null,
      "outputs": []
    },
    {
      "cell_type": "markdown",
      "source": [
        "**The hybrid MLP + LSTM model**"
      ],
      "metadata": {
        "id": "Nf4TIdrUtA9J"
      }
    },
    {
      "cell_type": "code",
      "source": [
        "from keras.models import Sequential\n",
        "from keras.layers import Dense, Dropout, LSTM, Flatten, TimeDistributed, InputLayer\n",
        "from keras.regularizers import l2\n",
        "from keras.utils import to_categorical\n",
        "from keras.callbacks import EarlyStopping\n",
        "\n",
        "# Convert target to categorical (one-hot encoding)\n",
        "y_train = to_categorical(y_train)\n",
        "y_test = to_categorical(y_test)\n",
        "\n",
        "# Reshape the input data for LSTM compatibility\n",
        "# Assuming the input features need to be reshaped into a 3D array: (samples, timesteps, features)\n",
        "X_train = X_train.reshape((X_train.shape[0], X_train.shape[1], 1))\n",
        "X_test = X_test.reshape((X_test.shape[0], X_test.shape[1], 1))\n",
        "\n",
        "# Define the hybrid MLP + LSTM model with regularization\n",
        "def build_hybrid_model(input_shape, num_classes):\n",
        "    model = Sequential()\n",
        "\n",
        "    # Input Layer\n",
        "    model.add(InputLayer(input_shape=input_shape))\n",
        "\n",
        "    # LSTM Layer\n",
        "    model.add(LSTM(64, activation='tanh', return_sequences=False, kernel_regularizer=l2(0.01)))\n",
        "    model.add(Dropout(0.3))  # Dropout for regularization\n",
        "\n",
        "    # MLP Layers\n",
        "    model.add(Dense(128, activation='relu', kernel_regularizer=l2(0.01)))\n",
        "    model.add(Dropout(0.3))  # Dropout for regularization\n",
        "    model.add(Dense(64, activation='relu', kernel_regularizer=l2(0.01)))\n",
        "    model.add(Dropout(0.3))  # Dropout for regularization\n",
        "\n",
        "    # Output Layer\n",
        "    model.add(Dense(num_classes, activation='softmax'))\n",
        "\n",
        "    return model\n",
        "\n",
        "# Build and compile the model\n",
        "input_shape = (X_train.shape[1], X_train.shape[2])  # Adjusted for LSTM input format\n",
        "num_classes = y_train.shape[1]\n",
        "model = build_hybrid_model(input_shape, num_classes)\n",
        "model.compile(\n",
        "    optimizer='adam',\n",
        "    loss='categorical_crossentropy',\n",
        "    metrics=['accuracy']\n",
        ")\n",
        "\n",
        "# Train the model with early stopping\n",
        "from keras.callbacks import EarlyStopping\n",
        "\n",
        "early_stopping = EarlyStopping(monitor='val_loss', patience=10, restore_best_weights=True)\n",
        "\n",
        "history = model.fit(\n",
        "    X_train, y_train,\n",
        "    validation_data=(X_test, y_test),\n",
        "    epochs=50,\n",
        "    batch_size=32,\n",
        "    callbacks=[early_stopping],\n",
        "    verbose=1\n",
        ")\n",
        "\n",
        "# Evaluate the model\n",
        "y_pred = model.predict(X_test)\n",
        "y_pred_classes = np.argmax(y_pred, axis=1)\n",
        "y_true_classes = np.argmax(y_test, axis=1)"
      ],
      "metadata": {
        "colab": {
          "base_uri": "https://localhost:8080/"
        },
        "id": "hsa0-DfQCVcP",
        "outputId": "34d46609-d05b-479c-a3c7-d9528749783f"
      },
      "execution_count": null,
      "outputs": [
        {
          "output_type": "stream",
          "name": "stderr",
          "text": [
            "/usr/local/lib/python3.11/dist-packages/keras/src/layers/core/input_layer.py:26: UserWarning: Argument `input_shape` is deprecated. Use `shape` instead.\n",
            "  warnings.warn(\n"
          ]
        },
        {
          "output_type": "stream",
          "name": "stdout",
          "text": [
            "Epoch 1/50\n",
            "\u001b[1m113377/113377\u001b[0m \u001b[32m━━━━━━━━━━━━━━━━━━━━\u001b[0m\u001b[37m\u001b[0m \u001b[1m839s\u001b[0m 7ms/step - accuracy: 0.9564 - loss: 0.2913 - val_accuracy: 0.9967 - val_loss: 0.1056\n",
            "Epoch 2/50\n",
            "\u001b[1m113377/113377\u001b[0m \u001b[32m━━━━━━━━━━━━━━━━━━━━\u001b[0m\u001b[37m\u001b[0m \u001b[1m862s\u001b[0m 8ms/step - accuracy: 0.9848 - loss: 0.1324 - val_accuracy: 0.9988 - val_loss: 0.0807\n",
            "Epoch 3/50\n",
            "\u001b[1m113377/113377\u001b[0m \u001b[32m━━━━━━━━━━━━━━━━━━━━\u001b[0m\u001b[37m\u001b[0m \u001b[1m852s\u001b[0m 8ms/step - accuracy: 0.9865 - loss: 0.1190 - val_accuracy: 0.9981 - val_loss: 0.0847\n",
            "Epoch 4/50\n",
            "\u001b[1m113377/113377\u001b[0m \u001b[32m━━━━━━━━━━━━━━━━━━━━\u001b[0m\u001b[37m\u001b[0m \u001b[1m860s\u001b[0m 8ms/step - accuracy: 0.9870 - loss: 0.1142 - val_accuracy: 0.9967 - val_loss: 0.0846\n",
            "Epoch 5/50\n",
            "\u001b[1m113377/113377\u001b[0m \u001b[32m━━━━━━━━━━━━━━━━━━━━\u001b[0m\u001b[37m\u001b[0m \u001b[1m858s\u001b[0m 8ms/step - accuracy: 0.9874 - loss: 0.1097 - val_accuracy: 0.9975 - val_loss: 0.0808\n",
            "Epoch 6/50\n",
            "\u001b[1m113377/113377\u001b[0m \u001b[32m━━━━━━━━━━━━━━━━━━━━\u001b[0m\u001b[37m\u001b[0m \u001b[1m851s\u001b[0m 8ms/step - accuracy: 0.9876 - loss: 0.1083 - val_accuracy: 0.9979 - val_loss: 0.0798\n",
            "Epoch 7/50\n",
            "\u001b[1m113377/113377\u001b[0m \u001b[32m━━━━━━━━━━━━━━━━━━━━\u001b[0m\u001b[37m\u001b[0m \u001b[1m848s\u001b[0m 7ms/step - accuracy: 0.9875 - loss: 0.1068 - val_accuracy: 0.9947 - val_loss: 0.0722\n",
            "Epoch 8/50\n",
            "\u001b[1m113377/113377\u001b[0m \u001b[32m━━━━━━━━━━━━━━━━━━━━\u001b[0m\u001b[37m\u001b[0m \u001b[1m827s\u001b[0m 7ms/step - accuracy: 0.9875 - loss: 0.1052 - val_accuracy: 0.9988 - val_loss: 0.0720\n",
            "Epoch 9/50\n",
            "\u001b[1m113377/113377\u001b[0m \u001b[32m━━━━━━━━━━━━━━━━━━━━\u001b[0m\u001b[37m\u001b[0m \u001b[1m829s\u001b[0m 7ms/step - accuracy: 0.9874 - loss: 0.1061 - val_accuracy: 0.9985 - val_loss: 0.0747\n",
            "Epoch 10/50\n",
            "\u001b[1m113377/113377\u001b[0m \u001b[32m━━━━━━━━━━━━━━━━━━━━\u001b[0m\u001b[37m\u001b[0m \u001b[1m782s\u001b[0m 7ms/step - accuracy: 0.9877 - loss: 0.1039 - val_accuracy: 0.9980 - val_loss: 0.0716\n",
            "Epoch 11/50\n",
            "\u001b[1m113377/113377\u001b[0m \u001b[32m━━━━━━━━━━━━━━━━━━━━\u001b[0m\u001b[37m\u001b[0m \u001b[1m723s\u001b[0m 6ms/step - accuracy: 0.9875 - loss: 0.1040 - val_accuracy: 0.9982 - val_loss: 0.0666\n",
            "Epoch 12/50\n",
            "\u001b[1m113377/113377\u001b[0m \u001b[32m━━━━━━━━━━━━━━━━━━━━\u001b[0m\u001b[37m\u001b[0m \u001b[1m753s\u001b[0m 7ms/step - accuracy: 0.9874 - loss: 0.1043 - val_accuracy: 0.9988 - val_loss: 0.0748\n",
            "Epoch 13/50\n",
            "\u001b[1m113377/113377\u001b[0m \u001b[32m━━━━━━━━━━━━━━━━━━━━\u001b[0m\u001b[37m\u001b[0m \u001b[1m765s\u001b[0m 7ms/step - accuracy: 0.9875 - loss: 0.1041 - val_accuracy: 0.9933 - val_loss: 0.0830\n",
            "Epoch 14/50\n",
            "\u001b[1m113377/113377\u001b[0m \u001b[32m━━━━━━━━━━━━━━━━━━━━\u001b[0m\u001b[37m\u001b[0m \u001b[1m712s\u001b[0m 6ms/step - accuracy: 0.9874 - loss: 0.1040 - val_accuracy: 0.9985 - val_loss: 0.0672\n",
            "Epoch 15/50\n",
            "\u001b[1m113377/113377\u001b[0m \u001b[32m━━━━━━━━━━━━━━━━━━━━\u001b[0m\u001b[37m\u001b[0m \u001b[1m691s\u001b[0m 6ms/step - accuracy: 0.9872 - loss: 0.1042 - val_accuracy: 0.9961 - val_loss: 0.0723\n",
            "Epoch 16/50\n",
            "\u001b[1m113377/113377\u001b[0m \u001b[32m━━━━━━━━━━━━━━━━━━━━\u001b[0m\u001b[37m\u001b[0m \u001b[1m679s\u001b[0m 6ms/step - accuracy: 0.9874 - loss: 0.1030 - val_accuracy: 0.9958 - val_loss: 0.0726\n",
            "Epoch 17/50\n",
            "\u001b[1m113377/113377\u001b[0m \u001b[32m━━━━━━━━━━━━━━━━━━━━\u001b[0m\u001b[37m\u001b[0m \u001b[1m665s\u001b[0m 6ms/step - accuracy: 0.9874 - loss: 0.1038 - val_accuracy: 0.9987 - val_loss: 0.0671\n",
            "Epoch 18/50\n",
            "\u001b[1m113377/113377\u001b[0m \u001b[32m━━━━━━━━━━━━━━━━━━━━\u001b[0m\u001b[37m\u001b[0m \u001b[1m672s\u001b[0m 6ms/step - accuracy: 0.9876 - loss: 0.1021 - val_accuracy: 0.9946 - val_loss: 0.0800\n",
            "Epoch 19/50\n",
            "\u001b[1m113377/113377\u001b[0m \u001b[32m━━━━━━━━━━━━━━━━━━━━\u001b[0m\u001b[37m\u001b[0m \u001b[1m662s\u001b[0m 6ms/step - accuracy: 0.9876 - loss: 0.1014 - val_accuracy: 0.9986 - val_loss: 0.0661\n",
            "Epoch 20/50\n",
            "\u001b[1m113377/113377\u001b[0m \u001b[32m━━━━━━━━━━━━━━━━━━━━\u001b[0m\u001b[37m\u001b[0m \u001b[1m659s\u001b[0m 6ms/step - accuracy: 0.9874 - loss: 0.1048 - val_accuracy: 0.9988 - val_loss: 0.0703\n",
            "Epoch 21/50\n",
            "\u001b[1m113377/113377\u001b[0m \u001b[32m━━━━━━━━━━━━━━━━━━━━\u001b[0m\u001b[37m\u001b[0m \u001b[1m661s\u001b[0m 6ms/step - accuracy: 0.9877 - loss: 0.1037 - val_accuracy: 0.9988 - val_loss: 0.0699\n",
            "Epoch 22/50\n",
            "\u001b[1m113377/113377\u001b[0m \u001b[32m━━━━━━━━━━━━━━━━━━━━\u001b[0m\u001b[37m\u001b[0m \u001b[1m673s\u001b[0m 6ms/step - accuracy: 0.9865 - loss: 0.1086 - val_accuracy: 0.9988 - val_loss: 0.0680\n",
            "Epoch 23/50\n",
            "\u001b[1m113377/113377\u001b[0m \u001b[32m━━━━━━━━━━━━━━━━━━━━\u001b[0m\u001b[37m\u001b[0m \u001b[1m670s\u001b[0m 6ms/step - accuracy: 0.9867 - loss: 0.1073 - val_accuracy: 0.9969 - val_loss: 0.0766\n",
            "Epoch 24/50\n",
            "\u001b[1m113377/113377\u001b[0m \u001b[32m━━━━━━━━━━━━━━━━━━━━\u001b[0m\u001b[37m\u001b[0m \u001b[1m682s\u001b[0m 6ms/step - accuracy: 0.9866 - loss: 0.1088 - val_accuracy: 0.9980 - val_loss: 0.0670\n",
            "Epoch 25/50\n",
            "\u001b[1m113377/113377\u001b[0m \u001b[32m━━━━━━━━━━━━━━━━━━━━\u001b[0m\u001b[37m\u001b[0m \u001b[1m664s\u001b[0m 6ms/step - accuracy: 0.9863 - loss: 0.1091 - val_accuracy: 0.9979 - val_loss: 0.0713\n",
            "Epoch 26/50\n",
            "\u001b[1m113377/113377\u001b[0m \u001b[32m━━━━━━━━━━━━━━━━━━━━\u001b[0m\u001b[37m\u001b[0m \u001b[1m663s\u001b[0m 6ms/step - accuracy: 0.9870 - loss: 0.1057 - val_accuracy: 0.9988 - val_loss: 0.0683\n",
            "Epoch 27/50\n",
            "\u001b[1m113377/113377\u001b[0m \u001b[32m━━━━━━━━━━━━━━━━━━━━\u001b[0m\u001b[37m\u001b[0m \u001b[1m670s\u001b[0m 6ms/step - accuracy: 0.9862 - loss: 0.1106 - val_accuracy: 0.9978 - val_loss: 0.0798\n",
            "Epoch 28/50\n",
            "\u001b[1m113377/113377\u001b[0m \u001b[32m━━━━━━━━━━━━━━━━━━━━\u001b[0m\u001b[37m\u001b[0m \u001b[1m649s\u001b[0m 6ms/step - accuracy: 0.9869 - loss: 0.1073 - val_accuracy: 0.9987 - val_loss: 0.0638\n",
            "Epoch 29/50\n",
            "\u001b[1m113377/113377\u001b[0m \u001b[32m━━━━━━━━━━━━━━━━━━━━\u001b[0m\u001b[37m\u001b[0m \u001b[1m644s\u001b[0m 6ms/step - accuracy: 0.9870 - loss: 0.1071 - val_accuracy: 0.9945 - val_loss: 0.1151\n",
            "Epoch 30/50\n",
            "\u001b[1m113377/113377\u001b[0m \u001b[32m━━━━━━━━━━━━━━━━━━━━\u001b[0m\u001b[37m\u001b[0m \u001b[1m575s\u001b[0m 5ms/step - accuracy: 0.9852 - loss: 0.1199 - val_accuracy: 0.9987 - val_loss: 0.0647\n",
            "Epoch 31/50\n",
            "\u001b[1m113377/113377\u001b[0m \u001b[32m━━━━━━━━━━━━━━━━━━━━\u001b[0m\u001b[37m\u001b[0m \u001b[1m574s\u001b[0m 5ms/step - accuracy: 0.9873 - loss: 0.1053 - val_accuracy: 0.9985 - val_loss: 0.0702\n",
            "Epoch 32/50\n",
            "\u001b[1m113377/113377\u001b[0m \u001b[32m━━━━━━━━━━━━━━━━━━━━\u001b[0m\u001b[37m\u001b[0m \u001b[1m577s\u001b[0m 5ms/step - accuracy: 0.9868 - loss: 0.1107 - val_accuracy: 0.9987 - val_loss: 0.0659\n",
            "Epoch 33/50\n",
            "\u001b[1m113377/113377\u001b[0m \u001b[32m━━━━━━━━━━━━━━━━━━━━\u001b[0m\u001b[37m\u001b[0m \u001b[1m586s\u001b[0m 5ms/step - accuracy: 0.9868 - loss: 0.1096 - val_accuracy: 0.9956 - val_loss: 0.0772\n",
            "Epoch 34/50\n",
            "\u001b[1m113377/113377\u001b[0m \u001b[32m━━━━━━━━━━━━━━━━━━━━\u001b[0m\u001b[37m\u001b[0m \u001b[1m594s\u001b[0m 5ms/step - accuracy: 0.9855 - loss: 0.1199 - val_accuracy: 0.9984 - val_loss: 0.0703\n",
            "Epoch 35/50\n",
            "\u001b[1m113377/113377\u001b[0m \u001b[32m━━━━━━━━━━━━━━━━━━━━\u001b[0m\u001b[37m\u001b[0m \u001b[1m586s\u001b[0m 5ms/step - accuracy: 0.9867 - loss: 0.1088 - val_accuracy: 0.9983 - val_loss: 0.0792\n",
            "Epoch 36/50\n",
            "\u001b[1m113377/113377\u001b[0m \u001b[32m━━━━━━━━━━━━━━━━━━━━\u001b[0m\u001b[37m\u001b[0m \u001b[1m611s\u001b[0m 5ms/step - accuracy: 0.9870 - loss: 0.1100 - val_accuracy: 0.9961 - val_loss: 0.0739\n",
            "Epoch 37/50\n",
            "\u001b[1m113377/113377\u001b[0m \u001b[32m━━━━━━━━━━━━━━━━━━━━\u001b[0m\u001b[37m\u001b[0m \u001b[1m583s\u001b[0m 5ms/step - accuracy: 0.9874 - loss: 0.1064 - val_accuracy: 0.9988 - val_loss: 0.0704\n",
            "Epoch 38/50\n",
            "\u001b[1m113377/113377\u001b[0m \u001b[32m━━━━━━━━━━━━━━━━━━━━\u001b[0m\u001b[37m\u001b[0m \u001b[1m586s\u001b[0m 5ms/step - accuracy: 0.9871 - loss: 0.1051 - val_accuracy: 0.9961 - val_loss: 0.0665\n",
            "\u001b[1m28345/28345\u001b[0m \u001b[32m━━━━━━━━━━━━━━━━━━━━\u001b[0m\u001b[37m\u001b[0m \u001b[1m51s\u001b[0m 2ms/step\n"
          ]
        }
      ]
    },
    {
      "cell_type": "code",
      "source": [
        "from sklearn.metrics import accuracy_score, classification_report, confusion_matrix, precision_score, recall_score, f1_score\n",
        "# Metrics\n",
        "accuracy = accuracy_score(y_true_classes, y_pred_classes)\n",
        "precision = precision_score(y_true_classes, y_pred_classes, average='weighted')\n",
        "recall = recall_score(y_true_classes, y_pred_classes, average='weighted')\n",
        "f1 = f1_score(y_true_classes, y_pred_classes, average='weighted')\n",
        "\n",
        "print(\"Accuracy: {:.10f}\".format(accuracy))\n",
        "print(\"Precision: {:.10f}\".format(precision))\n",
        "print(\"Recall: {:.10f}\".format(recall))\n",
        "print(\"F1-Score: {:.10f}\".format(f1))"
      ],
      "metadata": {
        "colab": {
          "base_uri": "https://localhost:8080/"
        },
        "id": "z-V2dsrbCVY3",
        "outputId": "aaf7dc97-4a38-48e1-9cfd-ab3303e25cf8"
      },
      "execution_count": null,
      "outputs": [
        {
          "output_type": "stream",
          "name": "stdout",
          "text": [
            "Accuracy: 0.9987100501\n",
            "Precision: 0.9987164753\n",
            "Recall: 0.9987100501\n",
            "F1-Score: 0.9987101365\n"
          ]
        }
      ]
    },
    {
      "cell_type": "code",
      "source": [
        "# Evaluate the model\n",
        "y_pred = model.predict(X_test)\n",
        "y_pred_classes = np.argmax(y_pred, axis=1)\n",
        "y_true_classes = np.argmax(y_test, axis=1)\n",
        "\n",
        "# Metrics\n",
        "accuracy = accuracy_score(y_true_classes, y_pred_classes)\n",
        "precision = precision_score(y_true_classes, y_pred_classes, average='weighted')\n",
        "recall = recall_score(y_true_classes, y_pred_classes, average='weighted')\n",
        "f1 = f1_score(y_true_classes, y_pred_classes, average='weighted')\n",
        "\n",
        "print(\"Accuracy: {:.10f}\".format(accuracy))\n",
        "print(\"Precision: {:.10f}\".format(precision))\n",
        "print(\"Recall: {:.10f}\".format(recall))\n",
        "print(\"F1-Score: {:.10f}\".format(f1))"
      ],
      "metadata": {
        "colab": {
          "base_uri": "https://localhost:8080/"
        },
        "id": "nie6CiXoCVWL",
        "outputId": "5d9c8571-cb65-44ba-ef60-efb1e1998118"
      },
      "execution_count": null,
      "outputs": [
        {
          "output_type": "stream",
          "name": "stdout",
          "text": [
            "\u001b[1m28345/28345\u001b[0m \u001b[32m━━━━━━━━━━━━━━━━━━━━\u001b[0m\u001b[37m\u001b[0m \u001b[1m47s\u001b[0m 2ms/step\n",
            "Accuracy: 0.9987100501\n",
            "Precision: 0.9987164753\n",
            "Recall: 0.9987100501\n",
            "F1-Score: 0.9987101365\n"
          ]
        }
      ]
    },
    {
      "cell_type": "code",
      "source": [
        "# Confusion Matrix\n",
        "conf_matrix = confusion_matrix(y_true_classes, y_pred_classes)\n",
        "print(\"Confusion Matrix:\\n\", conf_matrix)"
      ],
      "metadata": {
        "colab": {
          "base_uri": "https://localhost:8080/"
        },
        "id": "mIbcr9xV4DvU",
        "outputId": "2cb8e846-9ff3-4564-ad2c-a7bb79801e8d"
      },
      "execution_count": null,
      "outputs": [
        {
          "output_type": "stream",
          "name": "stdout",
          "text": [
            "Confusion Matrix:\n",
            " [[90698     1     1     1     0     0     0     0     0     0]\n",
            " [    0 89990   712     0     0     0     0     0     0     0]\n",
            " [    0     2 90685    14     0     0     0     0     0     0]\n",
            " [    0     0    26 90675     0     0     0     0     0     0]\n",
            " [    1     0     0     0 90700     0     0     0     0     0]\n",
            " [    0     0     0     0     7 90530   164     0     0     0]\n",
            " [    0     0     0     0     0   224 90470     0     8     0]\n",
            " [    0     0     0     0     0     0     0 90701     0     0]\n",
            " [    0     0     0     0     0     0     0     0 90692     9]\n",
            " [    0     0     0     0     0     0     0     0     0 90701]]\n"
          ]
        }
      ]
    },
    {
      "cell_type": "code",
      "source": [
        "# Detection Rate (Recall for each class)\n",
        "print(\"Detection Rates per Class:\", recall_score(y_true_classes, y_pred_classes, average=None))"
      ],
      "metadata": {
        "colab": {
          "base_uri": "https://localhost:8080/"
        },
        "id": "0V_Jzg4l4FRV",
        "outputId": "0d36aa6b-2e4d-4cc1-df20-7a9425afff50"
      },
      "execution_count": null,
      "outputs": [
        {
          "output_type": "stream",
          "name": "stdout",
          "text": [
            "Detection Rates per Class: [0.99996692 0.99215012 0.9998236  0.99971334 0.99998897 0.99811468\n",
            " 0.99744217 1.         0.99990077 1.        ]\n"
          ]
        }
      ]
    },
    {
      "cell_type": "code",
      "source": [
        "from sklearn.metrics import accuracy_score, classification_report, confusion_matrix, precision_score, recall_score, f1_score, roc_auc_score\n",
        "# Import roc_curve\n",
        "from sklearn.metrics import roc_curve # This line imports the roc_curve function\n",
        "from sklearn.metrics import auc # This line imports the auc function\n",
        "import matplotlib.pyplot as plt # Import the pyplot module from matplotlib as plt\n",
        "\n",
        "# After training, calculate ROC curves and AUC for each class\n",
        "n_classes = y_test.shape[1]\n",
        "fpr = dict()\n",
        "tpr = dict()\n",
        "roc_auc = dict()\n",
        "\n",
        "for i in range(n_classes):\n",
        "    fpr[i], tpr[i], _ = roc_curve(y_test[:, i], y_pred[:, i])\n",
        "    roc_auc[i] = auc(fpr[i], tpr[i])\n",
        "\n",
        "# Plot ROC curves\n",
        "plt.figure(figsize=(10, 8))\n",
        "colors = plt.cm.get_cmap('Set1')(np.linspace(0, 1, n_classes))\n",
        "\n",
        "for i, color in zip(range(n_classes), colors):\n",
        "    plt.plot(fpr[i], tpr[i], color=color, lw=2,\n",
        "             label='ROC curve of class {0} (AUC = {1:0.10f})'\n",
        "             ''.format(i, roc_auc[i]))\n",
        "\n",
        "plt.plot([0, 1], [0, 1], 'k--', lw=2)\n",
        "plt.xlim([0.0, 1.0])\n",
        "plt.ylim([0.0, 1.05])\n",
        "plt.xlabel('False Positive Rate')\n",
        "plt.ylabel('True Positive Rate')\n",
        "plt.title('Receiver Operating Characteristic (ROC) Curves')\n",
        "plt.legend(loc=\"lower right\")\n",
        "\n",
        "# Save the plot as a high-resolution image\n",
        "plt.savefig('roc_curves.png', dpi=300, bbox_inches='tight')\n",
        "plt.close()\n",
        "\n",
        "# Calculate and print AUC scores for each class\n",
        "print(\"\\nAUC Scores for each class:\")\n",
        "for i in range(n_classes):\n",
        "    print(f\"Class {i}: {roc_auc[i]:.10f}\")\n",
        "\n",
        "# Calculate macro-average AUC\n",
        "macro_roc_auc = np.mean(list(roc_auc.values()))\n",
        "print(f\"\\nMacro-average AUC: {macro_roc_auc:.10f}\")"
      ],
      "metadata": {
        "colab": {
          "base_uri": "https://localhost:8080/"
        },
        "id": "ZdNnZ--5n87t",
        "outputId": "2201b658-2c89-4f99-8fb9-bfccf7b17aec"
      },
      "execution_count": null,
      "outputs": [
        {
          "output_type": "stream",
          "name": "stderr",
          "text": [
            "<ipython-input-15-c5170017384f>:19: MatplotlibDeprecationWarning: The get_cmap function was deprecated in Matplotlib 3.7 and will be removed in 3.11. Use ``matplotlib.colormaps[name]`` or ``matplotlib.colormaps.get_cmap()`` or ``pyplot.get_cmap()`` instead.\n",
            "  colors = plt.cm.get_cmap('Set1')(np.linspace(0, 1, n_classes))\n"
          ]
        },
        {
          "output_type": "stream",
          "name": "stdout",
          "text": [
            "\n",
            "AUC Scores for each class:\n",
            "Class 0: 0.9999997498\n",
            "Class 1: 0.9999986798\n",
            "Class 2: 0.9999918534\n",
            "Class 3: 0.9999911023\n",
            "Class 4: 0.9999921688\n",
            "Class 5: 0.9999941215\n",
            "Class 6: 0.9999918757\n",
            "Class 7: 1.0000000000\n",
            "Class 8: 0.9999962106\n",
            "Class 9: 1.0000000000\n",
            "\n",
            "Macro-average AUC: 0.9999955762\n"
          ]
        }
      ]
    },
    {
      "cell_type": "code",
      "source": [
        "# Plot Training and Validation Loss\n",
        "plt.figure()\n",
        "plt.plot(history.history['loss'], label='Training Loss')\n",
        "plt.plot(history.history['val_loss'], label='Validation Loss')\n",
        "plt.title('Training and Validation Loss')\n",
        "plt.xlabel('Epochs')\n",
        "plt.ylabel('Loss')\n",
        "plt.ylim(0, 1)  # Set y-axis scale to 1\n",
        "plt.legend()\n",
        "plt.show()"
      ],
      "metadata": {
        "colab": {
          "base_uri": "https://localhost:8080/",
          "height": 472
        },
        "id": "-rq7gkS9XBlz",
        "outputId": "df21bfdf-f73d-455d-da30-a6498d0dd44c"
      },
      "execution_count": null,
      "outputs": [
        {
          "output_type": "display_data",
          "data": {
            "text/plain": [
              "<Figure size 640x480 with 1 Axes>"
            ],
            "image/png": "[encoded data removed]"
          },
          "metadata": {}
        }
      ]
    },
    {
      "cell_type": "code",
      "source": [
        "import seaborn as sns\n",
        "import matplotlib.pyplot as plt\n",
        "import numpy as np\n",
        "import itertools\n",
        "import seaborn as sns\n",
        "from sklearn import metrics\n",
        "import matplotlib.pyplot as plt\n",
        "from sklearn.metrics import confusion_matrix\n",
        "def conf_mat(d1,d2):\n",
        "  cm = confusion_matrix(d1, d2)\n",
        "  #plt.figure(figsize=(6,5.5))\n",
        "  plt.figure(figsize=(8,6.5))\n",
        "  #ax = sns.heatmap(cm,  fmt='2', annot=True, cmap='tab20c')\n",
        "  ax = sns.heatmap(cm, annot=True, fmt=\".0f\", cmap=\"PuBu\",\n",
        "                 vmin=0, vmax=35000, center=0, square=True, linewidths=1.5)\n",
        "  sns.set(font_scale=1)\n",
        "  ax.set_xlabel('\\nPredicted Values')\n",
        "  ax.set_ylabel('Actual Values\\n');\n",
        "  ax.xaxis.set_ticklabels(['Benign','Backdoor','DDoS','DoS','Injection','mitm','Password','Ransomware','Scanning','xss'])\n",
        "  ax.yaxis.set_ticklabels(['Benign','Backdoor','DDoS','DoS','Injection','mitm','Password','Ransomware','Scanning','xss'])\n",
        "  ##plt.xticks(rotation=45)  # Add this line to rotate the x-axis labels by 45 degrees\n",
        "  ##plt.yticks(rotation=45)  # Add this line to rotate the x-axis labels by 45 degrees\n",
        "  plt.tight_layout()\n",
        "  # plt.savefig(\"F1.eps\", format = 'eps')\n",
        "  plt.show()"
      ],
      "metadata": {
        "id": "NELM7AEs4OUZ"
      },
      "execution_count": null,
      "outputs": []
    },
    {
      "cell_type": "code",
      "source": [
        "print(\"Confusion Matrix of Hybrid RF-LSTM Model\")\n",
        "#conf_mat(np.argmax(y_test, axis=1), test_rf_lstm_predictions)\n",
        "conf_matrix = confusion_matrix(y_true_classes, y_pred_classes)\n",
        "plt.figure(figsize=(8,6.5))\n",
        "# Use plt.xticks to set custom tick labels\n",
        "# Using get_xticklabels() to access the current labels and then setting rotation.\n",
        "plt.xticks(ticks=np.arange(10), labels=['Benign','Backdoor','DDoS','DoS','Injection','mitm','Password','Ransomware','Scanning','xss'], rotation=45)\n",
        "plt.yticks(ticks=np.arange(10), labels=['Benign','Backdoor','DDoS','DoS','Injection','mitm','Password','Ransomware','Scanning','xss'], rotation=45)\n",
        "sns.heatmap(conf_matrix, annot=True, fmt='2', cmap='bone',xticklabels=['Benign','Backdoor','DDoS','DoS','Injection','mitm','Password','Ransomware','Scanning','xss'], yticklabels=['Benign','Backdoor','DDoS','DoS','Injection','mitm','Password','Ransomware','Scanning','xss'])\n",
        "sns.set(font_scale=1)\n",
        "plt.show() # Display the heatmap"
      ],
      "metadata": {
        "colab": {
          "base_uri": "https://localhost:8080/",
          "height": 654
        },
        "id": "FWP1ifiK4Pwz",
        "outputId": "5d4f03b5-144b-483f-9b56-3c91cc1dff1a"
      },
      "execution_count": null,
      "outputs": [
        {
          "output_type": "stream",
          "name": "stdout",
          "text": [
            "Confusion Matrix of Hybrid RF-LSTM Model\n"
          ]
        },
        {
          "output_type": "display_data",
          "data": {
            "text/plain": [
              "<Figure size 800x650 with 2 Axes>"
            ],
            "image/png": "[encoded data removed]"
          },
          "metadata": {}
        }
      ]
    },
    {
      "cell_type": "code",
      "source": [
        "def conf_mat(d1,d2):\n",
        "  cm = confusion_matrix(y_true_classes, y_pred_classes)\n",
        "  #plt.figure(figsize=(6,5.5))\n",
        "  plt.figure(figsize=(8,6.5))\n",
        "  #ax = sns.heatmap(cm,  fmt='2', annot=True, cmap='tab20c')\n",
        "  ax = sns.heatmap(cm, annot=True, fmt=\".0f\", cmap=\"gist_yarg\",\n",
        "                 vmin=0, vmax=5600, center=0, square=True, linewidths=1.5)\n",
        "  sns.set(font_scale=0.85)\n",
        "  ax.set_xlabel('\\nPredicted Values')\n",
        "  ax.set_ylabel('Actual Values\\n');\n",
        "  ax.xaxis.set_ticklabels(['Benign','Backdoor','DDoS','DoS','Injection','mitm','Password','Ransomware','Scanning','xss'])\n",
        "  ax.yaxis.set_ticklabels(['Benign','Backdoor','DDoS','DoS','Injection','mitm','Password','Ransomware','Scanning','xss'])\n",
        "  plt.xticks(rotation=45)  # Add this line to rotate the x-axis labels by 45 degrees\n",
        "  plt.yticks(rotation=45)  # Add this line to rotate the x-axis labels by 45 degrees\n",
        "  plt.tight_layout()\n",
        "  # plt.savefig(\"F1.eps\", format = 'eps')\n",
        "  plt.show()"
      ],
      "metadata": {
        "id": "zaJk_g6Me4vK"
      },
      "execution_count": null,
      "outputs": []
    },
    {
      "cell_type": "code",
      "source": [
        "print(\"Confusion Matrix of Federated DL// MLP-LSTM Model\")\n",
        "conf_mat(y_true_classes, y_pred_classes)"
      ],
      "metadata": {
        "colab": {
          "base_uri": "https://localhost:8080/",
          "height": 675
        },
        "id": "vo4h4csDe3Hv",
        "outputId": "973a2551-90ae-4b1b-ea8c-8bebeb259469"
      },
      "execution_count": null,
      "outputs": [
        {
          "output_type": "stream",
          "name": "stdout",
          "text": [
            "Confusion Matrix of Federated DL// MLP-LSTM Model\n"
          ]
        },
        {
          "output_type": "display_data",
          "data": {
            "text/plain": [
              "<Figure size 800x650 with 2 Axes>"
            ],
            "image/png": "[encoded data removed]"
          },
          "metadata": {}
        }
      ]
    },
    {
      "cell_type": "markdown",
      "source": [
        "**Federated Learning Simulation (FedAvg)**"
      ],
      "metadata": {
        "id": "VrhDYntPs6jU"
      }
    },
    {
      "cell_type": "code",
      "source": [
        "# Federated Learning Simulation (FedAvg)\n",
        "def federated_learning_simulation(X_train, y_train, X_test, y_test, num_clients=5):\n",
        "    # Split training data among clients\n",
        "    client_data = np.array_split(X_train, num_clients)\n",
        "    client_labels = np.array_split(y_train, num_clients)\n",
        "\n",
        "    # Initialize the global model\n",
        "    global_model = build_hybrid_model(input_shape, num_classes)\n",
        "    global_model.compile(optimizer='adam', loss='categorical_crossentropy', metrics=['accuracy'])  # Compile the global model\n",
        "    global_weights = global_model.get_weights()\n",
        "\n",
        "    for round in range(10):  # Simulate 10 communication rounds\n",
        "        local_weights = []\n",
        "\n",
        "        for i in range(num_clients):\n",
        "            local_model = build_hybrid_model(input_shape, num_classes)\n",
        "            local_model.set_weights(global_weights)\n",
        "            local_model.compile(optimizer='adam', loss='categorical_crossentropy', metrics=['accuracy'])  # Compile the local model\n",
        "\n",
        "            # Train the local model\n",
        "            local_model.fit(client_data[i], client_labels[i], epochs=1, batch_size=32, verbose=0)\n",
        "            local_weights.append(local_model.get_weights())\n",
        "\n",
        "        # Aggregate weights (FedAvg)\n",
        "        global_weights = [\n",
        "            np.mean([local_weights[j][i] for j in range(num_clients)], axis=0)\n",
        "            for i in range(len(global_weights))\n",
        "        ]\n",
        "        global_model.set_weights(global_weights)\n",
        "\n",
        "        # Evaluate the global model\n",
        "        loss, acc = global_model.evaluate(X_test, y_test, verbose=0)\n",
        "        print(f\"Round {round + 1}: Global Model Accuracy = {acc:.10f}\")\n",
        "\n",
        "# Call the federated learning simulation function\n",
        "federated_learning_simulation(X_train, y_train, X_test, y_test)"
      ],
      "metadata": {
        "colab": {
          "base_uri": "https://localhost:8080/"
        },
        "id": "4m0tmGDxjG7t",
        "outputId": "6a423406-c7d1-4228-a4cd-bf92bd099403"
      },
      "execution_count": null,
      "outputs": [
        {
          "metadata": {
            "tags": null
          },
          "name": "stderr",
          "output_type": "stream",
          "text": [
            "/usr/local/lib/python3.11/dist-packages/keras/src/layers/core/input_layer.py:26: UserWarning: Argument `input_shape` is deprecated. Use `shape` instead.\n",
            "  warnings.warn(\n"
          ]
        },
        {
          "output_type": "stream",
          "name": "stdout",
          "text": [
            "Round 1: Global Model Accuracy = 0.4976769984\n",
            "Round 2: Global Model Accuracy = 0.9891974926\n",
            "Round 3: Global Model Accuracy = 0.9930772781\n",
            "Round 4: Global Model Accuracy = 0.9939284325\n",
            "Round 5: Global Model Accuracy = 0.9930122495\n",
            "Round 6: Global Model Accuracy = 0.9909372926\n",
            "Round 7: Global Model Accuracy = 0.9942073822\n",
            "Round 8: Global Model Accuracy = 0.9941224456\n",
            "Round 9: Global Model Accuracy = 0.9934411049\n",
            "Round 10: Global Model Accuracy = 0.9927806854\n"
          ]
        }
      ]
    },
    {
      "cell_type": "code",
      "source": [
        "import time\n",
        "from sklearn.metrics import classification_report, confusion_matrix, accuracy_score, precision_score, recall_score, f1_score\n",
        "\n",
        "# Function to measure model performance\n",
        "def evaluate_global_model(global_model, X_test, y_test):\n",
        "    y_pred = global_model.predict(X_test)\n",
        "    y_pred_classes = np.argmax(y_pred, axis=1)\n",
        "    y_true_classes = np.argmax(y_test, axis=1)\n",
        "\n",
        "    # Compute performance metrics\n",
        "    accuracy = accuracy_score(y_true_classes, y_pred_classes)\n",
        "    precision = precision_score(y_true_classes, y_pred_classes, average='weighted')\n",
        "    recall = recall_score(y_true_classes, y_pred_classes, average='weighted')\n",
        "    f1 = f1_score(y_true_classes, y_pred_classes, average='weighted')\n",
        "    cm = confusion_matrix(y_true_classes, y_pred_classes)\n",
        "\n",
        "    print(\"\\nModel Performance Metrics:\")\n",
        "    print(f\"Accuracy: {accuracy:.10f}\")\n",
        "    print(f\"Precision: {precision:.10f}\")\n",
        "    print(f\"Recall: {recall:.10f}\")\n",
        "    print(f\"F1-Score: {f1:.10f}\")\n",
        "    print(\"\\nConfusion Matrix:\")\n",
        "    print(cm)\n",
        "\n",
        "    return accuracy, precision, recall, f1\n",
        "\n",
        "# Function to analyze communication overhead\n",
        "def analyze_communication_overhead(local_weights, global_weights):\n",
        "    communication_cost = 0\n",
        "    for i in range(len(local_weights)):\n",
        "        # Compute the size of weights transmitted between clients and server\n",
        "        communication_cost += sum(w.nbytes for w in local_weights[i])\n",
        "    communication_cost += sum(w.nbytes for w in global_weights)\n",
        "\n",
        "    print(f\"\\nCommunication Overhead: {communication_cost / (1024 ** 2):.2f} MB\")  # in megabytes\n",
        "\n",
        "# Federated Learning Simulation (FedAvg)\n",
        "def federated_learning_simulation(X_train, y_train, X_test, y_test, num_clients=5):\n",
        "    client_data = np.array_split(X_train, num_clients)\n",
        "    client_labels = np.array_split(y_train, num_clients)\n",
        "\n",
        "    global_model = build_hybrid_model(input_shape, num_classes)\n",
        "    global_model.compile(optimizer='adam', loss='categorical_crossentropy', metrics=['accuracy'])\n",
        "    global_weights = global_model.get_weights()\n",
        "\n",
        "    communication_overhead = []\n",
        "    latency_per_round = []\n",
        "\n",
        "    for round in range(10):  # Simulate 10 communication rounds\n",
        "        local_weights = []\n",
        "\n",
        "        start_time = time.time()  # Start measuring latency\n",
        "\n",
        "        for i in range(num_clients):\n",
        "            local_model = build_hybrid_model(input_shape, num_classes)\n",
        "            local_model.set_weights(global_weights)\n",
        "            local_model.compile(optimizer='adam', loss='categorical_crossentropy', metrics=['accuracy'])\n",
        "\n",
        "            local_model.fit(client_data[i], client_labels[i], epochs=1, batch_size=32, verbose=0)\n",
        "            local_weights.append(local_model.get_weights())\n",
        "\n",
        "        # Aggregate weights (FedAvg)\n",
        "        global_weights = [\n",
        "            np.mean([local_weights[j][i] for j in range(num_clients)], axis=0)\n",
        "            for i in range(len(global_weights))\n",
        "        ]\n",
        "        global_model.set_weights(global_weights)\n",
        "\n",
        "        # Measure latency\n",
        "        end_time = time.time()\n",
        "        latency = end_time - start_time\n",
        "        latency_per_round.append(latency)\n",
        "\n",
        "        # Measure communication overhead\n",
        "        analyze_communication_overhead(local_weights, global_weights)\n",
        "\n",
        "        # Evaluate the global model\n",
        "        loss, acc = global_model.evaluate(X_test, y_test, verbose=0)\n",
        "        print(f\"\\nRound {round + 1}: Global Model Accuracy = {acc:.10f}\")\n",
        "\n",
        "        # Evaluate model performance metrics\n",
        "        evaluate_global_model(global_model, X_test, y_test)\n",
        "\n",
        "    # Summarize overall latency\n",
        "    print(\"\\nLatency Analysis:\")\n",
        "    print(f\"Average Latency per Round: {np.mean(latency_per_round):.2f} seconds\")\n",
        "    print(f\"Total Latency for 10 Rounds: {np.sum(latency_per_round):.2f} seconds\")\n",
        "\n",
        "# Call the federated learning simulation function\n",
        "federated_learning_simulation(X_train, y_train, X_test, y_test)"
      ],
      "metadata": {
        "colab": {
          "base_uri": "https://localhost:8080/"
        },
        "id": "95rgvCs-fyD9",
        "outputId": "eb73f51f-cbd3-4890-d51f-99fc8247fa12"
      },
      "execution_count": null,
      "outputs": [
        {
          "metadata": {
            "tags": null
          },
          "name": "stdout",
          "output_type": "stream",
          "text": [
            "\n",
            "Communication Overhead: 0.78 MB\n",
            "\n",
            "Round 1: Global Model Accuracy = 0.5470489860\n",
            "\u001b[1m28345/28345\u001b[0m \u001b[32m━━━━━━━━━━━━━━━━━━━━\u001b[0m\u001b[37m\u001b[0m \u001b[1m50s\u001b[0m 2ms/step\n"
          ]
        },
        {
          "metadata": {
            "tags": null
          },
          "name": "stderr",
          "output_type": "stream",
          "text": [
            "/usr/local/lib/python3.11/dist-packages/sklearn/metrics/_classification.py:1565: UndefinedMetricWarning: Precision is ill-defined and being set to 0.0 in labels with no predicted samples. Use `zero_division` parameter to control this behavior.\n",
            "  _warn_prf(average, modifier, f\"{metric.capitalize()} is\", len(result))\n"
          ]
        },
        {
          "metadata": {
            "tags": null
          },
          "name": "stdout",
          "output_type": "stream",
          "text": [
            "\n",
            "Model Performance Metrics:\n",
            "Accuracy: 0.5470489916\n",
            "Precision: 0.5326443384\n",
            "Recall: 0.5470489916\n",
            "F1-Score: 0.4681999788\n",
            "\n",
            "Confusion Matrix:\n",
            "[[65611 24477   613     0     0     0     0     0     0     0]\n",
            " [    0 37329 53373     0     0     0     0     0     0     0]\n",
            " [    0 50541 28093     0 12067     0     0     0     0     0]\n",
            " [    0     3     0     0 90698     0     0     0     0     0]\n",
            " [    0     0     0     0 87724  2977     0     0     0     0]\n",
            " [    0     0     0     0  1831 86761  2076    33     0     0]\n",
            " [    0     0     0     0     0     1  5082 80624  4995     0]\n",
            " [    0     0     0     0     0     0     0 90400   129   172]\n",
            " [    0     0     0     0     0     0     0 21634  4479 64588]\n",
            " [    0     0     0     0     0     0     0     0     0 90701]]\n"
          ]
        },
        {
          "metadata": {
            "tags": null
          },
          "name": "stderr",
          "output_type": "stream",
          "text": [
            "/usr/local/lib/python3.11/dist-packages/keras/src/layers/core/input_layer.py:26: UserWarning: Argument `input_shape` is deprecated. Use `shape` instead.\n",
            "  warnings.warn(\n"
          ]
        },
        {
          "metadata": {
            "tags": null
          },
          "name": "stdout",
          "output_type": "stream",
          "text": [
            "\n",
            "Communication Overhead: 0.78 MB\n",
            "\n",
            "Round 2: Global Model Accuracy = 0.9940452576\n",
            "\u001b[1m28345/28345\u001b[0m \u001b[32m━━━━━━━━━━━━━━━━━━━━\u001b[0m\u001b[37m\u001b[0m \u001b[1m52s\u001b[0m 2ms/step\n",
            "\n",
            "Model Performance Metrics:\n",
            "Accuracy: 0.9940452828\n",
            "Precision: 0.9940969239\n",
            "Recall: 0.9940452828\n",
            "F1-Score: 0.9940443696\n",
            "\n",
            "Confusion Matrix:\n",
            "[[90697     4     0     0     0     0     0     0     0     0]\n",
            " [    0 89929   773     0     0     0     0     0     0     0]\n",
            " [    0    33 90667     0     0     0     0     1     0     0]\n",
            " [    0     0    28 90673     0     0     0     0     0     0]\n",
            " [    0     0     0  2317 88382     2     0     0     0     0]\n",
            " [    0     0     0     0  1419 89218    58     6     0     0]\n",
            " [    0     0     0     0     0   221 90453    28     0     0]\n",
            " [    0     0     0     0     0     0   368 90225   108     0]\n",
            " [    0     0     0     0     0     0     0     1 90666    34]\n",
            " [    0     0     0     0     0     0     0     0     0 90701]]\n"
          ]
        },
        {
          "metadata": {
            "tags": null
          },
          "name": "stderr",
          "output_type": "stream",
          "text": [
            "/usr/local/lib/python3.11/dist-packages/keras/src/layers/core/input_layer.py:26: UserWarning: Argument `input_shape` is deprecated. Use `shape` instead.\n",
            "  warnings.warn(\n"
          ]
        },
        {
          "metadata": {
            "tags": null
          },
          "name": "stdout",
          "output_type": "stream",
          "text": [
            "\n",
            "Communication Overhead: 0.78 MB\n",
            "\n",
            "Round 3: Global Model Accuracy = 0.9944399595\n",
            "\u001b[1m28345/28345\u001b[0m \u001b[32m━━━━━━━━━━━━━━━━━━━━\u001b[0m\u001b[37m\u001b[0m \u001b[1m54s\u001b[0m 2ms/step\n",
            "\n",
            "Model Performance Metrics:\n",
            "Accuracy: 0.9944399854\n",
            "Precision: 0.9945864211\n",
            "Recall: 0.9944399854\n",
            "F1-Score: 0.9944409640\n",
            "\n",
            "Confusion Matrix:\n",
            "[[90697     4     0     0     0     0     0     0     0     0]\n",
            " [    0 89954   748     0     0     0     0     0     0     0]\n",
            " [    1    37 90662     1     0     0     0     0     0     0]\n",
            " [    0     0    28 90673     0     0     0     0     0     0]\n",
            " [    0     0     0     0 90690    11     0     0     0     0]\n",
            " [    0     0     0     0    37 90531    97    36     0     0]\n",
            " [    0     0     0     0     0   243 90432    27     0     0]\n",
            " [    0     0     0     0     0     0   274 90315   112     0]\n",
            " [    0     0     0     0     0     0     0     0 90677    24]\n",
            " [    0     0     0     0     0     0     0     0  3363 87338]]\n"
          ]
        },
        {
          "metadata": {
            "tags": null
          },
          "name": "stderr",
          "output_type": "stream",
          "text": [
            "/usr/local/lib/python3.11/dist-packages/keras/src/layers/core/input_layer.py:26: UserWarning: Argument `input_shape` is deprecated. Use `shape` instead.\n",
            "  warnings.warn(\n"
          ]
        },
        {
          "metadata": {
            "tags": null
          },
          "name": "stdout",
          "output_type": "stream",
          "text": [
            "\n",
            "Communication Overhead: 0.78 MB\n",
            "\n",
            "Round 4: Global Model Accuracy = 0.9946009517\n",
            "\u001b[1m28345/28345\u001b[0m \u001b[32m━━━━━━━━━━━━━━━━━━━━\u001b[0m\u001b[37m\u001b[0m \u001b[1m59s\u001b[0m 2ms/step\n",
            "\n",
            "Model Performance Metrics:\n",
            "Accuracy: 0.9946009535\n",
            "Precision: 0.9947416555\n",
            "Recall: 0.9946009535\n",
            "F1-Score: 0.9945999451\n",
            "\n",
            "Confusion Matrix:\n",
            "[[90698     3     0     0     0     0     0     0     0     0]\n",
            " [    0 89956   746     0     0     0     0     0     0     0]\n",
            " [    0    12 90688     0     0     0     0     1     0     0]\n",
            " [    0     0    28 90673     0     0     0     0     0     0]\n",
            " [    0     0     0     0 90685    16     0     0     0     0]\n",
            " [    0     0     0     0     0 90636    54    11     0     0]\n",
            " [    0     0     0     0     0   224 90472     6     0     0]\n",
            " [    0     0     0     0     0     0   428 90273     0     0]\n",
            " [    0     0     0     0     0     0     0     0 90694     7]\n",
            " [    0     0     0     0     0     0     0     0  3361 87340]]\n"
          ]
        },
        {
          "metadata": {
            "tags": null
          },
          "name": "stderr",
          "output_type": "stream",
          "text": [
            "/usr/local/lib/python3.11/dist-packages/keras/src/layers/core/input_layer.py:26: UserWarning: Argument `input_shape` is deprecated. Use `shape` instead.\n",
            "  warnings.warn(\n"
          ]
        },
        {
          "metadata": {
            "tags": null
          },
          "name": "stdout",
          "output_type": "stream",
          "text": [
            "\n",
            "Communication Overhead: 0.78 MB\n",
            "\n",
            "Round 5: Global Model Accuracy = 0.9949240088\n",
            "\u001b[1m28345/28345\u001b[0m \u001b[32m━━━━━━━━━━━━━━━━━━━━\u001b[0m\u001b[37m\u001b[0m \u001b[1m70s\u001b[0m 2ms/step\n",
            "\n",
            "Model Performance Metrics:\n",
            "Accuracy: 0.9949239922\n",
            "Precision: 0.9950604234\n",
            "Recall: 0.9949239922\n",
            "F1-Score: 0.9949227906\n",
            "\n",
            "Confusion Matrix:\n",
            "[[90698     3     0     0     0     0     0     0     0     0]\n",
            " [    0 89976   726     0     0     0     0     0     0     0]\n",
            " [    1     9 90691     0     0     0     0     0     0     0]\n",
            " [    0     0     0 90673    28     0     0     0     0     0]\n",
            " [    0     0     0     0 90676    25     0     0     0     0]\n",
            " [    0     0     0     0     6 90659    25    11     0     0]\n",
            " [    0     0     0     0     0   236 90466     0     0     0]\n",
            " [    0     0     0     0     0     0   168 90533     0     0]\n",
            " [    0     0     0     0     0     0     0     1 90681    19]\n",
            " [    0     0     0     0     0     0     0     0  3346 87355]]\n"
          ]
        },
        {
          "metadata": {
            "tags": null
          },
          "name": "stderr",
          "output_type": "stream",
          "text": [
            "/usr/local/lib/python3.11/dist-packages/keras/src/layers/core/input_layer.py:26: UserWarning: Argument `input_shape` is deprecated. Use `shape` instead.\n",
            "  warnings.warn(\n"
          ]
        },
        {
          "output_type": "stream",
          "name": "stdout",
          "text": [
            "\n",
            "Communication Overhead: 0.78 MB\n",
            "\n",
            "Round 6: Global Model Accuracy = 0.9950430393\n",
            "\u001b[1m28345/28345\u001b[0m \u001b[32m━━━━━━━━━━━━━━━━━━━━\u001b[0m\u001b[37m\u001b[0m \u001b[1m57s\u001b[0m 2ms/step\n",
            "\n",
            "Model Performance Metrics:\n",
            "Accuracy: 0.9950430645\n",
            "Precision: 0.9951814216\n",
            "Recall: 0.9950430645\n",
            "F1-Score: 0.9950418235\n",
            "\n",
            "Confusion Matrix:\n",
            "[[90698     3     0     0     0     0     0     0     0     0]\n",
            " [    0 89951   751     0     0     0     0     0     0     0]\n",
            " [    1     8 90690     0     2     0     0     0     0     0]\n",
            " [    0     0     0 90674    27     0     0     0     0     0]\n",
            " [    0     0     0     0 90676    25     0     0     0     0]\n",
            " [    0     0     0     0     0 90653    48     0     0     0]\n",
            " [    0     0     0     0     0   255 90447     0     0     0]\n",
            " [    0     0     0     0     0     0     0 90701     0     0]\n",
            " [    0     0     0     0     0     0     0     1 90685    15]\n",
            " [    0     0     0     0     0     0     0     0  3360 87341]]\n"
          ]
        },
        {
          "output_type": "stream",
          "name": "stderr",
          "text": [
            "/usr/local/lib/python3.11/dist-packages/keras/src/layers/core/input_layer.py:26: UserWarning: Argument `input_shape` is deprecated. Use `shape` instead.\n",
            "  warnings.warn(\n"
          ]
        },
        {
          "output_type": "stream",
          "name": "stdout",
          "text": [
            "\n",
            "Communication Overhead: 0.78 MB\n",
            "\n",
            "Round 7: Global Model Accuracy = 0.9951081276\n",
            "\u001b[1m28345/28345\u001b[0m \u001b[32m━━━━━━━━━━━━━━━━━━━━\u001b[0m\u001b[37m\u001b[0m \u001b[1m78s\u001b[0m 3ms/step\n",
            "\n",
            "Model Performance Metrics:\n",
            "Accuracy: 0.9951081132\n",
            "Precision: 0.9952475762\n",
            "Recall: 0.9951081132\n",
            "F1-Score: 0.9951068531\n",
            "\n",
            "Confusion Matrix:\n",
            "[[90698     3     0     0     0     0     0     0     0     0]\n",
            " [    0 89976   726     0     0     0     0     0     0     0]\n",
            " [    1     2 90698     0     0     0     0     0     0     0]\n",
            " [    0     0     0 90673    28     0     0     0     0     0]\n",
            " [    0     0     0     0 90680    21     0     0     0     0]\n",
            " [    0     0     0     0     0 90651    50     0     0     0]\n",
            " [    0     0     0     0     0   238 90464     0     0     0]\n",
            " [    0     0     0     0     0     0     0 90701     0     0]\n",
            " [    0     0     0     0     0     0     0     0 90699     2]\n",
            " [    0     0     0     0     0     0     0     0  3366 87335]]\n"
          ]
        },
        {
          "output_type": "stream",
          "name": "stderr",
          "text": [
            "/usr/local/lib/python3.11/dist-packages/keras/src/layers/core/input_layer.py:26: UserWarning: Argument `input_shape` is deprecated. Use `shape` instead.\n",
            "  warnings.warn(\n"
          ]
        },
        {
          "output_type": "stream",
          "name": "stdout",
          "text": [
            "\n",
            "Communication Overhead: 0.78 MB\n",
            "\n",
            "Round 8: Global Model Accuracy = 0.9951610565\n",
            "\u001b[1m28345/28345\u001b[0m \u001b[32m━━━━━━━━━━━━━━━━━━━━\u001b[0m\u001b[37m\u001b[0m \u001b[1m79s\u001b[0m 3ms/step\n",
            "\n",
            "Model Performance Metrics:\n",
            "Accuracy: 0.9951610343\n",
            "Precision: 0.9952986627\n",
            "Recall: 0.9951610343\n",
            "F1-Score: 0.9951598895\n",
            "\n",
            "Confusion Matrix:\n",
            "[[90699     2     0     0     0     0     0     0     0     0]\n",
            " [    0 89976   726     0     0     0     0     0     0     0]\n",
            " [    1     2 90698     0     0     0     0     0     0     0]\n",
            " [    0     0    22 90675     4     0     0     0     0     0]\n",
            " [    0     0     1     0 90692     8     0     0     0     0]\n",
            " [    0     0     0     0    12 90689     0     0     0     0]\n",
            " [    0     0     0     0     0   249 90453     0     0     0]\n",
            " [    0     0     0     0     0     0     0 90701     0     0]\n",
            " [    0     0     0     0     0     4     0     0 90685    12]\n",
            " [    0     0     0     0     0     0     0     0  3346 87355]]\n"
          ]
        },
        {
          "output_type": "stream",
          "name": "stderr",
          "text": [
            "/usr/local/lib/python3.11/dist-packages/keras/src/layers/core/input_layer.py:26: UserWarning: Argument `input_shape` is deprecated. Use `shape` instead.\n",
            "  warnings.warn(\n"
          ]
        },
        {
          "output_type": "stream",
          "name": "stdout",
          "text": [
            "\n",
            "Communication Overhead: 0.78 MB\n",
            "\n",
            "Round 9: Global Model Accuracy = 0.9987530708\n",
            "\u001b[1m28345/28345\u001b[0m \u001b[32m━━━━━━━━━━━━━━━━━━━━\u001b[0m\u001b[37m\u001b[0m \u001b[1m76s\u001b[0m 3ms/step\n",
            "\n",
            "Model Performance Metrics:\n",
            "Accuracy: 0.9987530485\n",
            "Precision: 0.9987600991\n",
            "Recall: 0.9987530485\n",
            "F1-Score: 0.9987530627\n",
            "\n",
            "Confusion Matrix:\n",
            "[[90701     0     0     0     0     0     0     0     0     0]\n",
            " [    0 89969   733     0     0     0     0     0     0     0]\n",
            " [    0     1 90696     1     3     0     0     0     0     0]\n",
            " [    0     0     0 90674    27     0     0     0     0     0]\n",
            " [    0     0     0     0 90677    24     0     0     0     0]\n",
            " [    0     0     0     0     0 90673    28     0     0     0]\n",
            " [    0     0     0     0     0   225 90472     0     5     0]\n",
            " [    0     0     0     0     0     0     0 90658    43     0]\n",
            " [    0     0     0     0     0     0     0     0 90660    41]\n",
            " [    0     0     0     0     0     0     0     0     0 90701]]\n"
          ]
        },
        {
          "output_type": "stream",
          "name": "stderr",
          "text": [
            "/usr/local/lib/python3.11/dist-packages/keras/src/layers/core/input_layer.py:26: UserWarning: Argument `input_shape` is deprecated. Use `shape` instead.\n",
            "  warnings.warn(\n"
          ]
        },
        {
          "output_type": "stream",
          "name": "stdout",
          "text": [
            "\n",
            "Communication Overhead: 0.78 MB\n",
            "\n",
            "Round 10: Global Model Accuracy = 0.9971179962\n",
            "\u001b[1m28345/28345\u001b[0m \u001b[32m━━━━━━━━━━━━━━━━━━━━\u001b[0m\u001b[37m\u001b[0m \u001b[1m81s\u001b[0m 3ms/step\n",
            "\n",
            "Model Performance Metrics:\n",
            "Accuracy: 0.9971180095\n",
            "Precision: 0.9971434039\n",
            "Recall: 0.9971180095\n",
            "F1-Score: 0.9971157485\n",
            "\n",
            "Confusion Matrix:\n",
            "[[90701     0     0     0     0     0     0     0     0     0]\n",
            " [    0 89969   733     0     0     0     0     0     0     0]\n",
            " [    0     2 90699     0     0     0     0     0     0     0]\n",
            " [    0     0     0 90675    26     0     0     0     0     0]\n",
            " [    0     0     0     0 90678    23     0     0     0     0]\n",
            " [    0     0     0     0     0 90668    33     0     0     0]\n",
            " [    0     0     0     0     0   228 90473     0     1     0]\n",
            " [    0     0     0     0     0   835     0 89182   684     0]\n",
            " [    0     0     0     0     0     0     0     0 90652    49]\n",
            " [    0     0     0     0     0     0     0     0     0 90701]]\n",
            "\n",
            "Latency Analysis:\n",
            "Average Latency per Round: 660.14 seconds\n",
            "Total Latency for 10 Rounds: 6601.43 seconds\n"
          ]
        }
      ]
    }
  ]
}