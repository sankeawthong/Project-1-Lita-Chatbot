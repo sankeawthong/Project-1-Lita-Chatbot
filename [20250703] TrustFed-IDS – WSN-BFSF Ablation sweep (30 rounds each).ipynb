{
  "nbformat": 4,
  "nbformat_minor": 0,
  "metadata": {
    "colab": {
      "provenance": [],
      "machine_shape": "hm",
      "authorship_tag": "ABX9TyOtS8gzg6WVOAU7G0LKe+sC",
      "include_colab_link": true
    },
    "kernelspec": {
      "name": "python3",
      "display_name": "Python 3"
    },
    "language_info": {
      "name": "python"
    }
  },
  "cells": [
    {
      "cell_type": "markdown",
      "metadata": {
        "id": "view-in-github",
        "colab_type": "text"
      },
      "source": [
        "<a href=\"https://colab.research.google.com/github/sankeawthong/Project-1-Lita-Chatbot/blob/main/%5B20250703%5D%20TrustFed-IDS%20%E2%80%93%20WSN-BFSF%20Ablation%20sweep%20(30%20rounds%20each).ipynb\" target=\"_parent\"><img src=\"https://colab.research.google.com/assets/colab-badge.svg\" alt=\"Open In Colab\"/></a>"
      ]
    },
    {
      "cell_type": "markdown",
      "source": [
        "**TrustFed-IDS – WSN-BFSF  |  Ablation sweep (30 rounds each)**"
      ],
      "metadata": {
        "id": "k5iORGW3f843"
      }
    },
    {
      "cell_type": "code",
      "source": [
        "# --------------------------------------------------------------\n",
        "#  TrustFed-IDS – WSN-BFSF  |  Ablation sweep (30 rounds each)\n",
        "# --------------------------------------------------------------\n",
        "import os, time, psutil, numpy as np, pandas as pd, tensorflow as tf\n",
        "from tensorflow.keras import Sequential\n",
        "from tensorflow.keras.layers import InputLayer, LSTM, Dense, Dropout\n",
        "from tensorflow.keras.regularizers import l2\n",
        "from tensorflow.keras.utils import to_categorical\n",
        "from tensorflow.keras.optimizers.schedules import CosineDecay\n",
        "from sklearn.preprocessing import StandardScaler, LabelEncoder\n",
        "from sklearn.model_selection import train_test_split\n",
        "from sklearn.utils.class_weight import compute_class_weight\n",
        "from sklearn.metrics import accuracy_score, precision_score, recall_score, f1_score\n",
        "from imblearn.over_sampling import SMOTE\n",
        "from scipy.spatial.distance import cosine"
      ],
      "metadata": {
        "id": "UJKxoVAdzYUf"
      },
      "execution_count": 24,
      "outputs": []
    },
    {
      "cell_type": "code",
      "source": [
        "# ----------------------- fixed experiment settings -----------------------\n",
        "SEED            = 42\n",
        "NUM_CLIENTS     = 5\n",
        "ROUNDS          = 30             # ← ablation uses 30 rounds\n",
        "LOCAL_EPOCHS    = 1\n",
        "BATCH_SIZE      = 32\n",
        "DIRICHLET_ALPHA = 0.5\n",
        "HISTORY_KEEP    = 6\n",
        "LOG_DIR         = \"/mnt/data\"\n",
        "DATA_PATH       = \"dataset.csv\"   # ← make sure the CSV is here\n",
        "os.makedirs(LOG_DIR, exist_ok=True)\n",
        "\n",
        "np.random.seed(SEED); tf.random.set_seed(SEED)"
      ],
      "metadata": {
        "id": "fhpKZKpEzYRV"
      },
      "execution_count": 25,
      "outputs": []
    },
    {
      "cell_type": "code",
      "source": [
        "# -------------------------- load + encode dataset ------------------------\n",
        "df = pd.read_csv(DATA_PATH).dropna()\n",
        "for col in df.select_dtypes(include=\"object\"):\n",
        "    df[col] = LabelEncoder().fit_transform(df[col])\n",
        "\n",
        "X_all = df.drop(\"Class\", axis=1).values.astype(\"float32\")\n",
        "y_all = df[\"Class\"].values.astype(\"int64\")\n",
        "num_classes = int(y_all.max() + 1)"
      ],
      "metadata": {
        "id": "66h-t0aFzYO0"
      },
      "execution_count": 26,
      "outputs": []
    },
    {
      "cell_type": "code",
      "source": [
        "# ----------------- helper: Dirichlet non-IID partition -------------------\n",
        "def dirichlet_split(X, y, k, alpha, rng):\n",
        "    idx_by_cls = {c: rng.permutation(np.where(y == c)[0]) for c in np.unique(y)}\n",
        "    clients = [[] for _ in range(k)]\n",
        "    for c, idx in idx_by_cls.items():\n",
        "        parts = (rng.dirichlet([alpha]*k) * len(idx)).astype(int)\n",
        "        while parts.sum() < len(idx):\n",
        "            parts[rng.randint(0, k)] += 1\n",
        "        s = 0\n",
        "        for cid, ct in enumerate(parts):\n",
        "            clients[cid].extend(idx[s:s+ct]); s += ct\n",
        "    for lst in clients: rng.shuffle(lst)\n",
        "    return [X[l] for l in clients], [y[l] for l in clients]"
      ],
      "metadata": {
        "id": "H7qkylUSzYMJ"
      },
      "execution_count": 27,
      "outputs": []
    },
    {
      "cell_type": "code",
      "source": [
        "# -------------------------- model factory --------------------------------\n",
        "def build_model(input_shape, classes):\n",
        "    lr = CosineDecay(5e-4, decay_steps=ROUNDS, alpha=0.4)\n",
        "    opt = tf.keras.optimizers.Nadam(lr, clipnorm=2.0)\n",
        "    m = Sequential([\n",
        "        InputLayer(shape=input_shape),\n",
        "        LSTM(128, return_sequences=True, activation='tanh',\n",
        "             kernel_regularizer=l2(5e-4)),\n",
        "        LSTM(64, activation='tanh', kernel_regularizer=l2(5e-4)),\n",
        "        Dense(256, activation='relu'), Dropout(0.20),\n",
        "        Dense(128, activation='relu'), Dropout(0.25),\n",
        "        Dense(classes, activation='softmax')\n",
        "    ])\n",
        "    m.compile(opt, loss='categorical_crossentropy', metrics=['accuracy'])\n",
        "    return m"
      ],
      "metadata": {
        "id": "Wmp5i8CMzYCL"
      },
      "execution_count": 28,
      "outputs": []
    },
    {
      "cell_type": "code",
      "source": [
        "# ----------------------- trust & aggregation utils -----------------------\n",
        "def weight_delta(local, global_):\n",
        "    return [l - g for l, g in zip(local, global_)]\n",
        "def vec_cos(a, b):\n",
        "    v1, v2 = np.concatenate([w.ravel() for w in a]), np.concatenate([w.ravel() for w in b])\n",
        "    if np.all(v1 == 0) or np.all(v2 == 0): return 0.0\n",
        "    return 1 - cosine(v1, v2)\n",
        "def stability(u, hist):\n",
        "    if len(hist) < 2: return 1.0\n",
        "    return float(np.mean([vec_cos(u, h) for h in hist[-HISTORY_KEEP:]]))\n",
        "def compute_trust(upd, vloss, hist, alpha):\n",
        "    lo, hi = min(vloss.values()), max(vloss.values())\n",
        "    trust = {}\n",
        "    for cid, u in upd.items():\n",
        "        sim  = vec_cos(u, [np.zeros_like(w) for w in u])\n",
        "        loss = 1 - (vloss[cid] - lo) / (hi - lo + 1e-8)\n",
        "        stab = stability(u, hist[cid])\n",
        "        trust[cid] = max(alpha[0]*sim + alpha[1]*loss + alpha[2]*stab, 1e-6)\n",
        "    return trust\n",
        "def aggregate(ws, t, n):\n",
        "    tot = sum(t[c]*n[c] for c in ws)\n",
        "    return [sum(t[c]*n[c]*ws[c][l] for c in ws)/tot\n",
        "            for l in range(len(next(iter(ws.values()))))]"
      ],
      "metadata": {
        "id": "9U1OkjhLzcGC"
      },
      "execution_count": 29,
      "outputs": []
    },
    {
      "cell_type": "code",
      "source": [
        "# ------------------------ ablation variants ------------------------------\n",
        "VARIANTS = {\n",
        "    \"baseline\":   dict(use_smote=True,  alpha=(0.30,0.55,0.15), clip=(0.05,0.60)),\n",
        "    \"no_smote\":   dict(use_smote=False, alpha=(0.30,0.55,0.15), clip=(0.05,0.60)),\n",
        "    \"weight_swap\":dict(use_smote=True,  alpha=(0.50,0.35,0.15), clip=(0.05,0.60)),\n",
        "    \"clip_0.50\":  dict(use_smote=True,  alpha=(0.30,0.55,0.15), clip=(0.05,0.50)),\n",
        "}"
      ],
      "metadata": {
        "id": "lJEzXPNnzcDZ"
      },
      "execution_count": 30,
      "outputs": []
    },
    {
      "cell_type": "code",
      "source": [
        "# ======================= main loop over variants =========================\n",
        "for tag, cfg in VARIANTS.items():\n",
        "    print(f\"\\n=== Running variant: {tag} ===\")\n",
        "    # 1) split train / test\n",
        "    X_tr, X_te, y_tr, y_te = train_test_split(\n",
        "        X_all, y_all, test_size=0.20, stratify=y_all, random_state=SEED)\n",
        "    scaler = StandardScaler().fit(X_tr)\n",
        "    X_tr, X_te = scaler.transform(X_tr), scaler.transform(X_te)\n",
        "\n",
        "    # optional SMOTE\n",
        "    if cfg[\"use_smote\"]:\n",
        "        X_tr, y_tr = SMOTE(random_state=SEED).fit_resample(X_tr, y_tr)\n",
        "\n",
        "    # reshape for LSTM\n",
        "    X_tr, X_te = X_tr[..., None], X_te[..., None]\n",
        "    y_te_cat = to_categorical(y_te, num_classes)\n",
        "\n",
        "    # 2) non-IID Dirichlet split (after balancing so each client sees same size)\n",
        "    rng = np.random.RandomState(SEED)\n",
        "    cX_raw, cy_raw = dirichlet_split(X_tr, y_tr, NUM_CLIENTS,\n",
        "                                     DIRICHLET_ALPHA, rng)\n",
        "    client_X = cX_raw\n",
        "    client_y = [to_categorical(y, num_classes) for y in cy_raw]\n",
        "\n",
        "    # 3) initialise global model\n",
        "    g_model   = build_model(input_shape=(X_tr.shape[1],1), classes=num_classes)\n",
        "    g_weights = g_model.get_weights()\n",
        "    model_MB  = sum(w.nbytes for w in g_weights)/2**20\n",
        "\n",
        "    histories = {c: [] for c in range(NUM_CLIENTS)}\n",
        "    perf_log, comm_log, trust_log = [], [], []\n",
        "\n",
        "    cls_wt = compute_class_weight('balanced',\n",
        "                                  classes=np.arange(num_classes), y=y_tr)\n",
        "    class_weight = dict(enumerate(cls_wt))\n",
        "\n",
        "    # 4) federated rounds\n",
        "    for r in range(1, ROUNDS+1):\n",
        "        tic = time.time()\n",
        "        lw, upd, vloss, ns, bytes_out = {}, {}, {}, {}, 0\n",
        "        for cid in range(NUM_CLIENTS):\n",
        "            n_val = max(1, int(0.1*len(client_X[cid])))\n",
        "            Xv, yv = client_X[cid][:n_val], client_y[cid][:n_val]\n",
        "            Xt, yt = client_X[cid][n_val:], client_y[cid][n_val:]\n",
        "\n",
        "            local = build_model(input_shape=(X_tr.shape[1],1), classes=num_classes)\n",
        "            local.set_weights(g_weights)\n",
        "            local.fit(Xt, yt, epochs=LOCAL_EPOCHS, batch_size=BATCH_SIZE,\n",
        "                      verbose=0, class_weight=class_weight)\n",
        "\n",
        "            w = local.get_weights()\n",
        "            u = weight_delta(w, g_weights)\n",
        "            l = local.evaluate(Xv, yv, verbose=0)[0]\n",
        "            lw[cid], upd[cid], vloss[cid], ns[cid] = w, u, l, len(Xt)\n",
        "            histories[cid] = (histories[cid] + [u])[-HISTORY_KEEP:]\n",
        "            bytes_out += sum(x.nbytes for x in w)\n",
        "\n",
        "        trust = compute_trust(upd, vloss, histories, cfg[\"alpha\"])\n",
        "        # clip & renormalise\n",
        "        tmin, tmax = cfg[\"clip\"]\n",
        "        trust = {c: np.clip(s, tmin, tmax) for c,s in trust.items()}\n",
        "        Z = sum(trust.values())\n",
        "        trust = {c: s/Z for c,s in trust.items()}\n",
        "\n",
        "        g_weights = aggregate(lw, trust, ns)\n",
        "        g_model.set_weights(g_weights)\n",
        "\n",
        "        # ---- evaluation on test set ----\n",
        "        y_pred = np.argmax(g_model.predict(X_te, verbose=0), axis=1)\n",
        "        perf_log.append({\n",
        "            \"round\": r,\n",
        "            \"accuracy\":  accuracy_score(y_te, y_pred),\n",
        "            \"precision\": precision_score(y_te, y_pred, average='weighted', zero_division=0),\n",
        "            \"recall\":    recall_score(y_te, y_pred, average='weighted', zero_division=0),\n",
        "            \"f1\":        f1_score(y_te, y_pred, average='weighted', zero_division=0),\n",
        "            \"ms\": round((time.time()-tic)*1000, 2)\n",
        "        })\n",
        "        comm_log.append({\"round\": r, \"MB\": bytes_out/2**20})\n",
        "        trust_log.extend([{\"round\": r, \"client\": c, \"trust\": trust[c]}\n",
        "                          for c in trust])\n",
        "\n",
        "        print(f\"[{tag}] R{r:02d}  acc={perf_log[-1]['accuracy']:.8f}  \"\n",
        "              f\"F1={perf_log[-1]['f1']:.8f}\"\n",
        "              f\"P={perf_log[-1]['precision']:.8f}\"\n",
        "              f\"R={perf_log[-1]['recall']:.8f}\")"
      ],
      "metadata": {
        "colab": {
          "base_uri": "https://localhost:8080/"
        },
        "id": "q930t5TzzcA9",
        "outputId": "5e78c0ac-37a8-4824-878b-d61dc8a33c57"
      },
      "execution_count": 31,
      "outputs": [
        {
          "output_type": "stream",
          "name": "stdout",
          "text": [
            "\n",
            "=== Running variant: baseline ===\n",
            "[baseline] R01  acc=0.57154529  F1=0.65495827P=0.85708010R=0.57154529\n",
            "[baseline] R02  acc=0.63778796  F1=0.73200241P=0.91280663R=0.63778796\n",
            "[baseline] R03  acc=0.78928903  F1=0.83944433P=0.93002616R=0.78928903\n",
            "[baseline] R04  acc=0.76378520  F1=0.82170739P=0.93376543R=0.76378520\n",
            "[baseline] R05  acc=0.78382622  F1=0.83543322P=0.93382520R=0.78382622\n",
            "[baseline] R06  acc=0.78872833  F1=0.83897087P=0.93932934R=0.78872833\n",
            "[baseline] R07  acc=0.82639134  F1=0.86604780P=0.94292608R=0.82639134\n",
            "[baseline] R08  acc=0.82885842  F1=0.86800069P=0.94376175R=0.82885842\n",
            "[baseline] R09  acc=0.84550319  F1=0.87887268P=0.94114935R=0.84550319\n",
            "[baseline] R10  acc=0.82663164  F1=0.86653893P=0.94361836R=0.82663164\n",
            "[baseline] R11  acc=0.83954375  F1=0.87477499P=0.93970228R=0.83954375\n",
            "[baseline] R12  acc=0.81850950  F1=0.86043130P=0.93910303R=0.81850950\n",
            "[baseline] R13  acc=0.83688443  F1=0.87305121P=0.94106068R=0.83688443\n",
            "[baseline] R14  acc=0.82741662  F1=0.86629779P=0.93677045R=0.82741662\n",
            "[baseline] R15  acc=0.83002787  F1=0.86729376P=0.93347967R=0.83002787\n",
            "[baseline] R16  acc=0.84199481  F1=0.87584835P=0.93687895R=0.84199481\n",
            "[baseline] R17  acc=0.84130595  F1=0.87619975P=0.94257174R=0.84130595\n",
            "[baseline] R18  acc=0.82708020  F1=0.86471685P=0.93285361R=0.82708020\n",
            "[baseline] R19  acc=0.83919131  F1=0.87507835P=0.94333471R=0.83919131\n",
            "[baseline] R20  acc=0.83707667  F1=0.87321562P=0.94096599R=0.83707667\n",
            "[baseline] R21  acc=0.82490148  F1=0.86491740P=0.93987968R=0.82490148\n",
            "[baseline] R22  acc=0.83683637  F1=0.87240537P=0.93507878R=0.83683637\n",
            "[baseline] R23  acc=0.80804844  F1=0.85372964P=0.94407895R=0.80804844\n",
            "[baseline] R24  acc=0.84164237  F1=0.87509270P=0.93353656R=0.84164237\n",
            "[baseline] R25  acc=0.83988017  F1=0.87591181P=0.94531956R=0.83988017\n",
            "[baseline] R26  acc=0.84124187  F1=0.87640334P=0.94148875R=0.84124187\n",
            "[baseline] R27  acc=0.84752171  F1=0.88112381P=0.94477035R=0.84752171\n",
            "[baseline] R28  acc=0.84391721  F1=0.87834730P=0.94254266R=0.84391721\n",
            "[baseline] R29  acc=0.85859152  F1=0.88841086P=0.94337560R=0.85859152\n",
            "[baseline] R30  acc=0.85863958  F1=0.88793804P=0.94359795R=0.85863958\n",
            "\n",
            "=== Running variant: no_smote ===\n",
            "[no_smote] R01  acc=0.89830508  F1=0.87248313P=0.85322459R=0.89830508\n",
            "[no_smote] R02  acc=0.92696485  F1=0.89763269P=0.87056385R=0.92696485\n",
            "[no_smote] R03  acc=0.91637564  F1=0.90492008P=0.91104628R=0.91637564\n",
            "[no_smote] R04  acc=0.90500144  F1=0.89811245P=0.89476698R=0.90500144\n",
            "[no_smote] R05  acc=0.90559418  F1=0.89818717P=0.89378088R=0.90559418\n",
            "[no_smote] R06  acc=0.90122072  F1=0.89476628P=0.89108228R=0.90122072\n",
            "[no_smote] R07  acc=0.89119221  F1=0.88897487P=0.89074065R=0.89119221\n",
            "[no_smote] R08  acc=0.90013136  F1=0.89366168P=0.89297684R=0.90013136\n",
            "[no_smote] R09  acc=0.88968633  F1=0.88648746P=0.89241830R=0.88968633\n",
            "[no_smote] R10  acc=0.87876069  F1=0.88245833P=0.89317911R=0.87876069\n",
            "[no_smote] R11  acc=0.89213739  F1=0.88995636P=0.89541262R=0.89213739\n",
            "[no_smote] R12  acc=0.90261446  F1=0.89904981P=0.89867148R=0.90261446\n",
            "[no_smote] R13  acc=0.90908654  F1=0.89928246P=0.89659680R=0.90908654\n",
            "[no_smote] R14  acc=0.92933581  F1=0.91147495P=0.89812036R=0.92933581\n",
            "[no_smote] R15  acc=0.92180641  F1=0.91201303P=0.90359257R=0.92180641\n",
            "[no_smote] R16  acc=0.93149851  F1=0.91698609P=0.90852936R=0.93149851\n",
            "[no_smote] R17  acc=0.91930730  F1=0.90053146P=0.88263618R=0.91930730\n",
            "[no_smote] R18  acc=0.91986800  F1=0.91139700P=0.90882479R=0.91986800\n",
            "[no_smote] R19  acc=0.92291179  F1=0.90686293P=0.89363731R=0.92291179\n",
            "[no_smote] R20  acc=0.93044119  F1=0.91200259P=0.90024823R=0.93044119\n",
            "[no_smote] R21  acc=0.92142193  F1=0.90963984P=0.90186943R=0.92142193\n",
            "[no_smote] R22  acc=0.91429304  F1=0.90146412P=0.89233079R=0.91429304\n",
            "[no_smote] R23  acc=0.86658550  F1=0.87446262P=0.89647721R=0.86658550\n",
            "[no_smote] R24  acc=0.88079523  F1=0.88342404P=0.89318157R=0.88079523\n",
            "[no_smote] R25  acc=0.92972029  F1=0.91028738P=0.89180429R=0.92972029\n",
            "[no_smote] R26  acc=0.92566723  F1=0.90809610P=0.89441446R=0.92566723\n",
            "[no_smote] R27  acc=0.90404024  F1=0.89728841P=0.89255763R=0.90404024\n",
            "[no_smote] R28  acc=0.92440165  F1=0.90029426P=0.88253744R=0.92440165\n",
            "[no_smote] R29  acc=0.45591298  F1=0.57180170P=0.87777043R=0.45591298\n",
            "[no_smote] R30  acc=0.80015059  F1=0.83181712P=0.86705648R=0.80015059\n",
            "\n",
            "=== Running variant: weight_swap ===\n",
            "[weight_swap] R01  acc=0.68421390  F1=0.74217681P=0.85773102R=0.68421390\n",
            "[weight_swap] R02  acc=0.77387780  F1=0.82580158P=0.90563115R=0.77387780\n",
            "[weight_swap] R03  acc=0.79822819  F1=0.84182914P=0.91203211R=0.79822819\n",
            "[weight_swap] R04  acc=0.75832239  F1=0.81659434P=0.91387814R=0.75832239\n",
            "[weight_swap] R05  acc=0.79202845  F1=0.83975984P=0.91831016R=0.79202845\n",
            "[weight_swap] R06  acc=0.84386915  F1=0.87122186P=0.91624890R=0.84386915\n",
            "[weight_swap] R07  acc=0.82970747  F1=0.86215182P=0.91480790R=0.82970747\n",
            "[weight_swap] R08  acc=0.85702156  F1=0.88032068P=0.91694188R=0.85702156\n",
            "[weight_swap] R09  acc=0.85631668  F1=0.87874114P=0.91526287R=0.85631668\n",
            "[weight_swap] R10  acc=0.83943161  F1=0.86947535P=0.91636864R=0.83943161\n",
            "[weight_swap] R11  acc=0.82547820  F1=0.86073186P=0.91764830R=0.82547820\n",
            "[weight_swap] R12  acc=0.82254654  F1=0.86039121P=0.92669221R=0.82254654\n",
            "[weight_swap] R13  acc=0.83653199  F1=0.86898877P=0.92229891R=0.83653199\n",
            "[weight_swap] R14  acc=0.84385313  F1=0.87591972P=0.93134733R=0.84385313\n",
            "[weight_swap] R15  acc=0.84245939  F1=0.87544886P=0.93328277R=0.84245939\n",
            "[weight_swap] R16  acc=0.84021659  F1=0.87456087P=0.93651498R=0.84021659\n",
            "[weight_swap] R17  acc=0.84229919  F1=0.87677548P=0.94080772R=0.84229919\n",
            "[weight_swap] R18  acc=0.85468264  F1=0.88229943P=0.92909392R=0.85468264\n",
            "[weight_swap] R19  acc=0.84516677  F1=0.87743268P=0.93382216R=0.84516677\n",
            "[weight_swap] R20  acc=0.82099260  F1=0.86229686P=0.93939349R=0.82099260\n",
            "[weight_swap] R21  acc=0.84897953  F1=0.87996407P=0.93368137R=0.84897953\n",
            "[weight_swap] R22  acc=0.86059402  F1=0.88781891P=0.93537428R=0.86059402\n",
            "[weight_swap] R23  acc=0.84555125  F1=0.87809012P=0.93539130R=0.84555125\n",
            "[weight_swap] R24  acc=0.85453846  F1=0.88276844P=0.93049114R=0.85453846\n",
            "[weight_swap] R25  acc=0.84444587  F1=0.87821435P=0.94031307R=0.84444587\n",
            "[weight_swap] R26  acc=0.83050847  F1=0.86869782P=0.93818294R=0.83050847\n",
            "[weight_swap] R27  acc=0.83411297  F1=0.87132342P=0.93991119R=0.83411297\n",
            "[weight_swap] R28  acc=0.85199129  F1=0.88268969P=0.93503883R=0.85199129\n",
            "[weight_swap] R29  acc=0.86203582  F1=0.88877351P=0.93439707R=0.86203582\n",
            "[weight_swap] R30  acc=0.86407036  F1=0.89053606P=0.93325374R=0.86407036\n",
            "\n",
            "=== Running variant: clip_0.50 ===\n",
            "[clip_0.50] R01  acc=0.75936369  F1=0.79005177P=0.85667860R=0.75936369\n",
            "[clip_0.50] R02  acc=0.77463074  F1=0.82943649P=0.91953863R=0.77463074\n",
            "[clip_0.50] R03  acc=0.80216911  F1=0.84830249P=0.93047276R=0.80216911\n",
            "[clip_0.50] R04  acc=0.82559034  F1=0.86429402P=0.93389509R=0.82559034\n",
            "[clip_0.50] R05  acc=0.82472526  F1=0.86408774P=0.93649776R=0.82472526\n",
            "[clip_0.50] R06  acc=0.83094101  F1=0.86814438P=0.93699089R=0.83094101\n",
            "[clip_0.50] R07  acc=0.83103713  F1=0.86849514P=0.93830482R=0.83103713\n",
            "[clip_0.50] R08  acc=0.85644484  F1=0.88389461P=0.93178906R=0.85644484\n",
            "[clip_0.50] R09  acc=0.83669219  F1=0.87253040P=0.94043440R=0.83669219\n",
            "[clip_0.50] R10  acc=0.84702509  F1=0.87879031P=0.93539576R=0.84702509\n",
            "[clip_0.50] R11  acc=0.87751113  F1=0.89734001P=0.93028723R=0.87751113\n",
            "[clip_0.50] R12  acc=0.85788664  F1=0.88594491P=0.93603010R=0.85788664\n",
            "[clip_0.50] R13  acc=0.83664413  F1=0.87322410P=0.94185556R=0.83664413\n",
            "[clip_0.50] R14  acc=0.84960431  F1=0.88047202P=0.93468138R=0.84960431\n",
            "[clip_0.50] R15  acc=0.84569543  F1=0.87792016P=0.93395681R=0.84569543\n",
            "[clip_0.50] R16  acc=0.82711224  F1=0.86574679P=0.93551059R=0.82711224\n",
            "[clip_0.50] R17  acc=0.84422159  F1=0.87798566P=0.93805775R=0.84422159\n",
            "[clip_0.50] R18  acc=0.85609240  F1=0.88470892P=0.93447051R=0.85609240\n",
            "[clip_0.50] R19  acc=0.85162283  F1=0.88101326P=0.92880501R=0.85162283\n",
            "[clip_0.50] R20  acc=0.84681683  F1=0.87830046P=0.93152935R=0.84681683\n",
            "[clip_0.50] R21  acc=0.84297203  F1=0.87723978P=0.93946483R=0.84297203\n",
            "[clip_0.50] R22  acc=0.85030919  F1=0.88259942P=0.94289457R=0.85030919\n",
            "[clip_0.50] R23  acc=0.84205889  F1=0.87398005P=0.92911936R=0.84205889\n",
            "[clip_0.50] R24  acc=0.83074877  F1=0.86922424P=0.93940785R=0.83074877\n",
            "[clip_0.50] R25  acc=0.86088238  F1=0.88979583P=0.94431905R=0.86088238\n",
            "[clip_0.50] R26  acc=0.86395822  F1=0.89061091P=0.93798792R=0.86395822\n",
            "[clip_0.50] R27  acc=0.85231168  F1=0.88182052P=0.93615887R=0.85231168\n",
            "[clip_0.50] R28  acc=0.85823908  F1=0.88713434P=0.93852209R=0.85823908\n",
            "[clip_0.50] R29  acc=0.85490692  F1=0.88550616P=0.94498366R=0.85490692\n",
            "[clip_0.50] R30  acc=0.87014194  F1=0.89560421P=0.94271448R=0.87014194\n"
          ]
        }
      ]
    },
    {
      "cell_type": "code",
      "source": [
        "# ---------------- 5. SAVE LOGS (variant-specific filenames) -------------\n",
        "suffix = tag          # e.g. baseline / no_smote / weight_swap / clip_0.50\n",
        "\n",
        "pd.DataFrame(perf_log ).to_csv(f\"{LOG_DIR}/perf_log_WSN-BFSF_{suffix}.csv\",\n",
        "                               index=False)\n",
        "pd.DataFrame(comm_log ).to_csv(f\"{LOG_DIR}/comm_log_WSN-BFSF_{suffix}.csv\",\n",
        "                               index=False)\n",
        "pd.DataFrame(trust_log).to_csv(f\"{LOG_DIR}/trust_log_WSN-BFSF_{suffix}.csv\",\n",
        "                               index=False)\n",
        "\n",
        "model_profile = dict(\n",
        "    Params_MB   = round(model_MB, 3),\n",
        "    Rounds      = ROUNDS,\n",
        "    Clients     = NUM_CLIENTS,\n",
        "    PeakMem_MB  = round(psutil.Process(os.getpid()).memory_info().rss / 2**20, 2)\n",
        ")\n",
        "pd.DataFrame([model_profile]).to_csv(\n",
        "    f\"{LOG_DIR}/model_profile_WSN-BFSF_{suffix}.csv\",\n",
        "    index=False\n",
        ")\n",
        "\n",
        "print(f\"✓ Variant '{suffix}' complete — logs saved to {LOG_DIR}\")"
      ],
      "metadata": {
        "colab": {
          "base_uri": "https://localhost:8080/"
        },
        "id": "9AiTRM9h2DWj",
        "outputId": "0fea35e1-1a3c-4dcb-ef87-0876b5d9b94d"
      },
      "execution_count": 32,
      "outputs": [
        {
          "metadata": {
            "tags": null
          },
          "name": "stdout",
          "output_type": "stream",
          "text": [
            "✓ Variant 'clip_0.50' complete — logs saved to /mnt/data\n"
          ]
        }
      ]
    },
    {
      "cell_type": "code",
      "source": [
        "import glob\n",
        "import os\n",
        "\n",
        "log_files_path = \"/mnt/data/\"\n",
        "log_files = glob.glob(os.path.join(log_files_path, \"*.csv\"))\n",
        "\n",
        "print(\"Generated log files:\")\n",
        "for f in log_files:\n",
        "    print(os.path.basename(f))"
      ],
      "metadata": {
        "colab": {
          "base_uri": "https://localhost:8080/"
        },
        "id": "sqPOnPCAYrol",
        "outputId": "6a7bd34d-efa3-4409-abb1-9309b3588dc1"
      },
      "execution_count": 33,
      "outputs": [
        {
          "metadata": {
            "tags": null
          },
          "name": "stdout",
          "output_type": "stream",
          "text": [
            "Generated log files:\n",
            "trust_log_WSN-BFSF_0.csv\n",
            "0_perf.csv\n",
            "0_comm.csv\n",
            "perf_log_WSN-BFSF_0.csv\n",
            "perf_log_WSN-BFSF_clip_0.50.csv\n",
            "comm_log_WSN-BFSF_0.csv\n",
            "0_trust.csv\n",
            "model_profile_WSN-BFSF_0.csv\n",
            "trust_log_WSN-BFSF_clip_0.50.csv\n",
            "comm_log_WSN-BFSF_clip_0.50.csv\n",
            "model_profile_WSN-BFSF_clip_0.50.csv\n"
          ]
        }
      ]
    },
    {
      "cell_type": "code",
      "source": [
        "import pandas as pd, glob\n",
        "for f in glob.glob('/mnt/data/perf_log_WSN-BFSF_*.csv'):\n",
        "    tag = f.split('_')[-1].split('.')[0]   # baseline / no_smote / ...\n",
        "    df  = pd.read_csv(f)\n",
        "    print(tag, df[['accuracy','f1']].tail(1).values)"
      ],
      "metadata": {
        "colab": {
          "base_uri": "https://localhost:8080/"
        },
        "id": "4g9wlDcR2DT6",
        "outputId": "5ac46022-deea-4c1c-9836-9b28ebce1389"
      },
      "execution_count": 34,
      "outputs": [
        {
          "metadata": {
            "tags": null
          },
          "name": "stdout",
          "output_type": "stream",
          "text": [
            "0 [[0.46142386 0.5452185 ]]\n",
            "0 [[0.87014194 0.89560421]]\n"
          ]
        }
      ]
    }
  ]
}