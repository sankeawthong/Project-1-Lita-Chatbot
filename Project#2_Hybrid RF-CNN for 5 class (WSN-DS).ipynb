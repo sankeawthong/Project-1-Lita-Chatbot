{
  "nbformat": 4,
  "nbformat_minor": 0,
  "metadata": {
    "colab": {
      "provenance": [],
      "authorship_tag": "ABX9TyMV9H2lXycYfU4CCwHxvmMs",
      "include_colab_link": true
    },
    "kernelspec": {
      "name": "python3",
      "display_name": "Python 3"
    },
    "language_info": {
      "name": "python"
    }
  },
  "cells": [
    {
      "cell_type": "markdown",
      "metadata": {
        "id": "view-in-github",
        "colab_type": "text"
      },
      "source": [
        "<a href=\"https://colab.research.google.com/github/sankeawthong/Project-1-Lita-Chatbot/blob/main/Project%232_Hybrid%20RF-CNN%20for%205%20class%20(WSN-DS).ipynb\" target=\"_parent\"><img src=\"https://colab.research.google.com/assets/colab-badge.svg\" alt=\"Open In Colab\"/></a>"
      ]
    },
    {
      "cell_type": "markdown",
      "source": [
        "### **Hybrid RF-CNN for 5 class classifications**"
      ],
      "metadata": {
        "id": "1ZGp4ToIHoWw"
      }
    },
    {
      "cell_type": "code",
      "source": [
        "import pandas as pd\n",
        "import numpy as np\n",
        "import collections as c\n",
        "from imblearn.over_sampling import SMOTE\n",
        "from sklearn.model_selection import train_test_split\n",
        "from sklearn.metrics import classification_report, confusion_matrix\n",
        "from sklearn.ensemble import RandomForestClassifier\n",
        "from keras.models import Sequential\n",
        "from keras.layers import Conv2D, MaxPooling2D, Flatten, Dense, Dropout, Reshape\n",
        "from keras.utils import to_categorical\n",
        "import imblearn"
      ],
      "metadata": {
        "id": "RdFrAupsHNS2"
      },
      "execution_count": null,
      "outputs": []
    },
    {
      "cell_type": "code",
      "source": [
        "# Load dataset\n",
        "dataset = pd.read_csv(\"dataset.csv\")\n",
        "dataset.shape\n",
        "dataset.isnull().sum()"
      ],
      "metadata": {
        "id": "j-G5bQAxHOth"
      },
      "execution_count": null,
      "outputs": []
    },
    {
      "cell_type": "code",
      "source": [
        "dataset.info()"
      ],
      "metadata": {
        "id": "jdHTWxmsHRd6"
      },
      "execution_count": null,
      "outputs": []
    },
    {
      "cell_type": "code",
      "source": [
        "dataset[\"Class\"].unique()"
      ],
      "metadata": {
        "id": "FnZqqHvbHSZy"
      },
      "execution_count": null,
      "outputs": []
    },
    {
      "cell_type": "code",
      "source": [
        "#Installing imblearn\n",
        "!pip install -U imbalanced-learn\n",
        "!pip install imbalanced-learn"
      ],
      "metadata": {
        "id": "WMXp3n8bHTf-"
      },
      "execution_count": null,
      "outputs": []
    },
    {
      "cell_type": "code",
      "source": [
        "# check version number\n",
        "print(imblearn.__version__)"
      ],
      "metadata": {
        "id": "-IufR9f8HUyI"
      },
      "execution_count": null,
      "outputs": []
    },
    {
      "cell_type": "code",
      "source": [
        "# Data preprocessing\n",
        "y = dataset['Class'].values\n",
        "X = dataset.drop(['Class'],axis=1)\n",
        "X=X.values\n",
        "print(X)\n",
        "print(y)"
      ],
      "metadata": {
        "id": "1qsfppIxHWQK"
      },
      "execution_count": null,
      "outputs": []
    },
    {
      "cell_type": "code",
      "source": [
        "counter = c.Counter(y)\n",
        "print(counter)"
      ],
      "metadata": {
        "id": "dfwiybl-HXfZ"
      },
      "execution_count": null,
      "outputs": []
    },
    {
      "cell_type": "code",
      "source": [
        "# Oversample the minority classes\n",
        "oversample = SMOTE()\n",
        "X, y = oversample.fit_resample(X, y)\n",
        "counter = c.Counter(y)\n",
        "print(counter)"
      ],
      "metadata": {
        "id": "w0pnJohUHYhl"
      },
      "execution_count": null,
      "outputs": []
    },
    {
      "cell_type": "code",
      "source": [
        "# Split dataset into training and testing sets\n",
        "X_train, X_test, y_train, y_test = train_test_split(X, y, test_size=0.2, random_state=101)"
      ],
      "metadata": {
        "id": "u-uFAJ_jHaAI"
      },
      "execution_count": null,
      "outputs": []
    },
    {
      "cell_type": "code",
      "source": [
        "# One-hot encode y\n",
        "y_train = to_categorical(y_train, num_classes=5)\n",
        "y_test = to_categorical(y_test, num_classes=5)\n",
        "\n",
        "# Reshape data for input to Conv2D\n",
        "X_train = np.reshape(X_train, (X_train.shape[0], 1, X_train.shape[1], 1))\n",
        "X_test = np.reshape(X_test, (X_test.shape[0], 1, X_test.shape[1], 1))"
      ],
      "metadata": {
        "id": "qu246EmQHc5G"
      },
      "execution_count": null,
      "outputs": []
    },
    {
      "cell_type": "code",
      "execution_count": null,
      "metadata": {
        "id": "ZmmGAuzVFw3M"
      },
      "outputs": [],
      "source": [
        "# Build CNN model\n",
        "model = Sequential()\n",
        "model.add(Reshape((1, X_train.shape[2], 1), input_shape=(1, X_train.shape[2])))\n",
        "model.add(Conv2D(32, (3,3), padding='same', activation='relu'))\n",
        "model.add(Conv2D(32, (3,3), padding='same', activation='relu'))\n",
        "model.add(MaxPooling2D(pool_size=(2,2), padding='same'))\n",
        "model.add(Conv2D(64, (3,3), padding='same', activation='relu'))\n",
        "model.add(MaxPooling2D(pool_size=(2,2), padding='same'))\n",
        "model.add(Flatten())\n",
        "model.add(Dense(128, activation='relu'))\n",
        "model.add(Dropout(0.5))\n",
        "model.add(Dense(5, activation='softmax'))\n",
        "\n",
        "# Compile model\n",
        "model.compile(loss='categorical_crossentropy', optimizer='adam', metrics=['accuracy'])\n",
        "\n",
        "\n",
        "# Train model\n",
        "history = model.fit(X_train, y_train, epochs=10, batch_size=32, validation_data=(X_test, y_test))\n",
        "\n",
        "# Use CNN to extract features\n",
        "X_train_cnn_features = cnn_model.predict(X_train_cnn)\n",
        "X_test_cnn_features = cnn_model.predict(X_test_cnn)\n",
        "\n",
        "# Use CNN to extract features\n",
        "X_train_cnn_features = cnn_model.predict(X_train_cnn)\n",
        "X_test_cnn_features = cnn_model.predict(X_test_cnn)\n",
        "\n",
        "# Flatten the last 2 dimensions of X_train_cnn_features\n",
        "X_train_cnn_features = np.reshape(X_train_cnn_features, (X_train_cnn_features.shape[0], -1))\n",
        "X_test_cnn_features = np.reshape(X_test_cnn_features, (X_test_cnn_features.shape[0], -1))\n",
        "\n",
        "# Build RF model\n",
        "rf_model = RandomForestClassifier(n_estimators=100, random_state=101)\n",
        "\n",
        "# Train RF model on CNN features\n",
        "rf_model.fit(X_train_cnn_features, np.argmax(y_train, axis=1)+1\n",
        "             \n",
        "# Evaluate RF model on CNN features\n",
        "y_pred_rf = rf_model.predict(X_test_cnn_features)\n",
        "y_test_rf = np.argmax(y_test, axis=1)+1\n",
        "print(classification_report(y_test_rf, y_pred_rf))\n",
        "print(confusion_matrix(y_test_rf, y_pred_rf))"
      ]
    }
  ]
}