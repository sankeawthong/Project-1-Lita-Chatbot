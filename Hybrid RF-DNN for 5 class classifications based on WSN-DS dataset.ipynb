{
  "nbformat": 4,
  "nbformat_minor": 0,
  "metadata": {
    "colab": {
      "provenance": [],
      "authorship_tag": "ABX9TyPD5o9YSkOUL8SK6F44hJUg",
      "include_colab_link": true
    },
    "kernelspec": {
      "name": "python3",
      "display_name": "Python 3"
    },
    "language_info": {
      "name": "python"
    }
  },
  "cells": [
    {
      "cell_type": "markdown",
      "metadata": {
        "id": "view-in-github",
        "colab_type": "text"
      },
      "source": [
        "<a href=\"https://colab.research.google.com/github/sankeawthong/Project-1-Lita-Chatbot/blob/main/Hybrid%20RF-DNN%20for%205%20class%20classifications%20based%20on%20WSN-DS%20dataset.ipynb\" target=\"_parent\"><img src=\"https://colab.research.google.com/assets/colab-badge.svg\" alt=\"Open In Colab\"/></a>"
      ]
    },
    {
      "cell_type": "markdown",
      "source": [
        "### **Hybrid RF-DNN for 5 class classifications based on WSN-DS dataset**"
      ],
      "metadata": {
        "id": "15jGYmT_0lrn"
      }
    },
    {
      "cell_type": "code",
      "source": [
        "import pandas as pd\n",
        "import numpy as np\n",
        "from sklearn.model_selection import train_test_split\n",
        "from sklearn.ensemble import RandomForestClassifier\n",
        "from keras.models import Sequential\n",
        "from keras.layers import Dense"
      ],
      "metadata": {
        "id": "JLFmDI9C0qRo"
      },
      "execution_count": 3,
      "outputs": []
    },
    {
      "cell_type": "code",
      "source": [
        "# load dataset\n",
        "dataset = pd.read_csv(\"dataset_WSn-DS.csv\")"
      ],
      "metadata": {
        "id": "QYXmvq660ron"
      },
      "execution_count": 4,
      "outputs": []
    },
    {
      "cell_type": "markdown",
      "source": [
        "### **Data Preprocessing**"
      ],
      "metadata": {
        "id": "BPxDywqB03Gl"
      }
    },
    {
      "cell_type": "code",
      "source": [
        "# Data preprocessing\n",
        "y = dataset['Class'].values\n",
        "X = dataset.drop(['Class'],axis=1)\n",
        "X = X.values"
      ],
      "metadata": {
        "id": "E4YGBJ3j0u0B"
      },
      "execution_count": 5,
      "outputs": []
    },
    {
      "cell_type": "code",
      "source": [
        "# balance classes using SMOTE\n",
        "from imblearn.over_sampling import SMOTE\n",
        "oversample = SMOTE()\n",
        "X, y = oversample.fit_resample(X, y)"
      ],
      "metadata": {
        "id": "7pwiLsc80wit"
      },
      "execution_count": 6,
      "outputs": []
    },
    {
      "cell_type": "code",
      "source": [
        "# Split data into train and test sets\n",
        "X_train, X_test, y_train, y_test = train_test_split(X, y, test_size=0.2, random_state=42)"
      ],
      "metadata": {
        "id": "J_hiH1JR0xuT"
      },
      "execution_count": 7,
      "outputs": []
    },
    {
      "cell_type": "markdown",
      "source": [
        "### **Hybrid combination of RF-DNN for 5 class classifications**"
      ],
      "metadata": {
        "id": "lmcm5fIJ08G8"
      }
    },
    {
      "cell_type": "code",
      "source": [
        "# train RF model\n",
        "rf_model = RandomForestClassifier(n_estimators=100, random_state=42)\n",
        "rf_model.fit(X, y)"
      ],
      "metadata": {
        "id": "BX1Mt_Im1GIG"
      },
      "execution_count": null,
      "outputs": []
    },
    {
      "cell_type": "code",
      "source": [
        "# train DNN model\n",
        "input_dim = X.shape[1]\n",
        "num_classes = len(np.unique(y))\n",
        "dnn_model = Sequential()\n",
        "dnn_model.add(Dense(128, input_dim=input_dim, activation='relu'))\n",
        "dnn_model.add(Dense(64, activation='relu'))\n",
        "dnn_model.add(Dense(5, activation='softmax'))\n",
        "dnn_model.compile(loss='categorical_crossentropy', optimizer='adam', metrics=['accuracy'])\n",
        "dnn_model.fit(X, pd.get_dummies(y), epochs=15, batch_size=32)"
      ],
      "metadata": {
        "id": "4euks9vQ1H6x"
      },
      "execution_count": null,
      "outputs": []
    },
    {
      "cell_type": "code",
      "execution_count": null,
      "metadata": {
        "id": "VYp0RdPSzwjT"
      },
      "outputs": [],
      "source": [
        "# combine RF and DNN models\n",
        "def hybrid_model_predict(X):\n",
        "    rf_pred = rf_model.predict(X)\n",
        "    dnn_pred = np.argmax(dnn_model.predict(X), axis=-1)\n",
        "    hybrid_pred = []\n",
        "    for i in range(len(X)):\n",
        "        if rf_pred[i] == dnn_pred[i]:\n",
        "            hybrid_pred.append(rf_pred[i])\n",
        "        else:\n",
        "            hybrid_pred.append(np.random.choice([rf_pred[i], dnn_pred[i]]))\n",
        "    return np.array(hybrid_pred)\n",
        "\n",
        "# evaluate hybrid model\n",
        "X_train, X_test, y_train, y_test = train_test_split(X, y, test_size=0.2, random_state=42)\n",
        "y_pred = hybrid_model_predict(X_test)\n",
        "accuracy = np.sum(y_pred == y_test) / len(y_test)\n",
        "print('Hybrid model accuracy:', accuracy)"
      ]
    }
  ]
}