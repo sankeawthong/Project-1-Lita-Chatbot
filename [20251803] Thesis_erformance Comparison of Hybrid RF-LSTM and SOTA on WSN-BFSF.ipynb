{
  "nbformat": 4,
  "nbformat_minor": 0,
  "metadata": {
    "colab": {
      "provenance": [],
      "machine_shape": "hm",
      "authorship_tag": "ABX9TyOAMiUzt9epQnI0wKdJuBYo",
      "include_colab_link": true
    },
    "kernelspec": {
      "name": "python3",
      "display_name": "Python 3"
    },
    "language_info": {
      "name": "python"
    }
  },
  "cells": [
    {
      "cell_type": "markdown",
      "metadata": {
        "id": "view-in-github",
        "colab_type": "text"
      },
      "source": [
        "<a href=\"https://colab.research.google.com/github/sankeawthong/Project-1-Lita-Chatbot/blob/main/%5B20251803%5D%20Thesis_erformance%20Comparison%20of%20Hybrid%20RF-LSTM%20and%20SOTA%20on%20WSN-BFSF.ipynb\" target=\"_parent\"><img src=\"https://colab.research.google.com/assets/colab-badge.svg\" alt=\"Open In Colab\"/></a>"
      ]
    },
    {
      "cell_type": "markdown",
      "source": [
        "**Training on WSN-BFSF dataset (4 Classes)**"
      ],
      "metadata": {
        "id": "c9cnXaN8wMR2"
      }
    },
    {
      "cell_type": "code",
      "source": [
        "!pip install tensorflow"
      ],
      "metadata": {
        "colab": {
          "base_uri": "https://localhost:8080/"
        },
        "id": "uQS8lUQpHsTI",
        "outputId": "9bf37459-15a1-40e8-a32c-c94c68d27b6d"
      },
      "execution_count": null,
      "outputs": [
        {
          "output_type": "stream",
          "name": "stdout",
          "text": [
            "Requirement already satisfied: tensorflow in /usr/local/lib/python3.11/dist-packages (2.18.0)\n",
            "Requirement already satisfied: absl-py>=1.0.0 in /usr/local/lib/python3.11/dist-packages (from tensorflow) (1.4.0)\n",
            "Requirement already satisfied: astunparse>=1.6.0 in /usr/local/lib/python3.11/dist-packages (from tensorflow) (1.6.3)\n",
            "Requirement already satisfied: flatbuffers>=24.3.25 in /usr/local/lib/python3.11/dist-packages (from tensorflow) (25.2.10)\n",
            "Requirement already satisfied: gast!=0.5.0,!=0.5.1,!=0.5.2,>=0.2.1 in /usr/local/lib/python3.11/dist-packages (from tensorflow) (0.6.0)\n",
            "Requirement already satisfied: google-pasta>=0.1.1 in /usr/local/lib/python3.11/dist-packages (from tensorflow) (0.2.0)\n",
            "Requirement already satisfied: libclang>=13.0.0 in /usr/local/lib/python3.11/dist-packages (from tensorflow) (18.1.1)\n",
            "Requirement already satisfied: opt-einsum>=2.3.2 in /usr/local/lib/python3.11/dist-packages (from tensorflow) (3.4.0)\n",
            "Requirement already satisfied: packaging in /usr/local/lib/python3.11/dist-packages (from tensorflow) (24.2)\n",
            "Requirement already satisfied: protobuf!=4.21.0,!=4.21.1,!=4.21.2,!=4.21.3,!=4.21.4,!=4.21.5,<6.0.0dev,>=3.20.3 in /usr/local/lib/python3.11/dist-packages (from tensorflow) (4.25.6)\n",
            "Requirement already satisfied: requests<3,>=2.21.0 in /usr/local/lib/python3.11/dist-packages (from tensorflow) (2.32.3)\n",
            "Requirement already satisfied: setuptools in /usr/local/lib/python3.11/dist-packages (from tensorflow) (75.1.0)\n",
            "Requirement already satisfied: six>=1.12.0 in /usr/local/lib/python3.11/dist-packages (from tensorflow) (1.17.0)\n",
            "Requirement already satisfied: termcolor>=1.1.0 in /usr/local/lib/python3.11/dist-packages (from tensorflow) (2.5.0)\n",
            "Requirement already satisfied: typing-extensions>=3.6.6 in /usr/local/lib/python3.11/dist-packages (from tensorflow) (4.12.2)\n",
            "Requirement already satisfied: wrapt>=1.11.0 in /usr/local/lib/python3.11/dist-packages (from tensorflow) (1.17.2)\n",
            "Requirement already satisfied: grpcio<2.0,>=1.24.3 in /usr/local/lib/python3.11/dist-packages (from tensorflow) (1.71.0)\n",
            "Requirement already satisfied: tensorboard<2.19,>=2.18 in /usr/local/lib/python3.11/dist-packages (from tensorflow) (2.18.0)\n",
            "Requirement already satisfied: keras>=3.5.0 in /usr/local/lib/python3.11/dist-packages (from tensorflow) (3.8.0)\n",
            "Requirement already satisfied: numpy<2.1.0,>=1.26.0 in /usr/local/lib/python3.11/dist-packages (from tensorflow) (2.0.2)\n",
            "Requirement already satisfied: h5py>=3.11.0 in /usr/local/lib/python3.11/dist-packages (from tensorflow) (3.12.1)\n",
            "Requirement already satisfied: ml-dtypes<0.5.0,>=0.4.0 in /usr/local/lib/python3.11/dist-packages (from tensorflow) (0.4.1)\n",
            "Requirement already satisfied: tensorflow-io-gcs-filesystem>=0.23.1 in /usr/local/lib/python3.11/dist-packages (from tensorflow) (0.37.1)\n",
            "Requirement already satisfied: wheel<1.0,>=0.23.0 in /usr/local/lib/python3.11/dist-packages (from astunparse>=1.6.0->tensorflow) (0.45.1)\n",
            "Requirement already satisfied: rich in /usr/local/lib/python3.11/dist-packages (from keras>=3.5.0->tensorflow) (13.9.4)\n",
            "Requirement already satisfied: namex in /usr/local/lib/python3.11/dist-packages (from keras>=3.5.0->tensorflow) (0.0.8)\n",
            "Requirement already satisfied: optree in /usr/local/lib/python3.11/dist-packages (from keras>=3.5.0->tensorflow) (0.14.1)\n",
            "Requirement already satisfied: charset-normalizer<4,>=2 in /usr/local/lib/python3.11/dist-packages (from requests<3,>=2.21.0->tensorflow) (3.4.1)\n",
            "Requirement already satisfied: idna<4,>=2.5 in /usr/local/lib/python3.11/dist-packages (from requests<3,>=2.21.0->tensorflow) (3.10)\n",
            "Requirement already satisfied: urllib3<3,>=1.21.1 in /usr/local/lib/python3.11/dist-packages (from requests<3,>=2.21.0->tensorflow) (2.3.0)\n",
            "Requirement already satisfied: certifi>=2017.4.17 in /usr/local/lib/python3.11/dist-packages (from requests<3,>=2.21.0->tensorflow) (2025.1.31)\n",
            "Requirement already satisfied: markdown>=2.6.8 in /usr/local/lib/python3.11/dist-packages (from tensorboard<2.19,>=2.18->tensorflow) (3.7)\n",
            "Requirement already satisfied: tensorboard-data-server<0.8.0,>=0.7.0 in /usr/local/lib/python3.11/dist-packages (from tensorboard<2.19,>=2.18->tensorflow) (0.7.2)\n",
            "Requirement already satisfied: werkzeug>=1.0.1 in /usr/local/lib/python3.11/dist-packages (from tensorboard<2.19,>=2.18->tensorflow) (3.1.3)\n",
            "Requirement already satisfied: MarkupSafe>=2.1.1 in /usr/local/lib/python3.11/dist-packages (from werkzeug>=1.0.1->tensorboard<2.19,>=2.18->tensorflow) (3.0.2)\n",
            "Requirement already satisfied: markdown-it-py>=2.2.0 in /usr/local/lib/python3.11/dist-packages (from rich->keras>=3.5.0->tensorflow) (3.0.0)\n",
            "Requirement already satisfied: pygments<3.0.0,>=2.13.0 in /usr/local/lib/python3.11/dist-packages (from rich->keras>=3.5.0->tensorflow) (2.18.0)\n",
            "Requirement already satisfied: mdurl~=0.1 in /usr/local/lib/python3.11/dist-packages (from markdown-it-py>=2.2.0->rich->keras>=3.5.0->tensorflow) (0.1.2)\n"
          ]
        }
      ]
    },
    {
      "cell_type": "code",
      "source": [
        "!pip install -U imbalanced-learn"
      ],
      "metadata": {
        "colab": {
          "base_uri": "https://localhost:8080/"
        },
        "id": "vz7NnRvfIBwa",
        "outputId": "3876babf-2be4-43c2-8f10-e91507e8f149"
      },
      "execution_count": null,
      "outputs": [
        {
          "output_type": "stream",
          "name": "stdout",
          "text": [
            "Requirement already satisfied: imbalanced-learn in /usr/local/lib/python3.11/dist-packages (0.13.0)\n",
            "Requirement already satisfied: numpy<3,>=1.24.3 in /usr/local/lib/python3.11/dist-packages (from imbalanced-learn) (2.0.2)\n",
            "Requirement already satisfied: scipy<2,>=1.10.1 in /usr/local/lib/python3.11/dist-packages (from imbalanced-learn) (1.14.1)\n",
            "Requirement already satisfied: scikit-learn<2,>=1.3.2 in /usr/local/lib/python3.11/dist-packages (from imbalanced-learn) (1.6.1)\n",
            "Requirement already satisfied: sklearn-compat<1,>=0.1 in /usr/local/lib/python3.11/dist-packages (from imbalanced-learn) (0.1.3)\n",
            "Requirement already satisfied: joblib<2,>=1.1.1 in /usr/local/lib/python3.11/dist-packages (from imbalanced-learn) (1.4.2)\n",
            "Requirement already satisfied: threadpoolctl<4,>=2.0.0 in /usr/local/lib/python3.11/dist-packages (from imbalanced-learn) (3.6.0)\n"
          ]
        }
      ]
    },
    {
      "cell_type": "code",
      "source": [
        "#Imports various Python libraries necessary\n",
        "import pandas as pd\n",
        "import numpy as np\n",
        "import matplotlib.pyplot as plt\n",
        "import seaborn as sns\n",
        "from sklearn.preprocessing import StandardScaler, LabelEncoder\n",
        "from sklearn.model_selection import train_test_split\n",
        "from sklearn.metrics import accuracy_score, precision_score, recall_score, f1_score, roc_auc_score, confusion_matrix\n",
        "from sklearn.ensemble import RandomForestClassifier\n",
        "from sklearn.svm import SVC\n",
        "from tensorflow.keras.models import Sequential\n",
        "from tensorflow.keras.layers import LSTM, Dense, Dropout, Conv1D, MaxPooling1D, Flatten, GRU\n",
        "from tensorflow.keras.utils import to_categorical\n",
        "from imblearn.over_sampling import SMOTE"
      ],
      "metadata": {
        "id": "vYh0szvJj22x"
      },
      "execution_count": null,
      "outputs": []
    },
    {
      "cell_type": "code",
      "source": [
        "# Load dataset\n",
        "dataset = pd.read_csv(\"dataset.csv\")\n",
        "\n",
        "# Preprocessing: Handle missing values (if any)\n",
        "dataset = dataset.dropna() # Remove missing values"
      ],
      "metadata": {
        "id": "3PapJ_8cj2zU"
      },
      "execution_count": null,
      "outputs": []
    },
    {
      "cell_type": "code",
      "source": [
        "dataset"
      ],
      "metadata": {
        "colab": {
          "base_uri": "https://localhost:8080/",
          "height": 444
        },
        "id": "9O98hTbgj2wS",
        "outputId": "2f74c44b-294c-418a-e18a-9fc35f50d70f"
      },
      "execution_count": null,
      "outputs": [
        {
          "output_type": "execute_result",
          "data": {
            "text/plain": [
              "        Event        Time  S_Node  Node_id  Rest_Energy  Trace_Level  \\\n",
              "0           1    0.100000      79       79   600.000000            5   \n",
              "1           2    0.100963      78       78   599.979723            5   \n",
              "2           2    0.100963      76       76   599.979722            5   \n",
              "3           2    0.100964      75       75   599.979722            5   \n",
              "4           2    0.100964     118      118   599.979722            5   \n",
              "...       ...         ...     ...      ...          ...          ...   \n",
              "312101      4  656.526536     140      140   465.332078            5   \n",
              "312102      4  657.209643     140      140   465.191806            5   \n",
              "312103      4  657.891729     140      140   465.051737            5   \n",
              "312104      4  658.574656     140      140   464.911501            5   \n",
              "312105      4  679.054956     140      140   460.705905            5   \n",
              "\n",
              "        Mac_Type_Pckt  Source_IP_Port  Des_IP_Port  Packet_Size  TTL  \\\n",
              "0                   0          79.255        1.255           48   30   \n",
              "1                 800          79.255        1.255           48   30   \n",
              "2                 800          79.255        1.255           48   30   \n",
              "3                 800          79.255        1.255           48   30   \n",
              "4                 800          79.255        1.255           48   30   \n",
              "...               ...             ...          ...          ...  ...   \n",
              "312101            800         140.255        1.255           48   30   \n",
              "312102            800         140.255        1.255           48   30   \n",
              "312103            800         140.255        1.255           48   30   \n",
              "312104            800         140.255        1.255           48   30   \n",
              "312105            800         140.255        1.255           48   30   \n",
              "\n",
              "        Hop_Count  Broadcast_ID  Dest_Node_Num  Dest_Seq_Num  Src_Node_ID  \\\n",
              "0               1             1            100             0           79   \n",
              "1               1             1            100             0           79   \n",
              "2               1             1            100             0           79   \n",
              "3               1             1            100             0           79   \n",
              "4               1             1            100             0           79   \n",
              "...           ...           ...            ...           ...          ...   \n",
              "312101          1            31            100            16          140   \n",
              "312102          1            33            100            16          140   \n",
              "312103          1            35            100            16          140   \n",
              "312104          1            37            100            16          140   \n",
              "312105          1            42            100            16          140   \n",
              "\n",
              "        Src_Seq_Num  Class  \n",
              "0                 4      0  \n",
              "1                 4      0  \n",
              "2                 4      0  \n",
              "3                 4      0  \n",
              "4                 4      0  \n",
              "...             ...    ...  \n",
              "312101           68      1  \n",
              "312102           72      1  \n",
              "312103           76      1  \n",
              "312104           80      1  \n",
              "312105           90      1  \n",
              "\n",
              "[312106 rows x 18 columns]"
            ],
            "text/html": [
              "\n",
              "  <div id=\"df-2cae6c51-cf82-4349-bd77-5bfda8476737\" class=\"colab-df-container\">\n",
              "    <div>\n",
              "<style scoped>\n",
              "    .dataframe tbody tr th:only-of-type {\n",
              "        vertical-align: middle;\n",
              "    }\n",
              "\n",
              "    .dataframe tbody tr th {\n",
              "        vertical-align: top;\n",
              "    }\n",
              "\n",
              "    .dataframe thead th {\n",
              "        text-align: right;\n",
              "    }\n",
              "</style>\n",
              "<table border=\"1\" class=\"dataframe\">\n",
              "  <thead>\n",
              "    <tr style=\"text-align: right;\">\n",
              "      <th></th>\n",
              "      <th>Event</th>\n",
              "      <th>Time</th>\n",
              "      <th>S_Node</th>\n",
              "      <th>Node_id</th>\n",
              "      <th>Rest_Energy</th>\n",
              "      <th>Trace_Level</th>\n",
              "      <th>Mac_Type_Pckt</th>\n",
              "      <th>Source_IP_Port</th>\n",
              "      <th>Des_IP_Port</th>\n",
              "      <th>Packet_Size</th>\n",
              "      <th>TTL</th>\n",
              "      <th>Hop_Count</th>\n",
              "      <th>Broadcast_ID</th>\n",
              "      <th>Dest_Node_Num</th>\n",
              "      <th>Dest_Seq_Num</th>\n",
              "      <th>Src_Node_ID</th>\n",
              "      <th>Src_Seq_Num</th>\n",
              "      <th>Class</th>\n",
              "    </tr>\n",
              "  </thead>\n",
              "  <tbody>\n",
              "    <tr>\n",
              "      <th>0</th>\n",
              "      <td>1</td>\n",
              "      <td>0.100000</td>\n",
              "      <td>79</td>\n",
              "      <td>79</td>\n",
              "      <td>600.000000</td>\n",
              "      <td>5</td>\n",
              "      <td>0</td>\n",
              "      <td>79.255</td>\n",
              "      <td>1.255</td>\n",
              "      <td>48</td>\n",
              "      <td>30</td>\n",
              "      <td>1</td>\n",
              "      <td>1</td>\n",
              "      <td>100</td>\n",
              "      <td>0</td>\n",
              "      <td>79</td>\n",
              "      <td>4</td>\n",
              "      <td>0</td>\n",
              "    </tr>\n",
              "    <tr>\n",
              "      <th>1</th>\n",
              "      <td>2</td>\n",
              "      <td>0.100963</td>\n",
              "      <td>78</td>\n",
              "      <td>78</td>\n",
              "      <td>599.979723</td>\n",
              "      <td>5</td>\n",
              "      <td>800</td>\n",
              "      <td>79.255</td>\n",
              "      <td>1.255</td>\n",
              "      <td>48</td>\n",
              "      <td>30</td>\n",
              "      <td>1</td>\n",
              "      <td>1</td>\n",
              "      <td>100</td>\n",
              "      <td>0</td>\n",
              "      <td>79</td>\n",
              "      <td>4</td>\n",
              "      <td>0</td>\n",
              "    </tr>\n",
              "    <tr>\n",
              "      <th>2</th>\n",
              "      <td>2</td>\n",
              "      <td>0.100963</td>\n",
              "      <td>76</td>\n",
              "      <td>76</td>\n",
              "      <td>599.979722</td>\n",
              "      <td>5</td>\n",
              "      <td>800</td>\n",
              "      <td>79.255</td>\n",
              "      <td>1.255</td>\n",
              "      <td>48</td>\n",
              "      <td>30</td>\n",
              "      <td>1</td>\n",
              "      <td>1</td>\n",
              "      <td>100</td>\n",
              "      <td>0</td>\n",
              "      <td>79</td>\n",
              "      <td>4</td>\n",
              "      <td>0</td>\n",
              "    </tr>\n",
              "    <tr>\n",
              "      <th>3</th>\n",
              "      <td>2</td>\n",
              "      <td>0.100964</td>\n",
              "      <td>75</td>\n",
              "      <td>75</td>\n",
              "      <td>599.979722</td>\n",
              "      <td>5</td>\n",
              "      <td>800</td>\n",
              "      <td>79.255</td>\n",
              "      <td>1.255</td>\n",
              "      <td>48</td>\n",
              "      <td>30</td>\n",
              "      <td>1</td>\n",
              "      <td>1</td>\n",
              "      <td>100</td>\n",
              "      <td>0</td>\n",
              "      <td>79</td>\n",
              "      <td>4</td>\n",
              "      <td>0</td>\n",
              "    </tr>\n",
              "    <tr>\n",
              "      <th>4</th>\n",
              "      <td>2</td>\n",
              "      <td>0.100964</td>\n",
              "      <td>118</td>\n",
              "      <td>118</td>\n",
              "      <td>599.979722</td>\n",
              "      <td>5</td>\n",
              "      <td>800</td>\n",
              "      <td>79.255</td>\n",
              "      <td>1.255</td>\n",
              "      <td>48</td>\n",
              "      <td>30</td>\n",
              "      <td>1</td>\n",
              "      <td>1</td>\n",
              "      <td>100</td>\n",
              "      <td>0</td>\n",
              "      <td>79</td>\n",
              "      <td>4</td>\n",
              "      <td>0</td>\n",
              "    </tr>\n",
              "    <tr>\n",
              "      <th>...</th>\n",
              "      <td>...</td>\n",
              "      <td>...</td>\n",
              "      <td>...</td>\n",
              "      <td>...</td>\n",
              "      <td>...</td>\n",
              "      <td>...</td>\n",
              "      <td>...</td>\n",
              "      <td>...</td>\n",
              "      <td>...</td>\n",
              "      <td>...</td>\n",
              "      <td>...</td>\n",
              "      <td>...</td>\n",
              "      <td>...</td>\n",
              "      <td>...</td>\n",
              "      <td>...</td>\n",
              "      <td>...</td>\n",
              "      <td>...</td>\n",
              "      <td>...</td>\n",
              "    </tr>\n",
              "    <tr>\n",
              "      <th>312101</th>\n",
              "      <td>4</td>\n",
              "      <td>656.526536</td>\n",
              "      <td>140</td>\n",
              "      <td>140</td>\n",
              "      <td>465.332078</td>\n",
              "      <td>5</td>\n",
              "      <td>800</td>\n",
              "      <td>140.255</td>\n",
              "      <td>1.255</td>\n",
              "      <td>48</td>\n",
              "      <td>30</td>\n",
              "      <td>1</td>\n",
              "      <td>31</td>\n",
              "      <td>100</td>\n",
              "      <td>16</td>\n",
              "      <td>140</td>\n",
              "      <td>68</td>\n",
              "      <td>1</td>\n",
              "    </tr>\n",
              "    <tr>\n",
              "      <th>312102</th>\n",
              "      <td>4</td>\n",
              "      <td>657.209643</td>\n",
              "      <td>140</td>\n",
              "      <td>140</td>\n",
              "      <td>465.191806</td>\n",
              "      <td>5</td>\n",
              "      <td>800</td>\n",
              "      <td>140.255</td>\n",
              "      <td>1.255</td>\n",
              "      <td>48</td>\n",
              "      <td>30</td>\n",
              "      <td>1</td>\n",
              "      <td>33</td>\n",
              "      <td>100</td>\n",
              "      <td>16</td>\n",
              "      <td>140</td>\n",
              "      <td>72</td>\n",
              "      <td>1</td>\n",
              "    </tr>\n",
              "    <tr>\n",
              "      <th>312103</th>\n",
              "      <td>4</td>\n",
              "      <td>657.891729</td>\n",
              "      <td>140</td>\n",
              "      <td>140</td>\n",
              "      <td>465.051737</td>\n",
              "      <td>5</td>\n",
              "      <td>800</td>\n",
              "      <td>140.255</td>\n",
              "      <td>1.255</td>\n",
              "      <td>48</td>\n",
              "      <td>30</td>\n",
              "      <td>1</td>\n",
              "      <td>35</td>\n",
              "      <td>100</td>\n",
              "      <td>16</td>\n",
              "      <td>140</td>\n",
              "      <td>76</td>\n",
              "      <td>1</td>\n",
              "    </tr>\n",
              "    <tr>\n",
              "      <th>312104</th>\n",
              "      <td>4</td>\n",
              "      <td>658.574656</td>\n",
              "      <td>140</td>\n",
              "      <td>140</td>\n",
              "      <td>464.911501</td>\n",
              "      <td>5</td>\n",
              "      <td>800</td>\n",
              "      <td>140.255</td>\n",
              "      <td>1.255</td>\n",
              "      <td>48</td>\n",
              "      <td>30</td>\n",
              "      <td>1</td>\n",
              "      <td>37</td>\n",
              "      <td>100</td>\n",
              "      <td>16</td>\n",
              "      <td>140</td>\n",
              "      <td>80</td>\n",
              "      <td>1</td>\n",
              "    </tr>\n",
              "    <tr>\n",
              "      <th>312105</th>\n",
              "      <td>4</td>\n",
              "      <td>679.054956</td>\n",
              "      <td>140</td>\n",
              "      <td>140</td>\n",
              "      <td>460.705905</td>\n",
              "      <td>5</td>\n",
              "      <td>800</td>\n",
              "      <td>140.255</td>\n",
              "      <td>1.255</td>\n",
              "      <td>48</td>\n",
              "      <td>30</td>\n",
              "      <td>1</td>\n",
              "      <td>42</td>\n",
              "      <td>100</td>\n",
              "      <td>16</td>\n",
              "      <td>140</td>\n",
              "      <td>90</td>\n",
              "      <td>1</td>\n",
              "    </tr>\n",
              "  </tbody>\n",
              "</table>\n",
              "<p>312106 rows × 18 columns</p>\n",
              "</div>\n",
              "    <div class=\"colab-df-buttons\">\n",
              "\n",
              "  <div class=\"colab-df-container\">\n",
              "    <button class=\"colab-df-convert\" onclick=\"convertToInteractive('df-2cae6c51-cf82-4349-bd77-5bfda8476737')\"\n",
              "            title=\"Convert this dataframe to an interactive table.\"\n",
              "            style=\"display:none;\">\n",
              "\n",
              "  <svg xmlns=\"http://www.w3.org/2000/svg\" height=\"24px\" viewBox=\"0 -960 960 960\">\n",
              "    <path d=\"M120-120v-720h720v720H120Zm60-500h600v-160H180v160Zm220 220h160v-160H400v160Zm0 220h160v-160H400v160ZM180-400h160v-160H180v160Zm440 0h160v-160H620v160ZM180-180h160v-160H180v160Zm440 0h160v-160H620v160Z\"/>\n",
              "  </svg>\n",
              "    </button>\n",
              "\n",
              "  <style>\n",
              "    .colab-df-container {\n",
              "      display:flex;\n",
              "      gap: 12px;\n",
              "    }\n",
              "\n",
              "    .colab-df-convert {\n",
              "      background-color: #E8F0FE;\n",
              "      border: none;\n",
              "      border-radius: 50%;\n",
              "      cursor: pointer;\n",
              "      display: none;\n",
              "      fill: #1967D2;\n",
              "      height: 32px;\n",
              "      padding: 0 0 0 0;\n",
              "      width: 32px;\n",
              "    }\n",
              "\n",
              "    .colab-df-convert:hover {\n",
              "      background-color: #E2EBFA;\n",
              "      box-shadow: 0px 1px 2px rgba(60, 64, 67, 0.3), 0px 1px 3px 1px rgba(60, 64, 67, 0.15);\n",
              "      fill: #174EA6;\n",
              "    }\n",
              "\n",
              "    .colab-df-buttons div {\n",
              "      margin-bottom: 4px;\n",
              "    }\n",
              "\n",
              "    [theme=dark] .colab-df-convert {\n",
              "      background-color: #3B4455;\n",
              "      fill: #D2E3FC;\n",
              "    }\n",
              "\n",
              "    [theme=dark] .colab-df-convert:hover {\n",
              "      background-color: #434B5C;\n",
              "      box-shadow: 0px 1px 3px 1px rgba(0, 0, 0, 0.15);\n",
              "      filter: drop-shadow(0px 1px 2px rgba(0, 0, 0, 0.3));\n",
              "      fill: #FFFFFF;\n",
              "    }\n",
              "  </style>\n",
              "\n",
              "    <script>\n",
              "      const buttonEl =\n",
              "        document.querySelector('#df-2cae6c51-cf82-4349-bd77-5bfda8476737 button.colab-df-convert');\n",
              "      buttonEl.style.display =\n",
              "        google.colab.kernel.accessAllowed ? 'block' : 'none';\n",
              "\n",
              "      async function convertToInteractive(key) {\n",
              "        const element = document.querySelector('#df-2cae6c51-cf82-4349-bd77-5bfda8476737');\n",
              "        const dataTable =\n",
              "          await google.colab.kernel.invokeFunction('convertToInteractive',\n",
              "                                                    [key], {});\n",
              "        if (!dataTable) return;\n",
              "\n",
              "        const docLinkHtml = 'Like what you see? Visit the ' +\n",
              "          '<a target=\"_blank\" href=https://colab.research.google.com/notebooks/data_table.ipynb>data table notebook</a>'\n",
              "          + ' to learn more about interactive tables.';\n",
              "        element.innerHTML = '';\n",
              "        dataTable['output_type'] = 'display_data';\n",
              "        await google.colab.output.renderOutput(dataTable, element);\n",
              "        const docLink = document.createElement('div');\n",
              "        docLink.innerHTML = docLinkHtml;\n",
              "        element.appendChild(docLink);\n",
              "      }\n",
              "    </script>\n",
              "  </div>\n",
              "\n",
              "\n",
              "<div id=\"df-6a073f63-6159-4425-8472-9463a8f175e9\">\n",
              "  <button class=\"colab-df-quickchart\" onclick=\"quickchart('df-6a073f63-6159-4425-8472-9463a8f175e9')\"\n",
              "            title=\"Suggest charts\"\n",
              "            style=\"display:none;\">\n",
              "\n",
              "<svg xmlns=\"http://www.w3.org/2000/svg\" height=\"24px\"viewBox=\"0 0 24 24\"\n",
              "     width=\"24px\">\n",
              "    <g>\n",
              "        <path d=\"M19 3H5c-1.1 0-2 .9-2 2v14c0 1.1.9 2 2 2h14c1.1 0 2-.9 2-2V5c0-1.1-.9-2-2-2zM9 17H7v-7h2v7zm4 0h-2V7h2v10zm4 0h-2v-4h2v4z\"/>\n",
              "    </g>\n",
              "</svg>\n",
              "  </button>\n",
              "\n",
              "<style>\n",
              "  .colab-df-quickchart {\n",
              "      --bg-color: #E8F0FE;\n",
              "      --fill-color: #1967D2;\n",
              "      --hover-bg-color: #E2EBFA;\n",
              "      --hover-fill-color: #174EA6;\n",
              "      --disabled-fill-color: #AAA;\n",
              "      --disabled-bg-color: #DDD;\n",
              "  }\n",
              "\n",
              "  [theme=dark] .colab-df-quickchart {\n",
              "      --bg-color: #3B4455;\n",
              "      --fill-color: #D2E3FC;\n",
              "      --hover-bg-color: #434B5C;\n",
              "      --hover-fill-color: #FFFFFF;\n",
              "      --disabled-bg-color: #3B4455;\n",
              "      --disabled-fill-color: #666;\n",
              "  }\n",
              "\n",
              "  .colab-df-quickchart {\n",
              "    background-color: var(--bg-color);\n",
              "    border: none;\n",
              "    border-radius: 50%;\n",
              "    cursor: pointer;\n",
              "    display: none;\n",
              "    fill: var(--fill-color);\n",
              "    height: 32px;\n",
              "    padding: 0;\n",
              "    width: 32px;\n",
              "  }\n",
              "\n",
              "  .colab-df-quickchart:hover {\n",
              "    background-color: var(--hover-bg-color);\n",
              "    box-shadow: 0 1px 2px rgba(60, 64, 67, 0.3), 0 1px 3px 1px rgba(60, 64, 67, 0.15);\n",
              "    fill: var(--button-hover-fill-color);\n",
              "  }\n",
              "\n",
              "  .colab-df-quickchart-complete:disabled,\n",
              "  .colab-df-quickchart-complete:disabled:hover {\n",
              "    background-color: var(--disabled-bg-color);\n",
              "    fill: var(--disabled-fill-color);\n",
              "    box-shadow: none;\n",
              "  }\n",
              "\n",
              "  .colab-df-spinner {\n",
              "    border: 2px solid var(--fill-color);\n",
              "    border-color: transparent;\n",
              "    border-bottom-color: var(--fill-color);\n",
              "    animation:\n",
              "      spin 1s steps(1) infinite;\n",
              "  }\n",
              "\n",
              "  @keyframes spin {\n",
              "    0% {\n",
              "      border-color: transparent;\n",
              "      border-bottom-color: var(--fill-color);\n",
              "      border-left-color: var(--fill-color);\n",
              "    }\n",
              "    20% {\n",
              "      border-color: transparent;\n",
              "      border-left-color: var(--fill-color);\n",
              "      border-top-color: var(--fill-color);\n",
              "    }\n",
              "    30% {\n",
              "      border-color: transparent;\n",
              "      border-left-color: var(--fill-color);\n",
              "      border-top-color: var(--fill-color);\n",
              "      border-right-color: var(--fill-color);\n",
              "    }\n",
              "    40% {\n",
              "      border-color: transparent;\n",
              "      border-right-color: var(--fill-color);\n",
              "      border-top-color: var(--fill-color);\n",
              "    }\n",
              "    60% {\n",
              "      border-color: transparent;\n",
              "      border-right-color: var(--fill-color);\n",
              "    }\n",
              "    80% {\n",
              "      border-color: transparent;\n",
              "      border-right-color: var(--fill-color);\n",
              "      border-bottom-color: var(--fill-color);\n",
              "    }\n",
              "    90% {\n",
              "      border-color: transparent;\n",
              "      border-bottom-color: var(--fill-color);\n",
              "    }\n",
              "  }\n",
              "</style>\n",
              "\n",
              "  <script>\n",
              "    async function quickchart(key) {\n",
              "      const quickchartButtonEl =\n",
              "        document.querySelector('#' + key + ' button');\n",
              "      quickchartButtonEl.disabled = true;  // To prevent multiple clicks.\n",
              "      quickchartButtonEl.classList.add('colab-df-spinner');\n",
              "      try {\n",
              "        const charts = await google.colab.kernel.invokeFunction(\n",
              "            'suggestCharts', [key], {});\n",
              "      } catch (error) {\n",
              "        console.error('Error during call to suggestCharts:', error);\n",
              "      }\n",
              "      quickchartButtonEl.classList.remove('colab-df-spinner');\n",
              "      quickchartButtonEl.classList.add('colab-df-quickchart-complete');\n",
              "    }\n",
              "    (() => {\n",
              "      let quickchartButtonEl =\n",
              "        document.querySelector('#df-6a073f63-6159-4425-8472-9463a8f175e9 button');\n",
              "      quickchartButtonEl.style.display =\n",
              "        google.colab.kernel.accessAllowed ? 'block' : 'none';\n",
              "    })();\n",
              "  </script>\n",
              "</div>\n",
              "\n",
              "  <div id=\"id_11b04500-8c3d-4db8-9c23-7f7468ae974a\">\n",
              "    <style>\n",
              "      .colab-df-generate {\n",
              "        background-color: #E8F0FE;\n",
              "        border: none;\n",
              "        border-radius: 50%;\n",
              "        cursor: pointer;\n",
              "        display: none;\n",
              "        fill: #1967D2;\n",
              "        height: 32px;\n",
              "        padding: 0 0 0 0;\n",
              "        width: 32px;\n",
              "      }\n",
              "\n",
              "      .colab-df-generate:hover {\n",
              "        background-color: #E2EBFA;\n",
              "        box-shadow: 0px 1px 2px rgba(60, 64, 67, 0.3), 0px 1px 3px 1px rgba(60, 64, 67, 0.15);\n",
              "        fill: #174EA6;\n",
              "      }\n",
              "\n",
              "      [theme=dark] .colab-df-generate {\n",
              "        background-color: #3B4455;\n",
              "        fill: #D2E3FC;\n",
              "      }\n",
              "\n",
              "      [theme=dark] .colab-df-generate:hover {\n",
              "        background-color: #434B5C;\n",
              "        box-shadow: 0px 1px 3px 1px rgba(0, 0, 0, 0.15);\n",
              "        filter: drop-shadow(0px 1px 2px rgba(0, 0, 0, 0.3));\n",
              "        fill: #FFFFFF;\n",
              "      }\n",
              "    </style>\n",
              "    <button class=\"colab-df-generate\" onclick=\"generateWithVariable('dataset')\"\n",
              "            title=\"Generate code using this dataframe.\"\n",
              "            style=\"display:none;\">\n",
              "\n",
              "  <svg xmlns=\"http://www.w3.org/2000/svg\" height=\"24px\"viewBox=\"0 0 24 24\"\n",
              "       width=\"24px\">\n",
              "    <path d=\"M7,19H8.4L18.45,9,17,7.55,7,17.6ZM5,21V16.75L18.45,3.32a2,2,0,0,1,2.83,0l1.4,1.43a1.91,1.91,0,0,1,.58,1.4,1.91,1.91,0,0,1-.58,1.4L9.25,21ZM18.45,9,17,7.55Zm-12,3A5.31,5.31,0,0,0,4.9,8.1,5.31,5.31,0,0,0,1,6.5,5.31,5.31,0,0,0,4.9,4.9,5.31,5.31,0,0,0,6.5,1,5.31,5.31,0,0,0,8.1,4.9,5.31,5.31,0,0,0,12,6.5,5.46,5.46,0,0,0,6.5,12Z\"/>\n",
              "  </svg>\n",
              "    </button>\n",
              "    <script>\n",
              "      (() => {\n",
              "      const buttonEl =\n",
              "        document.querySelector('#id_11b04500-8c3d-4db8-9c23-7f7468ae974a button.colab-df-generate');\n",
              "      buttonEl.style.display =\n",
              "        google.colab.kernel.accessAllowed ? 'block' : 'none';\n",
              "\n",
              "      buttonEl.onclick = () => {\n",
              "        google.colab.notebook.generateWithVariable('dataset');\n",
              "      }\n",
              "      })();\n",
              "    </script>\n",
              "  </div>\n",
              "\n",
              "    </div>\n",
              "  </div>\n"
            ],
            "application/vnd.google.colaboratory.intrinsic+json": {
              "type": "dataframe",
              "variable_name": "dataset"
            }
          },
          "metadata": {},
          "execution_count": 5
        }
      ]
    },
    {
      "cell_type": "code",
      "source": [
        "# Encode non-numeric columns (if any)\n",
        "for column in dataset.columns:\n",
        "    if dataset[column].dtype == 'object':  # Identify categorical columns\n",
        "        dataset[column] = LabelEncoder().fit_transform(dataset[column])\n",
        "\n",
        "# Separate features (X) and target (y)\n",
        "X = dataset.drop(['Class'], axis=1)  # Assuming 'Class' is the target column\n",
        "y = dataset['Class']\n",
        "\n",
        "print(\"Original Class Distribution:\", np.bincount(y))"
      ],
      "metadata": {
        "colab": {
          "base_uri": "https://localhost:8080/"
        },
        "id": "vnk-zFlIj2tO",
        "outputId": "a25bd133-25d4-4a72-9d21-0925562c1fdb"
      },
      "execution_count": null,
      "outputs": [
        {
          "output_type": "stream",
          "name": "stdout",
          "text": [
            "Original Class Distribution: [262851  11766   7645  29844]\n"
          ]
        }
      ]
    },
    {
      "cell_type": "code",
      "source": [
        "from sklearn.preprocessing import LabelEncoder, StandardScaler # Import StandardScaler here\n",
        "# Standardize the features\n",
        "scaler = StandardScaler()\n",
        "X = scaler.fit_transform(X)"
      ],
      "metadata": {
        "id": "OEkYy66kj2qz"
      },
      "execution_count": null,
      "outputs": []
    },
    {
      "cell_type": "code",
      "execution_count": null,
      "metadata": {
        "colab": {
          "base_uri": "https://localhost:8080/"
        },
        "id": "6CB-7wLVjsDC",
        "outputId": "b807f5e1-a2fd-45e4-d6ba-fc43bb34c3be"
      },
      "outputs": [
        {
          "output_type": "stream",
          "name": "stdout",
          "text": [
            "Balanced Class Distribution: [262851 262851 262851 262851]\n"
          ]
        }
      ],
      "source": [
        "from imblearn.over_sampling import SMOTE\n",
        "\n",
        "# Apply SMOTE to balance the data\n",
        "smote = SMOTE(random_state=42)\n",
        "X, y = smote.fit_resample(X, y)\n",
        "\n",
        "# Verify the balanced dataset distribution\n",
        "print(\"Balanced Class Distribution:\", np.bincount(y))"
      ]
    },
    {
      "cell_type": "code",
      "source": [
        "# Train-test split\n",
        "X_train, X_test, y_train, y_test = train_test_split(X, y, test_size=0.2, random_state=101, stratify=y)"
      ],
      "metadata": {
        "id": "zY1hSum6kC7F"
      },
      "execution_count": null,
      "outputs": []
    },
    {
      "cell_type": "code",
      "source": [
        "# Preserve original labels for non-DL models\n",
        "y_train_orig, y_test_orig = y_train.copy(), y_test.copy()\n",
        "\n",
        "# Reshape data for DL models\n",
        "X_train_reshaped = X_train.reshape((X_train.shape[0], 1, X_train.shape[1]))\n",
        "X_test_reshaped = X_test.reshape((X_test.shape[0], 1, X_test.shape[1]))\n",
        "\n",
        "# Convert labels to one-hot encoding for DL models\n",
        "y_train_enc = to_categorical(y_train, num_classes=4)\n",
        "y_test_enc = to_categorical(y_test, num_classes=4)\n",
        "\n",
        "# Initialize metrics storage\n",
        "metrics = []\n",
        "\n",
        "def evaluate_model(model, X_test, y_test, model_name):\n",
        "    \"\"\"Helper function to evaluate models and store metrics\"\"\"\n",
        "    if model_name in ['Random Forest', 'SVM']: # Changed to 'Random Forest' instead of 'RF'\n",
        "        y_pred = model.predict(X_test)\n",
        "        y_proba = model.predict_proba(X_test)\n",
        "    else:\n",
        "        y_pred = np.argmax(model.predict(X_test), axis=1)\n",
        "        y_proba = model.predict(X_test)\n",
        "\n",
        "    return {\n",
        "        'Model': model_name,\n",
        "        'Accuracy': accuracy_score(y_test, y_pred),\n",
        "        'Precision': precision_score(y_test, y_pred, average='weighted'),\n",
        "        'Recall': recall_score(y_test, y_pred, average='weighted'),\n",
        "        'F1-Score': f1_score(y_test, y_pred, average='weighted'),\n",
        "        'AUC-ROC': roc_auc_score(y_test_enc, y_proba, multi_class='ovr'), # y_test_enc should be used here\n",
        "        'FPR': confusion_matrix(y_test, y_pred)[0,1:].sum() / confusion_matrix(y_test, y_pred)[0].sum()\n",
        "    }"
      ],
      "metadata": {
        "id": "c3AjfrIrI92_"
      },
      "execution_count": null,
      "outputs": []
    },
    {
      "cell_type": "code",
      "source": [
        "# 1. Train Random Forest\n",
        "rf_model = RandomForestClassifier(n_estimators=100)\n",
        "rf_model.fit(X_train, y_train_orig)\n",
        "metrics.append(evaluate_model(rf_model, X_test, y_test_orig, 'Random Forest'))"
      ],
      "metadata": {
        "id": "beVUx33rK-XB"
      },
      "execution_count": null,
      "outputs": []
    },
    {
      "cell_type": "code",
      "source": [
        "# prompt: Display the value of an accuracy, precision, recall, F1-Score, AUC-ROC, and FPR of the rf_model\n",
        "\n",
        "# Assuming you have already trained and evaluated your rf_model\n",
        "# and the metrics are stored in a list called 'metrics'\n",
        "for metric in metrics:\n",
        "  if metric['Model'] == 'Random Forest':\n",
        "    print(f\"Accuracy: {metric['Accuracy']}\")\n",
        "    print(f\"Precision: {metric['Precision']}\")\n",
        "    print(f\"Recall: {metric['Recall']}\")\n",
        "    print(f\"F1-Score: {metric['F1-Score']}\")\n",
        "    print(f\"AUC-ROC: {metric['AUC-ROC']}\")\n",
        "    print(f\"FPR: {metric['FPR']}\")\n",
        "    break # Exit the loop once you've found the Random Forest metrics"
      ],
      "metadata": {
        "colab": {
          "base_uri": "https://localhost:8080/"
        },
        "id": "pn4GW05TChrQ",
        "outputId": "878999f8-58dd-4f94-c437-659c0dbfed44"
      },
      "execution_count": null,
      "outputs": [
        {
          "output_type": "stream",
          "name": "stdout",
          "text": [
            "Accuracy: 0.99926764662523\n",
            "Precision: 0.9992676479892398\n",
            "Recall: 0.99926764662523\n",
            "F1-Score: 0.9992675792691812\n",
            "AUC-ROC: 0.9999917776025364\n",
            "FPR: 0.0002472893285143618\n"
          ]
        }
      ]
    },
    {
      "cell_type": "code",
      "source": [
        "def evaluate_model(model, X_test, y_test, model_name):\n",
        "    \"\"\"Helper function to evaluate models and store metrics\"\"\"\n",
        "    if model_name in ['Random Forest', 'SVM (Optimized)']: # Changed to 'Random Forest' instead of 'RF'\n",
        "        y_pred = model.predict(X_test)\n",
        "        y_proba = model.predict_proba(X_test) # Get probability estimates for AUC-ROC\n",
        "    else:\n",
        "        y_pred = np.argmax(model.predict(X_test), axis=1)\n",
        "        y_proba = model.predict(X_test)\n",
        "\n",
        "    return {\n",
        "        'Model': model_name,\n",
        "        'Accuracy': accuracy_score(y_test, y_pred),\n",
        "        'Precision': precision_score(y_test, y_pred, average='weighted'),\n",
        "        'Recall': recall_score(y_test, y_pred, average='weighted'),\n",
        "        'F1-Score': f1_score(y_test, y_pred, average='weighted'),\n",
        "        'AUC-ROC': roc_auc_score(y_test_enc, y_proba, multi_class='ovr'), # y_test_enc should be used here\n",
        "        'FPR': confusion_matrix(y_test, y_pred)[0,1:].sum() / confusion_matrix(y_test, y_pred)[0].sum()\n",
        "    }"
      ],
      "metadata": {
        "id": "CqQJx9CbEtFO"
      },
      "execution_count": null,
      "outputs": []
    },
    {
      "cell_type": "code",
      "source": [
        "# 2. Train SVM (Optimized)\n",
        "from sklearn.svm import LinearSVC  # Faster than SVC for linear kernels\n",
        "from sklearn.calibration import CalibratedClassifierCV  # For probability estimates\n",
        "\n",
        "# Optimized SVM configuration\n",
        "svm_model = LinearSVC(\n",
        "    dual=False,  # Faster when n_samples > n_features\n",
        "    tol=0.01,    # Increased tolerance for faster convergence\n",
        "    C=0.1,       # Smaller regularization parameter\n",
        "    max_iter=500,# Limit iterations (prevents long runs)\n",
        "    random_state=42\n",
        ")\n",
        "\n",
        "# Train on subset of data (stratified sample)\n",
        "_, X_train_sub, _, y_train_sub = train_test_split(\n",
        "    X_train, y_train_orig,\n",
        "    train_size=0.3,  # Use 30% of training data\n",
        "    stratify=y_train_orig,\n",
        "    random_state=42\n",
        ")\n",
        "\n",
        "# Train model\n",
        "svm_model.fit(X_train_sub, y_train_sub)\n",
        "\n",
        "# Calibrate for probability estimates\n",
        "calibrated_svm = CalibratedClassifierCV(svm_model, method='sigmoid')\n",
        "calibrated_svm.fit(X_train_sub, y_train_sub)\n",
        "\n",
        "metrics.append(evaluate_model(calibrated_svm, X_test, y_test_orig, 'SVM (Optimized)'))"
      ],
      "metadata": {
        "id": "EhdpyFVfCYxz"
      },
      "execution_count": null,
      "outputs": []
    },
    {
      "cell_type": "code",
      "source": [
        "# prompt: Display the value of an accuracy, precision, recall, F1-Score, AUC-ROC, and FPR of the SVM (Optimized)\n",
        "\n",
        "# Assuming you have already trained and evaluated your svm_model\n",
        "# and the metrics are stored in a list called 'metrics'\n",
        "for metric in metrics:\n",
        "  if metric['Model'] == 'SVM (Optimized)':\n",
        "    print(f\"Accuracy: {metric['Accuracy']}\")\n",
        "    print(f\"Precision: {metric['Precision']}\")\n",
        "    print(f\"Recall: {metric['Recall']}\")\n",
        "    print(f\"F1-Score: {metric['F1-Score']}\")\n",
        "    print(f\"AUC-ROC: {metric['AUC-ROC']}\")\n",
        "    print(f\"FPR: {metric['FPR']}\")\n",
        "    break # Exit the loop once you've found the SVM (Optimized) metrics"
      ],
      "metadata": {
        "colab": {
          "base_uri": "https://localhost:8080/"
        },
        "id": "oegIZNFGDf-U",
        "outputId": "6bd686b8-cb1b-4498-f716-f6d74a7a3a34"
      },
      "execution_count": null,
      "outputs": [
        {
          "output_type": "stream",
          "name": "stdout",
          "text": [
            "Accuracy: 0.796890827036204\n",
            "Precision: 0.7950356561251779\n",
            "Recall: 0.796890827036204\n",
            "F1-Score: 0.7889695251273364\n",
            "AUC-ROC: 0.9291669970147554\n",
            "FPR: 0.4404793608521971\n"
          ]
        }
      ]
    },
    {
      "cell_type": "code",
      "source": [
        "# 3. Train Standalone LSTM\n",
        "lstm_model = Sequential([\n",
        "    LSTM(64, input_shape=(X_train_reshaped.shape[1], X_train_reshaped.shape[2])),\n",
        "    Dropout(0.2),\n",
        "    Dense(4, activation='softmax')])\n",
        "\n",
        "lstm_model.compile(loss='categorical_crossentropy', optimizer='adam', metrics=['accuracy'])\n",
        "lstm_model.fit(X_train_reshaped, y_train_enc, epochs=30, batch_size=64, validation_split=0.2, verbose=0)\n",
        "metrics.append(evaluate_model(lstm_model, X_test_reshaped, y_test_orig, 'LSTM'))"
      ],
      "metadata": {
        "colab": {
          "base_uri": "https://localhost:8080/"
        },
        "id": "5XC5B7leLCD7",
        "outputId": "41980d56-434b-4279-a44a-8da07d1864b1"
      },
      "execution_count": null,
      "outputs": [
        {
          "output_type": "stream",
          "name": "stderr",
          "text": [
            "/usr/local/lib/python3.11/dist-packages/keras/src/layers/rnn/rnn.py:200: UserWarning: Do not pass an `input_shape`/`input_dim` argument to a layer. When using Sequential models, prefer using an `Input(shape)` object as the first layer in the model instead.\n",
            "  super().__init__(**kwargs)\n"
          ]
        },
        {
          "output_type": "stream",
          "name": "stdout",
          "text": [
            "\u001b[1m6572/6572\u001b[0m \u001b[32m━━━━━━━━━━━━━━━━━━━━\u001b[0m\u001b[37m\u001b[0m \u001b[1m5s\u001b[0m 818us/step\n",
            "\u001b[1m6572/6572\u001b[0m \u001b[32m━━━━━━━━━━━━━━━━━━━━\u001b[0m\u001b[37m\u001b[0m \u001b[1m5s\u001b[0m 784us/step\n"
          ]
        }
      ]
    },
    {
      "cell_type": "code",
      "source": [
        "# prompt: Display the value of an accuracy, precision, recall, F1-Score, AUC-ROC, and FPR of the LSTM\n",
        "\n",
        "# Assuming you have already trained and evaluated your lstm_model\n",
        "# and the metrics are stored in a list called 'metrics'\n",
        "for metric in metrics:\n",
        "  if metric['Model'] == 'LSTM':\n",
        "    print(f\"Accuracy: {metric['Accuracy']}\")\n",
        "    print(f\"Precision: {metric['Precision']}\")\n",
        "    print(f\"Recall: {metric['Recall']}\")\n",
        "    print(f\"F1-Score: {metric['F1-Score']}\")\n",
        "    print(f\"AUC-ROC: {metric['AUC-ROC']}\")\n",
        "    print(f\"FPR: {metric['FPR']}\")\n",
        "    break # Exit the loop once you've found the LSTM metrics"
      ],
      "metadata": {
        "colab": {
          "base_uri": "https://localhost:8080/"
        },
        "id": "9IlU907MKzVK",
        "outputId": "02196c65-f32c-440a-a32a-d3045f857af9"
      },
      "execution_count": null,
      "outputs": [
        {
          "output_type": "stream",
          "name": "stdout",
          "text": [
            "Accuracy: 0.9388437376653145\n",
            "Precision: 0.9420804906409167\n",
            "Recall: 0.9388437376653145\n",
            "F1-Score: 0.9384200585827104\n",
            "AUC-ROC: 0.9913725975873144\n",
            "FPR: 0.15628685562107666\n"
          ]
        }
      ]
    },
    {
      "cell_type": "code",
      "source": [
        "# 4. Train CNN\n",
        "cnn_model = Sequential([\n",
        "    Conv1D(64, kernel_size=1, activation='relu', input_shape=(X_train_reshaped.shape[1], X_train_reshaped.shape[2])),\n",
        "    MaxPooling1D(pool_size=1),\n",
        "    Flatten(),\n",
        "    Dense(64, activation='relu'),\n",
        "    Dense(4, activation='softmax')])\n",
        "\n",
        "cnn_model.compile(loss='categorical_crossentropy', optimizer='adam', metrics=['accuracy'])\n",
        "cnn_model.fit(X_train_reshaped, y_train_enc, epochs=30, batch_size=64, validation_split=0.2, verbose=0)\n",
        "metrics.append(evaluate_model(cnn_model, X_test_reshaped, y_test_orig, 'CNN'))"
      ],
      "metadata": {
        "colab": {
          "base_uri": "https://localhost:8080/"
        },
        "id": "zxl1kIX6LEFv",
        "outputId": "ed4be79e-35c0-4bf8-fb00-820d4a9c94e8"
      },
      "execution_count": null,
      "outputs": [
        {
          "output_type": "stream",
          "name": "stderr",
          "text": [
            "/usr/local/lib/python3.11/dist-packages/keras/src/layers/convolutional/base_conv.py:107: UserWarning: Do not pass an `input_shape`/`input_dim` argument to a layer. When using Sequential models, prefer using an `Input(shape)` object as the first layer in the model instead.\n",
            "  super().__init__(activity_regularizer=activity_regularizer, **kwargs)\n"
          ]
        },
        {
          "output_type": "stream",
          "name": "stdout",
          "text": [
            "\u001b[1m6572/6572\u001b[0m \u001b[32m━━━━━━━━━━━━━━━━━━━━\u001b[0m\u001b[37m\u001b[0m \u001b[1m4s\u001b[0m 601us/step\n",
            "\u001b[1m6572/6572\u001b[0m \u001b[32m━━━━━━━━━━━━━━━━━━━━\u001b[0m\u001b[37m\u001b[0m \u001b[1m4s\u001b[0m 600us/step\n"
          ]
        }
      ]
    },
    {
      "cell_type": "code",
      "source": [
        "# prompt: Display the value of an accuracy, precision, recall, F1-Score, AUC-ROC, and FPR of the CNN\n",
        "\n",
        "# Assuming you have already trained and evaluated your cnn_model\n",
        "# and the metrics are stored in a list called 'metrics'\n",
        "for metric in metrics:\n",
        "  if metric['Model'] == 'CNN':\n",
        "    print(f\"Accuracy: {metric['Accuracy']}\")\n",
        "    print(f\"Precision: {metric['Precision']}\")\n",
        "    print(f\"Recall: {metric['Recall']}\")\n",
        "    print(f\"F1-Score: {metric['F1-Score']}\")\n",
        "    print(f\"AUC-ROC: {metric['AUC-ROC']}\")\n",
        "    print(f\"FPR: {metric['FPR']}\")\n",
        "    break # Exit the loop once you've found the CNN metrics"
      ],
      "metadata": {
        "colab": {
          "base_uri": "https://localhost:8080/"
        },
        "id": "zeg7JX2SNXAg",
        "outputId": "a82fcc1e-6256-46dd-d869-5d3c936149e1"
      },
      "execution_count": null,
      "outputs": [
        {
          "output_type": "stream",
          "name": "stdout",
          "text": [
            "Accuracy: 0.9799934373528755\n",
            "Precision: 0.9800701354226709\n",
            "Recall: 0.9799934373528755\n",
            "F1-Score: 0.979991468200224\n",
            "AUC-ROC: 0.9987800931419254\n",
            "FPR: 0.029046984972417728\n"
          ]
        }
      ]
    },
    {
      "cell_type": "code",
      "source": [
        "# 5. Train GRU\n",
        "gru_model = Sequential([\n",
        "    GRU(64, input_shape=(X_train_reshaped.shape[1], X_train_reshaped.shape[2])),\n",
        "    Dropout(0.2),\n",
        "    Dense(4, activation='softmax')])\n",
        "gru_model.compile(loss='categorical_crossentropy', optimizer='adam', metrics=['accuracy'])\n",
        "gru_model.fit(X_train_reshaped, y_train_enc, epochs=30, batch_size=64, validation_split=0.2, verbose=0)\n",
        "metrics.append(evaluate_model(gru_model, X_test_reshaped, y_test_orig, 'GRU'))"
      ],
      "metadata": {
        "colab": {
          "base_uri": "https://localhost:8080/"
        },
        "id": "JPytW5vwLFOB",
        "outputId": "52253b96-f6b4-4fa4-97cc-1b83c55322d1"
      },
      "execution_count": null,
      "outputs": [
        {
          "output_type": "stream",
          "name": "stderr",
          "text": [
            "/usr/local/lib/python3.11/dist-packages/keras/src/layers/rnn/rnn.py:200: UserWarning: Do not pass an `input_shape`/`input_dim` argument to a layer. When using Sequential models, prefer using an `Input(shape)` object as the first layer in the model instead.\n",
            "  super().__init__(**kwargs)\n"
          ]
        },
        {
          "output_type": "stream",
          "name": "stdout",
          "text": [
            "\u001b[1m6572/6572\u001b[0m \u001b[32m━━━━━━━━━━━━━━━━━━━━\u001b[0m\u001b[37m\u001b[0m \u001b[1m6s\u001b[0m 840us/step\n",
            "\u001b[1m6572/6572\u001b[0m \u001b[32m━━━━━━━━━━━━━━━━━━━━\u001b[0m\u001b[37m\u001b[0m \u001b[1m6s\u001b[0m 847us/step\n"
          ]
        }
      ]
    },
    {
      "cell_type": "code",
      "source": [
        "# prompt: Display the value of an accuracy, precision, recall, F1-Score, AUC-ROC, and FPR of the GRU\n",
        "\n",
        "# Assuming you have already trained and evaluated your gru_model\n",
        "# and the metrics are stored in a list called 'metrics'\n",
        "for metric in metrics:\n",
        "  if metric['Model'] == 'GRU':\n",
        "    print(f\"Accuracy: {metric['Accuracy']}\")\n",
        "    print(f\"Precision: {metric['Precision']}\")\n",
        "    print(f\"Recall: {metric['Recall']}\")\n",
        "    print(f\"F1-Score: {metric['F1-Score']}\")\n",
        "    print(f\"AUC-ROC: {metric['AUC-ROC']}\")\n",
        "    print(f\"FPR: {metric['FPR']}\")\n",
        "    break # Exit the loop once you've found the GRU metrics"
      ],
      "metadata": {
        "colab": {
          "base_uri": "https://localhost:8080/"
        },
        "id": "YrbcQUSIQvs1",
        "outputId": "2cefa8f2-71e0-466f-8a6c-4e7afec58f8d"
      },
      "execution_count": null,
      "outputs": [
        {
          "output_type": "stream",
          "name": "stdout",
          "text": [
            "Accuracy: 0.9436420789324761\n",
            "Precision: 0.9468227560700211\n",
            "Recall: 0.9436420789324761\n",
            "F1-Score: 0.9433549657989736\n",
            "AUC-ROC: 0.9928577157022092\n",
            "FPR: 0.1455963477268404\n"
          ]
        }
      ]
    },
    {
      "cell_type": "code",
      "source": [
        "# Create comparison DataFrame\n",
        "results_df = pd.DataFrame(metrics).set_index('Model')\n",
        "\n",
        "# Visualization\n",
        "plt.figure(figsize=(15, 10))\n",
        "metrics_to_plot = ['Accuracy', 'Precision', 'Recall', 'F1-Score', 'AUC-ROC']\n",
        "for i, metric in enumerate(metrics_to_plot, 1):\n",
        "    plt.subplot(2, 3, i)\n",
        "    sns.barplot(x=results_df[metric], y=results_df.index)\n",
        "    plt.title(f'{metric} Comparison')\n",
        "    plt.xlabel(metric)\n",
        "plt.tight_layout()\n",
        "plt.show()\n",
        "\n",
        "# Print metrics table\n",
        "print(\"\\nPerformance Comparison:\")\n",
        "print(results_df.round(4))\n",
        "\n",
        "# Import roc_curve\n",
        "from sklearn.metrics import roc_curve # Import roc_curve here\n",
        "\n",
        "# ROC Curve Comparison\n",
        "plt.figure(figsize=(10, 8))\n",
        "for model in [rf_model, calibrated_svm, lstm_model, cnn_model, gru_model]: # Use calibrated_svm instead of svm_model\n",
        "    if hasattr(model, 'predict_proba'):\n",
        "        if isinstance(model, (Sequential)): # Check if the model is a Keras model\n",
        "            y_proba = model.predict(X_test_reshaped)  # Use X_test_reshaped for DL models\n",
        "        else:\n",
        "            y_proba = model.predict_proba(X_test)  # Use X_test for models with predict_proba\n",
        "    # The elif condition is no longer needed as calibrated_svm has predict_proba\n",
        "    #else:\n",
        "        #y_proba = model.predict(X_test_reshaped)  # Use X_test_reshaped for DL models\n",
        "\n",
        "\n",
        "    fpr, tpr, _ = roc_curve(y_test_enc.ravel(), y_proba.ravel())\n",
        "    plt.plot(fpr, tpr, label=type(model).__name__)\n",
        "\n",
        "plt.plot([0, 1], [0, 1], 'k--')\n",
        "plt.xlabel('False Positive Rate')\n",
        "plt.ylabel('True Positive Rate')\n",
        "plt.title('ROC Curve Comparison')\n",
        "plt.legend()\n",
        "plt.show()"
      ],
      "metadata": {
        "colab": {
          "base_uri": "https://localhost:8080/",
          "height": 1000
        },
        "id": "5CiB4ZiaJA35",
        "outputId": "0f367dba-ea6c-4dec-892d-d9292b0679a8"
      },
      "execution_count": null,
      "outputs": [
        {
          "output_type": "display_data",
          "data": {
            "text/plain": [
              "<Figure size 1500x1000 with 5 Axes>"
            ],
            "image/png": "[encoded data removed]"
          },
          "metadata": {}
        },
        {
          "output_type": "stream",
          "name": "stdout",
          "text": [
            "\n",
            "Performance Comparison:\n",
            "                 Accuracy  Precision  Recall  F1-Score  AUC-ROC     FPR\n",
            "Model                                                                  \n",
            "Random Forest      0.9993     0.9993  0.9993    0.9993   1.0000  0.0002\n",
            "SVM (Optimized)    0.7969     0.7950  0.7969    0.7890   0.9292  0.4405\n",
            "LSTM               0.9388     0.9421  0.9388    0.9384   0.9914  0.1563\n",
            "CNN                0.9800     0.9801  0.9800    0.9800   0.9988  0.0290\n",
            "GRU                0.9436     0.9468  0.9436    0.9434   0.9929  0.1456\n"
          ]
        },
        {
          "output_type": "display_data",
          "data": {
            "text/plain": [
              "<Figure size 1000x800 with 1 Axes>"
            ],
            "image/png": "[encoded data removed]"
          },
          "metadata": {}
        }
      ]
    }
  ]
}