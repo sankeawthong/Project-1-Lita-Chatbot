{
  "nbformat": 4,
  "nbformat_minor": 0,
  "metadata": {
    "colab": {
      "provenance": [],
      "authorship_tag": "ABX9TyMtDcuSNU9Ea6gHw5sqe9dZ",
      "include_colab_link": true
    },
    "kernelspec": {
      "name": "python3",
      "display_name": "Python 3"
    },
    "language_info": {
      "name": "python"
    }
  },
  "cells": [
    {
      "cell_type": "markdown",
      "metadata": {
        "id": "view-in-github",
        "colab_type": "text"
      },
      "source": [
        "<a href=\"https://colab.research.google.com/github/sankeawthong/Project-1-Lita-Chatbot/blob/main/Practice_6%20for%205%20class%20in%20DL%20(07052023).ipynb\" target=\"_parent\"><img src=\"https://colab.research.google.com/assets/colab-badge.svg\" alt=\"Open In Colab\"/></a>"
      ]
    },
    {
      "cell_type": "markdown",
      "source": [
        "### **Data Preprocessing**"
      ],
      "metadata": {
        "id": "1okelEqnJpE2"
      }
    },
    {
      "cell_type": "code",
      "source": [
        "# Import required libraries\n",
        "import pandas as pd\n",
        "import numpy as np\n",
        "import tensorflow as tf\n",
        "from tensorflow import keras\n",
        "from sklearn.preprocessing import StandardScaler\n",
        "from sklearn.model_selection import train_test_split\n",
        "from imblearn.over_sampling import SMOTE"
      ],
      "metadata": {
        "id": "LwzO0mTB3JfU"
      },
      "execution_count": 1,
      "outputs": []
    },
    {
      "cell_type": "code",
      "source": [
        "# Load dataset\n",
        "dataset = pd.read_csv(\"dataset_WSN-DS.csv\")"
      ],
      "metadata": {
        "id": "VytQIpNR3gfR"
      },
      "execution_count": 2,
      "outputs": []
    },
    {
      "cell_type": "code",
      "source": [
        "dataset.info()"
      ],
      "metadata": {
        "colab": {
          "base_uri": "https://localhost:8080/"
        },
        "id": "xFiQ8pFd39VR",
        "outputId": "7df54a8d-f521-49da-a6a0-d50b81e18f9d"
      },
      "execution_count": 3,
      "outputs": [
        {
          "output_type": "stream",
          "name": "stdout",
          "text": [
            "<class 'pandas.core.frame.DataFrame'>\n",
            "RangeIndex: 374661 entries, 0 to 374660\n",
            "Data columns (total 19 columns):\n",
            " #   Column            Non-Null Count   Dtype  \n",
            "---  ------            --------------   -----  \n",
            " 0    id               374661 non-null  int64  \n",
            " 1    Time             374661 non-null  int64  \n",
            " 2    Is_CH            374661 non-null  int64  \n",
            " 3    who CH           374661 non-null  int64  \n",
            " 4    Dist_To_CH       374661 non-null  float64\n",
            " 5    ADV_S            374661 non-null  int64  \n",
            " 6    ADV_R            374661 non-null  int64  \n",
            " 7    JOIN_S           374661 non-null  int64  \n",
            " 8    JOIN_R           374661 non-null  int64  \n",
            " 9    SCH_S            374661 non-null  int64  \n",
            " 10   SCH_R            374661 non-null  int64  \n",
            " 11  Rank              374661 non-null  int64  \n",
            " 12   DATA_S           374661 non-null  int64  \n",
            " 13   DATA_R           374661 non-null  int64  \n",
            " 14   Data_Sent_To_BS  374661 non-null  int64  \n",
            " 15   dist_CH_To_BS    374661 non-null  float64\n",
            " 16   send_code        374661 non-null  int64  \n",
            " 17  Expaned Energy    374661 non-null  float64\n",
            " 18  Class             374661 non-null  int64  \n",
            "dtypes: float64(3), int64(16)\n",
            "memory usage: 54.3 MB\n"
          ]
        }
      ]
    },
    {
      "cell_type": "code",
      "source": [
        "# Separate target variable from features\n",
        "y = dataset['Class'].values\n",
        "X = dataset.drop(['Class'], axis=1).values"
      ],
      "metadata": {
        "id": "ciFTl1si3hse"
      },
      "execution_count": 4,
      "outputs": []
    },
    {
      "cell_type": "markdown",
      "source": [
        "### **Data normalization**"
      ],
      "metadata": {
        "id": "vJbaHJdLJeLq"
      }
    },
    {
      "cell_type": "code",
      "source": [
        "# Data normalization\n",
        "scaler = StandardScaler()\n",
        "X = scaler.fit_transform(X)"
      ],
      "metadata": {
        "id": "S79pVJZP3joH"
      },
      "execution_count": 5,
      "outputs": []
    },
    {
      "cell_type": "markdown",
      "source": [
        "### **Data Balancing**"
      ],
      "metadata": {
        "id": "eITyZ2gVJkZA"
      }
    },
    {
      "cell_type": "code",
      "source": [
        "# Oversample minority classes using SMOTE\n",
        "oversample = SMOTE()\n",
        "X, y = oversample.fit_resample(X, y)"
      ],
      "metadata": {
        "id": "7-wHb5wV3kjZ"
      },
      "execution_count": 6,
      "outputs": []
    },
    {
      "cell_type": "markdown",
      "source": [
        "**Splitting Data (80:20 ratio)**"
      ],
      "metadata": {
        "id": "nxSrUU5ZJwXI"
      }
    },
    {
      "cell_type": "code",
      "source": [
        "# Split data into training and testing sets\n",
        "X_train, X_test, y_train, y_test = train_test_split(X, y, test_size=0.2, random_state=101)"
      ],
      "metadata": {
        "id": "iZC8Xbi-3omy"
      },
      "execution_count": 7,
      "outputs": []
    },
    {
      "cell_type": "markdown",
      "source": [
        "**Convolutional Neural Networks (CNN) for 5 class classifications**"
      ],
      "metadata": {
        "id": "8A-ofBcJJ4el"
      }
    },
    {
      "cell_type": "code",
      "source": [
        "# Reshape input data for CNN model\n",
        "X_train = X_train.reshape(X_train.shape[0], X_train.shape[1], 1)\n",
        "X_test = X_test.reshape(X_test.shape[0], X_test.shape[1], 1)"
      ],
      "metadata": {
        "id": "ZLOL1e2U3p3P"
      },
      "execution_count": 8,
      "outputs": []
    },
    {
      "cell_type": "code",
      "execution_count": null,
      "metadata": {
        "colab": {
          "base_uri": "https://localhost:8080/"
        },
        "id": "_Q7YsVw-3DHy",
        "outputId": "c5501048-407f-43b5-b9b1-8b7b46472aff"
      },
      "outputs": [
        {
          "output_type": "stream",
          "name": "stdout",
          "text": [
            "Epoch 1/15\n",
            "34007/34007 [==============================] - 109s 3ms/step - loss: 0.1562 - accuracy: 0.9303 - val_loss: 0.1139 - val_accuracy: 0.9529\n",
            "Epoch 2/15\n",
            "34007/34007 [==============================] - 107s 3ms/step - loss: 0.0973 - accuracy: 0.9601 - val_loss: 0.0876 - val_accuracy: 0.9673\n",
            "Epoch 3/15\n",
            "34007/34007 [==============================] - 113s 3ms/step - loss: 0.0758 - accuracy: 0.9700 - val_loss: 0.0844 - val_accuracy: 0.9717\n",
            "Epoch 4/15\n",
            "34007/34007 [==============================] - 114s 3ms/step - loss: 0.0659 - accuracy: 0.9753 - val_loss: 0.0695 - val_accuracy: 0.9728\n",
            "Epoch 5/15\n",
            "34007/34007 [==============================] - 113s 3ms/step - loss: 0.0582 - accuracy: 0.9788 - val_loss: 0.0491 - val_accuracy: 0.9820\n",
            "Epoch 6/15\n",
            "34007/34007 [==============================] - 108s 3ms/step - loss: 0.0534 - accuracy: 0.9805 - val_loss: 0.0459 - val_accuracy: 0.9835\n",
            "Epoch 7/15\n",
            "34007/34007 [==============================] - 106s 3ms/step - loss: 0.0496 - accuracy: 0.9818 - val_loss: 0.0434 - val_accuracy: 0.9836\n",
            "Epoch 8/15\n",
            "34007/34007 [==============================] - 105s 3ms/step - loss: 0.0485 - accuracy: 0.9821 - val_loss: 0.0418 - val_accuracy: 0.9841\n",
            "Epoch 9/15\n",
            "34007/34007 [==============================] - 96s 3ms/step - loss: 0.0461 - accuracy: 0.9831 - val_loss: 0.0483 - val_accuracy: 0.9844\n",
            "Epoch 10/15\n",
            "34007/34007 [==============================] - 104s 3ms/step - loss: 0.0443 - accuracy: 0.9839 - val_loss: 0.0493 - val_accuracy: 0.9814\n",
            "Epoch 11/15\n",
            "34007/34007 [==============================] - 106s 3ms/step - loss: 0.0426 - accuracy: 0.9844 - val_loss: 0.0394 - val_accuracy: 0.9850\n",
            "Epoch 12/15\n",
            "34007/34007 [==============================] - 112s 3ms/step - loss: 0.0420 - accuracy: 0.9847 - val_loss: 0.0421 - val_accuracy: 0.9846\n",
            "Epoch 13/15\n",
            "34007/34007 [==============================] - 100s 3ms/step - loss: 0.0407 - accuracy: 0.9852 - val_loss: 0.0510 - val_accuracy: 0.9817\n",
            "Epoch 14/15\n",
            "29441/34007 [========================>.....] - ETA: 12s - loss: 0.0398 - accuracy: 0.9856"
          ]
        }
      ],
      "source": [
        "# Define CNN model\n",
        "model = keras.Sequential([\n",
        "    keras.layers.Conv1D(filters=32, kernel_size=3, activation='relu', input_shape=(X_train.shape[1], 1)),\n",
        "    keras.layers.MaxPooling1D(pool_size=2),\n",
        "    keras.layers.Flatten(),\n",
        "    keras.layers.Dense(units=128, activation='relu'),\n",
        "    keras.layers.Dense(units=5, activation='softmax')\n",
        "])\n",
        "\n",
        "# Compile model\n",
        "model.compile(optimizer='adam', loss='sparse_categorical_crossentropy', metrics=['accuracy'])\n",
        "\n",
        "# Train model\n",
        "history = model.fit(X_train, y_train, epochs=15, validation_split=0.2)\n",
        "\n",
        "# Evaluate model on test data\n",
        "test_loss, test_acc = model.evaluate(X_test, y_test)\n",
        "print('Test accuracy:', test_acc)"
      ]
    },
    {
      "cell_type": "code",
      "source": [
        "from keras.models import Sequential\n",
        "from keras.layers import Dense\n",
        "from keras.utils import to_categorical\n",
        "import numpy as np\n",
        "import tensorflow as tf\n",
        "from tensorflow import keras\n",
        "from sklearn.datasets import make_classification\n",
        "from sklearn.model_selection import train_test_split\n",
        "from sklearn.metrics import accuracy_score, confusion_matrix, classification_report"
      ],
      "metadata": {
        "id": "Ueo43KMcIQPb"
      },
      "execution_count": 10,
      "outputs": []
    },
    {
      "cell_type": "code",
      "source": [
        "#Make predictions with the model\n",
        "predictions = model.predict(X_test)\n",
        "predicted_classes = np.argmax(predictions, axis=1)\n",
        "\n",
        "#Confusion matrix\n",
        "cm = confusion_matrix(y_test, predicted_classes)\n",
        "print(\"Confusion Matrix:\")\n",
        "print(cm)\n",
        "\n",
        "#Classification report\n",
        "cr = classification_report(y_test, predicted_classes)\n",
        "print(\"Classification Report:\")\n",
        "print(cr)"
      ],
      "metadata": {
        "id": "ngkQIV8nIBJ-",
        "outputId": "b71ca33c-72f5-4a60-91ec-f96a27aaca67",
        "colab": {
          "base_uri": "https://localhost:8080/"
        }
      },
      "execution_count": null,
      "outputs": [
        {
          "output_type": "stream",
          "name": "stdout",
          "text": [
            "10628/10628 [==============================] - 18s 2ms/step\n",
            "Confusion Matrix:\n",
            "[[67058    83     0   518    86]\n",
            " [   26 67096  1019     3     0]\n",
            " [    0   366 67916     0     0]\n",
            " [ 2359     6     0 65641     3]\n",
            " [   14     0     0     2 67870]]\n",
            "Classification Report:\n",
            "              precision    recall  f1-score   support\n",
            "\n",
            "           0       0.97      0.99      0.98     67745\n",
            "           1       0.99      0.98      0.99     68144\n",
            "           2       0.99      0.99      0.99     68282\n",
            "           3       0.99      0.97      0.98     68009\n",
            "           4       1.00      1.00      1.00     67886\n",
            "\n",
            "    accuracy                           0.99    340066\n",
            "   macro avg       0.99      0.99      0.99    340066\n",
            "weighted avg       0.99      0.99      0.99    340066\n",
            "\n"
          ]
        }
      ]
    },
    {
      "cell_type": "code",
      "source": [
        "import seaborn as sns\n",
        "import matplotlib.pyplot as plt\n",
        "import numpy as np\n",
        "import itertools\n",
        "import seaborn as sns\n",
        "from sklearn import metrics \n",
        "import matplotlib.pyplot as plt\n",
        "from sklearn.metrics import confusion_matrix\n",
        "def conf_mat(d1,d2):\n",
        "  cm = confusion_matrix(d1, d2)\n",
        "  plt.figure(figsize=(6,5.5))\n",
        "  ax = sns.heatmap(cm,  fmt='2', annot=True, cmap='YlGnBu')\n",
        "  sns.set(font_scale=1)\n",
        "  ax.set_xlabel('\\nPredicted Values')\n",
        "  ax.set_ylabel('Actual Values\\n');\n",
        "  ax.xaxis.set_ticklabels(['Normal','Blackhole','Grayhole','Flooding','TDMA'])\n",
        "  ax.yaxis.set_ticklabels(['Normal','Blackhole','Grayhole','Flooding','TDMA'])\n",
        "  plt.tight_layout()\n",
        "  # plt.savefig(\"F1.eps\", format = 'eps')\n",
        "  plt.show()"
      ],
      "metadata": {
        "id": "rIEAWIvDJKHX"
      },
      "execution_count": 11,
      "outputs": []
    },
    {
      "cell_type": "code",
      "source": [
        "print(\"Confusion Matrix of Convolutional Neural Networks (CNN)\") \n",
        "conf_mat(y_test, predicted_classes)"
      ],
      "metadata": {
        "id": "Wab9jFWpJNaR",
        "outputId": "f8f4210e-e3bf-4270-d91c-e09f05035d66",
        "colab": {
          "base_uri": "https://localhost:8080/",
          "height": 568
        }
      },
      "execution_count": null,
      "outputs": [
        {
          "output_type": "stream",
          "name": "stdout",
          "text": [
            "Confusion Matrix of Convolutional Neural Networks (CNN)\n"
          ]
        },
        {
          "output_type": "display_data",
          "data": {
            "text/plain": [
              "<Figure size 600x550 with 2 Axes>"
            ],
            "image/png": "[encoded data removed]"
          },
          "metadata": {}
        }
      ]
    },
    {
      "cell_type": "markdown",
      "source": [
        "### **Recurrent Neural Networks (RNN)**"
      ],
      "metadata": {
        "id": "3DSk4fwhLAI2"
      }
    },
    {
      "cell_type": "code",
      "source": [
        "#define the RNN model:\n",
        "model = tf.keras.Sequential([\n",
        "    tf.keras.layers.LSTM(64, return_sequences=True),\n",
        "    tf.keras.layers.Dropout(0.5),\n",
        "    tf.keras.layers.LSTM(32),\n",
        "    tf.keras.layers.Dropout(0.5),\n",
        "    tf.keras.layers.Dense(16, activation='relu'),\n",
        "    tf.keras.layers.Dense(5, activation='softmax')\n",
        "])\n",
        "\n",
        "#compile and fit the model:\n",
        "model.compile(optimizer='adam', loss='sparse_categorical_crossentropy', metrics=['accuracy'])\n",
        "model.fit(X_train, y_train, epochs=15, batch_size=64, validation_data=(X_test, y_test))\n",
        "\n",
        "\n",
        "# Train model\n",
        "history = model.fit(X_train, y_train, epochs=15, validation_split=0.2)\n",
        "\n",
        "# Evaluate model on test data\n",
        "test_loss, test_acc = model.evaluate(X_test, y_test)\n",
        "print('Test accuracy:', test_acc)\n",
        "\n",
        "#Make predictions with the model\n",
        "predictions = model.predict(X_test)\n",
        "predicted_classes = np.argmax(predictions, axis=1)"
      ],
      "metadata": {
        "id": "trc9gocfLGmh",
        "outputId": "7d148de4-7bb0-49fe-fb09-b9277063e1e1",
        "colab": {
          "base_uri": "https://localhost:8080/",
          "height": 1000
        }
      },
      "execution_count": 9,
      "outputs": [
        {
          "output_type": "stream",
          "name": "stdout",
          "text": [
            "Epoch 1/15\n",
            "21255/21255 [==============================] - 701s 33ms/step - loss: 0.2194 - accuracy: 0.8975 - val_loss: 0.1842 - val_accuracy: 0.9076\n",
            "Epoch 2/15\n",
            "21255/21255 [==============================] - 647s 30ms/step - loss: 0.1503 - accuracy: 0.9392 - val_loss: 0.1415 - val_accuracy: 0.9416\n",
            "Epoch 3/15\n",
            "21255/21255 [==============================] - 679s 32ms/step - loss: 0.1115 - accuracy: 0.9591 - val_loss: 0.0627 - val_accuracy: 0.9803\n",
            "Epoch 4/15\n",
            "21255/21255 [==============================] - 678s 32ms/step - loss: 0.0807 - accuracy: 0.9728 - val_loss: 0.0631 - val_accuracy: 0.9809\n",
            "Epoch 5/15\n",
            "21255/21255 [==============================] - 684s 32ms/step - loss: 0.0704 - accuracy: 0.9770 - val_loss: 0.0582 - val_accuracy: 0.9811\n",
            "Epoch 6/15\n",
            "21255/21255 [==============================] - 673s 32ms/step - loss: 0.0648 - accuracy: 0.9790 - val_loss: 0.0513 - val_accuracy: 0.9832\n",
            "Epoch 7/15\n",
            "21255/21255 [==============================] - 678s 32ms/step - loss: 0.0622 - accuracy: 0.9796 - val_loss: 0.0527 - val_accuracy: 0.9831\n",
            "Epoch 8/15\n",
            "21255/21255 [==============================] - 670s 32ms/step - loss: 0.0582 - accuracy: 0.9807 - val_loss: 0.0469 - val_accuracy: 0.9837\n",
            "Epoch 9/15\n",
            "21255/21255 [==============================] - 681s 32ms/step - loss: 0.0557 - accuracy: 0.9811 - val_loss: 0.0502 - val_accuracy: 0.9838\n",
            "Epoch 10/15\n",
            "21255/21255 [==============================] - 667s 31ms/step - loss: 0.0528 - accuracy: 0.9816 - val_loss: 0.0426 - val_accuracy: 0.9852\n",
            "Epoch 11/15\n",
            "21255/21255 [==============================] - 665s 31ms/step - loss: 0.0505 - accuracy: 0.9821 - val_loss: 0.0418 - val_accuracy: 0.9856\n",
            "Epoch 12/15\n",
            "21255/21255 [==============================] - 627s 30ms/step - loss: 0.0481 - accuracy: 0.9829 - val_loss: 0.0419 - val_accuracy: 0.9853\n",
            "Epoch 13/15\n",
            "21255/21255 [==============================] - 668s 31ms/step - loss: 0.0461 - accuracy: 0.9833 - val_loss: 0.0374 - val_accuracy: 0.9869\n",
            "Epoch 14/15\n",
            "21255/21255 [==============================] - 650s 31ms/step - loss: 0.0445 - accuracy: 0.9839 - val_loss: 0.0392 - val_accuracy: 0.9863\n",
            "Epoch 15/15\n",
            "21255/21255 [==============================] - 663s 31ms/step - loss: 0.0425 - accuracy: 0.9844 - val_loss: 0.0389 - val_accuracy: 0.9866\n",
            "Epoch 1/15\n",
            "34007/34007 [==============================] - 793s 23ms/step - loss: 0.0468 - accuracy: 0.9832 - val_loss: 0.0391 - val_accuracy: 0.9860\n",
            "Epoch 2/15\n",
            "34007/34007 [==============================] - 829s 24ms/step - loss: 0.0459 - accuracy: 0.9835 - val_loss: 0.0404 - val_accuracy: 0.9856\n",
            "Epoch 3/15\n",
            "34007/34007 [==============================] - 792s 23ms/step - loss: 0.0451 - accuracy: 0.9838 - val_loss: 0.0534 - val_accuracy: 0.9815\n",
            "Epoch 4/15\n",
            "34007/34007 [==============================] - 825s 24ms/step - loss: 0.0427 - accuracy: 0.9844 - val_loss: 0.0386 - val_accuracy: 0.9871\n",
            "Epoch 5/15\n",
            "34007/34007 [==============================] - 824s 24ms/step - loss: 0.0412 - accuracy: 0.9851 - val_loss: 0.0333 - val_accuracy: 0.9876\n",
            "Epoch 6/15\n",
            "34007/34007 [==============================] - 836s 25ms/step - loss: 0.0396 - accuracy: 0.9856 - val_loss: 0.0412 - val_accuracy: 0.9851\n",
            "Epoch 7/15\n",
            "34007/34007 [==============================] - 827s 24ms/step - loss: 0.0391 - accuracy: 0.9858 - val_loss: 0.0392 - val_accuracy: 0.9868\n",
            "Epoch 8/15\n",
            "34007/34007 [==============================] - 800s 24ms/step - loss: 0.0379 - accuracy: 0.9866 - val_loss: 0.0477 - val_accuracy: 0.9857\n",
            "Epoch 9/15\n",
            "34007/34007 [==============================] - 797s 23ms/step - loss: 0.0372 - accuracy: 0.9867 - val_loss: 0.0363 - val_accuracy: 0.9886\n",
            "Epoch 10/15\n",
            "34007/34007 [==============================] - 790s 23ms/step - loss: 0.0364 - accuracy: 0.9869 - val_loss: 0.0359 - val_accuracy: 0.9881\n",
            "Epoch 11/15\n",
            "34007/34007 [==============================] - 791s 23ms/step - loss: 0.0357 - accuracy: 0.9871 - val_loss: 0.0347 - val_accuracy: 0.9879\n",
            "Epoch 12/15\n",
            "34007/34007 [==============================] - 838s 25ms/step - loss: 0.0356 - accuracy: 0.9875 - val_loss: 0.0312 - val_accuracy: 0.9889\n",
            "Epoch 13/15\n",
            "34007/34007 [==============================] - 824s 24ms/step - loss: 0.0343 - accuracy: 0.9877 - val_loss: 0.0309 - val_accuracy: 0.9895\n",
            "Epoch 14/15\n",
            "34007/34007 [==============================] - 836s 25ms/step - loss: 0.0337 - accuracy: 0.9882 - val_loss: 0.0290 - val_accuracy: 0.9895\n",
            "Epoch 15/15\n",
            "34007/34007 [==============================] - 808s 24ms/step - loss: 0.0339 - accuracy: 0.9881 - val_loss: 0.0295 - val_accuracy: 0.9902\n",
            "10628/10628 [==============================] - 80s 8ms/step - loss: 0.0294 - accuracy: 0.9900\n",
            "Test accuracy: 0.9899578094482422\n",
            "10628/10628 [==============================] - 80s 7ms/step\n"
          ]
        },
        {
          "output_type": "error",
          "ename": "NameError",
          "evalue": "ignored",
          "traceback": [
            "\u001b[0;31m---------------------------------------------------------------------------\u001b[0m",
            "\u001b[0;31mNameError\u001b[0m                                 Traceback (most recent call last)",
            "\u001b[0;32m<ipython-input-9-0f78ae018ac8>\u001b[0m in \u001b[0;36m<cell line: 28>\u001b[0;34m()\u001b[0m\n\u001b[1;32m     26\u001b[0m \u001b[0;34m\u001b[0m\u001b[0m\n\u001b[1;32m     27\u001b[0m \u001b[0;31m#Confusion matrix\u001b[0m\u001b[0;34m\u001b[0m\u001b[0;34m\u001b[0m\u001b[0m\n\u001b[0;32m---> 28\u001b[0;31m \u001b[0mcm\u001b[0m \u001b[0;34m=\u001b[0m \u001b[0mconfusion_matrix\u001b[0m\u001b[0;34m(\u001b[0m\u001b[0my_test\u001b[0m\u001b[0;34m,\u001b[0m \u001b[0mpredicted_classes\u001b[0m\u001b[0;34m)\u001b[0m\u001b[0;34m\u001b[0m\u001b[0;34m\u001b[0m\u001b[0m\n\u001b[0m\u001b[1;32m     29\u001b[0m \u001b[0mprint\u001b[0m\u001b[0;34m(\u001b[0m\u001b[0;34m\"Confusion Matrix:\"\u001b[0m\u001b[0;34m)\u001b[0m\u001b[0;34m\u001b[0m\u001b[0;34m\u001b[0m\u001b[0m\n\u001b[1;32m     30\u001b[0m \u001b[0mprint\u001b[0m\u001b[0;34m(\u001b[0m\u001b[0mcm\u001b[0m\u001b[0;34m)\u001b[0m\u001b[0;34m\u001b[0m\u001b[0;34m\u001b[0m\u001b[0m\n",
            "\u001b[0;31mNameError\u001b[0m: name 'confusion_matrix' is not defined"
          ]
        }
      ]
    },
    {
      "cell_type": "code",
      "source": [
        "#Confusion matrix\n",
        "cm = confusion_matrix(y_test, predicted_classes)\n",
        "print(\"Confusion Matrix:\")\n",
        "print(cm)\n",
        "\n",
        "#Classification report\n",
        "cr = classification_report(y_test, predicted_classes)\n",
        "print(\"Classification Report:\")\n",
        "print(cr)"
      ],
      "metadata": {
        "id": "CVbvkaNOEtEm",
        "outputId": "a77d8cc0-01c7-4db5-8fc8-0d88286ffd3e",
        "colab": {
          "base_uri": "https://localhost:8080/"
        }
      },
      "execution_count": 12,
      "outputs": [
        {
          "output_type": "stream",
          "name": "stdout",
          "text": [
            "Confusion Matrix:\n",
            "[[66363    80     0  1216    86]\n",
            " [    8 67601   526     9     0]\n",
            " [    0   110 68172     0     0]\n",
            " [ 1364     0     1 66644     0]\n",
            " [    7     0     0     8 67871]]\n",
            "Classification Report:\n",
            "              precision    recall  f1-score   support\n",
            "\n",
            "           0       0.98      0.98      0.98     67745\n",
            "           1       1.00      0.99      0.99     68144\n",
            "           2       0.99      1.00      1.00     68282\n",
            "           3       0.98      0.98      0.98     68009\n",
            "           4       1.00      1.00      1.00     67886\n",
            "\n",
            "    accuracy                           0.99    340066\n",
            "   macro avg       0.99      0.99      0.99    340066\n",
            "weighted avg       0.99      0.99      0.99    340066\n",
            "\n"
          ]
        }
      ]
    },
    {
      "cell_type": "code",
      "source": [
        "print(\"Confusion Matrix of Recurrent Neural Networks (RNN)\") \n",
        "conf_mat(y_test, predicted_classes)"
      ],
      "metadata": {
        "id": "KsUU2K0ZMGvH",
        "outputId": "eaff7e0f-578f-4163-8d36-02f26dc92ec9",
        "colab": {
          "base_uri": "https://localhost:8080/",
          "height": 568
        }
      },
      "execution_count": 13,
      "outputs": [
        {
          "output_type": "stream",
          "name": "stdout",
          "text": [
            "Confusion Matrix of Recurrent Neural Networks (RNN)\n"
          ]
        },
        {
          "output_type": "display_data",
          "data": {
            "text/plain": [
              "<Figure size 600x550 with 2 Axes>"
            ],
            "image/png": "[encoded data removed]"
          },
          "metadata": {}
        }
      ]
    },
    {
      "cell_type": "markdown",
      "source": [
        "**Long short-term memory (LSTM)**"
      ],
      "metadata": {
        "id": "cssvHCOZRwuv"
      }
    },
    {
      "cell_type": "code",
      "source": [
        "#from keras.models import Sequential\n",
        "from keras.layers import Dense, LSTM\n",
        "#from keras.utils import to_categorical\n",
        "\n",
        "# Define the LSTM model\n",
        "model = Sequential()\n",
        "model.add(LSTM(64, input_shape=(X_train.shape[1], 1)))\n",
        "model.add(Dense(32, activation='relu'))\n",
        "model.add(Dense(16, activation='relu'))\n",
        "model.add(Dense(5, activation='softmax'))\n",
        "\n",
        "# Compile the model\n",
        "model.compile(loss='categorical_crossentropy', optimizer='adam', metrics=['accuracy'])\n",
        "\n",
        "# Convert the target variables to categorical variables\n",
        "y_train = to_categorical(y_train)\n",
        "y_test = to_categorical(y_test)\n",
        "\n",
        "# Train the model\n",
        "model.fit(X_train.reshape(X_train.shape[0], X_train.shape[1], 1), y_train, epochs=15, batch_size=32, validation_data=(X_test.reshape(X_test.shape[0], X_test.shape[1], 1), y_test))\n",
        "\n",
        "# Evaluate the model\n",
        "score, acc = model.evaluate(X_test.reshape(X_test.shape[0], X_test.shape[1], 1), y_test, batch_size=32)\n",
        "print('Test score:', score)\n",
        "print('Test accuracy:', acc)\n",
        "\n",
        "#Make predictions with the model\n",
        "predictions = model.predict(X_test)\n",
        "predicted_classes = np.argmax(predictions, axis=1)\n",
        "\n",
        "from sklearn.metrics import confusion_matrix, classification_report\n",
        "\n",
        "# Convert categorical target variables back to class labels\n",
        "y_true = np.argmax(y_test, axis=1)\n",
        "predicted_classes = np.argmax(predictions, axis=1)\n",
        "\n",
        "# Generate confusion matrix\n",
        "cm = confusion_matrix(y_true, predicted_classes)\n",
        "print(\"Confusion Matrix:\")\n",
        "print(cm)\n",
        "\n",
        "# Generate classification report\n",
        "cr = classification_report(y_true, predicted_classes)\n",
        "print(\"Classification Report:\")\n",
        "print(cr)"
      ],
      "metadata": {
        "id": "WyY0VBdyRz_E",
        "outputId": "55d4d0a4-3aba-4207-f95a-245d053fe250",
        "colab": {
          "base_uri": "https://localhost:8080/",
          "height": 970
        }
      },
      "execution_count": null,
      "outputs": [
        {
          "output_type": "stream",
          "name": "stdout",
          "text": [
            "Epoch 1/15\n",
            "42509/42509 [==============================] - 748s 17ms/step - loss: 0.1453 - accuracy: 0.9367 - val_loss: 0.0641 - val_accuracy: 0.9778\n",
            "Epoch 2/15\n",
            "42509/42509 [==============================] - 723s 17ms/step - loss: 0.0612 - accuracy: 0.9798 - val_loss: 0.0549 - val_accuracy: 0.9815\n",
            "Epoch 3/15\n",
            "42509/42509 [==============================] - 731s 17ms/step - loss: 0.0526 - accuracy: 0.9821 - val_loss: 0.0502 - val_accuracy: 0.9824\n",
            "Epoch 4/15\n",
            "42509/42509 [==============================] - 731s 17ms/step - loss: 0.0459 - accuracy: 0.9836 - val_loss: 0.0436 - val_accuracy: 0.9844\n",
            "Epoch 5/15\n",
            "42509/42509 [==============================] - 737s 17ms/step - loss: 0.0404 - accuracy: 0.9850 - val_loss: 0.0423 - val_accuracy: 0.9842\n",
            "Epoch 6/15\n",
            "42509/42509 [==============================] - 730s 17ms/step - loss: 0.0357 - accuracy: 0.9864 - val_loss: 0.0328 - val_accuracy: 0.9874\n",
            "Epoch 7/15\n",
            "42509/42509 [==============================] - 726s 17ms/step - loss: 0.0321 - accuracy: 0.9877 - val_loss: 0.0313 - val_accuracy: 0.9880\n",
            "Epoch 8/15\n",
            "42509/42509 [==============================] - 705s 17ms/step - loss: 0.0294 - accuracy: 0.9886 - val_loss: 0.0282 - val_accuracy: 0.9893\n",
            "Epoch 9/15\n",
            "42509/42509 [==============================] - 729s 17ms/step - loss: 0.0273 - accuracy: 0.9895 - val_loss: 0.0255 - val_accuracy: 0.9902\n",
            "Epoch 10/15\n",
            "42509/42509 [==============================] - 731s 17ms/step - loss: 0.0252 - accuracy: 0.9903 - val_loss: 0.0256 - val_accuracy: 0.9901\n",
            "Epoch 11/15\n",
            "42509/42509 [==============================] - 731s 17ms/step - loss: 0.0243 - accuracy: 0.9908 - val_loss: 0.0235 - val_accuracy: 0.9911\n",
            "Epoch 12/15\n",
            "42509/42509 [==============================] - 748s 18ms/step - loss: 0.0232 - accuracy: 0.9912 - val_loss: 0.0239 - val_accuracy: 0.9908\n",
            "Epoch 13/15\n",
            "42509/42509 [==============================] - 714s 17ms/step - loss: 0.0225 - accuracy: 0.9916 - val_loss: 0.0235 - val_accuracy: 0.9913\n",
            "Epoch 14/15\n",
            "42509/42509 [==============================] - 729s 17ms/step - loss: 0.0216 - accuracy: 0.9919 - val_loss: 0.0208 - val_accuracy: 0.9923\n",
            "Epoch 15/15\n",
            "42509/42509 [==============================] - 725s 17ms/step - loss: 0.0212 - accuracy: 0.9922 - val_loss: 0.0326 - val_accuracy: 0.9880\n",
            "10628/10628 [==============================] - 66s 6ms/step - loss: 0.0326 - accuracy: 0.9880\n",
            "Test score: 0.03257661685347557\n",
            "Test accuracy: 0.9879846572875977\n",
            "10628/10628 [==============================] - 63s 6ms/step\n"
          ]
        },
        {
          "output_type": "error",
          "ename": "ValueError",
          "evalue": "ignored",
          "traceback": [
            "\u001b[0;31m---------------------------------------------------------------------------\u001b[0m",
            "\u001b[0;31mValueError\u001b[0m                                Traceback (most recent call last)",
            "\u001b[0;32m<ipython-input-11-059480fe67b7>\u001b[0m in \u001b[0;36m<cell line: 32>\u001b[0;34m()\u001b[0m\n\u001b[1;32m     30\u001b[0m \u001b[0;34m\u001b[0m\u001b[0m\n\u001b[1;32m     31\u001b[0m \u001b[0;31m#Confusion matrix\u001b[0m\u001b[0;34m\u001b[0m\u001b[0;34m\u001b[0m\u001b[0m\n\u001b[0;32m---> 32\u001b[0;31m \u001b[0mcm\u001b[0m \u001b[0;34m=\u001b[0m \u001b[0mconfusion_matrix\u001b[0m\u001b[0;34m(\u001b[0m\u001b[0my_test\u001b[0m\u001b[0;34m,\u001b[0m \u001b[0mpredicted_classes\u001b[0m\u001b[0;34m)\u001b[0m\u001b[0;34m\u001b[0m\u001b[0;34m\u001b[0m\u001b[0m\n\u001b[0m\u001b[1;32m     33\u001b[0m \u001b[0mprint\u001b[0m\u001b[0;34m(\u001b[0m\u001b[0;34m\"Confusion Matrix:\"\u001b[0m\u001b[0;34m)\u001b[0m\u001b[0;34m\u001b[0m\u001b[0;34m\u001b[0m\u001b[0m\n\u001b[1;32m     34\u001b[0m \u001b[0mprint\u001b[0m\u001b[0;34m(\u001b[0m\u001b[0mcm\u001b[0m\u001b[0;34m)\u001b[0m\u001b[0;34m\u001b[0m\u001b[0;34m\u001b[0m\u001b[0m\n",
            "\u001b[0;32m/usr/local/lib/python3.9/dist-packages/sklearn/metrics/_classification.py\u001b[0m in \u001b[0;36mconfusion_matrix\u001b[0;34m(y_true, y_pred, labels, sample_weight, normalize)\u001b[0m\n\u001b[1;32m    315\u001b[0m     \u001b[0;34m(\u001b[0m\u001b[0;36m0\u001b[0m\u001b[0;34m,\u001b[0m \u001b[0;36m2\u001b[0m\u001b[0;34m,\u001b[0m \u001b[0;36m1\u001b[0m\u001b[0;34m,\u001b[0m \u001b[0;36m1\u001b[0m\u001b[0;34m)\u001b[0m\u001b[0;34m\u001b[0m\u001b[0;34m\u001b[0m\u001b[0m\n\u001b[1;32m    316\u001b[0m     \"\"\"\n\u001b[0;32m--> 317\u001b[0;31m     \u001b[0my_type\u001b[0m\u001b[0;34m,\u001b[0m \u001b[0my_true\u001b[0m\u001b[0;34m,\u001b[0m \u001b[0my_pred\u001b[0m \u001b[0;34m=\u001b[0m \u001b[0m_check_targets\u001b[0m\u001b[0;34m(\u001b[0m\u001b[0my_true\u001b[0m\u001b[0;34m,\u001b[0m \u001b[0my_pred\u001b[0m\u001b[0;34m)\u001b[0m\u001b[0;34m\u001b[0m\u001b[0;34m\u001b[0m\u001b[0m\n\u001b[0m\u001b[1;32m    318\u001b[0m     \u001b[0;32mif\u001b[0m \u001b[0my_type\u001b[0m \u001b[0;32mnot\u001b[0m \u001b[0;32min\u001b[0m \u001b[0;34m(\u001b[0m\u001b[0;34m\"binary\"\u001b[0m\u001b[0;34m,\u001b[0m \u001b[0;34m\"multiclass\"\u001b[0m\u001b[0;34m)\u001b[0m\u001b[0;34m:\u001b[0m\u001b[0;34m\u001b[0m\u001b[0;34m\u001b[0m\u001b[0m\n\u001b[1;32m    319\u001b[0m         \u001b[0;32mraise\u001b[0m \u001b[0mValueError\u001b[0m\u001b[0;34m(\u001b[0m\u001b[0;34m\"%s is not supported\"\u001b[0m \u001b[0;34m%\u001b[0m \u001b[0my_type\u001b[0m\u001b[0;34m)\u001b[0m\u001b[0;34m\u001b[0m\u001b[0;34m\u001b[0m\u001b[0m\n",
            "\u001b[0;32m/usr/local/lib/python3.9/dist-packages/sklearn/metrics/_classification.py\u001b[0m in \u001b[0;36m_check_targets\u001b[0;34m(y_true, y_pred)\u001b[0m\n\u001b[1;32m     93\u001b[0m \u001b[0;34m\u001b[0m\u001b[0m\n\u001b[1;32m     94\u001b[0m     \u001b[0;32mif\u001b[0m \u001b[0mlen\u001b[0m\u001b[0;34m(\u001b[0m\u001b[0my_type\u001b[0m\u001b[0;34m)\u001b[0m \u001b[0;34m>\u001b[0m \u001b[0;36m1\u001b[0m\u001b[0;34m:\u001b[0m\u001b[0;34m\u001b[0m\u001b[0;34m\u001b[0m\u001b[0m\n\u001b[0;32m---> 95\u001b[0;31m         raise ValueError(\n\u001b[0m\u001b[1;32m     96\u001b[0m             \"Classification metrics can't handle a mix of {0} and {1} targets\".format(\n\u001b[1;32m     97\u001b[0m                 \u001b[0mtype_true\u001b[0m\u001b[0;34m,\u001b[0m \u001b[0mtype_pred\u001b[0m\u001b[0;34m\u001b[0m\u001b[0;34m\u001b[0m\u001b[0m\n",
            "\u001b[0;31mValueError\u001b[0m: Classification metrics can't handle a mix of multilabel-indicator and multiclass targets"
          ]
        }
      ]
    },
    {
      "cell_type": "code",
      "source": [
        "print(\"Confusion Matrix of Long short-term memory (LSTM)\") \n",
        "conf_mat(y_test, predicted_classes)"
      ],
      "metadata": {
        "id": "d2dELkqXSkUa"
      },
      "execution_count": null,
      "outputs": []
    },
    {
      "cell_type": "markdown",
      "source": [
        "### **Multilayer Perceptron (MLP) for a 5-class**"
      ],
      "metadata": {
        "id": "EprbCgAiVAhY"
      }
    },
    {
      "cell_type": "code",
      "source": [
        "from keras.layers import Dense\n",
        "\n",
        "# Define the MLP model\n",
        "model = Sequential()\n",
        "model.add(Dense(64, input_dim=X_train.shape[1], activation='relu'))\n",
        "model.add(Dense(32, activation='relu'))\n",
        "model.add(Dense(16, activation='relu'))\n",
        "model.add(Dense(5, activation='softmax'))\n",
        "\n",
        "# Compile the model\n",
        "model.compile(loss='categorical_crossentropy', optimizer='adam', metrics=['accuracy'])\n",
        "\n",
        "# Convert the target variables to categorical variables\n",
        "y_train = to_categorical(y_train)\n",
        "y_test = to_categorical(y_test)\n",
        "\n",
        "# Train the model\n",
        "model.fit(X_train, y_train, epochs=10, batch_size=32, validation_data=(X_test, y_test))\n",
        "\n",
        "# Evaluate the model\n",
        "score, acc = model.evaluate(X_test, y_test, batch_size=32)\n",
        "print('Test score:', score)\n",
        "print('Test accuracy:', acc)"
      ],
      "metadata": {
        "id": "dNyQkHvZVEEE",
        "outputId": "0aeb331b-e52d-41fa-efe4-d8da24ae3c4c",
        "colab": {
          "base_uri": "https://localhost:8080/"
        }
      },
      "execution_count": 14,
      "outputs": [
        {
          "output_type": "stream",
          "name": "stdout",
          "text": [
            "Epoch 1/10\n",
            "42509/42509 [==============================] - 134s 3ms/step - loss: 0.1413 - accuracy: 0.9405 - val_loss: 0.1004 - val_accuracy: 0.9624\n",
            "Epoch 2/10\n",
            "42509/42509 [==============================] - 108s 3ms/step - loss: 0.0745 - accuracy: 0.9729 - val_loss: 0.0557 - val_accuracy: 0.9805\n",
            "Epoch 3/10\n",
            "42509/42509 [==============================] - 108s 3ms/step - loss: 0.0581 - accuracy: 0.9789 - val_loss: 0.0531 - val_accuracy: 0.9802\n",
            "Epoch 4/10\n",
            "42509/42509 [==============================] - 99s 2ms/step - loss: 0.0540 - accuracy: 0.9801 - val_loss: 0.0459 - val_accuracy: 0.9825\n",
            "Epoch 5/10\n",
            "42509/42509 [==============================] - 107s 3ms/step - loss: 0.0543 - accuracy: 0.9797 - val_loss: 0.0414 - val_accuracy: 0.9845\n",
            "Epoch 6/10\n",
            "42509/42509 [==============================] - 98s 2ms/step - loss: 0.0480 - accuracy: 0.9821 - val_loss: 0.0407 - val_accuracy: 0.9848\n",
            "Epoch 7/10\n",
            "42509/42509 [==============================] - 96s 2ms/step - loss: 0.0443 - accuracy: 0.9833 - val_loss: 0.0378 - val_accuracy: 0.9860\n",
            "Epoch 8/10\n",
            "42509/42509 [==============================] - 98s 2ms/step - loss: 0.0439 - accuracy: 0.9836 - val_loss: 0.0426 - val_accuracy: 0.9837\n",
            "Epoch 9/10\n",
            "42509/42509 [==============================] - 99s 2ms/step - loss: 0.0417 - accuracy: 0.9841 - val_loss: 0.0506 - val_accuracy: 0.9811\n",
            "Epoch 10/10\n",
            "42509/42509 [==============================] - 98s 2ms/step - loss: 0.0401 - accuracy: 0.9848 - val_loss: 0.0388 - val_accuracy: 0.9856\n",
            "10628/10628 [==============================] - 17s 2ms/step - loss: 0.0388 - accuracy: 0.9856\n",
            "Test score: 0.03880817070603371\n",
            "Test accuracy: 0.985576331615448\n"
          ]
        }
      ]
    },
    {
      "cell_type": "code",
      "source": [
        "#Make predictions with the model\n",
        "##predictions = model.predict(X_test)\n",
        "##predicted_classes = np.argmax(predictions, axis=1)\n",
        "\n",
        "#Confusion matrix\n",
        "##cm = confusion_matrix(y_test, predicted_classes)\n",
        "##print(\"Confusion Matrix:\")\n",
        "##print(cm)\n",
        "\n",
        "#Classification report\n",
        "##cr = classification_report(y_test, predicted_classes)\n",
        "##print(\"Classification Report:\")\n",
        "##print(cr)\n",
        "\n",
        "from sklearn.metrics import confusion_matrix, classification_report\n",
        "\n",
        "# Convert categorical target variables back to class labels\n",
        "y_true = np.argmax(y_test, axis=1)\n",
        "predicted_classes = np.argmax(predictions, axis=1)\n",
        "\n",
        "# Generate confusion matrix\n",
        "cm = confusion_matrix(y_true, predicted_classes)\n",
        "print(\"Confusion Matrix:\")\n",
        "print(cm)\n",
        "\n",
        "# Generate classification report\n",
        "cr = classification_report(y_true, predicted_classes)\n",
        "print(\"Classification Report:\")\n",
        "print(cr)"
      ],
      "metadata": {
        "id": "wimSNtjC5GGv",
        "outputId": "ec871945-8b6f-45df-dad7-b9b4734340aa",
        "colab": {
          "base_uri": "https://localhost:8080/"
        }
      },
      "execution_count": 19,
      "outputs": [
        {
          "output_type": "stream",
          "name": "stdout",
          "text": [
            "Confusion Matrix:\n",
            "[[66619    83     0   949    94]\n",
            " [   13 67411   719     1     0]\n",
            " [    0   794 67486     1     1]\n",
            " [ 2218    27     0 65759     5]\n",
            " [    0     0     0     0 67886]]\n",
            "Classification Report:\n",
            "              precision    recall  f1-score   support\n",
            "\n",
            "           0       0.97      0.98      0.98     67745\n",
            "           1       0.99      0.99      0.99     68144\n",
            "           2       0.99      0.99      0.99     68282\n",
            "           3       0.99      0.97      0.98     68009\n",
            "           4       1.00      1.00      1.00     67886\n",
            "\n",
            "    accuracy                           0.99    340066\n",
            "   macro avg       0.99      0.99      0.99    340066\n",
            "weighted avg       0.99      0.99      0.99    340066\n",
            "\n"
          ]
        }
      ]
    },
    {
      "cell_type": "code",
      "source": [
        "print(\"Confusion Matrix of Multilayer Perceptron (MLP)\") \n",
        "conf_mat(y_true, predicted_classes)"
      ],
      "metadata": {
        "id": "f07m5SBvVVA6",
        "outputId": "0c9f393c-12e6-472b-d710-8a6838063b4a",
        "colab": {
          "base_uri": "https://localhost:8080/",
          "height": 568
        }
      },
      "execution_count": 21,
      "outputs": [
        {
          "output_type": "stream",
          "name": "stdout",
          "text": [
            "Confusion Matrix of Multilayer Perceptron (MLP)\n"
          ]
        },
        {
          "output_type": "display_data",
          "data": {
            "text/plain": [
              "<Figure size 600x550 with 2 Axes>"
            ],
            "image/png": "[encoded data removed]"
          },
          "metadata": {}
        }
      ]
    },
    {
      "cell_type": "markdown",
      "source": [
        "**Deep learning for 5 class**"
      ],
      "metadata": {
        "id": "lRzXl-FPXQht"
      }
    },
    {
      "cell_type": "code",
      "source": [
        "from keras.models import Sequential\n",
        "from keras.layers import Dense, Dropout\n",
        "from keras.utils import to_categorical\n",
        "\n",
        "# Define the deep learning model\n",
        "model = Sequential()\n",
        "model.add(Dense(64, input_dim=X_train.shape[1], activation='relu'))\n",
        "model.add(Dropout(0.2))\n",
        "model.add(Dense(32, activation='relu'))\n",
        "model.add(Dropout(0.2))\n",
        "model.add(Dense(16, activation='relu'))\n",
        "model.add(Dropout(0.2))\n",
        "model.add(Dense(5, activation='softmax'))\n",
        "\n",
        "# Compile the model\n",
        "model.compile(loss='categorical_crossentropy', optimizer='adam', metrics=['accuracy'])\n",
        "\n",
        "# Convert the target variables to categorical variables\n",
        "y_train = to_categorical(y_train)\n",
        "y_test = to_categorical(y_test)\n",
        "\n",
        "# Train the model\n",
        "model.fit(X_train, y_train, epochs=10, batch_size=32, validation_data=(X_test, y_test))\n",
        "\n",
        "# Evaluate the model\n",
        "score, acc = model.evaluate(X_test, y_test, batch_size=32)\n",
        "print('Test score:', score)\n",
        "print('Test accuracy:', acc)"
      ],
      "metadata": {
        "id": "XBhoc8e0XSY3"
      },
      "execution_count": null,
      "outputs": []
    },
    {
      "cell_type": "code",
      "source": [
        "#Make predictions with the model\n",
        "predictions = model.predict(X_test)\n",
        "predicted_classes = np.argmax(predictions, axis=1)\n",
        "\n",
        "#Confusion matrix\n",
        "cm = confusion_matrix(y_test, predicted_classes)\n",
        "print(\"Confusion Matrix:\")\n",
        "print(cm)\n",
        "\n",
        "#Classification report\n",
        "cr = classification_report(y_test, predicted_classes)\n",
        "print(\"Classification Report:\")\n",
        "print(cr)"
      ],
      "metadata": {
        "id": "y1d4d4WSFNxy"
      },
      "execution_count": null,
      "outputs": []
    },
    {
      "cell_type": "code",
      "source": [
        "print(\"Confusion Matrix of Deep learning (DL)\") \n",
        "conf_mat(y_test, predicted_classes)"
      ],
      "metadata": {
        "id": "YfB9lJWdXjmQ"
      },
      "execution_count": null,
      "outputs": []
    },
    {
      "cell_type": "markdown",
      "source": [
        "### **Bidirectional LSTM (BiLSTM) for 5 class**"
      ],
      "metadata": {
        "id": "4SJOCdsLYT0E"
      }
    },
    {
      "cell_type": "code",
      "source": [
        "from keras.layers import Dense, Dropout, LSTM, Bidirectional\n",
        "\n",
        "# Define the Bidirectional LSTM model\n",
        "model = Sequential()\n",
        "model.add(Bidirectional(LSTM(64, return_sequences=True), input_shape=(X_train.shape[1], 1)))\n",
        "model.add(Dropout(0.2))\n",
        "model.add(Bidirectional(LSTM(32)))\n",
        "model.add(Dropout(0.2))\n",
        "model.add(Dense(16, activation='relu'))\n",
        "model.add(Dropout(0.2))\n",
        "model.add(Dense(5, activation='softmax'))\n",
        "\n",
        "# Compile the model\n",
        "model.compile(loss='categorical_crossentropy', optimizer='adam', metrics=['accuracy'])\n",
        "\n",
        "# Reshape the input data to fit the BiLSTM model\n",
        "X_train = np.reshape(X_train, (X_train.shape[0], X_train.shape[1], 1))\n",
        "X_test = np.reshape(X_test, (X_test.shape[0], X_test.shape[1], 1))\n",
        "\n",
        "# Convert the target variables to categorical variables\n",
        "y_train = to_categorical(y_train)\n",
        "y_test = to_categorical(y_test)\n",
        "\n",
        "# Train the model\n",
        "model.fit(X_train, y_train, epochs=10, batch_size=32, validation_data=(X_test, y_test))\n",
        "\n",
        "# Evaluate the model\n",
        "score, acc = model.evaluate(X_test, y_test, batch_size=32)\n",
        "print('Test score:', score)\n",
        "print('Test accuracy:', acc)"
      ],
      "metadata": {
        "id": "Hb0M8pg0YXiB",
        "outputId": "2119c0fb-4a88-4b03-8aa9-04bb9ba25fc6",
        "colab": {
          "base_uri": "https://localhost:8080/",
          "height": 797
        }
      },
      "execution_count": 24,
      "outputs": [
        {
          "output_type": "stream",
          "name": "stdout",
          "text": [
            "Epoch 1/10\n"
          ]
        },
        {
          "output_type": "error",
          "ename": "ValueError",
          "evalue": "ignored",
          "traceback": [
            "\u001b[0;31m---------------------------------------------------------------------------\u001b[0m",
            "\u001b[0;31mValueError\u001b[0m                                Traceback (most recent call last)",
            "\u001b[0;32m<ipython-input-24-0c7c601fbeb3>\u001b[0m in \u001b[0;36m<cell line: 25>\u001b[0;34m()\u001b[0m\n\u001b[1;32m     23\u001b[0m \u001b[0;34m\u001b[0m\u001b[0m\n\u001b[1;32m     24\u001b[0m \u001b[0;31m# Train the model\u001b[0m\u001b[0;34m\u001b[0m\u001b[0;34m\u001b[0m\u001b[0m\n\u001b[0;32m---> 25\u001b[0;31m \u001b[0mmodel\u001b[0m\u001b[0;34m.\u001b[0m\u001b[0mfit\u001b[0m\u001b[0;34m(\u001b[0m\u001b[0mX_train\u001b[0m\u001b[0;34m,\u001b[0m \u001b[0my_train\u001b[0m\u001b[0;34m,\u001b[0m \u001b[0mepochs\u001b[0m\u001b[0;34m=\u001b[0m\u001b[0;36m10\u001b[0m\u001b[0;34m,\u001b[0m \u001b[0mbatch_size\u001b[0m\u001b[0;34m=\u001b[0m\u001b[0;36m32\u001b[0m\u001b[0;34m,\u001b[0m \u001b[0mvalidation_data\u001b[0m\u001b[0;34m=\u001b[0m\u001b[0;34m(\u001b[0m\u001b[0mX_test\u001b[0m\u001b[0;34m,\u001b[0m \u001b[0my_test\u001b[0m\u001b[0;34m)\u001b[0m\u001b[0;34m)\u001b[0m\u001b[0;34m\u001b[0m\u001b[0;34m\u001b[0m\u001b[0m\n\u001b[0m\u001b[1;32m     26\u001b[0m \u001b[0;34m\u001b[0m\u001b[0m\n\u001b[1;32m     27\u001b[0m \u001b[0;31m# Evaluate the model\u001b[0m\u001b[0;34m\u001b[0m\u001b[0;34m\u001b[0m\u001b[0m\n",
            "\u001b[0;32m/usr/local/lib/python3.10/dist-packages/keras/utils/traceback_utils.py\u001b[0m in \u001b[0;36merror_handler\u001b[0;34m(*args, **kwargs)\u001b[0m\n\u001b[1;32m     68\u001b[0m             \u001b[0;31m# To get the full stack trace, call:\u001b[0m\u001b[0;34m\u001b[0m\u001b[0;34m\u001b[0m\u001b[0m\n\u001b[1;32m     69\u001b[0m             \u001b[0;31m# `tf.debugging.disable_traceback_filtering()`\u001b[0m\u001b[0;34m\u001b[0m\u001b[0;34m\u001b[0m\u001b[0m\n\u001b[0;32m---> 70\u001b[0;31m             \u001b[0;32mraise\u001b[0m \u001b[0me\u001b[0m\u001b[0;34m.\u001b[0m\u001b[0mwith_traceback\u001b[0m\u001b[0;34m(\u001b[0m\u001b[0mfiltered_tb\u001b[0m\u001b[0;34m)\u001b[0m \u001b[0;32mfrom\u001b[0m \u001b[0;32mNone\u001b[0m\u001b[0;34m\u001b[0m\u001b[0;34m\u001b[0m\u001b[0m\n\u001b[0m\u001b[1;32m     71\u001b[0m         \u001b[0;32mfinally\u001b[0m\u001b[0;34m:\u001b[0m\u001b[0;34m\u001b[0m\u001b[0;34m\u001b[0m\u001b[0m\n\u001b[1;32m     72\u001b[0m             \u001b[0;32mdel\u001b[0m \u001b[0mfiltered_tb\u001b[0m\u001b[0;34m\u001b[0m\u001b[0;34m\u001b[0m\u001b[0m\n",
            "\u001b[0;32m/usr/local/lib/python3.10/dist-packages/keras/engine/training.py\u001b[0m in \u001b[0;36mtf__train_function\u001b[0;34m(iterator)\u001b[0m\n\u001b[1;32m     13\u001b[0m                 \u001b[0;32mtry\u001b[0m\u001b[0;34m:\u001b[0m\u001b[0;34m\u001b[0m\u001b[0;34m\u001b[0m\u001b[0m\n\u001b[1;32m     14\u001b[0m                     \u001b[0mdo_return\u001b[0m \u001b[0;34m=\u001b[0m \u001b[0;32mTrue\u001b[0m\u001b[0;34m\u001b[0m\u001b[0;34m\u001b[0m\u001b[0m\n\u001b[0;32m---> 15\u001b[0;31m                     \u001b[0mretval_\u001b[0m \u001b[0;34m=\u001b[0m \u001b[0mag__\u001b[0m\u001b[0;34m.\u001b[0m\u001b[0mconverted_call\u001b[0m\u001b[0;34m(\u001b[0m\u001b[0mag__\u001b[0m\u001b[0;34m.\u001b[0m\u001b[0mld\u001b[0m\u001b[0;34m(\u001b[0m\u001b[0mstep_function\u001b[0m\u001b[0;34m)\u001b[0m\u001b[0;34m,\u001b[0m \u001b[0;34m(\u001b[0m\u001b[0mag__\u001b[0m\u001b[0;34m.\u001b[0m\u001b[0mld\u001b[0m\u001b[0;34m(\u001b[0m\u001b[0mself\u001b[0m\u001b[0;34m)\u001b[0m\u001b[0;34m,\u001b[0m \u001b[0mag__\u001b[0m\u001b[0;34m.\u001b[0m\u001b[0mld\u001b[0m\u001b[0;34m(\u001b[0m\u001b[0miterator\u001b[0m\u001b[0;34m)\u001b[0m\u001b[0;34m)\u001b[0m\u001b[0;34m,\u001b[0m \u001b[0;32mNone\u001b[0m\u001b[0;34m,\u001b[0m \u001b[0mfscope\u001b[0m\u001b[0;34m)\u001b[0m\u001b[0;34m\u001b[0m\u001b[0;34m\u001b[0m\u001b[0m\n\u001b[0m\u001b[1;32m     16\u001b[0m                 \u001b[0;32mexcept\u001b[0m\u001b[0;34m:\u001b[0m\u001b[0;34m\u001b[0m\u001b[0;34m\u001b[0m\u001b[0m\n\u001b[1;32m     17\u001b[0m                     \u001b[0mdo_return\u001b[0m \u001b[0;34m=\u001b[0m \u001b[0;32mFalse\u001b[0m\u001b[0;34m\u001b[0m\u001b[0;34m\u001b[0m\u001b[0m\n",
            "\u001b[0;31mValueError\u001b[0m: in user code:\n\n    File \"/usr/local/lib/python3.10/dist-packages/keras/engine/training.py\", line 1284, in train_function  *\n        return step_function(self, iterator)\n    File \"/usr/local/lib/python3.10/dist-packages/keras/engine/training.py\", line 1268, in step_function  **\n        outputs = model.distribute_strategy.run(run_step, args=(data,))\n    File \"/usr/local/lib/python3.10/dist-packages/keras/engine/training.py\", line 1249, in run_step  **\n        outputs = model.train_step(data)\n    File \"/usr/local/lib/python3.10/dist-packages/keras/engine/training.py\", line 1051, in train_step\n        loss = self.compute_loss(x, y, y_pred, sample_weight)\n    File \"/usr/local/lib/python3.10/dist-packages/keras/engine/training.py\", line 1109, in compute_loss\n        return self.compiled_loss(\n    File \"/usr/local/lib/python3.10/dist-packages/keras/engine/compile_utils.py\", line 265, in __call__\n        loss_value = loss_obj(y_t, y_p, sample_weight=sw)\n    File \"/usr/local/lib/python3.10/dist-packages/keras/losses.py\", line 142, in __call__\n        losses = call_fn(y_true, y_pred)\n    File \"/usr/local/lib/python3.10/dist-packages/keras/losses.py\", line 268, in call  **\n        return ag_fn(y_true, y_pred, **self._fn_kwargs)\n    File \"/usr/local/lib/python3.10/dist-packages/keras/losses.py\", line 1984, in categorical_crossentropy\n        return backend.categorical_crossentropy(\n    File \"/usr/local/lib/python3.10/dist-packages/keras/backend.py\", line 5559, in categorical_crossentropy\n        target.shape.assert_is_compatible_with(output.shape)\n\n    ValueError: Shapes (None, 5, 2, 2) and (None, 5) are incompatible\n"
          ]
        }
      ]
    },
    {
      "cell_type": "code",
      "source": [
        "#Make predictions with the model\n",
        "predictions = model.predict(X_test)\n",
        "predicted_classes = np.argmax(predictions, axis=1)\n",
        "\n",
        "#Confusion matrix\n",
        "cm = confusion_matrix(y_test, predicted_classes)\n",
        "print(\"Confusion Matrix:\")\n",
        "print(cm)\n",
        "\n",
        "#Classification report\n",
        "cr = classification_report(y_test, predicted_classes)\n",
        "print(\"Classification Report:\")\n",
        "print(cr)"
      ],
      "metadata": {
        "id": "2e9A1aeDFVTC"
      },
      "execution_count": null,
      "outputs": []
    },
    {
      "cell_type": "code",
      "source": [
        "print(\"Confusion Matrix of Bidirectional LSTM (BiLSTM)\") \n",
        "conf_mat(y_test, predicted_classes)"
      ],
      "metadata": {
        "id": "uA7PhjlzYoX7",
        "outputId": "8118c782-2011-4650-efb4-4065d35c8ff0",
        "colab": {
          "base_uri": "https://localhost:8080/",
          "height": 345
        }
      },
      "execution_count": 23,
      "outputs": [
        {
          "output_type": "stream",
          "name": "stdout",
          "text": [
            "Confusion Matrix of Bidirectional LSTM (BiLSTM)\n"
          ]
        },
        {
          "output_type": "error",
          "ename": "ValueError",
          "evalue": "ignored",
          "traceback": [
            "\u001b[0;31m---------------------------------------------------------------------------\u001b[0m",
            "\u001b[0;31mValueError\u001b[0m                                Traceback (most recent call last)",
            "\u001b[0;32m<ipython-input-23-5095d4ab3638>\u001b[0m in \u001b[0;36m<cell line: 2>\u001b[0;34m()\u001b[0m\n\u001b[1;32m      1\u001b[0m \u001b[0mprint\u001b[0m\u001b[0;34m(\u001b[0m\u001b[0;34m\"Confusion Matrix of Bidirectional LSTM (BiLSTM)\"\u001b[0m\u001b[0;34m)\u001b[0m\u001b[0;34m\u001b[0m\u001b[0;34m\u001b[0m\u001b[0m\n\u001b[0;32m----> 2\u001b[0;31m \u001b[0mconf_mat\u001b[0m\u001b[0;34m(\u001b[0m\u001b[0my_test\u001b[0m\u001b[0;34m,\u001b[0m \u001b[0mpredicted_classes\u001b[0m\u001b[0;34m)\u001b[0m\u001b[0;34m\u001b[0m\u001b[0;34m\u001b[0m\u001b[0m\n\u001b[0m",
            "\u001b[0;32m<ipython-input-11-1a17ebcaa589>\u001b[0m in \u001b[0;36mconf_mat\u001b[0;34m(d1, d2)\u001b[0m\n\u001b[1;32m      8\u001b[0m \u001b[0;32mfrom\u001b[0m \u001b[0msklearn\u001b[0m\u001b[0;34m.\u001b[0m\u001b[0mmetrics\u001b[0m \u001b[0;32mimport\u001b[0m \u001b[0mconfusion_matrix\u001b[0m\u001b[0;34m\u001b[0m\u001b[0;34m\u001b[0m\u001b[0m\n\u001b[1;32m      9\u001b[0m \u001b[0;32mdef\u001b[0m \u001b[0mconf_mat\u001b[0m\u001b[0;34m(\u001b[0m\u001b[0md1\u001b[0m\u001b[0;34m,\u001b[0m\u001b[0md2\u001b[0m\u001b[0;34m)\u001b[0m\u001b[0;34m:\u001b[0m\u001b[0;34m\u001b[0m\u001b[0;34m\u001b[0m\u001b[0m\n\u001b[0;32m---> 10\u001b[0;31m   \u001b[0mcm\u001b[0m \u001b[0;34m=\u001b[0m \u001b[0mconfusion_matrix\u001b[0m\u001b[0;34m(\u001b[0m\u001b[0md1\u001b[0m\u001b[0;34m,\u001b[0m \u001b[0md2\u001b[0m\u001b[0;34m)\u001b[0m\u001b[0;34m\u001b[0m\u001b[0;34m\u001b[0m\u001b[0m\n\u001b[0m\u001b[1;32m     11\u001b[0m   \u001b[0mplt\u001b[0m\u001b[0;34m.\u001b[0m\u001b[0mfigure\u001b[0m\u001b[0;34m(\u001b[0m\u001b[0mfigsize\u001b[0m\u001b[0;34m=\u001b[0m\u001b[0;34m(\u001b[0m\u001b[0;36m6\u001b[0m\u001b[0;34m,\u001b[0m\u001b[0;36m5.5\u001b[0m\u001b[0;34m)\u001b[0m\u001b[0;34m)\u001b[0m\u001b[0;34m\u001b[0m\u001b[0;34m\u001b[0m\u001b[0m\n\u001b[1;32m     12\u001b[0m   \u001b[0max\u001b[0m \u001b[0;34m=\u001b[0m \u001b[0msns\u001b[0m\u001b[0;34m.\u001b[0m\u001b[0mheatmap\u001b[0m\u001b[0;34m(\u001b[0m\u001b[0mcm\u001b[0m\u001b[0;34m,\u001b[0m  \u001b[0mfmt\u001b[0m\u001b[0;34m=\u001b[0m\u001b[0;34m'2'\u001b[0m\u001b[0;34m,\u001b[0m \u001b[0mannot\u001b[0m\u001b[0;34m=\u001b[0m\u001b[0;32mTrue\u001b[0m\u001b[0;34m,\u001b[0m \u001b[0mcmap\u001b[0m\u001b[0;34m=\u001b[0m\u001b[0;34m'YlGnBu'\u001b[0m\u001b[0;34m)\u001b[0m\u001b[0;34m\u001b[0m\u001b[0;34m\u001b[0m\u001b[0m\n",
            "\u001b[0;32m/usr/local/lib/python3.10/dist-packages/sklearn/metrics/_classification.py\u001b[0m in \u001b[0;36mconfusion_matrix\u001b[0;34m(y_true, y_pred, labels, sample_weight, normalize)\u001b[0m\n\u001b[1;32m    315\u001b[0m     \u001b[0;34m(\u001b[0m\u001b[0;36m0\u001b[0m\u001b[0;34m,\u001b[0m \u001b[0;36m2\u001b[0m\u001b[0;34m,\u001b[0m \u001b[0;36m1\u001b[0m\u001b[0;34m,\u001b[0m \u001b[0;36m1\u001b[0m\u001b[0;34m)\u001b[0m\u001b[0;34m\u001b[0m\u001b[0;34m\u001b[0m\u001b[0m\n\u001b[1;32m    316\u001b[0m     \"\"\"\n\u001b[0;32m--> 317\u001b[0;31m     \u001b[0my_type\u001b[0m\u001b[0;34m,\u001b[0m \u001b[0my_true\u001b[0m\u001b[0;34m,\u001b[0m \u001b[0my_pred\u001b[0m \u001b[0;34m=\u001b[0m \u001b[0m_check_targets\u001b[0m\u001b[0;34m(\u001b[0m\u001b[0my_true\u001b[0m\u001b[0;34m,\u001b[0m \u001b[0my_pred\u001b[0m\u001b[0;34m)\u001b[0m\u001b[0;34m\u001b[0m\u001b[0;34m\u001b[0m\u001b[0m\n\u001b[0m\u001b[1;32m    318\u001b[0m     \u001b[0;32mif\u001b[0m \u001b[0my_type\u001b[0m \u001b[0;32mnot\u001b[0m \u001b[0;32min\u001b[0m \u001b[0;34m(\u001b[0m\u001b[0;34m\"binary\"\u001b[0m\u001b[0;34m,\u001b[0m \u001b[0;34m\"multiclass\"\u001b[0m\u001b[0;34m)\u001b[0m\u001b[0;34m:\u001b[0m\u001b[0;34m\u001b[0m\u001b[0;34m\u001b[0m\u001b[0m\n\u001b[1;32m    319\u001b[0m         \u001b[0;32mraise\u001b[0m \u001b[0mValueError\u001b[0m\u001b[0;34m(\u001b[0m\u001b[0;34m\"%s is not supported\"\u001b[0m \u001b[0;34m%\u001b[0m \u001b[0my_type\u001b[0m\u001b[0;34m)\u001b[0m\u001b[0;34m\u001b[0m\u001b[0;34m\u001b[0m\u001b[0m\n",
            "\u001b[0;32m/usr/local/lib/python3.10/dist-packages/sklearn/metrics/_classification.py\u001b[0m in \u001b[0;36m_check_targets\u001b[0;34m(y_true, y_pred)\u001b[0m\n\u001b[1;32m     93\u001b[0m \u001b[0;34m\u001b[0m\u001b[0m\n\u001b[1;32m     94\u001b[0m     \u001b[0;32mif\u001b[0m \u001b[0mlen\u001b[0m\u001b[0;34m(\u001b[0m\u001b[0my_type\u001b[0m\u001b[0;34m)\u001b[0m \u001b[0;34m>\u001b[0m \u001b[0;36m1\u001b[0m\u001b[0;34m:\u001b[0m\u001b[0;34m\u001b[0m\u001b[0;34m\u001b[0m\u001b[0m\n\u001b[0;32m---> 95\u001b[0;31m         raise ValueError(\n\u001b[0m\u001b[1;32m     96\u001b[0m             \"Classification metrics can't handle a mix of {0} and {1} targets\".format(\n\u001b[1;32m     97\u001b[0m                 \u001b[0mtype_true\u001b[0m\u001b[0;34m,\u001b[0m \u001b[0mtype_pred\u001b[0m\u001b[0;34m\u001b[0m\u001b[0;34m\u001b[0m\u001b[0m\n",
            "\u001b[0;31mValueError\u001b[0m: Classification metrics can't handle a mix of unknown and multiclass targets"
          ]
        }
      ]
    }
  ]
}