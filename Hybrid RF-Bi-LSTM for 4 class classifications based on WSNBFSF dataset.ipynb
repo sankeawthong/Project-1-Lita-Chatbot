{
  "nbformat": 4,
  "nbformat_minor": 0,
  "metadata": {
    "colab": {
      "provenance": [],
      "authorship_tag": "ABX9TyMDn95h+6m6po4QiImLNmrF",
      "include_colab_link": true
    },
    "kernelspec": {
      "name": "python3",
      "display_name": "Python 3"
    },
    "language_info": {
      "name": "python"
    }
  },
  "cells": [
    {
      "cell_type": "markdown",
      "metadata": {
        "id": "view-in-github",
        "colab_type": "text"
      },
      "source": [
        "<a href=\"https://colab.research.google.com/github/sankeawthong/Project-1-Lita-Chatbot/blob/main/Hybrid%20RF-Bi-LSTM%20for%204%20class%20classifications%20based%20on%20WSNBFSF%20dataset.ipynb\" target=\"_parent\"><img src=\"https://colab.research.google.com/assets/colab-badge.svg\" alt=\"Open In Colab\"/></a>"
      ]
    },
    {
      "cell_type": "markdown",
      "source": [
        "### **Hybrid RF-Bi-LSTM for 4 class classifications based on WSNBFSF dataset**"
      ],
      "metadata": {
        "id": "u_ICfYW_k0I-"
      }
    },
    {
      "cell_type": "code",
      "execution_count": 1,
      "metadata": {
        "id": "ll3UEuoy2jQB"
      },
      "outputs": [],
      "source": [
        "import pandas as pd\n",
        "import numpy as np\n",
        "from sklearn.model_selection import train_test_split\n",
        "from sklearn.ensemble import RandomForestClassifier\n",
        "from tensorflow.keras.models import Sequential\n",
        "from tensorflow.keras.layers import Dense, Dropout, Bidirectional, LSTM\n",
        "from sklearn.metrics import classification_report\n",
        "from imblearn.over_sampling import SMOTE"
      ]
    },
    {
      "cell_type": "code",
      "source": [
        "# Load the dataset\n",
        "dataset = pd.read_csv(\"dataset.csv\")\n",
        "dataset.shape\n",
        "dataset.isnull().sum()\n",
        "dataset.info()\n",
        "dataset[\"Class\"].unique()"
      ],
      "metadata": {
        "colab": {
          "base_uri": "https://localhost:8080/"
        },
        "id": "8z-EoP-42l4B",
        "outputId": "2264627f-3739-4145-f12a-cad6c1d9c36d"
      },
      "execution_count": 2,
      "outputs": [
        {
          "output_type": "stream",
          "name": "stdout",
          "text": [
            "<class 'pandas.core.frame.DataFrame'>\n",
            "RangeIndex: 312106 entries, 0 to 312105\n",
            "Data columns (total 18 columns):\n",
            " #   Column          Non-Null Count   Dtype  \n",
            "---  ------          --------------   -----  \n",
            " 0   Event           312106 non-null  int64  \n",
            " 1   Time            312106 non-null  float64\n",
            " 2   S_Node          312106 non-null  int64  \n",
            " 3   Node_id         312106 non-null  int64  \n",
            " 4   Rest_Energy     312106 non-null  float64\n",
            " 5   Trace_Level     312106 non-null  int64  \n",
            " 6   Mac_Type_Pckt   312106 non-null  int64  \n",
            " 7   Source_IP_Port  312106 non-null  float64\n",
            " 8   Des_IP_Port     312106 non-null  float64\n",
            " 9   Packet_Size     312106 non-null  int64  \n",
            " 10  TTL             312106 non-null  int64  \n",
            " 11  Hop_Count       312106 non-null  int64  \n",
            " 12  Broadcast_ID    312106 non-null  int64  \n",
            " 13  Dest_Node_Num   312106 non-null  int64  \n",
            " 14  Dest_Seq_Num    312106 non-null  int64  \n",
            " 15  Src_Node_ID     312106 non-null  int64  \n",
            " 16  Src_Seq_Num     312106 non-null  int64  \n",
            " 17  Class           312106 non-null  int64  \n",
            "dtypes: float64(4), int64(14)\n",
            "memory usage: 42.9 MB\n"
          ]
        },
        {
          "output_type": "execute_result",
          "data": {
            "text/plain": [
              "array([0, 1, 2, 3])"
            ]
          },
          "metadata": {},
          "execution_count": 2
        }
      ]
    },
    {
      "cell_type": "code",
      "source": [
        "# Data preprocessing\n",
        "y = dataset['Class'].values\n",
        "X = dataset.drop(['Class'], axis=1)\n",
        "X = X.values"
      ],
      "metadata": {
        "id": "xHcfTQAc2pBT"
      },
      "execution_count": 3,
      "outputs": []
    },
    {
      "cell_type": "code",
      "source": [
        "# Data balancing using SMOTE\n",
        "oversample = SMOTE()\n",
        "X, y = oversample.fit_resample(X, y)"
      ],
      "metadata": {
        "id": "6QEny8ys2o3M"
      },
      "execution_count": 4,
      "outputs": []
    },
    {
      "cell_type": "code",
      "source": [
        "# Reshape the data for LSTM\n",
        "X = X.reshape(X.shape[0], X.shape[1], 1)"
      ],
      "metadata": {
        "id": "FlR2TB9k2oz0"
      },
      "execution_count": 5,
      "outputs": []
    },
    {
      "cell_type": "code",
      "source": [
        "# Split the data into train and test sets\n",
        "X_train, X_test, y_train, y_test = train_test_split(X, y, test_size=0.2, random_state=42)"
      ],
      "metadata": {
        "id": "D6ax3vZR2ovJ"
      },
      "execution_count": 6,
      "outputs": []
    },
    {
      "cell_type": "code",
      "source": [
        "# Random Forest model\n",
        "rf_model = RandomForestClassifier(n_estimators=100, random_state=42)\n",
        "rf_model.fit(X_train.reshape(X_train.shape[0], -1), y_train)  # Reshape X_train to 2D\n",
        "\n",
        "y_pred_rf = rf_model.predict(X_test.reshape(X_test.shape[0], -1))  # Reshape X_test to 2D\n",
        "\n",
        "from sklearn.metrics import accuracy_score\n",
        "\n",
        "# Calculate accuracy for Random Forest model\n",
        "accuracy_rf = accuracy_score(y_test, y_pred_rf)\n",
        "print(\"Random Forest Accuracy:\", accuracy_rf)\n",
        "\n",
        "# Evaluate Random Forest model\n",
        "rf_report = classification_report(y_test, y_pred_rf)\n",
        "print(\"Random Forest Model Classification Report:\")\n",
        "print(rf_report)"
      ],
      "metadata": {
        "colab": {
          "base_uri": "https://localhost:8080/"
        },
        "id": "vDOcyncU2vPm",
        "outputId": "011fbb26-65e5-4fd5-930a-f86ea85df33f"
      },
      "execution_count": 7,
      "outputs": [
        {
          "output_type": "stream",
          "name": "stdout",
          "text": [
            "Random Forest Accuracy: 0.9997241785991127\n",
            "Random Forest Model Classification Report:\n",
            "              precision    recall  f1-score   support\n",
            "\n",
            "           0       1.00      1.00      1.00     52705\n",
            "           1       1.00      1.00      1.00     52517\n",
            "           2       1.00      1.00      1.00     52703\n",
            "           3       1.00      1.00      1.00     52356\n",
            "\n",
            "    accuracy                           1.00    210281\n",
            "   macro avg       1.00      1.00      1.00    210281\n",
            "weighted avg       1.00      1.00      1.00    210281\n",
            "\n"
          ]
        }
      ]
    },
    {
      "cell_type": "code",
      "source": [
        "from tensorflow.keras.utils import to_categorical\n",
        "# Bi-LSTM model\n",
        "lstm_model = Sequential()\n",
        "lstm_model.add(Bidirectional(LSTM(64, return_sequences=True), input_shape=(X_train.shape[1], 1)))\n",
        "lstm_model.add(Dropout(0.2))\n",
        "lstm_model.add(Bidirectional(LSTM(64)))\n",
        "lstm_model.add(Dropout(0.2))\n",
        "lstm_model.add(Dense(4, activation='softmax'))\n",
        "lstm_model.compile(loss='categorical_crossentropy', optimizer='adam', metrics=['accuracy'])\n",
        "lstm_model.summary()\n",
        "\n",
        "# Convert labels to one-hot encoded vectors\n",
        "num_classes = len(np.unique(y))\n",
        "y_train_encoded = to_categorical(y_train, num_classes)\n",
        "y_test_encoded = to_categorical(y_test, num_classes)\n",
        "\n",
        "lstm_model.fit(X_train, y_train_encoded, epochs=10, batch_size=64, validation_data=(X_test, y_test_encoded), verbose=1)\n",
        "\n",
        "##y_pred_lstm = lstm_model.predict_classes(X_test)\n",
        "y_pred_lstm_prob = lstm_model.predict(X_test)\n",
        "y_pred_lstm = np.argmax(y_pred_lstm_prob, axis=1)\n",
        "\n",
        "# Calculate accuracy for Bi-LSTM model\n",
        "accuracy_lstm = accuracy_score(y_test, y_pred_lstm)\n",
        "print(\"Bi-LSTM Accuracy:\", accuracy_lstm)\n",
        "\n",
        "# Evaluate Bi-LSTM model\n",
        "lstm_report = classification_report(y_test, y_pred_lstm)\n",
        "print(\"Bi-LSTM Model Classification Report:\")\n",
        "print(lstm_report)"
      ],
      "metadata": {
        "colab": {
          "base_uri": "https://localhost:8080/"
        },
        "id": "yNfpzt9a2vLr",
        "outputId": "05936de1-4a2e-4405-b04f-e47c37d401cf"
      },
      "execution_count": 8,
      "outputs": [
        {
          "output_type": "stream",
          "name": "stdout",
          "text": [
            "Model: \"sequential\"\n",
            "_________________________________________________________________\n",
            " Layer (type)                Output Shape              Param #   \n",
            "=================================================================\n",
            " bidirectional (Bidirectiona  (None, 17, 128)          33792     \n",
            " l)                                                              \n",
            "                                                                 \n",
            " dropout (Dropout)           (None, 17, 128)           0         \n",
            "                                                                 \n",
            " bidirectional_1 (Bidirectio  (None, 128)              98816     \n",
            " nal)                                                            \n",
            "                                                                 \n",
            " dropout_1 (Dropout)         (None, 128)               0         \n",
            "                                                                 \n",
            " dense (Dense)               (None, 4)                 516       \n",
            "                                                                 \n",
            "=================================================================\n",
            "Total params: 133,124\n",
            "Trainable params: 133,124\n",
            "Non-trainable params: 0\n",
            "_________________________________________________________________\n",
            "Epoch 1/10\n",
            "13143/13143 [==============================] - 1112s 84ms/step - loss: 0.2441 - accuracy: 0.9027 - val_loss: 0.1481 - val_accuracy: 0.9432\n",
            "Epoch 2/10\n",
            "13143/13143 [==============================] - 1089s 83ms/step - loss: 0.1335 - accuracy: 0.9510 - val_loss: 0.0862 - val_accuracy: 0.9683\n",
            "Epoch 3/10\n",
            "13143/13143 [==============================] - 1099s 84ms/step - loss: 0.1093 - accuracy: 0.9606 - val_loss: 0.0961 - val_accuracy: 0.9691\n",
            "Epoch 4/10\n",
            "13143/13143 [==============================] - 1097s 83ms/step - loss: 0.0954 - accuracy: 0.9662 - val_loss: 0.0611 - val_accuracy: 0.9818\n",
            "Epoch 5/10\n",
            "13143/13143 [==============================] - 1092s 83ms/step - loss: 0.0816 - accuracy: 0.9713 - val_loss: 0.0645 - val_accuracy: 0.9756\n",
            "Epoch 6/10\n",
            "13143/13143 [==============================] - 1098s 84ms/step - loss: 0.0807 - accuracy: 0.9722 - val_loss: 0.0566 - val_accuracy: 0.9808\n",
            "Epoch 7/10\n",
            "13143/13143 [==============================] - 1089s 83ms/step - loss: 0.0732 - accuracy: 0.9747 - val_loss: 0.0494 - val_accuracy: 0.9832\n",
            "Epoch 8/10\n",
            "13143/13143 [==============================] - 1080s 82ms/step - loss: 0.0678 - accuracy: 0.9764 - val_loss: 0.0299 - val_accuracy: 0.9889\n",
            "Epoch 9/10\n",
            "13143/13143 [==============================] - 1094s 83ms/step - loss: 0.0664 - accuracy: 0.9768 - val_loss: 0.0504 - val_accuracy: 0.9798\n",
            "Epoch 10/10\n",
            "13143/13143 [==============================] - 1074s 82ms/step - loss: 0.0630 - accuracy: 0.9783 - val_loss: 0.1630 - val_accuracy: 0.9554\n",
            "6572/6572 [==============================] - 87s 13ms/step\n",
            "Bi-LSTM Accuracy: 0.9554025328013468\n",
            "Bi-LSTM Model Classification Report:\n",
            "              precision    recall  f1-score   support\n",
            "\n",
            "           0       0.91      0.96      0.94     52705\n",
            "           1       0.95      0.89      0.92     52517\n",
            "           2       0.98      1.00      0.99     52703\n",
            "           3       0.98      0.97      0.97     52356\n",
            "\n",
            "    accuracy                           0.96    210281\n",
            "   macro avg       0.96      0.96      0.96    210281\n",
            "weighted avg       0.96      0.96      0.96    210281\n",
            "\n"
          ]
        }
      ]
    },
    {
      "cell_type": "code",
      "source": [
        "# Combine Random Forest and Bi-LSTM predictions\n",
        "combined_pred = np.concatenate((y_pred_rf.reshape(-1, 1), y_pred_lstm.reshape(-1, 1)), axis=1)\n",
        "y_pred_combined = [np.bincount(row).argmax() for row in combined_pred]\n",
        "\n",
        "# Calculate accuracy for the combined model\n",
        "accuracy_combined = accuracy_score(y_test, y_pred_combined)\n",
        "print(\"Combined Model Accuracy:\", accuracy_combined)\n",
        "\n",
        "# Evaluate the combined model\n",
        "combined_report = classification_report(y_test, y_pred_combined)\n",
        "print(\"Combined Model Classification Report:\")\n",
        "print(combined_report)"
      ],
      "metadata": {
        "colab": {
          "base_uri": "https://localhost:8080/"
        },
        "id": "2AGftD562vIP",
        "outputId": "ae610afb-f2e8-452b-ac24-a726e7ff58cf"
      },
      "execution_count": 9,
      "outputs": [
        {
          "output_type": "stream",
          "name": "stdout",
          "text": [
            "Combined Model Accuracy: 0.9701161778762704\n",
            "Combined Model Classification Report:\n",
            "              precision    recall  f1-score   support\n",
            "\n",
            "           0       0.92      1.00      0.96     52705\n",
            "           1       0.98      0.91      0.94     52517\n",
            "           2       0.99      1.00      0.99     52703\n",
            "           3       1.00      0.97      0.99     52356\n",
            "\n",
            "    accuracy                           0.97    210281\n",
            "   macro avg       0.97      0.97      0.97    210281\n",
            "weighted avg       0.97      0.97      0.97    210281\n",
            "\n"
          ]
        }
      ]
    }
  ]
}