{
  "nbformat": 4,
  "nbformat_minor": 0,
  "metadata": {
    "colab": {
      "provenance": [],
      "gpuType": "V28",
      "machine_shape": "hm",
      "authorship_tag": "ABX9TyPtZ9g1G/4E1NwytopKMcGH",
      "include_colab_link": true
    },
    "kernelspec": {
      "name": "python3",
      "display_name": "Python 3"
    },
    "language_info": {
      "name": "python"
    },
    "accelerator": "TPU"
  },
  "cells": [
    {
      "cell_type": "markdown",
      "metadata": {
        "id": "view-in-github",
        "colab_type": "text"
      },
      "source": [
        "<a href=\"https://colab.research.google.com/github/sankeawthong/Project-1-Lita-Chatbot/blob/main/%5B20241215%5D%20Hybrid%20of%20LR-Bi-LSTM%20for%2010%20class%20without%20FGSM%20on%20NF-ToN-IoT.ipynb\" target=\"_parent\"><img src=\"https://colab.research.google.com/assets/colab-badge.svg\" alt=\"Open In Colab\"/></a>"
      ]
    },
    {
      "cell_type": "markdown",
      "source": [
        "### **Hybrid LR-Bi-LSTM for 10 class classifications based on UNSW-NB15 dataset**"
      ],
      "metadata": {
        "id": "15jGYmT_0lrn"
      }
    },
    {
      "cell_type": "code",
      "source": [
        "import pandas as pd\n",
        "import numpy as np\n",
        "from sklearn.linear_model import LogisticRegression\n",
        "from sklearn.model_selection import train_test_split\n",
        "from sklearn.metrics import accuracy_score, classification_report\n",
        "from sklearn.preprocessing import LabelEncoder, StandardScaler\n",
        "from keras.models import Sequential\n",
        "from keras.layers import Dense, LSTM, Bidirectional, Dropout, Flatten\n",
        "from sklearn.metrics import accuracy_score, classification_report, confusion_matrix\n",
        "from keras.utils import to_categorical"
      ],
      "metadata": {
        "id": "JLFmDI9C0qRo"
      },
      "execution_count": 1,
      "outputs": []
    },
    {
      "cell_type": "code",
      "source": [
        "# Load dataset\n",
        "dataset = pd.read_csv(\"Dataset_NF-ToN-IoT.csv\")\n",
        "\n",
        "# Preprocessing: Handle missing values (if any)\n",
        "dataset = dataset.dropna() # Remove missing values"
      ],
      "metadata": {
        "id": "QYXmvq660ron"
      },
      "execution_count": 2,
      "outputs": []
    },
    {
      "cell_type": "code",
      "source": [
        "dataset"
      ],
      "metadata": {
        "colab": {
          "base_uri": "https://localhost:8080/",
          "height": 424
        },
        "id": "krzBgQpOU-1M",
        "outputId": "17f1f98c-316c-4809-a685-e4de5e68c762"
      },
      "execution_count": 3,
      "outputs": [
        {
          "output_type": "execute_result",
          "data": {
            "text/plain": [
              "         L4_SRC_PORT  L4_DST_PORT  PROTOCOL  L7_PROTO  IN_BYTES  OUT_BYTES  \\\n",
              "0              63318          443         6     91.00       181        165   \n",
              "1              57442        15600        17      0.00        63          0   \n",
              "2              57452        15600        17      0.00        63          0   \n",
              "3                138          138        17     10.16       472          0   \n",
              "4              51989        15600        17      0.00        63          0   \n",
              "...              ...          ...       ...       ...       ...        ...   \n",
              "1048570          443        54560         6     91.00        52         52   \n",
              "1048571          443        54594         6     91.00        52         52   \n",
              "1048572          443        54582         6     91.00        52         52   \n",
              "1048573          443        54592         6     91.00        52         52   \n",
              "1048574          443        54530         6     91.00        52         52   \n",
              "\n",
              "         IN_PKTS  OUT_PKTS  TCP_FLAGS  FLOW_DURATION_MILLISECONDS  Label  \\\n",
              "0              2         1         24                         327      0   \n",
              "1              1         0          0                           0      0   \n",
              "2              1         0          0                           0      0   \n",
              "3              2         0          0                           0      0   \n",
              "4              1         0          0                           0      0   \n",
              "...          ...       ...        ...                         ...    ...   \n",
              "1048570        1         1         17                          15      0   \n",
              "1048571        1         1         17                          11      0   \n",
              "1048572        1         1         17                          11      0   \n",
              "1048573        1         1         17                          11      0   \n",
              "1048574        1         1         17                          11      0   \n",
              "\n",
              "         Attack  Class  \n",
              "0        Benign      0  \n",
              "1        Benign      0  \n",
              "2        Benign      0  \n",
              "3        Benign      0  \n",
              "4        Benign      0  \n",
              "...         ...    ...  \n",
              "1048570  Benign      0  \n",
              "1048571  Benign      0  \n",
              "1048572  Benign      0  \n",
              "1048573  Benign      0  \n",
              "1048574  Benign      0  \n",
              "\n",
              "[1048575 rows x 13 columns]"
            ],
            "text/html": [
              "\n",
              "  <div id=\"df-bb2d36c8-cbdb-4eda-92bb-67558f37a79f\" class=\"colab-df-container\">\n",
              "    <div>\n",
              "<style scoped>\n",
              "    .dataframe tbody tr th:only-of-type {\n",
              "        vertical-align: middle;\n",
              "    }\n",
              "\n",
              "    .dataframe tbody tr th {\n",
              "        vertical-align: top;\n",
              "    }\n",
              "\n",
              "    .dataframe thead th {\n",
              "        text-align: right;\n",
              "    }\n",
              "</style>\n",
              "<table border=\"1\" class=\"dataframe\">\n",
              "  <thead>\n",
              "    <tr style=\"text-align: right;\">\n",
              "      <th></th>\n",
              "      <th>L4_SRC_PORT</th>\n",
              "      <th>L4_DST_PORT</th>\n",
              "      <th>PROTOCOL</th>\n",
              "      <th>L7_PROTO</th>\n",
              "      <th>IN_BYTES</th>\n",
              "      <th>OUT_BYTES</th>\n",
              "      <th>IN_PKTS</th>\n",
              "      <th>OUT_PKTS</th>\n",
              "      <th>TCP_FLAGS</th>\n",
              "      <th>FLOW_DURATION_MILLISECONDS</th>\n",
              "      <th>Label</th>\n",
              "      <th>Attack</th>\n",
              "      <th>Class</th>\n",
              "    </tr>\n",
              "  </thead>\n",
              "  <tbody>\n",
              "    <tr>\n",
              "      <th>0</th>\n",
              "      <td>63318</td>\n",
              "      <td>443</td>\n",
              "      <td>6</td>\n",
              "      <td>91.00</td>\n",
              "      <td>181</td>\n",
              "      <td>165</td>\n",
              "      <td>2</td>\n",
              "      <td>1</td>\n",
              "      <td>24</td>\n",
              "      <td>327</td>\n",
              "      <td>0</td>\n",
              "      <td>Benign</td>\n",
              "      <td>0</td>\n",
              "    </tr>\n",
              "    <tr>\n",
              "      <th>1</th>\n",
              "      <td>57442</td>\n",
              "      <td>15600</td>\n",
              "      <td>17</td>\n",
              "      <td>0.00</td>\n",
              "      <td>63</td>\n",
              "      <td>0</td>\n",
              "      <td>1</td>\n",
              "      <td>0</td>\n",
              "      <td>0</td>\n",
              "      <td>0</td>\n",
              "      <td>0</td>\n",
              "      <td>Benign</td>\n",
              "      <td>0</td>\n",
              "    </tr>\n",
              "    <tr>\n",
              "      <th>2</th>\n",
              "      <td>57452</td>\n",
              "      <td>15600</td>\n",
              "      <td>17</td>\n",
              "      <td>0.00</td>\n",
              "      <td>63</td>\n",
              "      <td>0</td>\n",
              "      <td>1</td>\n",
              "      <td>0</td>\n",
              "      <td>0</td>\n",
              "      <td>0</td>\n",
              "      <td>0</td>\n",
              "      <td>Benign</td>\n",
              "      <td>0</td>\n",
              "    </tr>\n",
              "    <tr>\n",
              "      <th>3</th>\n",
              "      <td>138</td>\n",
              "      <td>138</td>\n",
              "      <td>17</td>\n",
              "      <td>10.16</td>\n",
              "      <td>472</td>\n",
              "      <td>0</td>\n",
              "      <td>2</td>\n",
              "      <td>0</td>\n",
              "      <td>0</td>\n",
              "      <td>0</td>\n",
              "      <td>0</td>\n",
              "      <td>Benign</td>\n",
              "      <td>0</td>\n",
              "    </tr>\n",
              "    <tr>\n",
              "      <th>4</th>\n",
              "      <td>51989</td>\n",
              "      <td>15600</td>\n",
              "      <td>17</td>\n",
              "      <td>0.00</td>\n",
              "      <td>63</td>\n",
              "      <td>0</td>\n",
              "      <td>1</td>\n",
              "      <td>0</td>\n",
              "      <td>0</td>\n",
              "      <td>0</td>\n",
              "      <td>0</td>\n",
              "      <td>Benign</td>\n",
              "      <td>0</td>\n",
              "    </tr>\n",
              "    <tr>\n",
              "      <th>...</th>\n",
              "      <td>...</td>\n",
              "      <td>...</td>\n",
              "      <td>...</td>\n",
              "      <td>...</td>\n",
              "      <td>...</td>\n",
              "      <td>...</td>\n",
              "      <td>...</td>\n",
              "      <td>...</td>\n",
              "      <td>...</td>\n",
              "      <td>...</td>\n",
              "      <td>...</td>\n",
              "      <td>...</td>\n",
              "      <td>...</td>\n",
              "    </tr>\n",
              "    <tr>\n",
              "      <th>1048570</th>\n",
              "      <td>443</td>\n",
              "      <td>54560</td>\n",
              "      <td>6</td>\n",
              "      <td>91.00</td>\n",
              "      <td>52</td>\n",
              "      <td>52</td>\n",
              "      <td>1</td>\n",
              "      <td>1</td>\n",
              "      <td>17</td>\n",
              "      <td>15</td>\n",
              "      <td>0</td>\n",
              "      <td>Benign</td>\n",
              "      <td>0</td>\n",
              "    </tr>\n",
              "    <tr>\n",
              "      <th>1048571</th>\n",
              "      <td>443</td>\n",
              "      <td>54594</td>\n",
              "      <td>6</td>\n",
              "      <td>91.00</td>\n",
              "      <td>52</td>\n",
              "      <td>52</td>\n",
              "      <td>1</td>\n",
              "      <td>1</td>\n",
              "      <td>17</td>\n",
              "      <td>11</td>\n",
              "      <td>0</td>\n",
              "      <td>Benign</td>\n",
              "      <td>0</td>\n",
              "    </tr>\n",
              "    <tr>\n",
              "      <th>1048572</th>\n",
              "      <td>443</td>\n",
              "      <td>54582</td>\n",
              "      <td>6</td>\n",
              "      <td>91.00</td>\n",
              "      <td>52</td>\n",
              "      <td>52</td>\n",
              "      <td>1</td>\n",
              "      <td>1</td>\n",
              "      <td>17</td>\n",
              "      <td>11</td>\n",
              "      <td>0</td>\n",
              "      <td>Benign</td>\n",
              "      <td>0</td>\n",
              "    </tr>\n",
              "    <tr>\n",
              "      <th>1048573</th>\n",
              "      <td>443</td>\n",
              "      <td>54592</td>\n",
              "      <td>6</td>\n",
              "      <td>91.00</td>\n",
              "      <td>52</td>\n",
              "      <td>52</td>\n",
              "      <td>1</td>\n",
              "      <td>1</td>\n",
              "      <td>17</td>\n",
              "      <td>11</td>\n",
              "      <td>0</td>\n",
              "      <td>Benign</td>\n",
              "      <td>0</td>\n",
              "    </tr>\n",
              "    <tr>\n",
              "      <th>1048574</th>\n",
              "      <td>443</td>\n",
              "      <td>54530</td>\n",
              "      <td>6</td>\n",
              "      <td>91.00</td>\n",
              "      <td>52</td>\n",
              "      <td>52</td>\n",
              "      <td>1</td>\n",
              "      <td>1</td>\n",
              "      <td>17</td>\n",
              "      <td>11</td>\n",
              "      <td>0</td>\n",
              "      <td>Benign</td>\n",
              "      <td>0</td>\n",
              "    </tr>\n",
              "  </tbody>\n",
              "</table>\n",
              "<p>1048575 rows × 13 columns</p>\n",
              "</div>\n",
              "    <div class=\"colab-df-buttons\">\n",
              "\n",
              "  <div class=\"colab-df-container\">\n",
              "    <button class=\"colab-df-convert\" onclick=\"convertToInteractive('df-bb2d36c8-cbdb-4eda-92bb-67558f37a79f')\"\n",
              "            title=\"Convert this dataframe to an interactive table.\"\n",
              "            style=\"display:none;\">\n",
              "\n",
              "  <svg xmlns=\"http://www.w3.org/2000/svg\" height=\"24px\" viewBox=\"0 -960 960 960\">\n",
              "    <path d=\"M120-120v-720h720v720H120Zm60-500h600v-160H180v160Zm220 220h160v-160H400v160Zm0 220h160v-160H400v160ZM180-400h160v-160H180v160Zm440 0h160v-160H620v160ZM180-180h160v-160H180v160Zm440 0h160v-160H620v160Z\"/>\n",
              "  </svg>\n",
              "    </button>\n",
              "\n",
              "  <style>\n",
              "    .colab-df-container {\n",
              "      display:flex;\n",
              "      gap: 12px;\n",
              "    }\n",
              "\n",
              "    .colab-df-convert {\n",
              "      background-color: #E8F0FE;\n",
              "      border: none;\n",
              "      border-radius: 50%;\n",
              "      cursor: pointer;\n",
              "      display: none;\n",
              "      fill: #1967D2;\n",
              "      height: 32px;\n",
              "      padding: 0 0 0 0;\n",
              "      width: 32px;\n",
              "    }\n",
              "\n",
              "    .colab-df-convert:hover {\n",
              "      background-color: #E2EBFA;\n",
              "      box-shadow: 0px 1px 2px rgba(60, 64, 67, 0.3), 0px 1px 3px 1px rgba(60, 64, 67, 0.15);\n",
              "      fill: #174EA6;\n",
              "    }\n",
              "\n",
              "    .colab-df-buttons div {\n",
              "      margin-bottom: 4px;\n",
              "    }\n",
              "\n",
              "    [theme=dark] .colab-df-convert {\n",
              "      background-color: #3B4455;\n",
              "      fill: #D2E3FC;\n",
              "    }\n",
              "\n",
              "    [theme=dark] .colab-df-convert:hover {\n",
              "      background-color: #434B5C;\n",
              "      box-shadow: 0px 1px 3px 1px rgba(0, 0, 0, 0.15);\n",
              "      filter: drop-shadow(0px 1px 2px rgba(0, 0, 0, 0.3));\n",
              "      fill: #FFFFFF;\n",
              "    }\n",
              "  </style>\n",
              "\n",
              "    <script>\n",
              "      const buttonEl =\n",
              "        document.querySelector('#df-bb2d36c8-cbdb-4eda-92bb-67558f37a79f button.colab-df-convert');\n",
              "      buttonEl.style.display =\n",
              "        google.colab.kernel.accessAllowed ? 'block' : 'none';\n",
              "\n",
              "      async function convertToInteractive(key) {\n",
              "        const element = document.querySelector('#df-bb2d36c8-cbdb-4eda-92bb-67558f37a79f');\n",
              "        const dataTable =\n",
              "          await google.colab.kernel.invokeFunction('convertToInteractive',\n",
              "                                                    [key], {});\n",
              "        if (!dataTable) return;\n",
              "\n",
              "        const docLinkHtml = 'Like what you see? Visit the ' +\n",
              "          '<a target=\"_blank\" href=https://colab.research.google.com/notebooks/data_table.ipynb>data table notebook</a>'\n",
              "          + ' to learn more about interactive tables.';\n",
              "        element.innerHTML = '';\n",
              "        dataTable['output_type'] = 'display_data';\n",
              "        await google.colab.output.renderOutput(dataTable, element);\n",
              "        const docLink = document.createElement('div');\n",
              "        docLink.innerHTML = docLinkHtml;\n",
              "        element.appendChild(docLink);\n",
              "      }\n",
              "    </script>\n",
              "  </div>\n",
              "\n",
              "\n",
              "<div id=\"df-cc93c85a-e51e-4ff9-a4ed-12df219f2c2a\">\n",
              "  <button class=\"colab-df-quickchart\" onclick=\"quickchart('df-cc93c85a-e51e-4ff9-a4ed-12df219f2c2a')\"\n",
              "            title=\"Suggest charts\"\n",
              "            style=\"display:none;\">\n",
              "\n",
              "<svg xmlns=\"http://www.w3.org/2000/svg\" height=\"24px\"viewBox=\"0 0 24 24\"\n",
              "     width=\"24px\">\n",
              "    <g>\n",
              "        <path d=\"M19 3H5c-1.1 0-2 .9-2 2v14c0 1.1.9 2 2 2h14c1.1 0 2-.9 2-2V5c0-1.1-.9-2-2-2zM9 17H7v-7h2v7zm4 0h-2V7h2v10zm4 0h-2v-4h2v4z\"/>\n",
              "    </g>\n",
              "</svg>\n",
              "  </button>\n",
              "\n",
              "<style>\n",
              "  .colab-df-quickchart {\n",
              "      --bg-color: #E8F0FE;\n",
              "      --fill-color: #1967D2;\n",
              "      --hover-bg-color: #E2EBFA;\n",
              "      --hover-fill-color: #174EA6;\n",
              "      --disabled-fill-color: #AAA;\n",
              "      --disabled-bg-color: #DDD;\n",
              "  }\n",
              "\n",
              "  [theme=dark] .colab-df-quickchart {\n",
              "      --bg-color: #3B4455;\n",
              "      --fill-color: #D2E3FC;\n",
              "      --hover-bg-color: #434B5C;\n",
              "      --hover-fill-color: #FFFFFF;\n",
              "      --disabled-bg-color: #3B4455;\n",
              "      --disabled-fill-color: #666;\n",
              "  }\n",
              "\n",
              "  .colab-df-quickchart {\n",
              "    background-color: var(--bg-color);\n",
              "    border: none;\n",
              "    border-radius: 50%;\n",
              "    cursor: pointer;\n",
              "    display: none;\n",
              "    fill: var(--fill-color);\n",
              "    height: 32px;\n",
              "    padding: 0;\n",
              "    width: 32px;\n",
              "  }\n",
              "\n",
              "  .colab-df-quickchart:hover {\n",
              "    background-color: var(--hover-bg-color);\n",
              "    box-shadow: 0 1px 2px rgba(60, 64, 67, 0.3), 0 1px 3px 1px rgba(60, 64, 67, 0.15);\n",
              "    fill: var(--button-hover-fill-color);\n",
              "  }\n",
              "\n",
              "  .colab-df-quickchart-complete:disabled,\n",
              "  .colab-df-quickchart-complete:disabled:hover {\n",
              "    background-color: var(--disabled-bg-color);\n",
              "    fill: var(--disabled-fill-color);\n",
              "    box-shadow: none;\n",
              "  }\n",
              "\n",
              "  .colab-df-spinner {\n",
              "    border: 2px solid var(--fill-color);\n",
              "    border-color: transparent;\n",
              "    border-bottom-color: var(--fill-color);\n",
              "    animation:\n",
              "      spin 1s steps(1) infinite;\n",
              "  }\n",
              "\n",
              "  @keyframes spin {\n",
              "    0% {\n",
              "      border-color: transparent;\n",
              "      border-bottom-color: var(--fill-color);\n",
              "      border-left-color: var(--fill-color);\n",
              "    }\n",
              "    20% {\n",
              "      border-color: transparent;\n",
              "      border-left-color: var(--fill-color);\n",
              "      border-top-color: var(--fill-color);\n",
              "    }\n",
              "    30% {\n",
              "      border-color: transparent;\n",
              "      border-left-color: var(--fill-color);\n",
              "      border-top-color: var(--fill-color);\n",
              "      border-right-color: var(--fill-color);\n",
              "    }\n",
              "    40% {\n",
              "      border-color: transparent;\n",
              "      border-right-color: var(--fill-color);\n",
              "      border-top-color: var(--fill-color);\n",
              "    }\n",
              "    60% {\n",
              "      border-color: transparent;\n",
              "      border-right-color: var(--fill-color);\n",
              "    }\n",
              "    80% {\n",
              "      border-color: transparent;\n",
              "      border-right-color: var(--fill-color);\n",
              "      border-bottom-color: var(--fill-color);\n",
              "    }\n",
              "    90% {\n",
              "      border-color: transparent;\n",
              "      border-bottom-color: var(--fill-color);\n",
              "    }\n",
              "  }\n",
              "</style>\n",
              "\n",
              "  <script>\n",
              "    async function quickchart(key) {\n",
              "      const quickchartButtonEl =\n",
              "        document.querySelector('#' + key + ' button');\n",
              "      quickchartButtonEl.disabled = true;  // To prevent multiple clicks.\n",
              "      quickchartButtonEl.classList.add('colab-df-spinner');\n",
              "      try {\n",
              "        const charts = await google.colab.kernel.invokeFunction(\n",
              "            'suggestCharts', [key], {});\n",
              "      } catch (error) {\n",
              "        console.error('Error during call to suggestCharts:', error);\n",
              "      }\n",
              "      quickchartButtonEl.classList.remove('colab-df-spinner');\n",
              "      quickchartButtonEl.classList.add('colab-df-quickchart-complete');\n",
              "    }\n",
              "    (() => {\n",
              "      let quickchartButtonEl =\n",
              "        document.querySelector('#df-cc93c85a-e51e-4ff9-a4ed-12df219f2c2a button');\n",
              "      quickchartButtonEl.style.display =\n",
              "        google.colab.kernel.accessAllowed ? 'block' : 'none';\n",
              "    })();\n",
              "  </script>\n",
              "</div>\n",
              "\n",
              "  <div id=\"id_d513507f-2421-4021-bfdb-e4ec48e9c1e9\">\n",
              "    <style>\n",
              "      .colab-df-generate {\n",
              "        background-color: #E8F0FE;\n",
              "        border: none;\n",
              "        border-radius: 50%;\n",
              "        cursor: pointer;\n",
              "        display: none;\n",
              "        fill: #1967D2;\n",
              "        height: 32px;\n",
              "        padding: 0 0 0 0;\n",
              "        width: 32px;\n",
              "      }\n",
              "\n",
              "      .colab-df-generate:hover {\n",
              "        background-color: #E2EBFA;\n",
              "        box-shadow: 0px 1px 2px rgba(60, 64, 67, 0.3), 0px 1px 3px 1px rgba(60, 64, 67, 0.15);\n",
              "        fill: #174EA6;\n",
              "      }\n",
              "\n",
              "      [theme=dark] .colab-df-generate {\n",
              "        background-color: #3B4455;\n",
              "        fill: #D2E3FC;\n",
              "      }\n",
              "\n",
              "      [theme=dark] .colab-df-generate:hover {\n",
              "        background-color: #434B5C;\n",
              "        box-shadow: 0px 1px 3px 1px rgba(0, 0, 0, 0.15);\n",
              "        filter: drop-shadow(0px 1px 2px rgba(0, 0, 0, 0.3));\n",
              "        fill: #FFFFFF;\n",
              "      }\n",
              "    </style>\n",
              "    <button class=\"colab-df-generate\" onclick=\"generateWithVariable('dataset')\"\n",
              "            title=\"Generate code using this dataframe.\"\n",
              "            style=\"display:none;\">\n",
              "\n",
              "  <svg xmlns=\"http://www.w3.org/2000/svg\" height=\"24px\"viewBox=\"0 0 24 24\"\n",
              "       width=\"24px\">\n",
              "    <path d=\"M7,19H8.4L18.45,9,17,7.55,7,17.6ZM5,21V16.75L18.45,3.32a2,2,0,0,1,2.83,0l1.4,1.43a1.91,1.91,0,0,1,.58,1.4,1.91,1.91,0,0,1-.58,1.4L9.25,21ZM18.45,9,17,7.55Zm-12,3A5.31,5.31,0,0,0,4.9,8.1,5.31,5.31,0,0,0,1,6.5,5.31,5.31,0,0,0,4.9,4.9,5.31,5.31,0,0,0,6.5,1,5.31,5.31,0,0,0,8.1,4.9,5.31,5.31,0,0,0,12,6.5,5.46,5.46,0,0,0,6.5,12Z\"/>\n",
              "  </svg>\n",
              "    </button>\n",
              "    <script>\n",
              "      (() => {\n",
              "      const buttonEl =\n",
              "        document.querySelector('#id_d513507f-2421-4021-bfdb-e4ec48e9c1e9 button.colab-df-generate');\n",
              "      buttonEl.style.display =\n",
              "        google.colab.kernel.accessAllowed ? 'block' : 'none';\n",
              "\n",
              "      buttonEl.onclick = () => {\n",
              "        google.colab.notebook.generateWithVariable('dataset');\n",
              "      }\n",
              "      })();\n",
              "    </script>\n",
              "  </div>\n",
              "\n",
              "    </div>\n",
              "  </div>\n"
            ],
            "application/vnd.google.colaboratory.intrinsic+json": {
              "type": "dataframe",
              "variable_name": "dataset"
            }
          },
          "metadata": {},
          "execution_count": 3
        }
      ]
    },
    {
      "cell_type": "markdown",
      "source": [
        "### **Data Preprocessing**"
      ],
      "metadata": {
        "id": "BPxDywqB03Gl"
      }
    },
    {
      "cell_type": "code",
      "source": [
        "# Encode non-numeric columns (if any)\n",
        "for column in dataset.columns:\n",
        "    if dataset[column].dtype == 'object':  # Identify categorical columns\n",
        "        dataset[column] = LabelEncoder().fit_transform(dataset[column])\n",
        "\n",
        "# Separate features (X) and target (y)\n",
        "X = dataset.drop(['Class'], axis=1)  # Assuming 'Class' is the target column\n",
        "y = dataset['Class']"
      ],
      "metadata": {
        "id": "E4YGBJ3j0u0B"
      },
      "execution_count": 4,
      "outputs": []
    },
    {
      "cell_type": "code",
      "source": [
        "print(\"Original Class Distribution:\", np.bincount(y))"
      ],
      "metadata": {
        "id": "-0ehkoUn5uyO",
        "outputId": "6b6c065c-fc0d-4895-9ac3-ca5ea448eb76",
        "colab": {
          "base_uri": "https://localhost:8080/"
        }
      },
      "execution_count": 5,
      "outputs": [
        {
          "output_type": "stream",
          "name": "stdout",
          "text": [
            "Original Class Distribution: [164866  17243 149605  10732 453506   1249 135353    142  15966  99913]\n"
          ]
        }
      ]
    },
    {
      "cell_type": "code",
      "source": [
        "# Standardize the features\n",
        "scaler = StandardScaler()\n",
        "X = scaler.fit_transform(X)"
      ],
      "metadata": {
        "id": "7pwiLsc80wit"
      },
      "execution_count": 6,
      "outputs": []
    },
    {
      "cell_type": "code",
      "source": [
        "!pip install -U imbalanced-learn"
      ],
      "metadata": {
        "id": "JXbRD2dOH7Yz",
        "outputId": "065e3157-297d-482f-aba7-122830557b9c",
        "colab": {
          "base_uri": "https://localhost:8080/"
        }
      },
      "execution_count": 7,
      "outputs": [
        {
          "output_type": "stream",
          "name": "stdout",
          "text": [
            "Collecting imbalanced-learn\n",
            "  Downloading imbalanced_learn-0.12.4-py3-none-any.whl.metadata (8.3 kB)\n",
            "Requirement already satisfied: numpy>=1.17.3 in /usr/local/lib/python3.10/dist-packages (from imbalanced-learn) (1.26.4)\n",
            "Requirement already satisfied: scipy>=1.5.0 in /usr/local/lib/python3.10/dist-packages (from imbalanced-learn) (1.13.1)\n",
            "Requirement already satisfied: scikit-learn>=1.0.2 in /usr/local/lib/python3.10/dist-packages (from imbalanced-learn) (1.5.2)\n",
            "Requirement already satisfied: joblib>=1.1.1 in /usr/local/lib/python3.10/dist-packages (from imbalanced-learn) (1.4.2)\n",
            "Requirement already satisfied: threadpoolctl>=2.0.0 in /usr/local/lib/python3.10/dist-packages (from imbalanced-learn) (3.5.0)\n",
            "Downloading imbalanced_learn-0.12.4-py3-none-any.whl (258 kB)\n",
            "\u001b[2K   \u001b[90m━━━━━━━━━━━━━━━━━━━━━━━━━━━━━━━━━━━━━━━━\u001b[0m \u001b[32m258.3/258.3 kB\u001b[0m \u001b[31m4.6 MB/s\u001b[0m eta \u001b[36m0:00:00\u001b[0m\n",
            "\u001b[?25hInstalling collected packages: imbalanced-learn\n",
            "Successfully installed imbalanced-learn-0.12.4\n"
          ]
        }
      ]
    },
    {
      "cell_type": "code",
      "source": [
        "from imblearn.over_sampling import SMOTE\n",
        "# Balance dataset using SMOTE\n",
        "smote = SMOTE(random_state=42)\n",
        "X, y = smote.fit_resample(X, y)\n",
        "\n",
        "# Verify the balanced dataset distribution\n",
        "print(\"Balanced Class Distribution:\", np.bincount(y))"
      ],
      "metadata": {
        "id": "fl4nuJ6TRAVb",
        "outputId": "908134e7-5b32-4302-e93f-cd22fcb4131e",
        "colab": {
          "base_uri": "https://localhost:8080/"
        }
      },
      "execution_count": 8,
      "outputs": [
        {
          "output_type": "stream",
          "name": "stdout",
          "text": [
            "Balanced Class Distribution: [453506 453506 453506 453506 453506 453506 453506 453506 453506 453506]\n"
          ]
        }
      ]
    },
    {
      "cell_type": "code",
      "source": [
        "# Train-test split\n",
        "X_train, X_test, y_train, y_test = train_test_split(X, y, test_size=0.2, random_state=42, stratify=y)"
      ],
      "metadata": {
        "id": "J_hiH1JR0xuT"
      },
      "execution_count": 9,
      "outputs": []
    },
    {
      "cell_type": "markdown",
      "source": [
        "### **Hybrid combination of LR-Bi-LSTM for 10 class classifications on UNSW-NB15**"
      ],
      "metadata": {
        "id": "lmcm5fIJ08G8"
      }
    },
    {
      "cell_type": "markdown",
      "source": [
        "LR model Standalone"
      ],
      "metadata": {
        "id": "jHYb1PmK6e75"
      }
    },
    {
      "cell_type": "code",
      "source": [
        "# Initialize and train the Logistic Regression model\n",
        "lr_model = LogisticRegression(multi_class='multinomial', solver='lbfgs', max_iter=800, random_state=42)\n",
        "lr_model.fit(X_train, y_train)\n",
        "\n",
        "# Make predictions\n",
        "y_pred = lr_model.predict(X_test)\n",
        "\n",
        "# Evaluate the model\n",
        "accuracy = accuracy_score(y_test, y_pred)\n",
        "print(\"Accuracy:\", accuracy)\n",
        "\n",
        "print(\"\\nClassification Report:\")\n",
        "print(classification_report(y_test, y_pred))\n",
        "\n",
        "#print(\"\\nConfusion Matrix:\")\n",
        "#print(confusion_matrix(y_test, y_pred))"
      ],
      "metadata": {
        "id": "BX1Mt_Im1GIG"
      },
      "execution_count": null,
      "outputs": []
    },
    {
      "cell_type": "markdown",
      "source": [
        "Hybrid model with using features results from LR model as Bi-LSTM input"
      ],
      "metadata": {
        "id": "mFK8S_cU6QPc"
      }
    },
    {
      "cell_type": "code",
      "source": [
        "from keras.utils import to_categorical\n",
        "\n",
        "# Initialize and train the Logistic Regression model\n",
        "lr_model = LogisticRegression(multi_class='multinomial', solver='lbfgs', max_iter=500, random_state=42)\n",
        "lr_model.fit(X_train, y_train)\n",
        "\n",
        "# Extract probabilities from LR model\n",
        "train_lr_features = lr_model.predict_proba(X_train)  # Features for Bi-LSTM from training data\n",
        "test_lr_features = lr_model.predict_proba(X_test)    # Features for Bi-LSTM from test data\n",
        "\n",
        "# Reshape LR features for Bi-LSTM input\n",
        "train_lr_features = np.expand_dims(train_lr_features, axis=1)\n",
        "test_lr_features = np.expand_dims(test_lr_features, axis=1)\n",
        "\n",
        "# Convert labels to one-hot encoding for Bi-LSTM\n",
        "y_train = to_categorical(y_train, num_classes=10)\n",
        "y_test = to_categorical(y_test, num_classes=10)"
      ],
      "metadata": {
        "colab": {
          "base_uri": "https://localhost:8080/"
        },
        "id": "q26NBkCIMRRW",
        "outputId": "41a6b4ba-82e5-4ea2-fc2e-18700c8ccaee"
      },
      "execution_count": 10,
      "outputs": [
        {
          "output_type": "stream",
          "name": "stderr",
          "text": [
            "/usr/local/lib/python3.10/dist-packages/sklearn/linear_model/_logistic.py:1247: FutureWarning: 'multi_class' was deprecated in version 1.5 and will be removed in 1.7. From then on, it will always use 'multinomial'. Leave it to its default value to avoid this warning.\n",
            "  warnings.warn(\n"
          ]
        }
      ]
    },
    {
      "cell_type": "code",
      "source": [
        "## Build the Bi-LSTM model\n",
        "\n",
        "#bilstm_model = Sequential()\n",
        "#bilstm_model.add(Bidirectional(LSTM(64, return_sequences=True), input_shape=(1, train_lr_features.shape[2])))\n",
        "#bilstm_model.add(Dropout(0.5))\n",
        "#bilstm_model.add(Bidirectional(LSTM(32)))\n",
        "#bilstm_model.add(Dropout(0.5))\n",
        "#bilstm_model.add(Dense(10, activation='softmax'))  # 10 classes\n",
        "\n",
        "#bilstm_model.compile(loss='categorical_crossentropy', optimizer='adam', metrics=['accuracy'])\n",
        "\n",
        "from keras.regularizers import l2\n",
        "\n",
        "bilstm_model = Sequential()\n",
        "bilstm_model.add(Bidirectional(LSTM(64, return_sequences=True, kernel_regularizer=l2(0.0001)), input_shape=(1, train_lr_features.shape[2])))\n",
        "bilstm_model.add(Dropout(0.2))\n",
        "bilstm_model.add(Bidirectional(LSTM(32, kernel_regularizer=l2(0.0001))))\n",
        "bilstm_model.add(Dropout(0.2))\n",
        "#bilstm_model.add(Bidirectional(LSTM(16, kernel_regularizer=l2(0.002))))\n",
        "#bilstm_model.add(Dropout(0.2))\n",
        "bilstm_model.add(Dense(10, activation='softmax', kernel_regularizer=l2(0.0001)))\n",
        "\n",
        "bilstm_model.compile(loss='categorical_crossentropy', optimizer='adam', metrics=['accuracy'])\n",
        "\n",
        "# Train the Bi-LSTM model\n",
        "history = bilstm_model.fit(train_lr_features, y_train, validation_split=0.2, epochs=50, batch_size=64, verbose=1)\n",
        "\n",
        "# Evaluate the hybrid model on the test set\n",
        "test_predictions = bilstm_model.predict(test_lr_features)\n",
        "test_predictions_labels = np.argmax(test_predictions, axis=1)\n",
        "true_labels = np.argmax(y_test, axis=1)\n",
        "\n",
        "# Performance metrics\n",
        "accuracy = accuracy_score(true_labels, test_predictions_labels)\n",
        "print(\"\\nHybrid Model Accuracy:\", accuracy)\n",
        "print(\"\\nClassification Report:\")\n",
        "print(classification_report(true_labels, test_predictions_labels))\n",
        "print(\"\\nConfusion Matrix:\")\n",
        "print(confusion_matrix(true_labels, test_predictions_labels))"
      ],
      "metadata": {
        "id": "_igNK4DhO9dK",
        "collapsed": true,
        "outputId": "130cada1-4a8f-4ac2-c683-eed43ba76b5d",
        "colab": {
          "base_uri": "https://localhost:8080/"
        }
      },
      "execution_count": 11,
      "outputs": [
        {
          "output_type": "stream",
          "name": "stdout",
          "text": [
            "Epoch 1/50\n",
            "45351/45351 [==============================] - 225s 5ms/step - loss: 0.0250 - accuracy: 0.9997 - val_loss: 0.0153 - val_accuracy: 0.9999\n",
            "Epoch 2/50\n",
            "45351/45351 [==============================] - 226s 5ms/step - loss: 0.0156 - accuracy: 0.9999 - val_loss: 0.0152 - val_accuracy: 0.9999\n",
            "Epoch 3/50\n",
            "45351/45351 [==============================] - 219s 5ms/step - loss: 0.0156 - accuracy: 0.9999 - val_loss: 0.0152 - val_accuracy: 0.9998\n",
            "Epoch 4/50\n",
            "45351/45351 [==============================] - 222s 5ms/step - loss: 0.0156 - accuracy: 0.9999 - val_loss: 0.0152 - val_accuracy: 0.9999\n",
            "Epoch 5/50\n",
            "45351/45351 [==============================] - 223s 5ms/step - loss: 0.0156 - accuracy: 0.9999 - val_loss: 0.0153 - val_accuracy: 0.9999\n",
            "Epoch 6/50\n",
            "45351/45351 [==============================] - 225s 5ms/step - loss: 0.0156 - accuracy: 0.9999 - val_loss: 0.0152 - val_accuracy: 0.9999\n",
            "Epoch 7/50\n",
            "45351/45351 [==============================] - 222s 5ms/step - loss: 0.0156 - accuracy: 0.9999 - val_loss: 0.0152 - val_accuracy: 0.9999\n",
            "Epoch 8/50\n",
            "45351/45351 [==============================] - 225s 5ms/step - loss: 0.0156 - accuracy: 0.9999 - val_loss: 0.0152 - val_accuracy: 0.9998\n",
            "Epoch 9/50\n",
            "45351/45351 [==============================] - 226s 5ms/step - loss: 0.0156 - accuracy: 0.9999 - val_loss: 0.0152 - val_accuracy: 0.9999\n",
            "Epoch 10/50\n",
            "45351/45351 [==============================] - 225s 5ms/step - loss: 0.0156 - accuracy: 0.9999 - val_loss: 0.0153 - val_accuracy: 0.9999\n",
            "Epoch 11/50\n",
            "45351/45351 [==============================] - 219s 5ms/step - loss: 0.0156 - accuracy: 0.9999 - val_loss: 0.0154 - val_accuracy: 0.9999\n",
            "Epoch 12/50\n",
            "45351/45351 [==============================] - 223s 5ms/step - loss: 0.0156 - accuracy: 0.9999 - val_loss: 0.0152 - val_accuracy: 0.9999\n",
            "Epoch 13/50\n",
            "45351/45351 [==============================] - 225s 5ms/step - loss: 0.0156 - accuracy: 0.9999 - val_loss: 0.0152 - val_accuracy: 0.9999\n",
            "Epoch 14/50\n",
            "45351/45351 [==============================] - 220s 5ms/step - loss: 0.0156 - accuracy: 0.9999 - val_loss: 0.0154 - val_accuracy: 0.9999\n",
            "Epoch 15/50\n",
            "45351/45351 [==============================] - 215s 5ms/step - loss: 0.0156 - accuracy: 0.9999 - val_loss: 0.0156 - val_accuracy: 0.9998\n",
            "Epoch 16/50\n",
            "45351/45351 [==============================] - 213s 5ms/step - loss: 0.0156 - accuracy: 0.9999 - val_loss: 0.0152 - val_accuracy: 0.9999\n",
            "Epoch 17/50\n",
            "45351/45351 [==============================] - 221s 5ms/step - loss: 0.0156 - accuracy: 0.9999 - val_loss: 0.0152 - val_accuracy: 0.9999\n",
            "Epoch 18/50\n",
            "45351/45351 [==============================] - 215s 5ms/step - loss: 0.0156 - accuracy: 0.9999 - val_loss: 0.0153 - val_accuracy: 0.9999\n",
            "Epoch 19/50\n",
            "45351/45351 [==============================] - 215s 5ms/step - loss: 0.0156 - accuracy: 0.9999 - val_loss: 0.0152 - val_accuracy: 0.9999\n",
            "Epoch 20/50\n",
            "45351/45351 [==============================] - 216s 5ms/step - loss: 0.0156 - accuracy: 0.9999 - val_loss: 0.0152 - val_accuracy: 0.9998\n",
            "Epoch 21/50\n",
            "45351/45351 [==============================] - 217s 5ms/step - loss: 0.0156 - accuracy: 0.9999 - val_loss: 0.0153 - val_accuracy: 0.9998\n",
            "Epoch 22/50\n",
            "45351/45351 [==============================] - 217s 5ms/step - loss: 0.0156 - accuracy: 0.9999 - val_loss: 0.0152 - val_accuracy: 0.9999\n",
            "Epoch 23/50\n",
            "45351/45351 [==============================] - 224s 5ms/step - loss: 0.0156 - accuracy: 0.9999 - val_loss: 0.0152 - val_accuracy: 0.9998\n",
            "Epoch 24/50\n",
            "45351/45351 [==============================] - 219s 5ms/step - loss: 0.0156 - accuracy: 0.9999 - val_loss: 0.0152 - val_accuracy: 0.9999\n",
            "Epoch 25/50\n",
            "45351/45351 [==============================] - 223s 5ms/step - loss: 0.0156 - accuracy: 0.9999 - val_loss: 0.0153 - val_accuracy: 0.9999\n",
            "Epoch 26/50\n",
            "45351/45351 [==============================] - 225s 5ms/step - loss: 0.0156 - accuracy: 0.9999 - val_loss: 0.0153 - val_accuracy: 0.9998\n",
            "Epoch 27/50\n",
            "45351/45351 [==============================] - 217s 5ms/step - loss: 0.0156 - accuracy: 0.9999 - val_loss: 0.0152 - val_accuracy: 0.9999\n",
            "Epoch 28/50\n",
            "45351/45351 [==============================] - 221s 5ms/step - loss: 0.0156 - accuracy: 0.9999 - val_loss: 0.0154 - val_accuracy: 0.9999\n",
            "Epoch 29/50\n",
            "45351/45351 [==============================] - 221s 5ms/step - loss: 0.0156 - accuracy: 0.9999 - val_loss: 0.0154 - val_accuracy: 0.9998\n",
            "Epoch 30/50\n",
            "45351/45351 [==============================] - 218s 5ms/step - loss: 0.0156 - accuracy: 0.9999 - val_loss: 0.0152 - val_accuracy: 0.9999\n",
            "Epoch 31/50\n",
            "45351/45351 [==============================] - 217s 5ms/step - loss: 0.0156 - accuracy: 0.9999 - val_loss: 0.0152 - val_accuracy: 0.9998\n",
            "Epoch 32/50\n",
            "45351/45351 [==============================] - 219s 5ms/step - loss: 0.0156 - accuracy: 0.9999 - val_loss: 0.0152 - val_accuracy: 0.9999\n",
            "Epoch 33/50\n",
            "45351/45351 [==============================] - 214s 5ms/step - loss: 0.0156 - accuracy: 0.9999 - val_loss: 0.0152 - val_accuracy: 0.9999\n",
            "Epoch 34/50\n",
            "45351/45351 [==============================] - 221s 5ms/step - loss: 0.0156 - accuracy: 0.9999 - val_loss: 0.0152 - val_accuracy: 0.9999\n",
            "Epoch 35/50\n",
            "45351/45351 [==============================] - 211s 5ms/step - loss: 0.0156 - accuracy: 0.9999 - val_loss: 0.0152 - val_accuracy: 0.9998\n",
            "Epoch 36/50\n",
            "45351/45351 [==============================] - 215s 5ms/step - loss: 0.0156 - accuracy: 0.9999 - val_loss: 0.0152 - val_accuracy: 0.9998\n",
            "Epoch 37/50\n",
            "45351/45351 [==============================] - 217s 5ms/step - loss: 0.0156 - accuracy: 0.9999 - val_loss: 0.0152 - val_accuracy: 0.9999\n",
            "Epoch 38/50\n",
            "45351/45351 [==============================] - 209s 5ms/step - loss: 0.0156 - accuracy: 0.9999 - val_loss: 0.0152 - val_accuracy: 0.9999\n",
            "Epoch 39/50\n",
            "45351/45351 [==============================] - 219s 5ms/step - loss: 0.0156 - accuracy: 0.9999 - val_loss: 0.0152 - val_accuracy: 0.9999\n",
            "Epoch 40/50\n",
            "45351/45351 [==============================] - 215s 5ms/step - loss: 0.0156 - accuracy: 0.9999 - val_loss: 0.0152 - val_accuracy: 0.9999\n",
            "Epoch 41/50\n",
            "45351/45351 [==============================] - 217s 5ms/step - loss: 0.0156 - accuracy: 0.9999 - val_loss: 0.0153 - val_accuracy: 0.9999\n",
            "Epoch 42/50\n",
            "45351/45351 [==============================] - 218s 5ms/step - loss: 0.0156 - accuracy: 0.9999 - val_loss: 0.0152 - val_accuracy: 0.9999\n",
            "Epoch 43/50\n",
            "45351/45351 [==============================] - 218s 5ms/step - loss: 0.0156 - accuracy: 0.9999 - val_loss: 0.0153 - val_accuracy: 0.9998\n",
            "Epoch 44/50\n",
            "45351/45351 [==============================] - 214s 5ms/step - loss: 0.0156 - accuracy: 0.9999 - val_loss: 0.0153 - val_accuracy: 0.9999\n",
            "Epoch 45/50\n",
            "45351/45351 [==============================] - 218s 5ms/step - loss: 0.0156 - accuracy: 0.9999 - val_loss: 0.0152 - val_accuracy: 0.9998\n",
            "Epoch 46/50\n",
            "45351/45351 [==============================] - 211s 5ms/step - loss: 0.0156 - accuracy: 0.9999 - val_loss: 0.0152 - val_accuracy: 0.9999\n",
            "Epoch 47/50\n",
            "45351/45351 [==============================] - 213s 5ms/step - loss: 0.0156 - accuracy: 0.9999 - val_loss: 0.0158 - val_accuracy: 0.9999\n",
            "Epoch 48/50\n",
            "45351/45351 [==============================] - 213s 5ms/step - loss: 0.0156 - accuracy: 0.9999 - val_loss: 0.0152 - val_accuracy: 0.9999\n",
            "Epoch 49/50\n",
            "45351/45351 [==============================] - 215s 5ms/step - loss: 0.0156 - accuracy: 0.9999 - val_loss: 0.0152 - val_accuracy: 0.9998\n",
            "Epoch 50/50\n",
            "45351/45351 [==============================] - 215s 5ms/step - loss: 0.0156 - accuracy: 0.9999 - val_loss: 0.0152 - val_accuracy: 0.9999\n",
            "28345/28345 [==============================] - 56s 2ms/step\n",
            "\n",
            "Hybrid Model Accuracy: 0.9998974655241607\n",
            "\n",
            "Classification Report:\n",
            "              precision    recall  f1-score   support\n",
            "\n",
            "           0       1.00      1.00      1.00     90701\n",
            "           1       1.00      1.00      1.00     90701\n",
            "           2       1.00      1.00      1.00     90701\n",
            "           3       1.00      1.00      1.00     90702\n",
            "           4       1.00      1.00      1.00     90701\n",
            "           5       1.00      1.00      1.00     90701\n",
            "           6       1.00      1.00      1.00     90702\n",
            "           7       1.00      1.00      1.00     90701\n",
            "           8       1.00      1.00      1.00     90701\n",
            "           9       1.00      1.00      1.00     90701\n",
            "\n",
            "    accuracy                           1.00    907012\n",
            "   macro avg       1.00      1.00      1.00    907012\n",
            "weighted avg       1.00      1.00      1.00    907012\n",
            "\n",
            "\n",
            "Confusion Matrix:\n",
            "[[90701     0     0     0     0     0     0     0     0     0]\n",
            " [    0 90701     0     0     0     0     0     0     0     0]\n",
            " [    0     2 90699     0     0     0     0     0     0     0]\n",
            " [    0     0     1 90674    27     0     0     0     0     0]\n",
            " [    1     0     0     0 90688    12     0     0     0     0]\n",
            " [    0     0     0     0     0 90701     0     0     0     0]\n",
            " [    0     0     0     0     0    18 90684     0     0     0]\n",
            " [    0     0     0     0     0     0     0 90694     7     0]\n",
            " [    0     0     0     0     0     0     0    25 90676     0]\n",
            " [    0     0     0     0     0     0     0     0     0 90701]]\n"
          ]
        }
      ]
    },
    {
      "cell_type": "code",
      "source": [
        "# Plot training and validation loss\n",
        "import matplotlib.pyplot as plt\n",
        "plt.plot(history.history['loss'], label='Training Loss')\n",
        "plt.plot(history.history['val_loss'], label='Validation Loss')\n",
        "plt.xlabel('Epoch')\n",
        "plt.ylabel('Loss')\n",
        "plt.legend()\n",
        "plt.show()"
      ],
      "metadata": {
        "id": "L4sajd9fO9Zu",
        "collapsed": true,
        "outputId": "2d5ef180-9744-4246-ae7a-6a65b103b7b0",
        "colab": {
          "base_uri": "https://localhost:8080/",
          "height": 449
        }
      },
      "execution_count": 12,
      "outputs": [
        {
          "output_type": "display_data",
          "data": {
            "text/plain": [
              "<Figure size 640x480 with 1 Axes>"
            ],
            "image/png": "[encoded data removed]"
          },
          "metadata": {}
        }
      ]
    },
    {
      "cell_type": "code",
      "source": [
        "from sklearn.metrics import accuracy_score, precision_score, recall_score, f1_score, classification_report, confusion_matrix\n",
        "# Performance metrics\n",
        "accuracy = accuracy_score(true_labels, test_predictions_labels)\n",
        "precision = precision_score(true_labels, test_predictions_labels, average='macro')\n",
        "recall = recall_score(true_labels, test_predictions_labels, average='macro')\n",
        "f1 = f1_score(true_labels, test_predictions_labels, average='macro')\n",
        "\n",
        "print(\"\\nHybrid Model Accuracy:\", accuracy)\n",
        "print(\"\\nPrecision:\", precision)\n",
        "print(\"\\nRecall:\", recall)\n",
        "print(\"\\nF1-Score:\", f1)"
      ],
      "metadata": {
        "id": "HWKDYjkFc-DY",
        "collapsed": true,
        "outputId": "c50ea911-219b-416f-8843-ed367b4b25bb",
        "colab": {
          "base_uri": "https://localhost:8080/"
        }
      },
      "execution_count": 13,
      "outputs": [
        {
          "output_type": "stream",
          "name": "stdout",
          "text": [
            "\n",
            "Hybrid Model Accuracy: 0.9998974655241607\n",
            "\n",
            "Precision: 0.9998974848142191\n",
            "\n",
            "Recall: 0.9998974658572181\n",
            "\n",
            "F1-Score: 0.9998974666520896\n"
          ]
        }
      ]
    },
    {
      "cell_type": "code",
      "source": [
        "# Classification report\n",
        "print(\"\\nClassification Report:\")\n",
        "print(classification_report(true_labels, test_predictions_labels))"
      ],
      "metadata": {
        "id": "ZDsDpwi6dDRx",
        "collapsed": true,
        "outputId": "eb84ef1a-0826-4729-db64-dc19846d75c6",
        "colab": {
          "base_uri": "https://localhost:8080/"
        }
      },
      "execution_count": 14,
      "outputs": [
        {
          "output_type": "stream",
          "name": "stdout",
          "text": [
            "\n",
            "Classification Report:\n",
            "              precision    recall  f1-score   support\n",
            "\n",
            "           0       1.00      1.00      1.00     90701\n",
            "           1       1.00      1.00      1.00     90701\n",
            "           2       1.00      1.00      1.00     90701\n",
            "           3       1.00      1.00      1.00     90702\n",
            "           4       1.00      1.00      1.00     90701\n",
            "           5       1.00      1.00      1.00     90701\n",
            "           6       1.00      1.00      1.00     90702\n",
            "           7       1.00      1.00      1.00     90701\n",
            "           8       1.00      1.00      1.00     90701\n",
            "           9       1.00      1.00      1.00     90701\n",
            "\n",
            "    accuracy                           1.00    907012\n",
            "   macro avg       1.00      1.00      1.00    907012\n",
            "weighted avg       1.00      1.00      1.00    907012\n",
            "\n"
          ]
        }
      ]
    },
    {
      "cell_type": "code",
      "source": [
        "# Detection Rate (Recall for each class)\n",
        "detection_rate = recall_score(true_labels, test_predictions_labels, average=None)\n",
        "for i in range(len(detection_rate)):\n",
        "    print(f\"Detection Rate for Class {i}: {detection_rate[i]:.15f}\")"
      ],
      "metadata": {
        "id": "je0MbEanO9Jw",
        "collapsed": true,
        "outputId": "39f55256-b0f2-4eff-d3be-4af189186077",
        "colab": {
          "base_uri": "https://localhost:8080/"
        }
      },
      "execution_count": 16,
      "outputs": [
        {
          "output_type": "stream",
          "name": "stdout",
          "text": [
            "Detection Rate for Class 0: 1.000000000000000\n",
            "Detection Rate for Class 1: 1.000000000000000\n",
            "Detection Rate for Class 2: 0.999977949526466\n",
            "Detection Rate for Class 3: 0.999691296774051\n",
            "Detection Rate for Class 4: 0.999856671922030\n",
            "Detection Rate for Class 5: 1.000000000000000\n",
            "Detection Rate for Class 6: 0.999801547926176\n",
            "Detection Rate for Class 7: 0.999922823342631\n",
            "Detection Rate for Class 8: 0.999724369080826\n",
            "Detection Rate for Class 9: 1.000000000000000\n"
          ]
        }
      ]
    },
    {
      "cell_type": "code",
      "source": [
        "import seaborn as sns\n",
        "import matplotlib.pyplot as plt\n",
        "import numpy as np\n",
        "import itertools\n",
        "import seaborn as sns\n",
        "from sklearn import metrics\n",
        "import matplotlib.pyplot as plt\n",
        "from sklearn.metrics import confusion_matrix\n",
        "def conf_mat(d1,d2):\n",
        "  cm = confusion_matrix(d1, d2)\n",
        "  #plt.figure(figsize=(6,5.5))\n",
        "  plt.figure(figsize=(8,6.5))\n",
        "  #ax = sns.heatmap(cm,  fmt='2', annot=True, cmap='tab20c')\n",
        "  ax = sns.heatmap(cm, annot=True, fmt=\".0f\", cmap=\"bone\",\n",
        "                 vmin=0, vmax=5600, center=0, square=True, linewidths=1.5)\n",
        "  sns.set(font_scale=0.8)\n",
        "  ax.set_xlabel('\\nPredicted Values')\n",
        "  ax.set_ylabel('Actual Values\\n');\n",
        "  ax.xaxis.set_ticklabels(['Benign','Backdoor','DDoS','DoS','Injection','mitm','Password','Ransomware','Scanning','xss'])\n",
        "  ax.yaxis.set_ticklabels(['Benign','Backdoor','DDoS','DoS','Injection','mitm','Password','Ransomware','Scanning','xss'])\n",
        "  plt.xticks(rotation=45)  # Add this line to rotate the x-axis labels by 45 degrees\n",
        "  plt.yticks(rotation=45)  # Add this line to rotate the x-axis labels by 45 degrees\n",
        "  plt.tight_layout()\n",
        "  # plt.savefig(\"F1.eps\", format = 'eps')\n",
        "  plt.show()"
      ],
      "metadata": {
        "id": "HBJkqOv9Tmel"
      },
      "execution_count": 17,
      "outputs": []
    },
    {
      "cell_type": "code",
      "source": [
        "print(\"Confusion Matrix of Hybrid LR-BiLSTM Model\")\n",
        "conf_mat(true_labels, test_predictions_labels)"
      ],
      "metadata": {
        "id": "ORXZPtxnTxPA",
        "outputId": "20b001ae-19c7-4689-8154-0b260cf59bb7",
        "colab": {
          "base_uri": "https://localhost:8080/",
          "height": 677
        }
      },
      "execution_count": 18,
      "outputs": [
        {
          "output_type": "stream",
          "name": "stdout",
          "text": [
            "Confusion Matrix of Hybrid LR-BiLSTM Model\n"
          ]
        },
        {
          "output_type": "display_data",
          "data": {
            "text/plain": [
              "<Figure size 800x650 with 2 Axes>"
            ],
            "image/png": "[encoded data removed]"
          },
          "metadata": {}
        }
      ]
    },
    {
      "cell_type": "markdown",
      "source": [
        "**With FGSM adversarial training**"
      ],
      "metadata": {
        "id": "-EFNx5pzzdnz"
      }
    },
    {
      "cell_type": "code",
      "source": [
        "import tensorflow as tf\n",
        "from keras.regularizers import l2\n",
        "\n",
        "#Build the Bi-LSTM model\n",
        "bilstm_model = Sequential()\n",
        "bilstm_model.add(Bidirectional(LSTM(64, return_sequences=True, kernel_regularizer=l2(0.0002)), input_shape=(1, train_lr_features.shape[2])))\n",
        "bilstm_model.add(Dropout(0.5))\n",
        "bilstm_model.add(Bidirectional(LSTM(32, kernel_regularizer=l2(0.0002))))\n",
        "bilstm_model.add(Dropout(0.5))\n",
        "#bilstm_model.add(Bidirectional(LSTM(16, kernel_regularizer=l2(0.002))))\n",
        "#bilstm_model.add(Dropout(0.2))\n",
        "bilstm_model.add(Dense(10, activation='softmax', kernel_regularizer=l2(0.0002)))\n",
        "\n",
        "bilstm_model.compile(loss='categorical_crossentropy', optimizer='adam', metrics=['accuracy'])\n",
        "\n",
        "# FGSM: Function to generate adversarial examples\n",
        "def generate_adversarial_examples(model, data, labels, epsilon=0.1):\n",
        "    data_tensor = tf.convert_to_tensor(data, dtype=tf.float32)\n",
        "    labels_tensor = tf.convert_to_tensor(labels, dtype=tf.float32)\n",
        "\n",
        "    with tf.GradientTape() as tape:\n",
        "        tape.watch(data_tensor)\n",
        "        predictions = model(data_tensor)\n",
        "        loss = tf.keras.losses.categorical_crossentropy(labels_tensor, predictions)\n",
        "\n",
        "    gradients = tape.gradient(loss, data_tensor)\n",
        "    perturbations = epsilon * tf.sign(gradients)\n",
        "    adversarial_data = data_tensor + perturbations\n",
        "\n",
        "    return adversarial_data.numpy()\n",
        "\n",
        "# Generate adversarial examples for training\n",
        "adversarial_train_features = generate_adversarial_examples(bilstm_model, train_lr_features, y_train)\n",
        "\n",
        "# Combine original and adversarial examples\n",
        "combined_train_features = np.concatenate((train_lr_features, adversarial_train_features), axis=0)\n",
        "combined_train_labels = np.concatenate((y_train, y_train), axis=0)\n",
        "\n",
        "# Train the Bi-LSTM model\n",
        "history = bilstm_model.fit(\n",
        "    combined_train_features, combined_train_labels,\n",
        "    validation_split=0.2,\n",
        "    epochs=50,\n",
        "    batch_size=64,\n",
        "    verbose=1\n",
        ")\n",
        "\n",
        "# Evaluate the model\n",
        "test_predictions = bilstm_model.predict(test_lr_features)\n",
        "test_predictions_labels = np.argmax(test_predictions, axis=1)\n",
        "true_labels = np.argmax(y_test, axis=1)\n",
        "\n",
        "# Metrics and results\n",
        "accuracy = accuracy_score(true_labels, test_predictions_labels)\n",
        "print(\"\\nHybrid Model Accuracy with FGSM:\", accuracy)\n",
        "print(\"\\nClassification Report:\")\n",
        "print(classification_report(true_labels, test_predictions_labels))\n",
        "print(\"\\nConfusion Matrix:\")\n",
        "print(confusion_matrix(true_labels, test_predictions_labels))"
      ],
      "metadata": {
        "id": "Aj6STrXezdOO"
      },
      "execution_count": null,
      "outputs": []
    },
    {
      "cell_type": "code",
      "source": [
        "# Plot training and validation loss\n",
        "import matplotlib.pyplot as plt\n",
        "plt.plot(history.history['loss'], label='Training Loss')\n",
        "plt.plot(history.history['val_loss'], label='Validation Loss')\n",
        "plt.xlabel('Epoch')\n",
        "plt.ylabel('Loss')\n",
        "plt.legend()\n",
        "plt.show()"
      ],
      "metadata": {
        "id": "fhP8eeBf5N8n"
      },
      "execution_count": null,
      "outputs": []
    },
    {
      "cell_type": "code",
      "source": [
        "from sklearn.metrics import accuracy_score, precision_score, recall_score, f1_score, classification_report, confusion_matrix\n",
        "# Performance metrics\n",
        "accuracy = accuracy_score(true_labels, test_predictions_labels)\n",
        "precision = precision_score(true_labels, test_predictions_labels, average='macro')\n",
        "recall = recall_score(true_labels, test_predictions_labels, average='macro')\n",
        "f1 = f1_score(true_labels, test_predictions_labels, average='macro')\n",
        "\n",
        "print(\"\\nHybrid Model Accuracy:\", accuracy)\n",
        "print(\"\\nPrecision:\", precision)\n",
        "print(\"\\nRecall:\", recall)\n",
        "print(\"\\nF1-Score:\", f1)"
      ],
      "metadata": {
        "id": "dvb-7LkV5TKY"
      },
      "execution_count": null,
      "outputs": []
    },
    {
      "cell_type": "code",
      "source": [
        "# Detection Rate (Recall for each class)\n",
        "detection_rate = recall_score(true_labels, test_predictions_labels, average=None)\n",
        "for i in range(len(detection_rate)):\n",
        "    print(f\"Detection Rate for Class {i}: {detection_rate[i]:.10f}\")"
      ],
      "metadata": {
        "id": "uaGM0pjD6GVz"
      },
      "execution_count": null,
      "outputs": []
    },
    {
      "cell_type": "code",
      "source": [
        "#Calculate ROC AUC and plot ROC curves\n",
        "from sklearn.metrics import roc_curve, roc_auc_score # Import roc_curve and roc_auc_score\n",
        "import matplotlib.pyplot as plt\n",
        "\n",
        "roc_aucs = []\n",
        "for i in range(10):  # Assuming 10 classes\n",
        "    fpr, tpr, _ = roc_curve(y_test[:, i], test_predictions[:, i])\n",
        "    roc_auc = roc_auc_score(y_test[:, i], test_predictions[:, i])\n",
        "    roc_aucs.append(roc_auc)\n",
        "    plt.plot(fpr, tpr, label=f'Class {i} (area = {roc_auc:.10f})')\n",
        "\n",
        "plt.plot([0, 1], [0, 1], 'k--')\n",
        "plt.xlim([0.0, 1.0])\n",
        "plt.ylim([0.0, 1.05])\n",
        "plt.xlabel('False Positive Rate')\n",
        "plt.ylabel('True Positive Rate')\n",
        "plt.title('Receiver Operating Characteristic (ROC) Curves')\n",
        "plt.legend(loc='lower right')\n",
        "plt.show()"
      ],
      "metadata": {
        "id": "ZzpHrJXYrCoV"
      },
      "execution_count": null,
      "outputs": []
    },
    {
      "cell_type": "code",
      "source": [
        "# Print results\n",
        "#print(f\"\\nHybrid Model Accuracy with FGSM: {accuracy:.10f}\")\n",
        "#print(\"\\nClassification Report:\\n\", classification_rep)\n",
        "#print(\"\\nConfusion Matrix:\\n\", conf_matrix)\n",
        "\n",
        "# Print results\n",
        "print(f\"\\nHybrid Model Accuracy with FGSM: {accuracy:.10f}\")\n",
        "classification_rep = classification_report(true_labels, test_predictions_labels)  # Store the classification report\n",
        "print(\"\\nClassification Report:\\n\", classification_rep)\n",
        "# Assuming 'conf_matrix' will be calculated and assigned similarly:\n",
        "conf_matrix = confusion_matrix(true_labels, test_predictions_labels)  # Store the confusion matrix\n",
        "print(\"\\nConfusion Matrix:\\n\", conf_matrix)"
      ],
      "metadata": {
        "id": "Gb2nORdOrO7w"
      },
      "execution_count": null,
      "outputs": []
    },
    {
      "cell_type": "code",
      "source": [
        "import seaborn as sns\n",
        "import matplotlib.pyplot as plt\n",
        "import numpy as np\n",
        "import itertools\n",
        "import seaborn as sns\n",
        "from sklearn import metrics\n",
        "import matplotlib.pyplot as plt\n",
        "from sklearn.metrics import confusion_matrix\n",
        "def conf_mat(d1,d2):\n",
        "  cm = confusion_matrix(d1, d2)\n",
        "  #plt.figure(figsize=(6,5.5))\n",
        "  plt.figure(figsize=(8,6.5))\n",
        "  #ax = sns.heatmap(cm,  fmt='2', annot=True, cmap='tab20c')\n",
        "  ax = sns.heatmap(cm, annot=True, fmt=\".0f\", cmap=\"bone\",\n",
        "                 vmin=0, vmax=5600, center=0, square=True, linewidths=1.5)\n",
        "  sns.set(font_scale=0.8)\n",
        "  ax.set_xlabel('\\nPredicted Values')\n",
        "  ax.set_ylabel('Actual Values\\n');\n",
        "  ax.xaxis.set_ticklabels(['Benign','Backdoor','DDoS','DoS','Injection','mitm','Password','Ransomware','Scanning','xss'])\n",
        "  ax.yaxis.set_ticklabels(['Benign','Backdoor','DDoS','DoS','Injection','mitm','Password','Ransomware','Scanning','xss'])\n",
        "  plt.xticks(rotation=45)  # Add this line to rotate the x-axis labels by 45 degrees\n",
        "  plt.yticks(rotation=45)  # Add this line to rotate the x-axis labels by 45 degrees\n",
        "  plt.tight_layout()\n",
        "  # plt.savefig(\"F1.eps\", format = 'eps')\n",
        "  plt.show()"
      ],
      "metadata": {
        "id": "Ko9r15y1-j5L"
      },
      "execution_count": null,
      "outputs": []
    },
    {
      "cell_type": "code",
      "source": [
        "print(\"Confusion Matrix of Hybrid LR-BiLSTM Model\")\n",
        "conf_mat(true_labels, test_predictions_labels)"
      ],
      "metadata": {
        "id": "oDOg5yhm-oMM"
      },
      "execution_count": null,
      "outputs": []
    }
  ]
}