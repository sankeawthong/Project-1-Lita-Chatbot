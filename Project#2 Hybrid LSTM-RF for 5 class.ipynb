{
  "nbformat": 4,
  "nbformat_minor": 0,
  "metadata": {
    "colab": {
      "provenance": [],
      "authorship_tag": "ABX9TyOLPw6+GcmlLxOUubEgbdeW",
      "include_colab_link": true
    },
    "kernelspec": {
      "name": "python3",
      "display_name": "Python 3"
    },
    "language_info": {
      "name": "python"
    }
  },
  "cells": [
    {
      "cell_type": "markdown",
      "metadata": {
        "id": "view-in-github",
        "colab_type": "text"
      },
      "source": [
        "<a href=\"https://colab.research.google.com/github/sankeawthong/Project-1-Lita-Chatbot/blob/main/Project%232%20Hybrid%20LSTM-RF%20for%205%20class.ipynb\" target=\"_parent\"><img src=\"https://colab.research.google.com/assets/colab-badge.svg\" alt=\"Open In Colab\"/></a>"
      ]
    },
    {
      "cell_type": "code",
      "execution_count": 33,
      "metadata": {
        "id": "iy1vaNUXdzpj"
      },
      "outputs": [],
      "source": [
        "import pandas as pd\n",
        "import numpy as np\n",
        "from sklearn.preprocessing import LabelEncoder\n",
        "from sklearn.model_selection import train_test_split\n",
        "from keras.utils import np_utils\n",
        "from keras.models import Sequential\n",
        "from keras.layers import Dense, LSTM, Dropout\n",
        "from sklearn.ensemble import RandomForestClassifier\n",
        "from sklearn.metrics import confusion_matrix, classification_report"
      ]
    },
    {
      "cell_type": "markdown",
      "source": [
        "**Load Dataset (WSN-DS)**"
      ],
      "metadata": {
        "id": "koRZdG_AeDYB"
      }
    },
    {
      "cell_type": "code",
      "source": [
        "# Load dataset\n",
        "dataset = pd.read_csv(\"dataset_WSN-DS.csv\")\n",
        "dataset.isnull().sum()"
      ],
      "metadata": {
        "colab": {
          "base_uri": "https://localhost:8080/"
        },
        "id": "aT73ZjzReAL3",
        "outputId": "759a3299-b155-4ff7-8609-c8c044903e35"
      },
      "execution_count": 35,
      "outputs": [
        {
          "output_type": "execute_result",
          "data": {
            "text/plain": [
              " id                 0\n",
              " Time               0\n",
              " Is_CH              0\n",
              " who CH             0\n",
              " Dist_To_CH         0\n",
              " ADV_S              0\n",
              " ADV_R              0\n",
              " JOIN_S             0\n",
              " JOIN_R             0\n",
              " SCH_S              0\n",
              " SCH_R              0\n",
              "Rank                0\n",
              " DATA_S             0\n",
              " DATA_R             0\n",
              " Data_Sent_To_BS    0\n",
              " dist_CH_To_BS      0\n",
              " send_code          0\n",
              "Expaned Energy      0\n",
              "Class               0\n",
              "dtype: int64"
            ]
          },
          "metadata": {},
          "execution_count": 35
        }
      ]
    },
    {
      "cell_type": "code",
      "source": [
        "dataset.info()"
      ],
      "metadata": {
        "colab": {
          "base_uri": "https://localhost:8080/"
        },
        "id": "61RdC2YFgqI5",
        "outputId": "4ff3b0bf-bcfe-45b2-8fa3-b5007697fa28"
      },
      "execution_count": 36,
      "outputs": [
        {
          "output_type": "stream",
          "name": "stdout",
          "text": [
            "<class 'pandas.core.frame.DataFrame'>\n",
            "RangeIndex: 374661 entries, 0 to 374660\n",
            "Data columns (total 19 columns):\n",
            " #   Column            Non-Null Count   Dtype  \n",
            "---  ------            --------------   -----  \n",
            " 0    id               374661 non-null  int64  \n",
            " 1    Time             374661 non-null  int64  \n",
            " 2    Is_CH            374661 non-null  int64  \n",
            " 3    who CH           374661 non-null  int64  \n",
            " 4    Dist_To_CH       374661 non-null  float64\n",
            " 5    ADV_S            374661 non-null  int64  \n",
            " 6    ADV_R            374661 non-null  int64  \n",
            " 7    JOIN_S           374661 non-null  int64  \n",
            " 8    JOIN_R           374661 non-null  int64  \n",
            " 9    SCH_S            374661 non-null  int64  \n",
            " 10   SCH_R            374661 non-null  int64  \n",
            " 11  Rank              374661 non-null  int64  \n",
            " 12   DATA_S           374661 non-null  int64  \n",
            " 13   DATA_R           374661 non-null  int64  \n",
            " 14   Data_Sent_To_BS  374661 non-null  int64  \n",
            " 15   dist_CH_To_BS    374661 non-null  float64\n",
            " 16   send_code        374661 non-null  int64  \n",
            " 17  Expaned Energy    374661 non-null  float64\n",
            " 18  Class             374661 non-null  int64  \n",
            "dtypes: float64(3), int64(16)\n",
            "memory usage: 54.3 MB\n"
          ]
        }
      ]
    },
    {
      "cell_type": "code",
      "source": [
        "encoder = LabelEncoder()\n",
        "y = encoder.fit_transform(dataset['Class'])\n",
        "y = np_utils.to_categorical(y, num_classes=5)\n",
        "X = dataset.drop(['Class'],axis=1)\n",
        "X=X.values\n",
        "print(X.shape)\n",
        "print(y.shape)"
      ],
      "metadata": {
        "colab": {
          "base_uri": "https://localhost:8080/"
        },
        "id": "DsJvNILsnw5Z",
        "outputId": "ec99bd99-42e9-4712-c8c3-ff7ce5552420"
      },
      "execution_count": 37,
      "outputs": [
        {
          "output_type": "stream",
          "name": "stdout",
          "text": [
            "(374661, 18)\n",
            "(374661, 5)\n"
          ]
        }
      ]
    },
    {
      "cell_type": "code",
      "source": [
        "# Data preprocessing\n",
        "from imblearn.over_sampling import SMOTE\n",
        "oversample = SMOTE()\n",
        "X, y = oversample.fit_resample(X, y)"
      ],
      "metadata": {
        "id": "uoqsWugAkgGi"
      },
      "execution_count": 38,
      "outputs": []
    },
    {
      "cell_type": "code",
      "source": [
        "X_train, X_test, y_train, y_test = train_test_split(X, y, test_size=0.2, random_state=101)"
      ],
      "metadata": {
        "id": "VJLxon9Kn3bb"
      },
      "execution_count": 39,
      "outputs": []
    },
    {
      "cell_type": "markdown",
      "source": [
        "**Hybrid SVM-CNNs for 5 Class**"
      ],
      "metadata": {
        "id": "97PzUOvbeQFi"
      }
    },
    {
      "cell_type": "code",
      "source": [
        "# Random Forest model\n",
        "rf = RandomForestClassifier(n_estimators=100, random_state=42)\n",
        "rf.fit(X_train, y_train)\n",
        "\n",
        "y_pred_rf = rf.predict(X_test)\n",
        "\n",
        "# LSTM model\n",
        "model = Sequential()\n",
        "model.add(LSTM(64, input_shape=(X_train.shape[1], 1)))\n",
        "model.add(Dropout(0.2))\n",
        "model.add(Dense(5, activation='softmax'))\n",
        "model.compile(loss='categorical_crossentropy', optimizer='adam', metrics=['accuracy'])\n",
        "model.summary()\n",
        "\n",
        "X_train_lstm = X_train.reshape(X_train.shape[0], X_train.shape[1], 1)\n",
        "X_test_lstm = X_test.reshape(X_test.shape[0], X_test.shape[1], 1)\n",
        "\n",
        "history = model.fit(X_train_lstm, y_train, epochs=10, batch_size=64, validation_data=(X_test_lstm, y_test), verbose=1)\n",
        "\n",
        "# Combine models\n",
        "y_pred_lstm = model.predict(X_test_lstm)\n",
        "y_pred_lstm = np.argmax(y_pred_lstm, axis=1)\n",
        "y_pred_lstm = np_utils.to_categorical(y_pred_lstm, num_classes=5)\n",
        "\n",
        "y_pred = y_pred_lstm * 0.4 + y_pred_rf * 0.6\n",
        "y_pred = np.argmax(y_pred, axis=1)\n",
        "\n",
        "# Evaluation metrics\n",
        "print(classification_report(np.argmax(y_test, axis=1), y_pred))\n",
        "print(confusion_matrix(np.argmax(y_test, axis=1), y_pred))"
      ],
      "metadata": {
        "colab": {
          "base_uri": "https://localhost:8080/"
        },
        "id": "yuBuIF3peXkq",
        "outputId": "837f5f42-dfc7-424c-e6d0-ab872a37ad75"
      },
      "execution_count": 40,
      "outputs": [
        {
          "output_type": "stream",
          "name": "stdout",
          "text": [
            "Model: \"sequential_4\"\n",
            "_________________________________________________________________\n",
            " Layer (type)                Output Shape              Param #   \n",
            "=================================================================\n",
            " lstm (LSTM)                 (None, 64)                16896     \n",
            "                                                                 \n",
            " dropout_8 (Dropout)         (None, 64)                0         \n",
            "                                                                 \n",
            " dense_8 (Dense)             (None, 5)                 325       \n",
            "                                                                 \n",
            "=================================================================\n",
            "Total params: 17,221\n",
            "Trainable params: 17,221\n",
            "Non-trainable params: 0\n",
            "_________________________________________________________________\n",
            "Epoch 1/10\n",
            "21255/21255 [==============================] - 223s 10ms/step - loss: 0.1951 - accuracy: 0.9048 - val_loss: 0.1770 - val_accuracy: 0.9095\n",
            "Epoch 2/10\n",
            "21255/21255 [==============================] - 222s 10ms/step - loss: 0.1759 - accuracy: 0.9092 - val_loss: 0.1717 - val_accuracy: 0.9104\n",
            "Epoch 3/10\n",
            "21255/21255 [==============================] - 226s 11ms/step - loss: 0.1603 - accuracy: 0.9226 - val_loss: 0.1281 - val_accuracy: 0.9538\n",
            "Epoch 4/10\n",
            "21255/21255 [==============================] - 223s 11ms/step - loss: 0.1232 - accuracy: 0.9514 - val_loss: 0.0926 - val_accuracy: 0.9733\n",
            "Epoch 5/10\n",
            "21255/21255 [==============================] - 224s 11ms/step - loss: 0.1025 - accuracy: 0.9583 - val_loss: 0.0762 - val_accuracy: 0.9756\n",
            "Epoch 6/10\n",
            "21255/21255 [==============================] - 224s 11ms/step - loss: 0.0919 - accuracy: 0.9617 - val_loss: 0.0730 - val_accuracy: 0.9782\n",
            "Epoch 7/10\n",
            "21255/21255 [==============================] - 225s 11ms/step - loss: 0.0858 - accuracy: 0.9634 - val_loss: 0.0651 - val_accuracy: 0.9775\n",
            "Epoch 8/10\n",
            "21255/21255 [==============================] - 221s 10ms/step - loss: 0.0818 - accuracy: 0.9651 - val_loss: 0.0604 - val_accuracy: 0.9787\n",
            "Epoch 9/10\n",
            "21255/21255 [==============================] - 224s 11ms/step - loss: 0.0796 - accuracy: 0.9668 - val_loss: 0.0605 - val_accuracy: 0.9790\n",
            "Epoch 10/10\n",
            "21255/21255 [==============================] - 222s 10ms/step - loss: 0.0770 - accuracy: 0.9692 - val_loss: 0.0616 - val_accuracy: 0.9788\n",
            "10628/10628 [==============================] - 32s 3ms/step\n",
            "              precision    recall  f1-score   support\n",
            "\n",
            "           0       1.00      1.00      1.00     67745\n",
            "           1       1.00      1.00      1.00     68144\n",
            "           2       1.00      1.00      1.00     68282\n",
            "           3       1.00      1.00      1.00     68009\n",
            "           4       1.00      1.00      1.00     67886\n",
            "\n",
            "    accuracy                           1.00    340066\n",
            "   macro avg       1.00      1.00      1.00    340066\n",
            "weighted avg       1.00      1.00      1.00    340066\n",
            "\n",
            "[[67556    47     0    72    70]\n",
            " [    1 68136     7     0     0]\n",
            " [    0    15 68267     0     0]\n",
            " [   66     1     1 67941     0]\n",
            " [    1     0     0     0 67885]]\n"
          ]
        }
      ]
    },
    {
      "cell_type": "code",
      "source": [
        "import seaborn as sns\n",
        "import matplotlib.pyplot as plt\n",
        "import numpy as np\n",
        "import itertools\n",
        "import seaborn as sns\n",
        "from sklearn import metrics \n",
        "import matplotlib.pyplot as plt\n",
        "from sklearn.metrics import confusion_matrix\n",
        "def conf_mat(d1,d2):\n",
        "  cm = confusion_matrix(d1, d2)\n",
        "  plt.figure(figsize=(6,5.5))\n",
        "  ax = sns.heatmap(cm,  fmt='2', annot=True, cmap='YlGnBu')\n",
        "  sns.set(font_scale=1)\n",
        "  ax.set_xlabel('\\nPredicted Values')\n",
        "  ax.set_ylabel('Actual Values\\n');\n",
        "  ax.xaxis.set_ticklabels(['Normal','Blackhole','Flooding','Grayhole','TDMA'])\n",
        "  ax.yaxis.set_ticklabels(['Normal','Blackhole','Flooding','Grayhole','TDMA'])\n",
        "  plt.tight_layout()\n",
        "  # plt.savefig(\"F1.eps\", format = 'eps')\n",
        "  plt.show()"
      ],
      "metadata": {
        "id": "4j3O6CCUxu_a"
      },
      "execution_count": 43,
      "outputs": []
    },
    {
      "cell_type": "code",
      "source": [
        "print(\"Confusion Matrix of Hybrid RF-LSTM Model\") \n",
        "conf_mat(np.argmax(y_test, axis=1), y_pred)"
      ],
      "metadata": {
        "colab": {
          "base_uri": "https://localhost:8080/",
          "height": 568
        },
        "id": "CILITL2Nxxc8",
        "outputId": "20dc620b-714c-4df1-d098-9575f691bde1"
      },
      "execution_count": 44,
      "outputs": [
        {
          "output_type": "stream",
          "name": "stdout",
          "text": [
            "Confusion Matrix of Hybrid RF-LSTM Model\n"
          ]
        },
        {
          "output_type": "display_data",
          "data": {
            "text/plain": [
              "<Figure size 600x550 with 2 Axes>"
            ],
            "image/png": "[encoded data removed]"
          },
          "metadata": {}
        }
      ]
    }
  ]
}