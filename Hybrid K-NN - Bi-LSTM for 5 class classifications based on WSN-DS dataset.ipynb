{
  "nbformat": 4,
  "nbformat_minor": 0,
  "metadata": {
    "colab": {
      "provenance": [],
      "authorship_tag": "ABX9TyNC7seysL655taekTgdZ6g2",
      "include_colab_link": true
    },
    "kernelspec": {
      "name": "python3",
      "display_name": "Python 3"
    },
    "language_info": {
      "name": "python"
    }
  },
  "cells": [
    {
      "cell_type": "markdown",
      "metadata": {
        "id": "view-in-github",
        "colab_type": "text"
      },
      "source": [
        "<a href=\"https://colab.research.google.com/github/sankeawthong/Project-1-Lita-Chatbot/blob/main/Hybrid%20K-NN%20-%20Bi-LSTM%20for%205%20class%20classifications%20based%20on%20WSN-DS%20dataset.ipynb\" target=\"_parent\"><img src=\"https://colab.research.google.com/assets/colab-badge.svg\" alt=\"Open In Colab\"/></a>"
      ]
    },
    {
      "cell_type": "markdown",
      "source": [
        "**Hybrid K-NN - Bi-LSTM for 5 class classifications based on WSN-DS dataset**"
      ],
      "metadata": {
        "id": "-6_czXJWRGKp"
      }
    },
    {
      "cell_type": "code",
      "execution_count": 1,
      "metadata": {
        "id": "2MifIrm9Qqou"
      },
      "outputs": [],
      "source": [
        "import numpy as np\n",
        "import pandas as pd\n",
        "from sklearn.neighbors import KNeighborsClassifier\n",
        "from keras.models import Sequential\n",
        "from keras.layers import LSTM, Dense\n",
        "from sklearn.metrics import accuracy_score"
      ]
    },
    {
      "cell_type": "code",
      "source": [
        "# Load the dataset\n",
        "dataset = pd.read_csv(\"dataset_WSN-DS.csv\")\n",
        "dataset.shape\n",
        "dataset.isnull().sum()\n",
        "dataset.info()\n",
        "dataset[\"Class\"].unique()"
      ],
      "metadata": {
        "colab": {
          "base_uri": "https://localhost:8080/"
        },
        "id": "_gtKAo5xQxft",
        "outputId": "9e98bcfe-f18f-4825-d9e6-8b325433a415"
      },
      "execution_count": 2,
      "outputs": [
        {
          "output_type": "stream",
          "name": "stdout",
          "text": [
            "<class 'pandas.core.frame.DataFrame'>\n",
            "RangeIndex: 374661 entries, 0 to 374660\n",
            "Data columns (total 19 columns):\n",
            " #   Column            Non-Null Count   Dtype  \n",
            "---  ------            --------------   -----  \n",
            " 0    id               374661 non-null  int64  \n",
            " 1    Time             374661 non-null  int64  \n",
            " 2    Is_CH            374661 non-null  int64  \n",
            " 3    who CH           374661 non-null  int64  \n",
            " 4    Dist_To_CH       374661 non-null  float64\n",
            " 5    ADV_S            374661 non-null  int64  \n",
            " 6    ADV_R            374661 non-null  int64  \n",
            " 7    JOIN_S           374661 non-null  int64  \n",
            " 8    JOIN_R           374661 non-null  int64  \n",
            " 9    SCH_S            374661 non-null  int64  \n",
            " 10   SCH_R            374661 non-null  int64  \n",
            " 11  Rank              374661 non-null  int64  \n",
            " 12   DATA_S           374661 non-null  int64  \n",
            " 13   DATA_R           374661 non-null  int64  \n",
            " 14   Data_Sent_To_BS  374661 non-null  int64  \n",
            " 15   dist_CH_To_BS    374661 non-null  float64\n",
            " 16   send_code        374661 non-null  int64  \n",
            " 17  Expaned Energy    374661 non-null  float64\n",
            " 18  Class             374661 non-null  int64  \n",
            "dtypes: float64(3), int64(16)\n",
            "memory usage: 54.3 MB\n"
          ]
        },
        {
          "output_type": "execute_result",
          "data": {
            "text/plain": [
              "array([0, 4, 3, 1, 2])"
            ]
          },
          "metadata": {},
          "execution_count": 2
        }
      ]
    },
    {
      "cell_type": "markdown",
      "source": [
        "**Data preprocessing**"
      ],
      "metadata": {
        "id": "xRZh8F6uRAU4"
      }
    },
    {
      "cell_type": "code",
      "source": [
        "# Data preprocessing\n",
        "y = dataset['Class'].values\n",
        "X = dataset.drop(['Class'], axis=1)\n",
        "X = X.values"
      ],
      "metadata": {
        "id": "xQGMYY93Q2O-"
      },
      "execution_count": 3,
      "outputs": []
    },
    {
      "cell_type": "code",
      "source": [
        "from imblearn.over_sampling import SMOTE\n",
        "from sklearn.model_selection import train_test_split\n",
        "\n",
        "# Data balancing using SMOTE\n",
        "oversample = SMOTE()\n",
        "X, y = oversample.fit_resample(X, y)"
      ],
      "metadata": {
        "id": "4yXdBsC3Q2kE"
      },
      "execution_count": 4,
      "outputs": []
    },
    {
      "cell_type": "code",
      "source": [
        "\n",
        "# Split the data into train and test sets\n",
        "X_train, X_test, y_train, y_test = train_test_split(X, y, test_size=0.2, random_state=101)"
      ],
      "metadata": {
        "id": "-e1VCXy0Q4bW"
      },
      "execution_count": 5,
      "outputs": []
    },
    {
      "cell_type": "markdown",
      "source": [
        "**K-NN Model**"
      ],
      "metadata": {
        "id": "LHr9rch9RZWz"
      }
    },
    {
      "cell_type": "code",
      "source": [
        "# Train the K-NN classifier\n",
        "knn_model = KNeighborsClassifier(n_neighbors=4)\n",
        "knn_model.fit(X_train, y_train)\n",
        "\n",
        "# Obtain predictions from the K-NN classifier\n",
        "knn_pred = knn_model.predict(X_test)"
      ],
      "metadata": {
        "id": "raT67jhnQ4W6"
      },
      "execution_count": 6,
      "outputs": []
    },
    {
      "cell_type": "markdown",
      "source": [
        "**Bi-LSTM Model**"
      ],
      "metadata": {
        "id": "ooZkh8foZHaE"
      }
    },
    {
      "cell_type": "code",
      "source": [
        "from keras.utils import to_categorical\n",
        "from keras.layers import Bidirectional\n",
        "\n",
        "# Reshape the input data for Bi-LSTM (assuming you want to consider a single feature)\n",
        "X_train_bilstm = X_train.reshape(X_train.shape[0], X_train.shape[1], 1)\n",
        "X_test_bilstm = X_test.reshape(X_test.shape[0], X_test.shape[1], 1)\n",
        "\n",
        "# Convert class labels to categorical representation\n",
        "num_classes = len(np.unique(y))\n",
        "y_train_categorical = to_categorical(y_train, num_classes)\n",
        "y_test_categorical = to_categorical(y_test, num_classes)\n",
        "\n",
        "# Train the Bi-LSTM model\n",
        "bilstm_model = Sequential()\n",
        "bilstm_model.add(Bidirectional(LSTM(64), input_shape=(X_train_bilstm.shape[1], X_train_bilstm.shape[2])))\n",
        "bilstm_model.add(Dense(num_classes, activation='softmax'))\n",
        "bilstm_model.compile(loss='categorical_crossentropy', optimizer='adam', metrics=['accuracy'])\n",
        "bilstm_model.fit(X_train_bilstm, y_train_categorical, epochs=10, batch_size=64)\n",
        "\n",
        "# Obtain predictions from the Bi-LSTM model\n",
        "bilstm_pred = np.argmax(bilstm_model.predict(X_test_bilstm), axis=1)"
      ],
      "metadata": {
        "colab": {
          "base_uri": "https://localhost:8080/"
        },
        "id": "Z3bbNa7IQ444",
        "outputId": "9fb1d8eb-48ea-44cd-a89a-05091cfe80f6"
      },
      "execution_count": 7,
      "outputs": [
        {
          "output_type": "stream",
          "name": "stdout",
          "text": [
            "Epoch 1/10\n",
            "21255/21255 [==============================] - 561s 26ms/step - loss: 0.1528 - accuracy: 0.9311\n",
            "Epoch 2/10\n",
            "21255/21255 [==============================] - 480s 23ms/step - loss: 0.0723 - accuracy: 0.9767\n",
            "Epoch 3/10\n",
            "21255/21255 [==============================] - 475s 22ms/step - loss: 0.0647 - accuracy: 0.9789\n",
            "Epoch 4/10\n",
            "21255/21255 [==============================] - 475s 22ms/step - loss: 0.0604 - accuracy: 0.9800\n",
            "Epoch 5/10\n",
            "21255/21255 [==============================] - 524s 25ms/step - loss: 0.0589 - accuracy: 0.9803\n",
            "Epoch 6/10\n",
            "21255/21255 [==============================] - 502s 24ms/step - loss: 0.0566 - accuracy: 0.9810\n",
            "Epoch 7/10\n",
            "21255/21255 [==============================] - 549s 26ms/step - loss: 0.0542 - accuracy: 0.9817\n",
            "Epoch 8/10\n",
            "21255/21255 [==============================] - 476s 22ms/step - loss: 0.0528 - accuracy: 0.9822\n",
            "Epoch 9/10\n",
            "21255/21255 [==============================] - 507s 24ms/step - loss: 0.0516 - accuracy: 0.9825\n",
            "Epoch 10/10\n",
            "21255/21255 [==============================] - 492s 23ms/step - loss: 0.0503 - accuracy: 0.9829\n",
            "10628/10628 [==============================] - 67s 6ms/step\n"
          ]
        }
      ]
    },
    {
      "cell_type": "code",
      "source": [
        "# Combine predictions from K-NN and LSTM models\n",
        "hybrid_pred = np.where(knn_pred == bilstm_pred, knn_pred, -1)  # Replace non-matching predictions with -1\n",
        "\n",
        "# Final prediction using the majority vote\n",
        "final_pred = np.where(hybrid_pred == -1, knn_pred, hybrid_pred)\n",
        "\n",
        "# Calculate accuracy\n",
        "accuracy = accuracy_score(y_test, final_pred)\n",
        "print(\"Hybrid Model Accuracy:\", accuracy)"
      ],
      "metadata": {
        "colab": {
          "base_uri": "https://localhost:8080/"
        },
        "id": "5I0wzh1vR39I",
        "outputId": "b8baba56-f7f2-420c-acf6-86e2421fefbc"
      },
      "execution_count": 8,
      "outputs": [
        {
          "output_type": "stream",
          "name": "stdout",
          "text": [
            "Hybrid Model Accuracy: 0.9936100639287667\n"
          ]
        }
      ]
    },
    {
      "cell_type": "code",
      "source": [
        "import numpy as np\n",
        "import pandas as pd\n",
        "import seaborn as sns\n",
        "import matplotlib.pyplot as plt\n",
        "from sklearn.metrics import confusion_matrix\n",
        "\n",
        "# Create a confusion matrix\n",
        "cm = confusion_matrix(y_test, final_pred)\n",
        "\n",
        "# Get the class labels\n",
        "class_labels = np.unique(y_test)\n",
        "\n",
        "# Create a DataFrame for the confusion matrix\n",
        "cm_df = pd.DataFrame(cm, index=class_labels, columns=class_labels)\n",
        "\n",
        "# Visualize the confusion matrix\n",
        "plt.figure(figsize=(8, 6))\n",
        "sns.heatmap(cm_df, annot=True, fmt=\"d\", cmap=\"YlGnBu\")\n",
        "plt.title(\"Confusion Matrix\")\n",
        "plt.xlabel(\"Predicted\")\n",
        "plt.ylabel(\"Actual\")\n",
        "plt.show()"
      ],
      "metadata": {
        "colab": {
          "base_uri": "https://localhost:8080/",
          "height": 564
        },
        "id": "Hw3SkKILj9AA",
        "outputId": "2c305842-4617-42bd-ea0f-f120dd212b1a"
      },
      "execution_count": 9,
      "outputs": [
        {
          "output_type": "display_data",
          "data": {
            "text/plain": [
              "<Figure size 800x600 with 2 Axes>"
            ],
            "image/png": "[encoded data removed]"
          },
          "metadata": {}
        }
      ]
    },
    {
      "cell_type": "code",
      "source": [
        "import seaborn as sns\n",
        "import matplotlib.pyplot as plt\n",
        "import numpy as np\n",
        "import itertools\n",
        "import seaborn as sns\n",
        "from sklearn import metrics \n",
        "import matplotlib.pyplot as plt\n",
        "from sklearn.metrics import confusion_matrix\n",
        "def conf_mat(d1,d2):\n",
        "  cm = confusion_matrix(d1, d2)\n",
        "  plt.figure(figsize=(6,5.5))\n",
        "  ax = sns.heatmap(cm,  fmt='2', annot=True, cmap='YlGnBu')\n",
        "  sns.set(font_scale=1)\n",
        "  ax.set_xlabel('\\nPredicted Values')\n",
        "  ax.set_ylabel('Actual Values\\n');\n",
        "  ax.xaxis.set_ticklabels(['Normal','Flooding','Blackhole','Forwarding'])\n",
        "  ax.yaxis.set_ticklabels(['Normal','Flooding','Blackhole','Forwarding'])\n",
        "  plt.tight_layout()\n",
        "  # plt.savefig(\"F1.eps\", format = 'eps')\n",
        "  plt.show()"
      ],
      "metadata": {
        "id": "pXzv9-kYh22-"
      },
      "execution_count": null,
      "outputs": []
    },
    {
      "cell_type": "code",
      "source": [
        "print(\"Confusion Matrix of Hybrid KNN-Bi-LSTM Model\") \n",
        "confusion_matrix(y_test, final_pred)"
      ],
      "metadata": {
        "colab": {
          "base_uri": "https://localhost:8080/"
        },
        "id": "k-PYCufoh3tL",
        "outputId": "4a6b496b-a759-4d2e-d4d6-fb85a1aeca4e"
      },
      "execution_count": 10,
      "outputs": [
        {
          "output_type": "stream",
          "name": "stdout",
          "text": [
            "Confusion Matrix of Hybrid KNN-Bi-LSTM Model\n"
          ]
        },
        {
          "output_type": "execute_result",
          "data": {
            "text/plain": [
              "array([[66152,   328,    70,   899,   296],\n",
              "       [   34, 68055,    15,    30,    10],\n",
              "       [   12,    29, 68226,    13,     2],\n",
              "       [  280,    61,    33, 67611,    24],\n",
              "       [   16,    16,     0,     5, 67849]])"
            ]
          },
          "metadata": {},
          "execution_count": 10
        }
      ]
    }
  ]
}