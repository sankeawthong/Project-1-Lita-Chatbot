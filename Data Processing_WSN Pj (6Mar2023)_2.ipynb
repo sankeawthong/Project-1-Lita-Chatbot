{
  "nbformat": 4,
  "nbformat_minor": 0,
  "metadata": {
    "colab": {
      "provenance": [],
      "include_colab_link": true
    },
    "kernelspec": {
      "name": "python3",
      "display_name": "Python 3"
    },
    "language_info": {
      "name": "python"
    }
  },
  "cells": [
    {
      "cell_type": "markdown",
      "metadata": {
        "id": "view-in-github",
        "colab_type": "text"
      },
      "source": [
        "<a href=\"https://colab.research.google.com/github/sankeawthong/Project-1-Lita-Chatbot/blob/main/Data%20Processing_WSN%20Pj%20(6Mar2023)_2.ipynb\" target=\"_parent\"><img src=\"https://colab.research.google.com/assets/colab-badge.svg\" alt=\"Open In Colab\"/></a>"
      ]
    },
    {
      "cell_type": "markdown",
      "source": [
        "## **Data Preprocessing**"
      ],
      "metadata": {
        "id": "1_fn-ylYgh37"
      }
    },
    {
      "cell_type": "code",
      "execution_count": 1,
      "metadata": {
        "id": "9srtAp-lCi2p"
      },
      "outputs": [],
      "source": [
        "import pandas as pd\n",
        "import numpy as np"
      ]
    },
    {
      "cell_type": "code",
      "source": [
        "dataset = pd.read_csv(\"dataset.csv\")\n",
        "dataset.shape\n",
        "dataset.isnull().sum()"
      ],
      "metadata": {
        "id": "BX-KvCJmGeqL",
        "outputId": "2f0df545-289f-4898-fed6-d54772d11ec7",
        "colab": {
          "base_uri": "https://localhost:8080/"
        }
      },
      "execution_count": 2,
      "outputs": [
        {
          "output_type": "execute_result",
          "data": {
            "text/plain": [
              "Event             0\n",
              "Time              0\n",
              "S_Node            0\n",
              "Node_id           0\n",
              "Rest_Energy       0\n",
              "Trace_Level       0\n",
              "Mac_Type_Pckt     0\n",
              "Source_IP_Port    0\n",
              "Des_IP_Port       0\n",
              "Packet_Size       0\n",
              "TTL               0\n",
              "Hop_Count         0\n",
              "Broadcast_ID      0\n",
              "Dest_Node_Num     0\n",
              "Dest_Seq_Num      0\n",
              "Src_Node_ID       0\n",
              "Src_Seq_Num       0\n",
              "Class             0\n",
              "dtype: int64"
            ]
          },
          "metadata": {},
          "execution_count": 2
        }
      ]
    },
    {
      "cell_type": "code",
      "source": [
        "dataset.info()"
      ],
      "metadata": {
        "id": "cKFJbp757ppn",
        "outputId": "f6c7d285-7ec9-4fc9-edb0-b63074dd87eb",
        "colab": {
          "base_uri": "https://localhost:8080/"
        }
      },
      "execution_count": 3,
      "outputs": [
        {
          "output_type": "stream",
          "name": "stdout",
          "text": [
            "<class 'pandas.core.frame.DataFrame'>\n",
            "RangeIndex: 312106 entries, 0 to 312105\n",
            "Data columns (total 18 columns):\n",
            " #   Column          Non-Null Count   Dtype  \n",
            "---  ------          --------------   -----  \n",
            " 0   Event           312106 non-null  int64  \n",
            " 1   Time            312106 non-null  float64\n",
            " 2   S_Node          312106 non-null  int64  \n",
            " 3   Node_id         312106 non-null  int64  \n",
            " 4   Rest_Energy     312106 non-null  float64\n",
            " 5   Trace_Level     312106 non-null  int64  \n",
            " 6   Mac_Type_Pckt   312106 non-null  int64  \n",
            " 7   Source_IP_Port  312106 non-null  float64\n",
            " 8   Des_IP_Port     312106 non-null  float64\n",
            " 9   Packet_Size     312106 non-null  int64  \n",
            " 10  TTL             312106 non-null  int64  \n",
            " 11  Hop_Count       312106 non-null  int64  \n",
            " 12  Broadcast_ID    312106 non-null  int64  \n",
            " 13  Dest_Node_Num   312106 non-null  int64  \n",
            " 14  Dest_Seq_Num    312106 non-null  int64  \n",
            " 15  Src_Node_ID     312106 non-null  int64  \n",
            " 16  Src_Seq_Num     312106 non-null  int64  \n",
            " 17  Class           312106 non-null  int64  \n",
            "dtypes: float64(4), int64(14)\n",
            "memory usage: 42.9 MB\n"
          ]
        }
      ]
    },
    {
      "cell_type": "code",
      "source": [
        "dataset[\"Class\"].unique()"
      ],
      "metadata": {
        "id": "9DxI0XnG-7yM",
        "outputId": "5fee5856-3370-4f83-fec8-352e9a15d14e",
        "colab": {
          "base_uri": "https://localhost:8080/"
        }
      },
      "execution_count": 4,
      "outputs": [
        {
          "output_type": "execute_result",
          "data": {
            "text/plain": [
              "array([0, 1, 2, 3])"
            ]
          },
          "metadata": {},
          "execution_count": 4
        }
      ]
    },
    {
      "cell_type": "markdown",
      "source": [
        "**Data Balancing**"
      ],
      "metadata": {
        "id": "-olqFfxqgy1l"
      }
    },
    {
      "cell_type": "code",
      "source": [
        "#Installing imblearn\n",
        "!pip install -U imbalanced-learn\n",
        "!pip install imbalanced-learn"
      ],
      "metadata": {
        "colab": {
          "base_uri": "https://localhost:8080/"
        },
        "id": "Gt5upN6HHZ0E",
        "outputId": "48203ef6-7451-436f-fd92-3bed8f918a19"
      },
      "execution_count": 5,
      "outputs": [
        {
          "output_type": "stream",
          "name": "stdout",
          "text": [
            "Looking in indexes: https://pypi.org/simple, https://us-python.pkg.dev/colab-wheels/public/simple/\n",
            "Requirement already satisfied: imbalanced-learn in /usr/local/lib/python3.8/dist-packages (0.10.1)\n",
            "Requirement already satisfied: numpy>=1.17.3 in /usr/local/lib/python3.8/dist-packages (from imbalanced-learn) (1.22.4)\n",
            "Requirement already satisfied: joblib>=1.1.1 in /usr/local/lib/python3.8/dist-packages (from imbalanced-learn) (1.2.0)\n",
            "Requirement already satisfied: threadpoolctl>=2.0.0 in /usr/local/lib/python3.8/dist-packages (from imbalanced-learn) (3.1.0)\n",
            "Requirement already satisfied: scipy>=1.3.2 in /usr/local/lib/python3.8/dist-packages (from imbalanced-learn) (1.10.1)\n",
            "Requirement already satisfied: scikit-learn>=1.0.2 in /usr/local/lib/python3.8/dist-packages (from imbalanced-learn) (1.2.1)\n",
            "Looking in indexes: https://pypi.org/simple, https://us-python.pkg.dev/colab-wheels/public/simple/\n",
            "Requirement already satisfied: imbalanced-learn in /usr/local/lib/python3.8/dist-packages (0.10.1)\n",
            "Requirement already satisfied: numpy>=1.17.3 in /usr/local/lib/python3.8/dist-packages (from imbalanced-learn) (1.22.4)\n",
            "Requirement already satisfied: threadpoolctl>=2.0.0 in /usr/local/lib/python3.8/dist-packages (from imbalanced-learn) (3.1.0)\n",
            "Requirement already satisfied: scikit-learn>=1.0.2 in /usr/local/lib/python3.8/dist-packages (from imbalanced-learn) (1.2.1)\n",
            "Requirement already satisfied: joblib>=1.1.1 in /usr/local/lib/python3.8/dist-packages (from imbalanced-learn) (1.2.0)\n",
            "Requirement already satisfied: scipy>=1.3.2 in /usr/local/lib/python3.8/dist-packages (from imbalanced-learn) (1.10.1)\n"
          ]
        }
      ]
    },
    {
      "cell_type": "code",
      "source": [
        "# check version number\n",
        "import imblearn\n",
        "print(imblearn.__version__)"
      ],
      "metadata": {
        "colab": {
          "base_uri": "https://localhost:8080/"
        },
        "id": "8sLT59y3LoBe",
        "outputId": "31111113-ec71-4618-fcd5-0c79862c3f6c"
      },
      "execution_count": 6,
      "outputs": [
        {
          "output_type": "stream",
          "name": "stdout",
          "text": [
            "0.10.1\n"
          ]
        }
      ]
    },
    {
      "cell_type": "code",
      "source": [
        "# Data preprocessing\n",
        "y = dataset['Class'].values\n",
        "X = dataset.drop(['Class'],axis=1)\n",
        "X=X.values\n",
        "print(X)\n",
        "print(y)"
      ],
      "metadata": {
        "colab": {
          "base_uri": "https://localhost:8080/"
        },
        "id": "fMdP3MQOL99k",
        "outputId": "bc3c5ddc-0f25-45d2-e368-a66a04f9a9a2"
      },
      "execution_count": 7,
      "outputs": [
        {
          "output_type": "stream",
          "name": "stdout",
          "text": [
            "[[1.00000000e+00 1.00000000e-01 7.90000000e+01 ... 0.00000000e+00\n",
            "  7.90000000e+01 4.00000000e+00]\n",
            " [2.00000000e+00 1.00963167e-01 7.80000000e+01 ... 0.00000000e+00\n",
            "  7.90000000e+01 4.00000000e+00]\n",
            " [2.00000000e+00 1.00963500e-01 7.60000000e+01 ... 0.00000000e+00\n",
            "  7.90000000e+01 4.00000000e+00]\n",
            " ...\n",
            " [4.00000000e+00 6.57891729e+02 1.40000000e+02 ... 1.60000000e+01\n",
            "  1.40000000e+02 7.60000000e+01]\n",
            " [4.00000000e+00 6.58574656e+02 1.40000000e+02 ... 1.60000000e+01\n",
            "  1.40000000e+02 8.00000000e+01]\n",
            " [4.00000000e+00 6.79054956e+02 1.40000000e+02 ... 1.60000000e+01\n",
            "  1.40000000e+02 9.00000000e+01]]\n",
            "[0 0 0 ... 1 1 1]\n"
          ]
        }
      ]
    },
    {
      "cell_type": "code",
      "source": [
        "import collections as c\n",
        "counter = c.Counter(y)\n",
        "print(counter)"
      ],
      "metadata": {
        "colab": {
          "base_uri": "https://localhost:8080/"
        },
        "id": "pIc9PqLyVqQq",
        "outputId": "21aa38df-b011-4213-e297-5b1201028e62"
      },
      "execution_count": 8,
      "outputs": [
        {
          "output_type": "stream",
          "name": "stdout",
          "text": [
            "Counter({0: 262851, 3: 29844, 1: 11766, 2: 7645})\n"
          ]
        }
      ]
    },
    {
      "cell_type": "code",
      "source": [
        "y"
      ],
      "metadata": {
        "id": "xg6h53s3FGFz",
        "outputId": "d100d758-4fd6-4199-d999-807dae4d2ea5",
        "colab": {
          "base_uri": "https://localhost:8080/"
        }
      },
      "execution_count": 9,
      "outputs": [
        {
          "output_type": "execute_result",
          "data": {
            "text/plain": [
              "array([0, 0, 0, ..., 1, 1, 1])"
            ]
          },
          "metadata": {},
          "execution_count": 9
        }
      ]
    },
    {
      "cell_type": "code",
      "source": [
        "from imblearn.over_sampling import SMOTE\n",
        "oversample = SMOTE()\n",
        "X, y = oversample.fit_resample(X, y)\n",
        "counter = c.Counter(y)\n",
        "print(counter)"
      ],
      "metadata": {
        "colab": {
          "base_uri": "https://localhost:8080/"
        },
        "id": "xOfKphO6WAby",
        "outputId": "54164949-9b0a-48e9-9b86-61a8d4be8c2c"
      },
      "execution_count": 10,
      "outputs": [
        {
          "output_type": "stream",
          "name": "stdout",
          "text": [
            "Counter({0: 262851, 1: 262851, 2: 262851, 3: 262851})\n"
          ]
        }
      ]
    },
    {
      "cell_type": "markdown",
      "source": [
        "**Data Preprocessing for Train and Testing**"
      ],
      "metadata": {
        "id": "wCcGlhvyg7dV"
      }
    },
    {
      "cell_type": "code",
      "source": [
        "from sklearn.model_selection import train_test_split    \n",
        "X_train, X_test, y_train, y_test = train_test_split(X, y, test_size=0.2, random_state=101)"
      ],
      "metadata": {
        "id": "BuiWvaDlWImH"
      },
      "execution_count": 11,
      "outputs": []
    },
    {
      "cell_type": "code",
      "source": [
        "y_test"
      ],
      "metadata": {
        "id": "v0Y4TT4PFKqf",
        "outputId": "3359b351-8f3a-4aa7-b358-679e30891b63",
        "colab": {
          "base_uri": "https://localhost:8080/"
        }
      },
      "execution_count": 12,
      "outputs": [
        {
          "output_type": "execute_result",
          "data": {
            "text/plain": [
              "array([0, 0, 0, ..., 0, 0, 2])"
            ]
          },
          "metadata": {},
          "execution_count": 12
        }
      ]
    },
    {
      "cell_type": "markdown",
      "source": [
        "**Multinomeal Naive Bayes**"
      ],
      "metadata": {
        "id": "rvEbgy3uhQqx"
      }
    },
    {
      "cell_type": "code",
      "source": [
        "from sklearn.naive_bayes import MultinomialNB\n",
        "mnb = MultinomialNB().fit(X_train, y_train)\n",
        "y_test_prediction = mnb.predict(X_test)"
      ],
      "metadata": {
        "id": "tod3zSbaWvki"
      },
      "execution_count": 13,
      "outputs": []
    },
    {
      "cell_type": "code",
      "source": [
        "len(y_test_prediction)"
      ],
      "metadata": {
        "id": "pi2cH2aDEjZt",
        "outputId": "c256a95c-1469-453a-bb09-3bd8d636d801",
        "colab": {
          "base_uri": "https://localhost:8080/"
        }
      },
      "execution_count": 14,
      "outputs": [
        {
          "output_type": "execute_result",
          "data": {
            "text/plain": [
              "210281"
            ]
          },
          "metadata": {},
          "execution_count": 14
        }
      ]
    },
    {
      "cell_type": "code",
      "source": [
        "len(y_test)"
      ],
      "metadata": {
        "id": "Ny_Tgan1Em2M",
        "outputId": "9570aa11-9be6-442c-e189-86da151d82ce",
        "colab": {
          "base_uri": "https://localhost:8080/"
        }
      },
      "execution_count": 15,
      "outputs": [
        {
          "output_type": "execute_result",
          "data": {
            "text/plain": [
              "210281"
            ]
          },
          "metadata": {},
          "execution_count": 15
        }
      ]
    },
    {
      "cell_type": "code",
      "source": [
        "import pandas as pd\n",
        "import numpy as np\n",
        "import seaborn as sns\n",
        "import matplotlib.pyplot as plt\n",
        "import numpy as np\n",
        "import itertools\n",
        "import seaborn as sns\n",
        "from sklearn import metrics \n",
        "import matplotlib.pyplot as plt\n",
        "from sklearn.metrics import confusion_matrix\n",
        "def conf_mat(d1,d2):\n",
        "  cm = confusion_matrix(d1, d2)\n",
        "  plt.figure(figsize=(6,5.5))\n",
        "  ax = sns.heatmap(cm,  fmt='2', annot=True, cmap='hot_r')\n",
        "  sns.set(font_scale=1)\n",
        "  ax.set_xlabel('\\nPredicted Values')\n",
        "  ax.set_ylabel('Actual Values\\n');\n",
        "  ax.xaxis.set_ticklabels(['Normal','Flooding','Blackhole','Forwarding'])\n",
        "  ax.yaxis.set_ticklabels(['Normal','Flooding','Blackhole','Forwarding'])\n",
        "  plt.tight_layout()\n",
        "  # plt.savefig(\"F1.eps\", format = 'eps')\n",
        "  plt.show()"
      ],
      "metadata": {
        "id": "UqosnZxslOiO"
      },
      "execution_count": 16,
      "outputs": []
    },
    {
      "cell_type": "code",
      "source": [
        "# # Creating  a confusion matrix,which compares the y_test and y_pred\n",
        "# cm = confusion_matrix(y_test, y_pred)\n",
        "# # Creating a dataframe for a array-formatted Confusion matrix,so it will be easy for plotting.\n",
        "# cm_df = pd.DataFrame(cm,\n",
        "#                      index = ['SETOSA','VERSICOLR','VIRGINICA'], \n",
        "#                      columns = ['SETOSA','VERSICOLR','VIRGINICA'])\n",
        "# #Plotting the confusion matrix\n",
        "# plt.figure(figsize=(5,4))\n",
        "# sns.heatmap(cm_df, annot=True)\n",
        "# plt.title('Confusion Matrix')\n",
        "# plt.ylabel('Actal Values')\n",
        "# plt.xlabel('Predicted Values')\n",
        "# plt.show()"
      ],
      "metadata": {
        "id": "N_Rwli27Rud4"
      },
      "execution_count": 17,
      "outputs": []
    },
    {
      "cell_type": "code",
      "source": [
        "print(\"Confusion Matrix of Multinomeal Naive Bayes\") \n",
        "conf_mat(y_test, y_test_prediction)"
      ],
      "metadata": {
        "colab": {
          "base_uri": "https://localhost:8080/",
          "height": 418
        },
        "id": "v8a7rTfwlQOC",
        "outputId": "b644a652-109f-42c4-9a14-952fe934817e"
      },
      "execution_count": 18,
      "outputs": [
        {
          "output_type": "stream",
          "name": "stdout",
          "text": [
            "Confusion Matrix of Multinomeal Naive Bayes\n"
          ]
        },
        {
          "output_type": "display_data",
          "data": {
            "text/plain": [
              "<Figure size 432x396 with 2 Axes>"
            ],
            "image/png": "[encoded data removed]"
          },
          "metadata": {
            "needs_background": "light"
          }
        }
      ]
    },
    {
      "cell_type": "code",
      "source": [
        "from sklearn.metrics import precision_recall_fscore_support, accuracy_score, precision_score, recall_score, f1_score\n",
        "def performance(model,y1, y2):\n",
        "  print(\"Model Name is :\",model)\n",
        "  acc=(metrics.accuracy_score(y1, y2,sample_weight=None)*100)\n",
        "  print(\"Accuracy :\",acc)\n",
        "  pre=(precision_score(y1, y2, average='weighted', sample_weight=None)*100)\n",
        "  print(\"Precision :\",pre)\n",
        "  rec=(recall_score(y1,y2,average='weighted',sample_weight=None)*100)\n",
        "  print(\"Recall :\",rec)\n",
        "  f1=(f1_score(y1,y2, average='weighted', sample_weight=None))\n",
        "  print(\"F1-Score :\",f1) \n"
      ],
      "metadata": {
        "id": "hf--gZ4HYmB9"
      },
      "execution_count": 19,
      "outputs": []
    },
    {
      "cell_type": "code",
      "source": [
        "performance(\"Multinomeal Naive Bayes\",y_test, y_test_prediction)"
      ],
      "metadata": {
        "colab": {
          "base_uri": "https://localhost:8080/"
        },
        "id": "Af4sfeu4cdoO",
        "outputId": "da29d3a3-9097-4711-f83c-ee0644792042"
      },
      "execution_count": 20,
      "outputs": [
        {
          "output_type": "stream",
          "name": "stdout",
          "text": [
            "Model Name is : Multinomeal Naive Bayes\n",
            "Accuracy : 61.556203365972195\n",
            "Precision : 59.91609808386951\n",
            "Recall : 61.556203365972195\n",
            "F1-Score : 0.5990939220641928\n"
          ]
        }
      ]
    },
    {
      "cell_type": "markdown",
      "source": [
        "**Logistic Regression**"
      ],
      "metadata": {
        "id": "62-okMkzn7xQ"
      }
    },
    {
      "cell_type": "code",
      "source": [
        "from sklearn.linear_model import LogisticRegression\n",
        "lr=LogisticRegression(max_iter=10)\n",
        "lr.fit(X_train, y_train)\n",
        "y_test_prediction = lr.predict(X_test)"
      ],
      "metadata": {
        "id": "ng6wBzzKf-8B",
        "colab": {
          "base_uri": "https://localhost:8080/"
        },
        "outputId": "a26cd380-fdb0-4526-a96a-11726ea90f1a"
      },
      "execution_count": 21,
      "outputs": [
        {
          "output_type": "stream",
          "name": "stderr",
          "text": [
            "/usr/local/lib/python3.8/dist-packages/sklearn/linear_model/_logistic.py:458: ConvergenceWarning: lbfgs failed to converge (status=1):\n",
            "STOP: TOTAL NO. of ITERATIONS REACHED LIMIT.\n",
            "\n",
            "Increase the number of iterations (max_iter) or scale the data as shown in:\n",
            "    https://scikit-learn.org/stable/modules/preprocessing.html\n",
            "Please also refer to the documentation for alternative solver options:\n",
            "    https://scikit-learn.org/stable/modules/linear_model.html#logistic-regression\n",
            "  n_iter_i = _check_optimize_result(\n"
          ]
        }
      ]
    },
    {
      "cell_type": "code",
      "source": [
        "print(\"Confusion Matrix of Logistic Regression\") \n",
        "conf_mat(y_test, y_test_prediction)"
      ],
      "metadata": {
        "colab": {
          "base_uri": "https://localhost:8080/",
          "height": 418
        },
        "id": "-Q7vpmEXlHcl",
        "outputId": "5ed0ca80-74dc-42fe-ba3c-7a542028aeb1"
      },
      "execution_count": 22,
      "outputs": [
        {
          "output_type": "stream",
          "name": "stdout",
          "text": [
            "Confusion Matrix of Logistic Regression\n"
          ]
        },
        {
          "output_type": "display_data",
          "data": {
            "text/plain": [
              "<Figure size 432x396 with 2 Axes>"
            ],
            "image/png": "[encoded data removed]"
          },
          "metadata": {}
        }
      ]
    },
    {
      "cell_type": "code",
      "source": [
        "performance(\"Logistic Regression\",y_test, y_test_prediction)"
      ],
      "metadata": {
        "colab": {
          "base_uri": "https://localhost:8080/"
        },
        "id": "Yeek1xZroRN5",
        "outputId": "e0a186eb-e87b-4ad8-807f-d642bb2ba44e"
      },
      "execution_count": 23,
      "outputs": [
        {
          "output_type": "stream",
          "name": "stdout",
          "text": [
            "Model Name is : Logistic Regression\n",
            "Accuracy : 56.96377704119725\n",
            "Precision : 54.37810750207803\n",
            "Recall : 56.96377704119725\n",
            "F1-Score : 0.550447160365231\n"
          ]
        }
      ]
    },
    {
      "cell_type": "markdown",
      "source": [
        "**KNN**"
      ],
      "metadata": {
        "id": "pSeEC9L7pEro"
      }
    },
    {
      "cell_type": "code",
      "source": [
        "from sklearn.neighbors import KNeighborsClassifier\n",
        "knn = KNeighborsClassifier()\n",
        "knn.fit(X_train, y_train)\n",
        "y_test_prediction = knn.predict(X_test)"
      ],
      "metadata": {
        "id": "YdOUUWE5oth7"
      },
      "execution_count": null,
      "outputs": []
    },
    {
      "cell_type": "code",
      "source": [
        "print(\"Confusion Matrix of KNN\") \n",
        "conf_mat(y_test, y_test_prediction)"
      ],
      "metadata": {
        "id": "RE8ov9FopW0O"
      },
      "execution_count": null,
      "outputs": []
    },
    {
      "cell_type": "code",
      "source": [
        "performance(\"KNN\",y_test, y_test_prediction)"
      ],
      "metadata": {
        "id": "IQtIG_P3pit1"
      },
      "execution_count": null,
      "outputs": []
    },
    {
      "cell_type": "markdown",
      "source": [
        "**SVM**"
      ],
      "metadata": {
        "id": "fOhnBSQFqFeG"
      }
    },
    {
      "cell_type": "code",
      "source": [
        "from sklearn.svm import LinearSVC\n",
        "svm=LinearSVC(C=0.0001)\n",
        "svm.fit(X_train, y_train)\n",
        "y_test_prediction = svm.predict(X_test)"
      ],
      "metadata": {
        "id": "hQjPDDHbp1kc"
      },
      "execution_count": null,
      "outputs": []
    },
    {
      "cell_type": "code",
      "source": [
        "print(\"Confusion Matrix of SVM\") \n",
        "conf_mat(y_test, y_test_prediction)"
      ],
      "metadata": {
        "id": "Wn6EGyEZqPxz"
      },
      "execution_count": null,
      "outputs": []
    },
    {
      "cell_type": "code",
      "source": [
        "performance(\"SVM\",y_test, y_test_prediction)"
      ],
      "metadata": {
        "id": "lVN2cUV8qVD1"
      },
      "execution_count": null,
      "outputs": []
    },
    {
      "cell_type": "markdown",
      "source": [
        "**Decision Tree**"
      ],
      "metadata": {
        "id": "3Aob1mn4qyfp"
      }
    },
    {
      "cell_type": "code",
      "source": [
        "from sklearn.tree import DecisionTreeClassifier\n",
        "clf = DecisionTreeClassifier()\n",
        "clf.fit(X_train, y_train)\n",
        "y_test_prediction = clf.predict(X_test)"
      ],
      "metadata": {
        "id": "IFa82cjkqbA0"
      },
      "execution_count": null,
      "outputs": []
    },
    {
      "cell_type": "code",
      "source": [
        "print(\"Confusion Matrix of Decision Tree\") \n",
        "conf_mat(y_test, y_test_prediction)"
      ],
      "metadata": {
        "id": "Y1FsBJnzq3S6"
      },
      "execution_count": null,
      "outputs": []
    },
    {
      "cell_type": "code",
      "source": [
        "performance(\"Decision Tree\",y_test, y_test_prediction)"
      ],
      "metadata": {
        "id": "HvLZFR8Kq9Zz"
      },
      "execution_count": null,
      "outputs": []
    },
    {
      "cell_type": "markdown",
      "source": [
        "**K-means**"
      ],
      "metadata": {
        "id": "FBuVw1GhwrxP"
      }
    },
    {
      "cell_type": "code",
      "source": [
        "from sklearn.cluster import KMeans\n",
        "kmeans = KMeans(n_clusters=4, random_state=0).fit(X_train)\n",
        "y_test_prediction=kmeans.predict(X_test)"
      ],
      "metadata": {
        "id": "uqDHvPO9rPR-"
      },
      "execution_count": null,
      "outputs": []
    },
    {
      "cell_type": "code",
      "source": [
        "print(\"Confusion Matrix of K-means\") \n",
        "conf_mat(y_test, y_test_prediction)"
      ],
      "metadata": {
        "id": "nctHqf5px42H"
      },
      "execution_count": null,
      "outputs": []
    },
    {
      "cell_type": "code",
      "source": [
        "performance(\"K-means\",y_test, y_test_prediction)"
      ],
      "metadata": {
        "id": "bpirfquBySKV"
      },
      "execution_count": null,
      "outputs": []
    },
    {
      "cell_type": "markdown",
      "source": [
        "**Begging Method**"
      ],
      "metadata": {
        "id": "IvyVpC-qzulR"
      }
    },
    {
      "cell_type": "code",
      "source": [
        "from sklearn.ensemble import BaggingClassifier\n",
        "from sklearn.tree import DecisionTreeClassifier\n",
        "bg=BaggingClassifier(DecisionTreeClassifier(),max_samples=0.5,max_features=1.0,n_estimators=10)\n",
        "bg.fit(X_train, y_train)\n",
        "y_test_prediction = bg.predict(X_test)"
      ],
      "metadata": {
        "id": "_L9yfh9xyw91"
      },
      "execution_count": null,
      "outputs": []
    },
    {
      "cell_type": "code",
      "source": [
        "print(\"Confusion Matrix of Begging\") \n",
        "conf_mat(y_test, y_test_prediction)"
      ],
      "metadata": {
        "id": "8iZfJAsAzytm"
      },
      "execution_count": null,
      "outputs": []
    },
    {
      "cell_type": "code",
      "source": [
        "performance(\"Begging\",y_test, y_test_prediction)"
      ],
      "metadata": {
        "id": "rdRW_jEJz8_4"
      },
      "execution_count": null,
      "outputs": []
    },
    {
      "cell_type": "markdown",
      "source": [
        "**AdaBoost**"
      ],
      "metadata": {
        "id": "BR3Kt0TJ0nTx"
      }
    },
    {
      "cell_type": "code",
      "source": [
        "from sklearn.ensemble import AdaBoostClassifier\n",
        "from sklearn.tree import DecisionTreeClassifier\n",
        "adb = AdaBoostClassifier(DecisionTreeClassifier(min_samples_split=10,max_depth=4),n_estimators=10,learning_rate=0.6)\n",
        "adb.fit(X_train, y_train)\n",
        "y_test_prediction = adb.predict(X_test)"
      ],
      "metadata": {
        "id": "ywE6UBPx0X4v"
      },
      "execution_count": null,
      "outputs": []
    },
    {
      "cell_type": "code",
      "source": [
        "print(\"Confusion Matrix of Ada Boost\") \n",
        "conf_mat(y_test, y_test_prediction)"
      ],
      "metadata": {
        "id": "QqJHXVrm1AtM"
      },
      "execution_count": null,
      "outputs": []
    },
    {
      "cell_type": "code",
      "source": [
        "performance(\"Ada Boost\",y_test, y_test_prediction)"
      ],
      "metadata": {
        "id": "5uC0Qli21C2F"
      },
      "execution_count": null,
      "outputs": []
    },
    {
      "cell_type": "markdown",
      "source": [
        "**Random Forest**"
      ],
      "metadata": {
        "id": "dw23Chs81jIh"
      }
    },
    {
      "cell_type": "code",
      "source": [
        "from sklearn.ensemble import RandomForestClassifier\n",
        "rf = RandomForestClassifier(n_estimators=30, max_depth=9)\n",
        "rf.fit(X_train, y_train)\n",
        "y_test_prediction = rf.predict(X_test)"
      ],
      "metadata": {
        "id": "mBcIK56K1TEI"
      },
      "execution_count": null,
      "outputs": []
    },
    {
      "cell_type": "code",
      "source": [
        "print(\"Confusion Matrix of Random Forest\") \n",
        "conf_mat(y_test, y_test_prediction)"
      ],
      "metadata": {
        "id": "bac8cuZ01rJu"
      },
      "execution_count": null,
      "outputs": []
    },
    {
      "cell_type": "code",
      "source": [
        "performance(\"Random Forest\",y_test, y_test_prediction)"
      ],
      "metadata": {
        "id": "HlgJez5i1y85"
      },
      "execution_count": null,
      "outputs": []
    },
    {
      "cell_type": "markdown",
      "source": [
        "**Multi Voting**"
      ],
      "metadata": {
        "id": "0KanHC5e2ONu"
      }
    },
    {
      "cell_type": "code",
      "source": [
        "from sklearn.ensemble import VotingClassifier\n",
        "# 1) naive bias = mnb\n",
        "# 2) logistic regression =lr\n",
        "# 3) random forest =rf\n",
        "# 4) support vector machine = svm\n",
        "evc=VotingClassifier(estimators=[('mnb',mnb),('lr',lr),('rf',rf),('svm',svm)],voting='hard')\n",
        "evc.fit(X_train, y_train)\n",
        "y_test_prediction = evc.predict(X_test)"
      ],
      "metadata": {
        "id": "wWy_oy7X2F5Z"
      },
      "execution_count": null,
      "outputs": []
    },
    {
      "cell_type": "code",
      "source": [
        "print(\"Confusion Matrix of Voting\") \n",
        "conf_mat(y_test, y_test_prediction)"
      ],
      "metadata": {
        "id": "wpmpwJxL2XPr"
      },
      "execution_count": null,
      "outputs": []
    },
    {
      "cell_type": "code",
      "source": [
        "performance(\"Voting\",y_test, y_test_prediction)"
      ],
      "metadata": {
        "id": "BOCh_N9_2d7w"
      },
      "execution_count": null,
      "outputs": []
    },
    {
      "cell_type": "code",
      "source": [],
      "metadata": {
        "id": "LrWfF2Q_CxiC"
      },
      "execution_count": null,
      "outputs": []
    }
  ]
}