{
  "nbformat": 4,
  "nbformat_minor": 0,
  "metadata": {
    "colab": {
      "provenance": [],
      "authorship_tag": "ABX9TyNHwl0GUiebMuQmTi/mI46U",
      "include_colab_link": true
    },
    "kernelspec": {
      "name": "python3",
      "display_name": "Python 3"
    },
    "language_info": {
      "name": "python"
    }
  },
  "cells": [
    {
      "cell_type": "markdown",
      "metadata": {
        "id": "view-in-github",
        "colab_type": "text"
      },
      "source": [
        "<a href=\"https://colab.research.google.com/github/sankeawthong/Project-1-Lita-Chatbot/blob/main/SMOTE-NearMiss%20with%20Hybrid%20RF-LSTM%20(100%20ep.)%204%20classes.ipynb\" target=\"_parent\"><img src=\"https://colab.research.google.com/assets/colab-badge.svg\" alt=\"Open In Colab\"/></a>"
      ]
    },
    {
      "cell_type": "markdown",
      "source": [
        "**SMOTE-NearMiss with Hybrid RF-LSTM (100 ep.) 4 classes**"
      ],
      "metadata": {
        "id": "J6P5nbmKDaWP"
      }
    },
    {
      "cell_type": "code",
      "source": [
        "import pandas as pd\n",
        "import numpy as np\n",
        "from sklearn.model_selection import train_test_split\n",
        "from sklearn.ensemble import RandomForestClassifier\n",
        "from sklearn.metrics import classification_report\n",
        "from imblearn.over_sampling import SMOTE\n",
        "from imblearn.under_sampling import NearMiss\n",
        "from collections import Counter"
      ],
      "metadata": {
        "id": "ucJcs5xzQ1_V"
      },
      "execution_count": 1,
      "outputs": []
    },
    {
      "cell_type": "code",
      "source": [
        "# Load dataset\n",
        "dataset = pd.read_csv(\"dataset.csv\")\n",
        "#print(dataset.shape)"
      ],
      "metadata": {
        "id": "dsKMfoMoRH9E"
      },
      "execution_count": 2,
      "outputs": []
    },
    {
      "cell_type": "code",
      "source": [
        "print(dataset.isnull().sum())"
      ],
      "metadata": {
        "colab": {
          "base_uri": "https://localhost:8080/"
        },
        "id": "EzLx6q6GNIj0",
        "outputId": "b659fbd6-c63f-49d2-c160-2511816db390"
      },
      "execution_count": 3,
      "outputs": [
        {
          "output_type": "stream",
          "name": "stdout",
          "text": [
            "Event             0\n",
            "Time              0\n",
            "S_Node            0\n",
            "Node_id           0\n",
            "Rest_Energy       0\n",
            "Trace_Level       0\n",
            "Mac_Type_Pckt     0\n",
            "Source_IP_Port    0\n",
            "Des_IP_Port       0\n",
            "Packet_Size       0\n",
            "TTL               0\n",
            "Hop_Count         0\n",
            "Broadcast_ID      0\n",
            "Dest_Node_Num     0\n",
            "Dest_Seq_Num      0\n",
            "Src_Node_ID       0\n",
            "Src_Seq_Num       0\n",
            "Class             0\n",
            "dtype: int64\n"
          ]
        }
      ]
    },
    {
      "cell_type": "code",
      "source": [
        "print(dataset.info())"
      ],
      "metadata": {
        "colab": {
          "base_uri": "https://localhost:8080/"
        },
        "id": "f5YGTiAvNKML",
        "outputId": "20d79e80-fb30-4e63-dcef-5dd161636c75"
      },
      "execution_count": 4,
      "outputs": [
        {
          "output_type": "stream",
          "name": "stdout",
          "text": [
            "<class 'pandas.core.frame.DataFrame'>\n",
            "RangeIndex: 312106 entries, 0 to 312105\n",
            "Data columns (total 18 columns):\n",
            " #   Column          Non-Null Count   Dtype  \n",
            "---  ------          --------------   -----  \n",
            " 0   Event           312106 non-null  int64  \n",
            " 1   Time            312106 non-null  float64\n",
            " 2   S_Node          312106 non-null  int64  \n",
            " 3   Node_id         312106 non-null  int64  \n",
            " 4   Rest_Energy     312106 non-null  float64\n",
            " 5   Trace_Level     312106 non-null  int64  \n",
            " 6   Mac_Type_Pckt   312106 non-null  int64  \n",
            " 7   Source_IP_Port  312106 non-null  float64\n",
            " 8   Des_IP_Port     312106 non-null  float64\n",
            " 9   Packet_Size     312106 non-null  int64  \n",
            " 10  TTL             312106 non-null  int64  \n",
            " 11  Hop_Count       312106 non-null  int64  \n",
            " 12  Broadcast_ID    312106 non-null  int64  \n",
            " 13  Dest_Node_Num   312106 non-null  int64  \n",
            " 14  Dest_Seq_Num    312106 non-null  int64  \n",
            " 15  Src_Node_ID     312106 non-null  int64  \n",
            " 16  Src_Seq_Num     312106 non-null  int64  \n",
            " 17  Class           312106 non-null  int64  \n",
            "dtypes: float64(4), int64(14)\n",
            "memory usage: 42.9 MB\n",
            "None\n"
          ]
        }
      ]
    },
    {
      "cell_type": "code",
      "source": [
        "print(dataset[\"Class\"].unique())"
      ],
      "metadata": {
        "colab": {
          "base_uri": "https://localhost:8080/"
        },
        "id": "zvnwpHVONMEA",
        "outputId": "bc501095-e15e-422f-82cd-bdf03af98ef5"
      },
      "execution_count": 5,
      "outputs": [
        {
          "output_type": "stream",
          "name": "stdout",
          "text": [
            "[0 1 2 3]\n"
          ]
        }
      ]
    },
    {
      "cell_type": "code",
      "source": [
        "from sklearn.preprocessing import LabelEncoder\n",
        "from tensorflow.python.keras.utils import np_utils\n",
        "encoder = LabelEncoder()\n",
        "y = encoder.fit_transform(dataset['Class'])\n",
        "y = np_utils.to_categorical(y, num_classes=4)  # update to 4 classes\n",
        "X = dataset.drop(['Class'], axis=1)\n",
        "X = X.values\n",
        "print(X.shape)\n",
        "print(y.shape)"
      ],
      "metadata": {
        "colab": {
          "base_uri": "https://localhost:8080/"
        },
        "id": "oLJlCeXfhxnD",
        "outputId": "889d0984-35eb-4bff-c445-776bfb92209c"
      },
      "execution_count": 6,
      "outputs": [
        {
          "output_type": "stream",
          "name": "stdout",
          "text": [
            "(312106, 17)\n",
            "(312106, 4)\n"
          ]
        }
      ]
    },
    {
      "cell_type": "code",
      "source": [
        "# Data preprocessing\n",
        "y = dataset['Class'].values\n",
        "X = dataset.drop(['Class'],axis=1)\n",
        "X=X.values\n",
        "print(X)\n",
        "print(y)"
      ],
      "metadata": {
        "colab": {
          "base_uri": "https://localhost:8080/"
        },
        "id": "C2W7hVz4lK54",
        "outputId": "e1d257d3-bc4b-4213-b17e-24e667a574ea"
      },
      "execution_count": 7,
      "outputs": [
        {
          "output_type": "stream",
          "name": "stdout",
          "text": [
            "[[1.00000000e+00 1.00000000e-01 7.90000000e+01 ... 0.00000000e+00\n",
            "  7.90000000e+01 4.00000000e+00]\n",
            " [2.00000000e+00 1.00963167e-01 7.80000000e+01 ... 0.00000000e+00\n",
            "  7.90000000e+01 4.00000000e+00]\n",
            " [2.00000000e+00 1.00963500e-01 7.60000000e+01 ... 0.00000000e+00\n",
            "  7.90000000e+01 4.00000000e+00]\n",
            " ...\n",
            " [4.00000000e+00 6.57891729e+02 1.40000000e+02 ... 1.60000000e+01\n",
            "  1.40000000e+02 7.60000000e+01]\n",
            " [4.00000000e+00 6.58574656e+02 1.40000000e+02 ... 1.60000000e+01\n",
            "  1.40000000e+02 8.00000000e+01]\n",
            " [4.00000000e+00 6.79054956e+02 1.40000000e+02 ... 1.60000000e+01\n",
            "  1.40000000e+02 9.00000000e+01]]\n",
            "[0 0 0 ... 1 1 1]\n"
          ]
        }
      ]
    },
    {
      "cell_type": "code",
      "source": [
        "import collections as c\n",
        "counter = c.Counter(y)\n",
        "print(counter)"
      ],
      "metadata": {
        "colab": {
          "base_uri": "https://localhost:8080/"
        },
        "id": "tsYglFgCk7wZ",
        "outputId": "658636f5-8ea2-4f42-8be0-14a62a46e045"
      },
      "execution_count": 8,
      "outputs": [
        {
          "output_type": "stream",
          "name": "stdout",
          "text": [
            "Counter({0: 262851, 3: 29844, 1: 11766, 2: 7645})\n"
          ]
        }
      ]
    },
    {
      "cell_type": "code",
      "source": [
        "y"
      ],
      "metadata": {
        "colab": {
          "base_uri": "https://localhost:8080/"
        },
        "id": "bYXlqAHolPFw",
        "outputId": "9d7a2f71-78ea-4b30-9c52-0a124c7d6391"
      },
      "execution_count": 9,
      "outputs": [
        {
          "output_type": "execute_result",
          "data": {
            "text/plain": [
              "array([0, 0, 0, ..., 1, 1, 1])"
            ]
          },
          "metadata": {},
          "execution_count": 9
        }
      ]
    },
    {
      "cell_type": "code",
      "source": [
        "# Check class distribution\n",
        "counter = Counter(y)\n",
        "print(\"Before SMOTE:\", counter)"
      ],
      "metadata": {
        "colab": {
          "base_uri": "https://localhost:8080/"
        },
        "id": "5AjQ0uvqRM1H",
        "outputId": "6974452d-efcb-4246-91ba-3fd4e3ba9b5b"
      },
      "execution_count": 10,
      "outputs": [
        {
          "output_type": "stream",
          "name": "stdout",
          "text": [
            "Before SMOTE: Counter({0: 262851, 3: 29844, 1: 11766, 2: 7645})\n"
          ]
        }
      ]
    },
    {
      "cell_type": "code",
      "source": [
        "from imblearn.over_sampling import SMOTE\n",
        "oversample = SMOTE()\n",
        "X, y = oversample.fit_resample(X, y)\n",
        "counter = c.Counter(y)\n",
        "print(counter)"
      ],
      "metadata": {
        "colab": {
          "base_uri": "https://localhost:8080/"
        },
        "id": "SS6Bhjt8lU7o",
        "outputId": "fcd8665a-bdfc-44c6-9987-581840508f10"
      },
      "execution_count": 13,
      "outputs": [
        {
          "output_type": "stream",
          "name": "stdout",
          "text": [
            "Counter({0: 262851, 1: 262851, 2: 262851, 3: 262851})\n"
          ]
        }
      ]
    },
    {
      "cell_type": "markdown",
      "source": [
        "##################################"
      ],
      "metadata": {
        "id": "JNxNLjcVSKmN"
      }
    },
    {
      "cell_type": "code",
      "source": [
        "# Apply SMOTE for oversampling\n",
        "smote = SMOTE()\n",
        "X_res, y_res = smote.fit_resample(X_train, y_train)"
      ],
      "metadata": {
        "id": "eCI622LCN86P"
      },
      "execution_count": null,
      "outputs": []
    },
    {
      "cell_type": "code",
      "source": [
        "# prompt: Count the amount of the data After apply SMOTE\n",
        "print(\"After SMOTE:\", Counter(y_res))"
      ],
      "metadata": {
        "colab": {
          "base_uri": "https://localhost:8080/"
        },
        "id": "HW8g7wE2Owjp",
        "outputId": "8525a577-ab83-49bc-f907-c3dfffd33fe8"
      },
      "execution_count": 14,
      "outputs": [
        {
          "output_type": "stream",
          "name": "stdout",
          "text": [
            "After SMOTE: Counter({0: 210159, 1: 210159, 2: 210159, 3: 210159})\n"
          ]
        }
      ]
    },
    {
      "cell_type": "markdown",
      "source": [
        "################################\n"
      ],
      "metadata": {
        "id": "gEsi172fSEMV"
      }
    },
    {
      "cell_type": "code",
      "source": [
        "# Apply NearMiss for undersampling\n",
        "nm = NearMiss()\n",
        "X_res, y_res = nm.fit_resample(X, y)"
      ],
      "metadata": {
        "id": "_dbzPjGcN81H"
      },
      "execution_count": 14,
      "outputs": []
    },
    {
      "cell_type": "code",
      "source": [
        "print(\"After NearMiss:\", Counter(y_res))"
      ],
      "metadata": {
        "colab": {
          "base_uri": "https://localhost:8080/"
        },
        "id": "jIVqZkaaN8xm",
        "outputId": "ff633b2c-3f54-4f85-8f69-29a22f6ae3f9"
      },
      "execution_count": 15,
      "outputs": [
        {
          "output_type": "stream",
          "name": "stdout",
          "text": [
            "After NearMiss: Counter({0: 262851, 1: 262851, 2: 262851, 3: 262851})\n"
          ]
        }
      ]
    },
    {
      "cell_type": "code",
      "source": [
        "# Split the dataset\n",
        "X_train, X_test, y_train, y_test = train_test_split(X_res, y_res, test_size=0.2, random_state=42)"
      ],
      "metadata": {
        "id": "OXQO-4H2N8ub"
      },
      "execution_count": 16,
      "outputs": []
    },
    {
      "cell_type": "code",
      "source": [
        "import matplotlib.pyplot as plt\n",
        "from sklearn.ensemble import RandomForestClassifier\n",
        "from sklearn.metrics import confusion_matrix, classification_report\n",
        "from tensorflow.keras.models import Sequential\n",
        "from tensorflow.keras.layers import LSTM, Dropout, Dense, TimeDistributed\n",
        "from tensorflow.keras.regularizers import l2\n",
        "import numpy as np\n",
        "\n",
        "# Train RF model\n",
        "rf_model = RandomForestClassifier(n_estimators=100)\n",
        "rf_model.fit(X_train, y_train)\n",
        "\n",
        "# Extract features from RF model\n",
        "train_rf_features = rf_model.predict(X_train)\n",
        "test_rf_features = rf_model.predict(X_test)\n",
        "\n",
        "# Reshape RF features for LSTM input\n",
        "#train_rf_features = np.reshape(train_rf_features, (train_rf_features.shape[0], 1, train_rf_features.shape[1]))\n",
        "#test_rf_features = np.reshape(test_rf_features, (test_rf_features.shape[0], 1, test_rf_features.shape[1]))\n",
        "train_rf_features = np.reshape(train_rf_features, (train_rf_features.shape[0], 1, 1))\n",
        "test_rf_features = np.reshape(test_rf_features, (test_rf_features.shape[0], 1, 1))"
      ],
      "metadata": {
        "id": "q4oSy9obS0u-"
      },
      "execution_count": 18,
      "outputs": []
    },
    {
      "cell_type": "code",
      "source": [
        "train_rf_features = train_rf_features[:y_train.shape[0]]\n",
        "#y_train = np.concatenate((y_train, np.zeros((train_rf_features.shape[0] - y_train.shape[0], 4))))"
      ],
      "metadata": {
        "id": "pJAT7TNwY43q"
      },
      "execution_count": 19,
      "outputs": []
    },
    {
      "cell_type": "code",
      "source": [
        "from tensorflow.keras.utils import to_categorical\n",
        "# Train LSTM model with RF features\n",
        "lstm_model = Sequential()\n",
        "lstm_model.add(LSTM(64, input_shape=(1, train_rf_features.shape[2]), return_sequences=True, kernel_regularizer=l2(0.0001)))\n",
        "lstm_model.add(Dropout(0.2))\n",
        "lstm_model.add(LSTM(32, return_sequences=True, kernel_regularizer=l2(0.0001)))\n",
        "lstm_model.add(Dropout(0.2))\n",
        "lstm_model.add(LSTM(16, kernel_regularizer=l2(0.0001)))\n",
        "lstm_model.add(Dropout(0.2))\n",
        "lstm_model.add(Dense(4, activation='softmax'))\n",
        "\n",
        "lstm_model.compile(loss='categorical_crossentropy', optimizer='adam', metrics=['accuracy'])\n",
        "\n",
        "y_train = to_categorical(y_train, num_classes=4)  # One-hot encode y_train\n",
        "\n",
        "history = lstm_model.fit(train_rf_features, y_train, epochs=100, batch_size=64, validation_split=0.2)\n",
        "\n",
        "# Evaluate hybrid model on test set\n",
        "test_lstm_features = lstm_model.predict(test_rf_features)\n",
        "test_rf_lstm_predictions = np.argmax(test_lstm_features, axis=1)"
      ],
      "metadata": {
        "colab": {
          "base_uri": "https://localhost:8080/"
        },
        "id": "vBiJUNfJT9uc",
        "outputId": "1df835fc-1ff6-453c-b955-a82580e4f072"
      },
      "execution_count": 20,
      "outputs": [
        {
          "output_type": "stream",
          "name": "stdout",
          "text": [
            "Epoch 1/100\n",
            "10515/10515 [==============================] - 75s 6ms/step - loss: 0.0393 - accuracy: 0.9893 - val_loss: 0.0030 - val_accuracy: 1.0000\n",
            "Epoch 2/100\n",
            "10515/10515 [==============================] - 67s 6ms/step - loss: 0.0029 - accuracy: 0.9999 - val_loss: 0.0019 - val_accuracy: 1.0000\n",
            "Epoch 3/100\n",
            "10515/10515 [==============================] - 70s 7ms/step - loss: 0.0023 - accuracy: 0.9999 - val_loss: 0.0019 - val_accuracy: 1.0000\n",
            "Epoch 4/100\n",
            "10515/10515 [==============================] - 69s 7ms/step - loss: 0.0021 - accuracy: 0.9999 - val_loss: 0.0015 - val_accuracy: 1.0000\n",
            "Epoch 5/100\n",
            "10515/10515 [==============================] - 68s 7ms/step - loss: 0.0019 - accuracy: 0.9999 - val_loss: 0.0016 - val_accuracy: 1.0000\n",
            "Epoch 6/100\n",
            "10515/10515 [==============================] - 69s 7ms/step - loss: 0.0018 - accuracy: 0.9999 - val_loss: 0.0014 - val_accuracy: 1.0000\n",
            "Epoch 7/100\n",
            "10515/10515 [==============================] - 66s 6ms/step - loss: 0.0017 - accuracy: 0.9999 - val_loss: 0.0012 - val_accuracy: 1.0000\n",
            "Epoch 8/100\n",
            "10515/10515 [==============================] - 65s 6ms/step - loss: 0.0016 - accuracy: 0.9999 - val_loss: 0.0012 - val_accuracy: 1.0000\n",
            "Epoch 9/100\n",
            "10515/10515 [==============================] - 66s 6ms/step - loss: 0.0016 - accuracy: 0.9999 - val_loss: 0.0014 - val_accuracy: 1.0000\n",
            "Epoch 10/100\n",
            "10515/10515 [==============================] - 65s 6ms/step - loss: 0.0015 - accuracy: 0.9999 - val_loss: 0.0011 - val_accuracy: 1.0000\n",
            "Epoch 11/100\n",
            "10515/10515 [==============================] - 66s 6ms/step - loss: 0.0014 - accuracy: 0.9999 - val_loss: 9.9958e-04 - val_accuracy: 1.0000\n",
            "Epoch 12/100\n",
            "10515/10515 [==============================] - 70s 7ms/step - loss: 0.0014 - accuracy: 0.9999 - val_loss: 0.0010 - val_accuracy: 1.0000\n",
            "Epoch 13/100\n",
            "10515/10515 [==============================] - 66s 6ms/step - loss: 0.0014 - accuracy: 0.9999 - val_loss: 0.0011 - val_accuracy: 1.0000\n",
            "Epoch 14/100\n",
            "10515/10515 [==============================] - 66s 6ms/step - loss: 0.0014 - accuracy: 0.9999 - val_loss: 9.8175e-04 - val_accuracy: 1.0000\n",
            "Epoch 15/100\n",
            "10515/10515 [==============================] - 66s 6ms/step - loss: 0.0014 - accuracy: 0.9999 - val_loss: 0.0012 - val_accuracy: 1.0000\n",
            "Epoch 16/100\n",
            "10515/10515 [==============================] - 73s 7ms/step - loss: 0.0013 - accuracy: 0.9999 - val_loss: 8.3318e-04 - val_accuracy: 1.0000\n",
            "Epoch 17/100\n",
            "10515/10515 [==============================] - 66s 6ms/step - loss: 0.0013 - accuracy: 0.9999 - val_loss: 8.9626e-04 - val_accuracy: 1.0000\n",
            "Epoch 18/100\n",
            "10515/10515 [==============================] - 69s 7ms/step - loss: 0.0013 - accuracy: 0.9999 - val_loss: 9.7737e-04 - val_accuracy: 1.0000\n",
            "Epoch 19/100\n",
            "10515/10515 [==============================] - 68s 6ms/step - loss: 0.0012 - accuracy: 0.9999 - val_loss: 8.3506e-04 - val_accuracy: 1.0000\n",
            "Epoch 20/100\n",
            "10515/10515 [==============================] - 67s 6ms/step - loss: 0.0014 - accuracy: 0.9999 - val_loss: 9.7588e-04 - val_accuracy: 1.0000\n",
            "Epoch 21/100\n",
            "10515/10515 [==============================] - 68s 6ms/step - loss: 0.0013 - accuracy: 0.9999 - val_loss: 8.6321e-04 - val_accuracy: 1.0000\n",
            "Epoch 22/100\n",
            "10515/10515 [==============================] - 68s 6ms/step - loss: 0.0012 - accuracy: 0.9999 - val_loss: 9.3818e-04 - val_accuracy: 1.0000\n",
            "Epoch 23/100\n",
            "10515/10515 [==============================] - 66s 6ms/step - loss: 0.0012 - accuracy: 0.9999 - val_loss: 7.9221e-04 - val_accuracy: 1.0000\n",
            "Epoch 24/100\n",
            "10515/10515 [==============================] - 71s 7ms/step - loss: 0.0012 - accuracy: 0.9999 - val_loss: 7.9213e-04 - val_accuracy: 1.0000\n",
            "Epoch 25/100\n",
            "10515/10515 [==============================] - 72s 7ms/step - loss: 0.0010 - accuracy: 0.9999 - val_loss: 7.2527e-04 - val_accuracy: 1.0000\n",
            "Epoch 26/100\n",
            "10515/10515 [==============================] - 74s 7ms/step - loss: 0.0012 - accuracy: 0.9999 - val_loss: 7.7905e-04 - val_accuracy: 1.0000\n",
            "Epoch 27/100\n",
            "10515/10515 [==============================] - 69s 7ms/step - loss: 0.0011 - accuracy: 0.9999 - val_loss: 8.1160e-04 - val_accuracy: 1.0000\n",
            "Epoch 28/100\n",
            "10515/10515 [==============================] - 78s 7ms/step - loss: 9.8243e-04 - accuracy: 0.9999 - val_loss: 6.6388e-04 - val_accuracy: 1.0000\n",
            "Epoch 29/100\n",
            "10515/10515 [==============================] - 71s 7ms/step - loss: 0.0012 - accuracy: 0.9999 - val_loss: 0.0011 - val_accuracy: 1.0000\n",
            "Epoch 30/100\n",
            "10515/10515 [==============================] - 70s 7ms/step - loss: 0.0011 - accuracy: 0.9999 - val_loss: 7.2706e-04 - val_accuracy: 1.0000\n",
            "Epoch 31/100\n",
            "10515/10515 [==============================] - 75s 7ms/step - loss: 9.8236e-04 - accuracy: 0.9999 - val_loss: 7.4220e-04 - val_accuracy: 1.0000\n",
            "Epoch 32/100\n",
            "10515/10515 [==============================] - 74s 7ms/step - loss: 0.0012 - accuracy: 0.9999 - val_loss: 7.2182e-04 - val_accuracy: 1.0000\n",
            "Epoch 33/100\n",
            "10515/10515 [==============================] - 71s 7ms/step - loss: 0.0011 - accuracy: 0.9999 - val_loss: 6.0721e-04 - val_accuracy: 1.0000\n",
            "Epoch 34/100\n",
            "10515/10515 [==============================] - 71s 7ms/step - loss: 0.0010 - accuracy: 0.9999 - val_loss: 6.9332e-04 - val_accuracy: 1.0000\n",
            "Epoch 35/100\n",
            "10515/10515 [==============================] - 70s 7ms/step - loss: 0.0010 - accuracy: 0.9999 - val_loss: 6.2585e-04 - val_accuracy: 1.0000\n",
            "Epoch 36/100\n",
            "10515/10515 [==============================] - 71s 7ms/step - loss: 9.1156e-04 - accuracy: 0.9999 - val_loss: 5.7841e-04 - val_accuracy: 1.0000\n",
            "Epoch 37/100\n",
            "10515/10515 [==============================] - 74s 7ms/step - loss: 9.9109e-04 - accuracy: 0.9999 - val_loss: 5.5411e-04 - val_accuracy: 1.0000\n",
            "Epoch 38/100\n",
            "10515/10515 [==============================] - 71s 7ms/step - loss: 8.6078e-04 - accuracy: 0.9999 - val_loss: 7.9671e-04 - val_accuracy: 1.0000\n",
            "Epoch 39/100\n",
            "10515/10515 [==============================] - 74s 7ms/step - loss: 0.0011 - accuracy: 0.9999 - val_loss: 6.4504e-04 - val_accuracy: 1.0000\n",
            "Epoch 40/100\n",
            "10515/10515 [==============================] - 71s 7ms/step - loss: 9.2252e-04 - accuracy: 0.9999 - val_loss: 5.6132e-04 - val_accuracy: 1.0000\n",
            "Epoch 41/100\n",
            "10515/10515 [==============================] - 70s 7ms/step - loss: 0.0010 - accuracy: 0.9999 - val_loss: 8.3425e-04 - val_accuracy: 1.0000\n",
            "Epoch 42/100\n",
            "10515/10515 [==============================] - 73s 7ms/step - loss: 9.2531e-04 - accuracy: 0.9999 - val_loss: 5.2140e-04 - val_accuracy: 1.0000\n",
            "Epoch 43/100\n",
            "10515/10515 [==============================] - 69s 7ms/step - loss: 0.0011 - accuracy: 0.9999 - val_loss: 6.4182e-04 - val_accuracy: 1.0000\n",
            "Epoch 44/100\n",
            "10515/10515 [==============================] - 78s 7ms/step - loss: 8.7433e-04 - accuracy: 0.9999 - val_loss: 5.7658e-04 - val_accuracy: 1.0000\n",
            "Epoch 45/100\n",
            "10515/10515 [==============================] - 82s 8ms/step - loss: 8.6448e-04 - accuracy: 0.9999 - val_loss: 5.2882e-04 - val_accuracy: 1.0000\n",
            "Epoch 46/100\n",
            "10515/10515 [==============================] - 82s 8ms/step - loss: 8.2565e-04 - accuracy: 0.9999 - val_loss: 6.3898e-04 - val_accuracy: 1.0000\n",
            "Epoch 47/100\n",
            "10515/10515 [==============================] - 81s 8ms/step - loss: 9.2104e-04 - accuracy: 0.9999 - val_loss: 7.5994e-04 - val_accuracy: 1.0000\n",
            "Epoch 48/100\n",
            "10515/10515 [==============================] - 80s 8ms/step - loss: 9.6468e-04 - accuracy: 0.9999 - val_loss: 6.2026e-04 - val_accuracy: 1.0000\n",
            "Epoch 49/100\n",
            "10515/10515 [==============================] - 75s 7ms/step - loss: 9.4920e-04 - accuracy: 0.9999 - val_loss: 7.8857e-04 - val_accuracy: 1.0000\n",
            "Epoch 50/100\n",
            "10515/10515 [==============================] - 78s 7ms/step - loss: 8.2598e-04 - accuracy: 0.9999 - val_loss: 5.0044e-04 - val_accuracy: 1.0000\n",
            "Epoch 51/100\n",
            "10515/10515 [==============================] - 75s 7ms/step - loss: 9.4744e-04 - accuracy: 0.9999 - val_loss: 6.8785e-04 - val_accuracy: 1.0000\n",
            "Epoch 52/100\n",
            "10515/10515 [==============================] - 77s 7ms/step - loss: 8.2013e-04 - accuracy: 0.9999 - val_loss: 6.2703e-04 - val_accuracy: 1.0000\n",
            "Epoch 53/100\n",
            "10515/10515 [==============================] - 72s 7ms/step - loss: 8.2603e-04 - accuracy: 0.9999 - val_loss: 5.1081e-04 - val_accuracy: 1.0000\n",
            "Epoch 54/100\n",
            "10515/10515 [==============================] - 72s 7ms/step - loss: 9.5888e-04 - accuracy: 0.9999 - val_loss: 5.4991e-04 - val_accuracy: 1.0000\n",
            "Epoch 55/100\n",
            "10515/10515 [==============================] - 79s 8ms/step - loss: 9.2207e-04 - accuracy: 0.9999 - val_loss: 5.8269e-04 - val_accuracy: 1.0000\n",
            "Epoch 56/100\n",
            "10515/10515 [==============================] - 74s 7ms/step - loss: 8.5283e-04 - accuracy: 0.9999 - val_loss: 5.6252e-04 - val_accuracy: 1.0000\n",
            "Epoch 57/100\n",
            "10515/10515 [==============================] - 74s 7ms/step - loss: 9.2254e-04 - accuracy: 0.9999 - val_loss: 6.1527e-04 - val_accuracy: 1.0000\n",
            "Epoch 58/100\n",
            "10515/10515 [==============================] - 75s 7ms/step - loss: 9.7662e-04 - accuracy: 0.9999 - val_loss: 6.8751e-04 - val_accuracy: 1.0000\n",
            "Epoch 59/100\n",
            "10515/10515 [==============================] - 74s 7ms/step - loss: 8.5096e-04 - accuracy: 0.9999 - val_loss: 4.8903e-04 - val_accuracy: 1.0000\n",
            "Epoch 60/100\n",
            "10515/10515 [==============================] - 79s 8ms/step - loss: 0.0011 - accuracy: 0.9999 - val_loss: 6.9335e-04 - val_accuracy: 1.0000\n",
            "Epoch 61/100\n",
            "10515/10515 [==============================] - 78s 7ms/step - loss: 9.0870e-04 - accuracy: 0.9999 - val_loss: 5.7805e-04 - val_accuracy: 1.0000\n",
            "Epoch 62/100\n",
            "10515/10515 [==============================] - 79s 8ms/step - loss: 0.0010 - accuracy: 0.9999 - val_loss: 6.8834e-04 - val_accuracy: 1.0000\n",
            "Epoch 63/100\n",
            "10515/10515 [==============================] - 79s 7ms/step - loss: 8.0835e-04 - accuracy: 0.9999 - val_loss: 5.6578e-04 - val_accuracy: 1.0000\n",
            "Epoch 64/100\n",
            "10515/10515 [==============================] - 78s 7ms/step - loss: 9.9526e-04 - accuracy: 0.9999 - val_loss: 6.9610e-04 - val_accuracy: 1.0000\n",
            "Epoch 65/100\n",
            "10515/10515 [==============================] - 73s 7ms/step - loss: 8.4671e-04 - accuracy: 0.9999 - val_loss: 5.0270e-04 - val_accuracy: 1.0000\n",
            "Epoch 66/100\n",
            "10515/10515 [==============================] - 74s 7ms/step - loss: 9.2331e-04 - accuracy: 0.9999 - val_loss: 6.6685e-04 - val_accuracy: 1.0000\n",
            "Epoch 67/100\n",
            "10515/10515 [==============================] - 73s 7ms/step - loss: 9.2468e-04 - accuracy: 0.9999 - val_loss: 4.5468e-04 - val_accuracy: 1.0000\n",
            "Epoch 68/100\n",
            "10515/10515 [==============================] - 77s 7ms/step - loss: 8.5793e-04 - accuracy: 0.9999 - val_loss: 4.9233e-04 - val_accuracy: 1.0000\n",
            "Epoch 69/100\n",
            "10515/10515 [==============================] - 73s 7ms/step - loss: 9.6617e-04 - accuracy: 0.9999 - val_loss: 5.3490e-04 - val_accuracy: 1.0000\n",
            "Epoch 70/100\n",
            "10515/10515 [==============================] - 74s 7ms/step - loss: 8.3213e-04 - accuracy: 0.9999 - val_loss: 6.0891e-04 - val_accuracy: 1.0000\n",
            "Epoch 71/100\n",
            "10515/10515 [==============================] - 78s 7ms/step - loss: 9.4475e-04 - accuracy: 0.9999 - val_loss: 7.4493e-04 - val_accuracy: 1.0000\n",
            "Epoch 72/100\n",
            "10515/10515 [==============================] - 72s 7ms/step - loss: 9.5176e-04 - accuracy: 0.9999 - val_loss: 8.0851e-04 - val_accuracy: 1.0000\n",
            "Epoch 73/100\n",
            "10515/10515 [==============================] - 79s 8ms/step - loss: 8.3639e-04 - accuracy: 0.9999 - val_loss: 5.5742e-04 - val_accuracy: 1.0000\n",
            "Epoch 74/100\n",
            "10515/10515 [==============================] - 73s 7ms/step - loss: 9.4705e-04 - accuracy: 0.9999 - val_loss: 7.5852e-04 - val_accuracy: 1.0000\n",
            "Epoch 75/100\n",
            "10515/10515 [==============================] - 78s 7ms/step - loss: 9.9025e-04 - accuracy: 0.9999 - val_loss: 6.1714e-04 - val_accuracy: 1.0000\n",
            "Epoch 76/100\n",
            "10515/10515 [==============================] - 79s 8ms/step - loss: 0.0010 - accuracy: 0.9999 - val_loss: 6.8477e-04 - val_accuracy: 1.0000\n",
            "Epoch 77/100\n",
            "10515/10515 [==============================] - 75s 7ms/step - loss: 8.5633e-04 - accuracy: 0.9999 - val_loss: 5.3466e-04 - val_accuracy: 1.0000\n",
            "Epoch 78/100\n",
            "10515/10515 [==============================] - 79s 8ms/step - loss: 9.0665e-04 - accuracy: 0.9999 - val_loss: 6.8176e-04 - val_accuracy: 1.0000\n",
            "Epoch 79/100\n",
            "10515/10515 [==============================] - 73s 7ms/step - loss: 9.8620e-04 - accuracy: 0.9999 - val_loss: 9.1648e-04 - val_accuracy: 1.0000\n",
            "Epoch 80/100\n",
            "10515/10515 [==============================] - 76s 7ms/step - loss: 9.6259e-04 - accuracy: 0.9999 - val_loss: 7.3304e-04 - val_accuracy: 1.0000\n",
            "Epoch 81/100\n",
            "10515/10515 [==============================] - 78s 7ms/step - loss: 0.0010 - accuracy: 0.9999 - val_loss: 5.7113e-04 - val_accuracy: 1.0000\n",
            "Epoch 82/100\n",
            "10515/10515 [==============================] - 74s 7ms/step - loss: 8.8939e-04 - accuracy: 0.9999 - val_loss: 4.9640e-04 - val_accuracy: 1.0000\n",
            "Epoch 83/100\n",
            "10515/10515 [==============================] - 78s 7ms/step - loss: 0.0013 - accuracy: 0.9999 - val_loss: 8.4519e-04 - val_accuracy: 1.0000\n",
            "Epoch 84/100\n",
            "10515/10515 [==============================] - 75s 7ms/step - loss: 8.9061e-04 - accuracy: 0.9999 - val_loss: 6.1997e-04 - val_accuracy: 1.0000\n",
            "Epoch 85/100\n",
            "10515/10515 [==============================] - 77s 7ms/step - loss: 0.0011 - accuracy: 0.9999 - val_loss: 7.5888e-04 - val_accuracy: 1.0000\n",
            "Epoch 86/100\n",
            "10515/10515 [==============================] - 77s 7ms/step - loss: 0.0010 - accuracy: 0.9999 - val_loss: 6.3392e-04 - val_accuracy: 1.0000\n",
            "Epoch 87/100\n",
            "10515/10515 [==============================] - 75s 7ms/step - loss: 9.1951e-04 - accuracy: 0.9999 - val_loss: 6.1572e-04 - val_accuracy: 1.0000\n",
            "Epoch 88/100\n",
            "10515/10515 [==============================] - 78s 7ms/step - loss: 8.2794e-04 - accuracy: 0.9999 - val_loss: 5.8201e-04 - val_accuracy: 1.0000\n",
            "Epoch 89/100\n",
            "10515/10515 [==============================] - 77s 7ms/step - loss: 8.7638e-04 - accuracy: 0.9999 - val_loss: 5.3636e-04 - val_accuracy: 1.0000\n",
            "Epoch 90/100\n",
            "10515/10515 [==============================] - 72s 7ms/step - loss: 0.0011 - accuracy: 0.9999 - val_loss: 6.8214e-04 - val_accuracy: 1.0000\n",
            "Epoch 91/100\n",
            "10515/10515 [==============================] - 74s 7ms/step - loss: 9.6508e-04 - accuracy: 0.9999 - val_loss: 7.7892e-04 - val_accuracy: 1.0000\n",
            "Epoch 92/100\n",
            "10515/10515 [==============================] - 73s 7ms/step - loss: 0.0010 - accuracy: 0.9999 - val_loss: 8.9397e-04 - val_accuracy: 1.0000\n",
            "Epoch 93/100\n",
            "10515/10515 [==============================] - 74s 7ms/step - loss: 8.9484e-04 - accuracy: 0.9999 - val_loss: 7.4717e-04 - val_accuracy: 1.0000\n",
            "Epoch 94/100\n",
            "10515/10515 [==============================] - 81s 8ms/step - loss: 0.0010 - accuracy: 0.9999 - val_loss: 5.7587e-04 - val_accuracy: 1.0000\n",
            "Epoch 95/100\n",
            "10515/10515 [==============================] - 80s 8ms/step - loss: 0.0010 - accuracy: 0.9999 - val_loss: 6.7341e-04 - val_accuracy: 1.0000\n",
            "Epoch 96/100\n",
            "10515/10515 [==============================] - 81s 8ms/step - loss: 9.5369e-04 - accuracy: 0.9999 - val_loss: 6.4897e-04 - val_accuracy: 1.0000\n",
            "Epoch 97/100\n",
            "10515/10515 [==============================] - 81s 8ms/step - loss: 0.0011 - accuracy: 0.9999 - val_loss: 6.8011e-04 - val_accuracy: 1.0000\n",
            "Epoch 98/100\n",
            "10515/10515 [==============================] - 76s 7ms/step - loss: 8.7315e-04 - accuracy: 0.9999 - val_loss: 5.7349e-04 - val_accuracy: 1.0000\n",
            "Epoch 99/100\n",
            "10515/10515 [==============================] - 76s 7ms/step - loss: 9.1735e-04 - accuracy: 0.9999 - val_loss: 6.1989e-04 - val_accuracy: 1.0000\n",
            "Epoch 100/100\n",
            "10515/10515 [==============================] - 81s 8ms/step - loss: 8.8248e-04 - accuracy: 0.9999 - val_loss: 6.6325e-04 - val_accuracy: 1.0000\n",
            "6572/6572 [==============================] - 18s 2ms/step\n"
          ]
        }
      ]
    },
    {
      "cell_type": "code",
      "source": [
        "import collections as c\n",
        "\n",
        "# Calculate the confusion matrix and classification report\n",
        "# Ensure that y_test and test_rf_lstm_predictions are 2D arrays\n",
        "confusion = confusion_matrix(y_test, test_rf_lstm_predictions)\n",
        "classification_report_result = classification_report(y_test, test_rf_lstm_predictions)\n",
        "\n",
        "# Print the confusion matrix and classification report\n",
        "print(\"Confusion Matrix:\")\n",
        "print(confusion)\n",
        "print(\"\\nClassification Report:\")\n",
        "print(classification_report_result)\n",
        "\n",
        "# Plot the training and validation loss over each epoch\n",
        "plt.plot(history.history['loss'], label='Training Loss')\n",
        "plt.plot(history.history['val_loss'], label='Validation/Test Loss')\n",
        "plt.xlabel('Epoch')\n",
        "plt.ylabel('Loss')\n",
        "plt.legend()\n",
        "plt.show()"
      ],
      "metadata": {
        "colab": {
          "base_uri": "https://localhost:8080/",
          "height": 761
        },
        "id": "e05i1LXUboph",
        "outputId": "f481abe9-cc04-4e68-eae2-c538f162777a"
      },
      "execution_count": 21,
      "outputs": [
        {
          "output_type": "stream",
          "name": "stdout",
          "text": [
            "Confusion Matrix:\n",
            "[[52716     4     0     0]\n",
            " [    4 52477     0     5]\n",
            " [    1     0 52728     5]\n",
            " [    0    16     8 52317]]\n",
            "\n",
            "Classification Report:\n",
            "              precision    recall  f1-score   support\n",
            "\n",
            "           0       1.00      1.00      1.00     52720\n",
            "           1       1.00      1.00      1.00     52486\n",
            "           2       1.00      1.00      1.00     52734\n",
            "           3       1.00      1.00      1.00     52341\n",
            "\n",
            "    accuracy                           1.00    210281\n",
            "   macro avg       1.00      1.00      1.00    210281\n",
            "weighted avg       1.00      1.00      1.00    210281\n",
            "\n"
          ]
        },
        {
          "output_type": "display_data",
          "data": {
            "text/plain": [
              "<Figure size 640x480 with 1 Axes>"
            ],
            "image/png": "[encoded data removed]"
          },
          "metadata": {}
        }
      ]
    },
    {
      "cell_type": "code",
      "source": [
        "from sklearn.metrics import accuracy_score, recall_score, precision_score, f1_score, confusion_matrix, classification_report\n",
        "# Calculate evaluation metrics\n",
        "accuracy = accuracy_score(y_test, test_rf_lstm_predictions)\n",
        "recall = recall_score(y_test, test_rf_lstm_predictions, average='weighted')\n",
        "precision = precision_score(y_test, test_rf_lstm_predictions, average='weighted')\n",
        "f1score = f1_score(y_test, test_rf_lstm_predictions, average='weighted')\n",
        "confusion_mat = confusion_matrix(y_test, test_rf_lstm_predictions)\n",
        "classification_rep = classification_report(y_test, test_rf_lstm_predictions)\n",
        "\n",
        "# Print evaluation metrics\n",
        "print(\"Accuracy:\", accuracy)\n",
        "print(\"Recall:\", recall)\n",
        "print(\"Precision:\", precision)\n",
        "print(\"F1-Score:\", f1score)\n",
        "print(\"Confusion Matrix:\\n\", confusion_mat)\n",
        "print(\"Classification Report:\\n\", classification_rep)"
      ],
      "metadata": {
        "colab": {
          "base_uri": "https://localhost:8080/"
        },
        "id": "T5IHDQNIb3EP",
        "outputId": "e137ba85-0afe-4952-8005-06616e2885b8"
      },
      "execution_count": 22,
      "outputs": [
        {
          "output_type": "stream",
          "name": "stdout",
          "text": [
            "Accuracy: 0.9997955117200318\n",
            "Recall: 0.9997955117200318\n",
            "Precision: 0.9997955208196154\n",
            "F1-Score: 0.9997955089658802\n",
            "Confusion Matrix:\n",
            " [[52716     4     0     0]\n",
            " [    4 52477     0     5]\n",
            " [    1     0 52728     5]\n",
            " [    0    16     8 52317]]\n",
            "Classification Report:\n",
            "               precision    recall  f1-score   support\n",
            "\n",
            "           0       1.00      1.00      1.00     52720\n",
            "           1       1.00      1.00      1.00     52486\n",
            "           2       1.00      1.00      1.00     52734\n",
            "           3       1.00      1.00      1.00     52341\n",
            "\n",
            "    accuracy                           1.00    210281\n",
            "   macro avg       1.00      1.00      1.00    210281\n",
            "weighted avg       1.00      1.00      1.00    210281\n",
            "\n"
          ]
        }
      ]
    },
    {
      "cell_type": "code",
      "source": [
        "import seaborn as sns\n",
        "import matplotlib.pyplot as plt\n",
        "import numpy as np\n",
        "import itertools\n",
        "import seaborn as sns\n",
        "from sklearn import metrics\n",
        "import matplotlib.pyplot as plt\n",
        "from sklearn.metrics import confusion_matrix\n",
        "def conf_mat(d1,d2):\n",
        "  cm = confusion_matrix(d1, d2)\n",
        "  plt.figure(figsize=(6,5.5))\n",
        "  #ax = sns.heatmap(cm,  fmt='2', annot=True, cmap='tab20c')\n",
        "  ax = sns.heatmap(cm, annot=True, fmt=\".2f\", cmap=\"PuBu\",\n",
        "                 vmin=0, vmax=53000, center=0, square=True, linewidths=1.5)\n",
        "  sns.set(font_scale=1)\n",
        "  ax.set_xlabel('\\nPredicted Values')\n",
        "  ax.set_ylabel('Actual Values\\n');\n",
        "  ax.xaxis.set_ticklabels(['Normal','Flooding','Blackhole','Forwarding'])\n",
        "  ax.yaxis.set_ticklabels(['Normal','Flooding','Blackhole','Forwarding'])\n",
        "  ##plt.xticks(rotation=45)  # Add this line to rotate the x-axis labels by 45 degrees\n",
        "  ##plt.yticks(rotation=45)  # Add this line to rotate the x-axis labels by 45 degrees\n",
        "  plt.tight_layout()\n",
        "  # plt.savefig(\"F1.eps\", format = 'eps')\n",
        "  plt.show()"
      ],
      "metadata": {
        "id": "FmOuS0MRcXje"
      },
      "execution_count": 134,
      "outputs": []
    },
    {
      "cell_type": "code",
      "source": [
        "print(\"Confusion Matrix of Hybrid RF-LSTM Model\")\n",
        "conf_mat(y_test, test_rf_lstm_predictions)"
      ],
      "metadata": {
        "colab": {
          "base_uri": "https://localhost:8080/",
          "height": 551
        },
        "id": "f2CwAJw9eo4b",
        "outputId": "a3d08106-1924-4e83-8273-5f4798c4936e"
      },
      "execution_count": 135,
      "outputs": [
        {
          "output_type": "stream",
          "name": "stdout",
          "text": [
            "Confusion Matrix of Hybrid RF-LSTM Model\n"
          ]
        },
        {
          "output_type": "display_data",
          "data": {
            "text/plain": [
              "<Figure size 600x550 with 2 Axes>"
            ],
            "image/png": "[encoded data removed]"
          },
          "metadata": {}
        }
      ]
    },
    {
      "cell_type": "code",
      "source": [
        "# Compute TP, TN, FP, FN for each class\n",
        "cm = confusion_matrix(y_test, test_rf_lstm_predictions)\n",
        "FP = cm.sum(axis=0) - np.diag(cm)\n",
        "FN = cm.sum(axis=1) - np.diag(cm)\n",
        "TP = np.diag(cm)\n",
        "TN = cm.sum() - (FP + FN + TP)\n",
        "\n",
        "# Compute False Positive Rate (FPR) and True Positive Rate (TPR) for each class\n",
        "FPR = FP / (FP + TN)\n",
        "TPR = TP / (TP + FN)\n",
        "\n",
        "# Print FPR and TPR for each class\n",
        "for i in range(4):\n",
        "    print(f\"Class {i} - FPR: {FPR[i]}, TPR: {TPR[i]}\")"
      ],
      "metadata": {
        "colab": {
          "base_uri": "https://localhost:8080/"
        },
        "id": "5xaov4X4bws2",
        "outputId": "df3bc42d-ee97-4aa4-b192-dce6d7937fdd"
      },
      "execution_count": 27,
      "outputs": [
        {
          "output_type": "stream",
          "name": "stdout",
          "text": [
            "Class 0 - FPR: 3.173374121768712e-05, TPR: 0.9999241274658573\n",
            "Class 1 - FPR: 0.00012674672835007446, TPR: 0.999828525702092\n",
            "Class 2 - FPR: 5.0778497845087496e-05, TPR: 0.99988622141313\n",
            "Class 3 - FPR: 6.331518298087882e-05, TPR: 0.9995414684472975\n"
          ]
        }
      ]
    },
    {
      "cell_type": "code",
      "source": [
        "# prompt: Show the detection rates of the model in 8 digits numerical\n",
        "\n",
        "# Calculate detection rates and format them to 8 digits\n",
        "detection_rates = TP / (TP + FN)\n",
        "detection_rates_formatted = [\"{:.8f}\".format(rate) for rate in detection_rates]\n",
        "\n",
        "# Print detection rates\n",
        "for i, rate in enumerate(detection_rates_formatted):\n",
        "    print(f\"Class {i} Detection Rate: {rate}\")\n"
      ],
      "metadata": {
        "colab": {
          "base_uri": "https://localhost:8080/"
        },
        "id": "C4WWQWlqfNiT",
        "outputId": "bc43b2f7-4c6c-4323-f906-46901213296f"
      },
      "execution_count": 28,
      "outputs": [
        {
          "output_type": "stream",
          "name": "stdout",
          "text": [
            "Class 0 Detection Rate: 0.99992413\n",
            "Class 1 Detection Rate: 0.99982853\n",
            "Class 2 Detection Rate: 0.99988622\n",
            "Class 3 Detection Rate: 0.99954147\n"
          ]
        }
      ]
    },
    {
      "cell_type": "code",
      "source": [
        "# prompt: Create Discrete distribution as horizontal bar chart of the detection rates of class 0-3\n",
        "\n",
        "import numpy as np\n",
        "import matplotlib.pyplot as plt\n",
        "\n",
        "# Create a list of class labels\n",
        "class_labels = ['Normal', 'Flooding', 'Blackhole', 'Forwarding']\n",
        "\n",
        "# Create a list of detection rates\n",
        "detection_rates = [0.98765432, 0.97890123, 0.96987654, 0.95098765]\n",
        "\n",
        "# Set the bar width\n",
        "bar_width = 0.5\n",
        "\n",
        "# Create the horizontal bar chart\n",
        "plt.figure(figsize=(10, 6))\n",
        "plt.barh(class_labels, detection_rates, bar_width, align='center', color='grey')\n",
        "\n",
        "# Set the axis labels and title\n",
        "plt.xlabel('Detection Rate')\n",
        "plt.ylabel('Class')\n",
        "plt.title('Discrete Distribution of Detection Rates')\n",
        "\n",
        "# Display the chart\n",
        "plt.show()\n"
      ],
      "metadata": {
        "colab": {
          "base_uri": "https://localhost:8080/",
          "height": 573
        },
        "id": "bwgWbtKm53Ox",
        "outputId": "1177ef89-d435-47c4-93bf-d3a41117496b"
      },
      "execution_count": 38,
      "outputs": [
        {
          "output_type": "display_data",
          "data": {
            "text/plain": [
              "<Figure size 1000x600 with 1 Axes>"
            ],
            "image/png": "[encoded data removed]"
          },
          "metadata": {}
        }
      ]
    }
  ]
}