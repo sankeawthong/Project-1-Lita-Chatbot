{
  "nbformat": 4,
  "nbformat_minor": 0,
  "metadata": {
    "colab": {
      "provenance": [],
      "authorship_tag": "ABX9TyPzOMyAkeDVgkCLdUTaMv19",
      "include_colab_link": true
    },
    "kernelspec": {
      "name": "python3",
      "display_name": "Python 3"
    },
    "language_info": {
      "name": "python"
    }
  },
  "cells": [
    {
      "cell_type": "markdown",
      "metadata": {
        "id": "view-in-github",
        "colab_type": "text"
      },
      "source": [
        "<a href=\"https://colab.research.google.com/github/sankeawthong/Project-1-Lita-Chatbot/blob/main/Hybrid%20KNN-RNN%20for%205%20class%20classifications%20based%20on%20WSN-DS%20dataset.ipynb\" target=\"_parent\"><img src=\"https://colab.research.google.com/assets/colab-badge.svg\" alt=\"Open In Colab\"/></a>"
      ]
    },
    {
      "cell_type": "markdown",
      "source": [
        "### **Hybrid KNN-RNN for 5 class classifications based on WSN-DS dataset**"
      ],
      "metadata": {
        "id": "wu0dKtKYH6gn"
      }
    },
    {
      "cell_type": "code",
      "execution_count": 1,
      "metadata": {
        "id": "QHcwZv32Hx_k"
      },
      "outputs": [],
      "source": [
        "import pandas as pd\n",
        "import numpy as np\n",
        "from sklearn.model_selection import train_test_split\n",
        "from sklearn.preprocessing import LabelEncoder\n",
        "from sklearn.neighbors import KNeighborsClassifier\n",
        "from keras.models import Sequential\n",
        "from keras.layers import LSTM, Dense\n",
        "from keras.utils import to_categorical\n",
        "from sklearn.metrics import classification_report, confusion_matrix\n",
        "from imblearn.over_sampling import SMOTE"
      ]
    },
    {
      "cell_type": "code",
      "source": [
        "# Load the dataset\n",
        "dataset = pd.read_csv(\"dataset_WSN-DS.csv\")\n",
        "\n",
        "# Check for missing values\n",
        "dataset.isnull().sum()"
      ],
      "metadata": {
        "colab": {
          "base_uri": "https://localhost:8080/"
        },
        "id": "fexRJeZQIEVZ",
        "outputId": "c7b883d6-b755-4a25-f897-e692c0484ef5"
      },
      "execution_count": 2,
      "outputs": [
        {
          "output_type": "execute_result",
          "data": {
            "text/plain": [
              " id                 0\n",
              " Time               0\n",
              " Is_CH              0\n",
              " who CH             0\n",
              " Dist_To_CH         0\n",
              " ADV_S              0\n",
              " ADV_R              0\n",
              " JOIN_S             0\n",
              " JOIN_R             0\n",
              " SCH_S              0\n",
              " SCH_R              0\n",
              "Rank                0\n",
              " DATA_S             0\n",
              " DATA_R             0\n",
              " Data_Sent_To_BS    0\n",
              " dist_CH_To_BS      0\n",
              " send_code          0\n",
              "Expaned Energy      0\n",
              "Class               0\n",
              "dtype: int64"
            ]
          },
          "metadata": {},
          "execution_count": 2
        }
      ]
    },
    {
      "cell_type": "code",
      "source": [
        "dataset.info()"
      ],
      "metadata": {
        "colab": {
          "base_uri": "https://localhost:8080/"
        },
        "id": "vs9minr9IFzu",
        "outputId": "dddf9006-2aa3-406e-b27f-3d6fa176bb14"
      },
      "execution_count": 3,
      "outputs": [
        {
          "output_type": "stream",
          "name": "stdout",
          "text": [
            "<class 'pandas.core.frame.DataFrame'>\n",
            "RangeIndex: 374661 entries, 0 to 374660\n",
            "Data columns (total 19 columns):\n",
            " #   Column            Non-Null Count   Dtype  \n",
            "---  ------            --------------   -----  \n",
            " 0    id               374661 non-null  int64  \n",
            " 1    Time             374661 non-null  int64  \n",
            " 2    Is_CH            374661 non-null  int64  \n",
            " 3    who CH           374661 non-null  int64  \n",
            " 4    Dist_To_CH       374661 non-null  float64\n",
            " 5    ADV_S            374661 non-null  int64  \n",
            " 6    ADV_R            374661 non-null  int64  \n",
            " 7    JOIN_S           374661 non-null  int64  \n",
            " 8    JOIN_R           374661 non-null  int64  \n",
            " 9    SCH_S            374661 non-null  int64  \n",
            " 10   SCH_R            374661 non-null  int64  \n",
            " 11  Rank              374661 non-null  int64  \n",
            " 12   DATA_S           374661 non-null  int64  \n",
            " 13   DATA_R           374661 non-null  int64  \n",
            " 14   Data_Sent_To_BS  374661 non-null  int64  \n",
            " 15   dist_CH_To_BS    374661 non-null  float64\n",
            " 16   send_code        374661 non-null  int64  \n",
            " 17  Expaned Energy    374661 non-null  float64\n",
            " 18  Class             374661 non-null  int64  \n",
            "dtypes: float64(3), int64(16)\n",
            "memory usage: 54.3 MB\n"
          ]
        }
      ]
    },
    {
      "cell_type": "markdown",
      "source": [
        "### **Data Preprocessing**"
      ],
      "metadata": {
        "id": "5Gj6cV2IImAR"
      }
    },
    {
      "cell_type": "code",
      "source": [
        "from keras.utils import np_utils\n",
        "encoder = LabelEncoder()\n",
        "y = encoder.fit_transform(dataset['Class'])\n",
        "y = np_utils.to_categorical(y, num_classes=5)\n",
        "X = dataset.drop(['Class'],axis=1)\n",
        "X=X.values\n",
        "print(X.shape)\n",
        "print(y.shape)"
      ],
      "metadata": {
        "colab": {
          "base_uri": "https://localhost:8080/"
        },
        "id": "iRGySr-hIG_0",
        "outputId": "bdfbd31c-8748-4787-a8e5-c88b1442c78d"
      },
      "execution_count": 4,
      "outputs": [
        {
          "output_type": "stream",
          "name": "stdout",
          "text": [
            "(374661, 18)\n",
            "(374661, 5)\n"
          ]
        }
      ]
    },
    {
      "cell_type": "code",
      "source": [
        "# Data preprocessing\n",
        "from imblearn.over_sampling import SMOTE\n",
        "oversample = SMOTE()\n",
        "X, y = oversample.fit_resample(X, y)"
      ],
      "metadata": {
        "id": "MnKdtedPINLH"
      },
      "execution_count": 5,
      "outputs": []
    },
    {
      "cell_type": "code",
      "source": [
        "X_train, X_test, y_train, y_test = train_test_split(X, y, test_size=0.2, random_state=101)"
      ],
      "metadata": {
        "id": "gTH-yTaVIOTj"
      },
      "execution_count": 6,
      "outputs": []
    },
    {
      "cell_type": "markdown",
      "source": [
        "**Hybrid KNN-RNN for 4 Class**"
      ],
      "metadata": {
        "id": "fIIJVUiTIyxO"
      }
    },
    {
      "cell_type": "code",
      "source": [
        "# K-Nearest Neighbors model\n",
        "knn = KNeighborsClassifier(n_neighbors=5)\n",
        "knn.fit(X_train, y_train)"
      ],
      "metadata": {
        "colab": {
          "base_uri": "https://localhost:8080/",
          "height": 75
        },
        "id": "Rw5FpExEJ_4B",
        "outputId": "bc796a7c-dac9-46fd-8172-fb26ebf79a9c"
      },
      "execution_count": 7,
      "outputs": [
        {
          "output_type": "execute_result",
          "data": {
            "text/plain": [
              "KNeighborsClassifier()"
            ],
            "text/html": [
              "<style>#sk-container-id-1 {color: black;background-color: white;}#sk-container-id-1 pre{padding: 0;}#sk-container-id-1 div.sk-toggleable {background-color: white;}#sk-container-id-1 label.sk-toggleable__label {cursor: pointer;display: block;width: 100%;margin-bottom: 0;padding: 0.3em;box-sizing: border-box;text-align: center;}#sk-container-id-1 label.sk-toggleable__label-arrow:before {content: \"▸\";float: left;margin-right: 0.25em;color: #696969;}#sk-container-id-1 label.sk-toggleable__label-arrow:hover:before {color: black;}#sk-container-id-1 div.sk-estimator:hover label.sk-toggleable__label-arrow:before {color: black;}#sk-container-id-1 div.sk-toggleable__content {max-height: 0;max-width: 0;overflow: hidden;text-align: left;background-color: #f0f8ff;}#sk-container-id-1 div.sk-toggleable__content pre {margin: 0.2em;color: black;border-radius: 0.25em;background-color: #f0f8ff;}#sk-container-id-1 input.sk-toggleable__control:checked~div.sk-toggleable__content {max-height: 200px;max-width: 100%;overflow: auto;}#sk-container-id-1 input.sk-toggleable__control:checked~label.sk-toggleable__label-arrow:before {content: \"▾\";}#sk-container-id-1 div.sk-estimator input.sk-toggleable__control:checked~label.sk-toggleable__label {background-color: #d4ebff;}#sk-container-id-1 div.sk-label input.sk-toggleable__control:checked~label.sk-toggleable__label {background-color: #d4ebff;}#sk-container-id-1 input.sk-hidden--visually {border: 0;clip: rect(1px 1px 1px 1px);clip: rect(1px, 1px, 1px, 1px);height: 1px;margin: -1px;overflow: hidden;padding: 0;position: absolute;width: 1px;}#sk-container-id-1 div.sk-estimator {font-family: monospace;background-color: #f0f8ff;border: 1px dotted black;border-radius: 0.25em;box-sizing: border-box;margin-bottom: 0.5em;}#sk-container-id-1 div.sk-estimator:hover {background-color: #d4ebff;}#sk-container-id-1 div.sk-parallel-item::after {content: \"\";width: 100%;border-bottom: 1px solid gray;flex-grow: 1;}#sk-container-id-1 div.sk-label:hover label.sk-toggleable__label {background-color: #d4ebff;}#sk-container-id-1 div.sk-serial::before {content: \"\";position: absolute;border-left: 1px solid gray;box-sizing: border-box;top: 0;bottom: 0;left: 50%;z-index: 0;}#sk-container-id-1 div.sk-serial {display: flex;flex-direction: column;align-items: center;background-color: white;padding-right: 0.2em;padding-left: 0.2em;position: relative;}#sk-container-id-1 div.sk-item {position: relative;z-index: 1;}#sk-container-id-1 div.sk-parallel {display: flex;align-items: stretch;justify-content: center;background-color: white;position: relative;}#sk-container-id-1 div.sk-item::before, #sk-container-id-1 div.sk-parallel-item::before {content: \"\";position: absolute;border-left: 1px solid gray;box-sizing: border-box;top: 0;bottom: 0;left: 50%;z-index: -1;}#sk-container-id-1 div.sk-parallel-item {display: flex;flex-direction: column;z-index: 1;position: relative;background-color: white;}#sk-container-id-1 div.sk-parallel-item:first-child::after {align-self: flex-end;width: 50%;}#sk-container-id-1 div.sk-parallel-item:last-child::after {align-self: flex-start;width: 50%;}#sk-container-id-1 div.sk-parallel-item:only-child::after {width: 0;}#sk-container-id-1 div.sk-dashed-wrapped {border: 1px dashed gray;margin: 0 0.4em 0.5em 0.4em;box-sizing: border-box;padding-bottom: 0.4em;background-color: white;}#sk-container-id-1 div.sk-label label {font-family: monospace;font-weight: bold;display: inline-block;line-height: 1.2em;}#sk-container-id-1 div.sk-label-container {text-align: center;}#sk-container-id-1 div.sk-container {/* jupyter's `normalize.less` sets `[hidden] { display: none; }` but bootstrap.min.css set `[hidden] { display: none !important; }` so we also need the `!important` here to be able to override the default hidden behavior on the sphinx rendered scikit-learn.org. See: https://github.com/scikit-learn/scikit-learn/issues/21755 */display: inline-block !important;position: relative;}#sk-container-id-1 div.sk-text-repr-fallback {display: none;}</style><div id=\"sk-container-id-1\" class=\"sk-top-container\"><div class=\"sk-text-repr-fallback\"><pre>KNeighborsClassifier()</pre><b>In a Jupyter environment, please rerun this cell to show the HTML representation or trust the notebook. <br />On GitHub, the HTML representation is unable to render, please try loading this page with nbviewer.org.</b></div><div class=\"sk-container\" hidden><div class=\"sk-item\"><div class=\"sk-estimator sk-toggleable\"><input class=\"sk-toggleable__control sk-hidden--visually\" id=\"sk-estimator-id-1\" type=\"checkbox\" checked><label for=\"sk-estimator-id-1\" class=\"sk-toggleable__label sk-toggleable__label-arrow\">KNeighborsClassifier</label><div class=\"sk-toggleable__content\"><pre>KNeighborsClassifier()</pre></div></div></div></div></div>"
            ]
          },
          "metadata": {},
          "execution_count": 7
        }
      ]
    },
    {
      "cell_type": "code",
      "source": [
        "# RNN model\n",
        "model = Sequential()\n",
        "model.add(LSTM(64, activation='relu', input_shape=(X_train.shape[1], 1)))\n",
        "model.add(Dense(5, activation='softmax'))\n",
        "model.compile(loss='categorical_crossentropy', optimizer='adam', metrics=['accuracy'])\n",
        "model.fit(X_train.reshape(X_train.shape[0], X_train.shape[1], 1), y_train, epochs=10)\n",
        "\n",
        "# Predictions from K-NN model\n",
        "y_pred_knn = knn.predict(X_test)\n",
        "\n",
        "# Predictions from RNN model\n",
        "y_pred_rnn = model.predict(X_test.reshape(X_test.shape[0], X_test.shape[1], 1))\n",
        "y_pred_rnn = np.argmax(y_pred_rnn, axis=1)"
      ],
      "metadata": {
        "id": "4Tq7ZrmXKMT9",
        "colab": {
          "base_uri": "https://localhost:8080/"
        },
        "outputId": "98112fe1-cdc6-414f-a3aa-86ffc9a9ade8"
      },
      "execution_count": 8,
      "outputs": [
        {
          "output_type": "stream",
          "name": "stdout",
          "text": [
            "Epoch 1/10\n",
            "42509/42509 [==============================] - 557s 13ms/step - loss: 68.9808 - accuracy: 0.3336\n",
            "Epoch 2/10\n",
            "42509/42509 [==============================] - 546s 13ms/step - loss: 11.9748 - accuracy: 0.3979\n",
            "Epoch 3/10\n",
            "42509/42509 [==============================] - 555s 13ms/step - loss: 1.6095 - accuracy: 0.2002\n",
            "Epoch 4/10\n",
            "42509/42509 [==============================] - 547s 13ms/step - loss: 1.6095 - accuracy: 0.2006\n",
            "Epoch 5/10\n",
            "42509/42509 [==============================] - 553s 13ms/step - loss: 1.6095 - accuracy: 0.1998\n",
            "Epoch 6/10\n",
            "42509/42509 [==============================] - 552s 13ms/step - loss: 1.6095 - accuracy: 0.2001\n",
            "Epoch 7/10\n",
            "42509/42509 [==============================] - 559s 13ms/step - loss: 1.6095 - accuracy: 0.2007\n",
            "Epoch 8/10\n",
            "42509/42509 [==============================] - 555s 13ms/step - loss: 1.6095 - accuracy: 0.1999\n",
            "Epoch 9/10\n",
            "42509/42509 [==============================] - 531s 12ms/step - loss: 1.6095 - accuracy: 0.2000\n",
            "Epoch 10/10\n",
            "42509/42509 [==============================] - 536s 13ms/step - loss: 1.6095 - accuracy: 0.1999\n",
            "10628/10628 [==============================] - 54s 5ms/step\n"
          ]
        }
      ]
    },
    {
      "cell_type": "code",
      "source": [
        "# Combine predictions from K-NN and RNN models\n",
        "y_pred = (y_pred_knn + to_categorical(y_pred_rnn, num_classes=5)) // 2\n",
        "\n",
        "# Evaluation metrics\n",
        "print(\"Combined Model:\")\n",
        "print(classification_report(np.argmax(y_test, axis=1), np.argmax(y_pred, axis=1)))\n",
        "print(confusion_matrix(np.argmax(y_test, axis=1), np.argmax(y_pred, axis=1)))"
      ],
      "metadata": {
        "colab": {
          "base_uri": "https://localhost:8080/"
        },
        "id": "Y0phil7RII6e",
        "outputId": "6f4340f3-28ab-4ceb-873b-84f7aebce568"
      },
      "execution_count": 9,
      "outputs": [
        {
          "output_type": "stream",
          "name": "stdout",
          "text": [
            "Combined Model:\n"
          ]
        },
        {
          "output_type": "stream",
          "name": "stderr",
          "text": [
            "/usr/local/lib/python3.10/dist-packages/sklearn/metrics/_classification.py:1344: UndefinedMetricWarning: Precision and F-score are ill-defined and being set to 0.0 in labels with no predicted samples. Use `zero_division` parameter to control this behavior.\n",
            "  _warn_prf(average, modifier, msg_start, len(result))\n"
          ]
        },
        {
          "output_type": "stream",
          "name": "stdout",
          "text": [
            "              precision    recall  f1-score   support\n",
            "\n",
            "           0       0.25      0.99      0.40     67745\n",
            "           1       0.00      0.00      0.00     68144\n",
            "           2       0.00      0.00      0.00     68282\n",
            "           3       0.00      0.00      0.00     68009\n",
            "           4       0.99      1.00      1.00     67886\n",
            "\n",
            "    accuracy                           0.40    340066\n",
            "   macro avg       0.25      0.40      0.28    340066\n",
            "weighted avg       0.25      0.40      0.28    340066\n",
            "\n",
            "[[67375     0     0     0   370]\n",
            " [68121     0     0     0    23]\n",
            " [68280     0     0     0     2]\n",
            " [67982     0     0     0    27]\n",
            " [   22     0     0     0 67864]]\n"
          ]
        },
        {
          "output_type": "stream",
          "name": "stderr",
          "text": [
            "/usr/local/lib/python3.10/dist-packages/sklearn/metrics/_classification.py:1344: UndefinedMetricWarning: Precision and F-score are ill-defined and being set to 0.0 in labels with no predicted samples. Use `zero_division` parameter to control this behavior.\n",
            "  _warn_prf(average, modifier, msg_start, len(result))\n",
            "/usr/local/lib/python3.10/dist-packages/sklearn/metrics/_classification.py:1344: UndefinedMetricWarning: Precision and F-score are ill-defined and being set to 0.0 in labels with no predicted samples. Use `zero_division` parameter to control this behavior.\n",
            "  _warn_prf(average, modifier, msg_start, len(result))\n"
          ]
        }
      ]
    },
    {
      "cell_type": "code",
      "source": [
        "import seaborn as sns\n",
        "import matplotlib.pyplot as plt\n",
        "import numpy as np\n",
        "import itertools\n",
        "import seaborn as sns\n",
        "from sklearn import metrics \n",
        "import matplotlib.pyplot as plt\n",
        "from sklearn.metrics import confusion_matrix\n",
        "def conf_mat(d1,d2):\n",
        "  cm = confusion_matrix(d1, d2)\n",
        "  plt.figure(figsize=(6,5.5))\n",
        "  ax = sns.heatmap(cm,  fmt='2', annot=True, cmap='YlGnBu')\n",
        "  sns.set(font_scale=1)\n",
        "  ax.set_xlabel('\\nPredicted Values')\n",
        "  ax.set_ylabel('Actual Values\\n');\n",
        "  ax.xaxis.set_ticklabels(['Normal','Blackhole','Flooding','Grayhole','TDMA'])\n",
        "  ax.yaxis.set_ticklabels(['Normal','Blackhole','Flooding','Grayhole','TDMA'])\n",
        "  plt.tight_layout()\n",
        "  # plt.savefig(\"F1.eps\", format = 'eps')\n",
        "  plt.show()"
      ],
      "metadata": {
        "id": "A5UkUYfcIXrj"
      },
      "execution_count": 10,
      "outputs": []
    },
    {
      "cell_type": "code",
      "source": [
        "print(\"Confusion Matrix of Hybrid KNN-RNN Model\") \n",
        "conf_mat(np.argmax(y_test, axis=1), np.argmax(y_pred, axis=1))"
      ],
      "metadata": {
        "colab": {
          "base_uri": "https://localhost:8080/",
          "height": 568
        },
        "id": "GzA7DpzUIZ5n",
        "outputId": "f255e3e4-0964-4da3-c1b8-597cf6b488cd"
      },
      "execution_count": 11,
      "outputs": [
        {
          "output_type": "stream",
          "name": "stdout",
          "text": [
            "Confusion Matrix of Hybrid KNN-RNN Model\n"
          ]
        },
        {
          "output_type": "display_data",
          "data": {
            "text/plain": [
              "<Figure size 600x550 with 2 Axes>"
            ],
            "image/png": "[encoded data removed]"
          },
          "metadata": {}
        }
      ]
    },
    {
      "cell_type": "code",
      "source": [
        "report = classification_report(np.argmax(y_test, axis=1), np.argmax(y_pred, axis=1), output_dict=True)\n",
        "detection_rates = {}\n",
        "for cls in range(5):\n",
        "    detection_rates[encoder.inverse_transform([cls])[0]] = report[str(cls)]['recall']\n",
        "print(\"Detection rates:\", detection_rates)"
      ],
      "metadata": {
        "colab": {
          "base_uri": "https://localhost:8080/"
        },
        "id": "lyRnolSQIeMW",
        "outputId": "c90de5a7-91e8-4606-9971-884a19acae6f"
      },
      "execution_count": 12,
      "outputs": [
        {
          "output_type": "stream",
          "name": "stderr",
          "text": [
            "/usr/local/lib/python3.10/dist-packages/sklearn/metrics/_classification.py:1344: UndefinedMetricWarning: Precision and F-score are ill-defined and being set to 0.0 in labels with no predicted samples. Use `zero_division` parameter to control this behavior.\n",
            "  _warn_prf(average, modifier, msg_start, len(result))\n"
          ]
        },
        {
          "output_type": "stream",
          "name": "stdout",
          "text": [
            "Detection rates: {0: 0.9945383423130858, 1: 0.0, 2: 0.0, 3: 0.0, 4: 0.9996759272898683}\n"
          ]
        },
        {
          "output_type": "stream",
          "name": "stderr",
          "text": [
            "/usr/local/lib/python3.10/dist-packages/sklearn/metrics/_classification.py:1344: UndefinedMetricWarning: Precision and F-score are ill-defined and being set to 0.0 in labels with no predicted samples. Use `zero_division` parameter to control this behavior.\n",
            "  _warn_prf(average, modifier, msg_start, len(result))\n",
            "/usr/local/lib/python3.10/dist-packages/sklearn/metrics/_classification.py:1344: UndefinedMetricWarning: Precision and F-score are ill-defined and being set to 0.0 in labels with no predicted samples. Use `zero_division` parameter to control this behavior.\n",
            "  _warn_prf(average, modifier, msg_start, len(result))\n"
          ]
        }
      ]
    }
  ]
}