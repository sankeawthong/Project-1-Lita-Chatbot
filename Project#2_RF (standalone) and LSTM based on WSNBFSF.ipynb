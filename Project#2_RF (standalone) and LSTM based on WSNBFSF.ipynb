{
  "nbformat": 4,
  "nbformat_minor": 0,
  "metadata": {
    "colab": {
      "provenance": [],
      "authorship_tag": "ABX9TyOh54hx1QLcCbCN2Q/khsLl",
      "include_colab_link": true
    },
    "kernelspec": {
      "name": "python3",
      "display_name": "Python 3"
    },
    "language_info": {
      "name": "python"
    }
  },
  "cells": [
    {
      "cell_type": "markdown",
      "metadata": {
        "id": "view-in-github",
        "colab_type": "text"
      },
      "source": [
        "<a href=\"https://colab.research.google.com/github/sankeawthong/Project-1-Lita-Chatbot/blob/main/Project%232_RF%20(standalone)%20and%20LSTM%20based%20on%20WSNBFSF.ipynb\" target=\"_parent\"><img src=\"https://colab.research.google.com/assets/colab-badge.svg\" alt=\"Open In Colab\"/></a>"
      ]
    },
    {
      "cell_type": "code",
      "execution_count": 1,
      "metadata": {
        "id": "55cdRYYhpex-"
      },
      "outputs": [],
      "source": [
        "import pandas as pd\n",
        "import numpy as np"
      ]
    },
    {
      "cell_type": "code",
      "source": [
        "dataset = pd.read_csv(\"dataset.csv\")\n",
        "dataset.shape\n",
        "dataset.isnull().sum()"
      ],
      "metadata": {
        "colab": {
          "base_uri": "https://localhost:8080/"
        },
        "id": "26zED0Xlq1uQ",
        "outputId": "413a8a08-326f-4f11-c6a8-bb2ec94c85df"
      },
      "execution_count": 2,
      "outputs": [
        {
          "output_type": "execute_result",
          "data": {
            "text/plain": [
              "Event             0\n",
              "Time              0\n",
              "S_Node            0\n",
              "Node_id           0\n",
              "Rest_Energy       0\n",
              "Trace_Level       0\n",
              "Mac_Type_Pckt     0\n",
              "Source_IP_Port    0\n",
              "Des_IP_Port       0\n",
              "Packet_Size       0\n",
              "TTL               0\n",
              "Hop_Count         0\n",
              "Broadcast_ID      0\n",
              "Dest_Node_Num     0\n",
              "Dest_Seq_Num      0\n",
              "Src_Node_ID       0\n",
              "Src_Seq_Num       0\n",
              "Class             0\n",
              "dtype: int64"
            ]
          },
          "metadata": {},
          "execution_count": 2
        }
      ]
    },
    {
      "cell_type": "code",
      "source": [
        "dataset.info()"
      ],
      "metadata": {
        "colab": {
          "base_uri": "https://localhost:8080/"
        },
        "id": "slidhigzq3jU",
        "outputId": "cd37ba2a-51c5-476b-be1f-bc01412e8f89"
      },
      "execution_count": 3,
      "outputs": [
        {
          "output_type": "stream",
          "name": "stdout",
          "text": [
            "<class 'pandas.core.frame.DataFrame'>\n",
            "RangeIndex: 312106 entries, 0 to 312105\n",
            "Data columns (total 18 columns):\n",
            " #   Column          Non-Null Count   Dtype  \n",
            "---  ------          --------------   -----  \n",
            " 0   Event           312106 non-null  int64  \n",
            " 1   Time            312106 non-null  float64\n",
            " 2   S_Node          312106 non-null  int64  \n",
            " 3   Node_id         312106 non-null  int64  \n",
            " 4   Rest_Energy     312106 non-null  float64\n",
            " 5   Trace_Level     312106 non-null  int64  \n",
            " 6   Mac_Type_Pckt   312106 non-null  int64  \n",
            " 7   Source_IP_Port  312106 non-null  float64\n",
            " 8   Des_IP_Port     312106 non-null  float64\n",
            " 9   Packet_Size     312106 non-null  int64  \n",
            " 10  TTL             312106 non-null  int64  \n",
            " 11  Hop_Count       312106 non-null  int64  \n",
            " 12  Broadcast_ID    312106 non-null  int64  \n",
            " 13  Dest_Node_Num   312106 non-null  int64  \n",
            " 14  Dest_Seq_Num    312106 non-null  int64  \n",
            " 15  Src_Node_ID     312106 non-null  int64  \n",
            " 16  Src_Seq_Num     312106 non-null  int64  \n",
            " 17  Class           312106 non-null  int64  \n",
            "dtypes: float64(4), int64(14)\n",
            "memory usage: 42.9 MB\n"
          ]
        }
      ]
    },
    {
      "cell_type": "code",
      "source": [
        "dataset[\"Class\"].unique()"
      ],
      "metadata": {
        "colab": {
          "base_uri": "https://localhost:8080/"
        },
        "id": "elCmI1fqq5Rw",
        "outputId": "98f0327d-3d82-4bf1-df23-447c22da38e9"
      },
      "execution_count": 4,
      "outputs": [
        {
          "output_type": "execute_result",
          "data": {
            "text/plain": [
              "array([0, 1, 2, 3])"
            ]
          },
          "metadata": {},
          "execution_count": 4
        }
      ]
    },
    {
      "cell_type": "markdown",
      "source": [
        "**Data Balancing**"
      ],
      "metadata": {
        "id": "ZxN1lttuq_oy"
      }
    },
    {
      "cell_type": "code",
      "source": [
        "#Installing imblearn\n",
        "!pip install -U imbalanced-learn\n",
        "!pip install imbalanced-learn"
      ],
      "metadata": {
        "colab": {
          "base_uri": "https://localhost:8080/"
        },
        "id": "jfdFHaS-q7Q9",
        "outputId": "e4343cda-e234-4400-9f85-bc14c0e9fcad"
      },
      "execution_count": 5,
      "outputs": [
        {
          "output_type": "stream",
          "name": "stdout",
          "text": [
            "Looking in indexes: https://pypi.org/simple, https://us-python.pkg.dev/colab-wheels/public/simple/\n",
            "Requirement already satisfied: imbalanced-learn in /usr/local/lib/python3.10/dist-packages (0.10.1)\n",
            "Requirement already satisfied: threadpoolctl>=2.0.0 in /usr/local/lib/python3.10/dist-packages (from imbalanced-learn) (3.1.0)\n",
            "Requirement already satisfied: joblib>=1.1.1 in /usr/local/lib/python3.10/dist-packages (from imbalanced-learn) (1.2.0)\n",
            "Requirement already satisfied: scikit-learn>=1.0.2 in /usr/local/lib/python3.10/dist-packages (from imbalanced-learn) (1.2.2)\n",
            "Requirement already satisfied: scipy>=1.3.2 in /usr/local/lib/python3.10/dist-packages (from imbalanced-learn) (1.10.1)\n",
            "Requirement already satisfied: numpy>=1.17.3 in /usr/local/lib/python3.10/dist-packages (from imbalanced-learn) (1.22.4)\n",
            "Looking in indexes: https://pypi.org/simple, https://us-python.pkg.dev/colab-wheels/public/simple/\n",
            "Requirement already satisfied: imbalanced-learn in /usr/local/lib/python3.10/dist-packages (0.10.1)\n",
            "Requirement already satisfied: scikit-learn>=1.0.2 in /usr/local/lib/python3.10/dist-packages (from imbalanced-learn) (1.2.2)\n",
            "Requirement already satisfied: numpy>=1.17.3 in /usr/local/lib/python3.10/dist-packages (from imbalanced-learn) (1.22.4)\n",
            "Requirement already satisfied: joblib>=1.1.1 in /usr/local/lib/python3.10/dist-packages (from imbalanced-learn) (1.2.0)\n",
            "Requirement already satisfied: threadpoolctl>=2.0.0 in /usr/local/lib/python3.10/dist-packages (from imbalanced-learn) (3.1.0)\n",
            "Requirement already satisfied: scipy>=1.3.2 in /usr/local/lib/python3.10/dist-packages (from imbalanced-learn) (1.10.1)\n"
          ]
        }
      ]
    },
    {
      "cell_type": "code",
      "source": [
        "# check version number\n",
        "import imblearn\n",
        "print(imblearn.__version__)     "
      ],
      "metadata": {
        "colab": {
          "base_uri": "https://localhost:8080/"
        },
        "id": "DEUgHMD9rDE2",
        "outputId": "fcbbceaf-5967-4307-bf71-23b96d7cf0f4"
      },
      "execution_count": 6,
      "outputs": [
        {
          "output_type": "stream",
          "name": "stdout",
          "text": [
            "0.10.1\n"
          ]
        }
      ]
    },
    {
      "cell_type": "code",
      "source": [
        "# Data preprocessing\n",
        "y = dataset['Class'].values\n",
        "X = dataset.drop(['Class'],axis=1)\n",
        "X=X.values\n",
        "print(X)\n",
        "print(y)"
      ],
      "metadata": {
        "colab": {
          "base_uri": "https://localhost:8080/"
        },
        "id": "JjzJ6VGHrEZF",
        "outputId": "d7093472-b3e2-41e2-a762-ca0849edfa95"
      },
      "execution_count": 7,
      "outputs": [
        {
          "output_type": "stream",
          "name": "stdout",
          "text": [
            "[[1.00000000e+00 1.00000000e-01 7.90000000e+01 ... 0.00000000e+00\n",
            "  7.90000000e+01 4.00000000e+00]\n",
            " [2.00000000e+00 1.00963167e-01 7.80000000e+01 ... 0.00000000e+00\n",
            "  7.90000000e+01 4.00000000e+00]\n",
            " [2.00000000e+00 1.00963500e-01 7.60000000e+01 ... 0.00000000e+00\n",
            "  7.90000000e+01 4.00000000e+00]\n",
            " ...\n",
            " [4.00000000e+00 6.57891729e+02 1.40000000e+02 ... 1.60000000e+01\n",
            "  1.40000000e+02 7.60000000e+01]\n",
            " [4.00000000e+00 6.58574656e+02 1.40000000e+02 ... 1.60000000e+01\n",
            "  1.40000000e+02 8.00000000e+01]\n",
            " [4.00000000e+00 6.79054956e+02 1.40000000e+02 ... 1.60000000e+01\n",
            "  1.40000000e+02 9.00000000e+01]]\n",
            "[0 0 0 ... 1 1 1]\n"
          ]
        }
      ]
    },
    {
      "cell_type": "code",
      "source": [
        "import collections as c\n",
        "counter = c.Counter(y)\n",
        "print(counter)"
      ],
      "metadata": {
        "colab": {
          "base_uri": "https://localhost:8080/"
        },
        "id": "9-aG5Tt1rIX2",
        "outputId": "8c3c16fd-de1c-431a-e2c5-14fa79628505"
      },
      "execution_count": 8,
      "outputs": [
        {
          "output_type": "stream",
          "name": "stdout",
          "text": [
            "Counter({0: 262851, 3: 29844, 1: 11766, 2: 7645})\n"
          ]
        }
      ]
    },
    {
      "cell_type": "code",
      "source": [
        "from imblearn.over_sampling import SMOTE\n",
        "oversample = SMOTE()\n",
        "X, y = oversample.fit_resample(X, y)\n",
        "counter = c.Counter(y)\n",
        "print(counter)"
      ],
      "metadata": {
        "colab": {
          "base_uri": "https://localhost:8080/"
        },
        "id": "fC2_bY7irK1p",
        "outputId": "f0debc3b-d5ef-4c1e-a472-dfe7b60fce34"
      },
      "execution_count": 9,
      "outputs": [
        {
          "output_type": "stream",
          "name": "stdout",
          "text": [
            "Counter({0: 262851, 1: 262851, 2: 262851, 3: 262851})\n"
          ]
        }
      ]
    },
    {
      "cell_type": "markdown",
      "source": [
        "**Data Preprocessing for Train and Testing**"
      ],
      "metadata": {
        "id": "BpwWpeiErOW5"
      }
    },
    {
      "cell_type": "code",
      "source": [
        "from sklearn.model_selection import train_test_split    \n",
        "X_train, X_test, y_train, y_test = train_test_split(X, y, test_size=0.2, random_state=101)"
      ],
      "metadata": {
        "id": "JMu3XKyGrPty"
      },
      "execution_count": 10,
      "outputs": []
    },
    {
      "cell_type": "markdown",
      "source": [
        "**Random Forest (RF) for 4 class based on WSNBFSF dataset**"
      ],
      "metadata": {
        "id": "0PD2V8-YsKKH"
      }
    },
    {
      "cell_type": "code",
      "source": [
        "from sklearn.ensemble import RandomForestClassifier\n",
        "rf = RandomForestClassifier(n_estimators=30, max_depth=9)\n",
        "rf.fit(X_train, y_train)\n",
        "y_test_prediction = rf.predict(X_test)"
      ],
      "metadata": {
        "id": "yjNVPgZBrXze"
      },
      "execution_count": 11,
      "outputs": []
    },
    {
      "cell_type": "code",
      "source": [
        "import pandas as pd\n",
        "import numpy as np\n",
        "import seaborn as sns\n",
        "import matplotlib.pyplot as plt\n",
        "import numpy as np\n",
        "import itertools\n",
        "import seaborn as sns\n",
        "from sklearn import metrics \n",
        "import matplotlib.pyplot as plt\n",
        "from sklearn.metrics import confusion_matrix\n",
        "from sklearn.metrics import confusion_matrix, classification_report\n",
        "def conf_mat(d1,d2):\n",
        "  cm = confusion_matrix(d1, d2)\n",
        "  plt.figure(figsize=(6,5.5))\n",
        "  ax = sns.heatmap(cm,  fmt='2', annot=True, cmap='GnBu')\n",
        "  sns.set(font_scale=1)\n",
        "  ax.set_xlabel('\\nPredicted Values')\n",
        "  ax.set_ylabel('Actual Values\\n');\n",
        "  ax.xaxis.set_ticklabels(['Normal','Flooding','Blackhole','Forwarding'])\n",
        "  ax.yaxis.set_ticklabels(['Normal','Flooding','Blackhole','Forwarding'])\n",
        "  plt.tight_layout()\n",
        "  # plt.savefig(\"F1.eps\", format = 'eps')\n",
        "  plt.show()\n",
        "\n",
        "# Confusion matrix\n",
        "cm = confusion_matrix(y_test, y_test_prediction)\n",
        "print(\"Confusion Matrix:\")\n",
        "print(cm)\n",
        "\n",
        "# Classification report\n",
        "cr = classification_report(y_test, y_test_prediction)\n",
        "print(\"Classification Report:\")\n",
        "print(cr)"
      ],
      "metadata": {
        "colab": {
          "base_uri": "https://localhost:8080/"
        },
        "id": "PytE3wY8rXnO",
        "outputId": "afe8f77f-adce-4965-cfca-14240a1a0400"
      },
      "execution_count": 12,
      "outputs": [
        {
          "output_type": "stream",
          "name": "stdout",
          "text": [
            "Confusion Matrix:\n",
            "[[47062  3968  1470     0]\n",
            " [    9 51190     0  1355]\n",
            " [  217     8 51255  1065]\n",
            " [    0   250   215 52217]]\n",
            "Classification Report:\n",
            "              precision    recall  f1-score   support\n",
            "\n",
            "           0       1.00      0.90      0.94     52500\n",
            "           1       0.92      0.97      0.95     52554\n",
            "           2       0.97      0.98      0.97     52545\n",
            "           3       0.96      0.99      0.97     52682\n",
            "\n",
            "    accuracy                           0.96    210281\n",
            "   macro avg       0.96      0.96      0.96    210281\n",
            "weighted avg       0.96      0.96      0.96    210281\n",
            "\n"
          ]
        }
      ]
    },
    {
      "cell_type": "code",
      "source": [
        "print(\"Confusion Matrix of Random Forest (RF)\") \n",
        "conf_mat(y_test, y_test_prediction)"
      ],
      "metadata": {
        "colab": {
          "base_uri": "https://localhost:8080/",
          "height": 568
        },
        "id": "xnGVzLh-rfBg",
        "outputId": "e84e6275-3307-455d-ffb4-b7a734a5268c"
      },
      "execution_count": 13,
      "outputs": [
        {
          "output_type": "stream",
          "name": "stdout",
          "text": [
            "Confusion Matrix of Random Forest (RF)\n"
          ]
        },
        {
          "output_type": "display_data",
          "data": {
            "text/plain": [
              "<Figure size 600x550 with 2 Axes>"
            ],
            "image/png": "[encoded data removed]"
          },
          "metadata": {}
        }
      ]
    },
    {
      "cell_type": "code",
      "source": [
        "from sklearn.metrics import precision_recall_fscore_support, accuracy_score, precision_score, recall_score, f1_score\n",
        "def performance(model,y1, y2):\n",
        "  print(\"Model Name is :\",model)\n",
        "  acc=(metrics.accuracy_score(y1, y2,sample_weight=None)*100)\n",
        "  print(\"Accuracy :\",acc)\n",
        "  pre=(precision_score(y1, y2, average='weighted', sample_weight=None)*100)\n",
        "  print(\"Precision :\",pre)\n",
        "  rec=(recall_score(y1,y2,average='weighted',sample_weight=None)*100)\n",
        "  print(\"Recall :\",rec)\n",
        "  f1=(f1_score(y1,y2, average='weighted', sample_weight=None))\n",
        "  print(\"F1-Score :\",f1) "
      ],
      "metadata": {
        "id": "pXw6d8PqrluE"
      },
      "execution_count": 14,
      "outputs": []
    },
    {
      "cell_type": "code",
      "source": [
        "performance(\"Random Forest (RF)\",y_test, y_test_prediction)"
      ],
      "metadata": {
        "colab": {
          "base_uri": "https://localhost:8080/"
        },
        "id": "O553SqtPrnjg",
        "outputId": "096a6a0c-9f1c-452c-d85c-80a8d7855efa"
      },
      "execution_count": 15,
      "outputs": [
        {
          "output_type": "stream",
          "name": "stdout",
          "text": [
            "Model Name is : Random Forest (RF)\n",
            "Accuracy : 95.93068322863216\n",
            "Precision : 96.06978724001065\n",
            "Recall : 95.93068322863216\n",
            "F1-Score : 0.9591071869360575\n"
          ]
        }
      ]
    },
    {
      "cell_type": "code",
      "source": [
        "# Confusion matrix\n",
        "cm = confusion_matrix(y_test, y_test_prediction)\n",
        "print(\"Confusion Matrix:\")\n",
        "print(cm)\n",
        "\n",
        "# Classification report\n",
        "cr = classification_report(y_test, y_test_prediction)\n",
        "print(\"Classification Report:\")\n",
        "print(cr)"
      ],
      "metadata": {
        "colab": {
          "base_uri": "https://localhost:8080/"
        },
        "id": "YRPMnbi2r4C5",
        "outputId": "b76033db-5dd0-46d2-9bbf-5c015d69d6a8"
      },
      "execution_count": 16,
      "outputs": [
        {
          "output_type": "stream",
          "name": "stdout",
          "text": [
            "Confusion Matrix:\n",
            "[[47062  3968  1470     0]\n",
            " [    9 51190     0  1355]\n",
            " [  217     8 51255  1065]\n",
            " [    0   250   215 52217]]\n",
            "Classification Report:\n",
            "              precision    recall  f1-score   support\n",
            "\n",
            "           0       1.00      0.90      0.94     52500\n",
            "           1       0.92      0.97      0.95     52554\n",
            "           2       0.97      0.98      0.97     52545\n",
            "           3       0.96      0.99      0.97     52682\n",
            "\n",
            "    accuracy                           0.96    210281\n",
            "   macro avg       0.96      0.96      0.96    210281\n",
            "weighted avg       0.96      0.96      0.96    210281\n",
            "\n"
          ]
        }
      ]
    },
    {
      "cell_type": "markdown",
      "source": [
        "**Long short-term memory (LSTM) for 4 class based on WSNBFSF dataset**"
      ],
      "metadata": {
        "id": "GK0nDerasdbF"
      }
    },
    {
      "cell_type": "code",
      "source": [
        "from sklearn.model_selection import train_test_split\n",
        "from sklearn.preprocessing import LabelEncoder\n",
        "from keras.utils import to_categorical\n",
        "from keras.models import Sequential\n",
        "from keras.layers import Dense, LSTM"
      ],
      "metadata": {
        "id": "zEhXTVIdsi1p"
      },
      "execution_count": 17,
      "outputs": []
    },
    {
      "cell_type": "code",
      "source": [
        "# Encode class labels\n",
        "le = LabelEncoder()\n",
        "dataset['Class'] = le.fit_transform(dataset['Class'])\n",
        "num_classes = len(le.classes_)\n",
        "\n",
        "# Split dataset into features and target\n",
        "X = dataset.drop('Class', axis=1).values\n",
        "y = to_categorical(dataset['Class'].values, num_classes=num_classes)\n",
        "\n",
        "from imblearn.over_sampling import SMOTE\n",
        "oversample = SMOTE()\n",
        "X, y = oversample.fit_resample(X, y)"
      ],
      "metadata": {
        "id": "qF2_8IWusoXX"
      },
      "execution_count": 18,
      "outputs": []
    },
    {
      "cell_type": "code",
      "source": [
        "# Split dataset into train and test sets\n",
        "X_train, X_test, y_train, y_test = train_test_split(X, y, test_size=0.2, random_state=101)\n",
        "\n",
        "# Reshape input data for LSTM model\n",
        "X_train = np.reshape(X_train, (X_train.shape[0], 1, X_train.shape[1]))\n",
        "X_test = np.reshape(X_test, (X_test.shape[0], 1, X_test.shape[1]))\n",
        "\n",
        "# Define LSTM model\n",
        "model = Sequential()\n",
        "model.add(LSTM(64, input_shape=(1, X_train.shape[2]), return_sequences=True))\n",
        "model.add(LSTM(32, return_sequences=False))\n",
        "model.add(Dense(num_classes, activation='softmax'))\n",
        "\n",
        "# Compile the model\n",
        "model.compile(loss='categorical_crossentropy', optimizer='adam', metrics=['accuracy'])\n",
        "\n",
        "# Train the model\n",
        "model.fit(X_train, y_train, epochs=15, batch_size=32, validation_data=(X_test, y_test))\n",
        "\n",
        "# Evaluate the model on the test set\n",
        "score = model.evaluate(X_test, y_test, batch_size=64)\n",
        "print(\"Test Loss:\", score[0])\n",
        "print(\"Test Accuracy:\", score[1])\n",
        "\n",
        "# Make predictions with the model\n",
        "predicted_classes = np.argmax(model.predict(X_test), axis=-1)\n",
        "\n",
        "# Decode class labels\n",
        "predicted_classes = le.inverse_transform(predicted_classes)\n",
        "\n",
        "# Confusion matrix\n",
        "cm = confusion_matrix(y_test.argmax(axis=1), predicted_classes)\n",
        "print(\"Confusion Matrix:\")\n",
        "print(cm)\n",
        "\n",
        "# Classification report\n",
        "cr = classification_report(y_test.argmax(axis=1), predicted_classes)\n",
        "print(\"Classification Report:\")\n",
        "print(cr)"
      ],
      "metadata": {
        "colab": {
          "base_uri": "https://localhost:8080/"
        },
        "id": "KfJk5SQksqeb",
        "outputId": "afabdc23-70ae-4a51-d4d1-912d9534d2f9"
      },
      "execution_count": 19,
      "outputs": [
        {
          "output_type": "stream",
          "name": "stdout",
          "text": [
            "Epoch 1/15\n",
            "26286/26286 [==============================] - 140s 5ms/step - loss: 0.4278 - accuracy: 0.8277 - val_loss: 0.3939 - val_accuracy: 0.8494\n",
            "Epoch 2/15\n",
            "26286/26286 [==============================] - 125s 5ms/step - loss: 0.3390 - accuracy: 0.8641 - val_loss: 0.3398 - val_accuracy: 0.8504\n",
            "Epoch 3/15\n",
            "26286/26286 [==============================] - 134s 5ms/step - loss: 0.3208 - accuracy: 0.8705 - val_loss: 0.3049 - val_accuracy: 0.8780\n",
            "Epoch 4/15\n",
            "26286/26286 [==============================] - 123s 5ms/step - loss: 0.3115 - accuracy: 0.8734 - val_loss: 0.3036 - val_accuracy: 0.8838\n",
            "Epoch 5/15\n",
            "26286/26286 [==============================] - 131s 5ms/step - loss: 0.3097 - accuracy: 0.8739 - val_loss: 0.3215 - val_accuracy: 0.8613\n",
            "Epoch 6/15\n",
            "26286/26286 [==============================] - 136s 5ms/step - loss: 0.2948 - accuracy: 0.8793 - val_loss: 0.2879 - val_accuracy: 0.8785\n",
            "Epoch 7/15\n",
            "26286/26286 [==============================] - 126s 5ms/step - loss: 0.2774 - accuracy: 0.8853 - val_loss: 0.2636 - val_accuracy: 0.8913\n",
            "Epoch 8/15\n",
            "26286/26286 [==============================] - 133s 5ms/step - loss: 0.2664 - accuracy: 0.8885 - val_loss: 0.2330 - val_accuracy: 0.8954\n",
            "Epoch 9/15\n",
            "26286/26286 [==============================] - 137s 5ms/step - loss: 0.2564 - accuracy: 0.8899 - val_loss: 0.2844 - val_accuracy: 0.8779\n",
            "Epoch 10/15\n",
            "26286/26286 [==============================] - 134s 5ms/step - loss: 0.2560 - accuracy: 0.8910 - val_loss: 0.2542 - val_accuracy: 0.8842\n",
            "Epoch 11/15\n",
            "26286/26286 [==============================] - 126s 5ms/step - loss: 0.2584 - accuracy: 0.8907 - val_loss: 0.2545 - val_accuracy: 0.8887\n",
            "Epoch 12/15\n",
            "26286/26286 [==============================] - 126s 5ms/step - loss: 0.2503 - accuracy: 0.8925 - val_loss: 0.2437 - val_accuracy: 0.9063\n",
            "Epoch 13/15\n",
            "26286/26286 [==============================] - 124s 5ms/step - loss: 0.2479 - accuracy: 0.8945 - val_loss: 0.2547 - val_accuracy: 0.8925\n",
            "Epoch 14/15\n",
            "26286/26286 [==============================] - 129s 5ms/step - loss: 0.2512 - accuracy: 0.8932 - val_loss: 0.2936 - val_accuracy: 0.8781\n",
            "Epoch 15/15\n",
            "26286/26286 [==============================] - 123s 5ms/step - loss: 0.2450 - accuracy: 0.8957 - val_loss: 0.2141 - val_accuracy: 0.9117\n",
            "3286/3286 [==============================] - 7s 2ms/step - loss: 0.2141 - accuracy: 0.9117\n",
            "Test Loss: 0.21414516866207123\n",
            "Test Accuracy: 0.911703884601593\n",
            "6572/6572 [==============================] - 13s 2ms/step\n",
            "Confusion Matrix:\n",
            "[[40718  6343  5438     1]\n",
            " [  510 47410   233  4401]\n",
            " [   75    13 51334  1123]\n",
            " [    0    24   406 52252]]\n",
            "Classification Report:\n",
            "              precision    recall  f1-score   support\n",
            "\n",
            "           0       0.99      0.78      0.87     52500\n",
            "           1       0.88      0.90      0.89     52554\n",
            "           2       0.89      0.98      0.93     52545\n",
            "           3       0.90      0.99      0.95     52682\n",
            "\n",
            "    accuracy                           0.91    210281\n",
            "   macro avg       0.92      0.91      0.91    210281\n",
            "weighted avg       0.92      0.91      0.91    210281\n",
            "\n"
          ]
        }
      ]
    },
    {
      "cell_type": "code",
      "source": [
        "print(\"Confusion Matrix of Long short-term memory (LSTM)\") \n",
        "conf_mat(y_test.argmax(axis=1), predicted_classes)"
      ],
      "metadata": {
        "colab": {
          "base_uri": "https://localhost:8080/",
          "height": 568
        },
        "id": "FCmW2_oHssh3",
        "outputId": "960a1f5e-b043-4fa0-876b-0bd2e29949b6"
      },
      "execution_count": 21,
      "outputs": [
        {
          "output_type": "stream",
          "name": "stdout",
          "text": [
            "Confusion Matrix of Long short-term memory (LSTM)\n"
          ]
        },
        {
          "output_type": "display_data",
          "data": {
            "text/plain": [
              "<Figure size 600x550 with 2 Axes>"
            ],
            "image/png": "[encoded data removed]"
          },
          "metadata": {}
        }
      ]
    }
  ]
}