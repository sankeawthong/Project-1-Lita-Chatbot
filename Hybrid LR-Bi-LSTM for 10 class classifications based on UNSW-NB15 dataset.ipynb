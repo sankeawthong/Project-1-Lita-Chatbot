{
  "nbformat": 4,
  "nbformat_minor": 0,
  "metadata": {
    "colab": {
      "provenance": [],
      "authorship_tag": "ABX9TyNlgrcw8LHrvHq3+0GtCZOF",
      "include_colab_link": true
    },
    "kernelspec": {
      "name": "python3",
      "display_name": "Python 3"
    },
    "language_info": {
      "name": "python"
    }
  },
  "cells": [
    {
      "cell_type": "markdown",
      "metadata": {
        "id": "view-in-github",
        "colab_type": "text"
      },
      "source": [
        "<a href=\"https://colab.research.google.com/github/sankeawthong/Project-1-Lita-Chatbot/blob/main/Hybrid%20LR-Bi-LSTM%20for%2010%20class%20classifications%20based%20on%20UNSW-NB15%20dataset.ipynb\" target=\"_parent\"><img src=\"https://colab.research.google.com/assets/colab-badge.svg\" alt=\"Open In Colab\"/></a>"
      ]
    },
    {
      "cell_type": "markdown",
      "source": [
        "### **Hybrid LR-Bi-LSTM for 10 class classifications based on UNSW-NB15 dataset**"
      ],
      "metadata": {
        "id": "15jGYmT_0lrn"
      }
    },
    {
      "cell_type": "code",
      "source": [
        "import pandas as pd\n",
        "import numpy as np\n",
        "from sklearn.linear_model import LogisticRegression\n",
        "from sklearn.model_selection import train_test_split\n",
        "from sklearn.metrics import accuracy_score, classification_report\n",
        "from sklearn.preprocessing import LabelEncoder, StandardScaler\n",
        "from keras.models import Sequential\n",
        "from keras.layers import Dense, LSTM, Bidirectional, Dropout, Flatten"
      ],
      "metadata": {
        "id": "JLFmDI9C0qRo"
      },
      "execution_count": 1,
      "outputs": []
    },
    {
      "cell_type": "code",
      "source": [
        "# Load dataset\n",
        "dataset = pd.read_csv(\"dataset_P2.2.csv\")\n",
        "dataset = dataset.dropna() # Remove missing values\n",
        "X = dataset.drop(['Class'], axis=1)\n",
        "y = dataset['Class']"
      ],
      "metadata": {
        "id": "QYXmvq660ron"
      },
      "execution_count": 2,
      "outputs": []
    },
    {
      "cell_type": "markdown",
      "source": [
        "### **Data Preprocessing**"
      ],
      "metadata": {
        "id": "BPxDywqB03Gl"
      }
    },
    {
      "cell_type": "code",
      "source": [
        "# Encode labels\n",
        "encoder = LabelEncoder()\n",
        "y = encoder.fit_transform(dataset['Class'])"
      ],
      "metadata": {
        "id": "E4YGBJ3j0u0B"
      },
      "execution_count": 3,
      "outputs": []
    },
    {
      "cell_type": "code",
      "source": [
        "# Standardize features\n",
        "scaler = StandardScaler()\n",
        "X = scaler.fit_transform(dataset.drop(['Class'], axis=1))"
      ],
      "metadata": {
        "id": "7pwiLsc80wit"
      },
      "execution_count": 4,
      "outputs": []
    },
    {
      "cell_type": "code",
      "source": [
        "# Split data into train and test sets\n",
        "X_train, X_test, y_train, y_test = train_test_split(X, y, test_size=0.2, random_state=42)"
      ],
      "metadata": {
        "id": "J_hiH1JR0xuT"
      },
      "execution_count": 5,
      "outputs": []
    },
    {
      "cell_type": "markdown",
      "source": [
        "### **Hybrid combination of LR-Bi-LSTM for 10 class classifications**"
      ],
      "metadata": {
        "id": "lmcm5fIJ08G8"
      }
    },
    {
      "cell_type": "code",
      "source": [
        "# Train logistic regression model\n",
        "lr_model = LogisticRegression(multi_class='multinomial', solver='lbfgs')\n",
        "lr_model.fit(X_train, y_train)\n",
        "lr_pred = lr_model.predict(X_test)\n",
        "lr_acc = accuracy_score(y_test, lr_pred)\n",
        "print(\"Logistic Regression Accuracy:\", lr_acc)\n",
        "print(classification_report(y_test, lr_pred))"
      ],
      "metadata": {
        "id": "BX1Mt_Im1GIG",
        "outputId": "6add726a-de44-4102-b696-44c202a87a55",
        "colab": {
          "base_uri": "https://localhost:8080/"
        }
      },
      "execution_count": 6,
      "outputs": [
        {
          "output_type": "stream",
          "name": "stdout",
          "text": [
            "Logistic Regression Accuracy: 0.7736177250563175\n",
            "              precision    recall  f1-score   support\n",
            "\n",
            "           0       0.92      0.90      0.91     11169\n",
            "           1       0.60      0.08      0.15       393\n",
            "           2       0.00      0.00      0.00       360\n",
            "           3       0.36      0.12      0.17      2370\n",
            "           4       0.59      0.82      0.69      6772\n",
            "           5       0.59      0.56      0.57      3570\n",
            "           6       0.97      0.97      0.97      8079\n",
            "           7       0.55      0.63      0.59      2098\n",
            "           8       1.00      0.01      0.02       233\n",
            "           9       0.00      0.00      0.00        25\n",
            "\n",
            "    accuracy                           0.77     35069\n",
            "   macro avg       0.56      0.41      0.41     35069\n",
            "weighted avg       0.76      0.77      0.75     35069\n",
            "\n"
          ]
        },
        {
          "output_type": "stream",
          "name": "stderr",
          "text": [
            "/usr/local/lib/python3.10/dist-packages/sklearn/linear_model/_logistic.py:458: ConvergenceWarning: lbfgs failed to converge (status=1):\n",
            "STOP: TOTAL NO. of ITERATIONS REACHED LIMIT.\n",
            "\n",
            "Increase the number of iterations (max_iter) or scale the data as shown in:\n",
            "    https://scikit-learn.org/stable/modules/preprocessing.html\n",
            "Please also refer to the documentation for alternative solver options:\n",
            "    https://scikit-learn.org/stable/modules/linear_model.html#logistic-regression\n",
            "  n_iter_i = _check_optimize_result(\n",
            "/usr/local/lib/python3.10/dist-packages/sklearn/metrics/_classification.py:1344: UndefinedMetricWarning: Precision and F-score are ill-defined and being set to 0.0 in labels with no predicted samples. Use `zero_division` parameter to control this behavior.\n",
            "  _warn_prf(average, modifier, msg_start, len(result))\n",
            "/usr/local/lib/python3.10/dist-packages/sklearn/metrics/_classification.py:1344: UndefinedMetricWarning: Precision and F-score are ill-defined and being set to 0.0 in labels with no predicted samples. Use `zero_division` parameter to control this behavior.\n",
            "  _warn_prf(average, modifier, msg_start, len(result))\n",
            "/usr/local/lib/python3.10/dist-packages/sklearn/metrics/_classification.py:1344: UndefinedMetricWarning: Precision and F-score are ill-defined and being set to 0.0 in labels with no predicted samples. Use `zero_division` parameter to control this behavior.\n",
            "  _warn_prf(average, modifier, msg_start, len(result))\n"
          ]
        }
      ]
    },
    {
      "cell_type": "code",
      "source": [
        "# Train Bi-LSTM model\n",
        "num_classes = len(np.unique(y))\n",
        "input_dim = X_train.shape[1]\n",
        "X_train = np.reshape(X_train, (X_train.shape[0], 1, X_train.shape[1]))\n",
        "X_test = np.reshape(X_test, (X_test.shape[0], 1, X_test.shape[1]))\n",
        "lstm_model = Sequential()\n",
        "lstm_model.add(Bidirectional(LSTM(64, input_shape=(1, input_dim), activation='relu', return_sequences=True)))\n",
        "lstm_model.add(Dropout(0.2))\n",
        "lstm_model.add(LSTM(32, activation='relu'))\n",
        "lstm_model.add(Dense(10, activation='softmax'))\n",
        "lstm_model.compile(loss='categorical_crossentropy', optimizer='adam', metrics=['accuracy'])\n",
        "y_train_onehot = pd.get_dummies(y_train).values\n",
        "lstm_model.fit(X_train, y_train_onehot, epochs=15, batch_size=32, verbose=0)\n",
        "lstm_pred = lstm_model.predict(X_test)\n",
        "lstm_pred = np.argmax(lstm_pred, axis=1)\n",
        "lstm_acc = accuracy_score(y_test, lstm_pred)\n",
        "print(\"Bi-LSTM Accuracy:\", lstm_acc)\n",
        "print(classification_report(y_test, lstm_pred))"
      ],
      "metadata": {
        "id": "4euks9vQ1H6x",
        "outputId": "604c7087-d788-4de6-e491-b7d3e353a36a",
        "colab": {
          "base_uri": "https://localhost:8080/"
        }
      },
      "execution_count": 7,
      "outputs": [
        {
          "output_type": "stream",
          "name": "stdout",
          "text": [
            "1096/1096 [==============================] - 3s 2ms/step\n",
            "Bi-LSTM Accuracy: 0.8399155949699164\n",
            "              precision    recall  f1-score   support\n",
            "\n",
            "           0       0.98      0.94      0.96     11169\n",
            "           1       0.66      0.18      0.28       393\n",
            "           2       0.59      0.15      0.24       360\n",
            "           3       0.37      0.14      0.20      2370\n",
            "           4       0.63      0.90      0.74      6772\n",
            "           5       0.77      0.81      0.79      3570\n",
            "           6       1.00      0.98      0.99      8079\n",
            "           7       0.85      0.72      0.78      2098\n",
            "           8       0.58      0.40      0.47       233\n",
            "           9       1.00      0.20      0.33        25\n",
            "\n",
            "    accuracy                           0.84     35069\n",
            "   macro avg       0.74      0.54      0.58     35069\n",
            "weighted avg       0.84      0.84      0.83     35069\n",
            "\n"
          ]
        }
      ]
    },
    {
      "cell_type": "code",
      "execution_count": 8,
      "metadata": {
        "colab": {
          "base_uri": "https://localhost:8080/"
        },
        "id": "VYp0RdPSzwjT",
        "outputId": "2fef44dd-2f7a-43c2-f760-2e5e35438cca"
      },
      "outputs": [
        {
          "output_type": "stream",
          "name": "stdout",
          "text": [
            "1096/1096 [==============================] - 2s 2ms/step\n",
            "Combined Accuracy: 0.8327012461148022\n",
            "              precision    recall  f1-score   support\n",
            "\n",
            "           0       0.99      0.93      0.96     11169\n",
            "           1       0.78      0.12      0.21       393\n",
            "           2       0.60      0.10      0.18       360\n",
            "           3       0.37      0.13      0.19      2370\n",
            "           4       0.63      0.89      0.73      6772\n",
            "           5       0.74      0.83      0.78      3570\n",
            "           6       0.99      0.98      0.98      8079\n",
            "           7       0.78      0.72      0.75      2098\n",
            "           8       0.76      0.13      0.23       233\n",
            "           9       1.00      0.12      0.21        25\n",
            "\n",
            "    accuracy                           0.83     35069\n",
            "   macro avg       0.76      0.50      0.52     35069\n",
            "weighted avg       0.83      0.83      0.82     35069\n",
            "\n"
          ]
        }
      ],
      "source": [
        "# Combine predictions\n",
        "lr_probs = lr_model.predict_proba(np.reshape(X_test, (X_test.shape[0], -1)))\n",
        "lstm_probs = lstm_model.predict(X_test)\n",
        "combined_probs = (lr_probs + lstm_probs) / 2\n",
        "combined_pred = np.argmax(combined_probs, axis=1)\n",
        "combined_acc = accuracy_score(y_test, combined_pred)\n",
        "print(\"Combined Accuracy:\", combined_acc)\n",
        "print(classification_report(y_test, combined_pred))"
      ]
    }
  ]
}