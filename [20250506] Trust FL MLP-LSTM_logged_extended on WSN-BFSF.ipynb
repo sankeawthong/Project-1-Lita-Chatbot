{
  "nbformat": 4,
  "nbformat_minor": 0,
  "metadata": {
    "colab": {
      "provenance": [],
      "authorship_tag": "ABX9TyOhdqxVf4KDMohYLQ+OS9Do",
      "include_colab_link": true
    },
    "kernelspec": {
      "name": "python3",
      "display_name": "Python 3"
    },
    "language_info": {
      "name": "python"
    }
  },
  "cells": [
    {
      "cell_type": "markdown",
      "metadata": {
        "id": "view-in-github",
        "colab_type": "text"
      },
      "source": [
        "<a href=\"https://colab.research.google.com/github/sankeawthong/Project-1-Lita-Chatbot/blob/main/%5B20250506%5D%20Trust%20FL%20MLP-LSTM_logged_extended%20on%20WSN-BFSF.ipynb\" target=\"_parent\"><img src=\"https://colab.research.google.com/assets/colab-badge.svg\" alt=\"Open In Colab\"/></a>"
      ]
    },
    {
      "cell_type": "markdown",
      "source": [
        "Trust FL MLP-LSTM_logged_extended on WSN-BFSF"
      ],
      "metadata": {
        "id": "M-LJUnoYDdN5"
      }
    },
    {
      "cell_type": "code",
      "execution_count": 1,
      "metadata": {
        "id": "xvQ1Q-6ZbM18"
      },
      "outputs": [],
      "source": [
        "# trust_federated_mlp_lstm_logged_extended.py\n",
        "\n",
        "import pandas as pd\n",
        "import numpy as np\n",
        "import time\n",
        "import matplotlib.pyplot as plt\n",
        "from sklearn.model_selection import train_test_split\n",
        "from sklearn.metrics import accuracy_score, precision_score, recall_score, f1_score, confusion_matrix\n",
        "from sklearn.preprocessing import LabelEncoder, StandardScaler\n",
        "from keras.models import Sequential\n",
        "from keras.layers import Dense, Dropout, LSTM, InputLayer\n",
        "from keras.regularizers import l2\n",
        "from keras.utils import to_categorical\n",
        "from imblearn.over_sampling import SMOTE\n",
        "from scipy.spatial.distance import cosine"
      ]
    },
    {
      "cell_type": "code",
      "source": [
        "# Load dataset\n",
        "dataset = pd.read_csv(\"dataset.csv\")  # WSN-BFSF 4-class dataset\n",
        "dataset = dataset.dropna()  # Remove missing values"
      ],
      "metadata": {
        "id": "NBUOdww7bRg6"
      },
      "execution_count": 2,
      "outputs": []
    },
    {
      "cell_type": "code",
      "source": [
        "dataset"
      ],
      "metadata": {
        "colab": {
          "base_uri": "https://localhost:8080/",
          "height": 444
        },
        "id": "vAm7vAH-baKx",
        "outputId": "6ee07840-f1bf-46bd-d2fb-42b3201157d2"
      },
      "execution_count": 3,
      "outputs": [
        {
          "output_type": "execute_result",
          "data": {
            "text/plain": [
              "        Event        Time  S_Node  Node_id  Rest_Energy  Trace_Level  \\\n",
              "0           1    0.100000      79       79   600.000000            5   \n",
              "1           2    0.100963      78       78   599.979723            5   \n",
              "2           2    0.100963      76       76   599.979722            5   \n",
              "3           2    0.100964      75       75   599.979722            5   \n",
              "4           2    0.100964     118      118   599.979722            5   \n",
              "...       ...         ...     ...      ...          ...          ...   \n",
              "312101      4  656.526536     140      140   465.332078            5   \n",
              "312102      4  657.209643     140      140   465.191806            5   \n",
              "312103      4  657.891729     140      140   465.051737            5   \n",
              "312104      4  658.574656     140      140   464.911501            5   \n",
              "312105      4  679.054956     140      140   460.705905            5   \n",
              "\n",
              "        Mac_Type_Pckt  Source_IP_Port  Des_IP_Port  Packet_Size  TTL  \\\n",
              "0                   0          79.255        1.255           48   30   \n",
              "1                 800          79.255        1.255           48   30   \n",
              "2                 800          79.255        1.255           48   30   \n",
              "3                 800          79.255        1.255           48   30   \n",
              "4                 800          79.255        1.255           48   30   \n",
              "...               ...             ...          ...          ...  ...   \n",
              "312101            800         140.255        1.255           48   30   \n",
              "312102            800         140.255        1.255           48   30   \n",
              "312103            800         140.255        1.255           48   30   \n",
              "312104            800         140.255        1.255           48   30   \n",
              "312105            800         140.255        1.255           48   30   \n",
              "\n",
              "        Hop_Count  Broadcast_ID  Dest_Node_Num  Dest_Seq_Num  Src_Node_ID  \\\n",
              "0               1             1            100             0           79   \n",
              "1               1             1            100             0           79   \n",
              "2               1             1            100             0           79   \n",
              "3               1             1            100             0           79   \n",
              "4               1             1            100             0           79   \n",
              "...           ...           ...            ...           ...          ...   \n",
              "312101          1            31            100            16          140   \n",
              "312102          1            33            100            16          140   \n",
              "312103          1            35            100            16          140   \n",
              "312104          1            37            100            16          140   \n",
              "312105          1            42            100            16          140   \n",
              "\n",
              "        Src_Seq_Num  Class  \n",
              "0                 4      0  \n",
              "1                 4      0  \n",
              "2                 4      0  \n",
              "3                 4      0  \n",
              "4                 4      0  \n",
              "...             ...    ...  \n",
              "312101           68      1  \n",
              "312102           72      1  \n",
              "312103           76      1  \n",
              "312104           80      1  \n",
              "312105           90      1  \n",
              "\n",
              "[312106 rows x 18 columns]"
            ],
            "text/html": [
              "\n",
              "  <div id=\"df-6054d7b2-1c07-482f-9c41-6a1b74a8dcfa\" class=\"colab-df-container\">\n",
              "    <div>\n",
              "<style scoped>\n",
              "    .dataframe tbody tr th:only-of-type {\n",
              "        vertical-align: middle;\n",
              "    }\n",
              "\n",
              "    .dataframe tbody tr th {\n",
              "        vertical-align: top;\n",
              "    }\n",
              "\n",
              "    .dataframe thead th {\n",
              "        text-align: right;\n",
              "    }\n",
              "</style>\n",
              "<table border=\"1\" class=\"dataframe\">\n",
              "  <thead>\n",
              "    <tr style=\"text-align: right;\">\n",
              "      <th></th>\n",
              "      <th>Event</th>\n",
              "      <th>Time</th>\n",
              "      <th>S_Node</th>\n",
              "      <th>Node_id</th>\n",
              "      <th>Rest_Energy</th>\n",
              "      <th>Trace_Level</th>\n",
              "      <th>Mac_Type_Pckt</th>\n",
              "      <th>Source_IP_Port</th>\n",
              "      <th>Des_IP_Port</th>\n",
              "      <th>Packet_Size</th>\n",
              "      <th>TTL</th>\n",
              "      <th>Hop_Count</th>\n",
              "      <th>Broadcast_ID</th>\n",
              "      <th>Dest_Node_Num</th>\n",
              "      <th>Dest_Seq_Num</th>\n",
              "      <th>Src_Node_ID</th>\n",
              "      <th>Src_Seq_Num</th>\n",
              "      <th>Class</th>\n",
              "    </tr>\n",
              "  </thead>\n",
              "  <tbody>\n",
              "    <tr>\n",
              "      <th>0</th>\n",
              "      <td>1</td>\n",
              "      <td>0.100000</td>\n",
              "      <td>79</td>\n",
              "      <td>79</td>\n",
              "      <td>600.000000</td>\n",
              "      <td>5</td>\n",
              "      <td>0</td>\n",
              "      <td>79.255</td>\n",
              "      <td>1.255</td>\n",
              "      <td>48</td>\n",
              "      <td>30</td>\n",
              "      <td>1</td>\n",
              "      <td>1</td>\n",
              "      <td>100</td>\n",
              "      <td>0</td>\n",
              "      <td>79</td>\n",
              "      <td>4</td>\n",
              "      <td>0</td>\n",
              "    </tr>\n",
              "    <tr>\n",
              "      <th>1</th>\n",
              "      <td>2</td>\n",
              "      <td>0.100963</td>\n",
              "      <td>78</td>\n",
              "      <td>78</td>\n",
              "      <td>599.979723</td>\n",
              "      <td>5</td>\n",
              "      <td>800</td>\n",
              "      <td>79.255</td>\n",
              "      <td>1.255</td>\n",
              "      <td>48</td>\n",
              "      <td>30</td>\n",
              "      <td>1</td>\n",
              "      <td>1</td>\n",
              "      <td>100</td>\n",
              "      <td>0</td>\n",
              "      <td>79</td>\n",
              "      <td>4</td>\n",
              "      <td>0</td>\n",
              "    </tr>\n",
              "    <tr>\n",
              "      <th>2</th>\n",
              "      <td>2</td>\n",
              "      <td>0.100963</td>\n",
              "      <td>76</td>\n",
              "      <td>76</td>\n",
              "      <td>599.979722</td>\n",
              "      <td>5</td>\n",
              "      <td>800</td>\n",
              "      <td>79.255</td>\n",
              "      <td>1.255</td>\n",
              "      <td>48</td>\n",
              "      <td>30</td>\n",
              "      <td>1</td>\n",
              "      <td>1</td>\n",
              "      <td>100</td>\n",
              "      <td>0</td>\n",
              "      <td>79</td>\n",
              "      <td>4</td>\n",
              "      <td>0</td>\n",
              "    </tr>\n",
              "    <tr>\n",
              "      <th>3</th>\n",
              "      <td>2</td>\n",
              "      <td>0.100964</td>\n",
              "      <td>75</td>\n",
              "      <td>75</td>\n",
              "      <td>599.979722</td>\n",
              "      <td>5</td>\n",
              "      <td>800</td>\n",
              "      <td>79.255</td>\n",
              "      <td>1.255</td>\n",
              "      <td>48</td>\n",
              "      <td>30</td>\n",
              "      <td>1</td>\n",
              "      <td>1</td>\n",
              "      <td>100</td>\n",
              "      <td>0</td>\n",
              "      <td>79</td>\n",
              "      <td>4</td>\n",
              "      <td>0</td>\n",
              "    </tr>\n",
              "    <tr>\n",
              "      <th>4</th>\n",
              "      <td>2</td>\n",
              "      <td>0.100964</td>\n",
              "      <td>118</td>\n",
              "      <td>118</td>\n",
              "      <td>599.979722</td>\n",
              "      <td>5</td>\n",
              "      <td>800</td>\n",
              "      <td>79.255</td>\n",
              "      <td>1.255</td>\n",
              "      <td>48</td>\n",
              "      <td>30</td>\n",
              "      <td>1</td>\n",
              "      <td>1</td>\n",
              "      <td>100</td>\n",
              "      <td>0</td>\n",
              "      <td>79</td>\n",
              "      <td>4</td>\n",
              "      <td>0</td>\n",
              "    </tr>\n",
              "    <tr>\n",
              "      <th>...</th>\n",
              "      <td>...</td>\n",
              "      <td>...</td>\n",
              "      <td>...</td>\n",
              "      <td>...</td>\n",
              "      <td>...</td>\n",
              "      <td>...</td>\n",
              "      <td>...</td>\n",
              "      <td>...</td>\n",
              "      <td>...</td>\n",
              "      <td>...</td>\n",
              "      <td>...</td>\n",
              "      <td>...</td>\n",
              "      <td>...</td>\n",
              "      <td>...</td>\n",
              "      <td>...</td>\n",
              "      <td>...</td>\n",
              "      <td>...</td>\n",
              "      <td>...</td>\n",
              "    </tr>\n",
              "    <tr>\n",
              "      <th>312101</th>\n",
              "      <td>4</td>\n",
              "      <td>656.526536</td>\n",
              "      <td>140</td>\n",
              "      <td>140</td>\n",
              "      <td>465.332078</td>\n",
              "      <td>5</td>\n",
              "      <td>800</td>\n",
              "      <td>140.255</td>\n",
              "      <td>1.255</td>\n",
              "      <td>48</td>\n",
              "      <td>30</td>\n",
              "      <td>1</td>\n",
              "      <td>31</td>\n",
              "      <td>100</td>\n",
              "      <td>16</td>\n",
              "      <td>140</td>\n",
              "      <td>68</td>\n",
              "      <td>1</td>\n",
              "    </tr>\n",
              "    <tr>\n",
              "      <th>312102</th>\n",
              "      <td>4</td>\n",
              "      <td>657.209643</td>\n",
              "      <td>140</td>\n",
              "      <td>140</td>\n",
              "      <td>465.191806</td>\n",
              "      <td>5</td>\n",
              "      <td>800</td>\n",
              "      <td>140.255</td>\n",
              "      <td>1.255</td>\n",
              "      <td>48</td>\n",
              "      <td>30</td>\n",
              "      <td>1</td>\n",
              "      <td>33</td>\n",
              "      <td>100</td>\n",
              "      <td>16</td>\n",
              "      <td>140</td>\n",
              "      <td>72</td>\n",
              "      <td>1</td>\n",
              "    </tr>\n",
              "    <tr>\n",
              "      <th>312103</th>\n",
              "      <td>4</td>\n",
              "      <td>657.891729</td>\n",
              "      <td>140</td>\n",
              "      <td>140</td>\n",
              "      <td>465.051737</td>\n",
              "      <td>5</td>\n",
              "      <td>800</td>\n",
              "      <td>140.255</td>\n",
              "      <td>1.255</td>\n",
              "      <td>48</td>\n",
              "      <td>30</td>\n",
              "      <td>1</td>\n",
              "      <td>35</td>\n",
              "      <td>100</td>\n",
              "      <td>16</td>\n",
              "      <td>140</td>\n",
              "      <td>76</td>\n",
              "      <td>1</td>\n",
              "    </tr>\n",
              "    <tr>\n",
              "      <th>312104</th>\n",
              "      <td>4</td>\n",
              "      <td>658.574656</td>\n",
              "      <td>140</td>\n",
              "      <td>140</td>\n",
              "      <td>464.911501</td>\n",
              "      <td>5</td>\n",
              "      <td>800</td>\n",
              "      <td>140.255</td>\n",
              "      <td>1.255</td>\n",
              "      <td>48</td>\n",
              "      <td>30</td>\n",
              "      <td>1</td>\n",
              "      <td>37</td>\n",
              "      <td>100</td>\n",
              "      <td>16</td>\n",
              "      <td>140</td>\n",
              "      <td>80</td>\n",
              "      <td>1</td>\n",
              "    </tr>\n",
              "    <tr>\n",
              "      <th>312105</th>\n",
              "      <td>4</td>\n",
              "      <td>679.054956</td>\n",
              "      <td>140</td>\n",
              "      <td>140</td>\n",
              "      <td>460.705905</td>\n",
              "      <td>5</td>\n",
              "      <td>800</td>\n",
              "      <td>140.255</td>\n",
              "      <td>1.255</td>\n",
              "      <td>48</td>\n",
              "      <td>30</td>\n",
              "      <td>1</td>\n",
              "      <td>42</td>\n",
              "      <td>100</td>\n",
              "      <td>16</td>\n",
              "      <td>140</td>\n",
              "      <td>90</td>\n",
              "      <td>1</td>\n",
              "    </tr>\n",
              "  </tbody>\n",
              "</table>\n",
              "<p>312106 rows × 18 columns</p>\n",
              "</div>\n",
              "    <div class=\"colab-df-buttons\">\n",
              "\n",
              "  <div class=\"colab-df-container\">\n",
              "    <button class=\"colab-df-convert\" onclick=\"convertToInteractive('df-6054d7b2-1c07-482f-9c41-6a1b74a8dcfa')\"\n",
              "            title=\"Convert this dataframe to an interactive table.\"\n",
              "            style=\"display:none;\">\n",
              "\n",
              "  <svg xmlns=\"http://www.w3.org/2000/svg\" height=\"24px\" viewBox=\"0 -960 960 960\">\n",
              "    <path d=\"M120-120v-720h720v720H120Zm60-500h600v-160H180v160Zm220 220h160v-160H400v160Zm0 220h160v-160H400v160ZM180-400h160v-160H180v160Zm440 0h160v-160H620v160ZM180-180h160v-160H180v160Zm440 0h160v-160H620v160Z\"/>\n",
              "  </svg>\n",
              "    </button>\n",
              "\n",
              "  <style>\n",
              "    .colab-df-container {\n",
              "      display:flex;\n",
              "      gap: 12px;\n",
              "    }\n",
              "\n",
              "    .colab-df-convert {\n",
              "      background-color: #E8F0FE;\n",
              "      border: none;\n",
              "      border-radius: 50%;\n",
              "      cursor: pointer;\n",
              "      display: none;\n",
              "      fill: #1967D2;\n",
              "      height: 32px;\n",
              "      padding: 0 0 0 0;\n",
              "      width: 32px;\n",
              "    }\n",
              "\n",
              "    .colab-df-convert:hover {\n",
              "      background-color: #E2EBFA;\n",
              "      box-shadow: 0px 1px 2px rgba(60, 64, 67, 0.3), 0px 1px 3px 1px rgba(60, 64, 67, 0.15);\n",
              "      fill: #174EA6;\n",
              "    }\n",
              "\n",
              "    .colab-df-buttons div {\n",
              "      margin-bottom: 4px;\n",
              "    }\n",
              "\n",
              "    [theme=dark] .colab-df-convert {\n",
              "      background-color: #3B4455;\n",
              "      fill: #D2E3FC;\n",
              "    }\n",
              "\n",
              "    [theme=dark] .colab-df-convert:hover {\n",
              "      background-color: #434B5C;\n",
              "      box-shadow: 0px 1px 3px 1px rgba(0, 0, 0, 0.15);\n",
              "      filter: drop-shadow(0px 1px 2px rgba(0, 0, 0, 0.3));\n",
              "      fill: #FFFFFF;\n",
              "    }\n",
              "  </style>\n",
              "\n",
              "    <script>\n",
              "      const buttonEl =\n",
              "        document.querySelector('#df-6054d7b2-1c07-482f-9c41-6a1b74a8dcfa button.colab-df-convert');\n",
              "      buttonEl.style.display =\n",
              "        google.colab.kernel.accessAllowed ? 'block' : 'none';\n",
              "\n",
              "      async function convertToInteractive(key) {\n",
              "        const element = document.querySelector('#df-6054d7b2-1c07-482f-9c41-6a1b74a8dcfa');\n",
              "        const dataTable =\n",
              "          await google.colab.kernel.invokeFunction('convertToInteractive',\n",
              "                                                    [key], {});\n",
              "        if (!dataTable) return;\n",
              "\n",
              "        const docLinkHtml = 'Like what you see? Visit the ' +\n",
              "          '<a target=\"_blank\" href=https://colab.research.google.com/notebooks/data_table.ipynb>data table notebook</a>'\n",
              "          + ' to learn more about interactive tables.';\n",
              "        element.innerHTML = '';\n",
              "        dataTable['output_type'] = 'display_data';\n",
              "        await google.colab.output.renderOutput(dataTable, element);\n",
              "        const docLink = document.createElement('div');\n",
              "        docLink.innerHTML = docLinkHtml;\n",
              "        element.appendChild(docLink);\n",
              "      }\n",
              "    </script>\n",
              "  </div>\n",
              "\n",
              "\n",
              "    <div id=\"df-f7f064f3-8770-4d90-b3ed-67b67f8d53a9\">\n",
              "      <button class=\"colab-df-quickchart\" onclick=\"quickchart('df-f7f064f3-8770-4d90-b3ed-67b67f8d53a9')\"\n",
              "                title=\"Suggest charts\"\n",
              "                style=\"display:none;\">\n",
              "\n",
              "<svg xmlns=\"http://www.w3.org/2000/svg\" height=\"24px\"viewBox=\"0 0 24 24\"\n",
              "     width=\"24px\">\n",
              "    <g>\n",
              "        <path d=\"M19 3H5c-1.1 0-2 .9-2 2v14c0 1.1.9 2 2 2h14c1.1 0 2-.9 2-2V5c0-1.1-.9-2-2-2zM9 17H7v-7h2v7zm4 0h-2V7h2v10zm4 0h-2v-4h2v4z\"/>\n",
              "    </g>\n",
              "</svg>\n",
              "      </button>\n",
              "\n",
              "<style>\n",
              "  .colab-df-quickchart {\n",
              "      --bg-color: #E8F0FE;\n",
              "      --fill-color: #1967D2;\n",
              "      --hover-bg-color: #E2EBFA;\n",
              "      --hover-fill-color: #174EA6;\n",
              "      --disabled-fill-color: #AAA;\n",
              "      --disabled-bg-color: #DDD;\n",
              "  }\n",
              "\n",
              "  [theme=dark] .colab-df-quickchart {\n",
              "      --bg-color: #3B4455;\n",
              "      --fill-color: #D2E3FC;\n",
              "      --hover-bg-color: #434B5C;\n",
              "      --hover-fill-color: #FFFFFF;\n",
              "      --disabled-bg-color: #3B4455;\n",
              "      --disabled-fill-color: #666;\n",
              "  }\n",
              "\n",
              "  .colab-df-quickchart {\n",
              "    background-color: var(--bg-color);\n",
              "    border: none;\n",
              "    border-radius: 50%;\n",
              "    cursor: pointer;\n",
              "    display: none;\n",
              "    fill: var(--fill-color);\n",
              "    height: 32px;\n",
              "    padding: 0;\n",
              "    width: 32px;\n",
              "  }\n",
              "\n",
              "  .colab-df-quickchart:hover {\n",
              "    background-color: var(--hover-bg-color);\n",
              "    box-shadow: 0 1px 2px rgba(60, 64, 67, 0.3), 0 1px 3px 1px rgba(60, 64, 67, 0.15);\n",
              "    fill: var(--button-hover-fill-color);\n",
              "  }\n",
              "\n",
              "  .colab-df-quickchart-complete:disabled,\n",
              "  .colab-df-quickchart-complete:disabled:hover {\n",
              "    background-color: var(--disabled-bg-color);\n",
              "    fill: var(--disabled-fill-color);\n",
              "    box-shadow: none;\n",
              "  }\n",
              "\n",
              "  .colab-df-spinner {\n",
              "    border: 2px solid var(--fill-color);\n",
              "    border-color: transparent;\n",
              "    border-bottom-color: var(--fill-color);\n",
              "    animation:\n",
              "      spin 1s steps(1) infinite;\n",
              "  }\n",
              "\n",
              "  @keyframes spin {\n",
              "    0% {\n",
              "      border-color: transparent;\n",
              "      border-bottom-color: var(--fill-color);\n",
              "      border-left-color: var(--fill-color);\n",
              "    }\n",
              "    20% {\n",
              "      border-color: transparent;\n",
              "      border-left-color: var(--fill-color);\n",
              "      border-top-color: var(--fill-color);\n",
              "    }\n",
              "    30% {\n",
              "      border-color: transparent;\n",
              "      border-left-color: var(--fill-color);\n",
              "      border-top-color: var(--fill-color);\n",
              "      border-right-color: var(--fill-color);\n",
              "    }\n",
              "    40% {\n",
              "      border-color: transparent;\n",
              "      border-right-color: var(--fill-color);\n",
              "      border-top-color: var(--fill-color);\n",
              "    }\n",
              "    60% {\n",
              "      border-color: transparent;\n",
              "      border-right-color: var(--fill-color);\n",
              "    }\n",
              "    80% {\n",
              "      border-color: transparent;\n",
              "      border-right-color: var(--fill-color);\n",
              "      border-bottom-color: var(--fill-color);\n",
              "    }\n",
              "    90% {\n",
              "      border-color: transparent;\n",
              "      border-bottom-color: var(--fill-color);\n",
              "    }\n",
              "  }\n",
              "</style>\n",
              "\n",
              "      <script>\n",
              "        async function quickchart(key) {\n",
              "          const quickchartButtonEl =\n",
              "            document.querySelector('#' + key + ' button');\n",
              "          quickchartButtonEl.disabled = true;  // To prevent multiple clicks.\n",
              "          quickchartButtonEl.classList.add('colab-df-spinner');\n",
              "          try {\n",
              "            const charts = await google.colab.kernel.invokeFunction(\n",
              "                'suggestCharts', [key], {});\n",
              "          } catch (error) {\n",
              "            console.error('Error during call to suggestCharts:', error);\n",
              "          }\n",
              "          quickchartButtonEl.classList.remove('colab-df-spinner');\n",
              "          quickchartButtonEl.classList.add('colab-df-quickchart-complete');\n",
              "        }\n",
              "        (() => {\n",
              "          let quickchartButtonEl =\n",
              "            document.querySelector('#df-f7f064f3-8770-4d90-b3ed-67b67f8d53a9 button');\n",
              "          quickchartButtonEl.style.display =\n",
              "            google.colab.kernel.accessAllowed ? 'block' : 'none';\n",
              "        })();\n",
              "      </script>\n",
              "    </div>\n",
              "\n",
              "  <div id=\"id_f38ca599-a30e-4264-821c-aa09323b88ca\">\n",
              "    <style>\n",
              "      .colab-df-generate {\n",
              "        background-color: #E8F0FE;\n",
              "        border: none;\n",
              "        border-radius: 50%;\n",
              "        cursor: pointer;\n",
              "        display: none;\n",
              "        fill: #1967D2;\n",
              "        height: 32px;\n",
              "        padding: 0 0 0 0;\n",
              "        width: 32px;\n",
              "      }\n",
              "\n",
              "      .colab-df-generate:hover {\n",
              "        background-color: #E2EBFA;\n",
              "        box-shadow: 0px 1px 2px rgba(60, 64, 67, 0.3), 0px 1px 3px 1px rgba(60, 64, 67, 0.15);\n",
              "        fill: #174EA6;\n",
              "      }\n",
              "\n",
              "      [theme=dark] .colab-df-generate {\n",
              "        background-color: #3B4455;\n",
              "        fill: #D2E3FC;\n",
              "      }\n",
              "\n",
              "      [theme=dark] .colab-df-generate:hover {\n",
              "        background-color: #434B5C;\n",
              "        box-shadow: 0px 1px 3px 1px rgba(0, 0, 0, 0.15);\n",
              "        filter: drop-shadow(0px 1px 2px rgba(0, 0, 0, 0.3));\n",
              "        fill: #FFFFFF;\n",
              "      }\n",
              "    </style>\n",
              "    <button class=\"colab-df-generate\" onclick=\"generateWithVariable('dataset')\"\n",
              "            title=\"Generate code using this dataframe.\"\n",
              "            style=\"display:none;\">\n",
              "\n",
              "  <svg xmlns=\"http://www.w3.org/2000/svg\" height=\"24px\"viewBox=\"0 0 24 24\"\n",
              "       width=\"24px\">\n",
              "    <path d=\"M7,19H8.4L18.45,9,17,7.55,7,17.6ZM5,21V16.75L18.45,3.32a2,2,0,0,1,2.83,0l1.4,1.43a1.91,1.91,0,0,1,.58,1.4,1.91,1.91,0,0,1-.58,1.4L9.25,21ZM18.45,9,17,7.55Zm-12,3A5.31,5.31,0,0,0,4.9,8.1,5.31,5.31,0,0,0,1,6.5,5.31,5.31,0,0,0,4.9,4.9,5.31,5.31,0,0,0,6.5,1,5.31,5.31,0,0,0,8.1,4.9,5.31,5.31,0,0,0,12,6.5,5.46,5.46,0,0,0,6.5,12Z\"/>\n",
              "  </svg>\n",
              "    </button>\n",
              "    <script>\n",
              "      (() => {\n",
              "      const buttonEl =\n",
              "        document.querySelector('#id_f38ca599-a30e-4264-821c-aa09323b88ca button.colab-df-generate');\n",
              "      buttonEl.style.display =\n",
              "        google.colab.kernel.accessAllowed ? 'block' : 'none';\n",
              "\n",
              "      buttonEl.onclick = () => {\n",
              "        google.colab.notebook.generateWithVariable('dataset');\n",
              "      }\n",
              "      })();\n",
              "    </script>\n",
              "  </div>\n",
              "\n",
              "    </div>\n",
              "  </div>\n"
            ],
            "application/vnd.google.colaboratory.intrinsic+json": {
              "type": "dataframe",
              "variable_name": "dataset"
            }
          },
          "metadata": {},
          "execution_count": 3
        }
      ]
    },
    {
      "cell_type": "code",
      "source": [
        "# Encode non-numeric columns (if any)\n",
        "for column in dataset.columns:\n",
        "    if dataset[column].dtype == 'object':  # Identify categorical columns\n",
        "        dataset[column] = LabelEncoder().fit_transform(dataset[column])\n",
        "\n",
        "# Separate features (X) and target (y)\n",
        "X = dataset.drop(['Class'], axis=1)  # Assuming 'Class' is the target column\n",
        "y = dataset['Class']\n",
        "\n",
        "print(\"Original Class Distribution:\", np.bincount(y))"
      ],
      "metadata": {
        "colab": {
          "base_uri": "https://localhost:8080/"
        },
        "id": "wwHwsyelbcFY",
        "outputId": "6263a532-6f0e-4f55-8154-647bc67d87ba"
      },
      "execution_count": 4,
      "outputs": [
        {
          "output_type": "stream",
          "name": "stdout",
          "text": [
            "Original Class Distribution: [262851  11766   7645  29844]\n"
          ]
        }
      ]
    },
    {
      "cell_type": "code",
      "source": [
        "from sklearn.preprocessing import LabelEncoder, StandardScaler # Import StandardScaler here\n",
        "# Standardize the features\n",
        "scaler = StandardScaler()\n",
        "X = scaler.fit_transform(X)"
      ],
      "metadata": {
        "id": "2jw9p9XWbeIL"
      },
      "execution_count": 5,
      "outputs": []
    },
    {
      "cell_type": "code",
      "source": [
        "from imblearn.over_sampling import SMOTE\n",
        "\n",
        "# Apply SMOTE to balance the data\n",
        "smote = SMOTE(random_state=42)\n",
        "X, y = smote.fit_resample(X, y)\n",
        "\n",
        "# Verify the balanced dataset distribution\n",
        "print(\"Balanced Class Distribution:\", np.bincount(y))"
      ],
      "metadata": {
        "colab": {
          "base_uri": "https://localhost:8080/"
        },
        "id": "VMhig-sebgKk",
        "outputId": "09122e02-861e-4f8d-d5ea-b27df1a7974b"
      },
      "execution_count": 6,
      "outputs": [
        {
          "output_type": "stream",
          "name": "stdout",
          "text": [
            "Balanced Class Distribution: [262851 262851 262851 262851]\n"
          ]
        }
      ]
    },
    {
      "cell_type": "code",
      "source": [
        "# Train-test split\n",
        "X_train, X_test, y_train, y_test = train_test_split(X, y, test_size=0.2, random_state=101, stratify=y)"
      ],
      "metadata": {
        "id": "BQSTN1CRbgHx"
      },
      "execution_count": 7,
      "outputs": []
    },
    {
      "cell_type": "code",
      "source": [
        "pip install matplotlib"
      ],
      "metadata": {
        "colab": {
          "base_uri": "https://localhost:8080/"
        },
        "id": "_0AF4OfPbxLz",
        "outputId": "a00a9560-deac-40b1-f9ec-05b35b8cb05c"
      },
      "execution_count": 8,
      "outputs": [
        {
          "output_type": "stream",
          "name": "stdout",
          "text": [
            "Requirement already satisfied: matplotlib in /usr/local/lib/python3.11/dist-packages (3.10.0)\n",
            "Requirement already satisfied: contourpy>=1.0.1 in /usr/local/lib/python3.11/dist-packages (from matplotlib) (1.3.2)\n",
            "Requirement already satisfied: cycler>=0.10 in /usr/local/lib/python3.11/dist-packages (from matplotlib) (0.12.1)\n",
            "Requirement already satisfied: fonttools>=4.22.0 in /usr/local/lib/python3.11/dist-packages (from matplotlib) (4.57.0)\n",
            "Requirement already satisfied: kiwisolver>=1.3.1 in /usr/local/lib/python3.11/dist-packages (from matplotlib) (1.4.8)\n",
            "Requirement already satisfied: numpy>=1.23 in /usr/local/lib/python3.11/dist-packages (from matplotlib) (2.0.2)\n",
            "Requirement already satisfied: packaging>=20.0 in /usr/local/lib/python3.11/dist-packages (from matplotlib) (24.2)\n",
            "Requirement already satisfied: pillow>=8 in /usr/local/lib/python3.11/dist-packages (from matplotlib) (11.2.1)\n",
            "Requirement already satisfied: pyparsing>=2.3.1 in /usr/local/lib/python3.11/dist-packages (from matplotlib) (3.2.3)\n",
            "Requirement already satisfied: python-dateutil>=2.7 in /usr/local/lib/python3.11/dist-packages (from matplotlib) (2.9.0.post0)\n",
            "Requirement already satisfied: six>=1.5 in /usr/local/lib/python3.11/dist-packages (from python-dateutil>=2.7->matplotlib) (1.17.0)\n"
          ]
        }
      ]
    },
    {
      "cell_type": "code",
      "source": [
        "import matplotlib.pyplot as plt\n",
        "from sklearn.ensemble import RandomForestClassifier\n",
        "from sklearn.metrics import confusion_matrix, classification_report\n",
        "from tensorflow.keras.models import Sequential\n",
        "from tensorflow.keras.layers import LSTM, Dropout, Dense, TimeDistributed\n",
        "from tensorflow.keras.regularizers import l2\n",
        "import numpy as np"
      ],
      "metadata": {
        "id": "7yFjVSTlbf9a"
      },
      "execution_count": 9,
      "outputs": []
    },
    {
      "cell_type": "code",
      "source": [
        "y_train_cat = to_categorical(y_train)\n",
        "y_test_cat = to_categorical(y_test)\n",
        "\n",
        "X_train = X_train.reshape((X_train.shape[0], X_train.shape[1], 1))\n",
        "X_test = X_test.reshape((X_test.shape[0], X_test.shape[1], 1))\n",
        "\n",
        "input_shape = (X_train.shape[1], X_train.shape[2])\n",
        "num_classes = y_train_cat.shape[1]\n",
        "\n",
        "def build_hybrid_model(input_shape, num_classes):\n",
        "    model = Sequential()\n",
        "    model.add(InputLayer(input_shape=input_shape))\n",
        "    model.add(LSTM(64, activation='tanh', return_sequences=False, kernel_regularizer=l2(0.01)))\n",
        "    model.add(Dropout(0.3))\n",
        "    model.add(Dense(128, activation='relu', kernel_regularizer=l2(0.01)))\n",
        "    model.add(Dropout(0.3))\n",
        "    model.add(Dense(64, activation='relu', kernel_regularizer=l2(0.01)))\n",
        "    model.add(Dropout(0.3))\n",
        "    model.add(Dense(num_classes, activation='softmax'))\n",
        "    return model\n",
        "\n",
        "def compute_cosine_similarity(update1, update2):\n",
        "    flat1 = np.concatenate([w.flatten() for w in update1])\n",
        "    flat2 = np.concatenate([w.flatten() for w in update2])\n",
        "    return 1 - cosine(flat1, flat2)\n",
        "\n",
        "def compute_stability(client_updates, history):\n",
        "    if len(history) < 2:\n",
        "        return 1.0\n",
        "    sims = [compute_cosine_similarity(client_updates, past) for past in history[-3:]]\n",
        "    return np.mean(sims)\n",
        "\n",
        "def normalize(value, min_val, max_val):\n",
        "    return (value - min_val) / (max_val - min_val + 1e-8)\n",
        "\n",
        "def compute_trust_scores(client_updates_dict, global_weights, val_losses_dict, update_history_dict, alpha=(0.4, 0.4, 0.2)):\n",
        "    scores = {}\n",
        "    all_val_losses = list(val_losses_dict.values())\n",
        "    min_loss, max_loss = min(all_val_losses), max(all_val_losses)\n",
        "\n",
        "    for client_id, local_update in client_updates_dict.items():\n",
        "        sim = compute_cosine_similarity(local_update, global_weights)\n",
        "        val_loss = val_losses_dict[client_id]\n",
        "        stability = compute_stability(local_update, update_history_dict.get(client_id, []))\n",
        "        norm_val_loss = normalize(val_loss, min_loss, max_loss)\n",
        "        trust = (alpha[0] * sim) + (alpha[1] * (1 - norm_val_loss)) + (alpha[2] * stability)\n",
        "        scores[client_id] = trust\n",
        "    return scores\n",
        "\n",
        "def trust_weighted_aggregation(client_weights, trust_scores):\n",
        "    total_trust = sum(trust_scores.values())\n",
        "    new_global = [\n",
        "        sum(trust_scores[cid] * np.array(client_weights[cid][i]) for cid in client_weights) / total_trust\n",
        "        for i in range(len(next(iter(client_weights.values()))))\n",
        "    ]\n",
        "    return new_global\n",
        "\n",
        "def evaluate_global_model(model, X_test, y_test):\n",
        "    y_pred = model.predict(X_test)\n",
        "    y_pred_classes = np.argmax(y_pred, axis=1)\n",
        "    y_true_classes = np.argmax(y_test, axis=1)\n",
        "\n",
        "    accuracy = accuracy_score(y_true_classes, y_pred_classes)\n",
        "    precision = precision_score(y_true_classes, y_pred_classes, average='weighted')\n",
        "    recall = recall_score(y_true_classes, y_pred_classes, average='weighted')\n",
        "    f1 = f1_score(y_true_classes, y_pred_classes, average='weighted')\n",
        "    cm = confusion_matrix(y_true_classes, y_pred_classes)\n",
        "\n",
        "    return accuracy, precision, recall, f1, cm\n",
        "\n",
        "# Trust and metric logs\n",
        "trust_log = []\n",
        "round_metrics = []\n",
        "communication_cost_log = []\n",
        "\n",
        "def federated_learning_with_trust(X_train, y_train_cat, X_test, y_test_cat, num_clients=5, rounds=30):\n",
        "    client_data = np.array_split(X_train, num_clients)\n",
        "    client_labels = np.array_split(y_train_cat, num_clients)\n",
        "\n",
        "    global_model = build_hybrid_model(input_shape, num_classes)\n",
        "    global_model.compile(optimizer='adam', loss='categorical_crossentropy', metrics=['accuracy'])\n",
        "    global_weights = global_model.get_weights()\n",
        "\n",
        "    update_history = {i: [] for i in range(num_clients)}\n",
        "\n",
        "    for round in range(rounds):\n",
        "        client_updates = {}\n",
        "        val_losses = {}\n",
        "        round_cost = 0\n",
        "\n",
        "        for i in range(num_clients):\n",
        "            local_model = build_hybrid_model(input_shape, num_classes)\n",
        "            local_model.set_weights(global_weights)\n",
        "            local_model.compile(optimizer='adam', loss='categorical_crossentropy', metrics=['accuracy'])\n",
        "            local_model.fit(client_data[i], client_labels[i], epochs=1, batch_size=32, verbose=0)\n",
        "\n",
        "            local_weights = local_model.get_weights()\n",
        "            loss, _ = local_model.evaluate(X_test, y_test_cat, verbose=0)\n",
        "\n",
        "            client_updates[i] = local_weights\n",
        "            val_losses[i] = loss\n",
        "            update_history[i].append(local_weights)\n",
        "\n",
        "            # Compute communication cost per client\n",
        "            round_cost += sum(w.nbytes for w in local_weights)\n",
        "\n",
        "        trust_scores = compute_trust_scores(client_updates, global_weights, val_losses, update_history)\n",
        "\n",
        "        for client_id, score in trust_scores.items():\n",
        "            trust_log.append({\n",
        "                'round': round + 1,\n",
        "                'client_id': client_id,\n",
        "                'trust_score': score\n",
        "            })\n",
        "\n",
        "        global_weights = trust_weighted_aggregation(client_updates, trust_scores)\n",
        "        global_model.set_weights(global_weights)\n",
        "\n",
        "        accuracy, precision, recall, f1, cm = evaluate_global_model(global_model, X_test, y_test_cat)\n",
        "        print(f\"Round {round + 1}\")\n",
        "        #print(f\"Accuracy: {accuracy:.8f}, F1-Score: {f1:.8f}\")\n",
        "        print(f\"Accuracy: {accuracy:.8f}, Precision: {precision:.8f}, Recall: {recall:.8f}, F1-Score: {f1:.8f}\")\n",
        "        print(f\"Confusion Matrix:\\n{cm}\\n\")\n",
        "\n",
        "        round_metrics.append({'round': round + 1, 'accuracy': accuracy, 'f1': f1})\n",
        "        communication_cost_log.append({'round': round + 1, 'comm_cost_MB': round_cost / (1024**2)})\n",
        "\n",
        "    # Save logs\n",
        "    pd.DataFrame(trust_log).to_csv(\"trust_scores_log.csv\", index=False)\n",
        "    pd.DataFrame(round_metrics).to_csv(\"round_metrics_log.csv\", index=False)\n",
        "    pd.DataFrame(communication_cost_log).to_csv(\"communication_cost_log.csv\", index=False)\n",
        "\n",
        "    # Plot accuracy and F1-score\n",
        "    metric_df = pd.DataFrame(round_metrics)\n",
        "    plt.plot(metric_df['round'], metric_df['accuracy'], label='Accuracy')\n",
        "    plt.plot(metric_df['round'], metric_df['f1'], label='F1-Score')\n",
        "    plt.title(\"Model Convergence Over Rounds\")\n",
        "    plt.xlabel(\"Round\")\n",
        "    plt.ylabel(\"Score\")\n",
        "    plt.legend()\n",
        "    plt.grid(True)\n",
        "    plt.tight_layout()\n",
        "    plt.show()\n",
        "\n",
        "    # Plot trust score trends\n",
        "    trust_df = pd.DataFrame(trust_log)\n",
        "    for client_id in trust_df['client_id'].unique():\n",
        "        client_data = trust_df[trust_df['client_id'] == client_id]\n",
        "        plt.plot(client_data['round'], client_data['trust_score'], label=f'Client {client_id}')\n",
        "    plt.xlabel(\"Round\")\n",
        "    plt.ylabel(\"Trust Score\")\n",
        "    plt.title(\"Trust Score Evolution per Client\")\n",
        "    plt.legend(loc='upper left')\n",
        "    plt.grid(True)\n",
        "    plt.tight_layout()\n",
        "    plt.show()\n",
        "\n",
        "    # Plot trust score volatility (standard deviation over rounds)\n",
        "    volatility = trust_df.groupby('client_id')['trust_score'].std().reset_index()\n",
        "    plt.bar(volatility['client_id'], volatility['trust_score'])\n",
        "    plt.title(\"Trust Score Volatility per Client\")\n",
        "    plt.xlabel(\"Client ID\")\n",
        "    plt.ylabel(\"Std Dev of Trust Score\")\n",
        "    plt.grid(True)\n",
        "    plt.tight_layout()\n",
        "    plt.show()\n",
        "\n",
        "# Execute\n",
        "federated_learning_with_trust(X_train, y_train_cat, X_test, y_test_cat)"
      ],
      "metadata": {
        "colab": {
          "base_uri": "https://localhost:8080/",
          "height": 1000
        },
        "id": "2xOaIu_pbjgz",
        "outputId": "cd94b1a0-6675-456c-96a3-e03ce4f8fe9c"
      },
      "execution_count": 14,
      "outputs": [
        {
          "output_type": "stream",
          "name": "stderr",
          "text": [
            "/usr/local/lib/python3.11/dist-packages/keras/src/layers/core/input_layer.py:27: UserWarning: Argument `input_shape` is deprecated. Use `shape` instead.\n",
            "  warnings.warn(\n"
          ]
        },
        {
          "output_type": "stream",
          "name": "stdout",
          "text": [
            "\u001b[1m6572/6572\u001b[0m \u001b[32m━━━━━━━━━━━━━━━━━━━━\u001b[0m\u001b[37m\u001b[0m \u001b[1m31s\u001b[0m 5ms/step\n",
            "Round 1\n",
            "Accuracy: 0.67876318, Precision: 0.67992396, Recall: 0.67876318, F1-Score: 0.67531642\n",
            "Confusion Matrix:\n",
            "[[31679 12050  8379   462]\n",
            " [15186 24991  9422  2971]\n",
            " [ 7409  3346 39787  2028]\n",
            " [    0     3  6294 46274]]\n",
            "\n"
          ]
        },
        {
          "output_type": "stream",
          "name": "stderr",
          "text": [
            "/usr/local/lib/python3.11/dist-packages/keras/src/layers/core/input_layer.py:27: UserWarning: Argument `input_shape` is deprecated. Use `shape` instead.\n",
            "  warnings.warn(\n"
          ]
        },
        {
          "output_type": "stream",
          "name": "stdout",
          "text": [
            "\u001b[1m6572/6572\u001b[0m \u001b[32m━━━━━━━━━━━━━━━━━━━━\u001b[0m\u001b[37m\u001b[0m \u001b[1m30s\u001b[0m 5ms/step\n",
            "Round 2\n",
            "Accuracy: 0.88104964, Precision: 0.88427635, Recall: 0.88104964, F1-Score: 0.87932204\n",
            "Confusion Matrix:\n",
            "[[38293  9956  4321     0]\n",
            " [ 3209 46776   220  2365]\n",
            " [  642   117 50398  1413]\n",
            " [   19  1843   908 49801]]\n",
            "\n"
          ]
        },
        {
          "output_type": "stream",
          "name": "stderr",
          "text": [
            "/usr/local/lib/python3.11/dist-packages/keras/src/layers/core/input_layer.py:27: UserWarning: Argument `input_shape` is deprecated. Use `shape` instead.\n",
            "  warnings.warn(\n"
          ]
        },
        {
          "output_type": "stream",
          "name": "stdout",
          "text": [
            "\u001b[1m6572/6572\u001b[0m \u001b[32m━━━━━━━━━━━━━━━━━━━━\u001b[0m\u001b[37m\u001b[0m \u001b[1m39s\u001b[0m 6ms/step\n",
            "Round 3\n",
            "Accuracy: 0.90948778, Precision: 0.91298814, Recall: 0.90948778, F1-Score: 0.90806720\n",
            "Confusion Matrix:\n",
            "[[40808  8462  3298     2]\n",
            " [ 1271 48015   143  3141]\n",
            " [  381   116 50660  1413]\n",
            " [    0   337   469 51765]]\n",
            "\n"
          ]
        },
        {
          "output_type": "stream",
          "name": "stderr",
          "text": [
            "/usr/local/lib/python3.11/dist-packages/keras/src/layers/core/input_layer.py:27: UserWarning: Argument `input_shape` is deprecated. Use `shape` instead.\n",
            "  warnings.warn(\n"
          ]
        },
        {
          "output_type": "stream",
          "name": "stdout",
          "text": [
            "\u001b[1m6572/6572\u001b[0m \u001b[32m━━━━━━━━━━━━━━━━━━━━\u001b[0m\u001b[37m\u001b[0m \u001b[1m30s\u001b[0m 5ms/step\n",
            "Round 4\n",
            "Accuracy: 0.90813245, Precision: 0.91417802, Recall: 0.90813245, F1-Score: 0.90646356\n",
            "Confusion Matrix:\n",
            "[[39856  8955  3759     0]\n",
            " [  319 48794    98  3359]\n",
            " [  281   154 50861  1274]\n",
            " [    0   302   817 51452]]\n",
            "\n"
          ]
        },
        {
          "output_type": "stream",
          "name": "stderr",
          "text": [
            "/usr/local/lib/python3.11/dist-packages/keras/src/layers/core/input_layer.py:27: UserWarning: Argument `input_shape` is deprecated. Use `shape` instead.\n",
            "  warnings.warn(\n"
          ]
        },
        {
          "output_type": "stream",
          "name": "stdout",
          "text": [
            "\u001b[1m6572/6572\u001b[0m \u001b[32m━━━━━━━━━━━━━━━━━━━━\u001b[0m\u001b[37m\u001b[0m \u001b[1m30s\u001b[0m 5ms/step\n",
            "Round 5\n",
            "Accuracy: 0.91485679, Precision: 0.92012694, Recall: 0.91485679, F1-Score: 0.91360295\n",
            "Confusion Matrix:\n",
            "[[41016  8363  3191     0]\n",
            " [  244 48833    89  3404]\n",
            " [  253   127 51177  1013]\n",
            " [    0   335   885 51351]]\n",
            "\n"
          ]
        },
        {
          "output_type": "stream",
          "name": "stderr",
          "text": [
            "/usr/local/lib/python3.11/dist-packages/keras/src/layers/core/input_layer.py:27: UserWarning: Argument `input_shape` is deprecated. Use `shape` instead.\n",
            "  warnings.warn(\n"
          ]
        },
        {
          "output_type": "stream",
          "name": "stdout",
          "text": [
            "\u001b[1m6572/6572\u001b[0m \u001b[32m━━━━━━━━━━━━━━━━━━━━\u001b[0m\u001b[37m\u001b[0m \u001b[1m36s\u001b[0m 5ms/step\n",
            "Round 6\n",
            "Accuracy: 0.92507169, Precision: 0.92938710, Recall: 0.92507169, F1-Score: 0.92398698\n",
            "Confusion Matrix:\n",
            "[[42047  6946  3577     0]\n",
            " [  469 49679    86  2336]\n",
            " [  142    97 52084   247]\n",
            " [    0   558  1298 50715]]\n",
            "\n"
          ]
        },
        {
          "output_type": "stream",
          "name": "stderr",
          "text": [
            "/usr/local/lib/python3.11/dist-packages/keras/src/layers/core/input_layer.py:27: UserWarning: Argument `input_shape` is deprecated. Use `shape` instead.\n",
            "  warnings.warn(\n"
          ]
        },
        {
          "output_type": "stream",
          "name": "stdout",
          "text": [
            "\u001b[1m6572/6572\u001b[0m \u001b[32m━━━━━━━━━━━━━━━━━━━━\u001b[0m\u001b[37m\u001b[0m \u001b[1m30s\u001b[0m 5ms/step\n",
            "Round 7\n",
            "Accuracy: 0.92494805, Precision: 0.92989459, Recall: 0.92494805, F1-Score: 0.92382670\n",
            "Confusion Matrix:\n",
            "[[41756  7927  2887     0]\n",
            " [  198 49549    68  2755]\n",
            " [  132   108 52192   138]\n",
            " [    0   278  1291 51002]]\n",
            "\n"
          ]
        },
        {
          "output_type": "stream",
          "name": "stderr",
          "text": [
            "/usr/local/lib/python3.11/dist-packages/keras/src/layers/core/input_layer.py:27: UserWarning: Argument `input_shape` is deprecated. Use `shape` instead.\n",
            "  warnings.warn(\n"
          ]
        },
        {
          "output_type": "stream",
          "name": "stdout",
          "text": [
            "\u001b[1m6572/6572\u001b[0m \u001b[32m━━━━━━━━━━━━━━━━━━━━\u001b[0m\u001b[37m\u001b[0m \u001b[1m29s\u001b[0m 4ms/step\n",
            "Round 8\n",
            "Accuracy: 0.93165811, Precision: 0.93460035, Recall: 0.93165811, F1-Score: 0.93112968\n",
            "Confusion Matrix:\n",
            "[[44091  6036  2443     0]\n",
            " [  462 49167    79  2862]\n",
            " [  109    76 52145   240]\n",
            " [    0   795  1269 50507]]\n",
            "\n"
          ]
        },
        {
          "output_type": "stream",
          "name": "stderr",
          "text": [
            "/usr/local/lib/python3.11/dist-packages/keras/src/layers/core/input_layer.py:27: UserWarning: Argument `input_shape` is deprecated. Use `shape` instead.\n",
            "  warnings.warn(\n"
          ]
        },
        {
          "output_type": "stream",
          "name": "stdout",
          "text": [
            "\u001b[1m6572/6572\u001b[0m \u001b[32m━━━━━━━━━━━━━━━━━━━━\u001b[0m\u001b[37m\u001b[0m \u001b[1m30s\u001b[0m 4ms/step\n",
            "Round 9\n",
            "Accuracy: 0.93665619, Precision: 0.93945669, Recall: 0.93665619, F1-Score: 0.93599259\n",
            "Confusion Matrix:\n",
            "[[44060  5777  2733     0]\n",
            " [  322 49671    43  2534]\n",
            " [  119    94 52067   290]\n",
            " [    0   258  1150 51163]]\n",
            "\n"
          ]
        },
        {
          "output_type": "stream",
          "name": "stderr",
          "text": [
            "/usr/local/lib/python3.11/dist-packages/keras/src/layers/core/input_layer.py:27: UserWarning: Argument `input_shape` is deprecated. Use `shape` instead.\n",
            "  warnings.warn(\n"
          ]
        },
        {
          "output_type": "stream",
          "name": "stdout",
          "text": [
            "\u001b[1m6572/6572\u001b[0m \u001b[32m━━━━━━━━━━━━━━━━━━━━\u001b[0m\u001b[37m\u001b[0m \u001b[1m36s\u001b[0m 5ms/step\n",
            "Round 10\n",
            "Accuracy: 0.93059763, Precision: 0.93264153, Recall: 0.93059763, F1-Score: 0.93003375\n",
            "Confusion Matrix:\n",
            "[[43997  6195  2378     0]\n",
            " [ 1135 49708    25  1702]\n",
            " [  356   105 50678  1431]\n",
            " [    0   553   714 51304]]\n",
            "\n"
          ]
        },
        {
          "output_type": "stream",
          "name": "stderr",
          "text": [
            "/usr/local/lib/python3.11/dist-packages/keras/src/layers/core/input_layer.py:27: UserWarning: Argument `input_shape` is deprecated. Use `shape` instead.\n",
            "  warnings.warn(\n"
          ]
        },
        {
          "output_type": "stream",
          "name": "stdout",
          "text": [
            "\u001b[1m6572/6572\u001b[0m \u001b[32m━━━━━━━━━━━━━━━━━━━━\u001b[0m\u001b[37m\u001b[0m \u001b[1m31s\u001b[0m 5ms/step\n",
            "Round 11\n",
            "Accuracy: 0.94764149, Precision: 0.94968183, Recall: 0.94764149, F1-Score: 0.94729407\n",
            "Confusion Matrix:\n",
            "[[45687  4738  2145     0]\n",
            " [  484 50474    39  1573]\n",
            " [   88    76 52330    76]\n",
            " [    0   605  1186 50780]]\n",
            "\n"
          ]
        },
        {
          "output_type": "stream",
          "name": "stderr",
          "text": [
            "/usr/local/lib/python3.11/dist-packages/keras/src/layers/core/input_layer.py:27: UserWarning: Argument `input_shape` is deprecated. Use `shape` instead.\n",
            "  warnings.warn(\n"
          ]
        },
        {
          "output_type": "stream",
          "name": "stdout",
          "text": [
            "\u001b[1m6572/6572\u001b[0m \u001b[32m━━━━━━━━━━━━━━━━━━━━\u001b[0m\u001b[37m\u001b[0m \u001b[1m30s\u001b[0m 5ms/step\n",
            "Round 12\n",
            "Accuracy: 0.94365159, Precision: 0.94788010, Recall: 0.94365159, F1-Score: 0.94338808\n",
            "Confusion Matrix:\n",
            "[[44975  5264  2331     0]\n",
            " [  386 51722    38   424]\n",
            " [   86    82 52358    44]\n",
            " [    0  1636  1558 49377]]\n",
            "\n"
          ]
        },
        {
          "output_type": "stream",
          "name": "stderr",
          "text": [
            "/usr/local/lib/python3.11/dist-packages/keras/src/layers/core/input_layer.py:27: UserWarning: Argument `input_shape` is deprecated. Use `shape` instead.\n",
            "  warnings.warn(\n"
          ]
        },
        {
          "output_type": "stream",
          "name": "stdout",
          "text": [
            "\u001b[1m6572/6572\u001b[0m \u001b[32m━━━━━━━━━━━━━━━━━━━━\u001b[0m\u001b[37m\u001b[0m \u001b[1m31s\u001b[0m 5ms/step\n",
            "Round 13\n",
            "Accuracy: 0.94141649, Precision: 0.94554475, Recall: 0.94141649, F1-Score: 0.94102165\n",
            "Confusion Matrix:\n",
            "[[44207  6268  2095     0]\n",
            " [  226 51111    37  1196]\n",
            " [  105    79 52322    64]\n",
            " [    0  1205  1044 50322]]\n",
            "\n"
          ]
        },
        {
          "output_type": "stream",
          "name": "stderr",
          "text": [
            "/usr/local/lib/python3.11/dist-packages/keras/src/layers/core/input_layer.py:27: UserWarning: Argument `input_shape` is deprecated. Use `shape` instead.\n",
            "  warnings.warn(\n"
          ]
        },
        {
          "output_type": "stream",
          "name": "stdout",
          "text": [
            "\u001b[1m6572/6572\u001b[0m \u001b[32m━━━━━━━━━━━━━━━━━━━━\u001b[0m\u001b[37m\u001b[0m \u001b[1m36s\u001b[0m 5ms/step\n",
            "Round 14\n",
            "Accuracy: 0.94834531, Precision: 0.95213701, Recall: 0.94834531, F1-Score: 0.94821948\n",
            "Confusion Matrix:\n",
            "[[45784  4664  2122     0]\n",
            " [  416 51933    19   202]\n",
            " [  128    84 52302    56]\n",
            " [    0  2018  1153 49400]]\n",
            "\n"
          ]
        },
        {
          "output_type": "stream",
          "name": "stderr",
          "text": [
            "/usr/local/lib/python3.11/dist-packages/keras/src/layers/core/input_layer.py:27: UserWarning: Argument `input_shape` is deprecated. Use `shape` instead.\n",
            "  warnings.warn(\n"
          ]
        },
        {
          "output_type": "stream",
          "name": "stdout",
          "text": [
            "\u001b[1m6572/6572\u001b[0m \u001b[32m━━━━━━━━━━━━━━━━━━━━\u001b[0m\u001b[37m\u001b[0m \u001b[1m32s\u001b[0m 5ms/step\n",
            "Round 15\n",
            "Accuracy: 0.95264432, Precision: 0.95590251, Recall: 0.95264432, F1-Score: 0.95254589\n",
            "Confusion Matrix:\n",
            "[[46141  4553  1876     0]\n",
            " [  407 51909    33   221]\n",
            " [  129    68 52352    21]\n",
            " [    0  1830   820 49921]]\n",
            "\n"
          ]
        },
        {
          "output_type": "stream",
          "name": "stderr",
          "text": [
            "/usr/local/lib/python3.11/dist-packages/keras/src/layers/core/input_layer.py:27: UserWarning: Argument `input_shape` is deprecated. Use `shape` instead.\n",
            "  warnings.warn(\n"
          ]
        },
        {
          "output_type": "stream",
          "name": "stdout",
          "text": [
            "\u001b[1m6572/6572\u001b[0m \u001b[32m━━━━━━━━━━━━━━━━━━━━\u001b[0m\u001b[37m\u001b[0m \u001b[1m29s\u001b[0m 4ms/step\n",
            "Round 16\n",
            "Accuracy: 0.95551191, Precision: 0.95810736, Recall: 0.95551191, F1-Score: 0.95536190\n",
            "Confusion Matrix:\n",
            "[[46343  4381  1846     0]\n",
            " [  366 51945    28   231]\n",
            " [  141    78 52115   236]\n",
            " [    0  1362   686 50523]]\n",
            "\n"
          ]
        },
        {
          "output_type": "stream",
          "name": "stderr",
          "text": [
            "/usr/local/lib/python3.11/dist-packages/keras/src/layers/core/input_layer.py:27: UserWarning: Argument `input_shape` is deprecated. Use `shape` instead.\n",
            "  warnings.warn(\n"
          ]
        },
        {
          "output_type": "stream",
          "name": "stdout",
          "text": [
            "\u001b[1m6572/6572\u001b[0m \u001b[32m━━━━━━━━━━━━━━━━━━━━\u001b[0m\u001b[37m\u001b[0m \u001b[1m29s\u001b[0m 4ms/step\n",
            "Round 17\n",
            "Accuracy: 0.95094183, Precision: 0.95503869, Recall: 0.95094183, F1-Score: 0.95075989\n",
            "Confusion Matrix:\n",
            "[[45313  5528  1729     0]\n",
            " [  190 52129    28   223]\n",
            " [  108    68 52366    28]\n",
            " [    0  1505   909 50157]]\n",
            "\n"
          ]
        },
        {
          "output_type": "stream",
          "name": "stderr",
          "text": [
            "/usr/local/lib/python3.11/dist-packages/keras/src/layers/core/input_layer.py:27: UserWarning: Argument `input_shape` is deprecated. Use `shape` instead.\n",
            "  warnings.warn(\n"
          ]
        },
        {
          "output_type": "stream",
          "name": "stdout",
          "text": [
            "\u001b[1m6572/6572\u001b[0m \u001b[32m━━━━━━━━━━━━━━━━━━━━\u001b[0m\u001b[37m\u001b[0m \u001b[1m28s\u001b[0m 4ms/step\n",
            "Round 18\n",
            "Accuracy: 0.95729999, Precision: 0.95935683, Recall: 0.95729999, F1-Score: 0.95717251\n",
            "Confusion Matrix:\n",
            "[[47007  3795  1768     0]\n",
            " [  479 51637    36   418]\n",
            " [  101    66 52400     3]\n",
            " [    0  1118  1195 50258]]\n",
            "\n"
          ]
        },
        {
          "output_type": "stream",
          "name": "stderr",
          "text": [
            "/usr/local/lib/python3.11/dist-packages/keras/src/layers/core/input_layer.py:27: UserWarning: Argument `input_shape` is deprecated. Use `shape` instead.\n",
            "  warnings.warn(\n"
          ]
        },
        {
          "output_type": "stream",
          "name": "stdout",
          "text": [
            "\u001b[1m6572/6572\u001b[0m \u001b[32m━━━━━━━━━━━━━━━━━━━━\u001b[0m\u001b[37m\u001b[0m \u001b[1m38s\u001b[0m 6ms/step\n",
            "Round 19\n",
            "Accuracy: 0.95025704, Precision: 0.95157716, Recall: 0.95025704, F1-Score: 0.95005287\n",
            "Confusion Matrix:\n",
            "[[46880  3936  1754     0]\n",
            " [  441 49873    29  2227]\n",
            " [  114    70 52383     3]\n",
            " [    0   737  1149 50685]]\n",
            "\n"
          ]
        },
        {
          "output_type": "stream",
          "name": "stderr",
          "text": [
            "/usr/local/lib/python3.11/dist-packages/keras/src/layers/core/input_layer.py:27: UserWarning: Argument `input_shape` is deprecated. Use `shape` instead.\n",
            "  warnings.warn(\n"
          ]
        },
        {
          "output_type": "stream",
          "name": "stdout",
          "text": [
            "\u001b[1m6572/6572\u001b[0m \u001b[32m━━━━━━━━━━━━━━━━━━━━\u001b[0m\u001b[37m\u001b[0m \u001b[1m36s\u001b[0m 5ms/step\n",
            "Round 20\n",
            "Accuracy: 0.96173691, Precision: 0.96379425, Recall: 0.96173691, F1-Score: 0.96174363\n",
            "Confusion Matrix:\n",
            "[[47713  3698  1159     0]\n",
            " [  426 51934    22   188]\n",
            " [  154    58 52354     4]\n",
            " [    0  1507   830 50234]]\n",
            "\n"
          ]
        },
        {
          "output_type": "stream",
          "name": "stderr",
          "text": [
            "/usr/local/lib/python3.11/dist-packages/keras/src/layers/core/input_layer.py:27: UserWarning: Argument `input_shape` is deprecated. Use `shape` instead.\n",
            "  warnings.warn(\n"
          ]
        },
        {
          "output_type": "stream",
          "name": "stdout",
          "text": [
            "\u001b[1m6572/6572\u001b[0m \u001b[32m━━━━━━━━━━━━━━━━━━━━\u001b[0m\u001b[37m\u001b[0m \u001b[1m31s\u001b[0m 5ms/step\n",
            "Round 21\n",
            "Accuracy: 0.95992030, Precision: 0.96199356, Recall: 0.95992030, F1-Score: 0.95986761\n",
            "Confusion Matrix:\n",
            "[[47389  3757  1424     0]\n",
            " [  481 51849    26   214]\n",
            " [  129    50 52388     3]\n",
            " [    0  1364   980 50227]]\n",
            "\n"
          ]
        },
        {
          "output_type": "stream",
          "name": "stderr",
          "text": [
            "/usr/local/lib/python3.11/dist-packages/keras/src/layers/core/input_layer.py:27: UserWarning: Argument `input_shape` is deprecated. Use `shape` instead.\n",
            "  warnings.warn(\n"
          ]
        },
        {
          "output_type": "stream",
          "name": "stdout",
          "text": [
            "\u001b[1m6572/6572\u001b[0m \u001b[32m━━━━━━━━━━━━━━━━━━━━\u001b[0m\u001b[37m\u001b[0m \u001b[1m29s\u001b[0m 4ms/step\n",
            "Round 22\n",
            "Accuracy: 0.96161327, Precision: 0.96338826, Recall: 0.96161327, F1-Score: 0.96150195\n",
            "Confusion Matrix:\n",
            "[[47307  3693  1570     0]\n",
            " [  517 51814    23   216]\n",
            " [  108    51 52408     3]\n",
            " [    0  1021   870 50680]]\n",
            "\n"
          ]
        },
        {
          "output_type": "stream",
          "name": "stderr",
          "text": [
            "/usr/local/lib/python3.11/dist-packages/keras/src/layers/core/input_layer.py:27: UserWarning: Argument `input_shape` is deprecated. Use `shape` instead.\n",
            "  warnings.warn(\n"
          ]
        },
        {
          "output_type": "stream",
          "name": "stdout",
          "text": [
            "\u001b[1m6572/6572\u001b[0m \u001b[32m━━━━━━━━━━━━━━━━━━━━\u001b[0m\u001b[37m\u001b[0m \u001b[1m30s\u001b[0m 5ms/step\n",
            "Round 23\n",
            "Accuracy: 0.96544148, Precision: 0.96671170, Recall: 0.96544148, F1-Score: 0.96538692\n",
            "Confusion Matrix:\n",
            "[[48107  3082  1381     0]\n",
            " [  597 51736    23   214]\n",
            " [  130    50 52387     3]\n",
            " [    0  1087   700 50784]]\n",
            "\n"
          ]
        },
        {
          "output_type": "stream",
          "name": "stderr",
          "text": [
            "/usr/local/lib/python3.11/dist-packages/keras/src/layers/core/input_layer.py:27: UserWarning: Argument `input_shape` is deprecated. Use `shape` instead.\n",
            "  warnings.warn(\n"
          ]
        },
        {
          "output_type": "stream",
          "name": "stdout",
          "text": [
            "\u001b[1m6572/6572\u001b[0m \u001b[32m━━━━━━━━━━━━━━━━━━━━\u001b[0m\u001b[37m\u001b[0m \u001b[1m31s\u001b[0m 5ms/step\n",
            "Round 24\n",
            "Accuracy: 0.96256913, Precision: 0.96422777, Recall: 0.96256913, F1-Score: 0.96247135\n",
            "Confusion Matrix:\n",
            "[[47597  3332  1641     0]\n",
            " [  482 51845    27   216]\n",
            " [  104    53 52409     4]\n",
            " [    0  1041   971 50559]]\n",
            "\n"
          ]
        },
        {
          "output_type": "stream",
          "name": "stderr",
          "text": [
            "/usr/local/lib/python3.11/dist-packages/keras/src/layers/core/input_layer.py:27: UserWarning: Argument `input_shape` is deprecated. Use `shape` instead.\n",
            "  warnings.warn(\n"
          ]
        },
        {
          "output_type": "stream",
          "name": "stdout",
          "text": [
            "\u001b[1m6572/6572\u001b[0m \u001b[32m━━━━━━━━━━━━━━━━━━━━\u001b[0m\u001b[37m\u001b[0m \u001b[1m39s\u001b[0m 6ms/step\n",
            "Round 25\n",
            "Accuracy: 0.96237891, Precision: 0.96425091, Recall: 0.96237891, F1-Score: 0.96233148\n",
            "Confusion Matrix:\n",
            "[[47819  3190  1561     0]\n",
            " [  518 51939    33    80]\n",
            " [   61    48 52457     4]\n",
            " [    0  1411  1005 50155]]\n",
            "\n"
          ]
        },
        {
          "output_type": "stream",
          "name": "stderr",
          "text": [
            "/usr/local/lib/python3.11/dist-packages/keras/src/layers/core/input_layer.py:27: UserWarning: Argument `input_shape` is deprecated. Use `shape` instead.\n",
            "  warnings.warn(\n"
          ]
        },
        {
          "output_type": "stream",
          "name": "stdout",
          "text": [
            "\u001b[1m6572/6572\u001b[0m \u001b[32m━━━━━━━━━━━━━━━━━━━━\u001b[0m\u001b[37m\u001b[0m \u001b[1m37s\u001b[0m 6ms/step\n",
            "Round 26\n",
            "Accuracy: 0.96313029, Precision: 0.96482239, Recall: 0.96313029, F1-Score: 0.96308328\n",
            "Confusion Matrix:\n",
            "[[47957  3132  1481     0]\n",
            " [  568 51936    21    45]\n",
            " [  120    40 52407     3]\n",
            " [    0  1280  1063 50228]]\n",
            "\n"
          ]
        },
        {
          "output_type": "stream",
          "name": "stderr",
          "text": [
            "/usr/local/lib/python3.11/dist-packages/keras/src/layers/core/input_layer.py:27: UserWarning: Argument `input_shape` is deprecated. Use `shape` instead.\n",
            "  warnings.warn(\n"
          ]
        },
        {
          "output_type": "stream",
          "name": "stdout",
          "text": [
            "\u001b[1m6572/6572\u001b[0m \u001b[32m━━━━━━━━━━━━━━━━━━━━\u001b[0m\u001b[37m\u001b[0m \u001b[1m31s\u001b[0m 5ms/step\n",
            "Round 27\n",
            "Accuracy: 0.96878938, Precision: 0.96998096, Recall: 0.96878938, F1-Score: 0.96871408\n",
            "Confusion Matrix:\n",
            "[[48159  3106  1305     0]\n",
            " [  541 51965    20    44]\n",
            " [   87    50 52430     3]\n",
            " [    0   796   611 51164]]\n",
            "\n"
          ]
        },
        {
          "output_type": "stream",
          "name": "stderr",
          "text": [
            "/usr/local/lib/python3.11/dist-packages/keras/src/layers/core/input_layer.py:27: UserWarning: Argument `input_shape` is deprecated. Use `shape` instead.\n",
            "  warnings.warn(\n"
          ]
        },
        {
          "output_type": "stream",
          "name": "stdout",
          "text": [
            "\u001b[1m6572/6572\u001b[0m \u001b[32m━━━━━━━━━━━━━━━━━━━━\u001b[0m\u001b[37m\u001b[0m \u001b[1m31s\u001b[0m 5ms/step\n",
            "Round 28\n",
            "Accuracy: 0.96592179, Precision: 0.96724978, Recall: 0.96592179, F1-Score: 0.96584108\n",
            "Confusion Matrix:\n",
            "[[48094  2860  1616     0]\n",
            " [  557 51920    24    69]\n",
            " [  109    38 52420     3]\n",
            " [    0   926   964 50681]]\n",
            "\n"
          ]
        },
        {
          "output_type": "stream",
          "name": "stderr",
          "text": [
            "/usr/local/lib/python3.11/dist-packages/keras/src/layers/core/input_layer.py:27: UserWarning: Argument `input_shape` is deprecated. Use `shape` instead.\n",
            "  warnings.warn(\n"
          ]
        },
        {
          "output_type": "stream",
          "name": "stdout",
          "text": [
            "\u001b[1m6572/6572\u001b[0m \u001b[32m━━━━━━━━━━━━━━━━━━━━\u001b[0m\u001b[37m\u001b[0m \u001b[1m29s\u001b[0m 4ms/step\n",
            "Round 29\n",
            "Accuracy: 0.96798094, Precision: 0.96923084, Recall: 0.96798094, F1-Score: 0.96793299\n",
            "Confusion Matrix:\n",
            "[[48373  2806  1391     0]\n",
            " [  539 51965    21    45]\n",
            " [   89    47 52431     3]\n",
            " [    0  1056   736 50779]]\n",
            "\n"
          ]
        },
        {
          "output_type": "stream",
          "name": "stderr",
          "text": [
            "/usr/local/lib/python3.11/dist-packages/keras/src/layers/core/input_layer.py:27: UserWarning: Argument `input_shape` is deprecated. Use `shape` instead.\n",
            "  warnings.warn(\n"
          ]
        },
        {
          "output_type": "stream",
          "name": "stdout",
          "text": [
            "\u001b[1m6572/6572\u001b[0m \u001b[32m━━━━━━━━━━━━━━━━━━━━\u001b[0m\u001b[37m\u001b[0m \u001b[1m30s\u001b[0m 5ms/step\n",
            "Round 30\n",
            "Accuracy: 0.96611201, Precision: 0.96706772, Recall: 0.96611201, F1-Score: 0.96607765\n",
            "Confusion Matrix:\n",
            "[[48749  2333  1488     0]\n",
            " [  836 51500    21   213]\n",
            " [   89    42 52436     3]\n",
            " [    0  1213   888 50470]]\n",
            "\n"
          ]
        },
        {
          "output_type": "display_data",
          "data": {
            "text/plain": [
              "<Figure size 640x480 with 1 Axes>"
            ],
            "image/png": "[encoded data removed]"
          },
          "metadata": {}
        },
        {
          "output_type": "display_data",
          "data": {
            "text/plain": [
              "<Figure size 640x480 with 1 Axes>"
            ],
            "image/png": "[encoded data removed]"
          },
          "metadata": {}
        },
        {
          "output_type": "display_data",
          "data": {
            "text/plain": [
              "<Figure size 640x480 with 1 Axes>"
            ],
            "image/png": "[encoded data removed]"
          },
          "metadata": {}
        }
      ]
    }
  ]
}