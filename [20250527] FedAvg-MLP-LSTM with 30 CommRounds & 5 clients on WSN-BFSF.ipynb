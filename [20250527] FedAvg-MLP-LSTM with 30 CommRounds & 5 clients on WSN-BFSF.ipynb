{
  "nbformat": 4,
  "nbformat_minor": 0,
  "metadata": {
    "colab": {
      "provenance": [],
      "machine_shape": "hm",
      "authorship_tag": "ABX9TyOi6Wp/zhXL/BoUshpEzmQ2",
      "include_colab_link": true
    },
    "kernelspec": {
      "name": "python3",
      "display_name": "Python 3"
    },
    "language_info": {
      "name": "python"
    }
  },
  "cells": [
    {
      "cell_type": "markdown",
      "metadata": {
        "id": "view-in-github",
        "colab_type": "text"
      },
      "source": [
        "<a href=\"https://colab.research.google.com/github/sankeawthong/Project-1-Lita-Chatbot/blob/main/%5B20250527%5D%20FedAvg-MLP-LSTM%20with%2030%20CommRounds%20%26%205%20clients%20on%20WSN-BFSF.ipynb\" target=\"_parent\"><img src=\"https://colab.research.google.com/assets/colab-badge.svg\" alt=\"Open In Colab\"/></a>"
      ]
    },
    {
      "cell_type": "markdown",
      "source": [
        "**FedAvg-MLP-LSTM with 30 Communications Rounds & 5 clients on WSN-BFSF**"
      ],
      "metadata": {
        "id": "XOvwMwoYAbij"
      }
    },
    {
      "cell_type": "code",
      "execution_count": 1,
      "metadata": {
        "id": "I9PmZn6d_rVX"
      },
      "outputs": [],
      "source": [
        "import pandas as pd\n",
        "import numpy as np\n",
        "import time\n",
        "from sklearn.preprocessing import LabelEncoder, StandardScaler\n",
        "from sklearn.model_selection import train_test_split\n",
        "from sklearn.metrics import accuracy_score, precision_score, recall_score, f1_score, classification_report, confusion_matrix, roc_auc_score\n",
        "from keras.models import Sequential\n",
        "from keras.layers import Dense, Dropout, LSTM, InputLayer\n",
        "from keras.utils import to_categorical\n",
        "from imblearn.over_sampling import SMOTE\n",
        "import matplotlib.pyplot as plt"
      ]
    },
    {
      "cell_type": "code",
      "source": [
        "# ----------------------------\n",
        "# Preprocessing and Partitioning\n",
        "# ----------------------------\n",
        "df = pd.read_csv(\"dataset.csv\").dropna()\n",
        "for col in df.columns:\n",
        "    if df[col].dtype == 'object':\n",
        "        df[col] = LabelEncoder().fit_transform(df[col])\n",
        "\n",
        "X, y = df.drop('Class', axis=1), df['Class']\n",
        "X = StandardScaler().fit_transform(X)\n",
        "X, y = SMOTE(random_state=42).fit_resample(X, y)\n",
        "X_train, X_test, y_train, y_test = train_test_split(X, y, test_size=0.2, random_state=101, stratify=y)"
      ],
      "metadata": {
        "id": "iJWHyBOy_8tG"
      },
      "execution_count": 2,
      "outputs": []
    },
    {
      "cell_type": "code",
      "source": [
        "# ----------------------------\n",
        "# Federated Setup\n",
        "# ----------------------------\n",
        "num_clients = 5\n",
        "rounds = 30\n",
        "client_X = np.array_split(X_train, num_clients)\n",
        "client_y = np.array_split(y_train, num_clients)\n",
        "\n",
        "X_test = X_test.reshape(X_test.shape[0], X_test.shape[1], 1)\n",
        "y_test_cat = to_categorical(y_test)\n",
        "num_classes = y_test_cat.shape[1]\n",
        "input_shape = (X_test.shape[1], 1)"
      ],
      "metadata": {
        "colab": {
          "base_uri": "https://localhost:8080/"
        },
        "id": "alH_SIIS_8qT",
        "outputId": "a7e37994-2965-400b-8bb9-23c48fd71727"
      },
      "execution_count": 3,
      "outputs": [
        {
          "output_type": "stream",
          "name": "stderr",
          "text": [
            "/usr/local/lib/python3.11/dist-packages/numpy/_core/fromnumeric.py:57: FutureWarning: 'Series.swapaxes' is deprecated and will be removed in a future version. Please use 'Series.transpose' instead.\n",
            "  return bound(*args, **kwds)\n"
          ]
        }
      ]
    },
    {
      "cell_type": "code",
      "source": [
        "# ----------------------------\n",
        "# Model Definition\n",
        "# ----------------------------\n",
        "def build_model(input_shape, num_classes):\n",
        "    model = Sequential([\n",
        "        InputLayer(input_shape=input_shape),\n",
        "        LSTM(64, activation='tanh'),\n",
        "        Dropout(0.3),\n",
        "        Dense(128, activation='relu'),\n",
        "        Dropout(0.3),\n",
        "        Dense(64, activation='relu'),\n",
        "        Dropout(0.3),\n",
        "        Dense(num_classes, activation='softmax')\n",
        "    ])\n",
        "    model.compile(optimizer='adam', loss='categorical_crossentropy', metrics=['accuracy'])\n",
        "    return model\n",
        "\n",
        "# ----------------------------\n",
        "# Training Loop\n",
        "# ----------------------------\n",
        "log = []\n",
        "\n",
        "global_model = build_model(input_shape, num_classes)\n",
        "global_weights = global_model.get_weights()\n",
        "\n",
        "for r in range(rounds):\n",
        "    round_start = time.time()\n",
        "    client_weights = []\n",
        "    for i in range(num_clients):\n",
        "        local_model = build_model(input_shape, num_classes)\n",
        "        local_model.set_weights(global_weights)\n",
        "        X_c = client_X[i].reshape(client_X[i].shape[0], client_X[i].shape[1], 1)\n",
        "        y_c = to_categorical(client_y[i], num_classes=num_classes)\n",
        "        local_model.fit(X_c, y_c, epochs=1, batch_size=32, verbose=0)\n",
        "        client_weights.append(local_model.get_weights())\n",
        "\n",
        "    # FedAvg\n",
        "    global_weights = [np.mean(np.array([w[i] for w in client_weights]), axis=0) for i in range(len(global_weights))]\n",
        "    global_model.set_weights(global_weights)\n",
        "\n",
        "    # Evaluation\n",
        "    y_pred = global_model.predict(X_test)\n",
        "    y_pred_classes = np.argmax(y_pred, axis=1)\n",
        "    y_true = np.argmax(y_test_cat, axis=1)\n",
        "    acc = accuracy_score(y_true, y_pred_classes)\n",
        "    prec = precision_score(y_true, y_pred_classes, average='weighted')\n",
        "    rec = recall_score(y_true, y_pred_classes, average='weighted')\n",
        "    f1 = f1_score(y_true, y_pred_classes, average='weighted')\n",
        "    cm = confusion_matrix(y_true, y_pred_classes)\n",
        "    auc = roc_auc_score(y_test_cat, y_pred, multi_class='ovr')\n",
        "    round_time = time.time() - round_start\n",
        "\n",
        "    log.append({\n",
        "        'Round': r+1,\n",
        "        'Accuracy': acc,\n",
        "        'Precision': prec,\n",
        "        'Recall': rec,\n",
        "        'F1-Score': f1,\n",
        "        'AUC': auc,\n",
        "        'RoundTime(s)': round_time\n",
        "    })\n",
        "\n",
        "    print(f\"Round {r+1}: Acc={acc:.8f}, F1={f1:.8f}, AUC={auc:.8f}, Time={round_time:.6f}s\")\n",
        "    print(\"Confusion Matrix:\")\n",
        "    print(cm)\n",
        "    print(classification_report(y_true, y_pred_classes))\n",
        "\n",
        "# ----------------------------\n",
        "# Save Logs\n",
        "# ----------------------------\n",
        "df_log = pd.DataFrame(log)\n",
        "df_log.to_csv(\"fedavg_training_log.csv\", index=False)\n",
        "print(\"Training log saved to fedavg_training_log.csv\")"
      ],
      "metadata": {
        "colab": {
          "base_uri": "https://localhost:8080/"
        },
        "id": "Xrq3Ouet_8nu",
        "outputId": "2a8daadd-0c78-47e5-992c-8c16ea5f10ec"
      },
      "execution_count": 4,
      "outputs": [
        {
          "output_type": "stream",
          "name": "stderr",
          "text": [
            "/usr/local/lib/python3.11/dist-packages/keras/src/layers/core/input_layer.py:27: UserWarning: Argument `input_shape` is deprecated. Use `shape` instead.\n",
            "  warnings.warn(\n"
          ]
        },
        {
          "output_type": "stream",
          "name": "stdout",
          "text": [
            "\u001b[1m6572/6572\u001b[0m \u001b[32m━━━━━━━━━━━━━━━━━━━━\u001b[0m\u001b[37m\u001b[0m \u001b[1m37s\u001b[0m 6ms/step\n",
            "Round 1: Acc=0.67839700, F1=0.66797306, AUC=0.87276599, Time=322.842363s\n",
            "Confusion Matrix:\n",
            "[[33318  9952  9036   264]\n",
            " [17314 22942  6873  5441]\n",
            " [11107  2275 33823  5365]\n",
            " [    0     0     0 52571]]\n",
            "              precision    recall  f1-score   support\n",
            "\n",
            "           0       0.54      0.63      0.58     52570\n",
            "           1       0.65      0.44      0.52     52570\n",
            "           2       0.68      0.64      0.66     52570\n",
            "           3       0.83      1.00      0.90     52571\n",
            "\n",
            "    accuracy                           0.68    210281\n",
            "   macro avg       0.67      0.68      0.67    210281\n",
            "weighted avg       0.67      0.68      0.67    210281\n",
            "\n"
          ]
        },
        {
          "output_type": "stream",
          "name": "stderr",
          "text": [
            "/usr/local/lib/python3.11/dist-packages/keras/src/layers/core/input_layer.py:27: UserWarning: Argument `input_shape` is deprecated. Use `shape` instead.\n",
            "  warnings.warn(\n"
          ]
        },
        {
          "output_type": "stream",
          "name": "stdout",
          "text": [
            "\u001b[1m6572/6572\u001b[0m \u001b[32m━━━━━━━━━━━━━━━━━━━━\u001b[0m\u001b[37m\u001b[0m \u001b[1m32s\u001b[0m 5ms/step\n",
            "Round 2: Acc=0.87056367, F1=0.86646138, AUC=0.97629812, Time=322.737636s\n",
            "Confusion Matrix:\n",
            "[[34763 12986  4821     0]\n",
            " [ 1282 45720   184  5384]\n",
            " [   23   101 51291  1155]\n",
            " [    0     0  1282 51289]]\n",
            "              precision    recall  f1-score   support\n",
            "\n",
            "           0       0.96      0.66      0.78     52570\n",
            "           1       0.78      0.87      0.82     52570\n",
            "           2       0.89      0.98      0.93     52570\n",
            "           3       0.89      0.98      0.93     52571\n",
            "\n",
            "    accuracy                           0.87    210281\n",
            "   macro avg       0.88      0.87      0.87    210281\n",
            "weighted avg       0.88      0.87      0.87    210281\n",
            "\n"
          ]
        },
        {
          "output_type": "stream",
          "name": "stderr",
          "text": [
            "/usr/local/lib/python3.11/dist-packages/keras/src/layers/core/input_layer.py:27: UserWarning: Argument `input_shape` is deprecated. Use `shape` instead.\n",
            "  warnings.warn(\n"
          ]
        },
        {
          "output_type": "stream",
          "name": "stdout",
          "text": [
            "\u001b[1m6572/6572\u001b[0m \u001b[32m━━━━━━━━━━━━━━━━━━━━\u001b[0m\u001b[37m\u001b[0m \u001b[1m33s\u001b[0m 5ms/step\n",
            "Round 3: Acc=0.89845492, F1=0.89534306, AUC=0.98230082, Time=323.542560s\n",
            "Confusion Matrix:\n",
            "[[36558 11579  4433     0]\n",
            " [  116 49635    56  2763]\n",
            " [   46    65 51319  1140]\n",
            " [    0   415   740 51416]]\n",
            "              precision    recall  f1-score   support\n",
            "\n",
            "           0       1.00      0.70      0.82     52570\n",
            "           1       0.80      0.94      0.87     52570\n",
            "           2       0.91      0.98      0.94     52570\n",
            "           3       0.93      0.98      0.95     52571\n",
            "\n",
            "    accuracy                           0.90    210281\n",
            "   macro avg       0.91      0.90      0.90    210281\n",
            "weighted avg       0.91      0.90      0.90    210281\n",
            "\n"
          ]
        },
        {
          "output_type": "stream",
          "name": "stderr",
          "text": [
            "/usr/local/lib/python3.11/dist-packages/keras/src/layers/core/input_layer.py:27: UserWarning: Argument `input_shape` is deprecated. Use `shape` instead.\n",
            "  warnings.warn(\n"
          ]
        },
        {
          "output_type": "stream",
          "name": "stdout",
          "text": [
            "\u001b[1m6572/6572\u001b[0m \u001b[32m━━━━━━━━━━━━━━━━━━━━\u001b[0m\u001b[37m\u001b[0m \u001b[1m32s\u001b[0m 5ms/step\n",
            "Round 4: Acc=0.90625401, F1=0.90429058, AUC=0.98475041, Time=320.605485s\n",
            "Confusion Matrix:\n",
            "[[38572 10196  3802     0]\n",
            " [   79 49749    19  2723]\n",
            " [   46    65 51560   899]\n",
            " [    0   913   971 50687]]\n",
            "              precision    recall  f1-score   support\n",
            "\n",
            "           0       1.00      0.73      0.85     52570\n",
            "           1       0.82      0.95      0.88     52570\n",
            "           2       0.91      0.98      0.95     52570\n",
            "           3       0.93      0.96      0.95     52571\n",
            "\n",
            "    accuracy                           0.91    210281\n",
            "   macro avg       0.92      0.91      0.90    210281\n",
            "weighted avg       0.92      0.91      0.90    210281\n",
            "\n"
          ]
        },
        {
          "output_type": "stream",
          "name": "stderr",
          "text": [
            "/usr/local/lib/python3.11/dist-packages/keras/src/layers/core/input_layer.py:27: UserWarning: Argument `input_shape` is deprecated. Use `shape` instead.\n",
            "  warnings.warn(\n"
          ]
        },
        {
          "output_type": "stream",
          "name": "stdout",
          "text": [
            "\u001b[1m6572/6572\u001b[0m \u001b[32m━━━━━━━━━━━━━━━━━━━━\u001b[0m\u001b[37m\u001b[0m \u001b[1m33s\u001b[0m 5ms/step\n",
            "Round 5: Acc=0.91769585, F1=0.91625853, AUC=0.98860478, Time=336.587397s\n",
            "Confusion Matrix:\n",
            "[[40456  9060  3054     0]\n",
            " [   70 49678    15  2807]\n",
            " [   67    46 51444  1013]\n",
            " [    0   279   896 51396]]\n",
            "              precision    recall  f1-score   support\n",
            "\n",
            "           0       1.00      0.77      0.87     52570\n",
            "           1       0.84      0.94      0.89     52570\n",
            "           2       0.93      0.98      0.95     52570\n",
            "           3       0.93      0.98      0.95     52571\n",
            "\n",
            "    accuracy                           0.92    210281\n",
            "   macro avg       0.92      0.92      0.92    210281\n",
            "weighted avg       0.92      0.92      0.92    210281\n",
            "\n"
          ]
        },
        {
          "output_type": "stream",
          "name": "stderr",
          "text": [
            "/usr/local/lib/python3.11/dist-packages/keras/src/layers/core/input_layer.py:27: UserWarning: Argument `input_shape` is deprecated. Use `shape` instead.\n",
            "  warnings.warn(\n"
          ]
        },
        {
          "output_type": "stream",
          "name": "stdout",
          "text": [
            "\u001b[1m6572/6572\u001b[0m \u001b[32m━━━━━━━━━━━━━━━━━━━━\u001b[0m\u001b[37m\u001b[0m \u001b[1m31s\u001b[0m 5ms/step\n",
            "Round 6: Acc=0.91539892, F1=0.91420307, AUC=0.98762617, Time=322.230558s\n",
            "Confusion Matrix:\n",
            "[[40618  9247  2705     0]\n",
            " [   54 49333    17  3166]\n",
            " [   36    49 52483     2]\n",
            " [    0   769  1745 50057]]\n",
            "              precision    recall  f1-score   support\n",
            "\n",
            "           0       1.00      0.77      0.87     52570\n",
            "           1       0.83      0.94      0.88     52570\n",
            "           2       0.92      1.00      0.96     52570\n",
            "           3       0.94      0.95      0.95     52571\n",
            "\n",
            "    accuracy                           0.92    210281\n",
            "   macro avg       0.92      0.92      0.91    210281\n",
            "weighted avg       0.92      0.92      0.91    210281\n",
            "\n"
          ]
        },
        {
          "output_type": "stream",
          "name": "stderr",
          "text": [
            "/usr/local/lib/python3.11/dist-packages/keras/src/layers/core/input_layer.py:27: UserWarning: Argument `input_shape` is deprecated. Use `shape` instead.\n",
            "  warnings.warn(\n"
          ]
        },
        {
          "output_type": "stream",
          "name": "stdout",
          "text": [
            "\u001b[1m6572/6572\u001b[0m \u001b[32m━━━━━━━━━━━━━━━━━━━━\u001b[0m\u001b[37m\u001b[0m \u001b[1m32s\u001b[0m 5ms/step\n",
            "Round 7: Acc=0.92108655, F1=0.91982951, AUC=0.98965230, Time=321.417492s\n",
            "Confusion Matrix:\n",
            "[[41200  7965  3405     0]\n",
            " [   74 49648    21  2827]\n",
            " [   33    47 52480    10]\n",
            " [    0   530  1682 50359]]\n",
            "              precision    recall  f1-score   support\n",
            "\n",
            "           0       1.00      0.78      0.88     52570\n",
            "           1       0.85      0.94      0.90     52570\n",
            "           2       0.91      1.00      0.95     52570\n",
            "           3       0.95      0.96      0.95     52571\n",
            "\n",
            "    accuracy                           0.92    210281\n",
            "   macro avg       0.93      0.92      0.92    210281\n",
            "weighted avg       0.93      0.92      0.92    210281\n",
            "\n"
          ]
        },
        {
          "output_type": "stream",
          "name": "stderr",
          "text": [
            "/usr/local/lib/python3.11/dist-packages/keras/src/layers/core/input_layer.py:27: UserWarning: Argument `input_shape` is deprecated. Use `shape` instead.\n",
            "  warnings.warn(\n"
          ]
        },
        {
          "output_type": "stream",
          "name": "stdout",
          "text": [
            "\u001b[1m6572/6572\u001b[0m \u001b[32m━━━━━━━━━━━━━━━━━━━━\u001b[0m\u001b[37m\u001b[0m \u001b[1m33s\u001b[0m 5ms/step\n",
            "Round 8: Acc=0.93153923, F1=0.93058016, AUC=0.99237377, Time=317.971339s\n",
            "Confusion Matrix:\n",
            "[[42369  7247  2954     0]\n",
            " [   79 50416    18  2057]\n",
            " [   37    43 52466    24]\n",
            " [    0   540  1397 50634]]\n",
            "              precision    recall  f1-score   support\n",
            "\n",
            "           0       1.00      0.81      0.89     52570\n",
            "           1       0.87      0.96      0.91     52570\n",
            "           2       0.92      1.00      0.96     52570\n",
            "           3       0.96      0.96      0.96     52571\n",
            "\n",
            "    accuracy                           0.93    210281\n",
            "   macro avg       0.94      0.93      0.93    210281\n",
            "weighted avg       0.94      0.93      0.93    210281\n",
            "\n"
          ]
        },
        {
          "output_type": "stream",
          "name": "stderr",
          "text": [
            "/usr/local/lib/python3.11/dist-packages/keras/src/layers/core/input_layer.py:27: UserWarning: Argument `input_shape` is deprecated. Use `shape` instead.\n",
            "  warnings.warn(\n"
          ]
        },
        {
          "output_type": "stream",
          "name": "stdout",
          "text": [
            "\u001b[1m6572/6572\u001b[0m \u001b[32m━━━━━━━━━━━━━━━━━━━━\u001b[0m\u001b[37m\u001b[0m \u001b[1m33s\u001b[0m 5ms/step\n",
            "Round 9: Acc=0.93736476, F1=0.93663155, AUC=0.99404363, Time=328.595752s\n",
            "Confusion Matrix:\n",
            "[[43386  6879  2305     0]\n",
            " [   82 50073    10  2405]\n",
            " [   46    44 52479     1]\n",
            " [    0   414   985 51172]]\n",
            "              precision    recall  f1-score   support\n",
            "\n",
            "           0       1.00      0.83      0.90     52570\n",
            "           1       0.87      0.95      0.91     52570\n",
            "           2       0.94      1.00      0.97     52570\n",
            "           3       0.96      0.97      0.96     52571\n",
            "\n",
            "    accuracy                           0.94    210281\n",
            "   macro avg       0.94      0.94      0.94    210281\n",
            "weighted avg       0.94      0.94      0.94    210281\n",
            "\n"
          ]
        },
        {
          "output_type": "stream",
          "name": "stderr",
          "text": [
            "/usr/local/lib/python3.11/dist-packages/keras/src/layers/core/input_layer.py:27: UserWarning: Argument `input_shape` is deprecated. Use `shape` instead.\n",
            "  warnings.warn(\n"
          ]
        },
        {
          "output_type": "stream",
          "name": "stdout",
          "text": [
            "\u001b[1m6572/6572\u001b[0m \u001b[32m━━━━━━━━━━━━━━━━━━━━\u001b[0m\u001b[37m\u001b[0m \u001b[1m32s\u001b[0m 5ms/step\n",
            "Round 10: Acc=0.94173986, F1=0.94112540, AUC=0.99385980, Time=314.201685s\n",
            "Confusion Matrix:\n",
            "[[43998  6217  2355     0]\n",
            " [  120 50594    15  1841]\n",
            " [   40    41 52462    27]\n",
            " [    0   526  1069 50976]]\n",
            "              precision    recall  f1-score   support\n",
            "\n",
            "           0       1.00      0.84      0.91     52570\n",
            "           1       0.88      0.96      0.92     52570\n",
            "           2       0.94      1.00      0.97     52570\n",
            "           3       0.96      0.97      0.97     52571\n",
            "\n",
            "    accuracy                           0.94    210281\n",
            "   macro avg       0.95      0.94      0.94    210281\n",
            "weighted avg       0.95      0.94      0.94    210281\n",
            "\n"
          ]
        },
        {
          "output_type": "stream",
          "name": "stderr",
          "text": [
            "/usr/local/lib/python3.11/dist-packages/keras/src/layers/core/input_layer.py:27: UserWarning: Argument `input_shape` is deprecated. Use `shape` instead.\n",
            "  warnings.warn(\n"
          ]
        },
        {
          "output_type": "stream",
          "name": "stdout",
          "text": [
            "\u001b[1m6572/6572\u001b[0m \u001b[32m━━━━━━━━━━━━━━━━━━━━\u001b[0m\u001b[37m\u001b[0m \u001b[1m32s\u001b[0m 5ms/step\n",
            "Round 11: Acc=0.95058992, F1=0.95030788, AUC=0.99569014, Time=311.127740s\n",
            "Confusion Matrix:\n",
            "[[45377  5229  1964     0]\n",
            " [  154 51505    11   900]\n",
            " [   43    40 52487     0]\n",
            " [    0  1177   872 50522]]\n",
            "              precision    recall  f1-score   support\n",
            "\n",
            "           0       1.00      0.86      0.92     52570\n",
            "           1       0.89      0.98      0.93     52570\n",
            "           2       0.95      1.00      0.97     52570\n",
            "           3       0.98      0.96      0.97     52571\n",
            "\n",
            "    accuracy                           0.95    210281\n",
            "   macro avg       0.95      0.95      0.95    210281\n",
            "weighted avg       0.95      0.95      0.95    210281\n",
            "\n"
          ]
        },
        {
          "output_type": "stream",
          "name": "stderr",
          "text": [
            "/usr/local/lib/python3.11/dist-packages/keras/src/layers/core/input_layer.py:27: UserWarning: Argument `input_shape` is deprecated. Use `shape` instead.\n",
            "  warnings.warn(\n"
          ]
        },
        {
          "output_type": "stream",
          "name": "stdout",
          "text": [
            "\u001b[1m6572/6572\u001b[0m \u001b[32m━━━━━━━━━━━━━━━━━━━━\u001b[0m\u001b[37m\u001b[0m \u001b[1m33s\u001b[0m 5ms/step\n",
            "Round 12: Acc=0.95073735, F1=0.95046559, AUC=0.99506237, Time=339.554933s\n",
            "Confusion Matrix:\n",
            "[[45546  5013  2011     0]\n",
            " [  306 51422    17   825]\n",
            " [   37    39 52494     0]\n",
            " [    0  1190   921 50460]]\n",
            "              precision    recall  f1-score   support\n",
            "\n",
            "           0       0.99      0.87      0.93     52570\n",
            "           1       0.89      0.98      0.93     52570\n",
            "           2       0.95      1.00      0.97     52570\n",
            "           3       0.98      0.96      0.97     52571\n",
            "\n",
            "    accuracy                           0.95    210281\n",
            "   macro avg       0.95      0.95      0.95    210281\n",
            "weighted avg       0.95      0.95      0.95    210281\n",
            "\n"
          ]
        },
        {
          "output_type": "stream",
          "name": "stderr",
          "text": [
            "/usr/local/lib/python3.11/dist-packages/keras/src/layers/core/input_layer.py:27: UserWarning: Argument `input_shape` is deprecated. Use `shape` instead.\n",
            "  warnings.warn(\n"
          ]
        },
        {
          "output_type": "stream",
          "name": "stdout",
          "text": [
            "\u001b[1m6572/6572\u001b[0m \u001b[32m━━━━━━━━━━━━━━━━━━━━\u001b[0m\u001b[37m\u001b[0m \u001b[1m34s\u001b[0m 5ms/step\n",
            "Round 13: Acc=0.95498405, F1=0.95473946, AUC=0.99587727, Time=317.378701s\n",
            "Confusion Matrix:\n",
            "[[46103  4406  2061     0]\n",
            " [  325 51899    16   330]\n",
            " [   44    30 52496     0]\n",
            " [    0   975  1279 50317]]\n",
            "              precision    recall  f1-score   support\n",
            "\n",
            "           0       0.99      0.88      0.93     52570\n",
            "           1       0.91      0.99      0.94     52570\n",
            "           2       0.94      1.00      0.97     52570\n",
            "           3       0.99      0.96      0.97     52571\n",
            "\n",
            "    accuracy                           0.95    210281\n",
            "   macro avg       0.96      0.95      0.95    210281\n",
            "weighted avg       0.96      0.95      0.95    210281\n",
            "\n"
          ]
        },
        {
          "output_type": "stream",
          "name": "stderr",
          "text": [
            "/usr/local/lib/python3.11/dist-packages/keras/src/layers/core/input_layer.py:27: UserWarning: Argument `input_shape` is deprecated. Use `shape` instead.\n",
            "  warnings.warn(\n"
          ]
        },
        {
          "output_type": "stream",
          "name": "stdout",
          "text": [
            "\u001b[1m6572/6572\u001b[0m \u001b[32m━━━━━━━━━━━━━━━━━━━━\u001b[0m\u001b[37m\u001b[0m \u001b[1m43s\u001b[0m 6ms/step\n",
            "Round 14: Acc=0.95919270, F1=0.95902853, AUC=0.99648503, Time=336.529675s\n",
            "Confusion Matrix:\n",
            "[[46332  4585  1653     0]\n",
            " [  276 52231    10    53]\n",
            " [   37    33 52468    32]\n",
            " [    0  1203   699 50669]]\n",
            "              precision    recall  f1-score   support\n",
            "\n",
            "           0       0.99      0.88      0.93     52570\n",
            "           1       0.90      0.99      0.94     52570\n",
            "           2       0.96      1.00      0.98     52570\n",
            "           3       1.00      0.96      0.98     52571\n",
            "\n",
            "    accuracy                           0.96    210281\n",
            "   macro avg       0.96      0.96      0.96    210281\n",
            "weighted avg       0.96      0.96      0.96    210281\n",
            "\n"
          ]
        },
        {
          "output_type": "stream",
          "name": "stderr",
          "text": [
            "/usr/local/lib/python3.11/dist-packages/keras/src/layers/core/input_layer.py:27: UserWarning: Argument `input_shape` is deprecated. Use `shape` instead.\n",
            "  warnings.warn(\n"
          ]
        },
        {
          "output_type": "stream",
          "name": "stdout",
          "text": [
            "\u001b[1m6572/6572\u001b[0m \u001b[32m━━━━━━━━━━━━━━━━━━━━\u001b[0m\u001b[37m\u001b[0m \u001b[1m32s\u001b[0m 5ms/step\n",
            "Round 15: Acc=0.96289727, F1=0.96278095, AUC=0.99695530, Time=347.329716s\n",
            "Confusion Matrix:\n",
            "[[47218  3927  1425     0]\n",
            " [  418 52010    12   130]\n",
            " [   52    30 52488     0]\n",
            " [    0   949   859 50763]]\n",
            "              precision    recall  f1-score   support\n",
            "\n",
            "           0       0.99      0.90      0.94     52570\n",
            "           1       0.91      0.99      0.95     52570\n",
            "           2       0.96      1.00      0.98     52570\n",
            "           3       1.00      0.97      0.98     52571\n",
            "\n",
            "    accuracy                           0.96    210281\n",
            "   macro avg       0.96      0.96      0.96    210281\n",
            "weighted avg       0.96      0.96      0.96    210281\n",
            "\n"
          ]
        },
        {
          "output_type": "stream",
          "name": "stderr",
          "text": [
            "/usr/local/lib/python3.11/dist-packages/keras/src/layers/core/input_layer.py:27: UserWarning: Argument `input_shape` is deprecated. Use `shape` instead.\n",
            "  warnings.warn(\n"
          ]
        },
        {
          "output_type": "stream",
          "name": "stdout",
          "text": [
            "\u001b[1m6572/6572\u001b[0m \u001b[32m━━━━━━━━━━━━━━━━━━━━\u001b[0m\u001b[37m\u001b[0m \u001b[1m33s\u001b[0m 5ms/step\n",
            "Round 16: Acc=0.96422882, F1=0.96407248, AUC=0.99698350, Time=315.737213s\n",
            "Confusion Matrix:\n",
            "[[47298  3611  1661     0]\n",
            " [  422 52079     8    61]\n",
            " [   39    30 52501     0]\n",
            " [    0   715   975 50881]]\n",
            "              precision    recall  f1-score   support\n",
            "\n",
            "           0       0.99      0.90      0.94     52570\n",
            "           1       0.92      0.99      0.96     52570\n",
            "           2       0.95      1.00      0.97     52570\n",
            "           3       1.00      0.97      0.98     52571\n",
            "\n",
            "    accuracy                           0.96    210281\n",
            "   macro avg       0.97      0.96      0.96    210281\n",
            "weighted avg       0.97      0.96      0.96    210281\n",
            "\n"
          ]
        },
        {
          "output_type": "stream",
          "name": "stderr",
          "text": [
            "/usr/local/lib/python3.11/dist-packages/keras/src/layers/core/input_layer.py:27: UserWarning: Argument `input_shape` is deprecated. Use `shape` instead.\n",
            "  warnings.warn(\n"
          ]
        },
        {
          "output_type": "stream",
          "name": "stdout",
          "text": [
            "\u001b[1m6572/6572\u001b[0m \u001b[32m━━━━━━━━━━━━━━━━━━━━\u001b[0m\u001b[37m\u001b[0m \u001b[1m48s\u001b[0m 7ms/step\n",
            "Round 17: Acc=0.96230758, F1=0.96219968, AUC=0.99730934, Time=338.259698s\n",
            "Confusion Matrix:\n",
            "[[47047  4019  1504     0]\n",
            " [  328 52176    10    56]\n",
            " [   38    30 52502     0]\n",
            " [    0  1169   772 50630]]\n",
            "              precision    recall  f1-score   support\n",
            "\n",
            "           0       0.99      0.89      0.94     52570\n",
            "           1       0.91      0.99      0.95     52570\n",
            "           2       0.96      1.00      0.98     52570\n",
            "           3       1.00      0.96      0.98     52571\n",
            "\n",
            "    accuracy                           0.96    210281\n",
            "   macro avg       0.96      0.96      0.96    210281\n",
            "weighted avg       0.96      0.96      0.96    210281\n",
            "\n"
          ]
        },
        {
          "output_type": "stream",
          "name": "stderr",
          "text": [
            "/usr/local/lib/python3.11/dist-packages/keras/src/layers/core/input_layer.py:27: UserWarning: Argument `input_shape` is deprecated. Use `shape` instead.\n",
            "  warnings.warn(\n"
          ]
        },
        {
          "output_type": "stream",
          "name": "stdout",
          "text": [
            "\u001b[1m6572/6572\u001b[0m \u001b[32m━━━━━━━━━━━━━━━━━━━━\u001b[0m\u001b[37m\u001b[0m \u001b[1m31s\u001b[0m 5ms/step\n",
            "Round 18: Acc=0.96329198, F1=0.96316654, AUC=0.99693395, Time=328.536273s\n",
            "Confusion Matrix:\n",
            "[[47255  3762  1553     0]\n",
            " [  346 52022    11   191]\n",
            " [   32    26 52512     0]\n",
            " [    0   997   801 50773]]\n",
            "              precision    recall  f1-score   support\n",
            "\n",
            "           0       0.99      0.90      0.94     52570\n",
            "           1       0.92      0.99      0.95     52570\n",
            "           2       0.96      1.00      0.98     52570\n",
            "           3       1.00      0.97      0.98     52571\n",
            "\n",
            "    accuracy                           0.96    210281\n",
            "   macro avg       0.97      0.96      0.96    210281\n",
            "weighted avg       0.97      0.96      0.96    210281\n",
            "\n"
          ]
        },
        {
          "output_type": "stream",
          "name": "stderr",
          "text": [
            "/usr/local/lib/python3.11/dist-packages/keras/src/layers/core/input_layer.py:27: UserWarning: Argument `input_shape` is deprecated. Use `shape` instead.\n",
            "  warnings.warn(\n"
          ]
        },
        {
          "output_type": "stream",
          "name": "stdout",
          "text": [
            "\u001b[1m6572/6572\u001b[0m \u001b[32m━━━━━━━━━━━━━━━━━━━━\u001b[0m\u001b[37m\u001b[0m \u001b[1m31s\u001b[0m 5ms/step\n",
            "Round 19: Acc=0.96209358, F1=0.96200270, AUC=0.99674363, Time=304.782535s\n",
            "Confusion Matrix:\n",
            "[[47298  3611  1661     0]\n",
            " [  378 52124    13    55]\n",
            " [   28    24 52518     0]\n",
            " [    0  1358   843 50370]]\n",
            "              precision    recall  f1-score   support\n",
            "\n",
            "           0       0.99      0.90      0.94     52570\n",
            "           1       0.91      0.99      0.95     52570\n",
            "           2       0.95      1.00      0.98     52570\n",
            "           3       1.00      0.96      0.98     52571\n",
            "\n",
            "    accuracy                           0.96    210281\n",
            "   macro avg       0.96      0.96      0.96    210281\n",
            "weighted avg       0.96      0.96      0.96    210281\n",
            "\n"
          ]
        },
        {
          "output_type": "stream",
          "name": "stderr",
          "text": [
            "/usr/local/lib/python3.11/dist-packages/keras/src/layers/core/input_layer.py:27: UserWarning: Argument `input_shape` is deprecated. Use `shape` instead.\n",
            "  warnings.warn(\n"
          ]
        },
        {
          "output_type": "stream",
          "name": "stdout",
          "text": [
            "\u001b[1m6572/6572\u001b[0m \u001b[32m━━━━━━━━━━━━━━━━━━━━\u001b[0m\u001b[37m\u001b[0m \u001b[1m30s\u001b[0m 4ms/step\n",
            "Round 20: Acc=0.96979280, F1=0.96969482, AUC=0.99767743, Time=299.688561s\n",
            "Confusion Matrix:\n",
            "[[48076  3187  1307     0]\n",
            " [  414 52092    11    53]\n",
            " [   28    22 52520     0]\n",
            " [    0   688   642 51241]]\n",
            "              precision    recall  f1-score   support\n",
            "\n",
            "           0       0.99      0.91      0.95     52570\n",
            "           1       0.93      0.99      0.96     52570\n",
            "           2       0.96      1.00      0.98     52570\n",
            "           3       1.00      0.97      0.99     52571\n",
            "\n",
            "    accuracy                           0.97    210281\n",
            "   macro avg       0.97      0.97      0.97    210281\n",
            "weighted avg       0.97      0.97      0.97    210281\n",
            "\n"
          ]
        },
        {
          "output_type": "stream",
          "name": "stderr",
          "text": [
            "/usr/local/lib/python3.11/dist-packages/keras/src/layers/core/input_layer.py:27: UserWarning: Argument `input_shape` is deprecated. Use `shape` instead.\n",
            "  warnings.warn(\n"
          ]
        },
        {
          "output_type": "stream",
          "name": "stdout",
          "text": [
            "\u001b[1m6572/6572\u001b[0m \u001b[32m━━━━━━━━━━━━━━━━━━━━\u001b[0m\u001b[37m\u001b[0m \u001b[1m29s\u001b[0m 4ms/step\n",
            "Round 21: Acc=0.96889400, F1=0.96881578, AUC=0.99772086, Time=299.295737s\n",
            "Confusion Matrix:\n",
            "[[48170  3053  1347     0]\n",
            " [  480 52022    11    57]\n",
            " [   34    19 52517     0]\n",
            " [    0   863   677 51031]]\n",
            "              precision    recall  f1-score   support\n",
            "\n",
            "           0       0.99      0.92      0.95     52570\n",
            "           1       0.93      0.99      0.96     52570\n",
            "           2       0.96      1.00      0.98     52570\n",
            "           3       1.00      0.97      0.98     52571\n",
            "\n",
            "    accuracy                           0.97    210281\n",
            "   macro avg       0.97      0.97      0.97    210281\n",
            "weighted avg       0.97      0.97      0.97    210281\n",
            "\n"
          ]
        },
        {
          "output_type": "stream",
          "name": "stderr",
          "text": [
            "/usr/local/lib/python3.11/dist-packages/keras/src/layers/core/input_layer.py:27: UserWarning: Argument `input_shape` is deprecated. Use `shape` instead.\n",
            "  warnings.warn(\n"
          ]
        },
        {
          "output_type": "stream",
          "name": "stdout",
          "text": [
            "\u001b[1m6572/6572\u001b[0m \u001b[32m━━━━━━━━━━━━━━━━━━━━\u001b[0m\u001b[37m\u001b[0m \u001b[1m30s\u001b[0m 4ms/step\n",
            "Round 22: Acc=0.96493264, F1=0.96479732, AUC=0.99696968, Time=295.187902s\n",
            "Confusion Matrix:\n",
            "[[47310  3605  1655     0]\n",
            " [  428 52074    12    56]\n",
            " [   13    27 52530     0]\n",
            " [    0   998   580 50993]]\n",
            "              precision    recall  f1-score   support\n",
            "\n",
            "           0       0.99      0.90      0.94     52570\n",
            "           1       0.92      0.99      0.95     52570\n",
            "           2       0.96      1.00      0.98     52570\n",
            "           3       1.00      0.97      0.98     52571\n",
            "\n",
            "    accuracy                           0.96    210281\n",
            "   macro avg       0.97      0.96      0.96    210281\n",
            "weighted avg       0.97      0.96      0.96    210281\n",
            "\n"
          ]
        },
        {
          "output_type": "stream",
          "name": "stderr",
          "text": [
            "/usr/local/lib/python3.11/dist-packages/keras/src/layers/core/input_layer.py:27: UserWarning: Argument `input_shape` is deprecated. Use `shape` instead.\n",
            "  warnings.warn(\n"
          ]
        },
        {
          "output_type": "stream",
          "name": "stdout",
          "text": [
            "\u001b[1m6572/6572\u001b[0m \u001b[32m━━━━━━━━━━━━━━━━━━━━\u001b[0m\u001b[37m\u001b[0m \u001b[1m30s\u001b[0m 5ms/step\n",
            "Round 23: Acc=0.96675877, F1=0.96667661, AUC=0.99756464, Time=312.701447s\n",
            "Confusion Matrix:\n",
            "[[47849  3336  1385     0]\n",
            " [  449 52007    13   101]\n",
            " [   16    19 52535     0]\n",
            " [    0   999   672 50900]]\n",
            "              precision    recall  f1-score   support\n",
            "\n",
            "           0       0.99      0.91      0.95     52570\n",
            "           1       0.92      0.99      0.95     52570\n",
            "           2       0.96      1.00      0.98     52570\n",
            "           3       1.00      0.97      0.98     52571\n",
            "\n",
            "    accuracy                           0.97    210281\n",
            "   macro avg       0.97      0.97      0.97    210281\n",
            "weighted avg       0.97      0.97      0.97    210281\n",
            "\n"
          ]
        },
        {
          "output_type": "stream",
          "name": "stderr",
          "text": [
            "/usr/local/lib/python3.11/dist-packages/keras/src/layers/core/input_layer.py:27: UserWarning: Argument `input_shape` is deprecated. Use `shape` instead.\n",
            "  warnings.warn(\n"
          ]
        },
        {
          "output_type": "stream",
          "name": "stdout",
          "text": [
            "\u001b[1m6572/6572\u001b[0m \u001b[32m━━━━━━━━━━━━━━━━━━━━\u001b[0m\u001b[37m\u001b[0m \u001b[1m31s\u001b[0m 5ms/step\n",
            "Round 24: Acc=0.96965489, F1=0.96957460, AUC=0.99819459, Time=302.962552s\n",
            "Confusion Matrix:\n",
            "[[48044  3235  1291     0]\n",
            " [  420 52084     8    58]\n",
            " [   46    23 52501     0]\n",
            " [    0   883   417 51271]]\n",
            "              precision    recall  f1-score   support\n",
            "\n",
            "           0       0.99      0.91      0.95     52570\n",
            "           1       0.93      0.99      0.96     52570\n",
            "           2       0.97      1.00      0.98     52570\n",
            "           3       1.00      0.98      0.99     52571\n",
            "\n",
            "    accuracy                           0.97    210281\n",
            "   macro avg       0.97      0.97      0.97    210281\n",
            "weighted avg       0.97      0.97      0.97    210281\n",
            "\n"
          ]
        },
        {
          "output_type": "stream",
          "name": "stderr",
          "text": [
            "/usr/local/lib/python3.11/dist-packages/keras/src/layers/core/input_layer.py:27: UserWarning: Argument `input_shape` is deprecated. Use `shape` instead.\n",
            "  warnings.warn(\n"
          ]
        },
        {
          "output_type": "stream",
          "name": "stdout",
          "text": [
            "\u001b[1m6572/6572\u001b[0m \u001b[32m━━━━━━━━━━━━━━━━━━━━\u001b[0m\u001b[37m\u001b[0m \u001b[1m31s\u001b[0m 5ms/step\n",
            "Round 25: Acc=0.97120995, F1=0.97110428, AUC=0.99843183, Time=309.798081s\n",
            "Confusion Matrix:\n",
            "[[48182  3117  1271     0]\n",
            " [  449 52050    10    61]\n",
            " [   34    21 52515     0]\n",
            " [    0   572   519 51480]]\n",
            "              precision    recall  f1-score   support\n",
            "\n",
            "           0       0.99      0.92      0.95     52570\n",
            "           1       0.93      0.99      0.96     52570\n",
            "           2       0.97      1.00      0.98     52570\n",
            "           3       1.00      0.98      0.99     52571\n",
            "\n",
            "    accuracy                           0.97    210281\n",
            "   macro avg       0.97      0.97      0.97    210281\n",
            "weighted avg       0.97      0.97      0.97    210281\n",
            "\n"
          ]
        },
        {
          "output_type": "stream",
          "name": "stderr",
          "text": [
            "/usr/local/lib/python3.11/dist-packages/keras/src/layers/core/input_layer.py:27: UserWarning: Argument `input_shape` is deprecated. Use `shape` instead.\n",
            "  warnings.warn(\n"
          ]
        },
        {
          "output_type": "stream",
          "name": "stdout",
          "text": [
            "\u001b[1m6572/6572\u001b[0m \u001b[32m━━━━━━━━━━━━━━━━━━━━\u001b[0m\u001b[37m\u001b[0m \u001b[1m30s\u001b[0m 5ms/step\n",
            "Round 26: Acc=0.97268893, F1=0.97260607, AUC=0.99859193, Time=308.100132s\n",
            "Confusion Matrix:\n",
            "[[48460  3000  1110     0]\n",
            " [  461 52052    10    47]\n",
            " [   49    18 52503     0]\n",
            " [    0   544   504 51523]]\n",
            "              precision    recall  f1-score   support\n",
            "\n",
            "           0       0.99      0.92      0.95     52570\n",
            "           1       0.94      0.99      0.96     52570\n",
            "           2       0.97      1.00      0.98     52570\n",
            "           3       1.00      0.98      0.99     52571\n",
            "\n",
            "    accuracy                           0.97    210281\n",
            "   macro avg       0.97      0.97      0.97    210281\n",
            "weighted avg       0.97      0.97      0.97    210281\n",
            "\n"
          ]
        },
        {
          "output_type": "stream",
          "name": "stderr",
          "text": [
            "/usr/local/lib/python3.11/dist-packages/keras/src/layers/core/input_layer.py:27: UserWarning: Argument `input_shape` is deprecated. Use `shape` instead.\n",
            "  warnings.warn(\n"
          ]
        },
        {
          "output_type": "stream",
          "name": "stdout",
          "text": [
            "\u001b[1m6572/6572\u001b[0m \u001b[32m━━━━━━━━━━━━━━━━━━━━\u001b[0m\u001b[37m\u001b[0m \u001b[1m29s\u001b[0m 4ms/step\n",
            "Round 27: Acc=0.96794765, F1=0.96783840, AUC=0.99824949, Time=296.492089s\n",
            "Confusion Matrix:\n",
            "[[47862  3220  1488     0]\n",
            " [  360 52150    13    47]\n",
            " [   13    20 52537     0]\n",
            " [    0   792   787 50992]]\n",
            "              precision    recall  f1-score   support\n",
            "\n",
            "           0       0.99      0.91      0.95     52570\n",
            "           1       0.93      0.99      0.96     52570\n",
            "           2       0.96      1.00      0.98     52570\n",
            "           3       1.00      0.97      0.98     52571\n",
            "\n",
            "    accuracy                           0.97    210281\n",
            "   macro avg       0.97      0.97      0.97    210281\n",
            "weighted avg       0.97      0.97      0.97    210281\n",
            "\n"
          ]
        },
        {
          "output_type": "stream",
          "name": "stderr",
          "text": [
            "/usr/local/lib/python3.11/dist-packages/keras/src/layers/core/input_layer.py:27: UserWarning: Argument `input_shape` is deprecated. Use `shape` instead.\n",
            "  warnings.warn(\n"
          ]
        },
        {
          "output_type": "stream",
          "name": "stdout",
          "text": [
            "\u001b[1m6572/6572\u001b[0m \u001b[32m━━━━━━━━━━━━━━━━━━━━\u001b[0m\u001b[37m\u001b[0m \u001b[1m30s\u001b[0m 5ms/step\n",
            "Round 28: Acc=0.97176160, F1=0.97170329, AUC=0.99848899, Time=302.666139s\n",
            "Confusion Matrix:\n",
            "[[48516  2900  1154     0]\n",
            " [  434 52077    11    48]\n",
            " [   24    15 52531     0]\n",
            " [    0   804   548 51219]]\n",
            "              precision    recall  f1-score   support\n",
            "\n",
            "           0       0.99      0.92      0.96     52570\n",
            "           1       0.93      0.99      0.96     52570\n",
            "           2       0.97      1.00      0.98     52570\n",
            "           3       1.00      0.97      0.99     52571\n",
            "\n",
            "    accuracy                           0.97    210281\n",
            "   macro avg       0.97      0.97      0.97    210281\n",
            "weighted avg       0.97      0.97      0.97    210281\n",
            "\n"
          ]
        },
        {
          "output_type": "stream",
          "name": "stderr",
          "text": [
            "/usr/local/lib/python3.11/dist-packages/keras/src/layers/core/input_layer.py:27: UserWarning: Argument `input_shape` is deprecated. Use `shape` instead.\n",
            "  warnings.warn(\n"
          ]
        },
        {
          "output_type": "stream",
          "name": "stdout",
          "text": [
            "\u001b[1m6572/6572\u001b[0m \u001b[32m━━━━━━━━━━━━━━━━━━━━\u001b[0m\u001b[37m\u001b[0m \u001b[1m30s\u001b[0m 5ms/step\n",
            "Round 29: Acc=0.97383501, F1=0.97379822, AUC=0.99870037, Time=311.920333s\n",
            "Confusion Matrix:\n",
            "[[48892  2640  1038     0]\n",
            " [  487 52021    11    51]\n",
            " [   32    14 52524     0]\n",
            " [    0   826   403 51342]]\n",
            "              precision    recall  f1-score   support\n",
            "\n",
            "           0       0.99      0.93      0.96     52570\n",
            "           1       0.94      0.99      0.96     52570\n",
            "           2       0.97      1.00      0.99     52570\n",
            "           3       1.00      0.98      0.99     52571\n",
            "\n",
            "    accuracy                           0.97    210281\n",
            "   macro avg       0.97      0.97      0.97    210281\n",
            "weighted avg       0.97      0.97      0.97    210281\n",
            "\n"
          ]
        },
        {
          "output_type": "stream",
          "name": "stderr",
          "text": [
            "/usr/local/lib/python3.11/dist-packages/keras/src/layers/core/input_layer.py:27: UserWarning: Argument `input_shape` is deprecated. Use `shape` instead.\n",
            "  warnings.warn(\n"
          ]
        },
        {
          "output_type": "stream",
          "name": "stdout",
          "text": [
            "\u001b[1m6572/6572\u001b[0m \u001b[32m━━━━━━━━━━━━━━━━━━━━\u001b[0m\u001b[37m\u001b[0m \u001b[1m31s\u001b[0m 5ms/step\n",
            "Round 30: Acc=0.97548043, F1=0.97542485, AUC=0.99898412, Time=300.871039s\n",
            "Confusion Matrix:\n",
            "[[48896  2717   957     0]\n",
            " [  355 52147    11    57]\n",
            " [   33    11 52526     0]\n",
            " [    0   563   452 51556]]\n",
            "              precision    recall  f1-score   support\n",
            "\n",
            "           0       0.99      0.93      0.96     52570\n",
            "           1       0.94      0.99      0.97     52570\n",
            "           2       0.97      1.00      0.99     52570\n",
            "           3       1.00      0.98      0.99     52571\n",
            "\n",
            "    accuracy                           0.98    210281\n",
            "   macro avg       0.98      0.98      0.98    210281\n",
            "weighted avg       0.98      0.98      0.98    210281\n",
            "\n",
            "Training log saved to fedavg_training_log.csv\n"
          ]
        }
      ]
    }
  ]
}