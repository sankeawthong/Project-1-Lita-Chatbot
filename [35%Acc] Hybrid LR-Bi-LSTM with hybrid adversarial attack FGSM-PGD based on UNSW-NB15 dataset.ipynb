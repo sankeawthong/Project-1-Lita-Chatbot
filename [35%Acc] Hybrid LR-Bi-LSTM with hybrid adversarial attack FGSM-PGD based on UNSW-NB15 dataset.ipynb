{
  "nbformat": 4,
  "nbformat_minor": 0,
  "metadata": {
    "colab": {
      "provenance": [],
      "authorship_tag": "ABX9TyMuBqb5frxlKocJeF02wg6h",
      "include_colab_link": true
    },
    "kernelspec": {
      "name": "python3",
      "display_name": "Python 3"
    },
    "language_info": {
      "name": "python"
    }
  },
  "cells": [
    {
      "cell_type": "markdown",
      "metadata": {
        "id": "view-in-github",
        "colab_type": "text"
      },
      "source": [
        "<a href=\"https://colab.research.google.com/github/sankeawthong/Project-1-Lita-Chatbot/blob/main/%5B35%25Acc%5D%20Hybrid%20LR-Bi-LSTM%20with%20hybrid%20adversarial%20attack%20FGSM-PGD%20based%20on%20UNSW-NB15%20dataset.ipynb\" target=\"_parent\"><img src=\"https://colab.research.google.com/assets/colab-badge.svg\" alt=\"Open In Colab\"/></a>"
      ]
    },
    {
      "cell_type": "markdown",
      "source": [
        "### **Hybrid LR-Bi-LSTM with hybrid adversarial attack FGSM-PGD based on UNSW-NB15 dataset**"
      ],
      "metadata": {
        "id": "15jGYmT_0lrn"
      }
    },
    {
      "cell_type": "code",
      "source": [
        "import pandas as pd\n",
        "import numpy as np\n",
        "from sklearn.linear_model import LogisticRegression\n",
        "from sklearn.model_selection import train_test_split\n",
        "from sklearn.metrics import accuracy_score, classification_report\n",
        "from sklearn.preprocessing import LabelEncoder, StandardScaler, OneHotEncoder\n",
        "from keras.models import Sequential\n",
        "from keras.layers import Dense, LSTM, Bidirectional, Dropout, Flatten\n",
        "from tensorflow.keras.utils import to_categorical\n",
        "from tensorflow.python.keras.utils import np_utils\n",
        "from imblearn.over_sampling import SMOTE\n",
        "\n",
        "from keras.optimizers import Adam\n",
        "#from keras.utils import np_utils\n",
        "from keras.regularizers import l2\n",
        "import matplotlib.pyplot as plt\n",
        "#from imblearn.over_sampling import SMOTE\n",
        "\n",
        "# Adversarial Training Imports\n",
        "from keras import backend as K\n",
        "import tensorflow as tf"
      ],
      "metadata": {
        "id": "JLFmDI9C0qRo"
      },
      "execution_count": 1,
      "outputs": []
    },
    {
      "cell_type": "code",
      "source": [
        "# Load dataset\n",
        "dataset = pd.read_csv(\"Dataset_10Classes.csv\")\n",
        "dataset = dataset.dropna() # Remove missing values\n",
        "#X = dataset.drop(['Class'], axis=1)\n",
        "#y = dataset['Class']"
      ],
      "metadata": {
        "id": "QYXmvq660ron"
      },
      "execution_count": 2,
      "outputs": []
    },
    {
      "cell_type": "code",
      "source": [
        "dataset.isnull().sum()"
      ],
      "metadata": {
        "colab": {
          "base_uri": "https://localhost:8080/",
          "height": 1000
        },
        "id": "G5NOQOsigtw9",
        "outputId": "6650043f-5fed-4322-d78b-cd98d7e99d9e"
      },
      "execution_count": 3,
      "outputs": [
        {
          "output_type": "execute_result",
          "data": {
            "text/plain": [
              "ID_Cb                0\n",
              "id                   0\n",
              "dur                  0\n",
              "proto                0\n",
              "service              0\n",
              "state                0\n",
              "spkts                0\n",
              "dpkts                0\n",
              "sbytes               0\n",
              "dbytes               0\n",
              "rate                 0\n",
              "sttl                 0\n",
              "dttl                 0\n",
              "sload                0\n",
              "dload                0\n",
              "sloss                0\n",
              "dloss                0\n",
              "sinpkt               0\n",
              "dinpkt               0\n",
              "sjit                 0\n",
              "djit                 0\n",
              "swin                 0\n",
              "stcpb                0\n",
              "dtcpb                0\n",
              "dwin                 0\n",
              "tcprtt               0\n",
              "synack               0\n",
              "ackdat               0\n",
              "smean                0\n",
              "dmean                0\n",
              "trans_depth          0\n",
              "response_body_len    0\n",
              "ct_srv_src           0\n",
              "ct_state_ttl         0\n",
              "ct_dst_ltm           0\n",
              "ct_src_dport_ltm     0\n",
              "ct_dst_sport_ltm     0\n",
              "ct_dst_src_ltm       0\n",
              "is_ftp_login         0\n",
              "ct_ftp_cmd           0\n",
              "ct_flw_http_mthd     0\n",
              "ct_src_ltm           0\n",
              "ct_srv_dst           0\n",
              "is_sm_ips_ports      0\n",
              "attack_cat           0\n",
              "label                0\n",
              "Class                0\n",
              "dtype: int64"
            ],
            "text/html": [
              "<div>\n",
              "<style scoped>\n",
              "    .dataframe tbody tr th:only-of-type {\n",
              "        vertical-align: middle;\n",
              "    }\n",
              "\n",
              "    .dataframe tbody tr th {\n",
              "        vertical-align: top;\n",
              "    }\n",
              "\n",
              "    .dataframe thead th {\n",
              "        text-align: right;\n",
              "    }\n",
              "</style>\n",
              "<table border=\"1\" class=\"dataframe\">\n",
              "  <thead>\n",
              "    <tr style=\"text-align: right;\">\n",
              "      <th></th>\n",
              "      <th>0</th>\n",
              "    </tr>\n",
              "  </thead>\n",
              "  <tbody>\n",
              "    <tr>\n",
              "      <th>ID_Cb</th>\n",
              "      <td>0</td>\n",
              "    </tr>\n",
              "    <tr>\n",
              "      <th>id</th>\n",
              "      <td>0</td>\n",
              "    </tr>\n",
              "    <tr>\n",
              "      <th>dur</th>\n",
              "      <td>0</td>\n",
              "    </tr>\n",
              "    <tr>\n",
              "      <th>proto</th>\n",
              "      <td>0</td>\n",
              "    </tr>\n",
              "    <tr>\n",
              "      <th>service</th>\n",
              "      <td>0</td>\n",
              "    </tr>\n",
              "    <tr>\n",
              "      <th>state</th>\n",
              "      <td>0</td>\n",
              "    </tr>\n",
              "    <tr>\n",
              "      <th>spkts</th>\n",
              "      <td>0</td>\n",
              "    </tr>\n",
              "    <tr>\n",
              "      <th>dpkts</th>\n",
              "      <td>0</td>\n",
              "    </tr>\n",
              "    <tr>\n",
              "      <th>sbytes</th>\n",
              "      <td>0</td>\n",
              "    </tr>\n",
              "    <tr>\n",
              "      <th>dbytes</th>\n",
              "      <td>0</td>\n",
              "    </tr>\n",
              "    <tr>\n",
              "      <th>rate</th>\n",
              "      <td>0</td>\n",
              "    </tr>\n",
              "    <tr>\n",
              "      <th>sttl</th>\n",
              "      <td>0</td>\n",
              "    </tr>\n",
              "    <tr>\n",
              "      <th>dttl</th>\n",
              "      <td>0</td>\n",
              "    </tr>\n",
              "    <tr>\n",
              "      <th>sload</th>\n",
              "      <td>0</td>\n",
              "    </tr>\n",
              "    <tr>\n",
              "      <th>dload</th>\n",
              "      <td>0</td>\n",
              "    </tr>\n",
              "    <tr>\n",
              "      <th>sloss</th>\n",
              "      <td>0</td>\n",
              "    </tr>\n",
              "    <tr>\n",
              "      <th>dloss</th>\n",
              "      <td>0</td>\n",
              "    </tr>\n",
              "    <tr>\n",
              "      <th>sinpkt</th>\n",
              "      <td>0</td>\n",
              "    </tr>\n",
              "    <tr>\n",
              "      <th>dinpkt</th>\n",
              "      <td>0</td>\n",
              "    </tr>\n",
              "    <tr>\n",
              "      <th>sjit</th>\n",
              "      <td>0</td>\n",
              "    </tr>\n",
              "    <tr>\n",
              "      <th>djit</th>\n",
              "      <td>0</td>\n",
              "    </tr>\n",
              "    <tr>\n",
              "      <th>swin</th>\n",
              "      <td>0</td>\n",
              "    </tr>\n",
              "    <tr>\n",
              "      <th>stcpb</th>\n",
              "      <td>0</td>\n",
              "    </tr>\n",
              "    <tr>\n",
              "      <th>dtcpb</th>\n",
              "      <td>0</td>\n",
              "    </tr>\n",
              "    <tr>\n",
              "      <th>dwin</th>\n",
              "      <td>0</td>\n",
              "    </tr>\n",
              "    <tr>\n",
              "      <th>tcprtt</th>\n",
              "      <td>0</td>\n",
              "    </tr>\n",
              "    <tr>\n",
              "      <th>synack</th>\n",
              "      <td>0</td>\n",
              "    </tr>\n",
              "    <tr>\n",
              "      <th>ackdat</th>\n",
              "      <td>0</td>\n",
              "    </tr>\n",
              "    <tr>\n",
              "      <th>smean</th>\n",
              "      <td>0</td>\n",
              "    </tr>\n",
              "    <tr>\n",
              "      <th>dmean</th>\n",
              "      <td>0</td>\n",
              "    </tr>\n",
              "    <tr>\n",
              "      <th>trans_depth</th>\n",
              "      <td>0</td>\n",
              "    </tr>\n",
              "    <tr>\n",
              "      <th>response_body_len</th>\n",
              "      <td>0</td>\n",
              "    </tr>\n",
              "    <tr>\n",
              "      <th>ct_srv_src</th>\n",
              "      <td>0</td>\n",
              "    </tr>\n",
              "    <tr>\n",
              "      <th>ct_state_ttl</th>\n",
              "      <td>0</td>\n",
              "    </tr>\n",
              "    <tr>\n",
              "      <th>ct_dst_ltm</th>\n",
              "      <td>0</td>\n",
              "    </tr>\n",
              "    <tr>\n",
              "      <th>ct_src_dport_ltm</th>\n",
              "      <td>0</td>\n",
              "    </tr>\n",
              "    <tr>\n",
              "      <th>ct_dst_sport_ltm</th>\n",
              "      <td>0</td>\n",
              "    </tr>\n",
              "    <tr>\n",
              "      <th>ct_dst_src_ltm</th>\n",
              "      <td>0</td>\n",
              "    </tr>\n",
              "    <tr>\n",
              "      <th>is_ftp_login</th>\n",
              "      <td>0</td>\n",
              "    </tr>\n",
              "    <tr>\n",
              "      <th>ct_ftp_cmd</th>\n",
              "      <td>0</td>\n",
              "    </tr>\n",
              "    <tr>\n",
              "      <th>ct_flw_http_mthd</th>\n",
              "      <td>0</td>\n",
              "    </tr>\n",
              "    <tr>\n",
              "      <th>ct_src_ltm</th>\n",
              "      <td>0</td>\n",
              "    </tr>\n",
              "    <tr>\n",
              "      <th>ct_srv_dst</th>\n",
              "      <td>0</td>\n",
              "    </tr>\n",
              "    <tr>\n",
              "      <th>is_sm_ips_ports</th>\n",
              "      <td>0</td>\n",
              "    </tr>\n",
              "    <tr>\n",
              "      <th>attack_cat</th>\n",
              "      <td>0</td>\n",
              "    </tr>\n",
              "    <tr>\n",
              "      <th>label</th>\n",
              "      <td>0</td>\n",
              "    </tr>\n",
              "    <tr>\n",
              "      <th>Class</th>\n",
              "      <td>0</td>\n",
              "    </tr>\n",
              "  </tbody>\n",
              "</table>\n",
              "</div><br><label><b>dtype:</b> int64</label>"
            ]
          },
          "metadata": {},
          "execution_count": 3
        }
      ]
    },
    {
      "cell_type": "code",
      "source": [
        "print(dataset.info())"
      ],
      "metadata": {
        "colab": {
          "base_uri": "https://localhost:8080/"
        },
        "id": "MWoqs2YQZDtz",
        "outputId": "e4281505-52dc-4d63-9a71-4e1fa97cce71"
      },
      "execution_count": 5,
      "outputs": [
        {
          "output_type": "stream",
          "name": "stdout",
          "text": [
            "<class 'pandas.core.frame.DataFrame'>\n",
            "RangeIndex: 257673 entries, 0 to 257672\n",
            "Data columns (total 47 columns):\n",
            " #   Column             Non-Null Count   Dtype  \n",
            "---  ------             --------------   -----  \n",
            " 0   ID_Cb              257673 non-null  int64  \n",
            " 1   id                 257673 non-null  int64  \n",
            " 2   dur                257673 non-null  float64\n",
            " 3   proto              257673 non-null  object \n",
            " 4   service            257673 non-null  object \n",
            " 5   state              257673 non-null  object \n",
            " 6   spkts              257673 non-null  int64  \n",
            " 7   dpkts              257673 non-null  int64  \n",
            " 8   sbytes             257673 non-null  int64  \n",
            " 9   dbytes             257673 non-null  int64  \n",
            " 10  rate               257673 non-null  float64\n",
            " 11  sttl               257673 non-null  int64  \n",
            " 12  dttl               257673 non-null  int64  \n",
            " 13  sload              257673 non-null  float64\n",
            " 14  dload              257673 non-null  float64\n",
            " 15  sloss              257673 non-null  int64  \n",
            " 16  dloss              257673 non-null  int64  \n",
            " 17  sinpkt             257673 non-null  float64\n",
            " 18  dinpkt             257673 non-null  float64\n",
            " 19  sjit               257673 non-null  float64\n",
            " 20  djit               257673 non-null  float64\n",
            " 21  swin               257673 non-null  int64  \n",
            " 22  stcpb              257673 non-null  int64  \n",
            " 23  dtcpb              257673 non-null  int64  \n",
            " 24  dwin               257673 non-null  int64  \n",
            " 25  tcprtt             257673 non-null  float64\n",
            " 26  synack             257673 non-null  float64\n",
            " 27  ackdat             257673 non-null  float64\n",
            " 28  smean              257673 non-null  int64  \n",
            " 29  dmean              257673 non-null  int64  \n",
            " 30  trans_depth        257673 non-null  int64  \n",
            " 31  response_body_len  257673 non-null  int64  \n",
            " 32  ct_srv_src         257673 non-null  int64  \n",
            " 33  ct_state_ttl       257673 non-null  int64  \n",
            " 34  ct_dst_ltm         257673 non-null  int64  \n",
            " 35  ct_src_dport_ltm   257673 non-null  int64  \n",
            " 36  ct_dst_sport_ltm   257673 non-null  int64  \n",
            " 37  ct_dst_src_ltm     257673 non-null  int64  \n",
            " 38  is_ftp_login       257673 non-null  int64  \n",
            " 39  ct_ftp_cmd         257673 non-null  int64  \n",
            " 40  ct_flw_http_mthd   257673 non-null  int64  \n",
            " 41  ct_src_ltm         257673 non-null  int64  \n",
            " 42  ct_srv_dst         257673 non-null  int64  \n",
            " 43  is_sm_ips_ports    257673 non-null  int64  \n",
            " 44  attack_cat         257673 non-null  object \n",
            " 45  label              257673 non-null  int64  \n",
            " 46  Class              257673 non-null  int64  \n",
            "dtypes: float64(11), int64(32), object(4)\n",
            "memory usage: 92.4+ MB\n",
            "None\n"
          ]
        }
      ]
    },
    {
      "cell_type": "code",
      "source": [
        "print(dataset[\"Class\"].unique())  # Unique target classes"
      ],
      "metadata": {
        "id": "mDZVfS_k1b1v",
        "outputId": "8db58528-7033-4ab5-cc06-f1aa903dcfa2",
        "colab": {
          "base_uri": "https://localhost:8080/"
        }
      },
      "execution_count": 6,
      "outputs": [
        {
          "output_type": "stream",
          "name": "stdout",
          "text": [
            "[0 2 1 5 8 7 4 3 9 6]\n"
          ]
        }
      ]
    },
    {
      "cell_type": "code",
      "source": [
        "import collections as c\n",
        "# Encode non-numeric features\n",
        "categorical_columns = dataset.select_dtypes(include=['object']).columns\n",
        "label_encoders = {}\n",
        "\n",
        "for col in categorical_columns:\n",
        "    le = LabelEncoder()\n",
        "    dataset[col] = le.fit_transform(dataset[col])\n",
        "    label_encoders[col] = le  # Save the encoder for later decoding if needed\n",
        "\n",
        "# Split into features and target\n",
        "X = dataset.drop(['Class'], axis=1).values\n",
        "y = dataset['Class'].values\n",
        "\n",
        "# Display dataset shape and data types\n",
        "print(\"Features (X):\\n\", X)\n",
        "print(\"Target (y):\\n\", y)\n",
        "\n",
        "# Check class distribution before balancing\n",
        "counter = c.Counter(y)\n",
        "print(\"Before SMOTE:\", counter)"
      ],
      "metadata": {
        "id": "u2DWuqkaCAxI",
        "outputId": "498ffcb1-2c7a-4650-e417-c1aa1ad29b0a",
        "colab": {
          "base_uri": "https://localhost:8080/"
        }
      },
      "execution_count": 7,
      "outputs": [
        {
          "output_type": "stream",
          "name": "stdout",
          "text": [
            "Features (X):\n",
            " [[1.000000e+00 1.000000e+00 1.214780e-01 ... 0.000000e+00 6.000000e+00\n",
            "  0.000000e+00]\n",
            " [2.000000e+00 2.000000e+00 6.499020e-01 ... 0.000000e+00 6.000000e+00\n",
            "  0.000000e+00]\n",
            " [3.000000e+00 3.000000e+00 1.623129e+00 ... 0.000000e+00 6.000000e+00\n",
            "  0.000000e+00]\n",
            " ...\n",
            " [2.576710e+05 8.233000e+04 0.000000e+00 ... 1.000000e+00 6.000000e+00\n",
            "  0.000000e+00]\n",
            " [2.576720e+05 8.233100e+04 0.000000e+00 ... 1.000000e+00 6.000000e+00\n",
            "  0.000000e+00]\n",
            " [2.576730e+05 8.233200e+04 9.000000e-06 ... 0.000000e+00 6.000000e+00\n",
            "  0.000000e+00]]\n",
            "Target (y):\n",
            " [0 0 0 ... 0 0 0]\n",
            "Before SMOTE: Counter({0: 93000, 6: 58871, 4: 44525, 5: 24246, 3: 16353, 7: 13987, 1: 2677, 2: 2329, 8: 1511, 9: 174})\n"
          ]
        }
      ]
    },
    {
      "cell_type": "code",
      "source": [
        "##Installing imblearn\n",
        "#!pip install -U imbalanced-learn\n",
        "#!pip install imbalanced-learn"
      ],
      "metadata": {
        "id": "azE_AQxG1esq"
      },
      "execution_count": 8,
      "outputs": []
    },
    {
      "cell_type": "code",
      "source": [
        "## check version number\n",
        "#import imblearn\n",
        "#print(imblearn.__version__)"
      ],
      "metadata": {
        "id": "EWqkPJWK1n8q"
      },
      "execution_count": null,
      "outputs": []
    },
    {
      "cell_type": "code",
      "source": [
        "## Data preprocessing\n",
        "#y = dataset['Class'].values\n",
        "#X = dataset.drop(['Class'],axis=1)\n",
        "#X=X.values\n",
        "#print(X)\n",
        "#print(y)"
      ],
      "metadata": {
        "id": "Wyc_m8lN1qHL"
      },
      "execution_count": null,
      "outputs": []
    },
    {
      "cell_type": "code",
      "source": [
        "#import collections as c\n",
        "#counter = c.Counter(y)\n",
        "#print(counter)"
      ],
      "metadata": {
        "id": "F9MqE9r01x3N"
      },
      "execution_count": null,
      "outputs": []
    },
    {
      "cell_type": "markdown",
      "source": [
        "### **Data Preprocessing**"
      ],
      "metadata": {
        "id": "BPxDywqB03Gl"
      }
    },
    {
      "cell_type": "code",
      "source": [
        "# Balance dataset using SMOTE\n",
        "oversample = SMOTE(random_state=42)\n",
        "X_resampled, y_resampled = oversample.fit_resample(X, y)\n",
        "\n",
        "# Check class distribution after balancing\n",
        "counter = c.Counter(y_resampled)\n",
        "print(\"After SMOTE:\", counter)"
      ],
      "metadata": {
        "id": "-AVSQ8ACCFI_",
        "outputId": "b79c843f-ae19-4ec0-dd72-9351aab40925",
        "colab": {
          "base_uri": "https://localhost:8080/"
        }
      },
      "execution_count": 9,
      "outputs": [
        {
          "output_type": "stream",
          "name": "stdout",
          "text": [
            "After SMOTE: Counter({0: 93000, 2: 93000, 1: 93000, 5: 93000, 8: 93000, 7: 93000, 4: 93000, 3: 93000, 9: 93000, 6: 93000})\n"
          ]
        }
      ]
    },
    {
      "cell_type": "code",
      "source": [
        "from sklearn.model_selection import train_test_split\n",
        "X_train, X_test, y_train, y_test = train_test_split(X, y, test_size=0.2, random_state=101)"
      ],
      "metadata": {
        "id": "J_hiH1JR0xuT"
      },
      "execution_count": 10,
      "outputs": []
    },
    {
      "cell_type": "markdown",
      "source": [
        "### **Hybrid combination of LR-Bi-LSTM for 10 class classifications**"
      ],
      "metadata": {
        "id": "lmcm5fIJ08G8"
      }
    },
    {
      "cell_type": "code",
      "source": [
        "# Train logistic regression model\n",
        "lr_model = LogisticRegression(multi_class='multinomial', solver='lbfgs')\n",
        "lr_model.fit(X_train, y_train)\n",
        "lr_pred = lr_model.predict(X_test)\n",
        "lr_acc = accuracy_score(y_test, lr_pred)\n",
        "print(\"Logistic Regression Accuracy:\", lr_acc)\n",
        "print(classification_report(y_test, lr_pred))"
      ],
      "metadata": {
        "id": "hQkRFCNYxg-1",
        "outputId": "888c0dcf-bcaa-49d5-81bc-81454f9ee4dd",
        "colab": {
          "base_uri": "https://localhost:8080/"
        }
      },
      "execution_count": 11,
      "outputs": [
        {
          "output_type": "stream",
          "name": "stderr",
          "text": [
            "/usr/local/lib/python3.10/dist-packages/sklearn/linear_model/_logistic.py:1247: FutureWarning: 'multi_class' was deprecated in version 1.5 and will be removed in 1.7. From then on, it will always use 'multinomial'. Leave it to its default value to avoid this warning.\n",
            "  warnings.warn(\n"
          ]
        },
        {
          "output_type": "stream",
          "name": "stdout",
          "text": [
            "Logistic Regression Accuracy: 0.5269040457941205\n",
            "              precision    recall  f1-score   support\n",
            "\n",
            "           0       0.58      0.85      0.69     18390\n",
            "           1       0.00      0.00      0.00       555\n",
            "           2       0.00      0.00      0.00       468\n",
            "           3       0.00      0.00      0.00      3403\n",
            "           4       0.00      0.00      0.00      9040\n",
            "           5       0.00      0.00      0.00      4949\n",
            "           6       0.47      0.98      0.63     11630\n",
            "           7       0.00      0.00      0.00      2749\n",
            "           8       0.00      0.00      0.00       317\n",
            "           9       0.00      0.00      0.00        34\n",
            "\n",
            "    accuracy                           0.53     51535\n",
            "   macro avg       0.10      0.18      0.13     51535\n",
            "weighted avg       0.31      0.53      0.39     51535\n",
            "\n"
          ]
        },
        {
          "output_type": "stream",
          "name": "stderr",
          "text": [
            "/usr/local/lib/python3.10/dist-packages/sklearn/linear_model/_logistic.py:469: ConvergenceWarning: lbfgs failed to converge (status=1):\n",
            "STOP: TOTAL NO. of ITERATIONS REACHED LIMIT.\n",
            "\n",
            "Increase the number of iterations (max_iter) or scale the data as shown in:\n",
            "    https://scikit-learn.org/stable/modules/preprocessing.html\n",
            "Please also refer to the documentation for alternative solver options:\n",
            "    https://scikit-learn.org/stable/modules/linear_model.html#logistic-regression\n",
            "  n_iter_i = _check_optimize_result(\n",
            "/usr/local/lib/python3.10/dist-packages/sklearn/metrics/_classification.py:1531: UndefinedMetricWarning: Precision is ill-defined and being set to 0.0 in labels with no predicted samples. Use `zero_division` parameter to control this behavior.\n",
            "  _warn_prf(average, modifier, f\"{metric.capitalize()} is\", len(result))\n",
            "/usr/local/lib/python3.10/dist-packages/sklearn/metrics/_classification.py:1531: UndefinedMetricWarning: Precision is ill-defined and being set to 0.0 in labels with no predicted samples. Use `zero_division` parameter to control this behavior.\n",
            "  _warn_prf(average, modifier, f\"{metric.capitalize()} is\", len(result))\n",
            "/usr/local/lib/python3.10/dist-packages/sklearn/metrics/_classification.py:1531: UndefinedMetricWarning: Precision is ill-defined and being set to 0.0 in labels with no predicted samples. Use `zero_division` parameter to control this behavior.\n",
            "  _warn_prf(average, modifier, f\"{metric.capitalize()} is\", len(result))\n"
          ]
        }
      ]
    },
    {
      "cell_type": "code",
      "source": [
        "# Prepare data for Bi-LSTM\n",
        "num_classes = len(np.unique(y))\n",
        "input_dim = X_train.shape[1]\n",
        "y_train_onehot = to_categorical(y_train, num_classes=num_classes)\n",
        "y_test_onehot = to_categorical(y_test, num_classes=num_classes)\n",
        "\n",
        "X_train_lstm = np.reshape(X_train, (X_train.shape[0], 1, X_train.shape[1]))\n",
        "X_test_lstm = np.reshape(X_test, (X_test.shape[0], 1, X_test.shape[1]))\n",
        "\n",
        "# Define the Bi-LSTM model\n",
        "lstm_model = Sequential([\n",
        "    Bidirectional(LSTM(64, input_shape=(1, input_dim), activation='relu', return_sequences=True)),\n",
        "    Dropout(0.2),\n",
        "    LSTM(32, activation='relu'),\n",
        "    Dense(num_classes, activation='softmax')\n",
        "])\n",
        "lstm_model.compile(loss='categorical_crossentropy', optimizer=Adam(), metrics=['accuracy'])\n",
        "\n",
        "#Define FGSM adversarial example generation\n",
        "def generate_fgsm_adversarial_examples(model, x, y_true, epsilon=0.01):\n",
        "    x_tensor = tf.convert_to_tensor(x)\n",
        "    with tf.GradientTape() as tape:\n",
        "        tape.watch(x_tensor)\n",
        "        predictions = model(x_tensor)\n",
        "        loss = tf.keras.losses.categorical_crossentropy(y_true, predictions)\n",
        "    gradients = tape.gradient(loss, x_tensor)\n",
        "    signed_gradients = tf.sign(gradients)\n",
        "    adversarial_examples = x + epsilon * signed_gradients.numpy()\n",
        "    return np.clip(adversarial_examples, 0, 1)\n",
        "\n",
        "# Define PGD adversarial example generation\n",
        "def generate_pgd_adversarial_examples(model, x, y_true, epsilon=0.01, alpha=0.01, iterations=10):\n",
        "    x_adv = np.copy(x)\n",
        "    for _ in range(iterations):\n",
        "        fgsm_adv = generate_fgsm_adversarial_examples(model, x_adv, y_true, epsilon)\n",
        "        x_adv += alpha * np.sign(fgsm_adv - x_adv)\n",
        "        x_adv = np.clip(x_adv, 0, 1)\n",
        "    return x_adv\n",
        "\n",
        "# Generate adversarial examples for training\n",
        "lstm_model.fit(X_train_lstm, y_train_onehot, epochs=15, batch_size=32, verbose=1)  # Pre-train the model\n",
        "X_train_fgsm = generate_fgsm_adversarial_examples(lstm_model, X_train_lstm, y_train_onehot)\n",
        "X_train_pgd = generate_pgd_adversarial_examples(lstm_model, X_train_lstm, y_train_onehot)"
      ],
      "metadata": {
        "id": "e-zzlKqCxg5L",
        "outputId": "3851d3a6-5be2-4cbe-e326-dd26b28ab397",
        "colab": {
          "base_uri": "https://localhost:8080/"
        }
      },
      "execution_count": 13,
      "outputs": [
        {
          "output_type": "stream",
          "name": "stdout",
          "text": [
            "Epoch 1/15\n",
            "\u001b[1m6442/6442\u001b[0m \u001b[32m━━━━━━━━━━━━━━━━━━━━\u001b[0m\u001b[37m\u001b[0m \u001b[1m49s\u001b[0m 6ms/step - accuracy: 0.3361 - loss: 915293.0625\n",
            "Epoch 2/15\n",
            "\u001b[1m6442/6442\u001b[0m \u001b[32m━━━━━━━━━━━━━━━━━━━━\u001b[0m\u001b[37m\u001b[0m \u001b[1m74s\u001b[0m 5ms/step - accuracy: 0.3619 - loss: 294.5859\n",
            "Epoch 3/15\n",
            "\u001b[1m6442/6442\u001b[0m \u001b[32m━━━━━━━━━━━━━━━━━━━━\u001b[0m\u001b[37m\u001b[0m \u001b[1m41s\u001b[0m 5ms/step - accuracy: 0.3608 - loss: 123.1647\n",
            "Epoch 4/15\n",
            "\u001b[1m6442/6442\u001b[0m \u001b[32m━━━━━━━━━━━━━━━━━━━━\u001b[0m\u001b[37m\u001b[0m \u001b[1m34s\u001b[0m 5ms/step - accuracy: 0.3608 - loss: 124.9984\n",
            "Epoch 5/15\n",
            "\u001b[1m6442/6442\u001b[0m \u001b[32m━━━━━━━━━━━━━━━━━━━━\u001b[0m\u001b[37m\u001b[0m \u001b[1m43s\u001b[0m 6ms/step - accuracy: 0.3612 - loss: 52.7069\n",
            "Epoch 6/15\n",
            "\u001b[1m6442/6442\u001b[0m \u001b[32m━━━━━━━━━━━━━━━━━━━━\u001b[0m\u001b[37m\u001b[0m \u001b[1m37s\u001b[0m 5ms/step - accuracy: 0.3629 - loss: 57.8570\n",
            "Epoch 7/15\n",
            "\u001b[1m6442/6442\u001b[0m \u001b[32m━━━━━━━━━━━━━━━━━━━━\u001b[0m\u001b[37m\u001b[0m \u001b[1m35s\u001b[0m 5ms/step - accuracy: 0.3623 - loss: 6.8867\n",
            "Epoch 8/15\n",
            "\u001b[1m6442/6442\u001b[0m \u001b[32m━━━━━━━━━━━━━━━━━━━━\u001b[0m\u001b[37m\u001b[0m \u001b[1m39s\u001b[0m 5ms/step - accuracy: 0.3606 - loss: 1.6866\n",
            "Epoch 9/15\n",
            "\u001b[1m6442/6442\u001b[0m \u001b[32m━━━━━━━━━━━━━━━━━━━━\u001b[0m\u001b[37m\u001b[0m \u001b[1m38s\u001b[0m 6ms/step - accuracy: 0.3634 - loss: 2.5141\n",
            "Epoch 10/15\n",
            "\u001b[1m6442/6442\u001b[0m \u001b[32m━━━━━━━━━━━━━━━━━━━━\u001b[0m\u001b[37m\u001b[0m \u001b[1m38s\u001b[0m 5ms/step - accuracy: 0.3617 - loss: 1.9076\n",
            "Epoch 11/15\n",
            "\u001b[1m6442/6442\u001b[0m \u001b[32m━━━━━━━━━━━━━━━━━━━━\u001b[0m\u001b[37m\u001b[0m \u001b[1m41s\u001b[0m 5ms/step - accuracy: 0.3605 - loss: 25.1140\n",
            "Epoch 12/15\n",
            "\u001b[1m6442/6442\u001b[0m \u001b[32m━━━━━━━━━━━━━━━━━━━━\u001b[0m\u001b[37m\u001b[0m \u001b[1m40s\u001b[0m 5ms/step - accuracy: 0.3624 - loss: 15.7474\n",
            "Epoch 13/15\n",
            "\u001b[1m6442/6442\u001b[0m \u001b[32m━━━━━━━━━━━━━━━━━━━━\u001b[0m\u001b[37m\u001b[0m \u001b[1m38s\u001b[0m 6ms/step - accuracy: 0.3612 - loss: 27.8110\n",
            "Epoch 14/15\n",
            "\u001b[1m6442/6442\u001b[0m \u001b[32m━━━━━━━━━━━━━━━━━━━━\u001b[0m\u001b[37m\u001b[0m \u001b[1m36s\u001b[0m 5ms/step - accuracy: 0.3608 - loss: 3.3648\n",
            "Epoch 15/15\n",
            "\u001b[1m6442/6442\u001b[0m \u001b[32m━━━━━━━━━━━━━━━━━━━━\u001b[0m\u001b[37m\u001b[0m \u001b[1m41s\u001b[0m 5ms/step - accuracy: 0.3614 - loss: 1.6885\n"
          ]
        }
      ]
    },
    {
      "cell_type": "code",
      "source": [
        "# Combine original and adversarial data\n",
        "X_train_combined = np.concatenate((X_train_lstm, X_train_fgsm, X_train_pgd), axis=0)\n",
        "y_train_combined = np.concatenate((y_train_onehot, y_train_onehot, y_train_onehot), axis=0)\n",
        "\n",
        "# Train Bi-LSTM on combined data\n",
        "lstm_model.fit(X_train_combined, y_train_combined, epochs=15, batch_size=32, verbose=1)\n",
        "\n",
        "# Evaluate Bi-LSTM\n",
        "lstm_pred = lstm_model.predict(X_test_lstm)\n",
        "lstm_pred_classes = np.argmax(lstm_pred, axis=1)\n",
        "lstm_acc = accuracy_score(y_test, lstm_pred_classes)\n",
        "print(\"Bi-LSTM Accuracy with Adversarial Training:\", lstm_acc)\n",
        "print(classification_report(y_test, lstm_pred_classes))"
      ],
      "metadata": {
        "id": "h_cnkXzH2UWE",
        "outputId": "947f928c-6923-4449-e822-54827a08dd85",
        "colab": {
          "base_uri": "https://localhost:8080/"
        }
      },
      "execution_count": 14,
      "outputs": [
        {
          "output_type": "stream",
          "name": "stdout",
          "text": [
            "Epoch 1/15\n",
            "\u001b[1m19326/19326\u001b[0m \u001b[32m━━━━━━━━━━━━━━━━━━━━\u001b[0m\u001b[37m\u001b[0m \u001b[1m109s\u001b[0m 6ms/step - accuracy: 0.3615 - loss: 1.6874\n",
            "Epoch 2/15\n",
            "\u001b[1m19326/19326\u001b[0m \u001b[32m━━━━━━━━━━━━━━━━━━━━\u001b[0m\u001b[37m\u001b[0m \u001b[1m100s\u001b[0m 5ms/step - accuracy: 0.3615 - loss: 1.6896\n",
            "Epoch 3/15\n",
            "\u001b[1m19326/19326\u001b[0m \u001b[32m━━━━━━━━━━━━━━━━━━━━\u001b[0m\u001b[37m\u001b[0m \u001b[1m143s\u001b[0m 5ms/step - accuracy: 0.3631 - loss: 1.7164\n",
            "Epoch 4/15\n",
            "\u001b[1m19326/19326\u001b[0m \u001b[32m━━━━━━━━━━━━━━━━━━━━\u001b[0m\u001b[37m\u001b[0m \u001b[1m145s\u001b[0m 5ms/step - accuracy: 0.3614 - loss: 1.6885\n",
            "Epoch 5/15\n",
            "\u001b[1m19326/19326\u001b[0m \u001b[32m━━━━━━━━━━━━━━━━━━━━\u001b[0m\u001b[37m\u001b[0m \u001b[1m140s\u001b[0m 5ms/step - accuracy: 0.3629 - loss: 1.6863\n",
            "Epoch 6/15\n",
            "\u001b[1m19326/19326\u001b[0m \u001b[32m━━━━━━━━━━━━━━━━━━━━\u001b[0m\u001b[37m\u001b[0m \u001b[1m142s\u001b[0m 5ms/step - accuracy: 0.3604 - loss: 1.7205\n",
            "Epoch 7/15\n",
            "\u001b[1m19326/19326\u001b[0m \u001b[32m━━━━━━━━━━━━━━━━━━━━\u001b[0m\u001b[37m\u001b[0m \u001b[1m146s\u001b[0m 5ms/step - accuracy: 0.3619 - loss: 1.6906\n",
            "Epoch 8/15\n",
            "\u001b[1m19326/19326\u001b[0m \u001b[32m━━━━━━━━━━━━━━━━━━━━\u001b[0m\u001b[37m\u001b[0m \u001b[1m142s\u001b[0m 5ms/step - accuracy: 0.3625 - loss: 1.7899\n",
            "Epoch 9/15\n",
            "\u001b[1m19326/19326\u001b[0m \u001b[32m━━━━━━━━━━━━━━━━━━━━\u001b[0m\u001b[37m\u001b[0m \u001b[1m141s\u001b[0m 5ms/step - accuracy: 0.3622 - loss: 1.9016\n",
            "Epoch 10/15\n",
            "\u001b[1m19326/19326\u001b[0m \u001b[32m━━━━━━━━━━━━━━━━━━━━\u001b[0m\u001b[37m\u001b[0m \u001b[1m144s\u001b[0m 6ms/step - accuracy: 0.3619 - loss: 2.3338\n",
            "Epoch 11/15\n",
            "\u001b[1m19326/19326\u001b[0m \u001b[32m━━━━━━━━━━━━━━━━━━━━\u001b[0m\u001b[37m\u001b[0m \u001b[1m106s\u001b[0m 5ms/step - accuracy: 0.3612 - loss: 2.3709\n",
            "Epoch 12/15\n",
            "\u001b[1m19326/19326\u001b[0m \u001b[32m━━━━━━━━━━━━━━━━━━━━\u001b[0m\u001b[37m\u001b[0m \u001b[1m106s\u001b[0m 5ms/step - accuracy: 0.3613 - loss: 1.7717\n",
            "Epoch 13/15\n",
            "\u001b[1m19326/19326\u001b[0m \u001b[32m━━━━━━━━━━━━━━━━━━━━\u001b[0m\u001b[37m\u001b[0m \u001b[1m144s\u001b[0m 6ms/step - accuracy: 0.3627 - loss: 1.6874\n",
            "Epoch 14/15\n",
            "\u001b[1m19326/19326\u001b[0m \u001b[32m━━━━━━━━━━━━━━━━━━━━\u001b[0m\u001b[37m\u001b[0m \u001b[1m135s\u001b[0m 5ms/step - accuracy: 0.3611 - loss: 1.6955\n",
            "Epoch 15/15\n",
            "\u001b[1m19326/19326\u001b[0m \u001b[32m━━━━━━━━━━━━━━━━━━━━\u001b[0m\u001b[37m\u001b[0m \u001b[1m144s\u001b[0m 5ms/step - accuracy: 0.3608 - loss: 1.6921\n",
            "\u001b[1m1611/1611\u001b[0m \u001b[32m━━━━━━━━━━━━━━━━━━━━\u001b[0m\u001b[37m\u001b[0m \u001b[1m4s\u001b[0m 2ms/step\n",
            "Bi-LSTM Accuracy with Adversarial Training: 0.3568448627146599\n",
            "              precision    recall  f1-score   support\n",
            "\n",
            "           0       0.36      1.00      0.53     18390\n",
            "           1       0.00      0.00      0.00       555\n",
            "           2       0.00      0.00      0.00       468\n",
            "           3       0.00      0.00      0.00      3403\n",
            "           4       0.00      0.00      0.00      9040\n",
            "           5       0.00      0.00      0.00      4949\n",
            "           6       0.00      0.00      0.00     11630\n",
            "           7       0.00      0.00      0.00      2749\n",
            "           8       0.00      0.00      0.00       317\n",
            "           9       0.00      0.00      0.00        34\n",
            "\n",
            "    accuracy                           0.36     51535\n",
            "   macro avg       0.04      0.10      0.05     51535\n",
            "weighted avg       0.13      0.36      0.19     51535\n",
            "\n"
          ]
        },
        {
          "output_type": "stream",
          "name": "stderr",
          "text": [
            "/usr/local/lib/python3.10/dist-packages/sklearn/metrics/_classification.py:1531: UndefinedMetricWarning: Precision is ill-defined and being set to 0.0 in labels with no predicted samples. Use `zero_division` parameter to control this behavior.\n",
            "  _warn_prf(average, modifier, f\"{metric.capitalize()} is\", len(result))\n",
            "/usr/local/lib/python3.10/dist-packages/sklearn/metrics/_classification.py:1531: UndefinedMetricWarning: Precision is ill-defined and being set to 0.0 in labels with no predicted samples. Use `zero_division` parameter to control this behavior.\n",
            "  _warn_prf(average, modifier, f\"{metric.capitalize()} is\", len(result))\n",
            "/usr/local/lib/python3.10/dist-packages/sklearn/metrics/_classification.py:1531: UndefinedMetricWarning: Precision is ill-defined and being set to 0.0 in labels with no predicted samples. Use `zero_division` parameter to control this behavior.\n",
            "  _warn_prf(average, modifier, f\"{metric.capitalize()} is\", len(result))\n"
          ]
        }
      ]
    },
    {
      "cell_type": "code",
      "source": [
        "# Combine predictions from LR and Bi-LSTM\n",
        "lr_probs = lr_model.predict_proba(X_test)\n",
        "lstm_probs = lstm_model.predict(X_test_lstm)\n",
        "combined_probs = (lr_probs + lstm_probs) / 2\n",
        "combined_pred = np.argmax(combined_probs, axis=1)\n",
        "combined_acc = accuracy_score(y_test, combined_pred)\n",
        "print(\"Combined Model Accuracy:\", combined_acc)\n",
        "print(classification_report(y_test, combined_pred))"
      ],
      "metadata": {
        "id": "9CywiJs1xg2l",
        "outputId": "fc7cf0eb-e4f3-4a5e-b680-9c4353dcd245",
        "colab": {
          "base_uri": "https://localhost:8080/"
        }
      },
      "execution_count": 15,
      "outputs": [
        {
          "output_type": "stream",
          "name": "stdout",
          "text": [
            "\u001b[1m1611/1611\u001b[0m \u001b[32m━━━━━━━━━━━━━━━━━━━━\u001b[0m\u001b[37m\u001b[0m \u001b[1m3s\u001b[0m 2ms/step\n",
            "Combined Model Accuracy: 0.3583778014941302\n",
            "              precision    recall  f1-score   support\n",
            "\n",
            "           0       0.36      0.98      0.53     18390\n",
            "           1       0.00      0.00      0.00       555\n",
            "           2       0.00      0.00      0.00       468\n",
            "           3       0.00      0.00      0.00      3403\n",
            "           4       0.00      0.00      0.00      9040\n",
            "           5       0.00      0.00      0.00      4949\n",
            "           6       0.28      0.04      0.07     11630\n",
            "           7       0.00      0.00      0.00      2749\n",
            "           8       0.00      0.00      0.00       317\n",
            "           9       0.00      0.00      0.00        34\n",
            "\n",
            "    accuracy                           0.36     51535\n",
            "   macro avg       0.06      0.10      0.06     51535\n",
            "weighted avg       0.19      0.36      0.20     51535\n",
            "\n"
          ]
        },
        {
          "output_type": "stream",
          "name": "stderr",
          "text": [
            "/usr/local/lib/python3.10/dist-packages/sklearn/metrics/_classification.py:1531: UndefinedMetricWarning: Precision is ill-defined and being set to 0.0 in labels with no predicted samples. Use `zero_division` parameter to control this behavior.\n",
            "  _warn_prf(average, modifier, f\"{metric.capitalize()} is\", len(result))\n",
            "/usr/local/lib/python3.10/dist-packages/sklearn/metrics/_classification.py:1531: UndefinedMetricWarning: Precision is ill-defined and being set to 0.0 in labels with no predicted samples. Use `zero_division` parameter to control this behavior.\n",
            "  _warn_prf(average, modifier, f\"{metric.capitalize()} is\", len(result))\n",
            "/usr/local/lib/python3.10/dist-packages/sklearn/metrics/_classification.py:1531: UndefinedMetricWarning: Precision is ill-defined and being set to 0.0 in labels with no predicted samples. Use `zero_division` parameter to control this behavior.\n",
            "  _warn_prf(average, modifier, f\"{metric.capitalize()} is\", len(result))\n"
          ]
        }
      ]
    },
    {
      "cell_type": "code",
      "source": [],
      "metadata": {
        "id": "DND_wQ6Zxgzl"
      },
      "execution_count": null,
      "outputs": []
    },
    {
      "cell_type": "code",
      "source": [],
      "metadata": {
        "id": "aVbdSKb3-r4u"
      },
      "execution_count": null,
      "outputs": []
    },
    {
      "cell_type": "code",
      "source": [
        "import numpy as np\n",
        "import matplotlib.pyplot as plt\n",
        "from sklearn.metrics import accuracy_score, precision_score, recall_score, f1_score, confusion_matrix, classification_report\n",
        "import seaborn as sns\n",
        "\n",
        "# Calculate metrics\n",
        "y_true = np.argmax(y_test, axis=1)  # True labels\n",
        "y_pred = test_bi_lstm_predictions_classes  # Predicted labels\n",
        "\n",
        "# Accuracy, Precision, Recall, F1-Score (weighted and per class)\n",
        "accuracy = accuracy_score(y_true, y_pred)\n",
        "precision = precision_score(y_true, y_pred, average=None)\n",
        "recall = recall_score(y_true, y_pred, average=None)\n",
        "f1 = f1_score(y_true, y_pred, average=None)\n",
        "\n",
        "# Print metrics for each class\n",
        "print(f\"Accuracy: {accuracy:.20f}\")\n",
        "for i in range(len(precision)):\n",
        "    print(f\"Class {i}:\")\n",
        "    print(f\"  Precision: {precision[i]:.20f}\")\n",
        "    print(f\"  Recall:    {recall[i]:.20f}\")\n",
        "    print(f\"  F1-Score:  {f1[i]:.20f}\")"
      ],
      "metadata": {
        "colab": {
          "base_uri": "https://localhost:8080/",
          "height": 356
        },
        "id": "97FHFJ9-jzbQ",
        "outputId": "d5c53e49-4d18-4f3b-c269-28ebcdc9db66"
      },
      "execution_count": 16,
      "outputs": [
        {
          "output_type": "error",
          "ename": "AxisError",
          "evalue": "axis 1 is out of bounds for array of dimension 1",
          "traceback": [
            "\u001b[0;31m---------------------------------------------------------------------------\u001b[0m",
            "\u001b[0;31mAxisError\u001b[0m                                 Traceback (most recent call last)",
            "\u001b[0;32m<ipython-input-16-e21d44afe502>\u001b[0m in \u001b[0;36m<cell line: 7>\u001b[0;34m()\u001b[0m\n\u001b[1;32m      5\u001b[0m \u001b[0;34m\u001b[0m\u001b[0m\n\u001b[1;32m      6\u001b[0m \u001b[0;31m# Calculate metrics\u001b[0m\u001b[0;34m\u001b[0m\u001b[0;34m\u001b[0m\u001b[0m\n\u001b[0;32m----> 7\u001b[0;31m \u001b[0my_true\u001b[0m \u001b[0;34m=\u001b[0m \u001b[0mnp\u001b[0m\u001b[0;34m.\u001b[0m\u001b[0margmax\u001b[0m\u001b[0;34m(\u001b[0m\u001b[0my_test\u001b[0m\u001b[0;34m,\u001b[0m \u001b[0maxis\u001b[0m\u001b[0;34m=\u001b[0m\u001b[0;36m1\u001b[0m\u001b[0;34m)\u001b[0m  \u001b[0;31m# True labels\u001b[0m\u001b[0;34m\u001b[0m\u001b[0;34m\u001b[0m\u001b[0m\n\u001b[0m\u001b[1;32m      8\u001b[0m \u001b[0my_pred\u001b[0m \u001b[0;34m=\u001b[0m \u001b[0mtest_bi_lstm_predictions_classes\u001b[0m  \u001b[0;31m# Predicted labels\u001b[0m\u001b[0;34m\u001b[0m\u001b[0;34m\u001b[0m\u001b[0m\n\u001b[1;32m      9\u001b[0m \u001b[0;34m\u001b[0m\u001b[0m\n",
            "\u001b[0;32m/usr/local/lib/python3.10/dist-packages/numpy/core/fromnumeric.py\u001b[0m in \u001b[0;36margmax\u001b[0;34m(a, axis, out, keepdims)\u001b[0m\n\u001b[1;32m   1227\u001b[0m     \"\"\"\n\u001b[1;32m   1228\u001b[0m     \u001b[0mkwds\u001b[0m \u001b[0;34m=\u001b[0m \u001b[0;34m{\u001b[0m\u001b[0;34m'keepdims'\u001b[0m\u001b[0;34m:\u001b[0m \u001b[0mkeepdims\u001b[0m\u001b[0;34m}\u001b[0m \u001b[0;32mif\u001b[0m \u001b[0mkeepdims\u001b[0m \u001b[0;32mis\u001b[0m \u001b[0;32mnot\u001b[0m \u001b[0mnp\u001b[0m\u001b[0;34m.\u001b[0m\u001b[0m_NoValue\u001b[0m \u001b[0;32melse\u001b[0m \u001b[0;34m{\u001b[0m\u001b[0;34m}\u001b[0m\u001b[0;34m\u001b[0m\u001b[0;34m\u001b[0m\u001b[0m\n\u001b[0;32m-> 1229\u001b[0;31m     \u001b[0;32mreturn\u001b[0m \u001b[0m_wrapfunc\u001b[0m\u001b[0;34m(\u001b[0m\u001b[0ma\u001b[0m\u001b[0;34m,\u001b[0m \u001b[0;34m'argmax'\u001b[0m\u001b[0;34m,\u001b[0m \u001b[0maxis\u001b[0m\u001b[0;34m=\u001b[0m\u001b[0maxis\u001b[0m\u001b[0;34m,\u001b[0m \u001b[0mout\u001b[0m\u001b[0;34m=\u001b[0m\u001b[0mout\u001b[0m\u001b[0;34m,\u001b[0m \u001b[0;34m**\u001b[0m\u001b[0mkwds\u001b[0m\u001b[0;34m)\u001b[0m\u001b[0;34m\u001b[0m\u001b[0;34m\u001b[0m\u001b[0m\n\u001b[0m\u001b[1;32m   1230\u001b[0m \u001b[0;34m\u001b[0m\u001b[0m\n\u001b[1;32m   1231\u001b[0m \u001b[0;34m\u001b[0m\u001b[0m\n",
            "\u001b[0;32m/usr/local/lib/python3.10/dist-packages/numpy/core/fromnumeric.py\u001b[0m in \u001b[0;36m_wrapfunc\u001b[0;34m(obj, method, *args, **kwds)\u001b[0m\n\u001b[1;32m     57\u001b[0m \u001b[0;34m\u001b[0m\u001b[0m\n\u001b[1;32m     58\u001b[0m     \u001b[0;32mtry\u001b[0m\u001b[0;34m:\u001b[0m\u001b[0;34m\u001b[0m\u001b[0;34m\u001b[0m\u001b[0m\n\u001b[0;32m---> 59\u001b[0;31m         \u001b[0;32mreturn\u001b[0m \u001b[0mbound\u001b[0m\u001b[0;34m(\u001b[0m\u001b[0;34m*\u001b[0m\u001b[0margs\u001b[0m\u001b[0;34m,\u001b[0m \u001b[0;34m**\u001b[0m\u001b[0mkwds\u001b[0m\u001b[0;34m)\u001b[0m\u001b[0;34m\u001b[0m\u001b[0;34m\u001b[0m\u001b[0m\n\u001b[0m\u001b[1;32m     60\u001b[0m     \u001b[0;32mexcept\u001b[0m \u001b[0mTypeError\u001b[0m\u001b[0;34m:\u001b[0m\u001b[0;34m\u001b[0m\u001b[0;34m\u001b[0m\u001b[0m\n\u001b[1;32m     61\u001b[0m         \u001b[0;31m# A TypeError occurs if the object does have such a method in its\u001b[0m\u001b[0;34m\u001b[0m\u001b[0;34m\u001b[0m\u001b[0m\n",
            "\u001b[0;31mAxisError\u001b[0m: axis 1 is out of bounds for array of dimension 1"
          ]
        }
      ]
    },
    {
      "cell_type": "code",
      "source": [
        "# Classification report\n",
        "print(\"\\nClassification Report:\\n\")\n",
        "print(classification_report(y_true, y_pred, digits=8))\n",
        "\n",
        "# Confusion Matrix\n",
        "conf_matrix = confusion_matrix(y_true, y_pred)\n",
        "\n",
        "# Display confusion matrix as text\n",
        "print(\"\\nConfusion Matrix:\\n\")\n",
        "print(conf_matrix)"
      ],
      "metadata": {
        "id": "GXN4UjpUjzVK"
      },
      "execution_count": null,
      "outputs": []
    },
    {
      "cell_type": "code",
      "source": [
        "# Plot confusion matrix as heatmap\n",
        "plt.figure(figsize=(10, 8))\n",
        "sns.heatmap(conf_matrix, annot=True, fmt='d', cmap='Blues', xticklabels=range(conf_matrix.shape[0]), yticklabels=range(conf_matrix.shape[0]))\n",
        "plt.xlabel('Predicted Class')\n",
        "plt.ylabel('True Class')\n",
        "plt.title('Confusion Matrix Heatmap')\n",
        "plt.show()"
      ],
      "metadata": {
        "id": "IYCrpoO4jzK6"
      },
      "execution_count": null,
      "outputs": []
    }
  ]
}