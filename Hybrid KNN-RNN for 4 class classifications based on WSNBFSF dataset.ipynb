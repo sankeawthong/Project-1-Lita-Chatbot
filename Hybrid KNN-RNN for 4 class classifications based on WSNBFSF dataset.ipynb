{
  "nbformat": 4,
  "nbformat_minor": 0,
  "metadata": {
    "colab": {
      "provenance": [],
      "authorship_tag": "ABX9TyM4uRXoVfc61X/fSZdbM2YH",
      "include_colab_link": true
    },
    "kernelspec": {
      "name": "python3",
      "display_name": "Python 3"
    },
    "language_info": {
      "name": "python"
    }
  },
  "cells": [
    {
      "cell_type": "markdown",
      "metadata": {
        "id": "view-in-github",
        "colab_type": "text"
      },
      "source": [
        "<a href=\"https://colab.research.google.com/github/sankeawthong/Project-1-Lita-Chatbot/blob/main/Hybrid%20KNN-RNN%20for%204%20class%20classifications%20based%20on%20WSNBFSF%20dataset.ipynb\" target=\"_parent\"><img src=\"https://colab.research.google.com/assets/colab-badge.svg\" alt=\"Open In Colab\"/></a>"
      ]
    },
    {
      "cell_type": "markdown",
      "source": [
        "### **Hybrid KNN-RNN for 4 class classifications based on WSNBFSF dataset**"
      ],
      "metadata": {
        "id": "wu0dKtKYH6gn"
      }
    },
    {
      "cell_type": "code",
      "execution_count": 1,
      "metadata": {
        "id": "QHcwZv32Hx_k"
      },
      "outputs": [],
      "source": [
        "import pandas as pd\n",
        "import numpy as np\n",
        "from sklearn.model_selection import train_test_split\n",
        "from sklearn.preprocessing import LabelEncoder\n",
        "from sklearn.neighbors import KNeighborsClassifier\n",
        "from keras.models import Sequential\n",
        "from keras.layers import LSTM, Dense\n",
        "from keras.utils import to_categorical\n",
        "from sklearn.metrics import classification_report, confusion_matrix\n",
        "from imblearn.over_sampling import SMOTE"
      ]
    },
    {
      "cell_type": "code",
      "source": [
        "# Load the dataset\n",
        "dataset = pd.read_csv(\"dataset.csv\")\n",
        "\n",
        "# Check for missing values\n",
        "dataset.isnull().sum()"
      ],
      "metadata": {
        "colab": {
          "base_uri": "https://localhost:8080/"
        },
        "id": "fexRJeZQIEVZ",
        "outputId": "1afad8e3-b4f3-417b-b324-c88217e2b2cc"
      },
      "execution_count": 2,
      "outputs": [
        {
          "output_type": "execute_result",
          "data": {
            "text/plain": [
              "Event             0\n",
              "Time              0\n",
              "S_Node            0\n",
              "Node_id           0\n",
              "Rest_Energy       0\n",
              "Trace_Level       0\n",
              "Mac_Type_Pckt     0\n",
              "Source_IP_Port    0\n",
              "Des_IP_Port       0\n",
              "Packet_Size       0\n",
              "TTL               0\n",
              "Hop_Count         0\n",
              "Broadcast_ID      0\n",
              "Dest_Node_Num     0\n",
              "Dest_Seq_Num      0\n",
              "Src_Node_ID       0\n",
              "Src_Seq_Num       0\n",
              "Class             0\n",
              "dtype: int64"
            ]
          },
          "metadata": {},
          "execution_count": 2
        }
      ]
    },
    {
      "cell_type": "code",
      "source": [
        "dataset.info()"
      ],
      "metadata": {
        "colab": {
          "base_uri": "https://localhost:8080/"
        },
        "id": "vs9minr9IFzu",
        "outputId": "95bfec51-c527-4bd8-9b40-0fb26976a2ec"
      },
      "execution_count": 3,
      "outputs": [
        {
          "output_type": "stream",
          "name": "stdout",
          "text": [
            "<class 'pandas.core.frame.DataFrame'>\n",
            "RangeIndex: 312106 entries, 0 to 312105\n",
            "Data columns (total 18 columns):\n",
            " #   Column          Non-Null Count   Dtype  \n",
            "---  ------          --------------   -----  \n",
            " 0   Event           312106 non-null  int64  \n",
            " 1   Time            312106 non-null  float64\n",
            " 2   S_Node          312106 non-null  int64  \n",
            " 3   Node_id         312106 non-null  int64  \n",
            " 4   Rest_Energy     312106 non-null  float64\n",
            " 5   Trace_Level     312106 non-null  int64  \n",
            " 6   Mac_Type_Pckt   312106 non-null  int64  \n",
            " 7   Source_IP_Port  312106 non-null  float64\n",
            " 8   Des_IP_Port     312106 non-null  float64\n",
            " 9   Packet_Size     312106 non-null  int64  \n",
            " 10  TTL             312106 non-null  int64  \n",
            " 11  Hop_Count       312106 non-null  int64  \n",
            " 12  Broadcast_ID    312106 non-null  int64  \n",
            " 13  Dest_Node_Num   312106 non-null  int64  \n",
            " 14  Dest_Seq_Num    312106 non-null  int64  \n",
            " 15  Src_Node_ID     312106 non-null  int64  \n",
            " 16  Src_Seq_Num     312106 non-null  int64  \n",
            " 17  Class           312106 non-null  int64  \n",
            "dtypes: float64(4), int64(14)\n",
            "memory usage: 42.9 MB\n"
          ]
        }
      ]
    },
    {
      "cell_type": "markdown",
      "source": [
        "### **Data Preprocessing**"
      ],
      "metadata": {
        "id": "5Gj6cV2IImAR"
      }
    },
    {
      "cell_type": "code",
      "source": [
        "from keras.utils import np_utils\n",
        "encoder = LabelEncoder()\n",
        "y = encoder.fit_transform(dataset['Class'])\n",
        "y = np_utils.to_categorical(y, num_classes=4)\n",
        "X = dataset.drop(['Class'],axis=1)\n",
        "X=X.values\n",
        "print(X.shape)\n",
        "print(y.shape)"
      ],
      "metadata": {
        "colab": {
          "base_uri": "https://localhost:8080/"
        },
        "id": "iRGySr-hIG_0",
        "outputId": "12a93743-edb2-4e66-8569-aa72f654f5d3"
      },
      "execution_count": 4,
      "outputs": [
        {
          "output_type": "stream",
          "name": "stdout",
          "text": [
            "(312106, 17)\n",
            "(312106, 4)\n"
          ]
        }
      ]
    },
    {
      "cell_type": "code",
      "source": [
        "# Data preprocessing\n",
        "from imblearn.over_sampling import SMOTE\n",
        "oversample = SMOTE()\n",
        "X, y = oversample.fit_resample(X, y)"
      ],
      "metadata": {
        "id": "MnKdtedPINLH"
      },
      "execution_count": 5,
      "outputs": []
    },
    {
      "cell_type": "code",
      "source": [
        "X_train, X_test, y_train, y_test = train_test_split(X, y, test_size=0.2, random_state=101)"
      ],
      "metadata": {
        "id": "gTH-yTaVIOTj"
      },
      "execution_count": 6,
      "outputs": []
    },
    {
      "cell_type": "markdown",
      "source": [
        "**Hybrid KNN-RNN for 4 Class**"
      ],
      "metadata": {
        "id": "fIIJVUiTIyxO"
      }
    },
    {
      "cell_type": "code",
      "source": [
        "# K-Nearest Neighbors model\n",
        "knn = KNeighborsClassifier(n_neighbors=4)\n",
        "knn.fit(X_train, y_train)"
      ],
      "metadata": {
        "colab": {
          "base_uri": "https://localhost:8080/",
          "height": 75
        },
        "id": "Rw5FpExEJ_4B",
        "outputId": "eb3e0932-8e5d-447e-edf1-758ce7bd5ef4"
      },
      "execution_count": 7,
      "outputs": [
        {
          "output_type": "execute_result",
          "data": {
            "text/plain": [
              "KNeighborsClassifier(n_neighbors=4)"
            ],
            "text/html": [
              "<style>#sk-container-id-1 {color: black;background-color: white;}#sk-container-id-1 pre{padding: 0;}#sk-container-id-1 div.sk-toggleable {background-color: white;}#sk-container-id-1 label.sk-toggleable__label {cursor: pointer;display: block;width: 100%;margin-bottom: 0;padding: 0.3em;box-sizing: border-box;text-align: center;}#sk-container-id-1 label.sk-toggleable__label-arrow:before {content: \"▸\";float: left;margin-right: 0.25em;color: #696969;}#sk-container-id-1 label.sk-toggleable__label-arrow:hover:before {color: black;}#sk-container-id-1 div.sk-estimator:hover label.sk-toggleable__label-arrow:before {color: black;}#sk-container-id-1 div.sk-toggleable__content {max-height: 0;max-width: 0;overflow: hidden;text-align: left;background-color: #f0f8ff;}#sk-container-id-1 div.sk-toggleable__content pre {margin: 0.2em;color: black;border-radius: 0.25em;background-color: #f0f8ff;}#sk-container-id-1 input.sk-toggleable__control:checked~div.sk-toggleable__content {max-height: 200px;max-width: 100%;overflow: auto;}#sk-container-id-1 input.sk-toggleable__control:checked~label.sk-toggleable__label-arrow:before {content: \"▾\";}#sk-container-id-1 div.sk-estimator input.sk-toggleable__control:checked~label.sk-toggleable__label {background-color: #d4ebff;}#sk-container-id-1 div.sk-label input.sk-toggleable__control:checked~label.sk-toggleable__label {background-color: #d4ebff;}#sk-container-id-1 input.sk-hidden--visually {border: 0;clip: rect(1px 1px 1px 1px);clip: rect(1px, 1px, 1px, 1px);height: 1px;margin: -1px;overflow: hidden;padding: 0;position: absolute;width: 1px;}#sk-container-id-1 div.sk-estimator {font-family: monospace;background-color: #f0f8ff;border: 1px dotted black;border-radius: 0.25em;box-sizing: border-box;margin-bottom: 0.5em;}#sk-container-id-1 div.sk-estimator:hover {background-color: #d4ebff;}#sk-container-id-1 div.sk-parallel-item::after {content: \"\";width: 100%;border-bottom: 1px solid gray;flex-grow: 1;}#sk-container-id-1 div.sk-label:hover label.sk-toggleable__label {background-color: #d4ebff;}#sk-container-id-1 div.sk-serial::before {content: \"\";position: absolute;border-left: 1px solid gray;box-sizing: border-box;top: 0;bottom: 0;left: 50%;z-index: 0;}#sk-container-id-1 div.sk-serial {display: flex;flex-direction: column;align-items: center;background-color: white;padding-right: 0.2em;padding-left: 0.2em;position: relative;}#sk-container-id-1 div.sk-item {position: relative;z-index: 1;}#sk-container-id-1 div.sk-parallel {display: flex;align-items: stretch;justify-content: center;background-color: white;position: relative;}#sk-container-id-1 div.sk-item::before, #sk-container-id-1 div.sk-parallel-item::before {content: \"\";position: absolute;border-left: 1px solid gray;box-sizing: border-box;top: 0;bottom: 0;left: 50%;z-index: -1;}#sk-container-id-1 div.sk-parallel-item {display: flex;flex-direction: column;z-index: 1;position: relative;background-color: white;}#sk-container-id-1 div.sk-parallel-item:first-child::after {align-self: flex-end;width: 50%;}#sk-container-id-1 div.sk-parallel-item:last-child::after {align-self: flex-start;width: 50%;}#sk-container-id-1 div.sk-parallel-item:only-child::after {width: 0;}#sk-container-id-1 div.sk-dashed-wrapped {border: 1px dashed gray;margin: 0 0.4em 0.5em 0.4em;box-sizing: border-box;padding-bottom: 0.4em;background-color: white;}#sk-container-id-1 div.sk-label label {font-family: monospace;font-weight: bold;display: inline-block;line-height: 1.2em;}#sk-container-id-1 div.sk-label-container {text-align: center;}#sk-container-id-1 div.sk-container {/* jupyter's `normalize.less` sets `[hidden] { display: none; }` but bootstrap.min.css set `[hidden] { display: none !important; }` so we also need the `!important` here to be able to override the default hidden behavior on the sphinx rendered scikit-learn.org. See: https://github.com/scikit-learn/scikit-learn/issues/21755 */display: inline-block !important;position: relative;}#sk-container-id-1 div.sk-text-repr-fallback {display: none;}</style><div id=\"sk-container-id-1\" class=\"sk-top-container\"><div class=\"sk-text-repr-fallback\"><pre>KNeighborsClassifier(n_neighbors=4)</pre><b>In a Jupyter environment, please rerun this cell to show the HTML representation or trust the notebook. <br />On GitHub, the HTML representation is unable to render, please try loading this page with nbviewer.org.</b></div><div class=\"sk-container\" hidden><div class=\"sk-item\"><div class=\"sk-estimator sk-toggleable\"><input class=\"sk-toggleable__control sk-hidden--visually\" id=\"sk-estimator-id-1\" type=\"checkbox\" checked><label for=\"sk-estimator-id-1\" class=\"sk-toggleable__label sk-toggleable__label-arrow\">KNeighborsClassifier</label><div class=\"sk-toggleable__content\"><pre>KNeighborsClassifier(n_neighbors=4)</pre></div></div></div></div></div>"
            ]
          },
          "metadata": {},
          "execution_count": 7
        }
      ]
    },
    {
      "cell_type": "code",
      "source": [
        "# RNN model\n",
        "model = Sequential()\n",
        "model.add(LSTM(64, activation='relu', input_shape=(X_train.shape[1], 1)))\n",
        "model.add(Dense(4, activation='softmax'))\n",
        "model.compile(loss='categorical_crossentropy', optimizer='adam', metrics=['accuracy'])\n",
        "model.fit(X_train.reshape(X_train.shape[0], X_train.shape[1], 1), y_train, epochs=10)\n",
        "\n",
        "# Predictions from K-NN model\n",
        "y_pred_knn = knn.predict(X_test)\n",
        "\n",
        "# Predictions from RNN model\n",
        "y_pred_rnn = model.predict(X_test.reshape(X_test.shape[0], X_test.shape[1], 1))\n",
        "y_pred_rnn = np.argmax(y_pred_rnn, axis=1)"
      ],
      "metadata": {
        "id": "4Tq7ZrmXKMT9",
        "colab": {
          "base_uri": "https://localhost:8080/"
        },
        "outputId": "65255525-5a0d-4e19-afae-284f28acae1b"
      },
      "execution_count": 8,
      "outputs": [
        {
          "output_type": "stream",
          "name": "stdout",
          "text": [
            "Epoch 1/10\n",
            "26286/26286 [==============================] - 230s 9ms/step - loss: 1.6489 - accuracy: 0.8519\n",
            "Epoch 2/10\n",
            "26286/26286 [==============================] - 228s 9ms/step - loss: 1.0528 - accuracy: 0.6230\n",
            "Epoch 3/10\n",
            "26286/26286 [==============================] - 225s 9ms/step - loss: 2.9595 - accuracy: 0.5163\n",
            "Epoch 4/10\n",
            "26286/26286 [==============================] - 234s 9ms/step - loss: 1.5158 - accuracy: 0.4537\n",
            "Epoch 5/10\n",
            "26286/26286 [==============================] - 229s 9ms/step - loss: 1.3608 - accuracy: 0.4392\n",
            "Epoch 6/10\n",
            "26286/26286 [==============================] - 222s 8ms/step - loss: 0.9743 - accuracy: 0.5611\n",
            "Epoch 7/10\n",
            "26286/26286 [==============================] - 225s 9ms/step - loss: 1.0329 - accuracy: 0.5259\n",
            "Epoch 8/10\n",
            "26286/26286 [==============================] - 227s 9ms/step - loss: 0.8064 - accuracy: 0.6429\n",
            "Epoch 9/10\n",
            "26286/26286 [==============================] - 224s 9ms/step - loss: 1.4341 - accuracy: 0.5177\n",
            "Epoch 10/10\n",
            "26286/26286 [==============================] - 223s 8ms/step - loss: 1.3655 - accuracy: 0.4817\n",
            "6572/6572 [==============================] - 22s 3ms/step\n"
          ]
        }
      ]
    },
    {
      "cell_type": "code",
      "source": [
        "# Combine predictions from K-NN and RNN models\n",
        "y_pred = (y_pred_knn + to_categorical(y_pred_rnn, num_classes=4)) // 2\n",
        "\n",
        "# Evaluation metrics\n",
        "print(\"Combined Model:\")\n",
        "print(classification_report(np.argmax(y_test, axis=1), np.argmax(y_pred, axis=1)))\n",
        "print(confusion_matrix(np.argmax(y_test, axis=1), np.argmax(y_pred, axis=1)))"
      ],
      "metadata": {
        "colab": {
          "base_uri": "https://localhost:8080/"
        },
        "id": "Y0phil7RII6e",
        "outputId": "4d6588e7-85b2-495f-fb4f-30ac971ddc0f"
      },
      "execution_count": 10,
      "outputs": [
        {
          "output_type": "stream",
          "name": "stdout",
          "text": [
            "Combined Model:\n",
            "              precision    recall  f1-score   support\n",
            "\n",
            "           0       0.46      0.98      0.63     52500\n",
            "           1       0.97      0.21      0.35     52554\n",
            "           2       0.98      0.65      0.78     52545\n",
            "           3       1.00      1.00      1.00     52682\n",
            "\n",
            "    accuracy                           0.71    210281\n",
            "   macro avg       0.86      0.71      0.69    210281\n",
            "weighted avg       0.86      0.71      0.69    210281\n",
            "\n",
            "[[51672   295   533     0]\n",
            " [41335 11194     0    25]\n",
            " [18393     0 34127    25]\n",
            " [  216     0     0 52466]]\n"
          ]
        }
      ]
    },
    {
      "cell_type": "code",
      "source": [
        "import seaborn as sns\n",
        "import matplotlib.pyplot as plt\n",
        "import numpy as np\n",
        "import itertools\n",
        "import seaborn as sns\n",
        "from sklearn import metrics \n",
        "import matplotlib.pyplot as plt\n",
        "from sklearn.metrics import confusion_matrix\n",
        "def conf_mat(d1,d2):\n",
        "  cm = confusion_matrix(d1, d2)\n",
        "  plt.figure(figsize=(6,5.5))\n",
        "  ax = sns.heatmap(cm,  fmt='2', annot=True, cmap='YlGnBu')\n",
        "  sns.set(font_scale=1)\n",
        "  ax.set_xlabel('\\nPredicted Values')\n",
        "  ax.set_ylabel('Actual Values\\n');\n",
        "  ax.xaxis.set_ticklabels(['Normal','Flooding','Blackhole','Forwarding'])\n",
        "  ax.yaxis.set_ticklabels(['Normal','Flooding','Blackhole','Forwarding'])\n",
        "  plt.tight_layout()\n",
        "  # plt.savefig(\"F1.eps\", format = 'eps')\n",
        "  plt.show()"
      ],
      "metadata": {
        "id": "A5UkUYfcIXrj"
      },
      "execution_count": 11,
      "outputs": []
    },
    {
      "cell_type": "code",
      "source": [
        "print(\"Confusion Matrix of Hybrid KNN-RNN Model\") \n",
        "conf_mat(np.argmax(y_test, axis=1), np.argmax(y_pred, axis=1))"
      ],
      "metadata": {
        "colab": {
          "base_uri": "https://localhost:8080/",
          "height": 568
        },
        "id": "GzA7DpzUIZ5n",
        "outputId": "7d5db84a-e0a1-4372-98fc-3ad5bb602963"
      },
      "execution_count": 12,
      "outputs": [
        {
          "output_type": "stream",
          "name": "stdout",
          "text": [
            "Confusion Matrix of Hybrid KNN-RNN Model\n"
          ]
        },
        {
          "output_type": "display_data",
          "data": {
            "text/plain": [
              "<Figure size 600x550 with 2 Axes>"
            ],
            "image/png": "[encoded data removed]"
          },
          "metadata": {}
        }
      ]
    },
    {
      "cell_type": "code",
      "source": [
        "report = classification_report(np.argmax(y_test, axis=1), np.argmax(y_pred, axis=1), output_dict=True)\n",
        "detection_rates = {}\n",
        "for cls in range(4):\n",
        "    detection_rates[encoder.inverse_transform([cls])[0]] = report[str(cls)]['recall']\n",
        "print(\"Detection rates:\", detection_rates)"
      ],
      "metadata": {
        "colab": {
          "base_uri": "https://localhost:8080/"
        },
        "id": "lyRnolSQIeMW",
        "outputId": "3d360901-08e4-4ddb-be53-3a4945af082a"
      },
      "execution_count": 13,
      "outputs": [
        {
          "output_type": "stream",
          "name": "stdout",
          "text": [
            "Detection rates: {0: 0.9842285714285715, 1: 0.2129999619439053, 2: 0.6494813968978971, 3: 0.9958999278691014}\n"
          ]
        }
      ]
    }
  ]
}