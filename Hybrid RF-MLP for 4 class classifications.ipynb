{
  "nbformat": 4,
  "nbformat_minor": 0,
  "metadata": {
    "colab": {
      "provenance": [],
      "authorship_tag": "ABX9TyOIq3Ek2jhmyzgp2c8SaZha",
      "include_colab_link": true
    },
    "kernelspec": {
      "name": "python3",
      "display_name": "Python 3"
    },
    "language_info": {
      "name": "python"
    }
  },
  "cells": [
    {
      "cell_type": "markdown",
      "metadata": {
        "id": "view-in-github",
        "colab_type": "text"
      },
      "source": [
        "<a href=\"https://colab.research.google.com/github/sankeawthong/Project-1-Lita-Chatbot/blob/main/Hybrid%20RF-MLP%20for%204%20class%20classifications.ipynb\" target=\"_parent\"><img src=\"https://colab.research.google.com/assets/colab-badge.svg\" alt=\"Open In Colab\"/></a>"
      ]
    },
    {
      "cell_type": "markdown",
      "source": [
        "### **Hybrid RF-MLP for 4 class classifications**"
      ],
      "metadata": {
        "id": "H4rTRZ7uFTRr"
      }
    },
    {
      "cell_type": "code",
      "execution_count": 1,
      "metadata": {
        "id": "0oQHh7DZ3RE9"
      },
      "outputs": [],
      "source": [
        "import pandas as pd\n",
        "import numpy as np\n",
        "import collections as c\n",
        "from sklearn.model_selection import train_test_split\n",
        "from sklearn.ensemble import RandomForestClassifier\n",
        "from sklearn.neural_network import MLPClassifier\n",
        "from imblearn.over_sampling import SMOTE"
      ]
    },
    {
      "cell_type": "code",
      "source": [
        "# Load dataset\n",
        "dataset = pd.read_csv(\"dataset.csv\")\n",
        "\n",
        "# Check for missing values\n",
        "dataset.isnull().sum()"
      ],
      "metadata": {
        "colab": {
          "base_uri": "https://localhost:8080/"
        },
        "id": "6RHB0sNa3bd6",
        "outputId": "afce9160-8c25-4cd4-937b-cb9b14d00994"
      },
      "execution_count": 2,
      "outputs": [
        {
          "output_type": "execute_result",
          "data": {
            "text/plain": [
              "Event             0\n",
              "Time              0\n",
              "S_Node            0\n",
              "Node_id           0\n",
              "Rest_Energy       0\n",
              "Trace_Level       0\n",
              "Mac_Type_Pckt     0\n",
              "Source_IP_Port    0\n",
              "Des_IP_Port       0\n",
              "Packet_Size       0\n",
              "TTL               0\n",
              "Hop_Count         0\n",
              "Broadcast_ID      0\n",
              "Dest_Node_Num     0\n",
              "Dest_Seq_Num      0\n",
              "Src_Node_ID       0\n",
              "Src_Seq_Num       0\n",
              "Class             0\n",
              "dtype: int64"
            ]
          },
          "metadata": {},
          "execution_count": 2
        }
      ]
    },
    {
      "cell_type": "code",
      "source": [
        "# Data preprocessing\n",
        "y = dataset['Class'].values\n",
        "X = dataset.drop(['Class'], axis=1).values"
      ],
      "metadata": {
        "id": "W3QubZ9c3fMb"
      },
      "execution_count": 3,
      "outputs": []
    },
    {
      "cell_type": "code",
      "source": [
        "# Class distribution before balancing\n",
        "counter = c.Counter(y)\n",
        "print(\"Class Distribution (Before Balancing):\", counter)"
      ],
      "metadata": {
        "colab": {
          "base_uri": "https://localhost:8080/"
        },
        "id": "5vPnzXRF30ZB",
        "outputId": "1b8fbe91-bceb-4896-8d49-e84e44708e19"
      },
      "execution_count": 4,
      "outputs": [
        {
          "output_type": "stream",
          "name": "stdout",
          "text": [
            "Class Distribution (Before Balancing): Counter({0: 262851, 3: 29844, 1: 11766, 2: 7645})\n"
          ]
        }
      ]
    },
    {
      "cell_type": "code",
      "source": [
        "# Apply SMOTE for data balancing\n",
        "oversample = SMOTE()\n",
        "X, y = oversample.fit_resample(X, y)\n",
        "\n",
        "# Class distribution after balancing\n",
        "counter = c.Counter(y)\n",
        "print(\"Class Distribution (After Balancing):\", counter)"
      ],
      "metadata": {
        "colab": {
          "base_uri": "https://localhost:8080/"
        },
        "id": "HPnfRIZV6gQw",
        "outputId": "626a9ac7-5f0d-4fc7-9c89-785000271b95"
      },
      "execution_count": 5,
      "outputs": [
        {
          "output_type": "stream",
          "name": "stdout",
          "text": [
            "Class Distribution (After Balancing): Counter({0: 262851, 1: 262851, 2: 262851, 3: 262851})\n"
          ]
        }
      ]
    },
    {
      "cell_type": "code",
      "source": [
        "# Split data into training and testing sets\n",
        "X_train, X_test, y_train, y_test = train_test_split(X, y, test_size=0.2, random_state=101)"
      ],
      "metadata": {
        "id": "uBApBmk33gom"
      },
      "execution_count": 6,
      "outputs": []
    },
    {
      "cell_type": "code",
      "source": [
        "# Random Forest model\n",
        "rf_model = RandomForestClassifier()\n",
        "rf_model.fit(X_train, y_train)\n",
        "\n",
        "# MLP model\n",
        "mlp_model = MLPClassifier(hidden_layer_sizes=(50,), max_iter=1000, random_state=101)\n",
        "mlp_model.fit(X_train, y_train)\n",
        "\n",
        "# Combine predictions from Random Forest and MLP models\n",
        "rf_predictions = rf_model.predict(X_test)\n",
        "mlp_predictions = mlp_model.predict(X_test)\n",
        "combined_predictions = np.array([rf_predictions[i] if mlp_predictions[i] == rf_predictions[i] else mlp_predictions[i] for i in range(len(mlp_predictions))])\n",
        "\n",
        "# Evaluate combined model\n",
        "combined_accuracy = np.mean(combined_predictions == y_test)\n",
        "print(\"Combined Model Accuracy:\", combined_accuracy)"
      ],
      "metadata": {
        "colab": {
          "base_uri": "https://localhost:8080/"
        },
        "id": "ADSAnaXP6if0",
        "outputId": "7c34a014-031e-45f5-e162-ebe14040f783"
      },
      "execution_count": 8,
      "outputs": [
        {
          "output_type": "stream",
          "name": "stdout",
          "text": [
            "Combined Model Accuracy: 0.9631493097331666\n"
          ]
        }
      ]
    }
  ]
}