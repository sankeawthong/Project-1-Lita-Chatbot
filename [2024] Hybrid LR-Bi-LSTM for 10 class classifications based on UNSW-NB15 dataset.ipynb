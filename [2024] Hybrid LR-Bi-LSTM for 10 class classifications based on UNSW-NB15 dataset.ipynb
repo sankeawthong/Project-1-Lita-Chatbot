{
  "nbformat": 4,
  "nbformat_minor": 0,
  "metadata": {
    "colab": {
      "provenance": [],
      "authorship_tag": "ABX9TyNBr5mxvN+/nD+QMVklXe98",
      "include_colab_link": true
    },
    "kernelspec": {
      "name": "python3",
      "display_name": "Python 3"
    },
    "language_info": {
      "name": "python"
    }
  },
  "cells": [
    {
      "cell_type": "markdown",
      "metadata": {
        "id": "view-in-github",
        "colab_type": "text"
      },
      "source": [
        "<a href=\"https://colab.research.google.com/github/sankeawthong/Project-1-Lita-Chatbot/blob/main/%5B2024%5D%20Hybrid%20LR-Bi-LSTM%20for%2010%20class%20classifications%20based%20on%20UNSW-NB15%20dataset.ipynb\" target=\"_parent\"><img src=\"https://colab.research.google.com/assets/colab-badge.svg\" alt=\"Open In Colab\"/></a>"
      ]
    },
    {
      "cell_type": "markdown",
      "source": [
        "### **Hybrid LR-Bi-LSTM for 10 class classifications based on UNSW-NB15 dataset**"
      ],
      "metadata": {
        "id": "15jGYmT_0lrn"
      }
    },
    {
      "cell_type": "code",
      "source": [
        "import pandas as pd\n",
        "import numpy as np\n",
        "from sklearn.linear_model import LogisticRegression\n",
        "from sklearn.model_selection import train_test_split\n",
        "from sklearn.metrics import accuracy_score, classification_report\n",
        "from sklearn.preprocessing import LabelEncoder, StandardScaler\n",
        "from keras.models import Sequential\n",
        "from keras.layers import Dense, LSTM, Bidirectional, Dropout, Flatten\n",
        "from sklearn.metrics import accuracy_score, classification_report, confusion_matrix"
      ],
      "metadata": {
        "id": "JLFmDI9C0qRo"
      },
      "execution_count": 26,
      "outputs": []
    },
    {
      "cell_type": "code",
      "source": [
        "# Load dataset\n",
        "dataset = pd.read_csv(\"Dataset_10Classes.csv\")\n",
        "\n",
        "# Preprocessing: Handle missing values (if any)\n",
        "dataset = dataset.dropna() # Remove missing values\n",
        "#X = dataset.drop(['Class'], axis=1)\n",
        "#y = dataset['Class']"
      ],
      "metadata": {
        "id": "QYXmvq660ron"
      },
      "execution_count": 27,
      "outputs": []
    },
    {
      "cell_type": "markdown",
      "source": [
        "### **Data Preprocessing**"
      ],
      "metadata": {
        "id": "BPxDywqB03Gl"
      }
    },
    {
      "cell_type": "code",
      "source": [
        "# Encode non-numeric columns (if any)\n",
        "for column in dataset.columns:\n",
        "    if dataset[column].dtype == 'object':  # Identify categorical columns\n",
        "        dataset[column] = LabelEncoder().fit_transform(dataset[column])\n",
        "\n",
        "# Separate features (X) and target (y)\n",
        "X = dataset.drop(['Class'], axis=1)  # Assuming 'Class' is the target column\n",
        "y = dataset['Class']"
      ],
      "metadata": {
        "id": "E4YGBJ3j0u0B"
      },
      "execution_count": 28,
      "outputs": []
    },
    {
      "cell_type": "code",
      "source": [
        "# Standardize the features\n",
        "scaler = StandardScaler()\n",
        "X = scaler.fit_transform(X)"
      ],
      "metadata": {
        "id": "7pwiLsc80wit"
      },
      "execution_count": 29,
      "outputs": []
    },
    {
      "cell_type": "code",
      "source": [
        "# Train-test split\n",
        "X_train, X_test, y_train, y_test = train_test_split(X, y, test_size=0.2, random_state=42, stratify=y)"
      ],
      "metadata": {
        "id": "J_hiH1JR0xuT"
      },
      "execution_count": 30,
      "outputs": []
    },
    {
      "cell_type": "markdown",
      "source": [
        "### **Hybrid combination of LR-Bi-LSTM for 10 class classifications on UNSW-NB15**"
      ],
      "metadata": {
        "id": "lmcm5fIJ08G8"
      }
    },
    {
      "cell_type": "code",
      "source": [
        "# Initialize and train the Logistic Regression model\n",
        "lr_model = LogisticRegression(multi_class='multinomial', solver='lbfgs', max_iter=800, random_state=42)\n",
        "lr_model.fit(X_train, y_train)\n",
        "\n",
        "# Make predictions\n",
        "y_pred = lr_model.predict(X_test)\n",
        "\n",
        "# Evaluate the model\n",
        "accuracy = accuracy_score(y_test, y_pred)\n",
        "print(\"Accuracy:\", accuracy)\n",
        "\n",
        "print(\"\\nClassification Report:\")\n",
        "print(classification_report(y_test, y_pred))\n",
        "\n",
        "#print(\"\\nConfusion Matrix:\")\n",
        "#print(confusion_matrix(y_test, y_pred))"
      ],
      "metadata": {
        "id": "BX1Mt_Im1GIG",
        "outputId": "6325559c-45fd-4819-a87d-bbc1e7548db3",
        "colab": {
          "base_uri": "https://localhost:8080/"
        }
      },
      "execution_count": 19,
      "outputs": [
        {
          "output_type": "stream",
          "name": "stderr",
          "text": [
            "/usr/local/lib/python3.10/dist-packages/sklearn/linear_model/_logistic.py:1247: FutureWarning: 'multi_class' was deprecated in version 1.5 and will be removed in 1.7. From then on, it will always use 'multinomial'. Leave it to its default value to avoid this warning.\n",
            "  warnings.warn(\n"
          ]
        },
        {
          "output_type": "stream",
          "name": "stdout",
          "text": [
            "Accuracy: 0.9997477442514796\n",
            "\n",
            "Classification Report:\n",
            "              precision    recall  f1-score   support\n",
            "\n",
            "           0       1.00      1.00      1.00     18600\n",
            "           1       1.00      1.00      1.00       535\n",
            "           2       1.00      1.00      1.00       466\n",
            "           3       1.00      1.00      1.00      3271\n",
            "           4       1.00      1.00      1.00      8905\n",
            "           5       1.00      1.00      1.00      4849\n",
            "           6       1.00      1.00      1.00     11774\n",
            "           7       1.00      1.00      1.00      2798\n",
            "           8       0.98      1.00      0.99       302\n",
            "           9       1.00      0.83      0.91        35\n",
            "\n",
            "    accuracy                           1.00     51535\n",
            "   macro avg       1.00      0.98      0.99     51535\n",
            "weighted avg       1.00      1.00      1.00     51535\n",
            "\n"
          ]
        }
      ]
    },
    {
      "cell_type": "code",
      "source": [
        "from keras.utils import to_categorical\n",
        "\n",
        "# Initialize and train the Logistic Regression model\n",
        "lr_model = LogisticRegression(multi_class='multinomial', solver='lbfgs', max_iter=800, random_state=42)\n",
        "lr_model.fit(X_train, y_train)\n",
        "\n",
        "# Extract probabilities from LR model\n",
        "train_lr_features = lr_model.predict_proba(X_train)  # Features for Bi-LSTM from training data\n",
        "test_lr_features = lr_model.predict_proba(X_test)    # Features for Bi-LSTM from test data\n",
        "\n",
        "# Reshape LR features for Bi-LSTM input\n",
        "train_lr_features = np.expand_dims(train_lr_features, axis=1)\n",
        "test_lr_features = np.expand_dims(test_lr_features, axis=1)\n",
        "\n",
        "# Convert labels to one-hot encoding for Bi-LSTM\n",
        "y_train = to_categorical(y_train, num_classes=10)\n",
        "y_test = to_categorical(y_test, num_classes=10)"
      ],
      "metadata": {
        "colab": {
          "base_uri": "https://localhost:8080/"
        },
        "id": "q26NBkCIMRRW",
        "outputId": "aae9802c-c7ee-4a3e-da3b-d8ea31114c6e"
      },
      "execution_count": 31,
      "outputs": [
        {
          "output_type": "stream",
          "name": "stderr",
          "text": [
            "/usr/local/lib/python3.10/dist-packages/sklearn/linear_model/_logistic.py:1247: FutureWarning: 'multi_class' was deprecated in version 1.5 and will be removed in 1.7. From then on, it will always use 'multinomial'. Leave it to its default value to avoid this warning.\n",
            "  warnings.warn(\n"
          ]
        }
      ]
    },
    {
      "cell_type": "code",
      "source": [
        "# Build the Bi-LSTM model\n",
        "bilstm_model = Sequential()\n",
        "bilstm_model.add(Bidirectional(LSTM(64, return_sequences=True), input_shape=(1, train_lr_features.shape[2])))\n",
        "bilstm_model.add(Dropout(0.5))\n",
        "bilstm_model.add(Bidirectional(LSTM(32)))\n",
        "bilstm_model.add(Dropout(0.5))\n",
        "bilstm_model.add(Dense(10, activation='softmax'))  # 10 classes\n",
        "\n",
        "bilstm_model.compile(loss='categorical_crossentropy', optimizer='adam', metrics=['accuracy'])\n",
        "\n",
        "# Train the Bi-LSTM model\n",
        "history = bilstm_model.fit(\n",
        "    train_lr_features, y_train,\n",
        "    validation_split=0.2,\n",
        "    epochs=50,\n",
        "    batch_size=64,\n",
        "    verbose=1\n",
        ")\n",
        "\n",
        "# Evaluate the hybrid model on the test set\n",
        "test_predictions = bilstm_model.predict(test_lr_features)\n",
        "test_predictions_labels = np.argmax(test_predictions, axis=1)\n",
        "true_labels = np.argmax(y_test, axis=1)\n",
        "\n",
        "# Performance metrics\n",
        "accuracy = accuracy_score(true_labels, test_predictions_labels)\n",
        "print(\"\\nHybrid Model Accuracy:\", accuracy)\n",
        "print(\"\\nClassification Report:\")\n",
        "print(classification_report(true_labels, test_predictions_labels))\n",
        "print(\"\\nConfusion Matrix:\")\n",
        "print(confusion_matrix(true_labels, test_predictions_labels))"
      ],
      "metadata": {
        "colab": {
          "base_uri": "https://localhost:8080/"
        },
        "id": "_igNK4DhO9dK",
        "outputId": "d02135a0-4ed6-466f-96bd-69b1ab077a6a"
      },
      "execution_count": 35,
      "outputs": [
        {
          "metadata": {
            "tags": null
          },
          "name": "stderr",
          "output_type": "stream",
          "text": [
            "/usr/local/lib/python3.10/dist-packages/keras/src/layers/rnn/bidirectional.py:107: UserWarning: Do not pass an `input_shape`/`input_dim` argument to a layer. When using Sequential models, prefer using an `Input(shape)` object as the first layer in the model instead.\n",
            "  super().__init__(**kwargs)\n"
          ]
        },
        {
          "output_type": "stream",
          "name": "stdout",
          "text": [
            "Epoch 1/50\n",
            "\u001b[1m2577/2577\u001b[0m \u001b[32m━━━━━━━━━━━━━━━━━━━━\u001b[0m\u001b[37m\u001b[0m \u001b[1m40s\u001b[0m 9ms/step - accuracy: 0.9215 - loss: 0.3627 - val_accuracy: 0.9998 - val_loss: 0.0015\n",
            "Epoch 2/50\n",
            "\u001b[1m2577/2577\u001b[0m \u001b[32m━━━━━━━━━━━━━━━━━━━━\u001b[0m\u001b[37m\u001b[0m \u001b[1m40s\u001b[0m 8ms/step - accuracy: 0.9996 - loss: 0.0025 - val_accuracy: 0.9999 - val_loss: 8.9397e-04\n",
            "Epoch 3/50\n",
            "\u001b[1m2577/2577\u001b[0m \u001b[32m━━━━━━━━━━━━━━━━━━━━\u001b[0m\u001b[37m\u001b[0m \u001b[1m22s\u001b[0m 9ms/step - accuracy: 0.9998 - loss: 0.0017 - val_accuracy: 0.9998 - val_loss: 0.0010\n",
            "Epoch 4/50\n",
            "\u001b[1m2577/2577\u001b[0m \u001b[32m━━━━━━━━━━━━━━━━━━━━\u001b[0m\u001b[37m\u001b[0m \u001b[1m24s\u001b[0m 9ms/step - accuracy: 0.9998 - loss: 0.0021 - val_accuracy: 0.9998 - val_loss: 8.9468e-04\n",
            "Epoch 5/50\n",
            "\u001b[1m2577/2577\u001b[0m \u001b[32m━━━━━━━━━━━━━━━━━━━━\u001b[0m\u001b[37m\u001b[0m \u001b[1m40s\u001b[0m 9ms/step - accuracy: 0.9998 - loss: 0.0011 - val_accuracy: 0.9998 - val_loss: 0.0013\n",
            "Epoch 6/50\n",
            "\u001b[1m2577/2577\u001b[0m \u001b[32m━━━━━━━━━━━━━━━━━━━━\u001b[0m\u001b[37m\u001b[0m \u001b[1m41s\u001b[0m 9ms/step - accuracy: 0.9997 - loss: 0.0014 - val_accuracy: 0.9999 - val_loss: 8.1548e-04\n",
            "Epoch 7/50\n",
            "\u001b[1m2577/2577\u001b[0m \u001b[32m━━━━━━━━━━━━━━━━━━━━\u001b[0m\u001b[37m\u001b[0m \u001b[1m41s\u001b[0m 9ms/step - accuracy: 0.9998 - loss: 0.0014 - val_accuracy: 0.9998 - val_loss: 9.2503e-04\n",
            "Epoch 8/50\n",
            "\u001b[1m2577/2577\u001b[0m \u001b[32m━━━━━━━━━━━━━━━━━━━━\u001b[0m\u001b[37m\u001b[0m \u001b[1m41s\u001b[0m 9ms/step - accuracy: 0.9998 - loss: 0.0010 - val_accuracy: 0.9999 - val_loss: 7.3068e-04\n",
            "Epoch 9/50\n",
            "\u001b[1m2577/2577\u001b[0m \u001b[32m━━━━━━━━━━━━━━━━━━━━\u001b[0m\u001b[37m\u001b[0m \u001b[1m21s\u001b[0m 8ms/step - accuracy: 0.9998 - loss: 9.3433e-04 - val_accuracy: 0.9998 - val_loss: 7.5216e-04\n",
            "Epoch 10/50\n",
            "\u001b[1m2577/2577\u001b[0m \u001b[32m━━━━━━━━━━━━━━━━━━━━\u001b[0m\u001b[37m\u001b[0m \u001b[1m41s\u001b[0m 8ms/step - accuracy: 0.9998 - loss: 0.0014 - val_accuracy: 0.9998 - val_loss: 9.6442e-04\n",
            "Epoch 11/50\n",
            "\u001b[1m2577/2577\u001b[0m \u001b[32m━━━━━━━━━━━━━━━━━━━━\u001b[0m\u001b[37m\u001b[0m \u001b[1m24s\u001b[0m 9ms/step - accuracy: 0.9998 - loss: 0.0013 - val_accuracy: 0.9998 - val_loss: 7.1360e-04\n",
            "Epoch 12/50\n",
            "\u001b[1m2577/2577\u001b[0m \u001b[32m━━━━━━━━━━━━━━━━━━━━\u001b[0m\u001b[37m\u001b[0m \u001b[1m22s\u001b[0m 9ms/step - accuracy: 0.9997 - loss: 0.0018 - val_accuracy: 0.9998 - val_loss: 8.8907e-04\n",
            "Epoch 13/50\n",
            "\u001b[1m2577/2577\u001b[0m \u001b[32m━━━━━━━━━━━━━━━━━━━━\u001b[0m\u001b[37m\u001b[0m \u001b[1m42s\u001b[0m 9ms/step - accuracy: 0.9998 - loss: 0.0011 - val_accuracy: 0.9998 - val_loss: 9.5567e-04\n",
            "Epoch 14/50\n",
            "\u001b[1m2577/2577\u001b[0m \u001b[32m━━━━━━━━━━━━━━━━━━━━\u001b[0m\u001b[37m\u001b[0m \u001b[1m22s\u001b[0m 8ms/step - accuracy: 0.9998 - loss: 0.0013 - val_accuracy: 0.9999 - val_loss: 5.3836e-04\n",
            "Epoch 15/50\n",
            "\u001b[1m2577/2577\u001b[0m \u001b[32m━━━━━━━━━━━━━━━━━━━━\u001b[0m\u001b[37m\u001b[0m \u001b[1m41s\u001b[0m 8ms/step - accuracy: 0.9998 - loss: 0.0012 - val_accuracy: 0.9998 - val_loss: 7.5133e-04\n",
            "Epoch 16/50\n",
            "\u001b[1m2577/2577\u001b[0m \u001b[32m━━━━━━━━━━━━━━━━━━━━\u001b[0m\u001b[37m\u001b[0m \u001b[1m43s\u001b[0m 9ms/step - accuracy: 0.9998 - loss: 0.0010 - val_accuracy: 0.9998 - val_loss: 6.3095e-04\n",
            "Epoch 17/50\n",
            "\u001b[1m2577/2577\u001b[0m \u001b[32m━━━━━━━━━━━━━━━━━━━━\u001b[0m\u001b[37m\u001b[0m \u001b[1m41s\u001b[0m 9ms/step - accuracy: 0.9999 - loss: 8.9633e-04 - val_accuracy: 0.9998 - val_loss: 5.8972e-04\n",
            "Epoch 18/50\n",
            "\u001b[1m2577/2577\u001b[0m \u001b[32m━━━━━━━━━━━━━━━━━━━━\u001b[0m\u001b[37m\u001b[0m \u001b[1m40s\u001b[0m 9ms/step - accuracy: 0.9999 - loss: 7.7169e-04 - val_accuracy: 0.9998 - val_loss: 6.5273e-04\n",
            "Epoch 19/50\n",
            "\u001b[1m2577/2577\u001b[0m \u001b[32m━━━━━━━━━━━━━━━━━━━━\u001b[0m\u001b[37m\u001b[0m \u001b[1m41s\u001b[0m 9ms/step - accuracy: 0.9997 - loss: 0.0011 - val_accuracy: 0.9998 - val_loss: 6.2347e-04\n",
            "Epoch 20/50\n",
            "\u001b[1m2577/2577\u001b[0m \u001b[32m━━━━━━━━━━━━━━━━━━━━\u001b[0m\u001b[37m\u001b[0m \u001b[1m41s\u001b[0m 9ms/step - accuracy: 0.9998 - loss: 9.8809e-04 - val_accuracy: 0.9998 - val_loss: 5.5663e-04\n",
            "Epoch 21/50\n",
            "\u001b[1m2577/2577\u001b[0m \u001b[32m━━━━━━━━━━━━━━━━━━━━\u001b[0m\u001b[37m\u001b[0m \u001b[1m23s\u001b[0m 9ms/step - accuracy: 0.9998 - loss: 9.2267e-04 - val_accuracy: 0.9999 - val_loss: 4.5354e-04\n",
            "Epoch 22/50\n",
            "\u001b[1m2577/2577\u001b[0m \u001b[32m━━━━━━━━━━━━━━━━━━━━\u001b[0m\u001b[37m\u001b[0m \u001b[1m23s\u001b[0m 9ms/step - accuracy: 0.9998 - loss: 0.0011 - val_accuracy: 0.9998 - val_loss: 6.3617e-04\n",
            "Epoch 23/50\n",
            "\u001b[1m2577/2577\u001b[0m \u001b[32m━━━━━━━━━━━━━━━━━━━━\u001b[0m\u001b[37m\u001b[0m \u001b[1m41s\u001b[0m 9ms/step - accuracy: 0.9998 - loss: 0.0014 - val_accuracy: 0.9998 - val_loss: 5.8329e-04\n",
            "Epoch 24/50\n",
            "\u001b[1m2577/2577\u001b[0m \u001b[32m━━━━━━━━━━━━━━━━━━━━\u001b[0m\u001b[37m\u001b[0m \u001b[1m41s\u001b[0m 9ms/step - accuracy: 0.9997 - loss: 0.0010 - val_accuracy: 0.9998 - val_loss: 6.8265e-04\n",
            "Epoch 25/50\n",
            "\u001b[1m2577/2577\u001b[0m \u001b[32m━━━━━━━━━━━━━━━━━━━━\u001b[0m\u001b[37m\u001b[0m \u001b[1m42s\u001b[0m 9ms/step - accuracy: 0.9998 - loss: 9.7093e-04 - val_accuracy: 0.9999 - val_loss: 2.4112e-04\n",
            "Epoch 26/50\n",
            "\u001b[1m2577/2577\u001b[0m \u001b[32m━━━━━━━━━━━━━━━━━━━━\u001b[0m\u001b[37m\u001b[0m \u001b[1m41s\u001b[0m 9ms/step - accuracy: 0.9998 - loss: 7.1131e-04 - val_accuracy: 0.9999 - val_loss: 4.3440e-04\n",
            "Epoch 27/50\n",
            "\u001b[1m2577/2577\u001b[0m \u001b[32m━━━━━━━━━━━━━━━━━━━━\u001b[0m\u001b[37m\u001b[0m \u001b[1m23s\u001b[0m 9ms/step - accuracy: 0.9998 - loss: 9.9777e-04 - val_accuracy: 1.0000 - val_loss: 3.5299e-04\n",
            "Epoch 28/50\n",
            "\u001b[1m2577/2577\u001b[0m \u001b[32m━━━━━━━━━━━━━━━━━━━━\u001b[0m\u001b[37m\u001b[0m \u001b[1m41s\u001b[0m 9ms/step - accuracy: 0.9998 - loss: 8.5437e-04 - val_accuracy: 0.9999 - val_loss: 4.1111e-04\n",
            "Epoch 29/50\n",
            "\u001b[1m2577/2577\u001b[0m \u001b[32m━━━━━━━━━━━━━━━━━━━━\u001b[0m\u001b[37m\u001b[0m \u001b[1m40s\u001b[0m 9ms/step - accuracy: 0.9999 - loss: 5.2445e-04 - val_accuracy: 0.9999 - val_loss: 1.8128e-04\n",
            "Epoch 30/50\n",
            "\u001b[1m2577/2577\u001b[0m \u001b[32m━━━━━━━━━━━━━━━━━━━━\u001b[0m\u001b[37m\u001b[0m \u001b[1m40s\u001b[0m 9ms/step - accuracy: 0.9999 - loss: 4.0397e-04 - val_accuracy: 0.9997 - val_loss: 5.2681e-04\n",
            "Epoch 31/50\n",
            "\u001b[1m2577/2577\u001b[0m \u001b[32m━━━━━━━━━━━━━━━━━━━━\u001b[0m\u001b[37m\u001b[0m \u001b[1m42s\u001b[0m 9ms/step - accuracy: 0.9998 - loss: 8.4684e-04 - val_accuracy: 0.9998 - val_loss: 4.1520e-04\n",
            "Epoch 32/50\n",
            "\u001b[1m2577/2577\u001b[0m \u001b[32m━━━━━━━━━━━━━━━━━━━━\u001b[0m\u001b[37m\u001b[0m \u001b[1m43s\u001b[0m 10ms/step - accuracy: 0.9999 - loss: 4.3742e-04 - val_accuracy: 0.9999 - val_loss: 4.7766e-04\n",
            "Epoch 33/50\n",
            "\u001b[1m2577/2577\u001b[0m \u001b[32m━━━━━━━━━━━━━━━━━━━━\u001b[0m\u001b[37m\u001b[0m \u001b[1m41s\u001b[0m 10ms/step - accuracy: 0.9998 - loss: 7.8352e-04 - val_accuracy: 0.9998 - val_loss: 3.5584e-04\n",
            "Epoch 34/50\n",
            "\u001b[1m2577/2577\u001b[0m \u001b[32m━━━━━━━━━━━━━━━━━━━━\u001b[0m\u001b[37m\u001b[0m \u001b[1m40s\u001b[0m 9ms/step - accuracy: 0.9997 - loss: 0.0013 - val_accuracy: 0.9999 - val_loss: 2.5503e-04\n",
            "Epoch 35/50\n",
            "\u001b[1m2577/2577\u001b[0m \u001b[32m━━━━━━━━━━━━━━━━━━━━\u001b[0m\u001b[37m\u001b[0m \u001b[1m41s\u001b[0m 9ms/step - accuracy: 0.9999 - loss: 6.0827e-04 - val_accuracy: 0.9999 - val_loss: 2.6868e-04\n",
            "Epoch 36/50\n",
            "\u001b[1m2577/2577\u001b[0m \u001b[32m━━━━━━━━━━━━━━━━━━━━\u001b[0m\u001b[37m\u001b[0m \u001b[1m41s\u001b[0m 9ms/step - accuracy: 0.9998 - loss: 7.5844e-04 - val_accuracy: 0.9999 - val_loss: 2.8295e-04\n",
            "Epoch 37/50\n",
            "\u001b[1m2577/2577\u001b[0m \u001b[32m━━━━━━━━━━━━━━━━━━━━\u001b[0m\u001b[37m\u001b[0m \u001b[1m42s\u001b[0m 9ms/step - accuracy: 0.9998 - loss: 7.8139e-04 - val_accuracy: 1.0000 - val_loss: 2.4917e-04\n",
            "Epoch 38/50\n",
            "\u001b[1m2577/2577\u001b[0m \u001b[32m━━━━━━━━━━━━━━━━━━━━\u001b[0m\u001b[37m\u001b[0m \u001b[1m41s\u001b[0m 9ms/step - accuracy: 0.9998 - loss: 8.1229e-04 - val_accuracy: 0.9999 - val_loss: 3.1297e-04\n",
            "Epoch 39/50\n",
            "\u001b[1m2577/2577\u001b[0m \u001b[32m━━━━━━━━━━━━━━━━━━━━\u001b[0m\u001b[37m\u001b[0m \u001b[1m42s\u001b[0m 10ms/step - accuracy: 0.9998 - loss: 5.7321e-04 - val_accuracy: 0.9999 - val_loss: 3.2420e-04\n",
            "Epoch 40/50\n",
            "\u001b[1m2577/2577\u001b[0m \u001b[32m━━━━━━━━━━━━━━━━━━━━\u001b[0m\u001b[37m\u001b[0m \u001b[1m24s\u001b[0m 9ms/step - accuracy: 0.9999 - loss: 5.1864e-04 - val_accuracy: 0.9999 - val_loss: 3.3662e-04\n",
            "Epoch 41/50\n",
            "\u001b[1m2577/2577\u001b[0m \u001b[32m━━━━━━━━━━━━━━━━━━━━\u001b[0m\u001b[37m\u001b[0m \u001b[1m41s\u001b[0m 9ms/step - accuracy: 0.9999 - loss: 5.4113e-04 - val_accuracy: 0.9999 - val_loss: 5.3082e-04\n",
            "Epoch 42/50\n",
            "\u001b[1m2577/2577\u001b[0m \u001b[32m━━━━━━━━━━━━━━━━━━━━\u001b[0m\u001b[37m\u001b[0m \u001b[1m41s\u001b[0m 10ms/step - accuracy: 0.9999 - loss: 6.0227e-04 - val_accuracy: 0.9999 - val_loss: 3.0558e-04\n",
            "Epoch 43/50\n",
            "\u001b[1m2577/2577\u001b[0m \u001b[32m━━━━━━━━━━━━━━━━━━━━\u001b[0m\u001b[37m\u001b[0m \u001b[1m40s\u001b[0m 9ms/step - accuracy: 0.9998 - loss: 6.8313e-04 - val_accuracy: 0.9998 - val_loss: 3.9441e-04\n",
            "Epoch 44/50\n",
            "\u001b[1m2577/2577\u001b[0m \u001b[32m━━━━━━━━━━━━━━━━━━━━\u001b[0m\u001b[37m\u001b[0m \u001b[1m24s\u001b[0m 9ms/step - accuracy: 0.9999 - loss: 5.5642e-04 - val_accuracy: 0.9998 - val_loss: 4.4590e-04\n",
            "Epoch 45/50\n",
            "\u001b[1m2577/2577\u001b[0m \u001b[32m━━━━━━━━━━━━━━━━━━━━\u001b[0m\u001b[37m\u001b[0m \u001b[1m46s\u001b[0m 11ms/step - accuracy: 0.9998 - loss: 5.9036e-04 - val_accuracy: 1.0000 - val_loss: 1.8692e-04\n",
            "Epoch 46/50\n",
            "\u001b[1m2577/2577\u001b[0m \u001b[32m━━━━━━━━━━━━━━━━━━━━\u001b[0m\u001b[37m\u001b[0m \u001b[1m36s\u001b[0m 9ms/step - accuracy: 0.9998 - loss: 7.8173e-04 - val_accuracy: 0.9999 - val_loss: 3.4653e-04\n",
            "Epoch 47/50\n",
            "\u001b[1m2577/2577\u001b[0m \u001b[32m━━━━━━━━━━━━━━━━━━━━\u001b[0m\u001b[37m\u001b[0m \u001b[1m42s\u001b[0m 9ms/step - accuracy: 0.9999 - loss: 6.0297e-04 - val_accuracy: 0.9999 - val_loss: 2.4187e-04\n",
            "Epoch 48/50\n",
            "\u001b[1m2577/2577\u001b[0m \u001b[32m━━━━━━━━━━━━━━━━━━━━\u001b[0m\u001b[37m\u001b[0m \u001b[1m41s\u001b[0m 9ms/step - accuracy: 0.9999 - loss: 9.5642e-04 - val_accuracy: 0.9999 - val_loss: 2.2629e-04\n",
            "Epoch 49/50\n",
            "\u001b[1m2577/2577\u001b[0m \u001b[32m━━━━━━━━━━━━━━━━━━━━\u001b[0m\u001b[37m\u001b[0m \u001b[1m41s\u001b[0m 10ms/step - accuracy: 0.9999 - loss: 7.4897e-04 - val_accuracy: 0.9999 - val_loss: 3.3552e-04\n",
            "Epoch 50/50\n",
            "\u001b[1m2577/2577\u001b[0m \u001b[32m━━━━━━━━━━━━━━━━━━━━\u001b[0m\u001b[37m\u001b[0m \u001b[1m40s\u001b[0m 9ms/step - accuracy: 0.9999 - loss: 6.0696e-04 - val_accuracy: 0.9999 - val_loss: 2.3129e-04\n",
            "\u001b[1m1611/1611\u001b[0m \u001b[32m━━━━━━━━━━━━━━━━━━━━\u001b[0m\u001b[37m\u001b[0m \u001b[1m6s\u001b[0m 3ms/step\n",
            "\n",
            "Hybrid Model Accuracy: 0.9998641699815659\n",
            "\n",
            "Classification Report:\n",
            "              precision    recall  f1-score   support\n",
            "\n",
            "           0       1.00      1.00      1.00     18600\n",
            "           1       1.00      1.00      1.00       535\n",
            "           2       1.00      1.00      1.00       466\n",
            "           3       1.00      1.00      1.00      3271\n",
            "           4       1.00      1.00      1.00      8905\n",
            "           5       1.00      1.00      1.00      4849\n",
            "           6       1.00      1.00      1.00     11774\n",
            "           7       1.00      1.00      1.00      2798\n",
            "           8       0.99      1.00      1.00       302\n",
            "           9       0.97      0.91      0.94        35\n",
            "\n",
            "    accuracy                           1.00     51535\n",
            "   macro avg       1.00      0.99      0.99     51535\n",
            "weighted avg       1.00      1.00      1.00     51535\n",
            "\n",
            "\n",
            "Confusion Matrix:\n",
            "[[18600     0     0     0     0     0     0     0     0     0]\n",
            " [    0   535     0     0     0     0     0     0     0     0]\n",
            " [    0     0   466     0     0     0     0     0     0     0]\n",
            " [    0     0     0  3271     0     0     0     0     0     0]\n",
            " [    0     0     0     0  8905     0     0     0     0     0]\n",
            " [    0     0     0     0     0  4848     1     0     0     0]\n",
            " [    0     0     0     0     0     1 11773     0     0     0]\n",
            " [    0     0     0     0     0     0     0  2797     0     1]\n",
            " [    0     0     0     0     0     0     0     1   301     0]\n",
            " [    0     0     0     0     0     0     0     1     2    32]]\n"
          ]
        }
      ]
    },
    {
      "cell_type": "code",
      "source": [
        "# Plot training and validation loss\n",
        "import matplotlib.pyplot as plt\n",
        "plt.plot(history.history['loss'], label='Training Loss')\n",
        "plt.plot(history.history['val_loss'], label='Validation Loss')\n",
        "plt.xlabel('Epoch')\n",
        "plt.ylabel('Loss')\n",
        "plt.legend()\n",
        "plt.show()"
      ],
      "metadata": {
        "colab": {
          "base_uri": "https://localhost:8080/",
          "height": 453
        },
        "id": "L4sajd9fO9Zu",
        "outputId": "d5c930ed-e280-496e-ea9c-76918041b2f5"
      },
      "execution_count": 44,
      "outputs": [
        {
          "output_type": "display_data",
          "data": {
            "text/plain": [
              "<Figure size 640x480 with 1 Axes>"
            ],
            "image/png": "[encoded data removed]"
          },
          "metadata": {}
        }
      ]
    },
    {
      "cell_type": "code",
      "source": [
        "# Performance metrics\n",
        "accuracy = accuracy_score(true_labels, test_predictions_labels)\n",
        "precision = precision_score(true_labels, test_predictions_labels, average='macro')\n",
        "recall = recall_score(true_labels, test_predictions_labels, average='macro')\n",
        "f1 = f1_score(true_labels, test_predictions_labels, average='macro')\n",
        "\n",
        "print(\"\\nHybrid Model Accuracy:\", accuracy)\n",
        "print(\"\\nPrecision:\", precision)\n",
        "print(\"\\nRecall:\", recall)\n",
        "print(\"\\nF1-Score:\", f1)"
      ],
      "metadata": {
        "colab": {
          "base_uri": "https://localhost:8080/"
        },
        "id": "HWKDYjkFc-DY",
        "outputId": "9f283ba0-c817-4c80-e493-3893c83861ec"
      },
      "execution_count": 45,
      "outputs": [
        {
          "output_type": "stream",
          "name": "stdout",
          "text": [
            "\n",
            "Hybrid Model Accuracy: 0.9998641699815659\n",
            "\n",
            "Precision: 0.9962090607732226\n",
            "\n",
            "Recall: 0.9910325896874767\n",
            "\n",
            "F1-Score: 0.9935390630481675\n"
          ]
        }
      ]
    },
    {
      "cell_type": "code",
      "source": [
        "# Classification report\n",
        "print(\"\\nClassification Report:\")\n",
        "print(classification_report(true_labels, test_predictions_labels))"
      ],
      "metadata": {
        "colab": {
          "base_uri": "https://localhost:8080/"
        },
        "id": "ZDsDpwi6dDRx",
        "outputId": "a2462394-8d6a-4f20-e742-ab67ffa042cf"
      },
      "execution_count": 46,
      "outputs": [
        {
          "output_type": "stream",
          "name": "stdout",
          "text": [
            "\n",
            "Classification Report:\n",
            "              precision    recall  f1-score   support\n",
            "\n",
            "           0       1.00      1.00      1.00     18600\n",
            "           1       1.00      1.00      1.00       535\n",
            "           2       1.00      1.00      1.00       466\n",
            "           3       1.00      1.00      1.00      3271\n",
            "           4       1.00      1.00      1.00      8905\n",
            "           5       1.00      1.00      1.00      4849\n",
            "           6       1.00      1.00      1.00     11774\n",
            "           7       1.00      1.00      1.00      2798\n",
            "           8       0.99      1.00      1.00       302\n",
            "           9       0.97      0.91      0.94        35\n",
            "\n",
            "    accuracy                           1.00     51535\n",
            "   macro avg       1.00      0.99      0.99     51535\n",
            "weighted avg       1.00      1.00      1.00     51535\n",
            "\n"
          ]
        }
      ]
    },
    {
      "cell_type": "code",
      "source": [
        "# Detection Rate (Recall for each class)\n",
        "detection_rate = recall_score(true_labels, test_predictions_labels, average=None)\n",
        "for i in range(len(detection_rate)):\n",
        "    print(f\"Detection Rate for Class {i}: {detection_rate[i]:.10f}\")"
      ],
      "metadata": {
        "colab": {
          "base_uri": "https://localhost:8080/"
        },
        "id": "je0MbEanO9Jw",
        "outputId": "45836b41-f39d-49e1-fa68-5c3b43b5b0b1"
      },
      "execution_count": 47,
      "outputs": [
        {
          "output_type": "stream",
          "name": "stdout",
          "text": [
            "Detection Rate for Class 0: 1.0000000000\n",
            "Detection Rate for Class 1: 1.0000000000\n",
            "Detection Rate for Class 2: 1.0000000000\n",
            "Detection Rate for Class 3: 1.0000000000\n",
            "Detection Rate for Class 4: 1.0000000000\n",
            "Detection Rate for Class 5: 0.9997937719\n",
            "Detection Rate for Class 6: 0.9999150671\n",
            "Detection Rate for Class 7: 0.9996426019\n",
            "Detection Rate for Class 8: 0.9966887417\n",
            "Detection Rate for Class 9: 0.9142857143\n"
          ]
        }
      ]
    }
  ]
}