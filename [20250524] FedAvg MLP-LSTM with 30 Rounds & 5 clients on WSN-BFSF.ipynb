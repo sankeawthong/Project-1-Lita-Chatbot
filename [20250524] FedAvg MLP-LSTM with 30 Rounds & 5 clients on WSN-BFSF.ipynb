{
  "nbformat": 4,
  "nbformat_minor": 0,
  "metadata": {
    "colab": {
      "provenance": [],
      "machine_shape": "hm",
      "authorship_tag": "ABX9TyMoqOIEnD29TQbGRz1pIUhj",
      "include_colab_link": true
    },
    "kernelspec": {
      "name": "python3",
      "display_name": "Python 3"
    },
    "language_info": {
      "name": "python"
    }
  },
  "cells": [
    {
      "cell_type": "markdown",
      "metadata": {
        "id": "view-in-github",
        "colab_type": "text"
      },
      "source": [
        "<a href=\"https://colab.research.google.com/github/sankeawthong/Project-1-Lita-Chatbot/blob/main/%5B20250524%5D%20FedAvg%20MLP-LSTM%20with%2030%20Rounds%20%26%205%20clients%20on%20WSN-BFSF.ipynb\" target=\"_parent\"><img src=\"https://colab.research.google.com/assets/colab-badge.svg\" alt=\"Open In Colab\"/></a>"
      ]
    },
    {
      "cell_type": "markdown",
      "source": [
        "**FedAvg-MLP-LSTM with 30 Communications Rounds & 5 clients on WSN-BFSF**"
      ],
      "metadata": {
        "id": "XOvwMwoYAbij"
      }
    },
    {
      "cell_type": "code",
      "execution_count": 1,
      "metadata": {
        "id": "I9PmZn6d_rVX"
      },
      "outputs": [],
      "source": [
        "import pandas as pd\n",
        "import numpy as np\n",
        "import time\n",
        "from sklearn.preprocessing import LabelEncoder, StandardScaler\n",
        "from sklearn.model_selection import train_test_split\n",
        "from sklearn.metrics import accuracy_score, precision_score, recall_score, f1_score, classification_report, confusion_matrix, roc_auc_score\n",
        "from keras.models import Sequential\n",
        "from keras.layers import Dense, Dropout, LSTM, InputLayer\n",
        "from keras.utils import to_categorical\n",
        "from imblearn.over_sampling import SMOTE\n",
        "import matplotlib.pyplot as plt"
      ]
    },
    {
      "cell_type": "code",
      "source": [
        "# ----------------------------\n",
        "# Preprocessing and Partitioning\n",
        "# ----------------------------\n",
        "df = pd.read_csv(\"dataset.csv\").dropna()\n",
        "for col in df.columns:\n",
        "    if df[col].dtype == 'object':\n",
        "        df[col] = LabelEncoder().fit_transform(df[col])\n",
        "\n",
        "X, y = df.drop('Class', axis=1), df['Class']\n",
        "X = StandardScaler().fit_transform(X)\n",
        "X, y = SMOTE(random_state=42).fit_resample(X, y)\n",
        "X_train, X_test, y_train, y_test = train_test_split(X, y, test_size=0.2, random_state=101, stratify=y)"
      ],
      "metadata": {
        "id": "iJWHyBOy_8tG"
      },
      "execution_count": 2,
      "outputs": []
    },
    {
      "cell_type": "code",
      "source": [
        "# ----------------------------\n",
        "# Federated Setup\n",
        "# ----------------------------\n",
        "num_clients = 5\n",
        "rounds = 30\n",
        "client_X = np.array_split(X_train, num_clients)\n",
        "client_y = np.array_split(y_train, num_clients)\n",
        "\n",
        "X_test = X_test.reshape(X_test.shape[0], X_test.shape[1], 1)\n",
        "y_test_cat = to_categorical(y_test)\n",
        "num_classes = y_test_cat.shape[1]\n",
        "input_shape = (X_test.shape[1], 1)"
      ],
      "metadata": {
        "colab": {
          "base_uri": "https://localhost:8080/"
        },
        "id": "alH_SIIS_8qT",
        "outputId": "577148c5-fbb9-4f17-eb95-5d5af2bf6efd"
      },
      "execution_count": 3,
      "outputs": [
        {
          "output_type": "stream",
          "name": "stderr",
          "text": [
            "/usr/local/lib/python3.11/dist-packages/numpy/_core/fromnumeric.py:57: FutureWarning: 'Series.swapaxes' is deprecated and will be removed in a future version. Please use 'Series.transpose' instead.\n",
            "  return bound(*args, **kwds)\n"
          ]
        }
      ]
    },
    {
      "cell_type": "code",
      "source": [
        "# ----------------------------\n",
        "# Model Definition\n",
        "# ----------------------------\n",
        "def build_model(input_shape, num_classes):\n",
        "    model = Sequential([\n",
        "        InputLayer(input_shape=input_shape),\n",
        "        LSTM(64, activation='tanh'),\n",
        "        Dropout(0.3),\n",
        "        Dense(128, activation='relu'),\n",
        "        Dropout(0.3),\n",
        "        Dense(64, activation='relu'),\n",
        "        Dropout(0.3),\n",
        "        Dense(num_classes, activation='softmax')\n",
        "    ])\n",
        "    model.compile(optimizer='adam', loss='categorical_crossentropy', metrics=['accuracy'])\n",
        "    return model\n",
        "\n",
        "# ----------------------------\n",
        "# Training Loop\n",
        "# ----------------------------\n",
        "log = []\n",
        "\n",
        "global_model = build_model(input_shape, num_classes)\n",
        "global_weights = global_model.get_weights()\n",
        "\n",
        "for r in range(rounds):\n",
        "    round_start = time.time()\n",
        "    client_weights = []\n",
        "    for i in range(num_clients):\n",
        "        local_model = build_model(input_shape, num_classes)\n",
        "        local_model.set_weights(global_weights)\n",
        "        X_c = client_X[i].reshape(client_X[i].shape[0], client_X[i].shape[1], 1)\n",
        "        y_c = to_categorical(client_y[i], num_classes=num_classes)\n",
        "        local_model.fit(X_c, y_c, epochs=1, batch_size=32, verbose=0)\n",
        "        client_weights.append(local_model.get_weights())\n",
        "\n",
        "    # FedAvg\n",
        "    global_weights = [np.mean(np.array([w[i] for w in client_weights]), axis=0) for i in range(len(global_weights))]\n",
        "    global_model.set_weights(global_weights)\n",
        "\n",
        "    # Evaluation\n",
        "    y_pred = global_model.predict(X_test)\n",
        "    y_pred_classes = np.argmax(y_pred, axis=1)\n",
        "    y_true = np.argmax(y_test_cat, axis=1)\n",
        "    acc = accuracy_score(y_true, y_pred_classes)\n",
        "    prec = precision_score(y_true, y_pred_classes, average='weighted')\n",
        "    rec = recall_score(y_true, y_pred_classes, average='weighted')\n",
        "    f1 = f1_score(y_true, y_pred_classes, average='weighted')\n",
        "    cm = confusion_matrix(y_true, y_pred_classes)\n",
        "    auc = roc_auc_score(y_test_cat, y_pred, multi_class='ovr')\n",
        "    round_time = time.time() - round_start\n",
        "\n",
        "    log.append({\n",
        "        'Round': r+1,\n",
        "        'Accuracy': acc,\n",
        "        'Precision': prec,\n",
        "        'Recall': rec,\n",
        "        'F1-Score': f1,\n",
        "        'AUC': auc,\n",
        "        'RoundTime(s)': round_time\n",
        "    })\n",
        "\n",
        "    print(f\"Round {r+1}: Acc={acc:.4f}, F1={f1:.4f}, AUC={auc:.4f}, Time={round_time:.2f}s\")\n",
        "    print(\"Confusion Matrix:\")\n",
        "    print(cm)\n",
        "    print(classification_report(y_true, y_pred_classes))\n",
        "\n",
        "# ----------------------------\n",
        "# Save Logs\n",
        "# ----------------------------\n",
        "df_log = pd.DataFrame(log)\n",
        "df_log.to_csv(\"fedavg_training_log.csv\", index=False)\n",
        "print(\"Training log saved to fedavg_training_log.csv\")"
      ],
      "metadata": {
        "colab": {
          "base_uri": "https://localhost:8080/"
        },
        "id": "Xrq3Ouet_8nu",
        "outputId": "c51d2492-f72b-4ea7-b397-d547342e4b69"
      },
      "execution_count": 4,
      "outputs": [
        {
          "output_type": "stream",
          "name": "stderr",
          "text": [
            "/usr/local/lib/python3.11/dist-packages/keras/src/layers/core/input_layer.py:27: UserWarning: Argument `input_shape` is deprecated. Use `shape` instead.\n",
            "  warnings.warn(\n"
          ]
        },
        {
          "output_type": "stream",
          "name": "stdout",
          "text": [
            "\u001b[1m6572/6572\u001b[0m \u001b[32m━━━━━━━━━━━━━━━━━━━━\u001b[0m\u001b[37m\u001b[0m \u001b[1m23s\u001b[0m 3ms/step\n",
            "Round 1: Acc=0.7141, F1=0.7033, AUC=0.9008, Time=248.61s\n",
            "Confusion Matrix:\n",
            "[[34706  8460  9179   225]\n",
            " [18214 23864  4934  5558]\n",
            " [ 6086  2203 39023  5258]\n",
            " [    0     0     0 52571]]\n",
            "              precision    recall  f1-score   support\n",
            "\n",
            "           0       0.59      0.66      0.62     52570\n",
            "           1       0.69      0.45      0.55     52570\n",
            "           2       0.73      0.74      0.74     52570\n",
            "           3       0.83      1.00      0.90     52571\n",
            "\n",
            "    accuracy                           0.71    210281\n",
            "   macro avg       0.71      0.71      0.70    210281\n",
            "weighted avg       0.71      0.71      0.70    210281\n",
            "\n"
          ]
        },
        {
          "output_type": "stream",
          "name": "stderr",
          "text": [
            "/usr/local/lib/python3.11/dist-packages/keras/src/layers/core/input_layer.py:27: UserWarning: Argument `input_shape` is deprecated. Use `shape` instead.\n",
            "  warnings.warn(\n"
          ]
        },
        {
          "output_type": "stream",
          "name": "stdout",
          "text": [
            "\u001b[1m6572/6572\u001b[0m \u001b[32m━━━━━━━━━━━━━━━━━━━━\u001b[0m\u001b[37m\u001b[0m \u001b[1m22s\u001b[0m 3ms/step\n",
            "Round 2: Acc=0.8754, F1=0.8716, AUC=0.9767, Time=253.27s\n",
            "Confusion Matrix:\n",
            "[[35402 12206  4962     0]\n",
            " [  916 46043   227  5384]\n",
            " [   59   134 51237  1140]\n",
            " [    0     0  1176 51395]]\n",
            "              precision    recall  f1-score   support\n",
            "\n",
            "           0       0.97      0.67      0.80     52570\n",
            "           1       0.79      0.88      0.83     52570\n",
            "           2       0.89      0.97      0.93     52570\n",
            "           3       0.89      0.98      0.93     52571\n",
            "\n",
            "    accuracy                           0.88    210281\n",
            "   macro avg       0.88      0.88      0.87    210281\n",
            "weighted avg       0.88      0.88      0.87    210281\n",
            "\n"
          ]
        },
        {
          "output_type": "stream",
          "name": "stderr",
          "text": [
            "/usr/local/lib/python3.11/dist-packages/keras/src/layers/core/input_layer.py:27: UserWarning: Argument `input_shape` is deprecated. Use `shape` instead.\n",
            "  warnings.warn(\n"
          ]
        },
        {
          "output_type": "stream",
          "name": "stdout",
          "text": [
            "\u001b[1m6572/6572\u001b[0m \u001b[32m━━━━━━━━━━━━━━━━━━━━\u001b[0m\u001b[37m\u001b[0m \u001b[1m24s\u001b[0m 4ms/step\n",
            "Round 3: Acc=0.8943, F1=0.8919, AUC=0.9827, Time=259.10s\n",
            "Confusion Matrix:\n",
            "[[37002 11469  4099     0]\n",
            " [   95 49837    23  2615]\n",
            " [   30    52 51348  1140]\n",
            " [    0  1356  1351 49864]]\n",
            "              precision    recall  f1-score   support\n",
            "\n",
            "           0       1.00      0.70      0.83     52570\n",
            "           1       0.79      0.95      0.86     52570\n",
            "           2       0.90      0.98      0.94     52570\n",
            "           3       0.93      0.95      0.94     52571\n",
            "\n",
            "    accuracy                           0.89    210281\n",
            "   macro avg       0.91      0.89      0.89    210281\n",
            "weighted avg       0.91      0.89      0.89    210281\n",
            "\n"
          ]
        },
        {
          "output_type": "stream",
          "name": "stderr",
          "text": [
            "/usr/local/lib/python3.11/dist-packages/keras/src/layers/core/input_layer.py:27: UserWarning: Argument `input_shape` is deprecated. Use `shape` instead.\n",
            "  warnings.warn(\n"
          ]
        },
        {
          "output_type": "stream",
          "name": "stdout",
          "text": [
            "\u001b[1m6572/6572\u001b[0m \u001b[32m━━━━━━━━━━━━━━━━━━━━\u001b[0m\u001b[37m\u001b[0m \u001b[1m22s\u001b[0m 3ms/step\n",
            "Round 4: Acc=0.9141, F1=0.9126, AUC=0.9866, Time=256.09s\n",
            "Confusion Matrix:\n",
            "[[39940  8920  3710     0]\n",
            " [  135 49801    21  2613]\n",
            " [   21    62 51341  1146]\n",
            " [    0   754   672 51145]]\n",
            "              precision    recall  f1-score   support\n",
            "\n",
            "           0       1.00      0.76      0.86     52570\n",
            "           1       0.84      0.95      0.89     52570\n",
            "           2       0.92      0.98      0.95     52570\n",
            "           3       0.93      0.97      0.95     52571\n",
            "\n",
            "    accuracy                           0.91    210281\n",
            "   macro avg       0.92      0.91      0.91    210281\n",
            "weighted avg       0.92      0.91      0.91    210281\n",
            "\n"
          ]
        },
        {
          "output_type": "stream",
          "name": "stderr",
          "text": [
            "/usr/local/lib/python3.11/dist-packages/keras/src/layers/core/input_layer.py:27: UserWarning: Argument `input_shape` is deprecated. Use `shape` instead.\n",
            "  warnings.warn(\n"
          ]
        },
        {
          "output_type": "stream",
          "name": "stdout",
          "text": [
            "\u001b[1m6572/6572\u001b[0m \u001b[32m━━━━━━━━━━━━━━━━━━━━\u001b[0m\u001b[37m\u001b[0m \u001b[1m21s\u001b[0m 3ms/step\n",
            "Round 5: Acc=0.9137, F1=0.9123, AUC=0.9883, Time=249.82s\n",
            "Confusion Matrix:\n",
            "[[40060  9374  3136     0]\n",
            " [   88 49704    14  2764]\n",
            " [   30    35 51365  1140]\n",
            " [    0   696   876 50999]]\n",
            "              precision    recall  f1-score   support\n",
            "\n",
            "           0       1.00      0.76      0.86     52570\n",
            "           1       0.83      0.95      0.88     52570\n",
            "           2       0.93      0.98      0.95     52570\n",
            "           3       0.93      0.97      0.95     52571\n",
            "\n",
            "    accuracy                           0.91    210281\n",
            "   macro avg       0.92      0.91      0.91    210281\n",
            "weighted avg       0.92      0.91      0.91    210281\n",
            "\n"
          ]
        },
        {
          "output_type": "stream",
          "name": "stderr",
          "text": [
            "/usr/local/lib/python3.11/dist-packages/keras/src/layers/core/input_layer.py:27: UserWarning: Argument `input_shape` is deprecated. Use `shape` instead.\n",
            "  warnings.warn(\n"
          ]
        },
        {
          "output_type": "stream",
          "name": "stdout",
          "text": [
            "\u001b[1m6572/6572\u001b[0m \u001b[32m━━━━━━━━━━━━━━━━━━━━\u001b[0m\u001b[37m\u001b[0m \u001b[1m22s\u001b[0m 3ms/step\n",
            "Round 6: Acc=0.9146, F1=0.9131, AUC=0.9887, Time=249.43s\n",
            "Confusion Matrix:\n",
            "[[40101  9402  3067     0]\n",
            " [   60 49376    12  3122]\n",
            " [   35    56 52457    22]\n",
            " [    0   732  1453 50386]]\n",
            "              precision    recall  f1-score   support\n",
            "\n",
            "           0       1.00      0.76      0.86     52570\n",
            "           1       0.83      0.94      0.88     52570\n",
            "           2       0.92      1.00      0.96     52570\n",
            "           3       0.94      0.96      0.95     52571\n",
            "\n",
            "    accuracy                           0.91    210281\n",
            "   macro avg       0.92      0.91      0.91    210281\n",
            "weighted avg       0.92      0.91      0.91    210281\n",
            "\n"
          ]
        },
        {
          "output_type": "stream",
          "name": "stderr",
          "text": [
            "/usr/local/lib/python3.11/dist-packages/keras/src/layers/core/input_layer.py:27: UserWarning: Argument `input_shape` is deprecated. Use `shape` instead.\n",
            "  warnings.warn(\n"
          ]
        },
        {
          "output_type": "stream",
          "name": "stdout",
          "text": [
            "\u001b[1m6572/6572\u001b[0m \u001b[32m━━━━━━━━━━━━━━━━━━━━\u001b[0m\u001b[37m\u001b[0m \u001b[1m21s\u001b[0m 3ms/step\n",
            "Round 7: Acc=0.9269, F1=0.9256, AUC=0.9890, Time=245.86s\n",
            "Confusion Matrix:\n",
            "[[41237  8417  2916     0]\n",
            " [   91 49940    10  2529]\n",
            " [   37    29 52249   255]\n",
            " [    0   348   739 51484]]\n",
            "              precision    recall  f1-score   support\n",
            "\n",
            "           0       1.00      0.78      0.88     52570\n",
            "           1       0.85      0.95      0.90     52570\n",
            "           2       0.93      0.99      0.96     52570\n",
            "           3       0.95      0.98      0.96     52571\n",
            "\n",
            "    accuracy                           0.93    210281\n",
            "   macro avg       0.93      0.93      0.93    210281\n",
            "weighted avg       0.93      0.93      0.93    210281\n",
            "\n"
          ]
        },
        {
          "output_type": "stream",
          "name": "stderr",
          "text": [
            "/usr/local/lib/python3.11/dist-packages/keras/src/layers/core/input_layer.py:27: UserWarning: Argument `input_shape` is deprecated. Use `shape` instead.\n",
            "  warnings.warn(\n"
          ]
        },
        {
          "output_type": "stream",
          "name": "stdout",
          "text": [
            "\u001b[1m6572/6572\u001b[0m \u001b[32m━━━━━━━━━━━━━━━━━━━━\u001b[0m\u001b[37m\u001b[0m \u001b[1m21s\u001b[0m 3ms/step\n",
            "Round 8: Acc=0.9274, F1=0.9262, AUC=0.9910, Time=242.88s\n",
            "Confusion Matrix:\n",
            "[[41717  7899  2954     0]\n",
            " [   70 49959    19  2522]\n",
            " [   19    26 52484    41]\n",
            " [    0   381  1341 50849]]\n",
            "              precision    recall  f1-score   support\n",
            "\n",
            "           0       1.00      0.79      0.88     52570\n",
            "           1       0.86      0.95      0.90     52570\n",
            "           2       0.92      1.00      0.96     52570\n",
            "           3       0.95      0.97      0.96     52571\n",
            "\n",
            "    accuracy                           0.93    210281\n",
            "   macro avg       0.93      0.93      0.93    210281\n",
            "weighted avg       0.93      0.93      0.93    210281\n",
            "\n"
          ]
        },
        {
          "output_type": "stream",
          "name": "stderr",
          "text": [
            "/usr/local/lib/python3.11/dist-packages/keras/src/layers/core/input_layer.py:27: UserWarning: Argument `input_shape` is deprecated. Use `shape` instead.\n",
            "  warnings.warn(\n"
          ]
        },
        {
          "output_type": "stream",
          "name": "stdout",
          "text": [
            "\u001b[1m6572/6572\u001b[0m \u001b[32m━━━━━━━━━━━━━━━━━━━━\u001b[0m\u001b[37m\u001b[0m \u001b[1m26s\u001b[0m 4ms/step\n",
            "Round 9: Acc=0.9302, F1=0.9294, AUC=0.9911, Time=271.28s\n",
            "Confusion Matrix:\n",
            "[[43054  6493  3023     0]\n",
            " [  158 49604    11  2797]\n",
            " [   27    24 52396   123]\n",
            " [    0   505  1523 50543]]\n",
            "              precision    recall  f1-score   support\n",
            "\n",
            "           0       1.00      0.82      0.90     52570\n",
            "           1       0.88      0.94      0.91     52570\n",
            "           2       0.92      1.00      0.96     52570\n",
            "           3       0.95      0.96      0.95     52571\n",
            "\n",
            "    accuracy                           0.93    210281\n",
            "   macro avg       0.93      0.93      0.93    210281\n",
            "weighted avg       0.93      0.93      0.93    210281\n",
            "\n"
          ]
        },
        {
          "output_type": "stream",
          "name": "stderr",
          "text": [
            "/usr/local/lib/python3.11/dist-packages/keras/src/layers/core/input_layer.py:27: UserWarning: Argument `input_shape` is deprecated. Use `shape` instead.\n",
            "  warnings.warn(\n"
          ]
        },
        {
          "output_type": "stream",
          "name": "stdout",
          "text": [
            "\u001b[1m6572/6572\u001b[0m \u001b[32m━━━━━━━━━━━━━━━━━━━━\u001b[0m\u001b[37m\u001b[0m \u001b[1m23s\u001b[0m 3ms/step\n",
            "Round 10: Acc=0.9354, F1=0.9346, AUC=0.9927, Time=268.28s\n",
            "Confusion Matrix:\n",
            "[[43157  6880  2533     0]\n",
            " [   88 49812    11  2659]\n",
            " [   26    23 52434    87]\n",
            " [    0   487   791 51293]]\n",
            "              precision    recall  f1-score   support\n",
            "\n",
            "           0       1.00      0.82      0.90     52570\n",
            "           1       0.87      0.95      0.91     52570\n",
            "           2       0.94      1.00      0.97     52570\n",
            "           3       0.95      0.98      0.96     52571\n",
            "\n",
            "    accuracy                           0.94    210281\n",
            "   macro avg       0.94      0.94      0.93    210281\n",
            "weighted avg       0.94      0.94      0.93    210281\n",
            "\n"
          ]
        },
        {
          "output_type": "stream",
          "name": "stderr",
          "text": [
            "/usr/local/lib/python3.11/dist-packages/keras/src/layers/core/input_layer.py:27: UserWarning: Argument `input_shape` is deprecated. Use `shape` instead.\n",
            "  warnings.warn(\n"
          ]
        },
        {
          "output_type": "stream",
          "name": "stdout",
          "text": [
            "\u001b[1m6572/6572\u001b[0m \u001b[32m━━━━━━━━━━━━━━━━━━━━\u001b[0m\u001b[37m\u001b[0m \u001b[1m22s\u001b[0m 3ms/step\n",
            "Round 11: Acc=0.9393, F1=0.9387, AUC=0.9939, Time=255.60s\n",
            "Confusion Matrix:\n",
            "[[43822  6049  2699     0]\n",
            " [  106 50581    17  1866]\n",
            " [   12    22 52482    54]\n",
            " [    0   722  1213 50636]]\n",
            "              precision    recall  f1-score   support\n",
            "\n",
            "           0       1.00      0.83      0.91     52570\n",
            "           1       0.88      0.96      0.92     52570\n",
            "           2       0.93      1.00      0.96     52570\n",
            "           3       0.96      0.96      0.96     52571\n",
            "\n",
            "    accuracy                           0.94    210281\n",
            "   macro avg       0.94      0.94      0.94    210281\n",
            "weighted avg       0.94      0.94      0.94    210281\n",
            "\n"
          ]
        },
        {
          "output_type": "stream",
          "name": "stderr",
          "text": [
            "/usr/local/lib/python3.11/dist-packages/keras/src/layers/core/input_layer.py:27: UserWarning: Argument `input_shape` is deprecated. Use `shape` instead.\n",
            "  warnings.warn(\n"
          ]
        },
        {
          "output_type": "stream",
          "name": "stdout",
          "text": [
            "\u001b[1m6572/6572\u001b[0m \u001b[32m━━━━━━━━━━━━━━━━━━━━\u001b[0m\u001b[37m\u001b[0m \u001b[1m22s\u001b[0m 3ms/step\n",
            "Round 12: Acc=0.9476, F1=0.9472, AUC=0.9944, Time=262.33s\n",
            "Confusion Matrix:\n",
            "[[45145  5329  2095     1]\n",
            " [  365 51221    15   969]\n",
            " [   25    24 52518     3]\n",
            " [    0  1106  1096 50369]]\n",
            "              precision    recall  f1-score   support\n",
            "\n",
            "           0       0.99      0.86      0.92     52570\n",
            "           1       0.89      0.97      0.93     52570\n",
            "           2       0.94      1.00      0.97     52570\n",
            "           3       0.98      0.96      0.97     52571\n",
            "\n",
            "    accuracy                           0.95    210281\n",
            "   macro avg       0.95      0.95      0.95    210281\n",
            "weighted avg       0.95      0.95      0.95    210281\n",
            "\n"
          ]
        },
        {
          "output_type": "stream",
          "name": "stderr",
          "text": [
            "/usr/local/lib/python3.11/dist-packages/keras/src/layers/core/input_layer.py:27: UserWarning: Argument `input_shape` is deprecated. Use `shape` instead.\n",
            "  warnings.warn(\n"
          ]
        },
        {
          "output_type": "stream",
          "name": "stdout",
          "text": [
            "\u001b[1m6572/6572\u001b[0m \u001b[32m━━━━━━━━━━━━━━━━━━━━\u001b[0m\u001b[37m\u001b[0m \u001b[1m23s\u001b[0m 3ms/step\n",
            "Round 13: Acc=0.9495, F1=0.9493, AUC=0.9954, Time=260.02s\n",
            "Confusion Matrix:\n",
            "[[45121  5320  2129     0]\n",
            " [  300 52167     7    96]\n",
            " [   17    22 52520    11]\n",
            " [    0  1658  1054 49859]]\n",
            "              precision    recall  f1-score   support\n",
            "\n",
            "           0       0.99      0.86      0.92     52570\n",
            "           1       0.88      0.99      0.93     52570\n",
            "           2       0.94      1.00      0.97     52570\n",
            "           3       1.00      0.95      0.97     52571\n",
            "\n",
            "    accuracy                           0.95    210281\n",
            "   macro avg       0.95      0.95      0.95    210281\n",
            "weighted avg       0.95      0.95      0.95    210281\n",
            "\n"
          ]
        },
        {
          "output_type": "stream",
          "name": "stderr",
          "text": [
            "/usr/local/lib/python3.11/dist-packages/keras/src/layers/core/input_layer.py:27: UserWarning: Argument `input_shape` is deprecated. Use `shape` instead.\n",
            "  warnings.warn(\n"
          ]
        },
        {
          "output_type": "stream",
          "name": "stdout",
          "text": [
            "\u001b[1m6572/6572\u001b[0m \u001b[32m━━━━━━━━━━━━━━━━━━━━\u001b[0m\u001b[37m\u001b[0m \u001b[1m22s\u001b[0m 3ms/step\n",
            "Round 14: Acc=0.9516, F1=0.9514, AUC=0.9955, Time=264.53s\n",
            "Confusion Matrix:\n",
            "[[46018  4725  1824     3]\n",
            " [  378 51801    13   378]\n",
            " [   21    19 52530     0]\n",
            " [    0  1690  1133 49748]]\n",
            "              precision    recall  f1-score   support\n",
            "\n",
            "           0       0.99      0.88      0.93     52570\n",
            "           1       0.89      0.99      0.93     52570\n",
            "           2       0.95      1.00      0.97     52570\n",
            "           3       0.99      0.95      0.97     52571\n",
            "\n",
            "    accuracy                           0.95    210281\n",
            "   macro avg       0.95      0.95      0.95    210281\n",
            "weighted avg       0.95      0.95      0.95    210281\n",
            "\n"
          ]
        },
        {
          "output_type": "stream",
          "name": "stderr",
          "text": [
            "/usr/local/lib/python3.11/dist-packages/keras/src/layers/core/input_layer.py:27: UserWarning: Argument `input_shape` is deprecated. Use `shape` instead.\n",
            "  warnings.warn(\n"
          ]
        },
        {
          "output_type": "stream",
          "name": "stdout",
          "text": [
            "\u001b[1m6572/6572\u001b[0m \u001b[32m━━━━━━━━━━━━━━━━━━━━\u001b[0m\u001b[37m\u001b[0m \u001b[1m22s\u001b[0m 3ms/step\n",
            "Round 15: Acc=0.9589, F1=0.9587, AUC=0.9961, Time=268.67s\n",
            "Confusion Matrix:\n",
            "[[46529  4263  1776     2]\n",
            " [  442 52023     8    97]\n",
            " [   39    27 52499     5]\n",
            " [    0  1267   721 50583]]\n",
            "              precision    recall  f1-score   support\n",
            "\n",
            "           0       0.99      0.89      0.93     52570\n",
            "           1       0.90      0.99      0.94     52570\n",
            "           2       0.95      1.00      0.98     52570\n",
            "           3       1.00      0.96      0.98     52571\n",
            "\n",
            "    accuracy                           0.96    210281\n",
            "   macro avg       0.96      0.96      0.96    210281\n",
            "weighted avg       0.96      0.96      0.96    210281\n",
            "\n"
          ]
        },
        {
          "output_type": "stream",
          "name": "stderr",
          "text": [
            "/usr/local/lib/python3.11/dist-packages/keras/src/layers/core/input_layer.py:27: UserWarning: Argument `input_shape` is deprecated. Use `shape` instead.\n",
            "  warnings.warn(\n"
          ]
        },
        {
          "output_type": "stream",
          "name": "stdout",
          "text": [
            "\u001b[1m6572/6572\u001b[0m \u001b[32m━━━━━━━━━━━━━━━━━━━━\u001b[0m\u001b[37m\u001b[0m \u001b[1m23s\u001b[0m 3ms/step\n",
            "Round 16: Acc=0.9585, F1=0.9583, AUC=0.9963, Time=264.58s\n",
            "Confusion Matrix:\n",
            "[[46424  4309  1836     1]\n",
            " [  412 52045    10   103]\n",
            " [   23    19 52524     4]\n",
            " [    0  1225   794 50552]]\n",
            "              precision    recall  f1-score   support\n",
            "\n",
            "           0       0.99      0.88      0.93     52570\n",
            "           1       0.90      0.99      0.94     52570\n",
            "           2       0.95      1.00      0.98     52570\n",
            "           3       1.00      0.96      0.98     52571\n",
            "\n",
            "    accuracy                           0.96    210281\n",
            "   macro avg       0.96      0.96      0.96    210281\n",
            "weighted avg       0.96      0.96      0.96    210281\n",
            "\n"
          ]
        },
        {
          "output_type": "stream",
          "name": "stderr",
          "text": [
            "/usr/local/lib/python3.11/dist-packages/keras/src/layers/core/input_layer.py:27: UserWarning: Argument `input_shape` is deprecated. Use `shape` instead.\n",
            "  warnings.warn(\n"
          ]
        },
        {
          "output_type": "stream",
          "name": "stdout",
          "text": [
            "\u001b[1m6572/6572\u001b[0m \u001b[32m━━━━━━━━━━━━━━━━━━━━\u001b[0m\u001b[37m\u001b[0m \u001b[1m22s\u001b[0m 3ms/step\n",
            "Round 17: Acc=0.9615, F1=0.9614, AUC=0.9970, Time=257.84s\n",
            "Confusion Matrix:\n",
            "[[47141  3907  1521     1]\n",
            " [  466 52002    10    92]\n",
            " [   33    20 52514     3]\n",
            " [    0  1243   797 50531]]\n",
            "              precision    recall  f1-score   support\n",
            "\n",
            "           0       0.99      0.90      0.94     52570\n",
            "           1       0.91      0.99      0.95     52570\n",
            "           2       0.96      1.00      0.98     52570\n",
            "           3       1.00      0.96      0.98     52571\n",
            "\n",
            "    accuracy                           0.96    210281\n",
            "   macro avg       0.96      0.96      0.96    210281\n",
            "weighted avg       0.96      0.96      0.96    210281\n",
            "\n"
          ]
        },
        {
          "output_type": "stream",
          "name": "stderr",
          "text": [
            "/usr/local/lib/python3.11/dist-packages/keras/src/layers/core/input_layer.py:27: UserWarning: Argument `input_shape` is deprecated. Use `shape` instead.\n",
            "  warnings.warn(\n"
          ]
        },
        {
          "output_type": "stream",
          "name": "stdout",
          "text": [
            "\u001b[1m6572/6572\u001b[0m \u001b[32m━━━━━━━━━━━━━━━━━━━━\u001b[0m\u001b[37m\u001b[0m \u001b[1m21s\u001b[0m 3ms/step\n",
            "Round 18: Acc=0.9647, F1=0.9646, AUC=0.9973, Time=259.39s\n",
            "Confusion Matrix:\n",
            "[[47179  3976  1414     1]\n",
            " [  377 52086    12    95]\n",
            " [   33    17 52504    16]\n",
            " [    0   941   537 51093]]\n",
            "              precision    recall  f1-score   support\n",
            "\n",
            "           0       0.99      0.90      0.94     52570\n",
            "           1       0.91      0.99      0.95     52570\n",
            "           2       0.96      1.00      0.98     52570\n",
            "           3       1.00      0.97      0.98     52571\n",
            "\n",
            "    accuracy                           0.96    210281\n",
            "   macro avg       0.97      0.96      0.96    210281\n",
            "weighted avg       0.97      0.96      0.96    210281\n",
            "\n"
          ]
        },
        {
          "output_type": "stream",
          "name": "stderr",
          "text": [
            "/usr/local/lib/python3.11/dist-packages/keras/src/layers/core/input_layer.py:27: UserWarning: Argument `input_shape` is deprecated. Use `shape` instead.\n",
            "  warnings.warn(\n"
          ]
        },
        {
          "output_type": "stream",
          "name": "stdout",
          "text": [
            "\u001b[1m6572/6572\u001b[0m \u001b[32m━━━━━━━━━━━━━━━━━━━━\u001b[0m\u001b[37m\u001b[0m \u001b[1m21s\u001b[0m 3ms/step\n",
            "Round 19: Acc=0.9627, F1=0.9625, AUC=0.9969, Time=255.60s\n",
            "Confusion Matrix:\n",
            "[[47053  3792  1723     2]\n",
            " [  449 52032    16    73]\n",
            " [   25    21 52516     8]\n",
            " [    0  1064   678 50829]]\n",
            "              precision    recall  f1-score   support\n",
            "\n",
            "           0       0.99      0.90      0.94     52570\n",
            "           1       0.91      0.99      0.95     52570\n",
            "           2       0.96      1.00      0.98     52570\n",
            "           3       1.00      0.97      0.98     52571\n",
            "\n",
            "    accuracy                           0.96    210281\n",
            "   macro avg       0.96      0.96      0.96    210281\n",
            "weighted avg       0.96      0.96      0.96    210281\n",
            "\n"
          ]
        },
        {
          "output_type": "stream",
          "name": "stderr",
          "text": [
            "/usr/local/lib/python3.11/dist-packages/keras/src/layers/core/input_layer.py:27: UserWarning: Argument `input_shape` is deprecated. Use `shape` instead.\n",
            "  warnings.warn(\n"
          ]
        },
        {
          "output_type": "stream",
          "name": "stdout",
          "text": [
            "\u001b[1m6572/6572\u001b[0m \u001b[32m━━━━━━━━━━━━━━━━━━━━\u001b[0m\u001b[37m\u001b[0m \u001b[1m19s\u001b[0m 3ms/step\n",
            "Round 20: Acc=0.9606, F1=0.9605, AUC=0.9965, Time=241.25s\n",
            "Confusion Matrix:\n",
            "[[47227  3596  1746     1]\n",
            " [  548 51928    13    81]\n",
            " [   20    23 52527     0]\n",
            " [    0  1305   957 50309]]\n",
            "              precision    recall  f1-score   support\n",
            "\n",
            "           0       0.99      0.90      0.94     52570\n",
            "           1       0.91      0.99      0.95     52570\n",
            "           2       0.95      1.00      0.97     52570\n",
            "           3       1.00      0.96      0.98     52571\n",
            "\n",
            "    accuracy                           0.96    210281\n",
            "   macro avg       0.96      0.96      0.96    210281\n",
            "weighted avg       0.96      0.96      0.96    210281\n",
            "\n"
          ]
        },
        {
          "output_type": "stream",
          "name": "stderr",
          "text": [
            "/usr/local/lib/python3.11/dist-packages/keras/src/layers/core/input_layer.py:27: UserWarning: Argument `input_shape` is deprecated. Use `shape` instead.\n",
            "  warnings.warn(\n"
          ]
        },
        {
          "output_type": "stream",
          "name": "stdout",
          "text": [
            "\u001b[1m6572/6572\u001b[0m \u001b[32m━━━━━━━━━━━━━━━━━━━━\u001b[0m\u001b[37m\u001b[0m \u001b[1m19s\u001b[0m 3ms/step\n",
            "Round 21: Acc=0.9650, F1=0.9650, AUC=0.9973, Time=237.01s\n",
            "Confusion Matrix:\n",
            "[[47933  3269  1366     2]\n",
            " [  512 51548    13   497]\n",
            " [   29    23 52493    25]\n",
            " [    0   926   689 50956]]\n",
            "              precision    recall  f1-score   support\n",
            "\n",
            "           0       0.99      0.91      0.95     52570\n",
            "           1       0.92      0.98      0.95     52570\n",
            "           2       0.96      1.00      0.98     52570\n",
            "           3       0.99      0.97      0.98     52571\n",
            "\n",
            "    accuracy                           0.97    210281\n",
            "   macro avg       0.97      0.97      0.96    210281\n",
            "weighted avg       0.97      0.97      0.96    210281\n",
            "\n"
          ]
        },
        {
          "output_type": "stream",
          "name": "stderr",
          "text": [
            "/usr/local/lib/python3.11/dist-packages/keras/src/layers/core/input_layer.py:27: UserWarning: Argument `input_shape` is deprecated. Use `shape` instead.\n",
            "  warnings.warn(\n"
          ]
        },
        {
          "output_type": "stream",
          "name": "stdout",
          "text": [
            "\u001b[1m6572/6572\u001b[0m \u001b[32m━━━━━━━━━━━━━━━━━━━━\u001b[0m\u001b[37m\u001b[0m \u001b[1m18s\u001b[0m 3ms/step\n",
            "Round 22: Acc=0.9656, F1=0.9655, AUC=0.9963, Time=227.02s\n",
            "Confusion Matrix:\n",
            "[[47519  3297  1752     2]\n",
            " [  519 51967    11    73]\n",
            " [   32    23 52514     1]\n",
            " [    0   808   706 51057]]\n",
            "              precision    recall  f1-score   support\n",
            "\n",
            "           0       0.99      0.90      0.94     52570\n",
            "           1       0.93      0.99      0.96     52570\n",
            "           2       0.96      1.00      0.98     52570\n",
            "           3       1.00      0.97      0.98     52571\n",
            "\n",
            "    accuracy                           0.97    210281\n",
            "   macro avg       0.97      0.97      0.97    210281\n",
            "weighted avg       0.97      0.97      0.97    210281\n",
            "\n"
          ]
        },
        {
          "output_type": "stream",
          "name": "stderr",
          "text": [
            "/usr/local/lib/python3.11/dist-packages/keras/src/layers/core/input_layer.py:27: UserWarning: Argument `input_shape` is deprecated. Use `shape` instead.\n",
            "  warnings.warn(\n"
          ]
        },
        {
          "output_type": "stream",
          "name": "stdout",
          "text": [
            "\u001b[1m6572/6572\u001b[0m \u001b[32m━━━━━━━━━━━━━━━━━━━━\u001b[0m\u001b[37m\u001b[0m \u001b[1m20s\u001b[0m 3ms/step\n",
            "Round 23: Acc=0.9705, F1=0.9704, AUC=0.9980, Time=243.57s\n",
            "Confusion Matrix:\n",
            "[[48261  2978  1330     1]\n",
            " [  455 52044    14    57]\n",
            " [   31    18 52521     0]\n",
            " [    0   749   563 51259]]\n",
            "              precision    recall  f1-score   support\n",
            "\n",
            "           0       0.99      0.92      0.95     52570\n",
            "           1       0.93      0.99      0.96     52570\n",
            "           2       0.96      1.00      0.98     52570\n",
            "           3       1.00      0.98      0.99     52571\n",
            "\n",
            "    accuracy                           0.97    210281\n",
            "   macro avg       0.97      0.97      0.97    210281\n",
            "weighted avg       0.97      0.97      0.97    210281\n",
            "\n"
          ]
        },
        {
          "output_type": "stream",
          "name": "stderr",
          "text": [
            "/usr/local/lib/python3.11/dist-packages/keras/src/layers/core/input_layer.py:27: UserWarning: Argument `input_shape` is deprecated. Use `shape` instead.\n",
            "  warnings.warn(\n"
          ]
        },
        {
          "output_type": "stream",
          "name": "stdout",
          "text": [
            "\u001b[1m6572/6572\u001b[0m \u001b[32m━━━━━━━━━━━━━━━━━━━━\u001b[0m\u001b[37m\u001b[0m \u001b[1m19s\u001b[0m 3ms/step\n",
            "Round 24: Acc=0.9689, F1=0.9688, AUC=0.9978, Time=236.14s\n",
            "Confusion Matrix:\n",
            "[[48224  3149  1195     2]\n",
            " [  543 51797    12   218]\n",
            " [   32    21 52516     1]\n",
            " [    0   836   529 51206]]\n",
            "              precision    recall  f1-score   support\n",
            "\n",
            "           0       0.99      0.92      0.95     52570\n",
            "           1       0.93      0.99      0.96     52570\n",
            "           2       0.97      1.00      0.98     52570\n",
            "           3       1.00      0.97      0.98     52571\n",
            "\n",
            "    accuracy                           0.97    210281\n",
            "   macro avg       0.97      0.97      0.97    210281\n",
            "weighted avg       0.97      0.97      0.97    210281\n",
            "\n"
          ]
        },
        {
          "output_type": "stream",
          "name": "stderr",
          "text": [
            "/usr/local/lib/python3.11/dist-packages/keras/src/layers/core/input_layer.py:27: UserWarning: Argument `input_shape` is deprecated. Use `shape` instead.\n",
            "  warnings.warn(\n"
          ]
        },
        {
          "output_type": "stream",
          "name": "stdout",
          "text": [
            "\u001b[1m6572/6572\u001b[0m \u001b[32m━━━━━━━━━━━━━━━━━━━━\u001b[0m\u001b[37m\u001b[0m \u001b[1m20s\u001b[0m 3ms/step\n",
            "Round 25: Acc=0.9693, F1=0.9692, AUC=0.9981, Time=237.01s\n",
            "Confusion Matrix:\n",
            "[[48063  3217  1288     2]\n",
            " [  478 52008    12    72]\n",
            " [   36    24 52509     1]\n",
            " [    0   679   643 51249]]\n",
            "              precision    recall  f1-score   support\n",
            "\n",
            "           0       0.99      0.91      0.95     52570\n",
            "           1       0.93      0.99      0.96     52570\n",
            "           2       0.96      1.00      0.98     52570\n",
            "           3       1.00      0.97      0.99     52571\n",
            "\n",
            "    accuracy                           0.97    210281\n",
            "   macro avg       0.97      0.97      0.97    210281\n",
            "weighted avg       0.97      0.97      0.97    210281\n",
            "\n"
          ]
        },
        {
          "output_type": "stream",
          "name": "stderr",
          "text": [
            "/usr/local/lib/python3.11/dist-packages/keras/src/layers/core/input_layer.py:27: UserWarning: Argument `input_shape` is deprecated. Use `shape` instead.\n",
            "  warnings.warn(\n"
          ]
        },
        {
          "output_type": "stream",
          "name": "stdout",
          "text": [
            "\u001b[1m6572/6572\u001b[0m \u001b[32m━━━━━━━━━━━━━━━━━━━━\u001b[0m\u001b[37m\u001b[0m \u001b[1m20s\u001b[0m 3ms/step\n",
            "Round 26: Acc=0.9698, F1=0.9696, AUC=0.9981, Time=235.17s\n",
            "Confusion Matrix:\n",
            "[[48083  3012  1474     1]\n",
            " [  518 51961    12    79]\n",
            " [   16    23 52531     0]\n",
            " [    0   694   530 51347]]\n",
            "              precision    recall  f1-score   support\n",
            "\n",
            "           0       0.99      0.91      0.95     52570\n",
            "           1       0.93      0.99      0.96     52570\n",
            "           2       0.96      1.00      0.98     52570\n",
            "           3       1.00      0.98      0.99     52571\n",
            "\n",
            "    accuracy                           0.97    210281\n",
            "   macro avg       0.97      0.97      0.97    210281\n",
            "weighted avg       0.97      0.97      0.97    210281\n",
            "\n"
          ]
        },
        {
          "output_type": "stream",
          "name": "stderr",
          "text": [
            "/usr/local/lib/python3.11/dist-packages/keras/src/layers/core/input_layer.py:27: UserWarning: Argument `input_shape` is deprecated. Use `shape` instead.\n",
            "  warnings.warn(\n"
          ]
        },
        {
          "output_type": "stream",
          "name": "stdout",
          "text": [
            "\u001b[1m6572/6572\u001b[0m \u001b[32m━━━━━━━━━━━━━━━━━━━━\u001b[0m\u001b[37m\u001b[0m \u001b[1m19s\u001b[0m 3ms/step\n",
            "Round 27: Acc=0.9658, F1=0.9657, AUC=0.9973, Time=236.23s\n",
            "Confusion Matrix:\n",
            "[[47399  3586  1583     2]\n",
            " [  374 52076    13   107]\n",
            " [   24    24 52518     4]\n",
            " [    0   800   674 51097]]\n",
            "              precision    recall  f1-score   support\n",
            "\n",
            "           0       0.99      0.90      0.94     52570\n",
            "           1       0.92      0.99      0.96     52570\n",
            "           2       0.96      1.00      0.98     52570\n",
            "           3       1.00      0.97      0.98     52571\n",
            "\n",
            "    accuracy                           0.97    210281\n",
            "   macro avg       0.97      0.97      0.97    210281\n",
            "weighted avg       0.97      0.97      0.97    210281\n",
            "\n"
          ]
        },
        {
          "output_type": "stream",
          "name": "stderr",
          "text": [
            "/usr/local/lib/python3.11/dist-packages/keras/src/layers/core/input_layer.py:27: UserWarning: Argument `input_shape` is deprecated. Use `shape` instead.\n",
            "  warnings.warn(\n"
          ]
        },
        {
          "output_type": "stream",
          "name": "stdout",
          "text": [
            "\u001b[1m6572/6572\u001b[0m \u001b[32m━━━━━━━━━━━━━━━━━━━━\u001b[0m\u001b[37m\u001b[0m \u001b[1m19s\u001b[0m 3ms/step\n",
            "Round 28: Acc=0.9719, F1=0.9718, AUC=0.9985, Time=238.08s\n",
            "Confusion Matrix:\n",
            "[[48312  3008  1249     1]\n",
            " [  470 52045     7    48]\n",
            " [   30    25 52515     0]\n",
            " [    0   681   394 51496]]\n",
            "              precision    recall  f1-score   support\n",
            "\n",
            "           0       0.99      0.92      0.95     52570\n",
            "           1       0.93      0.99      0.96     52570\n",
            "           2       0.97      1.00      0.98     52570\n",
            "           3       1.00      0.98      0.99     52571\n",
            "\n",
            "    accuracy                           0.97    210281\n",
            "   macro avg       0.97      0.97      0.97    210281\n",
            "weighted avg       0.97      0.97      0.97    210281\n",
            "\n"
          ]
        },
        {
          "output_type": "stream",
          "name": "stderr",
          "text": [
            "/usr/local/lib/python3.11/dist-packages/keras/src/layers/core/input_layer.py:27: UserWarning: Argument `input_shape` is deprecated. Use `shape` instead.\n",
            "  warnings.warn(\n"
          ]
        },
        {
          "output_type": "stream",
          "name": "stdout",
          "text": [
            "\u001b[1m6572/6572\u001b[0m \u001b[32m━━━━━━━━━━━━━━━━━━━━\u001b[0m\u001b[37m\u001b[0m \u001b[1m19s\u001b[0m 3ms/step\n",
            "Round 29: Acc=0.9705, F1=0.9705, AUC=0.9983, Time=239.63s\n",
            "Confusion Matrix:\n",
            "[[48428  2842  1300     0]\n",
            " [  444 52023    12    91]\n",
            " [   34    16 52519     1]\n",
            " [    0   755   703 51113]]\n",
            "              precision    recall  f1-score   support\n",
            "\n",
            "           0       0.99      0.92      0.95     52570\n",
            "           1       0.94      0.99      0.96     52570\n",
            "           2       0.96      1.00      0.98     52570\n",
            "           3       1.00      0.97      0.99     52571\n",
            "\n",
            "    accuracy                           0.97    210281\n",
            "   macro avg       0.97      0.97      0.97    210281\n",
            "weighted avg       0.97      0.97      0.97    210281\n",
            "\n"
          ]
        },
        {
          "output_type": "stream",
          "name": "stderr",
          "text": [
            "/usr/local/lib/python3.11/dist-packages/keras/src/layers/core/input_layer.py:27: UserWarning: Argument `input_shape` is deprecated. Use `shape` instead.\n",
            "  warnings.warn(\n"
          ]
        },
        {
          "output_type": "stream",
          "name": "stdout",
          "text": [
            "\u001b[1m6572/6572\u001b[0m \u001b[32m━━━━━━━━━━━━━━━━━━━━\u001b[0m\u001b[37m\u001b[0m \u001b[1m20s\u001b[0m 3ms/step\n",
            "Round 30: Acc=0.9718, F1=0.9717, AUC=0.9983, Time=237.74s\n",
            "Confusion Matrix:\n",
            "[[48160  3017  1392     1]\n",
            " [  387 52125    11    47]\n",
            " [   18    24 52522     6]\n",
            " [    0   535   496 51540]]\n",
            "              precision    recall  f1-score   support\n",
            "\n",
            "           0       0.99      0.92      0.95     52570\n",
            "           1       0.94      0.99      0.96     52570\n",
            "           2       0.97      1.00      0.98     52570\n",
            "           3       1.00      0.98      0.99     52571\n",
            "\n",
            "    accuracy                           0.97    210281\n",
            "   macro avg       0.97      0.97      0.97    210281\n",
            "weighted avg       0.97      0.97      0.97    210281\n",
            "\n",
            "Training log saved to fedavg_training_log.csv\n"
          ]
        }
      ]
    }
  ]
}