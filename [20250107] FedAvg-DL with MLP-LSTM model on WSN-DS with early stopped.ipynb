{
  "nbformat": 4,
  "nbformat_minor": 0,
  "metadata": {
    "colab": {
      "provenance": [],
      "machine_shape": "hm",
      "authorship_tag": "ABX9TyM8ATMomUC/ckWRbqpvINtk",
      "include_colab_link": true
    },
    "kernelspec": {
      "name": "python3",
      "display_name": "Python 3"
    },
    "language_info": {
      "name": "python"
    }
  },
  "cells": [
    {
      "cell_type": "markdown",
      "metadata": {
        "id": "view-in-github",
        "colab_type": "text"
      },
      "source": [
        "<a href=\"https://colab.research.google.com/github/sankeawthong/Project-1-Lita-Chatbot/blob/main/%5B20250107%5D%20FedAvg-DL%20with%20MLP-LSTM%20model%20on%20WSN-DS%20with%20early%20stopped.ipynb\" target=\"_parent\"><img src=\"https://colab.research.google.com/assets/colab-badge.svg\" alt=\"Open In Colab\"/></a>"
      ]
    },
    {
      "cell_type": "markdown",
      "source": [
        "**FedAvg-DL // MLP-LSTM model 5 classes on WSN-DS**"
      ],
      "metadata": {
        "id": "NdJw5-HPtPeU"
      }
    },
    {
      "cell_type": "code",
      "execution_count": null,
      "metadata": {
        "id": "Kys3NgWmCB12"
      },
      "outputs": [],
      "source": [
        "import pandas as pd\n",
        "import numpy as np\n",
        "from sklearn.linear_model import LogisticRegression\n",
        "from sklearn.model_selection import train_test_split\n",
        "from sklearn.metrics import accuracy_score, classification_report\n",
        "from sklearn.preprocessing import LabelEncoder, StandardScaler\n",
        "from keras.models import Sequential\n",
        "from keras.layers import Dense, LSTM, Bidirectional, Dropout, Flatten\n",
        "from sklearn.metrics import accuracy_score, classification_report, confusion_matrix\n",
        "from keras.utils import to_categorical"
      ]
    },
    {
      "cell_type": "code",
      "source": [
        "# Load dataset\n",
        "dataset = pd.read_csv(\"dataset_WSN-DS.csv\") #WSN-DS 5 classes dataset\n",
        "\n",
        "# Preprocessing: Handle missing values (if any)\n",
        "dataset = dataset.dropna() # Remove missing values"
      ],
      "metadata": {
        "id": "W4xz10xkCHq8"
      },
      "execution_count": null,
      "outputs": []
    },
    {
      "cell_type": "code",
      "source": [
        "dataset"
      ],
      "metadata": {
        "colab": {
          "base_uri": "https://localhost:8080/",
          "height": 441
        },
        "id": "Ds2sKdTwCJgj",
        "outputId": "6b7a5112-6490-4ca1-df6d-591936b69736"
      },
      "execution_count": null,
      "outputs": [
        {
          "output_type": "execute_result",
          "data": {
            "text/plain": [
              "            id   Time   Is_CH   who CH   Dist_To_CH   ADV_S   ADV_R   JOIN_S  \\\n",
              "0       101000     50       1   101000      0.00000       1       0        0   \n",
              "1       101001     50       0   101044     75.32345       0       4        1   \n",
              "2       101002     50       0   101010     46.95453       0       4        1   \n",
              "3       101003     50       0   101044     64.85231       0       4        1   \n",
              "4       101004     50       0   101010      4.83341       0       4        1   \n",
              "...        ...    ...     ...      ...          ...     ...     ...      ...   \n",
              "374656  201096   1003       0   201051      6.98337       0       5        1   \n",
              "374657  201097   1003       0   201037     29.32867       0       5        1   \n",
              "374658  201098   1003       0   201095     18.51963       0       5        1   \n",
              "374659  201099   1003       0   201051      8.55001       0       5        1   \n",
              "374660  202041   1025       0   202100      0.00000       0       5        0   \n",
              "\n",
              "         JOIN_R   SCH_S   SCH_R  Rank   DATA_S   DATA_R   Data_Sent_To_BS  \\\n",
              "0            25       1       0     0        0     1200                48   \n",
              "1             0       0       1     2       38        0                 0   \n",
              "2             0       0       1    19       41        0                 0   \n",
              "3             0       0       1    16       38        0                 0   \n",
              "4             0       0       1    25       41        0                 0   \n",
              "...         ...     ...     ...   ...      ...      ...               ...   \n",
              "374656        0       0       1     7       96        0                67   \n",
              "374657        0       0       1    31       39        0                24   \n",
              "374658        0       0       1    17       55        0                31   \n",
              "374659        0       0       1     3       96        0                65   \n",
              "374660        0       0       0     4        7      689                 7   \n",
              "\n",
              "         dist_CH_To_BS   send_code   Expaned Energy  Class  \n",
              "0            130.08535            0         2.46940      0  \n",
              "1              0.00000            4         0.06957      0  \n",
              "2              0.00000            3         0.06898      0  \n",
              "3              0.00000            4         0.06673      0  \n",
              "4              0.00000            3         0.06534      0  \n",
              "...                ...          ...             ...    ...  \n",
              "374656       170.14779            3         0.15974      0  \n",
              "374657        82.21043            2         0.06877      0  \n",
              "374658       139.26438            1         0.09437      0  \n",
              "374659       158.27492            3         0.16047      0  \n",
              "374660       115.00407            0         1.01325      0  \n",
              "\n",
              "[374661 rows x 19 columns]"
            ],
            "text/html": [
              "\n",
              "  <div id=\"df-b695369a-cfae-41b6-a2fb-6348f94ea5db\" class=\"colab-df-container\">\n",
              "    <div>\n",
              "<style scoped>\n",
              "    .dataframe tbody tr th:only-of-type {\n",
              "        vertical-align: middle;\n",
              "    }\n",
              "\n",
              "    .dataframe tbody tr th {\n",
              "        vertical-align: top;\n",
              "    }\n",
              "\n",
              "    .dataframe thead th {\n",
              "        text-align: right;\n",
              "    }\n",
              "</style>\n",
              "<table border=\"1\" class=\"dataframe\">\n",
              "  <thead>\n",
              "    <tr style=\"text-align: right;\">\n",
              "      <th></th>\n",
              "      <th>id</th>\n",
              "      <th>Time</th>\n",
              "      <th>Is_CH</th>\n",
              "      <th>who CH</th>\n",
              "      <th>Dist_To_CH</th>\n",
              "      <th>ADV_S</th>\n",
              "      <th>ADV_R</th>\n",
              "      <th>JOIN_S</th>\n",
              "      <th>JOIN_R</th>\n",
              "      <th>SCH_S</th>\n",
              "      <th>SCH_R</th>\n",
              "      <th>Rank</th>\n",
              "      <th>DATA_S</th>\n",
              "      <th>DATA_R</th>\n",
              "      <th>Data_Sent_To_BS</th>\n",
              "      <th>dist_CH_To_BS</th>\n",
              "      <th>send_code</th>\n",
              "      <th>Expaned Energy</th>\n",
              "      <th>Class</th>\n",
              "    </tr>\n",
              "  </thead>\n",
              "  <tbody>\n",
              "    <tr>\n",
              "      <th>0</th>\n",
              "      <td>101000</td>\n",
              "      <td>50</td>\n",
              "      <td>1</td>\n",
              "      <td>101000</td>\n",
              "      <td>0.00000</td>\n",
              "      <td>1</td>\n",
              "      <td>0</td>\n",
              "      <td>0</td>\n",
              "      <td>25</td>\n",
              "      <td>1</td>\n",
              "      <td>0</td>\n",
              "      <td>0</td>\n",
              "      <td>0</td>\n",
              "      <td>1200</td>\n",
              "      <td>48</td>\n",
              "      <td>130.08535</td>\n",
              "      <td>0</td>\n",
              "      <td>2.46940</td>\n",
              "      <td>0</td>\n",
              "    </tr>\n",
              "    <tr>\n",
              "      <th>1</th>\n",
              "      <td>101001</td>\n",
              "      <td>50</td>\n",
              "      <td>0</td>\n",
              "      <td>101044</td>\n",
              "      <td>75.32345</td>\n",
              "      <td>0</td>\n",
              "      <td>4</td>\n",
              "      <td>1</td>\n",
              "      <td>0</td>\n",
              "      <td>0</td>\n",
              "      <td>1</td>\n",
              "      <td>2</td>\n",
              "      <td>38</td>\n",
              "      <td>0</td>\n",
              "      <td>0</td>\n",
              "      <td>0.00000</td>\n",
              "      <td>4</td>\n",
              "      <td>0.06957</td>\n",
              "      <td>0</td>\n",
              "    </tr>\n",
              "    <tr>\n",
              "      <th>2</th>\n",
              "      <td>101002</td>\n",
              "      <td>50</td>\n",
              "      <td>0</td>\n",
              "      <td>101010</td>\n",
              "      <td>46.95453</td>\n",
              "      <td>0</td>\n",
              "      <td>4</td>\n",
              "      <td>1</td>\n",
              "      <td>0</td>\n",
              "      <td>0</td>\n",
              "      <td>1</td>\n",
              "      <td>19</td>\n",
              "      <td>41</td>\n",
              "      <td>0</td>\n",
              "      <td>0</td>\n",
              "      <td>0.00000</td>\n",
              "      <td>3</td>\n",
              "      <td>0.06898</td>\n",
              "      <td>0</td>\n",
              "    </tr>\n",
              "    <tr>\n",
              "      <th>3</th>\n",
              "      <td>101003</td>\n",
              "      <td>50</td>\n",
              "      <td>0</td>\n",
              "      <td>101044</td>\n",
              "      <td>64.85231</td>\n",
              "      <td>0</td>\n",
              "      <td>4</td>\n",
              "      <td>1</td>\n",
              "      <td>0</td>\n",
              "      <td>0</td>\n",
              "      <td>1</td>\n",
              "      <td>16</td>\n",
              "      <td>38</td>\n",
              "      <td>0</td>\n",
              "      <td>0</td>\n",
              "      <td>0.00000</td>\n",
              "      <td>4</td>\n",
              "      <td>0.06673</td>\n",
              "      <td>0</td>\n",
              "    </tr>\n",
              "    <tr>\n",
              "      <th>4</th>\n",
              "      <td>101004</td>\n",
              "      <td>50</td>\n",
              "      <td>0</td>\n",
              "      <td>101010</td>\n",
              "      <td>4.83341</td>\n",
              "      <td>0</td>\n",
              "      <td>4</td>\n",
              "      <td>1</td>\n",
              "      <td>0</td>\n",
              "      <td>0</td>\n",
              "      <td>1</td>\n",
              "      <td>25</td>\n",
              "      <td>41</td>\n",
              "      <td>0</td>\n",
              "      <td>0</td>\n",
              "      <td>0.00000</td>\n",
              "      <td>3</td>\n",
              "      <td>0.06534</td>\n",
              "      <td>0</td>\n",
              "    </tr>\n",
              "    <tr>\n",
              "      <th>...</th>\n",
              "      <td>...</td>\n",
              "      <td>...</td>\n",
              "      <td>...</td>\n",
              "      <td>...</td>\n",
              "      <td>...</td>\n",
              "      <td>...</td>\n",
              "      <td>...</td>\n",
              "      <td>...</td>\n",
              "      <td>...</td>\n",
              "      <td>...</td>\n",
              "      <td>...</td>\n",
              "      <td>...</td>\n",
              "      <td>...</td>\n",
              "      <td>...</td>\n",
              "      <td>...</td>\n",
              "      <td>...</td>\n",
              "      <td>...</td>\n",
              "      <td>...</td>\n",
              "      <td>...</td>\n",
              "    </tr>\n",
              "    <tr>\n",
              "      <th>374656</th>\n",
              "      <td>201096</td>\n",
              "      <td>1003</td>\n",
              "      <td>0</td>\n",
              "      <td>201051</td>\n",
              "      <td>6.98337</td>\n",
              "      <td>0</td>\n",
              "      <td>5</td>\n",
              "      <td>1</td>\n",
              "      <td>0</td>\n",
              "      <td>0</td>\n",
              "      <td>1</td>\n",
              "      <td>7</td>\n",
              "      <td>96</td>\n",
              "      <td>0</td>\n",
              "      <td>67</td>\n",
              "      <td>170.14779</td>\n",
              "      <td>3</td>\n",
              "      <td>0.15974</td>\n",
              "      <td>0</td>\n",
              "    </tr>\n",
              "    <tr>\n",
              "      <th>374657</th>\n",
              "      <td>201097</td>\n",
              "      <td>1003</td>\n",
              "      <td>0</td>\n",
              "      <td>201037</td>\n",
              "      <td>29.32867</td>\n",
              "      <td>0</td>\n",
              "      <td>5</td>\n",
              "      <td>1</td>\n",
              "      <td>0</td>\n",
              "      <td>0</td>\n",
              "      <td>1</td>\n",
              "      <td>31</td>\n",
              "      <td>39</td>\n",
              "      <td>0</td>\n",
              "      <td>24</td>\n",
              "      <td>82.21043</td>\n",
              "      <td>2</td>\n",
              "      <td>0.06877</td>\n",
              "      <td>0</td>\n",
              "    </tr>\n",
              "    <tr>\n",
              "      <th>374658</th>\n",
              "      <td>201098</td>\n",
              "      <td>1003</td>\n",
              "      <td>0</td>\n",
              "      <td>201095</td>\n",
              "      <td>18.51963</td>\n",
              "      <td>0</td>\n",
              "      <td>5</td>\n",
              "      <td>1</td>\n",
              "      <td>0</td>\n",
              "      <td>0</td>\n",
              "      <td>1</td>\n",
              "      <td>17</td>\n",
              "      <td>55</td>\n",
              "      <td>0</td>\n",
              "      <td>31</td>\n",
              "      <td>139.26438</td>\n",
              "      <td>1</td>\n",
              "      <td>0.09437</td>\n",
              "      <td>0</td>\n",
              "    </tr>\n",
              "    <tr>\n",
              "      <th>374659</th>\n",
              "      <td>201099</td>\n",
              "      <td>1003</td>\n",
              "      <td>0</td>\n",
              "      <td>201051</td>\n",
              "      <td>8.55001</td>\n",
              "      <td>0</td>\n",
              "      <td>5</td>\n",
              "      <td>1</td>\n",
              "      <td>0</td>\n",
              "      <td>0</td>\n",
              "      <td>1</td>\n",
              "      <td>3</td>\n",
              "      <td>96</td>\n",
              "      <td>0</td>\n",
              "      <td>65</td>\n",
              "      <td>158.27492</td>\n",
              "      <td>3</td>\n",
              "      <td>0.16047</td>\n",
              "      <td>0</td>\n",
              "    </tr>\n",
              "    <tr>\n",
              "      <th>374660</th>\n",
              "      <td>202041</td>\n",
              "      <td>1025</td>\n",
              "      <td>0</td>\n",
              "      <td>202100</td>\n",
              "      <td>0.00000</td>\n",
              "      <td>0</td>\n",
              "      <td>5</td>\n",
              "      <td>0</td>\n",
              "      <td>0</td>\n",
              "      <td>0</td>\n",
              "      <td>0</td>\n",
              "      <td>4</td>\n",
              "      <td>7</td>\n",
              "      <td>689</td>\n",
              "      <td>7</td>\n",
              "      <td>115.00407</td>\n",
              "      <td>0</td>\n",
              "      <td>1.01325</td>\n",
              "      <td>0</td>\n",
              "    </tr>\n",
              "  </tbody>\n",
              "</table>\n",
              "<p>374661 rows × 19 columns</p>\n",
              "</div>\n",
              "    <div class=\"colab-df-buttons\">\n",
              "\n",
              "  <div class=\"colab-df-container\">\n",
              "    <button class=\"colab-df-convert\" onclick=\"convertToInteractive('df-b695369a-cfae-41b6-a2fb-6348f94ea5db')\"\n",
              "            title=\"Convert this dataframe to an interactive table.\"\n",
              "            style=\"display:none;\">\n",
              "\n",
              "  <svg xmlns=\"http://www.w3.org/2000/svg\" height=\"24px\" viewBox=\"0 -960 960 960\">\n",
              "    <path d=\"M120-120v-720h720v720H120Zm60-500h600v-160H180v160Zm220 220h160v-160H400v160Zm0 220h160v-160H400v160ZM180-400h160v-160H180v160Zm440 0h160v-160H620v160ZM180-180h160v-160H180v160Zm440 0h160v-160H620v160Z\"/>\n",
              "  </svg>\n",
              "    </button>\n",
              "\n",
              "  <style>\n",
              "    .colab-df-container {\n",
              "      display:flex;\n",
              "      gap: 12px;\n",
              "    }\n",
              "\n",
              "    .colab-df-convert {\n",
              "      background-color: #E8F0FE;\n",
              "      border: none;\n",
              "      border-radius: 50%;\n",
              "      cursor: pointer;\n",
              "      display: none;\n",
              "      fill: #1967D2;\n",
              "      height: 32px;\n",
              "      padding: 0 0 0 0;\n",
              "      width: 32px;\n",
              "    }\n",
              "\n",
              "    .colab-df-convert:hover {\n",
              "      background-color: #E2EBFA;\n",
              "      box-shadow: 0px 1px 2px rgba(60, 64, 67, 0.3), 0px 1px 3px 1px rgba(60, 64, 67, 0.15);\n",
              "      fill: #174EA6;\n",
              "    }\n",
              "\n",
              "    .colab-df-buttons div {\n",
              "      margin-bottom: 4px;\n",
              "    }\n",
              "\n",
              "    [theme=dark] .colab-df-convert {\n",
              "      background-color: #3B4455;\n",
              "      fill: #D2E3FC;\n",
              "    }\n",
              "\n",
              "    [theme=dark] .colab-df-convert:hover {\n",
              "      background-color: #434B5C;\n",
              "      box-shadow: 0px 1px 3px 1px rgba(0, 0, 0, 0.15);\n",
              "      filter: drop-shadow(0px 1px 2px rgba(0, 0, 0, 0.3));\n",
              "      fill: #FFFFFF;\n",
              "    }\n",
              "  </style>\n",
              "\n",
              "    <script>\n",
              "      const buttonEl =\n",
              "        document.querySelector('#df-b695369a-cfae-41b6-a2fb-6348f94ea5db button.colab-df-convert');\n",
              "      buttonEl.style.display =\n",
              "        google.colab.kernel.accessAllowed ? 'block' : 'none';\n",
              "\n",
              "      async function convertToInteractive(key) {\n",
              "        const element = document.querySelector('#df-b695369a-cfae-41b6-a2fb-6348f94ea5db');\n",
              "        const dataTable =\n",
              "          await google.colab.kernel.invokeFunction('convertToInteractive',\n",
              "                                                    [key], {});\n",
              "        if (!dataTable) return;\n",
              "\n",
              "        const docLinkHtml = 'Like what you see? Visit the ' +\n",
              "          '<a target=\"_blank\" href=https://colab.research.google.com/notebooks/data_table.ipynb>data table notebook</a>'\n",
              "          + ' to learn more about interactive tables.';\n",
              "        element.innerHTML = '';\n",
              "        dataTable['output_type'] = 'display_data';\n",
              "        await google.colab.output.renderOutput(dataTable, element);\n",
              "        const docLink = document.createElement('div');\n",
              "        docLink.innerHTML = docLinkHtml;\n",
              "        element.appendChild(docLink);\n",
              "      }\n",
              "    </script>\n",
              "  </div>\n",
              "\n",
              "\n",
              "<div id=\"df-3e26dcea-a29d-4d0e-a3d0-18d583ebb08a\">\n",
              "  <button class=\"colab-df-quickchart\" onclick=\"quickchart('df-3e26dcea-a29d-4d0e-a3d0-18d583ebb08a')\"\n",
              "            title=\"Suggest charts\"\n",
              "            style=\"display:none;\">\n",
              "\n",
              "<svg xmlns=\"http://www.w3.org/2000/svg\" height=\"24px\"viewBox=\"0 0 24 24\"\n",
              "     width=\"24px\">\n",
              "    <g>\n",
              "        <path d=\"M19 3H5c-1.1 0-2 .9-2 2v14c0 1.1.9 2 2 2h14c1.1 0 2-.9 2-2V5c0-1.1-.9-2-2-2zM9 17H7v-7h2v7zm4 0h-2V7h2v10zm4 0h-2v-4h2v4z\"/>\n",
              "    </g>\n",
              "</svg>\n",
              "  </button>\n",
              "\n",
              "<style>\n",
              "  .colab-df-quickchart {\n",
              "      --bg-color: #E8F0FE;\n",
              "      --fill-color: #1967D2;\n",
              "      --hover-bg-color: #E2EBFA;\n",
              "      --hover-fill-color: #174EA6;\n",
              "      --disabled-fill-color: #AAA;\n",
              "      --disabled-bg-color: #DDD;\n",
              "  }\n",
              "\n",
              "  [theme=dark] .colab-df-quickchart {\n",
              "      --bg-color: #3B4455;\n",
              "      --fill-color: #D2E3FC;\n",
              "      --hover-bg-color: #434B5C;\n",
              "      --hover-fill-color: #FFFFFF;\n",
              "      --disabled-bg-color: #3B4455;\n",
              "      --disabled-fill-color: #666;\n",
              "  }\n",
              "\n",
              "  .colab-df-quickchart {\n",
              "    background-color: var(--bg-color);\n",
              "    border: none;\n",
              "    border-radius: 50%;\n",
              "    cursor: pointer;\n",
              "    display: none;\n",
              "    fill: var(--fill-color);\n",
              "    height: 32px;\n",
              "    padding: 0;\n",
              "    width: 32px;\n",
              "  }\n",
              "\n",
              "  .colab-df-quickchart:hover {\n",
              "    background-color: var(--hover-bg-color);\n",
              "    box-shadow: 0 1px 2px rgba(60, 64, 67, 0.3), 0 1px 3px 1px rgba(60, 64, 67, 0.15);\n",
              "    fill: var(--button-hover-fill-color);\n",
              "  }\n",
              "\n",
              "  .colab-df-quickchart-complete:disabled,\n",
              "  .colab-df-quickchart-complete:disabled:hover {\n",
              "    background-color: var(--disabled-bg-color);\n",
              "    fill: var(--disabled-fill-color);\n",
              "    box-shadow: none;\n",
              "  }\n",
              "\n",
              "  .colab-df-spinner {\n",
              "    border: 2px solid var(--fill-color);\n",
              "    border-color: transparent;\n",
              "    border-bottom-color: var(--fill-color);\n",
              "    animation:\n",
              "      spin 1s steps(1) infinite;\n",
              "  }\n",
              "\n",
              "  @keyframes spin {\n",
              "    0% {\n",
              "      border-color: transparent;\n",
              "      border-bottom-color: var(--fill-color);\n",
              "      border-left-color: var(--fill-color);\n",
              "    }\n",
              "    20% {\n",
              "      border-color: transparent;\n",
              "      border-left-color: var(--fill-color);\n",
              "      border-top-color: var(--fill-color);\n",
              "    }\n",
              "    30% {\n",
              "      border-color: transparent;\n",
              "      border-left-color: var(--fill-color);\n",
              "      border-top-color: var(--fill-color);\n",
              "      border-right-color: var(--fill-color);\n",
              "    }\n",
              "    40% {\n",
              "      border-color: transparent;\n",
              "      border-right-color: var(--fill-color);\n",
              "      border-top-color: var(--fill-color);\n",
              "    }\n",
              "    60% {\n",
              "      border-color: transparent;\n",
              "      border-right-color: var(--fill-color);\n",
              "    }\n",
              "    80% {\n",
              "      border-color: transparent;\n",
              "      border-right-color: var(--fill-color);\n",
              "      border-bottom-color: var(--fill-color);\n",
              "    }\n",
              "    90% {\n",
              "      border-color: transparent;\n",
              "      border-bottom-color: var(--fill-color);\n",
              "    }\n",
              "  }\n",
              "</style>\n",
              "\n",
              "  <script>\n",
              "    async function quickchart(key) {\n",
              "      const quickchartButtonEl =\n",
              "        document.querySelector('#' + key + ' button');\n",
              "      quickchartButtonEl.disabled = true;  // To prevent multiple clicks.\n",
              "      quickchartButtonEl.classList.add('colab-df-spinner');\n",
              "      try {\n",
              "        const charts = await google.colab.kernel.invokeFunction(\n",
              "            'suggestCharts', [key], {});\n",
              "      } catch (error) {\n",
              "        console.error('Error during call to suggestCharts:', error);\n",
              "      }\n",
              "      quickchartButtonEl.classList.remove('colab-df-spinner');\n",
              "      quickchartButtonEl.classList.add('colab-df-quickchart-complete');\n",
              "    }\n",
              "    (() => {\n",
              "      let quickchartButtonEl =\n",
              "        document.querySelector('#df-3e26dcea-a29d-4d0e-a3d0-18d583ebb08a button');\n",
              "      quickchartButtonEl.style.display =\n",
              "        google.colab.kernel.accessAllowed ? 'block' : 'none';\n",
              "    })();\n",
              "  </script>\n",
              "</div>\n",
              "    </div>\n",
              "  </div>\n"
            ],
            "application/vnd.google.colaboratory.intrinsic+json": {
              "type": "dataframe",
              "variable_name": "dataset"
            }
          },
          "metadata": {},
          "execution_count": 3
        }
      ]
    },
    {
      "cell_type": "markdown",
      "source": [
        "**Data Preprocessing**"
      ],
      "metadata": {
        "id": "gIkWYjccCMlu"
      }
    },
    {
      "cell_type": "code",
      "source": [
        "# Encode non-numeric columns (if any)\n",
        "for column in dataset.columns:\n",
        "    if dataset[column].dtype == 'object':  # Identify categorical columns\n",
        "        dataset[column] = LabelEncoder().fit_transform(dataset[column])\n",
        "\n",
        "# Separate features (X) and target (y)\n",
        "X = dataset.drop(['Class'], axis=1)  # Assuming 'Class' is the target column\n",
        "y = dataset['Class']"
      ],
      "metadata": {
        "id": "CJLPKg4OCJIa"
      },
      "execution_count": null,
      "outputs": []
    },
    {
      "cell_type": "code",
      "source": [
        "print(\"Original Class Distribution:\", np.bincount(y))"
      ],
      "metadata": {
        "colab": {
          "base_uri": "https://localhost:8080/"
        },
        "id": "cApvATS2CJGk",
        "outputId": "bacc859e-7b33-446e-cea2-ce1993c3e7d7"
      },
      "execution_count": null,
      "outputs": [
        {
          "output_type": "stream",
          "name": "stdout",
          "text": [
            "Original Class Distribution: [340066  14596  10049   6638   3312]\n"
          ]
        }
      ]
    },
    {
      "cell_type": "code",
      "source": [
        "# Standardize the features\n",
        "scaler = StandardScaler()\n",
        "X = scaler.fit_transform(X)"
      ],
      "metadata": {
        "id": "Dfs-ElhtCJDw"
      },
      "execution_count": null,
      "outputs": []
    },
    {
      "cell_type": "code",
      "source": [
        "!pip install -U imbalanced-learn"
      ],
      "metadata": {
        "colab": {
          "base_uri": "https://localhost:8080/"
        },
        "id": "cU6-aUtcCJBK",
        "outputId": "bbe08191-b8ca-428c-8a7e-4d42b23f6890"
      },
      "execution_count": null,
      "outputs": [
        {
          "output_type": "stream",
          "name": "stdout",
          "text": [
            "Requirement already satisfied: imbalanced-learn in /usr/local/lib/python3.10/dist-packages (0.12.4)\n",
            "Collecting imbalanced-learn\n",
            "  Downloading imbalanced_learn-0.13.0-py3-none-any.whl.metadata (8.8 kB)\n",
            "Requirement already satisfied: numpy<3,>=1.24.3 in /usr/local/lib/python3.10/dist-packages (from imbalanced-learn) (1.26.4)\n",
            "Requirement already satisfied: scipy<2,>=1.10.1 in /usr/local/lib/python3.10/dist-packages (from imbalanced-learn) (1.13.1)\n",
            "Requirement already satisfied: scikit-learn<2,>=1.3.2 in /usr/local/lib/python3.10/dist-packages (from imbalanced-learn) (1.6.0)\n",
            "Collecting sklearn-compat<1,>=0.1 (from imbalanced-learn)\n",
            "  Downloading sklearn_compat-0.1.3-py3-none-any.whl.metadata (18 kB)\n",
            "Requirement already satisfied: joblib<2,>=1.1.1 in /usr/local/lib/python3.10/dist-packages (from imbalanced-learn) (1.4.2)\n",
            "Requirement already satisfied: threadpoolctl<4,>=2.0.0 in /usr/local/lib/python3.10/dist-packages (from imbalanced-learn) (3.5.0)\n",
            "Downloading imbalanced_learn-0.13.0-py3-none-any.whl (238 kB)\n",
            "\u001b[2K   \u001b[90m━━━━━━━━━━━━━━━━━━━━━━━━━━━━━━━━━━━━━━━━\u001b[0m \u001b[32m238.4/238.4 kB\u001b[0m \u001b[31m5.9 MB/s\u001b[0m eta \u001b[36m0:00:00\u001b[0m\n",
            "\u001b[?25hDownloading sklearn_compat-0.1.3-py3-none-any.whl (18 kB)\n",
            "Installing collected packages: sklearn-compat, imbalanced-learn\n",
            "  Attempting uninstall: imbalanced-learn\n",
            "    Found existing installation: imbalanced-learn 0.12.4\n",
            "    Uninstalling imbalanced-learn-0.12.4:\n",
            "      Successfully uninstalled imbalanced-learn-0.12.4\n",
            "Successfully installed imbalanced-learn-0.13.0 sklearn-compat-0.1.3\n"
          ]
        }
      ]
    },
    {
      "cell_type": "markdown",
      "source": [
        "**Data Balancing utilized SMOTE**"
      ],
      "metadata": {
        "id": "VU3Uh1FotLGp"
      }
    },
    {
      "cell_type": "code",
      "source": [
        "from imblearn.over_sampling import SMOTE\n",
        "# Balance dataset using SMOTE\n",
        "smote = SMOTE(random_state=42)\n",
        "X, y = smote.fit_resample(X, y)\n",
        "\n",
        "# Verify the balanced dataset distribution\n",
        "print(\"Balanced Class Distribution:\", np.bincount(y))"
      ],
      "metadata": {
        "colab": {
          "base_uri": "https://localhost:8080/"
        },
        "id": "Sb2mBvlBCI-a",
        "outputId": "7c878a72-9d29-4df8-b903-b203703a3458"
      },
      "execution_count": null,
      "outputs": [
        {
          "output_type": "stream",
          "name": "stdout",
          "text": [
            "Balanced Class Distribution: [340066 340066 340066 340066 340066]\n"
          ]
        }
      ]
    },
    {
      "cell_type": "markdown",
      "source": [
        "**Split data into 80% Training and 20% Testing**"
      ],
      "metadata": {
        "id": "BhCXVR9ctJRp"
      }
    },
    {
      "cell_type": "code",
      "source": [
        "# Train-test split\n",
        "X_train, X_test, y_train, y_test = train_test_split(X, y, test_size=0.2, random_state=101, stratify=y)"
      ],
      "metadata": {
        "id": "ZrU3_udJCI7u"
      },
      "execution_count": null,
      "outputs": []
    },
    {
      "cell_type": "markdown",
      "source": [
        "**The hybrid MLP + LSTM model**"
      ],
      "metadata": {
        "id": "Nf4TIdrUtA9J"
      }
    },
    {
      "cell_type": "code",
      "source": [
        "from keras.regularizers import l2\n",
        "\n",
        "# Convert target to categorical (one-hot encoding)\n",
        "y_train = to_categorical(y_train)\n",
        "y_test = to_categorical(y_test)\n",
        "\n",
        "# Define the hybrid MLP + LSTM model with regularization and other techniques to reduce overfitting\n",
        "def build_hybrid_model(input_shape, num_classes):\n",
        "    model = Sequential()\n",
        "\n",
        "    # MLP layers with L2 regularization\n",
        "    model.add(Dense(128, activation='relu', input_shape=input_shape, kernel_regularizer=l2(0.01)))\n",
        "    model.add(Dropout(0.3))  # Increased dropout\n",
        "    model.add(Dense(64, activation='relu', kernel_regularizer=l2(0.01)))\n",
        "    model.add(Dropout(0.3))\n",
        "\n",
        "    # Dense layers for final feature extraction\n",
        "    model.add(Dense(32, activation='relu', kernel_regularizer=l2(0.01)))\n",
        "    model.add(Dropout(0.3))\n",
        "    model.add(Dense(num_classes, activation='softmax'))\n",
        "\n",
        "    return model\n",
        "\n",
        "# Build and compile the model\n",
        "input_shape = (X_train.shape[1], )\n",
        "num_classes = y_train.shape[1]\n",
        "model = build_hybrid_model(input_shape, num_classes)\n",
        "model.compile(\n",
        "    optimizer='adam',\n",
        "    loss='categorical_crossentropy',\n",
        "    metrics=['accuracy']\n",
        ")\n",
        "\n",
        "# Train the model with early stopping\n",
        "from keras.callbacks import EarlyStopping\n",
        "\n",
        "early_stopping = EarlyStopping(monitor='val_loss', patience=10, restore_best_weights=True)\n",
        "\n",
        "history = model.fit(\n",
        "    X_train, y_train,\n",
        "    validation_data=(X_test, y_test),\n",
        "    epochs=50,\n",
        "    batch_size=32,\n",
        "    callbacks=[early_stopping],\n",
        "    verbose=1\n",
        ")\n",
        "\n",
        "# Evaluate the model\n",
        "y_pred = model.predict(X_test)\n",
        "y_pred_classes = np.argmax(y_pred, axis=1)\n",
        "y_true_classes = np.argmax(y_test, axis=1)"
      ],
      "metadata": {
        "colab": {
          "base_uri": "https://localhost:8080/"
        },
        "id": "hsa0-DfQCVcP",
        "outputId": "75182f3d-091a-473d-d113-690ab762412b"
      },
      "execution_count": null,
      "outputs": [
        {
          "output_type": "stream",
          "name": "stderr",
          "text": [
            "/usr/local/lib/python3.10/dist-packages/keras/src/layers/core/dense.py:87: UserWarning: Do not pass an `input_shape`/`input_dim` argument to a layer. When using Sequential models, prefer using an `Input(shape)` object as the first layer in the model instead.\n",
            "  super().__init__(activity_regularizer=activity_regularizer, **kwargs)\n"
          ]
        },
        {
          "output_type": "stream",
          "name": "stdout",
          "text": [
            "Epoch 1/50\n",
            "\u001b[1m42509/42509\u001b[0m \u001b[32m━━━━━━━━━━━━━━━━━━━━\u001b[0m\u001b[37m\u001b[0m \u001b[1m91s\u001b[0m 2ms/step - accuracy: 0.8836 - loss: 0.4459 - val_accuracy: 0.9009 - val_loss: 0.2806\n",
            "Epoch 2/50\n",
            "\u001b[1m42509/42509\u001b[0m \u001b[32m━━━━━━━━━━━━━━━━━━━━\u001b[0m\u001b[37m\u001b[0m \u001b[1m88s\u001b[0m 2ms/step - accuracy: 0.8956 - loss: 0.2984 - val_accuracy: 0.9024 - val_loss: 0.2714\n",
            "Epoch 3/50\n",
            "\u001b[1m42509/42509\u001b[0m \u001b[32m━━━━━━━━━━━━━━━━━━━━\u001b[0m\u001b[37m\u001b[0m \u001b[1m89s\u001b[0m 2ms/step - accuracy: 0.8964 - loss: 0.2893 - val_accuracy: 0.9033 - val_loss: 0.2578\n",
            "Epoch 4/50\n",
            "\u001b[1m42509/42509\u001b[0m \u001b[32m━━━━━━━━━━━━━━━━━━━━\u001b[0m\u001b[37m\u001b[0m \u001b[1m95s\u001b[0m 2ms/step - accuracy: 0.8960 - loss: 0.2855 - val_accuracy: 0.8996 - val_loss: 0.2641\n",
            "Epoch 5/50\n",
            "\u001b[1m42509/42509\u001b[0m \u001b[32m━━━━━━━━━━━━━━━━━━━━\u001b[0m\u001b[37m\u001b[0m \u001b[1m95s\u001b[0m 2ms/step - accuracy: 0.8954 - loss: 0.2837 - val_accuracy: 0.9025 - val_loss: 0.2586\n",
            "Epoch 6/50\n",
            "\u001b[1m42509/42509\u001b[0m \u001b[32m━━━━━━━━━━━━━━━━━━━━\u001b[0m\u001b[37m\u001b[0m \u001b[1m91s\u001b[0m 2ms/step - accuracy: 0.8956 - loss: 0.2837 - val_accuracy: 0.9026 - val_loss: 0.2563\n",
            "Epoch 7/50\n",
            "\u001b[1m42509/42509\u001b[0m \u001b[32m━━━━━━━━━━━━━━━━━━━━\u001b[0m\u001b[37m\u001b[0m \u001b[1m95s\u001b[0m 2ms/step - accuracy: 0.8956 - loss: 0.2814 - val_accuracy: 0.9029 - val_loss: 0.2569\n",
            "Epoch 8/50\n",
            "\u001b[1m42509/42509\u001b[0m \u001b[32m━━━━━━━━━━━━━━━━━━━━\u001b[0m\u001b[37m\u001b[0m \u001b[1m93s\u001b[0m 2ms/step - accuracy: 0.8956 - loss: 0.2810 - val_accuracy: 0.8976 - val_loss: 0.2729\n",
            "Epoch 9/50\n",
            "\u001b[1m42509/42509\u001b[0m \u001b[32m━━━━━━━━━━━━━━━━━━━━\u001b[0m\u001b[37m\u001b[0m \u001b[1m89s\u001b[0m 2ms/step - accuracy: 0.8958 - loss: 0.2807 - val_accuracy: 0.9010 - val_loss: 0.2672\n",
            "Epoch 10/50\n",
            "\u001b[1m42509/42509\u001b[0m \u001b[32m━━━━━━━━━━━━━━━━━━━━\u001b[0m\u001b[37m\u001b[0m \u001b[1m91s\u001b[0m 2ms/step - accuracy: 0.8956 - loss: 0.2797 - val_accuracy: 0.9016 - val_loss: 0.2597\n",
            "Epoch 11/50\n",
            "\u001b[1m42509/42509\u001b[0m \u001b[32m━━━━━━━━━━━━━━━━━━━━\u001b[0m\u001b[37m\u001b[0m \u001b[1m98s\u001b[0m 2ms/step - accuracy: 0.8952 - loss: 0.2801 - val_accuracy: 0.9020 - val_loss: 0.2546\n",
            "Epoch 12/50\n",
            "\u001b[1m42509/42509\u001b[0m \u001b[32m━━━━━━━━━━━━━━━━━━━━\u001b[0m\u001b[37m\u001b[0m \u001b[1m101s\u001b[0m 2ms/step - accuracy: 0.8954 - loss: 0.2795 - val_accuracy: 0.9000 - val_loss: 0.2674\n",
            "Epoch 13/50\n",
            "\u001b[1m42509/42509\u001b[0m \u001b[32m━━━━━━━━━━━━━━━━━━━━\u001b[0m\u001b[37m\u001b[0m \u001b[1m104s\u001b[0m 2ms/step - accuracy: 0.8954 - loss: 0.2798 - val_accuracy: 0.9028 - val_loss: 0.2520\n",
            "Epoch 14/50\n",
            "\u001b[1m42509/42509\u001b[0m \u001b[32m━━━━━━━━━━━━━━━━━━━━\u001b[0m\u001b[37m\u001b[0m \u001b[1m103s\u001b[0m 2ms/step - accuracy: 0.8956 - loss: 0.2797 - val_accuracy: 0.8521 - val_loss: 0.3838\n",
            "Epoch 15/50\n",
            "\u001b[1m42509/42509\u001b[0m \u001b[32m━━━━━━━━━━━━━━━━━━━━\u001b[0m\u001b[37m\u001b[0m \u001b[1m104s\u001b[0m 2ms/step - accuracy: 0.8952 - loss: 0.2811 - val_accuracy: 0.8936 - val_loss: 0.2632\n",
            "Epoch 16/50\n",
            "\u001b[1m42509/42509\u001b[0m \u001b[32m━━━━━━━━━━━━━━━━━━━━\u001b[0m\u001b[37m\u001b[0m \u001b[1m106s\u001b[0m 2ms/step - accuracy: 0.8957 - loss: 0.2791 - val_accuracy: 0.9019 - val_loss: 0.2580\n",
            "Epoch 17/50\n",
            "\u001b[1m42509/42509\u001b[0m \u001b[32m━━━━━━━━━━━━━━━━━━━━\u001b[0m\u001b[37m\u001b[0m \u001b[1m107s\u001b[0m 3ms/step - accuracy: 0.8953 - loss: 0.2793 - val_accuracy: 0.9021 - val_loss: 0.2633\n",
            "Epoch 18/50\n",
            "\u001b[1m42509/42509\u001b[0m \u001b[32m━━━━━━━━━━━━━━━━━━━━\u001b[0m\u001b[37m\u001b[0m \u001b[1m106s\u001b[0m 2ms/step - accuracy: 0.8952 - loss: 0.2798 - val_accuracy: 0.9017 - val_loss: 0.2583\n",
            "Epoch 19/50\n",
            "\u001b[1m42509/42509\u001b[0m \u001b[32m━━━━━━━━━━━━━━━━━━━━\u001b[0m\u001b[37m\u001b[0m \u001b[1m94s\u001b[0m 2ms/step - accuracy: 0.8945 - loss: 0.2800 - val_accuracy: 0.9027 - val_loss: 0.2537\n",
            "Epoch 20/50\n",
            "\u001b[1m42509/42509\u001b[0m \u001b[32m━━━━━━━━━━━━━━━━━━━━\u001b[0m\u001b[37m\u001b[0m \u001b[1m92s\u001b[0m 2ms/step - accuracy: 0.8951 - loss: 0.2802 - val_accuracy: 0.9023 - val_loss: 0.2552\n",
            "Epoch 21/50\n",
            "\u001b[1m42509/42509\u001b[0m \u001b[32m━━━━━━━━━━━━━━━━━━━━\u001b[0m\u001b[37m\u001b[0m \u001b[1m90s\u001b[0m 2ms/step - accuracy: 0.8949 - loss: 0.2799 - val_accuracy: 0.9023 - val_loss: 0.2593\n",
            "Epoch 22/50\n",
            "\u001b[1m42509/42509\u001b[0m \u001b[32m━━━━━━━━━━━━━━━━━━━━\u001b[0m\u001b[37m\u001b[0m \u001b[1m92s\u001b[0m 2ms/step - accuracy: 0.8954 - loss: 0.2783 - val_accuracy: 0.9006 - val_loss: 0.2638\n",
            "Epoch 23/50\n",
            "\u001b[1m42509/42509\u001b[0m \u001b[32m━━━━━━━━━━━━━━━━━━━━\u001b[0m\u001b[37m\u001b[0m \u001b[1m93s\u001b[0m 2ms/step - accuracy: 0.8949 - loss: 0.2790 - val_accuracy: 0.9032 - val_loss: 0.2506\n",
            "Epoch 24/50\n",
            "\u001b[1m42509/42509\u001b[0m \u001b[32m━━━━━━━━━━━━━━━━━━━━\u001b[0m\u001b[37m\u001b[0m \u001b[1m108s\u001b[0m 3ms/step - accuracy: 0.8950 - loss: 0.2785 - val_accuracy: 0.9033 - val_loss: 0.2489\n",
            "Epoch 25/50\n",
            "\u001b[1m42509/42509\u001b[0m \u001b[32m━━━━━━━━━━━━━━━━━━━━\u001b[0m\u001b[37m\u001b[0m \u001b[1m121s\u001b[0m 3ms/step - accuracy: 0.8953 - loss: 0.2785 - val_accuracy: 0.9018 - val_loss: 0.2561\n",
            "Epoch 26/50\n",
            "\u001b[1m42509/42509\u001b[0m \u001b[32m━━━━━━━━━━━━━━━━━━━━\u001b[0m\u001b[37m\u001b[0m \u001b[1m121s\u001b[0m 3ms/step - accuracy: 0.8950 - loss: 0.2792 - val_accuracy: 0.9023 - val_loss: 0.2543\n",
            "Epoch 27/50\n",
            "\u001b[1m42509/42509\u001b[0m \u001b[32m━━━━━━━━━━━━━━━━━━━━\u001b[0m\u001b[37m\u001b[0m \u001b[1m117s\u001b[0m 3ms/step - accuracy: 0.8947 - loss: 0.2802 - val_accuracy: 0.9027 - val_loss: 0.2535\n",
            "Epoch 28/50\n",
            "\u001b[1m42509/42509\u001b[0m \u001b[32m━━━━━━━━━━━━━━━━━━━━\u001b[0m\u001b[37m\u001b[0m \u001b[1m117s\u001b[0m 3ms/step - accuracy: 0.8949 - loss: 0.2793 - val_accuracy: 0.9029 - val_loss: 0.2569\n",
            "Epoch 29/50\n",
            "\u001b[1m42509/42509\u001b[0m \u001b[32m━━━━━━━━━━━━━━━━━━━━\u001b[0m\u001b[37m\u001b[0m \u001b[1m119s\u001b[0m 3ms/step - accuracy: 0.8948 - loss: 0.2804 - val_accuracy: 0.9027 - val_loss: 0.2701\n",
            "Epoch 30/50\n",
            "\u001b[1m42509/42509\u001b[0m \u001b[32m━━━━━━━━━━━━━━━━━━━━\u001b[0m\u001b[37m\u001b[0m \u001b[1m120s\u001b[0m 3ms/step - accuracy: 0.8949 - loss: 0.2790 - val_accuracy: 0.9020 - val_loss: 0.2621\n",
            "Epoch 31/50\n",
            "\u001b[1m42509/42509\u001b[0m \u001b[32m━━━━━━━━━━━━━━━━━━━━\u001b[0m\u001b[37m\u001b[0m \u001b[1m116s\u001b[0m 3ms/step - accuracy: 0.8952 - loss: 0.2795 - val_accuracy: 0.9014 - val_loss: 0.2673\n",
            "Epoch 32/50\n",
            "\u001b[1m42509/42509\u001b[0m \u001b[32m━━━━━━━━━━━━━━━━━━━━\u001b[0m\u001b[37m\u001b[0m \u001b[1m116s\u001b[0m 3ms/step - accuracy: 0.8953 - loss: 0.2789 - val_accuracy: 0.9014 - val_loss: 0.2665\n",
            "Epoch 33/50\n",
            "\u001b[1m42509/42509\u001b[0m \u001b[32m━━━━━━━━━━━━━━━━━━━━\u001b[0m\u001b[37m\u001b[0m \u001b[1m116s\u001b[0m 3ms/step - accuracy: 0.8943 - loss: 0.2804 - val_accuracy: 0.9018 - val_loss: 0.2580\n",
            "Epoch 34/50\n",
            "\u001b[1m42509/42509\u001b[0m \u001b[32m━━━━━━━━━━━━━━━━━━━━\u001b[0m\u001b[37m\u001b[0m \u001b[1m118s\u001b[0m 3ms/step - accuracy: 0.8954 - loss: 0.2775 - val_accuracy: 0.9032 - val_loss: 0.2538\n",
            "\u001b[1m10628/10628\u001b[0m \u001b[32m━━━━━━━━━━━━━━━━━━━━\u001b[0m\u001b[37m\u001b[0m \u001b[1m15s\u001b[0m 1ms/step\n"
          ]
        }
      ]
    },
    {
      "cell_type": "code",
      "source": [
        "from sklearn.metrics import accuracy_score, classification_report, confusion_matrix, precision_score, recall_score, f1_score\n",
        "# Metrics\n",
        "accuracy = accuracy_score(y_true_classes, y_pred_classes)\n",
        "precision = precision_score(y_true_classes, y_pred_classes, average='weighted')\n",
        "recall = recall_score(y_true_classes, y_pred_classes, average='weighted')\n",
        "f1 = f1_score(y_true_classes, y_pred_classes, average='weighted')\n",
        "\n",
        "print(\"Accuracy: {:.10f}\".format(accuracy))\n",
        "print(\"Precision: {:.10f}\".format(precision))\n",
        "print(\"Recall: {:.10f}\".format(recall))\n",
        "print(\"F1-Score: {:.10f}\".format(f1))"
      ],
      "metadata": {
        "colab": {
          "base_uri": "https://localhost:8080/"
        },
        "id": "z-V2dsrbCVY3",
        "outputId": "da502e44-bbe5-4250-d6ca-ee8162e9c1a1"
      },
      "execution_count": null,
      "outputs": [
        {
          "output_type": "stream",
          "name": "stdout",
          "text": [
            "Accuracy: 0.9033393518\n",
            "Precision: 0.9238271900\n",
            "Recall: 0.9033393518\n",
            "F1-Score: 0.9001728269\n"
          ]
        }
      ]
    },
    {
      "cell_type": "code",
      "source": [
        "# Evaluate the model\n",
        "y_pred = model.predict(X_test)\n",
        "y_pred_classes = np.argmax(y_pred, axis=1)\n",
        "y_true_classes = np.argmax(y_test, axis=1)\n",
        "\n",
        "# Metrics\n",
        "accuracy = accuracy_score(y_true_classes, y_pred_classes)\n",
        "precision = precision_score(y_true_classes, y_pred_classes, average='weighted')\n",
        "recall = recall_score(y_true_classes, y_pred_classes, average='weighted')\n",
        "f1 = f1_score(y_true_classes, y_pred_classes, average='weighted')\n",
        "\n",
        "print(\"Accuracy: {:.10f}\".format(accuracy))\n",
        "print(\"Precision: {:.10f}\".format(precision))\n",
        "print(\"Recall: {:.10f}\".format(recall))\n",
        "print(\"F1-Score: {:.10f}\".format(f1))"
      ],
      "metadata": {
        "colab": {
          "base_uri": "https://localhost:8080/"
        },
        "id": "nie6CiXoCVWL",
        "outputId": "bcf85c4a-ebc4-4efd-f968-743ae58d5bfb"
      },
      "execution_count": null,
      "outputs": [
        {
          "output_type": "stream",
          "name": "stdout",
          "text": [
            "\u001b[1m10628/10628\u001b[0m \u001b[32m━━━━━━━━━━━━━━━━━━━━\u001b[0m\u001b[37m\u001b[0m \u001b[1m16s\u001b[0m 1ms/step\n",
            "Accuracy: 0.9033393518\n",
            "Precision: 0.9238271900\n",
            "Recall: 0.9033393518\n",
            "F1-Score: 0.9001728269\n"
          ]
        }
      ]
    },
    {
      "cell_type": "code",
      "source": [
        "# Confusion Matrix\n",
        "conf_matrix = confusion_matrix(y_true_classes, y_pred_classes)\n",
        "print(\"Confusion Matrix:\\n\", conf_matrix)"
      ],
      "metadata": {
        "colab": {
          "base_uri": "https://localhost:8080/"
        },
        "id": "mIbcr9xV4DvU",
        "outputId": "29fb8965-a098-4b2e-a6bd-815c2baf86d3"
      },
      "execution_count": null,
      "outputs": [
        {
          "output_type": "stream",
          "name": "stdout",
          "text": [
            "Confusion Matrix:\n",
            " [[66683  1040     0   169   121]\n",
            " [   36 41062 26894     7    14]\n",
            " [    0    41 67933    39     0]\n",
            " [ 4250   249     4 63511     0]\n",
            " [    6     1     0     0 68006]]\n"
          ]
        }
      ]
    },
    {
      "cell_type": "code",
      "source": [
        "# Detection Rate (Recall for each class)\n",
        "print(\"Detection Rates per Class:\", recall_score(y_true_classes, y_pred_classes, average=None))"
      ],
      "metadata": {
        "colab": {
          "base_uri": "https://localhost:8080/"
        },
        "id": "0V_Jzg4l4FRV",
        "outputId": "b993fbb6-be3f-4000-dc26-65d276ed879a"
      },
      "execution_count": null,
      "outputs": [
        {
          "output_type": "stream",
          "name": "stdout",
          "text": [
            "Detection Rates per Class: [0.98044491 0.60373752 0.99882375 0.93379304 0.99989708]\n"
          ]
        }
      ]
    },
    {
      "cell_type": "code",
      "source": [
        "from sklearn.metrics import accuracy_score, classification_report, confusion_matrix, precision_score, recall_score, f1_score, roc_auc_score\n",
        "# Import roc_curve\n",
        "from sklearn.metrics import roc_curve # This line imports the roc_curve function\n",
        "from sklearn.metrics import auc # This line imports the auc function\n",
        "import matplotlib.pyplot as plt # Import the pyplot module from matplotlib as plt\n",
        "\n",
        "# After training, calculate ROC curves and AUC for each class\n",
        "n_classes = y_test.shape[1]\n",
        "fpr = dict()\n",
        "tpr = dict()\n",
        "roc_auc = dict()\n",
        "\n",
        "for i in range(n_classes):\n",
        "    fpr[i], tpr[i], _ = roc_curve(y_test[:, i], y_pred[:, i])\n",
        "    roc_auc[i] = auc(fpr[i], tpr[i])\n",
        "\n",
        "# Plot ROC curves\n",
        "plt.figure(figsize=(10, 8))\n",
        "colors = plt.cm.get_cmap('Set1')(np.linspace(0, 1, n_classes))\n",
        "\n",
        "for i, color in zip(range(n_classes), colors):\n",
        "    plt.plot(fpr[i], tpr[i], color=color, lw=2,\n",
        "             label='ROC curve of class {0} (AUC = {1:0.10f})'\n",
        "             ''.format(i, roc_auc[i]))\n",
        "\n",
        "plt.plot([0, 1], [0, 1], 'k--', lw=2)\n",
        "plt.xlim([0.0, 1.0])\n",
        "plt.ylim([0.0, 1.05])\n",
        "plt.xlabel('False Positive Rate')\n",
        "plt.ylabel('True Positive Rate')\n",
        "plt.title('Receiver Operating Characteristic (ROC) Curves')\n",
        "plt.legend(loc=\"lower right\")\n",
        "\n",
        "# Save the plot as a high-resolution image\n",
        "plt.savefig('roc_curves.png', dpi=300, bbox_inches='tight')\n",
        "plt.close()\n",
        "\n",
        "# Calculate and print AUC scores for each class\n",
        "print(\"\\nAUC Scores for each class:\")\n",
        "for i in range(n_classes):\n",
        "    print(f\"Class {i}: {roc_auc[i]:.10f}\")\n",
        "\n",
        "# Calculate macro-average AUC\n",
        "macro_roc_auc = np.mean(list(roc_auc.values()))\n",
        "print(f\"\\nMacro-average AUC: {macro_roc_auc:.10f}\")"
      ],
      "metadata": {
        "colab": {
          "base_uri": "https://localhost:8080/"
        },
        "id": "ZdNnZ--5n87t",
        "outputId": "b8d6af0d-fd5e-4e19-c00f-f0b35fe9ce09"
      },
      "execution_count": null,
      "outputs": [
        {
          "output_type": "stream",
          "name": "stderr",
          "text": [
            "<ipython-input-15-c5170017384f>:19: MatplotlibDeprecationWarning: The get_cmap function was deprecated in Matplotlib 3.7 and will be removed two minor releases later. Use ``matplotlib.colormaps[name]`` or ``matplotlib.colormaps.get_cmap(obj)`` instead.\n",
            "  colors = plt.cm.get_cmap('Set1')(np.linspace(0, 1, n_classes))\n"
          ]
        },
        {
          "output_type": "stream",
          "name": "stdout",
          "text": [
            "\n",
            "AUC Scores for each class:\n",
            "Class 0: 0.9935465694\n",
            "Class 1: 0.9740631613\n",
            "Class 2: 0.9762841205\n",
            "Class 3: 0.9942230683\n",
            "Class 4: 0.9998963825\n",
            "\n",
            "Macro-average AUC: 0.9876026604\n"
          ]
        }
      ]
    },
    {
      "cell_type": "code",
      "source": [
        "# Plot Training and Validation Loss\n",
        "plt.figure()\n",
        "plt.plot(history.history['loss'], label='Training Loss')\n",
        "plt.plot(history.history['val_loss'], label='Validation Loss')\n",
        "plt.title('Training and Validation Loss')\n",
        "plt.xlabel('Epochs')\n",
        "plt.ylabel('Loss')\n",
        "plt.ylim(0, 1)  # Set y-axis scale to 1\n",
        "plt.legend()\n",
        "plt.show()"
      ],
      "metadata": {
        "colab": {
          "base_uri": "https://localhost:8080/",
          "height": 472
        },
        "id": "-rq7gkS9XBlz",
        "outputId": "eabc4706-b152-480c-a874-5512a2a78d04"
      },
      "execution_count": null,
      "outputs": [
        {
          "output_type": "display_data",
          "data": {
            "text/plain": [
              "<Figure size 640x480 with 1 Axes>"
            ],
            "image/png": "[encoded data removed]"
          },
          "metadata": {}
        }
      ]
    },
    {
      "cell_type": "code",
      "source": [
        "import seaborn as sns\n",
        "import matplotlib.pyplot as plt\n",
        "import numpy as np\n",
        "import itertools\n",
        "import seaborn as sns\n",
        "from sklearn import metrics\n",
        "import matplotlib.pyplot as plt\n",
        "from sklearn.metrics import confusion_matrix\n",
        "def conf_mat(d1,d2):\n",
        "  cm = confusion_matrix(d1, d2)\n",
        "  #plt.figure(figsize=(6,5.5))\n",
        "  plt.figure(figsize=(8,6.5))\n",
        "  #ax = sns.heatmap(cm,  fmt='2', annot=True, cmap='tab20c')\n",
        "  ax = sns.heatmap(cm, annot=True, fmt=\".0f\", cmap=\"PuBu\",\n",
        "                 vmin=0, vmax=35000, center=0, square=True, linewidths=1.5)\n",
        "  sns.set(font_scale=1)\n",
        "  ax.set_xlabel('\\nPredicted Values')\n",
        "  ax.set_ylabel('Actual Values\\n');\n",
        "  ax.xaxis.set_ticklabels(['Normal','Blackhole','Flooding','Grayhole','TDMA'])\n",
        "  ax.yaxis.set_ticklabels(['Normal','Blackhole','Flooding','Grayhole','TDMA'])\n",
        "  ##plt.xticks(rotation=45)  # Add this line to rotate the x-axis labels by 45 degrees\n",
        "  ##plt.yticks(rotation=45)  # Add this line to rotate the x-axis labels by 45 degrees\n",
        "  plt.tight_layout()\n",
        "  # plt.savefig(\"F1.eps\", format = 'eps')\n",
        "  plt.show()"
      ],
      "metadata": {
        "id": "NELM7AEs4OUZ"
      },
      "execution_count": null,
      "outputs": []
    },
    {
      "cell_type": "code",
      "source": [
        "print(\"Confusion Matrix of Hybrid RF-LSTM Model\")\n",
        "#conf_mat(np.argmax(y_test, axis=1), test_rf_lstm_predictions)\n",
        "conf_matrix = confusion_matrix(y_true_classes, y_pred_classes)\n",
        "plt.figure(figsize=(8,6.5))\n",
        "# Use plt.xticks to set custom tick labels\n",
        "# Using get_xticklabels() to access the current labels and then setting rotation.\n",
        "plt.xticks(ticks=np.arange(5), labels=['Normal','Blackhole','Flooding','Grayhole','TDMA'], rotation=45)\n",
        "plt.yticks(ticks=np.arange(5), labels=['Normal','Blackhole','Flooding','Grayhole','TDMA'], rotation=45)\n",
        "sns.heatmap(conf_matrix, annot=True, fmt='2', cmap='bone',xticklabels=['Normal','Blackhole','Flooding','Grayhole','TDMA'], yticklabels=['Normal','Blackhole','Flooding','Grayhole','TDMA'])\n",
        "sns.set(font_scale=1)\n",
        "plt.show() # Display the heatmap"
      ],
      "metadata": {
        "colab": {
          "base_uri": "https://localhost:8080/",
          "height": 621
        },
        "id": "FWP1ifiK4Pwz",
        "outputId": "518d0239-16c5-47cc-c58d-a94461f4d1ef"
      },
      "execution_count": null,
      "outputs": [
        {
          "output_type": "stream",
          "name": "stdout",
          "text": [
            "Confusion Matrix of Hybrid RF-LSTM Model\n"
          ]
        },
        {
          "output_type": "display_data",
          "data": {
            "text/plain": [
              "<Figure size 800x650 with 2 Axes>"
            ],
            "image/png": "[encoded data removed]"
          },
          "metadata": {}
        }
      ]
    },
    {
      "cell_type": "code",
      "source": [
        "def conf_mat(d1,d2):\n",
        "  cm = confusion_matrix(y_true_classes, y_pred_classes)\n",
        "  #plt.figure(figsize=(6,5.5))\n",
        "  plt.figure(figsize=(8,6.5))\n",
        "  #ax = sns.heatmap(cm,  fmt='2', annot=True, cmap='tab20c')\n",
        "  ax = sns.heatmap(cm, annot=True, fmt=\".0f\", cmap=\"gist_yarg\",\n",
        "                 vmin=0, vmax=5600, center=0, square=True, linewidths=1.5)\n",
        "  sns.set(font_scale=0.85)\n",
        "  ax.set_xlabel('\\nPredicted Values')\n",
        "  ax.set_ylabel('Actual Values\\n');\n",
        "  ax.xaxis.set_ticklabels(['Normal','Blackhole','Flooding','Grayhole','TDMA'])\n",
        "  ax.yaxis.set_ticklabels(['Normal','Blackhole','Flooding','Grayhole','TDMA'])\n",
        "  plt.xticks(rotation=45)  # Add this line to rotate the x-axis labels by 45 degrees\n",
        "  plt.yticks(rotation=45)  # Add this line to rotate the x-axis labels by 45 degrees\n",
        "  plt.tight_layout()\n",
        "  # plt.savefig(\"F1.eps\", format = 'eps')\n",
        "  plt.show()"
      ],
      "metadata": {
        "id": "zaJk_g6Me4vK"
      },
      "execution_count": null,
      "outputs": []
    },
    {
      "cell_type": "code",
      "source": [
        "print(\"Confusion Matrix of Federated DL// MLP-LSTM Model\")\n",
        "conf_mat(y_true_classes, y_pred_classes)"
      ],
      "metadata": {
        "colab": {
          "base_uri": "https://localhost:8080/",
          "height": 675
        },
        "id": "vo4h4csDe3Hv",
        "outputId": "0e094e07-d8af-4fde-d09f-2ce618becc0c"
      },
      "execution_count": null,
      "outputs": [
        {
          "output_type": "stream",
          "name": "stdout",
          "text": [
            "Confusion Matrix of Federated DL// MLP-LSTM Model\n"
          ]
        },
        {
          "output_type": "display_data",
          "data": {
            "text/plain": [
              "<Figure size 800x650 with 2 Axes>"
            ],
            "image/png": "[encoded data removed]"
          },
          "metadata": {}
        }
      ]
    },
    {
      "cell_type": "markdown",
      "source": [
        "**Federated Learning Simulation (FedAvg)**"
      ],
      "metadata": {
        "id": "VrhDYntPs6jU"
      }
    },
    {
      "cell_type": "code",
      "source": [
        "# Federated Learning Simulation (FedAvg)\n",
        "def federated_learning_simulation(X_train, y_train, X_test, y_test, num_clients=5):\n",
        "    # Split training data among clients\n",
        "    client_data = np.array_split(X_train, num_clients)\n",
        "    client_labels = np.array_split(y_train, num_clients)\n",
        "\n",
        "    # Initialize the global model\n",
        "    global_model = build_hybrid_model(input_shape, num_classes)\n",
        "    global_model.compile(optimizer='adam', loss='categorical_crossentropy', metrics=['accuracy'])  # Compile the global model\n",
        "    global_weights = global_model.get_weights()\n",
        "\n",
        "    for round in range(10):  # Simulate 10 communication rounds\n",
        "        local_weights = []\n",
        "\n",
        "        for i in range(num_clients):\n",
        "            local_model = build_hybrid_model(input_shape, num_classes)\n",
        "            local_model.set_weights(global_weights)\n",
        "            local_model.compile(optimizer='adam', loss='categorical_crossentropy', metrics=['accuracy'])  # Compile the local model\n",
        "\n",
        "            # Train the local model\n",
        "            local_model.fit(client_data[i], client_labels[i], epochs=1, batch_size=32, verbose=0)\n",
        "            local_weights.append(local_model.get_weights())\n",
        "\n",
        "        # Aggregate weights (FedAvg)\n",
        "        global_weights = [\n",
        "            np.mean([local_weights[j][i] for j in range(num_clients)], axis=0)\n",
        "            for i in range(len(global_weights))\n",
        "        ]\n",
        "        global_model.set_weights(global_weights)\n",
        "\n",
        "        # Evaluate the global model\n",
        "        loss, acc = global_model.evaluate(X_test, y_test, verbose=0)\n",
        "        print(f\"Round {round + 1}: Global Model Accuracy = {acc:.10f}\")\n",
        "\n",
        "# Call the federated learning simulation function\n",
        "federated_learning_simulation(X_train, y_train, X_test, y_test)"
      ],
      "metadata": {
        "colab": {
          "base_uri": "https://localhost:8080/"
        },
        "id": "4m0tmGDxjG7t",
        "outputId": "f9c18a0e-1717-46a1-90e5-cd55ed6bc603"
      },
      "execution_count": null,
      "outputs": [
        {
          "output_type": "stream",
          "name": "stderr",
          "text": [
            "/usr/local/lib/python3.10/dist-packages/keras/src/layers/core/dense.py:87: UserWarning: Do not pass an `input_shape`/`input_dim` argument to a layer. When using Sequential models, prefer using an `Input(shape)` object as the first layer in the model instead.\n",
            "  super().__init__(activity_regularizer=activity_regularizer, **kwargs)\n"
          ]
        },
        {
          "output_type": "stream",
          "name": "stdout",
          "text": [
            "Round 1: Global Model Accuracy = 0.8988960981\n",
            "Round 2: Global Model Accuracy = 0.9011221528\n",
            "Round 3: Global Model Accuracy = 0.9014338255\n",
            "Round 4: Global Model Accuracy = 0.9009398222\n",
            "Round 5: Global Model Accuracy = 0.8986549377\n",
            "Round 6: Global Model Accuracy = 0.9009898305\n",
            "Round 7: Global Model Accuracy = 0.9006898403\n",
            "Round 8: Global Model Accuracy = 0.9011632800\n",
            "Round 9: Global Model Accuracy = 0.9011868238\n",
            "Round 10: Global Model Accuracy = 0.9011897445\n"
          ]
        }
      ]
    },
    {
      "cell_type": "code",
      "source": [
        "import time\n",
        "from sklearn.metrics import classification_report, confusion_matrix, accuracy_score, precision_score, recall_score, f1_score\n",
        "\n",
        "# Function to measure model performance\n",
        "def evaluate_global_model(global_model, X_test, y_test):\n",
        "    y_pred = global_model.predict(X_test)\n",
        "    y_pred_classes = np.argmax(y_pred, axis=1)\n",
        "    y_true_classes = np.argmax(y_test, axis=1)\n",
        "\n",
        "    # Compute performance metrics\n",
        "    accuracy = accuracy_score(y_true_classes, y_pred_classes)\n",
        "    precision = precision_score(y_true_classes, y_pred_classes, average='weighted')\n",
        "    recall = recall_score(y_true_classes, y_pred_classes, average='weighted')\n",
        "    f1 = f1_score(y_true_classes, y_pred_classes, average='weighted')\n",
        "    cm = confusion_matrix(y_true_classes, y_pred_classes)\n",
        "\n",
        "    print(\"\\nModel Performance Metrics:\")\n",
        "    print(f\"Accuracy: {accuracy:.10f}\")\n",
        "    print(f\"Precision: {precision:.10f}\")\n",
        "    print(f\"Recall: {recall:.10f}\")\n",
        "    print(f\"F1-Score: {f1:.10f}\")\n",
        "    print(\"\\nConfusion Matrix:\")\n",
        "    print(cm)\n",
        "\n",
        "    return accuracy, precision, recall, f1\n",
        "\n",
        "# Function to analyze communication overhead\n",
        "def analyze_communication_overhead(local_weights, global_weights):\n",
        "    communication_cost = 0\n",
        "    for i in range(len(local_weights)):\n",
        "        # Compute the size of weights transmitted between clients and server\n",
        "        communication_cost += sum(w.nbytes for w in local_weights[i])\n",
        "    communication_cost += sum(w.nbytes for w in global_weights)\n",
        "\n",
        "    print(f\"\\nCommunication Overhead: {communication_cost / (1024 ** 2):.2f} MB\")  # in megabytes\n",
        "\n",
        "# Federated Learning Simulation (FedAvg)\n",
        "def federated_learning_simulation(X_train, y_train, X_test, y_test, num_clients=5):\n",
        "    client_data = np.array_split(X_train, num_clients)\n",
        "    client_labels = np.array_split(y_train, num_clients)\n",
        "\n",
        "    global_model = build_hybrid_model(input_shape, num_classes)\n",
        "    global_model.compile(optimizer='adam', loss='categorical_crossentropy', metrics=['accuracy'])\n",
        "    global_weights = global_model.get_weights()\n",
        "\n",
        "    communication_overhead = []\n",
        "    latency_per_round = []\n",
        "\n",
        "    for round in range(10):  # Simulate 10 communication rounds\n",
        "        local_weights = []\n",
        "\n",
        "        start_time = time.time()  # Start measuring latency\n",
        "\n",
        "        for i in range(num_clients):\n",
        "            local_model = build_hybrid_model(input_shape, num_classes)\n",
        "            local_model.set_weights(global_weights)\n",
        "            local_model.compile(optimizer='adam', loss='categorical_crossentropy', metrics=['accuracy'])\n",
        "\n",
        "            local_model.fit(client_data[i], client_labels[i], epochs=1, batch_size=32, verbose=0)\n",
        "            local_weights.append(local_model.get_weights())\n",
        "\n",
        "        # Aggregate weights (FedAvg)\n",
        "        global_weights = [\n",
        "            np.mean([local_weights[j][i] for j in range(num_clients)], axis=0)\n",
        "            for i in range(len(global_weights))\n",
        "        ]\n",
        "        global_model.set_weights(global_weights)\n",
        "\n",
        "        # Measure latency\n",
        "        end_time = time.time()\n",
        "        latency = end_time - start_time\n",
        "        latency_per_round.append(latency)\n",
        "\n",
        "        # Measure communication overhead\n",
        "        analyze_communication_overhead(local_weights, global_weights)\n",
        "\n",
        "        # Evaluate the global model\n",
        "        loss, acc = global_model.evaluate(X_test, y_test, verbose=0)\n",
        "        print(f\"\\nRound {round + 1}: Global Model Accuracy = {acc:.10f}\")\n",
        "\n",
        "        # Evaluate model performance metrics\n",
        "        evaluate_global_model(global_model, X_test, y_test)\n",
        "\n",
        "    # Summarize overall latency\n",
        "    print(\"\\nLatency Analysis:\")\n",
        "    print(f\"Average Latency per Round: {np.mean(latency_per_round):.2f} seconds\")\n",
        "    print(f\"Total Latency for 10 Rounds: {np.sum(latency_per_round):.2f} seconds\")\n",
        "\n",
        "# Call the federated learning simulation function\n",
        "federated_learning_simulation(X_train, y_train, X_test, y_test)"
      ],
      "metadata": {
        "colab": {
          "base_uri": "https://localhost:8080/"
        },
        "id": "95rgvCs-fyD9",
        "outputId": "e7459d45-0825-4149-ed3d-41cbc34c5b12"
      },
      "execution_count": null,
      "outputs": [
        {
          "output_type": "stream",
          "name": "stdout",
          "text": [
            "\n",
            "Communication Overhead: 0.30 MB\n",
            "\n",
            "Round 1: Global Model Accuracy = 0.8737568855\n",
            "\u001b[1m10628/10628\u001b[0m \u001b[32m━━━━━━━━━━━━━━━━━━━━\u001b[0m\u001b[37m\u001b[0m \u001b[1m15s\u001b[0m 1ms/step\n",
            "\n",
            "Model Performance Metrics:\n",
            "Accuracy: 0.8737568590\n",
            "Precision: 0.8781424954\n",
            "Recall: 0.8737568590\n",
            "F1-Score: 0.8752661732\n",
            "\n",
            "Confusion Matrix:\n",
            "[[66198  1665     2    67    81]\n",
            " [    0 52033 15980     0     0]\n",
            " [    0 18058 49955     0     0]\n",
            " [ 4225   562  1121 62106     0]\n",
            " [    0  1169     0     1 66843]]\n"
          ]
        },
        {
          "output_type": "stream",
          "name": "stderr",
          "text": [
            "/usr/local/lib/python3.10/dist-packages/keras/src/layers/core/dense.py:87: UserWarning: Do not pass an `input_shape`/`input_dim` argument to a layer. When using Sequential models, prefer using an `Input(shape)` object as the first layer in the model instead.\n",
            "  super().__init__(activity_regularizer=activity_regularizer, **kwargs)\n"
          ]
        },
        {
          "output_type": "stream",
          "name": "stdout",
          "text": [
            "\n",
            "Communication Overhead: 0.30 MB\n",
            "\n",
            "Round 2: Global Model Accuracy = 0.8997047544\n",
            "\u001b[1m10628/10628\u001b[0m \u001b[32m━━━━━━━━━━━━━━━━━━━━\u001b[0m\u001b[37m\u001b[0m \u001b[1m17s\u001b[0m 2ms/step\n",
            "\n",
            "Model Performance Metrics:\n",
            "Accuracy: 0.8997047632\n",
            "Precision: 0.9199699360\n",
            "Recall: 0.8997047632\n",
            "F1-Score: 0.8969368364\n",
            "\n",
            "Confusion Matrix:\n",
            "[[66198  1626     2    70   117]\n",
            " [    0 41221 26773    19     0]\n",
            " [    0    69 67944     0     0]\n",
            " [ 4226   353   790 62604    41]\n",
            " [    0    21     0     0 67992]]\n"
          ]
        },
        {
          "output_type": "stream",
          "name": "stderr",
          "text": [
            "/usr/local/lib/python3.10/dist-packages/keras/src/layers/core/dense.py:87: UserWarning: Do not pass an `input_shape`/`input_dim` argument to a layer. When using Sequential models, prefer using an `Input(shape)` object as the first layer in the model instead.\n",
            "  super().__init__(activity_regularizer=activity_regularizer, **kwargs)\n"
          ]
        },
        {
          "output_type": "stream",
          "name": "stdout",
          "text": [
            "\n",
            "Communication Overhead: 0.30 MB\n",
            "\n",
            "Round 3: Global Model Accuracy = 0.9013015032\n",
            "\u001b[1m10628/10628\u001b[0m \u001b[32m━━━━━━━━━━━━━━━━━━━━\u001b[0m\u001b[37m\u001b[0m \u001b[1m17s\u001b[0m 2ms/step\n",
            "\n",
            "Model Performance Metrics:\n",
            "Accuracy: 0.9013015121\n",
            "Precision: 0.9197632296\n",
            "Recall: 0.9013015121\n",
            "F1-Score: 0.8984750755\n",
            "\n",
            "Confusion Matrix:\n",
            "[[66198  1600     0   107   108]\n",
            " [    0 41456 26535    22     0]\n",
            " [    0   373 67640     0     0]\n",
            " [ 4226   293   180 63315     0]\n",
            " [    0   120     0     0 67893]]\n"
          ]
        },
        {
          "output_type": "stream",
          "name": "stderr",
          "text": [
            "/usr/local/lib/python3.10/dist-packages/keras/src/layers/core/dense.py:87: UserWarning: Do not pass an `input_shape`/`input_dim` argument to a layer. When using Sequential models, prefer using an `Input(shape)` object as the first layer in the model instead.\n",
            "  super().__init__(activity_regularizer=activity_regularizer, **kwargs)\n"
          ]
        },
        {
          "output_type": "stream",
          "name": "stdout",
          "text": [
            "\n",
            "Communication Overhead: 0.30 MB\n",
            "\n",
            "Round 4: Global Model Accuracy = 0.9014220834\n",
            "\u001b[1m10628/10628\u001b[0m \u001b[32m━━━━━━━━━━━━━━━━━━━━\u001b[0m\u001b[37m\u001b[0m \u001b[1m17s\u001b[0m 2ms/step\n",
            "\n",
            "Model Performance Metrics:\n",
            "Accuracy: 0.9014220769\n",
            "Precision: 0.9213784225\n",
            "Recall: 0.9014220769\n",
            "F1-Score: 0.8984233666\n",
            "\n",
            "Confusion Matrix:\n",
            "[[66198  1573     0   132   110]\n",
            " [    0 41105 26892    16     0]\n",
            " [    0     1 68012     0     0]\n",
            " [ 4226   282   264 63242     0]\n",
            " [    0    27     0     0 67986]]\n"
          ]
        },
        {
          "output_type": "stream",
          "name": "stderr",
          "text": [
            "/usr/local/lib/python3.10/dist-packages/keras/src/layers/core/dense.py:87: UserWarning: Do not pass an `input_shape`/`input_dim` argument to a layer. When using Sequential models, prefer using an `Input(shape)` object as the first layer in the model instead.\n",
            "  super().__init__(activity_regularizer=activity_regularizer, **kwargs)\n"
          ]
        },
        {
          "output_type": "stream",
          "name": "stdout",
          "text": [
            "\n",
            "Communication Overhead: 0.30 MB\n",
            "\n",
            "Round 5: Global Model Accuracy = 0.9002899528\n",
            "\u001b[1m10628/10628\u001b[0m \u001b[32m━━━━━━━━━━━━━━━━━━━━\u001b[0m\u001b[37m\u001b[0m \u001b[1m17s\u001b[0m 2ms/step\n",
            "\n",
            "Model Performance Metrics:\n",
            "Accuracy: 0.9002899437\n",
            "Precision: 0.9195337295\n",
            "Recall: 0.9002899437\n",
            "F1-Score: 0.8973245999\n",
            "\n",
            "Confusion Matrix:\n",
            "[[66240  1541     0   131   101]\n",
            " [    4 41085 26924     0     0]\n",
            " [    0    74 67939     0     0]\n",
            " [ 4226   372   205 63211     0]\n",
            " [    0   330     0     0 67683]]\n"
          ]
        },
        {
          "output_type": "stream",
          "name": "stderr",
          "text": [
            "/usr/local/lib/python3.10/dist-packages/keras/src/layers/core/dense.py:87: UserWarning: Do not pass an `input_shape`/`input_dim` argument to a layer. When using Sequential models, prefer using an `Input(shape)` object as the first layer in the model instead.\n",
            "  super().__init__(activity_regularizer=activity_regularizer, **kwargs)\n"
          ]
        },
        {
          "output_type": "stream",
          "name": "stdout",
          "text": [
            "\n",
            "Communication Overhead: 0.30 MB\n",
            "\n",
            "Round 6: Global Model Accuracy = 0.9018014073\n",
            "\u001b[1m10628/10628\u001b[0m \u001b[32m━━━━━━━━━━━━━━━━━━━━\u001b[0m\u001b[37m\u001b[0m \u001b[1m16s\u001b[0m 2ms/step\n",
            "\n",
            "Model Performance Metrics:\n",
            "Accuracy: 0.9018014150\n",
            "Precision: 0.9216187600\n",
            "Recall: 0.9018014150\n",
            "F1-Score: 0.8987779044\n",
            "\n",
            "Confusion Matrix:\n",
            "[[66236  1525     0   138   114]\n",
            " [    8 41124 26881     0     0]\n",
            " [    0    23 67990     0     0]\n",
            " [ 4226   286   160 63342     0]\n",
            " [    0    33     0     0 67980]]\n"
          ]
        },
        {
          "output_type": "stream",
          "name": "stderr",
          "text": [
            "/usr/local/lib/python3.10/dist-packages/keras/src/layers/core/dense.py:87: UserWarning: Do not pass an `input_shape`/`input_dim` argument to a layer. When using Sequential models, prefer using an `Input(shape)` object as the first layer in the model instead.\n",
            "  super().__init__(activity_regularizer=activity_regularizer, **kwargs)\n"
          ]
        },
        {
          "output_type": "stream",
          "name": "stdout",
          "text": [
            "\n",
            "Communication Overhead: 0.30 MB\n",
            "\n",
            "Round 7: Global Model Accuracy = 0.9018278718\n",
            "\u001b[1m10628/10628\u001b[0m \u001b[32m━━━━━━━━━━━━━━━━━━━━\u001b[0m\u001b[37m\u001b[0m \u001b[1m15s\u001b[0m 1ms/step\n",
            "\n",
            "Model Performance Metrics:\n",
            "Accuracy: 0.9018278805\n",
            "Precision: 0.9215657490\n",
            "Recall: 0.9018278805\n",
            "F1-Score: 0.8987720794\n",
            "\n",
            "Confusion Matrix:\n",
            "[[66248  1532     0   132   101]\n",
            " [    7 41082 26924     0     0]\n",
            " [    0     1 68012     0     0]\n",
            " [ 4225   279    93 63417     0]\n",
            " [    1    90     0     0 67922]]\n"
          ]
        },
        {
          "output_type": "stream",
          "name": "stderr",
          "text": [
            "/usr/local/lib/python3.10/dist-packages/keras/src/layers/core/dense.py:87: UserWarning: Do not pass an `input_shape`/`input_dim` argument to a layer. When using Sequential models, prefer using an `Input(shape)` object as the first layer in the model instead.\n",
            "  super().__init__(activity_regularizer=activity_regularizer, **kwargs)\n"
          ]
        },
        {
          "output_type": "stream",
          "name": "stdout",
          "text": [
            "\n",
            "Communication Overhead: 0.30 MB\n",
            "\n",
            "Round 8: Global Model Accuracy = 0.9019014239\n",
            "\u001b[1m10628/10628\u001b[0m \u001b[32m━━━━━━━━━━━━━━━━━━━━\u001b[0m\u001b[37m\u001b[0m \u001b[1m15s\u001b[0m 1ms/step\n",
            "\n",
            "Model Performance Metrics:\n",
            "Accuracy: 0.9019013956\n",
            "Precision: 0.9218586670\n",
            "Recall: 0.9019013956\n",
            "F1-Score: 0.8988524500\n",
            "\n",
            "Confusion Matrix:\n",
            "[[66314  1467     0   131   101]\n",
            " [    8 41080 26925     0     0]\n",
            " [    0     0 68013     0     0]\n",
            " [ 4226   301   149 63338     0]\n",
            " [    1    51     0     0 67961]]\n"
          ]
        },
        {
          "output_type": "stream",
          "name": "stderr",
          "text": [
            "/usr/local/lib/python3.10/dist-packages/keras/src/layers/core/dense.py:87: UserWarning: Do not pass an `input_shape`/`input_dim` argument to a layer. When using Sequential models, prefer using an `Input(shape)` object as the first layer in the model instead.\n",
            "  super().__init__(activity_regularizer=activity_regularizer, **kwargs)\n"
          ]
        },
        {
          "output_type": "stream",
          "name": "stdout",
          "text": [
            "\n",
            "Communication Overhead: 0.30 MB\n",
            "\n",
            "Round 9: Global Model Accuracy = 0.9019513726\n",
            "\u001b[1m10628/10628\u001b[0m \u001b[32m━━━━━━━━━━━━━━━━━━━━\u001b[0m\u001b[37m\u001b[0m \u001b[1m15s\u001b[0m 1ms/step\n",
            "\n",
            "Model Performance Metrics:\n",
            "Accuracy: 0.9019513859\n",
            "Precision: 0.9219468458\n",
            "Recall: 0.9019513859\n",
            "F1-Score: 0.8989153291\n",
            "\n",
            "Confusion Matrix:\n",
            "[[66317  1452     0   127   117]\n",
            " [    7 41106 26900     0     0]\n",
            " [    0     0 68013     0     0]\n",
            " [ 4226   310   171 63307     0]\n",
            " [    0    33     0     0 67980]]\n"
          ]
        },
        {
          "output_type": "stream",
          "name": "stderr",
          "text": [
            "/usr/local/lib/python3.10/dist-packages/keras/src/layers/core/dense.py:87: UserWarning: Do not pass an `input_shape`/`input_dim` argument to a layer. When using Sequential models, prefer using an `Input(shape)` object as the first layer in the model instead.\n",
            "  super().__init__(activity_regularizer=activity_regularizer, **kwargs)\n"
          ]
        },
        {
          "output_type": "stream",
          "name": "stdout",
          "text": [
            "\n",
            "Communication Overhead: 0.30 MB\n",
            "\n",
            "Round 10: Global Model Accuracy = 0.9013720751\n",
            "\u001b[1m10628/10628\u001b[0m \u001b[32m━━━━━━━━━━━━━━━━━━━━\u001b[0m\u001b[37m\u001b[0m \u001b[1m15s\u001b[0m 1ms/step\n",
            "\n",
            "Model Performance Metrics:\n",
            "Accuracy: 0.9013720866\n",
            "Precision: 0.9210252086\n",
            "Recall: 0.9013720866\n",
            "F1-Score: 0.8983468133\n",
            "\n",
            "Confusion Matrix:\n",
            "[[66324  1475     0   113   101]\n",
            " [    0 41075 26938     0     0]\n",
            " [    0     0 68013     0     0]\n",
            " [ 4226   314   138 63336     0]\n",
            " [    0   235     0     0 67778]]\n",
            "\n",
            "Latency Analysis:\n",
            "Average Latency per Round: 103.74 seconds\n",
            "Total Latency for 10 Rounds: 1037.42 seconds\n"
          ]
        }
      ]
    }
  ]
}