{
  "nbformat": 4,
  "nbformat_minor": 0,
  "metadata": {
    "colab": {
      "provenance": [],
      "authorship_tag": "ABX9TyM/GHeWeS6c1Lu1pxT9vdk+",
      "include_colab_link": true
    },
    "kernelspec": {
      "name": "python3",
      "display_name": "Python 3"
    },
    "language_info": {
      "name": "python"
    }
  },
  "cells": [
    {
      "cell_type": "markdown",
      "metadata": {
        "id": "view-in-github",
        "colab_type": "text"
      },
      "source": [
        "<a href=\"https://colab.research.google.com/github/sankeawthong/Project-1-Lita-Chatbot/blob/main/Project%232_Hybrid%20RF-LSTM%20for%205%20class%20with%20detection%20rate%20report%20(WSN-DS).ipynb\" target=\"_parent\"><img src=\"https://colab.research.google.com/assets/colab-badge.svg\" alt=\"Open In Colab\"/></a>"
      ]
    },
    {
      "cell_type": "markdown",
      "source": [
        "### **Hybrid RF-LSTM for 5 class classifications**"
      ],
      "metadata": {
        "id": "Hl-2N3x7mMnq"
      }
    },
    {
      "cell_type": "code",
      "source": [
        "import pandas as pd\n",
        "import numpy as np\n",
        "from sklearn.preprocessing import LabelEncoder\n",
        "from sklearn.model_selection import train_test_split\n",
        "from keras.utils import np_utils\n",
        "from keras.models import Sequential\n",
        "from keras.layers import Dense, LSTM, Dropout\n",
        "from sklearn.ensemble import RandomForestClassifier\n",
        "from sklearn.metrics import confusion_matrix, classification_report"
      ],
      "metadata": {
        "id": "aDQ3_t-CtdDc"
      },
      "execution_count": 25,
      "outputs": []
    },
    {
      "cell_type": "code",
      "source": [
        "# Load dataset\n",
        "dataset = pd.read_csv(\"Dataset_P2.csv\")\n",
        "dataset.isnull().sum()"
      ],
      "metadata": {
        "colab": {
          "base_uri": "https://localhost:8080/"
        },
        "id": "w5zlU1QMtems",
        "outputId": "b8f3180a-9221-4f3b-c1d7-15455984b85c"
      },
      "execution_count": 26,
      "outputs": [
        {
          "output_type": "execute_result",
          "data": {
            "text/plain": [
              " id                 0\n",
              " Time               0\n",
              " Is_CH              0\n",
              " who CH             0\n",
              " Dist_To_CH         0\n",
              " ADV_S              0\n",
              " ADV_R              0\n",
              " JOIN_S             0\n",
              " JOIN_R             0\n",
              " SCH_S              0\n",
              " SCH_R              0\n",
              "Rank                0\n",
              " DATA_S             0\n",
              " DATA_R             0\n",
              " Data_Sent_To_BS    0\n",
              " dist_CH_To_BS      0\n",
              " send_code          0\n",
              "Expaned Energy      0\n",
              "Class               0\n",
              "dtype: int64"
            ]
          },
          "metadata": {},
          "execution_count": 26
        }
      ]
    },
    {
      "cell_type": "code",
      "source": [
        "dataset.info()"
      ],
      "metadata": {
        "colab": {
          "base_uri": "https://localhost:8080/"
        },
        "id": "Cvi2DdWMtlXU",
        "outputId": "f8c160d2-7d3c-4123-ecda-baa617642456"
      },
      "execution_count": 27,
      "outputs": [
        {
          "output_type": "stream",
          "name": "stdout",
          "text": [
            "<class 'pandas.core.frame.DataFrame'>\n",
            "RangeIndex: 374661 entries, 0 to 374660\n",
            "Data columns (total 19 columns):\n",
            " #   Column            Non-Null Count   Dtype  \n",
            "---  ------            --------------   -----  \n",
            " 0    id               374661 non-null  int64  \n",
            " 1    Time             374661 non-null  int64  \n",
            " 2    Is_CH            374661 non-null  int64  \n",
            " 3    who CH           374661 non-null  int64  \n",
            " 4    Dist_To_CH       374661 non-null  float64\n",
            " 5    ADV_S            374661 non-null  int64  \n",
            " 6    ADV_R            374661 non-null  int64  \n",
            " 7    JOIN_S           374661 non-null  int64  \n",
            " 8    JOIN_R           374661 non-null  int64  \n",
            " 9    SCH_S            374661 non-null  int64  \n",
            " 10   SCH_R            374661 non-null  int64  \n",
            " 11  Rank              374661 non-null  int64  \n",
            " 12   DATA_S           374661 non-null  int64  \n",
            " 13   DATA_R           374661 non-null  int64  \n",
            " 14   Data_Sent_To_BS  374661 non-null  int64  \n",
            " 15   dist_CH_To_BS    374661 non-null  float64\n",
            " 16   send_code        374661 non-null  int64  \n",
            " 17  Expaned Energy    374661 non-null  float64\n",
            " 18  Class             374661 non-null  int64  \n",
            "dtypes: float64(3), int64(16)\n",
            "memory usage: 54.3 MB\n"
          ]
        }
      ]
    },
    {
      "cell_type": "code",
      "source": [
        "encoder = LabelEncoder()\n",
        "y = encoder.fit_transform(dataset['Class'])\n",
        "y = np_utils.to_categorical(y, num_classes=5)\n",
        "X = dataset.drop(['Class'],axis=1)\n",
        "X=X.values\n",
        "print(X.shape)\n",
        "print(y.shape)"
      ],
      "metadata": {
        "colab": {
          "base_uri": "https://localhost:8080/"
        },
        "id": "4Inm-kI9trDh",
        "outputId": "b341ba03-8935-4756-b595-730f0dfdcee0"
      },
      "execution_count": 28,
      "outputs": [
        {
          "output_type": "stream",
          "name": "stdout",
          "text": [
            "(374661, 18)\n",
            "(374661, 5)\n"
          ]
        }
      ]
    },
    {
      "cell_type": "code",
      "source": [
        "# Data preprocessing\n",
        "from imblearn.over_sampling import SMOTE\n",
        "oversample = SMOTE()\n",
        "X, y = oversample.fit_resample(X, y)"
      ],
      "metadata": {
        "id": "j1QZbZRetteX"
      },
      "execution_count": 29,
      "outputs": []
    },
    {
      "cell_type": "code",
      "source": [
        "X_train, X_test, y_train, y_test = train_test_split(X, y, test_size=0.2, random_state=101)"
      ],
      "metadata": {
        "id": "XAvf1OFvtvdg"
      },
      "execution_count": 30,
      "outputs": []
    },
    {
      "cell_type": "code",
      "source": [
        "# LSTM model\n",
        "model = Sequential()\n",
        "model.add(LSTM(64, input_shape=(X_train.shape[1], 1)))\n",
        "model.add(Dropout(0.2))\n",
        "model.add(Dense(5, activation='softmax'))\n",
        "model.compile(loss='categorical_crossentropy', optimizer='adam', metrics=['accuracy'])\n",
        "model.summary()\n",
        "\n",
        "X_train_lstm = X_train.reshape(X_train.shape[0], X_train.shape[1], 1)\n",
        "X_test_lstm = X_test.reshape(X_test.shape[0], X_test.shape[1], 1)\n",
        "\n",
        "history = model.fit(X_train_lstm, y_train, epochs=15, batch_size=64, validation_data=(X_test_lstm, y_test), verbose=1)\n",
        "\n",
        "# Random Forest model\n",
        "rf = RandomForestClassifier(n_estimators=100, random_state=42)\n",
        "rf.fit(X_train, y_train)\n",
        "\n",
        "y_pred_rf = rf.predict(X_test)\n",
        "\n",
        "# Combine models\n",
        "y_pred_lstm = model.predict(X_test_lstm)\n",
        "y_pred_lstm = np.argmax(y_pred_lstm, axis=1)\n",
        "y_pred_lstm = np_utils.to_categorical(y_pred_lstm, num_classes=5)\n",
        "\n",
        "y_pred = y_pred_lstm * 0.4 + y_pred_rf * 0.6\n",
        "y_pred = np.argmax(y_pred, axis=1)\n",
        "\n",
        "# Evaluation metrics\n",
        "print(classification_report(np.argmax(y_test, axis=1), y_pred))\n",
        "print(confusion_matrix(np.argmax(y_test, axis=1), y_pred))"
      ],
      "metadata": {
        "colab": {
          "base_uri": "https://localhost:8080/"
        },
        "id": "c3ewlDz4tRcE",
        "outputId": "6f007e12-6f27-47c0-a4f9-0bc14b139d4e"
      },
      "execution_count": 31,
      "outputs": [
        {
          "output_type": "stream",
          "name": "stdout",
          "text": [
            "Model: \"sequential_2\"\n",
            "_________________________________________________________________\n",
            " Layer (type)                Output Shape              Param #   \n",
            "=================================================================\n",
            " lstm_2 (LSTM)               (None, 64)                16896     \n",
            "                                                                 \n",
            " dropout_2 (Dropout)         (None, 64)                0         \n",
            "                                                                 \n",
            " dense_2 (Dense)             (None, 5)                 325       \n",
            "                                                                 \n",
            "=================================================================\n",
            "Total params: 17,221\n",
            "Trainable params: 17,221\n",
            "Non-trainable params: 0\n",
            "_________________________________________________________________\n",
            "Epoch 1/15\n",
            "21255/21255 [==============================] - 229s 11ms/step - loss: 0.1952 - accuracy: 0.9048 - val_loss: 0.1777 - val_accuracy: 0.9095\n",
            "Epoch 2/15\n",
            "21255/21255 [==============================] - 225s 11ms/step - loss: 0.1735 - accuracy: 0.9106 - val_loss: 0.1616 - val_accuracy: 0.9311\n",
            "Epoch 3/15\n",
            "21255/21255 [==============================] - 227s 11ms/step - loss: 0.1423 - accuracy: 0.9441 - val_loss: 0.1068 - val_accuracy: 0.9630\n",
            "Epoch 4/15\n",
            "21255/21255 [==============================] - 225s 11ms/step - loss: 0.1118 - accuracy: 0.9620 - val_loss: 0.0858 - val_accuracy: 0.9734\n",
            "Epoch 5/15\n",
            "21255/21255 [==============================] - 223s 10ms/step - loss: 0.0939 - accuracy: 0.9687 - val_loss: 0.0791 - val_accuracy: 0.9778\n",
            "Epoch 6/15\n",
            "21255/21255 [==============================] - 222s 10ms/step - loss: 0.0847 - accuracy: 0.9717 - val_loss: 0.0696 - val_accuracy: 0.9782\n",
            "Epoch 7/15\n",
            "21255/21255 [==============================] - 224s 11ms/step - loss: 0.0802 - accuracy: 0.9732 - val_loss: 0.0631 - val_accuracy: 0.9780\n",
            "Epoch 8/15\n",
            "21255/21255 [==============================] - 223s 10ms/step - loss: 0.0768 - accuracy: 0.9743 - val_loss: 0.0601 - val_accuracy: 0.9797\n",
            "Epoch 9/15\n",
            "21255/21255 [==============================] - 222s 10ms/step - loss: 0.0769 - accuracy: 0.9745 - val_loss: 0.0630 - val_accuracy: 0.9777\n",
            "Epoch 10/15\n",
            "21255/21255 [==============================] - 220s 10ms/step - loss: 0.0734 - accuracy: 0.9754 - val_loss: 0.0587 - val_accuracy: 0.9801\n",
            "Epoch 11/15\n",
            "21255/21255 [==============================] - 220s 10ms/step - loss: 0.0722 - accuracy: 0.9757 - val_loss: 0.0585 - val_accuracy: 0.9813\n",
            "Epoch 12/15\n",
            "21255/21255 [==============================] - 221s 10ms/step - loss: 0.0699 - accuracy: 0.9763 - val_loss: 0.0553 - val_accuracy: 0.9815\n",
            "Epoch 13/15\n",
            "21255/21255 [==============================] - 227s 11ms/step - loss: 0.0683 - accuracy: 0.9770 - val_loss: 0.0514 - val_accuracy: 0.9821\n",
            "Epoch 14/15\n",
            "21255/21255 [==============================] - 226s 11ms/step - loss: 0.0671 - accuracy: 0.9775 - val_loss: 0.0512 - val_accuracy: 0.9822\n",
            "Epoch 15/15\n",
            "21255/21255 [==============================] - 226s 11ms/step - loss: 0.0664 - accuracy: 0.9775 - val_loss: 0.0505 - val_accuracy: 0.9820\n",
            "10628/10628 [==============================] - 34s 3ms/step\n",
            "              precision    recall  f1-score   support\n",
            "\n",
            "           0       1.00      1.00      1.00     67745\n",
            "           1       1.00      1.00      1.00     68042\n",
            "           2       1.00      1.00      1.00     68370\n",
            "           3       1.00      1.00      1.00     68087\n",
            "           4       1.00      1.00      1.00     67822\n",
            "\n",
            "    accuracy                           1.00    340066\n",
            "   macro avg       1.00      1.00      1.00    340066\n",
            "weighted avg       1.00      1.00      1.00    340066\n",
            "\n",
            "[[67551     0    70    48    76]\n",
            " [    0 68027     0    15     0]\n",
            " [    1     0 68369     0     0]\n",
            " [    2    10     0 68075     0]\n",
            " [   82     2     0     2 67736]]\n"
          ]
        }
      ]
    },
    {
      "cell_type": "code",
      "source": [
        "import seaborn as sns\n",
        "import matplotlib.pyplot as plt\n",
        "import numpy as np\n",
        "import itertools\n",
        "import seaborn as sns\n",
        "from sklearn import metrics \n",
        "import matplotlib.pyplot as plt\n",
        "from sklearn.metrics import confusion_matrix\n",
        "def conf_mat(d1,d2):\n",
        "  cm = confusion_matrix(d1, d2)\n",
        "  plt.figure(figsize=(6,5.5))\n",
        "  ax = sns.heatmap(cm,  fmt='2', annot=True, cmap='GnBu')\n",
        "  sns.set(font_scale=1)\n",
        "  ax.set_xlabel('\\nPredicted Values')\n",
        "  ax.set_ylabel('Actual Values\\n');\n",
        "  ax.xaxis.set_ticklabels(['Normal','Blackhole','Flooding','Grayhole','TDMA'])\n",
        "  ax.yaxis.set_ticklabels(['Normal','Blackhole','Flooding','Grayhole','TDMA'])\n",
        "  plt.tight_layout()\n",
        "  # plt.savefig(\"F1.eps\", format = 'eps')\n",
        "  plt.show()"
      ],
      "metadata": {
        "id": "esAkwlMF9Nl6"
      },
      "execution_count": 32,
      "outputs": []
    },
    {
      "cell_type": "code",
      "source": [
        "print(\"Confusion Matrix of Hybrid RF-LSTM Model\") \n",
        "conf_mat(np.argmax(y_test, axis=1), y_pred)"
      ],
      "metadata": {
        "colab": {
          "base_uri": "https://localhost:8080/",
          "height": 568
        },
        "id": "y1wdMJd79YXa",
        "outputId": "9d839f3d-ec30-4fb8-906a-22477aadc4e3"
      },
      "execution_count": 33,
      "outputs": [
        {
          "output_type": "stream",
          "name": "stdout",
          "text": [
            "Confusion Matrix of Hybrid RF-LSTM Model\n"
          ]
        },
        {
          "output_type": "display_data",
          "data": {
            "text/plain": [
              "<Figure size 600x550 with 2 Axes>"
            ],
            "image/png": "[encoded data removed]"
          },
          "metadata": {}
        }
      ]
    },
    {
      "cell_type": "code",
      "source": [
        "report = classification_report(np.argmax(y_test, axis=1), y_pred, output_dict=True)\n",
        "detection_rates = {}\n",
        "for cls in range(5):\n",
        "    detection_rates[encoder.inverse_transform([cls])[0]] = report[str(cls)]['recall']\n",
        "print(\"Detection rates:\", detection_rates)"
      ],
      "metadata": {
        "id": "GZdLMFRpZ35i",
        "outputId": "5bf1e258-1c2a-4759-d4b7-816cb1d8bae9",
        "colab": {
          "base_uri": "https://localhost:8080/"
        }
      },
      "execution_count": 34,
      "outputs": [
        {
          "output_type": "stream",
          "name": "stdout",
          "text": [
            "Detection rates: {0: 0.997136320023618, 1: 0.9997795479262809, 2: 0.9999853737019161, 3: 0.9998237549018167, 4: 0.9987319748754092}\n"
          ]
        }
      ]
    }
  ]
}