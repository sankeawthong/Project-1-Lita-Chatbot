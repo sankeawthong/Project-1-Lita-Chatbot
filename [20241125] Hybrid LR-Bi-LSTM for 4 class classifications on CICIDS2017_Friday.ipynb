{
  "nbformat": 4,
  "nbformat_minor": 0,
  "metadata": {
    "colab": {
      "provenance": [],
      "authorship_tag": "ABX9TyN/TNHVPOJ87c+S7hioflhX",
      "include_colab_link": true
    },
    "kernelspec": {
      "name": "python3",
      "display_name": "Python 3"
    },
    "language_info": {
      "name": "python"
    }
  },
  "cells": [
    {
      "cell_type": "markdown",
      "metadata": {
        "id": "view-in-github",
        "colab_type": "text"
      },
      "source": [
        "<a href=\"https://colab.research.google.com/github/sankeawthong/Project-1-Lita-Chatbot/blob/main/%5B20241125%5D%20Hybrid%20LR-Bi-LSTM%20for%204%20class%20classifications%20on%20CICIDS2017_Friday.ipynb\" target=\"_parent\"><img src=\"https://colab.research.google.com/assets/colab-badge.svg\" alt=\"Open In Colab\"/></a>"
      ]
    },
    {
      "cell_type": "markdown",
      "source": [
        "### **Hybrid LR-Bi-LSTM for 10 class classifications based on UNSW-NB15 dataset**"
      ],
      "metadata": {
        "id": "15jGYmT_0lrn"
      }
    },
    {
      "cell_type": "code",
      "source": [
        "!pip install numpy pandas scikit-learn"
      ],
      "metadata": {
        "id": "g50cptcHKQZq",
        "outputId": "1f4db9b9-7fc4-4498-961f-08511c3bfb0a",
        "colab": {
          "base_uri": "https://localhost:8080/"
        }
      },
      "execution_count": 6,
      "outputs": [
        {
          "output_type": "stream",
          "name": "stdout",
          "text": [
            "Requirement already satisfied: numpy in /usr/local/lib/python3.10/dist-packages (1.26.4)\n",
            "Requirement already satisfied: pandas in /usr/local/lib/python3.10/dist-packages (2.2.2)\n",
            "Requirement already satisfied: scikit-learn in /usr/local/lib/python3.10/dist-packages (1.5.2)\n",
            "Requirement already satisfied: python-dateutil>=2.8.2 in /usr/local/lib/python3.10/dist-packages (from pandas) (2.8.2)\n",
            "Requirement already satisfied: pytz>=2020.1 in /usr/local/lib/python3.10/dist-packages (from pandas) (2024.2)\n",
            "Requirement already satisfied: tzdata>=2022.7 in /usr/local/lib/python3.10/dist-packages (from pandas) (2024.2)\n",
            "Requirement already satisfied: scipy>=1.6.0 in /usr/local/lib/python3.10/dist-packages (from scikit-learn) (1.13.1)\n",
            "Requirement already satisfied: joblib>=1.2.0 in /usr/local/lib/python3.10/dist-packages (from scikit-learn) (1.4.2)\n",
            "Requirement already satisfied: threadpoolctl>=3.1.0 in /usr/local/lib/python3.10/dist-packages (from scikit-learn) (3.5.0)\n",
            "Requirement already satisfied: six>=1.5 in /usr/local/lib/python3.10/dist-packages (from python-dateutil>=2.8.2->pandas) (1.16.0)\n"
          ]
        }
      ]
    },
    {
      "cell_type": "code",
      "source": [
        "import pandas as pd\n",
        "import numpy as np\n",
        "from sklearn.linear_model import LogisticRegression\n",
        "from sklearn.model_selection import train_test_split\n",
        "from sklearn.metrics import accuracy_score, classification_report\n",
        "from sklearn.preprocessing import LabelEncoder, StandardScaler\n",
        "from keras.models import Sequential\n",
        "from keras.layers import Dense, LSTM, Bidirectional, Dropout, Flatten\n",
        "from sklearn.metrics import accuracy_score, classification_report, confusion_matrix\n",
        "from keras.utils import to_categorical"
      ],
      "metadata": {
        "id": "JLFmDI9C0qRo"
      },
      "execution_count": 7,
      "outputs": []
    },
    {
      "cell_type": "code",
      "source": [
        "# Load dataset\n",
        "dataset = pd.read_csv(\"Dataset_CICIDS2017_Friday.csv\")\n",
        "\n",
        "# Preprocessing: Handle missing values (if any)\n",
        "dataset = dataset.dropna() # Remove missing values\n",
        "#X = dataset.drop(['Class'], axis=1)\n",
        "#y = dataset['Class']"
      ],
      "metadata": {
        "id": "QYXmvq660ron"
      },
      "execution_count": 8,
      "outputs": []
    },
    {
      "cell_type": "markdown",
      "source": [
        "### **Data Preprocessing**"
      ],
      "metadata": {
        "id": "BPxDywqB03Gl"
      }
    },
    {
      "cell_type": "code",
      "source": [
        "# Encode non-numeric columns (if any)\n",
        "for column in dataset.columns:\n",
        "    if dataset[column].dtype == 'object':  # Identify categorical columns\n",
        "        dataset[column] = LabelEncoder().fit_transform(dataset[column])\n",
        "\n",
        "# Separate features (X) and target (y)\n",
        "X = dataset.drop(['Class'], axis=1)  # Assuming 'Class' is the target column\n",
        "y = dataset['Class']"
      ],
      "metadata": {
        "id": "E4YGBJ3j0u0B"
      },
      "execution_count": 9,
      "outputs": []
    },
    {
      "cell_type": "code",
      "source": [
        "print(\"Original Class Distribution:\", np.bincount(y))"
      ],
      "metadata": {
        "id": "-0ehkoUn5uyO",
        "outputId": "66ea8f9d-e7cf-4d4c-f9c7-95c859e2b7e2",
        "colab": {
          "base_uri": "https://localhost:8080/"
        }
      },
      "execution_count": 10,
      "outputs": [
        {
          "output_type": "stream",
          "name": "stdout",
          "text": [
            "Original Class Distribution: [414275   1966 128027 158930]\n"
          ]
        }
      ]
    },
    {
      "cell_type": "code",
      "source": [
        "# Separate features (X) and target (y)\n",
        "X = dataset.drop(['Class'], axis=1)  # Assuming 'Class' is the target column\n",
        "y = dataset['Class']"
      ],
      "metadata": {
        "id": "xlrrI70XKbHx"
      },
      "execution_count": 11,
      "outputs": []
    },
    {
      "cell_type": "code",
      "source": [
        "# Replace infinite and large values with finite values before scaling\n",
        "X = X.replace([np.inf, -np.inf], np.nan) # Replace inf with NaN\n",
        "# Fill NaN values with a large finite number or the mean/median of the column\n",
        "X = X.fillna(X.mean())  # Alternatively, use X.median() or a large finite number\n",
        "\n",
        "# Standardize the features\n",
        "scaler = StandardScaler()\n",
        "X = scaler.fit_transform(X)"
      ],
      "metadata": {
        "id": "5KogAdXbKcZY"
      },
      "execution_count": 12,
      "outputs": []
    },
    {
      "cell_type": "code",
      "source": [
        "# Standardize the features\n",
        "scaler = StandardScaler()\n",
        "X = scaler.fit_transform(X)"
      ],
      "metadata": {
        "id": "7pwiLsc80wit"
      },
      "execution_count": null,
      "outputs": []
    },
    {
      "cell_type": "code",
      "source": [
        "!pip install matplotlib-venn"
      ],
      "metadata": {
        "id": "jDWixYjSwSRD",
        "outputId": "f62a021c-f48c-4ae4-960d-6723238c9b70",
        "colab": {
          "base_uri": "https://localhost:8080/"
        }
      },
      "execution_count": null,
      "outputs": [
        {
          "output_type": "stream",
          "name": "stdout",
          "text": [
            "Collecting matplotlib-venn\n",
            "  Downloading matplotlib-venn-1.1.1.tar.gz (40 kB)\n",
            "\u001b[?25l     \u001b[90m━━━━━━━━━━━━━━━━━━━━━━━━━━━━━━━━━━━━━━━━\u001b[0m \u001b[32m0.0/40.3 kB\u001b[0m \u001b[31m?\u001b[0m eta \u001b[36m-:--:--\u001b[0m\r\u001b[2K     \u001b[90m━━━━━━━━━━━━━━━━━━━━━━━━━━━━━━━━━━━━━━━━\u001b[0m \u001b[32m40.3/40.3 kB\u001b[0m \u001b[31m1.4 MB/s\u001b[0m eta \u001b[36m0:00:00\u001b[0m\n",
            "\u001b[?25h  Installing build dependencies ... \u001b[?25l\u001b[?25hdone\n",
            "  Getting requirements to build wheel ... \u001b[?25l\u001b[?25hdone\n",
            "  Preparing metadata (pyproject.toml) ... \u001b[?25l\u001b[?25hdone\n",
            "Requirement already satisfied: matplotlib in /usr/local/lib/python3.10/dist-packages (from matplotlib-venn) (3.8.0)\n",
            "Requirement already satisfied: numpy in /usr/local/lib/python3.10/dist-packages (from matplotlib-venn) (1.26.4)\n",
            "Requirement already satisfied: scipy in /usr/local/lib/python3.10/dist-packages (from matplotlib-venn) (1.13.1)\n",
            "Requirement already satisfied: contourpy>=1.0.1 in /usr/local/lib/python3.10/dist-packages (from matplotlib->matplotlib-venn) (1.3.1)\n",
            "Requirement already satisfied: cycler>=0.10 in /usr/local/lib/python3.10/dist-packages (from matplotlib->matplotlib-venn) (0.12.1)\n",
            "Requirement already satisfied: fonttools>=4.22.0 in /usr/local/lib/python3.10/dist-packages (from matplotlib->matplotlib-venn) (4.55.0)\n",
            "Requirement already satisfied: kiwisolver>=1.0.1 in /usr/local/lib/python3.10/dist-packages (from matplotlib->matplotlib-venn) (1.4.7)\n",
            "Requirement already satisfied: packaging>=20.0 in /usr/local/lib/python3.10/dist-packages (from matplotlib->matplotlib-venn) (24.2)\n",
            "Requirement already satisfied: pillow>=6.2.0 in /usr/local/lib/python3.10/dist-packages (from matplotlib->matplotlib-venn) (11.0.0)\n",
            "Requirement already satisfied: pyparsing>=2.3.1 in /usr/local/lib/python3.10/dist-packages (from matplotlib->matplotlib-venn) (3.2.0)\n",
            "Requirement already satisfied: python-dateutil>=2.7 in /usr/local/lib/python3.10/dist-packages (from matplotlib->matplotlib-venn) (2.9.0.post0)\n",
            "Requirement already satisfied: six>=1.5 in /usr/local/lib/python3.10/dist-packages (from python-dateutil>=2.7->matplotlib->matplotlib-venn) (1.16.0)\n",
            "Building wheels for collected packages: matplotlib-venn\n",
            "  Building wheel for matplotlib-venn (pyproject.toml) ... \u001b[?25l\u001b[?25hdone\n",
            "  Created wheel for matplotlib-venn: filename=matplotlib_venn-1.1.1-py3-none-any.whl size=45289 sha256=8557703162f57c8f223e83369d319fcd211d7ef871efb3b1b8a38baa899a176b\n",
            "  Stored in directory: /root/.cache/pip/wheels/3c/b6/e2/5fadaf4aa63fac5b079d4f633e9d96b29a67ee4fae816806f3\n",
            "Successfully built matplotlib-venn\n",
            "Installing collected packages: matplotlib-venn\n",
            "Successfully installed matplotlib-venn-1.1.1\n"
          ]
        }
      ]
    },
    {
      "cell_type": "code",
      "source": [
        "!apt-get -qq install -y libfluidsynth1"
      ],
      "metadata": {
        "id": "0jux4jH2wWnQ",
        "outputId": "beccb466-4f76-47bd-f233-66bc00eb2aea",
        "colab": {
          "base_uri": "https://localhost:8080/"
        }
      },
      "execution_count": null,
      "outputs": [
        {
          "output_type": "stream",
          "name": "stdout",
          "text": [
            "E: Package 'libfluidsynth1' has no installation candidate\n"
          ]
        }
      ]
    },
    {
      "cell_type": "code",
      "source": [
        "!apt-get -qq install -y graphviz && pip install pydot\n",
        "import pydot"
      ],
      "metadata": {
        "id": "FlbCNCr6wZzb",
        "outputId": "4b6352fa-daa8-4435-95f6-f7ba905e2efd",
        "colab": {
          "base_uri": "https://localhost:8080/"
        }
      },
      "execution_count": null,
      "outputs": [
        {
          "output_type": "stream",
          "name": "stdout",
          "text": [
            "Collecting pydot\n",
            "  Downloading pydot-3.0.2-py3-none-any.whl.metadata (10 kB)\n",
            "Requirement already satisfied: pyparsing>=3.0.9 in /usr/local/lib/python3.10/dist-packages (from pydot) (3.2.0)\n",
            "Downloading pydot-3.0.2-py3-none-any.whl (35 kB)\n",
            "Installing collected packages: pydot\n",
            "Successfully installed pydot-3.0.2\n"
          ]
        }
      ]
    },
    {
      "cell_type": "code",
      "source": [
        "!pip install cartopy\n",
        "import cartopy"
      ],
      "metadata": {
        "id": "J8RfO4QNwhme",
        "outputId": "150e331b-3bf7-4ba4-f1d2-5cf00a517b34",
        "colab": {
          "base_uri": "https://localhost:8080/"
        }
      },
      "execution_count": null,
      "outputs": [
        {
          "output_type": "stream",
          "name": "stdout",
          "text": [
            "Collecting cartopy\n",
            "  Downloading Cartopy-0.24.1-cp310-cp310-manylinux_2_17_x86_64.manylinux2014_x86_64.whl.metadata (7.9 kB)\n",
            "Requirement already satisfied: numpy>=1.23 in /usr/local/lib/python3.10/dist-packages (from cartopy) (1.26.4)\n",
            "Requirement already satisfied: matplotlib>=3.6 in /usr/local/lib/python3.10/dist-packages (from cartopy) (3.8.0)\n",
            "Collecting shapely>=1.8 (from cartopy)\n",
            "  Downloading shapely-2.0.6-cp310-cp310-manylinux_2_17_x86_64.manylinux2014_x86_64.whl.metadata (7.0 kB)\n",
            "Requirement already satisfied: packaging>=21 in /usr/local/lib/python3.10/dist-packages (from cartopy) (24.2)\n",
            "Collecting pyshp>=2.3 (from cartopy)\n",
            "  Downloading pyshp-2.3.1-py2.py3-none-any.whl.metadata (55 kB)\n",
            "\u001b[2K     \u001b[90m━━━━━━━━━━━━━━━━━━━━━━━━━━━━━━━━━━━━━━━━\u001b[0m \u001b[32m56.0/56.0 kB\u001b[0m \u001b[31m1.7 MB/s\u001b[0m eta \u001b[36m0:00:00\u001b[0m\n",
            "\u001b[?25hCollecting pyproj>=3.3.1 (from cartopy)\n",
            "  Downloading pyproj-3.7.0-cp310-cp310-manylinux_2_17_x86_64.manylinux2014_x86_64.whl.metadata (31 kB)\n",
            "Requirement already satisfied: contourpy>=1.0.1 in /usr/local/lib/python3.10/dist-packages (from matplotlib>=3.6->cartopy) (1.3.1)\n",
            "Requirement already satisfied: cycler>=0.10 in /usr/local/lib/python3.10/dist-packages (from matplotlib>=3.6->cartopy) (0.12.1)\n",
            "Requirement already satisfied: fonttools>=4.22.0 in /usr/local/lib/python3.10/dist-packages (from matplotlib>=3.6->cartopy) (4.55.0)\n",
            "Requirement already satisfied: kiwisolver>=1.0.1 in /usr/local/lib/python3.10/dist-packages (from matplotlib>=3.6->cartopy) (1.4.7)\n",
            "Requirement already satisfied: pillow>=6.2.0 in /usr/local/lib/python3.10/dist-packages (from matplotlib>=3.6->cartopy) (11.0.0)\n",
            "Requirement already satisfied: pyparsing>=2.3.1 in /usr/local/lib/python3.10/dist-packages (from matplotlib>=3.6->cartopy) (3.2.0)\n",
            "Requirement already satisfied: python-dateutil>=2.7 in /usr/local/lib/python3.10/dist-packages (from matplotlib>=3.6->cartopy) (2.9.0.post0)\n",
            "Requirement already satisfied: certifi in /usr/local/lib/python3.10/dist-packages (from pyproj>=3.3.1->cartopy) (2024.8.30)\n",
            "Requirement already satisfied: six>=1.5 in /usr/local/lib/python3.10/dist-packages (from python-dateutil>=2.7->matplotlib>=3.6->cartopy) (1.16.0)\n",
            "Downloading Cartopy-0.24.1-cp310-cp310-manylinux_2_17_x86_64.manylinux2014_x86_64.whl (11.7 MB)\n",
            "\u001b[2K   \u001b[90m━━━━━━━━━━━━━━━━━━━━━━━━━━━━━━━━━━━━━━━━\u001b[0m \u001b[32m11.7/11.7 MB\u001b[0m \u001b[31m100.1 MB/s\u001b[0m eta \u001b[36m0:00:00\u001b[0m\n",
            "\u001b[?25hDownloading pyproj-3.7.0-cp310-cp310-manylinux_2_17_x86_64.manylinux2014_x86_64.whl (9.2 MB)\n",
            "\u001b[2K   \u001b[90m━━━━━━━━━━━━━━━━━━━━━━━━━━━━━━━━━━━━━━━━\u001b[0m \u001b[32m9.2/9.2 MB\u001b[0m \u001b[31m111.1 MB/s\u001b[0m eta \u001b[36m0:00:00\u001b[0m\n",
            "\u001b[?25hDownloading pyshp-2.3.1-py2.py3-none-any.whl (46 kB)\n",
            "\u001b[2K   \u001b[90m━━━━━━━━━━━━━━━━━━━━━━━━━━━━━━━━━━━━━━━━\u001b[0m \u001b[32m46.5/46.5 kB\u001b[0m \u001b[31m2.9 MB/s\u001b[0m eta \u001b[36m0:00:00\u001b[0m\n",
            "\u001b[?25hDownloading shapely-2.0.6-cp310-cp310-manylinux_2_17_x86_64.manylinux2014_x86_64.whl (2.5 MB)\n",
            "\u001b[2K   \u001b[90m━━━━━━━━━━━━━━━━━━━━━━━━━━━━━━━━━━━━━━━━\u001b[0m \u001b[32m2.5/2.5 MB\u001b[0m \u001b[31m77.2 MB/s\u001b[0m eta \u001b[36m0:00:00\u001b[0m\n",
            "\u001b[?25hInstalling collected packages: shapely, pyshp, pyproj, cartopy\n",
            "Successfully installed cartopy-0.24.1 pyproj-3.7.0 pyshp-2.3.1 shapely-2.0.6\n"
          ]
        }
      ]
    },
    {
      "cell_type": "code",
      "source": [
        "!pip install imbalanced-learn"
      ],
      "metadata": {
        "id": "wTUqqWaGwxbY",
        "outputId": "22681b96-1d4f-4ae4-86f8-9166ffffe9f1",
        "colab": {
          "base_uri": "https://localhost:8080/"
        }
      },
      "execution_count": null,
      "outputs": [
        {
          "output_type": "stream",
          "name": "stdout",
          "text": [
            "Collecting imbalanced-learn\n",
            "  Downloading imbalanced_learn-0.12.4-py3-none-any.whl.metadata (8.3 kB)\n",
            "Requirement already satisfied: numpy>=1.17.3 in /usr/local/lib/python3.10/dist-packages (from imbalanced-learn) (1.26.4)\n",
            "Requirement already satisfied: scipy>=1.5.0 in /usr/local/lib/python3.10/dist-packages (from imbalanced-learn) (1.13.1)\n",
            "Requirement already satisfied: scikit-learn>=1.0.2 in /usr/local/lib/python3.10/dist-packages (from imbalanced-learn) (1.5.2)\n",
            "Requirement already satisfied: joblib>=1.1.1 in /usr/local/lib/python3.10/dist-packages (from imbalanced-learn) (1.4.2)\n",
            "Requirement already satisfied: threadpoolctl>=2.0.0 in /usr/local/lib/python3.10/dist-packages (from imbalanced-learn) (3.5.0)\n",
            "Downloading imbalanced_learn-0.12.4-py3-none-any.whl (258 kB)\n",
            "\u001b[?25l   \u001b[90m━━━━━━━━━━━━━━━━━━━━━━━━━━━━━━━━━━━━━━━━\u001b[0m \u001b[32m0.0/258.3 kB\u001b[0m \u001b[31m?\u001b[0m eta \u001b[36m-:--:--\u001b[0m\r\u001b[2K   \u001b[91m━━━━━━━━━━━━━━━━━━━\u001b[0m\u001b[90m╺\u001b[0m\u001b[90m━━━━━━━━━━━━━━━━━━━━\u001b[0m \u001b[32m122.9/258.3 kB\u001b[0m \u001b[31m3.5 MB/s\u001b[0m eta \u001b[36m0:00:01\u001b[0m\r\u001b[2K   \u001b[90m━━━━━━━━━━━━━━━━━━━━━━━━━━━━━━━━━━━━━━━━\u001b[0m \u001b[32m258.3/258.3 kB\u001b[0m \u001b[31m4.1 MB/s\u001b[0m eta \u001b[36m0:00:00\u001b[0m\n",
            "\u001b[?25hInstalling collected packages: imbalanced-learn\n",
            "Successfully installed imbalanced-learn-0.12.4\n"
          ]
        }
      ]
    },
    {
      "cell_type": "code",
      "source": [
        "from imblearn.over_sampling import SMOTE\n",
        "\n",
        "# Apply SMOTE to balance the data\n",
        "#smote = SMOTE(random_state=42)\n",
        "#X_balanced, y_balanced = smote.fit_resample(X, y)\n",
        "\n",
        "# Balance dataset using SMOTE\n",
        "smote = SMOTE(random_state=42)\n",
        "X, y = smote.fit_resample(X, y)\n",
        "\n",
        "# Verify the balanced dataset distribution\n",
        "print(\"Balanced Class Distribution:\", np.bincount(y))\n",
        "#print(\"Balanced Class Distribution:\", np.bincount(y_balanced))"
      ],
      "metadata": {
        "id": "fl4nuJ6TRAVb",
        "outputId": "b187e0bc-e932-42ce-a0ff-6f0a01ad5d26",
        "colab": {
          "base_uri": "https://localhost:8080/"
        }
      },
      "execution_count": 13,
      "outputs": [
        {
          "output_type": "stream",
          "name": "stdout",
          "text": [
            "Balanced Class Distribution: [414275 414275 414275 414275]\n"
          ]
        }
      ]
    },
    {
      "cell_type": "code",
      "source": [
        "# Train-test split\n",
        "X_train, X_test, y_train, y_test = train_test_split(X, y, test_size=0.2, random_state=42, stratify=y)"
      ],
      "metadata": {
        "id": "J_hiH1JR0xuT"
      },
      "execution_count": 14,
      "outputs": []
    },
    {
      "cell_type": "markdown",
      "source": [
        "### **Hybrid combination of LR-Bi-LSTM for 10 class classifications on UNSW-NB15**"
      ],
      "metadata": {
        "id": "lmcm5fIJ08G8"
      }
    },
    {
      "cell_type": "markdown",
      "source": [
        "LR model Standalone"
      ],
      "metadata": {
        "id": "jHYb1PmK6e75"
      }
    },
    {
      "cell_type": "code",
      "source": [
        "# Initialize and train the Logistic Regression model\n",
        "lr_model = LogisticRegression(multi_class='multinomial', solver='lbfgs', max_iter=800, random_state=42)\n",
        "lr_model.fit(X_train, y_train)\n",
        "\n",
        "# Make predictions\n",
        "y_pred = lr_model.predict(X_test)\n",
        "\n",
        "# Evaluate the model\n",
        "accuracy = accuracy_score(y_test, y_pred)\n",
        "print(\"Accuracy:\", accuracy)\n",
        "\n",
        "print(\"\\nClassification Report:\")\n",
        "print(classification_report(y_test, y_pred))\n",
        "\n",
        "#print(\"\\nConfusion Matrix:\")\n",
        "#print(confusion_matrix(y_test, y_pred))"
      ],
      "metadata": {
        "id": "BX1Mt_Im1GIG"
      },
      "execution_count": null,
      "outputs": []
    },
    {
      "cell_type": "markdown",
      "source": [
        "Hybrid model with using features results from LR model as Bi-LSTM input"
      ],
      "metadata": {
        "id": "mFK8S_cU6QPc"
      }
    },
    {
      "cell_type": "code",
      "source": [
        "from keras.utils import to_categorical\n",
        "\n",
        "# Initialize and train the Logistic Regression model\n",
        "lr_model = LogisticRegression(multi_class='multinomial', solver='lbfgs', max_iter=500, random_state=42)\n",
        "lr_model.fit(X_train, y_train)\n",
        "\n",
        "# Extract probabilities from LR model\n",
        "train_lr_features = lr_model.predict_proba(X_train)  # Features for Bi-LSTM from training data\n",
        "test_lr_features = lr_model.predict_proba(X_test)    # Features for Bi-LSTM from test data\n",
        "\n",
        "# Reshape LR features for Bi-LSTM input\n",
        "train_lr_features = np.expand_dims(train_lr_features, axis=1)\n",
        "test_lr_features = np.expand_dims(test_lr_features, axis=1)\n",
        "\n",
        "# Convert labels to one-hot encoding for Bi-LSTM\n",
        "y_train = to_categorical(y_train, num_classes=4)\n",
        "y_test = to_categorical(y_test, num_classes=4)"
      ],
      "metadata": {
        "colab": {
          "base_uri": "https://localhost:8080/"
        },
        "id": "q26NBkCIMRRW",
        "outputId": "fd7f5caf-4614-4670-bc3e-f546bfe418fc"
      },
      "execution_count": 15,
      "outputs": [
        {
          "output_type": "stream",
          "name": "stderr",
          "text": [
            "/usr/local/lib/python3.10/dist-packages/sklearn/linear_model/_logistic.py:1247: FutureWarning: 'multi_class' was deprecated in version 1.5 and will be removed in 1.7. From then on, it will always use 'multinomial'. Leave it to its default value to avoid this warning.\n",
            "  warnings.warn(\n"
          ]
        }
      ]
    },
    {
      "cell_type": "code",
      "source": [
        "## Build the Bi-LSTM model\n",
        "\n",
        "#bilstm_model = Sequential()\n",
        "#bilstm_model.add(Bidirectional(LSTM(64, return_sequences=True), input_shape=(1, train_lr_features.shape[2])))\n",
        "#bilstm_model.add(Dropout(0.5))\n",
        "#bilstm_model.add(Bidirectional(LSTM(32)))\n",
        "#bilstm_model.add(Dropout(0.5))\n",
        "#bilstm_model.add(Dense(10, activation='softmax'))  # 10 classes\n",
        "\n",
        "#bilstm_model.compile(loss='categorical_crossentropy', optimizer='adam', metrics=['accuracy'])\n",
        "\n",
        "from keras.regularizers import l2\n",
        "\n",
        "bilstm_model = Sequential()\n",
        "bilstm_model.add(Bidirectional(LSTM(64, return_sequences=True, kernel_regularizer=l2(0.0001)), input_shape=(1, train_lr_features.shape[2])))\n",
        "bilstm_model.add(Dropout(0.2))\n",
        "bilstm_model.add(Bidirectional(LSTM(32, kernel_regularizer=l2(0.0001))))\n",
        "bilstm_model.add(Dropout(0.2))\n",
        "#bilstm_model.add(Bidirectional(LSTM(16, kernel_regularizer=l2(0.002))))\n",
        "#bilstm_model.add(Dropout(0.2))\n",
        "bilstm_model.add(Dense(4, activation='softmax', kernel_regularizer=l2(0.0001)))\n",
        "\n",
        "bilstm_model.compile(loss='categorical_crossentropy', optimizer='adam', metrics=['accuracy'])\n",
        "\n",
        "# Train the Bi-LSTM model\n",
        "history = bilstm_model.fit(train_lr_features, y_train, validation_split=0.2, epochs=15, batch_size=64, verbose=1)\n",
        "\n",
        "# Evaluate the hybrid model on the test set\n",
        "test_predictions = bilstm_model.predict(test_lr_features)\n",
        "test_predictions_labels = np.argmax(test_predictions, axis=1)\n",
        "true_labels = np.argmax(y_test, axis=1)\n",
        "\n",
        "# Performance metrics\n",
        "accuracy = accuracy_score(true_labels, test_predictions_labels)\n",
        "print(\"\\nHybrid Model Accuracy:\", accuracy)\n",
        "print(\"\\nClassification Report:\")\n",
        "print(classification_report(true_labels, test_predictions_labels))\n",
        "print(\"\\nConfusion Matrix:\")\n",
        "print(confusion_matrix(true_labels, test_predictions_labels))"
      ],
      "metadata": {
        "colab": {
          "base_uri": "https://localhost:8080/"
        },
        "id": "_igNK4DhO9dK",
        "outputId": "e3715af4-d6e8-45c8-821c-1b2408260f55"
      },
      "execution_count": 16,
      "outputs": [
        {
          "output_type": "stream",
          "name": "stderr",
          "text": [
            "/usr/local/lib/python3.10/dist-packages/keras/src/layers/rnn/bidirectional.py:107: UserWarning: Do not pass an `input_shape`/`input_dim` argument to a layer. When using Sequential models, prefer using an `Input(shape)` object as the first layer in the model instead.\n",
            "  super().__init__(**kwargs)\n"
          ]
        },
        {
          "output_type": "stream",
          "name": "stdout",
          "text": [
            "Epoch 1/15\n",
            "\u001b[1m16571/16571\u001b[0m \u001b[32m━━━━━━━━━━━━━━━━━━━━\u001b[0m\u001b[37m\u001b[0m \u001b[1m122s\u001b[0m 7ms/step - accuracy: 0.9982 - loss: 0.0549 - val_accuracy: 0.9999 - val_loss: 0.0054\n",
            "Epoch 2/15\n",
            "\u001b[1m16571/16571\u001b[0m \u001b[32m━━━━━━━━━━━━━━━━━━━━\u001b[0m\u001b[37m\u001b[0m \u001b[1m141s\u001b[0m 7ms/step - accuracy: 1.0000 - loss: 0.0052 - val_accuracy: 0.9999 - val_loss: 0.0053\n",
            "Epoch 3/15\n",
            "\u001b[1m16571/16571\u001b[0m \u001b[32m━━━━━━━━━━━━━━━━━━━━\u001b[0m\u001b[37m\u001b[0m \u001b[1m138s\u001b[0m 7ms/step - accuracy: 1.0000 - loss: 0.0052 - val_accuracy: 0.9999 - val_loss: 0.0052\n",
            "Epoch 4/15\n",
            "\u001b[1m16571/16571\u001b[0m \u001b[32m━━━━━━━━━━━━━━━━━━━━\u001b[0m\u001b[37m\u001b[0m \u001b[1m108s\u001b[0m 7ms/step - accuracy: 1.0000 - loss: 0.0051 - val_accuracy: 0.9999 - val_loss: 0.0052\n",
            "Epoch 5/15\n",
            "\u001b[1m16571/16571\u001b[0m \u001b[32m━━━━━━━━━━━━━━━━━━━━\u001b[0m\u001b[37m\u001b[0m \u001b[1m144s\u001b[0m 7ms/step - accuracy: 1.0000 - loss: 0.0050 - val_accuracy: 0.9999 - val_loss: 0.0053\n",
            "Epoch 6/15\n",
            "\u001b[1m16571/16571\u001b[0m \u001b[32m━━━━━━━━━━━━━━━━━━━━\u001b[0m\u001b[37m\u001b[0m \u001b[1m141s\u001b[0m 7ms/step - accuracy: 1.0000 - loss: 0.0052 - val_accuracy: 0.9999 - val_loss: 0.0052\n",
            "Epoch 7/15\n",
            "\u001b[1m16571/16571\u001b[0m \u001b[32m━━━━━━━━━━━━━━━━━━━━\u001b[0m\u001b[37m\u001b[0m \u001b[1m112s\u001b[0m 7ms/step - accuracy: 1.0000 - loss: 0.0052 - val_accuracy: 0.9999 - val_loss: 0.0052\n",
            "Epoch 8/15\n",
            "\u001b[1m16571/16571\u001b[0m \u001b[32m━━━━━━━━━━━━━━━━━━━━\u001b[0m\u001b[37m\u001b[0m \u001b[1m139s\u001b[0m 7ms/step - accuracy: 1.0000 - loss: 0.0051 - val_accuracy: 0.9999 - val_loss: 0.0052\n",
            "Epoch 9/15\n",
            "\u001b[1m16571/16571\u001b[0m \u001b[32m━━━━━━━━━━━━━━━━━━━━\u001b[0m\u001b[37m\u001b[0m \u001b[1m142s\u001b[0m 7ms/step - accuracy: 1.0000 - loss: 0.0052 - val_accuracy: 0.9999 - val_loss: 0.0052\n",
            "Epoch 10/15\n",
            "\u001b[1m16571/16571\u001b[0m \u001b[32m━━━━━━━━━━━━━━━━━━━━\u001b[0m\u001b[37m\u001b[0m \u001b[1m141s\u001b[0m 7ms/step - accuracy: 1.0000 - loss: 0.0053 - val_accuracy: 0.9999 - val_loss: 0.0053\n",
            "Epoch 11/15\n",
            "\u001b[1m16571/16571\u001b[0m \u001b[32m━━━━━━━━━━━━━━━━━━━━\u001b[0m\u001b[37m\u001b[0m \u001b[1m140s\u001b[0m 6ms/step - accuracy: 1.0000 - loss: 0.0052 - val_accuracy: 0.9999 - val_loss: 0.0052\n",
            "Epoch 12/15\n",
            "\u001b[1m16571/16571\u001b[0m \u001b[32m━━━━━━━━━━━━━━━━━━━━\u001b[0m\u001b[37m\u001b[0m \u001b[1m108s\u001b[0m 6ms/step - accuracy: 1.0000 - loss: 0.0052 - val_accuracy: 0.9999 - val_loss: 0.0052\n",
            "Epoch 13/15\n",
            "\u001b[1m16571/16571\u001b[0m \u001b[32m━━━━━━━━━━━━━━━━━━━━\u001b[0m\u001b[37m\u001b[0m \u001b[1m143s\u001b[0m 7ms/step - accuracy: 1.0000 - loss: 0.0051 - val_accuracy: 0.9999 - val_loss: 0.0052\n",
            "Epoch 14/15\n",
            "\u001b[1m16571/16571\u001b[0m \u001b[32m━━━━━━━━━━━━━━━━━━━━\u001b[0m\u001b[37m\u001b[0m \u001b[1m110s\u001b[0m 7ms/step - accuracy: 1.0000 - loss: 0.0051 - val_accuracy: 0.9999 - val_loss: 0.0052\n",
            "Epoch 15/15\n",
            "\u001b[1m16571/16571\u001b[0m \u001b[32m━━━━━━━━━━━━━━━━━━━━\u001b[0m\u001b[37m\u001b[0m \u001b[1m142s\u001b[0m 7ms/step - accuracy: 1.0000 - loss: 0.0051 - val_accuracy: 0.9999 - val_loss: 0.0052\n",
            "\u001b[1m10357/10357\u001b[0m \u001b[32m━━━━━━━━━━━━━━━━━━━━\u001b[0m\u001b[37m\u001b[0m \u001b[1m23s\u001b[0m 2ms/step\n",
            "\n",
            "Hybrid Model Accuracy: 0.9999728441252791\n",
            "\n",
            "Classification Report:\n",
            "              precision    recall  f1-score   support\n",
            "\n",
            "           0       1.00      1.00      1.00     82855\n",
            "           1       1.00      1.00      1.00     82855\n",
            "           2       1.00      1.00      1.00     82855\n",
            "           3       1.00      1.00      1.00     82855\n",
            "\n",
            "    accuracy                           1.00    331420\n",
            "   macro avg       1.00      1.00      1.00    331420\n",
            "weighted avg       1.00      1.00      1.00    331420\n",
            "\n",
            "\n",
            "Confusion Matrix:\n",
            "[[82855     0     0     0]\n",
            " [    0 82855     0     0]\n",
            " [    0     0 82846     9]\n",
            " [    0     0     0 82855]]\n"
          ]
        }
      ]
    },
    {
      "cell_type": "code",
      "source": [
        "# Plot training and validation loss\n",
        "import matplotlib.pyplot as plt\n",
        "plt.plot(history.history['loss'], label='Training Loss')\n",
        "plt.plot(history.history['val_loss'], label='Validation Loss')\n",
        "plt.xlabel('Epoch')\n",
        "plt.ylabel('Loss')\n",
        "plt.legend()\n",
        "plt.show()"
      ],
      "metadata": {
        "colab": {
          "base_uri": "https://localhost:8080/",
          "height": 449
        },
        "id": "L4sajd9fO9Zu",
        "outputId": "ca15ecb0-7cf1-4588-8d7f-ee281dc2f12d"
      },
      "execution_count": 17,
      "outputs": [
        {
          "output_type": "display_data",
          "data": {
            "text/plain": [
              "<Figure size 640x480 with 1 Axes>"
            ],
            "image/png": "[encoded data removed]"
          },
          "metadata": {}
        }
      ]
    },
    {
      "cell_type": "code",
      "source": [
        "from sklearn.metrics import accuracy_score, precision_score, recall_score, f1_score, classification_report, confusion_matrix\n",
        "# Performance metrics\n",
        "accuracy = accuracy_score(true_labels, test_predictions_labels)\n",
        "precision = precision_score(true_labels, test_predictions_labels, average='macro')\n",
        "recall = recall_score(true_labels, test_predictions_labels, average='macro')\n",
        "f1 = f1_score(true_labels, test_predictions_labels, average='macro')\n",
        "\n",
        "print(\"\\nHybrid Model Accuracy:\", accuracy)\n",
        "print(\"\\nPrecision:\", precision)\n",
        "print(\"\\nRecall:\", recall)\n",
        "print(\"\\nF1-Score:\", f1)"
      ],
      "metadata": {
        "colab": {
          "base_uri": "https://localhost:8080/"
        },
        "id": "HWKDYjkFc-DY",
        "outputId": "ca906f7a-45f3-408d-dda0-3104291e6a25"
      },
      "execution_count": 18,
      "outputs": [
        {
          "output_type": "stream",
          "name": "stdout",
          "text": [
            "\n",
            "Hybrid Model Accuracy: 0.9999728441252791\n",
            "\n",
            "Precision: 0.9999728470747249\n",
            "\n",
            "Recall: 0.9999728441252791\n",
            "\n",
            "F1-Score: 0.9999728441251989\n"
          ]
        }
      ]
    },
    {
      "cell_type": "code",
      "source": [
        "# Classification report\n",
        "print(\"\\nClassification Report:\")\n",
        "print(classification_report(true_labels, test_predictions_labels))"
      ],
      "metadata": {
        "colab": {
          "base_uri": "https://localhost:8080/"
        },
        "id": "ZDsDpwi6dDRx",
        "outputId": "1c22c17c-3c7e-40e9-aed2-01e872d533d0"
      },
      "execution_count": 19,
      "outputs": [
        {
          "output_type": "stream",
          "name": "stdout",
          "text": [
            "\n",
            "Classification Report:\n",
            "              precision    recall  f1-score   support\n",
            "\n",
            "           0       1.00      1.00      1.00     82855\n",
            "           1       1.00      1.00      1.00     82855\n",
            "           2       1.00      1.00      1.00     82855\n",
            "           3       1.00      1.00      1.00     82855\n",
            "\n",
            "    accuracy                           1.00    331420\n",
            "   macro avg       1.00      1.00      1.00    331420\n",
            "weighted avg       1.00      1.00      1.00    331420\n",
            "\n"
          ]
        }
      ]
    },
    {
      "cell_type": "code",
      "source": [
        "# Detection Rate (Recall for each class)\n",
        "detection_rate = recall_score(true_labels, test_predictions_labels, average=None)\n",
        "for i in range(len(detection_rate)):\n",
        "    print(f\"Detection Rate for Class {i}: {detection_rate[i]:.10f}\")"
      ],
      "metadata": {
        "colab": {
          "base_uri": "https://localhost:8080/"
        },
        "id": "je0MbEanO9Jw",
        "outputId": "7c039a19-c613-4796-9586-6b88b9dcafb4"
      },
      "execution_count": 21,
      "outputs": [
        {
          "output_type": "stream",
          "name": "stdout",
          "text": [
            "Detection Rate for Class 0: 1.0000000000\n",
            "Detection Rate for Class 1: 1.0000000000\n",
            "Detection Rate for Class 2: 0.9998913765\n",
            "Detection Rate for Class 3: 1.0000000000\n"
          ]
        }
      ]
    },
    {
      "cell_type": "markdown",
      "source": [
        "**With FGSM adversarial training**"
      ],
      "metadata": {
        "id": "-EFNx5pzzdnz"
      }
    },
    {
      "cell_type": "code",
      "source": [
        "import tensorflow as tf\n",
        "from keras.regularizers import l2\n",
        "\n",
        "#Build the Bi-LSTM model\n",
        "bilstm_model = Sequential()\n",
        "bilstm_model.add(Bidirectional(LSTM(64, return_sequences=True, kernel_regularizer=l2(0.001)), input_shape=(1, train_lr_features.shape[2])))\n",
        "bilstm_model.add(Dropout(0.5))\n",
        "bilstm_model.add(Bidirectional(LSTM(32, kernel_regularizer=l2(0.001))))\n",
        "bilstm_model.add(Dropout(0.5))\n",
        "#bilstm_model.add(Bidirectional(LSTM(16, kernel_regularizer=l2(0.002))))\n",
        "#bilstm_model.add(Dropout(0.2))\n",
        "bilstm_model.add(Dense(10, activation='softmax', kernel_regularizer=l2(0.001)))\n",
        "\n",
        "bilstm_model.compile(loss='categorical_crossentropy', optimizer='adam', metrics=['accuracy'])\n",
        "\n",
        "# FGSM: Function to generate adversarial examples\n",
        "def generate_adversarial_examples(model, data, labels, epsilon=0.1):\n",
        "    data_tensor = tf.convert_to_tensor(data, dtype=tf.float32)\n",
        "    labels_tensor = tf.convert_to_tensor(labels, dtype=tf.float32)\n",
        "\n",
        "    with tf.GradientTape() as tape:\n",
        "        tape.watch(data_tensor)\n",
        "        predictions = model(data_tensor)\n",
        "        loss = tf.keras.losses.categorical_crossentropy(labels_tensor, predictions)\n",
        "\n",
        "    gradients = tape.gradient(loss, data_tensor)\n",
        "    perturbations = epsilon * tf.sign(gradients)\n",
        "    adversarial_data = data_tensor + perturbations\n",
        "\n",
        "    return adversarial_data.numpy()\n",
        "\n",
        "# Generate adversarial examples for training\n",
        "adversarial_train_features = generate_adversarial_examples(bilstm_model, train_lr_features, y_train)\n",
        "\n",
        "# Combine original and adversarial examples\n",
        "combined_train_features = np.concatenate((train_lr_features, adversarial_train_features), axis=0)\n",
        "combined_train_labels = np.concatenate((y_train, y_train), axis=0)\n",
        "\n",
        "# Train the Bi-LSTM model\n",
        "history = bilstm_model.fit(\n",
        "    combined_train_features, combined_train_labels,\n",
        "    validation_split=0.2,\n",
        "    epochs=15,\n",
        "    batch_size=64,\n",
        "    verbose=1\n",
        ")\n",
        "\n",
        "# Evaluate the model\n",
        "test_predictions = bilstm_model.predict(test_lr_features)\n",
        "test_predictions_labels = np.argmax(test_predictions, axis=1)\n",
        "true_labels = np.argmax(y_test, axis=1)\n",
        "\n",
        "# Metrics and results\n",
        "accuracy = accuracy_score(true_labels, test_predictions_labels)\n",
        "print(\"\\nHybrid Model Accuracy with FGSM:\", accuracy)\n",
        "print(\"\\nClassification Report:\")\n",
        "print(classification_report(true_labels, test_predictions_labels))\n",
        "print(\"\\nConfusion Matrix:\")\n",
        "print(confusion_matrix(true_labels, test_predictions_labels))"
      ],
      "metadata": {
        "colab": {
          "base_uri": "https://localhost:8080/"
        },
        "id": "Aj6STrXezdOO",
        "outputId": "5892db81-1c8a-458c-f675-ee395d840b63"
      },
      "execution_count": null,
      "outputs": [
        {
          "output_type": "stream",
          "name": "stdout",
          "text": [
            "Epoch 1/15\n",
            "18600/18600 [==============================] - 91s 5ms/step - loss: 0.1807 - accuracy: 0.9988 - val_loss: 0.1139 - val_accuracy: 0.9998\n",
            "Epoch 2/15\n",
            "18600/18600 [==============================] - 80s 4ms/step - loss: 0.1241 - accuracy: 0.9999 - val_loss: 0.1114 - val_accuracy: 0.9998\n",
            "Epoch 3/15\n",
            "18600/18600 [==============================] - 83s 4ms/step - loss: 0.1225 - accuracy: 0.9999 - val_loss: 0.1112 - val_accuracy: 0.9998\n",
            "Epoch 4/15\n",
            "18600/18600 [==============================] - 84s 5ms/step - loss: 0.1224 - accuracy: 0.9999 - val_loss: 0.1108 - val_accuracy: 0.9998\n",
            "Epoch 5/15\n",
            "18600/18600 [==============================] - 84s 5ms/step - loss: 0.1223 - accuracy: 0.9999 - val_loss: 0.1109 - val_accuracy: 0.9998\n",
            "Epoch 6/15\n",
            "18600/18600 [==============================] - 80s 4ms/step - loss: 0.1223 - accuracy: 0.9999 - val_loss: 0.1111 - val_accuracy: 0.9998\n",
            "Epoch 7/15\n",
            "18600/18600 [==============================] - 80s 4ms/step - loss: 0.1223 - accuracy: 0.9999 - val_loss: 0.1110 - val_accuracy: 0.9998\n",
            "Epoch 8/15\n",
            "18600/18600 [==============================] - 84s 5ms/step - loss: 0.1224 - accuracy: 0.9999 - val_loss: 0.1111 - val_accuracy: 0.9998\n",
            "Epoch 9/15\n",
            "18600/18600 [==============================] - 83s 4ms/step - loss: 0.1223 - accuracy: 0.9999 - val_loss: 0.1109 - val_accuracy: 0.9998\n",
            "Epoch 10/15\n",
            "18600/18600 [==============================] - 84s 5ms/step - loss: 0.1223 - accuracy: 0.9999 - val_loss: 0.1116 - val_accuracy: 0.9998\n",
            "Epoch 11/15\n",
            "18600/18600 [==============================] - 80s 4ms/step - loss: 0.1224 - accuracy: 0.9999 - val_loss: 0.1113 - val_accuracy: 0.9998\n",
            "Epoch 12/15\n",
            "18600/18600 [==============================] - 79s 4ms/step - loss: 0.1223 - accuracy: 0.9999 - val_loss: 0.1110 - val_accuracy: 0.9998\n",
            "Epoch 13/15\n",
            "18600/18600 [==============================] - 82s 4ms/step - loss: 0.1223 - accuracy: 0.9999 - val_loss: 0.1111 - val_accuracy: 0.9998\n",
            "Epoch 14/15\n",
            "18600/18600 [==============================] - 83s 4ms/step - loss: 0.1223 - accuracy: 0.9998 - val_loss: 0.1107 - val_accuracy: 0.9998\n",
            "Epoch 15/15\n",
            "18600/18600 [==============================] - 84s 5ms/step - loss: 0.1223 - accuracy: 0.9999 - val_loss: 0.1117 - val_accuracy: 0.9998\n",
            "5813/5813 [==============================] - 13s 2ms/step\n",
            "\n",
            "Hybrid Model Accuracy with FGSM: 0.9997741935483871\n",
            "\n",
            "Classification Report:\n",
            "              precision    recall  f1-score   support\n",
            "\n",
            "           0       1.00      1.00      1.00     18600\n",
            "           1       1.00      1.00      1.00     18600\n",
            "           2       1.00      1.00      1.00     18600\n",
            "           3       1.00      1.00      1.00     18600\n",
            "           4       1.00      1.00      1.00     18600\n",
            "           5       1.00      1.00      1.00     18600\n",
            "           6       1.00      1.00      1.00     18600\n",
            "           7       1.00      1.00      1.00     18600\n",
            "           8       1.00      1.00      1.00     18600\n",
            "           9       1.00      1.00      1.00     18600\n",
            "\n",
            "    accuracy                           1.00    186000\n",
            "   macro avg       1.00      1.00      1.00    186000\n",
            "weighted avg       1.00      1.00      1.00    186000\n",
            "\n",
            "\n",
            "Confusion Matrix:\n",
            "[[18600     0     0     0     0     0     0     0     0     0]\n",
            " [    0 18600     0     0     0     0     0     0     0     0]\n",
            " [    0     0 18600     0     0     0     0     0     0     0]\n",
            " [    0     0     0 18600     0     0     0     0     0     0]\n",
            " [    0     0     0     0 18600     0     0     0     0     0]\n",
            " [    0     0     0     0     0 18599     1     0     0     0]\n",
            " [    0     0     0     0     0    33 18562     5     0     0]\n",
            " [    0     0     0     0     0     0     3 18597     0     0]\n",
            " [    0     0     0     0     0     0     0     0 18600     0]\n",
            " [    0     0     0     0     0     0     0     0     0 18600]]\n"
          ]
        }
      ]
    },
    {
      "cell_type": "code",
      "source": [
        "# Plot training and validation loss\n",
        "import matplotlib.pyplot as plt\n",
        "plt.plot(history.history['loss'], label='Training Loss')\n",
        "plt.plot(history.history['val_loss'], label='Validation Loss')\n",
        "plt.xlabel('Epoch')\n",
        "plt.ylabel('Loss')\n",
        "plt.legend()\n",
        "plt.show()"
      ],
      "metadata": {
        "colab": {
          "base_uri": "https://localhost:8080/",
          "height": 449
        },
        "id": "fhP8eeBf5N8n",
        "outputId": "c74d923b-cb6e-449e-de07-5c4c1a48ebce"
      },
      "execution_count": null,
      "outputs": [
        {
          "output_type": "display_data",
          "data": {
            "text/plain": [
              "<Figure size 640x480 with 1 Axes>"
            ],
            "image/png": "[encoded data removed]"
          },
          "metadata": {}
        }
      ]
    },
    {
      "cell_type": "code",
      "source": [
        "from sklearn.metrics import accuracy_score, precision_score, recall_score, f1_score, classification_report, confusion_matrix\n",
        "# Performance metrics\n",
        "accuracy = accuracy_score(true_labels, test_predictions_labels)\n",
        "precision = precision_score(true_labels, test_predictions_labels, average='macro')\n",
        "recall = recall_score(true_labels, test_predictions_labels, average='macro')\n",
        "f1 = f1_score(true_labels, test_predictions_labels, average='macro')\n",
        "\n",
        "print(\"\\nHybrid Model Accuracy:\", accuracy)\n",
        "print(\"\\nPrecision:\", precision)\n",
        "print(\"\\nRecall:\", recall)\n",
        "print(\"\\nF1-Score:\", f1)"
      ],
      "metadata": {
        "colab": {
          "base_uri": "https://localhost:8080/"
        },
        "id": "dvb-7LkV5TKY",
        "outputId": "31045f41-0301-48ab-ae67-a82d25650807"
      },
      "execution_count": null,
      "outputs": [
        {
          "output_type": "stream",
          "name": "stdout",
          "text": [
            "\n",
            "Hybrid Model Accuracy: 0.9997741935483871\n",
            "\n",
            "Precision: 0.9997744617690524\n",
            "\n",
            "Recall: 0.9997741935483871\n",
            "\n",
            "F1-Score: 0.9997741699732392\n"
          ]
        }
      ]
    },
    {
      "cell_type": "code",
      "source": [
        "# Detection Rate (Recall for each class)\n",
        "detection_rate = recall_score(true_labels, test_predictions_labels, average=None)\n",
        "for i in range(len(detection_rate)):\n",
        "    print(f\"Detection Rate for Class {i}: {detection_rate[i]:.10f}\")"
      ],
      "metadata": {
        "colab": {
          "base_uri": "https://localhost:8080/"
        },
        "id": "uaGM0pjD6GVz",
        "outputId": "2e5fc9fa-8894-46cc-dd57-3f143711c1ee"
      },
      "execution_count": null,
      "outputs": [
        {
          "output_type": "stream",
          "name": "stdout",
          "text": [
            "Detection Rate for Class 0: 1.0000000000\n",
            "Detection Rate for Class 1: 1.0000000000\n",
            "Detection Rate for Class 2: 1.0000000000\n",
            "Detection Rate for Class 3: 1.0000000000\n",
            "Detection Rate for Class 4: 1.0000000000\n",
            "Detection Rate for Class 5: 0.9999462366\n",
            "Detection Rate for Class 6: 0.9979569892\n",
            "Detection Rate for Class 7: 0.9998387097\n",
            "Detection Rate for Class 8: 1.0000000000\n",
            "Detection Rate for Class 9: 1.0000000000\n"
          ]
        }
      ]
    }
  ]
}